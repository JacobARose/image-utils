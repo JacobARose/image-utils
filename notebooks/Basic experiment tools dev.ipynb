{
 "cells": [
  {
   "cell_type": "markdown",
   "id": "d6d4a8cd-4e6d-4cc0-bc55-dedc99912842",
   "metadata": {},
   "source": [
    "## Basic experiment tools dev notebook\n",
    "\n",
    "Created on: Tuesday March 22nd, 2022  \n",
    "Created by: Jacob Alexander Rose  "
   ]
  },
  {
   "cell_type": "code",
   "execution_count": 1,
   "id": "13b57096-276f-4f13-9077-d3b0ccd1d798",
   "metadata": {},
   "outputs": [
    {
     "name": "stdout",
     "output_type": "stream",
     "text": [
      "Importing imutils\n",
      "ASSETS_DIR: /media/data/jacob/GitHub/image-utils/assets\n",
      "SAMPLE_IMAGE_PATHS: [PosixPath('/media/data/jacob/GitHub/image-utils/assets/Ericaceae_Zenobia_pulverulenta_7984 {WolfeUSGS} [1.96x].jpg'), PosixPath('/media/data/jacob/GitHub/image-utils/assets/Ericaceae_Arbutus_densiflora_1440 {WolfeUSGS} [1.96x].jpg')]\n",
      "IMUTILS_ML_ROOT: /media/data/jacob/GitHub/image-utils/imutils/ml\n"
     ]
    },
    {
     "data": {
      "text/html": [
       "<pre style=\"white-space:pre;overflow-x:auto;line-height:normal;font-family:Menlo,'DejaVu Sans Mono',consolas,'Courier New',monospace\"><span style=\"font-weight: bold\">[</span>\n",
       "    <span style=\"color: #008000; text-decoration-color: #008000\">'BASE_ML_CONF_PATH'</span>,\n",
       "    <span style=\"color: #008000; text-decoration-color: #008000\">'IMUTILS_ML_ROOT'</span>,\n",
       "    <span style=\"color: #008000; text-decoration-color: #008000\">'__builtins__'</span>,\n",
       "    <span style=\"color: #008000; text-decoration-color: #008000\">'__cached__'</span>,\n",
       "    <span style=\"color: #008000; text-decoration-color: #008000\">'__doc__'</span>,\n",
       "    <span style=\"color: #008000; text-decoration-color: #008000\">'__file__'</span>,\n",
       "    <span style=\"color: #008000; text-decoration-color: #008000\">'__loader__'</span>,\n",
       "    <span style=\"color: #008000; text-decoration-color: #008000\">'__name__'</span>,\n",
       "    <span style=\"color: #008000; text-decoration-color: #008000\">'__package__'</span>,\n",
       "    <span style=\"color: #008000; text-decoration-color: #008000\">'__path__'</span>,\n",
       "    <span style=\"color: #008000; text-decoration-color: #008000\">'__spec__'</span>,\n",
       "    <span style=\"color: #008000; text-decoration-color: #008000\">'os'</span>,\n",
       "    <span style=\"color: #008000; text-decoration-color: #008000\">'pp'</span>\n",
       "<span style=\"font-weight: bold\">]</span>\n",
       "</pre>\n"
      ],
      "text/plain": [
       "\u001b[1m[\u001b[0m\n",
       "    \u001b[32m'BASE_ML_CONF_PATH'\u001b[0m,\n",
       "    \u001b[32m'IMUTILS_ML_ROOT'\u001b[0m,\n",
       "    \u001b[32m'__builtins__'\u001b[0m,\n",
       "    \u001b[32m'__cached__'\u001b[0m,\n",
       "    \u001b[32m'__doc__'\u001b[0m,\n",
       "    \u001b[32m'__file__'\u001b[0m,\n",
       "    \u001b[32m'__loader__'\u001b[0m,\n",
       "    \u001b[32m'__name__'\u001b[0m,\n",
       "    \u001b[32m'__package__'\u001b[0m,\n",
       "    \u001b[32m'__path__'\u001b[0m,\n",
       "    \u001b[32m'__spec__'\u001b[0m,\n",
       "    \u001b[32m'os'\u001b[0m,\n",
       "    \u001b[32m'pp'\u001b[0m\n",
       "\u001b[1m]\u001b[0m\n"
      ]
     },
     "metadata": {},
     "output_type": "display_data"
    }
   ],
   "source": [
    "%load_ext autoreload\n",
    "%autoreload 2\n",
    "\n",
    "import os\n",
    "\n",
    "os.environ[\"CUDA_VISIBLE_DEVICES\"] = \"0\"\n",
    "\n",
    "from IPython.display import display\n",
    "from IPython.core.interactiveshell import InteractiveShell\n",
    "InteractiveShell.ast_node_interactivity = \"all\"\n",
    "\n",
    "import pandas as pd\n",
    "from pathlib import Path\n",
    "from icecream import ic\n",
    "from rich import print as pp\n",
    "import warnings\n",
    "warnings.simplefilter(action='ignore', category=FutureWarning)\n",
    "\n",
    "# from imutils.big.datamodule import Herbarium2022DataModule, Herbarium2022Dataset\n",
    "from imutils.ml.data.datamodule import Herbarium2022DataModule, Herbarium2022Dataset\n",
    "from imutils.ml.utils.etl_utils import ETL\n",
    "\n",
    "import pytorch_lightning as pl\n",
    "from torchvision import transforms as T\n",
    "import argparse\n",
    "import imutils\n",
    "\n",
    "from hydra.experimental import compose, initialize, initialize_config_dir\n",
    "import hydra\n",
    "\n",
    "from omegaconf import DictConfig, OmegaConf\n",
    "from typing import *"
   ]
  },
  {
   "cell_type": "markdown",
   "id": "cd077845-df0c-4033-9a62-551a22a26dbe",
   "metadata": {},
   "source": [
    "### helper display func"
   ]
  },
  {
   "cell_type": "code",
   "execution_count": 2,
   "id": "30dad959-7c8c-4b6b-8963-af02abbb2032",
   "metadata": {},
   "outputs": [],
   "source": [
    "def display_train_timing_info(batches_per_epoch: int,\n",
    "                              batches_per_second: float,\n",
    "                              batch_size: int):\n",
    "    \n",
    "    samples_per_epoch = batches_per_epoch*batch_size\n",
    "    seconds_per_epoch = batches_per_epoch * batches_per_second\n",
    "    min_per_epoch = seconds_per_epoch / 60\n",
    "    hrs_per_epoch = min_per_epoch / 60\n",
    "    \n",
    "    samples_per_second = batches_per_second * batch_size\n",
    "\n",
    "    batches_per_min = batches_per_second * 60\n",
    "    batches_per_hr = batches_per_min * 60\n",
    "    \n",
    "    samples_per_min = samples_per_second * 60\n",
    "    samples_per_hr = samples_per_min * 60\n",
    "\n",
    "\n",
    "    pp([f\"seconds_per_epoch: {seconds_per_epoch:>,}\",\n",
    "       f\"min_per_epoch: {min_per_epoch:.4f}\",\n",
    "       f\"hrs_per_epoch: {hrs_per_epoch:.4f}\",\n",
    "       f\"epochs_per_second: {1/seconds_per_epoch:.4f}\",\n",
    "       f\"epochs_per_min: {1/min_per_epoch:.4f}\",\n",
    "       f\"epochs_per_hr: {1/hrs_per_epoch:.4f}\",\n",
    "       f\"batches_per_epoch: {batches_per_epoch:.4g}\",\n",
    "       f\"samples_per_epoch: {samples_per_epoch:.4g}\",\n",
    "       f\"seconds_per_batch: {1/batches_per_second:.4f}\",\n",
    "       f\"batches_per_second: {batches_per_second:.4f}\",\n",
    "       f\"batches_per_min: {batches_per_min:.4f}\",\n",
    "       f\"batches_per_hr: {batches_per_hr:.4f}\",\n",
    "       f\"samples_per_second: {samples_per_second:.4f}\",\n",
    "       f\"samples_per_min: {samples_per_min:.4f}\",\n",
    "       f\"samples_per_hr: {samples_per_hr:.4g}\",\n",
    "       f\"batch_size: {batch_size}\"])"
   ]
  },
  {
   "cell_type": "markdown",
   "id": "5572af4d-617e-4617-b722-28e4ef06c1d0",
   "metadata": {},
   "source": [
    "### Experiment #2\n"
   ]
  },
  {
   "cell_type": "code",
   "execution_count": 3,
   "id": "09c86b41-660c-4c9e-ace4-6f150194cbb1",
   "metadata": {},
   "outputs": [
    {
     "name": "stdout",
     "output_type": "stream",
     "text": [
      "Experiment #2: batch_size=48, num_processes=4, num_devices=2\n",
      "Using 50% of samples\n"
     ]
    },
    {
     "data": {
      "text/html": [
       "<pre style=\"white-space:pre;overflow-x:auto;line-height:normal;font-family:Menlo,'DejaVu Sans Mono',consolas,'Courier New',monospace\"><span style=\"font-weight: bold\">[</span>\n",
       "    <span style=\"color: #008000; text-decoration-color: #008000\">'seconds_per_epoch: 2,572.9411764705883'</span>,\n",
       "    <span style=\"color: #008000; text-decoration-color: #008000\">'min_per_epoch: 42.8824'</span>,\n",
       "    <span style=\"color: #008000; text-decoration-color: #008000\">'hrs_per_epoch: 0.7147'</span>,\n",
       "    <span style=\"color: #008000; text-decoration-color: #008000\">'epochs_per_second: 0.0004'</span>,\n",
       "    <span style=\"color: #008000; text-decoration-color: #008000\">'epochs_per_min: 0.0233'</span>,\n",
       "    <span style=\"color: #008000; text-decoration-color: #008000\">'epochs_per_hr: 1.3992'</span>,\n",
       "    <span style=\"color: #008000; text-decoration-color: #008000\">'batches_per_epoch: 4374'</span>,\n",
       "    <span style=\"color: #008000; text-decoration-color: #008000\">'samples_per_epoch: 2.1e+05'</span>,\n",
       "    <span style=\"color: #008000; text-decoration-color: #008000\">'seconds_per_batch: 1.7000'</span>,\n",
       "    <span style=\"color: #008000; text-decoration-color: #008000\">'batches_per_second: 0.5882'</span>,\n",
       "    <span style=\"color: #008000; text-decoration-color: #008000\">'batches_per_min: 35.2941'</span>,\n",
       "    <span style=\"color: #008000; text-decoration-color: #008000\">'batches_per_hr: 2117.6471'</span>,\n",
       "    <span style=\"color: #008000; text-decoration-color: #008000\">'samples_per_second: 28.2353'</span>,\n",
       "    <span style=\"color: #008000; text-decoration-color: #008000\">'samples_per_min: 1694.1176'</span>,\n",
       "    <span style=\"color: #008000; text-decoration-color: #008000\">'samples_per_hr: 1.016e+05'</span>,\n",
       "    <span style=\"color: #008000; text-decoration-color: #008000\">'batch_size: 48'</span>\n",
       "<span style=\"font-weight: bold\">]</span>\n",
       "</pre>\n"
      ],
      "text/plain": [
       "\u001b[1m[\u001b[0m\n",
       "    \u001b[32m'seconds_per_epoch: 2,572.9411764705883'\u001b[0m,\n",
       "    \u001b[32m'min_per_epoch: 42.8824'\u001b[0m,\n",
       "    \u001b[32m'hrs_per_epoch: 0.7147'\u001b[0m,\n",
       "    \u001b[32m'epochs_per_second: 0.0004'\u001b[0m,\n",
       "    \u001b[32m'epochs_per_min: 0.0233'\u001b[0m,\n",
       "    \u001b[32m'epochs_per_hr: 1.3992'\u001b[0m,\n",
       "    \u001b[32m'batches_per_epoch: 4374'\u001b[0m,\n",
       "    \u001b[32m'samples_per_epoch: 2.1e+05'\u001b[0m,\n",
       "    \u001b[32m'seconds_per_batch: 1.7000'\u001b[0m,\n",
       "    \u001b[32m'batches_per_second: 0.5882'\u001b[0m,\n",
       "    \u001b[32m'batches_per_min: 35.2941'\u001b[0m,\n",
       "    \u001b[32m'batches_per_hr: 2117.6471'\u001b[0m,\n",
       "    \u001b[32m'samples_per_second: 28.2353'\u001b[0m,\n",
       "    \u001b[32m'samples_per_min: 1694.1176'\u001b[0m,\n",
       "    \u001b[32m'samples_per_hr: 1.016e+05'\u001b[0m,\n",
       "    \u001b[32m'batch_size: 48'\u001b[0m\n",
       "\u001b[1m]\u001b[0m\n"
      ]
     },
     "metadata": {},
     "output_type": "display_data"
    },
    {
     "name": "stdout",
     "output_type": "stream",
     "text": [
      "(Extrapolated prediction) Using 100% of samples\n"
     ]
    },
    {
     "data": {
      "text/html": [
       "<pre style=\"white-space:pre;overflow-x:auto;line-height:normal;font-family:Menlo,'DejaVu Sans Mono',consolas,'Courier New',monospace\"><span style=\"font-weight: bold\">[</span>\n",
       "    <span style=\"color: #008000; text-decoration-color: #008000\">'seconds_per_epoch: 5,145.882352941177'</span>,\n",
       "    <span style=\"color: #008000; text-decoration-color: #008000\">'min_per_epoch: 85.7647'</span>,\n",
       "    <span style=\"color: #008000; text-decoration-color: #008000\">'hrs_per_epoch: 1.4294'</span>,\n",
       "    <span style=\"color: #008000; text-decoration-color: #008000\">'epochs_per_second: 0.0002'</span>,\n",
       "    <span style=\"color: #008000; text-decoration-color: #008000\">'epochs_per_min: 0.0117'</span>,\n",
       "    <span style=\"color: #008000; text-decoration-color: #008000\">'epochs_per_hr: 0.6996'</span>,\n",
       "    <span style=\"color: #008000; text-decoration-color: #008000\">'batches_per_epoch: 8748'</span>,\n",
       "    <span style=\"color: #008000; text-decoration-color: #008000\">'samples_per_epoch: 4.199e+05'</span>,\n",
       "    <span style=\"color: #008000; text-decoration-color: #008000\">'seconds_per_batch: 1.7000'</span>,\n",
       "    <span style=\"color: #008000; text-decoration-color: #008000\">'batches_per_second: 0.5882'</span>,\n",
       "    <span style=\"color: #008000; text-decoration-color: #008000\">'batches_per_min: 35.2941'</span>,\n",
       "    <span style=\"color: #008000; text-decoration-color: #008000\">'batches_per_hr: 2117.6471'</span>,\n",
       "    <span style=\"color: #008000; text-decoration-color: #008000\">'samples_per_second: 28.2353'</span>,\n",
       "    <span style=\"color: #008000; text-decoration-color: #008000\">'samples_per_min: 1694.1176'</span>,\n",
       "    <span style=\"color: #008000; text-decoration-color: #008000\">'samples_per_hr: 1.016e+05'</span>,\n",
       "    <span style=\"color: #008000; text-decoration-color: #008000\">'batch_size: 48'</span>\n",
       "<span style=\"font-weight: bold\">]</span>\n",
       "</pre>\n"
      ],
      "text/plain": [
       "\u001b[1m[\u001b[0m\n",
       "    \u001b[32m'seconds_per_epoch: 5,145.882352941177'\u001b[0m,\n",
       "    \u001b[32m'min_per_epoch: 85.7647'\u001b[0m,\n",
       "    \u001b[32m'hrs_per_epoch: 1.4294'\u001b[0m,\n",
       "    \u001b[32m'epochs_per_second: 0.0002'\u001b[0m,\n",
       "    \u001b[32m'epochs_per_min: 0.0117'\u001b[0m,\n",
       "    \u001b[32m'epochs_per_hr: 0.6996'\u001b[0m,\n",
       "    \u001b[32m'batches_per_epoch: 8748'\u001b[0m,\n",
       "    \u001b[32m'samples_per_epoch: 4.199e+05'\u001b[0m,\n",
       "    \u001b[32m'seconds_per_batch: 1.7000'\u001b[0m,\n",
       "    \u001b[32m'batches_per_second: 0.5882'\u001b[0m,\n",
       "    \u001b[32m'batches_per_min: 35.2941'\u001b[0m,\n",
       "    \u001b[32m'batches_per_hr: 2117.6471'\u001b[0m,\n",
       "    \u001b[32m'samples_per_second: 28.2353'\u001b[0m,\n",
       "    \u001b[32m'samples_per_min: 1694.1176'\u001b[0m,\n",
       "    \u001b[32m'samples_per_hr: 1.016e+05'\u001b[0m,\n",
       "    \u001b[32m'batch_size: 48'\u001b[0m\n",
       "\u001b[1m]\u001b[0m\n"
      ]
     },
     "metadata": {},
     "output_type": "display_data"
    }
   ],
   "source": [
    "batches_per_second = (1/1.7)\n",
    "batches_per_epoch = 4374\n",
    "batch_size=48\n",
    "\n",
    "print(f\"Experiment #2: batch_size={batch_size}, num_processes=4, num_devices=2\")\n",
    "print(\"Using 50% of samples\")\n",
    "display_train_timing_info(batches_per_epoch=batches_per_epoch,\n",
    "                          batches_per_second=batches_per_second,\n",
    "                          batch_size=batch_size)\n",
    "\n",
    "print(\"(Extrapolated prediction) Using 100% of samples\")\n",
    "display_train_timing_info(batches_per_epoch=batches_per_epoch*2,\n",
    "                          batches_per_second=batches_per_second,\n",
    "                          batch_size=batch_size)"
   ]
  },
  {
   "cell_type": "markdown",
   "id": "6c657539-9984-4e4b-8eae-fd31aba765fe",
   "metadata": {},
   "source": [
    "### Experiment #3"
   ]
  },
  {
   "cell_type": "code",
   "execution_count": 4,
   "id": "3fd8fd25-7ff9-4802-af44-5b2d46454dbe",
   "metadata": {},
   "outputs": [
    {
     "name": "stdout",
     "output_type": "stream",
     "text": [
      "Experiment #3: batch_size=64, num_processes=4, num_devices=2\n",
      "Using 50% of samples\n"
     ]
    },
    {
     "data": {
      "text/html": [
       "<pre style=\"white-space:pre;overflow-x:auto;line-height:normal;font-family:Menlo,'DejaVu Sans Mono',consolas,'Courier New',monospace\"><span style=\"font-weight: bold\">[</span>\n",
       "    <span style=\"color: #008000; text-decoration-color: #008000\">'seconds_per_epoch: 1,525.581395348837'</span>,\n",
       "    <span style=\"color: #008000; text-decoration-color: #008000\">'min_per_epoch: 25.4264'</span>,\n",
       "    <span style=\"color: #008000; text-decoration-color: #008000\">'hrs_per_epoch: 0.4238'</span>,\n",
       "    <span style=\"color: #008000; text-decoration-color: #008000\">'epochs_per_second: 0.0007'</span>,\n",
       "    <span style=\"color: #008000; text-decoration-color: #008000\">'epochs_per_min: 0.0393'</span>,\n",
       "    <span style=\"color: #008000; text-decoration-color: #008000\">'epochs_per_hr: 2.3598'</span>,\n",
       "    <span style=\"color: #008000; text-decoration-color: #008000\">'batches_per_epoch: 3280'</span>,\n",
       "    <span style=\"color: #008000; text-decoration-color: #008000\">'samples_per_epoch: 2.099e+05'</span>,\n",
       "    <span style=\"color: #008000; text-decoration-color: #008000\">'seconds_per_batch: 2.1500'</span>,\n",
       "    <span style=\"color: #008000; text-decoration-color: #008000\">'batches_per_second: 0.4651'</span>,\n",
       "    <span style=\"color: #008000; text-decoration-color: #008000\">'batches_per_min: 27.9070'</span>,\n",
       "    <span style=\"color: #008000; text-decoration-color: #008000\">'batches_per_hr: 1674.4186'</span>,\n",
       "    <span style=\"color: #008000; text-decoration-color: #008000\">'samples_per_second: 29.7674'</span>,\n",
       "    <span style=\"color: #008000; text-decoration-color: #008000\">'samples_per_min: 1786.0465'</span>,\n",
       "    <span style=\"color: #008000; text-decoration-color: #008000\">'samples_per_hr: 1.072e+05'</span>,\n",
       "    <span style=\"color: #008000; text-decoration-color: #008000\">'batch_size: 64'</span>\n",
       "<span style=\"font-weight: bold\">]</span>\n",
       "</pre>\n"
      ],
      "text/plain": [
       "\u001b[1m[\u001b[0m\n",
       "    \u001b[32m'seconds_per_epoch: 1,525.581395348837'\u001b[0m,\n",
       "    \u001b[32m'min_per_epoch: 25.4264'\u001b[0m,\n",
       "    \u001b[32m'hrs_per_epoch: 0.4238'\u001b[0m,\n",
       "    \u001b[32m'epochs_per_second: 0.0007'\u001b[0m,\n",
       "    \u001b[32m'epochs_per_min: 0.0393'\u001b[0m,\n",
       "    \u001b[32m'epochs_per_hr: 2.3598'\u001b[0m,\n",
       "    \u001b[32m'batches_per_epoch: 3280'\u001b[0m,\n",
       "    \u001b[32m'samples_per_epoch: 2.099e+05'\u001b[0m,\n",
       "    \u001b[32m'seconds_per_batch: 2.1500'\u001b[0m,\n",
       "    \u001b[32m'batches_per_second: 0.4651'\u001b[0m,\n",
       "    \u001b[32m'batches_per_min: 27.9070'\u001b[0m,\n",
       "    \u001b[32m'batches_per_hr: 1674.4186'\u001b[0m,\n",
       "    \u001b[32m'samples_per_second: 29.7674'\u001b[0m,\n",
       "    \u001b[32m'samples_per_min: 1786.0465'\u001b[0m,\n",
       "    \u001b[32m'samples_per_hr: 1.072e+05'\u001b[0m,\n",
       "    \u001b[32m'batch_size: 64'\u001b[0m\n",
       "\u001b[1m]\u001b[0m\n"
      ]
     },
     "metadata": {},
     "output_type": "display_data"
    },
    {
     "name": "stdout",
     "output_type": "stream",
     "text": [
      "(Extrapolated prediction) Using 100% of samples\n"
     ]
    },
    {
     "data": {
      "text/html": [
       "<pre style=\"white-space:pre;overflow-x:auto;line-height:normal;font-family:Menlo,'DejaVu Sans Mono',consolas,'Courier New',monospace\"><span style=\"font-weight: bold\">[</span>\n",
       "    <span style=\"color: #008000; text-decoration-color: #008000\">'seconds_per_epoch: 3,051.162790697674'</span>,\n",
       "    <span style=\"color: #008000; text-decoration-color: #008000\">'min_per_epoch: 50.8527'</span>,\n",
       "    <span style=\"color: #008000; text-decoration-color: #008000\">'hrs_per_epoch: 0.8475'</span>,\n",
       "    <span style=\"color: #008000; text-decoration-color: #008000\">'epochs_per_second: 0.0003'</span>,\n",
       "    <span style=\"color: #008000; text-decoration-color: #008000\">'epochs_per_min: 0.0197'</span>,\n",
       "    <span style=\"color: #008000; text-decoration-color: #008000\">'epochs_per_hr: 1.1799'</span>,\n",
       "    <span style=\"color: #008000; text-decoration-color: #008000\">'batches_per_epoch: 6560'</span>,\n",
       "    <span style=\"color: #008000; text-decoration-color: #008000\">'samples_per_epoch: 4.198e+05'</span>,\n",
       "    <span style=\"color: #008000; text-decoration-color: #008000\">'seconds_per_batch: 2.1500'</span>,\n",
       "    <span style=\"color: #008000; text-decoration-color: #008000\">'batches_per_second: 0.4651'</span>,\n",
       "    <span style=\"color: #008000; text-decoration-color: #008000\">'batches_per_min: 27.9070'</span>,\n",
       "    <span style=\"color: #008000; text-decoration-color: #008000\">'batches_per_hr: 1674.4186'</span>,\n",
       "    <span style=\"color: #008000; text-decoration-color: #008000\">'samples_per_second: 29.7674'</span>,\n",
       "    <span style=\"color: #008000; text-decoration-color: #008000\">'samples_per_min: 1786.0465'</span>,\n",
       "    <span style=\"color: #008000; text-decoration-color: #008000\">'samples_per_hr: 1.072e+05'</span>,\n",
       "    <span style=\"color: #008000; text-decoration-color: #008000\">'batch_size: 64'</span>\n",
       "<span style=\"font-weight: bold\">]</span>\n",
       "</pre>\n"
      ],
      "text/plain": [
       "\u001b[1m[\u001b[0m\n",
       "    \u001b[32m'seconds_per_epoch: 3,051.162790697674'\u001b[0m,\n",
       "    \u001b[32m'min_per_epoch: 50.8527'\u001b[0m,\n",
       "    \u001b[32m'hrs_per_epoch: 0.8475'\u001b[0m,\n",
       "    \u001b[32m'epochs_per_second: 0.0003'\u001b[0m,\n",
       "    \u001b[32m'epochs_per_min: 0.0197'\u001b[0m,\n",
       "    \u001b[32m'epochs_per_hr: 1.1799'\u001b[0m,\n",
       "    \u001b[32m'batches_per_epoch: 6560'\u001b[0m,\n",
       "    \u001b[32m'samples_per_epoch: 4.198e+05'\u001b[0m,\n",
       "    \u001b[32m'seconds_per_batch: 2.1500'\u001b[0m,\n",
       "    \u001b[32m'batches_per_second: 0.4651'\u001b[0m,\n",
       "    \u001b[32m'batches_per_min: 27.9070'\u001b[0m,\n",
       "    \u001b[32m'batches_per_hr: 1674.4186'\u001b[0m,\n",
       "    \u001b[32m'samples_per_second: 29.7674'\u001b[0m,\n",
       "    \u001b[32m'samples_per_min: 1786.0465'\u001b[0m,\n",
       "    \u001b[32m'samples_per_hr: 1.072e+05'\u001b[0m,\n",
       "    \u001b[32m'batch_size: 64'\u001b[0m\n",
       "\u001b[1m]\u001b[0m\n"
      ]
     },
     "metadata": {},
     "output_type": "display_data"
    }
   ],
   "source": [
    "batches_per_second = (1/2.15)\n",
    "batches_per_epoch = 3280\n",
    "batch_size=64\n",
    "print(f\"Experiment #3: batch_size=64, num_processes=4, num_devices=2\")\n",
    "print(\"Using 50% of samples\")\n",
    "display_train_timing_info(batches_per_epoch=batches_per_epoch,\n",
    "                          batches_per_second=batches_per_second,\n",
    "                          batch_size=batch_size)\n",
    "\n",
    "print(\"(Extrapolated prediction) Using 100% of samples\")\n",
    "display_train_timing_info(batches_per_epoch=batches_per_epoch*2,\n",
    "                          batches_per_second=batches_per_second,\n",
    "                          batch_size=batch_size)"
   ]
  },
  {
   "cell_type": "markdown",
   "id": "ce7b139e-8686-4c00-af01-8411175982e6",
   "metadata": {},
   "source": [
    "### Experiment #4"
   ]
  },
  {
   "cell_type": "code",
   "execution_count": 5,
   "id": "052701d2-3c9a-4a8d-b0cf-72de6ebe2c03",
   "metadata": {},
   "outputs": [
    {
     "name": "stdout",
     "output_type": "stream",
     "text": [
      "Experiment #4: batch_size=96, num_processes=4, num_devices=2\n",
      "Using 50% of samples\n"
     ]
    },
    {
     "data": {
      "text/html": [
       "<pre style=\"white-space:pre;overflow-x:auto;line-height:normal;font-family:Menlo,'DejaVu Sans Mono',consolas,'Courier New',monospace\"><span style=\"font-weight: bold\">[</span>\n",
       "    <span style=\"color: #008000; text-decoration-color: #008000\">'seconds_per_epoch: 662.7272727272727'</span>,\n",
       "    <span style=\"color: #008000; text-decoration-color: #008000\">'min_per_epoch: 11.0455'</span>,\n",
       "    <span style=\"color: #008000; text-decoration-color: #008000\">'hrs_per_epoch: 0.1841'</span>,\n",
       "    <span style=\"color: #008000; text-decoration-color: #008000\">'epochs_per_second: 0.0015'</span>,\n",
       "    <span style=\"color: #008000; text-decoration-color: #008000\">'epochs_per_min: 0.0905'</span>,\n",
       "    <span style=\"color: #008000; text-decoration-color: #008000\">'epochs_per_hr: 5.4321'</span>,\n",
       "    <span style=\"color: #008000; text-decoration-color: #008000\">'batches_per_epoch: 2187'</span>,\n",
       "    <span style=\"color: #008000; text-decoration-color: #008000\">'samples_per_epoch: 2.1e+05'</span>,\n",
       "    <span style=\"color: #008000; text-decoration-color: #008000\">'seconds_per_batch: 3.3000'</span>,\n",
       "    <span style=\"color: #008000; text-decoration-color: #008000\">'batches_per_second: 0.3030'</span>,\n",
       "    <span style=\"color: #008000; text-decoration-color: #008000\">'batches_per_min: 18.1818'</span>,\n",
       "    <span style=\"color: #008000; text-decoration-color: #008000\">'batches_per_hr: 1090.9091'</span>,\n",
       "    <span style=\"color: #008000; text-decoration-color: #008000\">'samples_per_second: 29.0909'</span>,\n",
       "    <span style=\"color: #008000; text-decoration-color: #008000\">'samples_per_min: 1745.4545'</span>,\n",
       "    <span style=\"color: #008000; text-decoration-color: #008000\">'samples_per_hr: 1.047e+05'</span>,\n",
       "    <span style=\"color: #008000; text-decoration-color: #008000\">'batch_size: 96'</span>\n",
       "<span style=\"font-weight: bold\">]</span>\n",
       "</pre>\n"
      ],
      "text/plain": [
       "\u001b[1m[\u001b[0m\n",
       "    \u001b[32m'seconds_per_epoch: 662.7272727272727'\u001b[0m,\n",
       "    \u001b[32m'min_per_epoch: 11.0455'\u001b[0m,\n",
       "    \u001b[32m'hrs_per_epoch: 0.1841'\u001b[0m,\n",
       "    \u001b[32m'epochs_per_second: 0.0015'\u001b[0m,\n",
       "    \u001b[32m'epochs_per_min: 0.0905'\u001b[0m,\n",
       "    \u001b[32m'epochs_per_hr: 5.4321'\u001b[0m,\n",
       "    \u001b[32m'batches_per_epoch: 2187'\u001b[0m,\n",
       "    \u001b[32m'samples_per_epoch: 2.1e+05'\u001b[0m,\n",
       "    \u001b[32m'seconds_per_batch: 3.3000'\u001b[0m,\n",
       "    \u001b[32m'batches_per_second: 0.3030'\u001b[0m,\n",
       "    \u001b[32m'batches_per_min: 18.1818'\u001b[0m,\n",
       "    \u001b[32m'batches_per_hr: 1090.9091'\u001b[0m,\n",
       "    \u001b[32m'samples_per_second: 29.0909'\u001b[0m,\n",
       "    \u001b[32m'samples_per_min: 1745.4545'\u001b[0m,\n",
       "    \u001b[32m'samples_per_hr: 1.047e+05'\u001b[0m,\n",
       "    \u001b[32m'batch_size: 96'\u001b[0m\n",
       "\u001b[1m]\u001b[0m\n"
      ]
     },
     "metadata": {},
     "output_type": "display_data"
    },
    {
     "name": "stdout",
     "output_type": "stream",
     "text": [
      "(Extrapolated prediction) Using 100% of samples\n"
     ]
    },
    {
     "data": {
      "text/html": [
       "<pre style=\"white-space:pre;overflow-x:auto;line-height:normal;font-family:Menlo,'DejaVu Sans Mono',consolas,'Courier New',monospace\"><span style=\"font-weight: bold\">[</span>\n",
       "    <span style=\"color: #008000; text-decoration-color: #008000\">'seconds_per_epoch: 1,325.4545454545455'</span>,\n",
       "    <span style=\"color: #008000; text-decoration-color: #008000\">'min_per_epoch: 22.0909'</span>,\n",
       "    <span style=\"color: #008000; text-decoration-color: #008000\">'hrs_per_epoch: 0.3682'</span>,\n",
       "    <span style=\"color: #008000; text-decoration-color: #008000\">'epochs_per_second: 0.0008'</span>,\n",
       "    <span style=\"color: #008000; text-decoration-color: #008000\">'epochs_per_min: 0.0453'</span>,\n",
       "    <span style=\"color: #008000; text-decoration-color: #008000\">'epochs_per_hr: 2.7160'</span>,\n",
       "    <span style=\"color: #008000; text-decoration-color: #008000\">'batches_per_epoch: 4374'</span>,\n",
       "    <span style=\"color: #008000; text-decoration-color: #008000\">'samples_per_epoch: 4.199e+05'</span>,\n",
       "    <span style=\"color: #008000; text-decoration-color: #008000\">'seconds_per_batch: 3.3000'</span>,\n",
       "    <span style=\"color: #008000; text-decoration-color: #008000\">'batches_per_second: 0.3030'</span>,\n",
       "    <span style=\"color: #008000; text-decoration-color: #008000\">'batches_per_min: 18.1818'</span>,\n",
       "    <span style=\"color: #008000; text-decoration-color: #008000\">'batches_per_hr: 1090.9091'</span>,\n",
       "    <span style=\"color: #008000; text-decoration-color: #008000\">'samples_per_second: 29.0909'</span>,\n",
       "    <span style=\"color: #008000; text-decoration-color: #008000\">'samples_per_min: 1745.4545'</span>,\n",
       "    <span style=\"color: #008000; text-decoration-color: #008000\">'samples_per_hr: 1.047e+05'</span>,\n",
       "    <span style=\"color: #008000; text-decoration-color: #008000\">'batch_size: 96'</span>\n",
       "<span style=\"font-weight: bold\">]</span>\n",
       "</pre>\n"
      ],
      "text/plain": [
       "\u001b[1m[\u001b[0m\n",
       "    \u001b[32m'seconds_per_epoch: 1,325.4545454545455'\u001b[0m,\n",
       "    \u001b[32m'min_per_epoch: 22.0909'\u001b[0m,\n",
       "    \u001b[32m'hrs_per_epoch: 0.3682'\u001b[0m,\n",
       "    \u001b[32m'epochs_per_second: 0.0008'\u001b[0m,\n",
       "    \u001b[32m'epochs_per_min: 0.0453'\u001b[0m,\n",
       "    \u001b[32m'epochs_per_hr: 2.7160'\u001b[0m,\n",
       "    \u001b[32m'batches_per_epoch: 4374'\u001b[0m,\n",
       "    \u001b[32m'samples_per_epoch: 4.199e+05'\u001b[0m,\n",
       "    \u001b[32m'seconds_per_batch: 3.3000'\u001b[0m,\n",
       "    \u001b[32m'batches_per_second: 0.3030'\u001b[0m,\n",
       "    \u001b[32m'batches_per_min: 18.1818'\u001b[0m,\n",
       "    \u001b[32m'batches_per_hr: 1090.9091'\u001b[0m,\n",
       "    \u001b[32m'samples_per_second: 29.0909'\u001b[0m,\n",
       "    \u001b[32m'samples_per_min: 1745.4545'\u001b[0m,\n",
       "    \u001b[32m'samples_per_hr: 1.047e+05'\u001b[0m,\n",
       "    \u001b[32m'batch_size: 96'\u001b[0m\n",
       "\u001b[1m]\u001b[0m\n"
      ]
     },
     "metadata": {},
     "output_type": "display_data"
    }
   ],
   "source": [
    "batches_per_second = (1/3.3)\n",
    "batches_per_epoch = 2187\n",
    "batch_size=96\n",
    "\n",
    "print(f\"Experiment #4: batch_size={batch_size}, num_processes=4, num_devices=2\")\n",
    "print(\"Using 50% of samples\")\n",
    "display_train_timing_info(batches_per_epoch=batches_per_epoch,\n",
    "                          batches_per_second=batches_per_second,\n",
    "                          batch_size=batch_size)\n",
    "\n",
    "print(\"(Extrapolated prediction) Using 100% of samples\")\n",
    "display_train_timing_info(batches_per_epoch=batches_per_epoch*2,\n",
    "                          batches_per_second=batches_per_second,\n",
    "                          batch_size=batch_size)"
   ]
  },
  {
   "cell_type": "markdown",
   "id": "b4312b46-afc1-4df6-851c-3c61d556681e",
   "metadata": {},
   "source": [
    "### Experiment #5\n",
    "\n",
    "Started: 3:15 AM - 2022-03-23  \n",
    "Ended:   4:30 AM - 2022-03-23  "
   ]
  },
  {
   "cell_type": "code",
   "execution_count": 6,
   "id": "cbc549bd-3606-4dc9-82d3-af0e53950b0e",
   "metadata": {},
   "outputs": [
    {
     "name": "stdout",
     "output_type": "stream",
     "text": [
      "Experiment #5: batch_size=128, num_processes=4, num_devices=2\n",
      "Using 50% of samples\n"
     ]
    },
    {
     "data": {
      "text/html": [
       "<pre style=\"white-space:pre;overflow-x:auto;line-height:normal;font-family:Menlo,'DejaVu Sans Mono',consolas,'Courier New',monospace\"><span style=\"font-weight: bold\">[</span>\n",
       "    <span style=\"color: #008000; text-decoration-color: #008000\">'seconds_per_epoch: 381.39534883720927'</span>,\n",
       "    <span style=\"color: #008000; text-decoration-color: #008000\">'min_per_epoch: 6.3566'</span>,\n",
       "    <span style=\"color: #008000; text-decoration-color: #008000\">'hrs_per_epoch: 0.1059'</span>,\n",
       "    <span style=\"color: #008000; text-decoration-color: #008000\">'epochs_per_second: 0.0026'</span>,\n",
       "    <span style=\"color: #008000; text-decoration-color: #008000\">'epochs_per_min: 0.1573'</span>,\n",
       "    <span style=\"color: #008000; text-decoration-color: #008000\">'epochs_per_hr: 9.4390'</span>,\n",
       "    <span style=\"color: #008000; text-decoration-color: #008000\">'batches_per_epoch: 1640'</span>,\n",
       "    <span style=\"color: #008000; text-decoration-color: #008000\">'samples_per_epoch: 2.099e+05'</span>,\n",
       "    <span style=\"color: #008000; text-decoration-color: #008000\">'seconds_per_batch: 4.3000'</span>,\n",
       "    <span style=\"color: #008000; text-decoration-color: #008000\">'batches_per_second: 0.2326'</span>,\n",
       "    <span style=\"color: #008000; text-decoration-color: #008000\">'batches_per_min: 13.9535'</span>,\n",
       "    <span style=\"color: #008000; text-decoration-color: #008000\">'batches_per_hr: 837.2093'</span>,\n",
       "    <span style=\"color: #008000; text-decoration-color: #008000\">'samples_per_second: 29.7674'</span>,\n",
       "    <span style=\"color: #008000; text-decoration-color: #008000\">'samples_per_min: 1786.0465'</span>,\n",
       "    <span style=\"color: #008000; text-decoration-color: #008000\">'samples_per_hr: 1.072e+05'</span>,\n",
       "    <span style=\"color: #008000; text-decoration-color: #008000\">'batch_size: 128'</span>\n",
       "<span style=\"font-weight: bold\">]</span>\n",
       "</pre>\n"
      ],
      "text/plain": [
       "\u001b[1m[\u001b[0m\n",
       "    \u001b[32m'seconds_per_epoch: 381.39534883720927'\u001b[0m,\n",
       "    \u001b[32m'min_per_epoch: 6.3566'\u001b[0m,\n",
       "    \u001b[32m'hrs_per_epoch: 0.1059'\u001b[0m,\n",
       "    \u001b[32m'epochs_per_second: 0.0026'\u001b[0m,\n",
       "    \u001b[32m'epochs_per_min: 0.1573'\u001b[0m,\n",
       "    \u001b[32m'epochs_per_hr: 9.4390'\u001b[0m,\n",
       "    \u001b[32m'batches_per_epoch: 1640'\u001b[0m,\n",
       "    \u001b[32m'samples_per_epoch: 2.099e+05'\u001b[0m,\n",
       "    \u001b[32m'seconds_per_batch: 4.3000'\u001b[0m,\n",
       "    \u001b[32m'batches_per_second: 0.2326'\u001b[0m,\n",
       "    \u001b[32m'batches_per_min: 13.9535'\u001b[0m,\n",
       "    \u001b[32m'batches_per_hr: 837.2093'\u001b[0m,\n",
       "    \u001b[32m'samples_per_second: 29.7674'\u001b[0m,\n",
       "    \u001b[32m'samples_per_min: 1786.0465'\u001b[0m,\n",
       "    \u001b[32m'samples_per_hr: 1.072e+05'\u001b[0m,\n",
       "    \u001b[32m'batch_size: 128'\u001b[0m\n",
       "\u001b[1m]\u001b[0m\n"
      ]
     },
     "metadata": {},
     "output_type": "display_data"
    },
    {
     "name": "stdout",
     "output_type": "stream",
     "text": [
      "(Extrapolated prediction) Using 100% of samples\n"
     ]
    },
    {
     "data": {
      "text/html": [
       "<pre style=\"white-space:pre;overflow-x:auto;line-height:normal;font-family:Menlo,'DejaVu Sans Mono',consolas,'Courier New',monospace\"><span style=\"font-weight: bold\">[</span>\n",
       "    <span style=\"color: #008000; text-decoration-color: #008000\">'seconds_per_epoch: 762.7906976744185'</span>,\n",
       "    <span style=\"color: #008000; text-decoration-color: #008000\">'min_per_epoch: 12.7132'</span>,\n",
       "    <span style=\"color: #008000; text-decoration-color: #008000\">'hrs_per_epoch: 0.2119'</span>,\n",
       "    <span style=\"color: #008000; text-decoration-color: #008000\">'epochs_per_second: 0.0013'</span>,\n",
       "    <span style=\"color: #008000; text-decoration-color: #008000\">'epochs_per_min: 0.0787'</span>,\n",
       "    <span style=\"color: #008000; text-decoration-color: #008000\">'epochs_per_hr: 4.7195'</span>,\n",
       "    <span style=\"color: #008000; text-decoration-color: #008000\">'batches_per_epoch: 3280'</span>,\n",
       "    <span style=\"color: #008000; text-decoration-color: #008000\">'samples_per_epoch: 4.198e+05'</span>,\n",
       "    <span style=\"color: #008000; text-decoration-color: #008000\">'seconds_per_batch: 4.3000'</span>,\n",
       "    <span style=\"color: #008000; text-decoration-color: #008000\">'batches_per_second: 0.2326'</span>,\n",
       "    <span style=\"color: #008000; text-decoration-color: #008000\">'batches_per_min: 13.9535'</span>,\n",
       "    <span style=\"color: #008000; text-decoration-color: #008000\">'batches_per_hr: 837.2093'</span>,\n",
       "    <span style=\"color: #008000; text-decoration-color: #008000\">'samples_per_second: 29.7674'</span>,\n",
       "    <span style=\"color: #008000; text-decoration-color: #008000\">'samples_per_min: 1786.0465'</span>,\n",
       "    <span style=\"color: #008000; text-decoration-color: #008000\">'samples_per_hr: 1.072e+05'</span>,\n",
       "    <span style=\"color: #008000; text-decoration-color: #008000\">'batch_size: 128'</span>\n",
       "<span style=\"font-weight: bold\">]</span>\n",
       "</pre>\n"
      ],
      "text/plain": [
       "\u001b[1m[\u001b[0m\n",
       "    \u001b[32m'seconds_per_epoch: 762.7906976744185'\u001b[0m,\n",
       "    \u001b[32m'min_per_epoch: 12.7132'\u001b[0m,\n",
       "    \u001b[32m'hrs_per_epoch: 0.2119'\u001b[0m,\n",
       "    \u001b[32m'epochs_per_second: 0.0013'\u001b[0m,\n",
       "    \u001b[32m'epochs_per_min: 0.0787'\u001b[0m,\n",
       "    \u001b[32m'epochs_per_hr: 4.7195'\u001b[0m,\n",
       "    \u001b[32m'batches_per_epoch: 3280'\u001b[0m,\n",
       "    \u001b[32m'samples_per_epoch: 4.198e+05'\u001b[0m,\n",
       "    \u001b[32m'seconds_per_batch: 4.3000'\u001b[0m,\n",
       "    \u001b[32m'batches_per_second: 0.2326'\u001b[0m,\n",
       "    \u001b[32m'batches_per_min: 13.9535'\u001b[0m,\n",
       "    \u001b[32m'batches_per_hr: 837.2093'\u001b[0m,\n",
       "    \u001b[32m'samples_per_second: 29.7674'\u001b[0m,\n",
       "    \u001b[32m'samples_per_min: 1786.0465'\u001b[0m,\n",
       "    \u001b[32m'samples_per_hr: 1.072e+05'\u001b[0m,\n",
       "    \u001b[32m'batch_size: 128'\u001b[0m\n",
       "\u001b[1m]\u001b[0m\n"
      ]
     },
     "metadata": {},
     "output_type": "display_data"
    }
   ],
   "source": [
    "batches_per_second = (1/4.3)\n",
    "batches_per_epoch = 1640\n",
    "batch_size=128\n",
    "\n",
    "print(f\"Experiment #5: batch_size={batch_size}, num_processes=4, num_devices=2\")\n",
    "print(\"Using 50% of samples\")\n",
    "display_train_timing_info(batches_per_epoch=batches_per_epoch,\n",
    "                          batches_per_second=batches_per_second,\n",
    "                          batch_size=batch_size)\n",
    "\n",
    "print(\"(Extrapolated prediction) Using 100% of samples\")\n",
    "display_train_timing_info(batches_per_epoch=batches_per_epoch*2,\n",
    "                          batches_per_second=batches_per_second,\n",
    "                          batch_size=batch_size)"
   ]
  },
  {
   "cell_type": "markdown",
   "id": "4bed0574-b176-476a-ab67-b59d11a5e5a4",
   "metadata": {},
   "source": [
    "### Experiment #6\n",
    "\n",
    "Started: 4:30 AM - 2022-03-23  \n",
    "Ended:   5:45 AM - 2022-03-23  "
   ]
  },
  {
   "cell_type": "code",
   "execution_count": 7,
   "id": "4d49dd0a-7ff2-4df9-9135-36fc6940e7c8",
   "metadata": {},
   "outputs": [
    {
     "name": "stdout",
     "output_type": "stream",
     "text": [
      "Experiment #6: batch_size=144, num_processes=4, num_devices=2\n",
      "Using 50% of samples\n"
     ]
    },
    {
     "data": {
      "text/html": [
       "<pre style=\"white-space:pre;overflow-x:auto;line-height:normal;font-family:Menlo,'DejaVu Sans Mono',consolas,'Courier New',monospace\"><span style=\"font-weight: bold\">[</span>\n",
       "    <span style=\"color: #008000; text-decoration-color: #008000\">'seconds_per_epoch: 283.1067961165048'</span>,\n",
       "    <span style=\"color: #008000; text-decoration-color: #008000\">'min_per_epoch: 4.7184'</span>,\n",
       "    <span style=\"color: #008000; text-decoration-color: #008000\">'hrs_per_epoch: 0.0786'</span>,\n",
       "    <span style=\"color: #008000; text-decoration-color: #008000\">'epochs_per_second: 0.0035'</span>,\n",
       "    <span style=\"color: #008000; text-decoration-color: #008000\">'epochs_per_min: 0.2119'</span>,\n",
       "    <span style=\"color: #008000; text-decoration-color: #008000\">'epochs_per_hr: 12.7160'</span>,\n",
       "    <span style=\"color: #008000; text-decoration-color: #008000\">'batches_per_epoch: 1458'</span>,\n",
       "    <span style=\"color: #008000; text-decoration-color: #008000\">'samples_per_epoch: 2.1e+05'</span>,\n",
       "    <span style=\"color: #008000; text-decoration-color: #008000\">'seconds_per_batch: 5.1500'</span>,\n",
       "    <span style=\"color: #008000; text-decoration-color: #008000\">'batches_per_second: 0.1942'</span>,\n",
       "    <span style=\"color: #008000; text-decoration-color: #008000\">'batches_per_min: 11.6505'</span>,\n",
       "    <span style=\"color: #008000; text-decoration-color: #008000\">'batches_per_hr: 699.0291'</span>,\n",
       "    <span style=\"color: #008000; text-decoration-color: #008000\">'samples_per_second: 27.9612'</span>,\n",
       "    <span style=\"color: #008000; text-decoration-color: #008000\">'samples_per_min: 1677.6699'</span>,\n",
       "    <span style=\"color: #008000; text-decoration-color: #008000\">'samples_per_hr: 1.007e+05'</span>,\n",
       "    <span style=\"color: #008000; text-decoration-color: #008000\">'batch_size: 144'</span>\n",
       "<span style=\"font-weight: bold\">]</span>\n",
       "</pre>\n"
      ],
      "text/plain": [
       "\u001b[1m[\u001b[0m\n",
       "    \u001b[32m'seconds_per_epoch: 283.1067961165048'\u001b[0m,\n",
       "    \u001b[32m'min_per_epoch: 4.7184'\u001b[0m,\n",
       "    \u001b[32m'hrs_per_epoch: 0.0786'\u001b[0m,\n",
       "    \u001b[32m'epochs_per_second: 0.0035'\u001b[0m,\n",
       "    \u001b[32m'epochs_per_min: 0.2119'\u001b[0m,\n",
       "    \u001b[32m'epochs_per_hr: 12.7160'\u001b[0m,\n",
       "    \u001b[32m'batches_per_epoch: 1458'\u001b[0m,\n",
       "    \u001b[32m'samples_per_epoch: 2.1e+05'\u001b[0m,\n",
       "    \u001b[32m'seconds_per_batch: 5.1500'\u001b[0m,\n",
       "    \u001b[32m'batches_per_second: 0.1942'\u001b[0m,\n",
       "    \u001b[32m'batches_per_min: 11.6505'\u001b[0m,\n",
       "    \u001b[32m'batches_per_hr: 699.0291'\u001b[0m,\n",
       "    \u001b[32m'samples_per_second: 27.9612'\u001b[0m,\n",
       "    \u001b[32m'samples_per_min: 1677.6699'\u001b[0m,\n",
       "    \u001b[32m'samples_per_hr: 1.007e+05'\u001b[0m,\n",
       "    \u001b[32m'batch_size: 144'\u001b[0m\n",
       "\u001b[1m]\u001b[0m\n"
      ]
     },
     "metadata": {},
     "output_type": "display_data"
    },
    {
     "name": "stdout",
     "output_type": "stream",
     "text": [
      "(Extrapolated prediction) Using 100% of samples\n"
     ]
    },
    {
     "data": {
      "text/html": [
       "<pre style=\"white-space:pre;overflow-x:auto;line-height:normal;font-family:Menlo,'DejaVu Sans Mono',consolas,'Courier New',monospace\"><span style=\"font-weight: bold\">[</span>\n",
       "    <span style=\"color: #008000; text-decoration-color: #008000\">'seconds_per_epoch: 566.2135922330096'</span>,\n",
       "    <span style=\"color: #008000; text-decoration-color: #008000\">'min_per_epoch: 9.4369'</span>,\n",
       "    <span style=\"color: #008000; text-decoration-color: #008000\">'hrs_per_epoch: 0.1573'</span>,\n",
       "    <span style=\"color: #008000; text-decoration-color: #008000\">'epochs_per_second: 0.0018'</span>,\n",
       "    <span style=\"color: #008000; text-decoration-color: #008000\">'epochs_per_min: 0.1060'</span>,\n",
       "    <span style=\"color: #008000; text-decoration-color: #008000\">'epochs_per_hr: 6.3580'</span>,\n",
       "    <span style=\"color: #008000; text-decoration-color: #008000\">'batches_per_epoch: 2916'</span>,\n",
       "    <span style=\"color: #008000; text-decoration-color: #008000\">'samples_per_epoch: 4.199e+05'</span>,\n",
       "    <span style=\"color: #008000; text-decoration-color: #008000\">'seconds_per_batch: 5.1500'</span>,\n",
       "    <span style=\"color: #008000; text-decoration-color: #008000\">'batches_per_second: 0.1942'</span>,\n",
       "    <span style=\"color: #008000; text-decoration-color: #008000\">'batches_per_min: 11.6505'</span>,\n",
       "    <span style=\"color: #008000; text-decoration-color: #008000\">'batches_per_hr: 699.0291'</span>,\n",
       "    <span style=\"color: #008000; text-decoration-color: #008000\">'samples_per_second: 27.9612'</span>,\n",
       "    <span style=\"color: #008000; text-decoration-color: #008000\">'samples_per_min: 1677.6699'</span>,\n",
       "    <span style=\"color: #008000; text-decoration-color: #008000\">'samples_per_hr: 1.007e+05'</span>,\n",
       "    <span style=\"color: #008000; text-decoration-color: #008000\">'batch_size: 144'</span>\n",
       "<span style=\"font-weight: bold\">]</span>\n",
       "</pre>\n"
      ],
      "text/plain": [
       "\u001b[1m[\u001b[0m\n",
       "    \u001b[32m'seconds_per_epoch: 566.2135922330096'\u001b[0m,\n",
       "    \u001b[32m'min_per_epoch: 9.4369'\u001b[0m,\n",
       "    \u001b[32m'hrs_per_epoch: 0.1573'\u001b[0m,\n",
       "    \u001b[32m'epochs_per_second: 0.0018'\u001b[0m,\n",
       "    \u001b[32m'epochs_per_min: 0.1060'\u001b[0m,\n",
       "    \u001b[32m'epochs_per_hr: 6.3580'\u001b[0m,\n",
       "    \u001b[32m'batches_per_epoch: 2916'\u001b[0m,\n",
       "    \u001b[32m'samples_per_epoch: 4.199e+05'\u001b[0m,\n",
       "    \u001b[32m'seconds_per_batch: 5.1500'\u001b[0m,\n",
       "    \u001b[32m'batches_per_second: 0.1942'\u001b[0m,\n",
       "    \u001b[32m'batches_per_min: 11.6505'\u001b[0m,\n",
       "    \u001b[32m'batches_per_hr: 699.0291'\u001b[0m,\n",
       "    \u001b[32m'samples_per_second: 27.9612'\u001b[0m,\n",
       "    \u001b[32m'samples_per_min: 1677.6699'\u001b[0m,\n",
       "    \u001b[32m'samples_per_hr: 1.007e+05'\u001b[0m,\n",
       "    \u001b[32m'batch_size: 144'\u001b[0m\n",
       "\u001b[1m]\u001b[0m\n"
      ]
     },
     "metadata": {},
     "output_type": "display_data"
    }
   ],
   "source": [
    "batches_per_second = (1/5.15)\n",
    "batches_per_epoch = 1458\n",
    "batch_size=144\n",
    "\n",
    "print(f\"Experiment #6: batch_size={batch_size}, num_processes=4, num_devices=2\")\n",
    "print(\"Using 50% of samples\")\n",
    "display_train_timing_info(batches_per_epoch=batches_per_epoch,\n",
    "                          batches_per_second=batches_per_second,\n",
    "                          batch_size=batch_size)\n",
    "\n",
    "print(\"(Extrapolated prediction) Using 100% of samples\")\n",
    "display_train_timing_info(batches_per_epoch=batches_per_epoch*2,\n",
    "                          batches_per_second=batches_per_second,\n",
    "                          batch_size=batch_size)"
   ]
  },
  {
   "cell_type": "code",
   "execution_count": 8,
   "id": "39587f10-cdd6-4b46-b029-3a112f274d96",
   "metadata": {},
   "outputs": [
    {
     "name": "stdout",
     "output_type": "stream",
     "text": [
      "Experiment #6: batch_size=144, num_processes=4, num_devices=2\n",
      "Using 50% of samples\n"
     ]
    },
    {
     "data": {
      "text/html": [
       "<pre style=\"white-space:pre;overflow-x:auto;line-height:normal;font-family:Menlo,'DejaVu Sans Mono',consolas,'Courier New',monospace\"><span style=\"font-weight: bold\">[</span>\n",
       "    <span style=\"color: #008000; text-decoration-color: #008000\">'seconds_per_epoch: 299.38398357289526'</span>,\n",
       "    <span style=\"color: #008000; text-decoration-color: #008000\">'min_per_epoch: 4.9897'</span>,\n",
       "    <span style=\"color: #008000; text-decoration-color: #008000\">'hrs_per_epoch: 0.0832'</span>,\n",
       "    <span style=\"color: #008000; text-decoration-color: #008000\">'epochs_per_second: 0.0033'</span>,\n",
       "    <span style=\"color: #008000; text-decoration-color: #008000\">'epochs_per_min: 0.2004'</span>,\n",
       "    <span style=\"color: #008000; text-decoration-color: #008000\">'epochs_per_hr: 12.0247'</span>,\n",
       "    <span style=\"color: #008000; text-decoration-color: #008000\">'batches_per_epoch: 1458'</span>,\n",
       "    <span style=\"color: #008000; text-decoration-color: #008000\">'samples_per_epoch: 2.1e+05'</span>,\n",
       "    <span style=\"color: #008000; text-decoration-color: #008000\">'seconds_per_batch: 4.8700'</span>,\n",
       "    <span style=\"color: #008000; text-decoration-color: #008000\">'batches_per_second: 0.2053'</span>,\n",
       "    <span style=\"color: #008000; text-decoration-color: #008000\">'batches_per_min: 12.3203'</span>,\n",
       "    <span style=\"color: #008000; text-decoration-color: #008000\">'batches_per_hr: 739.2197'</span>,\n",
       "    <span style=\"color: #008000; text-decoration-color: #008000\">'samples_per_second: 29.5688'</span>,\n",
       "    <span style=\"color: #008000; text-decoration-color: #008000\">'samples_per_min: 1774.1273'</span>,\n",
       "    <span style=\"color: #008000; text-decoration-color: #008000\">'samples_per_hr: 1.064e+05'</span>,\n",
       "    <span style=\"color: #008000; text-decoration-color: #008000\">'batch_size: 144'</span>\n",
       "<span style=\"font-weight: bold\">]</span>\n",
       "</pre>\n"
      ],
      "text/plain": [
       "\u001b[1m[\u001b[0m\n",
       "    \u001b[32m'seconds_per_epoch: 299.38398357289526'\u001b[0m,\n",
       "    \u001b[32m'min_per_epoch: 4.9897'\u001b[0m,\n",
       "    \u001b[32m'hrs_per_epoch: 0.0832'\u001b[0m,\n",
       "    \u001b[32m'epochs_per_second: 0.0033'\u001b[0m,\n",
       "    \u001b[32m'epochs_per_min: 0.2004'\u001b[0m,\n",
       "    \u001b[32m'epochs_per_hr: 12.0247'\u001b[0m,\n",
       "    \u001b[32m'batches_per_epoch: 1458'\u001b[0m,\n",
       "    \u001b[32m'samples_per_epoch: 2.1e+05'\u001b[0m,\n",
       "    \u001b[32m'seconds_per_batch: 4.8700'\u001b[0m,\n",
       "    \u001b[32m'batches_per_second: 0.2053'\u001b[0m,\n",
       "    \u001b[32m'batches_per_min: 12.3203'\u001b[0m,\n",
       "    \u001b[32m'batches_per_hr: 739.2197'\u001b[0m,\n",
       "    \u001b[32m'samples_per_second: 29.5688'\u001b[0m,\n",
       "    \u001b[32m'samples_per_min: 1774.1273'\u001b[0m,\n",
       "    \u001b[32m'samples_per_hr: 1.064e+05'\u001b[0m,\n",
       "    \u001b[32m'batch_size: 144'\u001b[0m\n",
       "\u001b[1m]\u001b[0m\n"
      ]
     },
     "metadata": {},
     "output_type": "display_data"
    },
    {
     "name": "stdout",
     "output_type": "stream",
     "text": [
      "(Extrapolated prediction) Using 100% of samples\n"
     ]
    },
    {
     "data": {
      "text/html": [
       "<pre style=\"white-space:pre;overflow-x:auto;line-height:normal;font-family:Menlo,'DejaVu Sans Mono',consolas,'Courier New',monospace\"><span style=\"font-weight: bold\">[</span>\n",
       "    <span style=\"color: #008000; text-decoration-color: #008000\">'seconds_per_epoch: 598.7679671457905'</span>,\n",
       "    <span style=\"color: #008000; text-decoration-color: #008000\">'min_per_epoch: 9.9795'</span>,\n",
       "    <span style=\"color: #008000; text-decoration-color: #008000\">'hrs_per_epoch: 0.1663'</span>,\n",
       "    <span style=\"color: #008000; text-decoration-color: #008000\">'epochs_per_second: 0.0017'</span>,\n",
       "    <span style=\"color: #008000; text-decoration-color: #008000\">'epochs_per_min: 0.1002'</span>,\n",
       "    <span style=\"color: #008000; text-decoration-color: #008000\">'epochs_per_hr: 6.0123'</span>,\n",
       "    <span style=\"color: #008000; text-decoration-color: #008000\">'batches_per_epoch: 2916'</span>,\n",
       "    <span style=\"color: #008000; text-decoration-color: #008000\">'samples_per_epoch: 4.199e+05'</span>,\n",
       "    <span style=\"color: #008000; text-decoration-color: #008000\">'seconds_per_batch: 4.8700'</span>,\n",
       "    <span style=\"color: #008000; text-decoration-color: #008000\">'batches_per_second: 0.2053'</span>,\n",
       "    <span style=\"color: #008000; text-decoration-color: #008000\">'batches_per_min: 12.3203'</span>,\n",
       "    <span style=\"color: #008000; text-decoration-color: #008000\">'batches_per_hr: 739.2197'</span>,\n",
       "    <span style=\"color: #008000; text-decoration-color: #008000\">'samples_per_second: 29.5688'</span>,\n",
       "    <span style=\"color: #008000; text-decoration-color: #008000\">'samples_per_min: 1774.1273'</span>,\n",
       "    <span style=\"color: #008000; text-decoration-color: #008000\">'samples_per_hr: 1.064e+05'</span>,\n",
       "    <span style=\"color: #008000; text-decoration-color: #008000\">'batch_size: 144'</span>\n",
       "<span style=\"font-weight: bold\">]</span>\n",
       "</pre>\n"
      ],
      "text/plain": [
       "\u001b[1m[\u001b[0m\n",
       "    \u001b[32m'seconds_per_epoch: 598.7679671457905'\u001b[0m,\n",
       "    \u001b[32m'min_per_epoch: 9.9795'\u001b[0m,\n",
       "    \u001b[32m'hrs_per_epoch: 0.1663'\u001b[0m,\n",
       "    \u001b[32m'epochs_per_second: 0.0017'\u001b[0m,\n",
       "    \u001b[32m'epochs_per_min: 0.1002'\u001b[0m,\n",
       "    \u001b[32m'epochs_per_hr: 6.0123'\u001b[0m,\n",
       "    \u001b[32m'batches_per_epoch: 2916'\u001b[0m,\n",
       "    \u001b[32m'samples_per_epoch: 4.199e+05'\u001b[0m,\n",
       "    \u001b[32m'seconds_per_batch: 4.8700'\u001b[0m,\n",
       "    \u001b[32m'batches_per_second: 0.2053'\u001b[0m,\n",
       "    \u001b[32m'batches_per_min: 12.3203'\u001b[0m,\n",
       "    \u001b[32m'batches_per_hr: 739.2197'\u001b[0m,\n",
       "    \u001b[32m'samples_per_second: 29.5688'\u001b[0m,\n",
       "    \u001b[32m'samples_per_min: 1774.1273'\u001b[0m,\n",
       "    \u001b[32m'samples_per_hr: 1.064e+05'\u001b[0m,\n",
       "    \u001b[32m'batch_size: 144'\u001b[0m\n",
       "\u001b[1m]\u001b[0m\n"
      ]
     },
     "metadata": {},
     "output_type": "display_data"
    }
   ],
   "source": [
    "batches_per_second = (1/4.87)\n",
    "batches_per_epoch = 1458\n",
    "batch_size=144\n",
    "\n",
    "print(f\"Experiment #6: batch_size={batch_size}, num_processes=4, num_devices=2\")\n",
    "print(\"Using 50% of samples\")\n",
    "display_train_timing_info(batches_per_epoch=batches_per_epoch,\n",
    "                          batches_per_second=batches_per_second,\n",
    "                          batch_size=batch_size)\n",
    "\n",
    "print(\"(Extrapolated prediction) Using 100% of samples\")\n",
    "display_train_timing_info(batches_per_epoch=batches_per_epoch*2,\n",
    "                          batches_per_second=batches_per_second,\n",
    "                          batch_size=batch_size)"
   ]
  },
  {
   "cell_type": "markdown",
   "id": "0ec958b5-1904-497b-b06a-de0d0530ff2b",
   "metadata": {},
   "source": [
    "### Experiment #7\n",
    "\n",
    "- Using Accumulate_grad_batches=2\n",
    "\n",
    "Started: 5:45 AM - 2022-03-23  \n",
    "Ended:   x:xx AM - 2022-03-23  "
   ]
  },
  {
   "cell_type": "code",
   "execution_count": 9,
   "id": "eebc9543-449c-4f39-952f-d7bdabd91b60",
   "metadata": {},
   "outputs": [
    {
     "name": "stdout",
     "output_type": "stream",
     "text": [
      "Experiment #7: batch_size=144, num_processes=4, num_devices=2\n",
      "Using 50% of samples\n"
     ]
    },
    {
     "data": {
      "text/html": [
       "<pre style=\"white-space:pre;overflow-x:auto;line-height:normal;font-family:Menlo,'DejaVu Sans Mono',consolas,'Courier New',monospace\"><span style=\"font-weight: bold\">[</span>\n",
       "    <span style=\"color: #008000; text-decoration-color: #008000\">'seconds_per_epoch: 303.11850311850316'</span>,\n",
       "    <span style=\"color: #008000; text-decoration-color: #008000\">'min_per_epoch: 5.0520'</span>,\n",
       "    <span style=\"color: #008000; text-decoration-color: #008000\">'hrs_per_epoch: 0.0842'</span>,\n",
       "    <span style=\"color: #008000; text-decoration-color: #008000\">'epochs_per_second: 0.0033'</span>,\n",
       "    <span style=\"color: #008000; text-decoration-color: #008000\">'epochs_per_min: 0.1979'</span>,\n",
       "    <span style=\"color: #008000; text-decoration-color: #008000\">'epochs_per_hr: 11.8765'</span>,\n",
       "    <span style=\"color: #008000; text-decoration-color: #008000\">'batches_per_epoch: 1458'</span>,\n",
       "    <span style=\"color: #008000; text-decoration-color: #008000\">'samples_per_epoch: 2.1e+05'</span>,\n",
       "    <span style=\"color: #008000; text-decoration-color: #008000\">'seconds_per_batch: 4.8100'</span>,\n",
       "    <span style=\"color: #008000; text-decoration-color: #008000\">'batches_per_second: 0.2079'</span>,\n",
       "    <span style=\"color: #008000; text-decoration-color: #008000\">'batches_per_min: 12.4740'</span>,\n",
       "    <span style=\"color: #008000; text-decoration-color: #008000\">'batches_per_hr: 748.4407'</span>,\n",
       "    <span style=\"color: #008000; text-decoration-color: #008000\">'samples_per_second: 29.9376'</span>,\n",
       "    <span style=\"color: #008000; text-decoration-color: #008000\">'samples_per_min: 1796.2578'</span>,\n",
       "    <span style=\"color: #008000; text-decoration-color: #008000\">'samples_per_hr: 1.078e+05'</span>,\n",
       "    <span style=\"color: #008000; text-decoration-color: #008000\">'batch_size: 144'</span>\n",
       "<span style=\"font-weight: bold\">]</span>\n",
       "</pre>\n"
      ],
      "text/plain": [
       "\u001b[1m[\u001b[0m\n",
       "    \u001b[32m'seconds_per_epoch: 303.11850311850316'\u001b[0m,\n",
       "    \u001b[32m'min_per_epoch: 5.0520'\u001b[0m,\n",
       "    \u001b[32m'hrs_per_epoch: 0.0842'\u001b[0m,\n",
       "    \u001b[32m'epochs_per_second: 0.0033'\u001b[0m,\n",
       "    \u001b[32m'epochs_per_min: 0.1979'\u001b[0m,\n",
       "    \u001b[32m'epochs_per_hr: 11.8765'\u001b[0m,\n",
       "    \u001b[32m'batches_per_epoch: 1458'\u001b[0m,\n",
       "    \u001b[32m'samples_per_epoch: 2.1e+05'\u001b[0m,\n",
       "    \u001b[32m'seconds_per_batch: 4.8100'\u001b[0m,\n",
       "    \u001b[32m'batches_per_second: 0.2079'\u001b[0m,\n",
       "    \u001b[32m'batches_per_min: 12.4740'\u001b[0m,\n",
       "    \u001b[32m'batches_per_hr: 748.4407'\u001b[0m,\n",
       "    \u001b[32m'samples_per_second: 29.9376'\u001b[0m,\n",
       "    \u001b[32m'samples_per_min: 1796.2578'\u001b[0m,\n",
       "    \u001b[32m'samples_per_hr: 1.078e+05'\u001b[0m,\n",
       "    \u001b[32m'batch_size: 144'\u001b[0m\n",
       "\u001b[1m]\u001b[0m\n"
      ]
     },
     "metadata": {},
     "output_type": "display_data"
    },
    {
     "name": "stdout",
     "output_type": "stream",
     "text": [
      "(Extrapolated prediction) Using 100% of samples\n"
     ]
    },
    {
     "data": {
      "text/html": [
       "<pre style=\"white-space:pre;overflow-x:auto;line-height:normal;font-family:Menlo,'DejaVu Sans Mono',consolas,'Courier New',monospace\"><span style=\"font-weight: bold\">[</span>\n",
       "    <span style=\"color: #008000; text-decoration-color: #008000\">'seconds_per_epoch: 606.2370062370063'</span>,\n",
       "    <span style=\"color: #008000; text-decoration-color: #008000\">'min_per_epoch: 10.1040'</span>,\n",
       "    <span style=\"color: #008000; text-decoration-color: #008000\">'hrs_per_epoch: 0.1684'</span>,\n",
       "    <span style=\"color: #008000; text-decoration-color: #008000\">'epochs_per_second: 0.0016'</span>,\n",
       "    <span style=\"color: #008000; text-decoration-color: #008000\">'epochs_per_min: 0.0990'</span>,\n",
       "    <span style=\"color: #008000; text-decoration-color: #008000\">'epochs_per_hr: 5.9383'</span>,\n",
       "    <span style=\"color: #008000; text-decoration-color: #008000\">'batches_per_epoch: 2916'</span>,\n",
       "    <span style=\"color: #008000; text-decoration-color: #008000\">'samples_per_epoch: 4.199e+05'</span>,\n",
       "    <span style=\"color: #008000; text-decoration-color: #008000\">'seconds_per_batch: 4.8100'</span>,\n",
       "    <span style=\"color: #008000; text-decoration-color: #008000\">'batches_per_second: 0.2079'</span>,\n",
       "    <span style=\"color: #008000; text-decoration-color: #008000\">'batches_per_min: 12.4740'</span>,\n",
       "    <span style=\"color: #008000; text-decoration-color: #008000\">'batches_per_hr: 748.4407'</span>,\n",
       "    <span style=\"color: #008000; text-decoration-color: #008000\">'samples_per_second: 29.9376'</span>,\n",
       "    <span style=\"color: #008000; text-decoration-color: #008000\">'samples_per_min: 1796.2578'</span>,\n",
       "    <span style=\"color: #008000; text-decoration-color: #008000\">'samples_per_hr: 1.078e+05'</span>,\n",
       "    <span style=\"color: #008000; text-decoration-color: #008000\">'batch_size: 144'</span>\n",
       "<span style=\"font-weight: bold\">]</span>\n",
       "</pre>\n"
      ],
      "text/plain": [
       "\u001b[1m[\u001b[0m\n",
       "    \u001b[32m'seconds_per_epoch: 606.2370062370063'\u001b[0m,\n",
       "    \u001b[32m'min_per_epoch: 10.1040'\u001b[0m,\n",
       "    \u001b[32m'hrs_per_epoch: 0.1684'\u001b[0m,\n",
       "    \u001b[32m'epochs_per_second: 0.0016'\u001b[0m,\n",
       "    \u001b[32m'epochs_per_min: 0.0990'\u001b[0m,\n",
       "    \u001b[32m'epochs_per_hr: 5.9383'\u001b[0m,\n",
       "    \u001b[32m'batches_per_epoch: 2916'\u001b[0m,\n",
       "    \u001b[32m'samples_per_epoch: 4.199e+05'\u001b[0m,\n",
       "    \u001b[32m'seconds_per_batch: 4.8100'\u001b[0m,\n",
       "    \u001b[32m'batches_per_second: 0.2079'\u001b[0m,\n",
       "    \u001b[32m'batches_per_min: 12.4740'\u001b[0m,\n",
       "    \u001b[32m'batches_per_hr: 748.4407'\u001b[0m,\n",
       "    \u001b[32m'samples_per_second: 29.9376'\u001b[0m,\n",
       "    \u001b[32m'samples_per_min: 1796.2578'\u001b[0m,\n",
       "    \u001b[32m'samples_per_hr: 1.078e+05'\u001b[0m,\n",
       "    \u001b[32m'batch_size: 144'\u001b[0m\n",
       "\u001b[1m]\u001b[0m\n"
      ]
     },
     "metadata": {},
     "output_type": "display_data"
    }
   ],
   "source": [
    "batches_per_second = (1/4.81)\n",
    "batches_per_epoch = 1458\n",
    "batch_size=144\n",
    "\n",
    "print(f\"Experiment #7: batch_size={batch_size}, num_processes=4, num_devices=2\")\n",
    "print(\"Using 50% of samples\")\n",
    "display_train_timing_info(batches_per_epoch=batches_per_epoch,\n",
    "                          batches_per_second=batches_per_second,\n",
    "                          batch_size=batch_size)\n",
    "\n",
    "print(\"(Extrapolated prediction) Using 100% of samples\")\n",
    "display_train_timing_info(batches_per_epoch=batches_per_epoch*2,\n",
    "                          batches_per_second=batches_per_second,\n",
    "                          batch_size=batch_size)"
   ]
  },
  {
   "cell_type": "markdown",
   "id": "6571f315-bb15-4abf-b7b7-30675b124d09",
   "metadata": {},
   "source": [
    "### Experiment #8\n",
    "\n",
    "- Using Accumulate_grad_batches=2\n",
    "- lr=1e-2\n",
    "\n",
    "- Removed base_callbacks.yaml:\n",
    "        -train.callbacks.lr_monitor \\\n",
    "        -train.callbacks.early_stopping \\\n",
    "        -train.callbacks.model_checkpoint\n",
    "\n",
    "\n",
    "Started: 9:00 AM - 2022-03-23  \n",
    "Ended:   x:xx AM - 2022-03-23  "
   ]
  },
  {
   "cell_type": "code",
   "execution_count": 10,
   "id": "178de244-5e73-4da4-acdc-74b19e41eee6",
   "metadata": {},
   "outputs": [
    {
     "name": "stdout",
     "output_type": "stream",
     "text": [
      "Experiment #8: batch_size=128, num_processes=4, num_devices=2\n",
      "Using 1% of samples\n"
     ]
    },
    {
     "data": {
      "text/html": [
       "<pre style=\"white-space:pre;overflow-x:auto;line-height:normal;font-family:Menlo,'DejaVu Sans Mono',consolas,'Courier New',monospace\"><span style=\"font-weight: bold\">[</span>\n",
       "    <span style=\"color: #008000; text-decoration-color: #008000\">'seconds_per_epoch: 53.755868544600936'</span>,\n",
       "    <span style=\"color: #008000; text-decoration-color: #008000\">'min_per_epoch: 0.8959'</span>,\n",
       "    <span style=\"color: #008000; text-decoration-color: #008000\">'hrs_per_epoch: 0.0149'</span>,\n",
       "    <span style=\"color: #008000; text-decoration-color: #008000\">'epochs_per_second: 0.0186'</span>,\n",
       "    <span style=\"color: #008000; text-decoration-color: #008000\">'epochs_per_min: 1.1162'</span>,\n",
       "    <span style=\"color: #008000; text-decoration-color: #008000\">'epochs_per_hr: 66.9694'</span>,\n",
       "    <span style=\"color: #008000; text-decoration-color: #008000\">'batches_per_epoch: 229'</span>,\n",
       "    <span style=\"color: #008000; text-decoration-color: #008000\">'samples_per_epoch: 2.931e+04'</span>,\n",
       "    <span style=\"color: #008000; text-decoration-color: #008000\">'seconds_per_batch: 4.2600'</span>,\n",
       "    <span style=\"color: #008000; text-decoration-color: #008000\">'batches_per_second: 0.2347'</span>,\n",
       "    <span style=\"color: #008000; text-decoration-color: #008000\">'batches_per_min: 14.0845'</span>,\n",
       "    <span style=\"color: #008000; text-decoration-color: #008000\">'batches_per_hr: 845.0704'</span>,\n",
       "    <span style=\"color: #008000; text-decoration-color: #008000\">'samples_per_second: 30.0469'</span>,\n",
       "    <span style=\"color: #008000; text-decoration-color: #008000\">'samples_per_min: 1802.8169'</span>,\n",
       "    <span style=\"color: #008000; text-decoration-color: #008000\">'samples_per_hr: 1.082e+05'</span>,\n",
       "    <span style=\"color: #008000; text-decoration-color: #008000\">'batch_size: 128'</span>\n",
       "<span style=\"font-weight: bold\">]</span>\n",
       "</pre>\n"
      ],
      "text/plain": [
       "\u001b[1m[\u001b[0m\n",
       "    \u001b[32m'seconds_per_epoch: 53.755868544600936'\u001b[0m,\n",
       "    \u001b[32m'min_per_epoch: 0.8959'\u001b[0m,\n",
       "    \u001b[32m'hrs_per_epoch: 0.0149'\u001b[0m,\n",
       "    \u001b[32m'epochs_per_second: 0.0186'\u001b[0m,\n",
       "    \u001b[32m'epochs_per_min: 1.1162'\u001b[0m,\n",
       "    \u001b[32m'epochs_per_hr: 66.9694'\u001b[0m,\n",
       "    \u001b[32m'batches_per_epoch: 229'\u001b[0m,\n",
       "    \u001b[32m'samples_per_epoch: 2.931e+04'\u001b[0m,\n",
       "    \u001b[32m'seconds_per_batch: 4.2600'\u001b[0m,\n",
       "    \u001b[32m'batches_per_second: 0.2347'\u001b[0m,\n",
       "    \u001b[32m'batches_per_min: 14.0845'\u001b[0m,\n",
       "    \u001b[32m'batches_per_hr: 845.0704'\u001b[0m,\n",
       "    \u001b[32m'samples_per_second: 30.0469'\u001b[0m,\n",
       "    \u001b[32m'samples_per_min: 1802.8169'\u001b[0m,\n",
       "    \u001b[32m'samples_per_hr: 1.082e+05'\u001b[0m,\n",
       "    \u001b[32m'batch_size: 128'\u001b[0m\n",
       "\u001b[1m]\u001b[0m\n"
      ]
     },
     "metadata": {},
     "output_type": "display_data"
    },
    {
     "name": "stdout",
     "output_type": "stream",
     "text": [
      "Using 50% of samples\n"
     ]
    },
    {
     "data": {
      "text/html": [
       "<pre style=\"white-space:pre;overflow-x:auto;line-height:normal;font-family:Menlo,'DejaVu Sans Mono',consolas,'Courier New',monospace\"><span style=\"font-weight: bold\">[</span>\n",
       "    <span style=\"color: #008000; text-decoration-color: #008000\">'seconds_per_epoch: 2,687.7934272300467'</span>,\n",
       "    <span style=\"color: #008000; text-decoration-color: #008000\">'min_per_epoch: 44.7966'</span>,\n",
       "    <span style=\"color: #008000; text-decoration-color: #008000\">'hrs_per_epoch: 0.7466'</span>,\n",
       "    <span style=\"color: #008000; text-decoration-color: #008000\">'epochs_per_second: 0.0004'</span>,\n",
       "    <span style=\"color: #008000; text-decoration-color: #008000\">'epochs_per_min: 0.0223'</span>,\n",
       "    <span style=\"color: #008000; text-decoration-color: #008000\">'epochs_per_hr: 1.3394'</span>,\n",
       "    <span style=\"color: #008000; text-decoration-color: #008000\">'batches_per_epoch: 1.145e+04'</span>,\n",
       "    <span style=\"color: #008000; text-decoration-color: #008000\">'samples_per_epoch: 1.466e+06'</span>,\n",
       "    <span style=\"color: #008000; text-decoration-color: #008000\">'seconds_per_batch: 4.2600'</span>,\n",
       "    <span style=\"color: #008000; text-decoration-color: #008000\">'batches_per_second: 0.2347'</span>,\n",
       "    <span style=\"color: #008000; text-decoration-color: #008000\">'batches_per_min: 14.0845'</span>,\n",
       "    <span style=\"color: #008000; text-decoration-color: #008000\">'batches_per_hr: 845.0704'</span>,\n",
       "    <span style=\"color: #008000; text-decoration-color: #008000\">'samples_per_second: 30.0469'</span>,\n",
       "    <span style=\"color: #008000; text-decoration-color: #008000\">'samples_per_min: 1802.8169'</span>,\n",
       "    <span style=\"color: #008000; text-decoration-color: #008000\">'samples_per_hr: 1.082e+05'</span>,\n",
       "    <span style=\"color: #008000; text-decoration-color: #008000\">'batch_size: 128'</span>\n",
       "<span style=\"font-weight: bold\">]</span>\n",
       "</pre>\n"
      ],
      "text/plain": [
       "\u001b[1m[\u001b[0m\n",
       "    \u001b[32m'seconds_per_epoch: 2,687.7934272300467'\u001b[0m,\n",
       "    \u001b[32m'min_per_epoch: 44.7966'\u001b[0m,\n",
       "    \u001b[32m'hrs_per_epoch: 0.7466'\u001b[0m,\n",
       "    \u001b[32m'epochs_per_second: 0.0004'\u001b[0m,\n",
       "    \u001b[32m'epochs_per_min: 0.0223'\u001b[0m,\n",
       "    \u001b[32m'epochs_per_hr: 1.3394'\u001b[0m,\n",
       "    \u001b[32m'batches_per_epoch: 1.145e+04'\u001b[0m,\n",
       "    \u001b[32m'samples_per_epoch: 1.466e+06'\u001b[0m,\n",
       "    \u001b[32m'seconds_per_batch: 4.2600'\u001b[0m,\n",
       "    \u001b[32m'batches_per_second: 0.2347'\u001b[0m,\n",
       "    \u001b[32m'batches_per_min: 14.0845'\u001b[0m,\n",
       "    \u001b[32m'batches_per_hr: 845.0704'\u001b[0m,\n",
       "    \u001b[32m'samples_per_second: 30.0469'\u001b[0m,\n",
       "    \u001b[32m'samples_per_min: 1802.8169'\u001b[0m,\n",
       "    \u001b[32m'samples_per_hr: 1.082e+05'\u001b[0m,\n",
       "    \u001b[32m'batch_size: 128'\u001b[0m\n",
       "\u001b[1m]\u001b[0m\n"
      ]
     },
     "metadata": {},
     "output_type": "display_data"
    },
    {
     "name": "stdout",
     "output_type": "stream",
     "text": [
      "(Extrapolated prediction) Using 100% of samples\n"
     ]
    },
    {
     "data": {
      "text/html": [
       "<pre style=\"white-space:pre;overflow-x:auto;line-height:normal;font-family:Menlo,'DejaVu Sans Mono',consolas,'Courier New',monospace\"><span style=\"font-weight: bold\">[</span>\n",
       "    <span style=\"color: #008000; text-decoration-color: #008000\">'seconds_per_epoch: 5,375.5868544600935'</span>,\n",
       "    <span style=\"color: #008000; text-decoration-color: #008000\">'min_per_epoch: 89.5931'</span>,\n",
       "    <span style=\"color: #008000; text-decoration-color: #008000\">'hrs_per_epoch: 1.4932'</span>,\n",
       "    <span style=\"color: #008000; text-decoration-color: #008000\">'epochs_per_second: 0.0002'</span>,\n",
       "    <span style=\"color: #008000; text-decoration-color: #008000\">'epochs_per_min: 0.0112'</span>,\n",
       "    <span style=\"color: #008000; text-decoration-color: #008000\">'epochs_per_hr: 0.6697'</span>,\n",
       "    <span style=\"color: #008000; text-decoration-color: #008000\">'batches_per_epoch: 2.29e+04'</span>,\n",
       "    <span style=\"color: #008000; text-decoration-color: #008000\">'samples_per_epoch: 2.931e+06'</span>,\n",
       "    <span style=\"color: #008000; text-decoration-color: #008000\">'seconds_per_batch: 4.2600'</span>,\n",
       "    <span style=\"color: #008000; text-decoration-color: #008000\">'batches_per_second: 0.2347'</span>,\n",
       "    <span style=\"color: #008000; text-decoration-color: #008000\">'batches_per_min: 14.0845'</span>,\n",
       "    <span style=\"color: #008000; text-decoration-color: #008000\">'batches_per_hr: 845.0704'</span>,\n",
       "    <span style=\"color: #008000; text-decoration-color: #008000\">'samples_per_second: 30.0469'</span>,\n",
       "    <span style=\"color: #008000; text-decoration-color: #008000\">'samples_per_min: 1802.8169'</span>,\n",
       "    <span style=\"color: #008000; text-decoration-color: #008000\">'samples_per_hr: 1.082e+05'</span>,\n",
       "    <span style=\"color: #008000; text-decoration-color: #008000\">'batch_size: 128'</span>\n",
       "<span style=\"font-weight: bold\">]</span>\n",
       "</pre>\n"
      ],
      "text/plain": [
       "\u001b[1m[\u001b[0m\n",
       "    \u001b[32m'seconds_per_epoch: 5,375.5868544600935'\u001b[0m,\n",
       "    \u001b[32m'min_per_epoch: 89.5931'\u001b[0m,\n",
       "    \u001b[32m'hrs_per_epoch: 1.4932'\u001b[0m,\n",
       "    \u001b[32m'epochs_per_second: 0.0002'\u001b[0m,\n",
       "    \u001b[32m'epochs_per_min: 0.0112'\u001b[0m,\n",
       "    \u001b[32m'epochs_per_hr: 0.6697'\u001b[0m,\n",
       "    \u001b[32m'batches_per_epoch: 2.29e+04'\u001b[0m,\n",
       "    \u001b[32m'samples_per_epoch: 2.931e+06'\u001b[0m,\n",
       "    \u001b[32m'seconds_per_batch: 4.2600'\u001b[0m,\n",
       "    \u001b[32m'batches_per_second: 0.2347'\u001b[0m,\n",
       "    \u001b[32m'batches_per_min: 14.0845'\u001b[0m,\n",
       "    \u001b[32m'batches_per_hr: 845.0704'\u001b[0m,\n",
       "    \u001b[32m'samples_per_second: 30.0469'\u001b[0m,\n",
       "    \u001b[32m'samples_per_min: 1802.8169'\u001b[0m,\n",
       "    \u001b[32m'samples_per_hr: 1.082e+05'\u001b[0m,\n",
       "    \u001b[32m'batch_size: 128'\u001b[0m\n",
       "\u001b[1m]\u001b[0m\n"
      ]
     },
     "metadata": {},
     "output_type": "display_data"
    }
   ],
   "source": [
    "batches_per_second = (1/ 4.26)\n",
    "batches_per_epoch = 229\n",
    "batch_size=128\n",
    "\n",
    "print(f\"Experiment #8: batch_size={batch_size}, num_processes=4, num_devices=2\")\n",
    "\n",
    "\n",
    "print(\"Using 1% of samples\")\n",
    "display_train_timing_info(batches_per_epoch=batches_per_epoch,\n",
    "                          batches_per_second=batches_per_second,\n",
    "                          batch_size=batch_size)\n",
    "\n",
    "\n",
    "print(\"Using 50% of samples\")\n",
    "display_train_timing_info(batches_per_epoch=batches_per_epoch*50,\n",
    "                          batches_per_second=batches_per_second,\n",
    "                          batch_size=batch_size)\n",
    "\n",
    "print(\"(Extrapolated prediction) Using 100% of samples\")\n",
    "display_train_timing_info(batches_per_epoch=batches_per_epoch*100,\n",
    "                          batches_per_second=batches_per_second,\n",
    "                          batch_size=batch_size)"
   ]
  },
  {
   "cell_type": "markdown",
   "id": "84d99f68-5a53-4ed9-b812-ef5dcf90201b",
   "metadata": {},
   "source": [
    "### Experiment #11\n",
    "\n",
    "- Using Accumulate_grad_batches=1\n",
    "- lr=0.5e-3\n",
    "- freeze_backbone_up_to=-4\n",
    "\n",
    "\n",
    "Started: 12:25 PM - 2022-03-23  \n",
    "Ended:   2:55 PM - 2022-03-23  "
   ]
  },
  {
   "cell_type": "code",
   "execution_count": 11,
   "id": "373d5dc0-fb8b-4764-92c4-3f4529c01977",
   "metadata": {},
   "outputs": [
    {
     "name": "stdout",
     "output_type": "stream",
     "text": [
      "Experiment #11: batch_size=128, num_processes=4, num_devices=2\n",
      "Using 1% of samples\n"
     ]
    },
    {
     "data": {
      "text/html": [
       "<pre style=\"white-space:pre;overflow-x:auto;line-height:normal;font-family:Menlo,'DejaVu Sans Mono',consolas,'Courier New',monospace\"><span style=\"font-weight: bold\">[</span>\n",
       "    <span style=\"color: #008000; text-decoration-color: #008000\">'seconds_per_epoch: 724.5033112582781'</span>,\n",
       "    <span style=\"color: #008000; text-decoration-color: #008000\">'min_per_epoch: 12.0751'</span>,\n",
       "    <span style=\"color: #008000; text-decoration-color: #008000\">'hrs_per_epoch: 0.2013'</span>,\n",
       "    <span style=\"color: #008000; text-decoration-color: #008000\">'epochs_per_second: 0.0014'</span>,\n",
       "    <span style=\"color: #008000; text-decoration-color: #008000\">'epochs_per_min: 0.0828'</span>,\n",
       "    <span style=\"color: #008000; text-decoration-color: #008000\">'epochs_per_hr: 4.9689'</span>,\n",
       "    <span style=\"color: #008000; text-decoration-color: #008000\">'batches_per_epoch: 3282'</span>,\n",
       "    <span style=\"color: #008000; text-decoration-color: #008000\">'samples_per_epoch: 4.201e+05'</span>,\n",
       "    <span style=\"color: #008000; text-decoration-color: #008000\">'seconds_per_batch: 4.5300'</span>,\n",
       "    <span style=\"color: #008000; text-decoration-color: #008000\">'batches_per_second: 0.2208'</span>,\n",
       "    <span style=\"color: #008000; text-decoration-color: #008000\">'batches_per_min: 13.2450'</span>,\n",
       "    <span style=\"color: #008000; text-decoration-color: #008000\">'batches_per_hr: 794.7020'</span>,\n",
       "    <span style=\"color: #008000; text-decoration-color: #008000\">'samples_per_second: 28.2561'</span>,\n",
       "    <span style=\"color: #008000; text-decoration-color: #008000\">'samples_per_min: 1695.3642'</span>,\n",
       "    <span style=\"color: #008000; text-decoration-color: #008000\">'samples_per_hr: 1.017e+05'</span>,\n",
       "    <span style=\"color: #008000; text-decoration-color: #008000\">'batch_size: 128'</span>\n",
       "<span style=\"font-weight: bold\">]</span>\n",
       "</pre>\n"
      ],
      "text/plain": [
       "\u001b[1m[\u001b[0m\n",
       "    \u001b[32m'seconds_per_epoch: 724.5033112582781'\u001b[0m,\n",
       "    \u001b[32m'min_per_epoch: 12.0751'\u001b[0m,\n",
       "    \u001b[32m'hrs_per_epoch: 0.2013'\u001b[0m,\n",
       "    \u001b[32m'epochs_per_second: 0.0014'\u001b[0m,\n",
       "    \u001b[32m'epochs_per_min: 0.0828'\u001b[0m,\n",
       "    \u001b[32m'epochs_per_hr: 4.9689'\u001b[0m,\n",
       "    \u001b[32m'batches_per_epoch: 3282'\u001b[0m,\n",
       "    \u001b[32m'samples_per_epoch: 4.201e+05'\u001b[0m,\n",
       "    \u001b[32m'seconds_per_batch: 4.5300'\u001b[0m,\n",
       "    \u001b[32m'batches_per_second: 0.2208'\u001b[0m,\n",
       "    \u001b[32m'batches_per_min: 13.2450'\u001b[0m,\n",
       "    \u001b[32m'batches_per_hr: 794.7020'\u001b[0m,\n",
       "    \u001b[32m'samples_per_second: 28.2561'\u001b[0m,\n",
       "    \u001b[32m'samples_per_min: 1695.3642'\u001b[0m,\n",
       "    \u001b[32m'samples_per_hr: 1.017e+05'\u001b[0m,\n",
       "    \u001b[32m'batch_size: 128'\u001b[0m\n",
       "\u001b[1m]\u001b[0m\n"
      ]
     },
     "metadata": {},
     "output_type": "display_data"
    },
    {
     "name": "stdout",
     "output_type": "stream",
     "text": [
      "Using 50% of samples\n"
     ]
    },
    {
     "data": {
      "text/html": [
       "<pre style=\"white-space:pre;overflow-x:auto;line-height:normal;font-family:Menlo,'DejaVu Sans Mono',consolas,'Courier New',monospace\"><span style=\"font-weight: bold\">[</span>\n",
       "    <span style=\"color: #008000; text-decoration-color: #008000\">'seconds_per_epoch: 36,225.165562913906'</span>,\n",
       "    <span style=\"color: #008000; text-decoration-color: #008000\">'min_per_epoch: 603.7528'</span>,\n",
       "    <span style=\"color: #008000; text-decoration-color: #008000\">'hrs_per_epoch: 10.0625'</span>,\n",
       "    <span style=\"color: #008000; text-decoration-color: #008000\">'epochs_per_second: 0.0000'</span>,\n",
       "    <span style=\"color: #008000; text-decoration-color: #008000\">'epochs_per_min: 0.0017'</span>,\n",
       "    <span style=\"color: #008000; text-decoration-color: #008000\">'epochs_per_hr: 0.0994'</span>,\n",
       "    <span style=\"color: #008000; text-decoration-color: #008000\">'batches_per_epoch: 1.641e+05'</span>,\n",
       "    <span style=\"color: #008000; text-decoration-color: #008000\">'samples_per_epoch: 2.1e+07'</span>,\n",
       "    <span style=\"color: #008000; text-decoration-color: #008000\">'seconds_per_batch: 4.5300'</span>,\n",
       "    <span style=\"color: #008000; text-decoration-color: #008000\">'batches_per_second: 0.2208'</span>,\n",
       "    <span style=\"color: #008000; text-decoration-color: #008000\">'batches_per_min: 13.2450'</span>,\n",
       "    <span style=\"color: #008000; text-decoration-color: #008000\">'batches_per_hr: 794.7020'</span>,\n",
       "    <span style=\"color: #008000; text-decoration-color: #008000\">'samples_per_second: 28.2561'</span>,\n",
       "    <span style=\"color: #008000; text-decoration-color: #008000\">'samples_per_min: 1695.3642'</span>,\n",
       "    <span style=\"color: #008000; text-decoration-color: #008000\">'samples_per_hr: 1.017e+05'</span>,\n",
       "    <span style=\"color: #008000; text-decoration-color: #008000\">'batch_size: 128'</span>\n",
       "<span style=\"font-weight: bold\">]</span>\n",
       "</pre>\n"
      ],
      "text/plain": [
       "\u001b[1m[\u001b[0m\n",
       "    \u001b[32m'seconds_per_epoch: 36,225.165562913906'\u001b[0m,\n",
       "    \u001b[32m'min_per_epoch: 603.7528'\u001b[0m,\n",
       "    \u001b[32m'hrs_per_epoch: 10.0625'\u001b[0m,\n",
       "    \u001b[32m'epochs_per_second: 0.0000'\u001b[0m,\n",
       "    \u001b[32m'epochs_per_min: 0.0017'\u001b[0m,\n",
       "    \u001b[32m'epochs_per_hr: 0.0994'\u001b[0m,\n",
       "    \u001b[32m'batches_per_epoch: 1.641e+05'\u001b[0m,\n",
       "    \u001b[32m'samples_per_epoch: 2.1e+07'\u001b[0m,\n",
       "    \u001b[32m'seconds_per_batch: 4.5300'\u001b[0m,\n",
       "    \u001b[32m'batches_per_second: 0.2208'\u001b[0m,\n",
       "    \u001b[32m'batches_per_min: 13.2450'\u001b[0m,\n",
       "    \u001b[32m'batches_per_hr: 794.7020'\u001b[0m,\n",
       "    \u001b[32m'samples_per_second: 28.2561'\u001b[0m,\n",
       "    \u001b[32m'samples_per_min: 1695.3642'\u001b[0m,\n",
       "    \u001b[32m'samples_per_hr: 1.017e+05'\u001b[0m,\n",
       "    \u001b[32m'batch_size: 128'\u001b[0m\n",
       "\u001b[1m]\u001b[0m\n"
      ]
     },
     "metadata": {},
     "output_type": "display_data"
    },
    {
     "name": "stdout",
     "output_type": "stream",
     "text": [
      "(Extrapolated prediction) Using 100% of samples\n"
     ]
    },
    {
     "data": {
      "text/html": [
       "<pre style=\"white-space:pre;overflow-x:auto;line-height:normal;font-family:Menlo,'DejaVu Sans Mono',consolas,'Courier New',monospace\"><span style=\"font-weight: bold\">[</span>\n",
       "    <span style=\"color: #008000; text-decoration-color: #008000\">'seconds_per_epoch: 72,450.33112582781'</span>,\n",
       "    <span style=\"color: #008000; text-decoration-color: #008000\">'min_per_epoch: 1207.5055'</span>,\n",
       "    <span style=\"color: #008000; text-decoration-color: #008000\">'hrs_per_epoch: 20.1251'</span>,\n",
       "    <span style=\"color: #008000; text-decoration-color: #008000\">'epochs_per_second: 0.0000'</span>,\n",
       "    <span style=\"color: #008000; text-decoration-color: #008000\">'epochs_per_min: 0.0008'</span>,\n",
       "    <span style=\"color: #008000; text-decoration-color: #008000\">'epochs_per_hr: 0.0497'</span>,\n",
       "    <span style=\"color: #008000; text-decoration-color: #008000\">'batches_per_epoch: 3.282e+05'</span>,\n",
       "    <span style=\"color: #008000; text-decoration-color: #008000\">'samples_per_epoch: 4.201e+07'</span>,\n",
       "    <span style=\"color: #008000; text-decoration-color: #008000\">'seconds_per_batch: 4.5300'</span>,\n",
       "    <span style=\"color: #008000; text-decoration-color: #008000\">'batches_per_second: 0.2208'</span>,\n",
       "    <span style=\"color: #008000; text-decoration-color: #008000\">'batches_per_min: 13.2450'</span>,\n",
       "    <span style=\"color: #008000; text-decoration-color: #008000\">'batches_per_hr: 794.7020'</span>,\n",
       "    <span style=\"color: #008000; text-decoration-color: #008000\">'samples_per_second: 28.2561'</span>,\n",
       "    <span style=\"color: #008000; text-decoration-color: #008000\">'samples_per_min: 1695.3642'</span>,\n",
       "    <span style=\"color: #008000; text-decoration-color: #008000\">'samples_per_hr: 1.017e+05'</span>,\n",
       "    <span style=\"color: #008000; text-decoration-color: #008000\">'batch_size: 128'</span>\n",
       "<span style=\"font-weight: bold\">]</span>\n",
       "</pre>\n"
      ],
      "text/plain": [
       "\u001b[1m[\u001b[0m\n",
       "    \u001b[32m'seconds_per_epoch: 72,450.33112582781'\u001b[0m,\n",
       "    \u001b[32m'min_per_epoch: 1207.5055'\u001b[0m,\n",
       "    \u001b[32m'hrs_per_epoch: 20.1251'\u001b[0m,\n",
       "    \u001b[32m'epochs_per_second: 0.0000'\u001b[0m,\n",
       "    \u001b[32m'epochs_per_min: 0.0008'\u001b[0m,\n",
       "    \u001b[32m'epochs_per_hr: 0.0497'\u001b[0m,\n",
       "    \u001b[32m'batches_per_epoch: 3.282e+05'\u001b[0m,\n",
       "    \u001b[32m'samples_per_epoch: 4.201e+07'\u001b[0m,\n",
       "    \u001b[32m'seconds_per_batch: 4.5300'\u001b[0m,\n",
       "    \u001b[32m'batches_per_second: 0.2208'\u001b[0m,\n",
       "    \u001b[32m'batches_per_min: 13.2450'\u001b[0m,\n",
       "    \u001b[32m'batches_per_hr: 794.7020'\u001b[0m,\n",
       "    \u001b[32m'samples_per_second: 28.2561'\u001b[0m,\n",
       "    \u001b[32m'samples_per_min: 1695.3642'\u001b[0m,\n",
       "    \u001b[32m'samples_per_hr: 1.017e+05'\u001b[0m,\n",
       "    \u001b[32m'batch_size: 128'\u001b[0m\n",
       "\u001b[1m]\u001b[0m\n"
      ]
     },
     "metadata": {},
     "output_type": "display_data"
    }
   ],
   "source": [
    "batches_per_second = (1/ 4.53)\n",
    "batches_per_epoch = 3282\n",
    "batch_size=128\n",
    "\n",
    "print(f\"Experiment #11: batch_size={batch_size}, num_processes=4, num_devices=2\")\n",
    "\n",
    "\n",
    "print(\"Using 1% of samples\")\n",
    "display_train_timing_info(batches_per_epoch=batches_per_epoch,\n",
    "                          batches_per_second=batches_per_second,\n",
    "                          batch_size=batch_size)\n",
    "\n",
    "\n",
    "print(\"Using 50% of samples\")\n",
    "display_train_timing_info(batches_per_epoch=batches_per_epoch*50,\n",
    "                          batches_per_second=batches_per_second,\n",
    "                          batch_size=batch_size)\n",
    "\n",
    "print(\"(Extrapolated prediction) Using 100% of samples\")\n",
    "display_train_timing_info(batches_per_epoch=batches_per_epoch*100,\n",
    "                          batches_per_second=batches_per_second,\n",
    "                          batch_size=batch_size)"
   ]
  },
  {
   "cell_type": "markdown",
   "id": "88b4c7bc-73a0-4890-8b37-208b8daeb637",
   "metadata": {},
   "source": [
    "### Experiment #12\n",
    "\n",
    "- Using Accumulate_grad_batches=1\n",
    "- lr=1e-2\n",
    "- freeze_backbone_up_to=-4\n",
    "- batch_size=128\n",
    "- preprocess_size=256\n",
    "- resolution=224\n",
    "\n",
    "\n",
    "Started: 3:00 PM - 2022-03-23  \n",
    "Ended:   x:xx AM - 2022-03-23  "
   ]
  },
  {
   "cell_type": "code",
   "execution_count": 12,
   "id": "fe2ebcf1-d775-4c8c-bde6-fbecfa379671",
   "metadata": {},
   "outputs": [
    {
     "name": "stdout",
     "output_type": "stream",
     "text": [
      "Experiment #8: batch_size=128, num_processes=4, num_devices=2\n",
      "Using 100% of samples\n"
     ]
    },
    {
     "data": {
      "text/html": [
       "<pre style=\"white-space:pre;overflow-x:auto;line-height:normal;font-family:Menlo,'DejaVu Sans Mono',consolas,'Courier New',monospace\"><span style=\"font-weight: bold\">[</span>\n",
       "    <span style=\"color: #008000; text-decoration-color: #008000\">'seconds_per_epoch: 1,272.093023255814'</span>,\n",
       "    <span style=\"color: #008000; text-decoration-color: #008000\">'min_per_epoch: 21.2016'</span>,\n",
       "    <span style=\"color: #008000; text-decoration-color: #008000\">'hrs_per_epoch: 0.3534'</span>,\n",
       "    <span style=\"color: #008000; text-decoration-color: #008000\">'epochs_per_second: 0.0008'</span>,\n",
       "    <span style=\"color: #008000; text-decoration-color: #008000\">'epochs_per_min: 0.0472'</span>,\n",
       "    <span style=\"color: #008000; text-decoration-color: #008000\">'epochs_per_hr: 2.8300'</span>,\n",
       "    <span style=\"color: #008000; text-decoration-color: #008000\">'batches_per_epoch: 3282'</span>,\n",
       "    <span style=\"color: #008000; text-decoration-color: #008000\">'samples_per_epoch: 4.201e+05'</span>,\n",
       "    <span style=\"color: #008000; text-decoration-color: #008000\">'seconds_per_batch: 2.5800'</span>,\n",
       "    <span style=\"color: #008000; text-decoration-color: #008000\">'batches_per_second: 0.3876'</span>,\n",
       "    <span style=\"color: #008000; text-decoration-color: #008000\">'batches_per_min: 23.2558'</span>,\n",
       "    <span style=\"color: #008000; text-decoration-color: #008000\">'batches_per_hr: 1395.3488'</span>,\n",
       "    <span style=\"color: #008000; text-decoration-color: #008000\">'samples_per_second: 49.6124'</span>,\n",
       "    <span style=\"color: #008000; text-decoration-color: #008000\">'samples_per_min: 2976.7442'</span>,\n",
       "    <span style=\"color: #008000; text-decoration-color: #008000\">'samples_per_hr: 1.786e+05'</span>,\n",
       "    <span style=\"color: #008000; text-decoration-color: #008000\">'batch_size: 128'</span>\n",
       "<span style=\"font-weight: bold\">]</span>\n",
       "</pre>\n"
      ],
      "text/plain": [
       "\u001b[1m[\u001b[0m\n",
       "    \u001b[32m'seconds_per_epoch: 1,272.093023255814'\u001b[0m,\n",
       "    \u001b[32m'min_per_epoch: 21.2016'\u001b[0m,\n",
       "    \u001b[32m'hrs_per_epoch: 0.3534'\u001b[0m,\n",
       "    \u001b[32m'epochs_per_second: 0.0008'\u001b[0m,\n",
       "    \u001b[32m'epochs_per_min: 0.0472'\u001b[0m,\n",
       "    \u001b[32m'epochs_per_hr: 2.8300'\u001b[0m,\n",
       "    \u001b[32m'batches_per_epoch: 3282'\u001b[0m,\n",
       "    \u001b[32m'samples_per_epoch: 4.201e+05'\u001b[0m,\n",
       "    \u001b[32m'seconds_per_batch: 2.5800'\u001b[0m,\n",
       "    \u001b[32m'batches_per_second: 0.3876'\u001b[0m,\n",
       "    \u001b[32m'batches_per_min: 23.2558'\u001b[0m,\n",
       "    \u001b[32m'batches_per_hr: 1395.3488'\u001b[0m,\n",
       "    \u001b[32m'samples_per_second: 49.6124'\u001b[0m,\n",
       "    \u001b[32m'samples_per_min: 2976.7442'\u001b[0m,\n",
       "    \u001b[32m'samples_per_hr: 1.786e+05'\u001b[0m,\n",
       "    \u001b[32m'batch_size: 128'\u001b[0m\n",
       "\u001b[1m]\u001b[0m\n"
      ]
     },
     "metadata": {},
     "output_type": "display_data"
    },
    {
     "name": "stdout",
     "output_type": "stream",
     "text": [
      "Using 50% of samples\n"
     ]
    },
    {
     "data": {
      "text/html": [
       "<pre style=\"white-space:pre;overflow-x:auto;line-height:normal;font-family:Menlo,'DejaVu Sans Mono',consolas,'Courier New',monospace\"><span style=\"font-weight: bold\">[</span>\n",
       "    <span style=\"color: #008000; text-decoration-color: #008000\">'seconds_per_epoch: 636.046511627907'</span>,\n",
       "    <span style=\"color: #008000; text-decoration-color: #008000\">'min_per_epoch: 10.6008'</span>,\n",
       "    <span style=\"color: #008000; text-decoration-color: #008000\">'hrs_per_epoch: 0.1767'</span>,\n",
       "    <span style=\"color: #008000; text-decoration-color: #008000\">'epochs_per_second: 0.0016'</span>,\n",
       "    <span style=\"color: #008000; text-decoration-color: #008000\">'epochs_per_min: 0.0943'</span>,\n",
       "    <span style=\"color: #008000; text-decoration-color: #008000\">'epochs_per_hr: 5.6600'</span>,\n",
       "    <span style=\"color: #008000; text-decoration-color: #008000\">'batches_per_epoch: 1641'</span>,\n",
       "    <span style=\"color: #008000; text-decoration-color: #008000\">'samples_per_epoch: 2.1e+05'</span>,\n",
       "    <span style=\"color: #008000; text-decoration-color: #008000\">'seconds_per_batch: 2.5800'</span>,\n",
       "    <span style=\"color: #008000; text-decoration-color: #008000\">'batches_per_second: 0.3876'</span>,\n",
       "    <span style=\"color: #008000; text-decoration-color: #008000\">'batches_per_min: 23.2558'</span>,\n",
       "    <span style=\"color: #008000; text-decoration-color: #008000\">'batches_per_hr: 1395.3488'</span>,\n",
       "    <span style=\"color: #008000; text-decoration-color: #008000\">'samples_per_second: 49.6124'</span>,\n",
       "    <span style=\"color: #008000; text-decoration-color: #008000\">'samples_per_min: 2976.7442'</span>,\n",
       "    <span style=\"color: #008000; text-decoration-color: #008000\">'samples_per_hr: 1.786e+05'</span>,\n",
       "    <span style=\"color: #008000; text-decoration-color: #008000\">'batch_size: 128'</span>\n",
       "<span style=\"font-weight: bold\">]</span>\n",
       "</pre>\n"
      ],
      "text/plain": [
       "\u001b[1m[\u001b[0m\n",
       "    \u001b[32m'seconds_per_epoch: 636.046511627907'\u001b[0m,\n",
       "    \u001b[32m'min_per_epoch: 10.6008'\u001b[0m,\n",
       "    \u001b[32m'hrs_per_epoch: 0.1767'\u001b[0m,\n",
       "    \u001b[32m'epochs_per_second: 0.0016'\u001b[0m,\n",
       "    \u001b[32m'epochs_per_min: 0.0943'\u001b[0m,\n",
       "    \u001b[32m'epochs_per_hr: 5.6600'\u001b[0m,\n",
       "    \u001b[32m'batches_per_epoch: 1641'\u001b[0m,\n",
       "    \u001b[32m'samples_per_epoch: 2.1e+05'\u001b[0m,\n",
       "    \u001b[32m'seconds_per_batch: 2.5800'\u001b[0m,\n",
       "    \u001b[32m'batches_per_second: 0.3876'\u001b[0m,\n",
       "    \u001b[32m'batches_per_min: 23.2558'\u001b[0m,\n",
       "    \u001b[32m'batches_per_hr: 1395.3488'\u001b[0m,\n",
       "    \u001b[32m'samples_per_second: 49.6124'\u001b[0m,\n",
       "    \u001b[32m'samples_per_min: 2976.7442'\u001b[0m,\n",
       "    \u001b[32m'samples_per_hr: 1.786e+05'\u001b[0m,\n",
       "    \u001b[32m'batch_size: 128'\u001b[0m\n",
       "\u001b[1m]\u001b[0m\n"
      ]
     },
     "metadata": {},
     "output_type": "display_data"
    },
    {
     "name": "stdout",
     "output_type": "stream",
     "text": [
      "(Extrapolated prediction) Using 1% of samples\n"
     ]
    },
    {
     "data": {
      "text/html": [
       "<pre style=\"white-space:pre;overflow-x:auto;line-height:normal;font-family:Menlo,'DejaVu Sans Mono',consolas,'Courier New',monospace\"><span style=\"font-weight: bold\">[</span>\n",
       "    <span style=\"color: #008000; text-decoration-color: #008000\">'seconds_per_epoch: 12.720930232558139'</span>,\n",
       "    <span style=\"color: #008000; text-decoration-color: #008000\">'min_per_epoch: 0.2120'</span>,\n",
       "    <span style=\"color: #008000; text-decoration-color: #008000\">'hrs_per_epoch: 0.0035'</span>,\n",
       "    <span style=\"color: #008000; text-decoration-color: #008000\">'epochs_per_second: 0.0786'</span>,\n",
       "    <span style=\"color: #008000; text-decoration-color: #008000\">'epochs_per_min: 4.7166'</span>,\n",
       "    <span style=\"color: #008000; text-decoration-color: #008000\">'epochs_per_hr: 282.9982'</span>,\n",
       "    <span style=\"color: #008000; text-decoration-color: #008000\">'batches_per_epoch: 32.82'</span>,\n",
       "    <span style=\"color: #008000; text-decoration-color: #008000\">'samples_per_epoch: 4201'</span>,\n",
       "    <span style=\"color: #008000; text-decoration-color: #008000\">'seconds_per_batch: 2.5800'</span>,\n",
       "    <span style=\"color: #008000; text-decoration-color: #008000\">'batches_per_second: 0.3876'</span>,\n",
       "    <span style=\"color: #008000; text-decoration-color: #008000\">'batches_per_min: 23.2558'</span>,\n",
       "    <span style=\"color: #008000; text-decoration-color: #008000\">'batches_per_hr: 1395.3488'</span>,\n",
       "    <span style=\"color: #008000; text-decoration-color: #008000\">'samples_per_second: 49.6124'</span>,\n",
       "    <span style=\"color: #008000; text-decoration-color: #008000\">'samples_per_min: 2976.7442'</span>,\n",
       "    <span style=\"color: #008000; text-decoration-color: #008000\">'samples_per_hr: 1.786e+05'</span>,\n",
       "    <span style=\"color: #008000; text-decoration-color: #008000\">'batch_size: 128'</span>\n",
       "<span style=\"font-weight: bold\">]</span>\n",
       "</pre>\n"
      ],
      "text/plain": [
       "\u001b[1m[\u001b[0m\n",
       "    \u001b[32m'seconds_per_epoch: 12.720930232558139'\u001b[0m,\n",
       "    \u001b[32m'min_per_epoch: 0.2120'\u001b[0m,\n",
       "    \u001b[32m'hrs_per_epoch: 0.0035'\u001b[0m,\n",
       "    \u001b[32m'epochs_per_second: 0.0786'\u001b[0m,\n",
       "    \u001b[32m'epochs_per_min: 4.7166'\u001b[0m,\n",
       "    \u001b[32m'epochs_per_hr: 282.9982'\u001b[0m,\n",
       "    \u001b[32m'batches_per_epoch: 32.82'\u001b[0m,\n",
       "    \u001b[32m'samples_per_epoch: 4201'\u001b[0m,\n",
       "    \u001b[32m'seconds_per_batch: 2.5800'\u001b[0m,\n",
       "    \u001b[32m'batches_per_second: 0.3876'\u001b[0m,\n",
       "    \u001b[32m'batches_per_min: 23.2558'\u001b[0m,\n",
       "    \u001b[32m'batches_per_hr: 1395.3488'\u001b[0m,\n",
       "    \u001b[32m'samples_per_second: 49.6124'\u001b[0m,\n",
       "    \u001b[32m'samples_per_min: 2976.7442'\u001b[0m,\n",
       "    \u001b[32m'samples_per_hr: 1.786e+05'\u001b[0m,\n",
       "    \u001b[32m'batch_size: 128'\u001b[0m\n",
       "\u001b[1m]\u001b[0m\n"
      ]
     },
     "metadata": {},
     "output_type": "display_data"
    }
   ],
   "source": [
    "batches_per_second = (1/ 2.58)\n",
    "batches_per_epoch = 3282\n",
    "batch_size=128\n",
    "\n",
    "print(f\"Experiment #8: batch_size={batch_size}, num_processes=4, num_devices=2\")\n",
    "\n",
    "\n",
    "print(\"Using 100% of samples\")\n",
    "display_train_timing_info(batches_per_epoch=batches_per_epoch,\n",
    "                          batches_per_second=batches_per_second,\n",
    "                          batch_size=batch_size)\n",
    "\n",
    "\n",
    "print(\"Using 50% of samples\")\n",
    "display_train_timing_info(batches_per_epoch=batches_per_epoch/2,\n",
    "                          batches_per_second=batches_per_second,\n",
    "                          batch_size=batch_size)\n",
    "\n",
    "print(\"(Extrapolated prediction) Using 1% of samples\")\n",
    "display_train_timing_info(batches_per_epoch=batches_per_epoch/100,\n",
    "                          batches_per_second=batches_per_second,\n",
    "                          batch_size=batch_size)"
   ]
  },
  {
   "cell_type": "markdown",
   "id": "bcbed5c7-aa82-423a-af6c-5634cfe43a32",
   "metadata": {},
   "source": [
    "### Experiment #13\n",
    "(Running in parallel to #12, since 4 GPUs just opened up.Tried doubling the scaling of the lr to accomodate the doubling of the # of GPUs\n",
    "\n",
    "\n",
    "- Increased num_devices from 2->4\n",
    "- Using Accumulate_grad_batches=1\n",
    "- lr=2e-2\n",
    "- freeze_backbone_up_to=-4\n",
    "- batch_size=128\n",
    "- preprocess_size=256\n",
    "- resolution=224\n",
    "\n",
    "\n",
    "Started: 3:52 PM - 2022-03-23  \n",
    "Ended:   x:xx AM - 2022-03-23  "
   ]
  },
  {
   "cell_type": "code",
   "execution_count": 13,
   "id": "b35e377e-d857-4b79-bc26-28537c148580",
   "metadata": {},
   "outputs": [
    {
     "name": "stdout",
     "output_type": "stream",
     "text": [
      "Experiment #8: batch_size=128, num_processes=4, num_devices=2\n",
      "Using 100% of samples\n"
     ]
    },
    {
     "data": {
      "text/html": [
       "<pre style=\"white-space:pre;overflow-x:auto;line-height:normal;font-family:Menlo,'DejaVu Sans Mono',consolas,'Courier New',monospace\"><span style=\"font-weight: bold\">[</span>\n",
       "    <span style=\"color: #008000; text-decoration-color: #008000\">'seconds_per_epoch: 390.9523809523809'</span>,\n",
       "    <span style=\"color: #008000; text-decoration-color: #008000\">'min_per_epoch: 6.5159'</span>,\n",
       "    <span style=\"color: #008000; text-decoration-color: #008000\">'hrs_per_epoch: 0.1086'</span>,\n",
       "    <span style=\"color: #008000; text-decoration-color: #008000\">'epochs_per_second: 0.0026'</span>,\n",
       "    <span style=\"color: #008000; text-decoration-color: #008000\">'epochs_per_min: 0.1535'</span>,\n",
       "    <span style=\"color: #008000; text-decoration-color: #008000\">'epochs_per_hr: 9.2083'</span>,\n",
       "    <span style=\"color: #008000; text-decoration-color: #008000\">'batches_per_epoch: 1642'</span>,\n",
       "    <span style=\"color: #008000; text-decoration-color: #008000\">'samples_per_epoch: 2.102e+05'</span>,\n",
       "    <span style=\"color: #008000; text-decoration-color: #008000\">'seconds_per_batch: 4.2000'</span>,\n",
       "    <span style=\"color: #008000; text-decoration-color: #008000\">'batches_per_second: 0.2381'</span>,\n",
       "    <span style=\"color: #008000; text-decoration-color: #008000\">'batches_per_min: 14.2857'</span>,\n",
       "    <span style=\"color: #008000; text-decoration-color: #008000\">'batches_per_hr: 857.1429'</span>,\n",
       "    <span style=\"color: #008000; text-decoration-color: #008000\">'samples_per_second: 30.4762'</span>,\n",
       "    <span style=\"color: #008000; text-decoration-color: #008000\">'samples_per_min: 1828.5714'</span>,\n",
       "    <span style=\"color: #008000; text-decoration-color: #008000\">'samples_per_hr: 1.097e+05'</span>,\n",
       "    <span style=\"color: #008000; text-decoration-color: #008000\">'batch_size: 128'</span>\n",
       "<span style=\"font-weight: bold\">]</span>\n",
       "</pre>\n"
      ],
      "text/plain": [
       "\u001b[1m[\u001b[0m\n",
       "    \u001b[32m'seconds_per_epoch: 390.9523809523809'\u001b[0m,\n",
       "    \u001b[32m'min_per_epoch: 6.5159'\u001b[0m,\n",
       "    \u001b[32m'hrs_per_epoch: 0.1086'\u001b[0m,\n",
       "    \u001b[32m'epochs_per_second: 0.0026'\u001b[0m,\n",
       "    \u001b[32m'epochs_per_min: 0.1535'\u001b[0m,\n",
       "    \u001b[32m'epochs_per_hr: 9.2083'\u001b[0m,\n",
       "    \u001b[32m'batches_per_epoch: 1642'\u001b[0m,\n",
       "    \u001b[32m'samples_per_epoch: 2.102e+05'\u001b[0m,\n",
       "    \u001b[32m'seconds_per_batch: 4.2000'\u001b[0m,\n",
       "    \u001b[32m'batches_per_second: 0.2381'\u001b[0m,\n",
       "    \u001b[32m'batches_per_min: 14.2857'\u001b[0m,\n",
       "    \u001b[32m'batches_per_hr: 857.1429'\u001b[0m,\n",
       "    \u001b[32m'samples_per_second: 30.4762'\u001b[0m,\n",
       "    \u001b[32m'samples_per_min: 1828.5714'\u001b[0m,\n",
       "    \u001b[32m'samples_per_hr: 1.097e+05'\u001b[0m,\n",
       "    \u001b[32m'batch_size: 128'\u001b[0m\n",
       "\u001b[1m]\u001b[0m\n"
      ]
     },
     "metadata": {},
     "output_type": "display_data"
    },
    {
     "name": "stdout",
     "output_type": "stream",
     "text": [
      "Using 50% of samples\n"
     ]
    },
    {
     "data": {
      "text/html": [
       "<pre style=\"white-space:pre;overflow-x:auto;line-height:normal;font-family:Menlo,'DejaVu Sans Mono',consolas,'Courier New',monospace\"><span style=\"font-weight: bold\">[</span>\n",
       "    <span style=\"color: #008000; text-decoration-color: #008000\">'seconds_per_epoch: 195.47619047619045'</span>,\n",
       "    <span style=\"color: #008000; text-decoration-color: #008000\">'min_per_epoch: 3.2579'</span>,\n",
       "    <span style=\"color: #008000; text-decoration-color: #008000\">'hrs_per_epoch: 0.0543'</span>,\n",
       "    <span style=\"color: #008000; text-decoration-color: #008000\">'epochs_per_second: 0.0051'</span>,\n",
       "    <span style=\"color: #008000; text-decoration-color: #008000\">'epochs_per_min: 0.3069'</span>,\n",
       "    <span style=\"color: #008000; text-decoration-color: #008000\">'epochs_per_hr: 18.4166'</span>,\n",
       "    <span style=\"color: #008000; text-decoration-color: #008000\">'batches_per_epoch: 821'</span>,\n",
       "    <span style=\"color: #008000; text-decoration-color: #008000\">'samples_per_epoch: 1.051e+05'</span>,\n",
       "    <span style=\"color: #008000; text-decoration-color: #008000\">'seconds_per_batch: 4.2000'</span>,\n",
       "    <span style=\"color: #008000; text-decoration-color: #008000\">'batches_per_second: 0.2381'</span>,\n",
       "    <span style=\"color: #008000; text-decoration-color: #008000\">'batches_per_min: 14.2857'</span>,\n",
       "    <span style=\"color: #008000; text-decoration-color: #008000\">'batches_per_hr: 857.1429'</span>,\n",
       "    <span style=\"color: #008000; text-decoration-color: #008000\">'samples_per_second: 30.4762'</span>,\n",
       "    <span style=\"color: #008000; text-decoration-color: #008000\">'samples_per_min: 1828.5714'</span>,\n",
       "    <span style=\"color: #008000; text-decoration-color: #008000\">'samples_per_hr: 1.097e+05'</span>,\n",
       "    <span style=\"color: #008000; text-decoration-color: #008000\">'batch_size: 128'</span>\n",
       "<span style=\"font-weight: bold\">]</span>\n",
       "</pre>\n"
      ],
      "text/plain": [
       "\u001b[1m[\u001b[0m\n",
       "    \u001b[32m'seconds_per_epoch: 195.47619047619045'\u001b[0m,\n",
       "    \u001b[32m'min_per_epoch: 3.2579'\u001b[0m,\n",
       "    \u001b[32m'hrs_per_epoch: 0.0543'\u001b[0m,\n",
       "    \u001b[32m'epochs_per_second: 0.0051'\u001b[0m,\n",
       "    \u001b[32m'epochs_per_min: 0.3069'\u001b[0m,\n",
       "    \u001b[32m'epochs_per_hr: 18.4166'\u001b[0m,\n",
       "    \u001b[32m'batches_per_epoch: 821'\u001b[0m,\n",
       "    \u001b[32m'samples_per_epoch: 1.051e+05'\u001b[0m,\n",
       "    \u001b[32m'seconds_per_batch: 4.2000'\u001b[0m,\n",
       "    \u001b[32m'batches_per_second: 0.2381'\u001b[0m,\n",
       "    \u001b[32m'batches_per_min: 14.2857'\u001b[0m,\n",
       "    \u001b[32m'batches_per_hr: 857.1429'\u001b[0m,\n",
       "    \u001b[32m'samples_per_second: 30.4762'\u001b[0m,\n",
       "    \u001b[32m'samples_per_min: 1828.5714'\u001b[0m,\n",
       "    \u001b[32m'samples_per_hr: 1.097e+05'\u001b[0m,\n",
       "    \u001b[32m'batch_size: 128'\u001b[0m\n",
       "\u001b[1m]\u001b[0m\n"
      ]
     },
     "metadata": {},
     "output_type": "display_data"
    },
    {
     "name": "stdout",
     "output_type": "stream",
     "text": [
      "(Extrapolated prediction) Using 1% of samples\n"
     ]
    },
    {
     "data": {
      "text/html": [
       "<pre style=\"white-space:pre;overflow-x:auto;line-height:normal;font-family:Menlo,'DejaVu Sans Mono',consolas,'Courier New',monospace\"><span style=\"font-weight: bold\">[</span>\n",
       "    <span style=\"color: #008000; text-decoration-color: #008000\">'seconds_per_epoch: 3.90952380952381'</span>,\n",
       "    <span style=\"color: #008000; text-decoration-color: #008000\">'min_per_epoch: 0.0652'</span>,\n",
       "    <span style=\"color: #008000; text-decoration-color: #008000\">'hrs_per_epoch: 0.0011'</span>,\n",
       "    <span style=\"color: #008000; text-decoration-color: #008000\">'epochs_per_second: 0.2558'</span>,\n",
       "    <span style=\"color: #008000; text-decoration-color: #008000\">'epochs_per_min: 15.3471'</span>,\n",
       "    <span style=\"color: #008000; text-decoration-color: #008000\">'epochs_per_hr: 920.8283'</span>,\n",
       "    <span style=\"color: #008000; text-decoration-color: #008000\">'batches_per_epoch: 16.42'</span>,\n",
       "    <span style=\"color: #008000; text-decoration-color: #008000\">'samples_per_epoch: 2102'</span>,\n",
       "    <span style=\"color: #008000; text-decoration-color: #008000\">'seconds_per_batch: 4.2000'</span>,\n",
       "    <span style=\"color: #008000; text-decoration-color: #008000\">'batches_per_second: 0.2381'</span>,\n",
       "    <span style=\"color: #008000; text-decoration-color: #008000\">'batches_per_min: 14.2857'</span>,\n",
       "    <span style=\"color: #008000; text-decoration-color: #008000\">'batches_per_hr: 857.1429'</span>,\n",
       "    <span style=\"color: #008000; text-decoration-color: #008000\">'samples_per_second: 30.4762'</span>,\n",
       "    <span style=\"color: #008000; text-decoration-color: #008000\">'samples_per_min: 1828.5714'</span>,\n",
       "    <span style=\"color: #008000; text-decoration-color: #008000\">'samples_per_hr: 1.097e+05'</span>,\n",
       "    <span style=\"color: #008000; text-decoration-color: #008000\">'batch_size: 128'</span>\n",
       "<span style=\"font-weight: bold\">]</span>\n",
       "</pre>\n"
      ],
      "text/plain": [
       "\u001b[1m[\u001b[0m\n",
       "    \u001b[32m'seconds_per_epoch: 3.90952380952381'\u001b[0m,\n",
       "    \u001b[32m'min_per_epoch: 0.0652'\u001b[0m,\n",
       "    \u001b[32m'hrs_per_epoch: 0.0011'\u001b[0m,\n",
       "    \u001b[32m'epochs_per_second: 0.2558'\u001b[0m,\n",
       "    \u001b[32m'epochs_per_min: 15.3471'\u001b[0m,\n",
       "    \u001b[32m'epochs_per_hr: 920.8283'\u001b[0m,\n",
       "    \u001b[32m'batches_per_epoch: 16.42'\u001b[0m,\n",
       "    \u001b[32m'samples_per_epoch: 2102'\u001b[0m,\n",
       "    \u001b[32m'seconds_per_batch: 4.2000'\u001b[0m,\n",
       "    \u001b[32m'batches_per_second: 0.2381'\u001b[0m,\n",
       "    \u001b[32m'batches_per_min: 14.2857'\u001b[0m,\n",
       "    \u001b[32m'batches_per_hr: 857.1429'\u001b[0m,\n",
       "    \u001b[32m'samples_per_second: 30.4762'\u001b[0m,\n",
       "    \u001b[32m'samples_per_min: 1828.5714'\u001b[0m,\n",
       "    \u001b[32m'samples_per_hr: 1.097e+05'\u001b[0m,\n",
       "    \u001b[32m'batch_size: 128'\u001b[0m\n",
       "\u001b[1m]\u001b[0m\n"
      ]
     },
     "metadata": {},
     "output_type": "display_data"
    }
   ],
   "source": [
    "batches_per_second = (1/ 4.2)\n",
    "batches_per_epoch = 1642\n",
    "batch_size=128\n",
    "\n",
    "print(f\"Experiment #8: batch_size={batch_size}, num_processes=4, num_devices=2\")\n",
    "\n",
    "\n",
    "print(\"Using 100% of samples\")\n",
    "display_train_timing_info(batches_per_epoch=batches_per_epoch,\n",
    "                          batches_per_second=batches_per_second,\n",
    "                          batch_size=batch_size)\n",
    "\n",
    "\n",
    "print(\"Using 50% of samples\")\n",
    "display_train_timing_info(batches_per_epoch=batches_per_epoch/2,\n",
    "                          batches_per_second=batches_per_second,\n",
    "                          batch_size=batch_size)\n",
    "\n",
    "print(\"(Extrapolated prediction) Using 1% of samples\")\n",
    "display_train_timing_info(batches_per_epoch=batches_per_epoch/100,\n",
    "                          batches_per_second=batches_per_second,\n",
    "                          batch_size=batch_size)"
   ]
  },
  {
   "cell_type": "markdown",
   "id": "b2da6ae6-1c2e-444e-b234-d2d5591022f4",
   "metadata": {},
   "source": [
    "### Experiment #14\n",
    "\n",
    "\n",
    "- Increased num_devices from 4\n",
    "- Using Accumulate_grad_batches=2\n",
    "- lr=1e-3\n",
    "- freeze_backbone=False\n",
    "- batch_size=64\n",
    "- preprocess_size=256\n",
    "- resolution=224\n",
    "\n",
    "\n",
    "Started: 5:00 PM - 2022-03-23  \n",
    "Ended:   x:xx AM - 2022-03-24"
   ]
  },
  {
   "cell_type": "code",
   "execution_count": 24,
   "id": "0f7c2e06-3ff3-497e-9bec-f31aafd9c936",
   "metadata": {},
   "outputs": [
    {
     "name": "stdout",
     "output_type": "stream",
     "text": [
      "1.65\n"
     ]
    }
   ],
   "source": [
    "print(f\"{1/((3282)/(90*60)):.2f}\")"
   ]
  },
  {
   "cell_type": "code",
   "execution_count": 15,
   "id": "c70b6a8c-a824-4b7a-8d42-db325ef46762",
   "metadata": {},
   "outputs": [
    {
     "name": "stdout",
     "output_type": "stream",
     "text": [
      "Experiment #8: batch_size=64, num_processes=4, num_devices=2\n",
      "Using 100% of samples\n"
     ]
    },
    {
     "data": {
      "text/html": [
       "<pre style=\"white-space:pre;overflow-x:auto;line-height:normal;font-family:Menlo,'DejaVu Sans Mono',consolas,'Courier New',monospace\"><span style=\"font-weight: bold\">[</span>\n",
       "    <span style=\"color: #008000; text-decoration-color: #008000\">'seconds_per_epoch: 1,989.0909090909092'</span>,\n",
       "    <span style=\"color: #008000; text-decoration-color: #008000\">'min_per_epoch: 33.1515'</span>,\n",
       "    <span style=\"color: #008000; text-decoration-color: #008000\">'hrs_per_epoch: 0.5525'</span>,\n",
       "    <span style=\"color: #008000; text-decoration-color: #008000\">'epochs_per_second: 0.0005'</span>,\n",
       "    <span style=\"color: #008000; text-decoration-color: #008000\">'epochs_per_min: 0.0302'</span>,\n",
       "    <span style=\"color: #008000; text-decoration-color: #008000\">'epochs_per_hr: 1.8099'</span>,\n",
       "    <span style=\"color: #008000; text-decoration-color: #008000\">'batches_per_epoch: 3282'</span>,\n",
       "    <span style=\"color: #008000; text-decoration-color: #008000\">'samples_per_epoch: 2.1e+05'</span>,\n",
       "    <span style=\"color: #008000; text-decoration-color: #008000\">'seconds_per_batch: 1.6500'</span>,\n",
       "    <span style=\"color: #008000; text-decoration-color: #008000\">'batches_per_second: 0.6061'</span>,\n",
       "    <span style=\"color: #008000; text-decoration-color: #008000\">'batches_per_min: 36.3636'</span>,\n",
       "    <span style=\"color: #008000; text-decoration-color: #008000\">'batches_per_hr: 2181.8182'</span>,\n",
       "    <span style=\"color: #008000; text-decoration-color: #008000\">'samples_per_second: 38.7879'</span>,\n",
       "    <span style=\"color: #008000; text-decoration-color: #008000\">'samples_per_min: 2327.2727'</span>,\n",
       "    <span style=\"color: #008000; text-decoration-color: #008000\">'samples_per_hr: 1.396e+05'</span>,\n",
       "    <span style=\"color: #008000; text-decoration-color: #008000\">'batch_size: 64'</span>\n",
       "<span style=\"font-weight: bold\">]</span>\n",
       "</pre>\n"
      ],
      "text/plain": [
       "\u001b[1m[\u001b[0m\n",
       "    \u001b[32m'seconds_per_epoch: 1,989.0909090909092'\u001b[0m,\n",
       "    \u001b[32m'min_per_epoch: 33.1515'\u001b[0m,\n",
       "    \u001b[32m'hrs_per_epoch: 0.5525'\u001b[0m,\n",
       "    \u001b[32m'epochs_per_second: 0.0005'\u001b[0m,\n",
       "    \u001b[32m'epochs_per_min: 0.0302'\u001b[0m,\n",
       "    \u001b[32m'epochs_per_hr: 1.8099'\u001b[0m,\n",
       "    \u001b[32m'batches_per_epoch: 3282'\u001b[0m,\n",
       "    \u001b[32m'samples_per_epoch: 2.1e+05'\u001b[0m,\n",
       "    \u001b[32m'seconds_per_batch: 1.6500'\u001b[0m,\n",
       "    \u001b[32m'batches_per_second: 0.6061'\u001b[0m,\n",
       "    \u001b[32m'batches_per_min: 36.3636'\u001b[0m,\n",
       "    \u001b[32m'batches_per_hr: 2181.8182'\u001b[0m,\n",
       "    \u001b[32m'samples_per_second: 38.7879'\u001b[0m,\n",
       "    \u001b[32m'samples_per_min: 2327.2727'\u001b[0m,\n",
       "    \u001b[32m'samples_per_hr: 1.396e+05'\u001b[0m,\n",
       "    \u001b[32m'batch_size: 64'\u001b[0m\n",
       "\u001b[1m]\u001b[0m\n"
      ]
     },
     "metadata": {},
     "output_type": "display_data"
    },
    {
     "name": "stdout",
     "output_type": "stream",
     "text": [
      "Using 50% of samples\n"
     ]
    },
    {
     "data": {
      "text/html": [
       "<pre style=\"white-space:pre;overflow-x:auto;line-height:normal;font-family:Menlo,'DejaVu Sans Mono',consolas,'Courier New',monospace\"><span style=\"font-weight: bold\">[</span>\n",
       "    <span style=\"color: #008000; text-decoration-color: #008000\">'seconds_per_epoch: 994.5454545454546'</span>,\n",
       "    <span style=\"color: #008000; text-decoration-color: #008000\">'min_per_epoch: 16.5758'</span>,\n",
       "    <span style=\"color: #008000; text-decoration-color: #008000\">'hrs_per_epoch: 0.2763'</span>,\n",
       "    <span style=\"color: #008000; text-decoration-color: #008000\">'epochs_per_second: 0.0010'</span>,\n",
       "    <span style=\"color: #008000; text-decoration-color: #008000\">'epochs_per_min: 0.0603'</span>,\n",
       "    <span style=\"color: #008000; text-decoration-color: #008000\">'epochs_per_hr: 3.6197'</span>,\n",
       "    <span style=\"color: #008000; text-decoration-color: #008000\">'batches_per_epoch: 1641'</span>,\n",
       "    <span style=\"color: #008000; text-decoration-color: #008000\">'samples_per_epoch: 1.05e+05'</span>,\n",
       "    <span style=\"color: #008000; text-decoration-color: #008000\">'seconds_per_batch: 1.6500'</span>,\n",
       "    <span style=\"color: #008000; text-decoration-color: #008000\">'batches_per_second: 0.6061'</span>,\n",
       "    <span style=\"color: #008000; text-decoration-color: #008000\">'batches_per_min: 36.3636'</span>,\n",
       "    <span style=\"color: #008000; text-decoration-color: #008000\">'batches_per_hr: 2181.8182'</span>,\n",
       "    <span style=\"color: #008000; text-decoration-color: #008000\">'samples_per_second: 38.7879'</span>,\n",
       "    <span style=\"color: #008000; text-decoration-color: #008000\">'samples_per_min: 2327.2727'</span>,\n",
       "    <span style=\"color: #008000; text-decoration-color: #008000\">'samples_per_hr: 1.396e+05'</span>,\n",
       "    <span style=\"color: #008000; text-decoration-color: #008000\">'batch_size: 64'</span>\n",
       "<span style=\"font-weight: bold\">]</span>\n",
       "</pre>\n"
      ],
      "text/plain": [
       "\u001b[1m[\u001b[0m\n",
       "    \u001b[32m'seconds_per_epoch: 994.5454545454546'\u001b[0m,\n",
       "    \u001b[32m'min_per_epoch: 16.5758'\u001b[0m,\n",
       "    \u001b[32m'hrs_per_epoch: 0.2763'\u001b[0m,\n",
       "    \u001b[32m'epochs_per_second: 0.0010'\u001b[0m,\n",
       "    \u001b[32m'epochs_per_min: 0.0603'\u001b[0m,\n",
       "    \u001b[32m'epochs_per_hr: 3.6197'\u001b[0m,\n",
       "    \u001b[32m'batches_per_epoch: 1641'\u001b[0m,\n",
       "    \u001b[32m'samples_per_epoch: 1.05e+05'\u001b[0m,\n",
       "    \u001b[32m'seconds_per_batch: 1.6500'\u001b[0m,\n",
       "    \u001b[32m'batches_per_second: 0.6061'\u001b[0m,\n",
       "    \u001b[32m'batches_per_min: 36.3636'\u001b[0m,\n",
       "    \u001b[32m'batches_per_hr: 2181.8182'\u001b[0m,\n",
       "    \u001b[32m'samples_per_second: 38.7879'\u001b[0m,\n",
       "    \u001b[32m'samples_per_min: 2327.2727'\u001b[0m,\n",
       "    \u001b[32m'samples_per_hr: 1.396e+05'\u001b[0m,\n",
       "    \u001b[32m'batch_size: 64'\u001b[0m\n",
       "\u001b[1m]\u001b[0m\n"
      ]
     },
     "metadata": {},
     "output_type": "display_data"
    },
    {
     "name": "stdout",
     "output_type": "stream",
     "text": [
      "(Extrapolated prediction) Using 1% of samples\n"
     ]
    },
    {
     "data": {
      "text/html": [
       "<pre style=\"white-space:pre;overflow-x:auto;line-height:normal;font-family:Menlo,'DejaVu Sans Mono',consolas,'Courier New',monospace\"><span style=\"font-weight: bold\">[</span>\n",
       "    <span style=\"color: #008000; text-decoration-color: #008000\">'seconds_per_epoch: 19.89090909090909'</span>,\n",
       "    <span style=\"color: #008000; text-decoration-color: #008000\">'min_per_epoch: 0.3315'</span>,\n",
       "    <span style=\"color: #008000; text-decoration-color: #008000\">'hrs_per_epoch: 0.0055'</span>,\n",
       "    <span style=\"color: #008000; text-decoration-color: #008000\">'epochs_per_second: 0.0503'</span>,\n",
       "    <span style=\"color: #008000; text-decoration-color: #008000\">'epochs_per_min: 3.0165'</span>,\n",
       "    <span style=\"color: #008000; text-decoration-color: #008000\">'epochs_per_hr: 180.9872'</span>,\n",
       "    <span style=\"color: #008000; text-decoration-color: #008000\">'batches_per_epoch: 32.82'</span>,\n",
       "    <span style=\"color: #008000; text-decoration-color: #008000\">'samples_per_epoch: 2100'</span>,\n",
       "    <span style=\"color: #008000; text-decoration-color: #008000\">'seconds_per_batch: 1.6500'</span>,\n",
       "    <span style=\"color: #008000; text-decoration-color: #008000\">'batches_per_second: 0.6061'</span>,\n",
       "    <span style=\"color: #008000; text-decoration-color: #008000\">'batches_per_min: 36.3636'</span>,\n",
       "    <span style=\"color: #008000; text-decoration-color: #008000\">'batches_per_hr: 2181.8182'</span>,\n",
       "    <span style=\"color: #008000; text-decoration-color: #008000\">'samples_per_second: 38.7879'</span>,\n",
       "    <span style=\"color: #008000; text-decoration-color: #008000\">'samples_per_min: 2327.2727'</span>,\n",
       "    <span style=\"color: #008000; text-decoration-color: #008000\">'samples_per_hr: 1.396e+05'</span>,\n",
       "    <span style=\"color: #008000; text-decoration-color: #008000\">'batch_size: 64'</span>\n",
       "<span style=\"font-weight: bold\">]</span>\n",
       "</pre>\n"
      ],
      "text/plain": [
       "\u001b[1m[\u001b[0m\n",
       "    \u001b[32m'seconds_per_epoch: 19.89090909090909'\u001b[0m,\n",
       "    \u001b[32m'min_per_epoch: 0.3315'\u001b[0m,\n",
       "    \u001b[32m'hrs_per_epoch: 0.0055'\u001b[0m,\n",
       "    \u001b[32m'epochs_per_second: 0.0503'\u001b[0m,\n",
       "    \u001b[32m'epochs_per_min: 3.0165'\u001b[0m,\n",
       "    \u001b[32m'epochs_per_hr: 180.9872'\u001b[0m,\n",
       "    \u001b[32m'batches_per_epoch: 32.82'\u001b[0m,\n",
       "    \u001b[32m'samples_per_epoch: 2100'\u001b[0m,\n",
       "    \u001b[32m'seconds_per_batch: 1.6500'\u001b[0m,\n",
       "    \u001b[32m'batches_per_second: 0.6061'\u001b[0m,\n",
       "    \u001b[32m'batches_per_min: 36.3636'\u001b[0m,\n",
       "    \u001b[32m'batches_per_hr: 2181.8182'\u001b[0m,\n",
       "    \u001b[32m'samples_per_second: 38.7879'\u001b[0m,\n",
       "    \u001b[32m'samples_per_min: 2327.2727'\u001b[0m,\n",
       "    \u001b[32m'samples_per_hr: 1.396e+05'\u001b[0m,\n",
       "    \u001b[32m'batch_size: 64'\u001b[0m\n",
       "\u001b[1m]\u001b[0m\n"
      ]
     },
     "metadata": {},
     "output_type": "display_data"
    }
   ],
   "source": [
    "batches_per_second = (1/1.65 )\n",
    "batches_per_epoch = 3282\n",
    "batch_size=64\n",
    "\n",
    "print(f\"Experiment #8: batch_size={batch_size}, num_processes=4, num_devices=2\")\n",
    "\n",
    "\n",
    "print(\"Using 100% of samples\")\n",
    "display_train_timing_info(batches_per_epoch=batches_per_epoch,\n",
    "                          batches_per_second=batches_per_second,\n",
    "                          batch_size=batch_size)\n",
    "\n",
    "\n",
    "print(\"Using 50% of samples\")\n",
    "display_train_timing_info(batches_per_epoch=batches_per_epoch/2,\n",
    "                          batches_per_second=batches_per_second,\n",
    "                          batch_size=batch_size)\n",
    "\n",
    "print(\"(Extrapolated prediction) Using 1% of samples\")\n",
    "display_train_timing_info(batches_per_epoch=batches_per_epoch/100,\n",
    "                          batches_per_second=batches_per_second,\n",
    "                          batch_size=batch_size)"
   ]
  },
  {
   "cell_type": "code",
   "execution_count": 125,
   "id": "d299776a-2e13-4a0f-894f-e3e5ff1572c4",
   "metadata": {},
   "outputs": [
    {
     "data": {
      "text/plain": [
       "0.23854166666666668"
      ]
     },
     "execution_count": 125,
     "metadata": {},
     "output_type": "execute_result"
    }
   ],
   "source": [
    "229/16/60"
   ]
  },
  {
   "cell_type": "code",
   "execution_count": 14,
   "id": "07e8463e-6924-4db3-9b54-1a588b9b2406",
   "metadata": {},
   "outputs": [
    {
     "data": {
      "text/plain": [
       "55.92"
      ]
     },
     "execution_count": 14,
     "metadata": {},
     "output_type": "execute_result"
    }
   ],
   "source": [
    "27.96*2"
   ]
  },
  {
   "cell_type": "code",
   "execution_count": null,
   "id": "967611e9-349c-4fe4-9c14-d1bf66f017ea",
   "metadata": {},
   "outputs": [],
   "source": []
  }
 ],
 "metadata": {
  "kernelspec": {
   "display_name": "Python 3 (ipykernel)",
   "language": "python",
   "name": "python3"
  },
  "language_info": {
   "codemirror_mode": {
    "name": "ipython",
    "version": 3
   },
   "file_extension": ".py",
   "mimetype": "text/x-python",
   "name": "python",
   "nbconvert_exporter": "python",
   "pygments_lexer": "ipython3",
   "version": "3.8.12"
  }
 },
 "nbformat": 4,
 "nbformat_minor": 5
}
