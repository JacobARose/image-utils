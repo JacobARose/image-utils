{
 "cells": [
  {
   "cell_type": "markdown",
   "id": "7c87558b-01c2-45a7-9640-340def83597c",
   "metadata": {},
   "source": [
    "# Section II."
   ]
  },
  {
   "cell_type": "markdown",
   "id": "c5f74737-7582-4b89-bce2-94a6f678cc28",
   "metadata": {},
   "source": [
    "## Dask image parallelization dev notebook\n",
    "\n",
    "Created on: Monday March 28th, 2022  \n",
    "Created by: Jacob Alexander Rose  "
   ]
  },
  {
   "cell_type": "code",
   "execution_count": 1,
   "id": "cc107c19-7c70-4d65-92a2-3f23e59db530",
   "metadata": {
    "tags": []
   },
   "outputs": [],
   "source": [
    "# %%bash\n",
    "\n",
    "# !export OMP_NUM_THREADS=1\n",
    "# export MKL_NUM_THREADS=1\n",
    "# export OPENBLAS_NUM_THREADS=1\n",
    "# echo '${OMP_NUM_THREADS}'\n",
    "\n",
    "\n",
    "# import dask\n",
    "\n",
    "# @dask.delayed\n",
    "# def load(filename):\n",
    "#     ...\n",
    "\n",
    "# @dask.delayed\n",
    "# def process(data):\n",
    "#     ...\n",
    "\n",
    "# @dask.delayed\n",
    "# def save(data):\n",
    "#     ...\n",
    "\n",
    "\n",
    "# def f(filenames):\n",
    "#     results = []\n",
    "#     for filename in filenames:\n",
    "#         data = load(filename)\n",
    "#         data = process(data)\n",
    "#         result = save(data)\n",
    "\n",
    "#     return results\n",
    "\n",
    "# dask.compute(f(filenames))"
   ]
  },
  {
   "cell_type": "code",
   "execution_count": 2,
   "id": "7a7e7306-bac8-4867-86bc-61097bf3e07b",
   "metadata": {},
   "outputs": [
    {
     "name": "stdout",
     "output_type": "stream",
     "text": [
      "Importing imutils\n"
     ]
    }
   ],
   "source": [
    "# source: https://examples.dask.org/machine-learning/torch-prediction.html\n",
    "from typing import *\n",
    "\n",
    "import glob\n",
    "import toolz\n",
    "import dask\n",
    "import dask.array as da\n",
    "import torch\n",
    "from torchvision import transforms\n",
    "from PIL import Image\n",
    "import pandas as pd\n",
    "pd.set_option(\"display.max_colwidth\", 150)\n",
    "import numpy as np\n",
    "from imutils.ml.data.datamodule import Herbarium2022DataModule, Herbarium2022Dataset"
   ]
  },
  {
   "cell_type": "code",
   "execution_count": 3,
   "id": "05749177-bfb2-4f62-abd5-639fc3d5f17b",
   "metadata": {
    "tags": []
   },
   "outputs": [],
   "source": [
    "# @dask.delayed\n",
    "# def transform(img):\n",
    "#     trn = transforms.Compose([\n",
    "#             transforms.Resize(256),\n",
    "#             transforms.CenterCrop(224),\n",
    "#             transforms.ToTensor(),\n",
    "#             transforms.Normalize([0.485, 0.456, 0.406], [0.229, 0.224, 0.225])\n",
    "#     ])\n",
    "#     return trn(img)"
   ]
  },
  {
   "cell_type": "code",
   "execution_count": 6,
   "id": "5e2a006b-2afd-4f99-8952-7b9ed4034df9",
   "metadata": {},
   "outputs": [
    {
     "data": {
      "text/html": [
       "<pre style=\"white-space:pre;overflow-x:auto;line-height:normal;font-family:Menlo,'DejaVu Sans Mono',consolas,'Courier New',monospace\"><span style=\"color: #800080; text-decoration-color: #800080; font-weight: bold\">Config</span><span style=\"font-weight: bold\">(</span>\n",
       "    <span style=\"color: #808000; text-decoration-color: #808000\">source_root_dir</span>=<span style=\"color: #800080; text-decoration-color: #800080; font-weight: bold\">PosixPath</span><span style=\"font-weight: bold\">(</span><span style=\"color: #008000; text-decoration-color: #008000\">'/media/data_cifs/projects/prj_fossils/data/raw_data/herbarium-</span>\n",
       "<span style=\"color: #008000; text-decoration-color: #008000\">2022-fgvc9_resize'</span><span style=\"font-weight: bold\">)</span>,\n",
       "    <span style=\"color: #808000; text-decoration-color: #808000\">target_root_dir_template</span>=<span style=\"color: #800080; text-decoration-color: #800080; font-weight: bold\">PosixPath</span><span style=\"font-weight: bold\">(</span><span style=\"color: #008000; text-decoration-color: #008000\">'/media/data_cifs/projects/prj_fossils/data/raw_data/h</span>\n",
       "<span style=\"color: #008000; text-decoration-color: #008000\">erbarium-2022-fgvc9_resize'</span><span style=\"font-weight: bold\">)</span>,\n",
       "    <span style=\"color: #808000; text-decoration-color: #808000\">target_resolution</span>=<span style=\"color: #008080; text-decoration-color: #008080; font-weight: bold\">512</span>,\n",
       "    <span style=\"color: #808000; text-decoration-color: #808000\">target_root_dir</span>=<span style=\"color: #800080; text-decoration-color: #800080; font-weight: bold\">PosixPath</span><span style=\"font-weight: bold\">(</span><span style=\"color: #008000; text-decoration-color: #008000\">'/media/data_cifs/projects/prj_fossils/data/raw_data/herbarium-</span>\n",
       "<span style=\"color: #008000; text-decoration-color: #008000\">2022-fgvc9_resize-512'</span><span style=\"font-weight: bold\">)</span>\n",
       "<span style=\"font-weight: bold\">)</span>\n",
       "</pre>\n"
      ],
      "text/plain": [
       "\u001b[1;35mConfig\u001b[0m\u001b[1m(\u001b[0m\n",
       "    \u001b[33msource_root_dir\u001b[0m=\u001b[1;35mPosixPath\u001b[0m\u001b[1m(\u001b[0m\u001b[32m'/media/data_cifs/projects/prj_fossils/data/raw_data/herbarium-\u001b[0m\n",
       "\u001b[32m2022-fgvc9_resize'\u001b[0m\u001b[1m)\u001b[0m,\n",
       "    \u001b[33mtarget_root_dir_template\u001b[0m=\u001b[1;35mPosixPath\u001b[0m\u001b[1m(\u001b[0m\u001b[32m'/media/data_cifs/projects/prj_fossils/data/raw_data/h\u001b[0m\n",
       "\u001b[32merbarium-2022-fgvc9_resize'\u001b[0m\u001b[1m)\u001b[0m,\n",
       "    \u001b[33mtarget_resolution\u001b[0m=\u001b[1;36m512\u001b[0m,\n",
       "    \u001b[33mtarget_root_dir\u001b[0m=\u001b[1;35mPosixPath\u001b[0m\u001b[1m(\u001b[0m\u001b[32m'/media/data_cifs/projects/prj_fossils/data/raw_data/herbarium-\u001b[0m\n",
       "\u001b[32m2022-fgvc9_resize-512'\u001b[0m\u001b[1m)\u001b[0m\n",
       "\u001b[1m)\u001b[0m\n"
      ]
     },
     "metadata": {},
     "output_type": "display_data"
    }
   ],
   "source": [
    "import os\n",
    "from pathlib import Path\n",
    "import dask\n",
    "import dask.dataframe as dd\n",
    "#####################################################\n",
    "\n",
    "\n",
    "@dask.delayed\n",
    "def load(path: str,\n",
    "         fs=__builtins__):\n",
    "    with fs.open(path, 'rb') as f:\n",
    "        img = Image.open(f).convert(\"RGB\")\n",
    "        return img\n",
    "\n",
    "@dask.delayed\n",
    "def process(img: Image.Image,\n",
    "            size: Tuple[int]):\n",
    "    img = img.resize(size=size,\n",
    "                     resample=Image.BICUBIC)\n",
    "    return img\n",
    "\n",
    "@dask.delayed\n",
    "def save(img: Image.Image,\n",
    "         target_path: str,\n",
    "         fs=__builtins__):\n",
    "    with fs.open(target_path, 'wb') as f:\n",
    "        img = Image.save(f, format=\"jpeg\")\n",
    "    return os.path.isfile(target_path)\n",
    "\n",
    "\n",
    "\n",
    "def run(data_chunk: pd.DataFrame):\n",
    "    results = []\n",
    "    for filename in filenames:\n",
    "        data = load(filename)\n",
    "        data = process(data)\n",
    "        result = save(data)\n",
    "\n",
    "    return results\n",
    "\n",
    "# dask.compute(f(filenames))\n",
    "\n",
    "from rich import print as pp\n",
    "from dataclasses import dataclass, field\n",
    "\n",
    "@dataclass\n",
    "class Config:\n",
    "    source_root_dir: Path = Path('/media/data_cifs/projects/prj_fossils/data/raw_data/herbarium-2022-fgvc9_resize')\n",
    "    target_root_dir_template: Path = Path('/media/data_cifs/projects/prj_fossils/data/raw_data/herbarium-2022-fgvc9_resize')\n",
    "    target_resolution: int = 512\n",
    "    target_root_dir: str = field(init=False)\n",
    "    \n",
    "    def __post_init__(self):\n",
    "        self.target_root_dir = Path(f\"{str(self.target_root_dir_template)}-{self.target_resolution}\")\n",
    "        os.makedirs(self.target_root_dir, exist_ok=True)\n",
    "        \n",
    "    def get_target_path(self, source_path: Path) -> Path:\n",
    "        \"\"\"\n",
    "        Finds the source path's location relative to the source root, and returns a new path at the same location relative to the target root.\n",
    "        \n",
    "        - source and target root dirs are specified at instantiation of config, must update instance attributes in order to chaange this method.\n",
    "        \"\"\"\n",
    "        return str(self.target_root_dir / Path(source_path).relative_to(self.source_root_dir))\n",
    "    \n",
    "    def process_full_dataframe(self, data_df: pd.DataFrame) -> pd.DataFrame:\n",
    "        \"\"\"\n",
    "        Prepare dataframe for large-scale image file processing.\n",
    "        \n",
    "        Creates a `target_path` column in data_df and fills it with values produced by self.get_target_path, then renames is as `path` while renaming the original colmn `path` to be `source_path`.\n",
    "        \n",
    "        \"\"\"\n",
    "        data_df = data_df.assign(target_path = data_df.path.apply(self.get_target_path, meta=(\"target_path\", \"string\")))\n",
    "        data_df = data_df.rename(columns={\"path\":\"source_path\",\n",
    "                                          \"target_path\":\"path\"})\n",
    "        data_df = data_df.sort_index()\n",
    "        \n",
    "        return data_df\n",
    "    \n",
    "    \n",
    "    def read_dask_dataframe_from_csv(self,\n",
    "                                    csv_path: str,\n",
    "                                    columns: List[str],\n",
    "                                    col_dtypes: Dict[str, Any]) -> dd.DataFrame:\n",
    "        \n",
    "        data_df = dd.read_csv(csv_path, usecols=[\"Unnamed: 0\", *columns], dtype=col_dtypes\n",
    "                              ).rename(columns={\"Unnamed: 0\":\"idx\"})\n",
    "        data_df = data_df.set_index(\"idx\")\n",
    "        data_df = data_df.repartition(16)\n",
    "        \n",
    "        return data_df\n",
    "    \n",
    "    \n",
    "    \n",
    "cfg = Config()\n",
    "pp(cfg)\n",
    "\n",
    "\n",
    "catalog_dir = \"/media/data/jacob/GitHub/image-utils/imutils/big/data\"\n",
    "\n",
    "train_csv_path = Path(catalog_dir, \"train_metadata.csv\")\n",
    "test_csv_path = Path(catalog_dir, \"test_metadata.csv\")\n",
    "\n",
    "train_columns = ['path', 'image_id',\n",
    "           'category_id', 'genus_id', 'scientificName', \n",
    "           'Species', 'institution_id',\n",
    "           'family', 'genus', 'species', \n",
    "           'file_name', 'collectionCode']\n",
    "\n",
    "train_col_dtypes = {'path':\"string\",\n",
    "                    'image_id':\"string\",\n",
    "                    'category_id': \"category\",\n",
    "                    'genus_id': \"category\",\n",
    "                    'scientificName': \"category\",\n",
    "                    'Species': \"category\",\n",
    "                    'institution_id': \"category\",\n",
    "                    'family': \"category\",\n",
    "                    'genus': \"category\",\n",
    "                    'species': \"category\",\n",
    "                    'file_name': \"string\",\n",
    "                    'collectionCode': \"category\"}\n",
    "\n",
    "test_columns = ['path', 'image_id', 'file_name']\n",
    "test_col_dtypes = {'path':\"string\",\n",
    "                    'image_id':\"string\",\n",
    "                    'file_name': \"string\"}\n",
    "\n",
    "\n",
    "\n",
    "\n",
    "train_df = cfg.read_dask_dataframe_from_csv(csv_path=train_csv_path,\n",
    "                                 columns=train_columns,\n",
    "                                 col_dtypes=train_col_dtypes)\n",
    "\n",
    "test_df = cfg.read_dask_dataframe_from_csv(csv_path=test_csv_path,\n",
    "                                 columns=test_columns,\n",
    "                                 col_dtypes=test_col_dtypes)"
   ]
  },
  {
   "cell_type": "code",
   "execution_count": 8,
   "id": "68848a08-cbe3-42a3-aa36-66577f41af46",
   "metadata": {},
   "outputs": [
    {
     "data": {
      "text/html": [
       "<div>\n",
       "<style scoped>\n",
       "    .dataframe tbody tr th:only-of-type {\n",
       "        vertical-align: middle;\n",
       "    }\n",
       "\n",
       "    .dataframe tbody tr th {\n",
       "        vertical-align: top;\n",
       "    }\n",
       "\n",
       "    .dataframe thead th {\n",
       "        text-align: right;\n",
       "    }\n",
       "</style>\n",
       "<table border=\"1\" class=\"dataframe\">\n",
       "  <thead>\n",
       "    <tr style=\"text-align: right;\">\n",
       "      <th></th>\n",
       "      <th>genus_id</th>\n",
       "      <th>institution_id</th>\n",
       "      <th>category_id</th>\n",
       "      <th>image_id</th>\n",
       "      <th>file_name</th>\n",
       "      <th>scientificName</th>\n",
       "      <th>family</th>\n",
       "      <th>genus</th>\n",
       "      <th>species</th>\n",
       "      <th>collectionCode</th>\n",
       "      <th>Species</th>\n",
       "      <th>path</th>\n",
       "    </tr>\n",
       "    <tr>\n",
       "      <th>idx</th>\n",
       "      <th></th>\n",
       "      <th></th>\n",
       "      <th></th>\n",
       "      <th></th>\n",
       "      <th></th>\n",
       "      <th></th>\n",
       "      <th></th>\n",
       "      <th></th>\n",
       "      <th></th>\n",
       "      <th></th>\n",
       "      <th></th>\n",
       "      <th></th>\n",
       "    </tr>\n",
       "  </thead>\n",
       "  <tbody>\n",
       "    <tr>\n",
       "      <th>0</th>\n",
       "      <td>1</td>\n",
       "      <td>0</td>\n",
       "      <td>0</td>\n",
       "      <td>00000__001</td>\n",
       "      <td>000/00/00000__001.jpg</td>\n",
       "      <td>Abies amabilis (Douglas ex Loudon) J.Forbes</td>\n",
       "      <td>Pinaceae</td>\n",
       "      <td>Abies</td>\n",
       "      <td>amabilis</td>\n",
       "      <td>A</td>\n",
       "      <td>Abies amabilis</td>\n",
       "      <td>/media/data_cifs/projects/prj_fossils/data/raw_data/herbarium-2022-fgvc9_resize/train_images/000/00/00000__001.jpg</td>\n",
       "    </tr>\n",
       "    <tr>\n",
       "      <th>1</th>\n",
       "      <td>1</td>\n",
       "      <td>0</td>\n",
       "      <td>0</td>\n",
       "      <td>00000__002</td>\n",
       "      <td>000/00/00000__002.jpg</td>\n",
       "      <td>Abies amabilis (Douglas ex Loudon) J.Forbes</td>\n",
       "      <td>Pinaceae</td>\n",
       "      <td>Abies</td>\n",
       "      <td>amabilis</td>\n",
       "      <td>A</td>\n",
       "      <td>Abies amabilis</td>\n",
       "      <td>/media/data_cifs/projects/prj_fossils/data/raw_data/herbarium-2022-fgvc9_resize/train_images/000/00/00000__002.jpg</td>\n",
       "    </tr>\n",
       "    <tr>\n",
       "      <th>2</th>\n",
       "      <td>1</td>\n",
       "      <td>0</td>\n",
       "      <td>0</td>\n",
       "      <td>00000__003</td>\n",
       "      <td>000/00/00000__003.jpg</td>\n",
       "      <td>Abies amabilis (Douglas ex Loudon) J.Forbes</td>\n",
       "      <td>Pinaceae</td>\n",
       "      <td>Abies</td>\n",
       "      <td>amabilis</td>\n",
       "      <td>A</td>\n",
       "      <td>Abies amabilis</td>\n",
       "      <td>/media/data_cifs/projects/prj_fossils/data/raw_data/herbarium-2022-fgvc9_resize/train_images/000/00/00000__003.jpg</td>\n",
       "    </tr>\n",
       "    <tr>\n",
       "      <th>3</th>\n",
       "      <td>1</td>\n",
       "      <td>0</td>\n",
       "      <td>0</td>\n",
       "      <td>00000__004</td>\n",
       "      <td>000/00/00000__004.jpg</td>\n",
       "      <td>Abies amabilis (Douglas ex Loudon) J.Forbes</td>\n",
       "      <td>Pinaceae</td>\n",
       "      <td>Abies</td>\n",
       "      <td>amabilis</td>\n",
       "      <td>A</td>\n",
       "      <td>Abies amabilis</td>\n",
       "      <td>/media/data_cifs/projects/prj_fossils/data/raw_data/herbarium-2022-fgvc9_resize/train_images/000/00/00000__004.jpg</td>\n",
       "    </tr>\n",
       "    <tr>\n",
       "      <th>4</th>\n",
       "      <td>1</td>\n",
       "      <td>0</td>\n",
       "      <td>0</td>\n",
       "      <td>00000__005</td>\n",
       "      <td>000/00/00000__005.jpg</td>\n",
       "      <td>Abies amabilis (Douglas ex Loudon) J.Forbes</td>\n",
       "      <td>Pinaceae</td>\n",
       "      <td>Abies</td>\n",
       "      <td>amabilis</td>\n",
       "      <td>A</td>\n",
       "      <td>Abies amabilis</td>\n",
       "      <td>/media/data_cifs/projects/prj_fossils/data/raw_data/herbarium-2022-fgvc9_resize/train_images/000/00/00000__005.jpg</td>\n",
       "    </tr>\n",
       "  </tbody>\n",
       "</table>\n",
       "</div>"
      ],
      "text/plain": [
       "    genus_id institution_id category_id    image_id              file_name  \\\n",
       "idx                                                                          \n",
       "0          1              0           0  00000__001  000/00/00000__001.jpg   \n",
       "1          1              0           0  00000__002  000/00/00000__002.jpg   \n",
       "2          1              0           0  00000__003  000/00/00000__003.jpg   \n",
       "3          1              0           0  00000__004  000/00/00000__004.jpg   \n",
       "4          1              0           0  00000__005  000/00/00000__005.jpg   \n",
       "\n",
       "                                  scientificName    family  genus   species  \\\n",
       "idx                                                                           \n",
       "0    Abies amabilis (Douglas ex Loudon) J.Forbes  Pinaceae  Abies  amabilis   \n",
       "1    Abies amabilis (Douglas ex Loudon) J.Forbes  Pinaceae  Abies  amabilis   \n",
       "2    Abies amabilis (Douglas ex Loudon) J.Forbes  Pinaceae  Abies  amabilis   \n",
       "3    Abies amabilis (Douglas ex Loudon) J.Forbes  Pinaceae  Abies  amabilis   \n",
       "4    Abies amabilis (Douglas ex Loudon) J.Forbes  Pinaceae  Abies  amabilis   \n",
       "\n",
       "    collectionCode         Species  \\\n",
       "idx                                  \n",
       "0                A  Abies amabilis   \n",
       "1                A  Abies amabilis   \n",
       "2                A  Abies amabilis   \n",
       "3                A  Abies amabilis   \n",
       "4                A  Abies amabilis   \n",
       "\n",
       "                                                                                                                   path  \n",
       "idx                                                                                                                      \n",
       "0    /media/data_cifs/projects/prj_fossils/data/raw_data/herbarium-2022-fgvc9_resize/train_images/000/00/00000__001.jpg  \n",
       "1    /media/data_cifs/projects/prj_fossils/data/raw_data/herbarium-2022-fgvc9_resize/train_images/000/00/00000__002.jpg  \n",
       "2    /media/data_cifs/projects/prj_fossils/data/raw_data/herbarium-2022-fgvc9_resize/train_images/000/00/00000__003.jpg  \n",
       "3    /media/data_cifs/projects/prj_fossils/data/raw_data/herbarium-2022-fgvc9_resize/train_images/000/00/00000__004.jpg  \n",
       "4    /media/data_cifs/projects/prj_fossils/data/raw_data/herbarium-2022-fgvc9_resize/train_images/000/00/00000__005.jpg  "
      ]
     },
     "execution_count": 8,
     "metadata": {},
     "output_type": "execute_result"
    }
   ],
   "source": [
    "train_df.head()"
   ]
  },
  {
   "cell_type": "code",
   "execution_count": 7,
   "id": "67ed1d5c-5d90-4d83-8eab-141ae14049f3",
   "metadata": {},
   "outputs": [
    {
     "data": {
      "text/html": [
       "<div>\n",
       "<style scoped>\n",
       "    .dataframe tbody tr th:only-of-type {\n",
       "        vertical-align: middle;\n",
       "    }\n",
       "\n",
       "    .dataframe tbody tr th {\n",
       "        vertical-align: top;\n",
       "    }\n",
       "\n",
       "    .dataframe thead th {\n",
       "        text-align: right;\n",
       "    }\n",
       "</style>\n",
       "<table border=\"1\" class=\"dataframe\">\n",
       "  <thead>\n",
       "    <tr style=\"text-align: right;\">\n",
       "      <th></th>\n",
       "      <th>image_id</th>\n",
       "      <th>file_name</th>\n",
       "      <th>path</th>\n",
       "    </tr>\n",
       "    <tr>\n",
       "      <th>idx</th>\n",
       "      <th></th>\n",
       "      <th></th>\n",
       "      <th></th>\n",
       "    </tr>\n",
       "  </thead>\n",
       "  <tbody>\n",
       "    <tr>\n",
       "      <th>0</th>\n",
       "      <td>0</td>\n",
       "      <td>000/test-000000.jpg</td>\n",
       "      <td>/media/data_cifs/projects/prj_fossils/data/raw_data/herbarium-2022-fgvc9_resize/test_images/000/test-000000.jpg</td>\n",
       "    </tr>\n",
       "    <tr>\n",
       "      <th>1</th>\n",
       "      <td>1</td>\n",
       "      <td>000/test-000001.jpg</td>\n",
       "      <td>/media/data_cifs/projects/prj_fossils/data/raw_data/herbarium-2022-fgvc9_resize/test_images/000/test-000001.jpg</td>\n",
       "    </tr>\n",
       "    <tr>\n",
       "      <th>2</th>\n",
       "      <td>2</td>\n",
       "      <td>000/test-000002.jpg</td>\n",
       "      <td>/media/data_cifs/projects/prj_fossils/data/raw_data/herbarium-2022-fgvc9_resize/test_images/000/test-000002.jpg</td>\n",
       "    </tr>\n",
       "    <tr>\n",
       "      <th>3</th>\n",
       "      <td>3</td>\n",
       "      <td>000/test-000003.jpg</td>\n",
       "      <td>/media/data_cifs/projects/prj_fossils/data/raw_data/herbarium-2022-fgvc9_resize/test_images/000/test-000003.jpg</td>\n",
       "    </tr>\n",
       "    <tr>\n",
       "      <th>4</th>\n",
       "      <td>4</td>\n",
       "      <td>000/test-000004.jpg</td>\n",
       "      <td>/media/data_cifs/projects/prj_fossils/data/raw_data/herbarium-2022-fgvc9_resize/test_images/000/test-000004.jpg</td>\n",
       "    </tr>\n",
       "  </tbody>\n",
       "</table>\n",
       "</div>"
      ],
      "text/plain": [
       "    image_id            file_name  \\\n",
       "idx                                 \n",
       "0          0  000/test-000000.jpg   \n",
       "1          1  000/test-000001.jpg   \n",
       "2          2  000/test-000002.jpg   \n",
       "3          3  000/test-000003.jpg   \n",
       "4          4  000/test-000004.jpg   \n",
       "\n",
       "                                                                                                                path  \n",
       "idx                                                                                                                   \n",
       "0    /media/data_cifs/projects/prj_fossils/data/raw_data/herbarium-2022-fgvc9_resize/test_images/000/test-000000.jpg  \n",
       "1    /media/data_cifs/projects/prj_fossils/data/raw_data/herbarium-2022-fgvc9_resize/test_images/000/test-000001.jpg  \n",
       "2    /media/data_cifs/projects/prj_fossils/data/raw_data/herbarium-2022-fgvc9_resize/test_images/000/test-000002.jpg  \n",
       "3    /media/data_cifs/projects/prj_fossils/data/raw_data/herbarium-2022-fgvc9_resize/test_images/000/test-000003.jpg  \n",
       "4    /media/data_cifs/projects/prj_fossils/data/raw_data/herbarium-2022-fgvc9_resize/test_images/000/test-000004.jpg  "
      ]
     },
     "execution_count": 7,
     "metadata": {},
     "output_type": "execute_result"
    }
   ],
   "source": [
    "test_df.head()"
   ]
  },
  {
   "cell_type": "code",
   "execution_count": 22,
   "id": "17662374-d748-4004-8bb0-6deefa0b733c",
   "metadata": {},
   "outputs": [],
   "source": [
    "# train_df = dd.read_csv(train_csv_path, usecols=[\"Unnamed: 0\", *train_columns], dtype=train_col_dtypes\n",
    "#                       ).rename(columns={\"Unnamed: 0\":\"idx\"})\n",
    "# train_df = train_df.set_index(\"idx\")\n",
    "# train_df = train_df.repartition(16)\n",
    "# train_df.head()\n",
    "\n",
    "\n",
    "# data_df = data_df.assign(target_path = data_df.path.apply(cfg.get_target_path, meta=(\"target_path\", \"string\")))\n",
    "# data_df = data_df.rename(columns={\"path\":\"source_path\",\n",
    "#                                   \"target_path\":\"path\"})\n",
    "# data_df = data_df.sort_index()"
   ]
  },
  {
   "cell_type": "code",
   "execution_count": 6,
   "id": "bf6e31d5-08b7-4cfd-a918-c69a488d774c",
   "metadata": {},
   "outputs": [],
   "source": [
    "seed = 85\n",
    "random_state = np.random.RandomState(seed=seed)\n",
    "# test_df = dd.read_csv(train_csv_path, index=0)\n",
    "# train_df = pd.read_csv(train_csv_path, index_col=0, usecols=train_columns, dtype=train_col_dtypes)\n",
    "# train_df.describe(include='all')"
   ]
  },
  {
   "cell_type": "code",
   "execution_count": 34,
   "id": "f18b76f4-6a88-40da-ad22-a4bf11671a1a",
   "metadata": {},
   "outputs": [
    {
     "data": {
      "text/html": [
       "<div>\n",
       "<style scoped>\n",
       "    .dataframe tbody tr th:only-of-type {\n",
       "        vertical-align: middle;\n",
       "    }\n",
       "\n",
       "    .dataframe tbody tr th {\n",
       "        vertical-align: top;\n",
       "    }\n",
       "\n",
       "    .dataframe thead th {\n",
       "        text-align: right;\n",
       "    }\n",
       "</style>\n",
       "<table border=\"1\" class=\"dataframe\">\n",
       "  <thead>\n",
       "    <tr style=\"text-align: right;\">\n",
       "      <th></th>\n",
       "      <th>image_id</th>\n",
       "      <th>file_name</th>\n",
       "      <th>path</th>\n",
       "    </tr>\n",
       "    <tr>\n",
       "      <th>idx</th>\n",
       "      <th></th>\n",
       "      <th></th>\n",
       "      <th></th>\n",
       "    </tr>\n",
       "  </thead>\n",
       "  <tbody>\n",
       "    <tr>\n",
       "      <th>0</th>\n",
       "      <td>0</td>\n",
       "      <td>000/test-000000.jpg</td>\n",
       "      <td>/media/data_cifs/projects/prj_fossils/data/raw_data/herbarium-2022-fgvc9_resize/test_images/000/test-000000.jpg</td>\n",
       "    </tr>\n",
       "    <tr>\n",
       "      <th>1</th>\n",
       "      <td>1</td>\n",
       "      <td>000/test-000001.jpg</td>\n",
       "      <td>/media/data_cifs/projects/prj_fossils/data/raw_data/herbarium-2022-fgvc9_resize/test_images/000/test-000001.jpg</td>\n",
       "    </tr>\n",
       "    <tr>\n",
       "      <th>2</th>\n",
       "      <td>2</td>\n",
       "      <td>000/test-000002.jpg</td>\n",
       "      <td>/media/data_cifs/projects/prj_fossils/data/raw_data/herbarium-2022-fgvc9_resize/test_images/000/test-000002.jpg</td>\n",
       "    </tr>\n",
       "    <tr>\n",
       "      <th>3</th>\n",
       "      <td>3</td>\n",
       "      <td>000/test-000003.jpg</td>\n",
       "      <td>/media/data_cifs/projects/prj_fossils/data/raw_data/herbarium-2022-fgvc9_resize/test_images/000/test-000003.jpg</td>\n",
       "    </tr>\n",
       "    <tr>\n",
       "      <th>4</th>\n",
       "      <td>4</td>\n",
       "      <td>000/test-000004.jpg</td>\n",
       "      <td>/media/data_cifs/projects/prj_fossils/data/raw_data/herbarium-2022-fgvc9_resize/test_images/000/test-000004.jpg</td>\n",
       "    </tr>\n",
       "  </tbody>\n",
       "</table>\n",
       "</div>"
      ],
      "text/plain": [
       "    image_id            file_name  \\\n",
       "idx                                 \n",
       "0          0  000/test-000000.jpg   \n",
       "1          1  000/test-000001.jpg   \n",
       "2          2  000/test-000002.jpg   \n",
       "3          3  000/test-000003.jpg   \n",
       "4          4  000/test-000004.jpg   \n",
       "\n",
       "                                                                                                                path  \n",
       "idx                                                                                                                   \n",
       "0    /media/data_cifs/projects/prj_fossils/data/raw_data/herbarium-2022-fgvc9_resize/test_images/000/test-000000.jpg  \n",
       "1    /media/data_cifs/projects/prj_fossils/data/raw_data/herbarium-2022-fgvc9_resize/test_images/000/test-000001.jpg  \n",
       "2    /media/data_cifs/projects/prj_fossils/data/raw_data/herbarium-2022-fgvc9_resize/test_images/000/test-000002.jpg  \n",
       "3    /media/data_cifs/projects/prj_fossils/data/raw_data/herbarium-2022-fgvc9_resize/test_images/000/test-000003.jpg  \n",
       "4    /media/data_cifs/projects/prj_fossils/data/raw_data/herbarium-2022-fgvc9_resize/test_images/000/test-000004.jpg  "
      ]
     },
     "execution_count": 34,
     "metadata": {},
     "output_type": "execute_result"
    }
   ],
   "source": [
    "test_df = dd.read_csv(test_csv_path, usecols=[\"Unnamed: 0\", *test_columns], dtype=test_col_dtypes\n",
    "                      ).rename(columns={\"Unnamed: 0\":\"idx\"})\n",
    "test_df = test_df.set_index(\"idx\")\n",
    "test_df = test_df.repartition(16)\n",
    "test_df.head()"
   ]
  },
  {
   "cell_type": "code",
   "execution_count": 20,
   "id": "b3a91954-5703-40c1-aaac-303647fc451a",
   "metadata": {},
   "outputs": [
    {
     "name": "stdout",
     "output_type": "stream",
     "text": [
      "CPU times: user 10.5 s, sys: 1.57 s, total: 12.1 s\n",
      "Wall time: 14.2 s\n"
     ]
    },
    {
     "data": {
      "text/html": [
       "<div>\n",
       "<style scoped>\n",
       "    .dataframe tbody tr th:only-of-type {\n",
       "        vertical-align: middle;\n",
       "    }\n",
       "\n",
       "    .dataframe tbody tr th {\n",
       "        vertical-align: top;\n",
       "    }\n",
       "\n",
       "    .dataframe thead th {\n",
       "        text-align: right;\n",
       "    }\n",
       "</style>\n",
       "<table border=\"1\" class=\"dataframe\">\n",
       "  <thead>\n",
       "    <tr style=\"text-align: right;\">\n",
       "      <th></th>\n",
       "      <th>genus_id</th>\n",
       "      <th>institution_id</th>\n",
       "      <th>category_id</th>\n",
       "      <th>image_id</th>\n",
       "      <th>scientificName</th>\n",
       "      <th>Species</th>\n",
       "      <th>path</th>\n",
       "    </tr>\n",
       "    <tr>\n",
       "      <th>idx</th>\n",
       "      <th></th>\n",
       "      <th></th>\n",
       "      <th></th>\n",
       "      <th></th>\n",
       "      <th></th>\n",
       "      <th></th>\n",
       "      <th></th>\n",
       "    </tr>\n",
       "  </thead>\n",
       "  <tbody>\n",
       "    <tr>\n",
       "      <th>0</th>\n",
       "      <td>1</td>\n",
       "      <td>0</td>\n",
       "      <td>0</td>\n",
       "      <td>00000__001</td>\n",
       "      <td>Abies amabilis (Douglas ex Loudon) J.Forbes</td>\n",
       "      <td>Abies amabilis</td>\n",
       "      <td>/media/data_cifs/projects/prj_fossils/data/raw_data/herbarium-2022-fgvc9_resize/train_images/000/00/00000__001.jpg</td>\n",
       "    </tr>\n",
       "    <tr>\n",
       "      <th>1</th>\n",
       "      <td>1</td>\n",
       "      <td>0</td>\n",
       "      <td>0</td>\n",
       "      <td>00000__002</td>\n",
       "      <td>Abies amabilis (Douglas ex Loudon) J.Forbes</td>\n",
       "      <td>Abies amabilis</td>\n",
       "      <td>/media/data_cifs/projects/prj_fossils/data/raw_data/herbarium-2022-fgvc9_resize/train_images/000/00/00000__002.jpg</td>\n",
       "    </tr>\n",
       "    <tr>\n",
       "      <th>2</th>\n",
       "      <td>1</td>\n",
       "      <td>0</td>\n",
       "      <td>0</td>\n",
       "      <td>00000__003</td>\n",
       "      <td>Abies amabilis (Douglas ex Loudon) J.Forbes</td>\n",
       "      <td>Abies amabilis</td>\n",
       "      <td>/media/data_cifs/projects/prj_fossils/data/raw_data/herbarium-2022-fgvc9_resize/train_images/000/00/00000__003.jpg</td>\n",
       "    </tr>\n",
       "    <tr>\n",
       "      <th>3</th>\n",
       "      <td>1</td>\n",
       "      <td>0</td>\n",
       "      <td>0</td>\n",
       "      <td>00000__004</td>\n",
       "      <td>Abies amabilis (Douglas ex Loudon) J.Forbes</td>\n",
       "      <td>Abies amabilis</td>\n",
       "      <td>/media/data_cifs/projects/prj_fossils/data/raw_data/herbarium-2022-fgvc9_resize/train_images/000/00/00000__004.jpg</td>\n",
       "    </tr>\n",
       "    <tr>\n",
       "      <th>4</th>\n",
       "      <td>1</td>\n",
       "      <td>0</td>\n",
       "      <td>0</td>\n",
       "      <td>00000__005</td>\n",
       "      <td>Abies amabilis (Douglas ex Loudon) J.Forbes</td>\n",
       "      <td>Abies amabilis</td>\n",
       "      <td>/media/data_cifs/projects/prj_fossils/data/raw_data/herbarium-2022-fgvc9_resize/train_images/000/00/00000__005.jpg</td>\n",
       "    </tr>\n",
       "  </tbody>\n",
       "</table>\n",
       "</div>"
      ],
      "text/plain": [
       "    genus_id institution_id category_id    image_id  \\\n",
       "idx                                                   \n",
       "0          1              0           0  00000__001   \n",
       "1          1              0           0  00000__002   \n",
       "2          1              0           0  00000__003   \n",
       "3          1              0           0  00000__004   \n",
       "4          1              0           0  00000__005   \n",
       "\n",
       "                                  scientificName         Species  \\\n",
       "idx                                                                \n",
       "0    Abies amabilis (Douglas ex Loudon) J.Forbes  Abies amabilis   \n",
       "1    Abies amabilis (Douglas ex Loudon) J.Forbes  Abies amabilis   \n",
       "2    Abies amabilis (Douglas ex Loudon) J.Forbes  Abies amabilis   \n",
       "3    Abies amabilis (Douglas ex Loudon) J.Forbes  Abies amabilis   \n",
       "4    Abies amabilis (Douglas ex Loudon) J.Forbes  Abies amabilis   \n",
       "\n",
       "                                                                                                                   path  \n",
       "idx                                                                                                                      \n",
       "0    /media/data_cifs/projects/prj_fossils/data/raw_data/herbarium-2022-fgvc9_resize/train_images/000/00/00000__001.jpg  \n",
       "1    /media/data_cifs/projects/prj_fossils/data/raw_data/herbarium-2022-fgvc9_resize/train_images/000/00/00000__002.jpg  \n",
       "2    /media/data_cifs/projects/prj_fossils/data/raw_data/herbarium-2022-fgvc9_resize/train_images/000/00/00000__003.jpg  \n",
       "3    /media/data_cifs/projects/prj_fossils/data/raw_data/herbarium-2022-fgvc9_resize/train_images/000/00/00000__004.jpg  \n",
       "4    /media/data_cifs/projects/prj_fossils/data/raw_data/herbarium-2022-fgvc9_resize/train_images/000/00/00000__005.jpg  "
      ]
     },
     "execution_count": 20,
     "metadata": {},
     "output_type": "execute_result"
    }
   ],
   "source": [
    "%%time\n",
    "\n",
    "train_df = dd.read_csv(train_csv_path, usecols=[\"Unnamed: 0\", *train_columns], dtype=train_col_dtypes\n",
    "                      ).rename(columns={\"Unnamed: 0\":\"idx\"})\n",
    "                              # ).set_index(\"idx\")\n",
    "train_df = train_df.set_index(\"idx\")\n",
    "train_df = train_df.repartition(16)\n",
    "train_df.head()"
   ]
  },
  {
   "cell_type": "markdown",
   "id": "9d3b8d7a-e7cb-4203-91ef-44cd7fe4999e",
   "metadata": {},
   "source": [
    "#### Take a small fraction of dataset for testing"
   ]
  },
  {
   "cell_type": "code",
   "execution_count": 21,
   "id": "42d139d2-d9c4-4c4a-9f51-c4a302c7fee5",
   "metadata": {},
   "outputs": [
    {
     "data": {
      "image/png": "[encoded data removed]",
      "text/plain": [
       "<IPython.core.display.Image object>"
      ]
     },
     "execution_count": 21,
     "metadata": {},
     "output_type": "execute_result"
    }
   ],
   "source": [
    "data_df = train_df.sample(frac=0.001,\n",
    "                         replace=False,\n",
    "                         random_state=random_state)\n",
    "\n",
    "\n",
    "data_df.visualize()"
   ]
  },
  {
   "cell_type": "code",
   "execution_count": 42,
   "id": "589bfcd9-112f-495d-a469-41088614c09d",
   "metadata": {},
   "outputs": [],
   "source": [
    "for batch in data_df.itertuples():\n",
    "    break\n",
    "print(type(batch))\n",
    "\n",
    "print(dir(batch))\n",
    "\n",
    "batch.scientificName\n",
    "\n",
    "batch.category_id\n",
    "\n",
    "from IPython.display import display\n",
    "\n",
    "display(batch)"
   ]
  },
  {
   "cell_type": "code",
   "execution_count": 43,
   "id": "d810056c-a5e6-459e-8625-e25a7cea07b2",
   "metadata": {},
   "outputs": [
    {
     "name": "stdout",
     "output_type": "stream",
     "text": [
      "total 659M\n",
      "drwxrwxrwx 2 cis-storage cis-storage 2.0K Feb 18 17:14 .\n",
      "drwxrwxrwx 2 cis-storage cis-storage 9.5K Mar 28 14:57 ..\n",
      "drwxrwxrwx 2 cis-storage cis-storage 112K Feb 18 17:13 test_images\n",
      "-rwxrwxrwx 1 cis-storage cis-storage  23M Feb 18 17:14 test_metadata.json\n",
      "drwxrwxrwx 2 cis-storage cis-storage  78K Feb 18 16:41 train_images\n",
      "-rwxrwxrwx 1 cis-storage cis-storage 637M Feb 18 17:14 train_metadata.json\n"
     ]
    }
   ],
   "source": [
    "!ls -alh '/media/data_cifs/projects/prj_fossils/data/raw_data/herbarium-2022-fgvc9_resize'"
   ]
  },
  {
   "cell_type": "code",
   "execution_count": 23,
   "id": "1c4bd140-c0a7-4596-9921-72cf5d14fc2b",
   "metadata": {},
   "outputs": [],
   "source": []
  },
  {
   "cell_type": "code",
   "execution_count": 24,
   "id": "d2a1c725-dd6f-48d3-95b9-f5944b7710df",
   "metadata": {},
   "outputs": [
    {
     "data": {
      "text/html": [
       "<div>\n",
       "<style scoped>\n",
       "    .dataframe tbody tr th:only-of-type {\n",
       "        vertical-align: middle;\n",
       "    }\n",
       "\n",
       "    .dataframe tbody tr th {\n",
       "        vertical-align: top;\n",
       "    }\n",
       "\n",
       "    .dataframe thead th {\n",
       "        text-align: right;\n",
       "    }\n",
       "</style>\n",
       "<table border=\"1\" class=\"dataframe\">\n",
       "  <thead>\n",
       "    <tr style=\"text-align: right;\">\n",
       "      <th></th>\n",
       "      <th>genus_id</th>\n",
       "      <th>institution_id</th>\n",
       "      <th>category_id</th>\n",
       "      <th>image_id</th>\n",
       "      <th>scientificName</th>\n",
       "      <th>Species</th>\n",
       "      <th>source_path</th>\n",
       "      <th>path</th>\n",
       "    </tr>\n",
       "    <tr>\n",
       "      <th>idx</th>\n",
       "      <th></th>\n",
       "      <th></th>\n",
       "      <th></th>\n",
       "      <th></th>\n",
       "      <th></th>\n",
       "      <th></th>\n",
       "      <th></th>\n",
       "      <th></th>\n",
       "    </tr>\n",
       "  </thead>\n",
       "  <tbody>\n",
       "    <tr>\n",
       "      <th>22229</th>\n",
       "      <td>75</td>\n",
       "      <td>21</td>\n",
       "      <td>417</td>\n",
       "      <td>00417__002</td>\n",
       "      <td>Allium haematochiton S.Watson</td>\n",
       "      <td>Allium haematochiton</td>\n",
       "      <td>/media/data_cifs/projects/prj_fossils/data/raw_data/herbarium-2022-fgvc9_resize/train_images/004/17/00417__002.jpg</td>\n",
       "      <td>/media/data_cifs/projects/prj_fossils/data/raw_data/herbarium-2022-fgvc9_resize-512/train_images/004/17/00417__002.jpg</td>\n",
       "    </tr>\n",
       "    <tr>\n",
       "      <th>49039</th>\n",
       "      <td>174</td>\n",
       "      <td>36</td>\n",
       "      <td>957</td>\n",
       "      <td>00957__016</td>\n",
       "      <td>Aralia bicrenata Wooton &amp; Standl.</td>\n",
       "      <td>Aralia bicrenata</td>\n",
       "      <td>/media/data_cifs/projects/prj_fossils/data/raw_data/herbarium-2022-fgvc9_resize/train_images/009/57/00957__016.jpg</td>\n",
       "      <td>/media/data_cifs/projects/prj_fossils/data/raw_data/herbarium-2022-fgvc9_resize-512/train_images/009/57/00957__016.jpg</td>\n",
       "    </tr>\n",
       "    <tr>\n",
       "      <th>49581</th>\n",
       "      <td>176</td>\n",
       "      <td>36</td>\n",
       "      <td>966</td>\n",
       "      <td>00966__028</td>\n",
       "      <td>Araujia odorata (Hook. &amp; Arn.) Fontella &amp; Goyder</td>\n",
       "      <td>Araujia odorata</td>\n",
       "      <td>/media/data_cifs/projects/prj_fossils/data/raw_data/herbarium-2022-fgvc9_resize/train_images/009/66/00966__028.jpg</td>\n",
       "      <td>/media/data_cifs/projects/prj_fossils/data/raw_data/herbarium-2022-fgvc9_resize-512/train_images/009/66/00966__028.jpg</td>\n",
       "    </tr>\n",
       "    <tr>\n",
       "      <th>47837</th>\n",
       "      <td>169</td>\n",
       "      <td>13</td>\n",
       "      <td>931</td>\n",
       "      <td>00931__094</td>\n",
       "      <td>Aquilegia elegantula Greene</td>\n",
       "      <td>Aquilegia elegantula</td>\n",
       "      <td>/media/data_cifs/projects/prj_fossils/data/raw_data/herbarium-2022-fgvc9_resize/train_images/009/31/00931__094.jpg</td>\n",
       "      <td>/media/data_cifs/projects/prj_fossils/data/raw_data/herbarium-2022-fgvc9_resize-512/train_images/009/31/00931__094.jpg</td>\n",
       "    </tr>\n",
       "    <tr>\n",
       "      <th>2959</th>\n",
       "      <td>7</td>\n",
       "      <td>38</td>\n",
       "      <td>52</td>\n",
       "      <td>00052__068</td>\n",
       "      <td>Acalypha chamaedrifolia (Lam.) Müll.Arg.</td>\n",
       "      <td>Acalypha chamaedrifolia</td>\n",
       "      <td>/media/data_cifs/projects/prj_fossils/data/raw_data/herbarium-2022-fgvc9_resize/train_images/000/52/00052__068.jpg</td>\n",
       "      <td>/media/data_cifs/projects/prj_fossils/data/raw_data/herbarium-2022-fgvc9_resize-512/train_images/000/52/00052__068.jpg</td>\n",
       "    </tr>\n",
       "    <tr>\n",
       "      <th>...</th>\n",
       "      <td>...</td>\n",
       "      <td>...</td>\n",
       "      <td>...</td>\n",
       "      <td>...</td>\n",
       "      <td>...</td>\n",
       "      <td>...</td>\n",
       "      <td>...</td>\n",
       "      <td>...</td>\n",
       "    </tr>\n",
       "    <tr>\n",
       "      <th>801592</th>\n",
       "      <td>2443</td>\n",
       "      <td>36</td>\n",
       "      <td>14786</td>\n",
       "      <td>14786__057</td>\n",
       "      <td>Trifolium variegatum Nutt.</td>\n",
       "      <td>Trifolium variegatum</td>\n",
       "      <td>/media/data_cifs/projects/prj_fossils/data/raw_data/herbarium-2022-fgvc9_resize/train_images/147/86/14786__057.jpg</td>\n",
       "      <td>/media/data_cifs/projects/prj_fossils/data/raw_data/herbarium-2022-fgvc9_resize-512/train_images/147/86/14786__057.jpg</td>\n",
       "    </tr>\n",
       "    <tr>\n",
       "      <th>798461</th>\n",
       "      <td>2440</td>\n",
       "      <td>53</td>\n",
       "      <td>14730</td>\n",
       "      <td>14730__080</td>\n",
       "      <td>Tridens flavus (L.) Hitchc.</td>\n",
       "      <td>Tridens flavus</td>\n",
       "      <td>/media/data_cifs/projects/prj_fossils/data/raw_data/herbarium-2022-fgvc9_resize/train_images/147/30/14730__080.jpg</td>\n",
       "      <td>/media/data_cifs/projects/prj_fossils/data/raw_data/herbarium-2022-fgvc9_resize-512/train_images/147/30/14730__080.jpg</td>\n",
       "    </tr>\n",
       "    <tr>\n",
       "      <th>818380</th>\n",
       "      <td>2507</td>\n",
       "      <td>52</td>\n",
       "      <td>15091</td>\n",
       "      <td>15091__063</td>\n",
       "      <td>Verbena simplex Lehm.</td>\n",
       "      <td>Verbena simplex</td>\n",
       "      <td>/media/data_cifs/projects/prj_fossils/data/raw_data/herbarium-2022-fgvc9_resize/train_images/150/91/15091__063.jpg</td>\n",
       "      <td>/media/data_cifs/projects/prj_fossils/data/raw_data/herbarium-2022-fgvc9_resize-512/train_images/150/91/15091__063.jpg</td>\n",
       "    </tr>\n",
       "    <tr>\n",
       "      <th>838480</th>\n",
       "      <td>2574</td>\n",
       "      <td>20</td>\n",
       "      <td>15479</td>\n",
       "      <td>15479__054</td>\n",
       "      <td>Zephyranthes treatiae S.Watson</td>\n",
       "      <td>Zephyranthes treatiae</td>\n",
       "      <td>/media/data_cifs/projects/prj_fossils/data/raw_data/herbarium-2022-fgvc9_resize/train_images/154/79/15479__054.jpg</td>\n",
       "      <td>/media/data_cifs/projects/prj_fossils/data/raw_data/herbarium-2022-fgvc9_resize-512/train_images/154/79/15479__054.jpg</td>\n",
       "    </tr>\n",
       "    <tr>\n",
       "      <th>829922</th>\n",
       "      <td>2531</td>\n",
       "      <td>36</td>\n",
       "      <td>15300</td>\n",
       "      <td>15300__023</td>\n",
       "      <td>Warea sessilifolia Nash</td>\n",
       "      <td>Warea sessilifolia</td>\n",
       "      <td>/media/data_cifs/projects/prj_fossils/data/raw_data/herbarium-2022-fgvc9_resize/train_images/153/00/15300__023.jpg</td>\n",
       "      <td>/media/data_cifs/projects/prj_fossils/data/raw_data/herbarium-2022-fgvc9_resize-512/train_images/153/00/15300__023.jpg</td>\n",
       "    </tr>\n",
       "  </tbody>\n",
       "</table>\n",
       "<p>838 rows × 8 columns</p>\n",
       "</div>"
      ],
      "text/plain": [
       "       genus_id institution_id category_id    image_id  \\\n",
       "idx                                                      \n",
       "22229        75             21         417  00417__002   \n",
       "49039       174             36         957  00957__016   \n",
       "49581       176             36         966  00966__028   \n",
       "47837       169             13         931  00931__094   \n",
       "2959          7             38          52  00052__068   \n",
       "...         ...            ...         ...         ...   \n",
       "801592     2443             36       14786  14786__057   \n",
       "798461     2440             53       14730  14730__080   \n",
       "818380     2507             52       15091  15091__063   \n",
       "838480     2574             20       15479  15479__054   \n",
       "829922     2531             36       15300  15300__023   \n",
       "\n",
       "                                          scientificName  \\\n",
       "idx                                                        \n",
       "22229                      Allium haematochiton S.Watson   \n",
       "49039                  Aralia bicrenata Wooton & Standl.   \n",
       "49581   Araujia odorata (Hook. & Arn.) Fontella & Goyder   \n",
       "47837                        Aquilegia elegantula Greene   \n",
       "2959            Acalypha chamaedrifolia (Lam.) Müll.Arg.   \n",
       "...                                                  ...   \n",
       "801592                        Trifolium variegatum Nutt.   \n",
       "798461                       Tridens flavus (L.) Hitchc.   \n",
       "818380                             Verbena simplex Lehm.   \n",
       "838480                    Zephyranthes treatiae S.Watson   \n",
       "829922                           Warea sessilifolia Nash   \n",
       "\n",
       "                        Species  \\\n",
       "idx                               \n",
       "22229      Allium haematochiton   \n",
       "49039          Aralia bicrenata   \n",
       "49581           Araujia odorata   \n",
       "47837      Aquilegia elegantula   \n",
       "2959    Acalypha chamaedrifolia   \n",
       "...                         ...   \n",
       "801592     Trifolium variegatum   \n",
       "798461           Tridens flavus   \n",
       "818380          Verbena simplex   \n",
       "838480    Zephyranthes treatiae   \n",
       "829922       Warea sessilifolia   \n",
       "\n",
       "                                                                                                               source_path  \\\n",
       "idx                                                                                                                          \n",
       "22229   /media/data_cifs/projects/prj_fossils/data/raw_data/herbarium-2022-fgvc9_resize/train_images/004/17/00417__002.jpg   \n",
       "49039   /media/data_cifs/projects/prj_fossils/data/raw_data/herbarium-2022-fgvc9_resize/train_images/009/57/00957__016.jpg   \n",
       "49581   /media/data_cifs/projects/prj_fossils/data/raw_data/herbarium-2022-fgvc9_resize/train_images/009/66/00966__028.jpg   \n",
       "47837   /media/data_cifs/projects/prj_fossils/data/raw_data/herbarium-2022-fgvc9_resize/train_images/009/31/00931__094.jpg   \n",
       "2959    /media/data_cifs/projects/prj_fossils/data/raw_data/herbarium-2022-fgvc9_resize/train_images/000/52/00052__068.jpg   \n",
       "...                                                                                                                    ...   \n",
       "801592  /media/data_cifs/projects/prj_fossils/data/raw_data/herbarium-2022-fgvc9_resize/train_images/147/86/14786__057.jpg   \n",
       "798461  /media/data_cifs/projects/prj_fossils/data/raw_data/herbarium-2022-fgvc9_resize/train_images/147/30/14730__080.jpg   \n",
       "818380  /media/data_cifs/projects/prj_fossils/data/raw_data/herbarium-2022-fgvc9_resize/train_images/150/91/15091__063.jpg   \n",
       "838480  /media/data_cifs/projects/prj_fossils/data/raw_data/herbarium-2022-fgvc9_resize/train_images/154/79/15479__054.jpg   \n",
       "829922  /media/data_cifs/projects/prj_fossils/data/raw_data/herbarium-2022-fgvc9_resize/train_images/153/00/15300__023.jpg   \n",
       "\n",
       "                                                                                                                          path  \n",
       "idx                                                                                                                             \n",
       "22229   /media/data_cifs/projects/prj_fossils/data/raw_data/herbarium-2022-fgvc9_resize-512/train_images/004/17/00417__002.jpg  \n",
       "49039   /media/data_cifs/projects/prj_fossils/data/raw_data/herbarium-2022-fgvc9_resize-512/train_images/009/57/00957__016.jpg  \n",
       "49581   /media/data_cifs/projects/prj_fossils/data/raw_data/herbarium-2022-fgvc9_resize-512/train_images/009/66/00966__028.jpg  \n",
       "47837   /media/data_cifs/projects/prj_fossils/data/raw_data/herbarium-2022-fgvc9_resize-512/train_images/009/31/00931__094.jpg  \n",
       "2959    /media/data_cifs/projects/prj_fossils/data/raw_data/herbarium-2022-fgvc9_resize-512/train_images/000/52/00052__068.jpg  \n",
       "...                                                                                                                        ...  \n",
       "801592  /media/data_cifs/projects/prj_fossils/data/raw_data/herbarium-2022-fgvc9_resize-512/train_images/147/86/14786__057.jpg  \n",
       "798461  /media/data_cifs/projects/prj_fossils/data/raw_data/herbarium-2022-fgvc9_resize-512/train_images/147/30/14730__080.jpg  \n",
       "818380  /media/data_cifs/projects/prj_fossils/data/raw_data/herbarium-2022-fgvc9_resize-512/train_images/150/91/15091__063.jpg  \n",
       "838480  /media/data_cifs/projects/prj_fossils/data/raw_data/herbarium-2022-fgvc9_resize-512/train_images/154/79/15479__054.jpg  \n",
       "829922  /media/data_cifs/projects/prj_fossils/data/raw_data/herbarium-2022-fgvc9_resize-512/train_images/153/00/15300__023.jpg  \n",
       "\n",
       "[838 rows x 8 columns]"
      ]
     },
     "execution_count": 24,
     "metadata": {},
     "output_type": "execute_result"
    }
   ],
   "source": [
    "df = data_df.compute()\n",
    "df"
   ]
  },
  {
   "cell_type": "code",
   "execution_count": 80,
   "id": "feae979c-6600-4001-958d-53515f9a41ee",
   "metadata": {},
   "outputs": [],
   "source": [
    "\n",
    "data_df.head(2).path.apply(lambda x: Path(x).parent.parent.parent.parent)\n",
    "\n",
    "df = data_df.loc[0,:].persist()\n",
    "df.persist()"
   ]
  },
  {
   "cell_type": "code",
   "execution_count": 3,
   "id": "dc58f5d5-241e-475a-939d-97a282bfcea8",
   "metadata": {},
   "outputs": [
    {
     "name": "stderr",
     "output_type": "stream",
     "text": [
      "Failed to detect the name of this notebook, you can set it manually with the WANDB_NOTEBOOK_NAME environment variable to enable code saving.\n",
      "\u001b[34m\u001b[1mwandb\u001b[0m: wandb version 0.12.11 is available!  To upgrade, please run:\n",
      "\u001b[34m\u001b[1mwandb\u001b[0m:  $ pip install wandb --upgrade\n"
     ]
    },
    {
     "data": {
      "text/html": [
       "\n",
       "                    Syncing run <strong><a href=\"https://wandb.ai/jrose/herbarium2022/runs/4y18pu27\" target=\"_blank\">crisp-plasma-127</a></strong> to <a href=\"https://wandb.ai/jrose/herbarium2022\" target=\"_blank\">Weights & Biases</a> (<a href=\"https://docs.wandb.com/integrations/jupyter.html\" target=\"_blank\">docs</a>).<br/>\n",
       "\n",
       "                "
      ],
      "text/plain": [
       "<IPython.core.display.HTML object>"
      ]
     },
     "metadata": {},
     "output_type": "display_data"
    },
    {
     "data": {
      "text/html": [
       "<br/>Waiting for W&B process to finish, PID 2224592... <strong style=\"color:green\">(success).</strong>"
      ],
      "text/plain": [
       "<IPython.core.display.HTML object>"
      ]
     },
     "metadata": {},
     "output_type": "display_data"
    },
    {
     "data": {
      "application/vnd.jupyter.widget-view+json": {
       "model_id": "",
       "version_major": 2,
       "version_minor": 0
      },
      "text/plain": [
       "VBox(children=(Label(value=' 218.92MB of 218.92MB uploaded (0.00MB deduped)\\r'), FloatProgress(value=1.0, max=…"
      ]
     },
     "metadata": {},
     "output_type": "display_data"
    },
    {
     "data": {
      "text/html": [
       "<style>\n",
       "    table.wandb td:nth-child(1) { padding: 0 10px; text-align: right }\n",
       "    .wandb-row { display: flex; flex-direction: row; flex-wrap: wrap; width: 100% }\n",
       "    .wandb-col { display: flex; flex-direction: column; flex-basis: 100%; flex: 1; padding: 10px; }\n",
       "    </style>\n",
       "<div class=\"wandb-row\"><div class=\"wandb-col\">\n",
       "</div><div class=\"wandb-col\">\n",
       "</div></div>\n",
       "Synced 6 W&B file(s), 0 media file(s), 1 artifact file(s) and 1 other file(s)\n",
       "<br/>Synced <strong style=\"color:#cdcd00\">crisp-plasma-127</strong>: <a href=\"https://wandb.ai/jrose/herbarium2022/runs/4y18pu27\" target=\"_blank\">https://wandb.ai/jrose/herbarium2022/runs/4y18pu27</a><br/>\n",
       "Find logs at: <code>./wandb/run-20220329_045958-4y18pu27/logs</code><br/>\n"
      ],
      "text/plain": [
       "<IPython.core.display.HTML object>"
      ]
     },
     "metadata": {},
     "output_type": "display_data"
    }
   ],
   "source": [
    "topk = 2\n",
    "ckpt_dir = \"/media/data_cifs/projects/prj_fossils/users/jacob/experiments/2022/herbarium2022/hydra_experiments/2022-03-28/09-32-27/ckpts/\"\n",
    "\n",
    "# ckpt_paths = [os.path.join(ckpt_dir, file_path) for file_path in sorted(os.listdir(ckpt_dir), reverse=True)][:2]\n",
    "# pp(ckpt_paths)\n",
    "\n",
    "ckpt_path = \"/media/data_cifs/projects/prj_fossils/users/jacob/experiments/2022/herbarium2022/hydra_experiments/2022-03-28/09-32-27/ckpts/epoch=10-val_loss=1.901-val_macro_F1=0.567/model_weights.ckpt\"\n",
    "\n",
    "\n",
    "# jrose/herbarium2022/2up1al9o\n",
    "\n",
    "import os\n",
    "import wandb\n",
    "\n",
    "\n",
    "artifact = wandb.Artifact(\"model-weights\", \"checkpoints\")\n",
    "# Add Files and Assets to the artifact using \n",
    "# `.add`, `.add_file`, `.add_dir`, and `.add_reference`\n",
    "artifact.add_file(ckpt_path)\n",
    "artifact.save()"
   ]
  },
  {
   "cell_type": "code",
   "execution_count": 1,
   "id": "7bbfc7dc-b52e-44f8-83c5-c0e0ab426c95",
   "metadata": {},
   "outputs": [
    {
     "name": "stdout",
     "output_type": "stream",
     "text": [
      "BASH_EXECUTION_STRING='set | grep WANDB'\n",
      "WANDB_API_KEY=4da22f6127e7f77527340ffede80688f6e9fb597\n",
      "WANDB_CACHE_DIR=/media/data/jacob/wandb_cache\n",
      "WANDB_ENTITY=jrose\n",
      "WANDB_PROJECT=herbarium2022\n"
     ]
    },
    {
     "ename": "CommError",
     "evalue": "Could not find run <Run jrose/2up1al9o/2up1al9o (not found)>",
     "output_type": "error",
     "traceback": [
      "\u001b[0;31m---------------------------------------------------------------------------\u001b[0m",
      "\u001b[0;31mValueError\u001b[0m                                Traceback (most recent call last)",
      "\u001b[0;32m/media/data/conda/jrose3/envs/imutils/lib/python3.8/site-packages/wandb/apis/normalize.py\u001b[0m in \u001b[0;36mwrapper\u001b[0;34m(*args, **kwargs)\u001b[0m\n\u001b[1;32m     23\u001b[0m         \u001b[0;32mtry\u001b[0m\u001b[0;34m:\u001b[0m\u001b[0;34m\u001b[0m\u001b[0;34m\u001b[0m\u001b[0m\n\u001b[0;32m---> 24\u001b[0;31m             \u001b[0;32mreturn\u001b[0m \u001b[0mfunc\u001b[0m\u001b[0;34m(\u001b[0m\u001b[0;34m*\u001b[0m\u001b[0margs\u001b[0m\u001b[0;34m,\u001b[0m \u001b[0;34m**\u001b[0m\u001b[0mkwargs\u001b[0m\u001b[0;34m)\u001b[0m\u001b[0;34m\u001b[0m\u001b[0;34m\u001b[0m\u001b[0m\n\u001b[0m\u001b[1;32m     25\u001b[0m         \u001b[0;32mexcept\u001b[0m \u001b[0mrequests\u001b[0m\u001b[0;34m.\u001b[0m\u001b[0mHTTPError\u001b[0m \u001b[0;32mas\u001b[0m \u001b[0merr\u001b[0m\u001b[0;34m:\u001b[0m\u001b[0;34m\u001b[0m\u001b[0;34m\u001b[0m\u001b[0m\n",
      "\u001b[0;32m/media/data/conda/jrose3/envs/imutils/lib/python3.8/site-packages/wandb/apis/public.py\u001b[0m in \u001b[0;36mrun\u001b[0;34m(self, path)\u001b[0m\n\u001b[1;32m    698\u001b[0m         \u001b[0;32mif\u001b[0m \u001b[0;32mnot\u001b[0m \u001b[0mself\u001b[0m\u001b[0;34m.\u001b[0m\u001b[0m_runs\u001b[0m\u001b[0;34m.\u001b[0m\u001b[0mget\u001b[0m\u001b[0;34m(\u001b[0m\u001b[0mpath\u001b[0m\u001b[0;34m)\u001b[0m\u001b[0;34m:\u001b[0m\u001b[0;34m\u001b[0m\u001b[0;34m\u001b[0m\u001b[0m\n\u001b[0;32m--> 699\u001b[0;31m             \u001b[0mself\u001b[0m\u001b[0;34m.\u001b[0m\u001b[0m_runs\u001b[0m\u001b[0;34m[\u001b[0m\u001b[0mpath\u001b[0m\u001b[0;34m]\u001b[0m \u001b[0;34m=\u001b[0m \u001b[0mRun\u001b[0m\u001b[0;34m(\u001b[0m\u001b[0mself\u001b[0m\u001b[0;34m.\u001b[0m\u001b[0mclient\u001b[0m\u001b[0;34m,\u001b[0m \u001b[0mentity\u001b[0m\u001b[0;34m,\u001b[0m \u001b[0mproject\u001b[0m\u001b[0;34m,\u001b[0m \u001b[0mrun\u001b[0m\u001b[0;34m)\u001b[0m\u001b[0;34m\u001b[0m\u001b[0;34m\u001b[0m\u001b[0m\n\u001b[0m\u001b[1;32m    700\u001b[0m         \u001b[0;32mreturn\u001b[0m \u001b[0mself\u001b[0m\u001b[0;34m.\u001b[0m\u001b[0m_runs\u001b[0m\u001b[0;34m[\u001b[0m\u001b[0mpath\u001b[0m\u001b[0;34m]\u001b[0m\u001b[0;34m\u001b[0m\u001b[0;34m\u001b[0m\u001b[0m\n",
      "\u001b[0;32m/media/data/conda/jrose3/envs/imutils/lib/python3.8/site-packages/wandb/apis/public.py\u001b[0m in \u001b[0;36m__init__\u001b[0;34m(self, client, entity, project, run_id, attrs)\u001b[0m\n\u001b[1;32m   1503\u001b[0m \u001b[0;34m\u001b[0m\u001b[0m\n\u001b[0;32m-> 1504\u001b[0;31m         \u001b[0mself\u001b[0m\u001b[0;34m.\u001b[0m\u001b[0mload\u001b[0m\u001b[0;34m(\u001b[0m\u001b[0mforce\u001b[0m\u001b[0;34m=\u001b[0m\u001b[0;32mnot\u001b[0m \u001b[0mattrs\u001b[0m\u001b[0;34m)\u001b[0m\u001b[0;34m\u001b[0m\u001b[0;34m\u001b[0m\u001b[0m\n\u001b[0m\u001b[1;32m   1505\u001b[0m \u001b[0;34m\u001b[0m\u001b[0m\n",
      "\u001b[0;32m/media/data/conda/jrose3/envs/imutils/lib/python3.8/site-packages/wandb/apis/public.py\u001b[0m in \u001b[0;36mload\u001b[0;34m(self, force)\u001b[0m\n\u001b[1;32m   1607\u001b[0m             ):\n\u001b[0;32m-> 1608\u001b[0;31m                 \u001b[0;32mraise\u001b[0m \u001b[0mValueError\u001b[0m\u001b[0;34m(\u001b[0m\u001b[0;34m\"Could not find run %s\"\u001b[0m \u001b[0;34m%\u001b[0m \u001b[0mself\u001b[0m\u001b[0;34m)\u001b[0m\u001b[0;34m\u001b[0m\u001b[0;34m\u001b[0m\u001b[0m\n\u001b[0m\u001b[1;32m   1609\u001b[0m             \u001b[0mself\u001b[0m\u001b[0;34m.\u001b[0m\u001b[0m_attrs\u001b[0m \u001b[0;34m=\u001b[0m \u001b[0mresponse\u001b[0m\u001b[0;34m[\u001b[0m\u001b[0;34m\"project\"\u001b[0m\u001b[0;34m]\u001b[0m\u001b[0;34m[\u001b[0m\u001b[0;34m\"run\"\u001b[0m\u001b[0;34m]\u001b[0m\u001b[0;34m\u001b[0m\u001b[0;34m\u001b[0m\u001b[0m\n",
      "\u001b[0;31mValueError\u001b[0m: Could not find run <Run jrose/2up1al9o/2up1al9o (not found)>",
      "\nDuring handling of the above exception, another exception occurred:\n",
      "\u001b[0;31mCommError\u001b[0m                                 Traceback (most recent call last)",
      "\u001b[0;32m/tmp/ipykernel_2207308/394117685.py\u001b[0m in \u001b[0;36m<cell line: 23>\u001b[0;34m()\u001b[0m\n\u001b[1;32m     21\u001b[0m \u001b[0;34m\u001b[0m\u001b[0m\n\u001b[1;32m     22\u001b[0m \u001b[0;31m# run = api.run(overrides=dict(entity=\"jrose\", project=\"herbarium2022\", run=\"2up1al9o\"))\u001b[0m\u001b[0;34m\u001b[0m\u001b[0;34m\u001b[0m\u001b[0;34m\u001b[0m\u001b[0m\n\u001b[0;32m---> 23\u001b[0;31m \u001b[0mrun\u001b[0m \u001b[0;34m=\u001b[0m \u001b[0mapi\u001b[0m\u001b[0;34m.\u001b[0m\u001b[0mrun\u001b[0m\u001b[0;34m(\u001b[0m\u001b[0;34m\"2up1al9o\"\u001b[0m\u001b[0;34m)\u001b[0m\u001b[0;34m\u001b[0m\u001b[0;34m\u001b[0m\u001b[0m\n\u001b[0m\u001b[1;32m     24\u001b[0m \u001b[0;34m\u001b[0m\u001b[0m\n\u001b[1;32m     25\u001b[0m \u001b[0mprint\u001b[0m\u001b[0;34m(\u001b[0m\u001b[0mrun\u001b[0m\u001b[0;34m)\u001b[0m\u001b[0;34m\u001b[0m\u001b[0;34m\u001b[0m\u001b[0m\n",
      "\u001b[0;32m/media/data/conda/jrose3/envs/imutils/lib/python3.8/site-packages/wandb/apis/normalize.py\u001b[0m in \u001b[0;36mwrapper\u001b[0;34m(*args, **kwargs)\u001b[0m\n\u001b[1;32m     60\u001b[0m                 \u001b[0msix\u001b[0m\u001b[0;34m.\u001b[0m\u001b[0mreraise\u001b[0m\u001b[0;34m(\u001b[0m\u001b[0;34m*\u001b[0m\u001b[0msys\u001b[0m\u001b[0;34m.\u001b[0m\u001b[0mexc_info\u001b[0m\u001b[0;34m(\u001b[0m\u001b[0;34m)\u001b[0m\u001b[0;34m)\u001b[0m\u001b[0;34m\u001b[0m\u001b[0;34m\u001b[0m\u001b[0m\n\u001b[1;32m     61\u001b[0m             \u001b[0;32melse\u001b[0m\u001b[0;34m:\u001b[0m\u001b[0;34m\u001b[0m\u001b[0;34m\u001b[0m\u001b[0m\n\u001b[0;32m---> 62\u001b[0;31m                 \u001b[0msix\u001b[0m\u001b[0;34m.\u001b[0m\u001b[0mreraise\u001b[0m\u001b[0;34m(\u001b[0m\u001b[0mCommError\u001b[0m\u001b[0;34m,\u001b[0m \u001b[0mCommError\u001b[0m\u001b[0;34m(\u001b[0m\u001b[0mmessage\u001b[0m\u001b[0;34m,\u001b[0m \u001b[0merr\u001b[0m\u001b[0;34m)\u001b[0m\u001b[0;34m,\u001b[0m \u001b[0msys\u001b[0m\u001b[0;34m.\u001b[0m\u001b[0mexc_info\u001b[0m\u001b[0;34m(\u001b[0m\u001b[0;34m)\u001b[0m\u001b[0;34m[\u001b[0m\u001b[0;36m2\u001b[0m\u001b[0;34m]\u001b[0m\u001b[0;34m)\u001b[0m\u001b[0;34m\u001b[0m\u001b[0;34m\u001b[0m\u001b[0m\n\u001b[0m\u001b[1;32m     63\u001b[0m \u001b[0;34m\u001b[0m\u001b[0m\n\u001b[1;32m     64\u001b[0m     \u001b[0;32mreturn\u001b[0m \u001b[0mwrapper\u001b[0m\u001b[0;34m\u001b[0m\u001b[0;34m\u001b[0m\u001b[0m\n",
      "\u001b[0;32m/media/data/conda/jrose3/envs/imutils/lib/python3.8/site-packages/six.py\u001b[0m in \u001b[0;36mreraise\u001b[0;34m(tp, value, tb)\u001b[0m\n\u001b[1;32m    716\u001b[0m                 \u001b[0mvalue\u001b[0m \u001b[0;34m=\u001b[0m \u001b[0mtp\u001b[0m\u001b[0;34m(\u001b[0m\u001b[0;34m)\u001b[0m\u001b[0;34m\u001b[0m\u001b[0;34m\u001b[0m\u001b[0m\n\u001b[1;32m    717\u001b[0m             \u001b[0;32mif\u001b[0m \u001b[0mvalue\u001b[0m\u001b[0;34m.\u001b[0m\u001b[0m__traceback__\u001b[0m \u001b[0;32mis\u001b[0m \u001b[0;32mnot\u001b[0m \u001b[0mtb\u001b[0m\u001b[0;34m:\u001b[0m\u001b[0;34m\u001b[0m\u001b[0;34m\u001b[0m\u001b[0m\n\u001b[0;32m--> 718\u001b[0;31m                 \u001b[0;32mraise\u001b[0m \u001b[0mvalue\u001b[0m\u001b[0;34m.\u001b[0m\u001b[0mwith_traceback\u001b[0m\u001b[0;34m(\u001b[0m\u001b[0mtb\u001b[0m\u001b[0;34m)\u001b[0m\u001b[0;34m\u001b[0m\u001b[0;34m\u001b[0m\u001b[0m\n\u001b[0m\u001b[1;32m    719\u001b[0m             \u001b[0;32mraise\u001b[0m \u001b[0mvalue\u001b[0m\u001b[0;34m\u001b[0m\u001b[0;34m\u001b[0m\u001b[0m\n\u001b[1;32m    720\u001b[0m         \u001b[0;32mfinally\u001b[0m\u001b[0;34m:\u001b[0m\u001b[0;34m\u001b[0m\u001b[0;34m\u001b[0m\u001b[0m\n",
      "\u001b[0;32m/media/data/conda/jrose3/envs/imutils/lib/python3.8/site-packages/wandb/apis/normalize.py\u001b[0m in \u001b[0;36mwrapper\u001b[0;34m(*args, **kwargs)\u001b[0m\n\u001b[1;32m     22\u001b[0m         \u001b[0mmessage\u001b[0m \u001b[0;34m=\u001b[0m \u001b[0;34m\"Whoa, you found a bug.\"\u001b[0m\u001b[0;34m\u001b[0m\u001b[0;34m\u001b[0m\u001b[0m\n\u001b[1;32m     23\u001b[0m         \u001b[0;32mtry\u001b[0m\u001b[0;34m:\u001b[0m\u001b[0;34m\u001b[0m\u001b[0;34m\u001b[0m\u001b[0m\n\u001b[0;32m---> 24\u001b[0;31m             \u001b[0;32mreturn\u001b[0m \u001b[0mfunc\u001b[0m\u001b[0;34m(\u001b[0m\u001b[0;34m*\u001b[0m\u001b[0margs\u001b[0m\u001b[0;34m,\u001b[0m \u001b[0;34m**\u001b[0m\u001b[0mkwargs\u001b[0m\u001b[0;34m)\u001b[0m\u001b[0;34m\u001b[0m\u001b[0;34m\u001b[0m\u001b[0m\n\u001b[0m\u001b[1;32m     25\u001b[0m         \u001b[0;32mexcept\u001b[0m \u001b[0mrequests\u001b[0m\u001b[0;34m.\u001b[0m\u001b[0mHTTPError\u001b[0m \u001b[0;32mas\u001b[0m \u001b[0merr\u001b[0m\u001b[0;34m:\u001b[0m\u001b[0;34m\u001b[0m\u001b[0;34m\u001b[0m\u001b[0m\n\u001b[1;32m     26\u001b[0m             \u001b[0;32mraise\u001b[0m \u001b[0mCommError\u001b[0m\u001b[0;34m(\u001b[0m\u001b[0merr\u001b[0m\u001b[0;34m.\u001b[0m\u001b[0mresponse\u001b[0m\u001b[0;34m,\u001b[0m \u001b[0merr\u001b[0m\u001b[0;34m)\u001b[0m\u001b[0;34m\u001b[0m\u001b[0;34m\u001b[0m\u001b[0m\n",
      "\u001b[0;32m/media/data/conda/jrose3/envs/imutils/lib/python3.8/site-packages/wandb/apis/public.py\u001b[0m in \u001b[0;36mrun\u001b[0;34m(self, path)\u001b[0m\n\u001b[1;32m    697\u001b[0m         \u001b[0mentity\u001b[0m\u001b[0;34m,\u001b[0m \u001b[0mproject\u001b[0m\u001b[0;34m,\u001b[0m \u001b[0mrun\u001b[0m \u001b[0;34m=\u001b[0m \u001b[0mself\u001b[0m\u001b[0;34m.\u001b[0m\u001b[0m_parse_path\u001b[0m\u001b[0;34m(\u001b[0m\u001b[0mpath\u001b[0m\u001b[0;34m)\u001b[0m\u001b[0;34m\u001b[0m\u001b[0;34m\u001b[0m\u001b[0m\n\u001b[1;32m    698\u001b[0m         \u001b[0;32mif\u001b[0m \u001b[0;32mnot\u001b[0m \u001b[0mself\u001b[0m\u001b[0;34m.\u001b[0m\u001b[0m_runs\u001b[0m\u001b[0;34m.\u001b[0m\u001b[0mget\u001b[0m\u001b[0;34m(\u001b[0m\u001b[0mpath\u001b[0m\u001b[0;34m)\u001b[0m\u001b[0;34m:\u001b[0m\u001b[0;34m\u001b[0m\u001b[0;34m\u001b[0m\u001b[0m\n\u001b[0;32m--> 699\u001b[0;31m             \u001b[0mself\u001b[0m\u001b[0;34m.\u001b[0m\u001b[0m_runs\u001b[0m\u001b[0;34m[\u001b[0m\u001b[0mpath\u001b[0m\u001b[0;34m]\u001b[0m \u001b[0;34m=\u001b[0m \u001b[0mRun\u001b[0m\u001b[0;34m(\u001b[0m\u001b[0mself\u001b[0m\u001b[0;34m.\u001b[0m\u001b[0mclient\u001b[0m\u001b[0;34m,\u001b[0m \u001b[0mentity\u001b[0m\u001b[0;34m,\u001b[0m \u001b[0mproject\u001b[0m\u001b[0;34m,\u001b[0m \u001b[0mrun\u001b[0m\u001b[0;34m)\u001b[0m\u001b[0;34m\u001b[0m\u001b[0;34m\u001b[0m\u001b[0m\n\u001b[0m\u001b[1;32m    700\u001b[0m         \u001b[0;32mreturn\u001b[0m \u001b[0mself\u001b[0m\u001b[0;34m.\u001b[0m\u001b[0m_runs\u001b[0m\u001b[0;34m[\u001b[0m\u001b[0mpath\u001b[0m\u001b[0;34m]\u001b[0m\u001b[0;34m\u001b[0m\u001b[0;34m\u001b[0m\u001b[0m\n\u001b[1;32m    701\u001b[0m \u001b[0;34m\u001b[0m\u001b[0m\n",
      "\u001b[0;32m/media/data/conda/jrose3/envs/imutils/lib/python3.8/site-packages/wandb/apis/public.py\u001b[0m in \u001b[0;36m__init__\u001b[0;34m(self, client, entity, project, run_id, attrs)\u001b[0m\n\u001b[1;32m   1502\u001b[0m         \u001b[0mself\u001b[0m\u001b[0;34m.\u001b[0m\u001b[0m_state\u001b[0m \u001b[0;34m=\u001b[0m \u001b[0mattrs\u001b[0m\u001b[0;34m.\u001b[0m\u001b[0mget\u001b[0m\u001b[0;34m(\u001b[0m\u001b[0;34m\"state\"\u001b[0m\u001b[0;34m,\u001b[0m \u001b[0;34m\"not found\"\u001b[0m\u001b[0;34m)\u001b[0m\u001b[0;34m\u001b[0m\u001b[0;34m\u001b[0m\u001b[0m\n\u001b[1;32m   1503\u001b[0m \u001b[0;34m\u001b[0m\u001b[0m\n\u001b[0;32m-> 1504\u001b[0;31m         \u001b[0mself\u001b[0m\u001b[0;34m.\u001b[0m\u001b[0mload\u001b[0m\u001b[0;34m(\u001b[0m\u001b[0mforce\u001b[0m\u001b[0;34m=\u001b[0m\u001b[0;32mnot\u001b[0m \u001b[0mattrs\u001b[0m\u001b[0;34m)\u001b[0m\u001b[0;34m\u001b[0m\u001b[0;34m\u001b[0m\u001b[0m\n\u001b[0m\u001b[1;32m   1505\u001b[0m \u001b[0;34m\u001b[0m\u001b[0m\n\u001b[1;32m   1506\u001b[0m     \u001b[0;34m@\u001b[0m\u001b[0mproperty\u001b[0m\u001b[0;34m\u001b[0m\u001b[0;34m\u001b[0m\u001b[0m\n",
      "\u001b[0;32m/media/data/conda/jrose3/envs/imutils/lib/python3.8/site-packages/wandb/apis/public.py\u001b[0m in \u001b[0;36mload\u001b[0;34m(self, force)\u001b[0m\n\u001b[1;32m   1606\u001b[0m                 \u001b[0;32mor\u001b[0m \u001b[0mresponse\u001b[0m\u001b[0;34m[\u001b[0m\u001b[0;34m\"project\"\u001b[0m\u001b[0;34m]\u001b[0m\u001b[0;34m.\u001b[0m\u001b[0mget\u001b[0m\u001b[0;34m(\u001b[0m\u001b[0;34m\"run\"\u001b[0m\u001b[0;34m)\u001b[0m \u001b[0;32mis\u001b[0m \u001b[0;32mNone\u001b[0m\u001b[0;34m\u001b[0m\u001b[0;34m\u001b[0m\u001b[0m\n\u001b[1;32m   1607\u001b[0m             ):\n\u001b[0;32m-> 1608\u001b[0;31m                 \u001b[0;32mraise\u001b[0m \u001b[0mValueError\u001b[0m\u001b[0;34m(\u001b[0m\u001b[0;34m\"Could not find run %s\"\u001b[0m \u001b[0;34m%\u001b[0m \u001b[0mself\u001b[0m\u001b[0;34m)\u001b[0m\u001b[0;34m\u001b[0m\u001b[0;34m\u001b[0m\u001b[0m\n\u001b[0m\u001b[1;32m   1609\u001b[0m             \u001b[0mself\u001b[0m\u001b[0;34m.\u001b[0m\u001b[0m_attrs\u001b[0m \u001b[0;34m=\u001b[0m \u001b[0mresponse\u001b[0m\u001b[0;34m[\u001b[0m\u001b[0;34m\"project\"\u001b[0m\u001b[0;34m]\u001b[0m\u001b[0;34m[\u001b[0m\u001b[0;34m\"run\"\u001b[0m\u001b[0;34m]\u001b[0m\u001b[0;34m\u001b[0m\u001b[0;34m\u001b[0m\u001b[0m\n\u001b[1;32m   1610\u001b[0m             \u001b[0mself\u001b[0m\u001b[0;34m.\u001b[0m\u001b[0m_state\u001b[0m \u001b[0;34m=\u001b[0m \u001b[0mself\u001b[0m\u001b[0;34m.\u001b[0m\u001b[0m_attrs\u001b[0m\u001b[0;34m[\u001b[0m\u001b[0;34m\"state\"\u001b[0m\u001b[0;34m]\u001b[0m\u001b[0;34m\u001b[0m\u001b[0;34m\u001b[0m\u001b[0m\n",
      "\u001b[0;31mCommError\u001b[0m: Could not find run <Run jrose/2up1al9o/2up1al9o (not found)>"
     ]
    }
   ],
   "source": [
    "os.environ[\"WANDB_PROJECT\"]=\"herbarium2022\"\n",
    "!set | grep WANDB    \n",
    "\n",
    "\n",
    "api = wandb.Api()\n",
    "\n",
    "# run = api.run(overrides=dict(entity=\"jrose\", project=\"herbarium2022\", run=\"2up1al9o\"))\n",
    "run = api.run(\"herbarium2022/2up1al9o\")\n",
    "\n",
    "print(run)\n",
    "\n",
    "run.upload_file(ckpt_path)\n",
    "# for path in ckpt_paths:\n",
    "#     print(f\"Uploading file to wandb: {path}\")\n",
    "#     run.upload_file(path)\n",
    "# run = wandb.init(project=PROJECT_NAME, resume=True)\n",
    "run.finish"
   ]
  },
  {
   "cell_type": "code",
   "execution_count": 3,
   "id": "d7fc0856-8764-47f0-a302-745a996ee955",
   "metadata": {},
   "outputs": [],
   "source": [
    "# Herbarium2022DataModule,\n",
    "catalog_dir = \"/media/data/jacob/GitHub/image-utils/imutils/big/data\"\n",
    "data = Herbarium2022Dataset(catalog_dir=catalog_dir, subset=\"train\", transform=transform)"
   ]
  },
  {
   "cell_type": "markdown",
   "id": "898f58bc-07e4-4af4-bbb6-8d461cd44102",
   "metadata": {},
   "source": [
    "# Download from wandb the best resnext50_4x30d or w/e from Experiment #18 2022-03-28 "
   ]
  },
  {
   "cell_type": "code",
   "execution_count": null,
   "id": "73a2a929-dffe-41da-9885-0e5afa45b14b",
   "metadata": {},
   "outputs": [],
   "source": [
    "import wandb\n",
    "run = wandb.init()\n",
    "artifact = run.use_artifact('jrose/herbarium2022/model-weights:v8', type='checkpoints')\n",
    "artifact_dir = artifact.download()"
   ]
  },
  {
   "cell_type": "code",
   "execution_count": null,
   "id": "efe2e487-c170-494b-a57d-94dd3bb3ea6f",
   "metadata": {},
   "outputs": [],
   "source": []
  },
  {
   "cell_type": "code",
   "execution_count": null,
   "id": "88e1d066-84a9-489b-8084-416db1b60828",
   "metadata": {},
   "outputs": [],
   "source": []
  },
  {
   "cell_type": "code",
   "execution_count": null,
   "id": "831788f8-4729-4b48-afec-bcc918ebe767",
   "metadata": {},
   "outputs": [],
   "source": []
  },
  {
   "cell_type": "markdown",
   "id": "f5d58307-642b-43a7-b7ec-e1755861d5ef",
   "metadata": {},
   "source": [
    "## etc"
   ]
  },
  {
   "cell_type": "code",
   "execution_count": 62,
   "id": "8ea0cf7a-3bff-4c3f-8044-6e34b16b453e",
   "metadata": {},
   "outputs": [],
   "source": [
    "data_df.loc[:5,:]\n",
    "\n",
    "%%time\n",
    "\n",
    "demo = data_df.loc[:10,:].path.apply(cfg.get_target_path, meta=(\"target_path\", \"string\"))\n",
    "demo\n",
    "\n",
    "# demo.compute()\n",
    "\n",
    "demo = demo.persist()\n",
    "demo\n",
    "\n",
    "demo.shape[0].compute()\n",
    "\n",
    "dir(demo)\n",
    "\n",
    "\n",
    "data_df = data_df.assign(target_path = data_df.path.apply(cfg.get_target_path, meta=(\"target_path\", \"string\")))\n",
    "data_df.head(10)"
   ]
  },
  {
   "cell_type": "code",
   "execution_count": 52,
   "id": "5b173cb8-9156-4cbb-883d-1f2cba3e85ea",
   "metadata": {},
   "outputs": [
    {
     "name": "stdout",
     "output_type": "stream",
     "text": [
      "836\n"
     ]
    }
   ],
   "source": [
    "# data_df = data_df.persist()\n",
    "print(data_df.shape[0].compute())"
   ]
  },
  {
   "cell_type": "code",
   "execution_count": 54,
   "id": "526f293e-ef3c-4e3c-9633-d02abd34f52a",
   "metadata": {},
   "outputs": [
    {
     "name": "stdout",
     "output_type": "stream",
     "text": [
      "839772\n"
     ]
    }
   ],
   "source": [
    "# data_df = data_df.persist()\n",
    "print(train_df.shape[0].compute())"
   ]
  },
  {
   "cell_type": "code",
   "execution_count": 55,
   "id": "763714c0-0308-4e21-84b5-1c7e0d53ba34",
   "metadata": {},
   "outputs": [
    {
     "data": {
      "text/plain": [
       "1004.5119617224881"
      ]
     },
     "execution_count": 55,
     "metadata": {},
     "output_type": "execute_result"
    }
   ],
   "source": [
    "839772/836"
   ]
  },
  {
   "cell_type": "code",
   "execution_count": 18,
   "id": "90172eb7-0fd7-4ec1-8aa0-107a42f396e9",
   "metadata": {},
   "outputs": [
    {
     "data": {
      "image/png": "[encoded data removed]",
      "text/plain": [
       "<IPython.core.display.Image object>"
      ]
     },
     "execution_count": 18,
     "metadata": {},
     "output_type": "execute_result"
    }
   ],
   "source": [
    "train_df.visualize()"
   ]
  },
  {
   "cell_type": "code",
   "execution_count": 25,
   "id": "5cd49cd0-92bc-4922-ab11-6ab5247af6e6",
   "metadata": {},
   "outputs": [],
   "source": [
    "def partition_info(data):\n",
    "    print(f\"type(data): {type(data)}\")\n",
    "    print(f\"data.shape: {data.shape}\")"
   ]
  },
  {
   "cell_type": "code",
   "execution_count": 26,
   "id": "83c8fdf3-6587-46cf-8a36-caac789265c0",
   "metadata": {},
   "outputs": [
    {
     "name": "stdout",
     "output_type": "stream",
     "text": [
      "type(data): <class 'pandas.core.frame.DataFrame'>\n",
      "data.shape: (2, 7)\n"
     ]
    }
   ],
   "source": [
    "result = train_df.map_partitions(partition_info)\n",
    "\n",
    "# train_ddf = train_df.to_delayed()"
   ]
  },
  {
   "cell_type": "code",
   "execution_count": 27,
   "id": "18c56a8c-649e-4602-9875-31b214b3b33f",
   "metadata": {},
   "outputs": [
    {
     "name": "stdout",
     "output_type": "stream",
     "text": [
      "type(data): <class 'pandas.core.frame.DataFrame'>\n",
      "data.shape: (56352, 7)\n",
      "type(data): <class 'pandas.core.frame.DataFrame'>\n",
      "data.shape: (56352, 7)\n",
      "type(data): <class 'pandas.core.frame.DataFrame'>\n",
      "data.shape: (56352, 7)\n",
      "type(data): <class 'pandas.core.frame.DataFrame'>\n",
      "data.shape: (56352, 7)\n",
      "type(data): <class 'pandas.core.frame.DataFrame'>\n",
      "data.shape: (56353, 7)\n",
      "type(data): <class 'pandas.core.frame.DataFrame'>\n",
      "data.shape: (46481, 7)\n",
      "type(data): <class 'pandas.core.frame.DataFrame'>\n",
      "data.shape: (46482, 7)\n",
      "type(data): <class 'pandas.core.frame.DataFrame'>\n",
      "data.shape: (46482, 7)\n",
      "type(data): <class 'pandas.core.frame.DataFrame'>\n",
      "data.shape: (46481, 7)\n",
      "type(data): <class 'pandas.core.frame.DataFrame'>\n",
      "data.shape: (46482, 7)\n",
      "type(data): <class 'pandas.core.frame.DataFrame'>\n",
      "data.shape: (46482, 7)\n",
      "type(data): <class 'pandas.core.frame.DataFrame'>type(data): <class 'pandas.core.frame.DataFrame'>\n",
      "data.shape: (55824, 7)\n",
      "type(data): <class 'pandas.core.frame.DataFrame'>\n",
      "data.shape: (55824, 7)\n",
      "type(data): <class 'pandas.core.frame.DataFrame'>\n",
      "data.shape: (55824, 7)\n",
      "type(data): <class 'pandas.core.frame.DataFrame'>\n",
      "data.shape: (55825, 7)\n",
      "\n",
      "data.shape: (55824, 7)\n"
     ]
    },
    {
     "data": {
      "text/plain": [
       "0     None\n",
       "1     None\n",
       "2     None\n",
       "3     None\n",
       "4     None\n",
       "5     None\n",
       "6     None\n",
       "7     None\n",
       "8     None\n",
       "9     None\n",
       "10    None\n",
       "11    None\n",
       "12    None\n",
       "13    None\n",
       "14    None\n",
       "15    None\n",
       "dtype: object"
      ]
     },
     "execution_count": 27,
     "metadata": {},
     "output_type": "execute_result"
    }
   ],
   "source": [
    "result.compute()"
   ]
  },
  {
   "cell_type": "code",
   "execution_count": 35,
   "id": "323d9c83-bceb-4f36-a2da-0268bdeb245e",
   "metadata": {},
   "outputs": [
    {
     "data": {
      "text/plain": [
       "[Delayed(('read-csv-99176002aed2fff347a06449c1d63598', 0)),\n",
       " Delayed(('read-csv-99176002aed2fff347a06449c1d63598', 1)),\n",
       " Delayed(('read-csv-99176002aed2fff347a06449c1d63598', 2))]"
      ]
     },
     "execution_count": 35,
     "metadata": {},
     "output_type": "execute_result"
    }
   ],
   "source": [
    "train_ddf"
   ]
  },
  {
   "cell_type": "code",
   "execution_count": 28,
   "id": "4e174f19-f435-4391-957a-eae5215cfb0f",
   "metadata": {},
   "outputs": [
    {
     "name": "stdout",
     "output_type": "stream",
     "text": [
      "CPU times: user 1.58 s, sys: 240 ms, total: 1.82 s\n",
      "Wall time: 1.95 s\n"
     ]
    },
    {
     "data": {
      "text/html": [
       "<div>\n",
       "<style scoped>\n",
       "    .dataframe tbody tr th:only-of-type {\n",
       "        vertical-align: middle;\n",
       "    }\n",
       "\n",
       "    .dataframe tbody tr th {\n",
       "        vertical-align: top;\n",
       "    }\n",
       "\n",
       "    .dataframe thead th {\n",
       "        text-align: right;\n",
       "    }\n",
       "</style>\n",
       "<table border=\"1\" class=\"dataframe\">\n",
       "  <thead>\n",
       "    <tr style=\"text-align: right;\">\n",
       "      <th></th>\n",
       "      <th>genus_id</th>\n",
       "      <th>institution_id</th>\n",
       "      <th>category_id</th>\n",
       "      <th>image_id</th>\n",
       "      <th>scientificName</th>\n",
       "      <th>Species</th>\n",
       "      <th>path</th>\n",
       "    </tr>\n",
       "  </thead>\n",
       "  <tbody>\n",
       "    <tr>\n",
       "      <th>0</th>\n",
       "      <td>1</td>\n",
       "      <td>0</td>\n",
       "      <td>0</td>\n",
       "      <td>00000__001</td>\n",
       "      <td>Abies amabilis (Douglas ex Loudon) J.Forbes</td>\n",
       "      <td>Abies amabilis</td>\n",
       "      <td>/media/data_cifs/projects/prj_fossils/data/raw...</td>\n",
       "    </tr>\n",
       "    <tr>\n",
       "      <th>1</th>\n",
       "      <td>1</td>\n",
       "      <td>0</td>\n",
       "      <td>0</td>\n",
       "      <td>00000__002</td>\n",
       "      <td>Abies amabilis (Douglas ex Loudon) J.Forbes</td>\n",
       "      <td>Abies amabilis</td>\n",
       "      <td>/media/data_cifs/projects/prj_fossils/data/raw...</td>\n",
       "    </tr>\n",
       "    <tr>\n",
       "      <th>2</th>\n",
       "      <td>1</td>\n",
       "      <td>0</td>\n",
       "      <td>0</td>\n",
       "      <td>00000__003</td>\n",
       "      <td>Abies amabilis (Douglas ex Loudon) J.Forbes</td>\n",
       "      <td>Abies amabilis</td>\n",
       "      <td>/media/data_cifs/projects/prj_fossils/data/raw...</td>\n",
       "    </tr>\n",
       "    <tr>\n",
       "      <th>3</th>\n",
       "      <td>1</td>\n",
       "      <td>0</td>\n",
       "      <td>0</td>\n",
       "      <td>00000__004</td>\n",
       "      <td>Abies amabilis (Douglas ex Loudon) J.Forbes</td>\n",
       "      <td>Abies amabilis</td>\n",
       "      <td>/media/data_cifs/projects/prj_fossils/data/raw...</td>\n",
       "    </tr>\n",
       "    <tr>\n",
       "      <th>4</th>\n",
       "      <td>1</td>\n",
       "      <td>0</td>\n",
       "      <td>0</td>\n",
       "      <td>00000__005</td>\n",
       "      <td>Abies amabilis (Douglas ex Loudon) J.Forbes</td>\n",
       "      <td>Abies amabilis</td>\n",
       "      <td>/media/data_cifs/projects/prj_fossils/data/raw...</td>\n",
       "    </tr>\n",
       "  </tbody>\n",
       "</table>\n",
       "</div>"
      ],
      "text/plain": [
       "  genus_id institution_id category_id    image_id  \\\n",
       "0        1              0           0  00000__001   \n",
       "1        1              0           0  00000__002   \n",
       "2        1              0           0  00000__003   \n",
       "3        1              0           0  00000__004   \n",
       "4        1              0           0  00000__005   \n",
       "\n",
       "                                scientificName         Species  \\\n",
       "0  Abies amabilis (Douglas ex Loudon) J.Forbes  Abies amabilis   \n",
       "1  Abies amabilis (Douglas ex Loudon) J.Forbes  Abies amabilis   \n",
       "2  Abies amabilis (Douglas ex Loudon) J.Forbes  Abies amabilis   \n",
       "3  Abies amabilis (Douglas ex Loudon) J.Forbes  Abies amabilis   \n",
       "4  Abies amabilis (Douglas ex Loudon) J.Forbes  Abies amabilis   \n",
       "\n",
       "                                                path  \n",
       "0  /media/data_cifs/projects/prj_fossils/data/raw...  \n",
       "1  /media/data_cifs/projects/prj_fossils/data/raw...  \n",
       "2  /media/data_cifs/projects/prj_fossils/data/raw...  \n",
       "3  /media/data_cifs/projects/prj_fossils/data/raw...  \n",
       "4  /media/data_cifs/projects/prj_fossils/data/raw...  "
      ]
     },
     "execution_count": 28,
     "metadata": {},
     "output_type": "execute_result"
    }
   ],
   "source": [
    "%time train_df.head()"
   ]
  },
  {
   "cell_type": "code",
   "execution_count": 29,
   "id": "edaba347-0392-4bde-935a-55b3f437d6f5",
   "metadata": {},
   "outputs": [],
   "source": [
    "import torch"
   ]
  },
  {
   "cell_type": "code",
   "execution_count": 33,
   "id": "a5c08e30-5067-4760-bea7-f62cfdaee928",
   "metadata": {},
   "outputs": [
    {
     "data": {
      "text/plain": [
       "\u001b[0;31mDocstring:\u001b[0m\n",
       "cat(tensors, dim=0, *, out=None) -> Tensor\n",
       "\n",
       "Concatenates the given sequence of :attr:`seq` tensors in the given dimension.\n",
       "All tensors must either have the same shape (except in the concatenating\n",
       "dimension) or be empty.\n",
       "\n",
       ":func:`torch.cat` can be seen as an inverse operation for :func:`torch.split`\n",
       "and :func:`torch.chunk`.\n",
       "\n",
       ":func:`torch.cat` can be best understood via examples.\n",
       "\n",
       "Args:\n",
       "    tensors (sequence of Tensors): any python sequence of tensors of the same type.\n",
       "        Non-empty tensors provided must have the same shape, except in the\n",
       "        cat dimension.\n",
       "    dim (int, optional): the dimension over which the tensors are concatenated\n",
       "\n",
       "Keyword args:\n",
       "    out (Tensor, optional): the output tensor.\n",
       "\n",
       "Example::\n",
       "\n",
       "    >>> x = torch.randn(2, 3)\n",
       "    >>> x\n",
       "    tensor([[ 0.6580, -1.0969, -0.4614],\n",
       "            [-0.1034, -0.5790,  0.1497]])\n",
       "    >>> torch.cat((x, x, x), 0)\n",
       "    tensor([[ 0.6580, -1.0969, -0.4614],\n",
       "            [-0.1034, -0.5790,  0.1497],\n",
       "            [ 0.6580, -1.0969, -0.4614],\n",
       "            [-0.1034, -0.5790,  0.1497],\n",
       "            [ 0.6580, -1.0969, -0.4614],\n",
       "            [-0.1034, -0.5790,  0.1497]])\n",
       "    >>> torch.cat((x, x, x), 1)\n",
       "    tensor([[ 0.6580, -1.0969, -0.4614,  0.6580, -1.0969, -0.4614,  0.6580,\n",
       "             -1.0969, -0.4614],\n",
       "            [-0.1034, -0.5790,  0.1497, -0.1034, -0.5790,  0.1497, -0.1034,\n",
       "             -0.5790,  0.1497]])\n",
       "\u001b[0;31mType:\u001b[0m      builtin_function_or_method\n"
      ]
     },
     "metadata": {},
     "output_type": "display_data"
    }
   ],
   "source": [
    "\n",
    "torch.cat?"
   ]
  },
  {
   "cell_type": "code",
   "execution_count": 12,
   "id": "b2b8bb93-d003-4eef-a4dc-a94b7f572d10",
   "metadata": {},
   "outputs": [],
   "source": [
    "\n",
    "# decoded_targets = data.get_decoded_targets()\n",
    "# decoded_targets\n",
    "\n",
    "paths = data.paths.sample(100).values.tolist()\n",
    "# paths"
   ]
  },
  {
   "cell_type": "code",
   "execution_count": 13,
   "id": "161eb4fd-cf03-41a0-b6d6-0b7ce2f10864",
   "metadata": {},
   "outputs": [
    {
     "name": "stderr",
     "output_type": "stream",
     "text": [
      "  5%|████▊                                                                                          | 5/100 [00:00<00:04, 21.15it/s]"
     ]
    },
    {
     "name": "stdout",
     "output_type": "stream",
     "text": [
      "/media/data_cifs/projects/prj_fossils/data/raw_data/herbarium-2022-fgvc9_resize/train_images/070/49/07049__020.jpg JPEG (960, 960)xRGB\n",
      "/media/data_cifs/projects/prj_fossils/data/raw_data/herbarium-2022-fgvc9_resize/train_images/052/33/05233__002.jpg JPEG (960, 960)xRGB\n",
      "/media/data_cifs/projects/prj_fossils/data/raw_data/herbarium-2022-fgvc9_resize/train_images/048/44/04844__065.jpg JPEG (960, 960)xRGB\n",
      "/media/data_cifs/projects/prj_fossils/data/raw_data/herbarium-2022-fgvc9_resize/train_images/037/61/03761__015.jpg JPEG (960, 960)xRGB\n",
      "/media/data_cifs/projects/prj_fossils/data/raw_data/herbarium-2022-fgvc9_resize/train_images/051/45/05145__047.jpg JPEG (960, 960)xRGB\n"
     ]
    },
    {
     "name": "stderr",
     "output_type": "stream",
     "text": [
      " 11%|██████████▎                                                                                   | 11/100 [00:00<00:03, 25.52it/s]"
     ]
    },
    {
     "name": "stdout",
     "output_type": "stream",
     "text": [
      "/media/data_cifs/projects/prj_fossils/data/raw_data/herbarium-2022-fgvc9_resize/train_images/094/21/09421__063.jpg JPEG (960, 960)xRGB\n",
      "/media/data_cifs/projects/prj_fossils/data/raw_data/herbarium-2022-fgvc9_resize/train_images/089/44/08944__041.jpg JPEG (960, 960)xRGB\n",
      "/media/data_cifs/projects/prj_fossils/data/raw_data/herbarium-2022-fgvc9_resize/train_images/068/88/06888__063.jpg JPEG (960, 960)xRGB\n",
      "/media/data_cifs/projects/prj_fossils/data/raw_data/herbarium-2022-fgvc9_resize/train_images/019/05/01905__095.jpg JPEG (960, 960)xRGB\n",
      "/media/data_cifs/projects/prj_fossils/data/raw_data/herbarium-2022-fgvc9_resize/train_images/143/93/14393__018.jpg JPEG (960, 960)xRGB\n",
      "/media/data_cifs/projects/prj_fossils/data/raw_data/herbarium-2022-fgvc9_resize/train_images/149/78/14978__099.jpg JPEG (960, 960)xRGB\n"
     ]
    },
    {
     "name": "stderr",
     "output_type": "stream",
     "text": [
      " 14%|█████████████▏                                                                                | 14/100 [00:00<00:03, 25.80it/s]"
     ]
    },
    {
     "name": "stdout",
     "output_type": "stream",
     "text": [
      "/media/data_cifs/projects/prj_fossils/data/raw_data/herbarium-2022-fgvc9_resize/train_images/057/34/05734__015.jpg JPEG (960, 960)xRGB\n",
      "/media/data_cifs/projects/prj_fossils/data/raw_data/herbarium-2022-fgvc9_resize/train_images/150/75/15075__014.jpg JPEG (960, 960)xRGB\n",
      "/media/data_cifs/projects/prj_fossils/data/raw_data/herbarium-2022-fgvc9_resize/train_images/076/36/07636__044.jpg JPEG (960, 960)xRGB\n",
      "/media/data_cifs/projects/prj_fossils/data/raw_data/herbarium-2022-fgvc9_resize/train_images/047/99/04799__051.jpg JPEG (960, 960)xRGB\n",
      "/media/data_cifs/projects/prj_fossils/data/raw_data/herbarium-2022-fgvc9_resize/train_images/139/70/13970__008.jpg JPEG (960, 960)xRGB\n"
     ]
    },
    {
     "name": "stderr",
     "output_type": "stream",
     "text": [
      " 20%|██████████████████▊                                                                           | 20/100 [00:00<00:03, 24.97it/s]"
     ]
    },
    {
     "name": "stdout",
     "output_type": "stream",
     "text": [
      "/media/data_cifs/projects/prj_fossils/data/raw_data/herbarium-2022-fgvc9_resize/train_images/055/03/05503__065.jpg JPEG (960, 960)xRGB\n",
      "/media/data_cifs/projects/prj_fossils/data/raw_data/herbarium-2022-fgvc9_resize/train_images/041/75/04175__040.jpg JPEG (960, 960)xRGB\n",
      "/media/data_cifs/projects/prj_fossils/data/raw_data/herbarium-2022-fgvc9_resize/train_images/119/44/11944__020.jpg JPEG (960, 960)xRGB\n",
      "/media/data_cifs/projects/prj_fossils/data/raw_data/herbarium-2022-fgvc9_resize/train_images/066/16/06616__107.jpg JPEG (960, 960)xRGB\n",
      "/media/data_cifs/projects/prj_fossils/data/raw_data/herbarium-2022-fgvc9_resize/train_images/120/19/12019__010.jpg JPEG (960, 960)xRGB\n"
     ]
    },
    {
     "name": "stderr",
     "output_type": "stream",
     "text": [
      " 26%|████████████████████████▍                                                                     | 26/100 [00:01<00:02, 25.18it/s]"
     ]
    },
    {
     "name": "stdout",
     "output_type": "stream",
     "text": [
      "/media/data_cifs/projects/prj_fossils/data/raw_data/herbarium-2022-fgvc9_resize/train_images/092/50/09250__057.jpg JPEG (960, 960)xRGB\n",
      "/media/data_cifs/projects/prj_fossils/data/raw_data/herbarium-2022-fgvc9_resize/train_images/109/89/10989__056.jpg JPEG (960, 960)xRGB\n",
      "/media/data_cifs/projects/prj_fossils/data/raw_data/herbarium-2022-fgvc9_resize/train_images/070/73/07073__074.jpg JPEG (960, 960)xRGB\n",
      "/media/data_cifs/projects/prj_fossils/data/raw_data/herbarium-2022-fgvc9_resize/train_images/086/85/08685__086.jpg JPEG (960, 960)xRGB\n",
      "/media/data_cifs/projects/prj_fossils/data/raw_data/herbarium-2022-fgvc9_resize/train_images/038/37/03837__046.jpg JPEG (960, 960)xRGB\n",
      "/media/data_cifs/projects/prj_fossils/data/raw_data/herbarium-2022-fgvc9_resize/train_images/153/04/15304__009.jpg JPEG (960, 960)xRGB\n"
     ]
    },
    {
     "name": "stderr",
     "output_type": "stream",
     "text": [
      " 32%|██████████████████████████████                                                                | 32/100 [00:01<00:02, 23.43it/s]"
     ]
    },
    {
     "name": "stdout",
     "output_type": "stream",
     "text": [
      "/media/data_cifs/projects/prj_fossils/data/raw_data/herbarium-2022-fgvc9_resize/train_images/063/53/06353__065.jpg JPEG (960, 960)xRGB\n",
      "/media/data_cifs/projects/prj_fossils/data/raw_data/herbarium-2022-fgvc9_resize/train_images/037/44/03744__095.jpg JPEG (960, 960)xRGB\n",
      "/media/data_cifs/projects/prj_fossils/data/raw_data/herbarium-2022-fgvc9_resize/train_images/132/03/13203__083.jpg JPEG (960, 960)xRGB\n",
      "/media/data_cifs/projects/prj_fossils/data/raw_data/herbarium-2022-fgvc9_resize/train_images/062/00/06200__071.jpg JPEG (960, 960)xRGB\n",
      "/media/data_cifs/projects/prj_fossils/data/raw_data/herbarium-2022-fgvc9_resize/train_images/045/26/04526__060.jpg JPEG (960, 960)xRGB\n"
     ]
    },
    {
     "name": "stderr",
     "output_type": "stream",
     "text": [
      " 35%|████████████████████████████████▉                                                             | 35/100 [00:01<00:02, 22.77it/s]"
     ]
    },
    {
     "name": "stdout",
     "output_type": "stream",
     "text": [
      "/media/data_cifs/projects/prj_fossils/data/raw_data/herbarium-2022-fgvc9_resize/train_images/143/97/14397__055.jpg JPEG (960, 960)xRGB\n",
      "/media/data_cifs/projects/prj_fossils/data/raw_data/herbarium-2022-fgvc9_resize/train_images/069/73/06973__070.jpg JPEG (960, 960)xRGB\n",
      "/media/data_cifs/projects/prj_fossils/data/raw_data/herbarium-2022-fgvc9_resize/train_images/110/44/11044__008.jpg JPEG (960, 960)xRGB\n",
      "/media/data_cifs/projects/prj_fossils/data/raw_data/herbarium-2022-fgvc9_resize/train_images/148/93/14893__015.jpg JPEG (960, 960)xRGB\n",
      "/media/data_cifs/projects/prj_fossils/data/raw_data/herbarium-2022-fgvc9_resize/train_images/152/84/15284__013.jpg JPEG (960, 960)xRGB\n"
     ]
    },
    {
     "name": "stderr",
     "output_type": "stream",
     "text": [
      " 41%|██████████████████████████████████████▌                                                       | 41/100 [00:01<00:02, 23.32it/s]"
     ]
    },
    {
     "name": "stdout",
     "output_type": "stream",
     "text": [
      "/media/data_cifs/projects/prj_fossils/data/raw_data/herbarium-2022-fgvc9_resize/train_images/056/23/05623__045.jpg JPEG (960, 960)xRGB\n",
      "/media/data_cifs/projects/prj_fossils/data/raw_data/herbarium-2022-fgvc9_resize/train_images/146/52/14652__020.jpg JPEG (960, 960)xRGB\n",
      "/media/data_cifs/projects/prj_fossils/data/raw_data/herbarium-2022-fgvc9_resize/train_images/049/60/04960__091.jpg JPEG (960, 960)xRGB\n",
      "/media/data_cifs/projects/prj_fossils/data/raw_data/herbarium-2022-fgvc9_resize/train_images/129/30/12930__026.jpg JPEG (960, 960)xRGB\n",
      "/media/data_cifs/projects/prj_fossils/data/raw_data/herbarium-2022-fgvc9_resize/train_images/140/72/14072__104.jpg JPEG (960, 960)xRGB\n"
     ]
    },
    {
     "name": "stderr",
     "output_type": "stream",
     "text": [
      " 47%|████████████████████████████████████████████▏                                                 | 47/100 [00:01<00:02, 22.88it/s]"
     ]
    },
    {
     "name": "stdout",
     "output_type": "stream",
     "text": [
      "/media/data_cifs/projects/prj_fossils/data/raw_data/herbarium-2022-fgvc9_resize/train_images/060/35/06035__014.jpg JPEG (960, 960)xRGB\n",
      "/media/data_cifs/projects/prj_fossils/data/raw_data/herbarium-2022-fgvc9_resize/train_images/047/29/04729__039.jpg JPEG (960, 960)xRGB\n",
      "/media/data_cifs/projects/prj_fossils/data/raw_data/herbarium-2022-fgvc9_resize/train_images/118/99/11899__078.jpg JPEG (960, 960)xRGB\n",
      "/media/data_cifs/projects/prj_fossils/data/raw_data/herbarium-2022-fgvc9_resize/train_images/041/74/04174__024.jpg JPEG (960, 960)xRGB\n",
      "/media/data_cifs/projects/prj_fossils/data/raw_data/herbarium-2022-fgvc9_resize/train_images/123/61/12361__034.jpg JPEG (960, 960)xRGB\n"
     ]
    },
    {
     "name": "stderr",
     "output_type": "stream",
     "text": [
      " 50%|███████████████████████████████████████████████                                               | 50/100 [00:02<00:02, 21.43it/s]"
     ]
    },
    {
     "name": "stdout",
     "output_type": "stream",
     "text": [
      "/media/data_cifs/projects/prj_fossils/data/raw_data/herbarium-2022-fgvc9_resize/train_images/049/62/04962__009.jpg JPEG (960, 960)xRGB\n",
      "/media/data_cifs/projects/prj_fossils/data/raw_data/herbarium-2022-fgvc9_resize/train_images/132/73/13273__030.jpg JPEG (960, 960)xRGB\n",
      "/media/data_cifs/projects/prj_fossils/data/raw_data/herbarium-2022-fgvc9_resize/train_images/085/68/08568__027.jpg JPEG (960, 960)xRGB\n",
      "/media/data_cifs/projects/prj_fossils/data/raw_data/herbarium-2022-fgvc9_resize/train_images/124/31/12431__068.jpg JPEG (960, 960)xRGB\n",
      "/media/data_cifs/projects/prj_fossils/data/raw_data/herbarium-2022-fgvc9_resize/train_images/079/04/07904__101.jpg JPEG (960, 960)xRGB\n"
     ]
    },
    {
     "name": "stderr",
     "output_type": "stream",
     "text": [
      " 56%|████████████████████████████████████████████████████▋                                         | 56/100 [00:02<00:02, 21.46it/s]"
     ]
    },
    {
     "name": "stdout",
     "output_type": "stream",
     "text": [
      "/media/data_cifs/projects/prj_fossils/data/raw_data/herbarium-2022-fgvc9_resize/train_images/141/77/14177__038.jpg JPEG (960, 960)xRGB\n",
      "/media/data_cifs/projects/prj_fossils/data/raw_data/herbarium-2022-fgvc9_resize/train_images/014/43/01443__085.jpg JPEG (960, 960)xRGB\n",
      "/media/data_cifs/projects/prj_fossils/data/raw_data/herbarium-2022-fgvc9_resize/train_images/065/98/06598__007.jpg JPEG (960, 960)xRGB\n",
      "/media/data_cifs/projects/prj_fossils/data/raw_data/herbarium-2022-fgvc9_resize/train_images/137/37/13737__040.jpg JPEG (960, 960)xRGB\n"
     ]
    },
    {
     "name": "stderr",
     "output_type": "stream",
     "text": [
      " 59%|███████████████████████████████████████████████████████▍                                      | 59/100 [00:02<00:01, 22.51it/s]"
     ]
    },
    {
     "name": "stdout",
     "output_type": "stream",
     "text": [
      "/media/data_cifs/projects/prj_fossils/data/raw_data/herbarium-2022-fgvc9_resize/train_images/102/91/10291__013.jpg JPEG (960, 960)xRGB\n",
      "/media/data_cifs/projects/prj_fossils/data/raw_data/herbarium-2022-fgvc9_resize/train_images/117/35/11735__062.jpg JPEG (960, 960)xRGB\n",
      "/media/data_cifs/projects/prj_fossils/data/raw_data/herbarium-2022-fgvc9_resize/train_images/040/31/04031__065.jpg JPEG (960, 960)xRGB\n",
      "/media/data_cifs/projects/prj_fossils/data/raw_data/herbarium-2022-fgvc9_resize/train_images/052/40/05240__104.jpg JPEG (960, 960)xRGB\n",
      "/media/data_cifs/projects/prj_fossils/data/raw_data/herbarium-2022-fgvc9_resize/train_images/018/99/01899__009.jpg JPEG (960, 960)xRGB\n",
      "/media/data_cifs/projects/prj_fossils/data/raw_data/herbarium-2022-fgvc9_resize/train_images/145/86/14586__100.jpg JPEG (960, 960)xRGB\n"
     ]
    },
    {
     "name": "stderr",
     "output_type": "stream",
     "text": [
      " 65%|█████████████████████████████████████████████████████████████                                 | 65/100 [00:02<00:01, 22.24it/s]"
     ]
    },
    {
     "name": "stdout",
     "output_type": "stream",
     "text": [
      "/media/data_cifs/projects/prj_fossils/data/raw_data/herbarium-2022-fgvc9_resize/train_images/050/48/05048__026.jpg JPEG (960, 960)xRGB\n",
      "/media/data_cifs/projects/prj_fossils/data/raw_data/herbarium-2022-fgvc9_resize/train_images/067/96/06796__105.jpg JPEG (960, 960)xRGB\n",
      "/media/data_cifs/projects/prj_fossils/data/raw_data/herbarium-2022-fgvc9_resize/train_images/013/44/01344__033.jpg JPEG (960, 960)xRGB\n",
      "/media/data_cifs/projects/prj_fossils/data/raw_data/herbarium-2022-fgvc9_resize/train_images/002/01/00201__020.jpg JPEG (960, 960)xRGB\n",
      "/media/data_cifs/projects/prj_fossils/data/raw_data/herbarium-2022-fgvc9_resize/train_images/071/71/07171__082.jpg JPEG (960, 960)xRGB\n"
     ]
    },
    {
     "name": "stderr",
     "output_type": "stream",
     "text": [
      " 71%|██████████████████████████████████████████████████████████████████▋                           | 71/100 [00:03<00:01, 22.73it/s]"
     ]
    },
    {
     "name": "stdout",
     "output_type": "stream",
     "text": [
      "/media/data_cifs/projects/prj_fossils/data/raw_data/herbarium-2022-fgvc9_resize/train_images/148/89/14889__085.jpg JPEG (960, 960)xRGB\n",
      "/media/data_cifs/projects/prj_fossils/data/raw_data/herbarium-2022-fgvc9_resize/train_images/123/97/12397__028.jpg JPEG (960, 960)xRGB\n",
      "/media/data_cifs/projects/prj_fossils/data/raw_data/herbarium-2022-fgvc9_resize/train_images/018/87/01887__022.jpg JPEG (960, 960)xRGB\n",
      "/media/data_cifs/projects/prj_fossils/data/raw_data/herbarium-2022-fgvc9_resize/train_images/104/50/10450__006.jpg JPEG (960, 960)xRGB\n",
      "/media/data_cifs/projects/prj_fossils/data/raw_data/herbarium-2022-fgvc9_resize/train_images/023/98/02398__024.jpg JPEG (960, 960)xRGB\n"
     ]
    },
    {
     "name": "stderr",
     "output_type": "stream",
     "text": [
      " 74%|█████████████████████████████████████████████████████████████████████▌                        | 74/100 [00:03<00:01, 22.99it/s]"
     ]
    },
    {
     "name": "stdout",
     "output_type": "stream",
     "text": [
      "/media/data_cifs/projects/prj_fossils/data/raw_data/herbarium-2022-fgvc9_resize/train_images/114/30/11430__086.jpg JPEG (960, 960)xRGB\n",
      "/media/data_cifs/projects/prj_fossils/data/raw_data/herbarium-2022-fgvc9_resize/train_images/116/76/11676__103.jpg JPEG (960, 960)xRGB\n",
      "/media/data_cifs/projects/prj_fossils/data/raw_data/herbarium-2022-fgvc9_resize/train_images/015/08/01508__001.jpg JPEG (960, 960)xRGB\n",
      "/media/data_cifs/projects/prj_fossils/data/raw_data/herbarium-2022-fgvc9_resize/train_images/039/03/03903__039.jpg JPEG (960, 960)xRGB\n"
     ]
    },
    {
     "name": "stderr",
     "output_type": "stream",
     "text": [
      " 81%|████████████████████████████████████████████████████████████████████████████▏                 | 81/100 [00:03<00:00, 24.18it/s]"
     ]
    },
    {
     "name": "stdout",
     "output_type": "stream",
     "text": [
      "/media/data_cifs/projects/prj_fossils/data/raw_data/herbarium-2022-fgvc9_resize/train_images/014/68/01468__029.jpg JPEG (960, 960)xRGB\n",
      "/media/data_cifs/projects/prj_fossils/data/raw_data/herbarium-2022-fgvc9_resize/train_images/033/21/03321__094.jpg JPEG (960, 960)xRGB\n",
      "/media/data_cifs/projects/prj_fossils/data/raw_data/herbarium-2022-fgvc9_resize/train_images/108/26/10826__025.jpg JPEG (960, 960)xRGB\n",
      "/media/data_cifs/projects/prj_fossils/data/raw_data/herbarium-2022-fgvc9_resize/train_images/100/58/10058__077.jpg JPEG (960, 960)xRGB\n",
      "/media/data_cifs/projects/prj_fossils/data/raw_data/herbarium-2022-fgvc9_resize/train_images/030/51/03051__023.jpg JPEG (960, 960)xRGB\n",
      "/media/data_cifs/projects/prj_fossils/data/raw_data/herbarium-2022-fgvc9_resize/train_images/118/67/11867__058.jpg JPEG (960, 960)xRGB\n"
     ]
    },
    {
     "name": "stderr",
     "output_type": "stream",
     "text": [
      " 87%|█████████████████████████████████████████████████████████████████████████████████▊            | 87/100 [00:03<00:00, 23.26it/s]"
     ]
    },
    {
     "name": "stdout",
     "output_type": "stream",
     "text": [
      "/media/data_cifs/projects/prj_fossils/data/raw_data/herbarium-2022-fgvc9_resize/train_images/007/33/00733__001.jpg JPEG (960, 960)xRGB\n",
      "/media/data_cifs/projects/prj_fossils/data/raw_data/herbarium-2022-fgvc9_resize/train_images/075/46/07546__021.jpg JPEG (960, 960)xRGB\n",
      "/media/data_cifs/projects/prj_fossils/data/raw_data/herbarium-2022-fgvc9_resize/train_images/134/32/13432__007.jpg JPEG (960, 960)xRGB\n",
      "/media/data_cifs/projects/prj_fossils/data/raw_data/herbarium-2022-fgvc9_resize/train_images/070/04/07004__059.jpg JPEG (960, 960)xRGB\n",
      "/media/data_cifs/projects/prj_fossils/data/raw_data/herbarium-2022-fgvc9_resize/train_images/120/83/12083__076.jpg JPEG (960, 960)xRGB\n"
     ]
    },
    {
     "name": "stderr",
     "output_type": "stream",
     "text": [
      " 90%|████████████████████████████████████████████████████████████████████████████████████▌         | 90/100 [00:03<00:00, 22.98it/s]"
     ]
    },
    {
     "name": "stdout",
     "output_type": "stream",
     "text": [
      "/media/data_cifs/projects/prj_fossils/data/raw_data/herbarium-2022-fgvc9_resize/train_images/039/02/03902__011.jpg JPEG (960, 960)xRGB\n",
      "/media/data_cifs/projects/prj_fossils/data/raw_data/herbarium-2022-fgvc9_resize/train_images/121/98/12198__037.jpg JPEG (960, 960)xRGB\n",
      "/media/data_cifs/projects/prj_fossils/data/raw_data/herbarium-2022-fgvc9_resize/train_images/121/06/12106__016.jpg JPEG (960, 960)xRGB\n",
      "/media/data_cifs/projects/prj_fossils/data/raw_data/herbarium-2022-fgvc9_resize/train_images/114/68/11468__074.jpg JPEG (960, 960)xRGB\n",
      "/media/data_cifs/projects/prj_fossils/data/raw_data/herbarium-2022-fgvc9_resize/train_images/039/64/03964__098.jpg JPEG (960, 960)xRGB\n"
     ]
    },
    {
     "name": "stderr",
     "output_type": "stream",
     "text": [
      " 96%|██████████████████████████████████████████████████████████████████████████████████████████▏   | 96/100 [00:04<00:00, 23.21it/s]"
     ]
    },
    {
     "name": "stdout",
     "output_type": "stream",
     "text": [
      "/media/data_cifs/projects/prj_fossils/data/raw_data/herbarium-2022-fgvc9_resize/train_images/126/56/12656__035.jpg JPEG (960, 960)xRGB\n",
      "/media/data_cifs/projects/prj_fossils/data/raw_data/herbarium-2022-fgvc9_resize/train_images/016/96/01696__090.jpg JPEG (960, 960)xRGB\n",
      "/media/data_cifs/projects/prj_fossils/data/raw_data/herbarium-2022-fgvc9_resize/train_images/134/57/13457__077.jpg JPEG (960, 960)xRGB\n",
      "/media/data_cifs/projects/prj_fossils/data/raw_data/herbarium-2022-fgvc9_resize/train_images/123/94/12394__099.jpg JPEG (960, 960)xRGB\n",
      "/media/data_cifs/projects/prj_fossils/data/raw_data/herbarium-2022-fgvc9_resize/train_images/115/23/11523__004.jpg JPEG (960, 960)xRGB\n"
     ]
    },
    {
     "name": "stderr",
     "output_type": "stream",
     "text": [
      "100%|█████████████████████████████████████████████████████████████████████████████████████████████| 100/100 [00:04<00:00, 23.21it/s]"
     ]
    },
    {
     "name": "stdout",
     "output_type": "stream",
     "text": [
      "/media/data_cifs/projects/prj_fossils/data/raw_data/herbarium-2022-fgvc9_resize/train_images/119/59/11959__107.jpg JPEG (960, 960)xRGB\n",
      "/media/data_cifs/projects/prj_fossils/data/raw_data/herbarium-2022-fgvc9_resize/train_images/132/04/13204__037.jpg JPEG (960, 960)xRGB\n",
      "/media/data_cifs/projects/prj_fossils/data/raw_data/herbarium-2022-fgvc9_resize/train_images/043/19/04319__009.jpg JPEG (960, 960)xRGB\n"
     ]
    },
    {
     "name": "stderr",
     "output_type": "stream",
     "text": [
      "\n"
     ]
    }
   ],
   "source": [
    "import sys\n",
    "from PIL import Image\n",
    "from tqdm import tqdm\n",
    "\n",
    "for infile in tqdm(paths):\n",
    "    try:\n",
    "        with Image.open(infile) as im:\n",
    "            print(infile, im.format, f\"{im.size}x{im.mode}\")\n",
    "    except OSError:\n",
    "        pass"
   ]
  },
  {
   "cell_type": "code",
   "execution_count": 6,
   "id": "8f4e7c9d-5fe0-44d6-8800-916150997172",
   "metadata": {},
   "outputs": [
    {
     "data": {
      "text/plain": [
       "(Delayed('transform-93c4e929-4371-4e34-9d24-26b8ff55ee89'),\n",
       " 14752,\n",
       " {'path': '/media/data_cifs/projects/prj_fossils/data/raw_data/herbarium-2022-fgvc9_resize/train_images/147/56/14756__047.jpg',\n",
       "  'image_id': '14756__047'})"
      ]
     },
     "execution_count": 6,
     "metadata": {},
     "output_type": "execute_result"
    }
   ],
   "source": [
    "data[0]"
   ]
  },
  {
   "cell_type": "markdown",
   "id": "1146ca5d-f991-4560-9bdc-a55dc52b97f6",
   "metadata": {},
   "source": [
    "## prefect"
   ]
  },
  {
   "cell_type": "code",
   "execution_count": null,
   "id": "03896059-a23e-4e7d-89fd-8f2e6edbc5d7",
   "metadata": {},
   "outputs": [],
   "source": [
    "import datetime\n",
    "import os\n",
    "\n",
    "import prefect\n",
    "from prefect import task\n",
    "from prefect.engine.signals import SKIP\n",
    "from prefect.tasks.shell import ShellTask\n",
    "\n",
    "\n",
    "@task\n",
    "def curl_cmd(url: str, fname: str) -> str:\n",
    "    \"\"\"\n",
    "    The curl command we wish to execute.\n",
    "    \"\"\"\n",
    "    if os.path.exists(fname):\n",
    "        raise SKIP(\"Image data file already exists.\")\n",
    "    return \"curl -fL -o {fname} {url}\".format(fname=fname, url=url)\n",
    "\n",
    "\n",
    "# ShellTask is a task from the Task library which will execute a given command in a subprocess\n",
    "# and fail if the command returns a non-zero exit code\n",
    "\n",
    "download = ShellTask(name=\"curl_task\", max_retries=2, retry_delay=datetime.timedelta(seconds=10))"
   ]
  },
  {
   "cell_type": "code",
   "execution_count": null,
   "id": "34fcd233-6ac4-408e-ba16-06234856d712",
   "metadata": {},
   "outputs": [],
   "source": []
  },
  {
   "cell_type": "code",
   "execution_count": null,
   "id": "804643aa-0a31-4ea4-9dc9-bd54cbb0d54a",
   "metadata": {},
   "outputs": [],
   "source": []
  },
  {
   "cell_type": "markdown",
   "id": "02e051b1-0b01-423a-9700-e3d9c0f6a8a4",
   "metadata": {},
   "source": [
    "## etc"
   ]
  },
  {
   "cell_type": "code",
   "execution_count": null,
   "id": "9afee98e-1cac-4e19-b213-a417109cc2c4",
   "metadata": {},
   "outputs": [],
   "source": [
    "objs = [load(x) for x in glob.glob(\"hymenoptera_data/val/*/*.jpg\")]"
   ]
  },
  {
   "cell_type": "code",
   "execution_count": null,
   "id": "87dd263c-8e39-4ad6-895b-d67baae0bcbc",
   "metadata": {},
   "outputs": [],
   "source": [
    "To load the data from cloud storage, say Amazon S3, you would use\n",
    "\n",
    "import s3fs\n",
    "\n",
    "fs = s3fs.S3FileSystem(...)\n",
    "objs = [load(x, fs=fs) for x in fs.glob(...)]"
   ]
  },
  {
   "cell_type": "code",
   "execution_count": null,
   "id": "1dd8f601-6e71-4c92-af6b-0d6c8dc5599b",
   "metadata": {},
   "outputs": [],
   "source": [
    "tensors = [transform(x) for x in objs]"
   ]
  },
  {
   "cell_type": "code",
   "execution_count": null,
   "id": "3b811525-a617-4b90-85a5-bf98837876ce",
   "metadata": {},
   "outputs": [],
   "source": [
    "batches = [dask.delayed(torch.stack)(batch)\n",
    "           for batch in toolz.partition_all(10, tensors)]\n",
    "batches[:5]"
   ]
  },
  {
   "cell_type": "code",
   "execution_count": null,
   "id": "b845fb06-91d7-4a25-858e-55d73e18d073",
   "metadata": {},
   "outputs": [],
   "source": [
    "@dask.delayed\n",
    "def predict(batch, model):\n",
    "    with torch.no_grad():\n",
    "        out = model(batch)\n",
    "        _, predicted = torch.max(out, 1)\n",
    "        predicted = predicted.numpy()\n",
    "    return predicted"
   ]
  },
  {
   "cell_type": "code",
   "execution_count": null,
   "id": "aaa2c6e1-ae3a-421e-90bb-6aa719de1c8b",
   "metadata": {},
   "outputs": [],
   "source": [
    "Moving the model around¶\n",
    "PyTorch neural networks are large, so we don’t want to repeat it many times in our task graph (once per batch).\n",
    "\n",
    "import pickle\n",
    "\n",
    "dask.utils.format_bytes(len(pickle.dumps(model)))\n",
    "'44.80 MB'\n",
    "Instead, we’ll also wrap the model itself in dask.delayed. This means the model only shows up once in the Dask graph."
   ]
  },
  {
   "cell_type": "code",
   "execution_count": null,
   "id": "c9514bd0-8db1-4c25-b5c0-c542195434de",
   "metadata": {},
   "outputs": [],
   "source": [
    "Additionally, since we performed fine-tuning in the above (and that runs on a GPU if its available), we should move the model back to the CPU.\n",
    "\n",
    "dmodel = dask.delayed(model.cpu()) # ensuring model is on the CPU\n",
    "Now we’ll use the (delayed) predict method to get our predictions.\n",
    "\n",
    "predictions = [predict(batch, dmodel) for batch in batches]\n",
    "dask.visualize(predictions[:2])"
   ]
  },
  {
   "cell_type": "code",
   "execution_count": null,
   "id": "710fb799-c2db-4aaf-aa13-27e51f15299d",
   "metadata": {},
   "outputs": [],
   "source": [
    "predictions = dask.compute(*predictions)\n",
    "predictions"
   ]
  },
  {
   "cell_type": "markdown",
   "id": "a8a181f8-8f2a-45c0-9529-4c91bf048249",
   "metadata": {},
   "source": [
    "### Scratch"
   ]
  },
  {
   "cell_type": "code",
   "execution_count": 7,
   "id": "dc9af7b5-223d-496d-9f08-9ebcf6f194ca",
   "metadata": {},
   "outputs": [],
   "source": [
    "# import wandb\n",
    "# import os\n",
    "\n",
    "from pytorch_lightning import utilities #.rank_zero import rank_zero_only\n",
    "\n",
    "# import wandb\n",
    "# import os\n",
    "\n",
    "from pytorch_lightning import plugins #, utilities #.rank_zero import rank_zero_only\n",
    "\n",
    "dir(plugins)\n",
    "\n",
    "os.path.isfile(\"/media/data_cifs/projects/prj_fossils/users/jacob/experiments/2022/herbarium2022/hydra_experiments/2022-03-28/00-59-52/ckpts/epoch=00-val_loss=10.447-val_macro_F1=0.000/model_weights.ckpt\")\n",
    "\n",
    "os.listdir(os.path.dirname(\"/media/data_cifs/projects/prj_fossils/users/jacob/experiments/2022/herbarium2022/hydra_experiments/2022-03-28/00-59-52/ckpts/epoch=00-val_loss=10.447-val_macro_F1=0.000/model_weights.ckpt\"))\n",
    "\n",
    "\n",
    "ckpts = wandb.Artifact(\"experiment-ckpts\", type=\"checkpoints\")\n",
    "\n",
    "ckpt = \"/media/data_cifs/projects/prj_fossils/users/jacob/experiments/2022/herbarium2022/hydra_experiments/2022-03-28/00-18-52/ckpts/epoch=00-val_loss=22.030-val_macro_F1=0.000.ckpt\"\n",
    "ckpts.add_file(ckpt)#trainer.checkpoint_callback.best_model_path)\n",
    "\n",
    "exp.use_artifact(ckpts)"
   ]
  },
  {
   "cell_type": "markdown",
   "id": "6bf46a5e-f857-4c8f-bc23-b27f44a93dcc",
   "metadata": {},
   "source": [
    "# Section I."
   ]
  },
  {
   "cell_type": "markdown",
   "id": "7f4a4bbc-e020-401f-9c15-7a9a859f0be3",
   "metadata": {},
   "source": [
    "## Basic experiment tools dev notebook\n",
    "\n",
    "Created on: Tuesday March 22nd, 2022  \n",
    "Created by: Jacob Alexander Rose  "
   ]
  },
  {
   "cell_type": "code",
   "execution_count": 1,
   "id": "13b57096-276f-4f13-9077-d3b0ccd1d798",
   "metadata": {},
   "outputs": [
    {
     "name": "stdout",
     "output_type": "stream",
     "text": [
      "Importing imutils\n",
      "ASSETS_DIR: /media/data/jacob/GitHub/image-utils/assets\n",
      "SAMPLE_IMAGE_PATHS: [PosixPath('/media/data/jacob/GitHub/image-utils/assets/Ericaceae_Zenobia_pulverulenta_7984 {WolfeUSGS} [1.96x].jpg'), PosixPath('/media/data/jacob/GitHub/image-utils/assets/Ericaceae_Arbutus_densiflora_1440 {WolfeUSGS} [1.96x].jpg')]\n",
      "IMUTILS_ML_ROOT: /media/data/jacob/GitHub/image-utils/imutils/ml\n"
     ]
    },
    {
     "data": {
      "text/html": [
       "<pre style=\"white-space:pre;overflow-x:auto;line-height:normal;font-family:Menlo,'DejaVu Sans Mono',consolas,'Courier New',monospace\"><span style=\"font-weight: bold\">[</span>\n",
       "    <span style=\"color: #008000; text-decoration-color: #008000\">'BASE_ML_CONF_PATH'</span>,\n",
       "    <span style=\"color: #008000; text-decoration-color: #008000\">'IMUTILS_ML_ROOT'</span>,\n",
       "    <span style=\"color: #008000; text-decoration-color: #008000\">'__builtins__'</span>,\n",
       "    <span style=\"color: #008000; text-decoration-color: #008000\">'__cached__'</span>,\n",
       "    <span style=\"color: #008000; text-decoration-color: #008000\">'__doc__'</span>,\n",
       "    <span style=\"color: #008000; text-decoration-color: #008000\">'__file__'</span>,\n",
       "    <span style=\"color: #008000; text-decoration-color: #008000\">'__loader__'</span>,\n",
       "    <span style=\"color: #008000; text-decoration-color: #008000\">'__name__'</span>,\n",
       "    <span style=\"color: #008000; text-decoration-color: #008000\">'__package__'</span>,\n",
       "    <span style=\"color: #008000; text-decoration-color: #008000\">'__path__'</span>,\n",
       "    <span style=\"color: #008000; text-decoration-color: #008000\">'__spec__'</span>,\n",
       "    <span style=\"color: #008000; text-decoration-color: #008000\">'os'</span>,\n",
       "    <span style=\"color: #008000; text-decoration-color: #008000\">'pp'</span>\n",
       "<span style=\"font-weight: bold\">]</span>\n",
       "</pre>\n"
      ],
      "text/plain": [
       "\u001b[1m[\u001b[0m\n",
       "    \u001b[32m'BASE_ML_CONF_PATH'\u001b[0m,\n",
       "    \u001b[32m'IMUTILS_ML_ROOT'\u001b[0m,\n",
       "    \u001b[32m'__builtins__'\u001b[0m,\n",
       "    \u001b[32m'__cached__'\u001b[0m,\n",
       "    \u001b[32m'__doc__'\u001b[0m,\n",
       "    \u001b[32m'__file__'\u001b[0m,\n",
       "    \u001b[32m'__loader__'\u001b[0m,\n",
       "    \u001b[32m'__name__'\u001b[0m,\n",
       "    \u001b[32m'__package__'\u001b[0m,\n",
       "    \u001b[32m'__path__'\u001b[0m,\n",
       "    \u001b[32m'__spec__'\u001b[0m,\n",
       "    \u001b[32m'os'\u001b[0m,\n",
       "    \u001b[32m'pp'\u001b[0m\n",
       "\u001b[1m]\u001b[0m\n"
      ]
     },
     "metadata": {},
     "output_type": "display_data"
    }
   ],
   "source": [
    "%load_ext autoreload\n",
    "%autoreload 2\n",
    "\n",
    "import os\n",
    "\n",
    "os.environ[\"CUDA_VISIBLE_DEVICES\"] = \"0\"\n",
    "\n",
    "from IPython.display import display\n",
    "from IPython.core.interactiveshell import InteractiveShell\n",
    "InteractiveShell.ast_node_interactivity = \"all\"\n",
    "\n",
    "import pandas as pd\n",
    "from pathlib import Path\n",
    "from icecream import ic\n",
    "from rich import print as pp\n",
    "import warnings\n",
    "warnings.simplefilter(action='ignore', category=FutureWarning)\n",
    "\n",
    "# from imutils.big.datamodule import Herbarium2022DataModule, Herbarium2022Dataset\n",
    "from imutils.ml.data.datamodule import Herbarium2022DataModule, Herbarium2022Dataset\n",
    "from imutils.ml.utils.etl_utils import ETL\n",
    "\n",
    "import pytorch_lightning as pl\n",
    "from torchvision import transforms as T\n",
    "import argparse\n",
    "import imutils\n",
    "\n",
    "from hydra.experimental import compose, initialize, initialize_config_dir\n",
    "import hydra\n",
    "\n",
    "from omegaconf import DictConfig, OmegaConf\n",
    "from typing import *"
   ]
  },
  {
   "cell_type": "code",
   "execution_count": 2,
   "id": "8f507b78-e823-4731-bfd6-a30cbeb6548e",
   "metadata": {},
   "outputs": [
    {
     "data": {
      "text/plain": [
       "984.109375"
      ]
     },
     "execution_count": 2,
     "metadata": {},
     "output_type": "execute_result"
    }
   ],
   "source": [
    "251932/256"
   ]
  },
  {
   "cell_type": "markdown",
   "id": "cd077845-df0c-4033-9a62-551a22a26dbe",
   "metadata": {},
   "source": [
    "### helper display func"
   ]
  },
  {
   "cell_type": "code",
   "execution_count": 2,
   "id": "30dad959-7c8c-4b6b-8963-af02abbb2032",
   "metadata": {},
   "outputs": [],
   "source": [
    "def display_train_timing_info(batches_per_epoch: int,\n",
    "                              batches_per_second: float,\n",
    "                              batch_size: int):\n",
    "    \n",
    "    samples_per_epoch = batches_per_epoch*batch_size\n",
    "    seconds_per_epoch = batches_per_epoch * batches_per_second\n",
    "    min_per_epoch = seconds_per_epoch / 60\n",
    "    hrs_per_epoch = min_per_epoch / 60\n",
    "    \n",
    "    samples_per_second = batches_per_second * batch_size\n",
    "\n",
    "    batches_per_min = batches_per_second * 60\n",
    "    batches_per_hr = batches_per_min * 60\n",
    "    \n",
    "    samples_per_min = samples_per_second * 60\n",
    "    samples_per_hr = samples_per_min * 60\n",
    "\n",
    "\n",
    "    pp([f\"seconds_per_epoch: {seconds_per_epoch:>,}\",\n",
    "       f\"min_per_epoch: {min_per_epoch:.4f}\",\n",
    "       f\"hrs_per_epoch: {hrs_per_epoch:.4f}\",\n",
    "       f\"epochs_per_second: {1/seconds_per_epoch:.4f}\",\n",
    "       f\"epochs_per_min: {1/min_per_epoch:.4f}\",\n",
    "       f\"epochs_per_hr: {1/hrs_per_epoch:.4f}\",\n",
    "       f\"batches_per_epoch: {batches_per_epoch:.4g}\",\n",
    "       f\"samples_per_epoch: {samples_per_epoch:.4g}\",\n",
    "       f\"seconds_per_batch: {1/batches_per_second:.4f}\",\n",
    "       f\"batches_per_second: {batches_per_second:.4f}\",\n",
    "       f\"batches_per_min: {batches_per_min:.4f}\",\n",
    "       f\"batches_per_hr: {batches_per_hr:.4f}\",\n",
    "       f\"samples_per_second: {samples_per_second:.4f}\",\n",
    "       f\"samples_per_min: {samples_per_min:.4f}\",\n",
    "       f\"samples_per_hr: {samples_per_hr:.4g}\",\n",
    "       f\"batch_size: {batch_size}\"])"
   ]
  },
  {
   "cell_type": "markdown",
   "id": "5572af4d-617e-4617-b722-28e4ef06c1d0",
   "metadata": {},
   "source": [
    "### Experiment #2\n"
   ]
  },
  {
   "cell_type": "code",
   "execution_count": 3,
   "id": "09c86b41-660c-4c9e-ace4-6f150194cbb1",
   "metadata": {},
   "outputs": [
    {
     "name": "stdout",
     "output_type": "stream",
     "text": [
      "Experiment #2: batch_size=48, num_processes=4, num_devices=2\n",
      "Using 50% of samples\n"
     ]
    },
    {
     "data": {
      "text/html": [
       "<pre style=\"white-space:pre;overflow-x:auto;line-height:normal;font-family:Menlo,'DejaVu Sans Mono',consolas,'Courier New',monospace\"><span style=\"font-weight: bold\">[</span>\n",
       "    <span style=\"color: #008000; text-decoration-color: #008000\">'seconds_per_epoch: 2,572.9411764705883'</span>,\n",
       "    <span style=\"color: #008000; text-decoration-color: #008000\">'min_per_epoch: 42.8824'</span>,\n",
       "    <span style=\"color: #008000; text-decoration-color: #008000\">'hrs_per_epoch: 0.7147'</span>,\n",
       "    <span style=\"color: #008000; text-decoration-color: #008000\">'epochs_per_second: 0.0004'</span>,\n",
       "    <span style=\"color: #008000; text-decoration-color: #008000\">'epochs_per_min: 0.0233'</span>,\n",
       "    <span style=\"color: #008000; text-decoration-color: #008000\">'epochs_per_hr: 1.3992'</span>,\n",
       "    <span style=\"color: #008000; text-decoration-color: #008000\">'batches_per_epoch: 4374'</span>,\n",
       "    <span style=\"color: #008000; text-decoration-color: #008000\">'samples_per_epoch: 2.1e+05'</span>,\n",
       "    <span style=\"color: #008000; text-decoration-color: #008000\">'seconds_per_batch: 1.7000'</span>,\n",
       "    <span style=\"color: #008000; text-decoration-color: #008000\">'batches_per_second: 0.5882'</span>,\n",
       "    <span style=\"color: #008000; text-decoration-color: #008000\">'batches_per_min: 35.2941'</span>,\n",
       "    <span style=\"color: #008000; text-decoration-color: #008000\">'batches_per_hr: 2117.6471'</span>,\n",
       "    <span style=\"color: #008000; text-decoration-color: #008000\">'samples_per_second: 28.2353'</span>,\n",
       "    <span style=\"color: #008000; text-decoration-color: #008000\">'samples_per_min: 1694.1176'</span>,\n",
       "    <span style=\"color: #008000; text-decoration-color: #008000\">'samples_per_hr: 1.016e+05'</span>,\n",
       "    <span style=\"color: #008000; text-decoration-color: #008000\">'batch_size: 48'</span>\n",
       "<span style=\"font-weight: bold\">]</span>\n",
       "</pre>\n"
      ],
      "text/plain": [
       "\u001b[1m[\u001b[0m\n",
       "    \u001b[32m'seconds_per_epoch: 2,572.9411764705883'\u001b[0m,\n",
       "    \u001b[32m'min_per_epoch: 42.8824'\u001b[0m,\n",
       "    \u001b[32m'hrs_per_epoch: 0.7147'\u001b[0m,\n",
       "    \u001b[32m'epochs_per_second: 0.0004'\u001b[0m,\n",
       "    \u001b[32m'epochs_per_min: 0.0233'\u001b[0m,\n",
       "    \u001b[32m'epochs_per_hr: 1.3992'\u001b[0m,\n",
       "    \u001b[32m'batches_per_epoch: 4374'\u001b[0m,\n",
       "    \u001b[32m'samples_per_epoch: 2.1e+05'\u001b[0m,\n",
       "    \u001b[32m'seconds_per_batch: 1.7000'\u001b[0m,\n",
       "    \u001b[32m'batches_per_second: 0.5882'\u001b[0m,\n",
       "    \u001b[32m'batches_per_min: 35.2941'\u001b[0m,\n",
       "    \u001b[32m'batches_per_hr: 2117.6471'\u001b[0m,\n",
       "    \u001b[32m'samples_per_second: 28.2353'\u001b[0m,\n",
       "    \u001b[32m'samples_per_min: 1694.1176'\u001b[0m,\n",
       "    \u001b[32m'samples_per_hr: 1.016e+05'\u001b[0m,\n",
       "    \u001b[32m'batch_size: 48'\u001b[0m\n",
       "\u001b[1m]\u001b[0m\n"
      ]
     },
     "metadata": {},
     "output_type": "display_data"
    },
    {
     "name": "stdout",
     "output_type": "stream",
     "text": [
      "(Extrapolated prediction) Using 100% of samples\n"
     ]
    },
    {
     "data": {
      "text/html": [
       "<pre style=\"white-space:pre;overflow-x:auto;line-height:normal;font-family:Menlo,'DejaVu Sans Mono',consolas,'Courier New',monospace\"><span style=\"font-weight: bold\">[</span>\n",
       "    <span style=\"color: #008000; text-decoration-color: #008000\">'seconds_per_epoch: 5,145.882352941177'</span>,\n",
       "    <span style=\"color: #008000; text-decoration-color: #008000\">'min_per_epoch: 85.7647'</span>,\n",
       "    <span style=\"color: #008000; text-decoration-color: #008000\">'hrs_per_epoch: 1.4294'</span>,\n",
       "    <span style=\"color: #008000; text-decoration-color: #008000\">'epochs_per_second: 0.0002'</span>,\n",
       "    <span style=\"color: #008000; text-decoration-color: #008000\">'epochs_per_min: 0.0117'</span>,\n",
       "    <span style=\"color: #008000; text-decoration-color: #008000\">'epochs_per_hr: 0.6996'</span>,\n",
       "    <span style=\"color: #008000; text-decoration-color: #008000\">'batches_per_epoch: 8748'</span>,\n",
       "    <span style=\"color: #008000; text-decoration-color: #008000\">'samples_per_epoch: 4.199e+05'</span>,\n",
       "    <span style=\"color: #008000; text-decoration-color: #008000\">'seconds_per_batch: 1.7000'</span>,\n",
       "    <span style=\"color: #008000; text-decoration-color: #008000\">'batches_per_second: 0.5882'</span>,\n",
       "    <span style=\"color: #008000; text-decoration-color: #008000\">'batches_per_min: 35.2941'</span>,\n",
       "    <span style=\"color: #008000; text-decoration-color: #008000\">'batches_per_hr: 2117.6471'</span>,\n",
       "    <span style=\"color: #008000; text-decoration-color: #008000\">'samples_per_second: 28.2353'</span>,\n",
       "    <span style=\"color: #008000; text-decoration-color: #008000\">'samples_per_min: 1694.1176'</span>,\n",
       "    <span style=\"color: #008000; text-decoration-color: #008000\">'samples_per_hr: 1.016e+05'</span>,\n",
       "    <span style=\"color: #008000; text-decoration-color: #008000\">'batch_size: 48'</span>\n",
       "<span style=\"font-weight: bold\">]</span>\n",
       "</pre>\n"
      ],
      "text/plain": [
       "\u001b[1m[\u001b[0m\n",
       "    \u001b[32m'seconds_per_epoch: 5,145.882352941177'\u001b[0m,\n",
       "    \u001b[32m'min_per_epoch: 85.7647'\u001b[0m,\n",
       "    \u001b[32m'hrs_per_epoch: 1.4294'\u001b[0m,\n",
       "    \u001b[32m'epochs_per_second: 0.0002'\u001b[0m,\n",
       "    \u001b[32m'epochs_per_min: 0.0117'\u001b[0m,\n",
       "    \u001b[32m'epochs_per_hr: 0.6996'\u001b[0m,\n",
       "    \u001b[32m'batches_per_epoch: 8748'\u001b[0m,\n",
       "    \u001b[32m'samples_per_epoch: 4.199e+05'\u001b[0m,\n",
       "    \u001b[32m'seconds_per_batch: 1.7000'\u001b[0m,\n",
       "    \u001b[32m'batches_per_second: 0.5882'\u001b[0m,\n",
       "    \u001b[32m'batches_per_min: 35.2941'\u001b[0m,\n",
       "    \u001b[32m'batches_per_hr: 2117.6471'\u001b[0m,\n",
       "    \u001b[32m'samples_per_second: 28.2353'\u001b[0m,\n",
       "    \u001b[32m'samples_per_min: 1694.1176'\u001b[0m,\n",
       "    \u001b[32m'samples_per_hr: 1.016e+05'\u001b[0m,\n",
       "    \u001b[32m'batch_size: 48'\u001b[0m\n",
       "\u001b[1m]\u001b[0m\n"
      ]
     },
     "metadata": {},
     "output_type": "display_data"
    }
   ],
   "source": [
    "batches_per_second = (1/1.7)\n",
    "batches_per_epoch = 4374\n",
    "batch_size=48\n",
    "\n",
    "print(f\"Experiment #2: batch_size={batch_size}, num_processes=4, num_devices=2\")\n",
    "print(\"Using 50% of samples\")\n",
    "display_train_timing_info(batches_per_epoch=batches_per_epoch,\n",
    "                          batches_per_second=batches_per_second,\n",
    "                          batch_size=batch_size)\n",
    "\n",
    "print(\"(Extrapolated prediction) Using 100% of samples\")\n",
    "display_train_timing_info(batches_per_epoch=batches_per_epoch*2,\n",
    "                          batches_per_second=batches_per_second,\n",
    "                          batch_size=batch_size)"
   ]
  },
  {
   "cell_type": "markdown",
   "id": "6c657539-9984-4e4b-8eae-fd31aba765fe",
   "metadata": {},
   "source": [
    "### Experiment #3"
   ]
  },
  {
   "cell_type": "code",
   "execution_count": 4,
   "id": "3fd8fd25-7ff9-4802-af44-5b2d46454dbe",
   "metadata": {},
   "outputs": [
    {
     "name": "stdout",
     "output_type": "stream",
     "text": [
      "Experiment #3: batch_size=64, num_processes=4, num_devices=2\n",
      "Using 50% of samples\n"
     ]
    },
    {
     "data": {
      "text/html": [
       "<pre style=\"white-space:pre;overflow-x:auto;line-height:normal;font-family:Menlo,'DejaVu Sans Mono',consolas,'Courier New',monospace\"><span style=\"font-weight: bold\">[</span>\n",
       "    <span style=\"color: #008000; text-decoration-color: #008000\">'seconds_per_epoch: 1,525.581395348837'</span>,\n",
       "    <span style=\"color: #008000; text-decoration-color: #008000\">'min_per_epoch: 25.4264'</span>,\n",
       "    <span style=\"color: #008000; text-decoration-color: #008000\">'hrs_per_epoch: 0.4238'</span>,\n",
       "    <span style=\"color: #008000; text-decoration-color: #008000\">'epochs_per_second: 0.0007'</span>,\n",
       "    <span style=\"color: #008000; text-decoration-color: #008000\">'epochs_per_min: 0.0393'</span>,\n",
       "    <span style=\"color: #008000; text-decoration-color: #008000\">'epochs_per_hr: 2.3598'</span>,\n",
       "    <span style=\"color: #008000; text-decoration-color: #008000\">'batches_per_epoch: 3280'</span>,\n",
       "    <span style=\"color: #008000; text-decoration-color: #008000\">'samples_per_epoch: 2.099e+05'</span>,\n",
       "    <span style=\"color: #008000; text-decoration-color: #008000\">'seconds_per_batch: 2.1500'</span>,\n",
       "    <span style=\"color: #008000; text-decoration-color: #008000\">'batches_per_second: 0.4651'</span>,\n",
       "    <span style=\"color: #008000; text-decoration-color: #008000\">'batches_per_min: 27.9070'</span>,\n",
       "    <span style=\"color: #008000; text-decoration-color: #008000\">'batches_per_hr: 1674.4186'</span>,\n",
       "    <span style=\"color: #008000; text-decoration-color: #008000\">'samples_per_second: 29.7674'</span>,\n",
       "    <span style=\"color: #008000; text-decoration-color: #008000\">'samples_per_min: 1786.0465'</span>,\n",
       "    <span style=\"color: #008000; text-decoration-color: #008000\">'samples_per_hr: 1.072e+05'</span>,\n",
       "    <span style=\"color: #008000; text-decoration-color: #008000\">'batch_size: 64'</span>\n",
       "<span style=\"font-weight: bold\">]</span>\n",
       "</pre>\n"
      ],
      "text/plain": [
       "\u001b[1m[\u001b[0m\n",
       "    \u001b[32m'seconds_per_epoch: 1,525.581395348837'\u001b[0m,\n",
       "    \u001b[32m'min_per_epoch: 25.4264'\u001b[0m,\n",
       "    \u001b[32m'hrs_per_epoch: 0.4238'\u001b[0m,\n",
       "    \u001b[32m'epochs_per_second: 0.0007'\u001b[0m,\n",
       "    \u001b[32m'epochs_per_min: 0.0393'\u001b[0m,\n",
       "    \u001b[32m'epochs_per_hr: 2.3598'\u001b[0m,\n",
       "    \u001b[32m'batches_per_epoch: 3280'\u001b[0m,\n",
       "    \u001b[32m'samples_per_epoch: 2.099e+05'\u001b[0m,\n",
       "    \u001b[32m'seconds_per_batch: 2.1500'\u001b[0m,\n",
       "    \u001b[32m'batches_per_second: 0.4651'\u001b[0m,\n",
       "    \u001b[32m'batches_per_min: 27.9070'\u001b[0m,\n",
       "    \u001b[32m'batches_per_hr: 1674.4186'\u001b[0m,\n",
       "    \u001b[32m'samples_per_second: 29.7674'\u001b[0m,\n",
       "    \u001b[32m'samples_per_min: 1786.0465'\u001b[0m,\n",
       "    \u001b[32m'samples_per_hr: 1.072e+05'\u001b[0m,\n",
       "    \u001b[32m'batch_size: 64'\u001b[0m\n",
       "\u001b[1m]\u001b[0m\n"
      ]
     },
     "metadata": {},
     "output_type": "display_data"
    },
    {
     "name": "stdout",
     "output_type": "stream",
     "text": [
      "(Extrapolated prediction) Using 100% of samples\n"
     ]
    },
    {
     "data": {
      "text/html": [
       "<pre style=\"white-space:pre;overflow-x:auto;line-height:normal;font-family:Menlo,'DejaVu Sans Mono',consolas,'Courier New',monospace\"><span style=\"font-weight: bold\">[</span>\n",
       "    <span style=\"color: #008000; text-decoration-color: #008000\">'seconds_per_epoch: 3,051.162790697674'</span>,\n",
       "    <span style=\"color: #008000; text-decoration-color: #008000\">'min_per_epoch: 50.8527'</span>,\n",
       "    <span style=\"color: #008000; text-decoration-color: #008000\">'hrs_per_epoch: 0.8475'</span>,\n",
       "    <span style=\"color: #008000; text-decoration-color: #008000\">'epochs_per_second: 0.0003'</span>,\n",
       "    <span style=\"color: #008000; text-decoration-color: #008000\">'epochs_per_min: 0.0197'</span>,\n",
       "    <span style=\"color: #008000; text-decoration-color: #008000\">'epochs_per_hr: 1.1799'</span>,\n",
       "    <span style=\"color: #008000; text-decoration-color: #008000\">'batches_per_epoch: 6560'</span>,\n",
       "    <span style=\"color: #008000; text-decoration-color: #008000\">'samples_per_epoch: 4.198e+05'</span>,\n",
       "    <span style=\"color: #008000; text-decoration-color: #008000\">'seconds_per_batch: 2.1500'</span>,\n",
       "    <span style=\"color: #008000; text-decoration-color: #008000\">'batches_per_second: 0.4651'</span>,\n",
       "    <span style=\"color: #008000; text-decoration-color: #008000\">'batches_per_min: 27.9070'</span>,\n",
       "    <span style=\"color: #008000; text-decoration-color: #008000\">'batches_per_hr: 1674.4186'</span>,\n",
       "    <span style=\"color: #008000; text-decoration-color: #008000\">'samples_per_second: 29.7674'</span>,\n",
       "    <span style=\"color: #008000; text-decoration-color: #008000\">'samples_per_min: 1786.0465'</span>,\n",
       "    <span style=\"color: #008000; text-decoration-color: #008000\">'samples_per_hr: 1.072e+05'</span>,\n",
       "    <span style=\"color: #008000; text-decoration-color: #008000\">'batch_size: 64'</span>\n",
       "<span style=\"font-weight: bold\">]</span>\n",
       "</pre>\n"
      ],
      "text/plain": [
       "\u001b[1m[\u001b[0m\n",
       "    \u001b[32m'seconds_per_epoch: 3,051.162790697674'\u001b[0m,\n",
       "    \u001b[32m'min_per_epoch: 50.8527'\u001b[0m,\n",
       "    \u001b[32m'hrs_per_epoch: 0.8475'\u001b[0m,\n",
       "    \u001b[32m'epochs_per_second: 0.0003'\u001b[0m,\n",
       "    \u001b[32m'epochs_per_min: 0.0197'\u001b[0m,\n",
       "    \u001b[32m'epochs_per_hr: 1.1799'\u001b[0m,\n",
       "    \u001b[32m'batches_per_epoch: 6560'\u001b[0m,\n",
       "    \u001b[32m'samples_per_epoch: 4.198e+05'\u001b[0m,\n",
       "    \u001b[32m'seconds_per_batch: 2.1500'\u001b[0m,\n",
       "    \u001b[32m'batches_per_second: 0.4651'\u001b[0m,\n",
       "    \u001b[32m'batches_per_min: 27.9070'\u001b[0m,\n",
       "    \u001b[32m'batches_per_hr: 1674.4186'\u001b[0m,\n",
       "    \u001b[32m'samples_per_second: 29.7674'\u001b[0m,\n",
       "    \u001b[32m'samples_per_min: 1786.0465'\u001b[0m,\n",
       "    \u001b[32m'samples_per_hr: 1.072e+05'\u001b[0m,\n",
       "    \u001b[32m'batch_size: 64'\u001b[0m\n",
       "\u001b[1m]\u001b[0m\n"
      ]
     },
     "metadata": {},
     "output_type": "display_data"
    }
   ],
   "source": [
    "batches_per_second = (1/2.15)\n",
    "batches_per_epoch = 3280\n",
    "batch_size=64\n",
    "print(f\"Experiment #3: batch_size=64, num_processes=4, num_devices=2\")\n",
    "print(\"Using 50% of samples\")\n",
    "display_train_timing_info(batches_per_epoch=batches_per_epoch,\n",
    "                          batches_per_second=batches_per_second,\n",
    "                          batch_size=batch_size)\n",
    "\n",
    "print(\"(Extrapolated prediction) Using 100% of samples\")\n",
    "display_train_timing_info(batches_per_epoch=batches_per_epoch*2,\n",
    "                          batches_per_second=batches_per_second,\n",
    "                          batch_size=batch_size)"
   ]
  },
  {
   "cell_type": "markdown",
   "id": "ce7b139e-8686-4c00-af01-8411175982e6",
   "metadata": {},
   "source": [
    "### Experiment #4"
   ]
  },
  {
   "cell_type": "code",
   "execution_count": 5,
   "id": "052701d2-3c9a-4a8d-b0cf-72de6ebe2c03",
   "metadata": {},
   "outputs": [
    {
     "name": "stdout",
     "output_type": "stream",
     "text": [
      "Experiment #4: batch_size=96, num_processes=4, num_devices=2\n",
      "Using 50% of samples\n"
     ]
    },
    {
     "data": {
      "text/html": [
       "<pre style=\"white-space:pre;overflow-x:auto;line-height:normal;font-family:Menlo,'DejaVu Sans Mono',consolas,'Courier New',monospace\"><span style=\"font-weight: bold\">[</span>\n",
       "    <span style=\"color: #008000; text-decoration-color: #008000\">'seconds_per_epoch: 662.7272727272727'</span>,\n",
       "    <span style=\"color: #008000; text-decoration-color: #008000\">'min_per_epoch: 11.0455'</span>,\n",
       "    <span style=\"color: #008000; text-decoration-color: #008000\">'hrs_per_epoch: 0.1841'</span>,\n",
       "    <span style=\"color: #008000; text-decoration-color: #008000\">'epochs_per_second: 0.0015'</span>,\n",
       "    <span style=\"color: #008000; text-decoration-color: #008000\">'epochs_per_min: 0.0905'</span>,\n",
       "    <span style=\"color: #008000; text-decoration-color: #008000\">'epochs_per_hr: 5.4321'</span>,\n",
       "    <span style=\"color: #008000; text-decoration-color: #008000\">'batches_per_epoch: 2187'</span>,\n",
       "    <span style=\"color: #008000; text-decoration-color: #008000\">'samples_per_epoch: 2.1e+05'</span>,\n",
       "    <span style=\"color: #008000; text-decoration-color: #008000\">'seconds_per_batch: 3.3000'</span>,\n",
       "    <span style=\"color: #008000; text-decoration-color: #008000\">'batches_per_second: 0.3030'</span>,\n",
       "    <span style=\"color: #008000; text-decoration-color: #008000\">'batches_per_min: 18.1818'</span>,\n",
       "    <span style=\"color: #008000; text-decoration-color: #008000\">'batches_per_hr: 1090.9091'</span>,\n",
       "    <span style=\"color: #008000; text-decoration-color: #008000\">'samples_per_second: 29.0909'</span>,\n",
       "    <span style=\"color: #008000; text-decoration-color: #008000\">'samples_per_min: 1745.4545'</span>,\n",
       "    <span style=\"color: #008000; text-decoration-color: #008000\">'samples_per_hr: 1.047e+05'</span>,\n",
       "    <span style=\"color: #008000; text-decoration-color: #008000\">'batch_size: 96'</span>\n",
       "<span style=\"font-weight: bold\">]</span>\n",
       "</pre>\n"
      ],
      "text/plain": [
       "\u001b[1m[\u001b[0m\n",
       "    \u001b[32m'seconds_per_epoch: 662.7272727272727'\u001b[0m,\n",
       "    \u001b[32m'min_per_epoch: 11.0455'\u001b[0m,\n",
       "    \u001b[32m'hrs_per_epoch: 0.1841'\u001b[0m,\n",
       "    \u001b[32m'epochs_per_second: 0.0015'\u001b[0m,\n",
       "    \u001b[32m'epochs_per_min: 0.0905'\u001b[0m,\n",
       "    \u001b[32m'epochs_per_hr: 5.4321'\u001b[0m,\n",
       "    \u001b[32m'batches_per_epoch: 2187'\u001b[0m,\n",
       "    \u001b[32m'samples_per_epoch: 2.1e+05'\u001b[0m,\n",
       "    \u001b[32m'seconds_per_batch: 3.3000'\u001b[0m,\n",
       "    \u001b[32m'batches_per_second: 0.3030'\u001b[0m,\n",
       "    \u001b[32m'batches_per_min: 18.1818'\u001b[0m,\n",
       "    \u001b[32m'batches_per_hr: 1090.9091'\u001b[0m,\n",
       "    \u001b[32m'samples_per_second: 29.0909'\u001b[0m,\n",
       "    \u001b[32m'samples_per_min: 1745.4545'\u001b[0m,\n",
       "    \u001b[32m'samples_per_hr: 1.047e+05'\u001b[0m,\n",
       "    \u001b[32m'batch_size: 96'\u001b[0m\n",
       "\u001b[1m]\u001b[0m\n"
      ]
     },
     "metadata": {},
     "output_type": "display_data"
    },
    {
     "name": "stdout",
     "output_type": "stream",
     "text": [
      "(Extrapolated prediction) Using 100% of samples\n"
     ]
    },
    {
     "data": {
      "text/html": [
       "<pre style=\"white-space:pre;overflow-x:auto;line-height:normal;font-family:Menlo,'DejaVu Sans Mono',consolas,'Courier New',monospace\"><span style=\"font-weight: bold\">[</span>\n",
       "    <span style=\"color: #008000; text-decoration-color: #008000\">'seconds_per_epoch: 1,325.4545454545455'</span>,\n",
       "    <span style=\"color: #008000; text-decoration-color: #008000\">'min_per_epoch: 22.0909'</span>,\n",
       "    <span style=\"color: #008000; text-decoration-color: #008000\">'hrs_per_epoch: 0.3682'</span>,\n",
       "    <span style=\"color: #008000; text-decoration-color: #008000\">'epochs_per_second: 0.0008'</span>,\n",
       "    <span style=\"color: #008000; text-decoration-color: #008000\">'epochs_per_min: 0.0453'</span>,\n",
       "    <span style=\"color: #008000; text-decoration-color: #008000\">'epochs_per_hr: 2.7160'</span>,\n",
       "    <span style=\"color: #008000; text-decoration-color: #008000\">'batches_per_epoch: 4374'</span>,\n",
       "    <span style=\"color: #008000; text-decoration-color: #008000\">'samples_per_epoch: 4.199e+05'</span>,\n",
       "    <span style=\"color: #008000; text-decoration-color: #008000\">'seconds_per_batch: 3.3000'</span>,\n",
       "    <span style=\"color: #008000; text-decoration-color: #008000\">'batches_per_second: 0.3030'</span>,\n",
       "    <span style=\"color: #008000; text-decoration-color: #008000\">'batches_per_min: 18.1818'</span>,\n",
       "    <span style=\"color: #008000; text-decoration-color: #008000\">'batches_per_hr: 1090.9091'</span>,\n",
       "    <span style=\"color: #008000; text-decoration-color: #008000\">'samples_per_second: 29.0909'</span>,\n",
       "    <span style=\"color: #008000; text-decoration-color: #008000\">'samples_per_min: 1745.4545'</span>,\n",
       "    <span style=\"color: #008000; text-decoration-color: #008000\">'samples_per_hr: 1.047e+05'</span>,\n",
       "    <span style=\"color: #008000; text-decoration-color: #008000\">'batch_size: 96'</span>\n",
       "<span style=\"font-weight: bold\">]</span>\n",
       "</pre>\n"
      ],
      "text/plain": [
       "\u001b[1m[\u001b[0m\n",
       "    \u001b[32m'seconds_per_epoch: 1,325.4545454545455'\u001b[0m,\n",
       "    \u001b[32m'min_per_epoch: 22.0909'\u001b[0m,\n",
       "    \u001b[32m'hrs_per_epoch: 0.3682'\u001b[0m,\n",
       "    \u001b[32m'epochs_per_second: 0.0008'\u001b[0m,\n",
       "    \u001b[32m'epochs_per_min: 0.0453'\u001b[0m,\n",
       "    \u001b[32m'epochs_per_hr: 2.7160'\u001b[0m,\n",
       "    \u001b[32m'batches_per_epoch: 4374'\u001b[0m,\n",
       "    \u001b[32m'samples_per_epoch: 4.199e+05'\u001b[0m,\n",
       "    \u001b[32m'seconds_per_batch: 3.3000'\u001b[0m,\n",
       "    \u001b[32m'batches_per_second: 0.3030'\u001b[0m,\n",
       "    \u001b[32m'batches_per_min: 18.1818'\u001b[0m,\n",
       "    \u001b[32m'batches_per_hr: 1090.9091'\u001b[0m,\n",
       "    \u001b[32m'samples_per_second: 29.0909'\u001b[0m,\n",
       "    \u001b[32m'samples_per_min: 1745.4545'\u001b[0m,\n",
       "    \u001b[32m'samples_per_hr: 1.047e+05'\u001b[0m,\n",
       "    \u001b[32m'batch_size: 96'\u001b[0m\n",
       "\u001b[1m]\u001b[0m\n"
      ]
     },
     "metadata": {},
     "output_type": "display_data"
    }
   ],
   "source": [
    "batches_per_second = (1/3.3)\n",
    "batches_per_epoch = 2187\n",
    "batch_size=96\n",
    "\n",
    "print(f\"Experiment #4: batch_size={batch_size}, num_processes=4, num_devices=2\")\n",
    "print(\"Using 50% of samples\")\n",
    "display_train_timing_info(batches_per_epoch=batches_per_epoch,\n",
    "                          batches_per_second=batches_per_second,\n",
    "                          batch_size=batch_size)\n",
    "\n",
    "print(\"(Extrapolated prediction) Using 100% of samples\")\n",
    "display_train_timing_info(batches_per_epoch=batches_per_epoch*2,\n",
    "                          batches_per_second=batches_per_second,\n",
    "                          batch_size=batch_size)"
   ]
  },
  {
   "cell_type": "markdown",
   "id": "b4312b46-afc1-4df6-851c-3c61d556681e",
   "metadata": {},
   "source": [
    "### Experiment #5\n",
    "\n",
    "Started: 3:15 AM - 2022-03-23  \n",
    "Ended:   4:30 AM - 2022-03-23  "
   ]
  },
  {
   "cell_type": "code",
   "execution_count": 6,
   "id": "cbc549bd-3606-4dc9-82d3-af0e53950b0e",
   "metadata": {},
   "outputs": [
    {
     "name": "stdout",
     "output_type": "stream",
     "text": [
      "Experiment #5: batch_size=128, num_processes=4, num_devices=2\n",
      "Using 50% of samples\n"
     ]
    },
    {
     "data": {
      "text/html": [
       "<pre style=\"white-space:pre;overflow-x:auto;line-height:normal;font-family:Menlo,'DejaVu Sans Mono',consolas,'Courier New',monospace\"><span style=\"font-weight: bold\">[</span>\n",
       "    <span style=\"color: #008000; text-decoration-color: #008000\">'seconds_per_epoch: 381.39534883720927'</span>,\n",
       "    <span style=\"color: #008000; text-decoration-color: #008000\">'min_per_epoch: 6.3566'</span>,\n",
       "    <span style=\"color: #008000; text-decoration-color: #008000\">'hrs_per_epoch: 0.1059'</span>,\n",
       "    <span style=\"color: #008000; text-decoration-color: #008000\">'epochs_per_second: 0.0026'</span>,\n",
       "    <span style=\"color: #008000; text-decoration-color: #008000\">'epochs_per_min: 0.1573'</span>,\n",
       "    <span style=\"color: #008000; text-decoration-color: #008000\">'epochs_per_hr: 9.4390'</span>,\n",
       "    <span style=\"color: #008000; text-decoration-color: #008000\">'batches_per_epoch: 1640'</span>,\n",
       "    <span style=\"color: #008000; text-decoration-color: #008000\">'samples_per_epoch: 2.099e+05'</span>,\n",
       "    <span style=\"color: #008000; text-decoration-color: #008000\">'seconds_per_batch: 4.3000'</span>,\n",
       "    <span style=\"color: #008000; text-decoration-color: #008000\">'batches_per_second: 0.2326'</span>,\n",
       "    <span style=\"color: #008000; text-decoration-color: #008000\">'batches_per_min: 13.9535'</span>,\n",
       "    <span style=\"color: #008000; text-decoration-color: #008000\">'batches_per_hr: 837.2093'</span>,\n",
       "    <span style=\"color: #008000; text-decoration-color: #008000\">'samples_per_second: 29.7674'</span>,\n",
       "    <span style=\"color: #008000; text-decoration-color: #008000\">'samples_per_min: 1786.0465'</span>,\n",
       "    <span style=\"color: #008000; text-decoration-color: #008000\">'samples_per_hr: 1.072e+05'</span>,\n",
       "    <span style=\"color: #008000; text-decoration-color: #008000\">'batch_size: 128'</span>\n",
       "<span style=\"font-weight: bold\">]</span>\n",
       "</pre>\n"
      ],
      "text/plain": [
       "\u001b[1m[\u001b[0m\n",
       "    \u001b[32m'seconds_per_epoch: 381.39534883720927'\u001b[0m,\n",
       "    \u001b[32m'min_per_epoch: 6.3566'\u001b[0m,\n",
       "    \u001b[32m'hrs_per_epoch: 0.1059'\u001b[0m,\n",
       "    \u001b[32m'epochs_per_second: 0.0026'\u001b[0m,\n",
       "    \u001b[32m'epochs_per_min: 0.1573'\u001b[0m,\n",
       "    \u001b[32m'epochs_per_hr: 9.4390'\u001b[0m,\n",
       "    \u001b[32m'batches_per_epoch: 1640'\u001b[0m,\n",
       "    \u001b[32m'samples_per_epoch: 2.099e+05'\u001b[0m,\n",
       "    \u001b[32m'seconds_per_batch: 4.3000'\u001b[0m,\n",
       "    \u001b[32m'batches_per_second: 0.2326'\u001b[0m,\n",
       "    \u001b[32m'batches_per_min: 13.9535'\u001b[0m,\n",
       "    \u001b[32m'batches_per_hr: 837.2093'\u001b[0m,\n",
       "    \u001b[32m'samples_per_second: 29.7674'\u001b[0m,\n",
       "    \u001b[32m'samples_per_min: 1786.0465'\u001b[0m,\n",
       "    \u001b[32m'samples_per_hr: 1.072e+05'\u001b[0m,\n",
       "    \u001b[32m'batch_size: 128'\u001b[0m\n",
       "\u001b[1m]\u001b[0m\n"
      ]
     },
     "metadata": {},
     "output_type": "display_data"
    },
    {
     "name": "stdout",
     "output_type": "stream",
     "text": [
      "(Extrapolated prediction) Using 100% of samples\n"
     ]
    },
    {
     "data": {
      "text/html": [
       "<pre style=\"white-space:pre;overflow-x:auto;line-height:normal;font-family:Menlo,'DejaVu Sans Mono',consolas,'Courier New',monospace\"><span style=\"font-weight: bold\">[</span>\n",
       "    <span style=\"color: #008000; text-decoration-color: #008000\">'seconds_per_epoch: 762.7906976744185'</span>,\n",
       "    <span style=\"color: #008000; text-decoration-color: #008000\">'min_per_epoch: 12.7132'</span>,\n",
       "    <span style=\"color: #008000; text-decoration-color: #008000\">'hrs_per_epoch: 0.2119'</span>,\n",
       "    <span style=\"color: #008000; text-decoration-color: #008000\">'epochs_per_second: 0.0013'</span>,\n",
       "    <span style=\"color: #008000; text-decoration-color: #008000\">'epochs_per_min: 0.0787'</span>,\n",
       "    <span style=\"color: #008000; text-decoration-color: #008000\">'epochs_per_hr: 4.7195'</span>,\n",
       "    <span style=\"color: #008000; text-decoration-color: #008000\">'batches_per_epoch: 3280'</span>,\n",
       "    <span style=\"color: #008000; text-decoration-color: #008000\">'samples_per_epoch: 4.198e+05'</span>,\n",
       "    <span style=\"color: #008000; text-decoration-color: #008000\">'seconds_per_batch: 4.3000'</span>,\n",
       "    <span style=\"color: #008000; text-decoration-color: #008000\">'batches_per_second: 0.2326'</span>,\n",
       "    <span style=\"color: #008000; text-decoration-color: #008000\">'batches_per_min: 13.9535'</span>,\n",
       "    <span style=\"color: #008000; text-decoration-color: #008000\">'batches_per_hr: 837.2093'</span>,\n",
       "    <span style=\"color: #008000; text-decoration-color: #008000\">'samples_per_second: 29.7674'</span>,\n",
       "    <span style=\"color: #008000; text-decoration-color: #008000\">'samples_per_min: 1786.0465'</span>,\n",
       "    <span style=\"color: #008000; text-decoration-color: #008000\">'samples_per_hr: 1.072e+05'</span>,\n",
       "    <span style=\"color: #008000; text-decoration-color: #008000\">'batch_size: 128'</span>\n",
       "<span style=\"font-weight: bold\">]</span>\n",
       "</pre>\n"
      ],
      "text/plain": [
       "\u001b[1m[\u001b[0m\n",
       "    \u001b[32m'seconds_per_epoch: 762.7906976744185'\u001b[0m,\n",
       "    \u001b[32m'min_per_epoch: 12.7132'\u001b[0m,\n",
       "    \u001b[32m'hrs_per_epoch: 0.2119'\u001b[0m,\n",
       "    \u001b[32m'epochs_per_second: 0.0013'\u001b[0m,\n",
       "    \u001b[32m'epochs_per_min: 0.0787'\u001b[0m,\n",
       "    \u001b[32m'epochs_per_hr: 4.7195'\u001b[0m,\n",
       "    \u001b[32m'batches_per_epoch: 3280'\u001b[0m,\n",
       "    \u001b[32m'samples_per_epoch: 4.198e+05'\u001b[0m,\n",
       "    \u001b[32m'seconds_per_batch: 4.3000'\u001b[0m,\n",
       "    \u001b[32m'batches_per_second: 0.2326'\u001b[0m,\n",
       "    \u001b[32m'batches_per_min: 13.9535'\u001b[0m,\n",
       "    \u001b[32m'batches_per_hr: 837.2093'\u001b[0m,\n",
       "    \u001b[32m'samples_per_second: 29.7674'\u001b[0m,\n",
       "    \u001b[32m'samples_per_min: 1786.0465'\u001b[0m,\n",
       "    \u001b[32m'samples_per_hr: 1.072e+05'\u001b[0m,\n",
       "    \u001b[32m'batch_size: 128'\u001b[0m\n",
       "\u001b[1m]\u001b[0m\n"
      ]
     },
     "metadata": {},
     "output_type": "display_data"
    }
   ],
   "source": [
    "batches_per_second = (1/4.3)\n",
    "batches_per_epoch = 1640\n",
    "batch_size=128\n",
    "\n",
    "print(f\"Experiment #5: batch_size={batch_size}, num_processes=4, num_devices=2\")\n",
    "print(\"Using 50% of samples\")\n",
    "display_train_timing_info(batches_per_epoch=batches_per_epoch,\n",
    "                          batches_per_second=batches_per_second,\n",
    "                          batch_size=batch_size)\n",
    "\n",
    "print(\"(Extrapolated prediction) Using 100% of samples\")\n",
    "display_train_timing_info(batches_per_epoch=batches_per_epoch*2,\n",
    "                          batches_per_second=batches_per_second,\n",
    "                          batch_size=batch_size)"
   ]
  },
  {
   "cell_type": "markdown",
   "id": "4bed0574-b176-476a-ab67-b59d11a5e5a4",
   "metadata": {},
   "source": [
    "### Experiment #6\n",
    "\n",
    "Started: 4:30 AM - 2022-03-23  \n",
    "Ended:   5:45 AM - 2022-03-23  "
   ]
  },
  {
   "cell_type": "code",
   "execution_count": 7,
   "id": "4d49dd0a-7ff2-4df9-9135-36fc6940e7c8",
   "metadata": {},
   "outputs": [
    {
     "name": "stdout",
     "output_type": "stream",
     "text": [
      "Experiment #6: batch_size=144, num_processes=4, num_devices=2\n",
      "Using 50% of samples\n"
     ]
    },
    {
     "data": {
      "text/html": [
       "<pre style=\"white-space:pre;overflow-x:auto;line-height:normal;font-family:Menlo,'DejaVu Sans Mono',consolas,'Courier New',monospace\"><span style=\"font-weight: bold\">[</span>\n",
       "    <span style=\"color: #008000; text-decoration-color: #008000\">'seconds_per_epoch: 283.1067961165048'</span>,\n",
       "    <span style=\"color: #008000; text-decoration-color: #008000\">'min_per_epoch: 4.7184'</span>,\n",
       "    <span style=\"color: #008000; text-decoration-color: #008000\">'hrs_per_epoch: 0.0786'</span>,\n",
       "    <span style=\"color: #008000; text-decoration-color: #008000\">'epochs_per_second: 0.0035'</span>,\n",
       "    <span style=\"color: #008000; text-decoration-color: #008000\">'epochs_per_min: 0.2119'</span>,\n",
       "    <span style=\"color: #008000; text-decoration-color: #008000\">'epochs_per_hr: 12.7160'</span>,\n",
       "    <span style=\"color: #008000; text-decoration-color: #008000\">'batches_per_epoch: 1458'</span>,\n",
       "    <span style=\"color: #008000; text-decoration-color: #008000\">'samples_per_epoch: 2.1e+05'</span>,\n",
       "    <span style=\"color: #008000; text-decoration-color: #008000\">'seconds_per_batch: 5.1500'</span>,\n",
       "    <span style=\"color: #008000; text-decoration-color: #008000\">'batches_per_second: 0.1942'</span>,\n",
       "    <span style=\"color: #008000; text-decoration-color: #008000\">'batches_per_min: 11.6505'</span>,\n",
       "    <span style=\"color: #008000; text-decoration-color: #008000\">'batches_per_hr: 699.0291'</span>,\n",
       "    <span style=\"color: #008000; text-decoration-color: #008000\">'samples_per_second: 27.9612'</span>,\n",
       "    <span style=\"color: #008000; text-decoration-color: #008000\">'samples_per_min: 1677.6699'</span>,\n",
       "    <span style=\"color: #008000; text-decoration-color: #008000\">'samples_per_hr: 1.007e+05'</span>,\n",
       "    <span style=\"color: #008000; text-decoration-color: #008000\">'batch_size: 144'</span>\n",
       "<span style=\"font-weight: bold\">]</span>\n",
       "</pre>\n"
      ],
      "text/plain": [
       "\u001b[1m[\u001b[0m\n",
       "    \u001b[32m'seconds_per_epoch: 283.1067961165048'\u001b[0m,\n",
       "    \u001b[32m'min_per_epoch: 4.7184'\u001b[0m,\n",
       "    \u001b[32m'hrs_per_epoch: 0.0786'\u001b[0m,\n",
       "    \u001b[32m'epochs_per_second: 0.0035'\u001b[0m,\n",
       "    \u001b[32m'epochs_per_min: 0.2119'\u001b[0m,\n",
       "    \u001b[32m'epochs_per_hr: 12.7160'\u001b[0m,\n",
       "    \u001b[32m'batches_per_epoch: 1458'\u001b[0m,\n",
       "    \u001b[32m'samples_per_epoch: 2.1e+05'\u001b[0m,\n",
       "    \u001b[32m'seconds_per_batch: 5.1500'\u001b[0m,\n",
       "    \u001b[32m'batches_per_second: 0.1942'\u001b[0m,\n",
       "    \u001b[32m'batches_per_min: 11.6505'\u001b[0m,\n",
       "    \u001b[32m'batches_per_hr: 699.0291'\u001b[0m,\n",
       "    \u001b[32m'samples_per_second: 27.9612'\u001b[0m,\n",
       "    \u001b[32m'samples_per_min: 1677.6699'\u001b[0m,\n",
       "    \u001b[32m'samples_per_hr: 1.007e+05'\u001b[0m,\n",
       "    \u001b[32m'batch_size: 144'\u001b[0m\n",
       "\u001b[1m]\u001b[0m\n"
      ]
     },
     "metadata": {},
     "output_type": "display_data"
    },
    {
     "name": "stdout",
     "output_type": "stream",
     "text": [
      "(Extrapolated prediction) Using 100% of samples\n"
     ]
    },
    {
     "data": {
      "text/html": [
       "<pre style=\"white-space:pre;overflow-x:auto;line-height:normal;font-family:Menlo,'DejaVu Sans Mono',consolas,'Courier New',monospace\"><span style=\"font-weight: bold\">[</span>\n",
       "    <span style=\"color: #008000; text-decoration-color: #008000\">'seconds_per_epoch: 566.2135922330096'</span>,\n",
       "    <span style=\"color: #008000; text-decoration-color: #008000\">'min_per_epoch: 9.4369'</span>,\n",
       "    <span style=\"color: #008000; text-decoration-color: #008000\">'hrs_per_epoch: 0.1573'</span>,\n",
       "    <span style=\"color: #008000; text-decoration-color: #008000\">'epochs_per_second: 0.0018'</span>,\n",
       "    <span style=\"color: #008000; text-decoration-color: #008000\">'epochs_per_min: 0.1060'</span>,\n",
       "    <span style=\"color: #008000; text-decoration-color: #008000\">'epochs_per_hr: 6.3580'</span>,\n",
       "    <span style=\"color: #008000; text-decoration-color: #008000\">'batches_per_epoch: 2916'</span>,\n",
       "    <span style=\"color: #008000; text-decoration-color: #008000\">'samples_per_epoch: 4.199e+05'</span>,\n",
       "    <span style=\"color: #008000; text-decoration-color: #008000\">'seconds_per_batch: 5.1500'</span>,\n",
       "    <span style=\"color: #008000; text-decoration-color: #008000\">'batches_per_second: 0.1942'</span>,\n",
       "    <span style=\"color: #008000; text-decoration-color: #008000\">'batches_per_min: 11.6505'</span>,\n",
       "    <span style=\"color: #008000; text-decoration-color: #008000\">'batches_per_hr: 699.0291'</span>,\n",
       "    <span style=\"color: #008000; text-decoration-color: #008000\">'samples_per_second: 27.9612'</span>,\n",
       "    <span style=\"color: #008000; text-decoration-color: #008000\">'samples_per_min: 1677.6699'</span>,\n",
       "    <span style=\"color: #008000; text-decoration-color: #008000\">'samples_per_hr: 1.007e+05'</span>,\n",
       "    <span style=\"color: #008000; text-decoration-color: #008000\">'batch_size: 144'</span>\n",
       "<span style=\"font-weight: bold\">]</span>\n",
       "</pre>\n"
      ],
      "text/plain": [
       "\u001b[1m[\u001b[0m\n",
       "    \u001b[32m'seconds_per_epoch: 566.2135922330096'\u001b[0m,\n",
       "    \u001b[32m'min_per_epoch: 9.4369'\u001b[0m,\n",
       "    \u001b[32m'hrs_per_epoch: 0.1573'\u001b[0m,\n",
       "    \u001b[32m'epochs_per_second: 0.0018'\u001b[0m,\n",
       "    \u001b[32m'epochs_per_min: 0.1060'\u001b[0m,\n",
       "    \u001b[32m'epochs_per_hr: 6.3580'\u001b[0m,\n",
       "    \u001b[32m'batches_per_epoch: 2916'\u001b[0m,\n",
       "    \u001b[32m'samples_per_epoch: 4.199e+05'\u001b[0m,\n",
       "    \u001b[32m'seconds_per_batch: 5.1500'\u001b[0m,\n",
       "    \u001b[32m'batches_per_second: 0.1942'\u001b[0m,\n",
       "    \u001b[32m'batches_per_min: 11.6505'\u001b[0m,\n",
       "    \u001b[32m'batches_per_hr: 699.0291'\u001b[0m,\n",
       "    \u001b[32m'samples_per_second: 27.9612'\u001b[0m,\n",
       "    \u001b[32m'samples_per_min: 1677.6699'\u001b[0m,\n",
       "    \u001b[32m'samples_per_hr: 1.007e+05'\u001b[0m,\n",
       "    \u001b[32m'batch_size: 144'\u001b[0m\n",
       "\u001b[1m]\u001b[0m\n"
      ]
     },
     "metadata": {},
     "output_type": "display_data"
    }
   ],
   "source": [
    "batches_per_second = (1/5.15)\n",
    "batches_per_epoch = 1458\n",
    "batch_size=144\n",
    "\n",
    "print(f\"Experiment #6: batch_size={batch_size}, num_processes=4, num_devices=2\")\n",
    "print(\"Using 50% of samples\")\n",
    "display_train_timing_info(batches_per_epoch=batches_per_epoch,\n",
    "                          batches_per_second=batches_per_second,\n",
    "                          batch_size=batch_size)\n",
    "\n",
    "print(\"(Extrapolated prediction) Using 100% of samples\")\n",
    "display_train_timing_info(batches_per_epoch=batches_per_epoch*2,\n",
    "                          batches_per_second=batches_per_second,\n",
    "                          batch_size=batch_size)"
   ]
  },
  {
   "cell_type": "code",
   "execution_count": 8,
   "id": "39587f10-cdd6-4b46-b029-3a112f274d96",
   "metadata": {},
   "outputs": [
    {
     "name": "stdout",
     "output_type": "stream",
     "text": [
      "Experiment #6: batch_size=144, num_processes=4, num_devices=2\n",
      "Using 50% of samples\n"
     ]
    },
    {
     "data": {
      "text/html": [
       "<pre style=\"white-space:pre;overflow-x:auto;line-height:normal;font-family:Menlo,'DejaVu Sans Mono',consolas,'Courier New',monospace\"><span style=\"font-weight: bold\">[</span>\n",
       "    <span style=\"color: #008000; text-decoration-color: #008000\">'seconds_per_epoch: 299.38398357289526'</span>,\n",
       "    <span style=\"color: #008000; text-decoration-color: #008000\">'min_per_epoch: 4.9897'</span>,\n",
       "    <span style=\"color: #008000; text-decoration-color: #008000\">'hrs_per_epoch: 0.0832'</span>,\n",
       "    <span style=\"color: #008000; text-decoration-color: #008000\">'epochs_per_second: 0.0033'</span>,\n",
       "    <span style=\"color: #008000; text-decoration-color: #008000\">'epochs_per_min: 0.2004'</span>,\n",
       "    <span style=\"color: #008000; text-decoration-color: #008000\">'epochs_per_hr: 12.0247'</span>,\n",
       "    <span style=\"color: #008000; text-decoration-color: #008000\">'batches_per_epoch: 1458'</span>,\n",
       "    <span style=\"color: #008000; text-decoration-color: #008000\">'samples_per_epoch: 2.1e+05'</span>,\n",
       "    <span style=\"color: #008000; text-decoration-color: #008000\">'seconds_per_batch: 4.8700'</span>,\n",
       "    <span style=\"color: #008000; text-decoration-color: #008000\">'batches_per_second: 0.2053'</span>,\n",
       "    <span style=\"color: #008000; text-decoration-color: #008000\">'batches_per_min: 12.3203'</span>,\n",
       "    <span style=\"color: #008000; text-decoration-color: #008000\">'batches_per_hr: 739.2197'</span>,\n",
       "    <span style=\"color: #008000; text-decoration-color: #008000\">'samples_per_second: 29.5688'</span>,\n",
       "    <span style=\"color: #008000; text-decoration-color: #008000\">'samples_per_min: 1774.1273'</span>,\n",
       "    <span style=\"color: #008000; text-decoration-color: #008000\">'samples_per_hr: 1.064e+05'</span>,\n",
       "    <span style=\"color: #008000; text-decoration-color: #008000\">'batch_size: 144'</span>\n",
       "<span style=\"font-weight: bold\">]</span>\n",
       "</pre>\n"
      ],
      "text/plain": [
       "\u001b[1m[\u001b[0m\n",
       "    \u001b[32m'seconds_per_epoch: 299.38398357289526'\u001b[0m,\n",
       "    \u001b[32m'min_per_epoch: 4.9897'\u001b[0m,\n",
       "    \u001b[32m'hrs_per_epoch: 0.0832'\u001b[0m,\n",
       "    \u001b[32m'epochs_per_second: 0.0033'\u001b[0m,\n",
       "    \u001b[32m'epochs_per_min: 0.2004'\u001b[0m,\n",
       "    \u001b[32m'epochs_per_hr: 12.0247'\u001b[0m,\n",
       "    \u001b[32m'batches_per_epoch: 1458'\u001b[0m,\n",
       "    \u001b[32m'samples_per_epoch: 2.1e+05'\u001b[0m,\n",
       "    \u001b[32m'seconds_per_batch: 4.8700'\u001b[0m,\n",
       "    \u001b[32m'batches_per_second: 0.2053'\u001b[0m,\n",
       "    \u001b[32m'batches_per_min: 12.3203'\u001b[0m,\n",
       "    \u001b[32m'batches_per_hr: 739.2197'\u001b[0m,\n",
       "    \u001b[32m'samples_per_second: 29.5688'\u001b[0m,\n",
       "    \u001b[32m'samples_per_min: 1774.1273'\u001b[0m,\n",
       "    \u001b[32m'samples_per_hr: 1.064e+05'\u001b[0m,\n",
       "    \u001b[32m'batch_size: 144'\u001b[0m\n",
       "\u001b[1m]\u001b[0m\n"
      ]
     },
     "metadata": {},
     "output_type": "display_data"
    },
    {
     "name": "stdout",
     "output_type": "stream",
     "text": [
      "(Extrapolated prediction) Using 100% of samples\n"
     ]
    },
    {
     "data": {
      "text/html": [
       "<pre style=\"white-space:pre;overflow-x:auto;line-height:normal;font-family:Menlo,'DejaVu Sans Mono',consolas,'Courier New',monospace\"><span style=\"font-weight: bold\">[</span>\n",
       "    <span style=\"color: #008000; text-decoration-color: #008000\">'seconds_per_epoch: 598.7679671457905'</span>,\n",
       "    <span style=\"color: #008000; text-decoration-color: #008000\">'min_per_epoch: 9.9795'</span>,\n",
       "    <span style=\"color: #008000; text-decoration-color: #008000\">'hrs_per_epoch: 0.1663'</span>,\n",
       "    <span style=\"color: #008000; text-decoration-color: #008000\">'epochs_per_second: 0.0017'</span>,\n",
       "    <span style=\"color: #008000; text-decoration-color: #008000\">'epochs_per_min: 0.1002'</span>,\n",
       "    <span style=\"color: #008000; text-decoration-color: #008000\">'epochs_per_hr: 6.0123'</span>,\n",
       "    <span style=\"color: #008000; text-decoration-color: #008000\">'batches_per_epoch: 2916'</span>,\n",
       "    <span style=\"color: #008000; text-decoration-color: #008000\">'samples_per_epoch: 4.199e+05'</span>,\n",
       "    <span style=\"color: #008000; text-decoration-color: #008000\">'seconds_per_batch: 4.8700'</span>,\n",
       "    <span style=\"color: #008000; text-decoration-color: #008000\">'batches_per_second: 0.2053'</span>,\n",
       "    <span style=\"color: #008000; text-decoration-color: #008000\">'batches_per_min: 12.3203'</span>,\n",
       "    <span style=\"color: #008000; text-decoration-color: #008000\">'batches_per_hr: 739.2197'</span>,\n",
       "    <span style=\"color: #008000; text-decoration-color: #008000\">'samples_per_second: 29.5688'</span>,\n",
       "    <span style=\"color: #008000; text-decoration-color: #008000\">'samples_per_min: 1774.1273'</span>,\n",
       "    <span style=\"color: #008000; text-decoration-color: #008000\">'samples_per_hr: 1.064e+05'</span>,\n",
       "    <span style=\"color: #008000; text-decoration-color: #008000\">'batch_size: 144'</span>\n",
       "<span style=\"font-weight: bold\">]</span>\n",
       "</pre>\n"
      ],
      "text/plain": [
       "\u001b[1m[\u001b[0m\n",
       "    \u001b[32m'seconds_per_epoch: 598.7679671457905'\u001b[0m,\n",
       "    \u001b[32m'min_per_epoch: 9.9795'\u001b[0m,\n",
       "    \u001b[32m'hrs_per_epoch: 0.1663'\u001b[0m,\n",
       "    \u001b[32m'epochs_per_second: 0.0017'\u001b[0m,\n",
       "    \u001b[32m'epochs_per_min: 0.1002'\u001b[0m,\n",
       "    \u001b[32m'epochs_per_hr: 6.0123'\u001b[0m,\n",
       "    \u001b[32m'batches_per_epoch: 2916'\u001b[0m,\n",
       "    \u001b[32m'samples_per_epoch: 4.199e+05'\u001b[0m,\n",
       "    \u001b[32m'seconds_per_batch: 4.8700'\u001b[0m,\n",
       "    \u001b[32m'batches_per_second: 0.2053'\u001b[0m,\n",
       "    \u001b[32m'batches_per_min: 12.3203'\u001b[0m,\n",
       "    \u001b[32m'batches_per_hr: 739.2197'\u001b[0m,\n",
       "    \u001b[32m'samples_per_second: 29.5688'\u001b[0m,\n",
       "    \u001b[32m'samples_per_min: 1774.1273'\u001b[0m,\n",
       "    \u001b[32m'samples_per_hr: 1.064e+05'\u001b[0m,\n",
       "    \u001b[32m'batch_size: 144'\u001b[0m\n",
       "\u001b[1m]\u001b[0m\n"
      ]
     },
     "metadata": {},
     "output_type": "display_data"
    }
   ],
   "source": [
    "batches_per_second = (1/4.87)\n",
    "batches_per_epoch = 1458\n",
    "batch_size=144\n",
    "\n",
    "print(f\"Experiment #6: batch_size={batch_size}, num_processes=4, num_devices=2\")\n",
    "print(\"Using 50% of samples\")\n",
    "display_train_timing_info(batches_per_epoch=batches_per_epoch,\n",
    "                          batches_per_second=batches_per_second,\n",
    "                          batch_size=batch_size)\n",
    "\n",
    "print(\"(Extrapolated prediction) Using 100% of samples\")\n",
    "display_train_timing_info(batches_per_epoch=batches_per_epoch*2,\n",
    "                          batches_per_second=batches_per_second,\n",
    "                          batch_size=batch_size)"
   ]
  },
  {
   "cell_type": "markdown",
   "id": "0ec958b5-1904-497b-b06a-de0d0530ff2b",
   "metadata": {},
   "source": [
    "### Experiment #7\n",
    "\n",
    "- Using Accumulate_grad_batches=2\n",
    "\n",
    "Started: 5:45 AM - 2022-03-23  \n",
    "Ended:   x:xx AM - 2022-03-23  "
   ]
  },
  {
   "cell_type": "code",
   "execution_count": 9,
   "id": "eebc9543-449c-4f39-952f-d7bdabd91b60",
   "metadata": {},
   "outputs": [
    {
     "name": "stdout",
     "output_type": "stream",
     "text": [
      "Experiment #7: batch_size=144, num_processes=4, num_devices=2\n",
      "Using 50% of samples\n"
     ]
    },
    {
     "data": {
      "text/html": [
       "<pre style=\"white-space:pre;overflow-x:auto;line-height:normal;font-family:Menlo,'DejaVu Sans Mono',consolas,'Courier New',monospace\"><span style=\"font-weight: bold\">[</span>\n",
       "    <span style=\"color: #008000; text-decoration-color: #008000\">'seconds_per_epoch: 303.11850311850316'</span>,\n",
       "    <span style=\"color: #008000; text-decoration-color: #008000\">'min_per_epoch: 5.0520'</span>,\n",
       "    <span style=\"color: #008000; text-decoration-color: #008000\">'hrs_per_epoch: 0.0842'</span>,\n",
       "    <span style=\"color: #008000; text-decoration-color: #008000\">'epochs_per_second: 0.0033'</span>,\n",
       "    <span style=\"color: #008000; text-decoration-color: #008000\">'epochs_per_min: 0.1979'</span>,\n",
       "    <span style=\"color: #008000; text-decoration-color: #008000\">'epochs_per_hr: 11.8765'</span>,\n",
       "    <span style=\"color: #008000; text-decoration-color: #008000\">'batches_per_epoch: 1458'</span>,\n",
       "    <span style=\"color: #008000; text-decoration-color: #008000\">'samples_per_epoch: 2.1e+05'</span>,\n",
       "    <span style=\"color: #008000; text-decoration-color: #008000\">'seconds_per_batch: 4.8100'</span>,\n",
       "    <span style=\"color: #008000; text-decoration-color: #008000\">'batches_per_second: 0.2079'</span>,\n",
       "    <span style=\"color: #008000; text-decoration-color: #008000\">'batches_per_min: 12.4740'</span>,\n",
       "    <span style=\"color: #008000; text-decoration-color: #008000\">'batches_per_hr: 748.4407'</span>,\n",
       "    <span style=\"color: #008000; text-decoration-color: #008000\">'samples_per_second: 29.9376'</span>,\n",
       "    <span style=\"color: #008000; text-decoration-color: #008000\">'samples_per_min: 1796.2578'</span>,\n",
       "    <span style=\"color: #008000; text-decoration-color: #008000\">'samples_per_hr: 1.078e+05'</span>,\n",
       "    <span style=\"color: #008000; text-decoration-color: #008000\">'batch_size: 144'</span>\n",
       "<span style=\"font-weight: bold\">]</span>\n",
       "</pre>\n"
      ],
      "text/plain": [
       "\u001b[1m[\u001b[0m\n",
       "    \u001b[32m'seconds_per_epoch: 303.11850311850316'\u001b[0m,\n",
       "    \u001b[32m'min_per_epoch: 5.0520'\u001b[0m,\n",
       "    \u001b[32m'hrs_per_epoch: 0.0842'\u001b[0m,\n",
       "    \u001b[32m'epochs_per_second: 0.0033'\u001b[0m,\n",
       "    \u001b[32m'epochs_per_min: 0.1979'\u001b[0m,\n",
       "    \u001b[32m'epochs_per_hr: 11.8765'\u001b[0m,\n",
       "    \u001b[32m'batches_per_epoch: 1458'\u001b[0m,\n",
       "    \u001b[32m'samples_per_epoch: 2.1e+05'\u001b[0m,\n",
       "    \u001b[32m'seconds_per_batch: 4.8100'\u001b[0m,\n",
       "    \u001b[32m'batches_per_second: 0.2079'\u001b[0m,\n",
       "    \u001b[32m'batches_per_min: 12.4740'\u001b[0m,\n",
       "    \u001b[32m'batches_per_hr: 748.4407'\u001b[0m,\n",
       "    \u001b[32m'samples_per_second: 29.9376'\u001b[0m,\n",
       "    \u001b[32m'samples_per_min: 1796.2578'\u001b[0m,\n",
       "    \u001b[32m'samples_per_hr: 1.078e+05'\u001b[0m,\n",
       "    \u001b[32m'batch_size: 144'\u001b[0m\n",
       "\u001b[1m]\u001b[0m\n"
      ]
     },
     "metadata": {},
     "output_type": "display_data"
    },
    {
     "name": "stdout",
     "output_type": "stream",
     "text": [
      "(Extrapolated prediction) Using 100% of samples\n"
     ]
    },
    {
     "data": {
      "text/html": [
       "<pre style=\"white-space:pre;overflow-x:auto;line-height:normal;font-family:Menlo,'DejaVu Sans Mono',consolas,'Courier New',monospace\"><span style=\"font-weight: bold\">[</span>\n",
       "    <span style=\"color: #008000; text-decoration-color: #008000\">'seconds_per_epoch: 606.2370062370063'</span>,\n",
       "    <span style=\"color: #008000; text-decoration-color: #008000\">'min_per_epoch: 10.1040'</span>,\n",
       "    <span style=\"color: #008000; text-decoration-color: #008000\">'hrs_per_epoch: 0.1684'</span>,\n",
       "    <span style=\"color: #008000; text-decoration-color: #008000\">'epochs_per_second: 0.0016'</span>,\n",
       "    <span style=\"color: #008000; text-decoration-color: #008000\">'epochs_per_min: 0.0990'</span>,\n",
       "    <span style=\"color: #008000; text-decoration-color: #008000\">'epochs_per_hr: 5.9383'</span>,\n",
       "    <span style=\"color: #008000; text-decoration-color: #008000\">'batches_per_epoch: 2916'</span>,\n",
       "    <span style=\"color: #008000; text-decoration-color: #008000\">'samples_per_epoch: 4.199e+05'</span>,\n",
       "    <span style=\"color: #008000; text-decoration-color: #008000\">'seconds_per_batch: 4.8100'</span>,\n",
       "    <span style=\"color: #008000; text-decoration-color: #008000\">'batches_per_second: 0.2079'</span>,\n",
       "    <span style=\"color: #008000; text-decoration-color: #008000\">'batches_per_min: 12.4740'</span>,\n",
       "    <span style=\"color: #008000; text-decoration-color: #008000\">'batches_per_hr: 748.4407'</span>,\n",
       "    <span style=\"color: #008000; text-decoration-color: #008000\">'samples_per_second: 29.9376'</span>,\n",
       "    <span style=\"color: #008000; text-decoration-color: #008000\">'samples_per_min: 1796.2578'</span>,\n",
       "    <span style=\"color: #008000; text-decoration-color: #008000\">'samples_per_hr: 1.078e+05'</span>,\n",
       "    <span style=\"color: #008000; text-decoration-color: #008000\">'batch_size: 144'</span>\n",
       "<span style=\"font-weight: bold\">]</span>\n",
       "</pre>\n"
      ],
      "text/plain": [
       "\u001b[1m[\u001b[0m\n",
       "    \u001b[32m'seconds_per_epoch: 606.2370062370063'\u001b[0m,\n",
       "    \u001b[32m'min_per_epoch: 10.1040'\u001b[0m,\n",
       "    \u001b[32m'hrs_per_epoch: 0.1684'\u001b[0m,\n",
       "    \u001b[32m'epochs_per_second: 0.0016'\u001b[0m,\n",
       "    \u001b[32m'epochs_per_min: 0.0990'\u001b[0m,\n",
       "    \u001b[32m'epochs_per_hr: 5.9383'\u001b[0m,\n",
       "    \u001b[32m'batches_per_epoch: 2916'\u001b[0m,\n",
       "    \u001b[32m'samples_per_epoch: 4.199e+05'\u001b[0m,\n",
       "    \u001b[32m'seconds_per_batch: 4.8100'\u001b[0m,\n",
       "    \u001b[32m'batches_per_second: 0.2079'\u001b[0m,\n",
       "    \u001b[32m'batches_per_min: 12.4740'\u001b[0m,\n",
       "    \u001b[32m'batches_per_hr: 748.4407'\u001b[0m,\n",
       "    \u001b[32m'samples_per_second: 29.9376'\u001b[0m,\n",
       "    \u001b[32m'samples_per_min: 1796.2578'\u001b[0m,\n",
       "    \u001b[32m'samples_per_hr: 1.078e+05'\u001b[0m,\n",
       "    \u001b[32m'batch_size: 144'\u001b[0m\n",
       "\u001b[1m]\u001b[0m\n"
      ]
     },
     "metadata": {},
     "output_type": "display_data"
    }
   ],
   "source": [
    "batches_per_second = (1/4.81)\n",
    "batches_per_epoch = 1458\n",
    "batch_size=144\n",
    "\n",
    "print(f\"Experiment #7: batch_size={batch_size}, num_processes=4, num_devices=2\")\n",
    "print(\"Using 50% of samples\")\n",
    "display_train_timing_info(batches_per_epoch=batches_per_epoch,\n",
    "                          batches_per_second=batches_per_second,\n",
    "                          batch_size=batch_size)\n",
    "\n",
    "print(\"(Extrapolated prediction) Using 100% of samples\")\n",
    "display_train_timing_info(batches_per_epoch=batches_per_epoch*2,\n",
    "                          batches_per_second=batches_per_second,\n",
    "                          batch_size=batch_size)"
   ]
  },
  {
   "cell_type": "markdown",
   "id": "6571f315-bb15-4abf-b7b7-30675b124d09",
   "metadata": {},
   "source": [
    "### Experiment #8\n",
    "\n",
    "- Using Accumulate_grad_batches=2\n",
    "- lr=1e-2\n",
    "\n",
    "- Removed base_callbacks.yaml:\n",
    "        -train.callbacks.lr_monitor \\\n",
    "        -train.callbacks.early_stopping \\\n",
    "        -train.callbacks.model_checkpoint\n",
    "\n",
    "\n",
    "Started: 9:00 AM - 2022-03-23  \n",
    "Ended:   x:xx AM - 2022-03-23  "
   ]
  },
  {
   "cell_type": "code",
   "execution_count": 10,
   "id": "178de244-5e73-4da4-acdc-74b19e41eee6",
   "metadata": {},
   "outputs": [
    {
     "name": "stdout",
     "output_type": "stream",
     "text": [
      "Experiment #8: batch_size=128, num_processes=4, num_devices=2\n",
      "Using 1% of samples\n"
     ]
    },
    {
     "data": {
      "text/html": [
       "<pre style=\"white-space:pre;overflow-x:auto;line-height:normal;font-family:Menlo,'DejaVu Sans Mono',consolas,'Courier New',monospace\"><span style=\"font-weight: bold\">[</span>\n",
       "    <span style=\"color: #008000; text-decoration-color: #008000\">'seconds_per_epoch: 53.755868544600936'</span>,\n",
       "    <span style=\"color: #008000; text-decoration-color: #008000\">'min_per_epoch: 0.8959'</span>,\n",
       "    <span style=\"color: #008000; text-decoration-color: #008000\">'hrs_per_epoch: 0.0149'</span>,\n",
       "    <span style=\"color: #008000; text-decoration-color: #008000\">'epochs_per_second: 0.0186'</span>,\n",
       "    <span style=\"color: #008000; text-decoration-color: #008000\">'epochs_per_min: 1.1162'</span>,\n",
       "    <span style=\"color: #008000; text-decoration-color: #008000\">'epochs_per_hr: 66.9694'</span>,\n",
       "    <span style=\"color: #008000; text-decoration-color: #008000\">'batches_per_epoch: 229'</span>,\n",
       "    <span style=\"color: #008000; text-decoration-color: #008000\">'samples_per_epoch: 2.931e+04'</span>,\n",
       "    <span style=\"color: #008000; text-decoration-color: #008000\">'seconds_per_batch: 4.2600'</span>,\n",
       "    <span style=\"color: #008000; text-decoration-color: #008000\">'batches_per_second: 0.2347'</span>,\n",
       "    <span style=\"color: #008000; text-decoration-color: #008000\">'batches_per_min: 14.0845'</span>,\n",
       "    <span style=\"color: #008000; text-decoration-color: #008000\">'batches_per_hr: 845.0704'</span>,\n",
       "    <span style=\"color: #008000; text-decoration-color: #008000\">'samples_per_second: 30.0469'</span>,\n",
       "    <span style=\"color: #008000; text-decoration-color: #008000\">'samples_per_min: 1802.8169'</span>,\n",
       "    <span style=\"color: #008000; text-decoration-color: #008000\">'samples_per_hr: 1.082e+05'</span>,\n",
       "    <span style=\"color: #008000; text-decoration-color: #008000\">'batch_size: 128'</span>\n",
       "<span style=\"font-weight: bold\">]</span>\n",
       "</pre>\n"
      ],
      "text/plain": [
       "\u001b[1m[\u001b[0m\n",
       "    \u001b[32m'seconds_per_epoch: 53.755868544600936'\u001b[0m,\n",
       "    \u001b[32m'min_per_epoch: 0.8959'\u001b[0m,\n",
       "    \u001b[32m'hrs_per_epoch: 0.0149'\u001b[0m,\n",
       "    \u001b[32m'epochs_per_second: 0.0186'\u001b[0m,\n",
       "    \u001b[32m'epochs_per_min: 1.1162'\u001b[0m,\n",
       "    \u001b[32m'epochs_per_hr: 66.9694'\u001b[0m,\n",
       "    \u001b[32m'batches_per_epoch: 229'\u001b[0m,\n",
       "    \u001b[32m'samples_per_epoch: 2.931e+04'\u001b[0m,\n",
       "    \u001b[32m'seconds_per_batch: 4.2600'\u001b[0m,\n",
       "    \u001b[32m'batches_per_second: 0.2347'\u001b[0m,\n",
       "    \u001b[32m'batches_per_min: 14.0845'\u001b[0m,\n",
       "    \u001b[32m'batches_per_hr: 845.0704'\u001b[0m,\n",
       "    \u001b[32m'samples_per_second: 30.0469'\u001b[0m,\n",
       "    \u001b[32m'samples_per_min: 1802.8169'\u001b[0m,\n",
       "    \u001b[32m'samples_per_hr: 1.082e+05'\u001b[0m,\n",
       "    \u001b[32m'batch_size: 128'\u001b[0m\n",
       "\u001b[1m]\u001b[0m\n"
      ]
     },
     "metadata": {},
     "output_type": "display_data"
    },
    {
     "name": "stdout",
     "output_type": "stream",
     "text": [
      "Using 50% of samples\n"
     ]
    },
    {
     "data": {
      "text/html": [
       "<pre style=\"white-space:pre;overflow-x:auto;line-height:normal;font-family:Menlo,'DejaVu Sans Mono',consolas,'Courier New',monospace\"><span style=\"font-weight: bold\">[</span>\n",
       "    <span style=\"color: #008000; text-decoration-color: #008000\">'seconds_per_epoch: 2,687.7934272300467'</span>,\n",
       "    <span style=\"color: #008000; text-decoration-color: #008000\">'min_per_epoch: 44.7966'</span>,\n",
       "    <span style=\"color: #008000; text-decoration-color: #008000\">'hrs_per_epoch: 0.7466'</span>,\n",
       "    <span style=\"color: #008000; text-decoration-color: #008000\">'epochs_per_second: 0.0004'</span>,\n",
       "    <span style=\"color: #008000; text-decoration-color: #008000\">'epochs_per_min: 0.0223'</span>,\n",
       "    <span style=\"color: #008000; text-decoration-color: #008000\">'epochs_per_hr: 1.3394'</span>,\n",
       "    <span style=\"color: #008000; text-decoration-color: #008000\">'batches_per_epoch: 1.145e+04'</span>,\n",
       "    <span style=\"color: #008000; text-decoration-color: #008000\">'samples_per_epoch: 1.466e+06'</span>,\n",
       "    <span style=\"color: #008000; text-decoration-color: #008000\">'seconds_per_batch: 4.2600'</span>,\n",
       "    <span style=\"color: #008000; text-decoration-color: #008000\">'batches_per_second: 0.2347'</span>,\n",
       "    <span style=\"color: #008000; text-decoration-color: #008000\">'batches_per_min: 14.0845'</span>,\n",
       "    <span style=\"color: #008000; text-decoration-color: #008000\">'batches_per_hr: 845.0704'</span>,\n",
       "    <span style=\"color: #008000; text-decoration-color: #008000\">'samples_per_second: 30.0469'</span>,\n",
       "    <span style=\"color: #008000; text-decoration-color: #008000\">'samples_per_min: 1802.8169'</span>,\n",
       "    <span style=\"color: #008000; text-decoration-color: #008000\">'samples_per_hr: 1.082e+05'</span>,\n",
       "    <span style=\"color: #008000; text-decoration-color: #008000\">'batch_size: 128'</span>\n",
       "<span style=\"font-weight: bold\">]</span>\n",
       "</pre>\n"
      ],
      "text/plain": [
       "\u001b[1m[\u001b[0m\n",
       "    \u001b[32m'seconds_per_epoch: 2,687.7934272300467'\u001b[0m,\n",
       "    \u001b[32m'min_per_epoch: 44.7966'\u001b[0m,\n",
       "    \u001b[32m'hrs_per_epoch: 0.7466'\u001b[0m,\n",
       "    \u001b[32m'epochs_per_second: 0.0004'\u001b[0m,\n",
       "    \u001b[32m'epochs_per_min: 0.0223'\u001b[0m,\n",
       "    \u001b[32m'epochs_per_hr: 1.3394'\u001b[0m,\n",
       "    \u001b[32m'batches_per_epoch: 1.145e+04'\u001b[0m,\n",
       "    \u001b[32m'samples_per_epoch: 1.466e+06'\u001b[0m,\n",
       "    \u001b[32m'seconds_per_batch: 4.2600'\u001b[0m,\n",
       "    \u001b[32m'batches_per_second: 0.2347'\u001b[0m,\n",
       "    \u001b[32m'batches_per_min: 14.0845'\u001b[0m,\n",
       "    \u001b[32m'batches_per_hr: 845.0704'\u001b[0m,\n",
       "    \u001b[32m'samples_per_second: 30.0469'\u001b[0m,\n",
       "    \u001b[32m'samples_per_min: 1802.8169'\u001b[0m,\n",
       "    \u001b[32m'samples_per_hr: 1.082e+05'\u001b[0m,\n",
       "    \u001b[32m'batch_size: 128'\u001b[0m\n",
       "\u001b[1m]\u001b[0m\n"
      ]
     },
     "metadata": {},
     "output_type": "display_data"
    },
    {
     "name": "stdout",
     "output_type": "stream",
     "text": [
      "(Extrapolated prediction) Using 100% of samples\n"
     ]
    },
    {
     "data": {
      "text/html": [
       "<pre style=\"white-space:pre;overflow-x:auto;line-height:normal;font-family:Menlo,'DejaVu Sans Mono',consolas,'Courier New',monospace\"><span style=\"font-weight: bold\">[</span>\n",
       "    <span style=\"color: #008000; text-decoration-color: #008000\">'seconds_per_epoch: 5,375.5868544600935'</span>,\n",
       "    <span style=\"color: #008000; text-decoration-color: #008000\">'min_per_epoch: 89.5931'</span>,\n",
       "    <span style=\"color: #008000; text-decoration-color: #008000\">'hrs_per_epoch: 1.4932'</span>,\n",
       "    <span style=\"color: #008000; text-decoration-color: #008000\">'epochs_per_second: 0.0002'</span>,\n",
       "    <span style=\"color: #008000; text-decoration-color: #008000\">'epochs_per_min: 0.0112'</span>,\n",
       "    <span style=\"color: #008000; text-decoration-color: #008000\">'epochs_per_hr: 0.6697'</span>,\n",
       "    <span style=\"color: #008000; text-decoration-color: #008000\">'batches_per_epoch: 2.29e+04'</span>,\n",
       "    <span style=\"color: #008000; text-decoration-color: #008000\">'samples_per_epoch: 2.931e+06'</span>,\n",
       "    <span style=\"color: #008000; text-decoration-color: #008000\">'seconds_per_batch: 4.2600'</span>,\n",
       "    <span style=\"color: #008000; text-decoration-color: #008000\">'batches_per_second: 0.2347'</span>,\n",
       "    <span style=\"color: #008000; text-decoration-color: #008000\">'batches_per_min: 14.0845'</span>,\n",
       "    <span style=\"color: #008000; text-decoration-color: #008000\">'batches_per_hr: 845.0704'</span>,\n",
       "    <span style=\"color: #008000; text-decoration-color: #008000\">'samples_per_second: 30.0469'</span>,\n",
       "    <span style=\"color: #008000; text-decoration-color: #008000\">'samples_per_min: 1802.8169'</span>,\n",
       "    <span style=\"color: #008000; text-decoration-color: #008000\">'samples_per_hr: 1.082e+05'</span>,\n",
       "    <span style=\"color: #008000; text-decoration-color: #008000\">'batch_size: 128'</span>\n",
       "<span style=\"font-weight: bold\">]</span>\n",
       "</pre>\n"
      ],
      "text/plain": [
       "\u001b[1m[\u001b[0m\n",
       "    \u001b[32m'seconds_per_epoch: 5,375.5868544600935'\u001b[0m,\n",
       "    \u001b[32m'min_per_epoch: 89.5931'\u001b[0m,\n",
       "    \u001b[32m'hrs_per_epoch: 1.4932'\u001b[0m,\n",
       "    \u001b[32m'epochs_per_second: 0.0002'\u001b[0m,\n",
       "    \u001b[32m'epochs_per_min: 0.0112'\u001b[0m,\n",
       "    \u001b[32m'epochs_per_hr: 0.6697'\u001b[0m,\n",
       "    \u001b[32m'batches_per_epoch: 2.29e+04'\u001b[0m,\n",
       "    \u001b[32m'samples_per_epoch: 2.931e+06'\u001b[0m,\n",
       "    \u001b[32m'seconds_per_batch: 4.2600'\u001b[0m,\n",
       "    \u001b[32m'batches_per_second: 0.2347'\u001b[0m,\n",
       "    \u001b[32m'batches_per_min: 14.0845'\u001b[0m,\n",
       "    \u001b[32m'batches_per_hr: 845.0704'\u001b[0m,\n",
       "    \u001b[32m'samples_per_second: 30.0469'\u001b[0m,\n",
       "    \u001b[32m'samples_per_min: 1802.8169'\u001b[0m,\n",
       "    \u001b[32m'samples_per_hr: 1.082e+05'\u001b[0m,\n",
       "    \u001b[32m'batch_size: 128'\u001b[0m\n",
       "\u001b[1m]\u001b[0m\n"
      ]
     },
     "metadata": {},
     "output_type": "display_data"
    }
   ],
   "source": [
    "batches_per_second = (1/ 4.26)\n",
    "batches_per_epoch = 229\n",
    "batch_size=128\n",
    "\n",
    "print(f\"Experiment #8: batch_size={batch_size}, num_processes=4, num_devices=2\")\n",
    "\n",
    "\n",
    "print(\"Using 1% of samples\")\n",
    "display_train_timing_info(batches_per_epoch=batches_per_epoch,\n",
    "                          batches_per_second=batches_per_second,\n",
    "                          batch_size=batch_size)\n",
    "\n",
    "\n",
    "print(\"Using 50% of samples\")\n",
    "display_train_timing_info(batches_per_epoch=batches_per_epoch*50,\n",
    "                          batches_per_second=batches_per_second,\n",
    "                          batch_size=batch_size)\n",
    "\n",
    "print(\"(Extrapolated prediction) Using 100% of samples\")\n",
    "display_train_timing_info(batches_per_epoch=batches_per_epoch*100,\n",
    "                          batches_per_second=batches_per_second,\n",
    "                          batch_size=batch_size)"
   ]
  },
  {
   "cell_type": "markdown",
   "id": "84d99f68-5a53-4ed9-b812-ef5dcf90201b",
   "metadata": {},
   "source": [
    "### Experiment #11\n",
    "\n",
    "- Using Accumulate_grad_batches=1\n",
    "- lr=0.5e-3\n",
    "- freeze_backbone_up_to=-4\n",
    "\n",
    "\n",
    "Started: 12:25 PM - 2022-03-23  \n",
    "Ended:   2:55 PM - 2022-03-23  "
   ]
  },
  {
   "cell_type": "code",
   "execution_count": 11,
   "id": "373d5dc0-fb8b-4764-92c4-3f4529c01977",
   "metadata": {},
   "outputs": [
    {
     "name": "stdout",
     "output_type": "stream",
     "text": [
      "Experiment #11: batch_size=128, num_processes=4, num_devices=2\n",
      "Using 1% of samples\n"
     ]
    },
    {
     "data": {
      "text/html": [
       "<pre style=\"white-space:pre;overflow-x:auto;line-height:normal;font-family:Menlo,'DejaVu Sans Mono',consolas,'Courier New',monospace\"><span style=\"font-weight: bold\">[</span>\n",
       "    <span style=\"color: #008000; text-decoration-color: #008000\">'seconds_per_epoch: 724.5033112582781'</span>,\n",
       "    <span style=\"color: #008000; text-decoration-color: #008000\">'min_per_epoch: 12.0751'</span>,\n",
       "    <span style=\"color: #008000; text-decoration-color: #008000\">'hrs_per_epoch: 0.2013'</span>,\n",
       "    <span style=\"color: #008000; text-decoration-color: #008000\">'epochs_per_second: 0.0014'</span>,\n",
       "    <span style=\"color: #008000; text-decoration-color: #008000\">'epochs_per_min: 0.0828'</span>,\n",
       "    <span style=\"color: #008000; text-decoration-color: #008000\">'epochs_per_hr: 4.9689'</span>,\n",
       "    <span style=\"color: #008000; text-decoration-color: #008000\">'batches_per_epoch: 3282'</span>,\n",
       "    <span style=\"color: #008000; text-decoration-color: #008000\">'samples_per_epoch: 4.201e+05'</span>,\n",
       "    <span style=\"color: #008000; text-decoration-color: #008000\">'seconds_per_batch: 4.5300'</span>,\n",
       "    <span style=\"color: #008000; text-decoration-color: #008000\">'batches_per_second: 0.2208'</span>,\n",
       "    <span style=\"color: #008000; text-decoration-color: #008000\">'batches_per_min: 13.2450'</span>,\n",
       "    <span style=\"color: #008000; text-decoration-color: #008000\">'batches_per_hr: 794.7020'</span>,\n",
       "    <span style=\"color: #008000; text-decoration-color: #008000\">'samples_per_second: 28.2561'</span>,\n",
       "    <span style=\"color: #008000; text-decoration-color: #008000\">'samples_per_min: 1695.3642'</span>,\n",
       "    <span style=\"color: #008000; text-decoration-color: #008000\">'samples_per_hr: 1.017e+05'</span>,\n",
       "    <span style=\"color: #008000; text-decoration-color: #008000\">'batch_size: 128'</span>\n",
       "<span style=\"font-weight: bold\">]</span>\n",
       "</pre>\n"
      ],
      "text/plain": [
       "\u001b[1m[\u001b[0m\n",
       "    \u001b[32m'seconds_per_epoch: 724.5033112582781'\u001b[0m,\n",
       "    \u001b[32m'min_per_epoch: 12.0751'\u001b[0m,\n",
       "    \u001b[32m'hrs_per_epoch: 0.2013'\u001b[0m,\n",
       "    \u001b[32m'epochs_per_second: 0.0014'\u001b[0m,\n",
       "    \u001b[32m'epochs_per_min: 0.0828'\u001b[0m,\n",
       "    \u001b[32m'epochs_per_hr: 4.9689'\u001b[0m,\n",
       "    \u001b[32m'batches_per_epoch: 3282'\u001b[0m,\n",
       "    \u001b[32m'samples_per_epoch: 4.201e+05'\u001b[0m,\n",
       "    \u001b[32m'seconds_per_batch: 4.5300'\u001b[0m,\n",
       "    \u001b[32m'batches_per_second: 0.2208'\u001b[0m,\n",
       "    \u001b[32m'batches_per_min: 13.2450'\u001b[0m,\n",
       "    \u001b[32m'batches_per_hr: 794.7020'\u001b[0m,\n",
       "    \u001b[32m'samples_per_second: 28.2561'\u001b[0m,\n",
       "    \u001b[32m'samples_per_min: 1695.3642'\u001b[0m,\n",
       "    \u001b[32m'samples_per_hr: 1.017e+05'\u001b[0m,\n",
       "    \u001b[32m'batch_size: 128'\u001b[0m\n",
       "\u001b[1m]\u001b[0m\n"
      ]
     },
     "metadata": {},
     "output_type": "display_data"
    },
    {
     "name": "stdout",
     "output_type": "stream",
     "text": [
      "Using 50% of samples\n"
     ]
    },
    {
     "data": {
      "text/html": [
       "<pre style=\"white-space:pre;overflow-x:auto;line-height:normal;font-family:Menlo,'DejaVu Sans Mono',consolas,'Courier New',monospace\"><span style=\"font-weight: bold\">[</span>\n",
       "    <span style=\"color: #008000; text-decoration-color: #008000\">'seconds_per_epoch: 36,225.165562913906'</span>,\n",
       "    <span style=\"color: #008000; text-decoration-color: #008000\">'min_per_epoch: 603.7528'</span>,\n",
       "    <span style=\"color: #008000; text-decoration-color: #008000\">'hrs_per_epoch: 10.0625'</span>,\n",
       "    <span style=\"color: #008000; text-decoration-color: #008000\">'epochs_per_second: 0.0000'</span>,\n",
       "    <span style=\"color: #008000; text-decoration-color: #008000\">'epochs_per_min: 0.0017'</span>,\n",
       "    <span style=\"color: #008000; text-decoration-color: #008000\">'epochs_per_hr: 0.0994'</span>,\n",
       "    <span style=\"color: #008000; text-decoration-color: #008000\">'batches_per_epoch: 1.641e+05'</span>,\n",
       "    <span style=\"color: #008000; text-decoration-color: #008000\">'samples_per_epoch: 2.1e+07'</span>,\n",
       "    <span style=\"color: #008000; text-decoration-color: #008000\">'seconds_per_batch: 4.5300'</span>,\n",
       "    <span style=\"color: #008000; text-decoration-color: #008000\">'batches_per_second: 0.2208'</span>,\n",
       "    <span style=\"color: #008000; text-decoration-color: #008000\">'batches_per_min: 13.2450'</span>,\n",
       "    <span style=\"color: #008000; text-decoration-color: #008000\">'batches_per_hr: 794.7020'</span>,\n",
       "    <span style=\"color: #008000; text-decoration-color: #008000\">'samples_per_second: 28.2561'</span>,\n",
       "    <span style=\"color: #008000; text-decoration-color: #008000\">'samples_per_min: 1695.3642'</span>,\n",
       "    <span style=\"color: #008000; text-decoration-color: #008000\">'samples_per_hr: 1.017e+05'</span>,\n",
       "    <span style=\"color: #008000; text-decoration-color: #008000\">'batch_size: 128'</span>\n",
       "<span style=\"font-weight: bold\">]</span>\n",
       "</pre>\n"
      ],
      "text/plain": [
       "\u001b[1m[\u001b[0m\n",
       "    \u001b[32m'seconds_per_epoch: 36,225.165562913906'\u001b[0m,\n",
       "    \u001b[32m'min_per_epoch: 603.7528'\u001b[0m,\n",
       "    \u001b[32m'hrs_per_epoch: 10.0625'\u001b[0m,\n",
       "    \u001b[32m'epochs_per_second: 0.0000'\u001b[0m,\n",
       "    \u001b[32m'epochs_per_min: 0.0017'\u001b[0m,\n",
       "    \u001b[32m'epochs_per_hr: 0.0994'\u001b[0m,\n",
       "    \u001b[32m'batches_per_epoch: 1.641e+05'\u001b[0m,\n",
       "    \u001b[32m'samples_per_epoch: 2.1e+07'\u001b[0m,\n",
       "    \u001b[32m'seconds_per_batch: 4.5300'\u001b[0m,\n",
       "    \u001b[32m'batches_per_second: 0.2208'\u001b[0m,\n",
       "    \u001b[32m'batches_per_min: 13.2450'\u001b[0m,\n",
       "    \u001b[32m'batches_per_hr: 794.7020'\u001b[0m,\n",
       "    \u001b[32m'samples_per_second: 28.2561'\u001b[0m,\n",
       "    \u001b[32m'samples_per_min: 1695.3642'\u001b[0m,\n",
       "    \u001b[32m'samples_per_hr: 1.017e+05'\u001b[0m,\n",
       "    \u001b[32m'batch_size: 128'\u001b[0m\n",
       "\u001b[1m]\u001b[0m\n"
      ]
     },
     "metadata": {},
     "output_type": "display_data"
    },
    {
     "name": "stdout",
     "output_type": "stream",
     "text": [
      "(Extrapolated prediction) Using 100% of samples\n"
     ]
    },
    {
     "data": {
      "text/html": [
       "<pre style=\"white-space:pre;overflow-x:auto;line-height:normal;font-family:Menlo,'DejaVu Sans Mono',consolas,'Courier New',monospace\"><span style=\"font-weight: bold\">[</span>\n",
       "    <span style=\"color: #008000; text-decoration-color: #008000\">'seconds_per_epoch: 72,450.33112582781'</span>,\n",
       "    <span style=\"color: #008000; text-decoration-color: #008000\">'min_per_epoch: 1207.5055'</span>,\n",
       "    <span style=\"color: #008000; text-decoration-color: #008000\">'hrs_per_epoch: 20.1251'</span>,\n",
       "    <span style=\"color: #008000; text-decoration-color: #008000\">'epochs_per_second: 0.0000'</span>,\n",
       "    <span style=\"color: #008000; text-decoration-color: #008000\">'epochs_per_min: 0.0008'</span>,\n",
       "    <span style=\"color: #008000; text-decoration-color: #008000\">'epochs_per_hr: 0.0497'</span>,\n",
       "    <span style=\"color: #008000; text-decoration-color: #008000\">'batches_per_epoch: 3.282e+05'</span>,\n",
       "    <span style=\"color: #008000; text-decoration-color: #008000\">'samples_per_epoch: 4.201e+07'</span>,\n",
       "    <span style=\"color: #008000; text-decoration-color: #008000\">'seconds_per_batch: 4.5300'</span>,\n",
       "    <span style=\"color: #008000; text-decoration-color: #008000\">'batches_per_second: 0.2208'</span>,\n",
       "    <span style=\"color: #008000; text-decoration-color: #008000\">'batches_per_min: 13.2450'</span>,\n",
       "    <span style=\"color: #008000; text-decoration-color: #008000\">'batches_per_hr: 794.7020'</span>,\n",
       "    <span style=\"color: #008000; text-decoration-color: #008000\">'samples_per_second: 28.2561'</span>,\n",
       "    <span style=\"color: #008000; text-decoration-color: #008000\">'samples_per_min: 1695.3642'</span>,\n",
       "    <span style=\"color: #008000; text-decoration-color: #008000\">'samples_per_hr: 1.017e+05'</span>,\n",
       "    <span style=\"color: #008000; text-decoration-color: #008000\">'batch_size: 128'</span>\n",
       "<span style=\"font-weight: bold\">]</span>\n",
       "</pre>\n"
      ],
      "text/plain": [
       "\u001b[1m[\u001b[0m\n",
       "    \u001b[32m'seconds_per_epoch: 72,450.33112582781'\u001b[0m,\n",
       "    \u001b[32m'min_per_epoch: 1207.5055'\u001b[0m,\n",
       "    \u001b[32m'hrs_per_epoch: 20.1251'\u001b[0m,\n",
       "    \u001b[32m'epochs_per_second: 0.0000'\u001b[0m,\n",
       "    \u001b[32m'epochs_per_min: 0.0008'\u001b[0m,\n",
       "    \u001b[32m'epochs_per_hr: 0.0497'\u001b[0m,\n",
       "    \u001b[32m'batches_per_epoch: 3.282e+05'\u001b[0m,\n",
       "    \u001b[32m'samples_per_epoch: 4.201e+07'\u001b[0m,\n",
       "    \u001b[32m'seconds_per_batch: 4.5300'\u001b[0m,\n",
       "    \u001b[32m'batches_per_second: 0.2208'\u001b[0m,\n",
       "    \u001b[32m'batches_per_min: 13.2450'\u001b[0m,\n",
       "    \u001b[32m'batches_per_hr: 794.7020'\u001b[0m,\n",
       "    \u001b[32m'samples_per_second: 28.2561'\u001b[0m,\n",
       "    \u001b[32m'samples_per_min: 1695.3642'\u001b[0m,\n",
       "    \u001b[32m'samples_per_hr: 1.017e+05'\u001b[0m,\n",
       "    \u001b[32m'batch_size: 128'\u001b[0m\n",
       "\u001b[1m]\u001b[0m\n"
      ]
     },
     "metadata": {},
     "output_type": "display_data"
    }
   ],
   "source": [
    "batches_per_second = (1/ 4.53)\n",
    "batches_per_epoch = 3282\n",
    "batch_size=128\n",
    "\n",
    "print(f\"Experiment #11: batch_size={batch_size}, num_processes=4, num_devices=2\")\n",
    "\n",
    "\n",
    "print(\"Using 1% of samples\")\n",
    "display_train_timing_info(batches_per_epoch=batches_per_epoch,\n",
    "                          batches_per_second=batches_per_second,\n",
    "                          batch_size=batch_size)\n",
    "\n",
    "\n",
    "print(\"Using 50% of samples\")\n",
    "display_train_timing_info(batches_per_epoch=batches_per_epoch*50,\n",
    "                          batches_per_second=batches_per_second,\n",
    "                          batch_size=batch_size)\n",
    "\n",
    "print(\"(Extrapolated prediction) Using 100% of samples\")\n",
    "display_train_timing_info(batches_per_epoch=batches_per_epoch*100,\n",
    "                          batches_per_second=batches_per_second,\n",
    "                          batch_size=batch_size)"
   ]
  },
  {
   "cell_type": "markdown",
   "id": "88b4c7bc-73a0-4890-8b37-208b8daeb637",
   "metadata": {},
   "source": [
    "### Experiment #12\n",
    "\n",
    "- Using Accumulate_grad_batches=1\n",
    "- lr=1e-2\n",
    "- freeze_backbone_up_to=-4\n",
    "- batch_size=128\n",
    "- preprocess_size=256\n",
    "- resolution=224\n",
    "\n",
    "\n",
    "Started: 3:00 PM - 2022-03-23  \n",
    "Ended:   x:xx AM - 2022-03-23  "
   ]
  },
  {
   "cell_type": "code",
   "execution_count": 12,
   "id": "fe2ebcf1-d775-4c8c-bde6-fbecfa379671",
   "metadata": {},
   "outputs": [
    {
     "name": "stdout",
     "output_type": "stream",
     "text": [
      "Experiment #8: batch_size=128, num_processes=4, num_devices=2\n",
      "Using 100% of samples\n"
     ]
    },
    {
     "data": {
      "text/html": [
       "<pre style=\"white-space:pre;overflow-x:auto;line-height:normal;font-family:Menlo,'DejaVu Sans Mono',consolas,'Courier New',monospace\"><span style=\"font-weight: bold\">[</span>\n",
       "    <span style=\"color: #008000; text-decoration-color: #008000\">'seconds_per_epoch: 1,272.093023255814'</span>,\n",
       "    <span style=\"color: #008000; text-decoration-color: #008000\">'min_per_epoch: 21.2016'</span>,\n",
       "    <span style=\"color: #008000; text-decoration-color: #008000\">'hrs_per_epoch: 0.3534'</span>,\n",
       "    <span style=\"color: #008000; text-decoration-color: #008000\">'epochs_per_second: 0.0008'</span>,\n",
       "    <span style=\"color: #008000; text-decoration-color: #008000\">'epochs_per_min: 0.0472'</span>,\n",
       "    <span style=\"color: #008000; text-decoration-color: #008000\">'epochs_per_hr: 2.8300'</span>,\n",
       "    <span style=\"color: #008000; text-decoration-color: #008000\">'batches_per_epoch: 3282'</span>,\n",
       "    <span style=\"color: #008000; text-decoration-color: #008000\">'samples_per_epoch: 4.201e+05'</span>,\n",
       "    <span style=\"color: #008000; text-decoration-color: #008000\">'seconds_per_batch: 2.5800'</span>,\n",
       "    <span style=\"color: #008000; text-decoration-color: #008000\">'batches_per_second: 0.3876'</span>,\n",
       "    <span style=\"color: #008000; text-decoration-color: #008000\">'batches_per_min: 23.2558'</span>,\n",
       "    <span style=\"color: #008000; text-decoration-color: #008000\">'batches_per_hr: 1395.3488'</span>,\n",
       "    <span style=\"color: #008000; text-decoration-color: #008000\">'samples_per_second: 49.6124'</span>,\n",
       "    <span style=\"color: #008000; text-decoration-color: #008000\">'samples_per_min: 2976.7442'</span>,\n",
       "    <span style=\"color: #008000; text-decoration-color: #008000\">'samples_per_hr: 1.786e+05'</span>,\n",
       "    <span style=\"color: #008000; text-decoration-color: #008000\">'batch_size: 128'</span>\n",
       "<span style=\"font-weight: bold\">]</span>\n",
       "</pre>\n"
      ],
      "text/plain": [
       "\u001b[1m[\u001b[0m\n",
       "    \u001b[32m'seconds_per_epoch: 1,272.093023255814'\u001b[0m,\n",
       "    \u001b[32m'min_per_epoch: 21.2016'\u001b[0m,\n",
       "    \u001b[32m'hrs_per_epoch: 0.3534'\u001b[0m,\n",
       "    \u001b[32m'epochs_per_second: 0.0008'\u001b[0m,\n",
       "    \u001b[32m'epochs_per_min: 0.0472'\u001b[0m,\n",
       "    \u001b[32m'epochs_per_hr: 2.8300'\u001b[0m,\n",
       "    \u001b[32m'batches_per_epoch: 3282'\u001b[0m,\n",
       "    \u001b[32m'samples_per_epoch: 4.201e+05'\u001b[0m,\n",
       "    \u001b[32m'seconds_per_batch: 2.5800'\u001b[0m,\n",
       "    \u001b[32m'batches_per_second: 0.3876'\u001b[0m,\n",
       "    \u001b[32m'batches_per_min: 23.2558'\u001b[0m,\n",
       "    \u001b[32m'batches_per_hr: 1395.3488'\u001b[0m,\n",
       "    \u001b[32m'samples_per_second: 49.6124'\u001b[0m,\n",
       "    \u001b[32m'samples_per_min: 2976.7442'\u001b[0m,\n",
       "    \u001b[32m'samples_per_hr: 1.786e+05'\u001b[0m,\n",
       "    \u001b[32m'batch_size: 128'\u001b[0m\n",
       "\u001b[1m]\u001b[0m\n"
      ]
     },
     "metadata": {},
     "output_type": "display_data"
    },
    {
     "name": "stdout",
     "output_type": "stream",
     "text": [
      "Using 50% of samples\n"
     ]
    },
    {
     "data": {
      "text/html": [
       "<pre style=\"white-space:pre;overflow-x:auto;line-height:normal;font-family:Menlo,'DejaVu Sans Mono',consolas,'Courier New',monospace\"><span style=\"font-weight: bold\">[</span>\n",
       "    <span style=\"color: #008000; text-decoration-color: #008000\">'seconds_per_epoch: 636.046511627907'</span>,\n",
       "    <span style=\"color: #008000; text-decoration-color: #008000\">'min_per_epoch: 10.6008'</span>,\n",
       "    <span style=\"color: #008000; text-decoration-color: #008000\">'hrs_per_epoch: 0.1767'</span>,\n",
       "    <span style=\"color: #008000; text-decoration-color: #008000\">'epochs_per_second: 0.0016'</span>,\n",
       "    <span style=\"color: #008000; text-decoration-color: #008000\">'epochs_per_min: 0.0943'</span>,\n",
       "    <span style=\"color: #008000; text-decoration-color: #008000\">'epochs_per_hr: 5.6600'</span>,\n",
       "    <span style=\"color: #008000; text-decoration-color: #008000\">'batches_per_epoch: 1641'</span>,\n",
       "    <span style=\"color: #008000; text-decoration-color: #008000\">'samples_per_epoch: 2.1e+05'</span>,\n",
       "    <span style=\"color: #008000; text-decoration-color: #008000\">'seconds_per_batch: 2.5800'</span>,\n",
       "    <span style=\"color: #008000; text-decoration-color: #008000\">'batches_per_second: 0.3876'</span>,\n",
       "    <span style=\"color: #008000; text-decoration-color: #008000\">'batches_per_min: 23.2558'</span>,\n",
       "    <span style=\"color: #008000; text-decoration-color: #008000\">'batches_per_hr: 1395.3488'</span>,\n",
       "    <span style=\"color: #008000; text-decoration-color: #008000\">'samples_per_second: 49.6124'</span>,\n",
       "    <span style=\"color: #008000; text-decoration-color: #008000\">'samples_per_min: 2976.7442'</span>,\n",
       "    <span style=\"color: #008000; text-decoration-color: #008000\">'samples_per_hr: 1.786e+05'</span>,\n",
       "    <span style=\"color: #008000; text-decoration-color: #008000\">'batch_size: 128'</span>\n",
       "<span style=\"font-weight: bold\">]</span>\n",
       "</pre>\n"
      ],
      "text/plain": [
       "\u001b[1m[\u001b[0m\n",
       "    \u001b[32m'seconds_per_epoch: 636.046511627907'\u001b[0m,\n",
       "    \u001b[32m'min_per_epoch: 10.6008'\u001b[0m,\n",
       "    \u001b[32m'hrs_per_epoch: 0.1767'\u001b[0m,\n",
       "    \u001b[32m'epochs_per_second: 0.0016'\u001b[0m,\n",
       "    \u001b[32m'epochs_per_min: 0.0943'\u001b[0m,\n",
       "    \u001b[32m'epochs_per_hr: 5.6600'\u001b[0m,\n",
       "    \u001b[32m'batches_per_epoch: 1641'\u001b[0m,\n",
       "    \u001b[32m'samples_per_epoch: 2.1e+05'\u001b[0m,\n",
       "    \u001b[32m'seconds_per_batch: 2.5800'\u001b[0m,\n",
       "    \u001b[32m'batches_per_second: 0.3876'\u001b[0m,\n",
       "    \u001b[32m'batches_per_min: 23.2558'\u001b[0m,\n",
       "    \u001b[32m'batches_per_hr: 1395.3488'\u001b[0m,\n",
       "    \u001b[32m'samples_per_second: 49.6124'\u001b[0m,\n",
       "    \u001b[32m'samples_per_min: 2976.7442'\u001b[0m,\n",
       "    \u001b[32m'samples_per_hr: 1.786e+05'\u001b[0m,\n",
       "    \u001b[32m'batch_size: 128'\u001b[0m\n",
       "\u001b[1m]\u001b[0m\n"
      ]
     },
     "metadata": {},
     "output_type": "display_data"
    },
    {
     "name": "stdout",
     "output_type": "stream",
     "text": [
      "(Extrapolated prediction) Using 1% of samples\n"
     ]
    },
    {
     "data": {
      "text/html": [
       "<pre style=\"white-space:pre;overflow-x:auto;line-height:normal;font-family:Menlo,'DejaVu Sans Mono',consolas,'Courier New',monospace\"><span style=\"font-weight: bold\">[</span>\n",
       "    <span style=\"color: #008000; text-decoration-color: #008000\">'seconds_per_epoch: 12.720930232558139'</span>,\n",
       "    <span style=\"color: #008000; text-decoration-color: #008000\">'min_per_epoch: 0.2120'</span>,\n",
       "    <span style=\"color: #008000; text-decoration-color: #008000\">'hrs_per_epoch: 0.0035'</span>,\n",
       "    <span style=\"color: #008000; text-decoration-color: #008000\">'epochs_per_second: 0.0786'</span>,\n",
       "    <span style=\"color: #008000; text-decoration-color: #008000\">'epochs_per_min: 4.7166'</span>,\n",
       "    <span style=\"color: #008000; text-decoration-color: #008000\">'epochs_per_hr: 282.9982'</span>,\n",
       "    <span style=\"color: #008000; text-decoration-color: #008000\">'batches_per_epoch: 32.82'</span>,\n",
       "    <span style=\"color: #008000; text-decoration-color: #008000\">'samples_per_epoch: 4201'</span>,\n",
       "    <span style=\"color: #008000; text-decoration-color: #008000\">'seconds_per_batch: 2.5800'</span>,\n",
       "    <span style=\"color: #008000; text-decoration-color: #008000\">'batches_per_second: 0.3876'</span>,\n",
       "    <span style=\"color: #008000; text-decoration-color: #008000\">'batches_per_min: 23.2558'</span>,\n",
       "    <span style=\"color: #008000; text-decoration-color: #008000\">'batches_per_hr: 1395.3488'</span>,\n",
       "    <span style=\"color: #008000; text-decoration-color: #008000\">'samples_per_second: 49.6124'</span>,\n",
       "    <span style=\"color: #008000; text-decoration-color: #008000\">'samples_per_min: 2976.7442'</span>,\n",
       "    <span style=\"color: #008000; text-decoration-color: #008000\">'samples_per_hr: 1.786e+05'</span>,\n",
       "    <span style=\"color: #008000; text-decoration-color: #008000\">'batch_size: 128'</span>\n",
       "<span style=\"font-weight: bold\">]</span>\n",
       "</pre>\n"
      ],
      "text/plain": [
       "\u001b[1m[\u001b[0m\n",
       "    \u001b[32m'seconds_per_epoch: 12.720930232558139'\u001b[0m,\n",
       "    \u001b[32m'min_per_epoch: 0.2120'\u001b[0m,\n",
       "    \u001b[32m'hrs_per_epoch: 0.0035'\u001b[0m,\n",
       "    \u001b[32m'epochs_per_second: 0.0786'\u001b[0m,\n",
       "    \u001b[32m'epochs_per_min: 4.7166'\u001b[0m,\n",
       "    \u001b[32m'epochs_per_hr: 282.9982'\u001b[0m,\n",
       "    \u001b[32m'batches_per_epoch: 32.82'\u001b[0m,\n",
       "    \u001b[32m'samples_per_epoch: 4201'\u001b[0m,\n",
       "    \u001b[32m'seconds_per_batch: 2.5800'\u001b[0m,\n",
       "    \u001b[32m'batches_per_second: 0.3876'\u001b[0m,\n",
       "    \u001b[32m'batches_per_min: 23.2558'\u001b[0m,\n",
       "    \u001b[32m'batches_per_hr: 1395.3488'\u001b[0m,\n",
       "    \u001b[32m'samples_per_second: 49.6124'\u001b[0m,\n",
       "    \u001b[32m'samples_per_min: 2976.7442'\u001b[0m,\n",
       "    \u001b[32m'samples_per_hr: 1.786e+05'\u001b[0m,\n",
       "    \u001b[32m'batch_size: 128'\u001b[0m\n",
       "\u001b[1m]\u001b[0m\n"
      ]
     },
     "metadata": {},
     "output_type": "display_data"
    }
   ],
   "source": [
    "batches_per_second = (1/ 2.58)\n",
    "batches_per_epoch = 3282\n",
    "batch_size=128\n",
    "\n",
    "print(f\"Experiment #8: batch_size={batch_size}, num_processes=4, num_devices=2\")\n",
    "\n",
    "\n",
    "print(\"Using 100% of samples\")\n",
    "display_train_timing_info(batches_per_epoch=batches_per_epoch,\n",
    "                          batches_per_second=batches_per_second,\n",
    "                          batch_size=batch_size)\n",
    "\n",
    "\n",
    "print(\"Using 50% of samples\")\n",
    "display_train_timing_info(batches_per_epoch=batches_per_epoch/2,\n",
    "                          batches_per_second=batches_per_second,\n",
    "                          batch_size=batch_size)\n",
    "\n",
    "print(\"(Extrapolated prediction) Using 1% of samples\")\n",
    "display_train_timing_info(batches_per_epoch=batches_per_epoch/100,\n",
    "                          batches_per_second=batches_per_second,\n",
    "                          batch_size=batch_size)"
   ]
  },
  {
   "cell_type": "markdown",
   "id": "bcbed5c7-aa82-423a-af6c-5634cfe43a32",
   "metadata": {},
   "source": [
    "### Experiment #13\n",
    "(Running in parallel to #12, since 4 GPUs just opened up.Tried doubling the scaling of the lr to accomodate the doubling of the # of GPUs\n",
    "\n",
    "\n",
    "- Increased num_devices from 2->4\n",
    "- Using Accumulate_grad_batches=1\n",
    "- lr=2e-2\n",
    "- freeze_backbone_up_to=-4\n",
    "- batch_size=128\n",
    "- preprocess_size=256\n",
    "- resolution=224\n",
    "\n",
    "\n",
    "Started: 3:52 PM - 2022-03-23  \n",
    "Ended:   x:xx AM - 2022-03-23  "
   ]
  },
  {
   "cell_type": "code",
   "execution_count": 13,
   "id": "b35e377e-d857-4b79-bc26-28537c148580",
   "metadata": {},
   "outputs": [
    {
     "name": "stdout",
     "output_type": "stream",
     "text": [
      "Experiment #8: batch_size=128, num_processes=4, num_devices=2\n",
      "Using 100% of samples\n"
     ]
    },
    {
     "data": {
      "text/html": [
       "<pre style=\"white-space:pre;overflow-x:auto;line-height:normal;font-family:Menlo,'DejaVu Sans Mono',consolas,'Courier New',monospace\"><span style=\"font-weight: bold\">[</span>\n",
       "    <span style=\"color: #008000; text-decoration-color: #008000\">'seconds_per_epoch: 390.9523809523809'</span>,\n",
       "    <span style=\"color: #008000; text-decoration-color: #008000\">'min_per_epoch: 6.5159'</span>,\n",
       "    <span style=\"color: #008000; text-decoration-color: #008000\">'hrs_per_epoch: 0.1086'</span>,\n",
       "    <span style=\"color: #008000; text-decoration-color: #008000\">'epochs_per_second: 0.0026'</span>,\n",
       "    <span style=\"color: #008000; text-decoration-color: #008000\">'epochs_per_min: 0.1535'</span>,\n",
       "    <span style=\"color: #008000; text-decoration-color: #008000\">'epochs_per_hr: 9.2083'</span>,\n",
       "    <span style=\"color: #008000; text-decoration-color: #008000\">'batches_per_epoch: 1642'</span>,\n",
       "    <span style=\"color: #008000; text-decoration-color: #008000\">'samples_per_epoch: 2.102e+05'</span>,\n",
       "    <span style=\"color: #008000; text-decoration-color: #008000\">'seconds_per_batch: 4.2000'</span>,\n",
       "    <span style=\"color: #008000; text-decoration-color: #008000\">'batches_per_second: 0.2381'</span>,\n",
       "    <span style=\"color: #008000; text-decoration-color: #008000\">'batches_per_min: 14.2857'</span>,\n",
       "    <span style=\"color: #008000; text-decoration-color: #008000\">'batches_per_hr: 857.1429'</span>,\n",
       "    <span style=\"color: #008000; text-decoration-color: #008000\">'samples_per_second: 30.4762'</span>,\n",
       "    <span style=\"color: #008000; text-decoration-color: #008000\">'samples_per_min: 1828.5714'</span>,\n",
       "    <span style=\"color: #008000; text-decoration-color: #008000\">'samples_per_hr: 1.097e+05'</span>,\n",
       "    <span style=\"color: #008000; text-decoration-color: #008000\">'batch_size: 128'</span>\n",
       "<span style=\"font-weight: bold\">]</span>\n",
       "</pre>\n"
      ],
      "text/plain": [
       "\u001b[1m[\u001b[0m\n",
       "    \u001b[32m'seconds_per_epoch: 390.9523809523809'\u001b[0m,\n",
       "    \u001b[32m'min_per_epoch: 6.5159'\u001b[0m,\n",
       "    \u001b[32m'hrs_per_epoch: 0.1086'\u001b[0m,\n",
       "    \u001b[32m'epochs_per_second: 0.0026'\u001b[0m,\n",
       "    \u001b[32m'epochs_per_min: 0.1535'\u001b[0m,\n",
       "    \u001b[32m'epochs_per_hr: 9.2083'\u001b[0m,\n",
       "    \u001b[32m'batches_per_epoch: 1642'\u001b[0m,\n",
       "    \u001b[32m'samples_per_epoch: 2.102e+05'\u001b[0m,\n",
       "    \u001b[32m'seconds_per_batch: 4.2000'\u001b[0m,\n",
       "    \u001b[32m'batches_per_second: 0.2381'\u001b[0m,\n",
       "    \u001b[32m'batches_per_min: 14.2857'\u001b[0m,\n",
       "    \u001b[32m'batches_per_hr: 857.1429'\u001b[0m,\n",
       "    \u001b[32m'samples_per_second: 30.4762'\u001b[0m,\n",
       "    \u001b[32m'samples_per_min: 1828.5714'\u001b[0m,\n",
       "    \u001b[32m'samples_per_hr: 1.097e+05'\u001b[0m,\n",
       "    \u001b[32m'batch_size: 128'\u001b[0m\n",
       "\u001b[1m]\u001b[0m\n"
      ]
     },
     "metadata": {},
     "output_type": "display_data"
    },
    {
     "name": "stdout",
     "output_type": "stream",
     "text": [
      "Using 50% of samples\n"
     ]
    },
    {
     "data": {
      "text/html": [
       "<pre style=\"white-space:pre;overflow-x:auto;line-height:normal;font-family:Menlo,'DejaVu Sans Mono',consolas,'Courier New',monospace\"><span style=\"font-weight: bold\">[</span>\n",
       "    <span style=\"color: #008000; text-decoration-color: #008000\">'seconds_per_epoch: 195.47619047619045'</span>,\n",
       "    <span style=\"color: #008000; text-decoration-color: #008000\">'min_per_epoch: 3.2579'</span>,\n",
       "    <span style=\"color: #008000; text-decoration-color: #008000\">'hrs_per_epoch: 0.0543'</span>,\n",
       "    <span style=\"color: #008000; text-decoration-color: #008000\">'epochs_per_second: 0.0051'</span>,\n",
       "    <span style=\"color: #008000; text-decoration-color: #008000\">'epochs_per_min: 0.3069'</span>,\n",
       "    <span style=\"color: #008000; text-decoration-color: #008000\">'epochs_per_hr: 18.4166'</span>,\n",
       "    <span style=\"color: #008000; text-decoration-color: #008000\">'batches_per_epoch: 821'</span>,\n",
       "    <span style=\"color: #008000; text-decoration-color: #008000\">'samples_per_epoch: 1.051e+05'</span>,\n",
       "    <span style=\"color: #008000; text-decoration-color: #008000\">'seconds_per_batch: 4.2000'</span>,\n",
       "    <span style=\"color: #008000; text-decoration-color: #008000\">'batches_per_second: 0.2381'</span>,\n",
       "    <span style=\"color: #008000; text-decoration-color: #008000\">'batches_per_min: 14.2857'</span>,\n",
       "    <span style=\"color: #008000; text-decoration-color: #008000\">'batches_per_hr: 857.1429'</span>,\n",
       "    <span style=\"color: #008000; text-decoration-color: #008000\">'samples_per_second: 30.4762'</span>,\n",
       "    <span style=\"color: #008000; text-decoration-color: #008000\">'samples_per_min: 1828.5714'</span>,\n",
       "    <span style=\"color: #008000; text-decoration-color: #008000\">'samples_per_hr: 1.097e+05'</span>,\n",
       "    <span style=\"color: #008000; text-decoration-color: #008000\">'batch_size: 128'</span>\n",
       "<span style=\"font-weight: bold\">]</span>\n",
       "</pre>\n"
      ],
      "text/plain": [
       "\u001b[1m[\u001b[0m\n",
       "    \u001b[32m'seconds_per_epoch: 195.47619047619045'\u001b[0m,\n",
       "    \u001b[32m'min_per_epoch: 3.2579'\u001b[0m,\n",
       "    \u001b[32m'hrs_per_epoch: 0.0543'\u001b[0m,\n",
       "    \u001b[32m'epochs_per_second: 0.0051'\u001b[0m,\n",
       "    \u001b[32m'epochs_per_min: 0.3069'\u001b[0m,\n",
       "    \u001b[32m'epochs_per_hr: 18.4166'\u001b[0m,\n",
       "    \u001b[32m'batches_per_epoch: 821'\u001b[0m,\n",
       "    \u001b[32m'samples_per_epoch: 1.051e+05'\u001b[0m,\n",
       "    \u001b[32m'seconds_per_batch: 4.2000'\u001b[0m,\n",
       "    \u001b[32m'batches_per_second: 0.2381'\u001b[0m,\n",
       "    \u001b[32m'batches_per_min: 14.2857'\u001b[0m,\n",
       "    \u001b[32m'batches_per_hr: 857.1429'\u001b[0m,\n",
       "    \u001b[32m'samples_per_second: 30.4762'\u001b[0m,\n",
       "    \u001b[32m'samples_per_min: 1828.5714'\u001b[0m,\n",
       "    \u001b[32m'samples_per_hr: 1.097e+05'\u001b[0m,\n",
       "    \u001b[32m'batch_size: 128'\u001b[0m\n",
       "\u001b[1m]\u001b[0m\n"
      ]
     },
     "metadata": {},
     "output_type": "display_data"
    },
    {
     "name": "stdout",
     "output_type": "stream",
     "text": [
      "(Extrapolated prediction) Using 1% of samples\n"
     ]
    },
    {
     "data": {
      "text/html": [
       "<pre style=\"white-space:pre;overflow-x:auto;line-height:normal;font-family:Menlo,'DejaVu Sans Mono',consolas,'Courier New',monospace\"><span style=\"font-weight: bold\">[</span>\n",
       "    <span style=\"color: #008000; text-decoration-color: #008000\">'seconds_per_epoch: 3.90952380952381'</span>,\n",
       "    <span style=\"color: #008000; text-decoration-color: #008000\">'min_per_epoch: 0.0652'</span>,\n",
       "    <span style=\"color: #008000; text-decoration-color: #008000\">'hrs_per_epoch: 0.0011'</span>,\n",
       "    <span style=\"color: #008000; text-decoration-color: #008000\">'epochs_per_second: 0.2558'</span>,\n",
       "    <span style=\"color: #008000; text-decoration-color: #008000\">'epochs_per_min: 15.3471'</span>,\n",
       "    <span style=\"color: #008000; text-decoration-color: #008000\">'epochs_per_hr: 920.8283'</span>,\n",
       "    <span style=\"color: #008000; text-decoration-color: #008000\">'batches_per_epoch: 16.42'</span>,\n",
       "    <span style=\"color: #008000; text-decoration-color: #008000\">'samples_per_epoch: 2102'</span>,\n",
       "    <span style=\"color: #008000; text-decoration-color: #008000\">'seconds_per_batch: 4.2000'</span>,\n",
       "    <span style=\"color: #008000; text-decoration-color: #008000\">'batches_per_second: 0.2381'</span>,\n",
       "    <span style=\"color: #008000; text-decoration-color: #008000\">'batches_per_min: 14.2857'</span>,\n",
       "    <span style=\"color: #008000; text-decoration-color: #008000\">'batches_per_hr: 857.1429'</span>,\n",
       "    <span style=\"color: #008000; text-decoration-color: #008000\">'samples_per_second: 30.4762'</span>,\n",
       "    <span style=\"color: #008000; text-decoration-color: #008000\">'samples_per_min: 1828.5714'</span>,\n",
       "    <span style=\"color: #008000; text-decoration-color: #008000\">'samples_per_hr: 1.097e+05'</span>,\n",
       "    <span style=\"color: #008000; text-decoration-color: #008000\">'batch_size: 128'</span>\n",
       "<span style=\"font-weight: bold\">]</span>\n",
       "</pre>\n"
      ],
      "text/plain": [
       "\u001b[1m[\u001b[0m\n",
       "    \u001b[32m'seconds_per_epoch: 3.90952380952381'\u001b[0m,\n",
       "    \u001b[32m'min_per_epoch: 0.0652'\u001b[0m,\n",
       "    \u001b[32m'hrs_per_epoch: 0.0011'\u001b[0m,\n",
       "    \u001b[32m'epochs_per_second: 0.2558'\u001b[0m,\n",
       "    \u001b[32m'epochs_per_min: 15.3471'\u001b[0m,\n",
       "    \u001b[32m'epochs_per_hr: 920.8283'\u001b[0m,\n",
       "    \u001b[32m'batches_per_epoch: 16.42'\u001b[0m,\n",
       "    \u001b[32m'samples_per_epoch: 2102'\u001b[0m,\n",
       "    \u001b[32m'seconds_per_batch: 4.2000'\u001b[0m,\n",
       "    \u001b[32m'batches_per_second: 0.2381'\u001b[0m,\n",
       "    \u001b[32m'batches_per_min: 14.2857'\u001b[0m,\n",
       "    \u001b[32m'batches_per_hr: 857.1429'\u001b[0m,\n",
       "    \u001b[32m'samples_per_second: 30.4762'\u001b[0m,\n",
       "    \u001b[32m'samples_per_min: 1828.5714'\u001b[0m,\n",
       "    \u001b[32m'samples_per_hr: 1.097e+05'\u001b[0m,\n",
       "    \u001b[32m'batch_size: 128'\u001b[0m\n",
       "\u001b[1m]\u001b[0m\n"
      ]
     },
     "metadata": {},
     "output_type": "display_data"
    }
   ],
   "source": [
    "batches_per_second = (1/ 4.2)\n",
    "batches_per_epoch = 1642\n",
    "batch_size=128\n",
    "\n",
    "print(f\"Experiment #8: batch_size={batch_size}, num_processes=4, num_devices=2\")\n",
    "\n",
    "\n",
    "print(\"Using 100% of samples\")\n",
    "display_train_timing_info(batches_per_epoch=batches_per_epoch,\n",
    "                          batches_per_second=batches_per_second,\n",
    "                          batch_size=batch_size)\n",
    "\n",
    "\n",
    "print(\"Using 50% of samples\")\n",
    "display_train_timing_info(batches_per_epoch=batches_per_epoch/2,\n",
    "                          batches_per_second=batches_per_second,\n",
    "                          batch_size=batch_size)\n",
    "\n",
    "print(\"(Extrapolated prediction) Using 1% of samples\")\n",
    "display_train_timing_info(batches_per_epoch=batches_per_epoch/100,\n",
    "                          batches_per_second=batches_per_second,\n",
    "                          batch_size=batch_size)"
   ]
  },
  {
   "cell_type": "markdown",
   "id": "b2da6ae6-1c2e-444e-b234-d2d5591022f4",
   "metadata": {},
   "source": [
    "### Experiment #14\n",
    "\n",
    "\n",
    "- Increased num_devices from 4\n",
    "- Using Accumulate_grad_batches=2\n",
    "- lr=1e-3\n",
    "- freeze_backbone=False\n",
    "- batch_size=64\n",
    "- preprocess_size=256\n",
    "- resolution=224\n",
    "\n",
    "\n",
    "Started: 5:00 PM - 2022-03-23  \n",
    "Ended:   x:xx AM - 2022-03-24"
   ]
  },
  {
   "cell_type": "code",
   "execution_count": 24,
   "id": "0f7c2e06-3ff3-497e-9bec-f31aafd9c936",
   "metadata": {},
   "outputs": [
    {
     "name": "stdout",
     "output_type": "stream",
     "text": [
      "1.65\n"
     ]
    }
   ],
   "source": [
    "print(f\"{1/((3282)/(90*60)):.2f}\")"
   ]
  },
  {
   "cell_type": "code",
   "execution_count": 15,
   "id": "c70b6a8c-a824-4b7a-8d42-db325ef46762",
   "metadata": {},
   "outputs": [
    {
     "name": "stdout",
     "output_type": "stream",
     "text": [
      "Experiment #8: batch_size=64, num_processes=4, num_devices=2\n",
      "Using 100% of samples\n"
     ]
    },
    {
     "data": {
      "text/html": [
       "<pre style=\"white-space:pre;overflow-x:auto;line-height:normal;font-family:Menlo,'DejaVu Sans Mono',consolas,'Courier New',monospace\"><span style=\"font-weight: bold\">[</span>\n",
       "    <span style=\"color: #008000; text-decoration-color: #008000\">'seconds_per_epoch: 1,989.0909090909092'</span>,\n",
       "    <span style=\"color: #008000; text-decoration-color: #008000\">'min_per_epoch: 33.1515'</span>,\n",
       "    <span style=\"color: #008000; text-decoration-color: #008000\">'hrs_per_epoch: 0.5525'</span>,\n",
       "    <span style=\"color: #008000; text-decoration-color: #008000\">'epochs_per_second: 0.0005'</span>,\n",
       "    <span style=\"color: #008000; text-decoration-color: #008000\">'epochs_per_min: 0.0302'</span>,\n",
       "    <span style=\"color: #008000; text-decoration-color: #008000\">'epochs_per_hr: 1.8099'</span>,\n",
       "    <span style=\"color: #008000; text-decoration-color: #008000\">'batches_per_epoch: 3282'</span>,\n",
       "    <span style=\"color: #008000; text-decoration-color: #008000\">'samples_per_epoch: 2.1e+05'</span>,\n",
       "    <span style=\"color: #008000; text-decoration-color: #008000\">'seconds_per_batch: 1.6500'</span>,\n",
       "    <span style=\"color: #008000; text-decoration-color: #008000\">'batches_per_second: 0.6061'</span>,\n",
       "    <span style=\"color: #008000; text-decoration-color: #008000\">'batches_per_min: 36.3636'</span>,\n",
       "    <span style=\"color: #008000; text-decoration-color: #008000\">'batches_per_hr: 2181.8182'</span>,\n",
       "    <span style=\"color: #008000; text-decoration-color: #008000\">'samples_per_second: 38.7879'</span>,\n",
       "    <span style=\"color: #008000; text-decoration-color: #008000\">'samples_per_min: 2327.2727'</span>,\n",
       "    <span style=\"color: #008000; text-decoration-color: #008000\">'samples_per_hr: 1.396e+05'</span>,\n",
       "    <span style=\"color: #008000; text-decoration-color: #008000\">'batch_size: 64'</span>\n",
       "<span style=\"font-weight: bold\">]</span>\n",
       "</pre>\n"
      ],
      "text/plain": [
       "\u001b[1m[\u001b[0m\n",
       "    \u001b[32m'seconds_per_epoch: 1,989.0909090909092'\u001b[0m,\n",
       "    \u001b[32m'min_per_epoch: 33.1515'\u001b[0m,\n",
       "    \u001b[32m'hrs_per_epoch: 0.5525'\u001b[0m,\n",
       "    \u001b[32m'epochs_per_second: 0.0005'\u001b[0m,\n",
       "    \u001b[32m'epochs_per_min: 0.0302'\u001b[0m,\n",
       "    \u001b[32m'epochs_per_hr: 1.8099'\u001b[0m,\n",
       "    \u001b[32m'batches_per_epoch: 3282'\u001b[0m,\n",
       "    \u001b[32m'samples_per_epoch: 2.1e+05'\u001b[0m,\n",
       "    \u001b[32m'seconds_per_batch: 1.6500'\u001b[0m,\n",
       "    \u001b[32m'batches_per_second: 0.6061'\u001b[0m,\n",
       "    \u001b[32m'batches_per_min: 36.3636'\u001b[0m,\n",
       "    \u001b[32m'batches_per_hr: 2181.8182'\u001b[0m,\n",
       "    \u001b[32m'samples_per_second: 38.7879'\u001b[0m,\n",
       "    \u001b[32m'samples_per_min: 2327.2727'\u001b[0m,\n",
       "    \u001b[32m'samples_per_hr: 1.396e+05'\u001b[0m,\n",
       "    \u001b[32m'batch_size: 64'\u001b[0m\n",
       "\u001b[1m]\u001b[0m\n"
      ]
     },
     "metadata": {},
     "output_type": "display_data"
    },
    {
     "name": "stdout",
     "output_type": "stream",
     "text": [
      "Using 50% of samples\n"
     ]
    },
    {
     "data": {
      "text/html": [
       "<pre style=\"white-space:pre;overflow-x:auto;line-height:normal;font-family:Menlo,'DejaVu Sans Mono',consolas,'Courier New',monospace\"><span style=\"font-weight: bold\">[</span>\n",
       "    <span style=\"color: #008000; text-decoration-color: #008000\">'seconds_per_epoch: 994.5454545454546'</span>,\n",
       "    <span style=\"color: #008000; text-decoration-color: #008000\">'min_per_epoch: 16.5758'</span>,\n",
       "    <span style=\"color: #008000; text-decoration-color: #008000\">'hrs_per_epoch: 0.2763'</span>,\n",
       "    <span style=\"color: #008000; text-decoration-color: #008000\">'epochs_per_second: 0.0010'</span>,\n",
       "    <span style=\"color: #008000; text-decoration-color: #008000\">'epochs_per_min: 0.0603'</span>,\n",
       "    <span style=\"color: #008000; text-decoration-color: #008000\">'epochs_per_hr: 3.6197'</span>,\n",
       "    <span style=\"color: #008000; text-decoration-color: #008000\">'batches_per_epoch: 1641'</span>,\n",
       "    <span style=\"color: #008000; text-decoration-color: #008000\">'samples_per_epoch: 1.05e+05'</span>,\n",
       "    <span style=\"color: #008000; text-decoration-color: #008000\">'seconds_per_batch: 1.6500'</span>,\n",
       "    <span style=\"color: #008000; text-decoration-color: #008000\">'batches_per_second: 0.6061'</span>,\n",
       "    <span style=\"color: #008000; text-decoration-color: #008000\">'batches_per_min: 36.3636'</span>,\n",
       "    <span style=\"color: #008000; text-decoration-color: #008000\">'batches_per_hr: 2181.8182'</span>,\n",
       "    <span style=\"color: #008000; text-decoration-color: #008000\">'samples_per_second: 38.7879'</span>,\n",
       "    <span style=\"color: #008000; text-decoration-color: #008000\">'samples_per_min: 2327.2727'</span>,\n",
       "    <span style=\"color: #008000; text-decoration-color: #008000\">'samples_per_hr: 1.396e+05'</span>,\n",
       "    <span style=\"color: #008000; text-decoration-color: #008000\">'batch_size: 64'</span>\n",
       "<span style=\"font-weight: bold\">]</span>\n",
       "</pre>\n"
      ],
      "text/plain": [
       "\u001b[1m[\u001b[0m\n",
       "    \u001b[32m'seconds_per_epoch: 994.5454545454546'\u001b[0m,\n",
       "    \u001b[32m'min_per_epoch: 16.5758'\u001b[0m,\n",
       "    \u001b[32m'hrs_per_epoch: 0.2763'\u001b[0m,\n",
       "    \u001b[32m'epochs_per_second: 0.0010'\u001b[0m,\n",
       "    \u001b[32m'epochs_per_min: 0.0603'\u001b[0m,\n",
       "    \u001b[32m'epochs_per_hr: 3.6197'\u001b[0m,\n",
       "    \u001b[32m'batches_per_epoch: 1641'\u001b[0m,\n",
       "    \u001b[32m'samples_per_epoch: 1.05e+05'\u001b[0m,\n",
       "    \u001b[32m'seconds_per_batch: 1.6500'\u001b[0m,\n",
       "    \u001b[32m'batches_per_second: 0.6061'\u001b[0m,\n",
       "    \u001b[32m'batches_per_min: 36.3636'\u001b[0m,\n",
       "    \u001b[32m'batches_per_hr: 2181.8182'\u001b[0m,\n",
       "    \u001b[32m'samples_per_second: 38.7879'\u001b[0m,\n",
       "    \u001b[32m'samples_per_min: 2327.2727'\u001b[0m,\n",
       "    \u001b[32m'samples_per_hr: 1.396e+05'\u001b[0m,\n",
       "    \u001b[32m'batch_size: 64'\u001b[0m\n",
       "\u001b[1m]\u001b[0m\n"
      ]
     },
     "metadata": {},
     "output_type": "display_data"
    },
    {
     "name": "stdout",
     "output_type": "stream",
     "text": [
      "(Extrapolated prediction) Using 1% of samples\n"
     ]
    },
    {
     "data": {
      "text/html": [
       "<pre style=\"white-space:pre;overflow-x:auto;line-height:normal;font-family:Menlo,'DejaVu Sans Mono',consolas,'Courier New',monospace\"><span style=\"font-weight: bold\">[</span>\n",
       "    <span style=\"color: #008000; text-decoration-color: #008000\">'seconds_per_epoch: 19.89090909090909'</span>,\n",
       "    <span style=\"color: #008000; text-decoration-color: #008000\">'min_per_epoch: 0.3315'</span>,\n",
       "    <span style=\"color: #008000; text-decoration-color: #008000\">'hrs_per_epoch: 0.0055'</span>,\n",
       "    <span style=\"color: #008000; text-decoration-color: #008000\">'epochs_per_second: 0.0503'</span>,\n",
       "    <span style=\"color: #008000; text-decoration-color: #008000\">'epochs_per_min: 3.0165'</span>,\n",
       "    <span style=\"color: #008000; text-decoration-color: #008000\">'epochs_per_hr: 180.9872'</span>,\n",
       "    <span style=\"color: #008000; text-decoration-color: #008000\">'batches_per_epoch: 32.82'</span>,\n",
       "    <span style=\"color: #008000; text-decoration-color: #008000\">'samples_per_epoch: 2100'</span>,\n",
       "    <span style=\"color: #008000; text-decoration-color: #008000\">'seconds_per_batch: 1.6500'</span>,\n",
       "    <span style=\"color: #008000; text-decoration-color: #008000\">'batches_per_second: 0.6061'</span>,\n",
       "    <span style=\"color: #008000; text-decoration-color: #008000\">'batches_per_min: 36.3636'</span>,\n",
       "    <span style=\"color: #008000; text-decoration-color: #008000\">'batches_per_hr: 2181.8182'</span>,\n",
       "    <span style=\"color: #008000; text-decoration-color: #008000\">'samples_per_second: 38.7879'</span>,\n",
       "    <span style=\"color: #008000; text-decoration-color: #008000\">'samples_per_min: 2327.2727'</span>,\n",
       "    <span style=\"color: #008000; text-decoration-color: #008000\">'samples_per_hr: 1.396e+05'</span>,\n",
       "    <span style=\"color: #008000; text-decoration-color: #008000\">'batch_size: 64'</span>\n",
       "<span style=\"font-weight: bold\">]</span>\n",
       "</pre>\n"
      ],
      "text/plain": [
       "\u001b[1m[\u001b[0m\n",
       "    \u001b[32m'seconds_per_epoch: 19.89090909090909'\u001b[0m,\n",
       "    \u001b[32m'min_per_epoch: 0.3315'\u001b[0m,\n",
       "    \u001b[32m'hrs_per_epoch: 0.0055'\u001b[0m,\n",
       "    \u001b[32m'epochs_per_second: 0.0503'\u001b[0m,\n",
       "    \u001b[32m'epochs_per_min: 3.0165'\u001b[0m,\n",
       "    \u001b[32m'epochs_per_hr: 180.9872'\u001b[0m,\n",
       "    \u001b[32m'batches_per_epoch: 32.82'\u001b[0m,\n",
       "    \u001b[32m'samples_per_epoch: 2100'\u001b[0m,\n",
       "    \u001b[32m'seconds_per_batch: 1.6500'\u001b[0m,\n",
       "    \u001b[32m'batches_per_second: 0.6061'\u001b[0m,\n",
       "    \u001b[32m'batches_per_min: 36.3636'\u001b[0m,\n",
       "    \u001b[32m'batches_per_hr: 2181.8182'\u001b[0m,\n",
       "    \u001b[32m'samples_per_second: 38.7879'\u001b[0m,\n",
       "    \u001b[32m'samples_per_min: 2327.2727'\u001b[0m,\n",
       "    \u001b[32m'samples_per_hr: 1.396e+05'\u001b[0m,\n",
       "    \u001b[32m'batch_size: 64'\u001b[0m\n",
       "\u001b[1m]\u001b[0m\n"
      ]
     },
     "metadata": {},
     "output_type": "display_data"
    }
   ],
   "source": [
    "batches_per_second = (1/1.65 )\n",
    "batches_per_epoch = 3282\n",
    "batch_size=64\n",
    "\n",
    "print(f\"Experiment #8: batch_size={batch_size}, num_processes=4, num_devices=2\")\n",
    "\n",
    "\n",
    "print(\"Using 100% of samples\")\n",
    "display_train_timing_info(batches_per_epoch=batches_per_epoch,\n",
    "                          batches_per_second=batches_per_second,\n",
    "                          batch_size=batch_size)\n",
    "\n",
    "\n",
    "print(\"Using 50% of samples\")\n",
    "display_train_timing_info(batches_per_epoch=batches_per_epoch/2,\n",
    "                          batches_per_second=batches_per_second,\n",
    "                          batch_size=batch_size)\n",
    "\n",
    "print(\"(Extrapolated prediction) Using 1% of samples\")\n",
    "display_train_timing_info(batches_per_epoch=batches_per_epoch/100,\n",
    "                          batches_per_second=batches_per_second,\n",
    "                          batch_size=batch_size)"
   ]
  },
  {
   "cell_type": "code",
   "execution_count": 125,
   "id": "d299776a-2e13-4a0f-894f-e3e5ff1572c4",
   "metadata": {},
   "outputs": [
    {
     "data": {
      "text/plain": [
       "0.23854166666666668"
      ]
     },
     "execution_count": 125,
     "metadata": {},
     "output_type": "execute_result"
    }
   ],
   "source": [
    "229/16/60"
   ]
  },
  {
   "cell_type": "code",
   "execution_count": 14,
   "id": "07e8463e-6924-4db3-9b54-1a588b9b2406",
   "metadata": {},
   "outputs": [
    {
     "data": {
      "text/plain": [
       "55.92"
      ]
     },
     "execution_count": 14,
     "metadata": {},
     "output_type": "execute_result"
    }
   ],
   "source": [
    "27.96*2"
   ]
  },
  {
   "cell_type": "code",
   "execution_count": null,
   "id": "967611e9-349c-4fe4-9c14-d1bf66f017ea",
   "metadata": {},
   "outputs": [],
   "source": []
  }
 ],
 "metadata": {
  "kernelspec": {
   "display_name": "Python 3 (ipykernel)",
   "language": "python",
   "name": "python3"
  },
  "language_info": {
   "codemirror_mode": {
    "name": "ipython",
    "version": 3
   },
   "file_extension": ".py",
   "mimetype": "text/x-python",
   "name": "python",
   "nbconvert_exporter": "python",
   "pygments_lexer": "ipython3",
   "version": "3.8.12"
  }
 },
 "nbformat": 4,
 "nbformat_minor": 5
}
