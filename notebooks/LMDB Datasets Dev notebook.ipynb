{
 "cells": [
  {
   "cell_type": "markdown",
   "id": "f8fbad3a-e268-45ff-ab04-9b1e107347a7",
   "metadata": {},
   "source": [
    "## LMDB Datasets Dev notebook.ipynb\n",
    "\n",
    "Added on: Sunday April 18th, 2022  \n",
    "Adapted by: Jacob Alexander Rose  "
   ]
  },
  {
   "cell_type": "code",
   "execution_count": 2,
   "id": "f93a12b9-2786-4e8b-b7cd-65122c3ee520",
   "metadata": {},
   "outputs": [
    {
     "name": "stdout",
     "output_type": "stream",
     "text": [
      "The autoreload extension is already loaded. To reload it, use:\n",
      "  %reload_ext autoreload\n"
     ]
    }
   ],
   "source": [
    "%load_ext autoreload\n",
    "%autoreload 2\n",
    "\n",
    "\n",
    "import lmdb\n",
    "\n",
    "from imutils.ml.utils.etl_utils import ETL\n",
    "from omegaconf import DictConfig, OmegaConf\n",
    "import os\n",
    "from rich import print as pp\n",
    "import hydra\n",
    "\n",
    "\n",
    "import numpy as np\n",
    "import pyarrow as pa\n",
    "pa.__version__\n",
    "\n",
    "import inspect\n",
    "from tqdm.auto import tqdm\n",
    "import pandas as pd\n",
    "\n",
    "from imutils.ml.utils.template_utils import get_logger\n",
    "import logging\n",
    "\n",
    "logger = get_logger(name=__name__, level=logging.INFO)"
   ]
  },
  {
   "cell_type": "code",
   "execution_count": null,
   "id": "7f3a04c4-2130-46d2-a415-104cca39b229",
   "metadata": {},
   "outputs": [],
   "source": [
    "os.remove"
   ]
  },
  {
   "cell_type": "code",
   "execution_count": 4,
   "id": "187fce3d-9d1e-417e-a253-40a24794ee12",
   "metadata": {},
   "outputs": [
    {
     "name": "stdout",
     "output_type": "stream",
     "text": [
      "[['Time Period', 'Votes Eligible', 'Missed Votes', 'Percent', 'Percentile']]\n"
     ]
    }
   ],
   "source": [
    "\n",
    "tbl_str = \"\"\"Time Period\tVotes Eligible\tMissed Votes\tPercent\tPercentile\n",
    "2001 Jan-Mar\t63\t0\t0.0%\t0th\n",
    "2001 Apr-Jun\t157\t0\t0.0%\t0th\n",
    "2001 Jul-Sep\t68\t3\t4.4%\t74th\n",
    "2001 Oct-Dec\t92\t0\t0.0%\t0th\n",
    "2002 Jan-Mar\t59\t1\t1.7%\t34th\n",
    "2002 Apr-Jun\t107\t0\t0.0%\t0th\n",
    "2002 Jul-Sep\t61\t1\t1.6%\t46th\n",
    "2002 Oct-Nov\t26\t0\t0.0%\t0th\n",
    "2003 Jan-Mar\t112\t0\t0.0%\t0th\n",
    "2003 Apr-Jun\t150\t0\t0.0%\t0th\n",
    "2003 Jul-Sep\t108\t1\t0.9%\t46th\n",
    "2003 Oct-Nov\t89\t3\t3.4%\t78th\n",
    "2004 Jan-Mar\t64\t0\t0.0%\t0th\n",
    "2004 Apr-Jun\t88\t2\t2.3%\t66th\n",
    "2004 Jul-Sep\t42\t10\t23.8%\t96th\n",
    "2004 Oct-Dec\t22\t3\t13.6%\t81st\n",
    "2005 Jan-Mar\t81\t11\t13.6%\t97th\n",
    "2005 Apr-Jun\t89\t0\t0.0%\t0th\n",
    "2005 Jul-Sep\t76\t0\t0.0%\t0th\n",
    "2005 Oct-Dec\t120\t1\t0.8%\t45th\n",
    "2006 Jan-Mar\t83\t2\t2.4%\t68th\n",
    "2006 Apr-Jun\t107\t1\t0.9%\t34th\n",
    "2006 Jul-Sep\t73\t1\t1.4%\t60th\n",
    "2006 Nov-Dec\t16\t0\t0.0%\t0th\n",
    "2007 Jan-Mar\t126\t3\t2.4%\t63rd\n",
    "2007 Apr-Jun\t112\t3\t2.7%\t74th\n",
    "2007 Jul-Sep\t119\t26\t21.8%\t93rd\n",
    "2007 Oct-Dec\t85\t71\t83.5%\t99th\n",
    "2008 Jan-Mar\t85\t38\t44.7%\t97th\n",
    "2008 Apr-Jun\t77\t60\t77.9%\t98th\n",
    "2008 Jul-Sep\t47\t7\t14.9%\t92nd\n",
    "2008 Oct-Dec\t6\t0\t0.0%\t0th\n",
    "2009 Jan-Mar\t6\t1\t16.7%\t95th\"\"\"\n",
    "\n",
    "tbl = [row.split(\"\\t\") for row in tbl_str.split(\"\\n\")[1:]]\n",
    "headers = [row.split(\"\\t\") for row in tbl_str.split(\"\\n\")[:1]]\n",
    "# print(tbl)\n",
    "\n",
    "df = pd.DataFrame(tbl)\n",
    "print(headers)"
   ]
  },
  {
   "cell_type": "code",
   "execution_count": 7,
   "id": "99bc0ca9-4195-469b-b446-a3e4d4f8981c",
   "metadata": {},
   "outputs": [
    {
     "data": {
      "text/plain": [
       "['DictConfig',\n",
       " 'ETL',\n",
       " 'In',\n",
       " 'OmegaConf',\n",
       " 'Out',\n",
       " '_',\n",
       " '__',\n",
       " '___',\n",
       " '__builtin__',\n",
       " '__builtins__',\n",
       " '__doc__',\n",
       " '__loader__',\n",
       " '__name__',\n",
       " '__package__',\n",
       " '__spec__',\n",
       " '_dh',\n",
       " '_i',\n",
       " '_i1',\n",
       " '_i2',\n",
       " '_i3',\n",
       " '_i4',\n",
       " '_i5',\n",
       " '_i6',\n",
       " '_i7',\n",
       " '_ih',\n",
       " '_ii',\n",
       " '_iii',\n",
       " '_oh',\n",
       " 'df',\n",
       " 'exit',\n",
       " 'get_ipython',\n",
       " 'get_logger',\n",
       " 'headers',\n",
       " 'hydra',\n",
       " 'inspect',\n",
       " 'lmdb',\n",
       " 'logger',\n",
       " 'logging',\n",
       " 'np',\n",
       " 'os',\n",
       " 'pa',\n",
       " 'pd',\n",
       " 'pp',\n",
       " 'quit',\n",
       " 'tbl',\n",
       " 'tbl_str',\n",
       " 'tqdm']"
      ]
     },
     "execution_count": 7,
     "metadata": {},
     "output_type": "execute_result"
    }
   ],
   "source": [
    "dir()"
   ]
  },
  {
   "cell_type": "code",
   "execution_count": 5,
   "id": "b1f792e8-2043-4b5b-8762-97f6cdf4f702",
   "metadata": {},
   "outputs": [],
   "source": [
    "df = df.astype({1:int, 2: int})"
   ]
  },
  {
   "cell_type": "code",
   "execution_count": null,
   "id": "98a7adcf-c3ad-4f44-8600-7dc45392f708",
   "metadata": {},
   "outputs": [],
   "source": []
  },
  {
   "cell_type": "code",
   "execution_count": 18,
   "id": "2c00fc29-ac08-4dc6-9443-c509aa35e214",
   "metadata": {},
   "outputs": [
    {
     "data": {
      "text/plain": [
       "0.09518348623853211"
      ]
     },
     "execution_count": 18,
     "metadata": {},
     "output_type": "execute_result"
    }
   ],
   "source": [
    "df.loc[:,2].sum()/df.loc[:,1].sum()\n"
   ]
  },
  {
   "cell_type": "code",
   "execution_count": 25,
   "id": "70c383db-f956-4e14-9fc7-ad4e60187b6f",
   "metadata": {},
   "outputs": [],
   "source": [
    "import logging\n",
    "\n",
    "__file__ = os.getcwd()\n",
    "logger = logging.getLogger(__file__)\n",
    "logger.info(f\"Using HERBARIUM_ROOT_DEFAULT location: {os.environ['HERBARIUM_ROOT_DEFAULT']}\")\n",
    "\n",
    "# dir(logging)"
   ]
  },
  {
   "cell_type": "code",
   "execution_count": 2,
   "id": "6dbf7839-c114-49be-aee1-7fe485cb82c2",
   "metadata": {},
   "outputs": [
    {
     "name": "stdout",
     "output_type": "stream",
     "text": [
      "/media/data_cifs/projects/prj_fossils/users/jacob/github/image-utils/imutils/ml/conf/data/datasets extant_leaves_family_10_512_dataset.yaml\n"
     ]
    }
   ],
   "source": [
    "# config_path = os.path.dirname(imutils.ml.BASE_ML_CONF_PATH)\n",
    "# config_name = os.path.basename(imutils.ml.BASE_ML_CONF_PATH)\n",
    "\n",
    "\n",
    "dataset_cfg_path = \"/media/data_cifs/projects/prj_fossils/users/jacob/github/image-utils/imutils/ml/conf/data/datasets/extant_leaves_family_10_512_dataset.yaml\"\n",
    "\n",
    "config_path = os.path.dirname(dataset_cfg_path)\n",
    "config_name = os.path.basename(dataset_cfg_path)\n",
    "\n",
    "overrides = []\n",
    "\n",
    "print(config_path, config_name)\n",
    "\n",
    "cfg = ETL.init_structured_config(config_name = config_name,\n",
    "                                 config_path = config_path,\n",
    "                                 job_name = \"LMDB Dataset Creation\",\n",
    "                                 dataclass_type= None,\n",
    "                                 overrides=overrides,\n",
    "                                 cfg = None)"
   ]
  },
  {
   "cell_type": "code",
   "execution_count": 3,
   "id": "185689af-5302-441f-bae2-4e0dcec29f0a",
   "metadata": {},
   "outputs": [],
   "source": [
    "# cfg = OmegaConf.to_container(cfg, resolve=True)\n",
    "\n",
    "datasets = {}\n",
    "for subset in [\"train\", \"val\", \"test\"]:\n",
    "        \n",
    "    hydra.utils.log.info(f\"Instantiating <{cfg.data.datasets[subset]._target_}>\")\n",
    "    datasets[subset] = hydra.utils.instantiate(\n",
    "        cfg.data.datasets[subset], _recursive_=False, output_image_type = np.ndarray\n",
    "    )\n",
    "    datasets[subset].setup()\n",
    "\n",
    "\n",
    "pp(OmegaConf.to_container(cfg, resolve=True))"
   ]
  },
  {
   "cell_type": "code",
   "execution_count": 12,
   "id": "727bf390-7111-4e89-b5ce-81592622768e",
   "metadata": {},
   "outputs": [],
   "source": [
    "# from imutils.ml.data.lmdb.convert_lmdb_tools import *\n",
    "from imutils.ml.data.lmdb import convert_lmdb_tools\n",
    "from imutils.ml.data.lmdb.folder2lmdb import ImageLMDBDataset"
   ]
  },
  {
   "cell_type": "code",
   "execution_count": 8,
   "id": "5bde7010-da76-4872-bb2d-1435cfd24b2e",
   "metadata": {},
   "outputs": [],
   "source": [
    "%%time\n",
    "\n",
    "lmdb_save_dir = os.path.join(cfg.data.catalog_dir, \"lmdb_data\")\n",
    "os.makedirs(lmdb_save_dir, exist_ok=True)\n",
    "\n",
    "for subset in [\"train\", \"val\", \"test\"]:\n",
    "    data = datasets[subset]\n",
    "    # print(f\"Starting on subset: {subset} with {len(data)}\")\n",
    "\n",
    "    convert_lmdb_tools.generate_lmdb_dataset(dataset=data,\n",
    "                                             save_dir=lmdb_save_dir,\n",
    "                                             name=subset,\n",
    "                                             collate_fn=lambda x: x,\n",
    "                                             num_workers=8,\n",
    "                                             max_size_rate=1.0,\n",
    "                                             write_frequency=1000,\n",
    "                                             pbar_position=0)\n",
    "\n"
   ]
  },
  {
   "cell_type": "code",
   "execution_count": 12,
   "id": "8890208b-f8cc-4edd-a606-1231ffc8741b",
   "metadata": {},
   "outputs": [
    {
     "data": {
      "text/plain": [
       "'/media/data_cifs/projects/prj_fossils/users/jacob/data/leavesdb-v1_1/Extant_Leaves_family_10_512/splits/splits=(0.5,0.2,0.3)/lmdb_data'"
      ]
     },
     "execution_count": 12,
     "metadata": {},
     "output_type": "execute_result"
    }
   ],
   "source": []
  },
  {
   "cell_type": "code",
   "execution_count": 13,
   "id": "f695b51e-21b8-4177-8e35-a39508e9e8d8",
   "metadata": {},
   "outputs": [],
   "source": [
    "lmdb_save_dir = os.path.join(cfg.data.catalog_dir, \"lmdb_data\")\n",
    "\n",
    "train_data = ImageLMDBDataset(db_dir=lmdb_save_dir,\n",
    "                       subset=\"train\",\n",
    "                       transform=None,\n",
    "                       target_transform=None, \n",
    "                       backend='cv2')"
   ]
  },
  {
   "cell_type": "code",
   "execution_count": 14,
   "id": "3952042c-5473-4c30-bff1-edff2a9bc23e",
   "metadata": {},
   "outputs": [
    {
     "data": {
      "text/plain": [
       "11797"
      ]
     },
     "execution_count": 14,
     "metadata": {},
     "output_type": "execute_result"
    }
   ],
   "source": [
    "len(train_data)"
   ]
  },
  {
   "cell_type": "code",
   "execution_count": 17,
   "id": "fc1a9dbd-2784-47b4-8d63-b6083a4407bd",
   "metadata": {},
   "outputs": [
    {
     "data": {
      "text/plain": [
       "torch.Size([3, 512, 512])"
      ]
     },
     "execution_count": 17,
     "metadata": {},
     "output_type": "execute_result"
    }
   ],
   "source": [
    "train_data[0][0].shape"
   ]
  },
  {
   "cell_type": "code",
   "execution_count": 18,
   "id": "830ebb4b-c2ce-4bf8-b523-1ec853b097b8",
   "metadata": {},
   "outputs": [],
   "source": [
    "from torch.utils.data import DataLoader\n",
    "data_loader = DataLoader(train_data, num_workers=4)\n"
   ]
  },
  {
   "cell_type": "code",
   "execution_count": 19,
   "id": "878c36cb-4755-459d-a540-524e28d0c188",
   "metadata": {},
   "outputs": [
    {
     "data": {
      "application/vnd.jupyter.widget-view+json": {
       "model_id": "80182fe24ce4448692d2b28c119dea7d",
       "version_major": 2,
       "version_minor": 0
      },
      "text/plain": [
       "  0%|          | 0/11797 [00:00<?, ?it/s]"
      ]
     },
     "metadata": {},
     "output_type": "display_data"
    },
    {
     "name": "stdout",
     "output_type": "stream",
     "text": [
      "CPU times: user 21.3 s, sys: 11.1 s, total: 32.5 s\n",
      "Wall time: 9min 56s\n"
     ]
    }
   ],
   "source": [
    "%%time\n",
    "\n",
    "for batch in tqdm(iter(data_loader), total=len(train_data)):\n",
    "    pass"
   ]
  },
  {
   "cell_type": "code",
   "execution_count": 20,
   "id": "29c1935a-37b4-494c-b665-ac33dd3c2b25",
   "metadata": {},
   "outputs": [
    {
     "data": {
      "application/vnd.jupyter.widget-view+json": {
       "model_id": "f17e2df98a5c48bd80352d1682b5151a",
       "version_major": 2,
       "version_minor": 0
      },
      "text/plain": [
       "  0%|          | 0/11797 [00:00<?, ?it/s]"
      ]
     },
     "metadata": {},
     "output_type": "display_data"
    },
    {
     "name": "stdout",
     "output_type": "stream",
     "text": [
      "CPU times: user 17.2 s, sys: 6.32 s, total: 23.5 s\n",
      "Wall time: 2min 25s\n"
     ]
    }
   ],
   "source": [
    "%%time\n",
    "\n",
    "train_data = datasets[\"train\"]\n",
    "data_loader = DataLoader(train_data, num_workers=4)\n",
    "\n",
    "\n",
    "for batch in tqdm(iter(data_loader), total=len(train_data)):\n",
    "    pass"
   ]
  },
  {
   "cell_type": "code",
   "execution_count": 22,
   "id": "480c1b7d-d7e5-4e22-b82f-78afcf1a1f2a",
   "metadata": {},
   "outputs": [
    {
     "data": {
      "text/plain": [
       "dict_keys(['epoch', 'global_step', 'pytorch-lightning_version', 'state_dict', 'hparams_name', 'hyper_parameters', 'hparams_type'])"
      ]
     },
     "execution_count": 22,
     "metadata": {},
     "output_type": "execute_result"
    }
   ],
   "source": [
    "import torch\n",
    "\n",
    "ckpt_path = \"/media/data_cifs/projects/prj_fossils/users/jacob/experiments/2022/herbarium2022/hydra_experiments/2022-04-01/21-13-25/ckpts/epoch=22-val_loss=1.316-val_macro_F1=0.720/model_weights.ckpt\"\n",
    "\n",
    "ckpt = torch.load(ckpt_path)\n",
    "\n",
    "ckpt.keys()"
   ]
  },
  {
   "cell_type": "code",
   "execution_count": 23,
   "id": "45cca85f-5726-4c5f-8c25-5f99a64f530f",
   "metadata": {},
   "outputs": [
    {
     "data": {
      "text/plain": [
       "odict_keys(['net.backbone.conv1.weight', 'net.backbone.bn1.weight', 'net.backbone.bn1.bias', 'net.backbone.bn1.running_mean', 'net.backbone.bn1.running_var', 'net.backbone.bn1.num_batches_tracked', 'net.backbone.layer1.0.conv1.weight', 'net.backbone.layer1.0.bn1.weight', 'net.backbone.layer1.0.bn1.bias', 'net.backbone.layer1.0.bn1.running_mean', 'net.backbone.layer1.0.bn1.running_var', 'net.backbone.layer1.0.bn1.num_batches_tracked', 'net.backbone.layer1.0.conv2.weight', 'net.backbone.layer1.0.bn2.weight', 'net.backbone.layer1.0.bn2.bias', 'net.backbone.layer1.0.bn2.running_mean', 'net.backbone.layer1.0.bn2.running_var', 'net.backbone.layer1.0.bn2.num_batches_tracked', 'net.backbone.layer1.0.conv3.weight', 'net.backbone.layer1.0.bn3.weight', 'net.backbone.layer1.0.bn3.bias', 'net.backbone.layer1.0.bn3.running_mean', 'net.backbone.layer1.0.bn3.running_var', 'net.backbone.layer1.0.bn3.num_batches_tracked', 'net.backbone.layer1.0.se.fc1.weight', 'net.backbone.layer1.0.se.fc1.bias', 'net.backbone.layer1.0.se.fc2.weight', 'net.backbone.layer1.0.se.fc2.bias', 'net.backbone.layer1.0.downsample.0.weight', 'net.backbone.layer1.0.downsample.1.weight', 'net.backbone.layer1.0.downsample.1.bias', 'net.backbone.layer1.0.downsample.1.running_mean', 'net.backbone.layer1.0.downsample.1.running_var', 'net.backbone.layer1.0.downsample.1.num_batches_tracked', 'net.backbone.layer1.1.conv1.weight', 'net.backbone.layer1.1.bn1.weight', 'net.backbone.layer1.1.bn1.bias', 'net.backbone.layer1.1.bn1.running_mean', 'net.backbone.layer1.1.bn1.running_var', 'net.backbone.layer1.1.bn1.num_batches_tracked', 'net.backbone.layer1.1.conv2.weight', 'net.backbone.layer1.1.bn2.weight', 'net.backbone.layer1.1.bn2.bias', 'net.backbone.layer1.1.bn2.running_mean', 'net.backbone.layer1.1.bn2.running_var', 'net.backbone.layer1.1.bn2.num_batches_tracked', 'net.backbone.layer1.1.conv3.weight', 'net.backbone.layer1.1.bn3.weight', 'net.backbone.layer1.1.bn3.bias', 'net.backbone.layer1.1.bn3.running_mean', 'net.backbone.layer1.1.bn3.running_var', 'net.backbone.layer1.1.bn3.num_batches_tracked', 'net.backbone.layer1.1.se.fc1.weight', 'net.backbone.layer1.1.se.fc1.bias', 'net.backbone.layer1.1.se.fc2.weight', 'net.backbone.layer1.1.se.fc2.bias', 'net.backbone.layer1.2.conv1.weight', 'net.backbone.layer1.2.bn1.weight', 'net.backbone.layer1.2.bn1.bias', 'net.backbone.layer1.2.bn1.running_mean', 'net.backbone.layer1.2.bn1.running_var', 'net.backbone.layer1.2.bn1.num_batches_tracked', 'net.backbone.layer1.2.conv2.weight', 'net.backbone.layer1.2.bn2.weight', 'net.backbone.layer1.2.bn2.bias', 'net.backbone.layer1.2.bn2.running_mean', 'net.backbone.layer1.2.bn2.running_var', 'net.backbone.layer1.2.bn2.num_batches_tracked', 'net.backbone.layer1.2.conv3.weight', 'net.backbone.layer1.2.bn3.weight', 'net.backbone.layer1.2.bn3.bias', 'net.backbone.layer1.2.bn3.running_mean', 'net.backbone.layer1.2.bn3.running_var', 'net.backbone.layer1.2.bn3.num_batches_tracked', 'net.backbone.layer1.2.se.fc1.weight', 'net.backbone.layer1.2.se.fc1.bias', 'net.backbone.layer1.2.se.fc2.weight', 'net.backbone.layer1.2.se.fc2.bias', 'net.backbone.layer2.0.conv1.weight', 'net.backbone.layer2.0.bn1.weight', 'net.backbone.layer2.0.bn1.bias', 'net.backbone.layer2.0.bn1.running_mean', 'net.backbone.layer2.0.bn1.running_var', 'net.backbone.layer2.0.bn1.num_batches_tracked', 'net.backbone.layer2.0.conv2.weight', 'net.backbone.layer2.0.bn2.weight', 'net.backbone.layer2.0.bn2.bias', 'net.backbone.layer2.0.bn2.running_mean', 'net.backbone.layer2.0.bn2.running_var', 'net.backbone.layer2.0.bn2.num_batches_tracked', 'net.backbone.layer2.0.conv3.weight', 'net.backbone.layer2.0.bn3.weight', 'net.backbone.layer2.0.bn3.bias', 'net.backbone.layer2.0.bn3.running_mean', 'net.backbone.layer2.0.bn3.running_var', 'net.backbone.layer2.0.bn3.num_batches_tracked', 'net.backbone.layer2.0.se.fc1.weight', 'net.backbone.layer2.0.se.fc1.bias', 'net.backbone.layer2.0.se.fc2.weight', 'net.backbone.layer2.0.se.fc2.bias', 'net.backbone.layer2.0.downsample.0.weight', 'net.backbone.layer2.0.downsample.1.weight', 'net.backbone.layer2.0.downsample.1.bias', 'net.backbone.layer2.0.downsample.1.running_mean', 'net.backbone.layer2.0.downsample.1.running_var', 'net.backbone.layer2.0.downsample.1.num_batches_tracked', 'net.backbone.layer2.1.conv1.weight', 'net.backbone.layer2.1.bn1.weight', 'net.backbone.layer2.1.bn1.bias', 'net.backbone.layer2.1.bn1.running_mean', 'net.backbone.layer2.1.bn1.running_var', 'net.backbone.layer2.1.bn1.num_batches_tracked', 'net.backbone.layer2.1.conv2.weight', 'net.backbone.layer2.1.bn2.weight', 'net.backbone.layer2.1.bn2.bias', 'net.backbone.layer2.1.bn2.running_mean', 'net.backbone.layer2.1.bn2.running_var', 'net.backbone.layer2.1.bn2.num_batches_tracked', 'net.backbone.layer2.1.conv3.weight', 'net.backbone.layer2.1.bn3.weight', 'net.backbone.layer2.1.bn3.bias', 'net.backbone.layer2.1.bn3.running_mean', 'net.backbone.layer2.1.bn3.running_var', 'net.backbone.layer2.1.bn3.num_batches_tracked', 'net.backbone.layer2.1.se.fc1.weight', 'net.backbone.layer2.1.se.fc1.bias', 'net.backbone.layer2.1.se.fc2.weight', 'net.backbone.layer2.1.se.fc2.bias', 'net.backbone.layer2.2.conv1.weight', 'net.backbone.layer2.2.bn1.weight', 'net.backbone.layer2.2.bn1.bias', 'net.backbone.layer2.2.bn1.running_mean', 'net.backbone.layer2.2.bn1.running_var', 'net.backbone.layer2.2.bn1.num_batches_tracked', 'net.backbone.layer2.2.conv2.weight', 'net.backbone.layer2.2.bn2.weight', 'net.backbone.layer2.2.bn2.bias', 'net.backbone.layer2.2.bn2.running_mean', 'net.backbone.layer2.2.bn2.running_var', 'net.backbone.layer2.2.bn2.num_batches_tracked', 'net.backbone.layer2.2.conv3.weight', 'net.backbone.layer2.2.bn3.weight', 'net.backbone.layer2.2.bn3.bias', 'net.backbone.layer2.2.bn3.running_mean', 'net.backbone.layer2.2.bn3.running_var', 'net.backbone.layer2.2.bn3.num_batches_tracked', 'net.backbone.layer2.2.se.fc1.weight', 'net.backbone.layer2.2.se.fc1.bias', 'net.backbone.layer2.2.se.fc2.weight', 'net.backbone.layer2.2.se.fc2.bias', 'net.backbone.layer2.3.conv1.weight', 'net.backbone.layer2.3.bn1.weight', 'net.backbone.layer2.3.bn1.bias', 'net.backbone.layer2.3.bn1.running_mean', 'net.backbone.layer2.3.bn1.running_var', 'net.backbone.layer2.3.bn1.num_batches_tracked', 'net.backbone.layer2.3.conv2.weight', 'net.backbone.layer2.3.bn2.weight', 'net.backbone.layer2.3.bn2.bias', 'net.backbone.layer2.3.bn2.running_mean', 'net.backbone.layer2.3.bn2.running_var', 'net.backbone.layer2.3.bn2.num_batches_tracked', 'net.backbone.layer2.3.conv3.weight', 'net.backbone.layer2.3.bn3.weight', 'net.backbone.layer2.3.bn3.bias', 'net.backbone.layer2.3.bn3.running_mean', 'net.backbone.layer2.3.bn3.running_var', 'net.backbone.layer2.3.bn3.num_batches_tracked', 'net.backbone.layer2.3.se.fc1.weight', 'net.backbone.layer2.3.se.fc1.bias', 'net.backbone.layer2.3.se.fc2.weight', 'net.backbone.layer2.3.se.fc2.bias', 'net.backbone.layer3.0.conv1.weight', 'net.backbone.layer3.0.bn1.weight', 'net.backbone.layer3.0.bn1.bias', 'net.backbone.layer3.0.bn1.running_mean', 'net.backbone.layer3.0.bn1.running_var', 'net.backbone.layer3.0.bn1.num_batches_tracked', 'net.backbone.layer3.0.conv2.weight', 'net.backbone.layer3.0.bn2.weight', 'net.backbone.layer3.0.bn2.bias', 'net.backbone.layer3.0.bn2.running_mean', 'net.backbone.layer3.0.bn2.running_var', 'net.backbone.layer3.0.bn2.num_batches_tracked', 'net.backbone.layer3.0.conv3.weight', 'net.backbone.layer3.0.bn3.weight', 'net.backbone.layer3.0.bn3.bias', 'net.backbone.layer3.0.bn3.running_mean', 'net.backbone.layer3.0.bn3.running_var', 'net.backbone.layer3.0.bn3.num_batches_tracked', 'net.backbone.layer3.0.se.fc1.weight', 'net.backbone.layer3.0.se.fc1.bias', 'net.backbone.layer3.0.se.fc2.weight', 'net.backbone.layer3.0.se.fc2.bias', 'net.backbone.layer3.0.downsample.0.weight', 'net.backbone.layer3.0.downsample.1.weight', 'net.backbone.layer3.0.downsample.1.bias', 'net.backbone.layer3.0.downsample.1.running_mean', 'net.backbone.layer3.0.downsample.1.running_var', 'net.backbone.layer3.0.downsample.1.num_batches_tracked', 'net.backbone.layer3.1.conv1.weight', 'net.backbone.layer3.1.bn1.weight', 'net.backbone.layer3.1.bn1.bias', 'net.backbone.layer3.1.bn1.running_mean', 'net.backbone.layer3.1.bn1.running_var', 'net.backbone.layer3.1.bn1.num_batches_tracked', 'net.backbone.layer3.1.conv2.weight', 'net.backbone.layer3.1.bn2.weight', 'net.backbone.layer3.1.bn2.bias', 'net.backbone.layer3.1.bn2.running_mean', 'net.backbone.layer3.1.bn2.running_var', 'net.backbone.layer3.1.bn2.num_batches_tracked', 'net.backbone.layer3.1.conv3.weight', 'net.backbone.layer3.1.bn3.weight', 'net.backbone.layer3.1.bn3.bias', 'net.backbone.layer3.1.bn3.running_mean', 'net.backbone.layer3.1.bn3.running_var', 'net.backbone.layer3.1.bn3.num_batches_tracked', 'net.backbone.layer3.1.se.fc1.weight', 'net.backbone.layer3.1.se.fc1.bias', 'net.backbone.layer3.1.se.fc2.weight', 'net.backbone.layer3.1.se.fc2.bias', 'net.backbone.layer3.2.conv1.weight', 'net.backbone.layer3.2.bn1.weight', 'net.backbone.layer3.2.bn1.bias', 'net.backbone.layer3.2.bn1.running_mean', 'net.backbone.layer3.2.bn1.running_var', 'net.backbone.layer3.2.bn1.num_batches_tracked', 'net.backbone.layer3.2.conv2.weight', 'net.backbone.layer3.2.bn2.weight', 'net.backbone.layer3.2.bn2.bias', 'net.backbone.layer3.2.bn2.running_mean', 'net.backbone.layer3.2.bn2.running_var', 'net.backbone.layer3.2.bn2.num_batches_tracked', 'net.backbone.layer3.2.conv3.weight', 'net.backbone.layer3.2.bn3.weight', 'net.backbone.layer3.2.bn3.bias', 'net.backbone.layer3.2.bn3.running_mean', 'net.backbone.layer3.2.bn3.running_var', 'net.backbone.layer3.2.bn3.num_batches_tracked', 'net.backbone.layer3.2.se.fc1.weight', 'net.backbone.layer3.2.se.fc1.bias', 'net.backbone.layer3.2.se.fc2.weight', 'net.backbone.layer3.2.se.fc2.bias', 'net.backbone.layer3.3.conv1.weight', 'net.backbone.layer3.3.bn1.weight', 'net.backbone.layer3.3.bn1.bias', 'net.backbone.layer3.3.bn1.running_mean', 'net.backbone.layer3.3.bn1.running_var', 'net.backbone.layer3.3.bn1.num_batches_tracked', 'net.backbone.layer3.3.conv2.weight', 'net.backbone.layer3.3.bn2.weight', 'net.backbone.layer3.3.bn2.bias', 'net.backbone.layer3.3.bn2.running_mean', 'net.backbone.layer3.3.bn2.running_var', 'net.backbone.layer3.3.bn2.num_batches_tracked', 'net.backbone.layer3.3.conv3.weight', 'net.backbone.layer3.3.bn3.weight', 'net.backbone.layer3.3.bn3.bias', 'net.backbone.layer3.3.bn3.running_mean', 'net.backbone.layer3.3.bn3.running_var', 'net.backbone.layer3.3.bn3.num_batches_tracked', 'net.backbone.layer3.3.se.fc1.weight', 'net.backbone.layer3.3.se.fc1.bias', 'net.backbone.layer3.3.se.fc2.weight', 'net.backbone.layer3.3.se.fc2.bias', 'net.backbone.layer3.4.conv1.weight', 'net.backbone.layer3.4.bn1.weight', 'net.backbone.layer3.4.bn1.bias', 'net.backbone.layer3.4.bn1.running_mean', 'net.backbone.layer3.4.bn1.running_var', 'net.backbone.layer3.4.bn1.num_batches_tracked', 'net.backbone.layer3.4.conv2.weight', 'net.backbone.layer3.4.bn2.weight', 'net.backbone.layer3.4.bn2.bias', 'net.backbone.layer3.4.bn2.running_mean', 'net.backbone.layer3.4.bn2.running_var', 'net.backbone.layer3.4.bn2.num_batches_tracked', 'net.backbone.layer3.4.conv3.weight', 'net.backbone.layer3.4.bn3.weight', 'net.backbone.layer3.4.bn3.bias', 'net.backbone.layer3.4.bn3.running_mean', 'net.backbone.layer3.4.bn3.running_var', 'net.backbone.layer3.4.bn3.num_batches_tracked', 'net.backbone.layer3.4.se.fc1.weight', 'net.backbone.layer3.4.se.fc1.bias', 'net.backbone.layer3.4.se.fc2.weight', 'net.backbone.layer3.4.se.fc2.bias', 'net.backbone.layer3.5.conv1.weight', 'net.backbone.layer3.5.bn1.weight', 'net.backbone.layer3.5.bn1.bias', 'net.backbone.layer3.5.bn1.running_mean', 'net.backbone.layer3.5.bn1.running_var', 'net.backbone.layer3.5.bn1.num_batches_tracked', 'net.backbone.layer3.5.conv2.weight', 'net.backbone.layer3.5.bn2.weight', 'net.backbone.layer3.5.bn2.bias', 'net.backbone.layer3.5.bn2.running_mean', 'net.backbone.layer3.5.bn2.running_var', 'net.backbone.layer3.5.bn2.num_batches_tracked', 'net.backbone.layer3.5.conv3.weight', 'net.backbone.layer3.5.bn3.weight', 'net.backbone.layer3.5.bn3.bias', 'net.backbone.layer3.5.bn3.running_mean', 'net.backbone.layer3.5.bn3.running_var', 'net.backbone.layer3.5.bn3.num_batches_tracked', 'net.backbone.layer3.5.se.fc1.weight', 'net.backbone.layer3.5.se.fc1.bias', 'net.backbone.layer3.5.se.fc2.weight', 'net.backbone.layer3.5.se.fc2.bias', 'net.backbone.layer4.0.conv1.weight', 'net.backbone.layer4.0.bn1.weight', 'net.backbone.layer4.0.bn1.bias', 'net.backbone.layer4.0.bn1.running_mean', 'net.backbone.layer4.0.bn1.running_var', 'net.backbone.layer4.0.bn1.num_batches_tracked', 'net.backbone.layer4.0.conv2.weight', 'net.backbone.layer4.0.bn2.weight', 'net.backbone.layer4.0.bn2.bias', 'net.backbone.layer4.0.bn2.running_mean', 'net.backbone.layer4.0.bn2.running_var', 'net.backbone.layer4.0.bn2.num_batches_tracked', 'net.backbone.layer4.0.conv3.weight', 'net.backbone.layer4.0.bn3.weight', 'net.backbone.layer4.0.bn3.bias', 'net.backbone.layer4.0.bn3.running_mean', 'net.backbone.layer4.0.bn3.running_var', 'net.backbone.layer4.0.bn3.num_batches_tracked', 'net.backbone.layer4.0.se.fc1.weight', 'net.backbone.layer4.0.se.fc1.bias', 'net.backbone.layer4.0.se.fc2.weight', 'net.backbone.layer4.0.se.fc2.bias', 'net.backbone.layer4.0.downsample.0.weight', 'net.backbone.layer4.0.downsample.1.weight', 'net.backbone.layer4.0.downsample.1.bias', 'net.backbone.layer4.0.downsample.1.running_mean', 'net.backbone.layer4.0.downsample.1.running_var', 'net.backbone.layer4.0.downsample.1.num_batches_tracked', 'net.backbone.layer4.1.conv1.weight', 'net.backbone.layer4.1.bn1.weight', 'net.backbone.layer4.1.bn1.bias', 'net.backbone.layer4.1.bn1.running_mean', 'net.backbone.layer4.1.bn1.running_var', 'net.backbone.layer4.1.bn1.num_batches_tracked', 'net.backbone.layer4.1.conv2.weight', 'net.backbone.layer4.1.bn2.weight', 'net.backbone.layer4.1.bn2.bias', 'net.backbone.layer4.1.bn2.running_mean', 'net.backbone.layer4.1.bn2.running_var', 'net.backbone.layer4.1.bn2.num_batches_tracked', 'net.backbone.layer4.1.conv3.weight', 'net.backbone.layer4.1.bn3.weight', 'net.backbone.layer4.1.bn3.bias', 'net.backbone.layer4.1.bn3.running_mean', 'net.backbone.layer4.1.bn3.running_var', 'net.backbone.layer4.1.bn3.num_batches_tracked', 'net.backbone.layer4.1.se.fc1.weight', 'net.backbone.layer4.1.se.fc1.bias', 'net.backbone.layer4.1.se.fc2.weight', 'net.backbone.layer4.1.se.fc2.bias', 'net.backbone.layer4.2.conv1.weight', 'net.backbone.layer4.2.bn1.weight', 'net.backbone.layer4.2.bn1.bias', 'net.backbone.layer4.2.bn1.running_mean', 'net.backbone.layer4.2.bn1.running_var', 'net.backbone.layer4.2.bn1.num_batches_tracked', 'net.backbone.layer4.2.conv2.weight', 'net.backbone.layer4.2.bn2.weight', 'net.backbone.layer4.2.bn2.bias', 'net.backbone.layer4.2.bn2.running_mean', 'net.backbone.layer4.2.bn2.running_var', 'net.backbone.layer4.2.bn2.num_batches_tracked', 'net.backbone.layer4.2.conv3.weight', 'net.backbone.layer4.2.bn3.weight', 'net.backbone.layer4.2.bn3.bias', 'net.backbone.layer4.2.bn3.running_mean', 'net.backbone.layer4.2.bn3.running_var', 'net.backbone.layer4.2.bn3.num_batches_tracked', 'net.backbone.layer4.2.se.fc1.weight', 'net.backbone.layer4.2.se.fc1.bias', 'net.backbone.layer4.2.se.fc2.weight', 'net.backbone.layer4.2.se.fc2.bias', 'net.head.classifier.weight', 'net.head.classifier.bias'])"
      ]
     },
     "execution_count": 23,
     "metadata": {},
     "output_type": "execute_result"
    }
   ],
   "source": [
    "ckpt[\"state_dict\"].keys()"
   ]
  },
  {
   "cell_type": "code",
   "execution_count": null,
   "id": "90d6e1e1-e752-4d71-9cea-08c199728968",
   "metadata": {},
   "outputs": [],
   "source": []
  }
 ],
 "metadata": {
  "kernelspec": {
   "display_name": "Python 3 (ipykernel)",
   "language": "python",
   "name": "python3"
  },
  "language_info": {
   "codemirror_mode": {
    "name": "ipython",
    "version": 3
   },
   "file_extension": ".py",
   "mimetype": "text/x-python",
   "name": "python",
   "nbconvert_exporter": "python",
   "pygments_lexer": "ipython3",
   "version": "3.8.13"
  }
 },
 "nbformat": 4,
 "nbformat_minor": 5
}
