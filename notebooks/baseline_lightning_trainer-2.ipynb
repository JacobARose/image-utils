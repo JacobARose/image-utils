{
 "cells": [
  {
   "cell_type": "markdown",
   "id": "d6d4a8cd-4e6d-4cc0-bc55-dedc99912842",
   "metadata": {},
   "source": [
    "## baseline lightning trainer notebook\n",
    "\n",
    "Created on: Wednesday March 16th, 2022  \n",
    "Created by: Jacob Alexander Rose  "
   ]
  },
  {
   "cell_type": "code",
   "execution_count": null,
   "id": "82ebeb20-8ccb-473d-a757-6546d7d4a37a",
   "metadata": {},
   "outputs": [],
   "source": []
  },
  {
   "cell_type": "code",
   "execution_count": 1,
   "id": "b62b89ee-a099-4a23-944e-a0939924676c",
   "metadata": {},
   "outputs": [
    {
     "name": "stdout",
     "output_type": "stream",
     "text": [
      "Importing imutils\n"
     ]
    }
   ],
   "source": [
    "%load_ext autoreload\n",
    "%autoreload 2\n",
    "\n",
    "import os\n",
    "\n",
    "os.environ[\"CUDA_VISIBLE_DEVICES\"] = \"7\"\n",
    "\n",
    "\n",
    "from IPython.display import display\n",
    "from IPython.core.interactiveshell import InteractiveShell\n",
    "InteractiveShell.ast_node_interactivity = \"all\"\n",
    "\n",
    "\n",
    "import pandas as pd\n",
    "from pathlib import Path\n",
    "from icecream import ic\n",
    "from rich import print as pp\n",
    "import warnings\n",
    "warnings.simplefilter(action='ignore', category=FutureWarning)\n",
    "\n",
    "# from imutils.big.datamodule import Herbarium2022DataModule, Herbarium2022Dataset\n",
    "from imutils.ml.data.datamodule import Herbarium2022DataModule, Herbarium2022Dataset\n",
    "from imutils.ml.utils.etl_utils import ETL\n",
    "\n",
    "import pytorch_lightning as pl\n",
    "from torchvision import transforms as T\n",
    "import argparse\n",
    "import imutils\n",
    "from hydra.experimental import compose, initialize, initialize_config_dir\n",
    "import hydra\n",
    "from omegaconf import DictConfig, OmegaConf\n",
    "from typing import *\n",
    "default_reader = None\n",
    "import torchmetrics\n",
    "\n",
    "from imutils.ml.models.pl import classifier\n",
    "\n",
    "from imutils.ml.utils.experiment_utils import configure_callbacks, configure_loggers, configure_trainer\n",
    "\n",
    "\n",
    "import wandb\n",
    "import os\n",
    "from pathlib import Path\n",
    "os.environ[\"CUDA_VISIBLE_DEVICES\"] = \"6,7\"\n",
    "# api = wandb.Api()\n",
    "# run = api.run(\"jrose/herbarium2022/37r673ke\")\n",
    "import imutils\n",
    "from imutils.ml.utils.etl_utils import ETL\n",
    "from omegaconf import DictConfig, OmegaConf\n",
    "\n",
    "from rich import print as pp"
   ]
  },
  {
   "cell_type": "markdown",
   "id": "992de5cd-852d-4923-9db3-c6d8f05a1f8c",
   "metadata": {},
   "source": [
    "## Load test config"
   ]
  },
  {
   "cell_type": "code",
   "execution_count": 3,
   "id": "41d2f649-f547-4027-bd8c-1206677a5a4a",
   "metadata": {},
   "outputs": [
    {
     "name": "stdout",
     "output_type": "stream",
     "text": [
      "/media/data_cifs/projects/prj_fossils/users/jacob/github/image-utils/imutils/ml/conf base_conf.yaml\n",
      "name 'HydraConfig' is not defined\n",
      "/media/data_cifs/projects/prj_fossils/users/jacob/experiments/2022/herbarium2022\n"
     ]
    }
   ],
   "source": [
    "config_path = os.path.dirname(imutils.ml.BASE_ML_CONF_PATH)\n",
    "config_name = os.path.basename(imutils.ml.BASE_ML_CONF_PATH)\n",
    "\n",
    "print(config_path, config_name)\n",
    "\n",
    "cfg = ETL.init_structured_config(config_name = config_name,\n",
    "                                 config_path = config_path,\n",
    "                                 job_name = \"demo\",\n",
    "                                 dataclass_type= None,\n",
    "                                 overrides = [\"data.datamodule.num_workers=4\",\n",
    "                                              \"data/datamodule@data=herbarium2022-res_512_datamodule\",\n",
    "                                              \"train.pl_trainer.accelerator=gpu\",\n",
    "                                              \"model_cfg.backbone.name=resnext50_32x4d\",\n",
    "                                              \"+train.pl_trainer.limit_train_batches=2\",\n",
    "                                              \"hp.batch_size=16\",\n",
    "                                              \"hp.resolution=224\",\n",
    "                                              \"+train.pl_trainer.limit_val_batches=2\",\n",
    "                                              \"train.pl_trainer.log_every_n_steps=10\",\n",
    "                                              \"train.pl_trainer.devices=1\",\n",
    "                                              \"train.pl_trainer.strategy=null\",\n",
    "                                              # 'model_cfg/loss=class-balanced-ce-loss',\n",
    "                                              # \"model_cfg.loss.beta=0.99\",\n",
    "                                              \"data.datamodule.transform_cfg.skip_augmentations=true\"],\n",
    "                                 cfg = None)\n",
    "\n",
    "OmegaConf.set_struct(cfg, False)\n",
    "# Hydra run directory\n",
    "try:\n",
    "    hydra_dir = Path(HydraConfig.get().run.dir)\n",
    "except Exception as e:\n",
    "    print(e)\n",
    "    hydra_dir = os.getcwd()\n",
    "\n",
    "\n",
    "hydra_dir = cfg.core.experiments_root_dir #\"/media/data/jacob/GitHub/image-utils/imutils/ml/hydra_experiments/2022-03-24/07-35-17\"\n",
    "\n",
    "\n",
    "if not cfg.get(\"hydra\"):\n",
    "    cfg.update({\"hydra\":{\"run\":{\"dir\":hydra_dir}},\n",
    "                \"run_output_dir\":hydra_dir})\n",
    "    print(cfg.hydra.run.dir)\n",
    "\n",
    "# print(OmegaConf.to_yaml(cfg.hydra))#, resolve=True, sort_keys=True))\n",
    "# pp(OmegaConf.to_container(cfg, resolve=True))"
   ]
  },
  {
   "cell_type": "code",
   "execution_count": 4,
   "id": "ca875d5f-57fa-447e-b774-b6b0e943c23f",
   "metadata": {},
   "outputs": [
    {
     "name": "stdout",
     "output_type": "stream",
     "text": [
      "self.transform_cfg:\n"
     ]
    },
    {
     "data": {
      "text/html": [
       "<pre style=\"white-space:pre;overflow-x:auto;line-height:normal;font-family:Menlo,'DejaVu Sans Mono',consolas,'Courier New',monospace\"><span style=\"font-weight: bold\">{</span><span style=\"color: #008000; text-decoration-color: #008000\">'preprocess'</span>: <span style=\"font-weight: bold\">{</span><span style=\"color: #008000; text-decoration-color: #008000\">'train'</span>: <span style=\"font-weight: bold\">{</span><span style=\"color: #008000; text-decoration-color: #008000\">'resize'</span>: <span style=\"color: #008080; text-decoration-color: #008080; font-weight: bold\">256</span><span style=\"font-weight: bold\">}</span>, <span style=\"color: #008000; text-decoration-color: #008000\">'val'</span>: <span style=\"font-weight: bold\">{</span><span style=\"color: #008000; text-decoration-color: #008000\">'resize'</span>: <span style=\"color: #008080; text-decoration-color: #008080; font-weight: bold\">256</span><span style=\"font-weight: bold\">}</span>, <span style=\"color: #008000; text-decoration-color: #008000\">'test'</span>: <span style=\"font-weight: bold\">{</span><span style=\"color: #008000; text-decoration-color: #008000\">'resize'</span>: <span style=\"color: #008080; text-decoration-color: #008080; font-weight: bold\">256</span><span style=\"font-weight: bold\">}}</span>, \n",
       "<span style=\"color: #008000; text-decoration-color: #008000\">'batch_transform'</span>: <span style=\"font-weight: bold\">{</span><span style=\"color: #008000; text-decoration-color: #008000\">'train'</span>: <span style=\"font-weight: bold\">{</span><span style=\"color: #008000; text-decoration-color: #008000\">'random_resize_crop'</span>: <span style=\"color: #008080; text-decoration-color: #008080; font-weight: bold\">224</span><span style=\"font-weight: bold\">}</span>, <span style=\"color: #008000; text-decoration-color: #008000\">'val'</span>: <span style=\"font-weight: bold\">{</span><span style=\"color: #008000; text-decoration-color: #008000\">'center_crop'</span>: <span style=\"color: #008080; text-decoration-color: #008080; font-weight: bold\">224</span><span style=\"font-weight: bold\">}</span>, \n",
       "<span style=\"color: #008000; text-decoration-color: #008000\">'test'</span>: <span style=\"font-weight: bold\">{</span><span style=\"color: #008000; text-decoration-color: #008000\">'center_crop'</span>: <span style=\"color: #008080; text-decoration-color: #008080; font-weight: bold\">224</span><span style=\"font-weight: bold\">}</span>, <span style=\"color: #008000; text-decoration-color: #008000\">'random_flips'</span>: <span style=\"color: #ff0000; text-decoration-color: #ff0000; font-style: italic\">False</span><span style=\"font-weight: bold\">}</span>, <span style=\"color: #008000; text-decoration-color: #008000\">'normalize'</span>: <span style=\"font-weight: bold\">[[</span><span style=\"color: #008080; text-decoration-color: #008080; font-weight: bold\">0.485</span>, <span style=\"color: #008080; text-decoration-color: #008080; font-weight: bold\">0.456</span>, <span style=\"color: #008080; text-decoration-color: #008080; font-weight: bold\">0.406</span><span style=\"font-weight: bold\">]</span>, \n",
       "<span style=\"font-weight: bold\">[</span><span style=\"color: #008080; text-decoration-color: #008080; font-weight: bold\">0.229</span>, <span style=\"color: #008080; text-decoration-color: #008080; font-weight: bold\">0.224</span>, <span style=\"color: #008080; text-decoration-color: #008080; font-weight: bold\">0.225</span><span style=\"font-weight: bold\">]]</span>, <span style=\"color: #008000; text-decoration-color: #008000\">'preprocess_size'</span>: <span style=\"color: #008080; text-decoration-color: #008080; font-weight: bold\">256</span>, <span style=\"color: #008000; text-decoration-color: #008000\">'resolution'</span>: <span style=\"color: #008080; text-decoration-color: #008080; font-weight: bold\">224</span>, <span style=\"color: #008000; text-decoration-color: #008000\">'skip_augmentations'</span>: \n",
       "<span style=\"color: #00ff00; text-decoration-color: #00ff00; font-style: italic\">True</span><span style=\"font-weight: bold\">}</span>\n",
       "</pre>\n"
      ],
      "text/plain": [
       "\u001b[1m{\u001b[0m\u001b[32m'preprocess'\u001b[0m: \u001b[1m{\u001b[0m\u001b[32m'train'\u001b[0m: \u001b[1m{\u001b[0m\u001b[32m'resize'\u001b[0m: \u001b[1;36m256\u001b[0m\u001b[1m}\u001b[0m, \u001b[32m'val'\u001b[0m: \u001b[1m{\u001b[0m\u001b[32m'resize'\u001b[0m: \u001b[1;36m256\u001b[0m\u001b[1m}\u001b[0m, \u001b[32m'test'\u001b[0m: \u001b[1m{\u001b[0m\u001b[32m'resize'\u001b[0m: \u001b[1;36m256\u001b[0m\u001b[1m}\u001b[0m\u001b[1m}\u001b[0m, \n",
       "\u001b[32m'batch_transform'\u001b[0m: \u001b[1m{\u001b[0m\u001b[32m'train'\u001b[0m: \u001b[1m{\u001b[0m\u001b[32m'random_resize_crop'\u001b[0m: \u001b[1;36m224\u001b[0m\u001b[1m}\u001b[0m, \u001b[32m'val'\u001b[0m: \u001b[1m{\u001b[0m\u001b[32m'center_crop'\u001b[0m: \u001b[1;36m224\u001b[0m\u001b[1m}\u001b[0m, \n",
       "\u001b[32m'test'\u001b[0m: \u001b[1m{\u001b[0m\u001b[32m'center_crop'\u001b[0m: \u001b[1;36m224\u001b[0m\u001b[1m}\u001b[0m, \u001b[32m'random_flips'\u001b[0m: \u001b[3;91mFalse\u001b[0m\u001b[1m}\u001b[0m, \u001b[32m'normalize'\u001b[0m: \u001b[1m[\u001b[0m\u001b[1m[\u001b[0m\u001b[1;36m0.485\u001b[0m, \u001b[1;36m0.456\u001b[0m, \u001b[1;36m0.406\u001b[0m\u001b[1m]\u001b[0m, \n",
       "\u001b[1m[\u001b[0m\u001b[1;36m0.229\u001b[0m, \u001b[1;36m0.224\u001b[0m, \u001b[1;36m0.225\u001b[0m\u001b[1m]\u001b[0m\u001b[1m]\u001b[0m, \u001b[32m'preprocess_size'\u001b[0m: \u001b[1;36m256\u001b[0m, \u001b[32m'resolution'\u001b[0m: \u001b[1;36m224\u001b[0m, \u001b[32m'skip_augmentations'\u001b[0m: \n",
       "\u001b[3;92mTrue\u001b[0m\u001b[1m}\u001b[0m\n"
      ]
     },
     "metadata": {},
     "output_type": "display_data"
    },
    {
     "name": "stdout",
     "output_type": "stream",
     "text": [
      "self.normalize: [[0.485, 0.456, 0.406], [0.229, 0.224, 0.225]]\n",
      "self.normalize: [[0.485, 0.456, 0.406], [0.229, 0.224, 0.225]]\n",
      "self.normalize: [[0.485, 0.456, 0.406], [0.229, 0.224, 0.225]]\n"
     ]
    },
    {
     "name": "stderr",
     "output_type": "stream",
     "text": [
      "ic| subset: 'train'\n",
      "    num_samples: 671817\n",
      "    num_batches: 41989\n",
      "    self.num_classes: 15501\n",
      "    self.batch_size: 16\n",
      "ic| subset: 'val'\n",
      "    num_samples: 167955\n",
      "    num_batches: 10498\n",
      "    self.num_classes: 15501\n",
      "    self.batch_size: 16\n",
      "ic| subset: 'test'\n",
      "    num_samples: 210407\n",
      "    num_batches: 13151\n",
      "    self.num_classes: 15501\n",
      "    self.batch_size: 16\n"
     ]
    },
    {
     "name": "stdout",
     "output_type": "stream",
     "text": [
      "Initializing weights of the model head.\n",
      "input_size: (1, 3, 224, 224)\n"
     ]
    },
    {
     "name": "stderr",
     "output_type": "stream",
     "text": [
      "\u001b[34m\u001b[1mwandb\u001b[0m: Currently logged in as: \u001b[33mjrose\u001b[0m (use `wandb login --relogin` to force relogin)\n"
     ]
    },
    {
     "data": {
      "text/html": [
       "Tracking run with wandb version 0.12.11"
      ],
      "text/plain": [
       "<IPython.core.display.HTML object>"
      ]
     },
     "metadata": {},
     "output_type": "display_data"
    },
    {
     "data": {
      "text/html": [
       "Run data is saved locally in <code>/media/data_cifs/projects/prj_fossils/users/jacob/github/image-utils/notebooks/wandb/run-20220404_055525-3gdly7g2</code>"
      ],
      "text/plain": [
       "<IPython.core.display.HTML object>"
      ]
     },
     "metadata": {},
     "output_type": "display_data"
    },
    {
     "data": {
      "text/html": [
       "Syncing run <strong><a href=\"https://wandb.ai/jrose/herbarium2022/runs/3gdly7g2\" target=\"_blank\">herbarium2022-res512__resnext50_32x4d</a></strong> to <a href=\"https://wandb.ai/jrose/herbarium2022\" target=\"_blank\">Weights & Biases</a> (<a href=\"https://wandb.me/run\" target=\"_blank\">docs</a>)<br/>"
      ],
      "text/plain": [
       "<IPython.core.display.HTML object>"
      ]
     },
     "metadata": {},
     "output_type": "display_data"
    },
    {
     "name": "stderr",
     "output_type": "stream",
     "text": [
      "2022-04-04 05:55:31,353 imutils.ml.utils.experiment_utils INFO     Instantiating callback <imutils.ml.callbacks.wandb_callbacks.ModuleDataMonitor>\n"
     ]
    },
    {
     "name": "stdout",
     "output_type": "stream",
     "text": [
      "type(submodules):  <class 'list'>\n"
     ]
    },
    {
     "data": {
      "text/html": [
       "<pre style=\"white-space:pre;overflow-x:auto;line-height:normal;font-family:Menlo,'DejaVu Sans Mono',consolas,'Courier New',monospace\"><span style=\"font-weight: bold\">{</span>\n",
       "    <span style=\"color: #008000; text-decoration-color: #008000\">'_target_'</span>: <span style=\"color: #008000; text-decoration-color: #008000\">'pytorch_lightning.Trainer'</span>,\n",
       "    <span style=\"color: #008000; text-decoration-color: #008000\">'fast_dev_run'</span>: <span style=\"color: #ff0000; text-decoration-color: #ff0000; font-style: italic\">False</span>,\n",
       "    <span style=\"color: #008000; text-decoration-color: #008000\">'accelerator'</span>: <span style=\"color: #008000; text-decoration-color: #008000\">'gpu'</span>,\n",
       "    <span style=\"color: #008000; text-decoration-color: #008000\">'devices'</span>: <span style=\"color: #008080; text-decoration-color: #008080; font-weight: bold\">1</span>,\n",
       "    <span style=\"color: #008000; text-decoration-color: #008000\">'precision'</span>: <span style=\"color: #008080; text-decoration-color: #008080; font-weight: bold\">16</span>,\n",
       "    <span style=\"color: #008000; text-decoration-color: #008000\">'enable_model_summary'</span>: <span style=\"color: #00ff00; text-decoration-color: #00ff00; font-style: italic\">True</span>,\n",
       "    <span style=\"color: #008000; text-decoration-color: #008000\">'log_every_n_steps'</span>: <span style=\"color: #008080; text-decoration-color: #008080; font-weight: bold\">10</span>,\n",
       "    <span style=\"color: #008000; text-decoration-color: #008000\">'max_epochs'</span>: <span style=\"color: #008000; text-decoration-color: #008000\">'${hp.max_epochs}'</span>,\n",
       "    <span style=\"color: #008000; text-decoration-color: #008000\">'accumulate_grad_batches'</span>: <span style=\"color: #008080; text-decoration-color: #008080; font-weight: bold\">1</span>,\n",
       "    <span style=\"color: #008000; text-decoration-color: #008000\">'strategy'</span>: <span style=\"color: #800080; text-decoration-color: #800080; font-style: italic\">None</span>,\n",
       "    <span style=\"color: #008000; text-decoration-color: #008000\">'limit_train_batches'</span>: <span style=\"color: #008080; text-decoration-color: #008080; font-weight: bold\">2</span>,\n",
       "    <span style=\"color: #008000; text-decoration-color: #008000\">'limit_val_batches'</span>: <span style=\"color: #008080; text-decoration-color: #008080; font-weight: bold\">8</span>\n",
       "<span style=\"font-weight: bold\">}</span>\n",
       "</pre>\n"
      ],
      "text/plain": [
       "\u001b[1m{\u001b[0m\n",
       "    \u001b[32m'_target_'\u001b[0m: \u001b[32m'pytorch_lightning.Trainer'\u001b[0m,\n",
       "    \u001b[32m'fast_dev_run'\u001b[0m: \u001b[3;91mFalse\u001b[0m,\n",
       "    \u001b[32m'accelerator'\u001b[0m: \u001b[32m'gpu'\u001b[0m,\n",
       "    \u001b[32m'devices'\u001b[0m: \u001b[1;36m1\u001b[0m,\n",
       "    \u001b[32m'precision'\u001b[0m: \u001b[1;36m16\u001b[0m,\n",
       "    \u001b[32m'enable_model_summary'\u001b[0m: \u001b[3;92mTrue\u001b[0m,\n",
       "    \u001b[32m'log_every_n_steps'\u001b[0m: \u001b[1;36m10\u001b[0m,\n",
       "    \u001b[32m'max_epochs'\u001b[0m: \u001b[32m'$\u001b[0m\u001b[32m{\u001b[0m\u001b[32mhp.max_epochs\u001b[0m\u001b[32m}\u001b[0m\u001b[32m'\u001b[0m,\n",
       "    \u001b[32m'accumulate_grad_batches'\u001b[0m: \u001b[1;36m1\u001b[0m,\n",
       "    \u001b[32m'strategy'\u001b[0m: \u001b[3;35mNone\u001b[0m,\n",
       "    \u001b[32m'limit_train_batches'\u001b[0m: \u001b[1;36m2\u001b[0m,\n",
       "    \u001b[32m'limit_val_batches'\u001b[0m: \u001b[1;36m8\u001b[0m\n",
       "\u001b[1m}\u001b[0m\n"
      ]
     },
     "metadata": {},
     "output_type": "display_data"
    },
    {
     "name": "stderr",
     "output_type": "stream",
     "text": [
      "Using 16bit native Automatic Mixed Precision (AMP)\n",
      "GPU available: True, used: True\n",
      "TPU available: False, using: 0 TPU cores\n",
      "IPU available: False, using: 0 IPUs\n",
      "HPU available: False, using: 0 HPUs\n"
     ]
    }
   ],
   "source": [
    "from imutils.ml.utils.experiment_utils import (configure_callbacks,\n",
    "                                               configure_loggers,\n",
    "                                               configure_trainer,\n",
    "                                               configure_loss_func)\n",
    "import hydra\n",
    "if cfg.execution_list.model_fit:\n",
    "\n",
    "    hydra.utils.log.info(f\"Executing train stage: model_fit\")\n",
    "\n",
    "    hydra.utils.log.info(f\"Instantiating <{cfg.data.datamodule._target_}>\")\n",
    "    datamodule = hydra.utils.instantiate(\n",
    "        cfg.data.datamodule, _recursive_=False\n",
    "    )\n",
    "    datamodule.setup()\n",
    "\n",
    "    loss_func = configure_loss_func(cfg, targets=datamodule.train_dataset.df.y)\n",
    "\n",
    "# logging.warning(\"1. Before model, before trainer\")\n",
    "hydra.utils.log.info(f\"Instantiating <{cfg.model_cfg._target_}>\")\n",
    "# model: pl.LightningModule = hydra.utils.instantiate(cfg.model, cfg=cfg, _recursive_=False)\n",
    "model = imutils.ml.models.pl.classifier.LitClassifier(cfg=cfg, #model_cfg=cfg.model_cfg,\n",
    "                                                      loss_func=cfg.model_cfg.loss)\n",
    "\n",
    "# logging.warning(\"2. After model, before trainer\")\n",
    "# ic(torch.cuda.current_device())\t\n",
    "# ic(torch.cuda.get_device_name(0))\n",
    "wandb_logger = configure_loggers(cfg=cfg, model=model)\n",
    "callbacks: List[pl.Callback] = configure_callbacks(cfg=cfg.train)\t\n",
    "hydra.utils.log.info(f\"Instantiating the Trainer\")\n",
    "pp(OmegaConf.to_container(cfg.train.pl_trainer))\n",
    "trainer = configure_trainer(cfg,\n",
    "                            callbacks=callbacks,\n",
    "                            logger=wandb_logger)\n",
    "# logging.warning(\"3. After model, after trainer, before fit\")\n",
    "# ic(torch.cuda.current_device())\n",
    "num_samples = len(datamodule.train_dataset)\n",
    "num_classes = cfg.model_cfg.head.num_classes\n",
    "batch_size = datamodule.batch_size #[\"train\"]\n",
    "hydra.utils.log.info(\"Starting training with {} classes across {} images in batches of {} images each.\".format(\n",
    "    num_classes,\n",
    "    num_samples,\n",
    "    batch_size))"
   ]
  },
  {
   "cell_type": "code",
   "execution_count": 5,
   "id": "2cbd0808-0f35-46e5-bd50-fd5c0a56afb3",
   "metadata": {
    "scrolled": true,
    "tags": []
   },
   "outputs": [
    {
     "data": {
      "text/html": [
       "<pre style=\"white-space:pre;overflow-x:auto;line-height:normal;font-family:Menlo,'DejaVu Sans Mono',consolas,'Courier New',monospace\"><span style=\"font-weight: bold\">{</span>\n",
       "    <span style=\"color: #008000; text-decoration-color: #008000\">'core'</span>: <span style=\"font-weight: bold\">{</span>\n",
       "        <span style=\"color: #008000; text-decoration-color: #008000\">'name'</span>: <span style=\"color: #008000; text-decoration-color: #008000\">'herbarium2022-res512__resnext50_32x4d'</span>,\n",
       "        <span style=\"color: #008000; text-decoration-color: #008000\">'version'</span>: <span style=\"color: #008000; text-decoration-color: #008000\">'0.0.1'</span>,\n",
       "        <span style=\"color: #008000; text-decoration-color: #008000\">'experiments_root_dir'</span>: \n",
       "<span style=\"color: #008000; text-decoration-color: #008000\">'/media/data_cifs/projects/prj_fossils/users/jacob/experiments/2022/herbarium2022'</span>,\n",
       "        <span style=\"color: #008000; text-decoration-color: #008000\">'tags'</span>: <span style=\"font-weight: bold\">[</span><span style=\"color: #008000; text-decoration-color: #008000\">'herbarium2022'</span>, <span style=\"color: #008000; text-decoration-color: #008000\">'kaggle'</span><span style=\"font-weight: bold\">]</span>\n",
       "    <span style=\"font-weight: bold\">}</span>,\n",
       "    <span style=\"color: #008000; text-decoration-color: #008000\">'seed'</span>: <span style=\"color: #008080; text-decoration-color: #008080; font-weight: bold\">42</span>,\n",
       "    <span style=\"color: #008000; text-decoration-color: #008000\">'run_output_dir'</span>: \n",
       "<span style=\"color: #008000; text-decoration-color: #008000\">'/media/data_cifs/projects/prj_fossils/users/jacob/experiments/2022/herbarium2022'</span>,\n",
       "    <span style=\"color: #008000; text-decoration-color: #008000\">'checkpoint_dir'</span>: \n",
       "<span style=\"color: #008000; text-decoration-color: #008000\">'/media/data_cifs/projects/prj_fossils/users/jacob/experiments/2022/herbarium2022/ckpts'</span>,\n",
       "    <span style=\"color: #008000; text-decoration-color: #008000\">'execution_list'</span>: <span style=\"font-weight: bold\">{</span><span style=\"color: #008000; text-decoration-color: #008000\">'auto_lr_tune'</span>: <span style=\"color: #00ff00; text-decoration-color: #00ff00; font-style: italic\">True</span>, <span style=\"color: #008000; text-decoration-color: #008000\">'model_fit'</span>: <span style=\"color: #00ff00; text-decoration-color: #00ff00; font-style: italic\">True</span><span style=\"font-weight: bold\">}</span>,\n",
       "    <span style=\"color: #008000; text-decoration-color: #008000\">'hp'</span>: <span style=\"font-weight: bold\">{</span>\n",
       "        <span style=\"color: #008000; text-decoration-color: #008000\">'num_classes'</span>: <span style=\"color: #008080; text-decoration-color: #008080; font-weight: bold\">15501</span>,\n",
       "        <span style=\"color: #008000; text-decoration-color: #008000\">'batch_size'</span>: <span style=\"color: #008080; text-decoration-color: #008080; font-weight: bold\">16</span>,\n",
       "        <span style=\"color: #008000; text-decoration-color: #008000\">'preprocess_size'</span>: <span style=\"color: #008080; text-decoration-color: #008080; font-weight: bold\">256</span>,\n",
       "        <span style=\"color: #008000; text-decoration-color: #008000\">'resolution'</span>: <span style=\"color: #008080; text-decoration-color: #008080; font-weight: bold\">224</span>,\n",
       "        <span style=\"color: #008000; text-decoration-color: #008000\">'num_channels'</span>: <span style=\"color: #008080; text-decoration-color: #008080; font-weight: bold\">3</span>,\n",
       "        <span style=\"color: #008000; text-decoration-color: #008000\">'warmup_epochs'</span>: <span style=\"color: #008080; text-decoration-color: #008080; font-weight: bold\">3</span>,\n",
       "        <span style=\"color: #008000; text-decoration-color: #008000\">'max_epochs'</span>: <span style=\"color: #008080; text-decoration-color: #008080; font-weight: bold\">30</span>,\n",
       "        <span style=\"color: #008000; text-decoration-color: #008000\">'lr'</span>: <span style=\"color: #008080; text-decoration-color: #008080; font-weight: bold\">0.001</span>,\n",
       "        <span style=\"color: #008000; text-decoration-color: #008000\">'freeze_backbone'</span>: <span style=\"color: #ff0000; text-decoration-color: #ff0000; font-style: italic\">False</span>,\n",
       "        <span style=\"color: #008000; text-decoration-color: #008000\">'freeze_backbone_up_to'</span>: <span style=\"color: #008080; text-decoration-color: #008080; font-weight: bold\">-1</span>\n",
       "    <span style=\"font-weight: bold\">}</span>,\n",
       "    <span style=\"color: #008000; text-decoration-color: #008000\">'optim'</span>: <span style=\"font-weight: bold\">{</span>\n",
       "        <span style=\"color: #008000; text-decoration-color: #008000\">'optimizer'</span>: <span style=\"font-weight: bold\">{</span>\n",
       "            <span style=\"color: #008000; text-decoration-color: #008000\">'_target_'</span>: <span style=\"color: #008000; text-decoration-color: #008000\">'torch.optim.Adam'</span>,\n",
       "            <span style=\"color: #008000; text-decoration-color: #008000\">'lr'</span>: <span style=\"color: #008080; text-decoration-color: #008080; font-weight: bold\">0.001</span>,\n",
       "            <span style=\"color: #008000; text-decoration-color: #008000\">'betas'</span>: <span style=\"font-weight: bold\">[</span><span style=\"color: #008080; text-decoration-color: #008080; font-weight: bold\">0.9</span>, <span style=\"color: #008080; text-decoration-color: #008080; font-weight: bold\">0.999</span><span style=\"font-weight: bold\">]</span>,\n",
       "            <span style=\"color: #008000; text-decoration-color: #008000\">'eps'</span>: <span style=\"color: #008080; text-decoration-color: #008080; font-weight: bold\">1e-08</span>,\n",
       "            <span style=\"color: #008000; text-decoration-color: #008000\">'weight_decay'</span>: <span style=\"color: #008080; text-decoration-color: #008080; font-weight: bold\">0.0</span>\n",
       "        <span style=\"font-weight: bold\">}</span>,\n",
       "        <span style=\"color: #008000; text-decoration-color: #008000\">'exclude_bn_bias'</span>: <span style=\"color: #00ff00; text-decoration-color: #00ff00; font-style: italic\">True</span>,\n",
       "        <span style=\"color: #008000; text-decoration-color: #008000\">'use_lr_scheduler'</span>: <span style=\"color: #00ff00; text-decoration-color: #00ff00; font-style: italic\">True</span>,\n",
       "        <span style=\"color: #008000; text-decoration-color: #008000\">'lr_scheduler'</span>: <span style=\"font-weight: bold\">{</span>\n",
       "            <span style=\"color: #008000; text-decoration-color: #008000\">'_target_'</span>: <span style=\"color: #008000; text-decoration-color: #008000\">'pl_bolts.optimizers.lr_scheduler.LinearWarmupCosineAnnealingLR'</span>,\n",
       "            <span style=\"color: #008000; text-decoration-color: #008000\">'warmup_epochs'</span>: <span style=\"color: #008080; text-decoration-color: #008080; font-weight: bold\">3</span>,\n",
       "            <span style=\"color: #008000; text-decoration-color: #008000\">'max_epochs'</span>: <span style=\"color: #008080; text-decoration-color: #008080; font-weight: bold\">30</span>,\n",
       "            <span style=\"color: #008000; text-decoration-color: #008000\">'warmup_start_lr'</span>: <span style=\"color: #008080; text-decoration-color: #008080; font-weight: bold\">0.0001</span>,\n",
       "            <span style=\"color: #008000; text-decoration-color: #008000\">'eta_min'</span>: <span style=\"color: #008080; text-decoration-color: #008080; font-weight: bold\">1e-06</span>,\n",
       "            <span style=\"color: #008000; text-decoration-color: #008000\">'last_epoch'</span>: <span style=\"color: #008080; text-decoration-color: #008080; font-weight: bold\">-1</span>\n",
       "        <span style=\"font-weight: bold\">}</span>\n",
       "    <span style=\"font-weight: bold\">}</span>,\n",
       "    <span style=\"color: #008000; text-decoration-color: #008000\">'logging'</span>: <span style=\"font-weight: bold\">{</span>\n",
       "        <span style=\"color: #008000; text-decoration-color: #008000\">'log_model_summary'</span>: <span style=\"color: #00ff00; text-decoration-color: #00ff00; font-style: italic\">True</span>,\n",
       "        <span style=\"color: #008000; text-decoration-color: #008000\">'log_dataset_summary'</span>: <span style=\"color: #00ff00; text-decoration-color: #00ff00; font-style: italic\">True</span>,\n",
       "        <span style=\"color: #008000; text-decoration-color: #008000\">'n_elements_to_log'</span>: <span style=\"color: #008080; text-decoration-color: #008080; font-weight: bold\">32</span>,\n",
       "        <span style=\"color: #008000; text-decoration-color: #008000\">'normalize_visualization'</span>: <span style=\"color: #00ff00; text-decoration-color: #00ff00; font-style: italic\">True</span>,\n",
       "        <span style=\"color: #008000; text-decoration-color: #008000\">'val_check_interval'</span>: <span style=\"color: #008080; text-decoration-color: #008080; font-weight: bold\">1.0</span>,\n",
       "        <span style=\"color: #008000; text-decoration-color: #008000\">'progress_bar_refresh_rate'</span>: <span style=\"color: #008080; text-decoration-color: #008080; font-weight: bold\">20</span>,\n",
       "        <span style=\"color: #008000; text-decoration-color: #008000\">'wandb'</span>: <span style=\"font-weight: bold\">{</span>\n",
       "            <span style=\"color: #008000; text-decoration-color: #008000\">'project'</span>: <span style=\"color: #008000; text-decoration-color: #008000\">'herbarium2022'</span>,\n",
       "            <span style=\"color: #008000; text-decoration-color: #008000\">'entity'</span>: <span style=\"color: #008000; text-decoration-color: #008000\">'jrose'</span>,\n",
       "            <span style=\"color: #008000; text-decoration-color: #008000\">'name'</span>: <span style=\"color: #008000; text-decoration-color: #008000\">'herbarium2022-res512__resnext50_32x4d'</span>,\n",
       "            <span style=\"color: #008000; text-decoration-color: #008000\">'log_model'</span>: <span style=\"color: #00ff00; text-decoration-color: #00ff00; font-style: italic\">True</span>,\n",
       "            <span style=\"color: #008000; text-decoration-color: #008000\">'tags'</span>: <span style=\"font-weight: bold\">[</span><span style=\"color: #008000; text-decoration-color: #008000\">'herbarium2022'</span>, <span style=\"color: #008000; text-decoration-color: #008000\">'kaggle'</span><span style=\"font-weight: bold\">]</span>\n",
       "        <span style=\"font-weight: bold\">}</span>\n",
       "    <span style=\"font-weight: bold\">}</span>,\n",
       "    <span style=\"color: #008000; text-decoration-color: #008000\">'pretrain'</span>: <span style=\"font-weight: bold\">{</span>\n",
       "        <span style=\"color: #008000; text-decoration-color: #008000\">'lr_tuner'</span>: <span style=\"font-weight: bold\">{</span>\n",
       "            <span style=\"color: #008000; text-decoration-color: #008000\">'hparams_path'</span>: <span style=\"color: #008000; text-decoration-color: #008000\">'/media/data_cifs/projects/prj_fossils/users/jacob/experiments/20</span>\n",
       "<span style=\"color: #008000; text-decoration-color: #008000\">22/herbarium2022/pretrain/lr_tuner_hparams.yaml'</span>,\n",
       "            <span style=\"color: #008000; text-decoration-color: #008000\">'tuner'</span>: <span style=\"font-weight: bold\">{</span>\n",
       "                <span style=\"color: #008000; text-decoration-color: #008000\">'min_lr'</span>: <span style=\"color: #008080; text-decoration-color: #008080; font-weight: bold\">1e-08</span>,\n",
       "                <span style=\"color: #008000; text-decoration-color: #008000\">'max_lr'</span>: <span style=\"color: #008080; text-decoration-color: #008080; font-weight: bold\">1.0</span>,\n",
       "                <span style=\"color: #008000; text-decoration-color: #008000\">'num_training'</span>: <span style=\"color: #008080; text-decoration-color: #008080; font-weight: bold\">100</span>,\n",
       "                <span style=\"color: #008000; text-decoration-color: #008000\">'mode'</span>: <span style=\"color: #008000; text-decoration-color: #008000\">'exponential'</span>,\n",
       "                <span style=\"color: #008000; text-decoration-color: #008000\">'early_stop_threshold'</span>: <span style=\"color: #008080; text-decoration-color: #008080; font-weight: bold\">10.0</span>\n",
       "            <span style=\"font-weight: bold\">}</span>,\n",
       "            <span style=\"color: #008000; text-decoration-color: #008000\">'pl_trainer'</span>: <span style=\"font-weight: bold\">{</span>\n",
       "                <span style=\"color: #008000; text-decoration-color: #008000\">'_target_'</span>: <span style=\"color: #008000; text-decoration-color: #008000\">'pytorch_lightning.Trainer'</span>,\n",
       "                <span style=\"color: #008000; text-decoration-color: #008000\">'precision'</span>: <span style=\"color: #008080; text-decoration-color: #008080; font-weight: bold\">16</span>,\n",
       "                <span style=\"color: #008000; text-decoration-color: #008000\">'enable_progress_bar'</span>: <span style=\"color: #00ff00; text-decoration-color: #00ff00; font-style: italic\">True</span>,\n",
       "                <span style=\"color: #008000; text-decoration-color: #008000\">'devices'</span>: <span style=\"color: #008080; text-decoration-color: #008080; font-weight: bold\">1</span>,\n",
       "                <span style=\"color: #008000; text-decoration-color: #008000\">'accelerator'</span>: <span style=\"color: #008000; text-decoration-color: #008000\">'gpu'</span>,\n",
       "                <span style=\"color: #008000; text-decoration-color: #008000\">'deterministic'</span>: <span style=\"color: #00ff00; text-decoration-color: #00ff00; font-style: italic\">True</span>,\n",
       "                <span style=\"color: #008000; text-decoration-color: #008000\">'benchmark'</span>: <span style=\"color: #00ff00; text-decoration-color: #00ff00; font-style: italic\">True</span>,\n",
       "                <span style=\"color: #008000; text-decoration-color: #008000\">'auto_select_gpus'</span>: <span style=\"color: #00ff00; text-decoration-color: #00ff00; font-style: italic\">True</span>,\n",
       "                <span style=\"color: #008000; text-decoration-color: #008000\">'auto_lr_find'</span>: <span style=\"color: #00ff00; text-decoration-color: #00ff00; font-style: italic\">True</span>\n",
       "            <span style=\"font-weight: bold\">}</span>\n",
       "        <span style=\"font-weight: bold\">}</span>\n",
       "    <span style=\"font-weight: bold\">}</span>,\n",
       "    <span style=\"color: #008000; text-decoration-color: #008000\">'data'</span>: <span style=\"font-weight: bold\">{</span>\n",
       "        <span style=\"color: #008000; text-decoration-color: #008000\">'datamodule'</span>: <span style=\"font-weight: bold\">{</span>\n",
       "            <span style=\"color: #008000; text-decoration-color: #008000\">'_target_'</span>: <span style=\"color: #008000; text-decoration-color: #008000\">'imutils.ml.data.datamodule.Herbarium2022DataModule'</span>,\n",
       "            <span style=\"color: #008000; text-decoration-color: #008000\">'name'</span>: <span style=\"color: #008000; text-decoration-color: #008000\">'herbarium2022-res512'</span>,\n",
       "            <span style=\"color: #008000; text-decoration-color: #008000\">'catalog_dir'</span>: <span style=\"color: #008000; text-decoration-color: #008000\">'/media/data_cifs/projects/prj_fossils/data/raw_data/herbarium-202</span>\n",
       "<span style=\"color: #008000; text-decoration-color: #008000\">2-fgvc9_resize-512/catalogs'</span>,\n",
       "            <span style=\"color: #008000; text-decoration-color: #008000\">'label_col'</span>: <span style=\"color: #008000; text-decoration-color: #008000\">'scientificName'</span>,\n",
       "            <span style=\"color: #008000; text-decoration-color: #008000\">'train_size'</span>: <span style=\"color: #008080; text-decoration-color: #008080; font-weight: bold\">0.8</span>,\n",
       "            <span style=\"color: #008000; text-decoration-color: #008000\">'shuffle'</span>: <span style=\"color: #00ff00; text-decoration-color: #00ff00; font-style: italic\">True</span>,\n",
       "            <span style=\"color: #008000; text-decoration-color: #008000\">'seed'</span>: <span style=\"color: #008080; text-decoration-color: #008080; font-weight: bold\">14</span>,\n",
       "            <span style=\"color: #008000; text-decoration-color: #008000\">'batch_size'</span>: <span style=\"color: #008080; text-decoration-color: #008080; font-weight: bold\">16</span>,\n",
       "            <span style=\"color: #008000; text-decoration-color: #008000\">'num_workers'</span>: <span style=\"color: #008080; text-decoration-color: #008080; font-weight: bold\">4</span>,\n",
       "            <span style=\"color: #008000; text-decoration-color: #008000\">'pin_memory'</span>: <span style=\"color: #00ff00; text-decoration-color: #00ff00; font-style: italic\">True</span>,\n",
       "            <span style=\"color: #008000; text-decoration-color: #008000\">'persistent_workers'</span>: <span style=\"color: #ff0000; text-decoration-color: #ff0000; font-style: italic\">False</span>,\n",
       "            <span style=\"color: #008000; text-decoration-color: #008000\">'transform_cfg'</span>: <span style=\"font-weight: bold\">{</span>\n",
       "                <span style=\"color: #008000; text-decoration-color: #008000\">'preprocess_size'</span>: <span style=\"color: #008080; text-decoration-color: #008080; font-weight: bold\">256</span>,\n",
       "                <span style=\"color: #008000; text-decoration-color: #008000\">'resolution'</span>: <span style=\"color: #008080; text-decoration-color: #008080; font-weight: bold\">224</span>,\n",
       "                <span style=\"color: #008000; text-decoration-color: #008000\">'preprocess'</span>: <span style=\"font-weight: bold\">{</span>\n",
       "                    <span style=\"color: #008000; text-decoration-color: #008000\">'train'</span>: <span style=\"font-weight: bold\">{</span><span style=\"color: #008000; text-decoration-color: #008000\">'resize'</span>: <span style=\"color: #008080; text-decoration-color: #008080; font-weight: bold\">256</span><span style=\"font-weight: bold\">}</span>,\n",
       "                    <span style=\"color: #008000; text-decoration-color: #008000\">'val'</span>: <span style=\"font-weight: bold\">{</span><span style=\"color: #008000; text-decoration-color: #008000\">'resize'</span>: <span style=\"color: #008080; text-decoration-color: #008080; font-weight: bold\">256</span><span style=\"font-weight: bold\">}</span>,\n",
       "                    <span style=\"color: #008000; text-decoration-color: #008000\">'test'</span>: <span style=\"font-weight: bold\">{</span><span style=\"color: #008000; text-decoration-color: #008000\">'resize'</span>: <span style=\"color: #008080; text-decoration-color: #008080; font-weight: bold\">256</span><span style=\"font-weight: bold\">}</span>\n",
       "                <span style=\"font-weight: bold\">}</span>,\n",
       "                <span style=\"color: #008000; text-decoration-color: #008000\">'batch_transform'</span>: <span style=\"font-weight: bold\">{</span>\n",
       "                    <span style=\"color: #008000; text-decoration-color: #008000\">'random_flips'</span>: <span style=\"color: #ff0000; text-decoration-color: #ff0000; font-style: italic\">False</span>,\n",
       "                    <span style=\"color: #008000; text-decoration-color: #008000\">'train'</span>: <span style=\"font-weight: bold\">{</span><span style=\"color: #008000; text-decoration-color: #008000\">'random_resize_crop'</span>: <span style=\"color: #008080; text-decoration-color: #008080; font-weight: bold\">224</span><span style=\"font-weight: bold\">}</span>,\n",
       "                    <span style=\"color: #008000; text-decoration-color: #008000\">'val'</span>: <span style=\"font-weight: bold\">{</span><span style=\"color: #008000; text-decoration-color: #008000\">'center_crop'</span>: <span style=\"color: #008080; text-decoration-color: #008080; font-weight: bold\">224</span><span style=\"font-weight: bold\">}</span>,\n",
       "                    <span style=\"color: #008000; text-decoration-color: #008000\">'test'</span>: <span style=\"font-weight: bold\">{</span><span style=\"color: #008000; text-decoration-color: #008000\">'center_crop'</span>: <span style=\"color: #008080; text-decoration-color: #008080; font-weight: bold\">224</span><span style=\"font-weight: bold\">}</span>\n",
       "                <span style=\"font-weight: bold\">}</span>,\n",
       "                <span style=\"color: #008000; text-decoration-color: #008000\">'normalize'</span>: <span style=\"font-weight: bold\">[[</span><span style=\"color: #008080; text-decoration-color: #008080; font-weight: bold\">0.485</span>, <span style=\"color: #008080; text-decoration-color: #008080; font-weight: bold\">0.456</span>, <span style=\"color: #008080; text-decoration-color: #008080; font-weight: bold\">0.406</span><span style=\"font-weight: bold\">]</span>, <span style=\"font-weight: bold\">[</span><span style=\"color: #008080; text-decoration-color: #008080; font-weight: bold\">0.229</span>, <span style=\"color: #008080; text-decoration-color: #008080; font-weight: bold\">0.224</span>, <span style=\"color: #008080; text-decoration-color: #008080; font-weight: bold\">0.225</span><span style=\"font-weight: bold\">]]</span>,\n",
       "                <span style=\"color: #008000; text-decoration-color: #008000\">'skip_augmentations'</span>: <span style=\"color: #00ff00; text-decoration-color: #00ff00; font-style: italic\">True</span>\n",
       "            <span style=\"font-weight: bold\">}</span>,\n",
       "            <span style=\"color: #008000; text-decoration-color: #008000\">'remove_transforms'</span>: <span style=\"color: #ff0000; text-decoration-color: #ff0000; font-style: italic\">False</span>,\n",
       "            <span style=\"color: #008000; text-decoration-color: #008000\">'image_reader'</span>: <span style=\"color: #008000; text-decoration-color: #008000\">'default'</span>,\n",
       "            <span style=\"color: #008000; text-decoration-color: #008000\">'datasets'</span>: <span style=\"font-weight: bold\">{</span>\n",
       "                <span style=\"color: #008000; text-decoration-color: #008000\">'herbarium2022'</span>: <span style=\"font-weight: bold\">{</span>\n",
       "                    <span style=\"color: #008000; text-decoration-color: #008000\">'catalog_dir'</span>: <span style=\"color: #008000; text-decoration-color: #008000\">'/media/data_cifs/projects/prj_fossils/data/raw_data/herba</span>\n",
       "<span style=\"color: #008000; text-decoration-color: #008000\">rium-2022-fgvc9_resize-512/catalogs'</span>,\n",
       "                    <span style=\"color: #008000; text-decoration-color: #008000\">'train'</span>: <span style=\"font-weight: bold\">{</span>\n",
       "                        <span style=\"color: #008000; text-decoration-color: #008000\">'_target_'</span>: <span style=\"color: #008000; text-decoration-color: #008000\">'imutils.ml.data.datamodule.Herbarium2022Dataset'</span>,\n",
       "                        <span style=\"color: #008000; text-decoration-color: #008000\">'catalog_dir'</span>: <span style=\"color: #008000; text-decoration-color: #008000\">'/media/data_cifs/projects/prj_fossils/data/raw_data/h</span>\n",
       "<span style=\"color: #008000; text-decoration-color: #008000\">erbarium-2022-fgvc9_resize-512/catalogs'</span>,\n",
       "                        <span style=\"color: #008000; text-decoration-color: #008000\">'subset'</span>: <span style=\"color: #008000; text-decoration-color: #008000\">'train'</span>,\n",
       "                        <span style=\"color: #008000; text-decoration-color: #008000\">'label_col'</span>: <span style=\"color: #008000; text-decoration-color: #008000\">'scientificName'</span>,\n",
       "                        <span style=\"color: #008000; text-decoration-color: #008000\">'train_size'</span>: <span style=\"color: #008080; text-decoration-color: #008080; font-weight: bold\">0.8</span>,\n",
       "                        <span style=\"color: #008000; text-decoration-color: #008000\">'shuffle'</span>: <span style=\"color: #00ff00; text-decoration-color: #00ff00; font-style: italic\">True</span>,\n",
       "                        <span style=\"color: #008000; text-decoration-color: #008000\">'seed'</span>: <span style=\"color: #008080; text-decoration-color: #008080; font-weight: bold\">14</span>\n",
       "                    <span style=\"font-weight: bold\">}</span>,\n",
       "                    <span style=\"color: #008000; text-decoration-color: #008000\">'val'</span>: <span style=\"font-weight: bold\">{</span>\n",
       "                        <span style=\"color: #008000; text-decoration-color: #008000\">'_target_'</span>: <span style=\"color: #008000; text-decoration-color: #008000\">'imutils.ml.data.datamodule.Herbarium2022Dataset'</span>,\n",
       "                        <span style=\"color: #008000; text-decoration-color: #008000\">'catalog_dir'</span>: <span style=\"color: #008000; text-decoration-color: #008000\">'/media/data_cifs/projects/prj_fossils/data/raw_data/h</span>\n",
       "<span style=\"color: #008000; text-decoration-color: #008000\">erbarium-2022-fgvc9_resize-512/catalogs'</span>,\n",
       "                        <span style=\"color: #008000; text-decoration-color: #008000\">'subset'</span>: <span style=\"color: #008000; text-decoration-color: #008000\">'val'</span>,\n",
       "                        <span style=\"color: #008000; text-decoration-color: #008000\">'label_col'</span>: <span style=\"color: #008000; text-decoration-color: #008000\">'scientificName'</span>,\n",
       "                        <span style=\"color: #008000; text-decoration-color: #008000\">'train_size'</span>: <span style=\"color: #008080; text-decoration-color: #008080; font-weight: bold\">0.8</span>,\n",
       "                        <span style=\"color: #008000; text-decoration-color: #008000\">'shuffle'</span>: <span style=\"color: #ff0000; text-decoration-color: #ff0000; font-style: italic\">False</span>,\n",
       "                        <span style=\"color: #008000; text-decoration-color: #008000\">'seed'</span>: <span style=\"color: #008080; text-decoration-color: #008080; font-weight: bold\">14</span>\n",
       "                    <span style=\"font-weight: bold\">}</span>,\n",
       "                    <span style=\"color: #008000; text-decoration-color: #008000\">'test'</span>: <span style=\"font-weight: bold\">{</span>\n",
       "                        <span style=\"color: #008000; text-decoration-color: #008000\">'_target_'</span>: <span style=\"color: #008000; text-decoration-color: #008000\">'imutils.ml.data.datamodule.Herbarium2022Dataset'</span>,\n",
       "                        <span style=\"color: #008000; text-decoration-color: #008000\">'catalog_dir'</span>: <span style=\"color: #008000; text-decoration-color: #008000\">'/media/data_cifs/projects/prj_fossils/data/raw_data/h</span>\n",
       "<span style=\"color: #008000; text-decoration-color: #008000\">erbarium-2022-fgvc9_resize-512/catalogs'</span>,\n",
       "                        <span style=\"color: #008000; text-decoration-color: #008000\">'subset'</span>: <span style=\"color: #008000; text-decoration-color: #008000\">'train'</span>,\n",
       "                        <span style=\"color: #008000; text-decoration-color: #008000\">'label_col'</span>: <span style=\"color: #008000; text-decoration-color: #008000\">'scientificName'</span>,\n",
       "                        <span style=\"color: #008000; text-decoration-color: #008000\">'train_size'</span>: <span style=\"color: #008080; text-decoration-color: #008080; font-weight: bold\">0.8</span>,\n",
       "                        <span style=\"color: #008000; text-decoration-color: #008000\">'shuffle'</span>: <span style=\"color: #ff0000; text-decoration-color: #ff0000; font-style: italic\">False</span>,\n",
       "                        <span style=\"color: #008000; text-decoration-color: #008000\">'seed'</span>: <span style=\"color: #008080; text-decoration-color: #008080; font-weight: bold\">14</span>\n",
       "                    <span style=\"font-weight: bold\">}</span>\n",
       "                <span style=\"font-weight: bold\">}</span>\n",
       "            <span style=\"font-weight: bold\">}</span>\n",
       "        <span style=\"font-weight: bold\">}</span>\n",
       "    <span style=\"font-weight: bold\">}</span>,\n",
       "    <span style=\"color: #008000; text-decoration-color: #008000\">'model_cfg'</span>: <span style=\"font-weight: bold\">{</span>\n",
       "        <span style=\"color: #008000; text-decoration-color: #008000\">'_target_'</span>: <span style=\"color: #008000; text-decoration-color: #008000\">'imutils.ml.models.pl.classifier.LitClassifier'</span>,\n",
       "        <span style=\"color: #008000; text-decoration-color: #008000\">'backbone'</span>: <span style=\"font-weight: bold\">{</span>\n",
       "            <span style=\"color: #008000; text-decoration-color: #008000\">'model_repo'</span>: <span style=\"color: #008000; text-decoration-color: #008000\">'timm'</span>,\n",
       "            <span style=\"color: #008000; text-decoration-color: #008000\">'name'</span>: <span style=\"color: #008000; text-decoration-color: #008000\">'resnext50_32x4d'</span>,\n",
       "            <span style=\"color: #008000; text-decoration-color: #008000\">'pretrained'</span>: <span style=\"color: #00ff00; text-decoration-color: #00ff00; font-style: italic\">True</span>,\n",
       "            <span style=\"color: #008000; text-decoration-color: #008000\">'freeze_backbone'</span>: <span style=\"color: #ff0000; text-decoration-color: #ff0000; font-style: italic\">False</span>\n",
       "        <span style=\"font-weight: bold\">}</span>,\n",
       "        <span style=\"color: #008000; text-decoration-color: #008000\">'head'</span>: <span style=\"font-weight: bold\">{</span>\n",
       "            <span style=\"color: #008000; text-decoration-color: #008000\">'num_classes'</span>: <span style=\"color: #008080; text-decoration-color: #008080; font-weight: bold\">15501</span>,\n",
       "            <span style=\"color: #008000; text-decoration-color: #008000\">'pool_size'</span>: <span style=\"color: #008080; text-decoration-color: #008080; font-weight: bold\">1</span>,\n",
       "            <span style=\"color: #008000; text-decoration-color: #008000\">'pool_type'</span>: <span style=\"color: #008000; text-decoration-color: #008000\">'avg'</span>,\n",
       "            <span style=\"color: #008000; text-decoration-color: #008000\">'head_type'</span>: <span style=\"color: #008000; text-decoration-color: #008000\">'linear'</span>,\n",
       "            <span style=\"color: #008000; text-decoration-color: #008000\">'hidden_size'</span>: <span style=\"color: #008080; text-decoration-color: #008080; font-weight: bold\">512</span>,\n",
       "            <span style=\"color: #008000; text-decoration-color: #008000\">'dropout_p'</span>: <span style=\"color: #008080; text-decoration-color: #008080; font-weight: bold\">0.3</span>\n",
       "        <span style=\"font-weight: bold\">}</span>,\n",
       "        <span style=\"color: #008000; text-decoration-color: #008000\">'name'</span>: <span style=\"color: #008000; text-decoration-color: #008000\">'resnext50_32x4d'</span>,\n",
       "        <span style=\"color: #008000; text-decoration-color: #008000\">'resolution'</span>: <span style=\"color: #008080; text-decoration-color: #008080; font-weight: bold\">224</span>,\n",
       "        <span style=\"color: #008000; text-decoration-color: #008000\">'num_channels'</span>: <span style=\"color: #008080; text-decoration-color: #008080; font-weight: bold\">3</span>,\n",
       "        <span style=\"color: #008000; text-decoration-color: #008000\">'input_shape'</span>: <span style=\"font-weight: bold\">[</span><span style=\"color: #008080; text-decoration-color: #008080; font-weight: bold\">3</span>, <span style=\"color: #008080; text-decoration-color: #008080; font-weight: bold\">224</span>, <span style=\"color: #008080; text-decoration-color: #008080; font-weight: bold\">224</span><span style=\"font-weight: bold\">]</span>,\n",
       "        <span style=\"color: #008000; text-decoration-color: #008000\">'loss'</span>: <span style=\"font-weight: bold\">{</span><span style=\"color: #008000; text-decoration-color: #008000\">'_target_'</span>: <span style=\"color: #008000; text-decoration-color: #008000\">'torch.nn.CrossEntropyLoss'</span><span style=\"font-weight: bold\">}</span>\n",
       "    <span style=\"font-weight: bold\">}</span>,\n",
       "    <span style=\"color: #008000; text-decoration-color: #008000\">'train'</span>: <span style=\"font-weight: bold\">{</span>\n",
       "        <span style=\"color: #008000; text-decoration-color: #008000\">'pl_trainer'</span>: <span style=\"font-weight: bold\">{</span>\n",
       "            <span style=\"color: #008000; text-decoration-color: #008000\">'_target_'</span>: <span style=\"color: #008000; text-decoration-color: #008000\">'pytorch_lightning.Trainer'</span>,\n",
       "            <span style=\"color: #008000; text-decoration-color: #008000\">'fast_dev_run'</span>: <span style=\"color: #ff0000; text-decoration-color: #ff0000; font-style: italic\">False</span>,\n",
       "            <span style=\"color: #008000; text-decoration-color: #008000\">'accelerator'</span>: <span style=\"color: #008000; text-decoration-color: #008000\">'gpu'</span>,\n",
       "            <span style=\"color: #008000; text-decoration-color: #008000\">'devices'</span>: <span style=\"color: #008080; text-decoration-color: #008080; font-weight: bold\">1</span>,\n",
       "            <span style=\"color: #008000; text-decoration-color: #008000\">'precision'</span>: <span style=\"color: #008080; text-decoration-color: #008080; font-weight: bold\">16</span>,\n",
       "            <span style=\"color: #008000; text-decoration-color: #008000\">'enable_model_summary'</span>: <span style=\"color: #00ff00; text-decoration-color: #00ff00; font-style: italic\">True</span>,\n",
       "            <span style=\"color: #008000; text-decoration-color: #008000\">'log_every_n_steps'</span>: <span style=\"color: #008080; text-decoration-color: #008080; font-weight: bold\">10</span>,\n",
       "            <span style=\"color: #008000; text-decoration-color: #008000\">'max_epochs'</span>: <span style=\"color: #008080; text-decoration-color: #008080; font-weight: bold\">30</span>,\n",
       "            <span style=\"color: #008000; text-decoration-color: #008000\">'accumulate_grad_batches'</span>: <span style=\"color: #008080; text-decoration-color: #008080; font-weight: bold\">1</span>,\n",
       "            <span style=\"color: #008000; text-decoration-color: #008000\">'strategy'</span>: <span style=\"color: #800080; text-decoration-color: #800080; font-style: italic\">None</span>,\n",
       "            <span style=\"color: #008000; text-decoration-color: #008000\">'limit_train_batches'</span>: <span style=\"color: #008080; text-decoration-color: #008080; font-weight: bold\">2</span>,\n",
       "            <span style=\"color: #008000; text-decoration-color: #008000\">'limit_val_batches'</span>: <span style=\"color: #008080; text-decoration-color: #008080; font-weight: bold\">8</span>\n",
       "        <span style=\"font-weight: bold\">}</span>,\n",
       "        <span style=\"color: #008000; text-decoration-color: #008000\">'deterministic'</span>: <span style=\"color: #ff0000; text-decoration-color: #ff0000; font-style: italic\">False</span>,\n",
       "        <span style=\"color: #008000; text-decoration-color: #008000\">'random_seed'</span>: <span style=\"color: #008080; text-decoration-color: #008080; font-weight: bold\">42</span>,\n",
       "        <span style=\"color: #008000; text-decoration-color: #008000\">'freeze_backbone'</span>: <span style=\"color: #ff0000; text-decoration-color: #ff0000; font-style: italic\">False</span>,\n",
       "        <span style=\"color: #008000; text-decoration-color: #008000\">'freeze_backbone_up_to'</span>: <span style=\"color: #ff0000; text-decoration-color: #ff0000; font-style: italic\">False</span>,\n",
       "        <span style=\"color: #008000; text-decoration-color: #008000\">'callbacks'</span>: <span style=\"font-weight: bold\">{</span>\n",
       "            <span style=\"color: #008000; text-decoration-color: #008000\">'module_data_monitor'</span>: <span style=\"font-weight: bold\">{</span>\n",
       "                <span style=\"color: #008000; text-decoration-color: #008000\">'_target_'</span>: <span style=\"color: #008000; text-decoration-color: #008000\">'imutils.ml.callbacks.wandb_callbacks.ModuleDataMonitor'</span>,\n",
       "                <span style=\"color: #008000; text-decoration-color: #008000\">'log_every_n_steps'</span>: <span style=\"color: #008080; text-decoration-color: #008080; font-weight: bold\">50</span>,\n",
       "                <span style=\"color: #008000; text-decoration-color: #008000\">'submodules'</span>: <span style=\"font-weight: bold\">[</span>\n",
       "                    <span style=\"color: #008000; text-decoration-color: #008000\">'net.backbone.conv1'</span>,\n",
       "                    <span style=\"color: #008000; text-decoration-color: #008000\">'net.backbone.bn1'</span>,\n",
       "                    <span style=\"color: #008000; text-decoration-color: #008000\">'net.backbone.act1'</span>,\n",
       "                    <span style=\"color: #008000; text-decoration-color: #008000\">'net.backbone.layer4.2.act3'</span>,\n",
       "                    <span style=\"color: #008000; text-decoration-color: #008000\">'net.head'</span>\n",
       "                <span style=\"font-weight: bold\">]</span>\n",
       "            <span style=\"font-weight: bold\">}</span>\n",
       "        <span style=\"font-weight: bold\">}</span>\n",
       "    <span style=\"font-weight: bold\">}</span>,\n",
       "    <span style=\"color: #008000; text-decoration-color: #008000\">'hydra'</span>: <span style=\"font-weight: bold\">{</span>\n",
       "        <span style=\"color: #008000; text-decoration-color: #008000\">'run'</span>: <span style=\"font-weight: bold\">{</span>\n",
       "            <span style=\"color: #008000; text-decoration-color: #008000\">'dir'</span>: \n",
       "<span style=\"color: #008000; text-decoration-color: #008000\">'/media/data_cifs/projects/prj_fossils/users/jacob/experiments/2022/herbarium2022'</span>\n",
       "        <span style=\"font-weight: bold\">}</span>\n",
       "    <span style=\"font-weight: bold\">}</span>\n",
       "<span style=\"font-weight: bold\">}</span>\n",
       "</pre>\n"
      ],
      "text/plain": [
       "\u001b[1m{\u001b[0m\n",
       "    \u001b[32m'core'\u001b[0m: \u001b[1m{\u001b[0m\n",
       "        \u001b[32m'name'\u001b[0m: \u001b[32m'herbarium2022-res512__resnext50_32x4d'\u001b[0m,\n",
       "        \u001b[32m'version'\u001b[0m: \u001b[32m'0.0.1'\u001b[0m,\n",
       "        \u001b[32m'experiments_root_dir'\u001b[0m: \n",
       "\u001b[32m'/media/data_cifs/projects/prj_fossils/users/jacob/experiments/2022/herbarium2022'\u001b[0m,\n",
       "        \u001b[32m'tags'\u001b[0m: \u001b[1m[\u001b[0m\u001b[32m'herbarium2022'\u001b[0m, \u001b[32m'kaggle'\u001b[0m\u001b[1m]\u001b[0m\n",
       "    \u001b[1m}\u001b[0m,\n",
       "    \u001b[32m'seed'\u001b[0m: \u001b[1;36m42\u001b[0m,\n",
       "    \u001b[32m'run_output_dir'\u001b[0m: \n",
       "\u001b[32m'/media/data_cifs/projects/prj_fossils/users/jacob/experiments/2022/herbarium2022'\u001b[0m,\n",
       "    \u001b[32m'checkpoint_dir'\u001b[0m: \n",
       "\u001b[32m'/media/data_cifs/projects/prj_fossils/users/jacob/experiments/2022/herbarium2022/ckpts'\u001b[0m,\n",
       "    \u001b[32m'execution_list'\u001b[0m: \u001b[1m{\u001b[0m\u001b[32m'auto_lr_tune'\u001b[0m: \u001b[3;92mTrue\u001b[0m, \u001b[32m'model_fit'\u001b[0m: \u001b[3;92mTrue\u001b[0m\u001b[1m}\u001b[0m,\n",
       "    \u001b[32m'hp'\u001b[0m: \u001b[1m{\u001b[0m\n",
       "        \u001b[32m'num_classes'\u001b[0m: \u001b[1;36m15501\u001b[0m,\n",
       "        \u001b[32m'batch_size'\u001b[0m: \u001b[1;36m16\u001b[0m,\n",
       "        \u001b[32m'preprocess_size'\u001b[0m: \u001b[1;36m256\u001b[0m,\n",
       "        \u001b[32m'resolution'\u001b[0m: \u001b[1;36m224\u001b[0m,\n",
       "        \u001b[32m'num_channels'\u001b[0m: \u001b[1;36m3\u001b[0m,\n",
       "        \u001b[32m'warmup_epochs'\u001b[0m: \u001b[1;36m3\u001b[0m,\n",
       "        \u001b[32m'max_epochs'\u001b[0m: \u001b[1;36m30\u001b[0m,\n",
       "        \u001b[32m'lr'\u001b[0m: \u001b[1;36m0.001\u001b[0m,\n",
       "        \u001b[32m'freeze_backbone'\u001b[0m: \u001b[3;91mFalse\u001b[0m,\n",
       "        \u001b[32m'freeze_backbone_up_to'\u001b[0m: \u001b[1;36m-1\u001b[0m\n",
       "    \u001b[1m}\u001b[0m,\n",
       "    \u001b[32m'optim'\u001b[0m: \u001b[1m{\u001b[0m\n",
       "        \u001b[32m'optimizer'\u001b[0m: \u001b[1m{\u001b[0m\n",
       "            \u001b[32m'_target_'\u001b[0m: \u001b[32m'torch.optim.Adam'\u001b[0m,\n",
       "            \u001b[32m'lr'\u001b[0m: \u001b[1;36m0.001\u001b[0m,\n",
       "            \u001b[32m'betas'\u001b[0m: \u001b[1m[\u001b[0m\u001b[1;36m0.9\u001b[0m, \u001b[1;36m0.999\u001b[0m\u001b[1m]\u001b[0m,\n",
       "            \u001b[32m'eps'\u001b[0m: \u001b[1;36m1e-08\u001b[0m,\n",
       "            \u001b[32m'weight_decay'\u001b[0m: \u001b[1;36m0.0\u001b[0m\n",
       "        \u001b[1m}\u001b[0m,\n",
       "        \u001b[32m'exclude_bn_bias'\u001b[0m: \u001b[3;92mTrue\u001b[0m,\n",
       "        \u001b[32m'use_lr_scheduler'\u001b[0m: \u001b[3;92mTrue\u001b[0m,\n",
       "        \u001b[32m'lr_scheduler'\u001b[0m: \u001b[1m{\u001b[0m\n",
       "            \u001b[32m'_target_'\u001b[0m: \u001b[32m'pl_bolts.optimizers.lr_scheduler.LinearWarmupCosineAnnealingLR'\u001b[0m,\n",
       "            \u001b[32m'warmup_epochs'\u001b[0m: \u001b[1;36m3\u001b[0m,\n",
       "            \u001b[32m'max_epochs'\u001b[0m: \u001b[1;36m30\u001b[0m,\n",
       "            \u001b[32m'warmup_start_lr'\u001b[0m: \u001b[1;36m0.0001\u001b[0m,\n",
       "            \u001b[32m'eta_min'\u001b[0m: \u001b[1;36m1e-06\u001b[0m,\n",
       "            \u001b[32m'last_epoch'\u001b[0m: \u001b[1;36m-1\u001b[0m\n",
       "        \u001b[1m}\u001b[0m\n",
       "    \u001b[1m}\u001b[0m,\n",
       "    \u001b[32m'logging'\u001b[0m: \u001b[1m{\u001b[0m\n",
       "        \u001b[32m'log_model_summary'\u001b[0m: \u001b[3;92mTrue\u001b[0m,\n",
       "        \u001b[32m'log_dataset_summary'\u001b[0m: \u001b[3;92mTrue\u001b[0m,\n",
       "        \u001b[32m'n_elements_to_log'\u001b[0m: \u001b[1;36m32\u001b[0m,\n",
       "        \u001b[32m'normalize_visualization'\u001b[0m: \u001b[3;92mTrue\u001b[0m,\n",
       "        \u001b[32m'val_check_interval'\u001b[0m: \u001b[1;36m1.0\u001b[0m,\n",
       "        \u001b[32m'progress_bar_refresh_rate'\u001b[0m: \u001b[1;36m20\u001b[0m,\n",
       "        \u001b[32m'wandb'\u001b[0m: \u001b[1m{\u001b[0m\n",
       "            \u001b[32m'project'\u001b[0m: \u001b[32m'herbarium2022'\u001b[0m,\n",
       "            \u001b[32m'entity'\u001b[0m: \u001b[32m'jrose'\u001b[0m,\n",
       "            \u001b[32m'name'\u001b[0m: \u001b[32m'herbarium2022-res512__resnext50_32x4d'\u001b[0m,\n",
       "            \u001b[32m'log_model'\u001b[0m: \u001b[3;92mTrue\u001b[0m,\n",
       "            \u001b[32m'tags'\u001b[0m: \u001b[1m[\u001b[0m\u001b[32m'herbarium2022'\u001b[0m, \u001b[32m'kaggle'\u001b[0m\u001b[1m]\u001b[0m\n",
       "        \u001b[1m}\u001b[0m\n",
       "    \u001b[1m}\u001b[0m,\n",
       "    \u001b[32m'pretrain'\u001b[0m: \u001b[1m{\u001b[0m\n",
       "        \u001b[32m'lr_tuner'\u001b[0m: \u001b[1m{\u001b[0m\n",
       "            \u001b[32m'hparams_path'\u001b[0m: \u001b[32m'/media/data_cifs/projects/prj_fossils/users/jacob/experiments/20\u001b[0m\n",
       "\u001b[32m22/herbarium2022/pretrain/lr_tuner_hparams.yaml'\u001b[0m,\n",
       "            \u001b[32m'tuner'\u001b[0m: \u001b[1m{\u001b[0m\n",
       "                \u001b[32m'min_lr'\u001b[0m: \u001b[1;36m1e-08\u001b[0m,\n",
       "                \u001b[32m'max_lr'\u001b[0m: \u001b[1;36m1.0\u001b[0m,\n",
       "                \u001b[32m'num_training'\u001b[0m: \u001b[1;36m100\u001b[0m,\n",
       "                \u001b[32m'mode'\u001b[0m: \u001b[32m'exponential'\u001b[0m,\n",
       "                \u001b[32m'early_stop_threshold'\u001b[0m: \u001b[1;36m10.0\u001b[0m\n",
       "            \u001b[1m}\u001b[0m,\n",
       "            \u001b[32m'pl_trainer'\u001b[0m: \u001b[1m{\u001b[0m\n",
       "                \u001b[32m'_target_'\u001b[0m: \u001b[32m'pytorch_lightning.Trainer'\u001b[0m,\n",
       "                \u001b[32m'precision'\u001b[0m: \u001b[1;36m16\u001b[0m,\n",
       "                \u001b[32m'enable_progress_bar'\u001b[0m: \u001b[3;92mTrue\u001b[0m,\n",
       "                \u001b[32m'devices'\u001b[0m: \u001b[1;36m1\u001b[0m,\n",
       "                \u001b[32m'accelerator'\u001b[0m: \u001b[32m'gpu'\u001b[0m,\n",
       "                \u001b[32m'deterministic'\u001b[0m: \u001b[3;92mTrue\u001b[0m,\n",
       "                \u001b[32m'benchmark'\u001b[0m: \u001b[3;92mTrue\u001b[0m,\n",
       "                \u001b[32m'auto_select_gpus'\u001b[0m: \u001b[3;92mTrue\u001b[0m,\n",
       "                \u001b[32m'auto_lr_find'\u001b[0m: \u001b[3;92mTrue\u001b[0m\n",
       "            \u001b[1m}\u001b[0m\n",
       "        \u001b[1m}\u001b[0m\n",
       "    \u001b[1m}\u001b[0m,\n",
       "    \u001b[32m'data'\u001b[0m: \u001b[1m{\u001b[0m\n",
       "        \u001b[32m'datamodule'\u001b[0m: \u001b[1m{\u001b[0m\n",
       "            \u001b[32m'_target_'\u001b[0m: \u001b[32m'imutils.ml.data.datamodule.Herbarium2022DataModule'\u001b[0m,\n",
       "            \u001b[32m'name'\u001b[0m: \u001b[32m'herbarium2022-res512'\u001b[0m,\n",
       "            \u001b[32m'catalog_dir'\u001b[0m: \u001b[32m'/media/data_cifs/projects/prj_fossils/data/raw_data/herbarium-202\u001b[0m\n",
       "\u001b[32m2-fgvc9_resize-512/catalogs'\u001b[0m,\n",
       "            \u001b[32m'label_col'\u001b[0m: \u001b[32m'scientificName'\u001b[0m,\n",
       "            \u001b[32m'train_size'\u001b[0m: \u001b[1;36m0.8\u001b[0m,\n",
       "            \u001b[32m'shuffle'\u001b[0m: \u001b[3;92mTrue\u001b[0m,\n",
       "            \u001b[32m'seed'\u001b[0m: \u001b[1;36m14\u001b[0m,\n",
       "            \u001b[32m'batch_size'\u001b[0m: \u001b[1;36m16\u001b[0m,\n",
       "            \u001b[32m'num_workers'\u001b[0m: \u001b[1;36m4\u001b[0m,\n",
       "            \u001b[32m'pin_memory'\u001b[0m: \u001b[3;92mTrue\u001b[0m,\n",
       "            \u001b[32m'persistent_workers'\u001b[0m: \u001b[3;91mFalse\u001b[0m,\n",
       "            \u001b[32m'transform_cfg'\u001b[0m: \u001b[1m{\u001b[0m\n",
       "                \u001b[32m'preprocess_size'\u001b[0m: \u001b[1;36m256\u001b[0m,\n",
       "                \u001b[32m'resolution'\u001b[0m: \u001b[1;36m224\u001b[0m,\n",
       "                \u001b[32m'preprocess'\u001b[0m: \u001b[1m{\u001b[0m\n",
       "                    \u001b[32m'train'\u001b[0m: \u001b[1m{\u001b[0m\u001b[32m'resize'\u001b[0m: \u001b[1;36m256\u001b[0m\u001b[1m}\u001b[0m,\n",
       "                    \u001b[32m'val'\u001b[0m: \u001b[1m{\u001b[0m\u001b[32m'resize'\u001b[0m: \u001b[1;36m256\u001b[0m\u001b[1m}\u001b[0m,\n",
       "                    \u001b[32m'test'\u001b[0m: \u001b[1m{\u001b[0m\u001b[32m'resize'\u001b[0m: \u001b[1;36m256\u001b[0m\u001b[1m}\u001b[0m\n",
       "                \u001b[1m}\u001b[0m,\n",
       "                \u001b[32m'batch_transform'\u001b[0m: \u001b[1m{\u001b[0m\n",
       "                    \u001b[32m'random_flips'\u001b[0m: \u001b[3;91mFalse\u001b[0m,\n",
       "                    \u001b[32m'train'\u001b[0m: \u001b[1m{\u001b[0m\u001b[32m'random_resize_crop'\u001b[0m: \u001b[1;36m224\u001b[0m\u001b[1m}\u001b[0m,\n",
       "                    \u001b[32m'val'\u001b[0m: \u001b[1m{\u001b[0m\u001b[32m'center_crop'\u001b[0m: \u001b[1;36m224\u001b[0m\u001b[1m}\u001b[0m,\n",
       "                    \u001b[32m'test'\u001b[0m: \u001b[1m{\u001b[0m\u001b[32m'center_crop'\u001b[0m: \u001b[1;36m224\u001b[0m\u001b[1m}\u001b[0m\n",
       "                \u001b[1m}\u001b[0m,\n",
       "                \u001b[32m'normalize'\u001b[0m: \u001b[1m[\u001b[0m\u001b[1m[\u001b[0m\u001b[1;36m0.485\u001b[0m, \u001b[1;36m0.456\u001b[0m, \u001b[1;36m0.406\u001b[0m\u001b[1m]\u001b[0m, \u001b[1m[\u001b[0m\u001b[1;36m0.229\u001b[0m, \u001b[1;36m0.224\u001b[0m, \u001b[1;36m0.225\u001b[0m\u001b[1m]\u001b[0m\u001b[1m]\u001b[0m,\n",
       "                \u001b[32m'skip_augmentations'\u001b[0m: \u001b[3;92mTrue\u001b[0m\n",
       "            \u001b[1m}\u001b[0m,\n",
       "            \u001b[32m'remove_transforms'\u001b[0m: \u001b[3;91mFalse\u001b[0m,\n",
       "            \u001b[32m'image_reader'\u001b[0m: \u001b[32m'default'\u001b[0m,\n",
       "            \u001b[32m'datasets'\u001b[0m: \u001b[1m{\u001b[0m\n",
       "                \u001b[32m'herbarium2022'\u001b[0m: \u001b[1m{\u001b[0m\n",
       "                    \u001b[32m'catalog_dir'\u001b[0m: \u001b[32m'/media/data_cifs/projects/prj_fossils/data/raw_data/herba\u001b[0m\n",
       "\u001b[32mrium-2022-fgvc9_resize-512/catalogs'\u001b[0m,\n",
       "                    \u001b[32m'train'\u001b[0m: \u001b[1m{\u001b[0m\n",
       "                        \u001b[32m'_target_'\u001b[0m: \u001b[32m'imutils.ml.data.datamodule.Herbarium2022Dataset'\u001b[0m,\n",
       "                        \u001b[32m'catalog_dir'\u001b[0m: \u001b[32m'/media/data_cifs/projects/prj_fossils/data/raw_data/h\u001b[0m\n",
       "\u001b[32merbarium-2022-fgvc9_resize-512/catalogs'\u001b[0m,\n",
       "                        \u001b[32m'subset'\u001b[0m: \u001b[32m'train'\u001b[0m,\n",
       "                        \u001b[32m'label_col'\u001b[0m: \u001b[32m'scientificName'\u001b[0m,\n",
       "                        \u001b[32m'train_size'\u001b[0m: \u001b[1;36m0.8\u001b[0m,\n",
       "                        \u001b[32m'shuffle'\u001b[0m: \u001b[3;92mTrue\u001b[0m,\n",
       "                        \u001b[32m'seed'\u001b[0m: \u001b[1;36m14\u001b[0m\n",
       "                    \u001b[1m}\u001b[0m,\n",
       "                    \u001b[32m'val'\u001b[0m: \u001b[1m{\u001b[0m\n",
       "                        \u001b[32m'_target_'\u001b[0m: \u001b[32m'imutils.ml.data.datamodule.Herbarium2022Dataset'\u001b[0m,\n",
       "                        \u001b[32m'catalog_dir'\u001b[0m: \u001b[32m'/media/data_cifs/projects/prj_fossils/data/raw_data/h\u001b[0m\n",
       "\u001b[32merbarium-2022-fgvc9_resize-512/catalogs'\u001b[0m,\n",
       "                        \u001b[32m'subset'\u001b[0m: \u001b[32m'val'\u001b[0m,\n",
       "                        \u001b[32m'label_col'\u001b[0m: \u001b[32m'scientificName'\u001b[0m,\n",
       "                        \u001b[32m'train_size'\u001b[0m: \u001b[1;36m0.8\u001b[0m,\n",
       "                        \u001b[32m'shuffle'\u001b[0m: \u001b[3;91mFalse\u001b[0m,\n",
       "                        \u001b[32m'seed'\u001b[0m: \u001b[1;36m14\u001b[0m\n",
       "                    \u001b[1m}\u001b[0m,\n",
       "                    \u001b[32m'test'\u001b[0m: \u001b[1m{\u001b[0m\n",
       "                        \u001b[32m'_target_'\u001b[0m: \u001b[32m'imutils.ml.data.datamodule.Herbarium2022Dataset'\u001b[0m,\n",
       "                        \u001b[32m'catalog_dir'\u001b[0m: \u001b[32m'/media/data_cifs/projects/prj_fossils/data/raw_data/h\u001b[0m\n",
       "\u001b[32merbarium-2022-fgvc9_resize-512/catalogs'\u001b[0m,\n",
       "                        \u001b[32m'subset'\u001b[0m: \u001b[32m'train'\u001b[0m,\n",
       "                        \u001b[32m'label_col'\u001b[0m: \u001b[32m'scientificName'\u001b[0m,\n",
       "                        \u001b[32m'train_size'\u001b[0m: \u001b[1;36m0.8\u001b[0m,\n",
       "                        \u001b[32m'shuffle'\u001b[0m: \u001b[3;91mFalse\u001b[0m,\n",
       "                        \u001b[32m'seed'\u001b[0m: \u001b[1;36m14\u001b[0m\n",
       "                    \u001b[1m}\u001b[0m\n",
       "                \u001b[1m}\u001b[0m\n",
       "            \u001b[1m}\u001b[0m\n",
       "        \u001b[1m}\u001b[0m\n",
       "    \u001b[1m}\u001b[0m,\n",
       "    \u001b[32m'model_cfg'\u001b[0m: \u001b[1m{\u001b[0m\n",
       "        \u001b[32m'_target_'\u001b[0m: \u001b[32m'imutils.ml.models.pl.classifier.LitClassifier'\u001b[0m,\n",
       "        \u001b[32m'backbone'\u001b[0m: \u001b[1m{\u001b[0m\n",
       "            \u001b[32m'model_repo'\u001b[0m: \u001b[32m'timm'\u001b[0m,\n",
       "            \u001b[32m'name'\u001b[0m: \u001b[32m'resnext50_32x4d'\u001b[0m,\n",
       "            \u001b[32m'pretrained'\u001b[0m: \u001b[3;92mTrue\u001b[0m,\n",
       "            \u001b[32m'freeze_backbone'\u001b[0m: \u001b[3;91mFalse\u001b[0m\n",
       "        \u001b[1m}\u001b[0m,\n",
       "        \u001b[32m'head'\u001b[0m: \u001b[1m{\u001b[0m\n",
       "            \u001b[32m'num_classes'\u001b[0m: \u001b[1;36m15501\u001b[0m,\n",
       "            \u001b[32m'pool_size'\u001b[0m: \u001b[1;36m1\u001b[0m,\n",
       "            \u001b[32m'pool_type'\u001b[0m: \u001b[32m'avg'\u001b[0m,\n",
       "            \u001b[32m'head_type'\u001b[0m: \u001b[32m'linear'\u001b[0m,\n",
       "            \u001b[32m'hidden_size'\u001b[0m: \u001b[1;36m512\u001b[0m,\n",
       "            \u001b[32m'dropout_p'\u001b[0m: \u001b[1;36m0.3\u001b[0m\n",
       "        \u001b[1m}\u001b[0m,\n",
       "        \u001b[32m'name'\u001b[0m: \u001b[32m'resnext50_32x4d'\u001b[0m,\n",
       "        \u001b[32m'resolution'\u001b[0m: \u001b[1;36m224\u001b[0m,\n",
       "        \u001b[32m'num_channels'\u001b[0m: \u001b[1;36m3\u001b[0m,\n",
       "        \u001b[32m'input_shape'\u001b[0m: \u001b[1m[\u001b[0m\u001b[1;36m3\u001b[0m, \u001b[1;36m224\u001b[0m, \u001b[1;36m224\u001b[0m\u001b[1m]\u001b[0m,\n",
       "        \u001b[32m'loss'\u001b[0m: \u001b[1m{\u001b[0m\u001b[32m'_target_'\u001b[0m: \u001b[32m'torch.nn.CrossEntropyLoss'\u001b[0m\u001b[1m}\u001b[0m\n",
       "    \u001b[1m}\u001b[0m,\n",
       "    \u001b[32m'train'\u001b[0m: \u001b[1m{\u001b[0m\n",
       "        \u001b[32m'pl_trainer'\u001b[0m: \u001b[1m{\u001b[0m\n",
       "            \u001b[32m'_target_'\u001b[0m: \u001b[32m'pytorch_lightning.Trainer'\u001b[0m,\n",
       "            \u001b[32m'fast_dev_run'\u001b[0m: \u001b[3;91mFalse\u001b[0m,\n",
       "            \u001b[32m'accelerator'\u001b[0m: \u001b[32m'gpu'\u001b[0m,\n",
       "            \u001b[32m'devices'\u001b[0m: \u001b[1;36m1\u001b[0m,\n",
       "            \u001b[32m'precision'\u001b[0m: \u001b[1;36m16\u001b[0m,\n",
       "            \u001b[32m'enable_model_summary'\u001b[0m: \u001b[3;92mTrue\u001b[0m,\n",
       "            \u001b[32m'log_every_n_steps'\u001b[0m: \u001b[1;36m10\u001b[0m,\n",
       "            \u001b[32m'max_epochs'\u001b[0m: \u001b[1;36m30\u001b[0m,\n",
       "            \u001b[32m'accumulate_grad_batches'\u001b[0m: \u001b[1;36m1\u001b[0m,\n",
       "            \u001b[32m'strategy'\u001b[0m: \u001b[3;35mNone\u001b[0m,\n",
       "            \u001b[32m'limit_train_batches'\u001b[0m: \u001b[1;36m2\u001b[0m,\n",
       "            \u001b[32m'limit_val_batches'\u001b[0m: \u001b[1;36m8\u001b[0m\n",
       "        \u001b[1m}\u001b[0m,\n",
       "        \u001b[32m'deterministic'\u001b[0m: \u001b[3;91mFalse\u001b[0m,\n",
       "        \u001b[32m'random_seed'\u001b[0m: \u001b[1;36m42\u001b[0m,\n",
       "        \u001b[32m'freeze_backbone'\u001b[0m: \u001b[3;91mFalse\u001b[0m,\n",
       "        \u001b[32m'freeze_backbone_up_to'\u001b[0m: \u001b[3;91mFalse\u001b[0m,\n",
       "        \u001b[32m'callbacks'\u001b[0m: \u001b[1m{\u001b[0m\n",
       "            \u001b[32m'module_data_monitor'\u001b[0m: \u001b[1m{\u001b[0m\n",
       "                \u001b[32m'_target_'\u001b[0m: \u001b[32m'imutils.ml.callbacks.wandb_callbacks.ModuleDataMonitor'\u001b[0m,\n",
       "                \u001b[32m'log_every_n_steps'\u001b[0m: \u001b[1;36m50\u001b[0m,\n",
       "                \u001b[32m'submodules'\u001b[0m: \u001b[1m[\u001b[0m\n",
       "                    \u001b[32m'net.backbone.conv1'\u001b[0m,\n",
       "                    \u001b[32m'net.backbone.bn1'\u001b[0m,\n",
       "                    \u001b[32m'net.backbone.act1'\u001b[0m,\n",
       "                    \u001b[32m'net.backbone.layer4.2.act3'\u001b[0m,\n",
       "                    \u001b[32m'net.head'\u001b[0m\n",
       "                \u001b[1m]\u001b[0m\n",
       "            \u001b[1m}\u001b[0m\n",
       "        \u001b[1m}\u001b[0m\n",
       "    \u001b[1m}\u001b[0m,\n",
       "    \u001b[32m'hydra'\u001b[0m: \u001b[1m{\u001b[0m\n",
       "        \u001b[32m'run'\u001b[0m: \u001b[1m{\u001b[0m\n",
       "            \u001b[32m'dir'\u001b[0m: \n",
       "\u001b[32m'/media/data_cifs/projects/prj_fossils/users/jacob/experiments/2022/herbarium2022'\u001b[0m\n",
       "        \u001b[1m}\u001b[0m\n",
       "    \u001b[1m}\u001b[0m\n",
       "\u001b[1m}\u001b[0m\n"
      ]
     },
     "metadata": {},
     "output_type": "display_data"
    },
    {
     "name": "stderr",
     "output_type": "stream",
     "text": [
      "ic| subset: 'train'\n",
      "    num_samples: 671817\n",
      "    num_batches: 41989\n",
      "    self.num_classes: 15501\n",
      "    self.batch_size: 16\n",
      "ic| subset: 'val'\n",
      "    num_samples: 167955\n",
      "    num_batches: 10498\n",
      "    self.num_classes: 15501\n",
      "    self.batch_size: 16\n",
      "LOCAL_RANK: 0 - CUDA_VISIBLE_DEVICES: [6,7]\n"
     ]
    },
    {
     "data": {
      "text/html": [
       "<pre style=\"white-space:pre;overflow-x:auto;line-height:normal;font-family:Menlo,'DejaVu Sans Mono',consolas,'Courier New',monospace\"><span style=\"font-weight: bold\">{</span>\n",
       "    <span style=\"color: #008000; text-decoration-color: #008000\">'_target_'</span>: <span style=\"color: #008000; text-decoration-color: #008000\">'torch.optim.Adam'</span>,\n",
       "    <span style=\"color: #008000; text-decoration-color: #008000\">'lr'</span>: <span style=\"color: #008080; text-decoration-color: #008080; font-weight: bold\">0.001</span>,\n",
       "    <span style=\"color: #008000; text-decoration-color: #008000\">'betas'</span>: <span style=\"font-weight: bold\">[</span><span style=\"color: #008080; text-decoration-color: #008080; font-weight: bold\">0.9</span>, <span style=\"color: #008080; text-decoration-color: #008080; font-weight: bold\">0.999</span><span style=\"font-weight: bold\">]</span>,\n",
       "    <span style=\"color: #008000; text-decoration-color: #008000\">'eps'</span>: <span style=\"color: #008080; text-decoration-color: #008080; font-weight: bold\">1e-08</span>,\n",
       "    <span style=\"color: #008000; text-decoration-color: #008000\">'weight_decay'</span>: <span style=\"color: #008080; text-decoration-color: #008080; font-weight: bold\">0.0</span>\n",
       "<span style=\"font-weight: bold\">}</span>\n",
       "</pre>\n"
      ],
      "text/plain": [
       "\u001b[1m{\u001b[0m\n",
       "    \u001b[32m'_target_'\u001b[0m: \u001b[32m'torch.optim.Adam'\u001b[0m,\n",
       "    \u001b[32m'lr'\u001b[0m: \u001b[1;36m0.001\u001b[0m,\n",
       "    \u001b[32m'betas'\u001b[0m: \u001b[1m[\u001b[0m\u001b[1;36m0.9\u001b[0m, \u001b[1;36m0.999\u001b[0m\u001b[1m]\u001b[0m,\n",
       "    \u001b[32m'eps'\u001b[0m: \u001b[1;36m1e-08\u001b[0m,\n",
       "    \u001b[32m'weight_decay'\u001b[0m: \u001b[1;36m0.0\u001b[0m\n",
       "\u001b[1m}\u001b[0m\n"
      ]
     },
     "metadata": {},
     "output_type": "display_data"
    },
    {
     "name": "stderr",
     "output_type": "stream",
     "text": [
      "\n",
      "  | Name         | Type             | Params\n",
      "--------------------------------------------------\n",
      "0 | loss         | CrossEntropyLoss | 0     \n",
      "1 | train_metric | MetricCollection | 0     \n",
      "2 | val_metric   | MetricCollection | 0     \n",
      "3 | test_metric  | MetricCollection | 0     \n",
      "4 | net          | Sequential       | 57.3 M\n",
      "--------------------------------------------------\n",
      "57.3 M    Trainable params\n",
      "0         Non-trainable params\n",
      "57.3 M    Total params\n",
      "114.545   Total estimated model params size (MB)\n"
     ]
    },
    {
     "data": {
      "application/vnd.jupyter.widget-view+json": {
       "model_id": "",
       "version_major": 2,
       "version_minor": 0
      },
      "text/plain": [
       "Sanity Checking: 0it [00:00, ?it/s]"
      ]
     },
     "metadata": {},
     "output_type": "display_data"
    },
    {
     "name": "stdout",
     "output_type": "stream",
     "text": [
      "validation_step_end -> self.current_epoch: 0, self.global_step: 0, loss: 10.50390625\n",
      "validation_step_end -> self.current_epoch: 0, self.global_step: 0, loss: 10.0859375\n",
      "self.validation_epoch_end:  device:0, len(outputs)=2, info: {'logits': torch.Size([16, 15501]), 'loss': torch.Size([]), 'y': torch.Size([16])}\n",
      "validation_epoch_end -> self.current_epoch: 0, self.global_step: 0, losses: tensor([10.5039, 10.0859], device='cuda:0')\n",
      "ModuleDataMonitor is now tracking the following submodules:\n"
     ]
    },
    {
     "name": "stderr",
     "output_type": "stream",
     "text": [
      "/media/data/conda/jrose3/envs/imutils/lib/python3.8/site-packages/pytorch_lightning/trainer/trainer.py:1938: PossibleUserWarning: The number of training samples (2) is smaller than the logging interval Trainer(log_every_n_steps=10). Set a lower value for log_every_n_steps if you want to see logs for the training epoch.\n",
      "  rank_zero_warn(\n"
     ]
    },
    {
     "data": {
      "text/html": [
       "<pre style=\"white-space:pre;overflow-x:auto;line-height:normal;font-family:Menlo,'DejaVu Sans Mono',consolas,'Courier New',monospace\"><span style=\"font-weight: bold\">[</span>\n",
       "    <span style=\"color: #008000; text-decoration-color: #008000\">'net.backbone.conv1'</span>,\n",
       "    <span style=\"color: #008000; text-decoration-color: #008000\">'net.backbone.bn1'</span>,\n",
       "    <span style=\"color: #008000; text-decoration-color: #008000\">'net.backbone.act1'</span>,\n",
       "    <span style=\"color: #008000; text-decoration-color: #008000\">'net.backbone.layer4.2.act3'</span>,\n",
       "    <span style=\"color: #008000; text-decoration-color: #008000\">'net.head'</span>\n",
       "<span style=\"font-weight: bold\">]</span>\n",
       "</pre>\n"
      ],
      "text/plain": [
       "\u001b[1m[\u001b[0m\n",
       "    \u001b[32m'net.backbone.conv1'\u001b[0m,\n",
       "    \u001b[32m'net.backbone.bn1'\u001b[0m,\n",
       "    \u001b[32m'net.backbone.act1'\u001b[0m,\n",
       "    \u001b[32m'net.backbone.layer4.2.act3'\u001b[0m,\n",
       "    \u001b[32m'net.head'\u001b[0m\n",
       "\u001b[1m]\u001b[0m\n"
      ]
     },
     "metadata": {},
     "output_type": "display_data"
    },
    {
     "data": {
      "application/vnd.jupyter.widget-view+json": {
       "model_id": "c7699b4bb4034bd4a91ba36ad598acad",
       "version_major": 2,
       "version_minor": 0
      },
      "text/plain": [
       "Training: 0it [00:00, ?it/s]"
      ]
     },
     "metadata": {},
     "output_type": "display_data"
    },
    {
     "name": "stdout",
     "output_type": "stream",
     "text": [
      "input_size: (1, 3, 224, 224)\n",
      "training_step_end -> self.current_epoch: 0, self.global_step: 0, loss: 10.07177734375\n",
      "training_step_end -> self.current_epoch: 0, self.global_step: 1, loss: 9.798828125\n"
     ]
    },
    {
     "data": {
      "application/vnd.jupyter.widget-view+json": {
       "model_id": "",
       "version_major": 2,
       "version_minor": 0
      },
      "text/plain": [
       "Validation: 0it [00:00, ?it/s]"
      ]
     },
     "metadata": {},
     "output_type": "display_data"
    },
    {
     "name": "stdout",
     "output_type": "stream",
     "text": [
      "validation_step_end -> self.current_epoch: 0, self.global_step: 2, loss: 10.3671875\n",
      "validation_step_end -> self.current_epoch: 0, self.global_step: 2, loss: 10.1142578125\n",
      "validation_step_end -> self.current_epoch: 0, self.global_step: 2, loss: 9.9140625\n",
      "validation_step_end -> self.current_epoch: 0, self.global_step: 2, loss: 9.99462890625\n",
      "validation_step_end -> self.current_epoch: 0, self.global_step: 2, loss: 9.91357421875\n",
      "validation_step_end -> self.current_epoch: 0, self.global_step: 2, loss: 10.11572265625\n",
      "validation_step_end -> self.current_epoch: 0, self.global_step: 2, loss: 10.3955078125\n",
      "validation_step_end -> self.current_epoch: 0, self.global_step: 2, loss: 9.77490234375\n",
      "self.validation_epoch_end:  device:0, len(outputs)=8, info: {'logits': torch.Size([16, 15501]), 'loss': torch.Size([]), 'y': torch.Size([16])}\n",
      "validation_epoch_end -> self.current_epoch: 0, self.global_step: 2, losses: tensor([10.3672, 10.1143,  9.9141,  9.9946,  9.9136, 10.1157, 10.3955,  9.7749],\n",
      "       device='cuda:0')\n",
      "training_epoch_end -> self.current_epoch: 0, self.global_step: 2, losses: tensor([10.0718,  9.7988], device='cuda:0')\n",
      "training_step_end -> self.current_epoch: 1, self.global_step: 2, loss: 9.65771484375\n",
      "training_step_end -> self.current_epoch: 1, self.global_step: 3, loss: 9.919921875\n"
     ]
    },
    {
     "data": {
      "application/vnd.jupyter.widget-view+json": {
       "model_id": "",
       "version_major": 2,
       "version_minor": 0
      },
      "text/plain": [
       "Validation: 0it [00:00, ?it/s]"
      ]
     },
     "metadata": {},
     "output_type": "display_data"
    },
    {
     "name": "stdout",
     "output_type": "stream",
     "text": [
      "validation_step_end -> self.current_epoch: 1, self.global_step: 4, loss: 10.18017578125\n",
      "validation_step_end -> self.current_epoch: 1, self.global_step: 4, loss: 9.85693359375\n",
      "validation_step_end -> self.current_epoch: 1, self.global_step: 4, loss: 9.7646484375\n",
      "validation_step_end -> self.current_epoch: 1, self.global_step: 4, loss: 10.01416015625\n",
      "validation_step_end -> self.current_epoch: 1, self.global_step: 4, loss: 9.95947265625\n",
      "validation_step_end -> self.current_epoch: 1, self.global_step: 4, loss: 10.0810546875\n",
      "validation_step_end -> self.current_epoch: 1, self.global_step: 4, loss: 10.140625\n",
      "validation_step_end -> self.current_epoch: 1, self.global_step: 4, loss: 9.94677734375\n",
      "self.validation_epoch_end:  device:0, len(outputs)=8, info: {'logits': torch.Size([16, 15501]), 'loss': torch.Size([]), 'y': torch.Size([16])}\n",
      "validation_epoch_end -> self.current_epoch: 1, self.global_step: 4, losses: tensor([10.1802,  9.8569,  9.7646, 10.0142,  9.9595, 10.0811, 10.1406,  9.9468],\n",
      "       device='cuda:0')\n",
      "training_epoch_end -> self.current_epoch: 1, self.global_step: 4, losses: tensor([9.6577, 9.9199], device='cuda:0')\n",
      "training_step_end -> self.current_epoch: 2, self.global_step: 4, loss: 9.94775390625\n",
      "training_step_end -> self.current_epoch: 2, self.global_step: 5, loss: 9.8828125\n"
     ]
    },
    {
     "data": {
      "application/vnd.jupyter.widget-view+json": {
       "model_id": "",
       "version_major": 2,
       "version_minor": 0
      },
      "text/plain": [
       "Validation: 0it [00:00, ?it/s]"
      ]
     },
     "metadata": {},
     "output_type": "display_data"
    },
    {
     "name": "stdout",
     "output_type": "stream",
     "text": [
      "validation_step_end -> self.current_epoch: 2, self.global_step: 6, loss: 9.578125\n",
      "validation_step_end -> self.current_epoch: 2, self.global_step: 6, loss: 9.6865234375\n",
      "validation_step_end -> self.current_epoch: 2, self.global_step: 6, loss: 9.96533203125\n",
      "validation_step_end -> self.current_epoch: 2, self.global_step: 6, loss: 9.82421875\n",
      "validation_step_end -> self.current_epoch: 2, self.global_step: 6, loss: 10.01318359375\n",
      "validation_step_end -> self.current_epoch: 2, self.global_step: 6, loss: 9.87109375\n",
      "validation_step_end -> self.current_epoch: 2, self.global_step: 6, loss: 9.7294921875\n",
      "validation_step_end -> self.current_epoch: 2, self.global_step: 6, loss: 9.59423828125\n",
      "self.validation_epoch_end:  device:0, len(outputs)=8, info: {'logits': torch.Size([16, 15501]), 'loss': torch.Size([]), 'y': torch.Size([16])}\n",
      "validation_epoch_end -> self.current_epoch: 2, self.global_step: 6, losses: tensor([ 9.5781,  9.6865,  9.9653,  9.8242, 10.0132,  9.8711,  9.7295,  9.5942],\n",
      "       device='cuda:0')\n",
      "training_epoch_end -> self.current_epoch: 2, self.global_step: 6, losses: tensor([9.9478, 9.8828], device='cuda:0')\n",
      "training_step_end -> self.current_epoch: 3, self.global_step: 6, loss: 9.90380859375\n",
      "training_step_end -> self.current_epoch: 3, self.global_step: 7, loss: 9.71484375\n"
     ]
    },
    {
     "data": {
      "application/vnd.jupyter.widget-view+json": {
       "model_id": "",
       "version_major": 2,
       "version_minor": 0
      },
      "text/plain": [
       "Validation: 0it [00:00, ?it/s]"
      ]
     },
     "metadata": {},
     "output_type": "display_data"
    },
    {
     "name": "stdout",
     "output_type": "stream",
     "text": [
      "validation_step_end -> self.current_epoch: 3, self.global_step: 8, loss: 9.6083984375\n",
      "validation_step_end -> self.current_epoch: 3, self.global_step: 8, loss: 9.5546875\n",
      "validation_step_end -> self.current_epoch: 3, self.global_step: 8, loss: 9.78271484375\n",
      "validation_step_end -> self.current_epoch: 3, self.global_step: 8, loss: 9.75146484375\n",
      "validation_step_end -> self.current_epoch: 3, self.global_step: 8, loss: 9.771484375\n",
      "validation_step_end -> self.current_epoch: 3, self.global_step: 8, loss: 9.98193359375\n",
      "validation_step_end -> self.current_epoch: 3, self.global_step: 8, loss: 9.67919921875\n",
      "validation_step_end -> self.current_epoch: 3, self.global_step: 8, loss: 9.54248046875\n",
      "self.validation_epoch_end:  device:0, len(outputs)=8, info: {'logits': torch.Size([16, 15501]), 'loss': torch.Size([]), 'y': torch.Size([16])}\n",
      "validation_epoch_end -> self.current_epoch: 3, self.global_step: 8, losses: tensor([9.6084, 9.5547, 9.7827, 9.7515, 9.7715, 9.9819, 9.6792, 9.5425],\n",
      "       device='cuda:0')\n",
      "training_epoch_end -> self.current_epoch: 3, self.global_step: 8, losses: tensor([9.9038, 9.7148], device='cuda:0')\n",
      "training_step_end -> self.current_epoch: 4, self.global_step: 8, loss: 9.6728515625\n",
      "training_step_end -> self.current_epoch: 4, self.global_step: 9, loss: 9.592529296875\n"
     ]
    },
    {
     "data": {
      "application/vnd.jupyter.widget-view+json": {
       "model_id": "",
       "version_major": 2,
       "version_minor": 0
      },
      "text/plain": [
       "Validation: 0it [00:00, ?it/s]"
      ]
     },
     "metadata": {},
     "output_type": "display_data"
    },
    {
     "name": "stdout",
     "output_type": "stream",
     "text": [
      "validation_step_end -> self.current_epoch: 4, self.global_step: 10, loss: 9.67529296875\n",
      "validation_step_end -> self.current_epoch: 4, self.global_step: 10, loss: 9.63330078125\n",
      "validation_step_end -> self.current_epoch: 4, self.global_step: 10, loss: 9.85986328125\n",
      "validation_step_end -> self.current_epoch: 4, self.global_step: 10, loss: 9.77587890625\n",
      "validation_step_end -> self.current_epoch: 4, self.global_step: 10, loss: 9.7412109375\n",
      "validation_step_end -> self.current_epoch: 4, self.global_step: 10, loss: 10.04345703125\n",
      "validation_step_end -> self.current_epoch: 4, self.global_step: 10, loss: 9.591796875\n",
      "validation_step_end -> self.current_epoch: 4, self.global_step: 10, loss: 9.67529296875\n",
      "self.validation_epoch_end:  device:0, len(outputs)=8, info: {'logits': torch.Size([16, 15501]), 'loss': torch.Size([]), 'y': torch.Size([16])}\n",
      "validation_epoch_end -> self.current_epoch: 4, self.global_step: 10, losses: tensor([ 9.6753,  9.6333,  9.8599,  9.7759,  9.7412, 10.0435,  9.5918,  9.6753],\n",
      "       device='cuda:0')\n",
      "training_epoch_end -> self.current_epoch: 4, self.global_step: 10, losses: tensor([9.6729, 9.5925], device='cuda:0')\n",
      "training_step_end -> self.current_epoch: 5, self.global_step: 10, loss: 9.85009765625\n",
      "training_step_end -> self.current_epoch: 5, self.global_step: 11, loss: 10.01318359375\n"
     ]
    },
    {
     "data": {
      "application/vnd.jupyter.widget-view+json": {
       "model_id": "",
       "version_major": 2,
       "version_minor": 0
      },
      "text/plain": [
       "Validation: 0it [00:00, ?it/s]"
      ]
     },
     "metadata": {},
     "output_type": "display_data"
    },
    {
     "name": "stdout",
     "output_type": "stream",
     "text": [
      "validation_step_end -> self.current_epoch: 5, self.global_step: 12, loss: 9.83642578125\n",
      "validation_step_end -> self.current_epoch: 5, self.global_step: 12, loss: 9.954345703125\n",
      "validation_step_end -> self.current_epoch: 5, self.global_step: 12, loss: 9.896484375\n",
      "validation_step_end -> self.current_epoch: 5, self.global_step: 12, loss: 10.0498046875\n",
      "validation_step_end -> self.current_epoch: 5, self.global_step: 12, loss: 9.94677734375\n",
      "validation_step_end -> self.current_epoch: 5, self.global_step: 12, loss: 10.07666015625\n",
      "validation_step_end -> self.current_epoch: 5, self.global_step: 12, loss: 9.73583984375\n",
      "validation_step_end -> self.current_epoch: 5, self.global_step: 12, loss: 9.68359375\n",
      "self.validation_epoch_end:  device:0, len(outputs)=8, info: {'logits': torch.Size([16, 15501]), 'loss': torch.Size([]), 'y': torch.Size([16])}\n",
      "validation_epoch_end -> self.current_epoch: 5, self.global_step: 12, losses: tensor([ 9.8364,  9.9543,  9.8965, 10.0498,  9.9468, 10.0767,  9.7358,  9.6836],\n",
      "       device='cuda:0')\n",
      "training_epoch_end -> self.current_epoch: 5, self.global_step: 12, losses: tensor([ 9.8501, 10.0132], device='cuda:0')\n",
      "training_step_end -> self.current_epoch: 6, self.global_step: 12, loss: 9.6162109375\n",
      "training_step_end -> self.current_epoch: 6, self.global_step: 13, loss: 9.64111328125\n"
     ]
    },
    {
     "data": {
      "application/vnd.jupyter.widget-view+json": {
       "model_id": "",
       "version_major": 2,
       "version_minor": 0
      },
      "text/plain": [
       "Validation: 0it [00:00, ?it/s]"
      ]
     },
     "metadata": {},
     "output_type": "display_data"
    },
    {
     "name": "stdout",
     "output_type": "stream",
     "text": [
      "validation_step_end -> self.current_epoch: 6, self.global_step: 14, loss: 10.10791015625\n",
      "validation_step_end -> self.current_epoch: 6, self.global_step: 14, loss: 10.185546875\n",
      "validation_step_end -> self.current_epoch: 6, self.global_step: 14, loss: 10.13671875\n",
      "validation_step_end -> self.current_epoch: 6, self.global_step: 14, loss: 10.3623046875\n",
      "validation_step_end -> self.current_epoch: 6, self.global_step: 14, loss: 10.48193359375\n",
      "validation_step_end -> self.current_epoch: 6, self.global_step: 14, loss: 10.390625\n",
      "validation_step_end -> self.current_epoch: 6, self.global_step: 14, loss: 10.142578125\n",
      "validation_step_end -> self.current_epoch: 6, self.global_step: 14, loss: 9.9375\n",
      "self.validation_epoch_end:  device:0, len(outputs)=8, info: {'logits': torch.Size([16, 15501]), 'loss': torch.Size([]), 'y': torch.Size([16])}\n",
      "validation_epoch_end -> self.current_epoch: 6, self.global_step: 14, losses: tensor([10.1079, 10.1855, 10.1367, 10.3623, 10.4819, 10.3906, 10.1426,  9.9375],\n",
      "       device='cuda:0')\n",
      "training_epoch_end -> self.current_epoch: 6, self.global_step: 14, losses: tensor([9.6162, 9.6411], device='cuda:0')\n",
      "training_step_end -> self.current_epoch: 7, self.global_step: 14, loss: 9.7587890625\n",
      "training_step_end -> self.current_epoch: 7, self.global_step: 15, loss: 9.8017578125\n"
     ]
    },
    {
     "data": {
      "application/vnd.jupyter.widget-view+json": {
       "model_id": "",
       "version_major": 2,
       "version_minor": 0
      },
      "text/plain": [
       "Validation: 0it [00:00, ?it/s]"
      ]
     },
     "metadata": {},
     "output_type": "display_data"
    },
    {
     "name": "stdout",
     "output_type": "stream",
     "text": [
      "validation_step_end -> self.current_epoch: 7, self.global_step: 16, loss: 10.845703125\n",
      "validation_step_end -> self.current_epoch: 7, self.global_step: 16, loss: 11.391845703125\n",
      "validation_step_end -> self.current_epoch: 7, self.global_step: 16, loss: 10.764404296875\n",
      "validation_step_end -> self.current_epoch: 7, self.global_step: 16, loss: 11.421630859375\n",
      "validation_step_end -> self.current_epoch: 7, self.global_step: 16, loss: 11.93505859375\n",
      "validation_step_end -> self.current_epoch: 7, self.global_step: 16, loss: 11.24267578125\n",
      "validation_step_end -> self.current_epoch: 7, self.global_step: 16, loss: 11.171875\n",
      "validation_step_end -> self.current_epoch: 7, self.global_step: 16, loss: 10.55810546875\n",
      "self.validation_epoch_end:  device:0, len(outputs)=8, info: {'logits': torch.Size([16, 15501]), 'loss': torch.Size([]), 'y': torch.Size([16])}\n",
      "validation_epoch_end -> self.current_epoch: 7, self.global_step: 16, losses: tensor([10.8457, 11.3918, 10.7644, 11.4216, 11.9351, 11.2427, 11.1719, 10.5581],\n",
      "       device='cuda:0')\n",
      "training_epoch_end -> self.current_epoch: 7, self.global_step: 16, losses: tensor([9.7588, 9.8018], device='cuda:0')\n",
      "training_step_end -> self.current_epoch: 8, self.global_step: 16, loss: 10.0078125\n",
      "training_step_end -> self.current_epoch: 8, self.global_step: 17, loss: 9.80029296875\n"
     ]
    },
    {
     "data": {
      "application/vnd.jupyter.widget-view+json": {
       "model_id": "",
       "version_major": 2,
       "version_minor": 0
      },
      "text/plain": [
       "Validation: 0it [00:00, ?it/s]"
      ]
     },
     "metadata": {},
     "output_type": "display_data"
    },
    {
     "name": "stdout",
     "output_type": "stream",
     "text": [
      "validation_step_end -> self.current_epoch: 8, self.global_step: 18, loss: 13.7646484375\n",
      "validation_step_end -> self.current_epoch: 8, self.global_step: 18, loss: 13.593017578125\n",
      "validation_step_end -> self.current_epoch: 8, self.global_step: 18, loss: 13.3779296875\n",
      "validation_step_end -> self.current_epoch: 8, self.global_step: 18, loss: 14.211669921875\n",
      "validation_step_end -> self.current_epoch: 8, self.global_step: 18, loss: 15.65869140625\n",
      "validation_step_end -> self.current_epoch: 8, self.global_step: 18, loss: 14.37744140625\n",
      "validation_step_end -> self.current_epoch: 8, self.global_step: 18, loss: 14.79931640625\n",
      "validation_step_end -> self.current_epoch: 8, self.global_step: 18, loss: 12.84814453125\n",
      "self.validation_epoch_end:  device:0, len(outputs)=8, info: {'logits': torch.Size([16, 15501]), 'loss': torch.Size([]), 'y': torch.Size([16])}\n",
      "validation_epoch_end -> self.current_epoch: 8, self.global_step: 18, losses: tensor([13.7646, 13.5930, 13.3779, 14.2117, 15.6587, 14.3774, 14.7993, 12.8481],\n",
      "       device='cuda:0')\n",
      "training_epoch_end -> self.current_epoch: 8, self.global_step: 18, losses: tensor([10.0078,  9.8003], device='cuda:0')\n",
      "training_step_end -> self.current_epoch: 9, self.global_step: 18, loss: 9.82177734375\n",
      "training_step_end -> self.current_epoch: 9, self.global_step: 19, loss: 9.7763671875\n"
     ]
    },
    {
     "data": {
      "application/vnd.jupyter.widget-view+json": {
       "model_id": "",
       "version_major": 2,
       "version_minor": 0
      },
      "text/plain": [
       "Validation: 0it [00:00, ?it/s]"
      ]
     },
     "metadata": {},
     "output_type": "display_data"
    },
    {
     "name": "stdout",
     "output_type": "stream",
     "text": [
      "validation_step_end -> self.current_epoch: 9, self.global_step: 20, loss: 20.466796875\n",
      "validation_step_end -> self.current_epoch: 9, self.global_step: 20, loss: 20.779296875\n",
      "validation_step_end -> self.current_epoch: 9, self.global_step: 20, loss: 20.08544921875\n",
      "validation_step_end -> self.current_epoch: 9, self.global_step: 20, loss: 19.725830078125\n",
      "validation_step_end -> self.current_epoch: 9, self.global_step: 20, loss: 21.75634765625\n",
      "validation_step_end -> self.current_epoch: 9, self.global_step: 20, loss: 22.00537109375\n",
      "validation_step_end -> self.current_epoch: 9, self.global_step: 20, loss: 21.49853515625\n",
      "validation_step_end -> self.current_epoch: 9, self.global_step: 20, loss: 18.6123046875\n",
      "self.validation_epoch_end:  device:0, len(outputs)=8, info: {'logits': torch.Size([16, 15501]), 'loss': torch.Size([]), 'y': torch.Size([16])}\n",
      "validation_epoch_end -> self.current_epoch: 9, self.global_step: 20, losses: tensor([20.4668, 20.7793, 20.0854, 19.7258, 21.7563, 22.0054, 21.4985, 18.6123],\n",
      "       device='cuda:0')\n",
      "training_epoch_end -> self.current_epoch: 9, self.global_step: 20, losses: tensor([9.8218, 9.7764], device='cuda:0')\n",
      "training_step_end -> self.current_epoch: 10, self.global_step: 20, loss: 9.83642578125\n",
      "training_step_end -> self.current_epoch: 10, self.global_step: 21, loss: 9.7177734375\n"
     ]
    },
    {
     "data": {
      "application/vnd.jupyter.widget-view+json": {
       "model_id": "",
       "version_major": 2,
       "version_minor": 0
      },
      "text/plain": [
       "Validation: 0it [00:00, ?it/s]"
      ]
     },
     "metadata": {},
     "output_type": "display_data"
    },
    {
     "name": "stdout",
     "output_type": "stream",
     "text": [
      "validation_step_end -> self.current_epoch: 10, self.global_step: 22, loss: 28.1806640625\n",
      "validation_step_end -> self.current_epoch: 10, self.global_step: 22, loss: 31.78515625\n",
      "validation_step_end -> self.current_epoch: 10, self.global_step: 22, loss: 30.31787109375\n",
      "validation_step_end -> self.current_epoch: 10, self.global_step: 22, loss: 27.330078125\n",
      "validation_step_end -> self.current_epoch: 10, self.global_step: 22, loss: 29.580078125\n",
      "validation_step_end -> self.current_epoch: 10, self.global_step: 22, loss: 31.6357421875\n",
      "validation_step_end -> self.current_epoch: 10, self.global_step: 22, loss: 31.66650390625\n",
      "validation_step_end -> self.current_epoch: 10, self.global_step: 22, loss: 27.35693359375\n",
      "self.validation_epoch_end:  device:0, len(outputs)=8, info: {'logits': torch.Size([16, 15501]), 'loss': torch.Size([]), 'y': torch.Size([16])}\n",
      "validation_epoch_end -> self.current_epoch: 10, self.global_step: 22, losses: tensor([28.1807, 31.7852, 30.3179, 27.3301, 29.5801, 31.6357, 31.6665, 27.3569],\n",
      "       device='cuda:0')\n",
      "training_epoch_end -> self.current_epoch: 10, self.global_step: 22, losses: tensor([9.8364, 9.7178], device='cuda:0')\n",
      "training_step_end -> self.current_epoch: 11, self.global_step: 22, loss: 9.875\n",
      "training_step_end -> self.current_epoch: 11, self.global_step: 23, loss: 9.80859375\n"
     ]
    },
    {
     "data": {
      "application/vnd.jupyter.widget-view+json": {
       "model_id": "",
       "version_major": 2,
       "version_minor": 0
      },
      "text/plain": [
       "Validation: 0it [00:00, ?it/s]"
      ]
     },
     "metadata": {},
     "output_type": "display_data"
    },
    {
     "name": "stdout",
     "output_type": "stream",
     "text": [
      "validation_step_end -> self.current_epoch: 11, self.global_step: 24, loss: 29.830078125\n",
      "validation_step_end -> self.current_epoch: 11, self.global_step: 24, loss: 35.2509765625\n",
      "validation_step_end -> self.current_epoch: 11, self.global_step: 24, loss: 33.06591796875\n",
      "validation_step_end -> self.current_epoch: 11, self.global_step: 24, loss: 28.87255859375\n",
      "validation_step_end -> self.current_epoch: 11, self.global_step: 24, loss: 32.5986328125\n",
      "validation_step_end -> self.current_epoch: 11, self.global_step: 24, loss: 33.4755859375\n",
      "validation_step_end -> self.current_epoch: 11, self.global_step: 24, loss: 33.9482421875\n",
      "validation_step_end -> self.current_epoch: 11, self.global_step: 24, loss: 30.4091796875\n",
      "self.validation_epoch_end:  device:0, len(outputs)=8, info: {'logits': torch.Size([16, 15501]), 'loss': torch.Size([]), 'y': torch.Size([16])}\n",
      "validation_epoch_end -> self.current_epoch: 11, self.global_step: 24, losses: tensor([29.8301, 35.2510, 33.0659, 28.8726, 32.5986, 33.4756, 33.9482, 30.4092],\n",
      "       device='cuda:0')\n",
      "training_epoch_end -> self.current_epoch: 11, self.global_step: 24, losses: tensor([9.8750, 9.8086], device='cuda:0')\n",
      "training_step_end -> self.current_epoch: 12, self.global_step: 24, loss: 9.86279296875\n",
      "training_step_end -> self.current_epoch: 12, self.global_step: 25, loss: 9.740234375\n"
     ]
    },
    {
     "data": {
      "application/vnd.jupyter.widget-view+json": {
       "model_id": "",
       "version_major": 2,
       "version_minor": 0
      },
      "text/plain": [
       "Validation: 0it [00:00, ?it/s]"
      ]
     },
     "metadata": {},
     "output_type": "display_data"
    },
    {
     "name": "stdout",
     "output_type": "stream",
     "text": [
      "validation_step_end -> self.current_epoch: 12, self.global_step: 26, loss: 26.23046875\n",
      "validation_step_end -> self.current_epoch: 12, self.global_step: 26, loss: 31.283203125\n",
      "validation_step_end -> self.current_epoch: 12, self.global_step: 26, loss: 29.204345703125\n",
      "validation_step_end -> self.current_epoch: 12, self.global_step: 26, loss: 25.59423828125\n",
      "validation_step_end -> self.current_epoch: 12, self.global_step: 26, loss: 29.9677734375\n",
      "validation_step_end -> self.current_epoch: 12, self.global_step: 26, loss: 29.70751953125\n",
      "validation_step_end -> self.current_epoch: 12, self.global_step: 26, loss: 30.12744140625\n",
      "validation_step_end -> self.current_epoch: 12, self.global_step: 26, loss: 27.4833984375\n",
      "self.validation_epoch_end:  device:0, len(outputs)=8, info: {'logits': torch.Size([16, 15501]), 'loss': torch.Size([]), 'y': torch.Size([16])}\n",
      "validation_epoch_end -> self.current_epoch: 12, self.global_step: 26, losses: tensor([26.2305, 31.2832, 29.2043, 25.5942, 29.9678, 29.7075, 30.1274, 27.4834],\n",
      "       device='cuda:0')\n",
      "training_epoch_end -> self.current_epoch: 12, self.global_step: 26, losses: tensor([9.8628, 9.7402], device='cuda:0')\n",
      "training_step_end -> self.current_epoch: 13, self.global_step: 26, loss: 9.74072265625\n",
      "training_step_end -> self.current_epoch: 13, self.global_step: 27, loss: 9.74169921875\n"
     ]
    },
    {
     "data": {
      "application/vnd.jupyter.widget-view+json": {
       "model_id": "",
       "version_major": 2,
       "version_minor": 0
      },
      "text/plain": [
       "Validation: 0it [00:00, ?it/s]"
      ]
     },
     "metadata": {},
     "output_type": "display_data"
    },
    {
     "name": "stdout",
     "output_type": "stream",
     "text": [
      "validation_step_end -> self.current_epoch: 13, self.global_step: 28, loss: 23.103515625\n",
      "validation_step_end -> self.current_epoch: 13, self.global_step: 28, loss: 27.2353515625\n",
      "validation_step_end -> self.current_epoch: 13, self.global_step: 28, loss: 24.356689453125\n",
      "validation_step_end -> self.current_epoch: 13, self.global_step: 28, loss: 22.318359375\n",
      "validation_step_end -> self.current_epoch: 13, self.global_step: 28, loss: 26.52587890625\n",
      "validation_step_end -> self.current_epoch: 13, self.global_step: 28, loss: 27.30126953125\n",
      "validation_step_end -> self.current_epoch: 13, self.global_step: 28, loss: 27.205078125\n",
      "validation_step_end -> self.current_epoch: 13, self.global_step: 28, loss: 25.17041015625\n",
      "self.validation_epoch_end:  device:0, len(outputs)=8, info: {'logits': torch.Size([16, 15501]), 'loss': torch.Size([]), 'y': torch.Size([16])}\n",
      "validation_epoch_end -> self.current_epoch: 13, self.global_step: 28, losses: tensor([23.1035, 27.2354, 24.3567, 22.3184, 26.5259, 27.3013, 27.2051, 25.1704],\n",
      "       device='cuda:0')\n",
      "training_epoch_end -> self.current_epoch: 13, self.global_step: 28, losses: tensor([9.7407, 9.7417], device='cuda:0')\n",
      "training_step_end -> self.current_epoch: 14, self.global_step: 28, loss: 9.687744140625\n",
      "training_step_end -> self.current_epoch: 14, self.global_step: 29, loss: 9.70751953125\n"
     ]
    },
    {
     "data": {
      "application/vnd.jupyter.widget-view+json": {
       "model_id": "",
       "version_major": 2,
       "version_minor": 0
      },
      "text/plain": [
       "Validation: 0it [00:00, ?it/s]"
      ]
     },
     "metadata": {},
     "output_type": "display_data"
    },
    {
     "name": "stdout",
     "output_type": "stream",
     "text": [
      "validation_step_end -> self.current_epoch: 14, self.global_step: 30, loss: 18.8671875\n",
      "validation_step_end -> self.current_epoch: 14, self.global_step: 30, loss: 21.994140625\n",
      "validation_step_end -> self.current_epoch: 14, self.global_step: 30, loss: 19.404052734375\n",
      "validation_step_end -> self.current_epoch: 14, self.global_step: 30, loss: 18.52392578125\n",
      "validation_step_end -> self.current_epoch: 14, self.global_step: 30, loss: 21.5400390625\n",
      "validation_step_end -> self.current_epoch: 14, self.global_step: 30, loss: 22.7197265625\n",
      "validation_step_end -> self.current_epoch: 14, self.global_step: 30, loss: 22.92626953125\n",
      "validation_step_end -> self.current_epoch: 14, self.global_step: 30, loss: 21.255859375\n",
      "self.validation_epoch_end:  device:0, len(outputs)=8, info: {'logits': torch.Size([16, 15501]), 'loss': torch.Size([]), 'y': torch.Size([16])}\n",
      "validation_epoch_end -> self.current_epoch: 14, self.global_step: 30, losses: tensor([18.8672, 21.9941, 19.4041, 18.5239, 21.5400, 22.7197, 22.9263, 21.2559],\n",
      "       device='cuda:0')\n",
      "training_epoch_end -> self.current_epoch: 14, self.global_step: 30, losses: tensor([9.6877, 9.7075], device='cuda:0')\n",
      "training_step_end -> self.current_epoch: 15, self.global_step: 30, loss: 9.8154296875\n",
      "training_step_end -> self.current_epoch: 15, self.global_step: 31, loss: 9.76318359375\n"
     ]
    },
    {
     "data": {
      "application/vnd.jupyter.widget-view+json": {
       "model_id": "",
       "version_major": 2,
       "version_minor": 0
      },
      "text/plain": [
       "Validation: 0it [00:00, ?it/s]"
      ]
     },
     "metadata": {},
     "output_type": "display_data"
    },
    {
     "name": "stdout",
     "output_type": "stream",
     "text": [
      "validation_step_end -> self.current_epoch: 15, self.global_step: 32, loss: 16.2119140625\n",
      "validation_step_end -> self.current_epoch: 15, self.global_step: 32, loss: 18.7041015625\n",
      "validation_step_end -> self.current_epoch: 15, self.global_step: 32, loss: 17.029296875\n",
      "validation_step_end -> self.current_epoch: 15, self.global_step: 32, loss: 16.135986328125\n",
      "validation_step_end -> self.current_epoch: 15, self.global_step: 32, loss: 18.43212890625\n",
      "validation_step_end -> self.current_epoch: 15, self.global_step: 32, loss: 19.236328125\n",
      "validation_step_end -> self.current_epoch: 15, self.global_step: 32, loss: 20.23095703125\n",
      "validation_step_end -> self.current_epoch: 15, self.global_step: 32, loss: 18.279296875\n",
      "self.validation_epoch_end:  device:0, len(outputs)=8, info: {'logits': torch.Size([16, 15501]), 'loss': torch.Size([]), 'y': torch.Size([16])}\n",
      "validation_epoch_end -> self.current_epoch: 15, self.global_step: 32, losses: tensor([16.2119, 18.7041, 17.0293, 16.1360, 18.4321, 19.2363, 20.2310, 18.2793],\n",
      "       device='cuda:0')\n",
      "training_epoch_end -> self.current_epoch: 15, self.global_step: 32, losses: tensor([9.8154, 9.7632], device='cuda:0')\n",
      "training_step_end -> self.current_epoch: 16, self.global_step: 32, loss: 9.78369140625\n",
      "training_step_end -> self.current_epoch: 16, self.global_step: 33, loss: 9.75927734375\n"
     ]
    },
    {
     "data": {
      "application/vnd.jupyter.widget-view+json": {
       "model_id": "",
       "version_major": 2,
       "version_minor": 0
      },
      "text/plain": [
       "Validation: 0it [00:00, ?it/s]"
      ]
     },
     "metadata": {},
     "output_type": "display_data"
    },
    {
     "name": "stdout",
     "output_type": "stream",
     "text": [
      "validation_step_end -> self.current_epoch: 16, self.global_step: 34, loss: 13.6357421875\n",
      "validation_step_end -> self.current_epoch: 16, self.global_step: 34, loss: 15.109375\n",
      "validation_step_end -> self.current_epoch: 16, self.global_step: 34, loss: 14.273193359375\n",
      "validation_step_end -> self.current_epoch: 16, self.global_step: 34, loss: 13.768798828125\n",
      "validation_step_end -> self.current_epoch: 16, self.global_step: 34, loss: 14.9755859375\n",
      "validation_step_end -> self.current_epoch: 16, self.global_step: 34, loss: 15.69677734375\n",
      "validation_step_end -> self.current_epoch: 16, self.global_step: 34, loss: 17.3388671875\n",
      "validation_step_end -> self.current_epoch: 16, self.global_step: 34, loss: 14.7734375\n",
      "self.validation_epoch_end:  device:0, len(outputs)=8, info: {'logits': torch.Size([16, 15501]), 'loss': torch.Size([]), 'y': torch.Size([16])}\n",
      "validation_epoch_end -> self.current_epoch: 16, self.global_step: 34, losses: tensor([13.6357, 15.1094, 14.2732, 13.7688, 14.9756, 15.6968, 17.3389, 14.7734],\n",
      "       device='cuda:0')\n",
      "training_epoch_end -> self.current_epoch: 16, self.global_step: 34, losses: tensor([9.7837, 9.7593], device='cuda:0')\n",
      "training_step_end -> self.current_epoch: 17, self.global_step: 34, loss: 9.82275390625\n",
      "training_step_end -> self.current_epoch: 17, self.global_step: 35, loss: 9.791015625\n"
     ]
    },
    {
     "data": {
      "application/vnd.jupyter.widget-view+json": {
       "model_id": "",
       "version_major": 2,
       "version_minor": 0
      },
      "text/plain": [
       "Validation: 0it [00:00, ?it/s]"
      ]
     },
     "metadata": {},
     "output_type": "display_data"
    },
    {
     "name": "stdout",
     "output_type": "stream",
     "text": [
      "validation_step_end -> self.current_epoch: 17, self.global_step: 36, loss: 11.23779296875\n",
      "validation_step_end -> self.current_epoch: 17, self.global_step: 36, loss: 11.844970703125\n",
      "validation_step_end -> self.current_epoch: 17, self.global_step: 36, loss: 11.73095703125\n",
      "validation_step_end -> self.current_epoch: 17, self.global_step: 36, loss: 11.797607421875\n",
      "validation_step_end -> self.current_epoch: 17, self.global_step: 36, loss: 11.71142578125\n",
      "validation_step_end -> self.current_epoch: 17, self.global_step: 36, loss: 12.18359375\n",
      "validation_step_end -> self.current_epoch: 17, self.global_step: 36, loss: 13.68212890625\n",
      "validation_step_end -> self.current_epoch: 17, self.global_step: 36, loss: 11.42236328125\n",
      "self.validation_epoch_end:  device:0, len(outputs)=8, info: {'logits': torch.Size([16, 15501]), 'loss': torch.Size([]), 'y': torch.Size([16])}\n",
      "validation_epoch_end -> self.current_epoch: 17, self.global_step: 36, losses: tensor([11.2378, 11.8450, 11.7310, 11.7976, 11.7114, 12.1836, 13.6821, 11.4224],\n",
      "       device='cuda:0')\n",
      "training_epoch_end -> self.current_epoch: 17, self.global_step: 36, losses: tensor([9.8228, 9.7910], device='cuda:0')\n",
      "training_step_end -> self.current_epoch: 18, self.global_step: 36, loss: 9.68017578125\n",
      "training_step_end -> self.current_epoch: 18, self.global_step: 37, loss: 9.634765625\n"
     ]
    },
    {
     "data": {
      "application/vnd.jupyter.widget-view+json": {
       "model_id": "",
       "version_major": 2,
       "version_minor": 0
      },
      "text/plain": [
       "Validation: 0it [00:00, ?it/s]"
      ]
     },
     "metadata": {},
     "output_type": "display_data"
    },
    {
     "name": "stdout",
     "output_type": "stream",
     "text": [
      "validation_step_end -> self.current_epoch: 18, self.global_step: 38, loss: 10.3193359375\n",
      "validation_step_end -> self.current_epoch: 18, self.global_step: 38, loss: 10.6044921875\n",
      "validation_step_end -> self.current_epoch: 18, self.global_step: 38, loss: 10.51513671875\n",
      "validation_step_end -> self.current_epoch: 18, self.global_step: 38, loss: 10.7451171875\n",
      "validation_step_end -> self.current_epoch: 18, self.global_step: 38, loss: 10.44873046875\n",
      "validation_step_end -> self.current_epoch: 18, self.global_step: 38, loss: 10.623046875\n",
      "validation_step_end -> self.current_epoch: 18, self.global_step: 38, loss: 11.640625\n",
      "validation_step_end -> self.current_epoch: 18, self.global_step: 38, loss: 10.25244140625\n",
      "self.validation_epoch_end:  device:0, len(outputs)=8, info: {'logits': torch.Size([16, 15501]), 'loss': torch.Size([]), 'y': torch.Size([16])}\n",
      "validation_epoch_end -> self.current_epoch: 18, self.global_step: 38, losses: tensor([10.3193, 10.6045, 10.5151, 10.7451, 10.4487, 10.6230, 11.6406, 10.2524],\n",
      "       device='cuda:0')\n",
      "training_epoch_end -> self.current_epoch: 18, self.global_step: 38, losses: tensor([9.6802, 9.6348], device='cuda:0')\n",
      "training_step_end -> self.current_epoch: 19, self.global_step: 38, loss: 9.716796875\n",
      "training_step_end -> self.current_epoch: 19, self.global_step: 39, loss: 9.72412109375\n"
     ]
    },
    {
     "data": {
      "application/vnd.jupyter.widget-view+json": {
       "model_id": "",
       "version_major": 2,
       "version_minor": 0
      },
      "text/plain": [
       "Validation: 0it [00:00, ?it/s]"
      ]
     },
     "metadata": {},
     "output_type": "display_data"
    },
    {
     "name": "stdout",
     "output_type": "stream",
     "text": [
      "validation_step_end -> self.current_epoch: 19, self.global_step: 40, loss: 10.01123046875\n",
      "validation_step_end -> self.current_epoch: 19, self.global_step: 40, loss: 10.08251953125\n",
      "validation_step_end -> self.current_epoch: 19, self.global_step: 40, loss: 10.081787109375\n",
      "validation_step_end -> self.current_epoch: 19, self.global_step: 40, loss: 10.140625\n",
      "validation_step_end -> self.current_epoch: 19, self.global_step: 40, loss: 9.962890625\n",
      "validation_step_end -> self.current_epoch: 19, self.global_step: 40, loss: 10.11669921875\n",
      "validation_step_end -> self.current_epoch: 19, self.global_step: 40, loss: 10.603515625\n",
      "validation_step_end -> self.current_epoch: 19, self.global_step: 40, loss: 9.92822265625\n",
      "self.validation_epoch_end:  device:0, len(outputs)=8, info: {'logits': torch.Size([16, 15501]), 'loss': torch.Size([]), 'y': torch.Size([16])}\n",
      "validation_epoch_end -> self.current_epoch: 19, self.global_step: 40, losses: tensor([10.0112, 10.0825, 10.0818, 10.1406,  9.9629, 10.1167, 10.6035,  9.9282],\n",
      "       device='cuda:0')\n",
      "training_epoch_end -> self.current_epoch: 19, self.global_step: 40, losses: tensor([9.7168, 9.7241], device='cuda:0')\n",
      "training_step_end -> self.current_epoch: 20, self.global_step: 40, loss: 9.783203125\n",
      "training_step_end -> self.current_epoch: 20, self.global_step: 41, loss: 9.54150390625\n"
     ]
    },
    {
     "data": {
      "application/vnd.jupyter.widget-view+json": {
       "model_id": "",
       "version_major": 2,
       "version_minor": 0
      },
      "text/plain": [
       "Validation: 0it [00:00, ?it/s]"
      ]
     },
     "metadata": {},
     "output_type": "display_data"
    },
    {
     "name": "stdout",
     "output_type": "stream",
     "text": [
      "validation_step_end -> self.current_epoch: 20, self.global_step: 42, loss: 9.9228515625\n",
      "validation_step_end -> self.current_epoch: 20, self.global_step: 42, loss: 9.877685546875\n",
      "validation_step_end -> self.current_epoch: 20, self.global_step: 42, loss: 9.908935546875\n",
      "validation_step_end -> self.current_epoch: 20, self.global_step: 42, loss: 9.951171875\n",
      "validation_step_end -> self.current_epoch: 20, self.global_step: 42, loss: 9.806640625\n",
      "validation_step_end -> self.current_epoch: 20, self.global_step: 42, loss: 9.943359375\n",
      "validation_step_end -> self.current_epoch: 20, self.global_step: 42, loss: 10.2392578125\n",
      "validation_step_end -> self.current_epoch: 20, self.global_step: 42, loss: 9.833984375\n",
      "self.validation_epoch_end:  device:0, len(outputs)=8, info: {'logits': torch.Size([16, 15501]), 'loss': torch.Size([]), 'y': torch.Size([16])}\n",
      "validation_epoch_end -> self.current_epoch: 20, self.global_step: 42, losses: tensor([ 9.9229,  9.8777,  9.9089,  9.9512,  9.8066,  9.9434, 10.2393,  9.8340],\n",
      "       device='cuda:0')\n",
      "training_epoch_end -> self.current_epoch: 20, self.global_step: 42, losses: tensor([9.7832, 9.5415], device='cuda:0')\n",
      "training_step_end -> self.current_epoch: 21, self.global_step: 42, loss: 9.72705078125\n",
      "training_step_end -> self.current_epoch: 21, self.global_step: 43, loss: 9.751953125\n"
     ]
    },
    {
     "data": {
      "application/vnd.jupyter.widget-view+json": {
       "model_id": "",
       "version_major": 2,
       "version_minor": 0
      },
      "text/plain": [
       "Validation: 0it [00:00, ?it/s]"
      ]
     },
     "metadata": {},
     "output_type": "display_data"
    },
    {
     "name": "stdout",
     "output_type": "stream",
     "text": [
      "validation_step_end -> self.current_epoch: 21, self.global_step: 44, loss: 9.8486328125\n",
      "validation_step_end -> self.current_epoch: 21, self.global_step: 44, loss: 9.760498046875\n",
      "validation_step_end -> self.current_epoch: 21, self.global_step: 44, loss: 9.778564453125\n",
      "validation_step_end -> self.current_epoch: 21, self.global_step: 44, loss: 9.806640625\n",
      "validation_step_end -> self.current_epoch: 21, self.global_step: 44, loss: 9.7060546875\n",
      "validation_step_end -> self.current_epoch: 21, self.global_step: 44, loss: 9.84375\n",
      "validation_step_end -> self.current_epoch: 21, self.global_step: 44, loss: 9.96240234375\n",
      "validation_step_end -> self.current_epoch: 21, self.global_step: 44, loss: 9.7880859375\n",
      "self.validation_epoch_end:  device:0, len(outputs)=8, info: {'logits': torch.Size([16, 15501]), 'loss': torch.Size([]), 'y': torch.Size([16])}\n",
      "validation_epoch_end -> self.current_epoch: 21, self.global_step: 44, losses: tensor([9.8486, 9.7605, 9.7786, 9.8066, 9.7061, 9.8438, 9.9624, 9.7881],\n",
      "       device='cuda:0')\n",
      "training_epoch_end -> self.current_epoch: 21, self.global_step: 44, losses: tensor([9.7271, 9.7520], device='cuda:0')\n",
      "training_step_end -> self.current_epoch: 22, self.global_step: 44, loss: 9.640625\n",
      "training_step_end -> self.current_epoch: 22, self.global_step: 45, loss: 9.7255859375\n"
     ]
    },
    {
     "data": {
      "application/vnd.jupyter.widget-view+json": {
       "model_id": "",
       "version_major": 2,
       "version_minor": 0
      },
      "text/plain": [
       "Validation: 0it [00:00, ?it/s]"
      ]
     },
     "metadata": {},
     "output_type": "display_data"
    },
    {
     "name": "stdout",
     "output_type": "stream",
     "text": [
      "validation_step_end -> self.current_epoch: 22, self.global_step: 46, loss: 9.8173828125\n",
      "validation_step_end -> self.current_epoch: 22, self.global_step: 46, loss: 9.731689453125\n",
      "validation_step_end -> self.current_epoch: 22, self.global_step: 46, loss: 9.72802734375\n",
      "validation_step_end -> self.current_epoch: 22, self.global_step: 46, loss: 9.77001953125\n",
      "validation_step_end -> self.current_epoch: 22, self.global_step: 46, loss: 9.66845703125\n",
      "validation_step_end -> self.current_epoch: 22, self.global_step: 46, loss: 9.81103515625\n",
      "validation_step_end -> self.current_epoch: 22, self.global_step: 46, loss: 9.86572265625\n",
      "validation_step_end -> self.current_epoch: 22, self.global_step: 46, loss: 9.76220703125\n",
      "self.validation_epoch_end:  device:0, len(outputs)=8, info: {'logits': torch.Size([16, 15501]), 'loss': torch.Size([]), 'y': torch.Size([16])}\n",
      "validation_epoch_end -> self.current_epoch: 22, self.global_step: 46, losses: tensor([9.8174, 9.7317, 9.7280, 9.7700, 9.6685, 9.8110, 9.8657, 9.7622],\n",
      "       device='cuda:0')\n",
      "training_epoch_end -> self.current_epoch: 22, self.global_step: 46, losses: tensor([9.6406, 9.7256], device='cuda:0')\n",
      "training_step_end -> self.current_epoch: 23, self.global_step: 46, loss: 9.7919921875\n",
      "training_step_end -> self.current_epoch: 23, self.global_step: 47, loss: 9.72412109375\n"
     ]
    },
    {
     "data": {
      "application/vnd.jupyter.widget-view+json": {
       "model_id": "",
       "version_major": 2,
       "version_minor": 0
      },
      "text/plain": [
       "Validation: 0it [00:00, ?it/s]"
      ]
     },
     "metadata": {},
     "output_type": "display_data"
    },
    {
     "name": "stdout",
     "output_type": "stream",
     "text": [
      "validation_step_end -> self.current_epoch: 23, self.global_step: 48, loss: 9.78857421875\n",
      "validation_step_end -> self.current_epoch: 23, self.global_step: 48, loss: 9.729736328125\n",
      "validation_step_end -> self.current_epoch: 23, self.global_step: 48, loss: 9.69873046875\n",
      "validation_step_end -> self.current_epoch: 23, self.global_step: 48, loss: 9.7451171875\n",
      "validation_step_end -> self.current_epoch: 23, self.global_step: 48, loss: 9.64794921875\n",
      "validation_step_end -> self.current_epoch: 23, self.global_step: 48, loss: 9.7919921875\n",
      "validation_step_end -> self.current_epoch: 23, self.global_step: 48, loss: 9.818359375\n",
      "validation_step_end -> self.current_epoch: 23, self.global_step: 48, loss: 9.74951171875\n",
      "self.validation_epoch_end:  device:0, len(outputs)=8, info: {'logits': torch.Size([16, 15501]), 'loss': torch.Size([]), 'y': torch.Size([16])}\n",
      "validation_epoch_end -> self.current_epoch: 23, self.global_step: 48, losses: tensor([9.7886, 9.7297, 9.6987, 9.7451, 9.6479, 9.7920, 9.8184, 9.7495],\n",
      "       device='cuda:0')\n",
      "training_epoch_end -> self.current_epoch: 23, self.global_step: 48, losses: tensor([9.7920, 9.7241], device='cuda:0')\n",
      "training_step_end -> self.current_epoch: 24, self.global_step: 48, loss: 9.7802734375\n",
      "training_step_end -> self.current_epoch: 24, self.global_step: 49, loss: 9.59326171875\n"
     ]
    },
    {
     "data": {
      "application/vnd.jupyter.widget-view+json": {
       "model_id": "",
       "version_major": 2,
       "version_minor": 0
      },
      "text/plain": [
       "Validation: 0it [00:00, ?it/s]"
      ]
     },
     "metadata": {},
     "output_type": "display_data"
    },
    {
     "name": "stdout",
     "output_type": "stream",
     "text": [
      "validation_step_end -> self.current_epoch: 24, self.global_step: 50, loss: 9.76904296875\n",
      "validation_step_end -> self.current_epoch: 24, self.global_step: 50, loss: 9.7099609375\n",
      "validation_step_end -> self.current_epoch: 24, self.global_step: 50, loss: 9.6572265625\n",
      "validation_step_end -> self.current_epoch: 24, self.global_step: 50, loss: 9.7216796875\n",
      "validation_step_end -> self.current_epoch: 24, self.global_step: 50, loss: 9.62744140625\n",
      "validation_step_end -> self.current_epoch: 24, self.global_step: 50, loss: 9.77392578125\n",
      "validation_step_end -> self.current_epoch: 24, self.global_step: 50, loss: 9.77880859375\n",
      "validation_step_end -> self.current_epoch: 24, self.global_step: 50, loss: 9.74560546875\n",
      "self.validation_epoch_end:  device:0, len(outputs)=8, info: {'logits': torch.Size([16, 15501]), 'loss': torch.Size([]), 'y': torch.Size([16])}\n",
      "validation_epoch_end -> self.current_epoch: 24, self.global_step: 50, losses: tensor([9.7690, 9.7100, 9.6572, 9.7217, 9.6274, 9.7739, 9.7788, 9.7456],\n",
      "       device='cuda:0')\n",
      "training_epoch_end -> self.current_epoch: 24, self.global_step: 50, losses: tensor([9.7803, 9.5933], device='cuda:0')\n",
      "training_step_end -> self.current_epoch: 25, self.global_step: 50, loss: 9.73876953125\n",
      "training_step_end -> self.current_epoch: 25, self.global_step: 51, loss: 9.73291015625\n"
     ]
    },
    {
     "data": {
      "application/vnd.jupyter.widget-view+json": {
       "model_id": "",
       "version_major": 2,
       "version_minor": 0
      },
      "text/plain": [
       "Validation: 0it [00:00, ?it/s]"
      ]
     },
     "metadata": {},
     "output_type": "display_data"
    },
    {
     "name": "stdout",
     "output_type": "stream",
     "text": [
      "validation_step_end -> self.current_epoch: 25, self.global_step: 52, loss: 9.7578125\n",
      "validation_step_end -> self.current_epoch: 25, self.global_step: 52, loss: 9.6953125\n",
      "validation_step_end -> self.current_epoch: 25, self.global_step: 52, loss: 9.6083984375\n",
      "validation_step_end -> self.current_epoch: 25, self.global_step: 52, loss: 9.7041015625\n",
      "validation_step_end -> self.current_epoch: 25, self.global_step: 52, loss: 9.623046875\n",
      "validation_step_end -> self.current_epoch: 25, self.global_step: 52, loss: 9.76220703125\n",
      "validation_step_end -> self.current_epoch: 25, self.global_step: 52, loss: 9.7568359375\n",
      "validation_step_end -> self.current_epoch: 25, self.global_step: 52, loss: 9.75146484375\n",
      "self.validation_epoch_end:  device:0, len(outputs)=8, info: {'logits': torch.Size([16, 15501]), 'loss': torch.Size([]), 'y': torch.Size([16])}\n",
      "validation_epoch_end -> self.current_epoch: 25, self.global_step: 52, losses: tensor([9.7578, 9.6953, 9.6084, 9.7041, 9.6230, 9.7622, 9.7568, 9.7515],\n",
      "       device='cuda:0')\n",
      "training_epoch_end -> self.current_epoch: 25, self.global_step: 52, losses: tensor([9.7388, 9.7329], device='cuda:0')\n",
      "training_step_end -> self.current_epoch: 26, self.global_step: 52, loss: 9.7451171875\n",
      "training_step_end -> self.current_epoch: 26, self.global_step: 53, loss: 9.67431640625\n"
     ]
    },
    {
     "data": {
      "application/vnd.jupyter.widget-view+json": {
       "model_id": "",
       "version_major": 2,
       "version_minor": 0
      },
      "text/plain": [
       "Validation: 0it [00:00, ?it/s]"
      ]
     },
     "metadata": {},
     "output_type": "display_data"
    },
    {
     "name": "stdout",
     "output_type": "stream",
     "text": [
      "validation_step_end -> self.current_epoch: 26, self.global_step: 54, loss: 9.7470703125\n",
      "validation_step_end -> self.current_epoch: 26, self.global_step: 54, loss: 9.68017578125\n",
      "validation_step_end -> self.current_epoch: 26, self.global_step: 54, loss: 9.58984375\n",
      "validation_step_end -> self.current_epoch: 26, self.global_step: 54, loss: 9.6943359375\n",
      "validation_step_end -> self.current_epoch: 26, self.global_step: 54, loss: 9.62548828125\n",
      "validation_step_end -> self.current_epoch: 26, self.global_step: 54, loss: 9.75439453125\n",
      "validation_step_end -> self.current_epoch: 26, self.global_step: 54, loss: 9.7421875\n",
      "validation_step_end -> self.current_epoch: 26, self.global_step: 54, loss: 9.75537109375\n",
      "self.validation_epoch_end:  device:0, len(outputs)=8, info: {'logits': torch.Size([16, 15501]), 'loss': torch.Size([]), 'y': torch.Size([16])}\n",
      "validation_epoch_end -> self.current_epoch: 26, self.global_step: 54, losses: tensor([9.7471, 9.6802, 9.5898, 9.6943, 9.6255, 9.7544, 9.7422, 9.7554],\n",
      "       device='cuda:0')\n",
      "training_epoch_end -> self.current_epoch: 26, self.global_step: 54, losses: tensor([9.7451, 9.6743], device='cuda:0')\n",
      "training_step_end -> self.current_epoch: 27, self.global_step: 54, loss: 9.689453125\n",
      "training_step_end -> self.current_epoch: 27, self.global_step: 55, loss: 9.72900390625\n"
     ]
    },
    {
     "data": {
      "application/vnd.jupyter.widget-view+json": {
       "model_id": "",
       "version_major": 2,
       "version_minor": 0
      },
      "text/plain": [
       "Validation: 0it [00:00, ?it/s]"
      ]
     },
     "metadata": {},
     "output_type": "display_data"
    },
    {
     "name": "stdout",
     "output_type": "stream",
     "text": [
      "validation_step_end -> self.current_epoch: 27, self.global_step: 56, loss: 9.74462890625\n",
      "validation_step_end -> self.current_epoch: 27, self.global_step: 56, loss: 9.67529296875\n",
      "validation_step_end -> self.current_epoch: 27, self.global_step: 56, loss: 9.576904296875\n",
      "validation_step_end -> self.current_epoch: 27, self.global_step: 56, loss: 9.6953125\n",
      "validation_step_end -> self.current_epoch: 27, self.global_step: 56, loss: 9.6279296875\n",
      "validation_step_end -> self.current_epoch: 27, self.global_step: 56, loss: 9.74951171875\n",
      "validation_step_end -> self.current_epoch: 27, self.global_step: 56, loss: 9.74365234375\n",
      "validation_step_end -> self.current_epoch: 27, self.global_step: 56, loss: 9.7529296875\n",
      "self.validation_epoch_end:  device:0, len(outputs)=8, info: {'logits': torch.Size([16, 15501]), 'loss': torch.Size([]), 'y': torch.Size([16])}\n",
      "validation_epoch_end -> self.current_epoch: 27, self.global_step: 56, losses: tensor([9.7446, 9.6753, 9.5769, 9.6953, 9.6279, 9.7495, 9.7437, 9.7529],\n",
      "       device='cuda:0')\n",
      "training_epoch_end -> self.current_epoch: 27, self.global_step: 56, losses: tensor([9.6895, 9.7290], device='cuda:0')\n",
      "training_step_end -> self.current_epoch: 28, self.global_step: 56, loss: 9.79833984375\n",
      "training_step_end -> self.current_epoch: 28, self.global_step: 57, loss: 9.69287109375\n"
     ]
    },
    {
     "data": {
      "application/vnd.jupyter.widget-view+json": {
       "model_id": "",
       "version_major": 2,
       "version_minor": 0
      },
      "text/plain": [
       "Validation: 0it [00:00, ?it/s]"
      ]
     },
     "metadata": {},
     "output_type": "display_data"
    },
    {
     "name": "stdout",
     "output_type": "stream",
     "text": [
      "validation_step_end -> self.current_epoch: 28, self.global_step: 58, loss: 9.7470703125\n",
      "validation_step_end -> self.current_epoch: 28, self.global_step: 58, loss: 9.673828125\n",
      "validation_step_end -> self.current_epoch: 28, self.global_step: 58, loss: 9.576904296875\n",
      "validation_step_end -> self.current_epoch: 28, self.global_step: 58, loss: 9.69873046875\n",
      "validation_step_end -> self.current_epoch: 28, self.global_step: 58, loss: 9.630859375\n",
      "validation_step_end -> self.current_epoch: 28, self.global_step: 58, loss: 9.74609375\n",
      "validation_step_end -> self.current_epoch: 28, self.global_step: 58, loss: 9.74658203125\n",
      "validation_step_end -> self.current_epoch: 28, self.global_step: 58, loss: 9.75146484375\n",
      "self.validation_epoch_end:  device:0, len(outputs)=8, info: {'logits': torch.Size([16, 15501]), 'loss': torch.Size([]), 'y': torch.Size([16])}\n",
      "validation_epoch_end -> self.current_epoch: 28, self.global_step: 58, losses: tensor([9.7471, 9.6738, 9.5769, 9.6987, 9.6309, 9.7461, 9.7466, 9.7515],\n",
      "       device='cuda:0')\n",
      "training_epoch_end -> self.current_epoch: 28, self.global_step: 58, losses: tensor([9.7983, 9.6929], device='cuda:0')\n",
      "training_step_end -> self.current_epoch: 29, self.global_step: 58, loss: 9.64501953125\n",
      "training_step_end -> self.current_epoch: 29, self.global_step: 59, loss: 9.677734375\n"
     ]
    },
    {
     "data": {
      "application/vnd.jupyter.widget-view+json": {
       "model_id": "",
       "version_major": 2,
       "version_minor": 0
      },
      "text/plain": [
       "Validation: 0it [00:00, ?it/s]"
      ]
     },
     "metadata": {},
     "output_type": "display_data"
    },
    {
     "name": "stdout",
     "output_type": "stream",
     "text": [
      "validation_step_end -> self.current_epoch: 29, self.global_step: 60, loss: 9.73974609375\n",
      "validation_step_end -> self.current_epoch: 29, self.global_step: 60, loss: 9.66845703125\n",
      "validation_step_end -> self.current_epoch: 29, self.global_step: 60, loss: 9.563720703125\n",
      "validation_step_end -> self.current_epoch: 29, self.global_step: 60, loss: 9.693359375\n",
      "validation_step_end -> self.current_epoch: 29, self.global_step: 60, loss: 9.62939453125\n",
      "validation_step_end -> self.current_epoch: 29, self.global_step: 60, loss: 9.74560546875\n",
      "validation_step_end -> self.current_epoch: 29, self.global_step: 60, loss: 9.7353515625\n",
      "validation_step_end -> self.current_epoch: 29, self.global_step: 60, loss: 9.74609375\n",
      "self.validation_epoch_end:  device:0, len(outputs)=8, info: {'logits': torch.Size([16, 15501]), 'loss': torch.Size([]), 'y': torch.Size([16])}\n",
      "validation_epoch_end -> self.current_epoch: 29, self.global_step: 60, losses: tensor([9.7397, 9.6685, 9.5637, 9.6934, 9.6294, 9.7456, 9.7354, 9.7461],\n",
      "       device='cuda:0')\n",
      "training_epoch_end -> self.current_epoch: 29, self.global_step: 60, losses: tensor([9.6450, 9.6777], device='cuda:0')\n"
     ]
    }
   ],
   "source": [
    "pp(OmegaConf.to_container(cfg, resolve=True))\n",
    "results = trainer.fit(model=model, datamodule=datamodule)"
   ]
  },
  {
   "cell_type": "code",
   "execution_count": null,
   "id": "fce3a940-692d-47fb-8a52-f62c305f80b4",
   "metadata": {},
   "outputs": [],
   "source": []
  },
  {
   "cell_type": "markdown",
   "id": "adbbe2ac-017b-4084-93fb-1fc1270ab398",
   "metadata": {},
   "source": [
    "### predict"
   ]
  },
  {
   "cell_type": "code",
   "execution_count": null,
   "id": "ba09859a-d8b0-49c9-819b-840d2ad47437",
   "metadata": {},
   "outputs": [],
   "source": []
  },
  {
   "cell_type": "code",
   "execution_count": 4,
   "id": "a13e5140-8514-4a7b-84f6-5ebdfccaeb5d",
   "metadata": {},
   "outputs": [
    {
     "name": "stdout",
     "output_type": "stream",
     "text": [
      "Importing imutils\n"
     ]
    }
   ],
   "source": [
    "%load_ext autoreload\n",
    "%autoreload 2\n",
    "\n",
    "import os\n",
    "\n",
    "os.environ[\"CUDA_VISIBLE_DEVICES\"] = \"7\"\n",
    "\n",
    "\n",
    "from IPython.display import display\n",
    "from IPython.core.interactiveshell import InteractiveShell\n",
    "InteractiveShell.ast_node_interactivity = \"all\"\n",
    "\n",
    "\n",
    "import pandas as pd\n",
    "from pathlib import Path\n",
    "from icecream import ic\n",
    "from rich import print as pp\n",
    "import warnings\n",
    "warnings.simplefilter(action='ignore', category=FutureWarning)\n",
    "\n",
    "# from imutils.big.datamodule import Herbarium2022DataModule, Herbarium2022Dataset\n",
    "from imutils.ml.data.datamodule import Herbarium2022DataModule, Herbarium2022Dataset\n",
    "from imutils.ml.utils.etl_utils import ETL\n",
    "\n",
    "import pytorch_lightning as pl\n",
    "from torchvision import transforms as T\n",
    "import argparse\n",
    "import imutils\n",
    "from hydra.experimental import compose, initialize, initialize_config_dir\n",
    "import hydra\n",
    "from omegaconf import DictConfig, OmegaConf\n",
    "from typing import *\n",
    "default_reader = None\n",
    "import torchmetrics\n",
    "\n",
    "from imutils.ml.models.pl import classifier\n",
    "\n",
    "from imutils.ml.utils.experiment_utils import configure_callbacks, configure_loggers, configure_trainer\n",
    "\n",
    "\n",
    "import wandb\n",
    "import os\n",
    "from pathlib import Path\n",
    "# os.environ[\"CUDA_VISIBLE_DEVICES\"] = \"6,7\"\n",
    "# api = wandb.Api()\n",
    "# run = api.run(\"jrose/herbarium2022/37r673ke\")\n",
    "import imutils\n",
    "from imutils.ml.utils.etl_utils import ETL\n",
    "from omegaconf import DictConfig, OmegaConf\n",
    "\n",
    "from rich import print as pp"
   ]
  },
  {
   "cell_type": "code",
   "execution_count": null,
   "id": "c26b934c-c757-4ff7-aa63-160d47d68105",
   "metadata": {},
   "outputs": [],
   "source": []
  },
  {
   "cell_type": "code",
   "execution_count": 2,
   "id": "7087a2be-e932-4541-af90-13835a211d02",
   "metadata": {},
   "outputs": [],
   "source": [
    "\n",
    "\n",
    "# ckpt_path = \"/media/data/jacob/GitHub/image-utils/imutils/ml/hydra_experiments/2022-03-24/07-35-17/hydra_experiments/2022-03-24/07-35-17/ckpts/epoch=10-val_loss=2.834-val_F1=0.384.ckpt\"\n",
    "\n",
    "# ckpt_path = \"/media/data/jacob/GitHub/image-utils/imutils/ml/hydra_experiments/2022-03-24/07-35-17/hydra_experiments/2022-03-24/07-35-17/ckpts/epoch=14-val_loss=2.521-val_F1=0.443.ckpt\"\n",
    "\n",
    "# ckpt_dir = \"/media/data/jacob/GitHub/image-utils/imutils/ml/hydra_experiments/2022-03-24/07-35-17/hydra_experiments/2022-03-24/07-35-17/ckpts\"\n",
    "# os.listdir(ckpt_dir)"
   ]
  },
  {
   "cell_type": "code",
   "execution_count": 5,
   "id": "a39d4b59-4e1d-4763-a340-17e5d9eca1d8",
   "metadata": {},
   "outputs": [],
   "source": [
    "from imutils.ml.utils.experiment_utils import (configure_callbacks,\n",
    "                                               configure_loggers,\n",
    "                                               configure_trainer,\n",
    "                                               configure_loss_func)\n"
   ]
  },
  {
   "cell_type": "code",
   "execution_count": 6,
   "id": "7370120c-0893-4cf0-8562-485758c3d641",
   "metadata": {},
   "outputs": [],
   "source": [
    "run_dir = \"/media/data_cifs/projects/prj_fossils/users/jacob/experiments/2022/herbarium2022/hydra_experiments/2022-03-29/05-31-45\"\n",
    "ckpt_dir = os.path.join(run_dir, \"ckpts\")\n",
    "ckpt_paths = sorted(os.listdir(ckpt_dir))[::-1][:3]   #[:-4:-1]\n",
    "\n",
    "ckpt_paths = [os.path.join(ckpt_dir, f, \"model_weights.ckpt\") for f in ckpt_paths]"
   ]
  },
  {
   "cell_type": "code",
   "execution_count": 7,
   "id": "d41459c5-7d4a-4285-b0f8-32d1496fa9d6",
   "metadata": {},
   "outputs": [],
   "source": [
    "# run_main.py\n",
    "overrides = [\n",
    "    'core.name=\\\"Experiment #19 (2022-03-29)\\\"',\n",
    "    \"optim.optimizer.weight_decay=5e-6\",\n",
    "    \"hp.batch_size=24\",\n",
    "    \"aug@data.datamodule.transform_cfg=medium_image_aug_conf\",\n",
    "    \"hp.preprocess_size=512\",\n",
    "    \"hp.resolution=448\",\n",
    "    \"model_cfg.backbone.name=resnext50_32x4d\",\n",
    "    \"train.pl_trainer.devices=1\",\n",
    "    \"train.pl_trainer.accelerator=gpu\",\n",
    "    \"data.datamodule.num_workers=4\"\n",
    "]"
   ]
  },
  {
   "cell_type": "code",
   "execution_count": 8,
   "id": "d2912e83-5e9d-4134-b165-794c09397e31",
   "metadata": {},
   "outputs": [
    {
     "name": "stdout",
     "output_type": "stream",
     "text": [
      "/media/data_cifs/projects/prj_fossils/users/jacob/github/image-utils/imutils/ml/conf base_conf.yaml\n",
      "name 'HydraConfig' is not defined\n",
      "/media/data_cifs/projects/prj_fossils/users/jacob/experiments/2022/herbarium2022\n"
     ]
    }
   ],
   "source": [
    "config_path = os.path.dirname(imutils.ml.BASE_ML_CONF_PATH)\n",
    "config_name = os.path.basename(imutils.ml.BASE_ML_CONF_PATH)\n",
    "\n",
    "print(config_path, config_name)\n",
    "\n",
    "cfg = ETL.init_structured_config(config_name = config_name,\n",
    "                                 config_path = config_path,\n",
    "                                 job_name = \"demo\",\n",
    "                                 dataclass_type= None,\n",
    "                                 overrides = [\"train.pl_trainer.strategy=null\",\n",
    "                                              *overrides],\n",
    "                                 cfg = None)\n",
    "\n",
    "OmegaConf.set_struct(cfg, False)\n",
    "# Hydra run directory\n",
    "try:\n",
    "    hydra_dir = Path(HydraConfig.get().run.dir)\n",
    "except Exception as e:\n",
    "    print(e)\n",
    "    hydra_dir = os.getcwd()\n",
    "\n",
    "\n",
    "hydra_dir = cfg.core.experiments_root_dir #\"/media/data/jacob/GitHub/image-utils/imutils/ml/hydra_experiments/2022-03-24/07-35-17\"\n",
    "\n",
    "\n",
    "if not cfg.get(\"hydra\"):\n",
    "    cfg.update({\"hydra\":{\"run\":{\"dir\":hydra_dir}},\n",
    "                \"run_output_dir\":hydra_dir})\n",
    "    print(cfg.hydra.run.dir)\n"
   ]
  },
  {
   "cell_type": "code",
   "execution_count": 9,
   "id": "f93eee46-9cda-4486-8f41-b1e6e4b58e95",
   "metadata": {},
   "outputs": [
    {
     "data": {
      "text/plain": [
       "['/media/data_cifs/projects/prj_fossils/users/jacob/experiments/2022/herbarium2022/hydra_experiments/2022-03-29/05-31-45/ckpts/last.ckpt/model_weights.ckpt',\n",
       " '/media/data_cifs/projects/prj_fossils/users/jacob/experiments/2022/herbarium2022/hydra_experiments/2022-03-29/05-31-45/ckpts/epoch=32-val_loss=1.277-val_macro_F1=0.739/model_weights.ckpt',\n",
       " '/media/data_cifs/projects/prj_fossils/users/jacob/experiments/2022/herbarium2022/hydra_experiments/2022-03-29/05-31-45/ckpts/epoch=31-val_loss=1.270-val_macro_F1=0.738/model_weights.ckpt']"
      ]
     },
     "execution_count": 9,
     "metadata": {},
     "output_type": "execute_result"
    }
   ],
   "source": [
    "ckpt_paths"
   ]
  },
  {
   "cell_type": "code",
   "execution_count": 10,
   "id": "c6edce6b-3900-40cf-83e7-8f474e36b6a3",
   "metadata": {},
   "outputs": [
    {
     "data": {
      "text/plain": [
       "'/media/data_cifs/projects/prj_fossils/users/jacob/experiments/2022/herbarium2022/hydra_experiments/2022-03-29/05-31-45/ckpts/epoch=32-val_loss=1.277-val_macro_F1=0.739/model_weights.ckpt'"
      ]
     },
     "execution_count": 10,
     "metadata": {},
     "output_type": "execute_result"
    }
   ],
   "source": [
    "ckpt_path = ckpt_paths[1]\n",
    "# os.listdir(ckpt_path)\n",
    "ckpt_path"
   ]
  },
  {
   "cell_type": "code",
   "execution_count": 11,
   "id": "0f2c8be0-b85d-48e2-8b90-2fa432a06417",
   "metadata": {},
   "outputs": [
    {
     "name": "stdout",
     "output_type": "stream",
     "text": [
      "self.transform_cfg:\n"
     ]
    },
    {
     "data": {
      "text/html": [
       "<pre style=\"white-space:pre;overflow-x:auto;line-height:normal;font-family:Menlo,'DejaVu Sans Mono',consolas,'Courier New',monospace\"><span style=\"font-weight: bold\">{</span><span style=\"color: #008000; text-decoration-color: #008000\">'preprocess'</span>: <span style=\"font-weight: bold\">{</span><span style=\"color: #008000; text-decoration-color: #008000\">'train'</span>: <span style=\"font-weight: bold\">{</span><span style=\"color: #008000; text-decoration-color: #008000\">'resize'</span>: <span style=\"color: #008080; text-decoration-color: #008080; font-weight: bold\">512</span><span style=\"font-weight: bold\">}</span>, <span style=\"color: #008000; text-decoration-color: #008000\">'val'</span>: <span style=\"font-weight: bold\">{</span><span style=\"color: #008000; text-decoration-color: #008000\">'resize'</span>: <span style=\"color: #008080; text-decoration-color: #008080; font-weight: bold\">512</span><span style=\"font-weight: bold\">}</span>, <span style=\"color: #008000; text-decoration-color: #008000\">'test'</span>: <span style=\"font-weight: bold\">{</span><span style=\"color: #008000; text-decoration-color: #008000\">'resize'</span>: <span style=\"color: #008080; text-decoration-color: #008080; font-weight: bold\">512</span><span style=\"font-weight: bold\">}}</span>, \n",
       "<span style=\"color: #008000; text-decoration-color: #008000\">'batch_transform'</span>: <span style=\"font-weight: bold\">{</span><span style=\"color: #008000; text-decoration-color: #008000\">'train'</span>: <span style=\"font-weight: bold\">{</span><span style=\"color: #008000; text-decoration-color: #008000\">'random_resize_crop'</span>: <span style=\"color: #008080; text-decoration-color: #008080; font-weight: bold\">448</span><span style=\"font-weight: bold\">}</span>, <span style=\"color: #008000; text-decoration-color: #008000\">'val'</span>: <span style=\"font-weight: bold\">{</span><span style=\"color: #008000; text-decoration-color: #008000\">'center_crop'</span>: <span style=\"color: #008080; text-decoration-color: #008080; font-weight: bold\">448</span><span style=\"font-weight: bold\">}</span>, \n",
       "<span style=\"color: #008000; text-decoration-color: #008000\">'test'</span>: <span style=\"font-weight: bold\">{</span><span style=\"color: #008000; text-decoration-color: #008000\">'center_crop'</span>: <span style=\"color: #008080; text-decoration-color: #008080; font-weight: bold\">448</span><span style=\"font-weight: bold\">}</span>, <span style=\"color: #008000; text-decoration-color: #008000\">'random_flips'</span>: <span style=\"color: #ff0000; text-decoration-color: #ff0000; font-style: italic\">False</span><span style=\"font-weight: bold\">}</span>, <span style=\"color: #008000; text-decoration-color: #008000\">'normalize'</span>: <span style=\"font-weight: bold\">[[</span><span style=\"color: #008080; text-decoration-color: #008080; font-weight: bold\">0.485</span>, <span style=\"color: #008080; text-decoration-color: #008080; font-weight: bold\">0.456</span>, <span style=\"color: #008080; text-decoration-color: #008080; font-weight: bold\">0.406</span><span style=\"font-weight: bold\">]</span>, \n",
       "<span style=\"font-weight: bold\">[</span><span style=\"color: #008080; text-decoration-color: #008080; font-weight: bold\">0.229</span>, <span style=\"color: #008080; text-decoration-color: #008080; font-weight: bold\">0.224</span>, <span style=\"color: #008080; text-decoration-color: #008080; font-weight: bold\">0.225</span><span style=\"font-weight: bold\">]]</span>, <span style=\"color: #008000; text-decoration-color: #008000\">'preprocess_size'</span>: <span style=\"color: #008080; text-decoration-color: #008080; font-weight: bold\">512</span>, <span style=\"color: #008000; text-decoration-color: #008000\">'resolution'</span>: <span style=\"color: #008080; text-decoration-color: #008080; font-weight: bold\">448</span>, <span style=\"color: #008000; text-decoration-color: #008000\">'skip_augmentations'</span>: \n",
       "<span style=\"color: #ff0000; text-decoration-color: #ff0000; font-style: italic\">False</span><span style=\"font-weight: bold\">}</span>\n",
       "</pre>\n"
      ],
      "text/plain": [
       "\u001b[1m{\u001b[0m\u001b[32m'preprocess'\u001b[0m: \u001b[1m{\u001b[0m\u001b[32m'train'\u001b[0m: \u001b[1m{\u001b[0m\u001b[32m'resize'\u001b[0m: \u001b[1;36m512\u001b[0m\u001b[1m}\u001b[0m, \u001b[32m'val'\u001b[0m: \u001b[1m{\u001b[0m\u001b[32m'resize'\u001b[0m: \u001b[1;36m512\u001b[0m\u001b[1m}\u001b[0m, \u001b[32m'test'\u001b[0m: \u001b[1m{\u001b[0m\u001b[32m'resize'\u001b[0m: \u001b[1;36m512\u001b[0m\u001b[1m}\u001b[0m\u001b[1m}\u001b[0m, \n",
       "\u001b[32m'batch_transform'\u001b[0m: \u001b[1m{\u001b[0m\u001b[32m'train'\u001b[0m: \u001b[1m{\u001b[0m\u001b[32m'random_resize_crop'\u001b[0m: \u001b[1;36m448\u001b[0m\u001b[1m}\u001b[0m, \u001b[32m'val'\u001b[0m: \u001b[1m{\u001b[0m\u001b[32m'center_crop'\u001b[0m: \u001b[1;36m448\u001b[0m\u001b[1m}\u001b[0m, \n",
       "\u001b[32m'test'\u001b[0m: \u001b[1m{\u001b[0m\u001b[32m'center_crop'\u001b[0m: \u001b[1;36m448\u001b[0m\u001b[1m}\u001b[0m, \u001b[32m'random_flips'\u001b[0m: \u001b[3;91mFalse\u001b[0m\u001b[1m}\u001b[0m, \u001b[32m'normalize'\u001b[0m: \u001b[1m[\u001b[0m\u001b[1m[\u001b[0m\u001b[1;36m0.485\u001b[0m, \u001b[1;36m0.456\u001b[0m, \u001b[1;36m0.406\u001b[0m\u001b[1m]\u001b[0m, \n",
       "\u001b[1m[\u001b[0m\u001b[1;36m0.229\u001b[0m, \u001b[1;36m0.224\u001b[0m, \u001b[1;36m0.225\u001b[0m\u001b[1m]\u001b[0m\u001b[1m]\u001b[0m, \u001b[32m'preprocess_size'\u001b[0m: \u001b[1;36m512\u001b[0m, \u001b[32m'resolution'\u001b[0m: \u001b[1;36m448\u001b[0m, \u001b[32m'skip_augmentations'\u001b[0m: \n",
       "\u001b[3;91mFalse\u001b[0m\u001b[1m}\u001b[0m\n"
      ]
     },
     "metadata": {},
     "output_type": "display_data"
    },
    {
     "name": "stdout",
     "output_type": "stream",
     "text": [
      "self.normalize: [[0.485, 0.456, 0.406], [0.229, 0.224, 0.225]]\n",
      "self.normalize: [[0.485, 0.456, 0.406], [0.229, 0.224, 0.225]]\n",
      "self.normalize: [[0.485, 0.456, 0.406], [0.229, 0.224, 0.225]]\n"
     ]
    },
    {
     "name": "stderr",
     "output_type": "stream",
     "text": [
      "ic| subset: 'train'\n",
      "    num_samples: 671817\n",
      "    num_batches: 27993\n",
      "    self.num_classes: 15501\n",
      "    self.batch_size: 24\n",
      "ic| subset: 'val'\n",
      "    num_samples: 167955\n",
      "    num_batches: 6999\n",
      "    self.num_classes: 15501\n",
      "    self.batch_size: 24\n",
      "ic| subset: 'test'\n",
      "    num_samples: 210407\n",
      "    num_batches: 8767\n",
      "    self.num_classes: 15501\n",
      "    self.batch_size: 24\n"
     ]
    }
   ],
   "source": [
    "datamodule = hydra.utils.instantiate(\n",
    "    cfg.data.datamodule, _recursive_=False\n",
    ")\n",
    "datamodule.setup()"
   ]
  },
  {
   "cell_type": "code",
   "execution_count": 8,
   "id": "c0cf94eb-e5cb-4468-a4af-5336350cd896",
   "metadata": {},
   "outputs": [],
   "source": [
    "loss_func = configure_loss_func(cfg, targets=datamodule.train_dataset.df.y)\n",
    "\n",
    "hydra.utils.log.info(f\"Instantiating <{cfg.model_cfg._target_}>\")"
   ]
  },
  {
   "cell_type": "code",
   "execution_count": 8,
   "id": "2a849580-0f6e-4b0b-abd8-7171f3886fdd",
   "metadata": {},
   "outputs": [
    {
     "name": "stdout",
     "output_type": "stream",
     "text": [
      "self.transform_cfg:\n"
     ]
    },
    {
     "data": {
      "text/html": [
       "<pre style=\"white-space:pre;overflow-x:auto;line-height:normal;font-family:Menlo,'DejaVu Sans Mono',consolas,'Courier New',monospace\"><span style=\"font-weight: bold\">{</span><span style=\"color: #008000; text-decoration-color: #008000\">'preprocess'</span>: <span style=\"font-weight: bold\">{</span><span style=\"color: #008000; text-decoration-color: #008000\">'train'</span>: <span style=\"font-weight: bold\">{</span><span style=\"color: #008000; text-decoration-color: #008000\">'resize'</span>: <span style=\"color: #008080; text-decoration-color: #008080; font-weight: bold\">512</span><span style=\"font-weight: bold\">}</span>, <span style=\"color: #008000; text-decoration-color: #008000\">'val'</span>: <span style=\"font-weight: bold\">{</span><span style=\"color: #008000; text-decoration-color: #008000\">'resize'</span>: <span style=\"color: #008080; text-decoration-color: #008080; font-weight: bold\">512</span><span style=\"font-weight: bold\">}</span>, <span style=\"color: #008000; text-decoration-color: #008000\">'test'</span>: <span style=\"font-weight: bold\">{</span><span style=\"color: #008000; text-decoration-color: #008000\">'resize'</span>: <span style=\"color: #008080; text-decoration-color: #008080; font-weight: bold\">512</span><span style=\"font-weight: bold\">}}</span>, \n",
       "<span style=\"color: #008000; text-decoration-color: #008000\">'batch_transform'</span>: <span style=\"font-weight: bold\">{</span><span style=\"color: #008000; text-decoration-color: #008000\">'train'</span>: <span style=\"font-weight: bold\">{</span><span style=\"color: #008000; text-decoration-color: #008000\">'random_resize_crop'</span>: <span style=\"color: #008080; text-decoration-color: #008080; font-weight: bold\">448</span><span style=\"font-weight: bold\">}</span>, <span style=\"color: #008000; text-decoration-color: #008000\">'val'</span>: <span style=\"font-weight: bold\">{</span><span style=\"color: #008000; text-decoration-color: #008000\">'center_crop'</span>: <span style=\"color: #008080; text-decoration-color: #008080; font-weight: bold\">448</span><span style=\"font-weight: bold\">}</span>, \n",
       "<span style=\"color: #008000; text-decoration-color: #008000\">'test'</span>: <span style=\"font-weight: bold\">{</span><span style=\"color: #008000; text-decoration-color: #008000\">'center_crop'</span>: <span style=\"color: #008080; text-decoration-color: #008080; font-weight: bold\">448</span><span style=\"font-weight: bold\">}</span>, <span style=\"color: #008000; text-decoration-color: #008000\">'random_flips'</span>: <span style=\"color: #ff0000; text-decoration-color: #ff0000; font-style: italic\">False</span><span style=\"font-weight: bold\">}</span>, <span style=\"color: #008000; text-decoration-color: #008000\">'normalize'</span>: <span style=\"font-weight: bold\">[[</span><span style=\"color: #008080; text-decoration-color: #008080; font-weight: bold\">0.485</span>, <span style=\"color: #008080; text-decoration-color: #008080; font-weight: bold\">0.456</span>, <span style=\"color: #008080; text-decoration-color: #008080; font-weight: bold\">0.406</span><span style=\"font-weight: bold\">]</span>, \n",
       "<span style=\"font-weight: bold\">[</span><span style=\"color: #008080; text-decoration-color: #008080; font-weight: bold\">0.229</span>, <span style=\"color: #008080; text-decoration-color: #008080; font-weight: bold\">0.224</span>, <span style=\"color: #008080; text-decoration-color: #008080; font-weight: bold\">0.225</span><span style=\"font-weight: bold\">]]</span>, <span style=\"color: #008000; text-decoration-color: #008000\">'preprocess_size'</span>: <span style=\"color: #008080; text-decoration-color: #008080; font-weight: bold\">512</span>, <span style=\"color: #008000; text-decoration-color: #008000\">'resolution'</span>: <span style=\"color: #008080; text-decoration-color: #008080; font-weight: bold\">448</span>, <span style=\"color: #008000; text-decoration-color: #008000\">'skip_augmentations'</span>: \n",
       "<span style=\"color: #ff0000; text-decoration-color: #ff0000; font-style: italic\">False</span><span style=\"font-weight: bold\">}</span>\n",
       "</pre>\n"
      ],
      "text/plain": [
       "\u001b[1m{\u001b[0m\u001b[32m'preprocess'\u001b[0m: \u001b[1m{\u001b[0m\u001b[32m'train'\u001b[0m: \u001b[1m{\u001b[0m\u001b[32m'resize'\u001b[0m: \u001b[1;36m512\u001b[0m\u001b[1m}\u001b[0m, \u001b[32m'val'\u001b[0m: \u001b[1m{\u001b[0m\u001b[32m'resize'\u001b[0m: \u001b[1;36m512\u001b[0m\u001b[1m}\u001b[0m, \u001b[32m'test'\u001b[0m: \u001b[1m{\u001b[0m\u001b[32m'resize'\u001b[0m: \u001b[1;36m512\u001b[0m\u001b[1m}\u001b[0m\u001b[1m}\u001b[0m, \n",
       "\u001b[32m'batch_transform'\u001b[0m: \u001b[1m{\u001b[0m\u001b[32m'train'\u001b[0m: \u001b[1m{\u001b[0m\u001b[32m'random_resize_crop'\u001b[0m: \u001b[1;36m448\u001b[0m\u001b[1m}\u001b[0m, \u001b[32m'val'\u001b[0m: \u001b[1m{\u001b[0m\u001b[32m'center_crop'\u001b[0m: \u001b[1;36m448\u001b[0m\u001b[1m}\u001b[0m, \n",
       "\u001b[32m'test'\u001b[0m: \u001b[1m{\u001b[0m\u001b[32m'center_crop'\u001b[0m: \u001b[1;36m448\u001b[0m\u001b[1m}\u001b[0m, \u001b[32m'random_flips'\u001b[0m: \u001b[3;91mFalse\u001b[0m\u001b[1m}\u001b[0m, \u001b[32m'normalize'\u001b[0m: \u001b[1m[\u001b[0m\u001b[1m[\u001b[0m\u001b[1;36m0.485\u001b[0m, \u001b[1;36m0.456\u001b[0m, \u001b[1;36m0.406\u001b[0m\u001b[1m]\u001b[0m, \n",
       "\u001b[1m[\u001b[0m\u001b[1;36m0.229\u001b[0m, \u001b[1;36m0.224\u001b[0m, \u001b[1;36m0.225\u001b[0m\u001b[1m]\u001b[0m\u001b[1m]\u001b[0m, \u001b[32m'preprocess_size'\u001b[0m: \u001b[1;36m512\u001b[0m, \u001b[32m'resolution'\u001b[0m: \u001b[1;36m448\u001b[0m, \u001b[32m'skip_augmentations'\u001b[0m: \n",
       "\u001b[3;91mFalse\u001b[0m\u001b[1m}\u001b[0m\n"
      ]
     },
     "metadata": {},
     "output_type": "display_data"
    },
    {
     "name": "stdout",
     "output_type": "stream",
     "text": [
      "self.normalize: [[0.485, 0.456, 0.406], [0.229, 0.224, 0.225]]\n",
      "self.normalize: [[0.485, 0.456, 0.406], [0.229, 0.224, 0.225]]\n",
      "self.normalize: [[0.485, 0.456, 0.406], [0.229, 0.224, 0.225]]\n"
     ]
    },
    {
     "name": "stderr",
     "output_type": "stream",
     "text": [
      "ic| subset: 'train'\n",
      "    num_samples: 671817\n",
      "    num_batches: 27993\n",
      "    self.num_classes: 15501\n",
      "    self.batch_size: 24\n",
      "ic| subset: 'val'\n",
      "    num_samples: 167955\n",
      "    num_batches: 6999\n",
      "    self.num_classes: 15501\n",
      "    self.batch_size: 24\n",
      "ic| subset: 'test'\n",
      "    num_samples: 210407\n",
      "    num_batches: 8767\n",
      "    self.num_classes: 15501\n",
      "    self.batch_size: 24\n"
     ]
    },
    {
     "name": "stdout",
     "output_type": "stream",
     "text": [
      "Initializing weights of the model head.\n",
      "input_size: (1, 3, 448, 448)\n"
     ]
    }
   ],
   "source": [
    "model = imutils.ml.models.pl.classifier.LitClassifier(cfg=cfg,\n",
    "                                                      loss_func=cfg.model_cfg.loss)"
   ]
  },
  {
   "cell_type": "code",
   "execution_count": 9,
   "id": "2f5d54cb-2b5e-4f17-a8e0-6d5e5db680ab",
   "metadata": {},
   "outputs": [
    {
     "name": "stdout",
     "output_type": "stream",
     "text": [
      "Initializing weights of the model head.\n",
      "input_size: (1, 3, 448, 448)\n"
     ]
    }
   ],
   "source": [
    "model = model.load_from_checkpoint(ckpt_path);\n",
    "model.eval();\n",
    "model.freeze();"
   ]
  },
  {
   "cell_type": "code",
   "execution_count": 10,
   "id": "71b61ebd-87c2-4f33-ab7a-9f767565fc2f",
   "metadata": {},
   "outputs": [],
   "source": [
    "test_dataloader = datamodule.test_dataloader()"
   ]
  },
  {
   "cell_type": "code",
   "execution_count": 12,
   "id": "dd9ffb83-0a54-4d39-997a-0141c03425dc",
   "metadata": {},
   "outputs": [
    {
     "name": "stderr",
     "output_type": "stream",
     "text": [
      "100%|███████████████████████████████████████████████████████████████████████████████████████████| 8767/8767 [38:17<00:00,  3.82it/s]\n"
     ]
    }
   ],
   "source": [
    "from tqdm import tqdm\n",
    "\n",
    "device=\"cuda\"\n",
    "total=len(test_dataloader)\n",
    "\n",
    "results = []\n",
    "for batch_idx, batch in tqdm(enumerate(iter(test_dataloader)), total=total):\n",
    "    # x, y, metadata = batch\n",
    "    batch[0] = batch[0].to(device)\n",
    "    # image_ids = metadata['image_id']\n",
    "\n",
    "    output = model.predict_step(batch, batch_idx)\n",
    "    output[\"y_logit\"] = output[\"y_logit\"].cpu().detach()\n",
    "    results.append(output)\n",
    "\n",
    "\n",
    "    # results.append({\"image_id\": image_ids,\n",
    "    #                 \"y_logits\": y_logits})"
   ]
  },
  {
   "cell_type": "code",
   "execution_count": 13,
   "id": "a2d62362-7261-47ed-8bd2-d57e63bfec15",
   "metadata": {},
   "outputs": [
    {
     "data": {
      "text/plain": [
       "8767"
      ]
     },
     "execution_count": 13,
     "metadata": {},
     "output_type": "execute_result"
    }
   ],
   "source": [
    "len(results)"
   ]
  },
  {
   "cell_type": "code",
   "execution_count": 19,
   "id": "5c4b36bf-4ece-4f69-8857-5185d4c28748",
   "metadata": {},
   "outputs": [],
   "source": [
    "import torch"
   ]
  },
  {
   "cell_type": "code",
   "execution_count": 16,
   "id": "56204fbd-f0c5-4458-8b58-b7ae688a36e4",
   "metadata": {},
   "outputs": [
    {
     "data": {
      "text/plain": [
       "24"
      ]
     },
     "execution_count": 16,
     "metadata": {},
     "output_type": "execute_result"
    }
   ],
   "source": [
    "y_logits = torch.cat([torch.argmax(r[\"y_logit\"], -1) for r in results])\n",
    "image_ids = torch.cat([r[\"image_id\"] for r in results])\n",
    "len(results[0][\"image_id\"])"
   ]
  },
  {
   "cell_type": "code",
   "execution_count": 22,
   "id": "2af2ff43-3764-42fd-96cf-4441d04cfcb1",
   "metadata": {},
   "outputs": [],
   "source": [
    "import numpy as np\n",
    "np.concatenate"
   ]
  },
  {
   "cell_type": "code",
   "execution_count": 24,
   "id": "82a6bff5-dbaf-4ed8-9df2-8743a89561c5",
   "metadata": {},
   "outputs": [
    {
     "name": "stderr",
     "output_type": "stream",
     "text": [
      "100%|███████████████████████████████████████████████████████████████████████████████████████████| 8767/8767 [02:31<00:00, 57.74it/s]\n"
     ]
    },
    {
     "data": {
      "text/plain": [
       "24"
      ]
     },
     "execution_count": 24,
     "metadata": {},
     "output_type": "execute_result"
    }
   ],
   "source": [
    "# for r in results:\n",
    "\n",
    "\n",
    "\n",
    "y_preds = np.concatenate([torch.argmax(r[\"y_logit\"], -1).numpy() for r in tqdm(results)])\n",
    "image_ids = np.concatenate([r[\"image_id\"] for r in results])\n",
    "len(results[0][\"image_id\"])"
   ]
  },
  {
   "cell_type": "code",
   "execution_count": null,
   "id": "20f4c69b-6da5-429f-a2b6-45f4cfad662e",
   "metadata": {},
   "outputs": [],
   "source": [
    "y_pred_labels = datamodule.train_dataset.label_encoder.inv_transform(y_preds)\n",
    "y_pred_labels"
   ]
  },
  {
   "cell_type": "code",
   "execution_count": 27,
   "id": "80665b51-d3f5-47fa-a92c-593947732973",
   "metadata": {},
   "outputs": [],
   "source": [
    "submit = pd.DataFrame({\"Id\":image_ids,\n",
    "                      \"Predicted\":y_preds})\n",
    "submit.to_csv(\"2022-04-04_JRose-Exp#19_baseline_herbarium2022_test_predictions_submission.csv\",index=False)"
   ]
  },
  {
   "cell_type": "code",
   "execution_count": null,
   "id": "58b54118-fd38-42bd-9a5d-3e017e90c87f",
   "metadata": {},
   "outputs": [],
   "source": []
  },
  {
   "cell_type": "code",
   "execution_count": null,
   "id": "82c5b8b7-050c-4eac-a3fc-0b7ea7a3c565",
   "metadata": {},
   "outputs": [],
   "source": []
  },
  {
   "cell_type": "code",
   "execution_count": 1,
   "id": "99edc5e2-0840-4193-aa36-aeebb5be2292",
   "metadata": {},
   "outputs": [],
   "source": [
    "import pandas as pd"
   ]
  },
  {
   "cell_type": "code",
   "execution_count": 2,
   "id": "7845145d-7f9c-48f6-bce6-300a79a799c4",
   "metadata": {},
   "outputs": [],
   "source": [
    "preds = pd.read_csv(\"2022-04-04_JRose-Exp#19_baseline_herbarium2022_test_predictions_submission.csv\",index_col=None)"
   ]
  },
  {
   "cell_type": "code",
   "execution_count": 14,
   "id": "d0d4df3d-ec38-4026-a527-fce6e68c67ec",
   "metadata": {},
   "outputs": [
    {
     "data": {
      "text/plain": [
       "(210407, 2)"
      ]
     },
     "execution_count": 14,
     "metadata": {},
     "output_type": "execute_result"
    }
   ],
   "source": [
    "preds.shape"
   ]
  },
  {
   "cell_type": "code",
   "execution_count": 17,
   "id": "c766d9e3-13d9-46d7-b722-9ba3b6e50eb4",
   "metadata": {},
   "outputs": [],
   "source": [
    "label_encoder = datamodule.train_dataset.label_encoder\n",
    "\n",
    "# out = preds..assign(Predicted_scientificName = preds.apply(lambda x: label_encoder.inv_transform(x.Predicted), axis=1))\n",
    "out = preds.head(1000).apply(lambda x: label_encoder.inv_transform(x.Predicted)[0], axis=1)"
   ]
  },
  {
   "cell_type": "code",
   "execution_count": 38,
   "id": "49f9afb1-8c48-4d1c-b0ed-1698f21ec23b",
   "metadata": {},
   "outputs": [],
   "source": [
    "train_df = datamodule.train_dataset.df\n",
    "\n",
    "test_df = datamodule.test_dataset.df"
   ]
  },
  {
   "cell_type": "code",
   "execution_count": 21,
   "id": "3a498977-5cdd-4d24-a39e-53ed419a0f9e",
   "metadata": {},
   "outputs": [],
   "source": [
    "catalog = df.groupby(\"scientificName\").head(1)"
   ]
  },
  {
   "cell_type": "code",
   "execution_count": 51,
   "id": "42f6f91e-f027-4be4-be0a-0b87f9a72c85",
   "metadata": {},
   "outputs": [],
   "source": [
    "from tqdm import tqdm\n",
    "tqdm.pandas(desc=\"Converting predictions back to standard category_ids\")\n",
    "\n",
    "# df.progress_apply"
   ]
  },
  {
   "cell_type": "code",
   "execution_count": 52,
   "id": "31015ce3-3c19-4faf-97f4-0d14704ac212",
   "metadata": {},
   "outputs": [
    {
     "name": "stderr",
     "output_type": "stream",
     "text": [
      "Converting predictions back to standard category_ids: 100%|████████████████████████████████| 210407/210407 [04:30<00:00, 777.92it/s]"
     ]
    },
    {
     "name": "stdout",
     "output_type": "stream",
     "text": [
      "CPU times: user 4min 20s, sys: 3.46 s, total: 4min 24s\n",
      "Wall time: 4min 30s\n"
     ]
    },
    {
     "name": "stderr",
     "output_type": "stream",
     "text": [
      "\n"
     ]
    },
    {
     "data": {
      "text/html": [
       "<div>\n",
       "<style scoped>\n",
       "    .dataframe tbody tr th:only-of-type {\n",
       "        vertical-align: middle;\n",
       "    }\n",
       "\n",
       "    .dataframe tbody tr th {\n",
       "        vertical-align: top;\n",
       "    }\n",
       "\n",
       "    .dataframe thead th {\n",
       "        text-align: right;\n",
       "    }\n",
       "</style>\n",
       "<table border=\"1\" class=\"dataframe\">\n",
       "  <thead>\n",
       "    <tr style=\"text-align: right;\">\n",
       "      <th></th>\n",
       "      <th>Id</th>\n",
       "      <th>Predicted</th>\n",
       "      <th>Predicted_cat_id</th>\n",
       "    </tr>\n",
       "  </thead>\n",
       "  <tbody>\n",
       "    <tr>\n",
       "      <th>0</th>\n",
       "      <td>167387</td>\n",
       "      <td>2352</td>\n",
       "      <td>2353</td>\n",
       "    </tr>\n",
       "    <tr>\n",
       "      <th>1</th>\n",
       "      <td>46817</td>\n",
       "      <td>7211</td>\n",
       "      <td>7214</td>\n",
       "    </tr>\n",
       "    <tr>\n",
       "      <th>2</th>\n",
       "      <td>51947</td>\n",
       "      <td>557</td>\n",
       "      <td>558</td>\n",
       "    </tr>\n",
       "    <tr>\n",
       "      <th>3</th>\n",
       "      <td>1020</td>\n",
       "      <td>3688</td>\n",
       "      <td>3690</td>\n",
       "    </tr>\n",
       "    <tr>\n",
       "      <th>4</th>\n",
       "      <td>42736</td>\n",
       "      <td>12234</td>\n",
       "      <td>12238</td>\n",
       "    </tr>\n",
       "    <tr>\n",
       "      <th>...</th>\n",
       "      <td>...</td>\n",
       "      <td>...</td>\n",
       "      <td>...</td>\n",
       "    </tr>\n",
       "    <tr>\n",
       "      <th>210402</th>\n",
       "      <td>24271</td>\n",
       "      <td>2970</td>\n",
       "      <td>2972</td>\n",
       "    </tr>\n",
       "    <tr>\n",
       "      <th>210403</th>\n",
       "      <td>124568</td>\n",
       "      <td>12524</td>\n",
       "      <td>12528</td>\n",
       "    </tr>\n",
       "    <tr>\n",
       "      <th>210404</th>\n",
       "      <td>149450</td>\n",
       "      <td>5097</td>\n",
       "      <td>5099</td>\n",
       "    </tr>\n",
       "    <tr>\n",
       "      <th>210405</th>\n",
       "      <td>84167</td>\n",
       "      <td>9683</td>\n",
       "      <td>9687</td>\n",
       "    </tr>\n",
       "    <tr>\n",
       "      <th>210406</th>\n",
       "      <td>124797</td>\n",
       "      <td>13827</td>\n",
       "      <td>13831</td>\n",
       "    </tr>\n",
       "  </tbody>\n",
       "</table>\n",
       "<p>210407 rows × 3 columns</p>\n",
       "</div>"
      ],
      "text/plain": [
       "            Id  Predicted  Predicted_cat_id\n",
       "0       167387       2352              2353\n",
       "1        46817       7211              7214\n",
       "2        51947        557               558\n",
       "3         1020       3688              3690\n",
       "4        42736      12234             12238\n",
       "...        ...        ...               ...\n",
       "210402   24271       2970              2972\n",
       "210403  124568      12524             12528\n",
       "210404  149450       5097              5099\n",
       "210405   84167       9683              9687\n",
       "210406  124797      13827             13831\n",
       "\n",
       "[210407 rows x 3 columns]"
      ]
     },
     "execution_count": 52,
     "metadata": {},
     "output_type": "execute_result"
    }
   ],
   "source": [
    "%%time\n",
    "def get_category_id(query):\n",
    "    return catalog[catalog.y==query].category_id.item()\n",
    "\n",
    "category_ids =  preds.assign(Predicted_cat_id = preds.progress_apply(lambda x: get_category_id(query=x.Predicted), axis=1))\n",
    "# category_ids =  preds.head(1000).apply(lambda x: get_category_id(query=x.Predicted), axis=1)\n",
    "category_ids"
   ]
  },
  {
   "cell_type": "code",
   "execution_count": 53,
   "id": "2fafacc3-e47d-4372-893d-bc86fd1f9d93",
   "metadata": {},
   "outputs": [],
   "source": [
    "preds_final = category_ids.copy()"
   ]
  },
  {
   "cell_type": "code",
   "execution_count": 54,
   "id": "6c90b145-d670-4e3d-9e10-a5203480c562",
   "metadata": {},
   "outputs": [
    {
     "data": {
      "text/html": [
       "<div>\n",
       "<style scoped>\n",
       "    .dataframe tbody tr th:only-of-type {\n",
       "        vertical-align: middle;\n",
       "    }\n",
       "\n",
       "    .dataframe tbody tr th {\n",
       "        vertical-align: top;\n",
       "    }\n",
       "\n",
       "    .dataframe thead th {\n",
       "        text-align: right;\n",
       "    }\n",
       "</style>\n",
       "<table border=\"1\" class=\"dataframe\">\n",
       "  <thead>\n",
       "    <tr style=\"text-align: right;\">\n",
       "      <th></th>\n",
       "      <th>Id</th>\n",
       "      <th>Predicted</th>\n",
       "    </tr>\n",
       "  </thead>\n",
       "  <tbody>\n",
       "    <tr>\n",
       "      <th>0</th>\n",
       "      <td>167387</td>\n",
       "      <td>2353</td>\n",
       "    </tr>\n",
       "    <tr>\n",
       "      <th>1</th>\n",
       "      <td>46817</td>\n",
       "      <td>7214</td>\n",
       "    </tr>\n",
       "    <tr>\n",
       "      <th>2</th>\n",
       "      <td>51947</td>\n",
       "      <td>558</td>\n",
       "    </tr>\n",
       "    <tr>\n",
       "      <th>3</th>\n",
       "      <td>1020</td>\n",
       "      <td>3690</td>\n",
       "    </tr>\n",
       "    <tr>\n",
       "      <th>4</th>\n",
       "      <td>42736</td>\n",
       "      <td>12238</td>\n",
       "    </tr>\n",
       "    <tr>\n",
       "      <th>...</th>\n",
       "      <td>...</td>\n",
       "      <td>...</td>\n",
       "    </tr>\n",
       "    <tr>\n",
       "      <th>210402</th>\n",
       "      <td>24271</td>\n",
       "      <td>2972</td>\n",
       "    </tr>\n",
       "    <tr>\n",
       "      <th>210403</th>\n",
       "      <td>124568</td>\n",
       "      <td>12528</td>\n",
       "    </tr>\n",
       "    <tr>\n",
       "      <th>210404</th>\n",
       "      <td>149450</td>\n",
       "      <td>5099</td>\n",
       "    </tr>\n",
       "    <tr>\n",
       "      <th>210405</th>\n",
       "      <td>84167</td>\n",
       "      <td>9687</td>\n",
       "    </tr>\n",
       "    <tr>\n",
       "      <th>210406</th>\n",
       "      <td>124797</td>\n",
       "      <td>13831</td>\n",
       "    </tr>\n",
       "  </tbody>\n",
       "</table>\n",
       "<p>210407 rows × 2 columns</p>\n",
       "</div>"
      ],
      "text/plain": [
       "            Id  Predicted\n",
       "0       167387       2353\n",
       "1        46817       7214\n",
       "2        51947        558\n",
       "3         1020       3690\n",
       "4        42736      12238\n",
       "...        ...        ...\n",
       "210402   24271       2972\n",
       "210403  124568      12528\n",
       "210404  149450       5099\n",
       "210405   84167       9687\n",
       "210406  124797      13831\n",
       "\n",
       "[210407 rows x 2 columns]"
      ]
     },
     "execution_count": 54,
     "metadata": {},
     "output_type": "execute_result"
    }
   ],
   "source": [
    "preds_final = preds_final.drop(columns=[\"Predicted\"]\n",
    "                              ).rename(columns={\"Predicted_cat_id\":\"Predicted\"})\n",
    "\n",
    "preds_final"
   ]
  },
  {
   "cell_type": "code",
   "execution_count": 56,
   "id": "57349956-f337-43f4-8cc1-566878134fa6",
   "metadata": {},
   "outputs": [],
   "source": [
    "preds_final.to_csv(\"2022-04-04_JRose-Exp#19_baseline_herbarium2022_test_predictions_submission--fixed-labels.csv\",index=False)"
   ]
  },
  {
   "cell_type": "code",
   "execution_count": 31,
   "id": "6065e519-c0d5-4ad2-b756-b16edfc36964",
   "metadata": {},
   "outputs": [
    {
     "data": {
      "text/html": [
       "<div>\n",
       "<style scoped>\n",
       "    .dataframe tbody tr th:only-of-type {\n",
       "        vertical-align: middle;\n",
       "    }\n",
       "\n",
       "    .dataframe tbody tr th {\n",
       "        vertical-align: top;\n",
       "    }\n",
       "\n",
       "    .dataframe thead th {\n",
       "        text-align: right;\n",
       "    }\n",
       "</style>\n",
       "<table border=\"1\" class=\"dataframe\">\n",
       "  <thead>\n",
       "    <tr style=\"text-align: right;\">\n",
       "      <th></th>\n",
       "      <th>idx</th>\n",
       "      <th>image_id</th>\n",
       "      <th>file_name</th>\n",
       "      <th>source_path</th>\n",
       "      <th>path</th>\n",
       "    </tr>\n",
       "  </thead>\n",
       "  <tbody>\n",
       "    <tr>\n",
       "      <th>0</th>\n",
       "      <td>157420</td>\n",
       "      <td>167387</td>\n",
       "      <td>167/test-167387.jpg</td>\n",
       "      <td>/media/data_cifs/projects/prj_fossils/data/raw...</td>\n",
       "      <td>/media/data_cifs/projects/prj_fossils/data/raw...</td>\n",
       "    </tr>\n",
       "    <tr>\n",
       "      <th>1</th>\n",
       "      <td>44090</td>\n",
       "      <td>46817</td>\n",
       "      <td>046/test-046817.jpg</td>\n",
       "      <td>/media/data_cifs/projects/prj_fossils/data/raw...</td>\n",
       "      <td>/media/data_cifs/projects/prj_fossils/data/raw...</td>\n",
       "    </tr>\n",
       "    <tr>\n",
       "      <th>2</th>\n",
       "      <td>48890</td>\n",
       "      <td>51947</td>\n",
       "      <td>051/test-051947.jpg</td>\n",
       "      <td>/media/data_cifs/projects/prj_fossils/data/raw...</td>\n",
       "      <td>/media/data_cifs/projects/prj_fossils/data/raw...</td>\n",
       "    </tr>\n",
       "    <tr>\n",
       "      <th>3</th>\n",
       "      <td>959</td>\n",
       "      <td>1020</td>\n",
       "      <td>001/test-001020.jpg</td>\n",
       "      <td>/media/data_cifs/projects/prj_fossils/data/raw...</td>\n",
       "      <td>/media/data_cifs/projects/prj_fossils/data/raw...</td>\n",
       "    </tr>\n",
       "    <tr>\n",
       "      <th>4</th>\n",
       "      <td>40257</td>\n",
       "      <td>42736</td>\n",
       "      <td>042/test-042736.jpg</td>\n",
       "      <td>/media/data_cifs/projects/prj_fossils/data/raw...</td>\n",
       "      <td>/media/data_cifs/projects/prj_fossils/data/raw...</td>\n",
       "    </tr>\n",
       "    <tr>\n",
       "      <th>...</th>\n",
       "      <td>...</td>\n",
       "      <td>...</td>\n",
       "      <td>...</td>\n",
       "      <td>...</td>\n",
       "      <td>...</td>\n",
       "    </tr>\n",
       "    <tr>\n",
       "      <th>995</th>\n",
       "      <td>76814</td>\n",
       "      <td>81625</td>\n",
       "      <td>081/test-081625.jpg</td>\n",
       "      <td>/media/data_cifs/projects/prj_fossils/data/raw...</td>\n",
       "      <td>/media/data_cifs/projects/prj_fossils/data/raw...</td>\n",
       "    </tr>\n",
       "    <tr>\n",
       "      <th>996</th>\n",
       "      <td>116292</td>\n",
       "      <td>123662</td>\n",
       "      <td>123/test-123662.jpg</td>\n",
       "      <td>/media/data_cifs/projects/prj_fossils/data/raw...</td>\n",
       "      <td>/media/data_cifs/projects/prj_fossils/data/raw...</td>\n",
       "    </tr>\n",
       "    <tr>\n",
       "      <th>997</th>\n",
       "      <td>163307</td>\n",
       "      <td>173663</td>\n",
       "      <td>173/test-173663.jpg</td>\n",
       "      <td>/media/data_cifs/projects/prj_fossils/data/raw...</td>\n",
       "      <td>/media/data_cifs/projects/prj_fossils/data/raw...</td>\n",
       "    </tr>\n",
       "    <tr>\n",
       "      <th>998</th>\n",
       "      <td>189878</td>\n",
       "      <td>201866</td>\n",
       "      <td>201/test-201866.jpg</td>\n",
       "      <td>/media/data_cifs/projects/prj_fossils/data/raw...</td>\n",
       "      <td>/media/data_cifs/projects/prj_fossils/data/raw...</td>\n",
       "    </tr>\n",
       "    <tr>\n",
       "      <th>999</th>\n",
       "      <td>45114</td>\n",
       "      <td>47930</td>\n",
       "      <td>047/test-047930.jpg</td>\n",
       "      <td>/media/data_cifs/projects/prj_fossils/data/raw...</td>\n",
       "      <td>/media/data_cifs/projects/prj_fossils/data/raw...</td>\n",
       "    </tr>\n",
       "  </tbody>\n",
       "</table>\n",
       "<p>1000 rows × 5 columns</p>\n",
       "</div>"
      ],
      "text/plain": [
       "        idx image_id            file_name  \\\n",
       "0    157420   167387  167/test-167387.jpg   \n",
       "1     44090    46817  046/test-046817.jpg   \n",
       "2     48890    51947  051/test-051947.jpg   \n",
       "3       959     1020  001/test-001020.jpg   \n",
       "4     40257    42736  042/test-042736.jpg   \n",
       "..      ...      ...                  ...   \n",
       "995   76814    81625  081/test-081625.jpg   \n",
       "996  116292   123662  123/test-123662.jpg   \n",
       "997  163307   173663  173/test-173663.jpg   \n",
       "998  189878   201866  201/test-201866.jpg   \n",
       "999   45114    47930  047/test-047930.jpg   \n",
       "\n",
       "                                           source_path  \\\n",
       "0    /media/data_cifs/projects/prj_fossils/data/raw...   \n",
       "1    /media/data_cifs/projects/prj_fossils/data/raw...   \n",
       "2    /media/data_cifs/projects/prj_fossils/data/raw...   \n",
       "3    /media/data_cifs/projects/prj_fossils/data/raw...   \n",
       "4    /media/data_cifs/projects/prj_fossils/data/raw...   \n",
       "..                                                 ...   \n",
       "995  /media/data_cifs/projects/prj_fossils/data/raw...   \n",
       "996  /media/data_cifs/projects/prj_fossils/data/raw...   \n",
       "997  /media/data_cifs/projects/prj_fossils/data/raw...   \n",
       "998  /media/data_cifs/projects/prj_fossils/data/raw...   \n",
       "999  /media/data_cifs/projects/prj_fossils/data/raw...   \n",
       "\n",
       "                                                  path  \n",
       "0    /media/data_cifs/projects/prj_fossils/data/raw...  \n",
       "1    /media/data_cifs/projects/prj_fossils/data/raw...  \n",
       "2    /media/data_cifs/projects/prj_fossils/data/raw...  \n",
       "3    /media/data_cifs/projects/prj_fossils/data/raw...  \n",
       "4    /media/data_cifs/projects/prj_fossils/data/raw...  \n",
       "..                                                 ...  \n",
       "995  /media/data_cifs/projects/prj_fossils/data/raw...  \n",
       "996  /media/data_cifs/projects/prj_fossils/data/raw...  \n",
       "997  /media/data_cifs/projects/prj_fossils/data/raw...  \n",
       "998  /media/data_cifs/projects/prj_fossils/data/raw...  \n",
       "999  /media/data_cifs/projects/prj_fossils/data/raw...  \n",
       "\n",
       "[1000 rows x 5 columns]"
      ]
     },
     "execution_count": 31,
     "metadata": {},
     "output_type": "execute_result"
    }
   ],
   "source": [
    "test_df.head(1000)"
   ]
  },
  {
   "cell_type": "code",
   "execution_count": 37,
   "id": "2e22ad7b-b4c0-4dec-8a3e-d85094f1dfa6",
   "metadata": {},
   "outputs": [
    {
     "data": {
      "text/plain": [
       "Text(0.5, 1.0, 'pred_y: 2352, pred_category_id: 2353')"
      ]
     },
     "execution_count": 37,
     "metadata": {},
     "output_type": "execute_result"
    },
    {
     "data": {
      "image/png": "[encoded data removed]",
      "text/plain": [
       "<Figure size 432x288 with 1 Axes>"
      ]
     },
     "metadata": {
      "needs_background": "light"
     },
     "output_type": "display_data"
    }
   ],
   "source": [
    "from PIL import Image\n",
    "import matplotlib.pyplot as plt\n",
    "idx = 0\n",
    "\n",
    "img = Image.open(test_df.path[idx])\n",
    "pred_y = preds.Predicted[idx]\n",
    "pred_category_id = category_ids[idx]\n",
    "\n",
    "\n",
    "ax = plt.imshow(img)\n",
    "plt.title(f\"pred_y: {pred_y}, pred_category_id: {pred_category_id}\")"
   ]
  },
  {
   "cell_type": "code",
   "execution_count": 39,
   "id": "1e6068d0-769b-408f-8996-9afc8262ce29",
   "metadata": {},
   "outputs": [],
   "source": [
    "from PIL import Image\n",
    "import matplotlib.pyplot as plt\n",
    "idx = 0\n",
    "samples = train_df[train_df.category_id==pred_category_id]"
   ]
  },
  {
   "cell_type": "code",
   "execution_count": 49,
   "id": "f37b41c3-a472-4be5-b72d-23397d459b8d",
   "metadata": {},
   "outputs": [
    {
     "data": {
      "text/plain": [
       "<matplotlib.image.AxesImage at 0x7f7580b41d30>"
      ]
     },
     "execution_count": 49,
     "metadata": {},
     "output_type": "execute_result"
    },
    {
     "data": {
      "text/plain": [
       "Text(0.5, 1.0, 'image_id: 02353__005')"
      ]
     },
     "execution_count": 49,
     "metadata": {},
     "output_type": "execute_result"
    },
    {
     "data": {
      "text/plain": [
       "<matplotlib.image.AxesImage at 0x7f7580b73d00>"
      ]
     },
     "execution_count": 49,
     "metadata": {},
     "output_type": "execute_result"
    },
    {
     "data": {
      "text/plain": [
       "Text(0.5, 1.0, 'image_id: 02353__035')"
      ]
     },
     "execution_count": 49,
     "metadata": {},
     "output_type": "execute_result"
    },
    {
     "data": {
      "text/plain": [
       "<matplotlib.image.AxesImage at 0x7f7580a8fe50>"
      ]
     },
     "execution_count": 49,
     "metadata": {},
     "output_type": "execute_result"
    },
    {
     "data": {
      "text/plain": [
       "Text(0.5, 1.0, 'image_id: 02353__053')"
      ]
     },
     "execution_count": 49,
     "metadata": {},
     "output_type": "execute_result"
    },
    {
     "data": {
      "text/plain": [
       "<matplotlib.image.AxesImage at 0x7f7580a5f490>"
      ]
     },
     "execution_count": 49,
     "metadata": {},
     "output_type": "execute_result"
    },
    {
     "data": {
      "text/plain": [
       "Text(0.5, 1.0, 'image_id: 02353__014')"
      ]
     },
     "execution_count": 49,
     "metadata": {},
     "output_type": "execute_result"
    },
    {
     "data": {
      "image/png": "[encoded data removed]",
      "text/plain": [
       "<Figure size 2160x3600 with 4 Axes>"
      ]
     },
     "metadata": {
      "needs_background": "light"
     },
     "output_type": "display_data"
    }
   ],
   "source": [
    "# i=0\n",
    "fig, ax = plt.subplots(1,4, figsize=(30, 50))\n",
    "for i in range(4):\n",
    "    img = Image.open(samples.path.iloc[i])\n",
    "    ax[i].imshow(img)\n",
    "    ax[i].set_title(f\"image_id: {samples.image_id.iloc[i]}\")\n",
    "\n",
    "# img"
   ]
  },
  {
   "cell_type": "code",
   "execution_count": 37,
   "id": "344843b4-f57d-4dbd-ab26-b4aee7c69dd9",
   "metadata": {},
   "outputs": [
    {
     "data": {
      "text/plain": [
       "Text(0.5, 1.0, 'pred_y: 2352, pred_category_id: 2353')"
      ]
     },
     "execution_count": 37,
     "metadata": {},
     "output_type": "execute_result"
    },
    {
     "data": {
      "image/png": "[encoded data removed]",
      "text/plain": [
       "<Figure size 432x288 with 1 Axes>"
      ]
     },
     "metadata": {
      "needs_background": "light"
     },
     "output_type": "display_data"
    }
   ],
   "source": [
    "img = Image.open(train_df.path[idx])\n",
    "pred_y = preds.Predicted[idx]\n",
    "pred_category_id = category_ids[idx]\n",
    "\n",
    "\n",
    "ax = plt.imshow(img)\n",
    "plt.title(f\"pred_y: {pred_y}, pred_category_id: {pred_category_id}\")"
   ]
  },
  {
   "cell_type": "code",
   "execution_count": null,
   "id": "ad642046-58ed-4302-9f61-c5784199e235",
   "metadata": {},
   "outputs": [],
   "source": []
  },
  {
   "cell_type": "code",
   "execution_count": 28,
   "id": "5e453ca8-fee9-42e7-9a06-9782584edfbd",
   "metadata": {},
   "outputs": [
    {
     "data": {
      "text/html": [
       "<div>\n",
       "<style scoped>\n",
       "    .dataframe tbody tr th:only-of-type {\n",
       "        vertical-align: middle;\n",
       "    }\n",
       "\n",
       "    .dataframe tbody tr th {\n",
       "        vertical-align: top;\n",
       "    }\n",
       "\n",
       "    .dataframe thead th {\n",
       "        text-align: right;\n",
       "    }\n",
       "</style>\n",
       "<table border=\"1\" class=\"dataframe\">\n",
       "  <thead>\n",
       "    <tr style=\"text-align: right;\">\n",
       "      <th></th>\n",
       "      <th>idx</th>\n",
       "      <th>image_id</th>\n",
       "      <th>file_name</th>\n",
       "      <th>source_path</th>\n",
       "      <th>path</th>\n",
       "    </tr>\n",
       "  </thead>\n",
       "  <tbody>\n",
       "  </tbody>\n",
       "</table>\n",
       "</div>"
      ],
      "text/plain": [
       "Empty DataFrame\n",
       "Columns: [idx, image_id, file_name, source_path, path]\n",
       "Index: []"
      ]
     },
     "execution_count": 28,
     "metadata": {},
     "output_type": "execute_result"
    }
   ],
   "source": [
    "pred_ids = preds.head(1000).Id.values\n",
    "\n",
    "\n",
    "out = test_df[test_df.image_id.apply(lambda x: x in pred_ids)]\n",
    "out"
   ]
  },
  {
   "cell_type": "code",
   "execution_count": null,
   "id": "1fbb32bc-c614-41f6-83da-abf98b78a07b",
   "metadata": {},
   "outputs": [],
   "source": []
  },
  {
   "cell_type": "code",
   "execution_count": null,
   "id": "79d40086-7742-4b7a-a0dc-3e6c1352a68f",
   "metadata": {},
   "outputs": [],
   "source": [
    "preds = []\n",
    "with torch.no_grad():\n",
    "    for inputs in tqdm(test_dl):\n",
    "        inputs['pixel_values'] = inputs['pixel_values'].to('cuda')\n",
    "        outputs = model(**inputs)\n",
    "        logits = outputs.logits\n",
    "        preds.extend([x.item() for x in logits.argmax(-1)])\n",
    "submit = pd.read_csv('../input/herbarium-2022-fgvc9/sample_submission.csv')\n",
    "submit['Predicted'] = preds\n",
    "submit.to_csv('beit.csv', index=False)"
   ]
  },
  {
   "cell_type": "code",
   "execution_count": 9,
   "id": "4b2a5bb1-ad3b-4398-9cb0-1f03fe6038fc",
   "metadata": {},
   "outputs": [],
   "source": [
    "pp(OmegaConf.to_container(model.cfg, resolve=True))\n",
    "results = {}\n",
    "results['val'] = trainer.validate(model, datamodule=datamodule)\n",
    "pp(results['val'])\n",
    "\n",
    "# ckpt_path = \"/media/data/jacob/GitHub/image-utils/imutils/ml/hydra_experiments/2022-03-24/07-35-17/hydra_experiments/2022-03-24/07-35-17/ckpts/epoch=07-val_loss=3.338-val_F1=0.313.ckpt\"\n",
    "\n",
    "ckpt_path = \"/media/data/jacob/GitHub/image-utils/imutils/ml/hydra_experiments/2022-03-24/07-35-17/hydra_experiments/2022-03-24/07-35-17/ckpts/epoch=10-val_loss=2.834-val_F1=0.384.ckpt\"\n",
    "\n",
    "# ckpt = torch.load(ckpt_path)\n",
    "# print(ckpt.keys())\n",
    "\n",
    "model = model.load_from_checkpoint(ckpt_path);\n",
    "model.eval();\n",
    "model.freeze();\n",
    "\n",
    "# batch[0] = batch[0].cuda()\n",
    "# batch[1] = batch[1].cuda()\n",
    "# x, y, metadata = batch\n",
    "# x = x.to('cuda')\n",
    "# y_logits = model(x)\n",
    "# y_logits_top5 = torch.topk(torch.Tensor(y_logits.cpu()), k=5, dim=1)\n",
    "# topk = 5\n",
    "# y_logits_top5_idx = y_logits_top5.indices.numpy()\n",
    "# labels_k = le.decode_topk(y_logits_top5_idx)\n",
    "# datamodule.train_dataset.label_encoder.classes_\n",
    "# y_pred = torch.zeros_like(y_logits_top5.indices)\n",
    "# topk_labels = np.empty((128,5), dtype=\"O\")\n",
    "# for k in range(5):\n",
    "#     labels_k = datamodule.train_dataset.label_encoder.inverse_transform(y_logits_top5.indices[:,k])\n",
    "#     topk_labels[:,k] = labels_k"
   ]
  },
  {
   "cell_type": "code",
   "execution_count": null,
   "id": "4e029b16-b9f3-4b15-8170-746bb17ee79d",
   "metadata": {},
   "outputs": [],
   "source": []
  },
  {
   "cell_type": "code",
   "execution_count": null,
   "id": "99f81ddc-3732-4925-a3d8-ebaf35b8c684",
   "metadata": {},
   "outputs": [],
   "source": []
  },
  {
   "cell_type": "code",
   "execution_count": null,
   "id": "dda43d86-875c-4d39-b1bd-96be3ada36a4",
   "metadata": {},
   "outputs": [],
   "source": []
  },
  {
   "cell_type": "markdown",
   "id": "5e1e0ff9-67cf-44fe-a0cc-fa1fe5c96756",
   "metadata": {},
   "source": [
    "## Other"
   ]
  },
  {
   "cell_type": "code",
   "execution_count": 9,
   "id": "98592e21-bf8d-4ec1-b78d-855563c1e242",
   "metadata": {},
   "outputs": [],
   "source": [
    "import matplotlib.pyplot as plt\n",
    "\n",
    "batch = (next(iter(datamodule.train_dataloader())))\n",
    "\n",
    "x, y = batch[:2]\n",
    "\n",
    "# import cv2\n",
    "import torchvision\n",
    "# read_img = cv2.imread\n",
    "\n",
    "\n",
    "def plot_imgs(imgs,r=8,c=8,figsize=(20,20)):\n",
    "    _, axs = plt.subplots(r,c,figsize=figsize)\n",
    "    axs=axs.flatten()\n",
    "    for n, ax in enumerate(axs):\n",
    "        img=imgs[n]\n",
    "        \n",
    "        img = (img - img.min()) / (img.max() - img.min())\n",
    "        \n",
    "        ax.imshow(torchvision.transforms.functional.to_pil_image(img))\n",
    "        ax.axis('off')\n",
    "        \n",
    "    plt.tight_layout()\n",
    "    plt.show()\n",
    "    \n",
    "    \n",
    "    \n",
    "plot_imgs(x)"
   ]
  },
  {
   "cell_type": "code",
   "execution_count": 26,
   "id": "f8d6a776-fbcd-47e5-8798-6e980cc42617",
   "metadata": {},
   "outputs": [
    {
     "data": {
      "text/plain": [
       "tensor([ 9359,  9100,   699,  7888,  1765,  8122,  3237, 10139,    92,  4797,\n",
       "         1177, 13626,  3192, 14096,  7230, 15228,  2946,  6897, 11806, 12283,\n",
       "         5417, 14869,  1893, 11265, 10801, 10612, 14247,  7553,  1929,    95,\n",
       "        12244,  3711,  8568,  7284, 12985, 13294,  5933, 13370, 13442, 14808,\n",
       "         5069,  3534,  4449, 14373, 12346, 13173,  8813,  5822, 12290,  3871,\n",
       "         6645,  8778,  7234, 13757, 14497, 15082, 12595,  9840,  5873,  7065,\n",
       "        10484,  6040, 14399, 11489,  5271,  7599, 14529,  1344,  6127,  2569,\n",
       "         3328,  5268,  6732, 12513, 14617,  5298, 10576, 15130,  4153,  4565,\n",
       "         1048, 11556,  6358,  2921,  5793, 11842,  6929, 10982,  8839, 13874,\n",
       "         5513, 12170,  9560,  3182,  5488,  1204,  6640, 11548,  3641, 13809,\n",
       "         7082,  5689, 10308,  7468, 11267, 10716,  8750, 13361,  4504, 13840,\n",
       "         3911,  8141,  4920,  3215,  8776, 12795, 12591,  3330,  9270,  8510,\n",
       "        15130, 12557,  4753, 11097,  7270, 12230,  7938,  6044])"
      ]
     },
     "execution_count": 26,
     "metadata": {},
     "output_type": "execute_result"
    }
   ],
   "source": [
    "def plot_layer_stats(self, idx):\n",
    "    plt,axs = subplots(1, 3, figsize=(15,3))\n",
    "    plt.subplots_adjust(wspace=0.5)\n",
    "    for o,ax,title in zip(self.layer_stats(idx),axs,('mean','std','% near zero')):\n",
    "        ax.plot(o)\n",
    "        ax.set_title(f\"{-1*layer}th layer {title}\")\n",
    "# for layer in range(1,4):\n",
    "#     plot_layer_stats(learn.activation_stats,-1*layer)"
   ]
  },
  {
   "cell_type": "code",
   "execution_count": 6,
   "id": "79781d22-e80b-4f1b-a4b9-d620f4062928",
   "metadata": {},
   "outputs": [],
   "source": [
    "from imutils.ml.models.pl.classifier import LitClassifier\n",
    "\n",
    "model = LitClassifier(cfg=cfg,\n",
    "                      loss_func=loss_func)\n",
    "\n"
   ]
  },
  {
   "cell_type": "code",
   "execution_count": null,
   "id": "54470734-fa18-4d5e-b6cf-f00a5ac14e59",
   "metadata": {},
   "outputs": [],
   "source": []
  },
  {
   "cell_type": "code",
   "execution_count": null,
   "id": "740e8028-bf74-468b-96cd-2893ef3b04ab",
   "metadata": {},
   "outputs": [],
   "source": []
  },
  {
   "cell_type": "code",
   "execution_count": null,
   "id": "258502c0-b441-4d2c-851f-da280e59c897",
   "metadata": {},
   "outputs": [],
   "source": []
  },
  {
   "cell_type": "code",
   "execution_count": null,
   "id": "0d0ae34f-c1b8-48c9-9dda-71f63c1da30d",
   "metadata": {},
   "outputs": [],
   "source": []
  },
  {
   "cell_type": "code",
   "execution_count": null,
   "id": "6e861201-f5f2-4abe-8f67-9917d5befeb6",
   "metadata": {},
   "outputs": [],
   "source": []
  },
  {
   "cell_type": "code",
   "execution_count": null,
   "id": "46487494-89c9-41a3-924a-9e9b01e5c7f5",
   "metadata": {},
   "outputs": [],
   "source": []
  },
  {
   "cell_type": "code",
   "execution_count": 10,
   "id": "b57bda7f-b807-41dc-b7fc-9fb96f50f4dd",
   "metadata": {},
   "outputs": [
    {
     "data": {
      "text/plain": [
       "['/media/data_cifs/projects/prj_fossils/users/jacob/experiments/2022/herbarium2022/hydra_experiments/2022-03-29/05-31-45/ckpts/epoch=26-val_loss=1.281-val_macro_F1=0.733/model_weights.ckpt',\n",
       " '/media/data_cifs/projects/prj_fossils/users/jacob/experiments/2022/herbarium2022/hydra_experiments/2022-03-29/05-31-45/ckpts/epoch=27-val_loss=1.290-val_macro_F1=0.734/model_weights.ckpt',\n",
       " '/media/data_cifs/projects/prj_fossils/users/jacob/experiments/2022/herbarium2022/hydra_experiments/2022-03-29/05-31-45/ckpts/last.ckpt']"
      ]
     },
     "execution_count": 10,
     "metadata": {},
     "output_type": "execute_result"
    }
   ],
   "source": [
    "run_dir = \"/media/data_cifs/projects/prj_fossils/users/jacob/experiments/2022/herbarium2022/hydra_experiments/2022-03-29/05-31-45\"\n",
    "ckpt_dir = os.path.join(run_dir, \"ckpts\")\n",
    "\n",
    "top_k = 3\n",
    "\n",
    "ckpt_paths = [os.path.join(ckpt_dir, f) for f in sorted(os.listdir(ckpt_dir))[-top_k:]]\n",
    "paths = []\n",
    "for d in ckpt_paths:\n",
    "    if os.path.isdir(d):\n",
    "        for f in sorted(os.listdir(d)):\n",
    "            paths.append(os.path.join(d, f))\n",
    "    else:\n",
    "        paths.append(d)\n",
    "paths"
   ]
  },
  {
   "cell_type": "code",
   "execution_count": 11,
   "id": "51e6b9fa-cc13-42be-a62d-3e2eb9343475",
   "metadata": {},
   "outputs": [
    {
     "name": "stdout",
     "output_type": "stream",
     "text": [
      "BASH_EXECUTION_STRING='set | grep WANDB'\n",
      "WANDB_API_KEY=4da22f6127e7f77527340ffede80688f6e9fb597\n",
      "WANDB_CACHE_DIR=/media/data/jacob/wandb_cache\n",
      "WANDB_ENTITY=jrose\n",
      "WANDB_PROJECT=herbarium2022\n"
     ]
    },
    {
     "name": "stderr",
     "output_type": "stream",
     "text": [
      "\u001b[34m\u001b[1mwandb\u001b[0m: Adding directory to artifact (/media/data_cifs/projects/prj_fossils/users/jacob/experiments/2022/herbarium2022/hydra_experiments/2022-03-29/05-31-45/ckpts)... Done. 16.5s\n",
      "Failed to detect the name of this notebook, you can set it manually with the WANDB_NOTEBOOK_NAME environment variable to enable code saving.\n",
      "\u001b[34m\u001b[1mwandb\u001b[0m: wandb version 0.12.11 is available!  To upgrade, please run:\n",
      "\u001b[34m\u001b[1mwandb\u001b[0m:  $ pip install wandb --upgrade\n"
     ]
    },
    {
     "data": {
      "text/html": [
       "\n",
       "                    Syncing run <strong><a href=\"https://wandb.ai/jrose/herbarium2022/runs/1c8e98wz\" target=\"_blank\">olive-dew-133</a></strong> to <a href=\"https://wandb.ai/jrose/herbarium2022\" target=\"_blank\">Weights & Biases</a> (<a href=\"https://docs.wandb.com/integrations/jupyter.html\" target=\"_blank\">docs</a>).<br/>\n",
       "\n",
       "                "
      ],
      "text/plain": [
       "<IPython.core.display.HTML object>"
      ]
     },
     "metadata": {},
     "output_type": "display_data"
    },
    {
     "data": {
      "text/html": [
       "<br/>Waiting for W&B process to finish, PID 820532... <strong style=\"color:green\">(success).</strong>"
      ],
      "text/plain": [
       "<IPython.core.display.HTML object>"
      ]
     },
     "metadata": {},
     "output_type": "display_data"
    },
    {
     "data": {
      "application/vnd.jupyter.widget-view+json": {
       "model_id": "",
       "version_major": 2,
       "version_minor": 0
      },
      "text/plain": [
       "VBox(children=(Label(value=' 437.83MB of 437.83MB uploaded (0.00MB deduped)\\r'), FloatProgress(value=1.0, max=…"
      ]
     },
     "metadata": {},
     "output_type": "display_data"
    },
    {
     "data": {
      "text/html": [
       "<style>\n",
       "    table.wandb td:nth-child(1) { padding: 0 10px; text-align: right }\n",
       "    .wandb-row { display: flex; flex-direction: row; flex-wrap: wrap; width: 100% }\n",
       "    .wandb-col { display: flex; flex-direction: column; flex-basis: 100%; flex: 1; padding: 10px; }\n",
       "    </style>\n",
       "<div class=\"wandb-row\"><div class=\"wandb-col\">\n",
       "</div><div class=\"wandb-col\">\n",
       "</div></div>\n",
       "Synced 5 W&B file(s), 0 media file(s), 2 artifact file(s) and 1 other file(s)\n",
       "<br/>Synced <strong style=\"color:#cdcd00\">olive-dew-133</strong>: <a href=\"https://wandb.ai/jrose/herbarium2022/runs/1c8e98wz\" target=\"_blank\">https://wandb.ai/jrose/herbarium2022/runs/1c8e98wz</a><br/>\n",
       "Find logs at: <code>./wandb/run-20220401_220155-1c8e98wz/logs</code><br/>\n"
      ],
      "text/plain": [
       "<IPython.core.display.HTML object>"
      ]
     },
     "metadata": {},
     "output_type": "display_data"
    }
   ],
   "source": [
    "import os\n",
    "import wandb\n",
    "\n",
    "os.environ[\"WANDB_PROJECT\"]=\"herbarium2022\"\n",
    "!set | grep WANDB\n",
    "\n",
    "\n",
    "artifact = wandb.Artifact(\"model-weights\", \"checkpoints\")\n",
    "# Add Files and Assets to the artifact using \n",
    "# `.add`, `.add_file`, `.add_dir`, and `.add_reference`\n",
    "artifact.add_dir(ckpt_dir)\n",
    "# artifact.add_file(ckpt_path)\n",
    "artifact.save()\n",
    "\n",
    "\n",
    "\n",
    "\n",
    "# api = wandb.Api()\n",
    "# run = api.run(\"herbarium2022/37r673ke\")\n",
    "# run.upload_file(ckpt_path)\n",
    "# for path in ckpt_paths:\n",
    "#     print(f\"Uploading file to wandb: {path}\")\n",
    "#     run.upload_file(path)\n",
    "# run = wandb.init(project=PROJECT_NAME, resume=True)\n",
    "# run.finish"
   ]
  },
  {
   "cell_type": "code",
   "execution_count": 6,
   "id": "5c533788-e9a5-47af-9c78-0ecc81035e11",
   "metadata": {},
   "outputs": [],
   "source": [
    "%load_ext filprofiler\n",
    "\n",
    "import psutil\n",
    "from rich import print as pp\n",
    "print(f\"RAM memory % used: {psutil.virtual_memory()[2]}\")"
   ]
  },
  {
   "cell_type": "code",
   "execution_count": 2,
   "id": "173156c9-1792-491e-ab0d-04d01f1069d1",
   "metadata": {},
   "outputs": [
    {
     "name": "stdout",
     "output_type": "stream",
     "text": [
      "Importing imutils\n"
     ]
    }
   ],
   "source": [
    "from imutils.ml.data.datamodule import Herbarium2022DataModule, Herbarium2022Dataset\n",
    "import sys"
   ]
  },
  {
   "cell_type": "code",
   "execution_count": 3,
   "id": "a8fb3cea-840c-4e88-9e35-3ef6ef16781a",
   "metadata": {},
   "outputs": [
    {
     "name": "stderr",
     "output_type": "stream",
     "text": [
      "=fil-profile= WARNING: Fil does not (yet) support tracking memory in subprocesses.\n",
      "=fil-profile= Preparing to write to fil-result/tmpqvlwf71t\n",
      "=fil-profile= Wrote flamegraph to \"fil-result/tmpqvlwf71t/peak-memory.svg\"\n",
      "=fil-profile= Wrote flamegraph to \"fil-result/tmpqvlwf71t/peak-memory-reversed.svg\"\n"
     ]
    },
    {
     "data": {
      "text/html": [
       "\n",
       "        <iframe\n",
       "            width=\"100%\"\n",
       "            height=\"600\"\n",
       "            src=\"fil-result/tmpqvlwf71t/peak-memory.svg\"\n",
       "            frameborder=\"0\"\n",
       "            allowfullscreen\n",
       "            \n",
       "        ></iframe>\n",
       "        "
      ],
      "text/plain": [
       "<IPython.lib.display.IFrame at 0x7f37c5628870>"
      ]
     },
     "metadata": {},
     "output_type": "display_data"
    }
   ],
   "source": [
    "%%filprofile\n",
    "\n",
    "root_dir = \"/media/data_cifs/projects/prj_fossils/data/raw_data/herbarium-2022-fgvc9_resize-512/catalogs\"\n",
    "\n",
    "ds = Herbarium2022Dataset(catalog_dir=root_dir, image_reader=\"PIL\")\n",
    "\n",
    "ds"
   ]
  },
  {
   "cell_type": "code",
   "execution_count": 12,
   "id": "a550fef0-9f1f-44f0-b7c9-5f59aeb63e26",
   "metadata": {},
   "outputs": [
    {
     "data": {
      "text/html": [
       "<pre style=\"white-space:pre;overflow-x:auto;line-height:normal;font-family:Menlo,'DejaVu Sans Mono',consolas,'Courier New',monospace\"><span style=\"font-weight: bold\">{</span>\n",
       "    <span style=\"color: #008000; text-decoration-color: #008000\">'idx'</span>: <span style=\"color: #008080; text-decoration-color: #008080; font-weight: bold\">800061</span>,\n",
       "    <span style=\"color: #008000; text-decoration-color: #008000\">'Species'</span>: <span style=\"color: #008000; text-decoration-color: #008000\">'Trifolium fucatum'</span>,\n",
       "    <span style=\"color: #008000; text-decoration-color: #008000\">'path'</span>: <span style=\"color: #008000; text-decoration-color: #008000\">'/media/data_cifs/projects/prj_fossils/data/raw_data/herbarium-2022-fgvc9_resize-</span>\n",
       "<span style=\"color: #008000; text-decoration-color: #008000\">512/train_images/147/56/14756__047.jpg'</span>,\n",
       "    <span style=\"color: #008000; text-decoration-color: #008000\">'y'</span>: <span style=\"color: #008080; text-decoration-color: #008080; font-weight: bold\">14752</span>,\n",
       "    <span style=\"color: #008000; text-decoration-color: #008000\">'category_id'</span>: <span style=\"color: #008080; text-decoration-color: #008080; font-weight: bold\">14756</span>,\n",
       "    <span style=\"color: #008000; text-decoration-color: #008000\">'genus_id'</span>: <span style=\"color: #008080; text-decoration-color: #008080; font-weight: bold\">2443</span>,\n",
       "    <span style=\"color: #008000; text-decoration-color: #008000\">'institution_id'</span>: <span style=\"color: #008080; text-decoration-color: #008080; font-weight: bold\">36</span>,\n",
       "    <span style=\"color: #008000; text-decoration-color: #008000\">'image_id'</span>: <span style=\"color: #008000; text-decoration-color: #008000\">'14756__047'</span>,\n",
       "    <span style=\"color: #008000; text-decoration-color: #008000\">'file_name'</span>: <span style=\"color: #008000; text-decoration-color: #008000\">'147/56/14756__047.jpg'</span>,\n",
       "    <span style=\"color: #008000; text-decoration-color: #008000\">'scientificName'</span>: <span style=\"color: #008000; text-decoration-color: #008000\">'Trifolium fucatum Lindl.'</span>,\n",
       "    <span style=\"color: #008000; text-decoration-color: #008000\">'family'</span>: <span style=\"color: #008000; text-decoration-color: #008000\">'Fabaceae'</span>,\n",
       "    <span style=\"color: #008000; text-decoration-color: #008000\">'genus'</span>: <span style=\"color: #008000; text-decoration-color: #008000\">'Trifolium'</span>,\n",
       "    <span style=\"color: #008000; text-decoration-color: #008000\">'species'</span>: <span style=\"color: #008000; text-decoration-color: #008000\">'fucatum'</span>,\n",
       "    <span style=\"color: #008000; text-decoration-color: #008000\">'collectionCode'</span>: <span style=\"color: #008000; text-decoration-color: #008000\">'NY'</span>\n",
       "<span style=\"font-weight: bold\">}</span>\n",
       "</pre>\n"
      ],
      "text/plain": [
       "\u001b[1m{\u001b[0m\n",
       "    \u001b[32m'idx'\u001b[0m: \u001b[1;36m800061\u001b[0m,\n",
       "    \u001b[32m'Species'\u001b[0m: \u001b[32m'Trifolium fucatum'\u001b[0m,\n",
       "    \u001b[32m'path'\u001b[0m: \u001b[32m'/media/data_cifs/projects/prj_fossils/data/raw_data/herbarium-2022-fgvc9_resize-\u001b[0m\n",
       "\u001b[32m512/train_images/147/56/14756__047.jpg'\u001b[0m,\n",
       "    \u001b[32m'y'\u001b[0m: \u001b[1;36m14752\u001b[0m,\n",
       "    \u001b[32m'category_id'\u001b[0m: \u001b[1;36m14756\u001b[0m,\n",
       "    \u001b[32m'genus_id'\u001b[0m: \u001b[1;36m2443\u001b[0m,\n",
       "    \u001b[32m'institution_id'\u001b[0m: \u001b[1;36m36\u001b[0m,\n",
       "    \u001b[32m'image_id'\u001b[0m: \u001b[32m'14756__047'\u001b[0m,\n",
       "    \u001b[32m'file_name'\u001b[0m: \u001b[32m'147/56/14756__047.jpg'\u001b[0m,\n",
       "    \u001b[32m'scientificName'\u001b[0m: \u001b[32m'Trifolium fucatum Lindl.'\u001b[0m,\n",
       "    \u001b[32m'family'\u001b[0m: \u001b[32m'Fabaceae'\u001b[0m,\n",
       "    \u001b[32m'genus'\u001b[0m: \u001b[32m'Trifolium'\u001b[0m,\n",
       "    \u001b[32m'species'\u001b[0m: \u001b[32m'fucatum'\u001b[0m,\n",
       "    \u001b[32m'collectionCode'\u001b[0m: \u001b[32m'NY'\u001b[0m\n",
       "\u001b[1m}\u001b[0m\n"
      ]
     },
     "metadata": {},
     "output_type": "display_data"
    }
   ],
   "source": [
    "pp(dict(ds.df.iloc[0]))\n",
    "\n",
    "path = ds.df.path[0]"
   ]
  },
  {
   "cell_type": "code",
   "execution_count": 25,
   "id": "37eda72a-a27a-48a6-a46b-be375cc4db05",
   "metadata": {},
   "outputs": [],
   "source": [
    "from PIL import Image\n",
    "# %%filprofile\n",
    "# img_bytes = img.tobytes()\n",
    "\n",
    "%%filprofile\n",
    "\n",
    "def display_obj_size(obj):\n",
    "    img_mem = sys.getsizeof(obj)\n",
    "    # img_mem = sys.getsizeof(img_bytes)\n",
    "    print(\"img size in memory:\")\n",
    "    print(f\"- {img_mem:,} bytes\")\n",
    "    print(f\"- {img_mem/1000:,} kb\")\n",
    "    print(f\"- {img_mem/1000/1000:,} Mb\")\n",
    "    \n",
    "    \n",
    "display_obj_size(img.tobytes())"
   ]
  },
  {
   "cell_type": "code",
   "execution_count": 35,
   "id": "99f47188-f121-4836-8c9c-15907d16eb2e",
   "metadata": {},
   "outputs": [],
   "source": [
    "import numpy as np\n",
    "import cv2"
   ]
  },
  {
   "cell_type": "code",
   "execution_count": 76,
   "id": "9a414b67-f824-4da3-8b0a-e42b156da148",
   "metadata": {},
   "outputs": [
    {
     "name": "stderr",
     "output_type": "stream",
     "text": [
      "=fil-profile= Preparing to write to fil-result/tmprfhfp9fl\n",
      "=fil-profile= Wrote flamegraph to \"fil-result/tmprfhfp9fl/peak-memory.svg\"\n",
      "=fil-profile= Wrote flamegraph to \"fil-result/tmprfhfp9fl/peak-memory-reversed.svg\"\n"
     ]
    },
    {
     "data": {
      "text/html": [
       "\n",
       "        <iframe\n",
       "            width=\"100%\"\n",
       "            height=\"600\"\n",
       "            src=\"fil-result/tmprfhfp9fl/peak-memory.svg\"\n",
       "            frameborder=\"0\"\n",
       "            allowfullscreen\n",
       "            \n",
       "        ></iframe>\n",
       "        "
      ],
      "text/plain": [
       "<IPython.lib.display.IFrame at 0x7f37c6ad5de0>"
      ]
     },
     "metadata": {},
     "output_type": "display_data"
    }
   ],
   "source": [
    "%%filprofile\n",
    "\n",
    "take_k = 50\n",
    "paths = ds.df.path[:take_k]\n",
    "\n",
    "imgs = []\n",
    "for i, path in enumerate(paths):\n",
    "    # img = Image.open(path)\n",
    "    # img = np.asarray(img)\n",
    "    with open(path,\"rb\") as f:\n",
    "        # imgs.append(f.read())\n",
    "        img_enc = f.read()\n",
    "        \n",
    "    img_buffer = np.frombuffer(img_enc, np.uint8)\n",
    "    dec_img = cv2.imdecode(img_buffer, cv2.IMREAD_ANYCOLOR)\n",
    "    img = dec_img[:,:,::-1]\n",
    "        \n",
    "    # img = cv2.imread(path)\n",
    "    # if i < 3:\n",
    "        # display_obj_size(img.tobytes())\n",
    "    imgs.append(img)\n",
    "    # break\n",
    "    \n",
    "imgs = np.stack(imgs)\n",
    "# print(imgs.shape)"
   ]
  },
  {
   "cell_type": "code",
   "execution_count": 77,
   "id": "5e2982cf-6a2b-4d4b-8048-69f68e8a3cc1",
   "metadata": {},
   "outputs": [],
   "source": [
    "imgs.shape\n",
    "\n",
    "display_obj_size(imgs[0])\n",
    "\n",
    "# img_buffer = imgs[2]\n",
    "img_enc = imgs[2]\n",
    "\n",
    "\n",
    "# img_enc = base64.b64decode(img_b64_enc)\n",
    "img_buffer = np.frombuffer(img_enc, np.uint8)\n",
    "dec_img = cv2.imdecode(img_buffer, cv2.IMREAD_ANYCOLOR)\n",
    "img = img[:,:,::-1]\n",
    "\n",
    "dec_img.shape\n",
    "\n",
    "Image.fromarray(dec_img[:,:,::-1])"
   ]
  },
  {
   "cell_type": "code",
   "execution_count": 27,
   "id": "12767afb-8cf5-4d0c-b182-27c16f30fb5f",
   "metadata": {},
   "outputs": [
    {
     "name": "stderr",
     "output_type": "stream",
     "text": [
      "UsageError: Line magic function `%memit` not found.\n"
     ]
    }
   ],
   "source": [
    "%memit img_mem = sys.getsizeof(img.tobytes())\n",
    "\n",
    "print(\"img size in memory:\")\n",
    "print(f\"- {img_mem:,} bytes\")\n",
    "print(f\"- {img_mem/1000:,} kb\")\n",
    "print(f\"- {img_mem/1000/1000:,} Mb\")"
   ]
  },
  {
   "cell_type": "code",
   "execution_count": null,
   "id": "cd4442f7-4842-43a5-a593-17ff52b25a0e",
   "metadata": {},
   "outputs": [],
   "source": [
    "from io import BytesIO\n",
    "img_file = BytesIO()\n",
    "img.save(img_file, 'png')\n",
    "img_file_size_png = img_file.tell()\n",
    "img_file = BytesIO()\n",
    "img.save(img_file, 'jpeg')\n",
    "img_file_size_jpeg = img_file.tell()\n",
    "print(\"img_file_size png: \", img_file_size_png)\n",
    "print(\"img_file_size jpeg: \", img_file_size_jpeg)"
   ]
  },
  {
   "cell_type": "code",
   "execution_count": 24,
   "id": "c6c15b1d-6938-4bc6-84b6-64a37f2f9533",
   "metadata": {},
   "outputs": [],
   "source": [
    "import StringIO\n",
    "output = StringIO.StringIO()\n",
    "image_output.save(output, 'PNG') #a format needs to be provided\n",
    "contents = output.getvalue()\n",
    "output.close()\n",
    "\n",
    "image_filesize = len(contents)\n",
    "\n",
    "ram_info = psutil.virtual_memory()\n",
    "\n",
    "for name, quantity in ram_info._asdict().items():\n",
    "    if name == \"percent\":\n",
    "        print(f\"{name}: {quantity/100:.2%}\")\n",
    "    else:\n",
    "        print(f\"{name}: {quantity/1000/1000/1000:2,} GB\")\n",
    "        print(f\"{name}: {quantity/1000/1000:2,} MB\")\n",
    "        print(f\"{name}: {quantity/1000:.2e} kb\")\n",
    "    print(\"=\"*20)\n",
    "\n",
    "# pp(ram_info)\n",
    "\n",
    "# total, avail, perc = ram_info[:3]"
   ]
  },
  {
   "cell_type": "code",
   "execution_count": 12,
   "id": "94c3b15c-17f9-4de9-b323-823c68cd47df",
   "metadata": {},
   "outputs": [
    {
     "name": "stdout",
     "output_type": "stream",
     "text": [
      "1.207981e-05\n"
     ]
    }
   ],
   "source": [
    "print(f\"{0.000012079806881608064:e}\")"
   ]
  },
  {
   "cell_type": "code",
   "execution_count": 13,
   "id": "9bb7ae46-715f-4645-8dfa-86c8ddb8726e",
   "metadata": {},
   "outputs": [
    {
     "name": "stdout",
     "output_type": "stream",
     "text": [
      "2.767324e-06\n"
     ]
    }
   ],
   "source": [
    "print(f\"{0.0000027673238836757465:e}\")"
   ]
  },
  {
   "cell_type": "code",
   "execution_count": 14,
   "id": "9616b5fe-7eea-4969-bf4f-0e90d7080e64",
   "metadata": {},
   "outputs": [
    {
     "name": "stdout",
     "output_type": "stream",
     "text": [
      "4.365158e+00\n"
     ]
    }
   ],
   "source": [
    "print(f\"{0.000012079806881608064/0.0000027673238836757465:e}\")"
   ]
  },
  {
   "cell_type": "code",
   "execution_count": 16,
   "id": "14839337-38f0-454b-8403-195c9e5109b8",
   "metadata": {},
   "outputs": [
    {
     "name": "stdout",
     "output_type": "stream",
     "text": [
      "0.22908676527677738\n"
     ]
    }
   ],
   "source": [
    "print(f\"{0.0000027673238836757465/0.000012079806881608064}\")"
   ]
  },
  {
   "cell_type": "code",
   "execution_count": 2,
   "id": "8bc9badc-431d-4313-b761-bc75e4163c60",
   "metadata": {},
   "outputs": [
    {
     "data": {
      "text/plain": [
       "'running'"
      ]
     },
     "execution_count": 2,
     "metadata": {},
     "output_type": "execute_result"
    }
   ],
   "source": [
    "!wandb sync --id \"37r673ke\" -p \"herbarium2022\" -e \"jrose\" --include-online \"/media/data_cifs/projects/prj_fossils/users/jacob/experiments/2022/herbarium2022/hydra_experiments/2022-03-29/05-31-45/ckpts/*\""
   ]
  },
  {
   "cell_type": "code",
   "execution_count": 55,
   "id": "21dd6ae7-3550-4720-bcd5-f2fbcb13740c",
   "metadata": {},
   "outputs": [],
   "source": [
    "(671817 + 167955)\n",
    "\n",
    "train = 671817 / 24 / 4\n",
    "val = 167955 / 24 / 4\n",
    "\n",
    "train\n",
    "val\n",
    "train+ val\n",
    "\n",
    "1/1.10\n",
    "1/1.3\n",
    "1/1.6\n",
    "\n",
    "24/1.10\n",
    "24/1.3\n",
    "24/1.6\n",
    "\n",
    "(24/1.10)**-1\n",
    "(24/1.3)**-1\n",
    "(24/1.6)**-1\n",
    "\n",
    "24/1.62"
   ]
  },
  {
   "cell_type": "code",
   "execution_count": 3,
   "id": "95b0d6ab-43d4-4574-8090-c0c7b0bed117",
   "metadata": {},
   "outputs": [],
   "source": [
    "config_path = os.path.dirname(imutils.ml.BASE_ML_CONF_PATH)\n",
    "config_name = os.path.basename(imutils.ml.BASE_ML_CONF_PATH)\n",
    "\n",
    "cfg = ETL.init_structured_config(config_name = config_name,\n",
    "                                 config_path = config_path,\n",
    "                                 job_name = \"demo\",\n",
    "                                 dataclass_type= None,\n",
    "                                 overrides = [\"data.datamodule.num_workers=4\",\n",
    "                                              \"data/datamodule@data=herbarium2022-res_512_datamodule\",\n",
    "                                              # \"train.pl_trainer.gpus=4\",\n",
    "                                              \"train.pl_trainer.accelerator=gpu\",\n",
    "                                              \"model_cfg.backbone.name=resnext50_32x4d\"],\n",
    "                                              # \"model_cfg.backbone.name=resnet_50\"],\n",
    "                                              # \"model_cfg.backbone.name=xcit_large_24_p16_224\"],\n",
    "                                              # \"model_cfg.backbone.name=resnetv2_101x1_bitm\"],\n",
    "                                             # \"model_cfg.backbone.name=resnetv2_50\"], \n",
    "                                 cfg = None)\n",
    "\n",
    "\n"
   ]
  },
  {
   "cell_type": "code",
   "execution_count": 4,
   "id": "a2154b02-204b-4968-a007-48322116e084",
   "metadata": {},
   "outputs": [
    {
     "name": "stdout",
     "output_type": "stream",
     "text": [
      "name 'HydraConfig' is not defined\n",
      "/media/data/jacob/GitHub/image-utils/imutils/ml/hydra_experiments/2022-03-24/07-35-17\n",
      "run:\n",
      "  dir: /media/data/jacob/GitHub/image-utils/imutils/ml/hydra_experiments/2022-03-24/07-35-17\n",
      "\n"
     ]
    }
   ],
   "source": [
    "OmegaConf.set_struct(cfg, False)\n",
    "# Hydra run directory\n",
    "try:\n",
    "    hydra_dir = Path(HydraConfig.get().run.dir)\n",
    "except Exception as e:\n",
    "    print(e)\n",
    "    hydra_dir = os.getcwd()\n",
    "\n",
    "\n",
    "hydra_dir = \"/media/data/jacob/GitHub/image-utils/imutils/ml/hydra_experiments/2022-03-24/07-35-17\"\n",
    "\n",
    "\n",
    "if not cfg.get(\"hydra\"):\n",
    "    cfg.update({\"hydra\":{\"run\":{\"dir\":hydra_dir}},\n",
    "                \"run_output_dir\":hydra_dir})\n",
    "    print(cfg.hydra.run.dir)\n",
    "\n",
    "print(OmegaConf.to_yaml(cfg.hydra))#, resolve=True, sort_keys=True))"
   ]
  },
  {
   "cell_type": "code",
   "execution_count": null,
   "id": "3df917e0-0ac2-4518-a293-b3e42f9c54f8",
   "metadata": {},
   "outputs": [],
   "source": []
  },
  {
   "cell_type": "markdown",
   "id": "16022f92-652b-4271-b7c0-cdf6c9202143",
   "metadata": {},
   "source": [
    "## Instantiate experiment ingredients with config"
   ]
  },
  {
   "cell_type": "code",
   "execution_count": 5,
   "id": "34e5fb23-06a0-46f5-bab3-743e751e3531",
   "metadata": {},
   "outputs": [
    {
     "name": "stdout",
     "output_type": "stream",
     "text": [
      "self.transform_cfg:\n"
     ]
    },
    {
     "data": {
      "text/html": [
       "<pre style=\"white-space:pre;overflow-x:auto;line-height:normal;font-family:Menlo,'DejaVu Sans Mono',consolas,'Courier New',monospace\"><span style=\"font-weight: bold\">{</span><span style=\"color: #008000; text-decoration-color: #008000\">'preprocess'</span>: <span style=\"font-weight: bold\">{</span><span style=\"color: #008000; text-decoration-color: #008000\">'train'</span>: <span style=\"font-weight: bold\">{</span><span style=\"color: #008000; text-decoration-color: #008000\">'resize'</span>: <span style=\"color: #008080; text-decoration-color: #008080; font-weight: bold\">256</span><span style=\"font-weight: bold\">}</span>, <span style=\"color: #008000; text-decoration-color: #008000\">'val'</span>: <span style=\"font-weight: bold\">{</span><span style=\"color: #008000; text-decoration-color: #008000\">'resize'</span>: <span style=\"color: #008080; text-decoration-color: #008080; font-weight: bold\">256</span><span style=\"font-weight: bold\">}</span>, <span style=\"color: #008000; text-decoration-color: #008000\">'test'</span>: <span style=\"font-weight: bold\">{</span><span style=\"color: #008000; text-decoration-color: #008000\">'resize'</span>: <span style=\"color: #008080; text-decoration-color: #008080; font-weight: bold\">256</span><span style=\"font-weight: bold\">}}</span>, \n",
       "<span style=\"color: #008000; text-decoration-color: #008000\">'batch_transform'</span>: <span style=\"font-weight: bold\">{</span><span style=\"color: #008000; text-decoration-color: #008000\">'train'</span>: <span style=\"font-weight: bold\">{</span><span style=\"color: #008000; text-decoration-color: #008000\">'random_resize_crop'</span>: <span style=\"color: #008080; text-decoration-color: #008080; font-weight: bold\">224</span><span style=\"font-weight: bold\">}</span>, <span style=\"color: #008000; text-decoration-color: #008000\">'val'</span>: <span style=\"font-weight: bold\">{</span><span style=\"color: #008000; text-decoration-color: #008000\">'center_crop'</span>: <span style=\"color: #008080; text-decoration-color: #008080; font-weight: bold\">224</span><span style=\"font-weight: bold\">}</span>, \n",
       "<span style=\"color: #008000; text-decoration-color: #008000\">'test'</span>: <span style=\"font-weight: bold\">{</span><span style=\"color: #008000; text-decoration-color: #008000\">'center_crop'</span>: <span style=\"color: #008080; text-decoration-color: #008080; font-weight: bold\">224</span><span style=\"font-weight: bold\">}</span>, <span style=\"color: #008000; text-decoration-color: #008000\">'random_flips'</span>: <span style=\"color: #ff0000; text-decoration-color: #ff0000; font-style: italic\">False</span><span style=\"font-weight: bold\">}</span>, <span style=\"color: #008000; text-decoration-color: #008000\">'normalize'</span>: <span style=\"font-weight: bold\">[[</span><span style=\"color: #008080; text-decoration-color: #008080; font-weight: bold\">0.485</span>, <span style=\"color: #008080; text-decoration-color: #008080; font-weight: bold\">0.456</span>, <span style=\"color: #008080; text-decoration-color: #008080; font-weight: bold\">0.406</span><span style=\"font-weight: bold\">]</span>, \n",
       "<span style=\"font-weight: bold\">[</span><span style=\"color: #008080; text-decoration-color: #008080; font-weight: bold\">0.229</span>, <span style=\"color: #008080; text-decoration-color: #008080; font-weight: bold\">0.224</span>, <span style=\"color: #008080; text-decoration-color: #008080; font-weight: bold\">0.225</span><span style=\"font-weight: bold\">]]</span>, <span style=\"color: #008000; text-decoration-color: #008000\">'preprocess_size'</span>: <span style=\"color: #008080; text-decoration-color: #008080; font-weight: bold\">256</span>, <span style=\"color: #008000; text-decoration-color: #008000\">'resolution'</span>: <span style=\"color: #008080; text-decoration-color: #008080; font-weight: bold\">224</span><span style=\"font-weight: bold\">}</span>\n",
       "</pre>\n"
      ],
      "text/plain": [
       "\u001b[1m{\u001b[0m\u001b[32m'preprocess'\u001b[0m: \u001b[1m{\u001b[0m\u001b[32m'train'\u001b[0m: \u001b[1m{\u001b[0m\u001b[32m'resize'\u001b[0m: \u001b[1;36m256\u001b[0m\u001b[1m}\u001b[0m, \u001b[32m'val'\u001b[0m: \u001b[1m{\u001b[0m\u001b[32m'resize'\u001b[0m: \u001b[1;36m256\u001b[0m\u001b[1m}\u001b[0m, \u001b[32m'test'\u001b[0m: \u001b[1m{\u001b[0m\u001b[32m'resize'\u001b[0m: \u001b[1;36m256\u001b[0m\u001b[1m}\u001b[0m\u001b[1m}\u001b[0m, \n",
       "\u001b[32m'batch_transform'\u001b[0m: \u001b[1m{\u001b[0m\u001b[32m'train'\u001b[0m: \u001b[1m{\u001b[0m\u001b[32m'random_resize_crop'\u001b[0m: \u001b[1;36m224\u001b[0m\u001b[1m}\u001b[0m, \u001b[32m'val'\u001b[0m: \u001b[1m{\u001b[0m\u001b[32m'center_crop'\u001b[0m: \u001b[1;36m224\u001b[0m\u001b[1m}\u001b[0m, \n",
       "\u001b[32m'test'\u001b[0m: \u001b[1m{\u001b[0m\u001b[32m'center_crop'\u001b[0m: \u001b[1;36m224\u001b[0m\u001b[1m}\u001b[0m, \u001b[32m'random_flips'\u001b[0m: \u001b[3;91mFalse\u001b[0m\u001b[1m}\u001b[0m, \u001b[32m'normalize'\u001b[0m: \u001b[1m[\u001b[0m\u001b[1m[\u001b[0m\u001b[1;36m0.485\u001b[0m, \u001b[1;36m0.456\u001b[0m, \u001b[1;36m0.406\u001b[0m\u001b[1m]\u001b[0m, \n",
       "\u001b[1m[\u001b[0m\u001b[1;36m0.229\u001b[0m, \u001b[1;36m0.224\u001b[0m, \u001b[1;36m0.225\u001b[0m\u001b[1m]\u001b[0m\u001b[1m]\u001b[0m, \u001b[32m'preprocess_size'\u001b[0m: \u001b[1;36m256\u001b[0m, \u001b[32m'resolution'\u001b[0m: \u001b[1;36m224\u001b[0m\u001b[1m}\u001b[0m\n"
      ]
     },
     "metadata": {},
     "output_type": "display_data"
    },
    {
     "name": "stdout",
     "output_type": "stream",
     "text": [
      "self.normalize: [[0.485, 0.456, 0.406], [0.229, 0.224, 0.225]]\n",
      "self.normalize: [[0.485, 0.456, 0.406], [0.229, 0.224, 0.225]]\n",
      "self.normalize: [[0.485, 0.456, 0.406], [0.229, 0.224, 0.225]]\n"
     ]
    },
    {
     "name": "stderr",
     "output_type": "stream",
     "text": [
      "ic| subset: 'train'\n",
      "    num_samples: 671817\n",
      "    num_batches: 5249\n",
      "    self.num_classes: 15501\n",
      "    self.batch_size: 128\n",
      "ic| subset: 'val'\n",
      "    num_samples: 167955\n",
      "    num_batches: 1313\n",
      "    self.num_classes: 15501\n",
      "    self.batch_size: 128\n",
      "ic| subset: 'test'\n",
      "    num_samples: 210407\n",
      "    num_batches: 1644\n",
      "    self.num_classes: 15501\n",
      "    self.batch_size: 128\n"
     ]
    }
   ],
   "source": [
    "from icecream import ic\n",
    "\n",
    "# OmegaConf.register_new_resolver(\"int\", int)\n",
    "\n",
    "if cfg.train.deterministic:\n",
    "    pl.seed_everything(cfg.train.random_seed)\n",
    "\n",
    "if cfg.train.pl_trainer.fast_dev_run:\n",
    "    hydra.utils.log.info(\n",
    "        f\"Debug mode <{cfg.train.pl_trainer.fast_dev_run}>. \"\n",
    "        f\"Forcing debugger friendly configuration!\"\n",
    "    )\n",
    "    cfg.train.pl_trainer.gpus = 0\n",
    "    cfg.data.datamodule.num_workers = 0\n",
    "\n",
    "try:\n",
    "    hydra_dir = Path(HydraConfig.get().run.dir)\n",
    "except Exception as e:\n",
    "    hydra_dir = os.getcwd()\n",
    "\n",
    "hydra.utils.log.info(f\"Instantiating <{cfg.data.datamodule._target_}>\")\n",
    "datamodule: pl.LightningDataModule = hydra.utils.instantiate(\n",
    "    cfg.data.datamodule, _recursive_=False\n",
    ")\n",
    "datamodule.setup()"
   ]
  },
  {
   "cell_type": "code",
   "execution_count": 48,
   "id": "4e25db9d-cb0d-431c-a236-dc46da0cc2b0",
   "metadata": {},
   "outputs": [],
   "source": [
    "import matplotlib.pyplot as plt\n",
    "import numpy as np\n",
    "from imutils.ml.utils.toolbox.nn.functional import sequence2np\n",
    "\n",
    "from imutils.ml.utils.toolbox.nn.loss import CBCrossEntropyLoss\n",
    "\n",
    "\n",
    "\n",
    "targets = datamodule.train_dataset.df.y\n",
    "\n",
    "loss_func = CBCrossEntropyLoss(targets=targets,\n",
    "                               beta=0.0,\n",
    "                               reduction=\"mean\")\n",
    "\n",
    "assert np.all(loss_func.weights.numpy()==1.0)\n",
    "\n",
    "targets = datamodule.train_dataset.df.y\n",
    "\n",
    "loss_func = CBCrossEntropyLoss(targets=targets,\n",
    "                               beta=0.99,\n",
    "                               reduction=\"mean\")\n",
    "\n",
    "# np.all(loss_func.weights.numpy()==1.0)\n",
    "\n",
    "w_max = loss_func.weights.numpy().max()\n",
    "w_min = loss_func.weights.numpy().min()\n",
    "\n",
    "w_sum = loss_func.weights.numpy().sum()\n",
    "w_count = len(loss_func.weights)\n",
    "\n",
    "print(f\"w_max: {w_max:.5f}\",\"\\n\",\n",
    "      f\"w_min: {w_min:.5f}\",\"\\n\",\n",
    "      f\"w_sum: {w_sum:.5f}\",\"\\n\",\n",
    "      f\"w_count: {w_count}\")\n",
    "\n",
    "w = loss_func.weights\n",
    "w_max = loss_func.weights.numpy().max()\n",
    "w_min = loss_func.weights.numpy().min()\n",
    "w_normalized = (w - w_min) / (w_max - w_min)\n",
    "\n",
    "\n",
    "\n",
    "for name, w in [(\"normalized weights\", w_normalized), (\"weights\", loss_func.weights)]:\n",
    "\n",
    "    w_max = w.numpy().max()\n",
    "    w_min = w.numpy().min()\n",
    "\n",
    "    w_sum = w.numpy().sum()\n",
    "    w_count = len(w)\n",
    "\n",
    "    print(f\"{name}:\", \"\\n\", \"=\"*10)\n",
    "    print(f\"w_max: {w_max:.5f}\",\"\\n\",\n",
    "          f\"w_min: {w_min:.5f}\",\"\\n\",\n",
    "          f\"w_sum: {w_sum:.5f}\",\"\\n\",\n",
    "          f\"w_count: {w_count}\", \"\\n\")"
   ]
  },
  {
   "cell_type": "code",
   "execution_count": 30,
   "id": "24e804cf-f576-4333-b978-90ac128b8a25",
   "metadata": {},
   "outputs": [
    {
     "data": {
      "text/plain": [
       "array([    0,     1,     2, ..., 15498, 15499, 15500])"
      ]
     },
     "execution_count": 30,
     "metadata": {},
     "output_type": "execute_result"
    },
    {
     "data": {
      "text/plain": [
       "array([ 9740,  4556,  4422, ..., 14156, 13301, 14452])"
      ]
     },
     "execution_count": 30,
     "metadata": {},
     "output_type": "execute_result"
    }
   ],
   "source": [
    "loss_func.classes\n",
    "reindex = np.argsort(loss_func.class_counts)[::-1]\n",
    "reindex"
   ]
  },
  {
   "cell_type": "code",
   "execution_count": 35,
   "id": "3ab17679-ebed-4cd5-99d0-fe024b837556",
   "metadata": {},
   "outputs": [],
   "source": [
    "ordered_class_counts = loss_func.class_counts[reindex]\n",
    "ordered_class_weights = loss_func.weights.numpy()[reindex]\n"
   ]
  },
  {
   "cell_type": "code",
   "execution_count": 9,
   "id": "44ddc5f7-08ee-4990-9fed-dd05ca619d62",
   "metadata": {},
   "outputs": [],
   "source": [
    "fig, ax = plt.subplots(2,1, figsize=(10,5), sharex=True, sharey=False)\n",
    "ax[0].plot(ordered_class_counts/np.sum(ordered_class_counts))\n",
    "ax[1].plot(np.exp(ordered_class_weights))\n",
    "\n",
    "dir(loss_func)"
   ]
  },
  {
   "cell_type": "code",
   "execution_count": null,
   "id": "57e8c66a-b6de-44e3-b656-bc0537b05ce1",
   "metadata": {},
   "outputs": [],
   "source": [
    "weights = torch.tensor([9.8, 68.0, 5.3, 3.5, 10.8, 1.1, 1.4], dtype=torch.float32)\n",
    "weights = weights / weights.sum()\n",
    "print(weights)\n",
    "weights = 1.0 / weights\n",
    "weights = weights / weights.sum()\n",
    "print(weights)"
   ]
  },
  {
   "cell_type": "code",
   "execution_count": 60,
   "id": "eb7d66ef-d696-4baf-973d-53591c9ca0e4",
   "metadata": {},
   "outputs": [],
   "source": [
    "y = datamodule.train_dataset.df.y\n",
    "\n",
    "counts_df = y.value_counts()"
   ]
  },
  {
   "cell_type": "code",
   "execution_count": 14,
   "id": "6f7c60b0-9927-4244-9a2a-8e2e57e64777",
   "metadata": {},
   "outputs": [],
   "source": [
    "# y = sequence2np(y)\n",
    "# classes, class_counts = np.unique(y, return_counts=True)\n",
    "# print(type(classes), type(class_counts))\n",
    "# for label in range(15000):\n",
    "#     assert class_counts[label] == counts_df[label]\n",
    "# y = y.values.to_numpy()\n",
    "# y.shape\n",
    "# import numpy as np"
   ]
  },
  {
   "cell_type": "code",
   "execution_count": null,
   "id": "c97179f9-a5db-461e-8a41-09e8bab90ddc",
   "metadata": {},
   "outputs": [],
   "source": []
  },
  {
   "cell_type": "code",
   "execution_count": 7,
   "id": "ced9002c-8137-445b-8d43-8e4934b174cb",
   "metadata": {},
   "outputs": [
    {
     "ename": "NameError",
     "evalue": "name 'model' is not defined",
     "output_type": "error",
     "traceback": [
      "\u001b[0;31m---------------------------------------------------------------------------\u001b[0m",
      "\u001b[0;31mNameError\u001b[0m                                 Traceback (most recent call last)",
      "Input \u001b[0;32mIn [7]\u001b[0m, in \u001b[0;36m<cell line: 10>\u001b[0;34m()\u001b[0m\n\u001b[1;32m      2\u001b[0m hydra\u001b[38;5;241m.\u001b[39mutils\u001b[38;5;241m.\u001b[39mlog\u001b[38;5;241m.\u001b[39minfo(\u001b[38;5;124mf\u001b[39m\u001b[38;5;124m\"\u001b[39m\u001b[38;5;124mInstantiating <\u001b[39m\u001b[38;5;132;01m{\u001b[39;00mcfg\u001b[38;5;241m.\u001b[39mmodel_cfg\u001b[38;5;241m.\u001b[39m_target_\u001b[38;5;132;01m}\u001b[39;00m\u001b[38;5;124m>\u001b[39m\u001b[38;5;124m\"\u001b[39m)\n\u001b[1;32m      3\u001b[0m \u001b[38;5;66;03m# model: pl.LightningModule = hydra.utils.instantiate(cfg.model, cfg=cfg, _recursive_=False)\u001b[39;00m\n\u001b[1;32m      4\u001b[0m \u001b[38;5;66;03m# model = imutils.ml.models.pl.classifier.LitClassifier(cfg=cfg, #model_cfg=cfg.model_cfg,\u001b[39;00m\n\u001b[1;32m      5\u001b[0m \u001b[38;5;66;03m#                                                       loss_func=cfg.model_cfg.loss)\u001b[39;00m\n\u001b[0;32m   (...)\u001b[0m\n\u001b[1;32m      8\u001b[0m \u001b[38;5;66;03m# ic(torch.cuda.current_device())\t\u001b[39;00m\n\u001b[1;32m      9\u001b[0m \u001b[38;5;66;03m# ic(torch.cuda.get_device_name(0))\u001b[39;00m\n\u001b[0;32m---> 10\u001b[0m wandb_logger \u001b[38;5;241m=\u001b[39m configure_loggers(cfg\u001b[38;5;241m=\u001b[39mcfg, model\u001b[38;5;241m=\u001b[39m\u001b[43mmodel\u001b[49m)\n\u001b[1;32m     11\u001b[0m callbacks: List[pl\u001b[38;5;241m.\u001b[39mCallback] \u001b[38;5;241m=\u001b[39m configure_callbacks(cfg\u001b[38;5;241m=\u001b[39mcfg\u001b[38;5;241m.\u001b[39mtrain)\t\n\u001b[1;32m     12\u001b[0m hydra\u001b[38;5;241m.\u001b[39mutils\u001b[38;5;241m.\u001b[39mlog\u001b[38;5;241m.\u001b[39minfo(\u001b[38;5;124mf\u001b[39m\u001b[38;5;124m\"\u001b[39m\u001b[38;5;124mInstantiating the Trainer\u001b[39m\u001b[38;5;124m\"\u001b[39m)\n",
      "\u001b[0;31mNameError\u001b[0m: name 'model' is not defined"
     ]
    }
   ],
   "source": [
    "# logging.warning(\"1. Before model, before trainer\")\n",
    "hydra.utils.log.info(f\"Instantiating <{cfg.model_cfg._target_}>\")\n",
    "# model: pl.LightningModule = hydra.utils.instantiate(cfg.model, cfg=cfg, _recursive_=False)\n",
    "# model = imutils.ml.models.pl.classifier.LitClassifier(cfg=cfg, #model_cfg=cfg.model_cfg,\n",
    "#                                                       loss_func=cfg.model_cfg.loss)\n",
    "\n",
    "# logging.warning(\"2. After model, before trainer\")\n",
    "# ic(torch.cuda.current_device())\t\n",
    "# ic(torch.cuda.get_device_name(0))\n",
    "wandb_logger = configure_loggers(cfg=cfg, model=model)\n",
    "callbacks: List[pl.Callback] = configure_callbacks(cfg=cfg.train)\t\n",
    "hydra.utils.log.info(f\"Instantiating the Trainer\")\n",
    "pp(OmegaConf.to_container(cfg.train.pl_trainer))\n",
    "trainer = configure_trainer(cfg,\n",
    "                            callbacks=callbacks,\n",
    "                            logger=wandb_logger)\n",
    "# logging.warning(\"3. After model, after trainer, before fit\")\n",
    "# ic(torch.cuda.current_device())\n",
    "num_samples = len(datamodule.train_dataset)\n",
    "num_classes = cfg.model_cfg.head.num_classes\n",
    "batch_size = datamodule.batch_size #[\"train\"]\n",
    "hydra.utils.log.info(\"Starting training with {} classes across {} images in batches of {} images each.\".format(\n",
    "    num_classes,\n",
    "    num_samples,\n",
    "    batch_size))\n",
    "\n"
   ]
  },
  {
   "cell_type": "code",
   "execution_count": 12,
   "id": "68179651-461d-41d0-9474-92aec25a468e",
   "metadata": {},
   "outputs": [],
   "source": [
    "datamodule.test_dataset.test_transform = None"
   ]
  },
  {
   "cell_type": "code",
   "execution_count": 13,
   "id": "4981965a-3ed1-48ae-9ec6-c134289ae143",
   "metadata": {},
   "outputs": [
    {
     "data": {
      "text/plain": [
       "torch.Size([3, 224, 224])"
      ]
     },
     "execution_count": 13,
     "metadata": {},
     "output_type": "execute_result"
    }
   ],
   "source": [
    "datamodule.test_dataset[0][0].shape"
   ]
  },
  {
   "cell_type": "code",
   "execution_count": 21,
   "id": "9b2566ec-045a-4fbd-9818-75a328b0ee64",
   "metadata": {},
   "outputs": [
    {
     "name": "stderr",
     "output_type": "stream",
     "text": [
      "  3%|██▉                                                                                          | 51/1644 [01:52<58:35,  2.21s/it]\n"
     ]
    }
   ],
   "source": [
    "from tqdm import tqdm\n",
    "\n",
    "loader = datamodule.test_dataloader()\n",
    "for i, batch in tqdm(enumerate(iter(loader)), total = len(loader)):\n",
    "    if i > 50:\n",
    "        break"
   ]
  },
  {
   "cell_type": "code",
   "execution_count": 26,
   "id": "28bbeabb-8aa3-47c7-8dd6-8b237bcf91b9",
   "metadata": {},
   "outputs": [
    {
     "data": {
      "text/plain": [
       "282.88"
      ]
     },
     "execution_count": 26,
     "metadata": {},
     "output_type": "execute_result"
    }
   ],
   "source": [
    "128*2.21"
   ]
  },
  {
   "cell_type": "code",
   "execution_count": 23,
   "id": "09398e1a-1017-4351-b4f5-0c772c35433e",
   "metadata": {},
   "outputs": [
    {
     "data": {
      "text/plain": [
       "128"
      ]
     },
     "execution_count": 23,
     "metadata": {},
     "output_type": "execute_result"
    }
   ],
   "source": [
    "64*"
   ]
  },
  {
   "cell_type": "code",
   "execution_count": 19,
   "id": "2d4cba45-106f-4656-80a8-ec56c3ed9f1f",
   "metadata": {},
   "outputs": [],
   "source": [
    "from PIL import Image\n",
    "img = Image.open(datamodule.test_dataset.df.path.iloc[0])\n",
    "img.size\n",
    "\n",
    "img"
   ]
  },
  {
   "cell_type": "code",
   "execution_count": 10,
   "id": "418fffed-dfd6-40b5-b998-7012b4dfa138",
   "metadata": {},
   "outputs": [
    {
     "data": {
      "text/html": [
       "<table border=\"1\" class=\"dataframe\">\n",
       "  <thead>\n",
       "    <tr style=\"text-align: right;\">\n",
       "      <th></th>\n",
       "      <th>image_id (PandasSeriesColumn)</th>\n",
       "      <th>img (ImageColumn)</th>\n",
       "    </tr>\n",
       "  </thead>\n",
       "  <tbody>\n",
       "    <tr>\n",
       "      <th>0</th>\n",
       "      <td>0</td>\n",
       "      <td>tensor([[[1.4783, 1.4783, 1.4783,  ..., 1.4440, 1.4184, 1.3584],\n",
       "         [1.4783, 1.4783, 1.4783,  ..., 1.4697, 1.4440, 1.4141],\n",
       "         [1.4783, 1.4783, 1.4783,  ..., 1.4697, 1.4483, 1.4440],\n",
       "         ...,\n",
       "         [1.7095, 1.6881, 1.6881,  ..., 1.9920, 2.0092, 2.0006],\n",
       "         [1.7865, 1.7694, 1.7694,  ..., 1.9920, 2.0092, 2.0177],\n",
       "         [1.8764, 1.8550, 1.8550,  ..., 1.9835, 2.0092, 2.0263]],\n",
       "\n",
       "        [[1.2031, 1.2031, 1.2031,  ..., 1.1681, 1.1418, 1.0805],\n",
       "         [1.2031, 1.2031, 1.2031,  ..., 1.1943, 1.1681, 1.1374],\n",
       "         [1.2031, 1.2031, 1.2031,  ..., 1.1943, 1.1724, 1.1681],\n",
       "         ...,\n",
       "         [1.8071, 1.7852, 1.7852,  ..., 2.0434, 2.0259, 2.0172],\n",
       "         [1.8859, 1.8683, 1.8683,  ..., 2.0434, 2.0259, 2.0347],\n",
       "         [1.9778, 1.9559, 1.9559,  ..., 2.0347, 2.0434, 2.0434]],\n",
       "\n",
       "        [[0.4788, 0.4788, 0.4788,  ..., 0.4439, 0.4178, 0.3568],\n",
       "         [0.4788, 0.4788, 0.4788,  ..., 0.4701, 0.4439, 0.4134],\n",
       "         [0.4788, 0.4788, 0.4788,  ..., 0.4701, 0.4483, 0.4439],\n",
       "         ...,\n",
       "         [1.8295, 1.8078, 1.8078,  ..., 2.0823, 2.0823, 2.0736],\n",
       "         [1.8905, 1.8731, 1.8731,  ..., 2.0823, 2.0823, 2.0910],\n",
       "         [1.9820, 1.9603, 1.9603,  ..., 2.0823, 2.0997, 2.1084]]])</td>\n",
       "    </tr>\n",
       "    <tr>\n",
       "      <th>1</th>\n",
       "      <td>1</td>\n",
       "      <td>tensor([[[1.4569, 1.4269, 1.4355,  ..., 1.6453, 1.6924, 1.6838],\n",
       "         [1.4783, 1.4783, 1.4697,  ..., 1.4997, 1.5810, 1.5982],\n",
       "         [1.8208, 1.6924, 1.4612,  ..., 1.5168, 1.6196, 1.6367],\n",
       "         ...,\n",
       "         [1.4055, 1.3970, 1.3798,  ..., 1.3156, 1.3156, 1.3156],\n",
       "         [1.3670, 1.3499, 1.3627,  ..., 1.2985, 1.2985, 1.2985],\n",
       "         [1.3242, 1.3584, 1.3970,  ..., 1.2899, 1.2899, 1.2899]],\n",
       "\n",
       "        [[1.4963, 1.4657, 1.4744,  ..., 1.7677, 1.8158, 1.7896],\n",
       "         [1.5182, 1.5182, 1.5095,  ..., 1.6276, 1.7108, 1.7108],\n",
       "         [1.8683, 1.7370, 1.5007,  ..., 1.6276, 1.7327, 1.7458],\n",
       "         ...,\n",
       "         [1.5488, 1.5401, 1.5226,  ..., 1.3519, 1.3519, 1.3519],\n",
       "         [1.5095, 1.4919, 1.5051,  ..., 1.3344, 1.3344, 1.3344],\n",
       "         [1.4526, 1.4832, 1.5226,  ..., 1.3256, 1.3256, 1.3256]],\n",
       "\n",
       "        [[1.3982, 1.3677, 1.3764,  ..., 1.7511, 1.7990, 1.7903],\n",
       "         [1.4200, 1.4200, 1.4112,  ..., 1.5812, 1.6640, 1.6901],\n",
       "         [1.7773, 1.6378, 1.4025,  ..., 1.5812, 1.6858, 1.7119],\n",
       "         ...,\n",
       "         [1.7206, 1.7206, 1.7032,  ..., 1.2544, 1.2544, 1.2544],\n",
       "         [1.6553, 1.6378, 1.6509,  ..., 1.2370, 1.2370, 1.2370],\n",
       "         [1.5332, 1.5768, 1.6160,  ..., 1.2282, 1.2282, 1.2282]]])</td>\n",
       "    </tr>\n",
       "    <tr>\n",
       "      <th>2</th>\n",
       "      <td>2</td>\n",
       "      <td>tensor([[[1.5810, 1.6067, 1.6153,  ..., 1.6453, 1.7052, 1.6709],\n",
       "         [1.6281, 1.6410, 1.6367,  ..., 1.6067, 1.6410, 1.6752],\n",
       "         [1.6110, 1.6367, 1.6410,  ..., 1.8122, 1.7523, 1.6881],\n",
       "         ...,\n",
       "         [1.6024, 1.6067, 1.5982,  ..., 1.9064, 1.9193, 1.9278],\n",
       "         [1.5725, 1.5896, 1.5682,  ..., 1.8936, 1.9064, 1.9150],\n",
       "         [1.5511, 1.5639, 1.5554,  ..., 1.9021, 1.9150, 1.9235]],\n",
       "\n",
       "        [[1.7108, 1.7370, 1.7458,  ..., 1.7677, 1.8683, 1.8596],\n",
       "         [1.7589, 1.7721, 1.7677,  ..., 1.7195, 1.8027, 1.8771],\n",
       "         [1.7414, 1.7677, 1.7721,  ..., 1.9296, 1.9121, 1.8902],\n",
       "         ...,\n",
       "         [1.7502, 1.7546, 1.7458,  ..., 2.0259, 2.0390, 2.0478],\n",
       "         [1.7195, 1.7370, 1.7152,  ..., 2.0128, 2.0259, 2.0347],\n",
       "         [1.6933, 1.7064, 1.6977,  ..., 2.0128, 2.0259, 2.0347]],\n",
       "\n",
       "        [[1.6727, 1.6988, 1.7075,  ..., 1.6596, 1.7990, 1.8383],\n",
       "         [1.7119, 1.7250, 1.7206,  ..., 1.5942, 1.7337, 1.8470],\n",
       "         [1.6945, 1.7206, 1.7250,  ..., 1.8121, 1.8557, 1.8600],\n",
       "         ...,\n",
       "         [1.6509, 1.6553, 1.6465,  ..., 1.9080, 1.9210, 1.9298],\n",
       "         [1.6204, 1.6378, 1.6160,  ..., 1.8949, 1.9080, 1.9167],\n",
       "         [1.6073, 1.6204, 1.6117,  ..., 1.8731, 1.8818, 1.8905]]])</td>\n",
       "    </tr>\n",
       "  </tbody>\n",
       "</table>"
      ],
      "text/plain": [
       "DataPanel(nrows: 3, ncols: 2)"
      ]
     },
     "execution_count": 10,
     "metadata": {},
     "output_type": "execute_result"
    }
   ],
   "source": [
    "import meerkat as mk\n",
    "# from meerkat.contrib.imagenette import download_imagenette\n",
    "\n",
    "\n",
    "# dp_csv_path = datamodule.train_dataset.split_file_path\n",
    "dp_csv_path = datamodule.test_dataset.split_file_path\n",
    "\n",
    "# download_imagenette(\".\")\n",
    "dp = mk.DataPanel.from_csv(dp_csv_path)\n",
    "dp[\"img\"] = mk.ImageColumn.from_filepaths(dp[\"path\"],\n",
    "                                          transform=datamodule.test_transform)\n",
    "# dp[[\"scientificName\", \"image_id\", \"img\"]].lz[:3]\n",
    "dp[[\"image_id\", \"img\"]].lz[:3]"
   ]
  },
  {
   "cell_type": "code",
   "execution_count": 13,
   "id": "f7b8f284-21bb-4286-98cf-58673d3adb6e",
   "metadata": {},
   "outputs": [
    {
     "data": {
      "text/plain": [
       "torch.Size([3, 224, 224])"
      ]
     },
     "execution_count": 13,
     "metadata": {},
     "output_type": "execute_result"
    }
   ],
   "source": [
    "dp[\"img\"][3].shape"
   ]
  },
  {
   "cell_type": "code",
   "execution_count": 15,
   "id": "18dc3487-6835-4177-a54f-790e95f46185",
   "metadata": {},
   "outputs": [],
   "source": [
    "import numpy as np\n",
    "blue_col = dp.map(\n",
    "    lambda x: np.array(x[\"img\"])[2, :, :].mean(), \n",
    "    # lambda x: np.array(x[\"img\"])[:, :, 2].mean(), \n",
    "    pbar=True, \n",
    "    num_workers=2\n",
    ")\n",
    "dp[\"avg_blue\"] = blue_col  # add the intensities as a new column in the `DataPanel` \n",
    "\n",
    "dp"
   ]
  },
  {
   "cell_type": "code",
   "execution_count": 9,
   "id": "4cfb7194-7dd6-43a4-ad28-d778a3d03843",
   "metadata": {},
   "outputs": [],
   "source": [
    "type(dp[\"img\"][0])\n",
    "\n",
    "# dir(dp[\"img\"].data)\n",
    "dp[\"img\"].data"
   ]
  },
  {
   "cell_type": "code",
   "execution_count": 23,
   "id": "fad2c881-969f-4f29-9c68-277efc03b8c4",
   "metadata": {},
   "outputs": [],
   "source": [
    "# 1. Define the forward hook\n",
    "class ActivationExtractor:\n",
    "    \"\"\"Extracting activations a targetted intermediate layer\"\"\"\n",
    "\n",
    "    def __init__(self):\n",
    "        self.activation = None\n",
    "\n",
    "    def forward_hook(self, module, input, output):\n",
    "        self.activation = output\n",
    "\n",
    "# model.setup()\n",
    "# 2. Register the forward hook\n",
    "extractor = ActivationExtractor()\n",
    "model.net.backbone.layer4.register_forward_hook(extractor.forward_hook);"
   ]
  },
  {
   "cell_type": "code",
   "execution_count": 24,
   "id": "eab8c694-fa06-4629-8d26-5ae5f449ff10",
   "metadata": {},
   "outputs": [],
   "source": [
    "import torch\n",
    "\n",
    "import meerkat.ml as mkml\n",
    "# 1. Move the model to GPU\n",
    "model.to(0).eval()\n",
    "\n",
    "# 2. Define a function that runs a forward pass over a batch \n",
    "@torch.no_grad()\n",
    "def predict(batch: mk.DataPanel):\n",
    "    input_col: mk.TensorColumn = batch[\"img\"] \n",
    "    x: torch.Tensor = input_col.data.to(0)  # We get the underlying torch tensor with `data` and move to GPU \n",
    "    out: torch.Tensor = model(x)  # Run forward pass\n",
    "\n",
    "    # Return a dictionary with one key for each of the new columns. Each value in the\n",
    "    # dictionary should have the same length as the batch. \n",
    "    return {\n",
    "        \"pred\": out.cpu().numpy().argmax(axis=-1),\n",
    "        \"probs\": torch.softmax(out, axis=-1).cpu(),\n",
    "        \"activation\": mkml.EmbeddingColumn(extractor.activation.mean(dim=[-1,-2]).cpu())\n",
    "    }\n",
    "\n",
    "\n",
    "\n",
    "valid_dp = dp.lz[:100]\n",
    "# 3. Apply the update. Note that the `predict` function operates on batches, so we set \n",
    "# `is_batched_fn=True`. Also, the `predict` function only accesses the \"input\" column, by \n",
    "# specifying that here we instruct update to only load that one column and skip others \n",
    "valid_dp = valid_dp.update(\n",
    "    function=predict,\n",
    "    is_batched_fn=True,\n",
    "    batch_size=32,\n",
    "    input_columns=[\"img\"], \n",
    "    pbar=True\n",
    ")\n",
    "\n"
   ]
  },
  {
   "cell_type": "code",
   "execution_count": 17,
   "id": "2aa324b0-c5d5-4505-a6a8-f4dd4b686b17",
   "metadata": {},
   "outputs": [],
   "source": [
    "!conda list\n",
    "\n",
    "# dp[\"img\"]\n",
    "updated_dp\n",
    "\n",
    "pp(OmegaConf.to_container(model.cfg, resolve=True))"
   ]
  },
  {
   "cell_type": "code",
   "execution_count": 9,
   "id": "4884e96c-bf89-4b46-8b72-f6f7c3e79f20",
   "metadata": {},
   "outputs": [],
   "source": [
    "# ckpt_path = \"/media/data/jacob/GitHub/image-utils/imutils/ml/hydra_experiments/2022-03-24/07-35-17/hydra_experiments/2022-03-24/07-35-17/ckpts/epoch=10-val_loss=2.834-val_F1=0.384.ckpt\"\n",
    "\n",
    "# ckpt_path = \"/media/data/jacob/GitHub/image-utils/imutils/ml/hydra_experiments/2022-03-24/07-35-17/hydra_experiments/2022-03-24/07-35-17/ckpts/epoch=14-val_loss=2.521-val_F1=0.443.ckpt\"\n",
    "\n",
    "ckpt_dir = \"/media/data/jacob/GitHub/image-utils/imutils/ml/hydra_experiments/2022-03-24/07-35-17/hydra_experiments/2022-03-24/07-35-17/ckpts\"\n",
    "\n",
    "\n",
    "model = model.load_from_checkpoint(ckpt_path);\n",
    "model.eval();\n",
    "model.freeze();\n",
    "\n",
    "\n",
    "results = []\n",
    "\n",
    "for batch in iter(test_dataloader):\n",
    "    x, y, metadata = batch\n",
    "    x.to(model.device)\n",
    "    image_ids = metadata['image_id']\n",
    "    \n",
    "    y_logits = model.predict_step(x)\n",
    "    \n",
    "    results.append({\"image_id\": image_ids,\n",
    "                    \"y_logits: y_logits\"})\n",
    "\n",
    "pp(OmegaConf.to_container(model.cfg, resolve=True))\n",
    "\n",
    "# dir()\n",
    "\n",
    "results = {}\n",
    "\n",
    "results['val'] = trainer.validate(model, datamodule=datamodule)\n",
    "\n",
    "pp(results['val'])\n",
    "\n",
    "# datamodule.test_dataset.df\n",
    "# datamodule.train_dataset.df\n",
    "import numpy as np\n",
    "import torch\n",
    "\n",
    "# ckpt_path = \"/media/data/jacob/GitHub/image-utils/imutils/ml/hydra_experiments/2022-03-24/07-35-17/hydra_experiments/2022-03-24/07-35-17/ckpts/epoch=07-val_loss=3.338-val_F1=0.313.ckpt\"\n",
    "\n",
    "ckpt_path = \"/media/data/jacob/GitHub/image-utils/imutils/ml/hydra_experiments/2022-03-24/07-35-17/hydra_experiments/2022-03-24/07-35-17/ckpts/epoch=10-val_loss=2.834-val_F1=0.384.ckpt\"\n",
    "\n",
    "# ckpt = torch.load(ckpt_path)\n",
    "# print(ckpt.keys())\n",
    "\n",
    "model = model.load_from_checkpoint(ckpt_path);\n",
    "model.eval();\n",
    "model.freeze();\n",
    "# model.to(\"cpu\")\n",
    "\n",
    "# test_loader = datamodule.test_dataloader()\n",
    "# batch = next(iter(test_loader))\n",
    "\n",
    "# batch[1]#.cpu()\n",
    "\n",
    "# batch[:2] = (b.cuda() for b in batch[:2])\n",
    "# [b.cuda() for b in batch[:2]]\n",
    "\n",
    "# batch[0] = batch[0].cuda()\n",
    "# batch[1] = batch[1].cuda()\n",
    "# x, y, metadata = batch\n",
    "# x = x.to('cuda')\n",
    "# y_logits = model(x)\n",
    "# y_logits_top5 = torch.topk(torch.Tensor(y_logits.cpu()), k=5, dim=1)\n",
    "# topk = 5\n",
    "# y_logits_top5_idx = y_logits_top5.indices.numpy()\n",
    "# labels_k = le.decode_topk(y_logits_top5_idx)\n",
    "# datamodule.train_dataset.label_encoder.classes_\n",
    "# y_pred = torch.zeros_like(y_logits_top5.indices)\n",
    "# topk_labels = np.empty((128,5), dtype=\"O\")\n",
    "# for k in range(5):\n",
    "#     labels_k = datamodule.train_dataset.label_encoder.inverse_transform(y_logits_top5.indices[:,k])\n",
    "#     topk_labels[:,k] = labels_k"
   ]
  },
  {
   "cell_type": "code",
   "execution_count": 7,
   "id": "adccf91d-9be0-42c3-aed6-bc3123ad20c9",
   "metadata": {},
   "outputs": [
    {
     "ename": "NameError",
     "evalue": "name 'model' is not defined",
     "output_type": "error",
     "traceback": [
      "\u001b[0;31m---------------------------------------------------------------------------\u001b[0m",
      "\u001b[0;31mNameError\u001b[0m                                 Traceback (most recent call last)",
      "Input \u001b[0;32mIn [7]\u001b[0m, in \u001b[0;36m<cell line: 10>\u001b[0;34m()\u001b[0m\n\u001b[1;32m      2\u001b[0m hydra\u001b[38;5;241m.\u001b[39mutils\u001b[38;5;241m.\u001b[39mlog\u001b[38;5;241m.\u001b[39minfo(\u001b[38;5;124mf\u001b[39m\u001b[38;5;124m\"\u001b[39m\u001b[38;5;124mInstantiating <\u001b[39m\u001b[38;5;132;01m{\u001b[39;00mcfg\u001b[38;5;241m.\u001b[39mmodel_cfg\u001b[38;5;241m.\u001b[39m_target_\u001b[38;5;132;01m}\u001b[39;00m\u001b[38;5;124m>\u001b[39m\u001b[38;5;124m\"\u001b[39m)\n\u001b[1;32m      3\u001b[0m \u001b[38;5;66;03m# model: pl.LightningModule = hydra.utils.instantiate(cfg.model, cfg=cfg, _recursive_=False)\u001b[39;00m\n\u001b[1;32m      4\u001b[0m \u001b[38;5;66;03m# model = imutils.ml.models.pl.classifier.LitClassifier(cfg=cfg, #model_cfg=cfg.model_cfg,\u001b[39;00m\n\u001b[1;32m      5\u001b[0m \u001b[38;5;66;03m#                                                       loss_func=cfg.model_cfg.loss)\u001b[39;00m\n\u001b[0;32m   (...)\u001b[0m\n\u001b[1;32m      8\u001b[0m \u001b[38;5;66;03m# ic(torch.cuda.current_device())\t\u001b[39;00m\n\u001b[1;32m      9\u001b[0m \u001b[38;5;66;03m# ic(torch.cuda.get_device_name(0))\u001b[39;00m\n\u001b[0;32m---> 10\u001b[0m wandb_logger \u001b[38;5;241m=\u001b[39m configure_loggers(cfg\u001b[38;5;241m=\u001b[39mcfg, model\u001b[38;5;241m=\u001b[39m\u001b[43mmodel\u001b[49m)\n\u001b[1;32m     11\u001b[0m callbacks: List[pl\u001b[38;5;241m.\u001b[39mCallback] \u001b[38;5;241m=\u001b[39m configure_callbacks(cfg\u001b[38;5;241m=\u001b[39mcfg\u001b[38;5;241m.\u001b[39mtrain)\t\n\u001b[1;32m     12\u001b[0m hydra\u001b[38;5;241m.\u001b[39mutils\u001b[38;5;241m.\u001b[39mlog\u001b[38;5;241m.\u001b[39minfo(\u001b[38;5;124mf\u001b[39m\u001b[38;5;124m\"\u001b[39m\u001b[38;5;124mInstantiating the Trainer\u001b[39m\u001b[38;5;124m\"\u001b[39m)\n",
      "\u001b[0;31mNameError\u001b[0m: name 'model' is not defined"
     ]
    }
   ],
   "source": [
    "# logging.warning(\"1. Before model, before trainer\")\n",
    "hydra.utils.log.info(f\"Instantiating <{cfg.model_cfg._target_}>\")\n",
    "# model: pl.LightningModule = hydra.utils.instantiate(cfg.model, cfg=cfg, _recursive_=False)\n",
    "# model = imutils.ml.models.pl.classifier.LitClassifier(cfg=cfg, #model_cfg=cfg.model_cfg,\n",
    "#                                                       loss_func=cfg.model_cfg.loss)\n",
    "\n",
    "# logging.warning(\"2. After model, before trainer\")\n",
    "# ic(torch.cuda.current_device())\t\n",
    "# ic(torch.cuda.get_device_name(0))\n",
    "wandb_logger = configure_loggers(cfg=cfg, model=model)\n",
    "callbacks: List[pl.Callback] = configure_callbacks(cfg=cfg.train)\t\n",
    "hydra.utils.log.info(f\"Instantiating the Trainer\")\n",
    "pp(OmegaConf.to_container(cfg.train.pl_trainer))\n",
    "trainer = configure_trainer(cfg,\n",
    "                            callbacks=callbacks,\n",
    "                            logger=wandb_logger)\n",
    "# logging.warning(\"3. After model, after trainer, before fit\")\n",
    "# ic(torch.cuda.current_device())\n",
    "num_samples = len(datamodule.train_dataset)\n",
    "num_classes = cfg.model_cfg.head.num_classes\n",
    "batch_size = datamodule.batch_size #[\"train\"]\n",
    "hydra.utils.log.info(\"Starting training with {} classes across {} images in batches of {} images each.\".format(\n",
    "    num_classes,\n",
    "    num_samples,\n",
    "    batch_size))\n",
    "\n"
   ]
  },
  {
   "cell_type": "code",
   "execution_count": 6,
   "id": "870b3215-cccd-4c38-93c2-f9cc6a60d106",
   "metadata": {},
   "outputs": [
    {
     "name": "stdout",
     "output_type": "stream",
     "text": [
      "name 'HydraConfig' is not defined\n",
      "self.transform_cfg:\n"
     ]
    },
    {
     "data": {
      "text/html": [
       "<pre style=\"white-space:pre;overflow-x:auto;line-height:normal;font-family:Menlo,'DejaVu Sans Mono',consolas,'Courier New',monospace\"><span style=\"font-weight: bold\">{</span><span style=\"color: #008000; text-decoration-color: #008000\">'preprocess'</span>: <span style=\"font-weight: bold\">{</span><span style=\"color: #008000; text-decoration-color: #008000\">'train'</span>: <span style=\"font-weight: bold\">{</span><span style=\"color: #008000; text-decoration-color: #008000\">'resize'</span>: <span style=\"color: #008080; text-decoration-color: #008080; font-weight: bold\">256</span><span style=\"font-weight: bold\">}</span>, <span style=\"color: #008000; text-decoration-color: #008000\">'val'</span>: <span style=\"font-weight: bold\">{</span><span style=\"color: #008000; text-decoration-color: #008000\">'resize'</span>: <span style=\"color: #008080; text-decoration-color: #008080; font-weight: bold\">256</span><span style=\"font-weight: bold\">}</span>, <span style=\"color: #008000; text-decoration-color: #008000\">'test'</span>: <span style=\"font-weight: bold\">{</span><span style=\"color: #008000; text-decoration-color: #008000\">'resize'</span>: <span style=\"color: #008080; text-decoration-color: #008080; font-weight: bold\">256</span><span style=\"font-weight: bold\">}}</span>, \n",
       "<span style=\"color: #008000; text-decoration-color: #008000\">'batch_transform'</span>: <span style=\"font-weight: bold\">{</span><span style=\"color: #008000; text-decoration-color: #008000\">'train'</span>: <span style=\"font-weight: bold\">{</span><span style=\"color: #008000; text-decoration-color: #008000\">'random_resize_crop'</span>: <span style=\"color: #008080; text-decoration-color: #008080; font-weight: bold\">224</span><span style=\"font-weight: bold\">}</span>, <span style=\"color: #008000; text-decoration-color: #008000\">'val'</span>: <span style=\"font-weight: bold\">{</span><span style=\"color: #008000; text-decoration-color: #008000\">'center_crop'</span>: <span style=\"color: #008080; text-decoration-color: #008080; font-weight: bold\">224</span><span style=\"font-weight: bold\">}</span>, \n",
       "<span style=\"color: #008000; text-decoration-color: #008000\">'test'</span>: <span style=\"font-weight: bold\">{</span><span style=\"color: #008000; text-decoration-color: #008000\">'center_crop'</span>: <span style=\"color: #008080; text-decoration-color: #008080; font-weight: bold\">224</span><span style=\"font-weight: bold\">}</span>, <span style=\"color: #008000; text-decoration-color: #008000\">'random_flips'</span>: <span style=\"color: #ff0000; text-decoration-color: #ff0000; font-style: italic\">False</span><span style=\"font-weight: bold\">}</span>, <span style=\"color: #008000; text-decoration-color: #008000\">'normalize'</span>: <span style=\"font-weight: bold\">[[</span><span style=\"color: #008080; text-decoration-color: #008080; font-weight: bold\">0.485</span>, <span style=\"color: #008080; text-decoration-color: #008080; font-weight: bold\">0.456</span>, <span style=\"color: #008080; text-decoration-color: #008080; font-weight: bold\">0.406</span><span style=\"font-weight: bold\">]</span>, \n",
       "<span style=\"font-weight: bold\">[</span><span style=\"color: #008080; text-decoration-color: #008080; font-weight: bold\">0.229</span>, <span style=\"color: #008080; text-decoration-color: #008080; font-weight: bold\">0.224</span>, <span style=\"color: #008080; text-decoration-color: #008080; font-weight: bold\">0.225</span><span style=\"font-weight: bold\">]]</span>, <span style=\"color: #008000; text-decoration-color: #008000\">'preprocess_size'</span>: <span style=\"color: #008080; text-decoration-color: #008080; font-weight: bold\">256</span>, <span style=\"color: #008000; text-decoration-color: #008000\">'resolution'</span>: <span style=\"color: #008080; text-decoration-color: #008080; font-weight: bold\">224</span><span style=\"font-weight: bold\">}</span>\n",
       "</pre>\n"
      ],
      "text/plain": [
       "\u001b[1m{\u001b[0m\u001b[32m'preprocess'\u001b[0m: \u001b[1m{\u001b[0m\u001b[32m'train'\u001b[0m: \u001b[1m{\u001b[0m\u001b[32m'resize'\u001b[0m: \u001b[1;36m256\u001b[0m\u001b[1m}\u001b[0m, \u001b[32m'val'\u001b[0m: \u001b[1m{\u001b[0m\u001b[32m'resize'\u001b[0m: \u001b[1;36m256\u001b[0m\u001b[1m}\u001b[0m, \u001b[32m'test'\u001b[0m: \u001b[1m{\u001b[0m\u001b[32m'resize'\u001b[0m: \u001b[1;36m256\u001b[0m\u001b[1m}\u001b[0m\u001b[1m}\u001b[0m, \n",
       "\u001b[32m'batch_transform'\u001b[0m: \u001b[1m{\u001b[0m\u001b[32m'train'\u001b[0m: \u001b[1m{\u001b[0m\u001b[32m'random_resize_crop'\u001b[0m: \u001b[1;36m224\u001b[0m\u001b[1m}\u001b[0m, \u001b[32m'val'\u001b[0m: \u001b[1m{\u001b[0m\u001b[32m'center_crop'\u001b[0m: \u001b[1;36m224\u001b[0m\u001b[1m}\u001b[0m, \n",
       "\u001b[32m'test'\u001b[0m: \u001b[1m{\u001b[0m\u001b[32m'center_crop'\u001b[0m: \u001b[1;36m224\u001b[0m\u001b[1m}\u001b[0m, \u001b[32m'random_flips'\u001b[0m: \u001b[3;91mFalse\u001b[0m\u001b[1m}\u001b[0m, \u001b[32m'normalize'\u001b[0m: \u001b[1m[\u001b[0m\u001b[1m[\u001b[0m\u001b[1;36m0.485\u001b[0m, \u001b[1;36m0.456\u001b[0m, \u001b[1;36m0.406\u001b[0m\u001b[1m]\u001b[0m, \n",
       "\u001b[1m[\u001b[0m\u001b[1;36m0.229\u001b[0m, \u001b[1;36m0.224\u001b[0m, \u001b[1;36m0.225\u001b[0m\u001b[1m]\u001b[0m\u001b[1m]\u001b[0m, \u001b[32m'preprocess_size'\u001b[0m: \u001b[1;36m256\u001b[0m, \u001b[32m'resolution'\u001b[0m: \u001b[1;36m224\u001b[0m\u001b[1m}\u001b[0m\n"
      ]
     },
     "metadata": {},
     "output_type": "display_data"
    },
    {
     "name": "stdout",
     "output_type": "stream",
     "text": [
      "self.normalize: [[0.485, 0.456, 0.406], [0.229, 0.224, 0.225]]\n",
      "self.normalize: [[0.485, 0.456, 0.406], [0.229, 0.224, 0.225]]\n",
      "self.normalize: [[0.485, 0.456, 0.406], [0.229, 0.224, 0.225]]\n"
     ]
    },
    {
     "name": "stderr",
     "output_type": "stream",
     "text": [
      "ic| subset: 'train'\n",
      "    num_samples: 587840\n",
      "    num_batches: 4593\n",
      "    self.num_classes: 15501\n",
      "    self.batch_size: 128\n",
      "ic| subset: 'val'\n",
      "    num_samples: 251932\n",
      "    num_batches: 1969\n",
      "    self.num_classes: 15501\n",
      "    self.batch_size: 128\n",
      "ic| subset: 'test'\n",
      "    num_samples: 210407\n",
      "    num_batches: 1644\n",
      "    self.num_classes: 15501\n",
      "    self.batch_size: 128\n"
     ]
    }
   ],
   "source": [
    "trainer.fit(model=model, datamodule=datamodule)"
   ]
  },
  {
   "cell_type": "code",
   "execution_count": 17,
   "id": "c661bce5-94e0-4be9-9bbc-779d6a12cd63",
   "metadata": {},
   "outputs": [
    {
     "name": "stdout",
     "output_type": "stream",
     "text": [
      "Initializing weights of the model head.\n",
      "input_size: (1, 3, 224, 224)\n",
      "_target_: imutils.ml.models.pl.classifier.LitClassifier\n",
      "backbone:\n",
      "  freeze_backbone: false\n",
      "  model_repo: timm\n",
      "  name: resnext50_32x4d\n",
      "  pretrained: true\n",
      "head:\n",
      "  dropout_p: 0.3\n",
      "  head_type: linear\n",
      "  hidden_size: 512\n",
      "  num_classes: 15501\n",
      "  pool_size: 1\n",
      "  pool_type: avg\n",
      "input_shape:\n",
      "- 3\n",
      "- 224\n",
      "- 224\n",
      "loss:\n",
      "  _target_: torch.nn.CrossEntropyLoss\n",
      "name: resnext50_32x4d\n",
      "num_channels: 3\n",
      "resolution: 224\n",
      "\n"
     ]
    },
    {
     "data": {
      "text/plain": [
       "omegaconf.listconfig.ListConfig"
      ]
     },
     "execution_count": 17,
     "metadata": {},
     "output_type": "execute_result"
    },
    {
     "data": {
      "text/plain": [
       "int"
      ]
     },
     "execution_count": 17,
     "metadata": {},
     "output_type": "execute_result"
    }
   ],
   "source": [
    "from imutils.ml.utils.model_utils import log_model_summary\n",
    "\n",
    "model = imutils.ml.models.pl.classifier.LitClassifier(cfg=cfg, #model_cfg=cfg.model_cfg,\n",
    "                                              loss=cfg.model_cfg.loss)\n",
    "\n",
    "print(OmegaConf.to_yaml(cfg.model_cfg, resolve=True, sort_keys=True))\n",
    "\n",
    "# print(OmegaConf.to_yaml(cfg, resolve=True, sort_keys=True))\n",
    "# print(OmegaConf.to_yaml(cfg, resolve=True, sort_keys=True))\n",
    "# print(cfg['data']['datamodule']['transform_cfg'])\n",
    "\n",
    "type(cfg.model_cfg.input_shape)\n",
    "type(OmegaConf.to_container(cfg.model_cfg.input_shape, resolve=True)[0])"
   ]
  },
  {
   "cell_type": "code",
   "execution_count": null,
   "id": "bf354c3a-d436-4661-a2a0-80a5d9f02071",
   "metadata": {},
   "outputs": [],
   "source": [
    "# Instantiate model\n",
    "# hydra.utils.log.info(f\"Instantiating <{cfg.model_cfg._target_}>\")\n",
    "# model: pl.LightningModule = hydra.utils.instantiate(model_cfg=cfg, _recursive_=False)\n",
    "\n",
    "\n",
    "from imutils.ml.utils.model_utils import log_model_summary\n",
    "\n",
    "model = imutils.ml.models.pl.classifier.LitClassifier(cfg=cfg, #model_cfg=cfg.model_cfg,\n",
    "                                              loss=cfg.model_cfg.loss)\n",
    "\n",
    "print(OmegaConf.to_yaml(cfg.model_cfg, resolve=True, sort_keys=True))\n",
    "\n",
    "# input_size = (1, 3,224,224)\n",
    "# summary = log_model_summary(model=model,\n",
    "#                             input_size=input_size,\n",
    "#                             full_summary=True,\n",
    "#                             working_dir=\".\",\n",
    "#                             model_name=cfg.model_cfg.backbone.name,\n",
    "#                             verbose=1)\n",
    "\n",
    "from imutils.ml.utils.experiment_utils import configure_callbacks, configure_loggers, configure_trainer\n",
    "\n",
    "# Instantiate the callbacks\n",
    "callbacks: List[pl.Callback] = configure_callbacks(cfg=cfg.train) #OmegaConf.to_container(cfg.train, resolve=True))\n",
    "\n",
    "model.freeze_up_to(layer=-1,\n",
    "                  submodule=\"backbone\")\n",
    "\n",
    "# ([(n, p.requires_grad_(False)) for n, p in model.net.backbone.named_parameters()])\n",
    "pp([(n, p.requires_grad) for n, p in model.net.backbone.named_parameters()])"
   ]
  },
  {
   "cell_type": "code",
   "execution_count": 11,
   "id": "e4d31c71-e1c9-4b14-a36e-ca3e077d2a0b",
   "metadata": {},
   "outputs": [],
   "source": [
    "# datamodule.test_dataset.df\n",
    "# datamodule.train_dataset.df\n",
    "import numpy as np\n",
    "import torch\n",
    "\n",
    "# ckpt_path = \"/media/data/jacob/GitHub/image-utils/imutils/ml/hydra_experiments/2022-03-24/07-35-17/hydra_experiments/2022-03-24/07-35-17/ckpts/epoch=07-val_loss=3.338-val_F1=0.313.ckpt\"\n",
    "\n",
    "ckpt_path = \"/media/data/jacob/GitHub/image-utils/imutils/ml/hydra_experiments/2022-03-24/07-35-17/hydra_experiments/2022-03-24/07-35-17/ckpts/epoch=10-val_loss=2.834-val_F1=0.384.ckpt\"\n",
    "\n",
    "# ckpt = torch.load(ckpt_path)\n",
    "# print(ckpt.keys())\n",
    "\n",
    "model = model.load_from_checkpoint(ckpt_path);\n",
    "model.eval();\n",
    "model.freeze();\n",
    "# model.to(\"cpu\")\n",
    "\n",
    "# test_loader = datamodule.test_dataloader()\n",
    "# batch = next(iter(test_loader))\n",
    "\n",
    "# batch[1]#.cpu()"
   ]
  },
  {
   "cell_type": "code",
   "execution_count": 13,
   "id": "0e4b61cc-e35f-457f-9cdb-12e543d3ca69",
   "metadata": {},
   "outputs": [],
   "source": [
    "# batch[:2] = (b.cuda() for b in batch[:2])\n",
    "# [b.cuda() for b in batch[:2]]\n",
    "\n",
    "# batch[0] = batch[0].cuda()\n",
    "# batch[1] = batch[1].cuda()\n",
    "# x, y, metadata = batch\n",
    "# x = x.to('cuda')\n",
    "# y_logits = model(x)\n",
    "# y_logits_top5 = torch.topk(torch.Tensor(y_logits.cpu()), k=5, dim=1)\n",
    "# topk = 5\n",
    "# y_logits_top5_idx = y_logits_top5.indices.numpy()\n",
    "# labels_k = le.decode_topk(y_logits_top5_idx)\n",
    "# datamodule.train_dataset.label_encoder.classes_\n",
    "# y_pred = torch.zeros_like(y_logits_top5.indices)\n",
    "# topk_labels = np.empty((128,5), dtype=\"O\")\n",
    "# for k in range(5):\n",
    "#     labels_k = datamodule.train_dataset.label_encoder.inverse_transform(y_logits_top5.indices[:,k])\n",
    "#     topk_labels[:,k] = labels_k"
   ]
  },
  {
   "cell_type": "markdown",
   "id": "8a3499dc-43e2-4ec9-9982-e99b31c5047f",
   "metadata": {},
   "source": [
    "#### Dev topk predictions"
   ]
  },
  {
   "cell_type": "code",
   "execution_count": 31,
   "id": "d7aed655-28d1-4093-84e8-26c62d12cc16",
   "metadata": {},
   "outputs": [],
   "source": [
    "# import numpy as np\n",
    "# topk_labels = [] #np.empty((128,5), dtype=\"string\")\n",
    "\n",
    "# topk = 5\n",
    "# y_logits_top5_idx = y_logits_top5.indices.numpy()\n",
    "\n",
    "# y = y_logits_top5_idx#.shape[1]\n",
    "\n",
    "# if isinstance(y, np.ndarray):\n",
    "#     if y.ndim == 2:\n",
    "#         topk = y.shape[1]\n",
    "#     else:\n",
    "#         topk = 1\n",
    "# if isinstance(y, list):\n",
    "#     if isinstance(y[0], np.ndarray):\n",
    "#         topk = y[0].shape[0]\n",
    "#     elif isinstance(y[0], list):\n",
    "#         topk = len(y[0])\n",
    "\n",
    "# for k in range(topk):\n",
    "#     # labels_k = datamodule.train_dataset.label_encoder.inverse_transform(y_logits_top5.indices[:,k])\n",
    "#     labels_k = le.decode(y[:,k])\n",
    "#     topk_labels.append(labels_k)"
   ]
  },
  {
   "cell_type": "code",
   "execution_count": 23,
   "id": "dd34c777-af7f-49a0-92ea-991f60c46dfc",
   "metadata": {},
   "outputs": [],
   "source": [
    "# topk_labels = np.vstack(topk_labels).T\n",
    "# topk_labels.shape\n",
    "\n",
    "# topk_labels[:2,:]\n",
    "# true_labels = le.decode(y.numpy())\n",
    "# topk_labels[0]\n",
    "\n",
    "# from sklearn import preprocessing\n",
    "# encoder = preprocessing.LabelEncoder()\n",
    "# encoder.fit([0,4,-2,6])\n",
    "# encoder.classes_\n",
    "\n",
    "# class_list = getattr(encoder, \"classes_\", [])\n",
    "# class2idx = {label: idx for idx, label in enumerate(class_list)}\n",
    "# print(class2idx)"
   ]
  },
  {
   "cell_type": "code",
   "execution_count": 19,
   "id": "29695f9f-88e1-4c85-b5e2-3931d26ef226",
   "metadata": {},
   "outputs": [],
   "source": [
    "from imutils.ml.utils.label_utils import LabelEncoder\n",
    "\n",
    "le = LabelEncoder.from_sklearn(datamodule.train_dataset.label_encoder)\n",
    "le"
   ]
  },
  {
   "cell_type": "code",
   "execution_count": null,
   "id": "265b939d-a3b5-4044-85e4-cc3cae0c39b3",
   "metadata": {},
   "outputs": [],
   "source": []
  },
  {
   "cell_type": "code",
   "execution_count": null,
   "id": "72f1a494-f105-4c7b-9503-00078c32ed3a",
   "metadata": {},
   "outputs": [],
   "source": [
    "from typing import *\n",
    "from imutils.ml.utils.model_utils import log_model_summary\n",
    "\n",
    "log_model_summary(model, input_size=(2,3,224,224))\n",
    "\n",
    "ckpt['epoch']\n",
    "ckpt['global_step']\n",
    "ckpt['pytorch-lightning_version']\n",
    "ckpt['hparams_name']\n",
    "ckpt['hyper_parameters']"
   ]
  },
  {
   "cell_type": "code",
   "execution_count": 50,
   "id": "b09c5e62-3ef3-4126-b793-78bd0b15fa20",
   "metadata": {},
   "outputs": [],
   "source": [
    "\n",
    "datamodule.test_dataset.y_col\n",
    "getattr(datamodule.test_dataset.df, \"y\", -1)\n",
    "# df = datamodule.train_dataset.df\n",
    "df = pd.concat([datamodule.train_dataset.df,\n",
    "                datamodule.val_dataset.df])\n",
    "class_counts = df.value_counts(\"y\")\n",
    "class_counts = class_counts.reset_index(drop=False).rename(columns={0:\"counts\"})\n",
    "num_classes = class_counts.shape[0]\n",
    "above_25 = class_counts[class_counts.counts>=25]\n",
    "above_10 = class_counts[class_counts.counts>=10]\n",
    "above_5 = class_counts[class_counts.counts>=5]\n",
    "\n",
    "below_5 = class_counts[class_counts.counts<5]\n",
    "below_10 = class_counts[class_counts.counts<10]\n",
    "below_25 = class_counts[class_counts.counts<25]\n",
    "\n",
    "print(\"Min: \", min(class_counts.counts),\"Max:\", max(class_counts.counts))\n",
    "pp(f\"above_25: {above_25.shape[0]}, {above_25.shape[0] / num_classes:.4%}\")\n",
    "pp(f\"above_10: {above_10.shape[0]}, {above_10.shape[0] / num_classes:.4%}\")\n",
    "pp(f\"above_5: {above_5.shape[0]}, {above_5.shape[0] / num_classes:.4%}\")\n",
    "\n",
    "# pp(above_10.shape[0], above_10.shape[0] / num_classes)\n",
    "# pp(above_5.shape[0], above_5.shape[0] / num_classes)\n",
    "\n",
    "pp(f\"below_5: {below_5.shape[0]}, {below_5.shape[0] / num_classes:.4%}\")\n",
    "pp(f\"below_10: {below_10.shape[0]}, {below_10.shape[0] / num_classes:.4%}\")\n",
    "pp(f\"below_25: {below_25.shape[0]}, {below_25.shape[0] / num_classes:.4%}\")\n",
    "# pp(below_10.shape[0], below_10.shape[0] / num_classes)\n",
    "# pp(below_25.shape[0], below_25.shape[0] / num_classes)"
   ]
  },
  {
   "cell_type": "code",
   "execution_count": 57,
   "id": "c6d4383a-815f-4879-88c1-57b8758d4e34",
   "metadata": {},
   "outputs": [
    {
     "data": {
      "text/html": [
       "<pre style=\"white-space:pre;overflow-x:auto;line-height:normal;font-family:Menlo,'DejaVu Sans Mono',consolas,'Courier New',monospace\">Excluding <span style=\"color: #008080; text-decoration-color: #008080; font-weight: bold\">4471</span>\n",
       "</pre>\n"
      ],
      "text/plain": [
       "Excluding \u001b[1;36m4471\u001b[0m\n"
      ]
     },
     "metadata": {},
     "output_type": "display_data"
    },
    {
     "data": {
      "text/html": [
       "<pre style=\"white-space:pre;overflow-x:auto;line-height:normal;font-family:Menlo,'DejaVu Sans Mono',consolas,'Courier New',monospace\">Input num_rows: <span style=\"color: #008080; text-decoration-color: #008080; font-weight: bold\">839772</span>\n",
       "</pre>\n"
      ],
      "text/plain": [
       "Input num_rows: \u001b[1;36m839772\u001b[0m\n"
      ]
     },
     "metadata": {},
     "output_type": "display_data"
    },
    {
     "data": {
      "text/html": [
       "<pre style=\"white-space:pre;overflow-x:auto;line-height:normal;font-family:Menlo,'DejaVu Sans Mono',consolas,'Courier New',monospace\">Filtered num_rows: <span style=\"color: #008080; text-decoration-color: #008080; font-weight: bold\">837841</span>, <span style=\"color: #008080; text-decoration-color: #008080; font-weight: bold\">99.770</span>%\n",
       "</pre>\n"
      ],
      "text/plain": [
       "Filtered num_rows: \u001b[1;36m837841\u001b[0m, \u001b[1;36m99.770\u001b[0m%\n"
      ]
     },
     "metadata": {},
     "output_type": "display_data"
    },
    {
     "data": {
      "text/html": [
       "<div>\n",
       "<style scoped>\n",
       "    .dataframe tbody tr th:only-of-type {\n",
       "        vertical-align: middle;\n",
       "    }\n",
       "\n",
       "    .dataframe tbody tr th {\n",
       "        vertical-align: top;\n",
       "    }\n",
       "\n",
       "    .dataframe thead th {\n",
       "        text-align: right;\n",
       "    }\n",
       "</style>\n",
       "<table border=\"1\" class=\"dataframe\">\n",
       "  <thead>\n",
       "    <tr style=\"text-align: right;\">\n",
       "      <th></th>\n",
       "      <th>index</th>\n",
       "      <th>Species</th>\n",
       "      <th>path</th>\n",
       "      <th>y</th>\n",
       "      <th>category_id</th>\n",
       "      <th>genus_id</th>\n",
       "      <th>institution_id</th>\n",
       "      <th>image_id</th>\n",
       "      <th>file_name</th>\n",
       "      <th>license</th>\n",
       "      <th>scientificName</th>\n",
       "      <th>family</th>\n",
       "      <th>genus</th>\n",
       "      <th>species</th>\n",
       "      <th>authors</th>\n",
       "      <th>collectionCode</th>\n",
       "    </tr>\n",
       "  </thead>\n",
       "  <tbody>\n",
       "    <tr>\n",
       "      <th>0</th>\n",
       "      <td>800061</td>\n",
       "      <td>Trifolium fucatum</td>\n",
       "      <td>/media/data_cifs/projects/prj_fossils/data/raw...</td>\n",
       "      <td>14752</td>\n",
       "      <td>14756</td>\n",
       "      <td>2443</td>\n",
       "      <td>36</td>\n",
       "      <td>14756__047</td>\n",
       "      <td>147/56/14756__047.jpg</td>\n",
       "      <td>0</td>\n",
       "      <td>Trifolium fucatum Lindl.</td>\n",
       "      <td>Fabaceae</td>\n",
       "      <td>Trifolium</td>\n",
       "      <td>fucatum</td>\n",
       "      <td>Lindl.</td>\n",
       "      <td>NY</td>\n",
       "    </tr>\n",
       "    <tr>\n",
       "      <th>1</th>\n",
       "      <td>294940</td>\n",
       "      <td>Eragrostis urbaniana</td>\n",
       "      <td>/media/data_cifs/projects/prj_fossils/data/raw...</td>\n",
       "      <td>5484</td>\n",
       "      <td>5486</td>\n",
       "      <td>895</td>\n",
       "      <td>36</td>\n",
       "      <td>05486__011</td>\n",
       "      <td>054/86/05486__011.jpg</td>\n",
       "      <td>0</td>\n",
       "      <td>Eragrostis urbaniana Hitchc.</td>\n",
       "      <td>Poaceae</td>\n",
       "      <td>Eragrostis</td>\n",
       "      <td>urbaniana</td>\n",
       "      <td>Hitchc.</td>\n",
       "      <td>NY</td>\n",
       "    </tr>\n",
       "    <tr>\n",
       "      <th>2</th>\n",
       "      <td>546499</td>\n",
       "      <td>Osmorhiza purpurea</td>\n",
       "      <td>/media/data_cifs/projects/prj_fossils/data/raw...</td>\n",
       "      <td>10087</td>\n",
       "      <td>10091</td>\n",
       "      <td>1726</td>\n",
       "      <td>24</td>\n",
       "      <td>10091__046</td>\n",
       "      <td>100/91/10091__046.jpg</td>\n",
       "      <td>0</td>\n",
       "      <td>Osmorhiza purpurea (J.M.Coult. &amp; Rose) Suksd.</td>\n",
       "      <td>Apiaceae</td>\n",
       "      <td>Osmorhiza</td>\n",
       "      <td>purpurea</td>\n",
       "      <td>(J.M.Coult. &amp; Rose) Suksd.</td>\n",
       "      <td>ID</td>\n",
       "    </tr>\n",
       "    <tr>\n",
       "      <th>3</th>\n",
       "      <td>162934</td>\n",
       "      <td>Castilleja minor</td>\n",
       "      <td>/media/data_cifs/projects/prj_fossils/data/raw...</td>\n",
       "      <td>3088</td>\n",
       "      <td>3090</td>\n",
       "      <td>446</td>\n",
       "      <td>25</td>\n",
       "      <td>03090__061</td>\n",
       "      <td>030/90/03090__061.jpg</td>\n",
       "      <td>0</td>\n",
       "      <td>Castilleja minor (A.Gray) A.Gray</td>\n",
       "      <td>Orobanchaceae</td>\n",
       "      <td>Castilleja</td>\n",
       "      <td>minor</td>\n",
       "      <td>(A.Gray) A.Gray</td>\n",
       "      <td>IDS</td>\n",
       "    </tr>\n",
       "    <tr>\n",
       "      <th>4</th>\n",
       "      <td>206860</td>\n",
       "      <td>Corchorus hirsutus</td>\n",
       "      <td>/media/data_cifs/projects/prj_fossils/data/raw...</td>\n",
       "      <td>3894</td>\n",
       "      <td>3896</td>\n",
       "      <td>624</td>\n",
       "      <td>36</td>\n",
       "      <td>03896__020</td>\n",
       "      <td>038/96/03896__020.jpg</td>\n",
       "      <td>0</td>\n",
       "      <td>Corchorus hirsutus L.</td>\n",
       "      <td>Malvaceae</td>\n",
       "      <td>Corchorus</td>\n",
       "      <td>hirsutus</td>\n",
       "      <td>L.</td>\n",
       "      <td>NY</td>\n",
       "    </tr>\n",
       "    <tr>\n",
       "      <th>...</th>\n",
       "      <td>...</td>\n",
       "      <td>...</td>\n",
       "      <td>...</td>\n",
       "      <td>...</td>\n",
       "      <td>...</td>\n",
       "      <td>...</td>\n",
       "      <td>...</td>\n",
       "      <td>...</td>\n",
       "      <td>...</td>\n",
       "      <td>...</td>\n",
       "      <td>...</td>\n",
       "      <td>...</td>\n",
       "      <td>...</td>\n",
       "      <td>...</td>\n",
       "      <td>...</td>\n",
       "      <td>...</td>\n",
       "    </tr>\n",
       "    <tr>\n",
       "      <th>251927</th>\n",
       "      <td>667196</td>\n",
       "      <td>Quercus sinuata</td>\n",
       "      <td>/media/data_cifs/projects/prj_fossils/data/raw...</td>\n",
       "      <td>12301</td>\n",
       "      <td>12305</td>\n",
       "      <td>2023</td>\n",
       "      <td>13</td>\n",
       "      <td>12305__098</td>\n",
       "      <td>123/05/12305__098.jpg</td>\n",
       "      <td>0</td>\n",
       "      <td>Quercus sinuata Walter</td>\n",
       "      <td>Fagaceae</td>\n",
       "      <td>Quercus</td>\n",
       "      <td>sinuata</td>\n",
       "      <td>Walter</td>\n",
       "      <td>COLO</td>\n",
       "    </tr>\n",
       "    <tr>\n",
       "      <th>251928</th>\n",
       "      <td>735162</td>\n",
       "      <td>Sideroxylon lanuginosum</td>\n",
       "      <td>/media/data_cifs/projects/prj_fossils/data/raw...</td>\n",
       "      <td>13559</td>\n",
       "      <td>13563</td>\n",
       "      <td>2212</td>\n",
       "      <td>52</td>\n",
       "      <td>13563__050</td>\n",
       "      <td>135/63/13563__050.jpg</td>\n",
       "      <td>0</td>\n",
       "      <td>Sideroxylon lanuginosum Michx.</td>\n",
       "      <td>Sapotaceae</td>\n",
       "      <td>Sideroxylon</td>\n",
       "      <td>lanuginosum</td>\n",
       "      <td>Michx.</td>\n",
       "      <td>US</td>\n",
       "    </tr>\n",
       "    <tr>\n",
       "      <th>251929</th>\n",
       "      <td>127497</td>\n",
       "      <td>Campanula scabrella</td>\n",
       "      <td>/media/data_cifs/projects/prj_fossils/data/raw...</td>\n",
       "      <td>2464</td>\n",
       "      <td>2465</td>\n",
       "      <td>401</td>\n",
       "      <td>52</td>\n",
       "      <td>02465__029</td>\n",
       "      <td>024/65/02465__029.jpg</td>\n",
       "      <td>0</td>\n",
       "      <td>Campanula scabrella Engelm.</td>\n",
       "      <td>Campanulaceae</td>\n",
       "      <td>Campanula</td>\n",
       "      <td>scabrella</td>\n",
       "      <td>Engelm.</td>\n",
       "      <td>US</td>\n",
       "    </tr>\n",
       "    <tr>\n",
       "      <th>251930</th>\n",
       "      <td>359284</td>\n",
       "      <td>Gentiana clausa</td>\n",
       "      <td>/media/data_cifs/projects/prj_fossils/data/raw...</td>\n",
       "      <td>6666</td>\n",
       "      <td>6668</td>\n",
       "      <td>1021</td>\n",
       "      <td>21</td>\n",
       "      <td>06668__011</td>\n",
       "      <td>066/68/06668__011.jpg</td>\n",
       "      <td>0</td>\n",
       "      <td>Gentiana clausa Raf.</td>\n",
       "      <td>Gentianaceae</td>\n",
       "      <td>Gentiana</td>\n",
       "      <td>clausa</td>\n",
       "      <td>Raf.</td>\n",
       "      <td>GH</td>\n",
       "    </tr>\n",
       "    <tr>\n",
       "      <th>251931</th>\n",
       "      <td>744762</td>\n",
       "      <td>Solanum quitoense</td>\n",
       "      <td>/media/data_cifs/projects/prj_fossils/data/raw...</td>\n",
       "      <td>13739</td>\n",
       "      <td>13743</td>\n",
       "      <td>2234</td>\n",
       "      <td>38</td>\n",
       "      <td>13743__049</td>\n",
       "      <td>137/43/13743__049.jpg</td>\n",
       "      <td>0</td>\n",
       "      <td>Solanum quitoense Lam.</td>\n",
       "      <td>Solanaceae</td>\n",
       "      <td>Solanum</td>\n",
       "      <td>quitoense</td>\n",
       "      <td>Lam.</td>\n",
       "      <td>P</td>\n",
       "    </tr>\n",
       "  </tbody>\n",
       "</table>\n",
       "<p>837841 rows × 16 columns</p>\n",
       "</div>"
      ],
      "text/plain": [
       "         index                  Species  \\\n",
       "0       800061        Trifolium fucatum   \n",
       "1       294940     Eragrostis urbaniana   \n",
       "2       546499       Osmorhiza purpurea   \n",
       "3       162934         Castilleja minor   \n",
       "4       206860       Corchorus hirsutus   \n",
       "...        ...                      ...   \n",
       "251927  667196          Quercus sinuata   \n",
       "251928  735162  Sideroxylon lanuginosum   \n",
       "251929  127497      Campanula scabrella   \n",
       "251930  359284          Gentiana clausa   \n",
       "251931  744762        Solanum quitoense   \n",
       "\n",
       "                                                     path      y category_id  \\\n",
       "0       /media/data_cifs/projects/prj_fossils/data/raw...  14752       14756   \n",
       "1       /media/data_cifs/projects/prj_fossils/data/raw...   5484        5486   \n",
       "2       /media/data_cifs/projects/prj_fossils/data/raw...  10087       10091   \n",
       "3       /media/data_cifs/projects/prj_fossils/data/raw...   3088        3090   \n",
       "4       /media/data_cifs/projects/prj_fossils/data/raw...   3894        3896   \n",
       "...                                                   ...    ...         ...   \n",
       "251927  /media/data_cifs/projects/prj_fossils/data/raw...  12301       12305   \n",
       "251928  /media/data_cifs/projects/prj_fossils/data/raw...  13559       13563   \n",
       "251929  /media/data_cifs/projects/prj_fossils/data/raw...   2464        2465   \n",
       "251930  /media/data_cifs/projects/prj_fossils/data/raw...   6666        6668   \n",
       "251931  /media/data_cifs/projects/prj_fossils/data/raw...  13739       13743   \n",
       "\n",
       "       genus_id institution_id    image_id              file_name license  \\\n",
       "0          2443             36  14756__047  147/56/14756__047.jpg       0   \n",
       "1           895             36  05486__011  054/86/05486__011.jpg       0   \n",
       "2          1726             24  10091__046  100/91/10091__046.jpg       0   \n",
       "3           446             25  03090__061  030/90/03090__061.jpg       0   \n",
       "4           624             36  03896__020  038/96/03896__020.jpg       0   \n",
       "...         ...            ...         ...                    ...     ...   \n",
       "251927     2023             13  12305__098  123/05/12305__098.jpg       0   \n",
       "251928     2212             52  13563__050  135/63/13563__050.jpg       0   \n",
       "251929      401             52  02465__029  024/65/02465__029.jpg       0   \n",
       "251930     1021             21  06668__011  066/68/06668__011.jpg       0   \n",
       "251931     2234             38  13743__049  137/43/13743__049.jpg       0   \n",
       "\n",
       "                                       scientificName         family  \\\n",
       "0                            Trifolium fucatum Lindl.       Fabaceae   \n",
       "1                        Eragrostis urbaniana Hitchc.        Poaceae   \n",
       "2       Osmorhiza purpurea (J.M.Coult. & Rose) Suksd.       Apiaceae   \n",
       "3                    Castilleja minor (A.Gray) A.Gray  Orobanchaceae   \n",
       "4                               Corchorus hirsutus L.      Malvaceae   \n",
       "...                                               ...            ...   \n",
       "251927                         Quercus sinuata Walter       Fagaceae   \n",
       "251928                 Sideroxylon lanuginosum Michx.     Sapotaceae   \n",
       "251929                    Campanula scabrella Engelm.  Campanulaceae   \n",
       "251930                           Gentiana clausa Raf.   Gentianaceae   \n",
       "251931                         Solanum quitoense Lam.     Solanaceae   \n",
       "\n",
       "              genus      species                     authors collectionCode  \n",
       "0         Trifolium      fucatum                      Lindl.             NY  \n",
       "1        Eragrostis    urbaniana                     Hitchc.             NY  \n",
       "2         Osmorhiza     purpurea  (J.M.Coult. & Rose) Suksd.             ID  \n",
       "3        Castilleja        minor             (A.Gray) A.Gray            IDS  \n",
       "4         Corchorus     hirsutus                          L.             NY  \n",
       "...             ...          ...                         ...            ...  \n",
       "251927      Quercus      sinuata                      Walter           COLO  \n",
       "251928  Sideroxylon  lanuginosum                      Michx.             US  \n",
       "251929    Campanula    scabrella                     Engelm.             US  \n",
       "251930     Gentiana       clausa                        Raf.             GH  \n",
       "251931      Solanum    quitoense                        Lam.              P  \n",
       "\n",
       "[837841 rows x 16 columns]"
      ]
     },
     "execution_count": 57,
     "metadata": {},
     "output_type": "execute_result"
    }
   ],
   "source": [
    "def filter_catalog(catalog: pd.DataFrame,\n",
    "                   column: str,\n",
    "                   include=None,\n",
    "                   exclude=None) -> pd.DataFrame:\n",
    "    num_rows = catalog.shape[0]\n",
    "    if isinstance(include, Sequence):\n",
    "        pp(f\"Including {len(include)}\")\n",
    "        catalog = catalog[catalog[column].apply(lambda x: x in include)]\n",
    "    if isinstance(exclude, Sequence):\n",
    "        pp(f\"Excluding {len(exclude)}\")\n",
    "        \n",
    "        catalog = catalog[catalog[column].apply(lambda x: x not in exclude)]\n",
    "\n",
    "    pp(f\"Input num_rows: {num_rows}\")\n",
    "    pp(f\"Filtered num_rows: {catalog.shape[0]}, {catalog.shape[0]/num_rows:.3%}\")\n",
    "        \n",
    "    return catalog\n",
    "\n",
    "df = pd.concat([datamodule.train_dataset.df,\n",
    "                datamodule.val_dataset.df])\n",
    "                # datamodule.test_dataset.df])\n",
    "class_counts = df.value_counts(\"y\")\n",
    "class_counts = class_counts.reset_index(drop=False).rename(columns={0:\"counts\"})\n",
    "num_classes = class_counts.shape[0]\n",
    "# above_20 = class_counts[class_counts.counts>=20].counts\n",
    "# above_20 = above_20.values.tolist()\n",
    "above_20 = None\n",
    "below_20 = class_counts[class_counts.counts<40].counts\n",
    "below_20 = below_20.values.tolist()\n",
    "above_20_catalog = filter_catalog(catalog=df,\n",
    "                                  column=\"y\",\n",
    "                                  include=above_20,\n",
    "                                  exclude=below_20)\n",
    "above_20_catalog"
   ]
  },
  {
   "cell_type": "code",
   "execution_count": 29,
   "id": "c10df005-39fe-4928-8b22-fc397e91c93f",
   "metadata": {},
   "outputs": [],
   "source": [
    "class_counts.describe()\n",
    "\n",
    "# above_20 = class_counts[class_counts.counts>=20].counts\n",
    "# above_20 = above_20.values.tolist()\n",
    "# above_20 = None\n",
    "below_20 = class_counts[class_counts.counts<40] # .counts\n",
    "\n",
    "below_20.describe()\n",
    "\n",
    "datamodule.val_dataset.df.value_counts(\"y\")\n",
    "\n",
    "dir(datamodule.train_dataset.df.groupby(\"y\"))"
   ]
  },
  {
   "cell_type": "markdown",
   "id": "ad9f863a-76cb-4ede-a0e6-eee4d6fdefc2",
   "metadata": {},
   "source": [
    "\n",
    "\n",
    "train --> (num_samples: 587,840), (num_batches: 9,185)\n",
    "train --> (num_samples: 587,840), (num_batches: 9,185)\n",
    "val --> (num_samples: 251,932), (num_batches: 3,937)\n",
    "val --> (num_samples: 251,932), (num_batches: 3,937)\n",
    "LOCAL_RANK: 0 - CUDA_VISIBLE_DEVICES: [0,1,2,3,4,5,6,7]\n",
    "LOCAL_RANK: 1 - CUDA_VISIBLE_DEVICES: [0,1,2,3,4,5,6,7]\n"
   ]
  },
  {
   "cell_type": "code",
   "execution_count": 19,
   "id": "3a8b7296-03cf-49ff-bf03-1134113ce324",
   "metadata": {},
   "outputs": [],
   "source": [
    "# val_loader = datamodule.val_dataloader()\n",
    "\n",
    "# batch = next(iter(val_loader))\n",
    "\n",
    "# len(batch)\n",
    "\n",
    "# import torch\n",
    "# from torch import nn\n",
    "# # Single-label categorical\n",
    "# x = torch.randn(10, 5)\n",
    "# y = torch.randint(5, (10,))\n",
    "# loss = nn.CrossEntropyLoss()(x, y)\n",
    "\n",
    "\n",
    "# print(x.shape, y.shape, loss.shape)\n",
    "# print(x.dtype, y.dtype, loss.dtype)\n",
    "\n",
    "# # model\n",
    "\n",
    "# num_samples = len(datamodule.train_dataset)\n",
    "# num_batches = len(datamodule.train_dataloader())\n",
    "\n",
    "# ic(num_samples, num_batches, num_samples/ num_batches)\n",
    "\n",
    "# import numpy as np\n",
    "\n",
    "# print(f\"{2264842/2:,}\")\n",
    "\n",
    "# print(f\"{2264842/3:,}\")\n",
    "\n",
    "# ic(num_samples * np.arange(5))"
   ]
  },
  {
   "cell_type": "code",
   "execution_count": 46,
   "id": "f86fa0f5-9570-40a5-9063-4dfa4a14ca59",
   "metadata": {},
   "outputs": [
    {
     "name": "stdout",
     "output_type": "stream",
     "text": [
      "self.normalize: [[0.485, 0.456, 0.406], [0.229, 0.224, 0.225]]\n"
     ]
    },
    {
     "data": {
      "text/plain": [
       "Compose(\n",
       "    Preprocess(\n",
       "  (resize_func): Resize(size=512, interpolation=bilinear)\n",
       ")\n",
       "    BatchTransform(\n",
       "  (transforms): Sequential(\n",
       "    (0): RandomPerspective(p=0.5)\n",
       "    (1): RandomResizedCrop(size=(224, 224), scale=(0.08, 1.0), ratio=(0.75, 1.3333), interpolation=bilinear)\n",
       "    (2): RandomHorizontalFlip(p=0.5)\n",
       "    (3): RandomVerticalFlip(p=0.5)\n",
       "    (4): Normalize(mean=[0.485, 0.456, 0.406], std=[0.229, 0.224, 0.225])\n",
       "  )\n",
       ")\n",
       ")"
      ]
     },
     "execution_count": 46,
     "metadata": {},
     "output_type": "execute_result"
    }
   ],
   "source": [
    "# datamodule.setup_transforms(datamodule.transform_cfg)\n",
    "# from imutils.ml.data.datamodule import get_default_transforms\n",
    "# a = get_default_transforms(mode=\"train\", config=datamodule.transform_cfg)"
   ]
  },
  {
   "cell_type": "code",
   "execution_count": 12,
   "id": "c46f3d25-71ae-435e-8d5c-71de0576f23e",
   "metadata": {},
   "outputs": [
    {
     "name": "stderr",
     "output_type": "stream",
     "text": [
      "Failed to detect the name of this notebook, you can set it manually with the WANDB_NOTEBOOK_NAME environment variable to enable code saving.\n",
      "\u001b[34m\u001b[1mwandb\u001b[0m: Currently logged in as: \u001b[33mjrose\u001b[0m (use `wandb login --relogin` to force relogin)\n",
      "\u001b[34m\u001b[1mwandb\u001b[0m: wandb version 0.12.11 is available!  To upgrade, please run:\n",
      "\u001b[34m\u001b[1mwandb\u001b[0m:  $ pip install wandb --upgrade\n"
     ]
    },
    {
     "data": {
      "text/html": [
       "\n",
       "                    Syncing run <strong><a href=\"https://wandb.ai/jrose/herbarium2022/runs/rrcdi118\" target=\"_blank\">herbarium2022__xcit_large_24_p16_224</a></strong> to <a href=\"https://wandb.ai/jrose/herbarium2022\" target=\"_blank\">Weights & Biases</a> (<a href=\"https://docs.wandb.com/integrations/jupyter.html\" target=\"_blank\">docs</a>).<br/>\n",
       "\n",
       "                "
      ],
      "text/plain": [
       "<IPython.core.display.HTML object>"
      ]
     },
     "metadata": {},
     "output_type": "display_data"
    },
    {
     "name": "stderr",
     "output_type": "stream",
     "text": [
      "\u001b[34m\u001b[1mwandb\u001b[0m: logging graph, to disable use `wandb.watch(log_graph=False)`\n"
     ]
    }
   ],
   "source": [
    "import wandb\n",
    "def configure_loggers(cfg):\n",
    "\n",
    "    wandb_logger = None\n",
    "    if \"wandb\" in cfg.logging:\n",
    "        hydra.utils.log.info(f\"Instantiating <WandbLogger>\")\n",
    "        wandb_config = cfg.logging.wandb\n",
    "        wandb_logger = pl.loggers.WandbLogger(\n",
    "            name=wandb_config\n",
    "            .get(\"name\", \n",
    "                           (cfg.data.datamodule.get(\"name\") + \"__\" + cfg.model_cfg.name)),\n",
    "            project=wandb_config.project,\n",
    "            entity=wandb_config.entity,\n",
    "            tags=cfg.core.tags,\n",
    "            log_model=True,\n",
    "        )\n",
    "        hydra.utils.log.info(f\"W&B is now watching <{wandb_config.watch.log}>!\")\n",
    "        wandb_logger.watch(\n",
    "            model, log=wandb_config.watch.log, log_freq=wandb_config.watch.log_freq\n",
    "        )\n",
    "\n",
    "\n",
    "        hydra.utils.log.info(f\"Instantiating the Trainer\")\n",
    "    return wandb_logger"
   ]
  },
  {
   "cell_type": "code",
   "execution_count": 22,
   "id": "3ff464d9-1f34-40cf-bef7-9f1e08210409",
   "metadata": {},
   "outputs": [],
   "source": [
    "# wandb_logger = configure_loggers(cfg=cfg, model=model)\n",
    "# print(wandb_logger)\n",
    "\n",
    "# # The Lightning core, the Trainer\n",
    "# trainer = pl.Trainer(\n",
    "#     default_root_dir=cfg.hydra.run.dir,\n",
    "#     logger=wandb_logger,\n",
    "#     callbacks=callbacks,\n",
    "#     deterministic=cfg.train.deterministic,\n",
    "#     val_check_interval=cfg.logging.val_check_interval,\n",
    "#     log_every_n_steps=10,\n",
    "#     #auto_select_gpus=True,\n",
    "#     # benchmark=True,\n",
    "#     # accelerator=None,  # 'dp', \"ddp\" if args.gpus > 1 else None,\n",
    "#     #plugins=[DDPPlugin(find_unused_parameters=True)],\n",
    "#     **cfg.train.pl_trainer,\n",
    "# )\n",
    "# # num_samples = len(datamodule.train_dataset)\n",
    "# num_classes = cfg.model_cfg.head.num_classes\n",
    "# batch_size = datamodule.batch_size #[\"train\"]\n",
    "# hydra.utils.log.info(\"Starting training with {} classes and batches of {} images\".format(\n",
    "#     num_classes,\n",
    "#     batch_size))\n",
    "# # pp(OmegaConf.to_container(cfg.train.callbacks, resolve=True))\n",
    "# trainer.fit(model=model, datamodule=datamodule)\n",
    "# #%debug\n",
    "# hydra.utils.log.info(f\"Starting testing!\")\n",
    "# trainer.test(model=model, datamodule=datamodule)\n",
    "# shutil.copytree(\".hydra\", Path(wandb_logger.experiment.dir) / \"hydra\")"
   ]
  },
  {
   "cell_type": "markdown",
   "id": "8636a676-06cc-4cb7-ba0d-b2912a88191a",
   "metadata": {},
   "source": [
    "## Measure time and function wrapping"
   ]
  },
  {
   "cell_type": "code",
   "execution_count": 22,
   "id": "cc8545cb-b243-4534-8847-ccadf4442c16",
   "metadata": {},
   "outputs": [],
   "source": [
    "def measure_time(func):\n",
    "    def wrapper(*args, **kwargs):\n",
    "        from time import time\n",
    "        start = time()\n",
    "        result = func(*args, **kwargs)\n",
    "        total_time = time() - start\n",
    "        print(f'Elapsed time is {total_time} ms')\n",
    "        \n",
    "        if isinstance(result, int):\n",
    "            print(f\"{result}/{total_time} = {result/(total_time):.3f} samples/sec\")\n",
    "        return result\n",
    "    return wrapper"
   ]
  },
  {
   "cell_type": "code",
   "execution_count": 13,
   "id": "4f044c2b-4201-40a2-8a9e-b52289866414",
   "metadata": {},
   "outputs": [],
   "source": [
    "# from tqdm import tqdm\n",
    "\n",
    "@measure_time\n",
    "def loop_through_dataloader(dataloader, num_batches):\n",
    "    data_iter = iter(dataloader)\n",
    "    for i, batch in tqdm(enumerate(data_iter), total=num_batches):\n",
    "        if i > num_batches-1:\n",
    "            break\n",
    "    num_samples = i*len(batch[0])\n",
    "    return num_samples\n",
    "\n",
    "\n",
    "\n",
    "# train_iter = iter(datamodule.train_dataloader())\n",
    "# datamodule.setup()\n",
    "# dataloader = datamodule.train_dataloader()\n",
    "# num_batches = 40\n",
    "# loop_through_dataloader(dataloader, num_batches)\n",
    "# bb = next(iter(dataloader))\n",
    "# pp(datamodule.cfg)\n",
    "# pp(OmegaConf.to_container(datamodule.cfg))"
   ]
  },
  {
   "cell_type": "code",
   "execution_count": 11,
   "id": "90405dc3-2953-40d6-ba62-970fe7dcefc7",
   "metadata": {},
   "outputs": [
    {
     "data": {
      "text/plain": [
       "omegaconf.dictconfig.DictConfig"
      ]
     },
     "execution_count": 11,
     "metadata": {},
     "output_type": "execute_result"
    }
   ],
   "source": [
    "type(datamodule.cfg)"
   ]
  },
  {
   "cell_type": "code",
   "execution_count": 4,
   "id": "db8c4020-cd05-4bae-8c1c-8146ef69c924",
   "metadata": {},
   "outputs": [],
   "source": [
    "\n",
    "# default_cfg = DictConfig(dict(\n",
    "#     catalog_dir=None,\n",
    "#     label_col=\"scientificName\",\n",
    "#     train_size=0.7,\n",
    "#     shuffle=True,\n",
    "#     seed=14,\n",
    "#     batch_size = 128,\n",
    "#     num_workers = None,\n",
    "#     pin_memory=True,\n",
    "#     transform_cfg=None,\n",
    "#     remove_transforms=False,\n",
    "# ))\n",
    "\n",
    "# from rich import print as pp\n",
    "\n",
    "# pp(OmegaConf.to_yaml(default_cfg))"
   ]
  },
  {
   "cell_type": "markdown",
   "id": "62638da1-bbcd-48c2-8b20-ed2ec10fe60d",
   "metadata": {
    "jp-MarkdownHeadingCollapsed": true,
    "tags": []
   },
   "source": [
    "### Mock config yaml"
   ]
  },
  {
   "cell_type": "code",
   "execution_count": null,
   "id": "b1334a44-e017-4ee2-a475-1071b0e95da5",
   "metadata": {},
   "outputs": [],
   "source": [
    "# CATALOG_DIR = \"/media/data_cifs/projects/prj_fossils/users/jacob/data/herbarium_2022/catalog\"\n",
    "\n",
    "# datamodule = Herbarium2022DataModule(catalog_dir=CATALOG_DIR,\n",
    "#                                      num_workers=4,\n",
    "#                                      # image_reader=read_file_binary,\n",
    "#                                      remove_transforms=True)\n",
    "# datamodule.setup()\n",
    "\n",
    "# subset = \"train\"\n",
    "# dataset = datamodule.get_dataset(subset=subset)\n",
    "\n",
    "# dataset.num_classes\n",
    "\n",
    "# trainer.fit(model, datamodule)"
   ]
  },
  {
   "cell_type": "markdown",
   "id": "7958649f-4ec0-4567-bd28-61f6fafff7e5",
   "metadata": {
    "jp-MarkdownHeadingCollapsed": true,
    "tags": []
   },
   "source": [
    "## End"
   ]
  },
  {
   "cell_type": "code",
   "execution_count": null,
   "id": "c70a2c0f-5826-42e2-867d-cf063fdfe66b",
   "metadata": {
    "tags": []
   },
   "outputs": [],
   "source": [
    "# from torchvision import transforms as T\n",
    "# import argparse\n",
    "# from rich import print as pp\n",
    "\n",
    "# args = argparse.Namespace(\n",
    "#     preprocess={\n",
    "#         \"train\":{\n",
    "#             \"resize\":512\n",
    "#         },\n",
    "#         \"val\":{\n",
    "#             \"resize\":256\n",
    "#         },\n",
    "#     },\n",
    "#     batch_transform={\n",
    "#         \"train\":{\n",
    "#             \"random_resize_crop\":224\n",
    "#         },\n",
    "#         \"val\":{\n",
    "#             \"center_crop\":224\n",
    "#         },\n",
    "#     normalize=(\n",
    "#        [0.485, 0.456, 0.406],\n",
    "#        [0.229, 0.224, 0.225]\n",
    "#     )\n",
    "#     }\n",
    "# )\n",
    "# pp(args)\n",
    "\n",
    "# kornia_transform = nn.Sequential(\n",
    "#     K.RandomHorizontalFlip(),\n",
    "#     K.RandomVerticalFlip(),\n",
    "#     K.RandomMotionBlur(3, 35., 0.5),\n",
    "#     K.RandomRotation(degrees=45.0),\n",
    "#     K.Normalize(mean=mean_std,std=mean_std)\n",
    "# )\n",
    "\n",
    "# import numpy as np\n",
    "# from torch import nn\n",
    "# import torch\n",
    "# from albumentations.augmentations import transforms as AT\n",
    "\n",
    "# to_tensor = T.ToTensor()\n",
    "\n",
    "# class Preprocess(nn.Module):\n",
    "\n",
    "#     def __init__(self, mode=\"train\", resize=None):\n",
    "#         super().__init__()\n",
    "#         self.mode = mode\n",
    "#         self.resize = resize        \n",
    "#         self.resize_func = T.Resize(self.resize)\n",
    "    \n",
    "#     @torch.no_grad()  # disable gradients for effiency\n",
    "#     def forward(self, x) -> torch.Tensor:\n",
    "#         # x_tmp: np.ndarray = np.array(x)  # HxWxC\n",
    "#         # x_out: Tensor = to_tensor(x_tmp, keepdim=True)  # CxHxW\n",
    "#         if self.resize:\n",
    "#             x = self.resize_func(x)\n",
    "\n",
    "#         return x #_out.float()# / 255.0\n",
    "\n",
    "\n",
    "\n",
    "\n",
    "# class BatchTransforms(nn.Module):\n",
    "#     \"\"\"Module to perform data augmentation using Kornia on torch tensors.\"\"\"\n",
    "\n",
    "#     def __init__(self,\n",
    "#                  mode: str=\"train\",\n",
    "#                  random_resize_crop=None,\n",
    "#                  center_crop=None,\n",
    "#                  apply_color_jitter: bool = False,\n",
    "#                  normalize = (\n",
    "#                      [0,0,0],\n",
    "#                      [1,1,1]\n",
    "#                  )\n",
    "#                 ) -> None:\n",
    "#         super().__init__()\n",
    "#         self.mode = mode\n",
    "#         self.random_resize_crop = random_resize_crop\n",
    "#         self.center_crop = center_crop\n",
    "#         self._apply_color_jitter = apply_color_jitter\n",
    "#         self.normalize = normalize\n",
    "        \n",
    "#         self.build_transforms(mode=mode)\n",
    "\n",
    "        \n",
    "#     def add_train_transforms(self, transforms=None):\n",
    "        \n",
    "#         transforms = transforms or []\n",
    "#         # if mode == \"train\":\n",
    "#         transforms.append(T.RandomPerspective())\n",
    "#         if type(self.random_resize_crop) == int:\n",
    "#             transforms.append(T.RandomResizedCrop(self.random_resize_crop))\n",
    "#         transforms.extend([\n",
    "#             T.RandomHorizontalFlip(),\n",
    "#             T.RandomVerticalFlip()\n",
    "#         ])\n",
    "#         return transforms\n",
    "\n",
    "#     def add_test_transforms(self, transforms=None):\n",
    "        \n",
    "#         transforms = transforms or []\n",
    "#         if type(self.center_crop) == int:\n",
    "#             transforms.append(T.CenterCrop(self.center_crop))\n",
    "#         return transforms\n",
    "\n",
    "\n",
    "#     def build_transforms(self,\n",
    "#                          mode: str = \"train\"):\n",
    "#         transforms = []\n",
    "#         if mode == \"train\":\n",
    "#             transforms = self.add_train_transforms(transforms=transforms)\n",
    "#         elif mode in [\"val\", \"test\"]:\n",
    "#             transforms = self.add_test_transforms(transforms=transforms)\n",
    "\n",
    "#         transforms.extend([\n",
    "# \t\t\t# T.ToTensor(),\n",
    "# \t\t\tT.Normalize(*self.normalize)\n",
    "#         ])\n",
    "\n",
    "#         self.transforms = nn.Sequential(*transforms)\n",
    "#         self.jitter = AT.ColorJitter(brightness=0.2,\n",
    "#                                      contrast=0.2,\n",
    "#                                      saturation=0.2,\n",
    "#                                      hue=0.2,\n",
    "#                                      always_apply=False,\n",
    "#                                      p=0.5)\n",
    "\n",
    "#     @torch.no_grad()  # disable gradients for effiency\n",
    "#     def forward(self, x: torch.Tensor) -> torch.Tensor:\n",
    "#         x_out = self.transforms(x)  # BxCxHxW\n",
    "#         if self._apply_color_jitter:\n",
    "#             x_out = self.jitter(x_out)\n",
    "#         return x_out\n",
    "\n",
    "\n",
    "\n",
    "\n",
    "\n",
    "\n",
    "\n",
    "# for subset in [\"train\",\"val\", \"test\"]:\n",
    "#     data = Herbarium2022Dataset(subset=subset,\n",
    "#                                 label_col=\"scientificName\",\n",
    "#                                 train_size=0.7,\n",
    "#                                 shuffle=(subset != \"test\"),\n",
    "#                                 seed=14,\n",
    "#                                 transform=None)\n",
    "\n",
    "#########################################\n",
    "\n",
    "CATALOG_DIR = \"/media/data_cifs/projects/prj_fossils/users/jacob/data/herbarium_2022/catalog\"\n",
    "SHARD_DIR = \"/media/data_cifs/projects/prj_fossils/users/jacob/data/herbarium_2022/webdataset\"\n",
    "\n",
    "# datamodule = Herbarium2022DataModule(catalog_dir=CATALOG_DIR,\n",
    "#                                      batch_size=64,\n",
    "#                                      num_workers=4,\n",
    "#                                      image_reader=read_file_binary,\n",
    "#                                      remove_transforms=True)\n",
    "# datamodule.setup()\n",
    "\n",
    "\n",
    "# train_dataloader = datamodule.train_dataloader()\n",
    "# train_batch = next(iter(train_dataloader))\n",
    "# datamodule.train_dataset.encoder.inverse_transform(train_batch[1])\n",
    "\n",
    "# checkpoint_callback = [c for c in callbacks if isinstance(c, pl.callbacks.ModelCheckpoint)][0]\n",
    "# logging.info(f\"checkpoint_callback.best_model_path: {str(checkpoint_callback.best_model_path)}\")\n",
    "# config.system.tasks[f\"task_{task_id}\"].ckpt_path = checkpoint_callback.best_model_path\n",
    "# checkpoint_callback.best_model_score = checkpoint_callback.best_model_score or 0.0\n",
    "# logging.info(f\"checkpoint_callback.best_model_score: {checkpoint_callback.best_model_score:.3f}\")\n",
    "# logging.info(f\"[Initiating TESTING on task_{task_id}]\")\n",
    "\n",
    "\n",
    "# test_results = run_multitask_test(trainer=trainer,\n",
    "#                               model=model,\n",
    "#                               datamodule=datamodule,\n",
    "#                               config=config,\n",
    "#                               tasks=\"all\")#,"
   ]
  },
  {
   "cell_type": "code",
   "execution_count": null,
   "id": "64696c69-944a-421c-b882-3b36adf86fbc",
   "metadata": {},
   "outputs": [],
   "source": []
  }
 ],
 "metadata": {
  "kernelspec": {
   "display_name": "Python 3 (ipykernel)",
   "language": "python",
   "name": "python3"
  },
  "language_info": {
   "codemirror_mode": {
    "name": "ipython",
    "version": 3
   },
   "file_extension": ".py",
   "mimetype": "text/x-python",
   "name": "python",
   "nbconvert_exporter": "python",
   "pygments_lexer": "ipython3",
   "version": "3.8.12"
  }
 },
 "nbformat": 4,
 "nbformat_minor": 5
}
