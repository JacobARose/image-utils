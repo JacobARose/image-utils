{
 "cells": [
  {
   "cell_type": "markdown",
   "id": "d6d4a8cd-4e6d-4cc0-bc55-dedc99912842",
   "metadata": {},
   "source": [
    "## baseline lightning trainer notebook\n",
    "\n",
    "Created on: Wednesday March 16th, 2022  \n",
    "Created by: Jacob Alexander Rose  "
   ]
  },
  {
   "cell_type": "code",
   "execution_count": 9,
   "id": "13b57096-276f-4f13-9077-d3b0ccd1d798",
   "metadata": {},
   "outputs": [
    {
     "name": "stdout",
     "output_type": "stream",
     "text": [
      "The autoreload extension is already loaded. To reload it, use:\n",
      "  %reload_ext autoreload\n",
      "/media/data/jacob/GitHub/image-utils/imutils/ml\n",
      "/media/data/jacob/GitHub/image-utils/imutils/ml/conf/base_conf.yaml\n"
     ]
    }
   ],
   "source": [
    "%load_ext autoreload\n",
    "%autoreload 2\n",
    "\n",
    "import os\n",
    "\n",
    "os.environ[\"CUDA_VISIBLE_DEVICES\"] = \"7\"\n",
    "\n",
    "\n",
    "from IPython.display import display\n",
    "from IPython.core.interactiveshell import InteractiveShell\n",
    "InteractiveShell.ast_node_interactivity = \"all\"\n",
    "\n",
    "\n",
    "import pandas as pd\n",
    "from pathlib import Path\n",
    "from icecream import ic\n",
    "from rich import print as pp\n",
    "import warnings\n",
    "warnings.simplefilter(action='ignore', category=FutureWarning)\n",
    "\n",
    "# from imutils.big.datamodule import Herbarium2022DataModule, Herbarium2022Dataset\n",
    "from imutils.ml.data.datamodule import Herbarium2022DataModule, Herbarium2022Dataset\n",
    "\n",
    "from imutils.ml.utils.etl_utils import ETL\n",
    "\n",
    "import pytorch_lightning as pl\n",
    "from torchvision import transforms as T\n",
    "import argparse\n",
    "from rich import print as pp\n",
    "\n",
    "import imutils\n",
    "\n",
    "\n",
    "from hydra.experimental import compose, initialize, initialize_config_dir\n",
    "import hydra\n",
    "\n",
    "\n",
    "print(imutils.ml.IMUTILS_ML_ROOT)\n",
    "print(imutils.ml.BASE_ML_CONF_PATH)\n",
    "\n",
    "from omegaconf import DictConfig, OmegaConf\n",
    "from typing import *\n",
    "default_reader = None\n",
    "import torchmetrics\n",
    "# dir(torchmetrics.functional)\n",
    "\n",
    "from imutils.ml.models.pl import classifier"
   ]
  },
  {
   "cell_type": "markdown",
   "id": "992de5cd-852d-4923-9db3-c6d8f05a1f8c",
   "metadata": {},
   "source": [
    "## Load test config"
   ]
  },
  {
   "cell_type": "code",
   "execution_count": 10,
   "id": "95b0d6ab-43d4-4574-8090-c0c7b0bed117",
   "metadata": {},
   "outputs": [
    {
     "name": "stderr",
     "output_type": "stream",
     "text": [
      "/media/data/conda/jrose3/envs/imutils/lib/python3.8/site-packages/hydra/experimental/initialize.py:98: UserWarning: hydra.experimental.initialize_config_dir() is no longer experimental. Use hydra.initialize_config_dir().\n",
      "  deprecation_warning(\n",
      "/media/data/conda/jrose3/envs/imutils/lib/python3.8/site-packages/hydra/experimental/compose.py:18: UserWarning: hydra.experimental.compose() is no longer experimental. Use hydra.compose()\n",
      "  deprecation_warning(\n"
     ]
    }
   ],
   "source": [
    "config_path = os.path.dirname(imutils.ml.BASE_ML_CONF_PATH)\n",
    "config_name = os.path.basename(imutils.ml.BASE_ML_CONF_PATH)\n",
    "\n",
    "cfg = ETL.init_structured_config(config_name = config_name,\n",
    "                                 config_path = config_path,\n",
    "                                 job_name = \"demo\",\n",
    "                                 dataclass_type= None,\n",
    "                                 overrides = [\"data.datamodule.num_workers=4\",\n",
    "                                              # \"train.pl_trainer.gpus=4\",\n",
    "                                              \"train.pl_trainer.accelerator=gpu\",\n",
    "                                              # \"model_cfg.backbone.name=resnet_50\"],\n",
    "                                              \"model_cfg.backbone.name=xcit_large_24_p16_224\"],\n",
    "                                              # \"model_cfg.backbone.name=resnetv2_101x1_bitm\"],\n",
    "                                             # \"model_cfg.backbone.name=resnetv2_50\"], \n",
    "                                 cfg = None)\n",
    "\n",
    "\n"
   ]
  },
  {
   "cell_type": "code",
   "execution_count": 11,
   "id": "a2154b02-204b-4968-a007-48322116e084",
   "metadata": {},
   "outputs": [
    {
     "name": "stdout",
     "output_type": "stream",
     "text": [
      "name 'HydraConfig' is not defined\n",
      "/media/data/jacob/GitHub/image-utils/notebooks\n",
      "run:\n",
      "  dir: /media/data/jacob/GitHub/image-utils/notebooks\n",
      "\n"
     ]
    }
   ],
   "source": [
    "OmegaConf.set_struct(cfg, False)\n",
    "# Hydra run directory\n",
    "try:\n",
    "    hydra_dir = Path(HydraConfig.get().run.dir)\n",
    "except Exception as e:\n",
    "    print(e)\n",
    "    hydra_dir = os.getcwd()\n",
    "\n",
    "if not cfg.get(\"hydra\"):\n",
    "    cfg.update({\"hydra\":{\"run\":{\"dir\":hydra_dir}},\n",
    "                \"run_output_dir\":hydra_dir})\n",
    "    print(cfg.hydra.run.dir)\n",
    "\n",
    "print(OmegaConf.to_yaml(cfg.hydra))#, resolve=True, sort_keys=True))"
   ]
  },
  {
   "cell_type": "code",
   "execution_count": 12,
   "id": "0299f478-8a8a-4927-881b-d5b3376cd2c3",
   "metadata": {
    "tags": []
   },
   "outputs": [
    {
     "name": "stdout",
     "output_type": "stream",
     "text": [
      "checkpoint_dir: /media/data/jacob/GitHub/image-utils/notebooks/ckpts\n",
      "core:\n",
      "  name: herbarium2022__xcit_large_24_p16_224\n",
      "  tags:\n",
      "  - herbarium2022\n",
      "  - kaggle\n",
      "  version: 0.0.1\n",
      "data:\n",
      "  datamodule:\n",
      "    _target_: imutils.ml.data.datamodule.Herbarium2022DataModule\n",
      "    batch_size: 128\n",
      "    catalog_dir: /media/data/jacob/GitHub/image-utils/imutils/big/data\n",
      "    datasets:\n",
      "      herbarium2022:\n",
      "        test:\n",
      "          _target_: imutils.ml.data.datamodule.Herbarium2022Dataset\n",
      "          catalog_dir: /media/data_cifs/projects/prj_fossils/data/raw_data/herbarium-2022-fgvc9_resize\n",
      "          label_col: scientificName\n",
      "          seed: 14\n",
      "          shuffle: true\n",
      "          subset: train\n",
      "          train_size: 0.7\n",
      "        train:\n",
      "          _target_: imutils.ml.data.datamodule.Herbarium2022Dataset\n",
      "          catalog_dir: /media/data_cifs/projects/prj_fossils/data/raw_data/herbarium-2022-fgvc9_resize\n",
      "          label_col: scientificName\n",
      "          seed: 14\n",
      "          shuffle: true\n",
      "          subset: train\n",
      "          train_size: 0.7\n",
      "        val:\n",
      "          _target_: imutils.ml.data.datamodule.Herbarium2022Dataset\n",
      "          catalog_dir: /media/data_cifs/projects/prj_fossils/data/raw_data/herbarium-2022-fgvc9_resize\n",
      "          label_col: scientificName\n",
      "          seed: 14\n",
      "          shuffle: false\n",
      "          subset: val\n",
      "          train_size: 0.7\n",
      "    image_reader: default\n",
      "    label_col: scientificName\n",
      "    name: herbarium2022\n",
      "    num_workers: 4\n",
      "    pin_memory: true\n",
      "    remove_transforms: false\n",
      "    seed: 14\n",
      "    shuffle: true\n",
      "    train_size: 0.7\n",
      "    transform_cfg:\n",
      "      batch_transform:\n",
      "        test:\n",
      "          center_crop: 224\n",
      "        train:\n",
      "          random_resize_crop: 224\n",
      "        val:\n",
      "          center_crop: 224\n",
      "      normalize:\n",
      "      - - 0.485\n",
      "        - 0.456\n",
      "        - 0.406\n",
      "      - - 0.229\n",
      "        - 0.224\n",
      "        - 0.225\n",
      "      preprocess:\n",
      "        test:\n",
      "          resize: 256\n",
      "        train:\n",
      "          resize: 512\n",
      "        val:\n",
      "          resize: 256\n",
      "      resolution: 224\n",
      "hp:\n",
      "  num_channels: 3\n",
      "  resolution: 224\n",
      "hydra:\n",
      "  run:\n",
      "    dir: /media/data/jacob/GitHub/image-utils/notebooks\n",
      "logging:\n",
      "  log_model_summary: true\n",
      "  lr_monitor:\n",
      "    log_momentum: false\n",
      "    logging_interval: step\n",
      "  n_elements_to_log: 32\n",
      "  normalize_visualization: true\n",
      "  progress_bar_refresh_rate: 20\n",
      "  val_check_interval: 1\n",
      "  wandb:\n",
      "    entity: jrose\n",
      "    name: herbarium2022__xcit_large_24_p16_224\n",
      "    project: herbarium2022\n",
      "    watch:\n",
      "      log: all\n",
      "      log_freq: 10\n",
      "model_cfg:\n",
      "  _target_: imutils.ml.models.pl.classifier.LitClassifier\n",
      "  backbone:\n",
      "    freeze_backbone: true\n",
      "    model_repo: timm\n",
      "    name: xcit_large_24_p16_224\n",
      "    pretrained: true\n",
      "  callbacks:\n",
      "    class_counts_stats: null\n",
      "    image_stats_accumulator: null\n",
      "    log_per_class_metrics_to_wandb: null\n",
      "  head:\n",
      "    dropout_p: 0.3\n",
      "    head_type: linear\n",
      "    hidden_size: 512\n",
      "    num_classes: 15501\n",
      "    pool_size: 1\n",
      "    pool_type: avg\n",
      "  input_shape:\n",
      "  - 3\n",
      "  - 224\n",
      "  - 224\n",
      "  loss:\n",
      "    _target_: torch.nn.CrossEntropyLoss\n",
      "  name: xcit_large_24_p16_224\n",
      "  num_channels: 3\n",
      "  resolution: 224\n",
      "optim:\n",
      "  exclude_bn_bias: true\n",
      "  lr_scheduler:\n",
      "    T_0: 10\n",
      "    T_mult: 2\n",
      "    _target_: torch.optim.lr_scheduler.CosineAnnealingWarmRestarts\n",
      "    eta_min: 0\n",
      "    last_epoch: -1\n",
      "  optimizer:\n",
      "    _target_: torch.optim.Adam\n",
      "    betas:\n",
      "    - 0.9\n",
      "    - 0.999\n",
      "    eps: 1.0e-08\n",
      "    lr: 0.001\n",
      "    weight_decay: 0.0\n",
      "  use_lr_scheduler: true\n",
      "run_output_dir: /media/data/jacob/GitHub/image-utils/notebooks\n",
      "seed: 42\n",
      "train:\n",
      "  callbacks:\n",
      "    class_counts_stats:\n",
      "      _target_: imutils.ml.callbacks.class_label_stats_callbacks.ClassLabelStatsCallback\n",
      "      subsets:\n",
      "      - train\n",
      "      - val\n",
      "      y_col: scientificName\n",
      "    early_stopping:\n",
      "      _target_: pytorch_lightning.callbacks.early_stopping.EarlyStopping\n",
      "      min_delta: 0.05\n",
      "      mode: max\n",
      "      monitor: val_F1\n",
      "      patience: 15\n",
      "      verbose: true\n",
      "    image_stats_accumulator:\n",
      "      _target_: imutils.ml.callbacks.image_stats_callbacks.ImageStatsAccumulatorCallback\n",
      "      cache_dir: /media/data/jacob/GitHub/image-utils/notebooks/image_stats\n",
      "      clear_cache: true\n",
      "      name: image_stats\n",
      "    kwargs:\n",
      "      monitor:\n",
      "        metric: val_F1\n",
      "        mode: max\n",
      "    log_per_class_metrics_to_wandb:\n",
      "      _target_: imutils.ml.callbacks.wandb_callbacks.LogPerClassMetricsToWandb\n",
      "      class_names: null\n",
      "    lr_monitor:\n",
      "      _target_: pytorch_lightning.callbacks.LearningRateMonitor\n",
      "      log_momentum: false\n",
      "      logging_interval: step\n",
      "    model_checkpoint:\n",
      "      _target_: pytorch_lightning.callbacks.ModelCheckpoint\n",
      "      dirpath: /media/data/jacob/GitHub/image-utils/notebooks/ckpts\n",
      "      filename: '{epoch:02d}-{val_loss:.3f}-{val_F1:.3f}'\n",
      "      mode: max\n",
      "      monitor: val_F1\n",
      "      save_last: true\n",
      "      save_top_k: 2\n",
      "      save_weights_only: true\n",
      "      verbose: true\n",
      "    module_data_monitor:\n",
      "      _target_: pl_bolts.callbacks.ModuleDataMonitor\n",
      "  deterministic: false\n",
      "  freeze_backbone: true\n",
      "  pl_trainer:\n",
      "    accelerator: gpu\n",
      "    devices: 1\n",
      "    enable_model_summary: true\n",
      "    fast_dev_run: false\n",
      "    gradient_clip_val: 10000000.0\n",
      "    precision: 16\n",
      "  random_seed: 42\n",
      "\n",
      "{'resolution': 224, 'preprocess': {'train': {'resize': 512}, 'val': {'resize': 256}, 'test': {'resize': 256}}, 'batch_transform': {'train': {'random_resize_crop': '${...resolution}'}, 'val': {'center_crop': '${...resolution}'}, 'test': {'center_crop': '${...resolution}'}}, 'normalize': [[0.485, 0.456, 0.406], [0.229, 0.224, 0.225]]}\n"
     ]
    }
   ],
   "source": [
    "print(OmegaConf.to_yaml(cfg, resolve=True, sort_keys=True))\n",
    "\n",
    "print(cfg['data']['datamodule']['transform_cfg'])"
   ]
  },
  {
   "cell_type": "code",
   "execution_count": 13,
   "id": "e4923e27-a69e-4bdc-bb0a-6f38f803213e",
   "metadata": {},
   "outputs": [
    {
     "data": {
      "text/plain": [
       "omegaconf.listconfig.ListConfig"
      ]
     },
     "execution_count": 13,
     "metadata": {},
     "output_type": "execute_result"
    }
   ],
   "source": [
    "type(cfg.model_cfg.input_shape)"
   ]
  },
  {
   "cell_type": "code",
   "execution_count": 14,
   "id": "f6ac3594-7d71-42c9-8800-b3c9b4d43caf",
   "metadata": {},
   "outputs": [
    {
     "data": {
      "text/plain": [
       "int"
      ]
     },
     "execution_count": 14,
     "metadata": {},
     "output_type": "execute_result"
    }
   ],
   "source": [
    "type(OmegaConf.to_container(cfg.model_cfg.input_shape, resolve=True)[0])"
   ]
  },
  {
   "cell_type": "markdown",
   "id": "16022f92-652b-4271-b7c0-cdf6c9202143",
   "metadata": {},
   "source": [
    "## Instantiate experiment ingredients with config"
   ]
  },
  {
   "cell_type": "code",
   "execution_count": 15,
   "id": "f044ea9c-8d19-4345-aca6-3986af888257",
   "metadata": {},
   "outputs": [
    {
     "name": "stdout",
     "output_type": "stream",
     "text": [
      "name 'HydraConfig' is not defined\n",
      "self.transform_cfg:\n"
     ]
    },
    {
     "data": {
      "text/html": [
       "<pre style=\"white-space:pre;overflow-x:auto;line-height:normal;font-family:Menlo,'DejaVu Sans Mono',consolas,'Courier New',monospace\"><span style=\"font-weight: bold\">{</span><span style=\"color: #008000; text-decoration-color: #008000\">'preprocess'</span>: <span style=\"font-weight: bold\">{</span><span style=\"color: #008000; text-decoration-color: #008000\">'train'</span>: <span style=\"font-weight: bold\">{</span><span style=\"color: #008000; text-decoration-color: #008000\">'resize'</span>: <span style=\"color: #008080; text-decoration-color: #008080; font-weight: bold\">512</span><span style=\"font-weight: bold\">}</span>, <span style=\"color: #008000; text-decoration-color: #008000\">'val'</span>: <span style=\"font-weight: bold\">{</span><span style=\"color: #008000; text-decoration-color: #008000\">'resize'</span>: <span style=\"color: #008080; text-decoration-color: #008080; font-weight: bold\">256</span><span style=\"font-weight: bold\">}</span>, <span style=\"color: #008000; text-decoration-color: #008000\">'test'</span>: <span style=\"font-weight: bold\">{</span><span style=\"color: #008000; text-decoration-color: #008000\">'resize'</span>: <span style=\"color: #008080; text-decoration-color: #008080; font-weight: bold\">256</span><span style=\"font-weight: bold\">}}</span>, \n",
       "<span style=\"color: #008000; text-decoration-color: #008000\">'batch_transform'</span>: <span style=\"font-weight: bold\">{</span><span style=\"color: #008000; text-decoration-color: #008000\">'train'</span>: <span style=\"font-weight: bold\">{</span><span style=\"color: #008000; text-decoration-color: #008000\">'random_resize_crop'</span>: <span style=\"color: #008080; text-decoration-color: #008080; font-weight: bold\">224</span><span style=\"font-weight: bold\">}</span>, <span style=\"color: #008000; text-decoration-color: #008000\">'val'</span>: <span style=\"font-weight: bold\">{</span><span style=\"color: #008000; text-decoration-color: #008000\">'center_crop'</span>: <span style=\"color: #008080; text-decoration-color: #008080; font-weight: bold\">224</span><span style=\"font-weight: bold\">}</span>, \n",
       "<span style=\"color: #008000; text-decoration-color: #008000\">'test'</span>: <span style=\"font-weight: bold\">{</span><span style=\"color: #008000; text-decoration-color: #008000\">'center_crop'</span>: <span style=\"color: #008080; text-decoration-color: #008080; font-weight: bold\">224</span><span style=\"font-weight: bold\">}}</span>, <span style=\"color: #008000; text-decoration-color: #008000\">'normalize'</span>: <span style=\"font-weight: bold\">[[</span><span style=\"color: #008080; text-decoration-color: #008080; font-weight: bold\">0.485</span>, <span style=\"color: #008080; text-decoration-color: #008080; font-weight: bold\">0.456</span>, <span style=\"color: #008080; text-decoration-color: #008080; font-weight: bold\">0.406</span><span style=\"font-weight: bold\">]</span>, <span style=\"font-weight: bold\">[</span><span style=\"color: #008080; text-decoration-color: #008080; font-weight: bold\">0.229</span>, <span style=\"color: #008080; text-decoration-color: #008080; font-weight: bold\">0.224</span>, <span style=\"color: #008080; text-decoration-color: #008080; font-weight: bold\">0.225</span><span style=\"font-weight: bold\">]]</span>, \n",
       "<span style=\"color: #008000; text-decoration-color: #008000\">'resolution'</span>: <span style=\"color: #008080; text-decoration-color: #008080; font-weight: bold\">224</span><span style=\"font-weight: bold\">}</span>\n",
       "</pre>\n"
      ],
      "text/plain": [
       "\u001b[1m{\u001b[0m\u001b[32m'preprocess'\u001b[0m: \u001b[1m{\u001b[0m\u001b[32m'train'\u001b[0m: \u001b[1m{\u001b[0m\u001b[32m'resize'\u001b[0m: \u001b[1;36m512\u001b[0m\u001b[1m}\u001b[0m, \u001b[32m'val'\u001b[0m: \u001b[1m{\u001b[0m\u001b[32m'resize'\u001b[0m: \u001b[1;36m256\u001b[0m\u001b[1m}\u001b[0m, \u001b[32m'test'\u001b[0m: \u001b[1m{\u001b[0m\u001b[32m'resize'\u001b[0m: \u001b[1;36m256\u001b[0m\u001b[1m}\u001b[0m\u001b[1m}\u001b[0m, \n",
       "\u001b[32m'batch_transform'\u001b[0m: \u001b[1m{\u001b[0m\u001b[32m'train'\u001b[0m: \u001b[1m{\u001b[0m\u001b[32m'random_resize_crop'\u001b[0m: \u001b[1;36m224\u001b[0m\u001b[1m}\u001b[0m, \u001b[32m'val'\u001b[0m: \u001b[1m{\u001b[0m\u001b[32m'center_crop'\u001b[0m: \u001b[1;36m224\u001b[0m\u001b[1m}\u001b[0m, \n",
       "\u001b[32m'test'\u001b[0m: \u001b[1m{\u001b[0m\u001b[32m'center_crop'\u001b[0m: \u001b[1;36m224\u001b[0m\u001b[1m}\u001b[0m\u001b[1m}\u001b[0m, \u001b[32m'normalize'\u001b[0m: \u001b[1m[\u001b[0m\u001b[1m[\u001b[0m\u001b[1;36m0.485\u001b[0m, \u001b[1;36m0.456\u001b[0m, \u001b[1;36m0.406\u001b[0m\u001b[1m]\u001b[0m, \u001b[1m[\u001b[0m\u001b[1;36m0.229\u001b[0m, \u001b[1;36m0.224\u001b[0m, \u001b[1;36m0.225\u001b[0m\u001b[1m]\u001b[0m\u001b[1m]\u001b[0m, \n",
       "\u001b[32m'resolution'\u001b[0m: \u001b[1;36m224\u001b[0m\u001b[1m}\u001b[0m\n"
      ]
     },
     "metadata": {},
     "output_type": "display_data"
    },
    {
     "name": "stdout",
     "output_type": "stream",
     "text": [
      "self.normalize: [[0.485, 0.456, 0.406], [0.229, 0.224, 0.225]]\n",
      "self.normalize: [[0.485, 0.456, 0.406], [0.229, 0.224, 0.225]]\n",
      "self.normalize: [[0.485, 0.456, 0.406], [0.229, 0.224, 0.225]]\n"
     ]
    },
    {
     "data": {
      "text/plain": [
       "<imutils.ml.data.datamodule.Herbarium2022DataModule at 0x7fe6db2dd6a0>"
      ]
     },
     "execution_count": 15,
     "metadata": {},
     "output_type": "execute_result"
    },
    {
     "name": "stdout",
     "output_type": "stream",
     "text": [
      "Initializing weights of the model head.\n",
      "input_size: (1, 3, 224, 224)\n"
     ]
    },
    {
     "name": "stderr",
     "output_type": "stream",
     "text": [
      "2022-03-21 10:52:24,221 imutils.ml.utils.experiment_utils INFO     Instantiating callback <pytorch_lightning.callbacks.LearningRateMonitor>\n",
      "2022-03-21 10:52:24,223 imutils.ml.utils.experiment_utils INFO     Instantiating callback <pytorch_lightning.callbacks.early_stopping.EarlyStopping>\n",
      "2022-03-21 10:52:24,228 imutils.ml.utils.experiment_utils INFO     Instantiating callback <pytorch_lightning.callbacks.ModelCheckpoint>\n",
      "2022-03-21 10:52:24,237 imutils.ml.utils.experiment_utils INFO     Instantiating callback <imutils.ml.callbacks.class_label_stats_callbacks.ClassLabelStatsCallback>\n",
      "2022-03-21 10:52:24,241 imutils.ml.utils.experiment_utils INFO     Instantiating callback <imutils.ml.callbacks.wandb_callbacks.LogPerClassMetricsToWandb>\n",
      "2022-03-21 10:52:24,243 imutils.ml.utils.experiment_utils INFO     Instantiating callback <pl_bolts.callbacks.ModuleDataMonitor>\n",
      "2022-03-21 10:52:24,245 imutils.ml.utils.experiment_utils INFO     Instantiating callback <imutils.ml.callbacks.image_stats_callbacks.ImageStatsAccumulatorCallback>\n"
     ]
    },
    {
     "name": "stdout",
     "output_type": "stream",
     "text": [
      "====================================================================================================================================================================================\n",
      "Layer (type (var_name):depth-idx)                       Kernel Shape              Input Shape               Output Shape              Param #                   Mult-Adds\n",
      "====================================================================================================================================================================================\n",
      "Sequential                                              --                        --                        --                        --                        --\n",
      "├─Sequential (backbone): 1-1                            --                        [1, 3, 224, 224]          [1, 2048, 7, 7]           --                        --\n",
      "│    └─Conv2d (conv1): 2-1                              [3, 64, 7, 7]             [1, 3, 224, 224]          [1, 64, 112, 112]         9,408                     118,013,952\n",
      "│    └─BatchNorm2d (bn1): 2-2                           [64]                      [1, 64, 112, 112]         [1, 64, 112, 112]         128                       128\n",
      "│    └─ReLU (act1): 2-3                                 --                        [1, 64, 112, 112]         [1, 64, 112, 112]         --                        --\n",
      "│    └─MaxPool2d (maxpool): 2-4                         --                        [1, 64, 112, 112]         [1, 64, 56, 56]           --                        --\n",
      "│    └─Sequential (layer1): 2-5                         --                        [1, 64, 56, 56]           [1, 256, 56, 56]          --                        --\n",
      "│    │    └─Bottleneck (0): 3-1                         --                        [1, 64, 56, 56]           [1, 256, 56, 56]          71,952                    194,291,472\n",
      "│    │    └─Bottleneck (1): 3-2                         --                        [1, 256, 56, 56]          [1, 256, 56, 56]          79,632                    219,981,072\n",
      "│    │    └─Bottleneck (2): 3-3                         --                        [1, 256, 56, 56]          [1, 256, 56, 56]          79,632                    219,981,072\n",
      "│    └─Sequential (layer2): 2-6                         --                        [1, 256, 56, 56]          [1, 512, 28, 28]          --                        --\n",
      "│    │    └─Bottleneck (0): 3-4                         --                        [1, 256, 56, 56]          [1, 512, 28, 28]          382,496                   425,528,864\n",
      "│    │    └─Bottleneck (1): 3-5                         --                        [1, 512, 28, 28]          [1, 512, 28, 28]          315,936                   220,006,944\n",
      "│    │    └─Bottleneck (2): 3-6                         --                        [1, 512, 28, 28]          [1, 512, 28, 28]          315,936                   220,006,944\n",
      "│    │    └─Bottleneck (3): 3-7                         --                        [1, 512, 28, 28]          [1, 512, 28, 28]          315,936                   220,006,944\n",
      "│    └─Sequential (layer3): 2-7                         --                        [1, 512, 28, 28]          [1, 1024, 14, 14]         --                        --\n",
      "│    │    └─Bottleneck (0): 3-8                         --                        [1, 512, 28, 28]          [1, 1024, 14, 14]         1,522,752                 425,630,784\n",
      "│    │    └─Bottleneck (1): 3-9                         --                        [1, 1024, 14, 14]         [1, 1024, 14, 14]         1,258,560                 220,107,840\n",
      "│    │    └─Bottleneck (2): 3-10                        --                        [1, 1024, 14, 14]         [1, 1024, 14, 14]         1,258,560                 220,107,840\n",
      "│    │    └─Bottleneck (3): 3-11                        --                        [1, 1024, 14, 14]         [1, 1024, 14, 14]         1,258,560                 220,107,840\n",
      "│    │    └─Bottleneck (4): 3-12                        --                        [1, 1024, 14, 14]         [1, 1024, 14, 14]         1,258,560                 220,107,840\n",
      "│    │    └─Bottleneck (5): 3-13                        --                        [1, 1024, 14, 14]         [1, 1024, 14, 14]         1,258,560                 220,107,840\n",
      "│    └─Sequential (layer4): 2-8                         --                        [1, 1024, 14, 14]         [1, 2048, 7, 7]           --                        --\n",
      "│    │    └─Bottleneck (0): 3-14                        --                        [1, 1024, 14, 14]         [1, 2048, 7, 7]           6,076,544                 426,031,232\n",
      "│    │    └─Bottleneck (1): 3-15                        --                        [1, 2048, 7, 7]           [1, 2048, 7, 7]           5,023,872                 220,506,240\n",
      "│    │    └─Bottleneck (2): 3-16                        --                        [1, 2048, 7, 7]           [1, 2048, 7, 7]           5,023,872                 220,506,240\n",
      "├─Sequential (head): 1-2                                --                        [1, 2048, 7, 7]           [1, 15501]                --                        --\n",
      "│    └─AdaptiveAvgPool2d (global_pool): 2-9             --                        [1, 2048, 7, 7]           [1, 2048, 1, 1]           --                        --\n",
      "│    └─Flatten (flatten): 2-10                          --                        [1, 2048, 1, 1]           [1, 2048]                 --                        --\n",
      "│    └─Linear (classifier): 2-11                        [2048, 15501]             [1, 2048]                 [1, 15501]                31,761,549                31,761,549\n",
      "====================================================================================================================================================================================\n",
      "Total params: 57,272,445\n",
      "Trainable params: 57,272,445\n",
      "Non-trainable params: 0\n",
      "Total mult-adds (G): 4.26\n",
      "====================================================================================================================================================================================\n",
      "Input size (MB): 0.60\n",
      "Forward/backward pass size (MB): 230.66\n",
      "Params size (MB): 229.09\n",
      "Estimated Total Size (MB): 460.35\n",
      "====================================================================================================================================================================================\n",
      "_target_: imutils.ml.models.pl.classifier.LitClassifier\n",
      "backbone:\n",
      "  freeze_backbone: true\n",
      "  model_repo: timm\n",
      "  name: xcit_large_24_p16_224\n",
      "  pretrained: true\n",
      "callbacks:\n",
      "  class_counts_stats: null\n",
      "  image_stats_accumulator: null\n",
      "  log_per_class_metrics_to_wandb: null\n",
      "head:\n",
      "  dropout_p: 0.3\n",
      "  head_type: linear\n",
      "  hidden_size: 512\n",
      "  num_classes: 15501\n",
      "  pool_size: 1\n",
      "  pool_type: avg\n",
      "input_shape:\n",
      "- 3\n",
      "- 224\n",
      "- 224\n",
      "loss:\n",
      "  _target_: torch.nn.CrossEntropyLoss\n",
      "name: xcit_large_24_p16_224\n",
      "num_channels: 3\n",
      "resolution: 224\n",
      "\n"
     ]
    }
   ],
   "source": [
    "if cfg.train.deterministic:\n",
    "    pl.seed_everything(cfg.train.random_seed)\n",
    "\n",
    "if cfg.train.pl_trainer.fast_dev_run:\n",
    "    hydra.utils.log.info(\n",
    "        f\"Debug mode <{cfg.train.pl_trainer.fast_dev_run}>. \"\n",
    "        f\"Forcing debugger friendly configuration!\"\n",
    "    )\n",
    "    # Debuggers don't like GPUs nor multiprocessing\n",
    "    cfg.train.pl_trainer.gpus = 0\n",
    "    cfg.data.datamodule.num_workers.train = 0\n",
    "    cfg.data.datamodule.num_workers.val = 0\n",
    "    cfg.data.datamodule.num_workers.test = 0\n",
    "\n",
    "# Hydra run directory\n",
    "try:\n",
    "    hydra_dir = Path(HydraConfig.get().run.dir)\n",
    "except Exception as e:\n",
    "    print(e)\n",
    "    hydra_dir = os.getcwd()\n",
    "\n",
    "# Instantiate datamodule\n",
    "hydra.utils.log.info(f\"Instantiating <{cfg.data.datamodule._target_}>\")\n",
    "datamodule: pl.LightningDataModule = hydra.utils.instantiate(\n",
    "    cfg.data.datamodule, _recursive_=False\n",
    ")\n",
    "\n",
    " # cfg=cfg,\n",
    "datamodule\n",
    "\n",
    "# Instantiate model\n",
    "# hydra.utils.log.info(f\"Instantiating <{cfg.model_cfg._target_}>\")\n",
    "# model: pl.LightningModule = hydra.utils.instantiate(model_cfg=cfg, _recursive_=False)\n",
    "\n",
    "\n",
    "from imutils.ml.utils.model_utils import log_model_summary\n",
    "\n",
    "\n",
    "model = imutils.ml.models.pl.classifier.LitClassifier(cfg=cfg, #model_cfg=cfg.model_cfg,\n",
    "                                              loss=cfg.model_cfg.loss)\n",
    "\n",
    "print(OmegaConf.to_yaml(cfg.model_cfg, resolve=True, sort_keys=True))\n",
    "\n",
    "# input_size = (1, 3,224,224)\n",
    "# summary = log_model_summary(model=model,\n",
    "#                             input_size=input_size,\n",
    "#                             full_summary=True,\n",
    "#                             working_dir=\".\",\n",
    "#                             model_name=cfg.model_cfg.backbone.name,\n",
    "#                             verbose=1)\n",
    "\n",
    "from imutils.ml.utils.experiment_utils import configure_callbacks, configure_loggers, configure_trainer\n",
    "\n",
    "# Instantiate the callbacks\n",
    "callbacks: List[pl.Callback] = configure_callbacks(cfg=cfg.train) #OmegaConf.to_container(cfg.train, resolve=True))"
   ]
  },
  {
   "cell_type": "code",
   "execution_count": 16,
   "id": "97d46153-3d47-4949-903c-a1706d2140a8",
   "metadata": {},
   "outputs": [
    {
     "name": "stdout",
     "output_type": "stream",
     "text": [
      "Freezing up to layer=-1 in submodule=backbone\n",
      "Setting to False: conv1.weight\n",
      "Setting layer:(backbone.conv1.weight) requires_grad=False.\n",
      "Setting to False: bn1.weight\n",
      "Setting layer:(backbone.bn1.weight) requires_grad=False.\n",
      "Setting to False: bn1.bias\n",
      "Setting layer:(backbone.bn1.bias) requires_grad=False.\n",
      "Setting to False: layer1.0.conv1.weight\n",
      "Setting layer:(backbone.layer1.0.conv1.weight) requires_grad=False.\n",
      "Setting to False: layer1.0.bn1.weight\n",
      "Setting layer:(backbone.layer1.0.bn1.weight) requires_grad=False.\n",
      "Setting to False: layer1.0.bn1.bias\n",
      "Setting layer:(backbone.layer1.0.bn1.bias) requires_grad=False.\n",
      "Setting to False: layer1.0.conv2.weight\n",
      "Setting layer:(backbone.layer1.0.conv2.weight) requires_grad=False.\n",
      "Setting to False: layer1.0.bn2.weight\n",
      "Setting layer:(backbone.layer1.0.bn2.weight) requires_grad=False.\n",
      "Setting to False: layer1.0.bn2.bias\n",
      "Setting layer:(backbone.layer1.0.bn2.bias) requires_grad=False.\n",
      "Setting to False: layer1.0.conv3.weight\n",
      "Setting layer:(backbone.layer1.0.conv3.weight) requires_grad=False.\n",
      "Setting to False: layer1.0.bn3.weight\n",
      "Setting layer:(backbone.layer1.0.bn3.weight) requires_grad=False.\n",
      "Setting to False: layer1.0.bn3.bias\n",
      "Setting layer:(backbone.layer1.0.bn3.bias) requires_grad=False.\n",
      "Setting to False: layer1.0.se.fc1.weight\n",
      "Setting layer:(backbone.layer1.0.se.fc1.weight) requires_grad=False.\n",
      "Setting to False: layer1.0.se.fc1.bias\n",
      "Setting layer:(backbone.layer1.0.se.fc1.bias) requires_grad=False.\n",
      "Setting to False: layer1.0.se.fc2.weight\n",
      "Setting layer:(backbone.layer1.0.se.fc2.weight) requires_grad=False.\n",
      "Setting to False: layer1.0.se.fc2.bias\n",
      "Setting layer:(backbone.layer1.0.se.fc2.bias) requires_grad=False.\n",
      "Setting to False: layer1.0.downsample.0.weight\n",
      "Setting layer:(backbone.layer1.0.downsample.0.weight) requires_grad=False.\n",
      "Setting to False: layer1.0.downsample.1.weight\n",
      "Setting layer:(backbone.layer1.0.downsample.1.weight) requires_grad=False.\n",
      "Setting to False: layer1.0.downsample.1.bias\n",
      "Setting layer:(backbone.layer1.0.downsample.1.bias) requires_grad=False.\n",
      "Setting to False: layer1.1.conv1.weight\n",
      "Setting layer:(backbone.layer1.1.conv1.weight) requires_grad=False.\n",
      "Setting to False: layer1.1.bn1.weight\n",
      "Setting layer:(backbone.layer1.1.bn1.weight) requires_grad=False.\n",
      "Setting to False: layer1.1.bn1.bias\n",
      "Setting layer:(backbone.layer1.1.bn1.bias) requires_grad=False.\n",
      "Setting to False: layer1.1.conv2.weight\n",
      "Setting layer:(backbone.layer1.1.conv2.weight) requires_grad=False.\n",
      "Setting to False: layer1.1.bn2.weight\n",
      "Setting layer:(backbone.layer1.1.bn2.weight) requires_grad=False.\n",
      "Setting to False: layer1.1.bn2.bias\n",
      "Setting layer:(backbone.layer1.1.bn2.bias) requires_grad=False.\n",
      "Setting to False: layer1.1.conv3.weight\n",
      "Setting layer:(backbone.layer1.1.conv3.weight) requires_grad=False.\n",
      "Setting to False: layer1.1.bn3.weight\n",
      "Setting layer:(backbone.layer1.1.bn3.weight) requires_grad=False.\n",
      "Setting to False: layer1.1.bn3.bias\n",
      "Setting layer:(backbone.layer1.1.bn3.bias) requires_grad=False.\n",
      "Setting to False: layer1.1.se.fc1.weight\n",
      "Setting layer:(backbone.layer1.1.se.fc1.weight) requires_grad=False.\n",
      "Setting to False: layer1.1.se.fc1.bias\n",
      "Setting layer:(backbone.layer1.1.se.fc1.bias) requires_grad=False.\n",
      "Setting to False: layer1.1.se.fc2.weight\n",
      "Setting layer:(backbone.layer1.1.se.fc2.weight) requires_grad=False.\n",
      "Setting to False: layer1.1.se.fc2.bias\n",
      "Setting layer:(backbone.layer1.1.se.fc2.bias) requires_grad=False.\n",
      "Setting to False: layer1.2.conv1.weight\n",
      "Setting layer:(backbone.layer1.2.conv1.weight) requires_grad=False.\n",
      "Setting to False: layer1.2.bn1.weight\n",
      "Setting layer:(backbone.layer1.2.bn1.weight) requires_grad=False.\n",
      "Setting to False: layer1.2.bn1.bias\n",
      "Setting layer:(backbone.layer1.2.bn1.bias) requires_grad=False.\n",
      "Setting to False: layer1.2.conv2.weight\n",
      "Setting layer:(backbone.layer1.2.conv2.weight) requires_grad=False.\n",
      "Setting to False: layer1.2.bn2.weight\n",
      "Setting layer:(backbone.layer1.2.bn2.weight) requires_grad=False.\n",
      "Setting to False: layer1.2.bn2.bias\n",
      "Setting layer:(backbone.layer1.2.bn2.bias) requires_grad=False.\n",
      "Setting to False: layer1.2.conv3.weight\n",
      "Setting layer:(backbone.layer1.2.conv3.weight) requires_grad=False.\n",
      "Setting to False: layer1.2.bn3.weight\n",
      "Setting layer:(backbone.layer1.2.bn3.weight) requires_grad=False.\n",
      "Setting to False: layer1.2.bn3.bias\n",
      "Setting layer:(backbone.layer1.2.bn3.bias) requires_grad=False.\n",
      "Setting to False: layer1.2.se.fc1.weight\n",
      "Setting layer:(backbone.layer1.2.se.fc1.weight) requires_grad=False.\n",
      "Setting to False: layer1.2.se.fc1.bias\n",
      "Setting layer:(backbone.layer1.2.se.fc1.bias) requires_grad=False.\n",
      "Setting to False: layer1.2.se.fc2.weight\n",
      "Setting layer:(backbone.layer1.2.se.fc2.weight) requires_grad=False.\n",
      "Setting to False: layer1.2.se.fc2.bias\n",
      "Setting layer:(backbone.layer1.2.se.fc2.bias) requires_grad=False.\n",
      "Setting to False: layer2.0.conv1.weight\n",
      "Setting layer:(backbone.layer2.0.conv1.weight) requires_grad=False.\n",
      "Setting to False: layer2.0.bn1.weight\n",
      "Setting layer:(backbone.layer2.0.bn1.weight) requires_grad=False.\n",
      "Setting to False: layer2.0.bn1.bias\n",
      "Setting layer:(backbone.layer2.0.bn1.bias) requires_grad=False.\n",
      "Setting to False: layer2.0.conv2.weight\n",
      "Setting layer:(backbone.layer2.0.conv2.weight) requires_grad=False.\n",
      "Setting to False: layer2.0.bn2.weight\n",
      "Setting layer:(backbone.layer2.0.bn2.weight) requires_grad=False.\n",
      "Setting to False: layer2.0.bn2.bias\n",
      "Setting layer:(backbone.layer2.0.bn2.bias) requires_grad=False.\n",
      "Setting to False: layer2.0.conv3.weight\n",
      "Setting layer:(backbone.layer2.0.conv3.weight) requires_grad=False.\n",
      "Setting to False: layer2.0.bn3.weight\n",
      "Setting layer:(backbone.layer2.0.bn3.weight) requires_grad=False.\n",
      "Setting to False: layer2.0.bn3.bias\n",
      "Setting layer:(backbone.layer2.0.bn3.bias) requires_grad=False.\n",
      "Setting to False: layer2.0.se.fc1.weight\n",
      "Setting layer:(backbone.layer2.0.se.fc1.weight) requires_grad=False.\n",
      "Setting to False: layer2.0.se.fc1.bias\n",
      "Setting layer:(backbone.layer2.0.se.fc1.bias) requires_grad=False.\n",
      "Setting to False: layer2.0.se.fc2.weight\n",
      "Setting layer:(backbone.layer2.0.se.fc2.weight) requires_grad=False.\n",
      "Setting to False: layer2.0.se.fc2.bias\n",
      "Setting layer:(backbone.layer2.0.se.fc2.bias) requires_grad=False.\n",
      "Setting to False: layer2.0.downsample.0.weight\n",
      "Setting layer:(backbone.layer2.0.downsample.0.weight) requires_grad=False.\n",
      "Setting to False: layer2.0.downsample.1.weight\n",
      "Setting layer:(backbone.layer2.0.downsample.1.weight) requires_grad=False.\n",
      "Setting to False: layer2.0.downsample.1.bias\n",
      "Setting layer:(backbone.layer2.0.downsample.1.bias) requires_grad=False.\n",
      "Setting to False: layer2.1.conv1.weight\n",
      "Setting layer:(backbone.layer2.1.conv1.weight) requires_grad=False.\n",
      "Setting to False: layer2.1.bn1.weight\n",
      "Setting layer:(backbone.layer2.1.bn1.weight) requires_grad=False.\n",
      "Setting to False: layer2.1.bn1.bias\n",
      "Setting layer:(backbone.layer2.1.bn1.bias) requires_grad=False.\n",
      "Setting to False: layer2.1.conv2.weight\n",
      "Setting layer:(backbone.layer2.1.conv2.weight) requires_grad=False.\n",
      "Setting to False: layer2.1.bn2.weight\n",
      "Setting layer:(backbone.layer2.1.bn2.weight) requires_grad=False.\n",
      "Setting to False: layer2.1.bn2.bias\n",
      "Setting layer:(backbone.layer2.1.bn2.bias) requires_grad=False.\n",
      "Setting to False: layer2.1.conv3.weight\n",
      "Setting layer:(backbone.layer2.1.conv3.weight) requires_grad=False.\n",
      "Setting to False: layer2.1.bn3.weight\n",
      "Setting layer:(backbone.layer2.1.bn3.weight) requires_grad=False.\n",
      "Setting to False: layer2.1.bn3.bias\n",
      "Setting layer:(backbone.layer2.1.bn3.bias) requires_grad=False.\n",
      "Setting to False: layer2.1.se.fc1.weight\n",
      "Setting layer:(backbone.layer2.1.se.fc1.weight) requires_grad=False.\n",
      "Setting to False: layer2.1.se.fc1.bias\n",
      "Setting layer:(backbone.layer2.1.se.fc1.bias) requires_grad=False.\n",
      "Setting to False: layer2.1.se.fc2.weight\n",
      "Setting layer:(backbone.layer2.1.se.fc2.weight) requires_grad=False.\n",
      "Setting to False: layer2.1.se.fc2.bias\n",
      "Setting layer:(backbone.layer2.1.se.fc2.bias) requires_grad=False.\n",
      "Setting to False: layer2.2.conv1.weight\n",
      "Setting layer:(backbone.layer2.2.conv1.weight) requires_grad=False.\n",
      "Setting to False: layer2.2.bn1.weight\n",
      "Setting layer:(backbone.layer2.2.bn1.weight) requires_grad=False.\n",
      "Setting to False: layer2.2.bn1.bias\n",
      "Setting layer:(backbone.layer2.2.bn1.bias) requires_grad=False.\n",
      "Setting to False: layer2.2.conv2.weight\n",
      "Setting layer:(backbone.layer2.2.conv2.weight) requires_grad=False.\n",
      "Setting to False: layer2.2.bn2.weight\n",
      "Setting layer:(backbone.layer2.2.bn2.weight) requires_grad=False.\n",
      "Setting to False: layer2.2.bn2.bias\n",
      "Setting layer:(backbone.layer2.2.bn2.bias) requires_grad=False.\n",
      "Setting to False: layer2.2.conv3.weight\n",
      "Setting layer:(backbone.layer2.2.conv3.weight) requires_grad=False.\n",
      "Setting to False: layer2.2.bn3.weight\n",
      "Setting layer:(backbone.layer2.2.bn3.weight) requires_grad=False.\n",
      "Setting to False: layer2.2.bn3.bias\n",
      "Setting layer:(backbone.layer2.2.bn3.bias) requires_grad=False.\n",
      "Setting to False: layer2.2.se.fc1.weight\n",
      "Setting layer:(backbone.layer2.2.se.fc1.weight) requires_grad=False.\n",
      "Setting to False: layer2.2.se.fc1.bias\n",
      "Setting layer:(backbone.layer2.2.se.fc1.bias) requires_grad=False.\n",
      "Setting to False: layer2.2.se.fc2.weight\n",
      "Setting layer:(backbone.layer2.2.se.fc2.weight) requires_grad=False.\n",
      "Setting to False: layer2.2.se.fc2.bias\n",
      "Setting layer:(backbone.layer2.2.se.fc2.bias) requires_grad=False.\n",
      "Setting to False: layer2.3.conv1.weight\n",
      "Setting layer:(backbone.layer2.3.conv1.weight) requires_grad=False.\n",
      "Setting to False: layer2.3.bn1.weight\n",
      "Setting layer:(backbone.layer2.3.bn1.weight) requires_grad=False.\n",
      "Setting to False: layer2.3.bn1.bias\n",
      "Setting layer:(backbone.layer2.3.bn1.bias) requires_grad=False.\n",
      "Setting to False: layer2.3.conv2.weight\n",
      "Setting layer:(backbone.layer2.3.conv2.weight) requires_grad=False.\n",
      "Setting to False: layer2.3.bn2.weight\n",
      "Setting layer:(backbone.layer2.3.bn2.weight) requires_grad=False.\n",
      "Setting to False: layer2.3.bn2.bias\n",
      "Setting layer:(backbone.layer2.3.bn2.bias) requires_grad=False.\n",
      "Setting to False: layer2.3.conv3.weight\n",
      "Setting layer:(backbone.layer2.3.conv3.weight) requires_grad=False.\n",
      "Setting to False: layer2.3.bn3.weight\n",
      "Setting layer:(backbone.layer2.3.bn3.weight) requires_grad=False.\n",
      "Setting to False: layer2.3.bn3.bias\n",
      "Setting layer:(backbone.layer2.3.bn3.bias) requires_grad=False.\n",
      "Setting to False: layer2.3.se.fc1.weight\n",
      "Setting layer:(backbone.layer2.3.se.fc1.weight) requires_grad=False.\n",
      "Setting to False: layer2.3.se.fc1.bias\n",
      "Setting layer:(backbone.layer2.3.se.fc1.bias) requires_grad=False.\n",
      "Setting to False: layer2.3.se.fc2.weight\n",
      "Setting layer:(backbone.layer2.3.se.fc2.weight) requires_grad=False.\n",
      "Setting to False: layer2.3.se.fc2.bias\n",
      "Setting layer:(backbone.layer2.3.se.fc2.bias) requires_grad=False.\n",
      "Setting to False: layer3.0.conv1.weight\n",
      "Setting layer:(backbone.layer3.0.conv1.weight) requires_grad=False.\n",
      "Setting to False: layer3.0.bn1.weight\n",
      "Setting layer:(backbone.layer3.0.bn1.weight) requires_grad=False.\n",
      "Setting to False: layer3.0.bn1.bias\n",
      "Setting layer:(backbone.layer3.0.bn1.bias) requires_grad=False.\n",
      "Setting to False: layer3.0.conv2.weight\n",
      "Setting layer:(backbone.layer3.0.conv2.weight) requires_grad=False.\n",
      "Setting to False: layer3.0.bn2.weight\n",
      "Setting layer:(backbone.layer3.0.bn2.weight) requires_grad=False.\n",
      "Setting to False: layer3.0.bn2.bias\n",
      "Setting layer:(backbone.layer3.0.bn2.bias) requires_grad=False.\n",
      "Setting to False: layer3.0.conv3.weight\n",
      "Setting layer:(backbone.layer3.0.conv3.weight) requires_grad=False.\n",
      "Setting to False: layer3.0.bn3.weight\n",
      "Setting layer:(backbone.layer3.0.bn3.weight) requires_grad=False.\n",
      "Setting to False: layer3.0.bn3.bias\n",
      "Setting layer:(backbone.layer3.0.bn3.bias) requires_grad=False.\n",
      "Setting to False: layer3.0.se.fc1.weight\n",
      "Setting layer:(backbone.layer3.0.se.fc1.weight) requires_grad=False.\n",
      "Setting to False: layer3.0.se.fc1.bias\n",
      "Setting layer:(backbone.layer3.0.se.fc1.bias) requires_grad=False.\n",
      "Setting to False: layer3.0.se.fc2.weight\n",
      "Setting layer:(backbone.layer3.0.se.fc2.weight) requires_grad=False.\n",
      "Setting to False: layer3.0.se.fc2.bias\n",
      "Setting layer:(backbone.layer3.0.se.fc2.bias) requires_grad=False.\n",
      "Setting to False: layer3.0.downsample.0.weight\n",
      "Setting layer:(backbone.layer3.0.downsample.0.weight) requires_grad=False.\n",
      "Setting to False: layer3.0.downsample.1.weight\n",
      "Setting layer:(backbone.layer3.0.downsample.1.weight) requires_grad=False.\n",
      "Setting to False: layer3.0.downsample.1.bias\n",
      "Setting layer:(backbone.layer3.0.downsample.1.bias) requires_grad=False.\n",
      "Setting to False: layer3.1.conv1.weight\n",
      "Setting layer:(backbone.layer3.1.conv1.weight) requires_grad=False.\n",
      "Setting to False: layer3.1.bn1.weight\n",
      "Setting layer:(backbone.layer3.1.bn1.weight) requires_grad=False.\n",
      "Setting to False: layer3.1.bn1.bias\n",
      "Setting layer:(backbone.layer3.1.bn1.bias) requires_grad=False.\n",
      "Setting to False: layer3.1.conv2.weight\n",
      "Setting layer:(backbone.layer3.1.conv2.weight) requires_grad=False.\n",
      "Setting to False: layer3.1.bn2.weight\n",
      "Setting layer:(backbone.layer3.1.bn2.weight) requires_grad=False.\n",
      "Setting to False: layer3.1.bn2.bias\n",
      "Setting layer:(backbone.layer3.1.bn2.bias) requires_grad=False.\n",
      "Setting to False: layer3.1.conv3.weight\n",
      "Setting layer:(backbone.layer3.1.conv3.weight) requires_grad=False.\n",
      "Setting to False: layer3.1.bn3.weight\n",
      "Setting layer:(backbone.layer3.1.bn3.weight) requires_grad=False.\n",
      "Setting to False: layer3.1.bn3.bias\n",
      "Setting layer:(backbone.layer3.1.bn3.bias) requires_grad=False.\n",
      "Setting to False: layer3.1.se.fc1.weight\n",
      "Setting layer:(backbone.layer3.1.se.fc1.weight) requires_grad=False.\n",
      "Setting to False: layer3.1.se.fc1.bias\n",
      "Setting layer:(backbone.layer3.1.se.fc1.bias) requires_grad=False.\n",
      "Setting to False: layer3.1.se.fc2.weight\n",
      "Setting layer:(backbone.layer3.1.se.fc2.weight) requires_grad=False.\n",
      "Setting to False: layer3.1.se.fc2.bias\n",
      "Setting layer:(backbone.layer3.1.se.fc2.bias) requires_grad=False.\n",
      "Setting to False: layer3.2.conv1.weight\n",
      "Setting layer:(backbone.layer3.2.conv1.weight) requires_grad=False.\n",
      "Setting to False: layer3.2.bn1.weight\n",
      "Setting layer:(backbone.layer3.2.bn1.weight) requires_grad=False.\n",
      "Setting to False: layer3.2.bn1.bias\n",
      "Setting layer:(backbone.layer3.2.bn1.bias) requires_grad=False.\n",
      "Setting to False: layer3.2.conv2.weight\n",
      "Setting layer:(backbone.layer3.2.conv2.weight) requires_grad=False.\n",
      "Setting to False: layer3.2.bn2.weight\n",
      "Setting layer:(backbone.layer3.2.bn2.weight) requires_grad=False.\n",
      "Setting to False: layer3.2.bn2.bias\n",
      "Setting layer:(backbone.layer3.2.bn2.bias) requires_grad=False.\n",
      "Setting to False: layer3.2.conv3.weight\n",
      "Setting layer:(backbone.layer3.2.conv3.weight) requires_grad=False.\n",
      "Setting to False: layer3.2.bn3.weight\n",
      "Setting layer:(backbone.layer3.2.bn3.weight) requires_grad=False.\n",
      "Setting to False: layer3.2.bn3.bias\n",
      "Setting layer:(backbone.layer3.2.bn3.bias) requires_grad=False.\n",
      "Setting to False: layer3.2.se.fc1.weight\n",
      "Setting layer:(backbone.layer3.2.se.fc1.weight) requires_grad=False.\n",
      "Setting to False: layer3.2.se.fc1.bias\n",
      "Setting layer:(backbone.layer3.2.se.fc1.bias) requires_grad=False.\n",
      "Setting to False: layer3.2.se.fc2.weight\n",
      "Setting layer:(backbone.layer3.2.se.fc2.weight) requires_grad=False.\n",
      "Setting to False: layer3.2.se.fc2.bias\n",
      "Setting layer:(backbone.layer3.2.se.fc2.bias) requires_grad=False.\n",
      "Setting to False: layer3.3.conv1.weight\n",
      "Setting layer:(backbone.layer3.3.conv1.weight) requires_grad=False.\n",
      "Setting to False: layer3.3.bn1.weight\n",
      "Setting layer:(backbone.layer3.3.bn1.weight) requires_grad=False.\n",
      "Setting to False: layer3.3.bn1.bias\n",
      "Setting layer:(backbone.layer3.3.bn1.bias) requires_grad=False.\n",
      "Setting to False: layer3.3.conv2.weight\n",
      "Setting layer:(backbone.layer3.3.conv2.weight) requires_grad=False.\n",
      "Setting to False: layer3.3.bn2.weight\n",
      "Setting layer:(backbone.layer3.3.bn2.weight) requires_grad=False.\n",
      "Setting to False: layer3.3.bn2.bias\n",
      "Setting layer:(backbone.layer3.3.bn2.bias) requires_grad=False.\n",
      "Setting to False: layer3.3.conv3.weight\n",
      "Setting layer:(backbone.layer3.3.conv3.weight) requires_grad=False.\n",
      "Setting to False: layer3.3.bn3.weight\n",
      "Setting layer:(backbone.layer3.3.bn3.weight) requires_grad=False.\n",
      "Setting to False: layer3.3.bn3.bias\n",
      "Setting layer:(backbone.layer3.3.bn3.bias) requires_grad=False.\n",
      "Setting to False: layer3.3.se.fc1.weight\n",
      "Setting layer:(backbone.layer3.3.se.fc1.weight) requires_grad=False.\n",
      "Setting to False: layer3.3.se.fc1.bias\n",
      "Setting layer:(backbone.layer3.3.se.fc1.bias) requires_grad=False.\n",
      "Setting to False: layer3.3.se.fc2.weight\n",
      "Setting layer:(backbone.layer3.3.se.fc2.weight) requires_grad=False.\n",
      "Setting to False: layer3.3.se.fc2.bias\n",
      "Setting layer:(backbone.layer3.3.se.fc2.bias) requires_grad=False.\n",
      "Setting to False: layer3.4.conv1.weight\n",
      "Setting layer:(backbone.layer3.4.conv1.weight) requires_grad=False.\n",
      "Setting to False: layer3.4.bn1.weight\n",
      "Setting layer:(backbone.layer3.4.bn1.weight) requires_grad=False.\n",
      "Setting to False: layer3.4.bn1.bias\n",
      "Setting layer:(backbone.layer3.4.bn1.bias) requires_grad=False.\n",
      "Setting to False: layer3.4.conv2.weight\n",
      "Setting layer:(backbone.layer3.4.conv2.weight) requires_grad=False.\n",
      "Setting to False: layer3.4.bn2.weight\n",
      "Setting layer:(backbone.layer3.4.bn2.weight) requires_grad=False.\n",
      "Setting to False: layer3.4.bn2.bias\n",
      "Setting layer:(backbone.layer3.4.bn2.bias) requires_grad=False.\n",
      "Setting to False: layer3.4.conv3.weight\n",
      "Setting layer:(backbone.layer3.4.conv3.weight) requires_grad=False.\n",
      "Setting to False: layer3.4.bn3.weight\n",
      "Setting layer:(backbone.layer3.4.bn3.weight) requires_grad=False.\n",
      "Setting to False: layer3.4.bn3.bias\n",
      "Setting layer:(backbone.layer3.4.bn3.bias) requires_grad=False.\n",
      "Setting to False: layer3.4.se.fc1.weight\n",
      "Setting layer:(backbone.layer3.4.se.fc1.weight) requires_grad=False.\n",
      "Setting to False: layer3.4.se.fc1.bias\n",
      "Setting layer:(backbone.layer3.4.se.fc1.bias) requires_grad=False.\n",
      "Setting to False: layer3.4.se.fc2.weight\n",
      "Setting layer:(backbone.layer3.4.se.fc2.weight) requires_grad=False.\n",
      "Setting to False: layer3.4.se.fc2.bias\n",
      "Setting layer:(backbone.layer3.4.se.fc2.bias) requires_grad=False.\n",
      "Setting to False: layer3.5.conv1.weight\n",
      "Setting layer:(backbone.layer3.5.conv1.weight) requires_grad=False.\n",
      "Setting to False: layer3.5.bn1.weight\n",
      "Setting layer:(backbone.layer3.5.bn1.weight) requires_grad=False.\n",
      "Setting to False: layer3.5.bn1.bias\n",
      "Setting layer:(backbone.layer3.5.bn1.bias) requires_grad=False.\n",
      "Setting to False: layer3.5.conv2.weight\n",
      "Setting layer:(backbone.layer3.5.conv2.weight) requires_grad=False.\n",
      "Setting to False: layer3.5.bn2.weight\n",
      "Setting layer:(backbone.layer3.5.bn2.weight) requires_grad=False.\n",
      "Setting to False: layer3.5.bn2.bias\n",
      "Setting layer:(backbone.layer3.5.bn2.bias) requires_grad=False.\n",
      "Setting to False: layer3.5.conv3.weight\n",
      "Setting layer:(backbone.layer3.5.conv3.weight) requires_grad=False.\n",
      "Setting to False: layer3.5.bn3.weight\n",
      "Setting layer:(backbone.layer3.5.bn3.weight) requires_grad=False.\n",
      "Setting to False: layer3.5.bn3.bias\n",
      "Setting layer:(backbone.layer3.5.bn3.bias) requires_grad=False.\n",
      "Setting to False: layer3.5.se.fc1.weight\n",
      "Setting layer:(backbone.layer3.5.se.fc1.weight) requires_grad=False.\n",
      "Setting to False: layer3.5.se.fc1.bias\n",
      "Setting layer:(backbone.layer3.5.se.fc1.bias) requires_grad=False.\n",
      "Setting to False: layer3.5.se.fc2.weight\n",
      "Setting layer:(backbone.layer3.5.se.fc2.weight) requires_grad=False.\n",
      "Setting to False: layer3.5.se.fc2.bias\n",
      "Setting layer:(backbone.layer3.5.se.fc2.bias) requires_grad=False.\n",
      "Setting to False: layer4.0.conv1.weight\n",
      "Setting layer:(backbone.layer4.0.conv1.weight) requires_grad=False.\n",
      "Setting to False: layer4.0.bn1.weight\n",
      "Setting layer:(backbone.layer4.0.bn1.weight) requires_grad=False.\n",
      "Setting to False: layer4.0.bn1.bias\n",
      "Setting layer:(backbone.layer4.0.bn1.bias) requires_grad=False.\n",
      "Setting to False: layer4.0.conv2.weight\n",
      "Setting layer:(backbone.layer4.0.conv2.weight) requires_grad=False.\n",
      "Setting to False: layer4.0.bn2.weight\n",
      "Setting layer:(backbone.layer4.0.bn2.weight) requires_grad=False.\n",
      "Setting to False: layer4.0.bn2.bias\n",
      "Setting layer:(backbone.layer4.0.bn2.bias) requires_grad=False.\n",
      "Setting to False: layer4.0.conv3.weight\n",
      "Setting layer:(backbone.layer4.0.conv3.weight) requires_grad=False.\n",
      "Setting to False: layer4.0.bn3.weight\n",
      "Setting layer:(backbone.layer4.0.bn3.weight) requires_grad=False.\n",
      "Setting to False: layer4.0.bn3.bias\n",
      "Setting layer:(backbone.layer4.0.bn3.bias) requires_grad=False.\n",
      "Setting to False: layer4.0.se.fc1.weight\n",
      "Setting layer:(backbone.layer4.0.se.fc1.weight) requires_grad=False.\n",
      "Setting to False: layer4.0.se.fc1.bias\n",
      "Setting layer:(backbone.layer4.0.se.fc1.bias) requires_grad=False.\n",
      "Setting to False: layer4.0.se.fc2.weight\n",
      "Setting layer:(backbone.layer4.0.se.fc2.weight) requires_grad=False.\n",
      "Setting to False: layer4.0.se.fc2.bias\n",
      "Setting layer:(backbone.layer4.0.se.fc2.bias) requires_grad=False.\n",
      "Setting to False: layer4.0.downsample.0.weight\n",
      "Setting layer:(backbone.layer4.0.downsample.0.weight) requires_grad=False.\n",
      "Setting to False: layer4.0.downsample.1.weight\n",
      "Setting layer:(backbone.layer4.0.downsample.1.weight) requires_grad=False.\n",
      "Setting to False: layer4.0.downsample.1.bias\n",
      "Setting layer:(backbone.layer4.0.downsample.1.bias) requires_grad=False.\n",
      "Setting to False: layer4.1.conv1.weight\n",
      "Setting layer:(backbone.layer4.1.conv1.weight) requires_grad=False.\n",
      "Setting to False: layer4.1.bn1.weight\n",
      "Setting layer:(backbone.layer4.1.bn1.weight) requires_grad=False.\n",
      "Setting to False: layer4.1.bn1.bias\n",
      "Setting layer:(backbone.layer4.1.bn1.bias) requires_grad=False.\n",
      "Setting to False: layer4.1.conv2.weight\n",
      "Setting layer:(backbone.layer4.1.conv2.weight) requires_grad=False.\n",
      "Setting to False: layer4.1.bn2.weight\n",
      "Setting layer:(backbone.layer4.1.bn2.weight) requires_grad=False.\n",
      "Setting to False: layer4.1.bn2.bias\n",
      "Setting layer:(backbone.layer4.1.bn2.bias) requires_grad=False.\n",
      "Setting to False: layer4.1.conv3.weight\n",
      "Setting layer:(backbone.layer4.1.conv3.weight) requires_grad=False.\n",
      "Setting to False: layer4.1.bn3.weight\n",
      "Setting layer:(backbone.layer4.1.bn3.weight) requires_grad=False.\n",
      "Setting to False: layer4.1.bn3.bias\n",
      "Setting layer:(backbone.layer4.1.bn3.bias) requires_grad=False.\n",
      "Setting to False: layer4.1.se.fc1.weight\n",
      "Setting layer:(backbone.layer4.1.se.fc1.weight) requires_grad=False.\n",
      "Setting to False: layer4.1.se.fc1.bias\n",
      "Setting layer:(backbone.layer4.1.se.fc1.bias) requires_grad=False.\n",
      "Setting to False: layer4.1.se.fc2.weight\n",
      "Setting layer:(backbone.layer4.1.se.fc2.weight) requires_grad=False.\n",
      "Setting to False: layer4.1.se.fc2.bias\n",
      "Setting layer:(backbone.layer4.1.se.fc2.bias) requires_grad=False.\n",
      "Setting to False: layer4.2.conv1.weight\n",
      "Setting layer:(backbone.layer4.2.conv1.weight) requires_grad=False.\n",
      "Setting to False: layer4.2.bn1.weight\n",
      "Setting layer:(backbone.layer4.2.bn1.weight) requires_grad=False.\n",
      "Setting to False: layer4.2.bn1.bias\n",
      "Setting layer:(backbone.layer4.2.bn1.bias) requires_grad=False.\n",
      "Setting to False: layer4.2.conv2.weight\n",
      "Setting layer:(backbone.layer4.2.conv2.weight) requires_grad=False.\n",
      "Setting to False: layer4.2.bn2.weight\n",
      "Setting layer:(backbone.layer4.2.bn2.weight) requires_grad=False.\n",
      "Setting to False: layer4.2.bn2.bias\n",
      "Setting layer:(backbone.layer4.2.bn2.bias) requires_grad=False.\n",
      "Setting to False: layer4.2.conv3.weight\n",
      "Setting layer:(backbone.layer4.2.conv3.weight) requires_grad=False.\n",
      "Setting to False: layer4.2.bn3.weight\n",
      "Setting layer:(backbone.layer4.2.bn3.weight) requires_grad=False.\n",
      "Setting to False: layer4.2.bn3.bias\n",
      "Setting layer:(backbone.layer4.2.bn3.bias) requires_grad=False.\n",
      "Setting to False: layer4.2.se.fc1.weight\n",
      "Setting layer:(backbone.layer4.2.se.fc1.weight) requires_grad=False.\n",
      "Setting to False: layer4.2.se.fc1.bias\n",
      "Setting layer:(backbone.layer4.2.se.fc1.bias) requires_grad=False.\n",
      "Setting to False: layer4.2.se.fc2.weight\n",
      "Setting layer:(backbone.layer4.2.se.fc2.weight) requires_grad=False.\n",
      "Setting to False: layer4.2.se.fc2.bias\n",
      "Setting layer:(backbone.layer4.2.se.fc2.bias) requires_grad=False.\n"
     ]
    }
   ],
   "source": [
    "model.freeze_up_to(layer=-1,\n",
    "                  submodule=\"backbone\")"
   ]
  },
  {
   "cell_type": "code",
   "execution_count": 18,
   "id": "0bd54d46-6a43-4473-b78e-d65152bcf245",
   "metadata": {},
   "outputs": [
    {
     "data": {
      "text/html": [
       "<pre style=\"white-space:pre;overflow-x:auto;line-height:normal;font-family:Menlo,'DejaVu Sans Mono',consolas,'Courier New',monospace\"><span style=\"font-weight: bold\">[</span>\n",
       "    <span style=\"font-weight: bold\">(</span><span style=\"color: #008000; text-decoration-color: #008000\">'conv1.weight'</span>, <span style=\"color: #ff0000; text-decoration-color: #ff0000; font-style: italic\">False</span><span style=\"font-weight: bold\">)</span>,\n",
       "    <span style=\"font-weight: bold\">(</span><span style=\"color: #008000; text-decoration-color: #008000\">'bn1.weight'</span>, <span style=\"color: #ff0000; text-decoration-color: #ff0000; font-style: italic\">False</span><span style=\"font-weight: bold\">)</span>,\n",
       "    <span style=\"font-weight: bold\">(</span><span style=\"color: #008000; text-decoration-color: #008000\">'bn1.bias'</span>, <span style=\"color: #ff0000; text-decoration-color: #ff0000; font-style: italic\">False</span><span style=\"font-weight: bold\">)</span>,\n",
       "    <span style=\"font-weight: bold\">(</span><span style=\"color: #008000; text-decoration-color: #008000\">'layer1.0.conv1.weight'</span>, <span style=\"color: #ff0000; text-decoration-color: #ff0000; font-style: italic\">False</span><span style=\"font-weight: bold\">)</span>,\n",
       "    <span style=\"font-weight: bold\">(</span><span style=\"color: #008000; text-decoration-color: #008000\">'layer1.0.bn1.weight'</span>, <span style=\"color: #ff0000; text-decoration-color: #ff0000; font-style: italic\">False</span><span style=\"font-weight: bold\">)</span>,\n",
       "    <span style=\"font-weight: bold\">(</span><span style=\"color: #008000; text-decoration-color: #008000\">'layer1.0.bn1.bias'</span>, <span style=\"color: #ff0000; text-decoration-color: #ff0000; font-style: italic\">False</span><span style=\"font-weight: bold\">)</span>,\n",
       "    <span style=\"font-weight: bold\">(</span><span style=\"color: #008000; text-decoration-color: #008000\">'layer1.0.conv2.weight'</span>, <span style=\"color: #ff0000; text-decoration-color: #ff0000; font-style: italic\">False</span><span style=\"font-weight: bold\">)</span>,\n",
       "    <span style=\"font-weight: bold\">(</span><span style=\"color: #008000; text-decoration-color: #008000\">'layer1.0.bn2.weight'</span>, <span style=\"color: #ff0000; text-decoration-color: #ff0000; font-style: italic\">False</span><span style=\"font-weight: bold\">)</span>,\n",
       "    <span style=\"font-weight: bold\">(</span><span style=\"color: #008000; text-decoration-color: #008000\">'layer1.0.bn2.bias'</span>, <span style=\"color: #ff0000; text-decoration-color: #ff0000; font-style: italic\">False</span><span style=\"font-weight: bold\">)</span>,\n",
       "    <span style=\"font-weight: bold\">(</span><span style=\"color: #008000; text-decoration-color: #008000\">'layer1.0.conv3.weight'</span>, <span style=\"color: #ff0000; text-decoration-color: #ff0000; font-style: italic\">False</span><span style=\"font-weight: bold\">)</span>,\n",
       "    <span style=\"font-weight: bold\">(</span><span style=\"color: #008000; text-decoration-color: #008000\">'layer1.0.bn3.weight'</span>, <span style=\"color: #ff0000; text-decoration-color: #ff0000; font-style: italic\">False</span><span style=\"font-weight: bold\">)</span>,\n",
       "    <span style=\"font-weight: bold\">(</span><span style=\"color: #008000; text-decoration-color: #008000\">'layer1.0.bn3.bias'</span>, <span style=\"color: #ff0000; text-decoration-color: #ff0000; font-style: italic\">False</span><span style=\"font-weight: bold\">)</span>,\n",
       "    <span style=\"font-weight: bold\">(</span><span style=\"color: #008000; text-decoration-color: #008000\">'layer1.0.se.fc1.weight'</span>, <span style=\"color: #ff0000; text-decoration-color: #ff0000; font-style: italic\">False</span><span style=\"font-weight: bold\">)</span>,\n",
       "    <span style=\"font-weight: bold\">(</span><span style=\"color: #008000; text-decoration-color: #008000\">'layer1.0.se.fc1.bias'</span>, <span style=\"color: #ff0000; text-decoration-color: #ff0000; font-style: italic\">False</span><span style=\"font-weight: bold\">)</span>,\n",
       "    <span style=\"font-weight: bold\">(</span><span style=\"color: #008000; text-decoration-color: #008000\">'layer1.0.se.fc2.weight'</span>, <span style=\"color: #ff0000; text-decoration-color: #ff0000; font-style: italic\">False</span><span style=\"font-weight: bold\">)</span>,\n",
       "    <span style=\"font-weight: bold\">(</span><span style=\"color: #008000; text-decoration-color: #008000\">'layer1.0.se.fc2.bias'</span>, <span style=\"color: #ff0000; text-decoration-color: #ff0000; font-style: italic\">False</span><span style=\"font-weight: bold\">)</span>,\n",
       "    <span style=\"font-weight: bold\">(</span><span style=\"color: #008000; text-decoration-color: #008000\">'layer1.0.downsample.0.weight'</span>, <span style=\"color: #ff0000; text-decoration-color: #ff0000; font-style: italic\">False</span><span style=\"font-weight: bold\">)</span>,\n",
       "    <span style=\"font-weight: bold\">(</span><span style=\"color: #008000; text-decoration-color: #008000\">'layer1.0.downsample.1.weight'</span>, <span style=\"color: #ff0000; text-decoration-color: #ff0000; font-style: italic\">False</span><span style=\"font-weight: bold\">)</span>,\n",
       "    <span style=\"font-weight: bold\">(</span><span style=\"color: #008000; text-decoration-color: #008000\">'layer1.0.downsample.1.bias'</span>, <span style=\"color: #ff0000; text-decoration-color: #ff0000; font-style: italic\">False</span><span style=\"font-weight: bold\">)</span>,\n",
       "    <span style=\"font-weight: bold\">(</span><span style=\"color: #008000; text-decoration-color: #008000\">'layer1.1.conv1.weight'</span>, <span style=\"color: #ff0000; text-decoration-color: #ff0000; font-style: italic\">False</span><span style=\"font-weight: bold\">)</span>,\n",
       "    <span style=\"font-weight: bold\">(</span><span style=\"color: #008000; text-decoration-color: #008000\">'layer1.1.bn1.weight'</span>, <span style=\"color: #ff0000; text-decoration-color: #ff0000; font-style: italic\">False</span><span style=\"font-weight: bold\">)</span>,\n",
       "    <span style=\"font-weight: bold\">(</span><span style=\"color: #008000; text-decoration-color: #008000\">'layer1.1.bn1.bias'</span>, <span style=\"color: #ff0000; text-decoration-color: #ff0000; font-style: italic\">False</span><span style=\"font-weight: bold\">)</span>,\n",
       "    <span style=\"font-weight: bold\">(</span><span style=\"color: #008000; text-decoration-color: #008000\">'layer1.1.conv2.weight'</span>, <span style=\"color: #ff0000; text-decoration-color: #ff0000; font-style: italic\">False</span><span style=\"font-weight: bold\">)</span>,\n",
       "    <span style=\"font-weight: bold\">(</span><span style=\"color: #008000; text-decoration-color: #008000\">'layer1.1.bn2.weight'</span>, <span style=\"color: #ff0000; text-decoration-color: #ff0000; font-style: italic\">False</span><span style=\"font-weight: bold\">)</span>,\n",
       "    <span style=\"font-weight: bold\">(</span><span style=\"color: #008000; text-decoration-color: #008000\">'layer1.1.bn2.bias'</span>, <span style=\"color: #ff0000; text-decoration-color: #ff0000; font-style: italic\">False</span><span style=\"font-weight: bold\">)</span>,\n",
       "    <span style=\"font-weight: bold\">(</span><span style=\"color: #008000; text-decoration-color: #008000\">'layer1.1.conv3.weight'</span>, <span style=\"color: #ff0000; text-decoration-color: #ff0000; font-style: italic\">False</span><span style=\"font-weight: bold\">)</span>,\n",
       "    <span style=\"font-weight: bold\">(</span><span style=\"color: #008000; text-decoration-color: #008000\">'layer1.1.bn3.weight'</span>, <span style=\"color: #ff0000; text-decoration-color: #ff0000; font-style: italic\">False</span><span style=\"font-weight: bold\">)</span>,\n",
       "    <span style=\"font-weight: bold\">(</span><span style=\"color: #008000; text-decoration-color: #008000\">'layer1.1.bn3.bias'</span>, <span style=\"color: #ff0000; text-decoration-color: #ff0000; font-style: italic\">False</span><span style=\"font-weight: bold\">)</span>,\n",
       "    <span style=\"font-weight: bold\">(</span><span style=\"color: #008000; text-decoration-color: #008000\">'layer1.1.se.fc1.weight'</span>, <span style=\"color: #ff0000; text-decoration-color: #ff0000; font-style: italic\">False</span><span style=\"font-weight: bold\">)</span>,\n",
       "    <span style=\"font-weight: bold\">(</span><span style=\"color: #008000; text-decoration-color: #008000\">'layer1.1.se.fc1.bias'</span>, <span style=\"color: #ff0000; text-decoration-color: #ff0000; font-style: italic\">False</span><span style=\"font-weight: bold\">)</span>,\n",
       "    <span style=\"font-weight: bold\">(</span><span style=\"color: #008000; text-decoration-color: #008000\">'layer1.1.se.fc2.weight'</span>, <span style=\"color: #ff0000; text-decoration-color: #ff0000; font-style: italic\">False</span><span style=\"font-weight: bold\">)</span>,\n",
       "    <span style=\"font-weight: bold\">(</span><span style=\"color: #008000; text-decoration-color: #008000\">'layer1.1.se.fc2.bias'</span>, <span style=\"color: #ff0000; text-decoration-color: #ff0000; font-style: italic\">False</span><span style=\"font-weight: bold\">)</span>,\n",
       "    <span style=\"font-weight: bold\">(</span><span style=\"color: #008000; text-decoration-color: #008000\">'layer1.2.conv1.weight'</span>, <span style=\"color: #ff0000; text-decoration-color: #ff0000; font-style: italic\">False</span><span style=\"font-weight: bold\">)</span>,\n",
       "    <span style=\"font-weight: bold\">(</span><span style=\"color: #008000; text-decoration-color: #008000\">'layer1.2.bn1.weight'</span>, <span style=\"color: #ff0000; text-decoration-color: #ff0000; font-style: italic\">False</span><span style=\"font-weight: bold\">)</span>,\n",
       "    <span style=\"font-weight: bold\">(</span><span style=\"color: #008000; text-decoration-color: #008000\">'layer1.2.bn1.bias'</span>, <span style=\"color: #ff0000; text-decoration-color: #ff0000; font-style: italic\">False</span><span style=\"font-weight: bold\">)</span>,\n",
       "    <span style=\"font-weight: bold\">(</span><span style=\"color: #008000; text-decoration-color: #008000\">'layer1.2.conv2.weight'</span>, <span style=\"color: #ff0000; text-decoration-color: #ff0000; font-style: italic\">False</span><span style=\"font-weight: bold\">)</span>,\n",
       "    <span style=\"font-weight: bold\">(</span><span style=\"color: #008000; text-decoration-color: #008000\">'layer1.2.bn2.weight'</span>, <span style=\"color: #ff0000; text-decoration-color: #ff0000; font-style: italic\">False</span><span style=\"font-weight: bold\">)</span>,\n",
       "    <span style=\"font-weight: bold\">(</span><span style=\"color: #008000; text-decoration-color: #008000\">'layer1.2.bn2.bias'</span>, <span style=\"color: #ff0000; text-decoration-color: #ff0000; font-style: italic\">False</span><span style=\"font-weight: bold\">)</span>,\n",
       "    <span style=\"font-weight: bold\">(</span><span style=\"color: #008000; text-decoration-color: #008000\">'layer1.2.conv3.weight'</span>, <span style=\"color: #ff0000; text-decoration-color: #ff0000; font-style: italic\">False</span><span style=\"font-weight: bold\">)</span>,\n",
       "    <span style=\"font-weight: bold\">(</span><span style=\"color: #008000; text-decoration-color: #008000\">'layer1.2.bn3.weight'</span>, <span style=\"color: #ff0000; text-decoration-color: #ff0000; font-style: italic\">False</span><span style=\"font-weight: bold\">)</span>,\n",
       "    <span style=\"font-weight: bold\">(</span><span style=\"color: #008000; text-decoration-color: #008000\">'layer1.2.bn3.bias'</span>, <span style=\"color: #ff0000; text-decoration-color: #ff0000; font-style: italic\">False</span><span style=\"font-weight: bold\">)</span>,\n",
       "    <span style=\"font-weight: bold\">(</span><span style=\"color: #008000; text-decoration-color: #008000\">'layer1.2.se.fc1.weight'</span>, <span style=\"color: #ff0000; text-decoration-color: #ff0000; font-style: italic\">False</span><span style=\"font-weight: bold\">)</span>,\n",
       "    <span style=\"font-weight: bold\">(</span><span style=\"color: #008000; text-decoration-color: #008000\">'layer1.2.se.fc1.bias'</span>, <span style=\"color: #ff0000; text-decoration-color: #ff0000; font-style: italic\">False</span><span style=\"font-weight: bold\">)</span>,\n",
       "    <span style=\"font-weight: bold\">(</span><span style=\"color: #008000; text-decoration-color: #008000\">'layer1.2.se.fc2.weight'</span>, <span style=\"color: #ff0000; text-decoration-color: #ff0000; font-style: italic\">False</span><span style=\"font-weight: bold\">)</span>,\n",
       "    <span style=\"font-weight: bold\">(</span><span style=\"color: #008000; text-decoration-color: #008000\">'layer1.2.se.fc2.bias'</span>, <span style=\"color: #ff0000; text-decoration-color: #ff0000; font-style: italic\">False</span><span style=\"font-weight: bold\">)</span>,\n",
       "    <span style=\"font-weight: bold\">(</span><span style=\"color: #008000; text-decoration-color: #008000\">'layer2.0.conv1.weight'</span>, <span style=\"color: #ff0000; text-decoration-color: #ff0000; font-style: italic\">False</span><span style=\"font-weight: bold\">)</span>,\n",
       "    <span style=\"font-weight: bold\">(</span><span style=\"color: #008000; text-decoration-color: #008000\">'layer2.0.bn1.weight'</span>, <span style=\"color: #ff0000; text-decoration-color: #ff0000; font-style: italic\">False</span><span style=\"font-weight: bold\">)</span>,\n",
       "    <span style=\"font-weight: bold\">(</span><span style=\"color: #008000; text-decoration-color: #008000\">'layer2.0.bn1.bias'</span>, <span style=\"color: #ff0000; text-decoration-color: #ff0000; font-style: italic\">False</span><span style=\"font-weight: bold\">)</span>,\n",
       "    <span style=\"font-weight: bold\">(</span><span style=\"color: #008000; text-decoration-color: #008000\">'layer2.0.conv2.weight'</span>, <span style=\"color: #ff0000; text-decoration-color: #ff0000; font-style: italic\">False</span><span style=\"font-weight: bold\">)</span>,\n",
       "    <span style=\"font-weight: bold\">(</span><span style=\"color: #008000; text-decoration-color: #008000\">'layer2.0.bn2.weight'</span>, <span style=\"color: #ff0000; text-decoration-color: #ff0000; font-style: italic\">False</span><span style=\"font-weight: bold\">)</span>,\n",
       "    <span style=\"font-weight: bold\">(</span><span style=\"color: #008000; text-decoration-color: #008000\">'layer2.0.bn2.bias'</span>, <span style=\"color: #ff0000; text-decoration-color: #ff0000; font-style: italic\">False</span><span style=\"font-weight: bold\">)</span>,\n",
       "    <span style=\"font-weight: bold\">(</span><span style=\"color: #008000; text-decoration-color: #008000\">'layer2.0.conv3.weight'</span>, <span style=\"color: #ff0000; text-decoration-color: #ff0000; font-style: italic\">False</span><span style=\"font-weight: bold\">)</span>,\n",
       "    <span style=\"font-weight: bold\">(</span><span style=\"color: #008000; text-decoration-color: #008000\">'layer2.0.bn3.weight'</span>, <span style=\"color: #ff0000; text-decoration-color: #ff0000; font-style: italic\">False</span><span style=\"font-weight: bold\">)</span>,\n",
       "    <span style=\"font-weight: bold\">(</span><span style=\"color: #008000; text-decoration-color: #008000\">'layer2.0.bn3.bias'</span>, <span style=\"color: #ff0000; text-decoration-color: #ff0000; font-style: italic\">False</span><span style=\"font-weight: bold\">)</span>,\n",
       "    <span style=\"font-weight: bold\">(</span><span style=\"color: #008000; text-decoration-color: #008000\">'layer2.0.se.fc1.weight'</span>, <span style=\"color: #ff0000; text-decoration-color: #ff0000; font-style: italic\">False</span><span style=\"font-weight: bold\">)</span>,\n",
       "    <span style=\"font-weight: bold\">(</span><span style=\"color: #008000; text-decoration-color: #008000\">'layer2.0.se.fc1.bias'</span>, <span style=\"color: #ff0000; text-decoration-color: #ff0000; font-style: italic\">False</span><span style=\"font-weight: bold\">)</span>,\n",
       "    <span style=\"font-weight: bold\">(</span><span style=\"color: #008000; text-decoration-color: #008000\">'layer2.0.se.fc2.weight'</span>, <span style=\"color: #ff0000; text-decoration-color: #ff0000; font-style: italic\">False</span><span style=\"font-weight: bold\">)</span>,\n",
       "    <span style=\"font-weight: bold\">(</span><span style=\"color: #008000; text-decoration-color: #008000\">'layer2.0.se.fc2.bias'</span>, <span style=\"color: #ff0000; text-decoration-color: #ff0000; font-style: italic\">False</span><span style=\"font-weight: bold\">)</span>,\n",
       "    <span style=\"font-weight: bold\">(</span><span style=\"color: #008000; text-decoration-color: #008000\">'layer2.0.downsample.0.weight'</span>, <span style=\"color: #ff0000; text-decoration-color: #ff0000; font-style: italic\">False</span><span style=\"font-weight: bold\">)</span>,\n",
       "    <span style=\"font-weight: bold\">(</span><span style=\"color: #008000; text-decoration-color: #008000\">'layer2.0.downsample.1.weight'</span>, <span style=\"color: #ff0000; text-decoration-color: #ff0000; font-style: italic\">False</span><span style=\"font-weight: bold\">)</span>,\n",
       "    <span style=\"font-weight: bold\">(</span><span style=\"color: #008000; text-decoration-color: #008000\">'layer2.0.downsample.1.bias'</span>, <span style=\"color: #ff0000; text-decoration-color: #ff0000; font-style: italic\">False</span><span style=\"font-weight: bold\">)</span>,\n",
       "    <span style=\"font-weight: bold\">(</span><span style=\"color: #008000; text-decoration-color: #008000\">'layer2.1.conv1.weight'</span>, <span style=\"color: #ff0000; text-decoration-color: #ff0000; font-style: italic\">False</span><span style=\"font-weight: bold\">)</span>,\n",
       "    <span style=\"font-weight: bold\">(</span><span style=\"color: #008000; text-decoration-color: #008000\">'layer2.1.bn1.weight'</span>, <span style=\"color: #ff0000; text-decoration-color: #ff0000; font-style: italic\">False</span><span style=\"font-weight: bold\">)</span>,\n",
       "    <span style=\"font-weight: bold\">(</span><span style=\"color: #008000; text-decoration-color: #008000\">'layer2.1.bn1.bias'</span>, <span style=\"color: #ff0000; text-decoration-color: #ff0000; font-style: italic\">False</span><span style=\"font-weight: bold\">)</span>,\n",
       "    <span style=\"font-weight: bold\">(</span><span style=\"color: #008000; text-decoration-color: #008000\">'layer2.1.conv2.weight'</span>, <span style=\"color: #ff0000; text-decoration-color: #ff0000; font-style: italic\">False</span><span style=\"font-weight: bold\">)</span>,\n",
       "    <span style=\"font-weight: bold\">(</span><span style=\"color: #008000; text-decoration-color: #008000\">'layer2.1.bn2.weight'</span>, <span style=\"color: #ff0000; text-decoration-color: #ff0000; font-style: italic\">False</span><span style=\"font-weight: bold\">)</span>,\n",
       "    <span style=\"font-weight: bold\">(</span><span style=\"color: #008000; text-decoration-color: #008000\">'layer2.1.bn2.bias'</span>, <span style=\"color: #ff0000; text-decoration-color: #ff0000; font-style: italic\">False</span><span style=\"font-weight: bold\">)</span>,\n",
       "    <span style=\"font-weight: bold\">(</span><span style=\"color: #008000; text-decoration-color: #008000\">'layer2.1.conv3.weight'</span>, <span style=\"color: #ff0000; text-decoration-color: #ff0000; font-style: italic\">False</span><span style=\"font-weight: bold\">)</span>,\n",
       "    <span style=\"font-weight: bold\">(</span><span style=\"color: #008000; text-decoration-color: #008000\">'layer2.1.bn3.weight'</span>, <span style=\"color: #ff0000; text-decoration-color: #ff0000; font-style: italic\">False</span><span style=\"font-weight: bold\">)</span>,\n",
       "    <span style=\"font-weight: bold\">(</span><span style=\"color: #008000; text-decoration-color: #008000\">'layer2.1.bn3.bias'</span>, <span style=\"color: #ff0000; text-decoration-color: #ff0000; font-style: italic\">False</span><span style=\"font-weight: bold\">)</span>,\n",
       "    <span style=\"font-weight: bold\">(</span><span style=\"color: #008000; text-decoration-color: #008000\">'layer2.1.se.fc1.weight'</span>, <span style=\"color: #ff0000; text-decoration-color: #ff0000; font-style: italic\">False</span><span style=\"font-weight: bold\">)</span>,\n",
       "    <span style=\"font-weight: bold\">(</span><span style=\"color: #008000; text-decoration-color: #008000\">'layer2.1.se.fc1.bias'</span>, <span style=\"color: #ff0000; text-decoration-color: #ff0000; font-style: italic\">False</span><span style=\"font-weight: bold\">)</span>,\n",
       "    <span style=\"font-weight: bold\">(</span><span style=\"color: #008000; text-decoration-color: #008000\">'layer2.1.se.fc2.weight'</span>, <span style=\"color: #ff0000; text-decoration-color: #ff0000; font-style: italic\">False</span><span style=\"font-weight: bold\">)</span>,\n",
       "    <span style=\"font-weight: bold\">(</span><span style=\"color: #008000; text-decoration-color: #008000\">'layer2.1.se.fc2.bias'</span>, <span style=\"color: #ff0000; text-decoration-color: #ff0000; font-style: italic\">False</span><span style=\"font-weight: bold\">)</span>,\n",
       "    <span style=\"font-weight: bold\">(</span><span style=\"color: #008000; text-decoration-color: #008000\">'layer2.2.conv1.weight'</span>, <span style=\"color: #ff0000; text-decoration-color: #ff0000; font-style: italic\">False</span><span style=\"font-weight: bold\">)</span>,\n",
       "    <span style=\"font-weight: bold\">(</span><span style=\"color: #008000; text-decoration-color: #008000\">'layer2.2.bn1.weight'</span>, <span style=\"color: #ff0000; text-decoration-color: #ff0000; font-style: italic\">False</span><span style=\"font-weight: bold\">)</span>,\n",
       "    <span style=\"font-weight: bold\">(</span><span style=\"color: #008000; text-decoration-color: #008000\">'layer2.2.bn1.bias'</span>, <span style=\"color: #ff0000; text-decoration-color: #ff0000; font-style: italic\">False</span><span style=\"font-weight: bold\">)</span>,\n",
       "    <span style=\"font-weight: bold\">(</span><span style=\"color: #008000; text-decoration-color: #008000\">'layer2.2.conv2.weight'</span>, <span style=\"color: #ff0000; text-decoration-color: #ff0000; font-style: italic\">False</span><span style=\"font-weight: bold\">)</span>,\n",
       "    <span style=\"font-weight: bold\">(</span><span style=\"color: #008000; text-decoration-color: #008000\">'layer2.2.bn2.weight'</span>, <span style=\"color: #ff0000; text-decoration-color: #ff0000; font-style: italic\">False</span><span style=\"font-weight: bold\">)</span>,\n",
       "    <span style=\"font-weight: bold\">(</span><span style=\"color: #008000; text-decoration-color: #008000\">'layer2.2.bn2.bias'</span>, <span style=\"color: #ff0000; text-decoration-color: #ff0000; font-style: italic\">False</span><span style=\"font-weight: bold\">)</span>,\n",
       "    <span style=\"font-weight: bold\">(</span><span style=\"color: #008000; text-decoration-color: #008000\">'layer2.2.conv3.weight'</span>, <span style=\"color: #ff0000; text-decoration-color: #ff0000; font-style: italic\">False</span><span style=\"font-weight: bold\">)</span>,\n",
       "    <span style=\"font-weight: bold\">(</span><span style=\"color: #008000; text-decoration-color: #008000\">'layer2.2.bn3.weight'</span>, <span style=\"color: #ff0000; text-decoration-color: #ff0000; font-style: italic\">False</span><span style=\"font-weight: bold\">)</span>,\n",
       "    <span style=\"font-weight: bold\">(</span><span style=\"color: #008000; text-decoration-color: #008000\">'layer2.2.bn3.bias'</span>, <span style=\"color: #ff0000; text-decoration-color: #ff0000; font-style: italic\">False</span><span style=\"font-weight: bold\">)</span>,\n",
       "    <span style=\"font-weight: bold\">(</span><span style=\"color: #008000; text-decoration-color: #008000\">'layer2.2.se.fc1.weight'</span>, <span style=\"color: #ff0000; text-decoration-color: #ff0000; font-style: italic\">False</span><span style=\"font-weight: bold\">)</span>,\n",
       "    <span style=\"font-weight: bold\">(</span><span style=\"color: #008000; text-decoration-color: #008000\">'layer2.2.se.fc1.bias'</span>, <span style=\"color: #ff0000; text-decoration-color: #ff0000; font-style: italic\">False</span><span style=\"font-weight: bold\">)</span>,\n",
       "    <span style=\"font-weight: bold\">(</span><span style=\"color: #008000; text-decoration-color: #008000\">'layer2.2.se.fc2.weight'</span>, <span style=\"color: #ff0000; text-decoration-color: #ff0000; font-style: italic\">False</span><span style=\"font-weight: bold\">)</span>,\n",
       "    <span style=\"font-weight: bold\">(</span><span style=\"color: #008000; text-decoration-color: #008000\">'layer2.2.se.fc2.bias'</span>, <span style=\"color: #ff0000; text-decoration-color: #ff0000; font-style: italic\">False</span><span style=\"font-weight: bold\">)</span>,\n",
       "    <span style=\"font-weight: bold\">(</span><span style=\"color: #008000; text-decoration-color: #008000\">'layer2.3.conv1.weight'</span>, <span style=\"color: #ff0000; text-decoration-color: #ff0000; font-style: italic\">False</span><span style=\"font-weight: bold\">)</span>,\n",
       "    <span style=\"font-weight: bold\">(</span><span style=\"color: #008000; text-decoration-color: #008000\">'layer2.3.bn1.weight'</span>, <span style=\"color: #ff0000; text-decoration-color: #ff0000; font-style: italic\">False</span><span style=\"font-weight: bold\">)</span>,\n",
       "    <span style=\"font-weight: bold\">(</span><span style=\"color: #008000; text-decoration-color: #008000\">'layer2.3.bn1.bias'</span>, <span style=\"color: #ff0000; text-decoration-color: #ff0000; font-style: italic\">False</span><span style=\"font-weight: bold\">)</span>,\n",
       "    <span style=\"font-weight: bold\">(</span><span style=\"color: #008000; text-decoration-color: #008000\">'layer2.3.conv2.weight'</span>, <span style=\"color: #ff0000; text-decoration-color: #ff0000; font-style: italic\">False</span><span style=\"font-weight: bold\">)</span>,\n",
       "    <span style=\"font-weight: bold\">(</span><span style=\"color: #008000; text-decoration-color: #008000\">'layer2.3.bn2.weight'</span>, <span style=\"color: #ff0000; text-decoration-color: #ff0000; font-style: italic\">False</span><span style=\"font-weight: bold\">)</span>,\n",
       "    <span style=\"font-weight: bold\">(</span><span style=\"color: #008000; text-decoration-color: #008000\">'layer2.3.bn2.bias'</span>, <span style=\"color: #ff0000; text-decoration-color: #ff0000; font-style: italic\">False</span><span style=\"font-weight: bold\">)</span>,\n",
       "    <span style=\"font-weight: bold\">(</span><span style=\"color: #008000; text-decoration-color: #008000\">'layer2.3.conv3.weight'</span>, <span style=\"color: #ff0000; text-decoration-color: #ff0000; font-style: italic\">False</span><span style=\"font-weight: bold\">)</span>,\n",
       "    <span style=\"font-weight: bold\">(</span><span style=\"color: #008000; text-decoration-color: #008000\">'layer2.3.bn3.weight'</span>, <span style=\"color: #ff0000; text-decoration-color: #ff0000; font-style: italic\">False</span><span style=\"font-weight: bold\">)</span>,\n",
       "    <span style=\"font-weight: bold\">(</span><span style=\"color: #008000; text-decoration-color: #008000\">'layer2.3.bn3.bias'</span>, <span style=\"color: #ff0000; text-decoration-color: #ff0000; font-style: italic\">False</span><span style=\"font-weight: bold\">)</span>,\n",
       "    <span style=\"font-weight: bold\">(</span><span style=\"color: #008000; text-decoration-color: #008000\">'layer2.3.se.fc1.weight'</span>, <span style=\"color: #ff0000; text-decoration-color: #ff0000; font-style: italic\">False</span><span style=\"font-weight: bold\">)</span>,\n",
       "    <span style=\"font-weight: bold\">(</span><span style=\"color: #008000; text-decoration-color: #008000\">'layer2.3.se.fc1.bias'</span>, <span style=\"color: #ff0000; text-decoration-color: #ff0000; font-style: italic\">False</span><span style=\"font-weight: bold\">)</span>,\n",
       "    <span style=\"font-weight: bold\">(</span><span style=\"color: #008000; text-decoration-color: #008000\">'layer2.3.se.fc2.weight'</span>, <span style=\"color: #ff0000; text-decoration-color: #ff0000; font-style: italic\">False</span><span style=\"font-weight: bold\">)</span>,\n",
       "    <span style=\"font-weight: bold\">(</span><span style=\"color: #008000; text-decoration-color: #008000\">'layer2.3.se.fc2.bias'</span>, <span style=\"color: #ff0000; text-decoration-color: #ff0000; font-style: italic\">False</span><span style=\"font-weight: bold\">)</span>,\n",
       "    <span style=\"font-weight: bold\">(</span><span style=\"color: #008000; text-decoration-color: #008000\">'layer3.0.conv1.weight'</span>, <span style=\"color: #ff0000; text-decoration-color: #ff0000; font-style: italic\">False</span><span style=\"font-weight: bold\">)</span>,\n",
       "    <span style=\"font-weight: bold\">(</span><span style=\"color: #008000; text-decoration-color: #008000\">'layer3.0.bn1.weight'</span>, <span style=\"color: #ff0000; text-decoration-color: #ff0000; font-style: italic\">False</span><span style=\"font-weight: bold\">)</span>,\n",
       "    <span style=\"font-weight: bold\">(</span><span style=\"color: #008000; text-decoration-color: #008000\">'layer3.0.bn1.bias'</span>, <span style=\"color: #ff0000; text-decoration-color: #ff0000; font-style: italic\">False</span><span style=\"font-weight: bold\">)</span>,\n",
       "    <span style=\"font-weight: bold\">(</span><span style=\"color: #008000; text-decoration-color: #008000\">'layer3.0.conv2.weight'</span>, <span style=\"color: #ff0000; text-decoration-color: #ff0000; font-style: italic\">False</span><span style=\"font-weight: bold\">)</span>,\n",
       "    <span style=\"font-weight: bold\">(</span><span style=\"color: #008000; text-decoration-color: #008000\">'layer3.0.bn2.weight'</span>, <span style=\"color: #ff0000; text-decoration-color: #ff0000; font-style: italic\">False</span><span style=\"font-weight: bold\">)</span>,\n",
       "    <span style=\"font-weight: bold\">(</span><span style=\"color: #008000; text-decoration-color: #008000\">'layer3.0.bn2.bias'</span>, <span style=\"color: #ff0000; text-decoration-color: #ff0000; font-style: italic\">False</span><span style=\"font-weight: bold\">)</span>,\n",
       "    <span style=\"font-weight: bold\">(</span><span style=\"color: #008000; text-decoration-color: #008000\">'layer3.0.conv3.weight'</span>, <span style=\"color: #ff0000; text-decoration-color: #ff0000; font-style: italic\">False</span><span style=\"font-weight: bold\">)</span>,\n",
       "    <span style=\"font-weight: bold\">(</span><span style=\"color: #008000; text-decoration-color: #008000\">'layer3.0.bn3.weight'</span>, <span style=\"color: #ff0000; text-decoration-color: #ff0000; font-style: italic\">False</span><span style=\"font-weight: bold\">)</span>,\n",
       "    <span style=\"font-weight: bold\">(</span><span style=\"color: #008000; text-decoration-color: #008000\">'layer3.0.bn3.bias'</span>, <span style=\"color: #ff0000; text-decoration-color: #ff0000; font-style: italic\">False</span><span style=\"font-weight: bold\">)</span>,\n",
       "    <span style=\"font-weight: bold\">(</span><span style=\"color: #008000; text-decoration-color: #008000\">'layer3.0.se.fc1.weight'</span>, <span style=\"color: #ff0000; text-decoration-color: #ff0000; font-style: italic\">False</span><span style=\"font-weight: bold\">)</span>,\n",
       "    <span style=\"font-weight: bold\">(</span><span style=\"color: #008000; text-decoration-color: #008000\">'layer3.0.se.fc1.bias'</span>, <span style=\"color: #ff0000; text-decoration-color: #ff0000; font-style: italic\">False</span><span style=\"font-weight: bold\">)</span>,\n",
       "    <span style=\"font-weight: bold\">(</span><span style=\"color: #008000; text-decoration-color: #008000\">'layer3.0.se.fc2.weight'</span>, <span style=\"color: #ff0000; text-decoration-color: #ff0000; font-style: italic\">False</span><span style=\"font-weight: bold\">)</span>,\n",
       "    <span style=\"font-weight: bold\">(</span><span style=\"color: #008000; text-decoration-color: #008000\">'layer3.0.se.fc2.bias'</span>, <span style=\"color: #ff0000; text-decoration-color: #ff0000; font-style: italic\">False</span><span style=\"font-weight: bold\">)</span>,\n",
       "    <span style=\"font-weight: bold\">(</span><span style=\"color: #008000; text-decoration-color: #008000\">'layer3.0.downsample.0.weight'</span>, <span style=\"color: #ff0000; text-decoration-color: #ff0000; font-style: italic\">False</span><span style=\"font-weight: bold\">)</span>,\n",
       "    <span style=\"font-weight: bold\">(</span><span style=\"color: #008000; text-decoration-color: #008000\">'layer3.0.downsample.1.weight'</span>, <span style=\"color: #ff0000; text-decoration-color: #ff0000; font-style: italic\">False</span><span style=\"font-weight: bold\">)</span>,\n",
       "    <span style=\"font-weight: bold\">(</span><span style=\"color: #008000; text-decoration-color: #008000\">'layer3.0.downsample.1.bias'</span>, <span style=\"color: #ff0000; text-decoration-color: #ff0000; font-style: italic\">False</span><span style=\"font-weight: bold\">)</span>,\n",
       "    <span style=\"font-weight: bold\">(</span><span style=\"color: #008000; text-decoration-color: #008000\">'layer3.1.conv1.weight'</span>, <span style=\"color: #ff0000; text-decoration-color: #ff0000; font-style: italic\">False</span><span style=\"font-weight: bold\">)</span>,\n",
       "    <span style=\"font-weight: bold\">(</span><span style=\"color: #008000; text-decoration-color: #008000\">'layer3.1.bn1.weight'</span>, <span style=\"color: #ff0000; text-decoration-color: #ff0000; font-style: italic\">False</span><span style=\"font-weight: bold\">)</span>,\n",
       "    <span style=\"font-weight: bold\">(</span><span style=\"color: #008000; text-decoration-color: #008000\">'layer3.1.bn1.bias'</span>, <span style=\"color: #ff0000; text-decoration-color: #ff0000; font-style: italic\">False</span><span style=\"font-weight: bold\">)</span>,\n",
       "    <span style=\"font-weight: bold\">(</span><span style=\"color: #008000; text-decoration-color: #008000\">'layer3.1.conv2.weight'</span>, <span style=\"color: #ff0000; text-decoration-color: #ff0000; font-style: italic\">False</span><span style=\"font-weight: bold\">)</span>,\n",
       "    <span style=\"font-weight: bold\">(</span><span style=\"color: #008000; text-decoration-color: #008000\">'layer3.1.bn2.weight'</span>, <span style=\"color: #ff0000; text-decoration-color: #ff0000; font-style: italic\">False</span><span style=\"font-weight: bold\">)</span>,\n",
       "    <span style=\"font-weight: bold\">(</span><span style=\"color: #008000; text-decoration-color: #008000\">'layer3.1.bn2.bias'</span>, <span style=\"color: #ff0000; text-decoration-color: #ff0000; font-style: italic\">False</span><span style=\"font-weight: bold\">)</span>,\n",
       "    <span style=\"font-weight: bold\">(</span><span style=\"color: #008000; text-decoration-color: #008000\">'layer3.1.conv3.weight'</span>, <span style=\"color: #ff0000; text-decoration-color: #ff0000; font-style: italic\">False</span><span style=\"font-weight: bold\">)</span>,\n",
       "    <span style=\"font-weight: bold\">(</span><span style=\"color: #008000; text-decoration-color: #008000\">'layer3.1.bn3.weight'</span>, <span style=\"color: #ff0000; text-decoration-color: #ff0000; font-style: italic\">False</span><span style=\"font-weight: bold\">)</span>,\n",
       "    <span style=\"font-weight: bold\">(</span><span style=\"color: #008000; text-decoration-color: #008000\">'layer3.1.bn3.bias'</span>, <span style=\"color: #ff0000; text-decoration-color: #ff0000; font-style: italic\">False</span><span style=\"font-weight: bold\">)</span>,\n",
       "    <span style=\"font-weight: bold\">(</span><span style=\"color: #008000; text-decoration-color: #008000\">'layer3.1.se.fc1.weight'</span>, <span style=\"color: #ff0000; text-decoration-color: #ff0000; font-style: italic\">False</span><span style=\"font-weight: bold\">)</span>,\n",
       "    <span style=\"font-weight: bold\">(</span><span style=\"color: #008000; text-decoration-color: #008000\">'layer3.1.se.fc1.bias'</span>, <span style=\"color: #ff0000; text-decoration-color: #ff0000; font-style: italic\">False</span><span style=\"font-weight: bold\">)</span>,\n",
       "    <span style=\"font-weight: bold\">(</span><span style=\"color: #008000; text-decoration-color: #008000\">'layer3.1.se.fc2.weight'</span>, <span style=\"color: #ff0000; text-decoration-color: #ff0000; font-style: italic\">False</span><span style=\"font-weight: bold\">)</span>,\n",
       "    <span style=\"font-weight: bold\">(</span><span style=\"color: #008000; text-decoration-color: #008000\">'layer3.1.se.fc2.bias'</span>, <span style=\"color: #ff0000; text-decoration-color: #ff0000; font-style: italic\">False</span><span style=\"font-weight: bold\">)</span>,\n",
       "    <span style=\"font-weight: bold\">(</span><span style=\"color: #008000; text-decoration-color: #008000\">'layer3.2.conv1.weight'</span>, <span style=\"color: #ff0000; text-decoration-color: #ff0000; font-style: italic\">False</span><span style=\"font-weight: bold\">)</span>,\n",
       "    <span style=\"font-weight: bold\">(</span><span style=\"color: #008000; text-decoration-color: #008000\">'layer3.2.bn1.weight'</span>, <span style=\"color: #ff0000; text-decoration-color: #ff0000; font-style: italic\">False</span><span style=\"font-weight: bold\">)</span>,\n",
       "    <span style=\"font-weight: bold\">(</span><span style=\"color: #008000; text-decoration-color: #008000\">'layer3.2.bn1.bias'</span>, <span style=\"color: #ff0000; text-decoration-color: #ff0000; font-style: italic\">False</span><span style=\"font-weight: bold\">)</span>,\n",
       "    <span style=\"font-weight: bold\">(</span><span style=\"color: #008000; text-decoration-color: #008000\">'layer3.2.conv2.weight'</span>, <span style=\"color: #ff0000; text-decoration-color: #ff0000; font-style: italic\">False</span><span style=\"font-weight: bold\">)</span>,\n",
       "    <span style=\"font-weight: bold\">(</span><span style=\"color: #008000; text-decoration-color: #008000\">'layer3.2.bn2.weight'</span>, <span style=\"color: #ff0000; text-decoration-color: #ff0000; font-style: italic\">False</span><span style=\"font-weight: bold\">)</span>,\n",
       "    <span style=\"font-weight: bold\">(</span><span style=\"color: #008000; text-decoration-color: #008000\">'layer3.2.bn2.bias'</span>, <span style=\"color: #ff0000; text-decoration-color: #ff0000; font-style: italic\">False</span><span style=\"font-weight: bold\">)</span>,\n",
       "    <span style=\"font-weight: bold\">(</span><span style=\"color: #008000; text-decoration-color: #008000\">'layer3.2.conv3.weight'</span>, <span style=\"color: #ff0000; text-decoration-color: #ff0000; font-style: italic\">False</span><span style=\"font-weight: bold\">)</span>,\n",
       "    <span style=\"font-weight: bold\">(</span><span style=\"color: #008000; text-decoration-color: #008000\">'layer3.2.bn3.weight'</span>, <span style=\"color: #ff0000; text-decoration-color: #ff0000; font-style: italic\">False</span><span style=\"font-weight: bold\">)</span>,\n",
       "    <span style=\"font-weight: bold\">(</span><span style=\"color: #008000; text-decoration-color: #008000\">'layer3.2.bn3.bias'</span>, <span style=\"color: #ff0000; text-decoration-color: #ff0000; font-style: italic\">False</span><span style=\"font-weight: bold\">)</span>,\n",
       "    <span style=\"font-weight: bold\">(</span><span style=\"color: #008000; text-decoration-color: #008000\">'layer3.2.se.fc1.weight'</span>, <span style=\"color: #ff0000; text-decoration-color: #ff0000; font-style: italic\">False</span><span style=\"font-weight: bold\">)</span>,\n",
       "    <span style=\"font-weight: bold\">(</span><span style=\"color: #008000; text-decoration-color: #008000\">'layer3.2.se.fc1.bias'</span>, <span style=\"color: #ff0000; text-decoration-color: #ff0000; font-style: italic\">False</span><span style=\"font-weight: bold\">)</span>,\n",
       "    <span style=\"font-weight: bold\">(</span><span style=\"color: #008000; text-decoration-color: #008000\">'layer3.2.se.fc2.weight'</span>, <span style=\"color: #ff0000; text-decoration-color: #ff0000; font-style: italic\">False</span><span style=\"font-weight: bold\">)</span>,\n",
       "    <span style=\"font-weight: bold\">(</span><span style=\"color: #008000; text-decoration-color: #008000\">'layer3.2.se.fc2.bias'</span>, <span style=\"color: #ff0000; text-decoration-color: #ff0000; font-style: italic\">False</span><span style=\"font-weight: bold\">)</span>,\n",
       "    <span style=\"font-weight: bold\">(</span><span style=\"color: #008000; text-decoration-color: #008000\">'layer3.3.conv1.weight'</span>, <span style=\"color: #ff0000; text-decoration-color: #ff0000; font-style: italic\">False</span><span style=\"font-weight: bold\">)</span>,\n",
       "    <span style=\"font-weight: bold\">(</span><span style=\"color: #008000; text-decoration-color: #008000\">'layer3.3.bn1.weight'</span>, <span style=\"color: #ff0000; text-decoration-color: #ff0000; font-style: italic\">False</span><span style=\"font-weight: bold\">)</span>,\n",
       "    <span style=\"font-weight: bold\">(</span><span style=\"color: #008000; text-decoration-color: #008000\">'layer3.3.bn1.bias'</span>, <span style=\"color: #ff0000; text-decoration-color: #ff0000; font-style: italic\">False</span><span style=\"font-weight: bold\">)</span>,\n",
       "    <span style=\"font-weight: bold\">(</span><span style=\"color: #008000; text-decoration-color: #008000\">'layer3.3.conv2.weight'</span>, <span style=\"color: #ff0000; text-decoration-color: #ff0000; font-style: italic\">False</span><span style=\"font-weight: bold\">)</span>,\n",
       "    <span style=\"font-weight: bold\">(</span><span style=\"color: #008000; text-decoration-color: #008000\">'layer3.3.bn2.weight'</span>, <span style=\"color: #ff0000; text-decoration-color: #ff0000; font-style: italic\">False</span><span style=\"font-weight: bold\">)</span>,\n",
       "    <span style=\"font-weight: bold\">(</span><span style=\"color: #008000; text-decoration-color: #008000\">'layer3.3.bn2.bias'</span>, <span style=\"color: #ff0000; text-decoration-color: #ff0000; font-style: italic\">False</span><span style=\"font-weight: bold\">)</span>,\n",
       "    <span style=\"font-weight: bold\">(</span><span style=\"color: #008000; text-decoration-color: #008000\">'layer3.3.conv3.weight'</span>, <span style=\"color: #ff0000; text-decoration-color: #ff0000; font-style: italic\">False</span><span style=\"font-weight: bold\">)</span>,\n",
       "    <span style=\"font-weight: bold\">(</span><span style=\"color: #008000; text-decoration-color: #008000\">'layer3.3.bn3.weight'</span>, <span style=\"color: #ff0000; text-decoration-color: #ff0000; font-style: italic\">False</span><span style=\"font-weight: bold\">)</span>,\n",
       "    <span style=\"font-weight: bold\">(</span><span style=\"color: #008000; text-decoration-color: #008000\">'layer3.3.bn3.bias'</span>, <span style=\"color: #ff0000; text-decoration-color: #ff0000; font-style: italic\">False</span><span style=\"font-weight: bold\">)</span>,\n",
       "    <span style=\"font-weight: bold\">(</span><span style=\"color: #008000; text-decoration-color: #008000\">'layer3.3.se.fc1.weight'</span>, <span style=\"color: #ff0000; text-decoration-color: #ff0000; font-style: italic\">False</span><span style=\"font-weight: bold\">)</span>,\n",
       "    <span style=\"font-weight: bold\">(</span><span style=\"color: #008000; text-decoration-color: #008000\">'layer3.3.se.fc1.bias'</span>, <span style=\"color: #ff0000; text-decoration-color: #ff0000; font-style: italic\">False</span><span style=\"font-weight: bold\">)</span>,\n",
       "    <span style=\"font-weight: bold\">(</span><span style=\"color: #008000; text-decoration-color: #008000\">'layer3.3.se.fc2.weight'</span>, <span style=\"color: #ff0000; text-decoration-color: #ff0000; font-style: italic\">False</span><span style=\"font-weight: bold\">)</span>,\n",
       "    <span style=\"font-weight: bold\">(</span><span style=\"color: #008000; text-decoration-color: #008000\">'layer3.3.se.fc2.bias'</span>, <span style=\"color: #ff0000; text-decoration-color: #ff0000; font-style: italic\">False</span><span style=\"font-weight: bold\">)</span>,\n",
       "    <span style=\"font-weight: bold\">(</span><span style=\"color: #008000; text-decoration-color: #008000\">'layer3.4.conv1.weight'</span>, <span style=\"color: #ff0000; text-decoration-color: #ff0000; font-style: italic\">False</span><span style=\"font-weight: bold\">)</span>,\n",
       "    <span style=\"font-weight: bold\">(</span><span style=\"color: #008000; text-decoration-color: #008000\">'layer3.4.bn1.weight'</span>, <span style=\"color: #ff0000; text-decoration-color: #ff0000; font-style: italic\">False</span><span style=\"font-weight: bold\">)</span>,\n",
       "    <span style=\"font-weight: bold\">(</span><span style=\"color: #008000; text-decoration-color: #008000\">'layer3.4.bn1.bias'</span>, <span style=\"color: #ff0000; text-decoration-color: #ff0000; font-style: italic\">False</span><span style=\"font-weight: bold\">)</span>,\n",
       "    <span style=\"font-weight: bold\">(</span><span style=\"color: #008000; text-decoration-color: #008000\">'layer3.4.conv2.weight'</span>, <span style=\"color: #ff0000; text-decoration-color: #ff0000; font-style: italic\">False</span><span style=\"font-weight: bold\">)</span>,\n",
       "    <span style=\"font-weight: bold\">(</span><span style=\"color: #008000; text-decoration-color: #008000\">'layer3.4.bn2.weight'</span>, <span style=\"color: #ff0000; text-decoration-color: #ff0000; font-style: italic\">False</span><span style=\"font-weight: bold\">)</span>,\n",
       "    <span style=\"font-weight: bold\">(</span><span style=\"color: #008000; text-decoration-color: #008000\">'layer3.4.bn2.bias'</span>, <span style=\"color: #ff0000; text-decoration-color: #ff0000; font-style: italic\">False</span><span style=\"font-weight: bold\">)</span>,\n",
       "    <span style=\"font-weight: bold\">(</span><span style=\"color: #008000; text-decoration-color: #008000\">'layer3.4.conv3.weight'</span>, <span style=\"color: #ff0000; text-decoration-color: #ff0000; font-style: italic\">False</span><span style=\"font-weight: bold\">)</span>,\n",
       "    <span style=\"font-weight: bold\">(</span><span style=\"color: #008000; text-decoration-color: #008000\">'layer3.4.bn3.weight'</span>, <span style=\"color: #ff0000; text-decoration-color: #ff0000; font-style: italic\">False</span><span style=\"font-weight: bold\">)</span>,\n",
       "    <span style=\"font-weight: bold\">(</span><span style=\"color: #008000; text-decoration-color: #008000\">'layer3.4.bn3.bias'</span>, <span style=\"color: #ff0000; text-decoration-color: #ff0000; font-style: italic\">False</span><span style=\"font-weight: bold\">)</span>,\n",
       "    <span style=\"font-weight: bold\">(</span><span style=\"color: #008000; text-decoration-color: #008000\">'layer3.4.se.fc1.weight'</span>, <span style=\"color: #ff0000; text-decoration-color: #ff0000; font-style: italic\">False</span><span style=\"font-weight: bold\">)</span>,\n",
       "    <span style=\"font-weight: bold\">(</span><span style=\"color: #008000; text-decoration-color: #008000\">'layer3.4.se.fc1.bias'</span>, <span style=\"color: #ff0000; text-decoration-color: #ff0000; font-style: italic\">False</span><span style=\"font-weight: bold\">)</span>,\n",
       "    <span style=\"font-weight: bold\">(</span><span style=\"color: #008000; text-decoration-color: #008000\">'layer3.4.se.fc2.weight'</span>, <span style=\"color: #ff0000; text-decoration-color: #ff0000; font-style: italic\">False</span><span style=\"font-weight: bold\">)</span>,\n",
       "    <span style=\"font-weight: bold\">(</span><span style=\"color: #008000; text-decoration-color: #008000\">'layer3.4.se.fc2.bias'</span>, <span style=\"color: #ff0000; text-decoration-color: #ff0000; font-style: italic\">False</span><span style=\"font-weight: bold\">)</span>,\n",
       "    <span style=\"font-weight: bold\">(</span><span style=\"color: #008000; text-decoration-color: #008000\">'layer3.5.conv1.weight'</span>, <span style=\"color: #ff0000; text-decoration-color: #ff0000; font-style: italic\">False</span><span style=\"font-weight: bold\">)</span>,\n",
       "    <span style=\"font-weight: bold\">(</span><span style=\"color: #008000; text-decoration-color: #008000\">'layer3.5.bn1.weight'</span>, <span style=\"color: #ff0000; text-decoration-color: #ff0000; font-style: italic\">False</span><span style=\"font-weight: bold\">)</span>,\n",
       "    <span style=\"font-weight: bold\">(</span><span style=\"color: #008000; text-decoration-color: #008000\">'layer3.5.bn1.bias'</span>, <span style=\"color: #ff0000; text-decoration-color: #ff0000; font-style: italic\">False</span><span style=\"font-weight: bold\">)</span>,\n",
       "    <span style=\"font-weight: bold\">(</span><span style=\"color: #008000; text-decoration-color: #008000\">'layer3.5.conv2.weight'</span>, <span style=\"color: #ff0000; text-decoration-color: #ff0000; font-style: italic\">False</span><span style=\"font-weight: bold\">)</span>,\n",
       "    <span style=\"font-weight: bold\">(</span><span style=\"color: #008000; text-decoration-color: #008000\">'layer3.5.bn2.weight'</span>, <span style=\"color: #ff0000; text-decoration-color: #ff0000; font-style: italic\">False</span><span style=\"font-weight: bold\">)</span>,\n",
       "    <span style=\"font-weight: bold\">(</span><span style=\"color: #008000; text-decoration-color: #008000\">'layer3.5.bn2.bias'</span>, <span style=\"color: #ff0000; text-decoration-color: #ff0000; font-style: italic\">False</span><span style=\"font-weight: bold\">)</span>,\n",
       "    <span style=\"font-weight: bold\">(</span><span style=\"color: #008000; text-decoration-color: #008000\">'layer3.5.conv3.weight'</span>, <span style=\"color: #ff0000; text-decoration-color: #ff0000; font-style: italic\">False</span><span style=\"font-weight: bold\">)</span>,\n",
       "    <span style=\"font-weight: bold\">(</span><span style=\"color: #008000; text-decoration-color: #008000\">'layer3.5.bn3.weight'</span>, <span style=\"color: #ff0000; text-decoration-color: #ff0000; font-style: italic\">False</span><span style=\"font-weight: bold\">)</span>,\n",
       "    <span style=\"font-weight: bold\">(</span><span style=\"color: #008000; text-decoration-color: #008000\">'layer3.5.bn3.bias'</span>, <span style=\"color: #ff0000; text-decoration-color: #ff0000; font-style: italic\">False</span><span style=\"font-weight: bold\">)</span>,\n",
       "    <span style=\"font-weight: bold\">(</span><span style=\"color: #008000; text-decoration-color: #008000\">'layer3.5.se.fc1.weight'</span>, <span style=\"color: #ff0000; text-decoration-color: #ff0000; font-style: italic\">False</span><span style=\"font-weight: bold\">)</span>,\n",
       "    <span style=\"font-weight: bold\">(</span><span style=\"color: #008000; text-decoration-color: #008000\">'layer3.5.se.fc1.bias'</span>, <span style=\"color: #ff0000; text-decoration-color: #ff0000; font-style: italic\">False</span><span style=\"font-weight: bold\">)</span>,\n",
       "    <span style=\"font-weight: bold\">(</span><span style=\"color: #008000; text-decoration-color: #008000\">'layer3.5.se.fc2.weight'</span>, <span style=\"color: #ff0000; text-decoration-color: #ff0000; font-style: italic\">False</span><span style=\"font-weight: bold\">)</span>,\n",
       "    <span style=\"font-weight: bold\">(</span><span style=\"color: #008000; text-decoration-color: #008000\">'layer3.5.se.fc2.bias'</span>, <span style=\"color: #ff0000; text-decoration-color: #ff0000; font-style: italic\">False</span><span style=\"font-weight: bold\">)</span>,\n",
       "    <span style=\"font-weight: bold\">(</span><span style=\"color: #008000; text-decoration-color: #008000\">'layer4.0.conv1.weight'</span>, <span style=\"color: #ff0000; text-decoration-color: #ff0000; font-style: italic\">False</span><span style=\"font-weight: bold\">)</span>,\n",
       "    <span style=\"font-weight: bold\">(</span><span style=\"color: #008000; text-decoration-color: #008000\">'layer4.0.bn1.weight'</span>, <span style=\"color: #ff0000; text-decoration-color: #ff0000; font-style: italic\">False</span><span style=\"font-weight: bold\">)</span>,\n",
       "    <span style=\"font-weight: bold\">(</span><span style=\"color: #008000; text-decoration-color: #008000\">'layer4.0.bn1.bias'</span>, <span style=\"color: #ff0000; text-decoration-color: #ff0000; font-style: italic\">False</span><span style=\"font-weight: bold\">)</span>,\n",
       "    <span style=\"font-weight: bold\">(</span><span style=\"color: #008000; text-decoration-color: #008000\">'layer4.0.conv2.weight'</span>, <span style=\"color: #ff0000; text-decoration-color: #ff0000; font-style: italic\">False</span><span style=\"font-weight: bold\">)</span>,\n",
       "    <span style=\"font-weight: bold\">(</span><span style=\"color: #008000; text-decoration-color: #008000\">'layer4.0.bn2.weight'</span>, <span style=\"color: #ff0000; text-decoration-color: #ff0000; font-style: italic\">False</span><span style=\"font-weight: bold\">)</span>,\n",
       "    <span style=\"font-weight: bold\">(</span><span style=\"color: #008000; text-decoration-color: #008000\">'layer4.0.bn2.bias'</span>, <span style=\"color: #ff0000; text-decoration-color: #ff0000; font-style: italic\">False</span><span style=\"font-weight: bold\">)</span>,\n",
       "    <span style=\"font-weight: bold\">(</span><span style=\"color: #008000; text-decoration-color: #008000\">'layer4.0.conv3.weight'</span>, <span style=\"color: #ff0000; text-decoration-color: #ff0000; font-style: italic\">False</span><span style=\"font-weight: bold\">)</span>,\n",
       "    <span style=\"font-weight: bold\">(</span><span style=\"color: #008000; text-decoration-color: #008000\">'layer4.0.bn3.weight'</span>, <span style=\"color: #ff0000; text-decoration-color: #ff0000; font-style: italic\">False</span><span style=\"font-weight: bold\">)</span>,\n",
       "    <span style=\"font-weight: bold\">(</span><span style=\"color: #008000; text-decoration-color: #008000\">'layer4.0.bn3.bias'</span>, <span style=\"color: #ff0000; text-decoration-color: #ff0000; font-style: italic\">False</span><span style=\"font-weight: bold\">)</span>,\n",
       "    <span style=\"font-weight: bold\">(</span><span style=\"color: #008000; text-decoration-color: #008000\">'layer4.0.se.fc1.weight'</span>, <span style=\"color: #ff0000; text-decoration-color: #ff0000; font-style: italic\">False</span><span style=\"font-weight: bold\">)</span>,\n",
       "    <span style=\"font-weight: bold\">(</span><span style=\"color: #008000; text-decoration-color: #008000\">'layer4.0.se.fc1.bias'</span>, <span style=\"color: #ff0000; text-decoration-color: #ff0000; font-style: italic\">False</span><span style=\"font-weight: bold\">)</span>,\n",
       "    <span style=\"font-weight: bold\">(</span><span style=\"color: #008000; text-decoration-color: #008000\">'layer4.0.se.fc2.weight'</span>, <span style=\"color: #ff0000; text-decoration-color: #ff0000; font-style: italic\">False</span><span style=\"font-weight: bold\">)</span>,\n",
       "    <span style=\"font-weight: bold\">(</span><span style=\"color: #008000; text-decoration-color: #008000\">'layer4.0.se.fc2.bias'</span>, <span style=\"color: #ff0000; text-decoration-color: #ff0000; font-style: italic\">False</span><span style=\"font-weight: bold\">)</span>,\n",
       "    <span style=\"font-weight: bold\">(</span><span style=\"color: #008000; text-decoration-color: #008000\">'layer4.0.downsample.0.weight'</span>, <span style=\"color: #ff0000; text-decoration-color: #ff0000; font-style: italic\">False</span><span style=\"font-weight: bold\">)</span>,\n",
       "    <span style=\"font-weight: bold\">(</span><span style=\"color: #008000; text-decoration-color: #008000\">'layer4.0.downsample.1.weight'</span>, <span style=\"color: #ff0000; text-decoration-color: #ff0000; font-style: italic\">False</span><span style=\"font-weight: bold\">)</span>,\n",
       "    <span style=\"font-weight: bold\">(</span><span style=\"color: #008000; text-decoration-color: #008000\">'layer4.0.downsample.1.bias'</span>, <span style=\"color: #ff0000; text-decoration-color: #ff0000; font-style: italic\">False</span><span style=\"font-weight: bold\">)</span>,\n",
       "    <span style=\"font-weight: bold\">(</span><span style=\"color: #008000; text-decoration-color: #008000\">'layer4.1.conv1.weight'</span>, <span style=\"color: #ff0000; text-decoration-color: #ff0000; font-style: italic\">False</span><span style=\"font-weight: bold\">)</span>,\n",
       "    <span style=\"font-weight: bold\">(</span><span style=\"color: #008000; text-decoration-color: #008000\">'layer4.1.bn1.weight'</span>, <span style=\"color: #ff0000; text-decoration-color: #ff0000; font-style: italic\">False</span><span style=\"font-weight: bold\">)</span>,\n",
       "    <span style=\"font-weight: bold\">(</span><span style=\"color: #008000; text-decoration-color: #008000\">'layer4.1.bn1.bias'</span>, <span style=\"color: #ff0000; text-decoration-color: #ff0000; font-style: italic\">False</span><span style=\"font-weight: bold\">)</span>,\n",
       "    <span style=\"font-weight: bold\">(</span><span style=\"color: #008000; text-decoration-color: #008000\">'layer4.1.conv2.weight'</span>, <span style=\"color: #ff0000; text-decoration-color: #ff0000; font-style: italic\">False</span><span style=\"font-weight: bold\">)</span>,\n",
       "    <span style=\"font-weight: bold\">(</span><span style=\"color: #008000; text-decoration-color: #008000\">'layer4.1.bn2.weight'</span>, <span style=\"color: #ff0000; text-decoration-color: #ff0000; font-style: italic\">False</span><span style=\"font-weight: bold\">)</span>,\n",
       "    <span style=\"font-weight: bold\">(</span><span style=\"color: #008000; text-decoration-color: #008000\">'layer4.1.bn2.bias'</span>, <span style=\"color: #ff0000; text-decoration-color: #ff0000; font-style: italic\">False</span><span style=\"font-weight: bold\">)</span>,\n",
       "    <span style=\"font-weight: bold\">(</span><span style=\"color: #008000; text-decoration-color: #008000\">'layer4.1.conv3.weight'</span>, <span style=\"color: #ff0000; text-decoration-color: #ff0000; font-style: italic\">False</span><span style=\"font-weight: bold\">)</span>,\n",
       "    <span style=\"font-weight: bold\">(</span><span style=\"color: #008000; text-decoration-color: #008000\">'layer4.1.bn3.weight'</span>, <span style=\"color: #ff0000; text-decoration-color: #ff0000; font-style: italic\">False</span><span style=\"font-weight: bold\">)</span>,\n",
       "    <span style=\"font-weight: bold\">(</span><span style=\"color: #008000; text-decoration-color: #008000\">'layer4.1.bn3.bias'</span>, <span style=\"color: #ff0000; text-decoration-color: #ff0000; font-style: italic\">False</span><span style=\"font-weight: bold\">)</span>,\n",
       "    <span style=\"font-weight: bold\">(</span><span style=\"color: #008000; text-decoration-color: #008000\">'layer4.1.se.fc1.weight'</span>, <span style=\"color: #ff0000; text-decoration-color: #ff0000; font-style: italic\">False</span><span style=\"font-weight: bold\">)</span>,\n",
       "    <span style=\"font-weight: bold\">(</span><span style=\"color: #008000; text-decoration-color: #008000\">'layer4.1.se.fc1.bias'</span>, <span style=\"color: #ff0000; text-decoration-color: #ff0000; font-style: italic\">False</span><span style=\"font-weight: bold\">)</span>,\n",
       "    <span style=\"font-weight: bold\">(</span><span style=\"color: #008000; text-decoration-color: #008000\">'layer4.1.se.fc2.weight'</span>, <span style=\"color: #ff0000; text-decoration-color: #ff0000; font-style: italic\">False</span><span style=\"font-weight: bold\">)</span>,\n",
       "    <span style=\"font-weight: bold\">(</span><span style=\"color: #008000; text-decoration-color: #008000\">'layer4.1.se.fc2.bias'</span>, <span style=\"color: #ff0000; text-decoration-color: #ff0000; font-style: italic\">False</span><span style=\"font-weight: bold\">)</span>,\n",
       "    <span style=\"font-weight: bold\">(</span><span style=\"color: #008000; text-decoration-color: #008000\">'layer4.2.conv1.weight'</span>, <span style=\"color: #ff0000; text-decoration-color: #ff0000; font-style: italic\">False</span><span style=\"font-weight: bold\">)</span>,\n",
       "    <span style=\"font-weight: bold\">(</span><span style=\"color: #008000; text-decoration-color: #008000\">'layer4.2.bn1.weight'</span>, <span style=\"color: #ff0000; text-decoration-color: #ff0000; font-style: italic\">False</span><span style=\"font-weight: bold\">)</span>,\n",
       "    <span style=\"font-weight: bold\">(</span><span style=\"color: #008000; text-decoration-color: #008000\">'layer4.2.bn1.bias'</span>, <span style=\"color: #ff0000; text-decoration-color: #ff0000; font-style: italic\">False</span><span style=\"font-weight: bold\">)</span>,\n",
       "    <span style=\"font-weight: bold\">(</span><span style=\"color: #008000; text-decoration-color: #008000\">'layer4.2.conv2.weight'</span>, <span style=\"color: #ff0000; text-decoration-color: #ff0000; font-style: italic\">False</span><span style=\"font-weight: bold\">)</span>,\n",
       "    <span style=\"font-weight: bold\">(</span><span style=\"color: #008000; text-decoration-color: #008000\">'layer4.2.bn2.weight'</span>, <span style=\"color: #ff0000; text-decoration-color: #ff0000; font-style: italic\">False</span><span style=\"font-weight: bold\">)</span>,\n",
       "    <span style=\"font-weight: bold\">(</span><span style=\"color: #008000; text-decoration-color: #008000\">'layer4.2.bn2.bias'</span>, <span style=\"color: #ff0000; text-decoration-color: #ff0000; font-style: italic\">False</span><span style=\"font-weight: bold\">)</span>,\n",
       "    <span style=\"font-weight: bold\">(</span><span style=\"color: #008000; text-decoration-color: #008000\">'layer4.2.conv3.weight'</span>, <span style=\"color: #ff0000; text-decoration-color: #ff0000; font-style: italic\">False</span><span style=\"font-weight: bold\">)</span>,\n",
       "    <span style=\"font-weight: bold\">(</span><span style=\"color: #008000; text-decoration-color: #008000\">'layer4.2.bn3.weight'</span>, <span style=\"color: #ff0000; text-decoration-color: #ff0000; font-style: italic\">False</span><span style=\"font-weight: bold\">)</span>,\n",
       "    <span style=\"font-weight: bold\">(</span><span style=\"color: #008000; text-decoration-color: #008000\">'layer4.2.bn3.bias'</span>, <span style=\"color: #ff0000; text-decoration-color: #ff0000; font-style: italic\">False</span><span style=\"font-weight: bold\">)</span>,\n",
       "    <span style=\"font-weight: bold\">(</span><span style=\"color: #008000; text-decoration-color: #008000\">'layer4.2.se.fc1.weight'</span>, <span style=\"color: #ff0000; text-decoration-color: #ff0000; font-style: italic\">False</span><span style=\"font-weight: bold\">)</span>,\n",
       "    <span style=\"font-weight: bold\">(</span><span style=\"color: #008000; text-decoration-color: #008000\">'layer4.2.se.fc1.bias'</span>, <span style=\"color: #ff0000; text-decoration-color: #ff0000; font-style: italic\">False</span><span style=\"font-weight: bold\">)</span>,\n",
       "    <span style=\"font-weight: bold\">(</span><span style=\"color: #008000; text-decoration-color: #008000\">'layer4.2.se.fc2.weight'</span>, <span style=\"color: #ff0000; text-decoration-color: #ff0000; font-style: italic\">False</span><span style=\"font-weight: bold\">)</span>,\n",
       "    <span style=\"font-weight: bold\">(</span><span style=\"color: #008000; text-decoration-color: #008000\">'layer4.2.se.fc2.bias'</span>, <span style=\"color: #ff0000; text-decoration-color: #ff0000; font-style: italic\">False</span><span style=\"font-weight: bold\">)</span>\n",
       "<span style=\"font-weight: bold\">]</span>\n",
       "</pre>\n"
      ],
      "text/plain": [
       "\u001b[1m[\u001b[0m\n",
       "    \u001b[1m(\u001b[0m\u001b[32m'conv1.weight'\u001b[0m, \u001b[3;91mFalse\u001b[0m\u001b[1m)\u001b[0m,\n",
       "    \u001b[1m(\u001b[0m\u001b[32m'bn1.weight'\u001b[0m, \u001b[3;91mFalse\u001b[0m\u001b[1m)\u001b[0m,\n",
       "    \u001b[1m(\u001b[0m\u001b[32m'bn1.bias'\u001b[0m, \u001b[3;91mFalse\u001b[0m\u001b[1m)\u001b[0m,\n",
       "    \u001b[1m(\u001b[0m\u001b[32m'layer1.0.conv1.weight'\u001b[0m, \u001b[3;91mFalse\u001b[0m\u001b[1m)\u001b[0m,\n",
       "    \u001b[1m(\u001b[0m\u001b[32m'layer1.0.bn1.weight'\u001b[0m, \u001b[3;91mFalse\u001b[0m\u001b[1m)\u001b[0m,\n",
       "    \u001b[1m(\u001b[0m\u001b[32m'layer1.0.bn1.bias'\u001b[0m, \u001b[3;91mFalse\u001b[0m\u001b[1m)\u001b[0m,\n",
       "    \u001b[1m(\u001b[0m\u001b[32m'layer1.0.conv2.weight'\u001b[0m, \u001b[3;91mFalse\u001b[0m\u001b[1m)\u001b[0m,\n",
       "    \u001b[1m(\u001b[0m\u001b[32m'layer1.0.bn2.weight'\u001b[0m, \u001b[3;91mFalse\u001b[0m\u001b[1m)\u001b[0m,\n",
       "    \u001b[1m(\u001b[0m\u001b[32m'layer1.0.bn2.bias'\u001b[0m, \u001b[3;91mFalse\u001b[0m\u001b[1m)\u001b[0m,\n",
       "    \u001b[1m(\u001b[0m\u001b[32m'layer1.0.conv3.weight'\u001b[0m, \u001b[3;91mFalse\u001b[0m\u001b[1m)\u001b[0m,\n",
       "    \u001b[1m(\u001b[0m\u001b[32m'layer1.0.bn3.weight'\u001b[0m, \u001b[3;91mFalse\u001b[0m\u001b[1m)\u001b[0m,\n",
       "    \u001b[1m(\u001b[0m\u001b[32m'layer1.0.bn3.bias'\u001b[0m, \u001b[3;91mFalse\u001b[0m\u001b[1m)\u001b[0m,\n",
       "    \u001b[1m(\u001b[0m\u001b[32m'layer1.0.se.fc1.weight'\u001b[0m, \u001b[3;91mFalse\u001b[0m\u001b[1m)\u001b[0m,\n",
       "    \u001b[1m(\u001b[0m\u001b[32m'layer1.0.se.fc1.bias'\u001b[0m, \u001b[3;91mFalse\u001b[0m\u001b[1m)\u001b[0m,\n",
       "    \u001b[1m(\u001b[0m\u001b[32m'layer1.0.se.fc2.weight'\u001b[0m, \u001b[3;91mFalse\u001b[0m\u001b[1m)\u001b[0m,\n",
       "    \u001b[1m(\u001b[0m\u001b[32m'layer1.0.se.fc2.bias'\u001b[0m, \u001b[3;91mFalse\u001b[0m\u001b[1m)\u001b[0m,\n",
       "    \u001b[1m(\u001b[0m\u001b[32m'layer1.0.downsample.0.weight'\u001b[0m, \u001b[3;91mFalse\u001b[0m\u001b[1m)\u001b[0m,\n",
       "    \u001b[1m(\u001b[0m\u001b[32m'layer1.0.downsample.1.weight'\u001b[0m, \u001b[3;91mFalse\u001b[0m\u001b[1m)\u001b[0m,\n",
       "    \u001b[1m(\u001b[0m\u001b[32m'layer1.0.downsample.1.bias'\u001b[0m, \u001b[3;91mFalse\u001b[0m\u001b[1m)\u001b[0m,\n",
       "    \u001b[1m(\u001b[0m\u001b[32m'layer1.1.conv1.weight'\u001b[0m, \u001b[3;91mFalse\u001b[0m\u001b[1m)\u001b[0m,\n",
       "    \u001b[1m(\u001b[0m\u001b[32m'layer1.1.bn1.weight'\u001b[0m, \u001b[3;91mFalse\u001b[0m\u001b[1m)\u001b[0m,\n",
       "    \u001b[1m(\u001b[0m\u001b[32m'layer1.1.bn1.bias'\u001b[0m, \u001b[3;91mFalse\u001b[0m\u001b[1m)\u001b[0m,\n",
       "    \u001b[1m(\u001b[0m\u001b[32m'layer1.1.conv2.weight'\u001b[0m, \u001b[3;91mFalse\u001b[0m\u001b[1m)\u001b[0m,\n",
       "    \u001b[1m(\u001b[0m\u001b[32m'layer1.1.bn2.weight'\u001b[0m, \u001b[3;91mFalse\u001b[0m\u001b[1m)\u001b[0m,\n",
       "    \u001b[1m(\u001b[0m\u001b[32m'layer1.1.bn2.bias'\u001b[0m, \u001b[3;91mFalse\u001b[0m\u001b[1m)\u001b[0m,\n",
       "    \u001b[1m(\u001b[0m\u001b[32m'layer1.1.conv3.weight'\u001b[0m, \u001b[3;91mFalse\u001b[0m\u001b[1m)\u001b[0m,\n",
       "    \u001b[1m(\u001b[0m\u001b[32m'layer1.1.bn3.weight'\u001b[0m, \u001b[3;91mFalse\u001b[0m\u001b[1m)\u001b[0m,\n",
       "    \u001b[1m(\u001b[0m\u001b[32m'layer1.1.bn3.bias'\u001b[0m, \u001b[3;91mFalse\u001b[0m\u001b[1m)\u001b[0m,\n",
       "    \u001b[1m(\u001b[0m\u001b[32m'layer1.1.se.fc1.weight'\u001b[0m, \u001b[3;91mFalse\u001b[0m\u001b[1m)\u001b[0m,\n",
       "    \u001b[1m(\u001b[0m\u001b[32m'layer1.1.se.fc1.bias'\u001b[0m, \u001b[3;91mFalse\u001b[0m\u001b[1m)\u001b[0m,\n",
       "    \u001b[1m(\u001b[0m\u001b[32m'layer1.1.se.fc2.weight'\u001b[0m, \u001b[3;91mFalse\u001b[0m\u001b[1m)\u001b[0m,\n",
       "    \u001b[1m(\u001b[0m\u001b[32m'layer1.1.se.fc2.bias'\u001b[0m, \u001b[3;91mFalse\u001b[0m\u001b[1m)\u001b[0m,\n",
       "    \u001b[1m(\u001b[0m\u001b[32m'layer1.2.conv1.weight'\u001b[0m, \u001b[3;91mFalse\u001b[0m\u001b[1m)\u001b[0m,\n",
       "    \u001b[1m(\u001b[0m\u001b[32m'layer1.2.bn1.weight'\u001b[0m, \u001b[3;91mFalse\u001b[0m\u001b[1m)\u001b[0m,\n",
       "    \u001b[1m(\u001b[0m\u001b[32m'layer1.2.bn1.bias'\u001b[0m, \u001b[3;91mFalse\u001b[0m\u001b[1m)\u001b[0m,\n",
       "    \u001b[1m(\u001b[0m\u001b[32m'layer1.2.conv2.weight'\u001b[0m, \u001b[3;91mFalse\u001b[0m\u001b[1m)\u001b[0m,\n",
       "    \u001b[1m(\u001b[0m\u001b[32m'layer1.2.bn2.weight'\u001b[0m, \u001b[3;91mFalse\u001b[0m\u001b[1m)\u001b[0m,\n",
       "    \u001b[1m(\u001b[0m\u001b[32m'layer1.2.bn2.bias'\u001b[0m, \u001b[3;91mFalse\u001b[0m\u001b[1m)\u001b[0m,\n",
       "    \u001b[1m(\u001b[0m\u001b[32m'layer1.2.conv3.weight'\u001b[0m, \u001b[3;91mFalse\u001b[0m\u001b[1m)\u001b[0m,\n",
       "    \u001b[1m(\u001b[0m\u001b[32m'layer1.2.bn3.weight'\u001b[0m, \u001b[3;91mFalse\u001b[0m\u001b[1m)\u001b[0m,\n",
       "    \u001b[1m(\u001b[0m\u001b[32m'layer1.2.bn3.bias'\u001b[0m, \u001b[3;91mFalse\u001b[0m\u001b[1m)\u001b[0m,\n",
       "    \u001b[1m(\u001b[0m\u001b[32m'layer1.2.se.fc1.weight'\u001b[0m, \u001b[3;91mFalse\u001b[0m\u001b[1m)\u001b[0m,\n",
       "    \u001b[1m(\u001b[0m\u001b[32m'layer1.2.se.fc1.bias'\u001b[0m, \u001b[3;91mFalse\u001b[0m\u001b[1m)\u001b[0m,\n",
       "    \u001b[1m(\u001b[0m\u001b[32m'layer1.2.se.fc2.weight'\u001b[0m, \u001b[3;91mFalse\u001b[0m\u001b[1m)\u001b[0m,\n",
       "    \u001b[1m(\u001b[0m\u001b[32m'layer1.2.se.fc2.bias'\u001b[0m, \u001b[3;91mFalse\u001b[0m\u001b[1m)\u001b[0m,\n",
       "    \u001b[1m(\u001b[0m\u001b[32m'layer2.0.conv1.weight'\u001b[0m, \u001b[3;91mFalse\u001b[0m\u001b[1m)\u001b[0m,\n",
       "    \u001b[1m(\u001b[0m\u001b[32m'layer2.0.bn1.weight'\u001b[0m, \u001b[3;91mFalse\u001b[0m\u001b[1m)\u001b[0m,\n",
       "    \u001b[1m(\u001b[0m\u001b[32m'layer2.0.bn1.bias'\u001b[0m, \u001b[3;91mFalse\u001b[0m\u001b[1m)\u001b[0m,\n",
       "    \u001b[1m(\u001b[0m\u001b[32m'layer2.0.conv2.weight'\u001b[0m, \u001b[3;91mFalse\u001b[0m\u001b[1m)\u001b[0m,\n",
       "    \u001b[1m(\u001b[0m\u001b[32m'layer2.0.bn2.weight'\u001b[0m, \u001b[3;91mFalse\u001b[0m\u001b[1m)\u001b[0m,\n",
       "    \u001b[1m(\u001b[0m\u001b[32m'layer2.0.bn2.bias'\u001b[0m, \u001b[3;91mFalse\u001b[0m\u001b[1m)\u001b[0m,\n",
       "    \u001b[1m(\u001b[0m\u001b[32m'layer2.0.conv3.weight'\u001b[0m, \u001b[3;91mFalse\u001b[0m\u001b[1m)\u001b[0m,\n",
       "    \u001b[1m(\u001b[0m\u001b[32m'layer2.0.bn3.weight'\u001b[0m, \u001b[3;91mFalse\u001b[0m\u001b[1m)\u001b[0m,\n",
       "    \u001b[1m(\u001b[0m\u001b[32m'layer2.0.bn3.bias'\u001b[0m, \u001b[3;91mFalse\u001b[0m\u001b[1m)\u001b[0m,\n",
       "    \u001b[1m(\u001b[0m\u001b[32m'layer2.0.se.fc1.weight'\u001b[0m, \u001b[3;91mFalse\u001b[0m\u001b[1m)\u001b[0m,\n",
       "    \u001b[1m(\u001b[0m\u001b[32m'layer2.0.se.fc1.bias'\u001b[0m, \u001b[3;91mFalse\u001b[0m\u001b[1m)\u001b[0m,\n",
       "    \u001b[1m(\u001b[0m\u001b[32m'layer2.0.se.fc2.weight'\u001b[0m, \u001b[3;91mFalse\u001b[0m\u001b[1m)\u001b[0m,\n",
       "    \u001b[1m(\u001b[0m\u001b[32m'layer2.0.se.fc2.bias'\u001b[0m, \u001b[3;91mFalse\u001b[0m\u001b[1m)\u001b[0m,\n",
       "    \u001b[1m(\u001b[0m\u001b[32m'layer2.0.downsample.0.weight'\u001b[0m, \u001b[3;91mFalse\u001b[0m\u001b[1m)\u001b[0m,\n",
       "    \u001b[1m(\u001b[0m\u001b[32m'layer2.0.downsample.1.weight'\u001b[0m, \u001b[3;91mFalse\u001b[0m\u001b[1m)\u001b[0m,\n",
       "    \u001b[1m(\u001b[0m\u001b[32m'layer2.0.downsample.1.bias'\u001b[0m, \u001b[3;91mFalse\u001b[0m\u001b[1m)\u001b[0m,\n",
       "    \u001b[1m(\u001b[0m\u001b[32m'layer2.1.conv1.weight'\u001b[0m, \u001b[3;91mFalse\u001b[0m\u001b[1m)\u001b[0m,\n",
       "    \u001b[1m(\u001b[0m\u001b[32m'layer2.1.bn1.weight'\u001b[0m, \u001b[3;91mFalse\u001b[0m\u001b[1m)\u001b[0m,\n",
       "    \u001b[1m(\u001b[0m\u001b[32m'layer2.1.bn1.bias'\u001b[0m, \u001b[3;91mFalse\u001b[0m\u001b[1m)\u001b[0m,\n",
       "    \u001b[1m(\u001b[0m\u001b[32m'layer2.1.conv2.weight'\u001b[0m, \u001b[3;91mFalse\u001b[0m\u001b[1m)\u001b[0m,\n",
       "    \u001b[1m(\u001b[0m\u001b[32m'layer2.1.bn2.weight'\u001b[0m, \u001b[3;91mFalse\u001b[0m\u001b[1m)\u001b[0m,\n",
       "    \u001b[1m(\u001b[0m\u001b[32m'layer2.1.bn2.bias'\u001b[0m, \u001b[3;91mFalse\u001b[0m\u001b[1m)\u001b[0m,\n",
       "    \u001b[1m(\u001b[0m\u001b[32m'layer2.1.conv3.weight'\u001b[0m, \u001b[3;91mFalse\u001b[0m\u001b[1m)\u001b[0m,\n",
       "    \u001b[1m(\u001b[0m\u001b[32m'layer2.1.bn3.weight'\u001b[0m, \u001b[3;91mFalse\u001b[0m\u001b[1m)\u001b[0m,\n",
       "    \u001b[1m(\u001b[0m\u001b[32m'layer2.1.bn3.bias'\u001b[0m, \u001b[3;91mFalse\u001b[0m\u001b[1m)\u001b[0m,\n",
       "    \u001b[1m(\u001b[0m\u001b[32m'layer2.1.se.fc1.weight'\u001b[0m, \u001b[3;91mFalse\u001b[0m\u001b[1m)\u001b[0m,\n",
       "    \u001b[1m(\u001b[0m\u001b[32m'layer2.1.se.fc1.bias'\u001b[0m, \u001b[3;91mFalse\u001b[0m\u001b[1m)\u001b[0m,\n",
       "    \u001b[1m(\u001b[0m\u001b[32m'layer2.1.se.fc2.weight'\u001b[0m, \u001b[3;91mFalse\u001b[0m\u001b[1m)\u001b[0m,\n",
       "    \u001b[1m(\u001b[0m\u001b[32m'layer2.1.se.fc2.bias'\u001b[0m, \u001b[3;91mFalse\u001b[0m\u001b[1m)\u001b[0m,\n",
       "    \u001b[1m(\u001b[0m\u001b[32m'layer2.2.conv1.weight'\u001b[0m, \u001b[3;91mFalse\u001b[0m\u001b[1m)\u001b[0m,\n",
       "    \u001b[1m(\u001b[0m\u001b[32m'layer2.2.bn1.weight'\u001b[0m, \u001b[3;91mFalse\u001b[0m\u001b[1m)\u001b[0m,\n",
       "    \u001b[1m(\u001b[0m\u001b[32m'layer2.2.bn1.bias'\u001b[0m, \u001b[3;91mFalse\u001b[0m\u001b[1m)\u001b[0m,\n",
       "    \u001b[1m(\u001b[0m\u001b[32m'layer2.2.conv2.weight'\u001b[0m, \u001b[3;91mFalse\u001b[0m\u001b[1m)\u001b[0m,\n",
       "    \u001b[1m(\u001b[0m\u001b[32m'layer2.2.bn2.weight'\u001b[0m, \u001b[3;91mFalse\u001b[0m\u001b[1m)\u001b[0m,\n",
       "    \u001b[1m(\u001b[0m\u001b[32m'layer2.2.bn2.bias'\u001b[0m, \u001b[3;91mFalse\u001b[0m\u001b[1m)\u001b[0m,\n",
       "    \u001b[1m(\u001b[0m\u001b[32m'layer2.2.conv3.weight'\u001b[0m, \u001b[3;91mFalse\u001b[0m\u001b[1m)\u001b[0m,\n",
       "    \u001b[1m(\u001b[0m\u001b[32m'layer2.2.bn3.weight'\u001b[0m, \u001b[3;91mFalse\u001b[0m\u001b[1m)\u001b[0m,\n",
       "    \u001b[1m(\u001b[0m\u001b[32m'layer2.2.bn3.bias'\u001b[0m, \u001b[3;91mFalse\u001b[0m\u001b[1m)\u001b[0m,\n",
       "    \u001b[1m(\u001b[0m\u001b[32m'layer2.2.se.fc1.weight'\u001b[0m, \u001b[3;91mFalse\u001b[0m\u001b[1m)\u001b[0m,\n",
       "    \u001b[1m(\u001b[0m\u001b[32m'layer2.2.se.fc1.bias'\u001b[0m, \u001b[3;91mFalse\u001b[0m\u001b[1m)\u001b[0m,\n",
       "    \u001b[1m(\u001b[0m\u001b[32m'layer2.2.se.fc2.weight'\u001b[0m, \u001b[3;91mFalse\u001b[0m\u001b[1m)\u001b[0m,\n",
       "    \u001b[1m(\u001b[0m\u001b[32m'layer2.2.se.fc2.bias'\u001b[0m, \u001b[3;91mFalse\u001b[0m\u001b[1m)\u001b[0m,\n",
       "    \u001b[1m(\u001b[0m\u001b[32m'layer2.3.conv1.weight'\u001b[0m, \u001b[3;91mFalse\u001b[0m\u001b[1m)\u001b[0m,\n",
       "    \u001b[1m(\u001b[0m\u001b[32m'layer2.3.bn1.weight'\u001b[0m, \u001b[3;91mFalse\u001b[0m\u001b[1m)\u001b[0m,\n",
       "    \u001b[1m(\u001b[0m\u001b[32m'layer2.3.bn1.bias'\u001b[0m, \u001b[3;91mFalse\u001b[0m\u001b[1m)\u001b[0m,\n",
       "    \u001b[1m(\u001b[0m\u001b[32m'layer2.3.conv2.weight'\u001b[0m, \u001b[3;91mFalse\u001b[0m\u001b[1m)\u001b[0m,\n",
       "    \u001b[1m(\u001b[0m\u001b[32m'layer2.3.bn2.weight'\u001b[0m, \u001b[3;91mFalse\u001b[0m\u001b[1m)\u001b[0m,\n",
       "    \u001b[1m(\u001b[0m\u001b[32m'layer2.3.bn2.bias'\u001b[0m, \u001b[3;91mFalse\u001b[0m\u001b[1m)\u001b[0m,\n",
       "    \u001b[1m(\u001b[0m\u001b[32m'layer2.3.conv3.weight'\u001b[0m, \u001b[3;91mFalse\u001b[0m\u001b[1m)\u001b[0m,\n",
       "    \u001b[1m(\u001b[0m\u001b[32m'layer2.3.bn3.weight'\u001b[0m, \u001b[3;91mFalse\u001b[0m\u001b[1m)\u001b[0m,\n",
       "    \u001b[1m(\u001b[0m\u001b[32m'layer2.3.bn3.bias'\u001b[0m, \u001b[3;91mFalse\u001b[0m\u001b[1m)\u001b[0m,\n",
       "    \u001b[1m(\u001b[0m\u001b[32m'layer2.3.se.fc1.weight'\u001b[0m, \u001b[3;91mFalse\u001b[0m\u001b[1m)\u001b[0m,\n",
       "    \u001b[1m(\u001b[0m\u001b[32m'layer2.3.se.fc1.bias'\u001b[0m, \u001b[3;91mFalse\u001b[0m\u001b[1m)\u001b[0m,\n",
       "    \u001b[1m(\u001b[0m\u001b[32m'layer2.3.se.fc2.weight'\u001b[0m, \u001b[3;91mFalse\u001b[0m\u001b[1m)\u001b[0m,\n",
       "    \u001b[1m(\u001b[0m\u001b[32m'layer2.3.se.fc2.bias'\u001b[0m, \u001b[3;91mFalse\u001b[0m\u001b[1m)\u001b[0m,\n",
       "    \u001b[1m(\u001b[0m\u001b[32m'layer3.0.conv1.weight'\u001b[0m, \u001b[3;91mFalse\u001b[0m\u001b[1m)\u001b[0m,\n",
       "    \u001b[1m(\u001b[0m\u001b[32m'layer3.0.bn1.weight'\u001b[0m, \u001b[3;91mFalse\u001b[0m\u001b[1m)\u001b[0m,\n",
       "    \u001b[1m(\u001b[0m\u001b[32m'layer3.0.bn1.bias'\u001b[0m, \u001b[3;91mFalse\u001b[0m\u001b[1m)\u001b[0m,\n",
       "    \u001b[1m(\u001b[0m\u001b[32m'layer3.0.conv2.weight'\u001b[0m, \u001b[3;91mFalse\u001b[0m\u001b[1m)\u001b[0m,\n",
       "    \u001b[1m(\u001b[0m\u001b[32m'layer3.0.bn2.weight'\u001b[0m, \u001b[3;91mFalse\u001b[0m\u001b[1m)\u001b[0m,\n",
       "    \u001b[1m(\u001b[0m\u001b[32m'layer3.0.bn2.bias'\u001b[0m, \u001b[3;91mFalse\u001b[0m\u001b[1m)\u001b[0m,\n",
       "    \u001b[1m(\u001b[0m\u001b[32m'layer3.0.conv3.weight'\u001b[0m, \u001b[3;91mFalse\u001b[0m\u001b[1m)\u001b[0m,\n",
       "    \u001b[1m(\u001b[0m\u001b[32m'layer3.0.bn3.weight'\u001b[0m, \u001b[3;91mFalse\u001b[0m\u001b[1m)\u001b[0m,\n",
       "    \u001b[1m(\u001b[0m\u001b[32m'layer3.0.bn3.bias'\u001b[0m, \u001b[3;91mFalse\u001b[0m\u001b[1m)\u001b[0m,\n",
       "    \u001b[1m(\u001b[0m\u001b[32m'layer3.0.se.fc1.weight'\u001b[0m, \u001b[3;91mFalse\u001b[0m\u001b[1m)\u001b[0m,\n",
       "    \u001b[1m(\u001b[0m\u001b[32m'layer3.0.se.fc1.bias'\u001b[0m, \u001b[3;91mFalse\u001b[0m\u001b[1m)\u001b[0m,\n",
       "    \u001b[1m(\u001b[0m\u001b[32m'layer3.0.se.fc2.weight'\u001b[0m, \u001b[3;91mFalse\u001b[0m\u001b[1m)\u001b[0m,\n",
       "    \u001b[1m(\u001b[0m\u001b[32m'layer3.0.se.fc2.bias'\u001b[0m, \u001b[3;91mFalse\u001b[0m\u001b[1m)\u001b[0m,\n",
       "    \u001b[1m(\u001b[0m\u001b[32m'layer3.0.downsample.0.weight'\u001b[0m, \u001b[3;91mFalse\u001b[0m\u001b[1m)\u001b[0m,\n",
       "    \u001b[1m(\u001b[0m\u001b[32m'layer3.0.downsample.1.weight'\u001b[0m, \u001b[3;91mFalse\u001b[0m\u001b[1m)\u001b[0m,\n",
       "    \u001b[1m(\u001b[0m\u001b[32m'layer3.0.downsample.1.bias'\u001b[0m, \u001b[3;91mFalse\u001b[0m\u001b[1m)\u001b[0m,\n",
       "    \u001b[1m(\u001b[0m\u001b[32m'layer3.1.conv1.weight'\u001b[0m, \u001b[3;91mFalse\u001b[0m\u001b[1m)\u001b[0m,\n",
       "    \u001b[1m(\u001b[0m\u001b[32m'layer3.1.bn1.weight'\u001b[0m, \u001b[3;91mFalse\u001b[0m\u001b[1m)\u001b[0m,\n",
       "    \u001b[1m(\u001b[0m\u001b[32m'layer3.1.bn1.bias'\u001b[0m, \u001b[3;91mFalse\u001b[0m\u001b[1m)\u001b[0m,\n",
       "    \u001b[1m(\u001b[0m\u001b[32m'layer3.1.conv2.weight'\u001b[0m, \u001b[3;91mFalse\u001b[0m\u001b[1m)\u001b[0m,\n",
       "    \u001b[1m(\u001b[0m\u001b[32m'layer3.1.bn2.weight'\u001b[0m, \u001b[3;91mFalse\u001b[0m\u001b[1m)\u001b[0m,\n",
       "    \u001b[1m(\u001b[0m\u001b[32m'layer3.1.bn2.bias'\u001b[0m, \u001b[3;91mFalse\u001b[0m\u001b[1m)\u001b[0m,\n",
       "    \u001b[1m(\u001b[0m\u001b[32m'layer3.1.conv3.weight'\u001b[0m, \u001b[3;91mFalse\u001b[0m\u001b[1m)\u001b[0m,\n",
       "    \u001b[1m(\u001b[0m\u001b[32m'layer3.1.bn3.weight'\u001b[0m, \u001b[3;91mFalse\u001b[0m\u001b[1m)\u001b[0m,\n",
       "    \u001b[1m(\u001b[0m\u001b[32m'layer3.1.bn3.bias'\u001b[0m, \u001b[3;91mFalse\u001b[0m\u001b[1m)\u001b[0m,\n",
       "    \u001b[1m(\u001b[0m\u001b[32m'layer3.1.se.fc1.weight'\u001b[0m, \u001b[3;91mFalse\u001b[0m\u001b[1m)\u001b[0m,\n",
       "    \u001b[1m(\u001b[0m\u001b[32m'layer3.1.se.fc1.bias'\u001b[0m, \u001b[3;91mFalse\u001b[0m\u001b[1m)\u001b[0m,\n",
       "    \u001b[1m(\u001b[0m\u001b[32m'layer3.1.se.fc2.weight'\u001b[0m, \u001b[3;91mFalse\u001b[0m\u001b[1m)\u001b[0m,\n",
       "    \u001b[1m(\u001b[0m\u001b[32m'layer3.1.se.fc2.bias'\u001b[0m, \u001b[3;91mFalse\u001b[0m\u001b[1m)\u001b[0m,\n",
       "    \u001b[1m(\u001b[0m\u001b[32m'layer3.2.conv1.weight'\u001b[0m, \u001b[3;91mFalse\u001b[0m\u001b[1m)\u001b[0m,\n",
       "    \u001b[1m(\u001b[0m\u001b[32m'layer3.2.bn1.weight'\u001b[0m, \u001b[3;91mFalse\u001b[0m\u001b[1m)\u001b[0m,\n",
       "    \u001b[1m(\u001b[0m\u001b[32m'layer3.2.bn1.bias'\u001b[0m, \u001b[3;91mFalse\u001b[0m\u001b[1m)\u001b[0m,\n",
       "    \u001b[1m(\u001b[0m\u001b[32m'layer3.2.conv2.weight'\u001b[0m, \u001b[3;91mFalse\u001b[0m\u001b[1m)\u001b[0m,\n",
       "    \u001b[1m(\u001b[0m\u001b[32m'layer3.2.bn2.weight'\u001b[0m, \u001b[3;91mFalse\u001b[0m\u001b[1m)\u001b[0m,\n",
       "    \u001b[1m(\u001b[0m\u001b[32m'layer3.2.bn2.bias'\u001b[0m, \u001b[3;91mFalse\u001b[0m\u001b[1m)\u001b[0m,\n",
       "    \u001b[1m(\u001b[0m\u001b[32m'layer3.2.conv3.weight'\u001b[0m, \u001b[3;91mFalse\u001b[0m\u001b[1m)\u001b[0m,\n",
       "    \u001b[1m(\u001b[0m\u001b[32m'layer3.2.bn3.weight'\u001b[0m, \u001b[3;91mFalse\u001b[0m\u001b[1m)\u001b[0m,\n",
       "    \u001b[1m(\u001b[0m\u001b[32m'layer3.2.bn3.bias'\u001b[0m, \u001b[3;91mFalse\u001b[0m\u001b[1m)\u001b[0m,\n",
       "    \u001b[1m(\u001b[0m\u001b[32m'layer3.2.se.fc1.weight'\u001b[0m, \u001b[3;91mFalse\u001b[0m\u001b[1m)\u001b[0m,\n",
       "    \u001b[1m(\u001b[0m\u001b[32m'layer3.2.se.fc1.bias'\u001b[0m, \u001b[3;91mFalse\u001b[0m\u001b[1m)\u001b[0m,\n",
       "    \u001b[1m(\u001b[0m\u001b[32m'layer3.2.se.fc2.weight'\u001b[0m, \u001b[3;91mFalse\u001b[0m\u001b[1m)\u001b[0m,\n",
       "    \u001b[1m(\u001b[0m\u001b[32m'layer3.2.se.fc2.bias'\u001b[0m, \u001b[3;91mFalse\u001b[0m\u001b[1m)\u001b[0m,\n",
       "    \u001b[1m(\u001b[0m\u001b[32m'layer3.3.conv1.weight'\u001b[0m, \u001b[3;91mFalse\u001b[0m\u001b[1m)\u001b[0m,\n",
       "    \u001b[1m(\u001b[0m\u001b[32m'layer3.3.bn1.weight'\u001b[0m, \u001b[3;91mFalse\u001b[0m\u001b[1m)\u001b[0m,\n",
       "    \u001b[1m(\u001b[0m\u001b[32m'layer3.3.bn1.bias'\u001b[0m, \u001b[3;91mFalse\u001b[0m\u001b[1m)\u001b[0m,\n",
       "    \u001b[1m(\u001b[0m\u001b[32m'layer3.3.conv2.weight'\u001b[0m, \u001b[3;91mFalse\u001b[0m\u001b[1m)\u001b[0m,\n",
       "    \u001b[1m(\u001b[0m\u001b[32m'layer3.3.bn2.weight'\u001b[0m, \u001b[3;91mFalse\u001b[0m\u001b[1m)\u001b[0m,\n",
       "    \u001b[1m(\u001b[0m\u001b[32m'layer3.3.bn2.bias'\u001b[0m, \u001b[3;91mFalse\u001b[0m\u001b[1m)\u001b[0m,\n",
       "    \u001b[1m(\u001b[0m\u001b[32m'layer3.3.conv3.weight'\u001b[0m, \u001b[3;91mFalse\u001b[0m\u001b[1m)\u001b[0m,\n",
       "    \u001b[1m(\u001b[0m\u001b[32m'layer3.3.bn3.weight'\u001b[0m, \u001b[3;91mFalse\u001b[0m\u001b[1m)\u001b[0m,\n",
       "    \u001b[1m(\u001b[0m\u001b[32m'layer3.3.bn3.bias'\u001b[0m, \u001b[3;91mFalse\u001b[0m\u001b[1m)\u001b[0m,\n",
       "    \u001b[1m(\u001b[0m\u001b[32m'layer3.3.se.fc1.weight'\u001b[0m, \u001b[3;91mFalse\u001b[0m\u001b[1m)\u001b[0m,\n",
       "    \u001b[1m(\u001b[0m\u001b[32m'layer3.3.se.fc1.bias'\u001b[0m, \u001b[3;91mFalse\u001b[0m\u001b[1m)\u001b[0m,\n",
       "    \u001b[1m(\u001b[0m\u001b[32m'layer3.3.se.fc2.weight'\u001b[0m, \u001b[3;91mFalse\u001b[0m\u001b[1m)\u001b[0m,\n",
       "    \u001b[1m(\u001b[0m\u001b[32m'layer3.3.se.fc2.bias'\u001b[0m, \u001b[3;91mFalse\u001b[0m\u001b[1m)\u001b[0m,\n",
       "    \u001b[1m(\u001b[0m\u001b[32m'layer3.4.conv1.weight'\u001b[0m, \u001b[3;91mFalse\u001b[0m\u001b[1m)\u001b[0m,\n",
       "    \u001b[1m(\u001b[0m\u001b[32m'layer3.4.bn1.weight'\u001b[0m, \u001b[3;91mFalse\u001b[0m\u001b[1m)\u001b[0m,\n",
       "    \u001b[1m(\u001b[0m\u001b[32m'layer3.4.bn1.bias'\u001b[0m, \u001b[3;91mFalse\u001b[0m\u001b[1m)\u001b[0m,\n",
       "    \u001b[1m(\u001b[0m\u001b[32m'layer3.4.conv2.weight'\u001b[0m, \u001b[3;91mFalse\u001b[0m\u001b[1m)\u001b[0m,\n",
       "    \u001b[1m(\u001b[0m\u001b[32m'layer3.4.bn2.weight'\u001b[0m, \u001b[3;91mFalse\u001b[0m\u001b[1m)\u001b[0m,\n",
       "    \u001b[1m(\u001b[0m\u001b[32m'layer3.4.bn2.bias'\u001b[0m, \u001b[3;91mFalse\u001b[0m\u001b[1m)\u001b[0m,\n",
       "    \u001b[1m(\u001b[0m\u001b[32m'layer3.4.conv3.weight'\u001b[0m, \u001b[3;91mFalse\u001b[0m\u001b[1m)\u001b[0m,\n",
       "    \u001b[1m(\u001b[0m\u001b[32m'layer3.4.bn3.weight'\u001b[0m, \u001b[3;91mFalse\u001b[0m\u001b[1m)\u001b[0m,\n",
       "    \u001b[1m(\u001b[0m\u001b[32m'layer3.4.bn3.bias'\u001b[0m, \u001b[3;91mFalse\u001b[0m\u001b[1m)\u001b[0m,\n",
       "    \u001b[1m(\u001b[0m\u001b[32m'layer3.4.se.fc1.weight'\u001b[0m, \u001b[3;91mFalse\u001b[0m\u001b[1m)\u001b[0m,\n",
       "    \u001b[1m(\u001b[0m\u001b[32m'layer3.4.se.fc1.bias'\u001b[0m, \u001b[3;91mFalse\u001b[0m\u001b[1m)\u001b[0m,\n",
       "    \u001b[1m(\u001b[0m\u001b[32m'layer3.4.se.fc2.weight'\u001b[0m, \u001b[3;91mFalse\u001b[0m\u001b[1m)\u001b[0m,\n",
       "    \u001b[1m(\u001b[0m\u001b[32m'layer3.4.se.fc2.bias'\u001b[0m, \u001b[3;91mFalse\u001b[0m\u001b[1m)\u001b[0m,\n",
       "    \u001b[1m(\u001b[0m\u001b[32m'layer3.5.conv1.weight'\u001b[0m, \u001b[3;91mFalse\u001b[0m\u001b[1m)\u001b[0m,\n",
       "    \u001b[1m(\u001b[0m\u001b[32m'layer3.5.bn1.weight'\u001b[0m, \u001b[3;91mFalse\u001b[0m\u001b[1m)\u001b[0m,\n",
       "    \u001b[1m(\u001b[0m\u001b[32m'layer3.5.bn1.bias'\u001b[0m, \u001b[3;91mFalse\u001b[0m\u001b[1m)\u001b[0m,\n",
       "    \u001b[1m(\u001b[0m\u001b[32m'layer3.5.conv2.weight'\u001b[0m, \u001b[3;91mFalse\u001b[0m\u001b[1m)\u001b[0m,\n",
       "    \u001b[1m(\u001b[0m\u001b[32m'layer3.5.bn2.weight'\u001b[0m, \u001b[3;91mFalse\u001b[0m\u001b[1m)\u001b[0m,\n",
       "    \u001b[1m(\u001b[0m\u001b[32m'layer3.5.bn2.bias'\u001b[0m, \u001b[3;91mFalse\u001b[0m\u001b[1m)\u001b[0m,\n",
       "    \u001b[1m(\u001b[0m\u001b[32m'layer3.5.conv3.weight'\u001b[0m, \u001b[3;91mFalse\u001b[0m\u001b[1m)\u001b[0m,\n",
       "    \u001b[1m(\u001b[0m\u001b[32m'layer3.5.bn3.weight'\u001b[0m, \u001b[3;91mFalse\u001b[0m\u001b[1m)\u001b[0m,\n",
       "    \u001b[1m(\u001b[0m\u001b[32m'layer3.5.bn3.bias'\u001b[0m, \u001b[3;91mFalse\u001b[0m\u001b[1m)\u001b[0m,\n",
       "    \u001b[1m(\u001b[0m\u001b[32m'layer3.5.se.fc1.weight'\u001b[0m, \u001b[3;91mFalse\u001b[0m\u001b[1m)\u001b[0m,\n",
       "    \u001b[1m(\u001b[0m\u001b[32m'layer3.5.se.fc1.bias'\u001b[0m, \u001b[3;91mFalse\u001b[0m\u001b[1m)\u001b[0m,\n",
       "    \u001b[1m(\u001b[0m\u001b[32m'layer3.5.se.fc2.weight'\u001b[0m, \u001b[3;91mFalse\u001b[0m\u001b[1m)\u001b[0m,\n",
       "    \u001b[1m(\u001b[0m\u001b[32m'layer3.5.se.fc2.bias'\u001b[0m, \u001b[3;91mFalse\u001b[0m\u001b[1m)\u001b[0m,\n",
       "    \u001b[1m(\u001b[0m\u001b[32m'layer4.0.conv1.weight'\u001b[0m, \u001b[3;91mFalse\u001b[0m\u001b[1m)\u001b[0m,\n",
       "    \u001b[1m(\u001b[0m\u001b[32m'layer4.0.bn1.weight'\u001b[0m, \u001b[3;91mFalse\u001b[0m\u001b[1m)\u001b[0m,\n",
       "    \u001b[1m(\u001b[0m\u001b[32m'layer4.0.bn1.bias'\u001b[0m, \u001b[3;91mFalse\u001b[0m\u001b[1m)\u001b[0m,\n",
       "    \u001b[1m(\u001b[0m\u001b[32m'layer4.0.conv2.weight'\u001b[0m, \u001b[3;91mFalse\u001b[0m\u001b[1m)\u001b[0m,\n",
       "    \u001b[1m(\u001b[0m\u001b[32m'layer4.0.bn2.weight'\u001b[0m, \u001b[3;91mFalse\u001b[0m\u001b[1m)\u001b[0m,\n",
       "    \u001b[1m(\u001b[0m\u001b[32m'layer4.0.bn2.bias'\u001b[0m, \u001b[3;91mFalse\u001b[0m\u001b[1m)\u001b[0m,\n",
       "    \u001b[1m(\u001b[0m\u001b[32m'layer4.0.conv3.weight'\u001b[0m, \u001b[3;91mFalse\u001b[0m\u001b[1m)\u001b[0m,\n",
       "    \u001b[1m(\u001b[0m\u001b[32m'layer4.0.bn3.weight'\u001b[0m, \u001b[3;91mFalse\u001b[0m\u001b[1m)\u001b[0m,\n",
       "    \u001b[1m(\u001b[0m\u001b[32m'layer4.0.bn3.bias'\u001b[0m, \u001b[3;91mFalse\u001b[0m\u001b[1m)\u001b[0m,\n",
       "    \u001b[1m(\u001b[0m\u001b[32m'layer4.0.se.fc1.weight'\u001b[0m, \u001b[3;91mFalse\u001b[0m\u001b[1m)\u001b[0m,\n",
       "    \u001b[1m(\u001b[0m\u001b[32m'layer4.0.se.fc1.bias'\u001b[0m, \u001b[3;91mFalse\u001b[0m\u001b[1m)\u001b[0m,\n",
       "    \u001b[1m(\u001b[0m\u001b[32m'layer4.0.se.fc2.weight'\u001b[0m, \u001b[3;91mFalse\u001b[0m\u001b[1m)\u001b[0m,\n",
       "    \u001b[1m(\u001b[0m\u001b[32m'layer4.0.se.fc2.bias'\u001b[0m, \u001b[3;91mFalse\u001b[0m\u001b[1m)\u001b[0m,\n",
       "    \u001b[1m(\u001b[0m\u001b[32m'layer4.0.downsample.0.weight'\u001b[0m, \u001b[3;91mFalse\u001b[0m\u001b[1m)\u001b[0m,\n",
       "    \u001b[1m(\u001b[0m\u001b[32m'layer4.0.downsample.1.weight'\u001b[0m, \u001b[3;91mFalse\u001b[0m\u001b[1m)\u001b[0m,\n",
       "    \u001b[1m(\u001b[0m\u001b[32m'layer4.0.downsample.1.bias'\u001b[0m, \u001b[3;91mFalse\u001b[0m\u001b[1m)\u001b[0m,\n",
       "    \u001b[1m(\u001b[0m\u001b[32m'layer4.1.conv1.weight'\u001b[0m, \u001b[3;91mFalse\u001b[0m\u001b[1m)\u001b[0m,\n",
       "    \u001b[1m(\u001b[0m\u001b[32m'layer4.1.bn1.weight'\u001b[0m, \u001b[3;91mFalse\u001b[0m\u001b[1m)\u001b[0m,\n",
       "    \u001b[1m(\u001b[0m\u001b[32m'layer4.1.bn1.bias'\u001b[0m, \u001b[3;91mFalse\u001b[0m\u001b[1m)\u001b[0m,\n",
       "    \u001b[1m(\u001b[0m\u001b[32m'layer4.1.conv2.weight'\u001b[0m, \u001b[3;91mFalse\u001b[0m\u001b[1m)\u001b[0m,\n",
       "    \u001b[1m(\u001b[0m\u001b[32m'layer4.1.bn2.weight'\u001b[0m, \u001b[3;91mFalse\u001b[0m\u001b[1m)\u001b[0m,\n",
       "    \u001b[1m(\u001b[0m\u001b[32m'layer4.1.bn2.bias'\u001b[0m, \u001b[3;91mFalse\u001b[0m\u001b[1m)\u001b[0m,\n",
       "    \u001b[1m(\u001b[0m\u001b[32m'layer4.1.conv3.weight'\u001b[0m, \u001b[3;91mFalse\u001b[0m\u001b[1m)\u001b[0m,\n",
       "    \u001b[1m(\u001b[0m\u001b[32m'layer4.1.bn3.weight'\u001b[0m, \u001b[3;91mFalse\u001b[0m\u001b[1m)\u001b[0m,\n",
       "    \u001b[1m(\u001b[0m\u001b[32m'layer4.1.bn3.bias'\u001b[0m, \u001b[3;91mFalse\u001b[0m\u001b[1m)\u001b[0m,\n",
       "    \u001b[1m(\u001b[0m\u001b[32m'layer4.1.se.fc1.weight'\u001b[0m, \u001b[3;91mFalse\u001b[0m\u001b[1m)\u001b[0m,\n",
       "    \u001b[1m(\u001b[0m\u001b[32m'layer4.1.se.fc1.bias'\u001b[0m, \u001b[3;91mFalse\u001b[0m\u001b[1m)\u001b[0m,\n",
       "    \u001b[1m(\u001b[0m\u001b[32m'layer4.1.se.fc2.weight'\u001b[0m, \u001b[3;91mFalse\u001b[0m\u001b[1m)\u001b[0m,\n",
       "    \u001b[1m(\u001b[0m\u001b[32m'layer4.1.se.fc2.bias'\u001b[0m, \u001b[3;91mFalse\u001b[0m\u001b[1m)\u001b[0m,\n",
       "    \u001b[1m(\u001b[0m\u001b[32m'layer4.2.conv1.weight'\u001b[0m, \u001b[3;91mFalse\u001b[0m\u001b[1m)\u001b[0m,\n",
       "    \u001b[1m(\u001b[0m\u001b[32m'layer4.2.bn1.weight'\u001b[0m, \u001b[3;91mFalse\u001b[0m\u001b[1m)\u001b[0m,\n",
       "    \u001b[1m(\u001b[0m\u001b[32m'layer4.2.bn1.bias'\u001b[0m, \u001b[3;91mFalse\u001b[0m\u001b[1m)\u001b[0m,\n",
       "    \u001b[1m(\u001b[0m\u001b[32m'layer4.2.conv2.weight'\u001b[0m, \u001b[3;91mFalse\u001b[0m\u001b[1m)\u001b[0m,\n",
       "    \u001b[1m(\u001b[0m\u001b[32m'layer4.2.bn2.weight'\u001b[0m, \u001b[3;91mFalse\u001b[0m\u001b[1m)\u001b[0m,\n",
       "    \u001b[1m(\u001b[0m\u001b[32m'layer4.2.bn2.bias'\u001b[0m, \u001b[3;91mFalse\u001b[0m\u001b[1m)\u001b[0m,\n",
       "    \u001b[1m(\u001b[0m\u001b[32m'layer4.2.conv3.weight'\u001b[0m, \u001b[3;91mFalse\u001b[0m\u001b[1m)\u001b[0m,\n",
       "    \u001b[1m(\u001b[0m\u001b[32m'layer4.2.bn3.weight'\u001b[0m, \u001b[3;91mFalse\u001b[0m\u001b[1m)\u001b[0m,\n",
       "    \u001b[1m(\u001b[0m\u001b[32m'layer4.2.bn3.bias'\u001b[0m, \u001b[3;91mFalse\u001b[0m\u001b[1m)\u001b[0m,\n",
       "    \u001b[1m(\u001b[0m\u001b[32m'layer4.2.se.fc1.weight'\u001b[0m, \u001b[3;91mFalse\u001b[0m\u001b[1m)\u001b[0m,\n",
       "    \u001b[1m(\u001b[0m\u001b[32m'layer4.2.se.fc1.bias'\u001b[0m, \u001b[3;91mFalse\u001b[0m\u001b[1m)\u001b[0m,\n",
       "    \u001b[1m(\u001b[0m\u001b[32m'layer4.2.se.fc2.weight'\u001b[0m, \u001b[3;91mFalse\u001b[0m\u001b[1m)\u001b[0m,\n",
       "    \u001b[1m(\u001b[0m\u001b[32m'layer4.2.se.fc2.bias'\u001b[0m, \u001b[3;91mFalse\u001b[0m\u001b[1m)\u001b[0m\n",
       "\u001b[1m]\u001b[0m\n"
      ]
     },
     "metadata": {},
     "output_type": "display_data"
    }
   ],
   "source": [
    "# ([(n, p.requires_grad_(False)) for n, p in model.net.backbone.named_parameters()])\n",
    "pp([(n, p.requires_grad) for n, p in model.net.backbone.named_parameters()])"
   ]
  },
  {
   "cell_type": "code",
   "execution_count": 19,
   "id": "62ae8a6a-7a11-48e0-be3b-5432777a2760",
   "metadata": {},
   "outputs": [
    {
     "data": {
      "text/html": [
       "<pre style=\"white-space:pre;overflow-x:auto;line-height:normal;font-family:Menlo,'DejaVu Sans Mono',consolas,'Courier New',monospace\"><span style=\"font-weight: bold\">[(</span><span style=\"color: #008000; text-decoration-color: #008000\">'classifier.weight'</span>, <span style=\"color: #00ff00; text-decoration-color: #00ff00; font-style: italic\">True</span><span style=\"font-weight: bold\">)</span>, <span style=\"font-weight: bold\">(</span><span style=\"color: #008000; text-decoration-color: #008000\">'classifier.bias'</span>, <span style=\"color: #00ff00; text-decoration-color: #00ff00; font-style: italic\">True</span><span style=\"font-weight: bold\">)]</span>\n",
       "</pre>\n"
      ],
      "text/plain": [
       "\u001b[1m[\u001b[0m\u001b[1m(\u001b[0m\u001b[32m'classifier.weight'\u001b[0m, \u001b[3;92mTrue\u001b[0m\u001b[1m)\u001b[0m, \u001b[1m(\u001b[0m\u001b[32m'classifier.bias'\u001b[0m, \u001b[3;92mTrue\u001b[0m\u001b[1m)\u001b[0m\u001b[1m]\u001b[0m\n"
      ]
     },
     "metadata": {},
     "output_type": "display_data"
    }
   ],
   "source": [
    "pp([(n, p.requires_grad) for n, p in model.net.head.named_parameters()])"
   ]
  },
  {
   "cell_type": "code",
   "execution_count": 9,
   "id": "723ee8a0-a0a7-4096-822d-406a8e46ff06",
   "metadata": {},
   "outputs": [
    {
     "data": {
      "text/plain": [
       "odict_keys(['classifier.weight', 'classifier.bias'])"
      ]
     },
     "execution_count": 9,
     "metadata": {},
     "output_type": "execute_result"
    }
   ],
   "source": [
    "model.net.head.state_dict().keys()"
   ]
  },
  {
   "cell_type": "code",
   "execution_count": 12,
   "id": "6e4eb9f1-18b8-4719-a801-4eda00337b23",
   "metadata": {},
   "outputs": [
    {
     "ename": "TypeError",
     "evalue": "'str' object cannot be interpreted as an integer",
     "output_type": "error",
     "traceback": [
      "\u001b[0;31m---------------------------------------------------------------------------\u001b[0m",
      "\u001b[0;31mTypeError\u001b[0m                                 Traceback (most recent call last)",
      "\u001b[0;32m/tmp/ipykernel_1409240/2929924386.py\u001b[0m in \u001b[0;36m<cell line: 1>\u001b[0;34m()\u001b[0m\n\u001b[0;32m----> 1\u001b[0;31m \u001b[0mmodel\u001b[0m\u001b[0;34m.\u001b[0m\u001b[0mnet\u001b[0m\u001b[0;34m[\u001b[0m\u001b[0;34m\"backbone\"\u001b[0m\u001b[0;34m]\u001b[0m\u001b[0;34m.\u001b[0m\u001b[0mstate_dict\u001b[0m\u001b[0;34m(\u001b[0m\u001b[0;34m)\u001b[0m\u001b[0;34m.\u001b[0m\u001b[0mkeys\u001b[0m\u001b[0;34m(\u001b[0m\u001b[0;34m)\u001b[0m\u001b[0;34m\u001b[0m\u001b[0;34m\u001b[0m\u001b[0m\n\u001b[0m",
      "\u001b[0;32m/media/data/conda/jrose3/envs/imutils/lib/python3.8/site-packages/torch/nn/modules/container.py\u001b[0m in \u001b[0;36m__getitem__\u001b[0;34m(self, idx)\u001b[0m\n\u001b[1;32m     83\u001b[0m             \u001b[0;32mreturn\u001b[0m \u001b[0mself\u001b[0m\u001b[0;34m.\u001b[0m\u001b[0m__class__\u001b[0m\u001b[0;34m(\u001b[0m\u001b[0mOrderedDict\u001b[0m\u001b[0;34m(\u001b[0m\u001b[0mlist\u001b[0m\u001b[0;34m(\u001b[0m\u001b[0mself\u001b[0m\u001b[0;34m.\u001b[0m\u001b[0m_modules\u001b[0m\u001b[0;34m.\u001b[0m\u001b[0mitems\u001b[0m\u001b[0;34m(\u001b[0m\u001b[0;34m)\u001b[0m\u001b[0;34m)\u001b[0m\u001b[0;34m[\u001b[0m\u001b[0midx\u001b[0m\u001b[0;34m]\u001b[0m\u001b[0;34m)\u001b[0m\u001b[0;34m)\u001b[0m\u001b[0;34m\u001b[0m\u001b[0;34m\u001b[0m\u001b[0m\n\u001b[1;32m     84\u001b[0m         \u001b[0;32melse\u001b[0m\u001b[0;34m:\u001b[0m\u001b[0;34m\u001b[0m\u001b[0;34m\u001b[0m\u001b[0m\n\u001b[0;32m---> 85\u001b[0;31m             \u001b[0;32mreturn\u001b[0m \u001b[0mself\u001b[0m\u001b[0;34m.\u001b[0m\u001b[0m_get_item_by_idx\u001b[0m\u001b[0;34m(\u001b[0m\u001b[0mself\u001b[0m\u001b[0;34m.\u001b[0m\u001b[0m_modules\u001b[0m\u001b[0;34m.\u001b[0m\u001b[0mvalues\u001b[0m\u001b[0;34m(\u001b[0m\u001b[0;34m)\u001b[0m\u001b[0;34m,\u001b[0m \u001b[0midx\u001b[0m\u001b[0;34m)\u001b[0m\u001b[0;34m\u001b[0m\u001b[0;34m\u001b[0m\u001b[0m\n\u001b[0m\u001b[1;32m     86\u001b[0m \u001b[0;34m\u001b[0m\u001b[0m\n\u001b[1;32m     87\u001b[0m     \u001b[0;32mdef\u001b[0m \u001b[0m__setitem__\u001b[0m\u001b[0;34m(\u001b[0m\u001b[0mself\u001b[0m\u001b[0;34m,\u001b[0m \u001b[0midx\u001b[0m\u001b[0;34m:\u001b[0m \u001b[0mint\u001b[0m\u001b[0;34m,\u001b[0m \u001b[0mmodule\u001b[0m\u001b[0;34m:\u001b[0m \u001b[0mModule\u001b[0m\u001b[0;34m)\u001b[0m \u001b[0;34m->\u001b[0m \u001b[0;32mNone\u001b[0m\u001b[0;34m:\u001b[0m\u001b[0;34m\u001b[0m\u001b[0;34m\u001b[0m\u001b[0m\n",
      "\u001b[0;32m/media/data/conda/jrose3/envs/imutils/lib/python3.8/site-packages/torch/nn/modules/container.py\u001b[0m in \u001b[0;36m_get_item_by_idx\u001b[0;34m(self, iterator, idx)\u001b[0m\n\u001b[1;32m     72\u001b[0m         \u001b[0;34m\"\"\"Get the idx-th item of the iterator\"\"\"\u001b[0m\u001b[0;34m\u001b[0m\u001b[0;34m\u001b[0m\u001b[0m\n\u001b[1;32m     73\u001b[0m         \u001b[0msize\u001b[0m \u001b[0;34m=\u001b[0m \u001b[0mlen\u001b[0m\u001b[0;34m(\u001b[0m\u001b[0mself\u001b[0m\u001b[0;34m)\u001b[0m\u001b[0;34m\u001b[0m\u001b[0;34m\u001b[0m\u001b[0m\n\u001b[0;32m---> 74\u001b[0;31m         \u001b[0midx\u001b[0m \u001b[0;34m=\u001b[0m \u001b[0moperator\u001b[0m\u001b[0;34m.\u001b[0m\u001b[0mindex\u001b[0m\u001b[0;34m(\u001b[0m\u001b[0midx\u001b[0m\u001b[0;34m)\u001b[0m\u001b[0;34m\u001b[0m\u001b[0;34m\u001b[0m\u001b[0m\n\u001b[0m\u001b[1;32m     75\u001b[0m         \u001b[0;32mif\u001b[0m \u001b[0;32mnot\u001b[0m \u001b[0;34m-\u001b[0m\u001b[0msize\u001b[0m \u001b[0;34m<=\u001b[0m \u001b[0midx\u001b[0m \u001b[0;34m<\u001b[0m \u001b[0msize\u001b[0m\u001b[0;34m:\u001b[0m\u001b[0;34m\u001b[0m\u001b[0;34m\u001b[0m\u001b[0m\n\u001b[1;32m     76\u001b[0m             \u001b[0;32mraise\u001b[0m \u001b[0mIndexError\u001b[0m\u001b[0;34m(\u001b[0m\u001b[0;34m'index {} is out of range'\u001b[0m\u001b[0;34m.\u001b[0m\u001b[0mformat\u001b[0m\u001b[0;34m(\u001b[0m\u001b[0midx\u001b[0m\u001b[0;34m)\u001b[0m\u001b[0;34m)\u001b[0m\u001b[0;34m\u001b[0m\u001b[0;34m\u001b[0m\u001b[0m\n",
      "\u001b[0;31mTypeError\u001b[0m: 'str' object cannot be interpreted as an integer"
     ]
    }
   ],
   "source": [
    "model.net[\"backbone\"].state_dict().keys()"
   ]
  },
  {
   "cell_type": "code",
   "execution_count": 13,
   "id": "997c54c2-fe40-48ce-8ac8-9677aa4f81c9",
   "metadata": {},
   "outputs": [
    {
     "data": {
      "text/plain": [
       "'1.5.0'"
      ]
     },
     "execution_count": 13,
     "metadata": {},
     "output_type": "execute_result"
    }
   ],
   "source": [
    "import pytorch_lightning as pl\n",
    "\n",
    "pl.__version__"
   ]
  },
  {
   "cell_type": "code",
   "execution_count": 12,
   "id": "2f54c605-70c8-4456-823f-55774bad2584",
   "metadata": {},
   "outputs": [
    {
     "data": {
      "text/plain": [
       "9406464"
      ]
     },
     "execution_count": 12,
     "metadata": {},
     "output_type": "execute_result"
    }
   ],
   "source": [
    "4593*8*2*64*2"
   ]
  },
  {
   "cell_type": "code",
   "execution_count": 16,
   "id": "3bc38a8e-4317-4191-a841-50773610682c",
   "metadata": {},
   "outputs": [
    {
     "data": {
      "text/plain": [
       "9185.0"
      ]
     },
     "execution_count": 16,
     "metadata": {},
     "output_type": "execute_result"
    }
   ],
   "source": [
    "587840/64"
   ]
  },
  {
   "cell_type": "code",
   "execution_count": 17,
   "id": "2b6596ae-877c-4434-ba44-a9364e6671ac",
   "metadata": {},
   "outputs": [
    {
     "data": {
      "text/plain": [
       "4592.5"
      ]
     },
     "execution_count": 17,
     "metadata": {},
     "output_type": "execute_result"
    }
   ],
   "source": [
    "587840/128"
   ]
  },
  {
   "cell_type": "code",
   "execution_count": 14,
   "id": "cbbecf12-2b01-430d-8ae6-59860fc36b97",
   "metadata": {},
   "outputs": [
    {
     "data": {
      "text/plain": [
       "9186"
      ]
     },
     "execution_count": 14,
     "metadata": {},
     "output_type": "execute_result"
    }
   ],
   "source": [
    "4593*2"
   ]
  },
  {
   "cell_type": "code",
   "execution_count": 9,
   "id": "6d5a9518-02ea-4501-834c-6c2137e379bf",
   "metadata": {},
   "outputs": [
    {
     "name": "stdout",
     "output_type": "stream",
     "text": [
      "train --> (num_samples: 587,840), (num_batches: 4,593)\n",
      "val --> (num_samples: 251,932), (num_batches: 1,969)\n"
     ]
    }
   ],
   "source": [
    "datamodule.setup(\"fit\")"
   ]
  },
  {
   "cell_type": "code",
   "execution_count": null,
   "id": "0bc1270b-126a-4d63-813b-9e12d4038950",
   "metadata": {},
   "outputs": [],
   "source": [
    "\n",
    "\n",
    "train --> (num_samples: 587,840), (num_batches: 9,185)\n",
    "train --> (num_samples: 587,840), (num_batches: 9,185)\n",
    "val --> (num_samples: 251,932), (num_batches: 3,937)\n",
    "val --> (num_samples: 251,932), (num_batches: 3,937)\n",
    "LOCAL_RANK: 0 - CUDA_VISIBLE_DEVICES: [0,1,2,3,4,5,6,7]\n",
    "LOCAL_RANK: 1 - CUDA_VISIBLE_DEVICES: [0,1,2,3,4,5,6,7]\n"
   ]
  },
  {
   "cell_type": "code",
   "execution_count": 13,
   "id": "a05fc970-f35f-4d7c-999e-5c537447e1c3",
   "metadata": {},
   "outputs": [
    {
     "name": "stdout",
     "output_type": "stream",
     "text": [
      "training dataset length: 587840\n",
      "validation dataset length: 251932\n"
     ]
    },
    {
     "data": {
      "text/plain": [
       "3"
      ]
     },
     "execution_count": 13,
     "metadata": {},
     "output_type": "execute_result"
    },
    {
     "name": "stdout",
     "output_type": "stream",
     "text": [
      "torch.Size([10, 5]) torch.Size([10]) torch.Size([])\n",
      "torch.float32 torch.int64 torch.float32\n"
     ]
    }
   ],
   "source": [
    "val_loader = datamodule.val_dataloader()\n",
    "\n",
    "batch = next(iter(val_loader))\n",
    "\n",
    "len(batch)\n",
    "\n",
    "import torch\n",
    "from torch import nn\n",
    "# Single-label categorical\n",
    "x = torch.randn(10, 5)\n",
    "y = torch.randint(5, (10,))\n",
    "loss = nn.CrossEntropyLoss()(x, y)\n",
    "\n",
    "\n",
    "print(x.shape, y.shape, loss.shape)\n",
    "print(x.dtype, y.dtype, loss.dtype)\n",
    "\n",
    "# model"
   ]
  },
  {
   "cell_type": "code",
   "execution_count": 18,
   "id": "78a50f80-a603-4b9e-a7a0-d88fcfc8ec9a",
   "metadata": {},
   "outputs": [
    {
     "name": "stderr",
     "output_type": "stream",
     "text": [
      "ic| Error: Failed to access the underlying source code for analysis. Was ic() invoked in a REPL (e.g. from the command line), a frozen application (e.g. packaged with PyInstaller), or did the underlying source code change during execution?\n"
     ]
    },
    {
     "data": {
      "text/plain": [
       "(587840, 4593, 127.98606575223165)"
      ]
     },
     "execution_count": 18,
     "metadata": {},
     "output_type": "execute_result"
    }
   ],
   "source": [
    "num_samples = len(datamodule.train_dataset)\n",
    "num_batches = len(datamodule.train_dataloader())\n",
    "\n",
    "ic(num_samples, num_batches, num_samples/ num_batches)\n",
    "\n",
    "import numpy as np"
   ]
  },
  {
   "cell_type": "code",
   "execution_count": 5,
   "id": "d3d1c7d9-fc62-420c-97fb-47fdfa831c68",
   "metadata": {},
   "outputs": [
    {
     "name": "stdout",
     "output_type": "stream",
     "text": [
      "1,132,421.0\n"
     ]
    }
   ],
   "source": [
    "print(f\"{2264842/2:,}\")"
   ]
  },
  {
   "cell_type": "code",
   "execution_count": 7,
   "id": "27b519e5-a547-4387-a87c-c47f715ad02e",
   "metadata": {},
   "outputs": [
    {
     "name": "stdout",
     "output_type": "stream",
     "text": [
      "754,947.3333333334\n"
     ]
    }
   ],
   "source": [
    "print(f\"{2264842/3:,}\")"
   ]
  },
  {
   "cell_type": "code",
   "execution_count": 19,
   "id": "fe70ee09-de8c-41f2-88a5-1c5d176f7d29",
   "metadata": {},
   "outputs": [
    {
     "name": "stderr",
     "output_type": "stream",
     "text": [
      "ic| Error: Failed to access the underlying source code for analysis. Was ic() invoked in a REPL (e.g. from the command line), a frozen application (e.g. packaged with PyInstaller), or did the underlying source code change during execution?\n"
     ]
    },
    {
     "data": {
      "text/plain": [
       "array([      0,  587840, 1175680, 1763520, 2351360])"
      ]
     },
     "execution_count": 19,
     "metadata": {},
     "output_type": "execute_result"
    }
   ],
   "source": [
    "ic(num_samples * np.arange(5))"
   ]
  },
  {
   "cell_type": "code",
   "execution_count": 10,
   "id": "49c21829-49ed-49e7-bbd4-eb832520d831",
   "metadata": {},
   "outputs": [
    {
     "name": "stdout",
     "output_type": "stream",
     "text": [
      "torch.Size([128, 3, 224, 224]) torch.Size([128])\n",
      "torch.float32 torch.int64\n"
     ]
    }
   ],
   "source": [
    "x, y = batch[:2]\n",
    "print(x.shape, y.shape)\n",
    "print(x.dtype, y.dtype)\n",
    "# model"
   ]
  },
  {
   "cell_type": "code",
   "execution_count": 15,
   "id": "4263ba04-d930-4455-a764-01b9ac72cfab",
   "metadata": {},
   "outputs": [
    {
     "name": "stdout",
     "output_type": "stream",
     "text": [
      "torch.Size([128, 15501]) torch.float32\n",
      "torch.Size([]) torch.float32\n"
     ]
    }
   ],
   "source": [
    "x, y = batch[:2]\n",
    "logits = model(x)\n",
    "\n",
    "loss = nn.CrossEntropyLoss()(logits, y)\n",
    "print(logits.shape, logits.dtype)\n",
    "print(loss.shape, loss.dtype)"
   ]
  },
  {
   "cell_type": "code",
   "execution_count": 2,
   "id": "6ce2b97b-8b2d-4f2c-8a74-670c73ed9482",
   "metadata": {},
   "outputs": [],
   "source": [
    "from icecream import ic"
   ]
  },
  {
   "cell_type": "code",
   "execution_count": 3,
   "id": "16180843-d4b4-475c-b79c-3543e39e4b77",
   "metadata": {},
   "outputs": [
    {
     "name": "stderr",
     "output_type": "stream",
     "text": [
      "ic| Error: Failed to access the underlying source code for analysis. Was ic() invoked in a REPL (e.g. from the command line), a frozen application (e.g. packaged with PyInstaller), or did the underlying source code change during execution?\n"
     ]
    },
    {
     "data": {
      "text/plain": [
       "{0, 8}"
      ]
     },
     "execution_count": 3,
     "metadata": {},
     "output_type": "execute_result"
    }
   ],
   "source": [
    "a = {0, 8}\n",
    "ic(a)"
   ]
  },
  {
   "cell_type": "code",
   "execution_count": 37,
   "id": "bd8a1a6c-ca12-4a6e-802e-2ed3f2515be6",
   "metadata": {},
   "outputs": [],
   "source": [
    "datamodule.transform_cfg\n",
    "\n",
    "datamodule.setup_transforms(datamodule.transform_cfg)"
   ]
  },
  {
   "cell_type": "code",
   "execution_count": 46,
   "id": "f86fa0f5-9570-40a5-9063-4dfa4a14ca59",
   "metadata": {},
   "outputs": [
    {
     "name": "stdout",
     "output_type": "stream",
     "text": [
      "self.normalize: [[0.485, 0.456, 0.406], [0.229, 0.224, 0.225]]\n"
     ]
    },
    {
     "data": {
      "text/plain": [
       "Compose(\n",
       "    Preprocess(\n",
       "  (resize_func): Resize(size=512, interpolation=bilinear)\n",
       ")\n",
       "    BatchTransform(\n",
       "  (transforms): Sequential(\n",
       "    (0): RandomPerspective(p=0.5)\n",
       "    (1): RandomResizedCrop(size=(224, 224), scale=(0.08, 1.0), ratio=(0.75, 1.3333), interpolation=bilinear)\n",
       "    (2): RandomHorizontalFlip(p=0.5)\n",
       "    (3): RandomVerticalFlip(p=0.5)\n",
       "    (4): Normalize(mean=[0.485, 0.456, 0.406], std=[0.229, 0.224, 0.225])\n",
       "  )\n",
       ")\n",
       ")"
      ]
     },
     "execution_count": 46,
     "metadata": {},
     "output_type": "execute_result"
    }
   ],
   "source": [
    "# datamodule.setup_transforms(datamodule.transform_cfg)\n",
    "from imutils.ml.data.datamodule import get_default_transforms\n",
    "\n",
    "a = get_default_transforms(mode=\"train\", config=datamodule.transform_cfg)\n",
    "\n",
    "a"
   ]
  },
  {
   "cell_type": "code",
   "execution_count": 41,
   "id": "49059637-0f52-4728-a667-071d589b3f52",
   "metadata": {},
   "outputs": [],
   "source": [
    "datamodule.train_dataset.transform"
   ]
  },
  {
   "cell_type": "code",
   "execution_count": 38,
   "id": "53e6fb2e-76e3-4b89-9be9-2f4a7560568e",
   "metadata": {},
   "outputs": [],
   "source": [
    "datamodule.train_transform"
   ]
  },
  {
   "cell_type": "code",
   "execution_count": 13,
   "id": "f1a5ccdd-e755-41ab-9726-3a635fcf422e",
   "metadata": {},
   "outputs": [
    {
     "data": {
      "text/plain": [
       "torch.Size([128, 960, 960, 3])"
      ]
     },
     "execution_count": 13,
     "metadata": {},
     "output_type": "execute_result"
    }
   ],
   "source": [
    "batch[0].shape"
   ]
  },
  {
   "cell_type": "code",
   "execution_count": 33,
   "id": "5eee2fae-e491-4535-9ea9-ae33a4820c06",
   "metadata": {},
   "outputs": [
    {
     "data": {
      "text/plain": [
       "torch.Size([128, 960, 960, 3])"
      ]
     },
     "execution_count": 33,
     "metadata": {},
     "output_type": "execute_result"
    }
   ],
   "source": [
    "batch[0].shape"
   ]
  },
  {
   "cell_type": "code",
   "execution_count": 11,
   "id": "6b964ec2-af16-4013-9a04-059f5cb6a0a7",
   "metadata": {},
   "outputs": [
    {
     "data": {
      "text/html": [
       "<div>\n",
       "<style scoped>\n",
       "    .dataframe tbody tr th:only-of-type {\n",
       "        vertical-align: middle;\n",
       "    }\n",
       "\n",
       "    .dataframe tbody tr th {\n",
       "        vertical-align: top;\n",
       "    }\n",
       "\n",
       "    .dataframe thead th {\n",
       "        text-align: right;\n",
       "    }\n",
       "</style>\n",
       "<table border=\"1\" class=\"dataframe\">\n",
       "  <thead>\n",
       "    <tr style=\"text-align: right;\">\n",
       "      <th></th>\n",
       "      <th>index</th>\n",
       "      <th>Species</th>\n",
       "      <th>path</th>\n",
       "      <th>y</th>\n",
       "      <th>category_id</th>\n",
       "      <th>genus_id</th>\n",
       "      <th>institution_id</th>\n",
       "      <th>image_id</th>\n",
       "      <th>file_name</th>\n",
       "      <th>license</th>\n",
       "      <th>scientificName</th>\n",
       "      <th>family</th>\n",
       "      <th>genus</th>\n",
       "      <th>species</th>\n",
       "      <th>authors</th>\n",
       "      <th>collectionCode</th>\n",
       "    </tr>\n",
       "  </thead>\n",
       "  <tbody>\n",
       "    <tr>\n",
       "      <th>0</th>\n",
       "      <td>800061</td>\n",
       "      <td>Trifolium fucatum</td>\n",
       "      <td>/media/data_cifs/projects/prj_fossils/data/raw...</td>\n",
       "      <td>14752</td>\n",
       "      <td>14756</td>\n",
       "      <td>2443</td>\n",
       "      <td>36</td>\n",
       "      <td>14756__047</td>\n",
       "      <td>147/56/14756__047.jpg</td>\n",
       "      <td>0</td>\n",
       "      <td>Trifolium fucatum Lindl.</td>\n",
       "      <td>Fabaceae</td>\n",
       "      <td>Trifolium</td>\n",
       "      <td>fucatum</td>\n",
       "      <td>Lindl.</td>\n",
       "      <td>NY</td>\n",
       "    </tr>\n",
       "    <tr>\n",
       "      <th>1</th>\n",
       "      <td>294940</td>\n",
       "      <td>Eragrostis urbaniana</td>\n",
       "      <td>/media/data_cifs/projects/prj_fossils/data/raw...</td>\n",
       "      <td>5484</td>\n",
       "      <td>5486</td>\n",
       "      <td>895</td>\n",
       "      <td>36</td>\n",
       "      <td>05486__011</td>\n",
       "      <td>054/86/05486__011.jpg</td>\n",
       "      <td>0</td>\n",
       "      <td>Eragrostis urbaniana Hitchc.</td>\n",
       "      <td>Poaceae</td>\n",
       "      <td>Eragrostis</td>\n",
       "      <td>urbaniana</td>\n",
       "      <td>Hitchc.</td>\n",
       "      <td>NY</td>\n",
       "    </tr>\n",
       "    <tr>\n",
       "      <th>2</th>\n",
       "      <td>546499</td>\n",
       "      <td>Osmorhiza purpurea</td>\n",
       "      <td>/media/data_cifs/projects/prj_fossils/data/raw...</td>\n",
       "      <td>10087</td>\n",
       "      <td>10091</td>\n",
       "      <td>1726</td>\n",
       "      <td>24</td>\n",
       "      <td>10091__046</td>\n",
       "      <td>100/91/10091__046.jpg</td>\n",
       "      <td>0</td>\n",
       "      <td>Osmorhiza purpurea (J.M.Coult. &amp; Rose) Suksd.</td>\n",
       "      <td>Apiaceae</td>\n",
       "      <td>Osmorhiza</td>\n",
       "      <td>purpurea</td>\n",
       "      <td>(J.M.Coult. &amp; Rose) Suksd.</td>\n",
       "      <td>ID</td>\n",
       "    </tr>\n",
       "    <tr>\n",
       "      <th>3</th>\n",
       "      <td>162934</td>\n",
       "      <td>Castilleja minor</td>\n",
       "      <td>/media/data_cifs/projects/prj_fossils/data/raw...</td>\n",
       "      <td>3088</td>\n",
       "      <td>3090</td>\n",
       "      <td>446</td>\n",
       "      <td>25</td>\n",
       "      <td>03090__061</td>\n",
       "      <td>030/90/03090__061.jpg</td>\n",
       "      <td>0</td>\n",
       "      <td>Castilleja minor (A.Gray) A.Gray</td>\n",
       "      <td>Orobanchaceae</td>\n",
       "      <td>Castilleja</td>\n",
       "      <td>minor</td>\n",
       "      <td>(A.Gray) A.Gray</td>\n",
       "      <td>IDS</td>\n",
       "    </tr>\n",
       "    <tr>\n",
       "      <th>4</th>\n",
       "      <td>206860</td>\n",
       "      <td>Corchorus hirsutus</td>\n",
       "      <td>/media/data_cifs/projects/prj_fossils/data/raw...</td>\n",
       "      <td>3894</td>\n",
       "      <td>3896</td>\n",
       "      <td>624</td>\n",
       "      <td>36</td>\n",
       "      <td>03896__020</td>\n",
       "      <td>038/96/03896__020.jpg</td>\n",
       "      <td>0</td>\n",
       "      <td>Corchorus hirsutus L.</td>\n",
       "      <td>Malvaceae</td>\n",
       "      <td>Corchorus</td>\n",
       "      <td>hirsutus</td>\n",
       "      <td>L.</td>\n",
       "      <td>NY</td>\n",
       "    </tr>\n",
       "    <tr>\n",
       "      <th>...</th>\n",
       "      <td>...</td>\n",
       "      <td>...</td>\n",
       "      <td>...</td>\n",
       "      <td>...</td>\n",
       "      <td>...</td>\n",
       "      <td>...</td>\n",
       "      <td>...</td>\n",
       "      <td>...</td>\n",
       "      <td>...</td>\n",
       "      <td>...</td>\n",
       "      <td>...</td>\n",
       "      <td>...</td>\n",
       "      <td>...</td>\n",
       "      <td>...</td>\n",
       "      <td>...</td>\n",
       "      <td>...</td>\n",
       "    </tr>\n",
       "    <tr>\n",
       "      <th>587835</th>\n",
       "      <td>189517</td>\n",
       "      <td>Cirsium wheeleri</td>\n",
       "      <td>/media/data_cifs/projects/prj_fossils/data/raw...</td>\n",
       "      <td>3586</td>\n",
       "      <td>3588</td>\n",
       "      <td>550</td>\n",
       "      <td>51</td>\n",
       "      <td>03588__060</td>\n",
       "      <td>035/88/03588__060.jpg</td>\n",
       "      <td>0</td>\n",
       "      <td>Cirsium wheeleri Petr.</td>\n",
       "      <td>Asteraceae</td>\n",
       "      <td>Cirsium</td>\n",
       "      <td>wheeleri</td>\n",
       "      <td>Petr.</td>\n",
       "      <td>UNM</td>\n",
       "    </tr>\n",
       "    <tr>\n",
       "      <th>587836</th>\n",
       "      <td>174412</td>\n",
       "      <td>Cestrum parqui</td>\n",
       "      <td>/media/data_cifs/projects/prj_fossils/data/raw...</td>\n",
       "      <td>3307</td>\n",
       "      <td>3309</td>\n",
       "      <td>483</td>\n",
       "      <td>52</td>\n",
       "      <td>03309__061</td>\n",
       "      <td>033/09/03309__061.jpg</td>\n",
       "      <td>0</td>\n",
       "      <td>Cestrum parqui (Lam.) L'Hér.</td>\n",
       "      <td>Solanaceae</td>\n",
       "      <td>Cestrum</td>\n",
       "      <td>parqui</td>\n",
       "      <td>(Lam.) L'Hér.</td>\n",
       "      <td>US</td>\n",
       "    </tr>\n",
       "    <tr>\n",
       "      <th>587837</th>\n",
       "      <td>49177</td>\n",
       "      <td>Aralia hispida</td>\n",
       "      <td>/media/data_cifs/projects/prj_fossils/data/raw...</td>\n",
       "      <td>958</td>\n",
       "      <td>959</td>\n",
       "      <td>174</td>\n",
       "      <td>52</td>\n",
       "      <td>00959__054</td>\n",
       "      <td>009/59/00959__054.jpg</td>\n",
       "      <td>0</td>\n",
       "      <td>Aralia hispida Vent.</td>\n",
       "      <td>Araliaceae</td>\n",
       "      <td>Aralia</td>\n",
       "      <td>hispida</td>\n",
       "      <td>Vent.</td>\n",
       "      <td>US</td>\n",
       "    </tr>\n",
       "    <tr>\n",
       "      <th>587838</th>\n",
       "      <td>84389</td>\n",
       "      <td>Astragalus tetrapterus</td>\n",
       "      <td>/media/data_cifs/projects/prj_fossils/data/raw...</td>\n",
       "      <td>1628</td>\n",
       "      <td>1629</td>\n",
       "      <td>219</td>\n",
       "      <td>36</td>\n",
       "      <td>01629__043</td>\n",
       "      <td>016/29/01629__043.jpg</td>\n",
       "      <td>0</td>\n",
       "      <td>Astragalus tetrapterus A.Gray</td>\n",
       "      <td>Fabaceae</td>\n",
       "      <td>Astragalus</td>\n",
       "      <td>tetrapterus</td>\n",
       "      <td>A.Gray</td>\n",
       "      <td>NY</td>\n",
       "    </tr>\n",
       "    <tr>\n",
       "      <th>587839</th>\n",
       "      <td>615737</td>\n",
       "      <td>Pinus arizonica</td>\n",
       "      <td>/media/data_cifs/projects/prj_fossils/data/raw...</td>\n",
       "      <td>11389</td>\n",
       "      <td>11393</td>\n",
       "      <td>1871</td>\n",
       "      <td>52</td>\n",
       "      <td>11393__033</td>\n",
       "      <td>113/93/11393__033.jpg</td>\n",
       "      <td>0</td>\n",
       "      <td>Pinus arizonica Engelm.</td>\n",
       "      <td>Pinaceae</td>\n",
       "      <td>Pinus</td>\n",
       "      <td>arizonica</td>\n",
       "      <td>Engelm.</td>\n",
       "      <td>US</td>\n",
       "    </tr>\n",
       "  </tbody>\n",
       "</table>\n",
       "<p>587840 rows × 16 columns</p>\n",
       "</div>"
      ],
      "text/plain": [
       "         index                 Species  \\\n",
       "0       800061       Trifolium fucatum   \n",
       "1       294940    Eragrostis urbaniana   \n",
       "2       546499      Osmorhiza purpurea   \n",
       "3       162934        Castilleja minor   \n",
       "4       206860      Corchorus hirsutus   \n",
       "...        ...                     ...   \n",
       "587835  189517        Cirsium wheeleri   \n",
       "587836  174412          Cestrum parqui   \n",
       "587837   49177          Aralia hispida   \n",
       "587838   84389  Astragalus tetrapterus   \n",
       "587839  615737         Pinus arizonica   \n",
       "\n",
       "                                                     path      y category_id  \\\n",
       "0       /media/data_cifs/projects/prj_fossils/data/raw...  14752       14756   \n",
       "1       /media/data_cifs/projects/prj_fossils/data/raw...   5484        5486   \n",
       "2       /media/data_cifs/projects/prj_fossils/data/raw...  10087       10091   \n",
       "3       /media/data_cifs/projects/prj_fossils/data/raw...   3088        3090   \n",
       "4       /media/data_cifs/projects/prj_fossils/data/raw...   3894        3896   \n",
       "...                                                   ...    ...         ...   \n",
       "587835  /media/data_cifs/projects/prj_fossils/data/raw...   3586        3588   \n",
       "587836  /media/data_cifs/projects/prj_fossils/data/raw...   3307        3309   \n",
       "587837  /media/data_cifs/projects/prj_fossils/data/raw...    958         959   \n",
       "587838  /media/data_cifs/projects/prj_fossils/data/raw...   1628        1629   \n",
       "587839  /media/data_cifs/projects/prj_fossils/data/raw...  11389       11393   \n",
       "\n",
       "       genus_id institution_id    image_id              file_name license  \\\n",
       "0          2443             36  14756__047  147/56/14756__047.jpg       0   \n",
       "1           895             36  05486__011  054/86/05486__011.jpg       0   \n",
       "2          1726             24  10091__046  100/91/10091__046.jpg       0   \n",
       "3           446             25  03090__061  030/90/03090__061.jpg       0   \n",
       "4           624             36  03896__020  038/96/03896__020.jpg       0   \n",
       "...         ...            ...         ...                    ...     ...   \n",
       "587835      550             51  03588__060  035/88/03588__060.jpg       0   \n",
       "587836      483             52  03309__061  033/09/03309__061.jpg       0   \n",
       "587837      174             52  00959__054  009/59/00959__054.jpg       0   \n",
       "587838      219             36  01629__043  016/29/01629__043.jpg       0   \n",
       "587839     1871             52  11393__033  113/93/11393__033.jpg       0   \n",
       "\n",
       "                                       scientificName         family  \\\n",
       "0                            Trifolium fucatum Lindl.       Fabaceae   \n",
       "1                        Eragrostis urbaniana Hitchc.        Poaceae   \n",
       "2       Osmorhiza purpurea (J.M.Coult. & Rose) Suksd.       Apiaceae   \n",
       "3                    Castilleja minor (A.Gray) A.Gray  Orobanchaceae   \n",
       "4                               Corchorus hirsutus L.      Malvaceae   \n",
       "...                                               ...            ...   \n",
       "587835                         Cirsium wheeleri Petr.     Asteraceae   \n",
       "587836                   Cestrum parqui (Lam.) L'Hér.     Solanaceae   \n",
       "587837                           Aralia hispida Vent.     Araliaceae   \n",
       "587838                  Astragalus tetrapterus A.Gray       Fabaceae   \n",
       "587839                        Pinus arizonica Engelm.       Pinaceae   \n",
       "\n",
       "             genus      species                     authors collectionCode  \n",
       "0        Trifolium      fucatum                      Lindl.             NY  \n",
       "1       Eragrostis    urbaniana                     Hitchc.             NY  \n",
       "2        Osmorhiza     purpurea  (J.M.Coult. & Rose) Suksd.             ID  \n",
       "3       Castilleja        minor             (A.Gray) A.Gray            IDS  \n",
       "4        Corchorus     hirsutus                          L.             NY  \n",
       "...            ...          ...                         ...            ...  \n",
       "587835     Cirsium     wheeleri                       Petr.            UNM  \n",
       "587836     Cestrum       parqui               (Lam.) L'Hér.             US  \n",
       "587837      Aralia      hispida                       Vent.             US  \n",
       "587838  Astragalus  tetrapterus                      A.Gray             NY  \n",
       "587839       Pinus    arizonica                     Engelm.             US  \n",
       "\n",
       "[587840 rows x 16 columns]"
      ]
     },
     "execution_count": 11,
     "metadata": {},
     "output_type": "execute_result"
    }
   ],
   "source": [
    "# datamodule.setup(\"fit\")\n",
    "datamodule.train_dataset.df"
   ]
  },
  {
   "cell_type": "code",
   "execution_count": 12,
   "id": "c46f3d25-71ae-435e-8d5c-71de0576f23e",
   "metadata": {},
   "outputs": [
    {
     "name": "stderr",
     "output_type": "stream",
     "text": [
      "Failed to detect the name of this notebook, you can set it manually with the WANDB_NOTEBOOK_NAME environment variable to enable code saving.\n",
      "\u001b[34m\u001b[1mwandb\u001b[0m: Currently logged in as: \u001b[33mjrose\u001b[0m (use `wandb login --relogin` to force relogin)\n",
      "\u001b[34m\u001b[1mwandb\u001b[0m: wandb version 0.12.11 is available!  To upgrade, please run:\n",
      "\u001b[34m\u001b[1mwandb\u001b[0m:  $ pip install wandb --upgrade\n"
     ]
    },
    {
     "data": {
      "text/html": [
       "\n",
       "                    Syncing run <strong><a href=\"https://wandb.ai/jrose/herbarium2022/runs/rrcdi118\" target=\"_blank\">herbarium2022__xcit_large_24_p16_224</a></strong> to <a href=\"https://wandb.ai/jrose/herbarium2022\" target=\"_blank\">Weights & Biases</a> (<a href=\"https://docs.wandb.com/integrations/jupyter.html\" target=\"_blank\">docs</a>).<br/>\n",
       "\n",
       "                "
      ],
      "text/plain": [
       "<IPython.core.display.HTML object>"
      ]
     },
     "metadata": {},
     "output_type": "display_data"
    },
    {
     "name": "stderr",
     "output_type": "stream",
     "text": [
      "\u001b[34m\u001b[1mwandb\u001b[0m: logging graph, to disable use `wandb.watch(log_graph=False)`\n"
     ]
    }
   ],
   "source": [
    "import wandb\n",
    "\n",
    "def configure_loggers(cfg):\n",
    "\n",
    "    wandb_logger = None\n",
    "    if \"wandb\" in cfg.logging:\n",
    "        hydra.utils.log.info(f\"Instantiating <WandbLogger>\")\n",
    "        wandb_config = cfg.logging.wandb\n",
    "        wandb_logger = pl.loggers.WandbLogger(\n",
    "            name=wandb_config\n",
    "            .get(\"name\", \n",
    "                           (cfg.data.datamodule.get(\"name\") + \"__\" + cfg.model_cfg.name)),\n",
    "            project=wandb_config.project,\n",
    "            entity=wandb_config.entity,\n",
    "            tags=cfg.core.tags,\n",
    "            log_model=True,\n",
    "        )\n",
    "        hydra.utils.log.info(f\"W&B is now watching <{wandb_config.watch.log}>!\")\n",
    "        wandb_logger.watch(\n",
    "            model, log=wandb_config.watch.log, log_freq=wandb_config.watch.log_freq\n",
    "        )\n",
    "\n",
    "\n",
    "        hydra.utils.log.info(f\"Instantiating the Trainer\")\n",
    "    return wandb_logger"
   ]
  },
  {
   "cell_type": "code",
   "execution_count": 5,
   "id": "14285ee2-b033-4194-a6a7-5544b4bae12b",
   "metadata": {},
   "outputs": [
    {
     "ename": "NameError",
     "evalue": "name 'configure_loggers' is not defined",
     "output_type": "error",
     "traceback": [
      "\u001b[0;31m---------------------------------------------------------------------------\u001b[0m",
      "\u001b[0;31mNameError\u001b[0m                                 Traceback (most recent call last)",
      "\u001b[0;32m/tmp/ipykernel_1073726/2506096756.py\u001b[0m in \u001b[0;36m<cell line: 1>\u001b[0;34m()\u001b[0m\n\u001b[0;32m----> 1\u001b[0;31m \u001b[0mwandb_logger\u001b[0m \u001b[0;34m=\u001b[0m \u001b[0mconfigure_loggers\u001b[0m\u001b[0;34m(\u001b[0m\u001b[0mcfg\u001b[0m\u001b[0;34m=\u001b[0m\u001b[0mcfg\u001b[0m\u001b[0;34m,\u001b[0m \u001b[0mmodel\u001b[0m\u001b[0;34m=\u001b[0m\u001b[0mmodel\u001b[0m\u001b[0;34m)\u001b[0m\u001b[0;34m\u001b[0m\u001b[0;34m\u001b[0m\u001b[0m\n\u001b[0m\u001b[1;32m      2\u001b[0m \u001b[0mprint\u001b[0m\u001b[0;34m(\u001b[0m\u001b[0mwandb_logger\u001b[0m\u001b[0;34m)\u001b[0m\u001b[0;34m\u001b[0m\u001b[0;34m\u001b[0m\u001b[0m\n",
      "\u001b[0;31mNameError\u001b[0m: name 'configure_loggers' is not defined"
     ]
    }
   ],
   "source": [
    "wandb_logger = configure_loggers(cfg=cfg, model=model)\n",
    "print(wandb_logger)"
   ]
  },
  {
   "cell_type": "code",
   "execution_count": 13,
   "id": "50f6717b-4ac4-4428-ac7b-684dd2c9b31b",
   "metadata": {},
   "outputs": [
    {
     "name": "stderr",
     "output_type": "stream",
     "text": [
      "/media/data/conda/jrose3/envs/imutils/lib/python3.8/site-packages/pytorch_lightning/trainer/connectors/accelerator_connector.py:286: LightningDeprecationWarning: Passing `Trainer(accelerator='dp')` has been deprecated in v1.5 and will be removed in v1.7. Use `Trainer(strategy='dp')` instead.\n",
      "  rank_zero_deprecation(\n",
      "GPU available: True, used: True\n",
      "TPU available: False, using: 0 TPU cores\n",
      "IPU available: False, using: 0 IPUs\n"
     ]
    }
   ],
   "source": [
    "# The Lightning core, the Trainer\n",
    "trainer = pl.Trainer(\n",
    "    default_root_dir=cfg.hydra.run.dir,\n",
    "    logger=wandb_logger,\n",
    "    callbacks=callbacks,\n",
    "    deterministic=cfg.train.deterministic,\n",
    "    val_check_interval=cfg.logging.val_check_interval,\n",
    "    log_every_n_steps=10,\n",
    "    #auto_select_gpus=True,\n",
    "    # benchmark=True,\n",
    "    # accelerator=None,  # 'dp', \"ddp\" if args.gpus > 1 else None,\n",
    "    #plugins=[DDPPlugin(find_unused_parameters=True)],\n",
    "    **cfg.train.pl_trainer,\n",
    ")\n",
    "\n",
    "# num_samples = len(datamodule.train_dataset)\n",
    "num_classes = cfg.model_cfg.head.num_classes\n",
    "batch_size = datamodule.batch_size #[\"train\"]\n",
    "\n",
    "hydra.utils.log.info(\"Starting training with {} classes and batches of {} images\".format(\n",
    "    num_classes,\n",
    "    batch_size))"
   ]
  },
  {
   "cell_type": "code",
   "execution_count": 14,
   "id": "6711973e-730e-4900-9efd-3f1afaa6963f",
   "metadata": {},
   "outputs": [],
   "source": [
    "# pp(OmegaConf.to_container(cfg.train.callbacks, resolve=True))"
   ]
  },
  {
   "cell_type": "code",
   "execution_count": 15,
   "id": "bbf7ccfd-d369-4b92-9126-58764ce2c7b8",
   "metadata": {},
   "outputs": [
    {
     "name": "stdout",
     "output_type": "stream",
     "text": [
      "training dataset length: 587840\n"
     ]
    },
    {
     "name": "stderr",
     "output_type": "stream",
     "text": [
      "LOCAL_RANK: 0 - CUDA_VISIBLE_DEVICES: [0,1,2,3,4,5,6,7]\n"
     ]
    },
    {
     "name": "stdout",
     "output_type": "stream",
     "text": [
      "validation dataset length: 251932\n"
     ]
    },
    {
     "data": {
      "text/html": [
       "<pre style=\"white-space:pre;overflow-x:auto;line-height:normal;font-family:Menlo,'DejaVu Sans Mono',consolas,'Courier New',monospace\"><span style=\"font-weight: bold\">{</span>\n",
       "    <span style=\"color: #008000; text-decoration-color: #008000\">'_target_'</span>: <span style=\"color: #008000; text-decoration-color: #008000\">'torch.optim.Adam'</span>,\n",
       "    <span style=\"color: #008000; text-decoration-color: #008000\">'lr'</span>: <span style=\"color: #008080; text-decoration-color: #008080; font-weight: bold\">0.001</span>,\n",
       "    <span style=\"color: #008000; text-decoration-color: #008000\">'betas'</span>: <span style=\"font-weight: bold\">[</span><span style=\"color: #008080; text-decoration-color: #008080; font-weight: bold\">0.9</span>, <span style=\"color: #008080; text-decoration-color: #008080; font-weight: bold\">0.999</span><span style=\"font-weight: bold\">]</span>,\n",
       "    <span style=\"color: #008000; text-decoration-color: #008000\">'eps'</span>: <span style=\"color: #008080; text-decoration-color: #008080; font-weight: bold\">1e-08</span>,\n",
       "    <span style=\"color: #008000; text-decoration-color: #008000\">'weight_decay'</span>: <span style=\"color: #008080; text-decoration-color: #008080; font-weight: bold\">0.0</span>\n",
       "<span style=\"font-weight: bold\">}</span>\n",
       "</pre>\n"
      ],
      "text/plain": [
       "\u001b[1m{\u001b[0m\n",
       "    \u001b[32m'_target_'\u001b[0m: \u001b[32m'torch.optim.Adam'\u001b[0m,\n",
       "    \u001b[32m'lr'\u001b[0m: \u001b[1;36m0.001\u001b[0m,\n",
       "    \u001b[32m'betas'\u001b[0m: \u001b[1m[\u001b[0m\u001b[1;36m0.9\u001b[0m, \u001b[1;36m0.999\u001b[0m\u001b[1m]\u001b[0m,\n",
       "    \u001b[32m'eps'\u001b[0m: \u001b[1;36m1e-08\u001b[0m,\n",
       "    \u001b[32m'weight_decay'\u001b[0m: \u001b[1;36m0.0\u001b[0m\n",
       "\u001b[1m}\u001b[0m\n"
      ]
     },
     "metadata": {},
     "output_type": "display_data"
    },
    {
     "ename": "AttributeError",
     "evalue": "'NoneType' object has no attribute 'df'",
     "output_type": "error",
     "traceback": [
      "\u001b[0;31m---------------------------------------------------------------------------\u001b[0m",
      "\u001b[0;31mAttributeError\u001b[0m                            Traceback (most recent call last)",
      "\u001b[0;32m/tmp/ipykernel_1055668/3664283226.py\u001b[0m in \u001b[0;36m<cell line: 1>\u001b[0;34m()\u001b[0m\n\u001b[0;32m----> 1\u001b[0;31m \u001b[0mtrainer\u001b[0m\u001b[0;34m.\u001b[0m\u001b[0mfit\u001b[0m\u001b[0;34m(\u001b[0m\u001b[0mmodel\u001b[0m\u001b[0;34m=\u001b[0m\u001b[0mmodel\u001b[0m\u001b[0;34m,\u001b[0m \u001b[0mdatamodule\u001b[0m\u001b[0;34m=\u001b[0m\u001b[0mdatamodule\u001b[0m\u001b[0;34m)\u001b[0m\u001b[0;34m\u001b[0m\u001b[0;34m\u001b[0m\u001b[0m\n\u001b[0m",
      "\u001b[0;32m/media/data/conda/jrose3/envs/imutils/lib/python3.8/site-packages/pytorch_lightning/trainer/trainer.py\u001b[0m in \u001b[0;36mfit\u001b[0;34m(self, model, train_dataloaders, val_dataloaders, datamodule, train_dataloader, ckpt_path)\u001b[0m\n\u001b[1;32m    733\u001b[0m             )\n\u001b[1;32m    734\u001b[0m             \u001b[0mtrain_dataloaders\u001b[0m \u001b[0;34m=\u001b[0m \u001b[0mtrain_dataloader\u001b[0m\u001b[0;34m\u001b[0m\u001b[0;34m\u001b[0m\u001b[0m\n\u001b[0;32m--> 735\u001b[0;31m         self._call_and_handle_interrupt(\n\u001b[0m\u001b[1;32m    736\u001b[0m             \u001b[0mself\u001b[0m\u001b[0;34m.\u001b[0m\u001b[0m_fit_impl\u001b[0m\u001b[0;34m,\u001b[0m \u001b[0mmodel\u001b[0m\u001b[0;34m,\u001b[0m \u001b[0mtrain_dataloaders\u001b[0m\u001b[0;34m,\u001b[0m \u001b[0mval_dataloaders\u001b[0m\u001b[0;34m,\u001b[0m \u001b[0mdatamodule\u001b[0m\u001b[0;34m,\u001b[0m \u001b[0mckpt_path\u001b[0m\u001b[0;34m\u001b[0m\u001b[0;34m\u001b[0m\u001b[0m\n\u001b[1;32m    737\u001b[0m         )\n",
      "\u001b[0;32m/media/data/conda/jrose3/envs/imutils/lib/python3.8/site-packages/pytorch_lightning/trainer/trainer.py\u001b[0m in \u001b[0;36m_call_and_handle_interrupt\u001b[0;34m(self, trainer_fn, *args, **kwargs)\u001b[0m\n\u001b[1;32m    680\u001b[0m         \"\"\"\n\u001b[1;32m    681\u001b[0m         \u001b[0;32mtry\u001b[0m\u001b[0;34m:\u001b[0m\u001b[0;34m\u001b[0m\u001b[0;34m\u001b[0m\u001b[0m\n\u001b[0;32m--> 682\u001b[0;31m             \u001b[0;32mreturn\u001b[0m \u001b[0mtrainer_fn\u001b[0m\u001b[0;34m(\u001b[0m\u001b[0;34m*\u001b[0m\u001b[0margs\u001b[0m\u001b[0;34m,\u001b[0m \u001b[0;34m**\u001b[0m\u001b[0mkwargs\u001b[0m\u001b[0;34m)\u001b[0m\u001b[0;34m\u001b[0m\u001b[0;34m\u001b[0m\u001b[0m\n\u001b[0m\u001b[1;32m    683\u001b[0m         \u001b[0;31m# TODO: treat KeyboardInterrupt as BaseException (delete the code below) in v1.7\u001b[0m\u001b[0;34m\u001b[0m\u001b[0;34m\u001b[0m\u001b[0;34m\u001b[0m\u001b[0m\n\u001b[1;32m    684\u001b[0m         \u001b[0;32mexcept\u001b[0m \u001b[0mKeyboardInterrupt\u001b[0m \u001b[0;32mas\u001b[0m \u001b[0mexception\u001b[0m\u001b[0;34m:\u001b[0m\u001b[0;34m\u001b[0m\u001b[0;34m\u001b[0m\u001b[0m\n",
      "\u001b[0;32m/media/data/conda/jrose3/envs/imutils/lib/python3.8/site-packages/pytorch_lightning/trainer/trainer.py\u001b[0m in \u001b[0;36m_fit_impl\u001b[0;34m(self, model, train_dataloaders, val_dataloaders, datamodule, ckpt_path)\u001b[0m\n\u001b[1;32m    768\u001b[0m         \u001b[0;31m# TODO: ckpt_path only in v1.7\u001b[0m\u001b[0;34m\u001b[0m\u001b[0;34m\u001b[0m\u001b[0;34m\u001b[0m\u001b[0m\n\u001b[1;32m    769\u001b[0m         \u001b[0mckpt_path\u001b[0m \u001b[0;34m=\u001b[0m \u001b[0mckpt_path\u001b[0m \u001b[0;32mor\u001b[0m \u001b[0mself\u001b[0m\u001b[0;34m.\u001b[0m\u001b[0mresume_from_checkpoint\u001b[0m\u001b[0;34m\u001b[0m\u001b[0;34m\u001b[0m\u001b[0m\n\u001b[0;32m--> 770\u001b[0;31m         \u001b[0mself\u001b[0m\u001b[0;34m.\u001b[0m\u001b[0m_run\u001b[0m\u001b[0;34m(\u001b[0m\u001b[0mmodel\u001b[0m\u001b[0;34m,\u001b[0m \u001b[0mckpt_path\u001b[0m\u001b[0;34m=\u001b[0m\u001b[0mckpt_path\u001b[0m\u001b[0;34m)\u001b[0m\u001b[0;34m\u001b[0m\u001b[0;34m\u001b[0m\u001b[0m\n\u001b[0m\u001b[1;32m    771\u001b[0m \u001b[0;34m\u001b[0m\u001b[0m\n\u001b[1;32m    772\u001b[0m         \u001b[0;32massert\u001b[0m \u001b[0mself\u001b[0m\u001b[0;34m.\u001b[0m\u001b[0mstate\u001b[0m\u001b[0;34m.\u001b[0m\u001b[0mstopped\u001b[0m\u001b[0;34m\u001b[0m\u001b[0;34m\u001b[0m\u001b[0m\n",
      "\u001b[0;32m/media/data/conda/jrose3/envs/imutils/lib/python3.8/site-packages/pytorch_lightning/trainer/trainer.py\u001b[0m in \u001b[0;36m_run\u001b[0;34m(self, model, ckpt_path)\u001b[0m\n\u001b[1;32m   1191\u001b[0m \u001b[0;34m\u001b[0m\u001b[0m\n\u001b[1;32m   1192\u001b[0m         \u001b[0;31m# dispatch `start_training` or `start_evaluating` or `start_predicting`\u001b[0m\u001b[0;34m\u001b[0m\u001b[0;34m\u001b[0m\u001b[0;34m\u001b[0m\u001b[0m\n\u001b[0;32m-> 1193\u001b[0;31m         \u001b[0mself\u001b[0m\u001b[0;34m.\u001b[0m\u001b[0m_dispatch\u001b[0m\u001b[0;34m(\u001b[0m\u001b[0;34m)\u001b[0m\u001b[0;34m\u001b[0m\u001b[0;34m\u001b[0m\u001b[0m\n\u001b[0m\u001b[1;32m   1194\u001b[0m \u001b[0;34m\u001b[0m\u001b[0m\n\u001b[1;32m   1195\u001b[0m         \u001b[0;31m# plugin will finalized fitting (e.g. ddp_spawn will load trained model)\u001b[0m\u001b[0;34m\u001b[0m\u001b[0;34m\u001b[0m\u001b[0;34m\u001b[0m\u001b[0m\n",
      "\u001b[0;32m/media/data/conda/jrose3/envs/imutils/lib/python3.8/site-packages/pytorch_lightning/trainer/trainer.py\u001b[0m in \u001b[0;36m_dispatch\u001b[0;34m(self)\u001b[0m\n\u001b[1;32m   1270\u001b[0m             \u001b[0mself\u001b[0m\u001b[0;34m.\u001b[0m\u001b[0mtraining_type_plugin\u001b[0m\u001b[0;34m.\u001b[0m\u001b[0mstart_predicting\u001b[0m\u001b[0;34m(\u001b[0m\u001b[0mself\u001b[0m\u001b[0;34m)\u001b[0m\u001b[0;34m\u001b[0m\u001b[0;34m\u001b[0m\u001b[0m\n\u001b[1;32m   1271\u001b[0m         \u001b[0;32melse\u001b[0m\u001b[0;34m:\u001b[0m\u001b[0;34m\u001b[0m\u001b[0;34m\u001b[0m\u001b[0m\n\u001b[0;32m-> 1272\u001b[0;31m             \u001b[0mself\u001b[0m\u001b[0;34m.\u001b[0m\u001b[0mtraining_type_plugin\u001b[0m\u001b[0;34m.\u001b[0m\u001b[0mstart_training\u001b[0m\u001b[0;34m(\u001b[0m\u001b[0mself\u001b[0m\u001b[0;34m)\u001b[0m\u001b[0;34m\u001b[0m\u001b[0;34m\u001b[0m\u001b[0m\n\u001b[0m\u001b[1;32m   1273\u001b[0m \u001b[0;34m\u001b[0m\u001b[0m\n\u001b[1;32m   1274\u001b[0m     \u001b[0;32mdef\u001b[0m \u001b[0mrun_stage\u001b[0m\u001b[0;34m(\u001b[0m\u001b[0mself\u001b[0m\u001b[0;34m)\u001b[0m\u001b[0;34m:\u001b[0m\u001b[0;34m\u001b[0m\u001b[0;34m\u001b[0m\u001b[0m\n",
      "\u001b[0;32m/media/data/conda/jrose3/envs/imutils/lib/python3.8/site-packages/pytorch_lightning/plugins/training_type/training_type_plugin.py\u001b[0m in \u001b[0;36mstart_training\u001b[0;34m(self, trainer)\u001b[0m\n\u001b[1;32m    200\u001b[0m     \u001b[0;32mdef\u001b[0m \u001b[0mstart_training\u001b[0m\u001b[0;34m(\u001b[0m\u001b[0mself\u001b[0m\u001b[0;34m,\u001b[0m \u001b[0mtrainer\u001b[0m\u001b[0;34m:\u001b[0m \u001b[0;34m\"pl.Trainer\"\u001b[0m\u001b[0;34m)\u001b[0m \u001b[0;34m->\u001b[0m \u001b[0;32mNone\u001b[0m\u001b[0;34m:\u001b[0m\u001b[0;34m\u001b[0m\u001b[0;34m\u001b[0m\u001b[0m\n\u001b[1;32m    201\u001b[0m         \u001b[0;31m# double dispatch to initiate the training loop\u001b[0m\u001b[0;34m\u001b[0m\u001b[0;34m\u001b[0m\u001b[0;34m\u001b[0m\u001b[0m\n\u001b[0;32m--> 202\u001b[0;31m         \u001b[0mself\u001b[0m\u001b[0;34m.\u001b[0m\u001b[0m_results\u001b[0m \u001b[0;34m=\u001b[0m \u001b[0mtrainer\u001b[0m\u001b[0;34m.\u001b[0m\u001b[0mrun_stage\u001b[0m\u001b[0;34m(\u001b[0m\u001b[0;34m)\u001b[0m\u001b[0;34m\u001b[0m\u001b[0;34m\u001b[0m\u001b[0m\n\u001b[0m\u001b[1;32m    203\u001b[0m \u001b[0;34m\u001b[0m\u001b[0m\n\u001b[1;32m    204\u001b[0m     \u001b[0;32mdef\u001b[0m \u001b[0mstart_evaluating\u001b[0m\u001b[0;34m(\u001b[0m\u001b[0mself\u001b[0m\u001b[0;34m,\u001b[0m \u001b[0mtrainer\u001b[0m\u001b[0;34m:\u001b[0m \u001b[0;34m\"pl.Trainer\"\u001b[0m\u001b[0;34m)\u001b[0m \u001b[0;34m->\u001b[0m \u001b[0;32mNone\u001b[0m\u001b[0;34m:\u001b[0m\u001b[0;34m\u001b[0m\u001b[0;34m\u001b[0m\u001b[0m\n",
      "\u001b[0;32m/media/data/conda/jrose3/envs/imutils/lib/python3.8/site-packages/pytorch_lightning/trainer/trainer.py\u001b[0m in \u001b[0;36mrun_stage\u001b[0;34m(self)\u001b[0m\n\u001b[1;32m   1280\u001b[0m         \u001b[0;32mif\u001b[0m \u001b[0mself\u001b[0m\u001b[0;34m.\u001b[0m\u001b[0mpredicting\u001b[0m\u001b[0;34m:\u001b[0m\u001b[0;34m\u001b[0m\u001b[0;34m\u001b[0m\u001b[0m\n\u001b[1;32m   1281\u001b[0m             \u001b[0;32mreturn\u001b[0m \u001b[0mself\u001b[0m\u001b[0;34m.\u001b[0m\u001b[0m_run_predict\u001b[0m\u001b[0;34m(\u001b[0m\u001b[0;34m)\u001b[0m\u001b[0;34m\u001b[0m\u001b[0;34m\u001b[0m\u001b[0m\n\u001b[0;32m-> 1282\u001b[0;31m         \u001b[0;32mreturn\u001b[0m \u001b[0mself\u001b[0m\u001b[0;34m.\u001b[0m\u001b[0m_run_train\u001b[0m\u001b[0;34m(\u001b[0m\u001b[0;34m)\u001b[0m\u001b[0;34m\u001b[0m\u001b[0;34m\u001b[0m\u001b[0m\n\u001b[0m\u001b[1;32m   1283\u001b[0m \u001b[0;34m\u001b[0m\u001b[0m\n\u001b[1;32m   1284\u001b[0m     \u001b[0;32mdef\u001b[0m \u001b[0m_pre_training_routine\u001b[0m\u001b[0;34m(\u001b[0m\u001b[0mself\u001b[0m\u001b[0;34m)\u001b[0m\u001b[0;34m:\u001b[0m\u001b[0;34m\u001b[0m\u001b[0;34m\u001b[0m\u001b[0m\n",
      "\u001b[0;32m/media/data/conda/jrose3/envs/imutils/lib/python3.8/site-packages/pytorch_lightning/trainer/trainer.py\u001b[0m in \u001b[0;36m_run_train\u001b[0;34m(self)\u001b[0m\n\u001b[1;32m   1297\u001b[0m \u001b[0;34m\u001b[0m\u001b[0m\n\u001b[1;32m   1298\u001b[0m     \u001b[0;32mdef\u001b[0m \u001b[0m_run_train\u001b[0m\u001b[0;34m(\u001b[0m\u001b[0mself\u001b[0m\u001b[0;34m)\u001b[0m \u001b[0;34m->\u001b[0m \u001b[0;32mNone\u001b[0m\u001b[0;34m:\u001b[0m\u001b[0;34m\u001b[0m\u001b[0;34m\u001b[0m\u001b[0m\n\u001b[0;32m-> 1299\u001b[0;31m         \u001b[0mself\u001b[0m\u001b[0;34m.\u001b[0m\u001b[0m_pre_training_routine\u001b[0m\u001b[0;34m(\u001b[0m\u001b[0;34m)\u001b[0m\u001b[0;34m\u001b[0m\u001b[0;34m\u001b[0m\u001b[0m\n\u001b[0m\u001b[1;32m   1300\u001b[0m \u001b[0;34m\u001b[0m\u001b[0m\n\u001b[1;32m   1301\u001b[0m         \u001b[0;32mif\u001b[0m \u001b[0;32mnot\u001b[0m \u001b[0mself\u001b[0m\u001b[0;34m.\u001b[0m\u001b[0mis_global_zero\u001b[0m \u001b[0;32mand\u001b[0m \u001b[0mself\u001b[0m\u001b[0;34m.\u001b[0m\u001b[0mprogress_bar_callback\u001b[0m \u001b[0;32mis\u001b[0m \u001b[0;32mnot\u001b[0m \u001b[0;32mNone\u001b[0m\u001b[0;34m:\u001b[0m\u001b[0;34m\u001b[0m\u001b[0;34m\u001b[0m\u001b[0m\n",
      "\u001b[0;32m/media/data/conda/jrose3/envs/imutils/lib/python3.8/site-packages/pytorch_lightning/trainer/trainer.py\u001b[0m in \u001b[0;36m_pre_training_routine\u001b[0;34m(self)\u001b[0m\n\u001b[1;32m   1292\u001b[0m         \u001b[0;31m# Pre-train\u001b[0m\u001b[0;34m\u001b[0m\u001b[0;34m\u001b[0m\u001b[0;34m\u001b[0m\u001b[0m\n\u001b[1;32m   1293\u001b[0m         \u001b[0;31m# --------------------------\u001b[0m\u001b[0;34m\u001b[0m\u001b[0;34m\u001b[0m\u001b[0;34m\u001b[0m\u001b[0m\n\u001b[0;32m-> 1294\u001b[0;31m         \u001b[0mself\u001b[0m\u001b[0;34m.\u001b[0m\u001b[0mcall_hook\u001b[0m\u001b[0;34m(\u001b[0m\u001b[0;34m\"on_pretrain_routine_start\"\u001b[0m\u001b[0;34m)\u001b[0m\u001b[0;34m\u001b[0m\u001b[0;34m\u001b[0m\u001b[0m\n\u001b[0m\u001b[1;32m   1295\u001b[0m \u001b[0;34m\u001b[0m\u001b[0m\n\u001b[1;32m   1296\u001b[0m         \u001b[0mself\u001b[0m\u001b[0;34m.\u001b[0m\u001b[0mcall_hook\u001b[0m\u001b[0;34m(\u001b[0m\u001b[0;34m\"on_pretrain_routine_end\"\u001b[0m\u001b[0;34m)\u001b[0m\u001b[0;34m\u001b[0m\u001b[0;34m\u001b[0m\u001b[0m\n",
      "\u001b[0;32m/media/data/conda/jrose3/envs/imutils/lib/python3.8/site-packages/pytorch_lightning/trainer/trainer.py\u001b[0m in \u001b[0;36mcall_hook\u001b[0;34m(self, hook_name, pl_module, *args, **kwargs)\u001b[0m\n\u001b[1;32m   1475\u001b[0m             \u001b[0mcallback_fx\u001b[0m \u001b[0;34m=\u001b[0m \u001b[0mgetattr\u001b[0m\u001b[0;34m(\u001b[0m\u001b[0mself\u001b[0m\u001b[0;34m,\u001b[0m \u001b[0mhook_name\u001b[0m\u001b[0;34m,\u001b[0m \u001b[0;32mNone\u001b[0m\u001b[0;34m)\u001b[0m\u001b[0;34m\u001b[0m\u001b[0;34m\u001b[0m\u001b[0m\n\u001b[1;32m   1476\u001b[0m             \u001b[0;32mif\u001b[0m \u001b[0mcallable\u001b[0m\u001b[0;34m(\u001b[0m\u001b[0mcallback_fx\u001b[0m\u001b[0;34m)\u001b[0m\u001b[0;34m:\u001b[0m\u001b[0;34m\u001b[0m\u001b[0;34m\u001b[0m\u001b[0m\n\u001b[0;32m-> 1477\u001b[0;31m                 \u001b[0mcallback_fx\u001b[0m\u001b[0;34m(\u001b[0m\u001b[0;34m*\u001b[0m\u001b[0margs\u001b[0m\u001b[0;34m,\u001b[0m \u001b[0;34m**\u001b[0m\u001b[0mkwargs\u001b[0m\u001b[0;34m)\u001b[0m\u001b[0;34m\u001b[0m\u001b[0;34m\u001b[0m\u001b[0m\n\u001b[0m\u001b[1;32m   1478\u001b[0m \u001b[0;34m\u001b[0m\u001b[0m\n\u001b[1;32m   1479\u001b[0m             \u001b[0;31m# next call hook in lightningModule\u001b[0m\u001b[0;34m\u001b[0m\u001b[0;34m\u001b[0m\u001b[0;34m\u001b[0m\u001b[0m\n",
      "\u001b[0;32m/media/data/conda/jrose3/envs/imutils/lib/python3.8/site-packages/pytorch_lightning/trainer/callback_hook.py\u001b[0m in \u001b[0;36mon_pretrain_routine_start\u001b[0;34m(self)\u001b[0m\n\u001b[1;32m    146\u001b[0m         \u001b[0;34m\"\"\"Called when the pre-train routine begins.\"\"\"\u001b[0m\u001b[0;34m\u001b[0m\u001b[0;34m\u001b[0m\u001b[0m\n\u001b[1;32m    147\u001b[0m         \u001b[0;32mfor\u001b[0m \u001b[0mcallback\u001b[0m \u001b[0;32min\u001b[0m \u001b[0mself\u001b[0m\u001b[0;34m.\u001b[0m\u001b[0mcallbacks\u001b[0m\u001b[0;34m:\u001b[0m\u001b[0;34m\u001b[0m\u001b[0;34m\u001b[0m\u001b[0m\n\u001b[0;32m--> 148\u001b[0;31m             \u001b[0mcallback\u001b[0m\u001b[0;34m.\u001b[0m\u001b[0mon_pretrain_routine_start\u001b[0m\u001b[0;34m(\u001b[0m\u001b[0mself\u001b[0m\u001b[0;34m,\u001b[0m \u001b[0mself\u001b[0m\u001b[0;34m.\u001b[0m\u001b[0mlightning_module\u001b[0m\u001b[0;34m)\u001b[0m\u001b[0;34m\u001b[0m\u001b[0;34m\u001b[0m\u001b[0m\n\u001b[0m\u001b[1;32m    149\u001b[0m \u001b[0;34m\u001b[0m\u001b[0m\n\u001b[1;32m    150\u001b[0m     \u001b[0;32mdef\u001b[0m \u001b[0mon_pretrain_routine_end\u001b[0m\u001b[0;34m(\u001b[0m\u001b[0mself\u001b[0m\u001b[0;34m)\u001b[0m \u001b[0;34m->\u001b[0m \u001b[0;32mNone\u001b[0m\u001b[0;34m:\u001b[0m\u001b[0;34m\u001b[0m\u001b[0;34m\u001b[0m\u001b[0m\n",
      "\u001b[0;32m/media/data/jacob/GitHub/image-utils/imutils/ml/callbacks/class_label_stats_callbacks.py\u001b[0m in \u001b[0;36mon_pretrain_routine_start\u001b[0;34m(self, trainer, pl_module)\u001b[0m\n\u001b[1;32m     97\u001b[0m         \u001b[0mdatamodule\u001b[0m \u001b[0;34m=\u001b[0m \u001b[0mtrainer\u001b[0m\u001b[0;34m.\u001b[0m\u001b[0mdatamodule\u001b[0m\u001b[0;34m\u001b[0m\u001b[0;34m\u001b[0m\u001b[0m\n\u001b[1;32m     98\u001b[0m         \u001b[0mlogger\u001b[0m \u001b[0;34m=\u001b[0m \u001b[0mget_wandb_logger\u001b[0m\u001b[0;34m(\u001b[0m\u001b[0mtrainer\u001b[0m\u001b[0;34m=\u001b[0m\u001b[0mtrainer\u001b[0m\u001b[0;34m)\u001b[0m\u001b[0;34m\u001b[0m\u001b[0;34m\u001b[0m\u001b[0m\n\u001b[0;32m---> 99\u001b[0;31m         \u001b[0mfigs\u001b[0m\u001b[0;34m,\u001b[0m \u001b[0maxes\u001b[0m \u001b[0;34m=\u001b[0m \u001b[0mself\u001b[0m\u001b[0;34m.\u001b[0m\u001b[0m_plot_all_subsets\u001b[0m\u001b[0;34m(\u001b[0m\u001b[0mdatamodule\u001b[0m\u001b[0;34m)\u001b[0m\u001b[0;34m\u001b[0m\u001b[0;34m\u001b[0m\u001b[0m\n\u001b[0m\u001b[1;32m    100\u001b[0m \u001b[0;34m\u001b[0m\u001b[0m\n\u001b[1;32m    101\u001b[0m         \u001b[0;32mfor\u001b[0m \u001b[0msubset\u001b[0m\u001b[0;34m,\u001b[0m \u001b[0mfig\u001b[0m \u001b[0;32min\u001b[0m \u001b[0mzip\u001b[0m\u001b[0;34m(\u001b[0m\u001b[0mself\u001b[0m\u001b[0;34m.\u001b[0m\u001b[0msubsets\u001b[0m\u001b[0;34m,\u001b[0m \u001b[0mfigs\u001b[0m\u001b[0;34m)\u001b[0m\u001b[0;34m:\u001b[0m\u001b[0;34m\u001b[0m\u001b[0;34m\u001b[0m\u001b[0m\n",
      "\u001b[0;32m/media/data/jacob/GitHub/image-utils/imutils/ml/callbacks/class_label_stats_callbacks.py\u001b[0m in \u001b[0;36m_plot_all_subsets\u001b[0;34m(self, datamodule)\u001b[0m\n\u001b[1;32m     79\u001b[0m         \u001b[0;32mfor\u001b[0m \u001b[0msubset\u001b[0m \u001b[0;32min\u001b[0m \u001b[0mself\u001b[0m\u001b[0;34m.\u001b[0m\u001b[0msubsets\u001b[0m\u001b[0;34m:\u001b[0m\u001b[0;34m\u001b[0m\u001b[0;34m\u001b[0m\u001b[0m\n\u001b[1;32m     80\u001b[0m \u001b[0;34m\u001b[0m\u001b[0m\n\u001b[0;32m---> 81\u001b[0;31m             \u001b[0mdf\u001b[0m \u001b[0;34m=\u001b[0m \u001b[0mgetattr\u001b[0m\u001b[0;34m(\u001b[0m\u001b[0mdatamodule\u001b[0m\u001b[0;34m,\u001b[0m \u001b[0;34mf\"{subset}_dataset\"\u001b[0m\u001b[0;34m)\u001b[0m\u001b[0;34m.\u001b[0m\u001b[0mdf\u001b[0m\u001b[0;34m.\u001b[0m\u001b[0mvalue_counts\u001b[0m\u001b[0;34m(\u001b[0m\u001b[0mself\u001b[0m\u001b[0;34m.\u001b[0m\u001b[0my_col\u001b[0m\u001b[0;34m)\u001b[0m\u001b[0;34m\u001b[0m\u001b[0;34m\u001b[0m\u001b[0m\n\u001b[0m\u001b[1;32m     82\u001b[0m \u001b[0;34m\u001b[0m\u001b[0m\n\u001b[1;32m     83\u001b[0m             fig, ax = plot_class_counts(df,\n",
      "\u001b[0;31mAttributeError\u001b[0m: 'NoneType' object has no attribute 'df'"
     ]
    },
    {
     "data": {
      "image/png": "[encoded data removed]",
      "text/plain": [
       "<Figure size 1800x720 with 1 Axes>"
      ]
     },
     "metadata": {
      "needs_background": "light"
     },
     "output_type": "display_data"
    },
    {
     "data": {
      "image/png": "[encoded data removed]",
      "text/plain": [
       "<Figure size 1800x720 with 1 Axes>"
      ]
     },
     "metadata": {
      "needs_background": "light"
     },
     "output_type": "display_data"
    }
   ],
   "source": [
    "trainer.fit(model=model, datamodule=datamodule)"
   ]
  },
  {
   "cell_type": "code",
   "execution_count": null,
   "id": "4f2d3c44-2821-4e1f-a5cc-d7726bf95299",
   "metadata": {},
   "outputs": [],
   "source": [
    "\n",
    "\n",
    "#%debug"
   ]
  },
  {
   "cell_type": "code",
   "execution_count": null,
   "id": "f047d112-e973-4081-bc2f-7cbab32423f6",
   "metadata": {},
   "outputs": [],
   "source": [
    "hydra.utils.log.info(f\"Starting testing!\")\n",
    "trainer.test(model=model, datamodule=datamodule)\n",
    "\n",
    "shutil.copytree(\".hydra\", Path(wandb_logger.experiment.dir) / \"hydra\")"
   ]
  },
  {
   "cell_type": "code",
   "execution_count": 22,
   "id": "c2afd880-28e6-45a7-a8c5-c7cf722f8273",
   "metadata": {},
   "outputs": [],
   "source": [
    "\n",
    "def measure_time(func):\n",
    "    def wrapper(*args, **kwargs):\n",
    "        from time import time\n",
    "        start = time()\n",
    "        result = func(*args, **kwargs)\n",
    "        total_time = time() - start\n",
    "        print(f'Elapsed time is {total_time} ms')\n",
    "        \n",
    "        if isinstance(result, int):\n",
    "            print(f\"{result}/{total_time} = {result/(total_time):.3f} samples/sec\")\n",
    "        return result\n",
    "    return wrapper\n",
    "\n"
   ]
  },
  {
   "cell_type": "code",
   "execution_count": 23,
   "id": "4cd6c06d-2b05-41f5-890a-21051bfe4c69",
   "metadata": {},
   "outputs": [
    {
     "name": "stderr",
     "output_type": "stream",
     "text": [
      "/media/data/conda/jrose3/envs/imutils/lib/python3.8/site-packages/pytorch_lightning/core/datamodule.py:469: LightningDeprecationWarning: DataModule.setup has already been called, so it will not be called again. In v1.6 this behavior will change to always call DataModule.setup.\n",
      "  rank_zero_deprecation(\n",
      "100%|███████████████████████████████████████████████████████████████████████████████████████████████████████████████████████████████████████████████████████████████████████████████| 40/40 [01:00<00:00,  1.51s/it]\n"
     ]
    },
    {
     "name": "stdout",
     "output_type": "stream",
     "text": [
      "Elapsed time is 71.13705635070801 ms\n",
      "5120/71.13705635070801 = 71.974 samples/sec\n"
     ]
    },
    {
     "data": {
      "text/plain": [
       "5120"
      ]
     },
     "execution_count": 23,
     "metadata": {},
     "output_type": "execute_result"
    }
   ],
   "source": [
    "\n",
    "\n",
    "from tqdm import tqdm\n",
    "\n",
    "@measure_time\n",
    "def loop_through_dataloader(dataloader, num_batches):\n",
    "    data_iter = iter(dataloader)\n",
    "    for i, batch in tqdm(enumerate(data_iter), total=num_batches):\n",
    "        if i > num_batches-1:\n",
    "            break\n",
    "    num_samples = i*len(batch[0])\n",
    "    return num_samples\n",
    "\n",
    "\n",
    "\n",
    "# train_iter = iter(datamodule.train_dataloader())\n",
    "datamodule.setup()\n",
    "dataloader = datamodule.train_dataloader()\n",
    "num_batches = 40\n",
    "\n",
    "\n",
    "loop_through_dataloader(dataloader, num_batches)"
   ]
  },
  {
   "cell_type": "code",
   "execution_count": 21,
   "id": "ed1d8c02-3078-41e2-8f9b-83158cd5cf35",
   "metadata": {},
   "outputs": [],
   "source": [
    "# bb = next(iter(dataloader))"
   ]
  },
  {
   "cell_type": "code",
   "execution_count": 13,
   "id": "0e57601f-5583-4178-8329-1bac07ef6e03",
   "metadata": {},
   "outputs": [
    {
     "data": {
      "text/html": [
       "<pre style=\"white-space:pre;overflow-x:auto;line-height:normal;font-family:Menlo,'DejaVu Sans Mono',consolas,'Courier New',monospace\"><span style=\"font-weight: bold\">{</span>\n",
       "    <span style=\"color: #008000; text-decoration-color: #008000\">'catalog_dir'</span>: \n",
       "<span style=\"color: #008000; text-decoration-color: #008000\">'/media/data_cifs/projects/prj_fossils/data/raw_data/herbarium-2022-fgvc9_resize'</span>,\n",
       "    <span style=\"color: #008000; text-decoration-color: #008000\">'label_col'</span>: <span style=\"color: #008000; text-decoration-color: #008000\">'scientificName'</span>,\n",
       "    <span style=\"color: #008000; text-decoration-color: #008000\">'train_size'</span>: <span style=\"color: #008080; text-decoration-color: #008080; font-weight: bold\">0.7</span>,\n",
       "    <span style=\"color: #008000; text-decoration-color: #008000\">'shuffle'</span>: <span style=\"color: #00ff00; text-decoration-color: #00ff00; font-style: italic\">True</span>,\n",
       "    <span style=\"color: #008000; text-decoration-color: #008000\">'seed'</span>: <span style=\"color: #008080; text-decoration-color: #008080; font-weight: bold\">14</span>,\n",
       "    <span style=\"color: #008000; text-decoration-color: #008000\">'batch_size'</span>: <span style=\"color: #008080; text-decoration-color: #008080; font-weight: bold\">128</span>,\n",
       "    <span style=\"color: #008000; text-decoration-color: #008000\">'num_workers'</span>: <span style=\"color: #008080; text-decoration-color: #008080; font-weight: bold\">4</span>,\n",
       "    <span style=\"color: #008000; text-decoration-color: #008000\">'pin_memory'</span>: <span style=\"color: #00ff00; text-decoration-color: #00ff00; font-style: italic\">True</span>,\n",
       "    <span style=\"color: #008000; text-decoration-color: #008000\">'transform_cfg'</span>: <span style=\"font-weight: bold\">{</span>\n",
       "        <span style=\"color: #008000; text-decoration-color: #008000\">'preprocess'</span>: <span style=\"font-weight: bold\">{</span>\n",
       "            <span style=\"color: #008000; text-decoration-color: #008000\">'train'</span>: <span style=\"font-weight: bold\">{</span><span style=\"color: #008000; text-decoration-color: #008000\">'resize'</span>: <span style=\"color: #008080; text-decoration-color: #008080; font-weight: bold\">512</span><span style=\"font-weight: bold\">}</span>,\n",
       "            <span style=\"color: #008000; text-decoration-color: #008000\">'val'</span>: <span style=\"font-weight: bold\">{</span><span style=\"color: #008000; text-decoration-color: #008000\">'resize'</span>: <span style=\"color: #008080; text-decoration-color: #008080; font-weight: bold\">256</span><span style=\"font-weight: bold\">}</span>,\n",
       "            <span style=\"color: #008000; text-decoration-color: #008000\">'test'</span>: <span style=\"font-weight: bold\">{</span><span style=\"color: #008000; text-decoration-color: #008000\">'resize'</span>: <span style=\"color: #008080; text-decoration-color: #008080; font-weight: bold\">256</span><span style=\"font-weight: bold\">}</span>\n",
       "        <span style=\"font-weight: bold\">}</span>,\n",
       "        <span style=\"color: #008000; text-decoration-color: #008000\">'batch_transform'</span>: <span style=\"font-weight: bold\">{</span>\n",
       "            <span style=\"color: #008000; text-decoration-color: #008000\">'train'</span>: <span style=\"font-weight: bold\">{</span><span style=\"color: #008000; text-decoration-color: #008000\">'random_resize_crop'</span>: <span style=\"color: #008080; text-decoration-color: #008080; font-weight: bold\">224</span><span style=\"font-weight: bold\">}</span>,\n",
       "            <span style=\"color: #008000; text-decoration-color: #008000\">'val'</span>: <span style=\"font-weight: bold\">{</span><span style=\"color: #008000; text-decoration-color: #008000\">'center_crop'</span>: <span style=\"color: #008080; text-decoration-color: #008080; font-weight: bold\">224</span><span style=\"font-weight: bold\">}</span>,\n",
       "            <span style=\"color: #008000; text-decoration-color: #008000\">'test'</span>: <span style=\"font-weight: bold\">{</span><span style=\"color: #008000; text-decoration-color: #008000\">'center_crop'</span>: <span style=\"color: #008080; text-decoration-color: #008080; font-weight: bold\">224</span><span style=\"font-weight: bold\">}</span>\n",
       "        <span style=\"font-weight: bold\">}</span>,\n",
       "        <span style=\"color: #008000; text-decoration-color: #008000\">'normalize'</span>: <span style=\"font-weight: bold\">[[</span><span style=\"color: #008080; text-decoration-color: #008080; font-weight: bold\">0.485</span>, <span style=\"color: #008080; text-decoration-color: #008080; font-weight: bold\">0.456</span>, <span style=\"color: #008080; text-decoration-color: #008080; font-weight: bold\">0.406</span><span style=\"font-weight: bold\">]</span>, <span style=\"font-weight: bold\">[</span><span style=\"color: #008080; text-decoration-color: #008080; font-weight: bold\">0.229</span>, <span style=\"color: #008080; text-decoration-color: #008080; font-weight: bold\">0.224</span>, <span style=\"color: #008080; text-decoration-color: #008080; font-weight: bold\">0.225</span><span style=\"font-weight: bold\">]]</span>\n",
       "    <span style=\"font-weight: bold\">}</span>,\n",
       "    <span style=\"color: #008000; text-decoration-color: #008000\">'remove_transforms'</span>: <span style=\"color: #ff0000; text-decoration-color: #ff0000; font-style: italic\">False</span>\n",
       "<span style=\"font-weight: bold\">}</span>\n",
       "</pre>\n"
      ],
      "text/plain": [
       "\u001b[1m{\u001b[0m\n",
       "    \u001b[32m'catalog_dir'\u001b[0m: \n",
       "\u001b[32m'/media/data_cifs/projects/prj_fossils/data/raw_data/herbarium-2022-fgvc9_resize'\u001b[0m,\n",
       "    \u001b[32m'label_col'\u001b[0m: \u001b[32m'scientificName'\u001b[0m,\n",
       "    \u001b[32m'train_size'\u001b[0m: \u001b[1;36m0.7\u001b[0m,\n",
       "    \u001b[32m'shuffle'\u001b[0m: \u001b[3;92mTrue\u001b[0m,\n",
       "    \u001b[32m'seed'\u001b[0m: \u001b[1;36m14\u001b[0m,\n",
       "    \u001b[32m'batch_size'\u001b[0m: \u001b[1;36m128\u001b[0m,\n",
       "    \u001b[32m'num_workers'\u001b[0m: \u001b[1;36m4\u001b[0m,\n",
       "    \u001b[32m'pin_memory'\u001b[0m: \u001b[3;92mTrue\u001b[0m,\n",
       "    \u001b[32m'transform_cfg'\u001b[0m: \u001b[1m{\u001b[0m\n",
       "        \u001b[32m'preprocess'\u001b[0m: \u001b[1m{\u001b[0m\n",
       "            \u001b[32m'train'\u001b[0m: \u001b[1m{\u001b[0m\u001b[32m'resize'\u001b[0m: \u001b[1;36m512\u001b[0m\u001b[1m}\u001b[0m,\n",
       "            \u001b[32m'val'\u001b[0m: \u001b[1m{\u001b[0m\u001b[32m'resize'\u001b[0m: \u001b[1;36m256\u001b[0m\u001b[1m}\u001b[0m,\n",
       "            \u001b[32m'test'\u001b[0m: \u001b[1m{\u001b[0m\u001b[32m'resize'\u001b[0m: \u001b[1;36m256\u001b[0m\u001b[1m}\u001b[0m\n",
       "        \u001b[1m}\u001b[0m,\n",
       "        \u001b[32m'batch_transform'\u001b[0m: \u001b[1m{\u001b[0m\n",
       "            \u001b[32m'train'\u001b[0m: \u001b[1m{\u001b[0m\u001b[32m'random_resize_crop'\u001b[0m: \u001b[1;36m224\u001b[0m\u001b[1m}\u001b[0m,\n",
       "            \u001b[32m'val'\u001b[0m: \u001b[1m{\u001b[0m\u001b[32m'center_crop'\u001b[0m: \u001b[1;36m224\u001b[0m\u001b[1m}\u001b[0m,\n",
       "            \u001b[32m'test'\u001b[0m: \u001b[1m{\u001b[0m\u001b[32m'center_crop'\u001b[0m: \u001b[1;36m224\u001b[0m\u001b[1m}\u001b[0m\n",
       "        \u001b[1m}\u001b[0m,\n",
       "        \u001b[32m'normalize'\u001b[0m: \u001b[1m[\u001b[0m\u001b[1m[\u001b[0m\u001b[1;36m0.485\u001b[0m, \u001b[1;36m0.456\u001b[0m, \u001b[1;36m0.406\u001b[0m\u001b[1m]\u001b[0m, \u001b[1m[\u001b[0m\u001b[1;36m0.229\u001b[0m, \u001b[1;36m0.224\u001b[0m, \u001b[1;36m0.225\u001b[0m\u001b[1m]\u001b[0m\u001b[1m]\u001b[0m\n",
       "    \u001b[1m}\u001b[0m,\n",
       "    \u001b[32m'remove_transforms'\u001b[0m: \u001b[3;91mFalse\u001b[0m\n",
       "\u001b[1m}\u001b[0m\n"
      ]
     },
     "metadata": {},
     "output_type": "display_data"
    }
   ],
   "source": [
    "# pp(datamodule.cfg)\n",
    "pp(OmegaConf.to_container(datamodule.cfg))"
   ]
  },
  {
   "cell_type": "code",
   "execution_count": 11,
   "id": "90405dc3-2953-40d6-ba62-970fe7dcefc7",
   "metadata": {},
   "outputs": [
    {
     "data": {
      "text/plain": [
       "omegaconf.dictconfig.DictConfig"
      ]
     },
     "execution_count": 11,
     "metadata": {},
     "output_type": "execute_result"
    }
   ],
   "source": [
    "type(datamodule.cfg)"
   ]
  },
  {
   "cell_type": "code",
   "execution_count": null,
   "id": "074e234a-fe59-4574-8d42-86abe9ae2657",
   "metadata": {},
   "outputs": [],
   "source": []
  },
  {
   "cell_type": "code",
   "execution_count": 4,
   "id": "db8c4020-cd05-4bae-8c1c-8146ef69c924",
   "metadata": {},
   "outputs": [],
   "source": [
    "\n",
    "# default_cfg = DictConfig(dict(\n",
    "#     catalog_dir=None,\n",
    "#     label_col=\"scientificName\",\n",
    "#     train_size=0.7,\n",
    "#     shuffle=True,\n",
    "#     seed=14,\n",
    "#     batch_size = 128,\n",
    "#     num_workers = None,\n",
    "#     pin_memory=True,\n",
    "#     transform_cfg=None,\n",
    "#     remove_transforms=False,\n",
    "# ))\n",
    "\n",
    "# from rich import print as pp\n",
    "\n",
    "# pp(OmegaConf.to_yaml(default_cfg))"
   ]
  },
  {
   "cell_type": "markdown",
   "id": "62638da1-bbcd-48c2-8b20-ed2ec10fe60d",
   "metadata": {},
   "source": [
    "### Mock config yaml"
   ]
  },
  {
   "cell_type": "code",
   "execution_count": 59,
   "id": "da4a2740-99b3-4ec2-85b3-1f77b1913613",
   "metadata": {},
   "outputs": [],
   "source": [
    "CATALOG_DIR = \"/media/data_cifs/projects/prj_fossils/users/jacob/data/herbarium_2022/catalog\"\n",
    "\n",
    "datamodule = Herbarium2022DataModule(catalog_dir=CATALOG_DIR,\n",
    "                                     num_workers=4,\n",
    "                                     # image_reader=read_file_binary,\n",
    "                                     remove_transforms=True)\n",
    "datamodule.setup()"
   ]
  },
  {
   "cell_type": "code",
   "execution_count": 60,
   "id": "d1a29eaa-f837-4ee0-a84c-24c6cb00b0e1",
   "metadata": {},
   "outputs": [],
   "source": [
    "subset = \"train\"\n",
    "dataset = datamodule.get_dataset(subset=subset)"
   ]
  },
  {
   "cell_type": "code",
   "execution_count": 102,
   "id": "f0c60aa4-70b1-43d6-b090-c1d46210f289",
   "metadata": {},
   "outputs": [
    {
     "data": {
      "text/plain": [
       "15501"
      ]
     },
     "execution_count": 102,
     "metadata": {},
     "output_type": "execute_result"
    }
   ],
   "source": [
    "dataset.num_classes"
   ]
  },
  {
   "cell_type": "code",
   "execution_count": null,
   "id": "f846e09d-2849-4e69-b588-093571d463cd",
   "metadata": {},
   "outputs": [],
   "source": []
  },
  {
   "cell_type": "code",
   "execution_count": null,
   "id": "3ba02708-2499-4a86-8b04-41455397747a",
   "metadata": {},
   "outputs": [],
   "source": [
    "trainer.fit(model, datamodule)"
   ]
  },
  {
   "cell_type": "code",
   "execution_count": null,
   "id": "41fabad3-3fbd-4d3f-a1dd-fa0761edbd2b",
   "metadata": {},
   "outputs": [],
   "source": []
  },
  {
   "cell_type": "code",
   "execution_count": null,
   "id": "955771b4-532f-4239-b662-ea6458500f8f",
   "metadata": {},
   "outputs": [],
   "source": []
  },
  {
   "cell_type": "markdown",
   "id": "7958649f-4ec0-4567-bd28-61f6fafff7e5",
   "metadata": {},
   "source": [
    "## End"
   ]
  },
  {
   "cell_type": "code",
   "execution_count": 6,
   "id": "f680ceb2-99a4-4227-bbb8-18e9a7c23793",
   "metadata": {
    "tags": []
   },
   "outputs": [
    {
     "data": {
      "text/html": [
       "<pre style=\"white-space:pre;overflow-x:auto;line-height:normal;font-family:Menlo,'DejaVu Sans Mono',consolas,'Courier New',monospace\"><span style=\"color: #800080; text-decoration-color: #800080; font-weight: bold\">Namespace</span><span style=\"font-weight: bold\">(</span><span style=\"color: #808000; text-decoration-color: #808000\">batch_transform</span>=<span style=\"font-weight: bold\">{</span><span style=\"color: #008000; text-decoration-color: #008000\">'train'</span>: <span style=\"font-weight: bold\">{</span><span style=\"color: #008000; text-decoration-color: #008000\">'random_resize_crop'</span>: <span style=\"color: #008080; text-decoration-color: #008080; font-weight: bold\">224</span><span style=\"font-weight: bold\">}</span>, <span style=\"color: #008000; text-decoration-color: #008000\">'val'</span>: <span style=\"font-weight: bold\">{</span><span style=\"color: #008000; text-decoration-color: #008000\">'center_crop'</span>: \n",
       "<span style=\"color: #008080; text-decoration-color: #008080; font-weight: bold\">224</span><span style=\"font-weight: bold\">}}</span>, <span style=\"color: #808000; text-decoration-color: #808000\">preprocess</span>=<span style=\"font-weight: bold\">{</span><span style=\"color: #008000; text-decoration-color: #008000\">'train'</span>: <span style=\"font-weight: bold\">{</span><span style=\"color: #008000; text-decoration-color: #008000\">'resize'</span>: <span style=\"color: #008080; text-decoration-color: #008080; font-weight: bold\">512</span><span style=\"font-weight: bold\">}</span>, <span style=\"color: #008000; text-decoration-color: #008000\">'val'</span>: <span style=\"font-weight: bold\">{</span><span style=\"color: #008000; text-decoration-color: #008000\">'resize'</span>: <span style=\"color: #008080; text-decoration-color: #008080; font-weight: bold\">256</span><span style=\"font-weight: bold\">}})</span>\n",
       "</pre>\n"
      ],
      "text/plain": [
       "\u001b[1;35mNamespace\u001b[0m\u001b[1m(\u001b[0m\u001b[33mbatch_transform\u001b[0m=\u001b[1m{\u001b[0m\u001b[32m'train'\u001b[0m: \u001b[1m{\u001b[0m\u001b[32m'random_resize_crop'\u001b[0m: \u001b[1;36m224\u001b[0m\u001b[1m}\u001b[0m, \u001b[32m'val'\u001b[0m: \u001b[1m{\u001b[0m\u001b[32m'center_crop'\u001b[0m: \n",
       "\u001b[1;36m224\u001b[0m\u001b[1m}\u001b[0m\u001b[1m}\u001b[0m, \u001b[33mpreprocess\u001b[0m=\u001b[1m{\u001b[0m\u001b[32m'train'\u001b[0m: \u001b[1m{\u001b[0m\u001b[32m'resize'\u001b[0m: \u001b[1;36m512\u001b[0m\u001b[1m}\u001b[0m, \u001b[32m'val'\u001b[0m: \u001b[1m{\u001b[0m\u001b[32m'resize'\u001b[0m: \u001b[1;36m256\u001b[0m\u001b[1m}\u001b[0m\u001b[1m}\u001b[0m\u001b[1m)\u001b[0m\n"
      ]
     },
     "metadata": {},
     "output_type": "display_data"
    }
   ],
   "source": [
    "# from torchvision import transforms as T\n",
    "# import argparse\n",
    "# from rich import print as pp\n",
    "\n",
    "# args = argparse.Namespace(\n",
    "#     preprocess={\n",
    "#         \"train\":{\n",
    "#             \"resize\":512\n",
    "#         },\n",
    "#         \"val\":{\n",
    "#             \"resize\":256\n",
    "#         },\n",
    "#     },\n",
    "#     batch_transform={\n",
    "#         \"train\":{\n",
    "#             \"random_resize_crop\":224\n",
    "#         },\n",
    "#         \"val\":{\n",
    "#             \"center_crop\":224\n",
    "#         },\n",
    "#     normalize=(\n",
    "#        [0.485, 0.456, 0.406],\n",
    "#        [0.229, 0.224, 0.225]\n",
    "#     )\n",
    "#     }\n",
    "# )\n",
    "# pp(args)"
   ]
  },
  {
   "cell_type": "code",
   "execution_count": null,
   "id": "5152ae2d-5e29-4e98-9153-6acbe6f8f8c6",
   "metadata": {
    "tags": []
   },
   "outputs": [],
   "source": [
    "# kornia_transform = nn.Sequential(\n",
    "#     K.RandomHorizontalFlip(),\n",
    "#     K.RandomVerticalFlip(),\n",
    "#     K.RandomMotionBlur(3, 35., 0.5),\n",
    "#     K.RandomRotation(degrees=45.0),\n",
    "#     K.Normalize(mean=mean_std,std=mean_std)\n",
    "# )"
   ]
  },
  {
   "cell_type": "code",
   "execution_count": 15,
   "id": "63244e80-6f57-46d5-8f47-cc516ddd07ea",
   "metadata": {
    "tags": []
   },
   "outputs": [],
   "source": [
    "# import numpy as np\n",
    "# from torch import nn\n",
    "# import torch\n",
    "# from albumentations.augmentations import transforms as AT\n",
    "\n",
    "# to_tensor = T.ToTensor()\n",
    "\n",
    "# class Preprocess(nn.Module):\n",
    "\n",
    "#     def __init__(self, mode=\"train\", resize=None):\n",
    "#         super().__init__()\n",
    "#         self.mode = mode\n",
    "#         self.resize = resize        \n",
    "#         self.resize_func = T.Resize(self.resize)\n",
    "    \n",
    "#     @torch.no_grad()  # disable gradients for effiency\n",
    "#     def forward(self, x) -> torch.Tensor:\n",
    "#         # x_tmp: np.ndarray = np.array(x)  # HxWxC\n",
    "#         # x_out: Tensor = to_tensor(x_tmp, keepdim=True)  # CxHxW\n",
    "#         if self.resize:\n",
    "#             x = self.resize_func(x)\n",
    "\n",
    "#         return x #_out.float()# / 255.0\n",
    "\n",
    "\n",
    "\n",
    "\n",
    "# class BatchTransforms(nn.Module):\n",
    "#     \"\"\"Module to perform data augmentation using Kornia on torch tensors.\"\"\"\n",
    "\n",
    "#     def __init__(self,\n",
    "#                  mode: str=\"train\",\n",
    "#                  random_resize_crop=None,\n",
    "#                  center_crop=None,\n",
    "#                  apply_color_jitter: bool = False,\n",
    "#                  normalize = (\n",
    "#                      [0,0,0],\n",
    "#                      [1,1,1]\n",
    "#                  )\n",
    "#                 ) -> None:\n",
    "#         super().__init__()\n",
    "#         self.mode = mode\n",
    "#         self.random_resize_crop = random_resize_crop\n",
    "#         self.center_crop = center_crop\n",
    "#         self._apply_color_jitter = apply_color_jitter\n",
    "#         self.normalize = normalize\n",
    "        \n",
    "#         self.build_transforms(mode=mode)\n",
    "\n",
    "        \n",
    "#     def add_train_transforms(self, transforms=None):\n",
    "        \n",
    "#         transforms = transforms or []\n",
    "#         # if mode == \"train\":\n",
    "#         transforms.append(T.RandomPerspective())\n",
    "#         if type(self.random_resize_crop) == int:\n",
    "#             transforms.append(T.RandomResizedCrop(self.random_resize_crop))\n",
    "#         transforms.extend([\n",
    "#             T.RandomHorizontalFlip(),\n",
    "#             T.RandomVerticalFlip()\n",
    "#         ])\n",
    "#         return transforms\n",
    "\n",
    "#     def add_test_transforms(self, transforms=None):\n",
    "        \n",
    "#         transforms = transforms or []\n",
    "#         if type(self.center_crop) == int:\n",
    "#             transforms.append(T.CenterCrop(self.center_crop))\n",
    "#         return transforms\n",
    "\n",
    "\n",
    "#     def build_transforms(self,\n",
    "#                          mode: str = \"train\"):\n",
    "#         transforms = []\n",
    "#         if mode == \"train\":\n",
    "#             transforms = self.add_train_transforms(transforms=transforms)\n",
    "#         elif mode in [\"val\", \"test\"]:\n",
    "#             transforms = self.add_test_transforms(transforms=transforms)\n",
    "\n",
    "#         transforms.extend([\n",
    "# \t\t\t# T.ToTensor(),\n",
    "# \t\t\tT.Normalize(*self.normalize)\n",
    "#         ])\n",
    "\n",
    "#         self.transforms = nn.Sequential(*transforms)\n",
    "#         self.jitter = AT.ColorJitter(brightness=0.2,\n",
    "#                                      contrast=0.2,\n",
    "#                                      saturation=0.2,\n",
    "#                                      hue=0.2,\n",
    "#                                      always_apply=False,\n",
    "#                                      p=0.5)\n",
    "\n",
    "#     @torch.no_grad()  # disable gradients for effiency\n",
    "#     def forward(self, x: torch.Tensor) -> torch.Tensor:\n",
    "#         x_out = self.transforms(x)  # BxCxHxW\n",
    "#         if self._apply_color_jitter:\n",
    "#             x_out = self.jitter(x_out)\n",
    "#         return x_out"
   ]
  },
  {
   "cell_type": "code",
   "execution_count": null,
   "id": "c793d955-7697-4def-8cd2-37b8f8935d7d",
   "metadata": {},
   "outputs": [],
   "source": []
  },
  {
   "cell_type": "code",
   "execution_count": null,
   "id": "c293224e-c531-43c7-9370-c7c98c827c7b",
   "metadata": {},
   "outputs": [],
   "source": []
  },
  {
   "cell_type": "code",
   "execution_count": null,
   "id": "e1332a7b-821a-4ff5-9765-8156e2194ee4",
   "metadata": {},
   "outputs": [],
   "source": []
  },
  {
   "cell_type": "code",
   "execution_count": 3,
   "id": "d9ee7a6f-aea8-4a8c-83a6-0673fdbc2e67",
   "metadata": {},
   "outputs": [],
   "source": [
    "# for subset in [\"train\",\"val\", \"test\"]:\n",
    "#     data = Herbarium2022Dataset(subset=subset,\n",
    "#                                 label_col=\"scientificName\",\n",
    "#                                 train_size=0.7,\n",
    "#                                 shuffle=(subset != \"test\"),\n",
    "#                                 seed=14,\n",
    "#                                 transform=None)\n",
    "\n",
    "#########################################\n",
    "\n",
    "CATALOG_DIR = \"/media/data_cifs/projects/prj_fossils/users/jacob/data/herbarium_2022/catalog\"\n",
    "SHARD_DIR = \"/media/data_cifs/projects/prj_fossils/users/jacob/data/herbarium_2022/webdataset\"\n",
    "\n",
    "# datamodule = Herbarium2022DataModule(catalog_dir=CATALOG_DIR,\n",
    "#                                      batch_size=64,\n",
    "#                                      num_workers=4,\n",
    "#                                      image_reader=read_file_binary,\n",
    "#                                      remove_transforms=True)\n",
    "# datamodule.setup()\n",
    "\n",
    "\n",
    "# train_dataloader = datamodule.train_dataloader()\n",
    "# train_batch = next(iter(train_dataloader))\n",
    "# datamodule.train_dataset.encoder.inverse_transform(train_batch[1])"
   ]
  },
  {
   "cell_type": "code",
   "execution_count": null,
   "id": "d24c5822-233b-44d2-b104-3572091f03b1",
   "metadata": {},
   "outputs": [],
   "source": [
    "# checkpoint_callback = [c for c in callbacks if isinstance(c, pl.callbacks.ModelCheckpoint)][0]\n",
    "# logging.info(f\"checkpoint_callback.best_model_path: {str(checkpoint_callback.best_model_path)}\")\n",
    "# config.system.tasks[f\"task_{task_id}\"].ckpt_path = checkpoint_callback.best_model_path\n",
    "# checkpoint_callback.best_model_score = checkpoint_callback.best_model_score or 0.0\n",
    "# logging.info(f\"checkpoint_callback.best_model_score: {checkpoint_callback.best_model_score:.3f}\")\n",
    "# logging.info(f\"[Initiating TESTING on task_{task_id}]\")\n",
    "\n",
    "\n",
    "# test_results = run_multitask_test(trainer=trainer,\n",
    "#                               model=model,\n",
    "#                               datamodule=datamodule,\n",
    "#                               config=config,\n",
    "#                               tasks=\"all\")#,"
   ]
  },
  {
   "cell_type": "code",
   "execution_count": null,
   "id": "64696c69-944a-421c-b882-3b36adf86fbc",
   "metadata": {},
   "outputs": [],
   "source": []
  }
 ],
 "metadata": {
  "kernelspec": {
   "display_name": "Python 3 (ipykernel)",
   "language": "python",
   "name": "python3"
  },
  "language_info": {
   "codemirror_mode": {
    "name": "ipython",
    "version": 3
   },
   "file_extension": ".py",
   "mimetype": "text/x-python",
   "name": "python",
   "nbconvert_exporter": "python",
   "pygments_lexer": "ipython3",
   "version": "3.8.12"
  }
 },
 "nbformat": 4,
 "nbformat_minor": 5
}
