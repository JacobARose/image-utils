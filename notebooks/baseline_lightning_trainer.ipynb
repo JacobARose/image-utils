{
 "cells": [
  {
   "cell_type": "markdown",
   "id": "d6d4a8cd-4e6d-4cc0-bc55-dedc99912842",
   "metadata": {},
   "source": [
    "## baseline lightning trainer notebook\n",
    "\n",
    "Created on: Wednesday March 16th, 2022  \n",
    "Created by: Jacob Alexander Rose  "
   ]
  },
  {
   "cell_type": "code",
   "execution_count": 1,
   "id": "9bc2fde7-fce4-4286-bfe6-aa46e17e2bab",
   "metadata": {},
   "outputs": [
    {
     "name": "stdout",
     "output_type": "stream",
     "text": [
      "Importing imutils\n"
     ]
    }
   ],
   "source": [
    "%load_ext autoreload\n",
    "%autoreload 2\n",
    "\n",
    "import os\n",
    "\n",
    "os.environ[\"CUDA_VISIBLE_DEVICES\"] = \"1\"\n",
    "\n",
    "\n",
    "from IPython.display import display\n",
    "from IPython.core.interactiveshell import InteractiveShell\n",
    "InteractiveShell.ast_node_interactivity = \"all\"\n",
    "\n",
    "\n",
    "import pandas as pd\n",
    "from pathlib import Path\n",
    "from icecream import ic\n",
    "from rich import print as pp\n",
    "import warnings\n",
    "warnings.simplefilter(action='ignore', category=FutureWarning)\n",
    "\n",
    "import pytorch_lightning as pl\n",
    "# from torchvision import transforms as T\n",
    "# import torchmetrics\n",
    "import argparse\n",
    "\n",
    "import wandb\n",
    "import matplotlib.pyplot as plt\n",
    "\n",
    "from hydra.experimental import compose, initialize, initialize_config_dir\n",
    "import hydra\n",
    "from omegaconf import DictConfig, OmegaConf\n",
    "from typing import *\n",
    "default_reader = None\n",
    "\n",
    "from imutils.ml.models.pl import classifier\n",
    "from imutils.ml.utils.experiment_utils import configure_callbacks, configure_loggers, configure_trainer\n",
    "# from imutils.big.datamodule import Herbarium2022DataModule, Herbarium2022Dataset\n",
    "from imutils.ml.data.datamodule import *\n",
    "from imutils.ml.utils.etl_utils import ETL\n",
    "import imutils\n",
    "\n",
    "# from dataclasses import dataclass, asdict, replace\n",
    "# from typing import *\n",
    "# from omegaconf import DictConfig, OmegaConf"
   ]
  },
  {
   "cell_type": "code",
   "execution_count": 9,
   "id": "6a1159bf-be70-4567-8365-7389ccb12cd8",
   "metadata": {},
   "outputs": [
    {
     "name": "stdout",
     "output_type": "stream",
     "text": [
      "self.transform_cfg:\n"
     ]
    },
    {
     "data": {
      "text/html": [
       "<pre style=\"white-space:pre;overflow-x:auto;line-height:normal;font-family:Menlo,'DejaVu Sans Mono',consolas,'Courier New',monospace\"><span style=\"font-weight: bold\">{</span><span style=\"color: #008000; text-decoration-color: #008000\">'preprocess'</span>: <span style=\"font-weight: bold\">{</span><span style=\"color: #008000; text-decoration-color: #008000\">'train'</span>: <span style=\"font-weight: bold\">{</span><span style=\"color: #008000; text-decoration-color: #008000\">'resize'</span>: <span style=\"color: #008080; text-decoration-color: #008080; font-weight: bold\">512</span><span style=\"font-weight: bold\">}</span>, <span style=\"color: #008000; text-decoration-color: #008000\">'val'</span>: <span style=\"font-weight: bold\">{</span><span style=\"color: #008000; text-decoration-color: #008000\">'resize'</span>: <span style=\"color: #008080; text-decoration-color: #008080; font-weight: bold\">256</span><span style=\"font-weight: bold\">}</span>, <span style=\"color: #008000; text-decoration-color: #008000\">'test'</span>: <span style=\"font-weight: bold\">{</span><span style=\"color: #008000; text-decoration-color: #008000\">'resize'</span>: <span style=\"color: #008080; text-decoration-color: #008080; font-weight: bold\">256</span><span style=\"font-weight: bold\">}}</span>, \n",
       "<span style=\"color: #008000; text-decoration-color: #008000\">'batch_transform'</span>: <span style=\"font-weight: bold\">{</span><span style=\"color: #008000; text-decoration-color: #008000\">'train'</span>: <span style=\"font-weight: bold\">{</span><span style=\"color: #008000; text-decoration-color: #008000\">'random_resize_crop'</span>: <span style=\"color: #008080; text-decoration-color: #008080; font-weight: bold\">224</span><span style=\"font-weight: bold\">}</span>, <span style=\"color: #008000; text-decoration-color: #008000\">'val'</span>: <span style=\"font-weight: bold\">{</span><span style=\"color: #008000; text-decoration-color: #008000\">'center_crop'</span>: <span style=\"color: #008080; text-decoration-color: #008080; font-weight: bold\">224</span><span style=\"font-weight: bold\">}</span>, \n",
       "<span style=\"color: #008000; text-decoration-color: #008000\">'test'</span>: <span style=\"font-weight: bold\">{</span><span style=\"color: #008000; text-decoration-color: #008000\">'center_crop'</span>: <span style=\"color: #008080; text-decoration-color: #008080; font-weight: bold\">224</span><span style=\"font-weight: bold\">}}</span>, <span style=\"color: #008000; text-decoration-color: #008000\">'normalize'</span>: <span style=\"font-weight: bold\">[[</span><span style=\"color: #008080; text-decoration-color: #008080; font-weight: bold\">0.485</span>, <span style=\"color: #008080; text-decoration-color: #008080; font-weight: bold\">0.456</span>, <span style=\"color: #008080; text-decoration-color: #008080; font-weight: bold\">0.406</span><span style=\"font-weight: bold\">]</span>, <span style=\"font-weight: bold\">[</span><span style=\"color: #008080; text-decoration-color: #008080; font-weight: bold\">0.229</span>, <span style=\"color: #008080; text-decoration-color: #008080; font-weight: bold\">0.224</span>, <span style=\"color: #008080; text-decoration-color: #008080; font-weight: bold\">0.225</span><span style=\"font-weight: bold\">]]}</span>\n",
       "</pre>\n"
      ],
      "text/plain": [
       "\u001b[1m{\u001b[0m\u001b[32m'preprocess'\u001b[0m: \u001b[1m{\u001b[0m\u001b[32m'train'\u001b[0m: \u001b[1m{\u001b[0m\u001b[32m'resize'\u001b[0m: \u001b[1;36m512\u001b[0m\u001b[1m}\u001b[0m, \u001b[32m'val'\u001b[0m: \u001b[1m{\u001b[0m\u001b[32m'resize'\u001b[0m: \u001b[1;36m256\u001b[0m\u001b[1m}\u001b[0m, \u001b[32m'test'\u001b[0m: \u001b[1m{\u001b[0m\u001b[32m'resize'\u001b[0m: \u001b[1;36m256\u001b[0m\u001b[1m}\u001b[0m\u001b[1m}\u001b[0m, \n",
       "\u001b[32m'batch_transform'\u001b[0m: \u001b[1m{\u001b[0m\u001b[32m'train'\u001b[0m: \u001b[1m{\u001b[0m\u001b[32m'random_resize_crop'\u001b[0m: \u001b[1;36m224\u001b[0m\u001b[1m}\u001b[0m, \u001b[32m'val'\u001b[0m: \u001b[1m{\u001b[0m\u001b[32m'center_crop'\u001b[0m: \u001b[1;36m224\u001b[0m\u001b[1m}\u001b[0m, \n",
       "\u001b[32m'test'\u001b[0m: \u001b[1m{\u001b[0m\u001b[32m'center_crop'\u001b[0m: \u001b[1;36m224\u001b[0m\u001b[1m}\u001b[0m\u001b[1m}\u001b[0m, \u001b[32m'normalize'\u001b[0m: \u001b[1m[\u001b[0m\u001b[1m[\u001b[0m\u001b[1;36m0.485\u001b[0m, \u001b[1;36m0.456\u001b[0m, \u001b[1;36m0.406\u001b[0m\u001b[1m]\u001b[0m, \u001b[1m[\u001b[0m\u001b[1;36m0.229\u001b[0m, \u001b[1;36m0.224\u001b[0m, \u001b[1;36m0.225\u001b[0m\u001b[1m]\u001b[0m\u001b[1m]\u001b[0m\u001b[1m}\u001b[0m\n"
      ]
     },
     "metadata": {},
     "output_type": "display_data"
    },
    {
     "name": "stdout",
     "output_type": "stream",
     "text": [
      "self.normalize: [[0.485, 0.456, 0.406], [0.229, 0.224, 0.225]]\n",
      "self.normalize: [[0.485, 0.456, 0.406], [0.229, 0.224, 0.225]]\n",
      "self.normalize: [[0.485, 0.456, 0.406], [0.229, 0.224, 0.225]]\n"
     ]
    },
    {
     "name": "stderr",
     "output_type": "stream",
     "text": [
      "ic| subset: 'train'\n",
      "    num_samples: 13032\n",
      "    num_batches: 102\n",
      "    self.num_classes: 273\n",
      "    self.batch_size: 128\n",
      "ic| subset: 'val'\n",
      "    num_samples: 5214\n",
      "    num_batches: 41\n",
      "    self.num_classes: 273\n",
      "    self.batch_size: 128\n",
      "ic| subset: 'test'\n",
      "    num_samples: 7821\n",
      "    num_batches: 62\n",
      "    self.num_classes: 273\n",
      "    self.batch_size: 128\n"
     ]
    }
   ],
   "source": [
    "# ds = ExtantLeavesDataset(label_col='genus')\n",
    "\n",
    "dm = ExtantLeavesDataModule(label_col='genus')\n",
    "# dm = Herbarium2022DataModule(label_col='genus')"
   ]
  },
  {
   "cell_type": "code",
   "execution_count": 10,
   "id": "389925b7-bb5e-46bb-a07a-73345f5c789f",
   "metadata": {},
   "outputs": [
    {
     "data": {
      "text/plain": [
       "ExtantLeavesDataModuleConfig(catalog_dir='/media/data_cifs/projects/prj_fossils/users/jacob/data/leavesdb-v1_1/extant_leaves_family_3_512/splits/splits=(0.5,0.2,0.3)', label_col='genus', splits=(0.5, 0.2, 0.3), shuffle=True, seed=14, batch_size=128, num_workers=16, pin_memory=True, persistent_workers=False, transform_cfg={'preprocess': {'train': {'resize': 512}, 'val': {'resize': 256}, 'test': {'resize': 256}}, 'batch_transform': {'train': {'random_resize_crop': 224}, 'val': {'center_crop': 224}, 'test': {'center_crop': 224}}, 'normalize': [[0.485, 0.456, 0.406], [0.229, 0.224, 0.225]]}, remove_transforms=False)"
      ]
     },
     "execution_count": 10,
     "metadata": {},
     "output_type": "execute_result"
    }
   ],
   "source": [
    "dm.get_cfg()"
   ]
  },
  {
   "cell_type": "code",
   "execution_count": 11,
   "id": "a3b5beb2-a5fc-40b9-9b7e-c294521bbcbf",
   "metadata": {},
   "outputs": [
    {
     "data": {
      "text/plain": [
       "ExtantLeavesDatasetConfig(catalog_dir='/media/data_cifs/projects/prj_fossils/users/jacob/data/leavesdb-v1_1/extant_leaves_family_3_512/splits/splits=(0.5,0.2,0.3)', subset='train', label_col='genus', x_col='path', y_col='y', id_col='catalog_number', splits=(0.5, 0.2, 0.3), shuffle=True, seed=14)"
      ]
     },
     "execution_count": 11,
     "metadata": {},
     "output_type": "execute_result"
    },
    {
     "data": {
      "text/plain": [
       "ExtantLeavesDatasetConfig(catalog_dir='/media/data_cifs/projects/prj_fossils/users/jacob/data/leavesdb-v1_1/extant_leaves_family_3_512/splits/splits=(0.5,0.2,0.3)', subset='val', label_col='genus', x_col='path', y_col='y', id_col='catalog_number', splits=(0.5, 0.2, 0.3), shuffle=True, seed=14)"
      ]
     },
     "execution_count": 11,
     "metadata": {},
     "output_type": "execute_result"
    },
    {
     "data": {
      "text/plain": [
       "ExtantLeavesDatasetConfig(catalog_dir='/media/data_cifs/projects/prj_fossils/users/jacob/data/leavesdb-v1_1/extant_leaves_family_3_512/splits/splits=(0.5,0.2,0.3)', subset='test', label_col='genus', x_col='path', y_col='y', id_col='catalog_number', splits=(0.5, 0.2, 0.3), shuffle=True, seed=14)"
      ]
     },
     "execution_count": 11,
     "metadata": {},
     "output_type": "execute_result"
    }
   ],
   "source": [
    "ds = dm.train_dataset\n",
    "\n",
    "ds.cfg\n",
    "\n",
    "ds = dm.val_dataset\n",
    "\n",
    "ds.cfg\n",
    "\n",
    "ds = dm.test_dataset\n",
    "\n",
    "ds.cfg"
   ]
  },
  {
   "cell_type": "code",
   "execution_count": 30,
   "id": "13ce1dfb-b5fa-4dc3-b3cc-4d0563d1662e",
   "metadata": {},
   "outputs": [],
   "source": [
    "# def find_data_splits_dir(source_dir: str,\n",
    "# \t\t\t\t\t\t train_size: float=0.7) -> Path:\n",
    "#     \"\"\"\n",
    "#     Given a base path of `source_dir`, construct the correct data split dir path using chosen train_size.\n",
    "#     \"\"\"\n",
    "\n",
    "#     if f\"train_size-{train_size:.1f}\" in str(source_dir):\n",
    "#         return source_dir\n",
    "#         # print(f\"Returning in 1st block -> source_dir: {source_dir}\")\n",
    "    \n",
    "#     out_dir = Path(source_dir)\n",
    "    \n",
    "#     train_split_subdir = out_dir.parts[-1] \n",
    "#     if train_split_subdir.split(\"-\")[0] == \"train_size\":\n",
    "#         if train_split_subdir.split(\"-\")[0] != f\"{train_size:.1f}\":\n",
    "#             return Path(*out_dir.parts[:-1], f\"train_size-{train_size:.1f}\")\n",
    "#         return out_dir\n",
    "\n",
    "#     if \"splits\" not in out_dir.parts[-2:]:\n",
    "#         out_dir = out_dir / \"splits\"\n",
    "\n",
    "#     out_dir = out_dir / f\"train_size-{train_size:.1f}\"\n",
    "#     return out_dir\n",
    "\n",
    "\n",
    "# # print(f\"Returning in last block -> out_dir: {out_dir}\")\n",
    "\n",
    "# source_dir='/media/data_cifs/projects/prj_fossils/data/raw_data/herbarium-2022-fgvc9_resize-512/catalogs/splits/train_size-0.8'\n",
    "# train_size=0.7\n",
    "\n",
    "# result = find_data_splits_dir(source_dir=source_dir,\n",
    "#                      train_size=train_size)\n",
    "\n",
    "# print(result)"
   ]
  },
  {
   "cell_type": "code",
   "execution_count": null,
   "id": "cfc7a3f4-6c32-42ba-b800-8016a1186365",
   "metadata": {},
   "outputs": [],
   "source": []
  },
  {
   "cell_type": "code",
   "execution_count": null,
   "id": "fbe830ec-b5e9-424d-b85e-5ec749c755ea",
   "metadata": {},
   "outputs": [],
   "source": []
  },
  {
   "cell_type": "code",
   "execution_count": null,
   "id": "7c87379d-ae4a-47b6-8a96-cae7d4de72dc",
   "metadata": {},
   "outputs": [],
   "source": []
  },
  {
   "cell_type": "code",
   "execution_count": null,
   "id": "5d98be14-3698-4a72-aad2-2ed80dcbce29",
   "metadata": {},
   "outputs": [],
   "source": []
  },
  {
   "cell_type": "code",
   "execution_count": null,
   "id": "0fc5ad6c-005b-4283-92f7-dab6871358af",
   "metadata": {},
   "outputs": [],
   "source": []
  },
  {
   "cell_type": "code",
   "execution_count": null,
   "id": "4590cd50-fe41-4a8e-8f63-1437d2c7eca4",
   "metadata": {},
   "outputs": [],
   "source": []
  },
  {
   "cell_type": "markdown",
   "id": "992de5cd-852d-4923-9db3-c6d8f05a1f8c",
   "metadata": {},
   "source": [
    "## Load test config"
   ]
  },
  {
   "cell_type": "code",
   "execution_count": 11,
   "id": "4682ef89-8892-415e-8c4e-052c3a6db96c",
   "metadata": {},
   "outputs": [
    {
     "ename": "TypeError",
     "evalue": "save() got an unexpected keyword argument 'glob_str'",
     "output_type": "error",
     "traceback": [
      "\u001b[0;31m---------------------------------------------------------------------------\u001b[0m",
      "\u001b[0;31mTypeError\u001b[0m                                 Traceback (most recent call last)",
      "\u001b[0;32m/tmp/ipykernel_813742/630461149.py\u001b[0m in \u001b[0;36m<cell line: 5>\u001b[0;34m()\u001b[0m\n\u001b[1;32m      3\u001b[0m \u001b[0;31m# os.listdir(run_dir)\u001b[0m\u001b[0;34m\u001b[0m\u001b[0;34m\u001b[0m\u001b[0;34m\u001b[0m\u001b[0m\n\u001b[1;32m      4\u001b[0m \u001b[0mos\u001b[0m\u001b[0;34m.\u001b[0m\u001b[0mchdir\u001b[0m\u001b[0;34m(\u001b[0m\u001b[0mrun_dir\u001b[0m\u001b[0;34m)\u001b[0m\u001b[0;34m\u001b[0m\u001b[0;34m\u001b[0m\u001b[0m\n\u001b[0;32m----> 5\u001b[0;31m \u001b[0mrun\u001b[0m\u001b[0;34m.\u001b[0m\u001b[0msave\u001b[0m\u001b[0;34m(\u001b[0m\u001b[0mglob_str\u001b[0m\u001b[0;34m=\u001b[0m\u001b[0;34m\"./ckpts/*\"\u001b[0m\u001b[0;34m)\u001b[0m\u001b[0;34m\u001b[0m\u001b[0;34m\u001b[0m\u001b[0m\n\u001b[0m",
      "\u001b[0;31mTypeError\u001b[0m: save() got an unexpected keyword argument 'glob_str'"
     ]
    }
   ],
   "source": [
    "run_dir = \"/media/data_cifs/projects/prj_fossils/users/jacob/experiments/2022/herbarium2022/hydra_experiments/2022-03-29/05-31-45\"\n",
    "\n",
    "# os.listdir(run_dir)\n",
    "# os.chdir(run_dir)\n",
    "# run.save(glob_str=\"./ckpts/*\")"
   ]
  },
  {
   "cell_type": "code",
   "execution_count": 3,
   "id": "b57bda7f-b807-41dc-b7fc-9fb96f50f4dd",
   "metadata": {},
   "outputs": [
    {
     "data": {
      "text/plain": [
       "['/media/data_cifs/projects/prj_fossils/users/jacob/experiments/2022/herbarium2022/hydra_experiments/2022-03-29/05-31-45/ckpts/epoch=31-val_loss=1.270-val_macro_F1=0.738/model_weights.ckpt',\n",
       " '/media/data_cifs/projects/prj_fossils/users/jacob/experiments/2022/herbarium2022/hydra_experiments/2022-03-29/05-31-45/ckpts/epoch=32-val_loss=1.277-val_macro_F1=0.739/model_weights.ckpt',\n",
       " '/media/data_cifs/projects/prj_fossils/users/jacob/experiments/2022/herbarium2022/hydra_experiments/2022-03-29/05-31-45/ckpts/last.ckpt']"
      ]
     },
     "execution_count": 3,
     "metadata": {},
     "output_type": "execute_result"
    }
   ],
   "source": [
    "# run_dir = \"/media/data_cifs/projects/prj_fossils/users/jacob/experiments/2022/herbarium2022/hydra_experiments/2022-03-29/05-31-45\"\n",
    "\n",
    "run_dir = \"/media/data_cifs/projects/prj_fossils/users/jacob/experiments/2022/herbarium2022/hydra_experiments/2022-03-29/05-31-45/\"\n",
    "\n",
    "ckpt_dir = os.path.join(run_dir, \"ckpts\")\n",
    "\n",
    "top_k = 3\n",
    "\n",
    "ckpt_paths = [os.path.join(ckpt_dir, f) for f in sorted(os.listdir(ckpt_dir))[-top_k:]]\n",
    "paths = []\n",
    "for d in ckpt_paths:\n",
    "    if os.path.isdir(d):\n",
    "        for f in sorted(os.listdir(d)):\n",
    "            paths.append(os.path.join(d, f))\n",
    "    else:\n",
    "        paths.append(d)\n",
    "paths"
   ]
  },
  {
   "cell_type": "code",
   "execution_count": 10,
   "id": "f6ba07c5-c899-4eae-88b5-8d6c433bf119",
   "metadata": {},
   "outputs": [
    {
     "data": {
      "text/plain": [
       "['/media/data_cifs/projects/prj_fossils/users/jacob/experiments/2022/herbarium2022/hydra_experiments/2022-03-29/05-31-45/ckpts/epoch=26-val_loss=1.281-val_macro_F1=0.733/model_weights.ckpt',\n",
       " '/media/data_cifs/projects/prj_fossils/users/jacob/experiments/2022/herbarium2022/hydra_experiments/2022-03-29/05-31-45/ckpts/epoch=27-val_loss=1.290-val_macro_F1=0.734/model_weights.ckpt',\n",
       " '/media/data_cifs/projects/prj_fossils/users/jacob/experiments/2022/herbarium2022/hydra_experiments/2022-03-29/05-31-45/ckpts/last.ckpt']"
      ]
     },
     "execution_count": 10,
     "metadata": {},
     "output_type": "execute_result"
    }
   ],
   "source": [
    "# run_dir = \"/media/data_cifs/projects/prj_fossils/users/jacob/experiments/2022/herbarium2022/hydra_experiments/2022-03-29/05-31-45\"\n",
    "\n",
    "run_dir = \"/media/data_cifs/projects/prj_fossils/users/jacob/experiments/2022/herbarium2022/hydra_experiments/2022-03-29/05-31-45/ckpts/\"\n",
    "\n",
    "ckpt_dir = os.path.join(run_dir, \"ckpts\")\n",
    "\n",
    "top_k = 3\n",
    "\n",
    "ckpt_paths = [os.path.join(ckpt_dir, f) for f in sorted(os.listdir(ckpt_dir))[-top_k:]]\n",
    "paths = []\n",
    "for d in ckpt_paths:\n",
    "    if os.path.isdir(d):\n",
    "        for f in sorted(os.listdir(d)):\n",
    "            paths.append(os.path.join(d, f))\n",
    "    else:\n",
    "        paths.append(d)\n",
    "paths"
   ]
  },
  {
   "cell_type": "code",
   "execution_count": 4,
   "id": "51e6b9fa-cc13-42be-a62d-3e2eb9343475",
   "metadata": {},
   "outputs": [
    {
     "name": "stdout",
     "output_type": "stream",
     "text": [
      "BASH_EXECUTION_STRING='set | grep WANDB'\n",
      "WANDB_API_KEY=4da22f6127e7f77527340ffede80688f6e9fb597\n",
      "WANDB_CACHE_DIR=/media/data/jacob/wandb_cache\n",
      "WANDB_ENTITY=jrose\n",
      "WANDB_PROJECT=herbarium2022\n"
     ]
    },
    {
     "name": "stderr",
     "output_type": "stream",
     "text": [
      "\u001b[34m\u001b[1mwandb\u001b[0m: Adding directory to artifact (/media/data_cifs/projects/prj_fossils/users/jacob/experiments/2022/herbarium2022/hydra_experiments/2022-03-29/05-31-45/ckpts)... Done. 15.4s\n",
      "Failed to detect the name of this notebook, you can set it manually with the WANDB_NOTEBOOK_NAME environment variable to enable code saving.\n",
      "\u001b[34m\u001b[1mwandb\u001b[0m: wandb version 0.12.11 is available!  To upgrade, please run:\n",
      "\u001b[34m\u001b[1mwandb\u001b[0m:  $ pip install wandb --upgrade\n"
     ]
    },
    {
     "data": {
      "text/html": [
       "\n",
       "                    Syncing run <strong><a href=\"https://wandb.ai/jrose/herbarium2022/runs/2k46e2m8\" target=\"_blank\">glamorous-jazz-138</a></strong> to <a href=\"https://wandb.ai/jrose/herbarium2022\" target=\"_blank\">Weights & Biases</a> (<a href=\"https://docs.wandb.com/integrations/jupyter.html\" target=\"_blank\">docs</a>).<br/>\n",
       "\n",
       "                "
      ],
      "text/plain": [
       "<IPython.core.display.HTML object>"
      ]
     },
     "metadata": {},
     "output_type": "display_data"
    },
    {
     "data": {
      "text/html": [
       "<br/>Waiting for W&B process to finish, PID 1428815... <strong style=\"color:green\">(success).</strong>"
      ],
      "text/plain": [
       "<IPython.core.display.HTML object>"
      ]
     },
     "metadata": {},
     "output_type": "display_data"
    },
    {
     "data": {
      "application/vnd.jupyter.widget-view+json": {
       "model_id": "",
       "version_major": 2,
       "version_minor": 0
      },
      "text/plain": [
       "VBox(children=(Label(value=' 656.75MB of 656.75MB uploaded (0.00MB deduped)\\r'), FloatProgress(value=1.0, max=…"
      ]
     },
     "metadata": {},
     "output_type": "display_data"
    },
    {
     "data": {
      "text/html": [
       "<style>\n",
       "    table.wandb td:nth-child(1) { padding: 0 10px; text-align: right }\n",
       "    .wandb-row { display: flex; flex-direction: row; flex-wrap: wrap; width: 100% }\n",
       "    .wandb-col { display: flex; flex-direction: column; flex-basis: 100%; flex: 1; padding: 10px; }\n",
       "    </style>\n",
       "<div class=\"wandb-row\"><div class=\"wandb-col\">\n",
       "</div><div class=\"wandb-col\">\n",
       "</div></div>\n",
       "Synced 5 W&B file(s), 0 media file(s), 3 artifact file(s) and 1 other file(s)\n",
       "<br/>Synced <strong style=\"color:#cdcd00\">glamorous-jazz-138</strong>: <a href=\"https://wandb.ai/jrose/herbarium2022/runs/2k46e2m8\" target=\"_blank\">https://wandb.ai/jrose/herbarium2022/runs/2k46e2m8</a><br/>\n",
       "Find logs at: <code>./wandb/run-20220403_091322-2k46e2m8/logs</code><br/>\n"
      ],
      "text/plain": [
       "<IPython.core.display.HTML object>"
      ]
     },
     "metadata": {},
     "output_type": "display_data"
    }
   ],
   "source": [
    "import os\n",
    "import wandb\n",
    "\n",
    "os.environ[\"WANDB_PROJECT\"]=\"herbarium2022\"\n",
    "!set | grep WANDB\n",
    "\n",
    "\n",
    "artifact = wandb.Artifact(\"model-weights\", \"checkpoints\")\n",
    "# Add Files and Assets to the artifact using \n",
    "# `.add`, `.add_file`, `.add_dir`, and `.add_reference`\n",
    "artifact.add_dir(ckpt_dir)\n",
    "# artifact.add_file(ckpt_path)\n",
    "artifact.save()\n",
    "\n",
    "\n",
    "\n",
    "\n",
    "# api = wandb.Api()\n",
    "# run = api.run(\"herbarium2022/37r673ke\")\n",
    "# run.upload_file(ckpt_path)\n",
    "# for path in ckpt_paths:\n",
    "#     print(f\"Uploading file to wandb: {path}\")\n",
    "#     run.upload_file(path)\n",
    "# run = wandb.init(project=PROJECT_NAME, resume=True)\n",
    "# run.finish"
   ]
  },
  {
   "cell_type": "code",
   "execution_count": 6,
   "id": "5c533788-e9a5-47af-9c78-0ecc81035e11",
   "metadata": {},
   "outputs": [],
   "source": [
    "%load_ext filprofiler\n",
    "\n",
    "import psutil\n",
    "from rich import print as pp\n",
    "print(f\"RAM memory % used: {psutil.virtual_memory()[2]}\")"
   ]
  },
  {
   "cell_type": "code",
   "execution_count": 2,
   "id": "173156c9-1792-491e-ab0d-04d01f1069d1",
   "metadata": {},
   "outputs": [
    {
     "name": "stdout",
     "output_type": "stream",
     "text": [
      "Importing imutils\n"
     ]
    }
   ],
   "source": [
    "from imutils.ml.data.datamodule import Herbarium2022DataModule, Herbarium2022Dataset\n",
    "import sys"
   ]
  },
  {
   "cell_type": "code",
   "execution_count": 3,
   "id": "a8fb3cea-840c-4e88-9e35-3ef6ef16781a",
   "metadata": {},
   "outputs": [
    {
     "name": "stderr",
     "output_type": "stream",
     "text": [
      "=fil-profile= WARNING: Fil does not (yet) support tracking memory in subprocesses.\n",
      "=fil-profile= Preparing to write to fil-result/tmpqvlwf71t\n",
      "=fil-profile= Wrote flamegraph to \"fil-result/tmpqvlwf71t/peak-memory.svg\"\n",
      "=fil-profile= Wrote flamegraph to \"fil-result/tmpqvlwf71t/peak-memory-reversed.svg\"\n"
     ]
    },
    {
     "data": {
      "text/html": [
       "\n",
       "        <iframe\n",
       "            width=\"100%\"\n",
       "            height=\"600\"\n",
       "            src=\"fil-result/tmpqvlwf71t/peak-memory.svg\"\n",
       "            frameborder=\"0\"\n",
       "            allowfullscreen\n",
       "            \n",
       "        ></iframe>\n",
       "        "
      ],
      "text/plain": [
       "<IPython.lib.display.IFrame at 0x7f37c5628870>"
      ]
     },
     "metadata": {},
     "output_type": "display_data"
    }
   ],
   "source": [
    "%%filprofile\n",
    "\n",
    "root_dir = \"/media/data_cifs/projects/prj_fossils/data/raw_data/herbarium-2022-fgvc9_resize-512/catalogs\"\n",
    "\n",
    "ds = Herbarium2022Dataset(catalog_dir=root_dir, image_reader=\"PIL\")\n",
    "\n",
    "ds"
   ]
  },
  {
   "cell_type": "code",
   "execution_count": 12,
   "id": "a550fef0-9f1f-44f0-b7c9-5f59aeb63e26",
   "metadata": {},
   "outputs": [
    {
     "data": {
      "text/html": [
       "<pre style=\"white-space:pre;overflow-x:auto;line-height:normal;font-family:Menlo,'DejaVu Sans Mono',consolas,'Courier New',monospace\"><span style=\"font-weight: bold\">{</span>\n",
       "    <span style=\"color: #008000; text-decoration-color: #008000\">'idx'</span>: <span style=\"color: #008080; text-decoration-color: #008080; font-weight: bold\">800061</span>,\n",
       "    <span style=\"color: #008000; text-decoration-color: #008000\">'Species'</span>: <span style=\"color: #008000; text-decoration-color: #008000\">'Trifolium fucatum'</span>,\n",
       "    <span style=\"color: #008000; text-decoration-color: #008000\">'path'</span>: <span style=\"color: #008000; text-decoration-color: #008000\">'/media/data_cifs/projects/prj_fossils/data/raw_data/herbarium-2022-fgvc9_resize-</span>\n",
       "<span style=\"color: #008000; text-decoration-color: #008000\">512/train_images/147/56/14756__047.jpg'</span>,\n",
       "    <span style=\"color: #008000; text-decoration-color: #008000\">'y'</span>: <span style=\"color: #008080; text-decoration-color: #008080; font-weight: bold\">14752</span>,\n",
       "    <span style=\"color: #008000; text-decoration-color: #008000\">'category_id'</span>: <span style=\"color: #008080; text-decoration-color: #008080; font-weight: bold\">14756</span>,\n",
       "    <span style=\"color: #008000; text-decoration-color: #008000\">'genus_id'</span>: <span style=\"color: #008080; text-decoration-color: #008080; font-weight: bold\">2443</span>,\n",
       "    <span style=\"color: #008000; text-decoration-color: #008000\">'institution_id'</span>: <span style=\"color: #008080; text-decoration-color: #008080; font-weight: bold\">36</span>,\n",
       "    <span style=\"color: #008000; text-decoration-color: #008000\">'image_id'</span>: <span style=\"color: #008000; text-decoration-color: #008000\">'14756__047'</span>,\n",
       "    <span style=\"color: #008000; text-decoration-color: #008000\">'file_name'</span>: <span style=\"color: #008000; text-decoration-color: #008000\">'147/56/14756__047.jpg'</span>,\n",
       "    <span style=\"color: #008000; text-decoration-color: #008000\">'scientificName'</span>: <span style=\"color: #008000; text-decoration-color: #008000\">'Trifolium fucatum Lindl.'</span>,\n",
       "    <span style=\"color: #008000; text-decoration-color: #008000\">'family'</span>: <span style=\"color: #008000; text-decoration-color: #008000\">'Fabaceae'</span>,\n",
       "    <span style=\"color: #008000; text-decoration-color: #008000\">'genus'</span>: <span style=\"color: #008000; text-decoration-color: #008000\">'Trifolium'</span>,\n",
       "    <span style=\"color: #008000; text-decoration-color: #008000\">'species'</span>: <span style=\"color: #008000; text-decoration-color: #008000\">'fucatum'</span>,\n",
       "    <span style=\"color: #008000; text-decoration-color: #008000\">'collectionCode'</span>: <span style=\"color: #008000; text-decoration-color: #008000\">'NY'</span>\n",
       "<span style=\"font-weight: bold\">}</span>\n",
       "</pre>\n"
      ],
      "text/plain": [
       "\u001b[1m{\u001b[0m\n",
       "    \u001b[32m'idx'\u001b[0m: \u001b[1;36m800061\u001b[0m,\n",
       "    \u001b[32m'Species'\u001b[0m: \u001b[32m'Trifolium fucatum'\u001b[0m,\n",
       "    \u001b[32m'path'\u001b[0m: \u001b[32m'/media/data_cifs/projects/prj_fossils/data/raw_data/herbarium-2022-fgvc9_resize-\u001b[0m\n",
       "\u001b[32m512/train_images/147/56/14756__047.jpg'\u001b[0m,\n",
       "    \u001b[32m'y'\u001b[0m: \u001b[1;36m14752\u001b[0m,\n",
       "    \u001b[32m'category_id'\u001b[0m: \u001b[1;36m14756\u001b[0m,\n",
       "    \u001b[32m'genus_id'\u001b[0m: \u001b[1;36m2443\u001b[0m,\n",
       "    \u001b[32m'institution_id'\u001b[0m: \u001b[1;36m36\u001b[0m,\n",
       "    \u001b[32m'image_id'\u001b[0m: \u001b[32m'14756__047'\u001b[0m,\n",
       "    \u001b[32m'file_name'\u001b[0m: \u001b[32m'147/56/14756__047.jpg'\u001b[0m,\n",
       "    \u001b[32m'scientificName'\u001b[0m: \u001b[32m'Trifolium fucatum Lindl.'\u001b[0m,\n",
       "    \u001b[32m'family'\u001b[0m: \u001b[32m'Fabaceae'\u001b[0m,\n",
       "    \u001b[32m'genus'\u001b[0m: \u001b[32m'Trifolium'\u001b[0m,\n",
       "    \u001b[32m'species'\u001b[0m: \u001b[32m'fucatum'\u001b[0m,\n",
       "    \u001b[32m'collectionCode'\u001b[0m: \u001b[32m'NY'\u001b[0m\n",
       "\u001b[1m}\u001b[0m\n"
      ]
     },
     "metadata": {},
     "output_type": "display_data"
    }
   ],
   "source": [
    "pp(dict(ds.df.iloc[0]))\n",
    "\n",
    "path = ds.df.path[0]"
   ]
  },
  {
   "cell_type": "code",
   "execution_count": 25,
   "id": "37eda72a-a27a-48a6-a46b-be375cc4db05",
   "metadata": {},
   "outputs": [],
   "source": [
    "from PIL import Image\n",
    "# %%filprofile\n",
    "# img_bytes = img.tobytes()\n",
    "\n",
    "%%filprofile\n",
    "\n",
    "def display_obj_size(obj):\n",
    "    img_mem = sys.getsizeof(obj)\n",
    "    # img_mem = sys.getsizeof(img_bytes)\n",
    "    print(\"img size in memory:\")\n",
    "    print(f\"- {img_mem:,} bytes\")\n",
    "    print(f\"- {img_mem/1000:,} kb\")\n",
    "    print(f\"- {img_mem/1000/1000:,} Mb\")\n",
    "    \n",
    "    \n",
    "display_obj_size(img.tobytes())"
   ]
  },
  {
   "cell_type": "code",
   "execution_count": 35,
   "id": "99f47188-f121-4836-8c9c-15907d16eb2e",
   "metadata": {},
   "outputs": [],
   "source": [
    "import numpy as np\n",
    "import cv2"
   ]
  },
  {
   "cell_type": "code",
   "execution_count": 76,
   "id": "9a414b67-f824-4da3-8b0a-e42b156da148",
   "metadata": {},
   "outputs": [
    {
     "name": "stderr",
     "output_type": "stream",
     "text": [
      "=fil-profile= Preparing to write to fil-result/tmprfhfp9fl\n",
      "=fil-profile= Wrote flamegraph to \"fil-result/tmprfhfp9fl/peak-memory.svg\"\n",
      "=fil-profile= Wrote flamegraph to \"fil-result/tmprfhfp9fl/peak-memory-reversed.svg\"\n"
     ]
    },
    {
     "data": {
      "text/html": [
       "\n",
       "        <iframe\n",
       "            width=\"100%\"\n",
       "            height=\"600\"\n",
       "            src=\"fil-result/tmprfhfp9fl/peak-memory.svg\"\n",
       "            frameborder=\"0\"\n",
       "            allowfullscreen\n",
       "            \n",
       "        ></iframe>\n",
       "        "
      ],
      "text/plain": [
       "<IPython.lib.display.IFrame at 0x7f37c6ad5de0>"
      ]
     },
     "metadata": {},
     "output_type": "display_data"
    }
   ],
   "source": [
    "%%filprofile\n",
    "\n",
    "take_k = 50\n",
    "paths = ds.df.path[:take_k]\n",
    "\n",
    "imgs = []\n",
    "for i, path in enumerate(paths):\n",
    "    # img = Image.open(path)\n",
    "    # img = np.asarray(img)\n",
    "    with open(path,\"rb\") as f:\n",
    "        # imgs.append(f.read())\n",
    "        img_enc = f.read()\n",
    "        \n",
    "    img_buffer = np.frombuffer(img_enc, np.uint8)\n",
    "    dec_img = cv2.imdecode(img_buffer, cv2.IMREAD_ANYCOLOR)\n",
    "    img = dec_img[:,:,::-1]\n",
    "        \n",
    "    # img = cv2.imread(path)\n",
    "    # if i < 3:\n",
    "        # display_obj_size(img.tobytes())\n",
    "    imgs.append(img)\n",
    "    # break\n",
    "    \n",
    "imgs = np.stack(imgs)\n",
    "# print(imgs.shape)"
   ]
  },
  {
   "cell_type": "code",
   "execution_count": 77,
   "id": "8d401040-e7e0-40bc-a175-885af2b07b9e",
   "metadata": {},
   "outputs": [
    {
     "data": {
      "text/plain": [
       "(50, 512, 512, 3)"
      ]
     },
     "execution_count": 77,
     "metadata": {},
     "output_type": "execute_result"
    }
   ],
   "source": [
    "imgs.shape"
   ]
  },
  {
   "cell_type": "code",
   "execution_count": 48,
   "id": "ccd27f94-c836-44f2-8178-a24c75f7644e",
   "metadata": {},
   "outputs": [
    {
     "name": "stdout",
     "output_type": "stream",
     "text": [
      "img size in memory:\n",
      "- 28,187 bytes\n",
      "- 28.187 kb\n",
      "- 0.028187 Mb\n"
     ]
    }
   ],
   "source": [
    "display_obj_size(imgs[0])"
   ]
  },
  {
   "cell_type": "code",
   "execution_count": 66,
   "id": "a31e461d-3965-4509-a77e-d3f9018c43d7",
   "metadata": {},
   "outputs": [],
   "source": [
    "# img_buffer = imgs[2]\n",
    "img_enc = imgs[2]\n",
    "\n",
    "\n",
    "# img_enc = base64.b64decode(img_b64_enc)\n",
    "img_buffer = np.frombuffer(img_enc, np.uint8)\n",
    "dec_img = cv2.imdecode(img_buffer, cv2.IMREAD_ANYCOLOR)\n",
    "img = img[:,:,::-1]"
   ]
  },
  {
   "cell_type": "code",
   "execution_count": 71,
   "id": "31fbdef8-f5e8-4daa-8ac9-30356424a790",
   "metadata": {},
   "outputs": [
    {
     "data": {
      "text/plain": [
       "(512, 512, 3)"
      ]
     },
     "execution_count": 71,
     "metadata": {},
     "output_type": "execute_result"
    }
   ],
   "source": [
    "dec_img.shape"
   ]
  },
  {
   "cell_type": "code",
   "execution_count": 73,
   "id": "6d076f54-3f07-4bcc-93ee-92bbe5f599cf",
   "metadata": {},
   "outputs": [
    {
     "data": {
      "image/png": "[encoded data removed]",
      "text/plain": [
       "<PIL.Image.Image image mode=RGB size=512x512 at 0x7F37C6A938C0>"
      ]
     },
     "execution_count": 73,
     "metadata": {},
     "output_type": "execute_result"
    }
   ],
   "source": [
    "Image.fromarray(dec_img[:,:,::-1])"
   ]
  },
  {
   "cell_type": "code",
   "execution_count": 54,
   "id": "4f6a6646-0344-4d77-abf8-bd08471cdd33",
   "metadata": {},
   "outputs": [
    {
     "ename": "error",
     "evalue": "OpenCV(4.5.5) :-1: error: (-5:Bad argument) in function 'imdecode'\n> Overload resolution failed:\n>  - buf is not a numpy array, neither a scalar\n>  - Expected Ptr<cv::UMat> for argument 'buf'\n",
     "output_type": "error",
     "traceback": [
      "\u001b[0;31m---------------------------------------------------------------------------\u001b[0m",
      "\u001b[0;31merror\u001b[0m                                     Traceback (most recent call last)",
      "\u001b[0;32m/tmp/ipykernel_890750/4235961661.py\u001b[0m in \u001b[0;36m<cell line: 1>\u001b[0;34m()\u001b[0m\n\u001b[0;32m----> 1\u001b[0;31m \u001b[0mdec_img\u001b[0m \u001b[0;34m=\u001b[0m \u001b[0mcv2\u001b[0m\u001b[0;34m.\u001b[0m\u001b[0mimdecode\u001b[0m\u001b[0;34m(\u001b[0m\u001b[0mimgs\u001b[0m\u001b[0;34m[\u001b[0m\u001b[0;36m0\u001b[0m\u001b[0;34m]\u001b[0m\u001b[0;34m,\u001b[0m \u001b[0mcv2\u001b[0m\u001b[0;34m.\u001b[0m\u001b[0mIMREAD_ANYCOLOR\u001b[0m\u001b[0;34m)\u001b[0m\u001b[0;34m\u001b[0m\u001b[0;34m\u001b[0m\u001b[0m\n\u001b[0m",
      "\u001b[0;31merror\u001b[0m: OpenCV(4.5.5) :-1: error: (-5:Bad argument) in function 'imdecode'\n> Overload resolution failed:\n>  - buf is not a numpy array, neither a scalar\n>  - Expected Ptr<cv::UMat> for argument 'buf'\n"
     ]
    }
   ],
   "source": [
    "dec_img = cv2.imdecode(imgs[0], cv2.IMREAD_ANYCOLOR)"
   ]
  },
  {
   "cell_type": "code",
   "execution_count": 51,
   "id": "040a4a83-99a3-4c06-873d-04515a2364a4",
   "metadata": {},
   "outputs": [
    {
     "ename": "error",
     "evalue": "OpenCV(4.5.5) :-1: error: (-5:Bad argument) in function 'imdecode'\n> Overload resolution failed:\n>  - buf is not a numpy array, neither a scalar\n>  - Expected Ptr<cv::UMat> for argument 'buf'\n",
     "output_type": "error",
     "traceback": [
      "\u001b[0;31m---------------------------------------------------------------------------\u001b[0m",
      "\u001b[0;31merror\u001b[0m                                     Traceback (most recent call last)",
      "\u001b[0;32m/tmp/ipykernel_890750/2458361670.py\u001b[0m in \u001b[0;36m<cell line: 1>\u001b[0;34m()\u001b[0m\n\u001b[0;32m----> 1\u001b[0;31m \u001b[0mimg\u001b[0m \u001b[0;34m=\u001b[0m \u001b[0mcv2\u001b[0m\u001b[0;34m.\u001b[0m\u001b[0mimdecode\u001b[0m\u001b[0;34m(\u001b[0m\u001b[0mimgs\u001b[0m\u001b[0;34m[\u001b[0m\u001b[0;36m0\u001b[0m\u001b[0;34m]\u001b[0m\u001b[0;34m,\u001b[0m \u001b[0;34m\"jpeg\"\u001b[0m\u001b[0;34m)\u001b[0m\u001b[0;34m\u001b[0m\u001b[0;34m\u001b[0m\u001b[0m\n\u001b[0m",
      "\u001b[0;31merror\u001b[0m: OpenCV(4.5.5) :-1: error: (-5:Bad argument) in function 'imdecode'\n> Overload resolution failed:\n>  - buf is not a numpy array, neither a scalar\n>  - Expected Ptr<cv::UMat> for argument 'buf'\n"
     ]
    }
   ],
   "source": [
    "img = cv2.imdecode(imgs[0], \"jpeg\")"
   ]
  },
  {
   "cell_type": "code",
   "execution_count": 53,
   "id": "5dff1ba4-5229-48fc-92aa-7fcaa0b0f730",
   "metadata": {},
   "outputs": [],
   "source": [
    "# imgs[0]"
   ]
  },
  {
   "cell_type": "code",
   "execution_count": 47,
   "id": "fd639595-783e-4e87-9406-a86da93cadfd",
   "metadata": {},
   "outputs": [
    {
     "data": {
      "text/plain": [
       "28154"
      ]
     },
     "execution_count": 47,
     "metadata": {},
     "output_type": "execute_result"
    }
   ],
   "source": [
    "len(imgs[0])"
   ]
  },
  {
   "cell_type": "code",
   "execution_count": 46,
   "id": "61f82350-f936-4751-9d14-ebd97f62cc68",
   "metadata": {},
   "outputs": [
    {
     "data": {
      "text/plain": [
       "bytes"
      ]
     },
     "execution_count": 46,
     "metadata": {},
     "output_type": "execute_result"
    }
   ],
   "source": [
    "type(imgs[0])"
   ]
  },
  {
   "cell_type": "code",
   "execution_count": 44,
   "id": "3b3b6704-013b-46fc-aba7-6ac5d91da7e6",
   "metadata": {},
   "outputs": [],
   "source": [
    "stream = imgs[0]\n",
    "stream.read"
   ]
  },
  {
   "cell_type": "code",
   "execution_count": 42,
   "id": "6d2c3e33-6a7e-4afe-94ae-61a011f6de00",
   "metadata": {},
   "outputs": [],
   "source": [
    "imgs[0].read\n",
    "\n",
    "dir(imgs[0])"
   ]
  },
  {
   "cell_type": "code",
   "execution_count": 31,
   "id": "7a60b984-b005-46ba-914a-7c780343a5ca",
   "metadata": {},
   "outputs": [
    {
     "data": {
      "text/plain": [
       "(512, 512, 3)"
      ]
     },
     "execution_count": 31,
     "metadata": {},
     "output_type": "execute_result"
    }
   ],
   "source": [
    "img.shape"
   ]
  },
  {
   "cell_type": "code",
   "execution_count": 8,
   "id": "15f624d3-0d94-48ab-90b0-6ddc96dd2e21",
   "metadata": {},
   "outputs": [],
   "source": [
    "ds.y_col = \"scientificName\""
   ]
  },
  {
   "cell_type": "code",
   "execution_count": 9,
   "id": "e66ada9b-6d4b-4778-9b67-69bdeaa851d4",
   "metadata": {},
   "outputs": [
    {
     "name": "stderr",
     "output_type": "stream",
     "text": [
      "=fil-profile= Preparing to write to fil-result/tmpewm_9wwk\n",
      "=fil-profile= Wrote flamegraph to \"fil-result/tmpewm_9wwk/peak-memory.svg\"\n",
      "=fil-profile= Wrote flamegraph to \"fil-result/tmpewm_9wwk/peak-memory-reversed.svg\"\n"
     ]
    },
    {
     "data": {
      "text/html": [
       "\n",
       "        <iframe\n",
       "            width=\"100%\"\n",
       "            height=\"600\"\n",
       "            src=\"fil-result/tmpewm_9wwk/peak-memory.svg\"\n",
       "            frameborder=\"0\"\n",
       "            allowfullscreen\n",
       "            \n",
       "        ></iframe>\n",
       "        "
      ],
      "text/plain": [
       "<IPython.lib.display.IFrame at 0x7f37c5da75f0>"
      ]
     },
     "metadata": {},
     "output_type": "display_data"
    }
   ],
   "source": [
    "%%filprofile\n",
    "sample = ds[0]"
   ]
  },
  {
   "cell_type": "code",
   "execution_count": 11,
   "id": "ea41007f-ca8e-418e-bc6a-3f35080468cd",
   "metadata": {},
   "outputs": [
    {
     "name": "stdout",
     "output_type": "stream",
     "text": [
      "Trifolium fucatum Lindl.\n"
     ]
    },
    {
     "name": "stderr",
     "output_type": "stream",
     "text": [
      "=fil-profile= Preparing to write to fil-result/tmpdk8pbarg\n",
      "=fil-profile= Wrote flamegraph to \"fil-result/tmpdk8pbarg/peak-memory.svg\"\n",
      "=fil-profile= Wrote flamegraph to \"fil-result/tmpdk8pbarg/peak-memory-reversed.svg\"\n"
     ]
    },
    {
     "data": {
      "text/html": [
       "\n",
       "        <iframe\n",
       "            width=\"100%\"\n",
       "            height=\"600\"\n",
       "            src=\"fil-result/tmpdk8pbarg/peak-memory.svg\"\n",
       "            frameborder=\"0\"\n",
       "            allowfullscreen\n",
       "            \n",
       "        ></iframe>\n",
       "        "
      ],
      "text/plain": [
       "<IPython.lib.display.IFrame at 0x7f37c5da73e0>"
      ]
     },
     "metadata": {},
     "output_type": "display_data"
    }
   ],
   "source": [
    "%%filprofile\n",
    "\n",
    "img = sample[0]\n",
    "label = sample[1]\n",
    "\n",
    "print(label)\n",
    "img"
   ]
  },
  {
   "cell_type": "code",
   "execution_count": 27,
   "id": "12767afb-8cf5-4d0c-b182-27c16f30fb5f",
   "metadata": {},
   "outputs": [
    {
     "name": "stderr",
     "output_type": "stream",
     "text": [
      "UsageError: Line magic function `%memit` not found.\n"
     ]
    }
   ],
   "source": [
    "%memit img_mem = sys.getsizeof(img.tobytes())\n",
    "\n",
    "print(\"img size in memory:\")\n",
    "print(f\"- {img_mem:,} bytes\")\n",
    "print(f\"- {img_mem/1000:,} kb\")\n",
    "print(f\"- {img_mem/1000/1000:,} Mb\")"
   ]
  },
  {
   "cell_type": "code",
   "execution_count": null,
   "id": "cd4442f7-4842-43a5-a593-17ff52b25a0e",
   "metadata": {},
   "outputs": [],
   "source": [
    "from io import BytesIO\n",
    "img_file = BytesIO()\n",
    "img.save(img_file, 'png')\n",
    "img_file_size_png = img_file.tell()\n",
    "img_file = BytesIO()\n",
    "img.save(img_file, 'jpeg')\n",
    "img_file_size_jpeg = img_file.tell()\n",
    "print(\"img_file_size png: \", img_file_size_png)\n",
    "print(\"img_file_size jpeg: \", img_file_size_jpeg)"
   ]
  },
  {
   "cell_type": "code",
   "execution_count": 24,
   "id": "f383e5c9-6639-41fc-9a97-f3ada5e80184",
   "metadata": {},
   "outputs": [],
   "source": [
    "\n",
    "\n",
    "import StringIO\n",
    "output = StringIO.StringIO()\n",
    "image_output.save(output, 'PNG') #a format needs to be provided\n",
    "contents = output.getvalue()\n",
    "output.close()\n",
    "\n",
    "image_filesize = len(contents)"
   ]
  },
  {
   "cell_type": "code",
   "execution_count": 37,
   "id": "bbcefcdc-301b-4eae-9178-504281c71fda",
   "metadata": {},
   "outputs": [
    {
     "name": "stdout",
     "output_type": "stream",
     "text": [
      "total: 270.16255488 GB\n",
      "total: 270,162.55488 MB\n",
      "total: 2.70e+08 kb\n",
      "====================\n",
      "available: 204.895768576 GB\n",
      "available: 204,895.768576 MB\n",
      "available: 2.05e+08 kb\n",
      "====================\n",
      "percent: 24.20%\n",
      "====================\n",
      "used: 52.103389184 GB\n",
      "used: 52,103.389184 MB\n",
      "used: 5.21e+07 kb\n",
      "====================\n",
      "free: 1.262485504 GB\n",
      "free: 1,262.485504 MB\n",
      "free: 1.26e+06 kb\n",
      "====================\n",
      "active: 120.82228019200001 GB\n",
      "active: 120,822.280192 MB\n",
      "active: 1.21e+08 kb\n",
      "====================\n",
      "inactive: 136.644784128 GB\n",
      "inactive: 136,644.784128 MB\n",
      "inactive: 1.37e+08 kb\n",
      "====================\n",
      "buffers: 1.749958656 GB\n",
      "buffers: 1,749.958656 MB\n",
      "buffers: 1.75e+06 kb\n",
      "====================\n",
      "cached: 215.04672153600004 GB\n",
      "cached: 215,046.72153600003 MB\n",
      "cached: 2.15e+08 kb\n",
      "====================\n",
      "shared: 11.269382144 GB\n",
      "shared: 11,269.382144 MB\n",
      "shared: 1.13e+07 kb\n",
      "====================\n",
      "slab: 8.159367168 GB\n",
      "slab: 8,159.367168 MB\n",
      "slab: 8.16e+06 kb\n",
      "====================\n"
     ]
    }
   ],
   "source": [
    "ram_info = psutil.virtual_memory()\n",
    "\n",
    "for name, quantity in ram_info._asdict().items():\n",
    "    if name == \"percent\":\n",
    "        print(f\"{name}: {quantity/100:.2%}\")\n",
    "    else:\n",
    "        print(f\"{name}: {quantity/1000/1000/1000:2,} GB\")\n",
    "        print(f\"{name}: {quantity/1000/1000:2,} MB\")\n",
    "        print(f\"{name}: {quantity/1000:.2e} kb\")\n",
    "    print(\"=\"*20)\n",
    "\n",
    "# pp(ram_info)\n",
    "\n",
    "# total, avail, perc = ram_info[:3]"
   ]
  },
  {
   "cell_type": "code",
   "execution_count": 12,
   "id": "94c3b15c-17f9-4de9-b323-823c68cd47df",
   "metadata": {},
   "outputs": [
    {
     "name": "stdout",
     "output_type": "stream",
     "text": [
      "1.207981e-05\n"
     ]
    }
   ],
   "source": [
    "print(f\"{0.000012079806881608064:e}\")"
   ]
  },
  {
   "cell_type": "code",
   "execution_count": 13,
   "id": "9bb7ae46-715f-4645-8dfa-86c8ddb8726e",
   "metadata": {},
   "outputs": [
    {
     "name": "stdout",
     "output_type": "stream",
     "text": [
      "2.767324e-06\n"
     ]
    }
   ],
   "source": [
    "print(f\"{0.0000027673238836757465:e}\")"
   ]
  },
  {
   "cell_type": "code",
   "execution_count": 14,
   "id": "9616b5fe-7eea-4969-bf4f-0e90d7080e64",
   "metadata": {},
   "outputs": [
    {
     "name": "stdout",
     "output_type": "stream",
     "text": [
      "4.365158e+00\n"
     ]
    }
   ],
   "source": [
    "print(f\"{0.000012079806881608064/0.0000027673238836757465:e}\")"
   ]
  },
  {
   "cell_type": "code",
   "execution_count": 16,
   "id": "14839337-38f0-454b-8403-195c9e5109b8",
   "metadata": {},
   "outputs": [
    {
     "name": "stdout",
     "output_type": "stream",
     "text": [
      "0.22908676527677738\n"
     ]
    }
   ],
   "source": [
    "print(f\"{0.0000027673238836757465/0.000012079806881608064}\")"
   ]
  },
  {
   "cell_type": "code",
   "execution_count": 2,
   "id": "8bc9badc-431d-4313-b761-bc75e4163c60",
   "metadata": {},
   "outputs": [
    {
     "data": {
      "text/plain": [
       "'running'"
      ]
     },
     "execution_count": 2,
     "metadata": {},
     "output_type": "execute_result"
    }
   ],
   "source": [
    "!wandb sync --id \"37r673ke\" -p \"herbarium2022\" -e \"jrose\" --include-online \"/media/data_cifs/projects/prj_fossils/users/jacob/experiments/2022/herbarium2022/hydra_experiments/2022-03-29/05-31-45/ckpts/*\""
   ]
  },
  {
   "cell_type": "code",
   "execution_count": 55,
   "id": "21dd6ae7-3550-4720-bcd5-f2fbcb13740c",
   "metadata": {},
   "outputs": [],
   "source": [
    "(671817 + 167955)\n",
    "\n",
    "train = 671817 / 24 / 4\n",
    "val = 167955 / 24 / 4\n",
    "\n",
    "train\n",
    "val\n",
    "train+ val\n",
    "\n",
    "1/1.10\n",
    "1/1.3\n",
    "1/1.6\n",
    "\n",
    "24/1.10\n",
    "24/1.3\n",
    "24/1.6\n",
    "\n",
    "(24/1.10)**-1\n",
    "(24/1.3)**-1\n",
    "(24/1.6)**-1\n",
    "\n",
    "24/1.62"
   ]
  },
  {
   "cell_type": "code",
   "execution_count": 3,
   "id": "95b0d6ab-43d4-4574-8090-c0c7b0bed117",
   "metadata": {},
   "outputs": [],
   "source": [
    "config_path = os.path.dirname(imutils.ml.BASE_ML_CONF_PATH)\n",
    "config_name = os.path.basename(imutils.ml.BASE_ML_CONF_PATH)\n",
    "\n",
    "cfg = ETL.init_structured_config(config_name = config_name,\n",
    "                                 config_path = config_path,\n",
    "                                 job_name = \"demo\",\n",
    "                                 dataclass_type= None,\n",
    "                                 overrides = [\"data.datamodule.num_workers=4\",\n",
    "                                              \"data/datamodule@data=herbarium2022-res_512_datamodule\",\n",
    "                                              # \"train.pl_trainer.gpus=4\",\n",
    "                                              \"train.pl_trainer.accelerator=gpu\",\n",
    "                                              \"model_cfg.backbone.name=resnext50_32x4d\"],\n",
    "                                              # \"model_cfg.backbone.name=resnet_50\"],\n",
    "                                              # \"model_cfg.backbone.name=xcit_large_24_p16_224\"],\n",
    "                                              # \"model_cfg.backbone.name=resnetv2_101x1_bitm\"],\n",
    "                                             # \"model_cfg.backbone.name=resnetv2_50\"], \n",
    "                                 cfg = None)\n",
    "\n",
    "\n"
   ]
  },
  {
   "cell_type": "code",
   "execution_count": 4,
   "id": "a2154b02-204b-4968-a007-48322116e084",
   "metadata": {},
   "outputs": [
    {
     "name": "stdout",
     "output_type": "stream",
     "text": [
      "name 'HydraConfig' is not defined\n",
      "/media/data/jacob/GitHub/image-utils/imutils/ml/hydra_experiments/2022-03-24/07-35-17\n",
      "run:\n",
      "  dir: /media/data/jacob/GitHub/image-utils/imutils/ml/hydra_experiments/2022-03-24/07-35-17\n",
      "\n"
     ]
    }
   ],
   "source": [
    "OmegaConf.set_struct(cfg, False)\n",
    "# Hydra run directory\n",
    "try:\n",
    "    hydra_dir = Path(HydraConfig.get().run.dir)\n",
    "except Exception as e:\n",
    "    print(e)\n",
    "    hydra_dir = os.getcwd()\n",
    "\n",
    "\n",
    "hydra_dir = \"/media/data/jacob/GitHub/image-utils/imutils/ml/hydra_experiments/2022-03-24/07-35-17\"\n",
    "\n",
    "\n",
    "if not cfg.get(\"hydra\"):\n",
    "    cfg.update({\"hydra\":{\"run\":{\"dir\":hydra_dir}},\n",
    "                \"run_output_dir\":hydra_dir})\n",
    "    print(cfg.hydra.run.dir)\n",
    "\n",
    "print(OmegaConf.to_yaml(cfg.hydra))#, resolve=True, sort_keys=True))"
   ]
  },
  {
   "cell_type": "code",
   "execution_count": null,
   "id": "3df917e0-0ac2-4518-a293-b3e42f9c54f8",
   "metadata": {},
   "outputs": [],
   "source": []
  },
  {
   "cell_type": "markdown",
   "id": "16022f92-652b-4271-b7c0-cdf6c9202143",
   "metadata": {},
   "source": [
    "## Instantiate experiment ingredients with config"
   ]
  },
  {
   "cell_type": "code",
   "execution_count": 5,
   "id": "34e5fb23-06a0-46f5-bab3-743e751e3531",
   "metadata": {},
   "outputs": [
    {
     "name": "stdout",
     "output_type": "stream",
     "text": [
      "self.transform_cfg:\n"
     ]
    },
    {
     "data": {
      "text/html": [
       "<pre style=\"white-space:pre;overflow-x:auto;line-height:normal;font-family:Menlo,'DejaVu Sans Mono',consolas,'Courier New',monospace\"><span style=\"font-weight: bold\">{</span><span style=\"color: #008000; text-decoration-color: #008000\">'preprocess'</span>: <span style=\"font-weight: bold\">{</span><span style=\"color: #008000; text-decoration-color: #008000\">'train'</span>: <span style=\"font-weight: bold\">{</span><span style=\"color: #008000; text-decoration-color: #008000\">'resize'</span>: <span style=\"color: #008080; text-decoration-color: #008080; font-weight: bold\">256</span><span style=\"font-weight: bold\">}</span>, <span style=\"color: #008000; text-decoration-color: #008000\">'val'</span>: <span style=\"font-weight: bold\">{</span><span style=\"color: #008000; text-decoration-color: #008000\">'resize'</span>: <span style=\"color: #008080; text-decoration-color: #008080; font-weight: bold\">256</span><span style=\"font-weight: bold\">}</span>, <span style=\"color: #008000; text-decoration-color: #008000\">'test'</span>: <span style=\"font-weight: bold\">{</span><span style=\"color: #008000; text-decoration-color: #008000\">'resize'</span>: <span style=\"color: #008080; text-decoration-color: #008080; font-weight: bold\">256</span><span style=\"font-weight: bold\">}}</span>, \n",
       "<span style=\"color: #008000; text-decoration-color: #008000\">'batch_transform'</span>: <span style=\"font-weight: bold\">{</span><span style=\"color: #008000; text-decoration-color: #008000\">'train'</span>: <span style=\"font-weight: bold\">{</span><span style=\"color: #008000; text-decoration-color: #008000\">'random_resize_crop'</span>: <span style=\"color: #008080; text-decoration-color: #008080; font-weight: bold\">224</span><span style=\"font-weight: bold\">}</span>, <span style=\"color: #008000; text-decoration-color: #008000\">'val'</span>: <span style=\"font-weight: bold\">{</span><span style=\"color: #008000; text-decoration-color: #008000\">'center_crop'</span>: <span style=\"color: #008080; text-decoration-color: #008080; font-weight: bold\">224</span><span style=\"font-weight: bold\">}</span>, \n",
       "<span style=\"color: #008000; text-decoration-color: #008000\">'test'</span>: <span style=\"font-weight: bold\">{</span><span style=\"color: #008000; text-decoration-color: #008000\">'center_crop'</span>: <span style=\"color: #008080; text-decoration-color: #008080; font-weight: bold\">224</span><span style=\"font-weight: bold\">}</span>, <span style=\"color: #008000; text-decoration-color: #008000\">'random_flips'</span>: <span style=\"color: #ff0000; text-decoration-color: #ff0000; font-style: italic\">False</span><span style=\"font-weight: bold\">}</span>, <span style=\"color: #008000; text-decoration-color: #008000\">'normalize'</span>: <span style=\"font-weight: bold\">[[</span><span style=\"color: #008080; text-decoration-color: #008080; font-weight: bold\">0.485</span>, <span style=\"color: #008080; text-decoration-color: #008080; font-weight: bold\">0.456</span>, <span style=\"color: #008080; text-decoration-color: #008080; font-weight: bold\">0.406</span><span style=\"font-weight: bold\">]</span>, \n",
       "<span style=\"font-weight: bold\">[</span><span style=\"color: #008080; text-decoration-color: #008080; font-weight: bold\">0.229</span>, <span style=\"color: #008080; text-decoration-color: #008080; font-weight: bold\">0.224</span>, <span style=\"color: #008080; text-decoration-color: #008080; font-weight: bold\">0.225</span><span style=\"font-weight: bold\">]]</span>, <span style=\"color: #008000; text-decoration-color: #008000\">'preprocess_size'</span>: <span style=\"color: #008080; text-decoration-color: #008080; font-weight: bold\">256</span>, <span style=\"color: #008000; text-decoration-color: #008000\">'resolution'</span>: <span style=\"color: #008080; text-decoration-color: #008080; font-weight: bold\">224</span><span style=\"font-weight: bold\">}</span>\n",
       "</pre>\n"
      ],
      "text/plain": [
       "\u001b[1m{\u001b[0m\u001b[32m'preprocess'\u001b[0m: \u001b[1m{\u001b[0m\u001b[32m'train'\u001b[0m: \u001b[1m{\u001b[0m\u001b[32m'resize'\u001b[0m: \u001b[1;36m256\u001b[0m\u001b[1m}\u001b[0m, \u001b[32m'val'\u001b[0m: \u001b[1m{\u001b[0m\u001b[32m'resize'\u001b[0m: \u001b[1;36m256\u001b[0m\u001b[1m}\u001b[0m, \u001b[32m'test'\u001b[0m: \u001b[1m{\u001b[0m\u001b[32m'resize'\u001b[0m: \u001b[1;36m256\u001b[0m\u001b[1m}\u001b[0m\u001b[1m}\u001b[0m, \n",
       "\u001b[32m'batch_transform'\u001b[0m: \u001b[1m{\u001b[0m\u001b[32m'train'\u001b[0m: \u001b[1m{\u001b[0m\u001b[32m'random_resize_crop'\u001b[0m: \u001b[1;36m224\u001b[0m\u001b[1m}\u001b[0m, \u001b[32m'val'\u001b[0m: \u001b[1m{\u001b[0m\u001b[32m'center_crop'\u001b[0m: \u001b[1;36m224\u001b[0m\u001b[1m}\u001b[0m, \n",
       "\u001b[32m'test'\u001b[0m: \u001b[1m{\u001b[0m\u001b[32m'center_crop'\u001b[0m: \u001b[1;36m224\u001b[0m\u001b[1m}\u001b[0m, \u001b[32m'random_flips'\u001b[0m: \u001b[3;91mFalse\u001b[0m\u001b[1m}\u001b[0m, \u001b[32m'normalize'\u001b[0m: \u001b[1m[\u001b[0m\u001b[1m[\u001b[0m\u001b[1;36m0.485\u001b[0m, \u001b[1;36m0.456\u001b[0m, \u001b[1;36m0.406\u001b[0m\u001b[1m]\u001b[0m, \n",
       "\u001b[1m[\u001b[0m\u001b[1;36m0.229\u001b[0m, \u001b[1;36m0.224\u001b[0m, \u001b[1;36m0.225\u001b[0m\u001b[1m]\u001b[0m\u001b[1m]\u001b[0m, \u001b[32m'preprocess_size'\u001b[0m: \u001b[1;36m256\u001b[0m, \u001b[32m'resolution'\u001b[0m: \u001b[1;36m224\u001b[0m\u001b[1m}\u001b[0m\n"
      ]
     },
     "metadata": {},
     "output_type": "display_data"
    },
    {
     "name": "stdout",
     "output_type": "stream",
     "text": [
      "self.normalize: [[0.485, 0.456, 0.406], [0.229, 0.224, 0.225]]\n",
      "self.normalize: [[0.485, 0.456, 0.406], [0.229, 0.224, 0.225]]\n",
      "self.normalize: [[0.485, 0.456, 0.406], [0.229, 0.224, 0.225]]\n"
     ]
    },
    {
     "name": "stderr",
     "output_type": "stream",
     "text": [
      "ic| subset: 'train'\n",
      "    num_samples: 671817\n",
      "    num_batches: 5249\n",
      "    self.num_classes: 15501\n",
      "    self.batch_size: 128\n",
      "ic| subset: 'val'\n",
      "    num_samples: 167955\n",
      "    num_batches: 1313\n",
      "    self.num_classes: 15501\n",
      "    self.batch_size: 128\n",
      "ic| subset: 'test'\n",
      "    num_samples: 210407\n",
      "    num_batches: 1644\n",
      "    self.num_classes: 15501\n",
      "    self.batch_size: 128\n"
     ]
    }
   ],
   "source": [
    "from icecream import ic\n",
    "\n",
    "# OmegaConf.register_new_resolver(\"int\", int)\n",
    "\n",
    "if cfg.train.deterministic:\n",
    "    pl.seed_everything(cfg.train.random_seed)\n",
    "\n",
    "if cfg.train.pl_trainer.fast_dev_run:\n",
    "    hydra.utils.log.info(\n",
    "        f\"Debug mode <{cfg.train.pl_trainer.fast_dev_run}>. \"\n",
    "        f\"Forcing debugger friendly configuration!\"\n",
    "    )\n",
    "    cfg.train.pl_trainer.gpus = 0\n",
    "    cfg.data.datamodule.num_workers = 0\n",
    "\n",
    "try:\n",
    "    hydra_dir = Path(HydraConfig.get().run.dir)\n",
    "except Exception as e:\n",
    "    hydra_dir = os.getcwd()\n",
    "\n",
    "hydra.utils.log.info(f\"Instantiating <{cfg.data.datamodule._target_}>\")\n",
    "datamodule: pl.LightningDataModule = hydra.utils.instantiate(\n",
    "    cfg.data.datamodule, _recursive_=False\n",
    ")\n",
    "datamodule.setup()"
   ]
  },
  {
   "cell_type": "code",
   "execution_count": 14,
   "id": "05e63771-5f99-42c1-959d-e22cf6b67a4b",
   "metadata": {},
   "outputs": [],
   "source": [
    "import matplotlib.pyplot as plt\n",
    "import numpy as np\n",
    "from imutils.ml.utils.toolbox.nn.functional import sequence2np\n",
    "\n",
    "from imutils.ml.utils.toolbox.nn.loss import CBCrossEntropyLoss\n",
    "\n"
   ]
  },
  {
   "cell_type": "code",
   "execution_count": 8,
   "id": "1937e296-5531-459d-b85e-68aa31aba959",
   "metadata": {},
   "outputs": [],
   "source": [
    "targets = datamodule.train_dataset.df.y\n",
    "\n",
    "loss_func = CBCrossEntropyLoss(targets=targets,\n",
    "                               beta=0.0,\n",
    "                               reduction=\"mean\")\n",
    "\n",
    "assert np.all(loss_func.weights.numpy()==1.0)"
   ]
  },
  {
   "cell_type": "code",
   "execution_count": 18,
   "id": "e4d0c85d-9224-44e0-a8ca-c044d7062e87",
   "metadata": {},
   "outputs": [
    {
     "data": {
      "text/plain": [
       "False"
      ]
     },
     "execution_count": 18,
     "metadata": {},
     "output_type": "execute_result"
    }
   ],
   "source": [
    "targets = datamodule.train_dataset.df.y\n",
    "\n",
    "loss_func = CBCrossEntropyLoss(targets=targets,\n",
    "                               beta=0.99,\n",
    "                               reduction=\"mean\")\n",
    "\n",
    "# np.all(loss_func.weights.numpy()==1.0)"
   ]
  },
  {
   "cell_type": "code",
   "execution_count": 25,
   "id": "d4588e5e-becf-43fc-aeb5-22c140b7963d",
   "metadata": {},
   "outputs": [
    {
     "name": "stdout",
     "output_type": "stream",
     "text": [
      "w_max: 0.25378 \n",
      " w_min: 0.02108 \n",
      " w_sum: 622.07556 \n",
      " w_count: 15501\n"
     ]
    }
   ],
   "source": [
    "w_max = loss_func.weights.numpy().max()\n",
    "w_min = loss_func.weights.numpy().min()\n",
    "\n",
    "w_sum = loss_func.weights.numpy().sum()\n",
    "w_count = len(loss_func.weights)\n",
    "\n",
    "print(f\"w_max: {w_max:.5f}\",\"\\n\",\n",
    "      f\"w_min: {w_min:.5f}\",\"\\n\",\n",
    "      f\"w_sum: {w_sum:.5f}\",\"\\n\",\n",
    "      f\"w_count: {w_count}\")"
   ]
  },
  {
   "cell_type": "code",
   "execution_count": 48,
   "id": "3d3feb5f-ed8c-4d86-9cb3-221c40f06f95",
   "metadata": {},
   "outputs": [
    {
     "name": "stdout",
     "output_type": "stream",
     "text": [
      "normalized weights: \n",
      " ==========\n",
      "w_max: 1.00000 \n",
      " w_min: 0.00000 \n",
      " w_sum: 1269.12549 \n",
      " w_count: 15501 \n",
      "\n",
      "weights: \n",
      " ==========\n",
      "w_max: 0.25378 \n",
      " w_min: 0.02108 \n",
      " w_sum: 622.07556 \n",
      " w_count: 15501 \n",
      "\n"
     ]
    }
   ],
   "source": [
    "w = loss_func.weights\n",
    "w_max = loss_func.weights.numpy().max()\n",
    "w_min = loss_func.weights.numpy().min()\n",
    "w_normalized = (w - w_min) / (w_max - w_min)\n",
    "\n",
    "\n",
    "\n",
    "for name, w in [(\"normalized weights\", w_normalized), (\"weights\", loss_func.weights)]:\n",
    "\n",
    "    w_max = w.numpy().max()\n",
    "    w_min = w.numpy().min()\n",
    "\n",
    "    w_sum = w.numpy().sum()\n",
    "    w_count = len(w)\n",
    "\n",
    "    print(f\"{name}:\", \"\\n\", \"=\"*10)\n",
    "    print(f\"w_max: {w_max:.5f}\",\"\\n\",\n",
    "          f\"w_min: {w_min:.5f}\",\"\\n\",\n",
    "          f\"w_sum: {w_sum:.5f}\",\"\\n\",\n",
    "          f\"w_count: {w_count}\", \"\\n\")"
   ]
  },
  {
   "cell_type": "code",
   "execution_count": 30,
   "id": "24e804cf-f576-4333-b978-90ac128b8a25",
   "metadata": {},
   "outputs": [
    {
     "data": {
      "text/plain": [
       "array([    0,     1,     2, ..., 15498, 15499, 15500])"
      ]
     },
     "execution_count": 30,
     "metadata": {},
     "output_type": "execute_result"
    },
    {
     "data": {
      "text/plain": [
       "array([ 9740,  4556,  4422, ..., 14156, 13301, 14452])"
      ]
     },
     "execution_count": 30,
     "metadata": {},
     "output_type": "execute_result"
    }
   ],
   "source": [
    "loss_func.classes\n",
    "reindex = np.argsort(loss_func.class_counts)[::-1]\n",
    "reindex"
   ]
  },
  {
   "cell_type": "code",
   "execution_count": 35,
   "id": "3ab17679-ebed-4cd5-99d0-fe024b837556",
   "metadata": {},
   "outputs": [],
   "source": [
    "ordered_class_counts = loss_func.class_counts[reindex]\n",
    "ordered_class_weights = loss_func.weights.numpy()[reindex]\n"
   ]
  },
  {
   "cell_type": "code",
   "execution_count": 41,
   "id": "4327668f-8f0b-4e9c-9011-5b8f9ede9c78",
   "metadata": {},
   "outputs": [
    {
     "data": {
      "text/plain": [
       "[<matplotlib.lines.Line2D at 0x7ff87a2e0c70>]"
      ]
     },
     "execution_count": 41,
     "metadata": {},
     "output_type": "execute_result"
    },
    {
     "data": {
      "text/plain": [
       "[<matplotlib.lines.Line2D at 0x7ff87a2e0e50>]"
      ]
     },
     "execution_count": 41,
     "metadata": {},
     "output_type": "execute_result"
    },
    {
     "data": {
      "image/png": "[encoded data removed]",
      "text/plain": [
       "<Figure size 720x360 with 2 Axes>"
      ]
     },
     "metadata": {
      "needs_background": "light"
     },
     "output_type": "display_data"
    }
   ],
   "source": [
    "fig, ax = plt.subplots(2,1, figsize=(10,5), sharex=True, sharey=False)\n",
    "ax[0].plot(ordered_class_counts/np.sum(ordered_class_counts))\n",
    "ax[1].plot(np.exp(ordered_class_weights))"
   ]
  },
  {
   "cell_type": "code",
   "execution_count": 9,
   "id": "fec15f51-adbb-453a-bc5d-a883cb4af20e",
   "metadata": {},
   "outputs": [],
   "source": [
    "\n",
    "\n",
    "dir(loss_func)"
   ]
  },
  {
   "cell_type": "code",
   "execution_count": null,
   "id": "57e8c66a-b6de-44e3-b656-bc0537b05ce1",
   "metadata": {},
   "outputs": [],
   "source": [
    "weights = torch.tensor([9.8, 68.0, 5.3, 3.5, 10.8, 1.1, 1.4], dtype=torch.float32)\n",
    "weights = weights / weights.sum()\n",
    "print(weights)\n",
    "weights = 1.0 / weights\n",
    "weights = weights / weights.sum()\n",
    "print(weights)"
   ]
  },
  {
   "cell_type": "code",
   "execution_count": 60,
   "id": "eb7d66ef-d696-4baf-973d-53591c9ca0e4",
   "metadata": {},
   "outputs": [],
   "source": [
    "y = datamodule.train_dataset.df.y\n",
    "\n",
    "counts_df = y.value_counts()"
   ]
  },
  {
   "cell_type": "code",
   "execution_count": 14,
   "id": "6f7c60b0-9927-4244-9a2a-8e2e57e64777",
   "metadata": {},
   "outputs": [],
   "source": [
    "y = sequence2np(y)\n",
    "classes, class_counts = np.unique(y, return_counts=True)\n",
    "\n",
    "print(type(classes), type(class_counts))\n",
    "\n",
    "classes\n",
    "\n",
    "# label = 48\n",
    "\n",
    "for label in range(15000):\n",
    "    assert class_counts[label] == counts_df[label]\n",
    "\n",
    "# plt.bar(counts_df.index, counts_df.values)\n",
    "\n",
    "y = y.values.to_numpy()\n",
    "y.shape\n",
    "\n",
    "\n",
    "import numpy as np\n",
    "\n",
    "# y = np.array(y)\n",
    "y\n",
    "\n",
    "type(y)\n",
    "\n",
    "y.value_counts().sort_index()"
   ]
  },
  {
   "cell_type": "code",
   "execution_count": null,
   "id": "c97179f9-a5db-461e-8a41-09e8bab90ddc",
   "metadata": {},
   "outputs": [],
   "source": []
  },
  {
   "cell_type": "code",
   "execution_count": 6,
   "id": "ced9002c-8137-445b-8d43-8e4934b174cb",
   "metadata": {},
   "outputs": [
    {
     "name": "stdout",
     "output_type": "stream",
     "text": [
      "Initializing weights of the model head.\n",
      "input_size: (1, 3, 224, 224)\n"
     ]
    },
    {
     "name": "stderr",
     "output_type": "stream",
     "text": [
      "2022-03-31 07:43:06,972 imutils.ml.utils.experiment_utils INFO     Instantiating callback <pytorch_lightning.callbacks.LearningRateMonitor>\n",
      "2022-03-31 07:43:06,976 imutils.ml.utils.experiment_utils INFO     Instantiating callback <pytorch_lightning.callbacks.early_stopping.EarlyStopping>\n",
      "2022-03-31 07:43:06,983 imutils.ml.utils.experiment_utils INFO     Instantiating callback <pytorch_lightning.callbacks.ModelCheckpoint>\n",
      "2022-03-31 07:43:06,992 imutils.ml.utils.experiment_utils INFO     Instantiating callback <imutils.ml.callbacks.wandb_callbacks.WatchModelWithWandb>\n",
      "2022-03-31 07:43:07,004 imutils.ml.utils.experiment_utils INFO     Instantiating callback <imutils.ml.callbacks.wandb_callbacks.UploadCheckpointsToWandbAsArtifact>\n",
      "2022-03-31 07:43:07,010 imutils.ml.utils.experiment_utils INFO     Instantiating callback <pl_bolts.callbacks.ModuleDataMonitor>\n"
     ]
    },
    {
     "data": {
      "text/html": [
       "<pre style=\"white-space:pre;overflow-x:auto;line-height:normal;font-family:Menlo,'DejaVu Sans Mono',consolas,'Courier New',monospace\"><span style=\"font-weight: bold\">{</span>\n",
       "    <span style=\"color: #008000; text-decoration-color: #008000\">'_target_'</span>: <span style=\"color: #008000; text-decoration-color: #008000\">'pytorch_lightning.Trainer'</span>,\n",
       "    <span style=\"color: #008000; text-decoration-color: #008000\">'fast_dev_run'</span>: <span style=\"color: #ff0000; text-decoration-color: #ff0000; font-style: italic\">False</span>,\n",
       "    <span style=\"color: #008000; text-decoration-color: #008000\">'accelerator'</span>: <span style=\"color: #008000; text-decoration-color: #008000\">'gpu'</span>,\n",
       "    <span style=\"color: #008000; text-decoration-color: #008000\">'devices'</span>: <span style=\"color: #008080; text-decoration-color: #008080; font-weight: bold\">1</span>,\n",
       "    <span style=\"color: #008000; text-decoration-color: #008000\">'precision'</span>: <span style=\"color: #008080; text-decoration-color: #008080; font-weight: bold\">16</span>,\n",
       "    <span style=\"color: #008000; text-decoration-color: #008000\">'enable_model_summary'</span>: <span style=\"color: #00ff00; text-decoration-color: #00ff00; font-style: italic\">True</span>,\n",
       "    <span style=\"color: #008000; text-decoration-color: #008000\">'log_every_n_steps'</span>: <span style=\"color: #008080; text-decoration-color: #008080; font-weight: bold\">15</span>,\n",
       "    <span style=\"color: #008000; text-decoration-color: #008000\">'max_epochs'</span>: <span style=\"color: #008000; text-decoration-color: #008000\">'${hp.max_epochs}'</span>,\n",
       "    <span style=\"color: #008000; text-decoration-color: #008000\">'accumulate_grad_batches'</span>: <span style=\"color: #008080; text-decoration-color: #008080; font-weight: bold\">1</span>,\n",
       "    <span style=\"color: #008000; text-decoration-color: #008000\">'strategy'</span>: <span style=\"font-weight: bold\">{</span>\n",
       "        <span style=\"color: #008000; text-decoration-color: #008000\">'_target_'</span>: <span style=\"color: #008000; text-decoration-color: #008000\">'pytorch_lightning.plugins.DDPPlugin'</span>,\n",
       "        <span style=\"color: #008000; text-decoration-color: #008000\">'find_unused_parameters'</span>: <span style=\"color: #ff0000; text-decoration-color: #ff0000; font-style: italic\">False</span>\n",
       "    <span style=\"font-weight: bold\">}</span>\n",
       "<span style=\"font-weight: bold\">}</span>\n",
       "</pre>\n"
      ],
      "text/plain": [
       "\u001b[1m{\u001b[0m\n",
       "    \u001b[32m'_target_'\u001b[0m: \u001b[32m'pytorch_lightning.Trainer'\u001b[0m,\n",
       "    \u001b[32m'fast_dev_run'\u001b[0m: \u001b[3;91mFalse\u001b[0m,\n",
       "    \u001b[32m'accelerator'\u001b[0m: \u001b[32m'gpu'\u001b[0m,\n",
       "    \u001b[32m'devices'\u001b[0m: \u001b[1;36m1\u001b[0m,\n",
       "    \u001b[32m'precision'\u001b[0m: \u001b[1;36m16\u001b[0m,\n",
       "    \u001b[32m'enable_model_summary'\u001b[0m: \u001b[3;92mTrue\u001b[0m,\n",
       "    \u001b[32m'log_every_n_steps'\u001b[0m: \u001b[1;36m15\u001b[0m,\n",
       "    \u001b[32m'max_epochs'\u001b[0m: \u001b[32m'$\u001b[0m\u001b[32m{\u001b[0m\u001b[32mhp.max_epochs\u001b[0m\u001b[32m}\u001b[0m\u001b[32m'\u001b[0m,\n",
       "    \u001b[32m'accumulate_grad_batches'\u001b[0m: \u001b[1;36m1\u001b[0m,\n",
       "    \u001b[32m'strategy'\u001b[0m: \u001b[1m{\u001b[0m\n",
       "        \u001b[32m'_target_'\u001b[0m: \u001b[32m'pytorch_lightning.plugins.DDPPlugin'\u001b[0m,\n",
       "        \u001b[32m'find_unused_parameters'\u001b[0m: \u001b[3;91mFalse\u001b[0m\n",
       "    \u001b[1m}\u001b[0m\n",
       "\u001b[1m}\u001b[0m\n"
      ]
     },
     "metadata": {},
     "output_type": "display_data"
    },
    {
     "name": "stderr",
     "output_type": "stream",
     "text": [
      "Using 16bit native Automatic Mixed Precision (AMP)\n",
      "GPU available: True, used: True\n",
      "TPU available: False, using: 0 TPU cores\n",
      "IPU available: False, using: 0 IPUs\n"
     ]
    }
   ],
   "source": [
    "# logging.warning(\"1. Before model, before trainer\")\n",
    "hydra.utils.log.info(f\"Instantiating <{cfg.model_cfg._target_}>\")\n",
    "# model: pl.LightningModule = hydra.utils.instantiate(cfg.model, cfg=cfg, _recursive_=False)\n",
    "model = imutils.ml.models.pl.classifier.LitClassifier(cfg=cfg, #model_cfg=cfg.model_cfg,\n",
    "                                                      loss=cfg.model_cfg.loss)\n",
    "# logging.warning(\"2. After model, before trainer\")\n",
    "# ic(torch.cuda.current_device())\t\n",
    "# ic(torch.cuda.get_device_name(0))\n",
    "wandb_logger = configure_loggers(cfg=cfg, model=model)\n",
    "callbacks: List[pl.Callback] = configure_callbacks(cfg=cfg.train)\t\n",
    "hydra.utils.log.info(f\"Instantiating the Trainer\")\n",
    "pp(OmegaConf.to_container(cfg.train.pl_trainer))\n",
    "trainer = configure_trainer(cfg,\n",
    "                            callbacks=callbacks,\n",
    "                            logger=wandb_logger)\n",
    "# logging.warning(\"3. After model, after trainer, before fit\")\n",
    "# ic(torch.cuda.current_device())\n",
    "num_samples = len(datamodule.train_dataset)\n",
    "num_classes = cfg.model_cfg.head.num_classes\n",
    "batch_size = datamodule.batch_size #[\"train\"]\n",
    "hydra.utils.log.info(\"Starting training with {} classes across {} images in batches of {} images each.\".format(\n",
    "    num_classes,\n",
    "    num_samples,\n",
    "    batch_size))\n",
    "\n"
   ]
  },
  {
   "cell_type": "code",
   "execution_count": 12,
   "id": "68179651-461d-41d0-9474-92aec25a468e",
   "metadata": {},
   "outputs": [],
   "source": [
    "datamodule.test_dataset.test_transform = None"
   ]
  },
  {
   "cell_type": "code",
   "execution_count": 13,
   "id": "4981965a-3ed1-48ae-9ec6-c134289ae143",
   "metadata": {},
   "outputs": [
    {
     "data": {
      "text/plain": [
       "torch.Size([3, 224, 224])"
      ]
     },
     "execution_count": 13,
     "metadata": {},
     "output_type": "execute_result"
    }
   ],
   "source": [
    "datamodule.test_dataset[0][0].shape"
   ]
  },
  {
   "cell_type": "code",
   "execution_count": 21,
   "id": "9b2566ec-045a-4fbd-9818-75a328b0ee64",
   "metadata": {},
   "outputs": [
    {
     "name": "stderr",
     "output_type": "stream",
     "text": [
      "  3%|██▉                                                                                          | 51/1644 [01:52<58:35,  2.21s/it]\n"
     ]
    }
   ],
   "source": [
    "from tqdm import tqdm\n",
    "\n",
    "loader = datamodule.test_dataloader()\n",
    "for i, batch in tqdm(enumerate(iter(loader)), total = len(loader)):\n",
    "    if i > 50:\n",
    "        break"
   ]
  },
  {
   "cell_type": "code",
   "execution_count": 26,
   "id": "28bbeabb-8aa3-47c7-8dd6-8b237bcf91b9",
   "metadata": {},
   "outputs": [
    {
     "data": {
      "text/plain": [
       "282.88"
      ]
     },
     "execution_count": 26,
     "metadata": {},
     "output_type": "execute_result"
    }
   ],
   "source": [
    "128*2.21"
   ]
  },
  {
   "cell_type": "code",
   "execution_count": 23,
   "id": "09398e1a-1017-4351-b4f5-0c772c35433e",
   "metadata": {},
   "outputs": [
    {
     "data": {
      "text/plain": [
       "128"
      ]
     },
     "execution_count": 23,
     "metadata": {},
     "output_type": "execute_result"
    }
   ],
   "source": [
    "64*"
   ]
  },
  {
   "cell_type": "code",
   "execution_count": 18,
   "id": "0a5fa067-43d4-4645-8c05-1491e781117e",
   "metadata": {},
   "outputs": [
    {
     "data": {
      "text/plain": [
       "(512, 512)"
      ]
     },
     "execution_count": 18,
     "metadata": {},
     "output_type": "execute_result"
    }
   ],
   "source": [
    "from PIL import Image\n",
    "img = Image.open(datamodule.test_dataset.df.path.iloc[0])\n",
    "img.size"
   ]
  },
  {
   "cell_type": "code",
   "execution_count": 19,
   "id": "e537e8d1-3784-4366-afbf-60fe97c607d7",
   "metadata": {},
   "outputs": [
    {
     "data": {
      "image/png": "[encoded data removed]",
      "text/plain": [
       "<PIL.JpegImagePlugin.JpegImageFile image mode=RGB size=512x512 at 0x7F4533C33580>"
      ]
     },
     "execution_count": 19,
     "metadata": {},
     "output_type": "execute_result"
    }
   ],
   "source": [
    "img"
   ]
  },
  {
   "cell_type": "code",
   "execution_count": 10,
   "id": "418fffed-dfd6-40b5-b998-7012b4dfa138",
   "metadata": {},
   "outputs": [
    {
     "data": {
      "text/html": [
       "<table border=\"1\" class=\"dataframe\">\n",
       "  <thead>\n",
       "    <tr style=\"text-align: right;\">\n",
       "      <th></th>\n",
       "      <th>image_id (PandasSeriesColumn)</th>\n",
       "      <th>img (ImageColumn)</th>\n",
       "    </tr>\n",
       "  </thead>\n",
       "  <tbody>\n",
       "    <tr>\n",
       "      <th>0</th>\n",
       "      <td>0</td>\n",
       "      <td>tensor([[[1.4783, 1.4783, 1.4783,  ..., 1.4440, 1.4184, 1.3584],\n",
       "         [1.4783, 1.4783, 1.4783,  ..., 1.4697, 1.4440, 1.4141],\n",
       "         [1.4783, 1.4783, 1.4783,  ..., 1.4697, 1.4483, 1.4440],\n",
       "         ...,\n",
       "         [1.7095, 1.6881, 1.6881,  ..., 1.9920, 2.0092, 2.0006],\n",
       "         [1.7865, 1.7694, 1.7694,  ..., 1.9920, 2.0092, 2.0177],\n",
       "         [1.8764, 1.8550, 1.8550,  ..., 1.9835, 2.0092, 2.0263]],\n",
       "\n",
       "        [[1.2031, 1.2031, 1.2031,  ..., 1.1681, 1.1418, 1.0805],\n",
       "         [1.2031, 1.2031, 1.2031,  ..., 1.1943, 1.1681, 1.1374],\n",
       "         [1.2031, 1.2031, 1.2031,  ..., 1.1943, 1.1724, 1.1681],\n",
       "         ...,\n",
       "         [1.8071, 1.7852, 1.7852,  ..., 2.0434, 2.0259, 2.0172],\n",
       "         [1.8859, 1.8683, 1.8683,  ..., 2.0434, 2.0259, 2.0347],\n",
       "         [1.9778, 1.9559, 1.9559,  ..., 2.0347, 2.0434, 2.0434]],\n",
       "\n",
       "        [[0.4788, 0.4788, 0.4788,  ..., 0.4439, 0.4178, 0.3568],\n",
       "         [0.4788, 0.4788, 0.4788,  ..., 0.4701, 0.4439, 0.4134],\n",
       "         [0.4788, 0.4788, 0.4788,  ..., 0.4701, 0.4483, 0.4439],\n",
       "         ...,\n",
       "         [1.8295, 1.8078, 1.8078,  ..., 2.0823, 2.0823, 2.0736],\n",
       "         [1.8905, 1.8731, 1.8731,  ..., 2.0823, 2.0823, 2.0910],\n",
       "         [1.9820, 1.9603, 1.9603,  ..., 2.0823, 2.0997, 2.1084]]])</td>\n",
       "    </tr>\n",
       "    <tr>\n",
       "      <th>1</th>\n",
       "      <td>1</td>\n",
       "      <td>tensor([[[1.4569, 1.4269, 1.4355,  ..., 1.6453, 1.6924, 1.6838],\n",
       "         [1.4783, 1.4783, 1.4697,  ..., 1.4997, 1.5810, 1.5982],\n",
       "         [1.8208, 1.6924, 1.4612,  ..., 1.5168, 1.6196, 1.6367],\n",
       "         ...,\n",
       "         [1.4055, 1.3970, 1.3798,  ..., 1.3156, 1.3156, 1.3156],\n",
       "         [1.3670, 1.3499, 1.3627,  ..., 1.2985, 1.2985, 1.2985],\n",
       "         [1.3242, 1.3584, 1.3970,  ..., 1.2899, 1.2899, 1.2899]],\n",
       "\n",
       "        [[1.4963, 1.4657, 1.4744,  ..., 1.7677, 1.8158, 1.7896],\n",
       "         [1.5182, 1.5182, 1.5095,  ..., 1.6276, 1.7108, 1.7108],\n",
       "         [1.8683, 1.7370, 1.5007,  ..., 1.6276, 1.7327, 1.7458],\n",
       "         ...,\n",
       "         [1.5488, 1.5401, 1.5226,  ..., 1.3519, 1.3519, 1.3519],\n",
       "         [1.5095, 1.4919, 1.5051,  ..., 1.3344, 1.3344, 1.3344],\n",
       "         [1.4526, 1.4832, 1.5226,  ..., 1.3256, 1.3256, 1.3256]],\n",
       "\n",
       "        [[1.3982, 1.3677, 1.3764,  ..., 1.7511, 1.7990, 1.7903],\n",
       "         [1.4200, 1.4200, 1.4112,  ..., 1.5812, 1.6640, 1.6901],\n",
       "         [1.7773, 1.6378, 1.4025,  ..., 1.5812, 1.6858, 1.7119],\n",
       "         ...,\n",
       "         [1.7206, 1.7206, 1.7032,  ..., 1.2544, 1.2544, 1.2544],\n",
       "         [1.6553, 1.6378, 1.6509,  ..., 1.2370, 1.2370, 1.2370],\n",
       "         [1.5332, 1.5768, 1.6160,  ..., 1.2282, 1.2282, 1.2282]]])</td>\n",
       "    </tr>\n",
       "    <tr>\n",
       "      <th>2</th>\n",
       "      <td>2</td>\n",
       "      <td>tensor([[[1.5810, 1.6067, 1.6153,  ..., 1.6453, 1.7052, 1.6709],\n",
       "         [1.6281, 1.6410, 1.6367,  ..., 1.6067, 1.6410, 1.6752],\n",
       "         [1.6110, 1.6367, 1.6410,  ..., 1.8122, 1.7523, 1.6881],\n",
       "         ...,\n",
       "         [1.6024, 1.6067, 1.5982,  ..., 1.9064, 1.9193, 1.9278],\n",
       "         [1.5725, 1.5896, 1.5682,  ..., 1.8936, 1.9064, 1.9150],\n",
       "         [1.5511, 1.5639, 1.5554,  ..., 1.9021, 1.9150, 1.9235]],\n",
       "\n",
       "        [[1.7108, 1.7370, 1.7458,  ..., 1.7677, 1.8683, 1.8596],\n",
       "         [1.7589, 1.7721, 1.7677,  ..., 1.7195, 1.8027, 1.8771],\n",
       "         [1.7414, 1.7677, 1.7721,  ..., 1.9296, 1.9121, 1.8902],\n",
       "         ...,\n",
       "         [1.7502, 1.7546, 1.7458,  ..., 2.0259, 2.0390, 2.0478],\n",
       "         [1.7195, 1.7370, 1.7152,  ..., 2.0128, 2.0259, 2.0347],\n",
       "         [1.6933, 1.7064, 1.6977,  ..., 2.0128, 2.0259, 2.0347]],\n",
       "\n",
       "        [[1.6727, 1.6988, 1.7075,  ..., 1.6596, 1.7990, 1.8383],\n",
       "         [1.7119, 1.7250, 1.7206,  ..., 1.5942, 1.7337, 1.8470],\n",
       "         [1.6945, 1.7206, 1.7250,  ..., 1.8121, 1.8557, 1.8600],\n",
       "         ...,\n",
       "         [1.6509, 1.6553, 1.6465,  ..., 1.9080, 1.9210, 1.9298],\n",
       "         [1.6204, 1.6378, 1.6160,  ..., 1.8949, 1.9080, 1.9167],\n",
       "         [1.6073, 1.6204, 1.6117,  ..., 1.8731, 1.8818, 1.8905]]])</td>\n",
       "    </tr>\n",
       "  </tbody>\n",
       "</table>"
      ],
      "text/plain": [
       "DataPanel(nrows: 3, ncols: 2)"
      ]
     },
     "execution_count": 10,
     "metadata": {},
     "output_type": "execute_result"
    }
   ],
   "source": [
    "import meerkat as mk\n",
    "# from meerkat.contrib.imagenette import download_imagenette\n",
    "\n",
    "\n",
    "# dp_csv_path = datamodule.train_dataset.split_file_path\n",
    "dp_csv_path = datamodule.test_dataset.split_file_path\n",
    "\n",
    "# download_imagenette(\".\")\n",
    "dp = mk.DataPanel.from_csv(dp_csv_path)\n",
    "dp[\"img\"] = mk.ImageColumn.from_filepaths(dp[\"path\"],\n",
    "                                          transform=datamodule.test_transform)\n",
    "# dp[[\"scientificName\", \"image_id\", \"img\"]].lz[:3]\n",
    "dp[[\"image_id\", \"img\"]].lz[:3]"
   ]
  },
  {
   "cell_type": "code",
   "execution_count": 13,
   "id": "f7b8f284-21bb-4286-98cf-58673d3adb6e",
   "metadata": {},
   "outputs": [
    {
     "data": {
      "text/plain": [
       "torch.Size([3, 224, 224])"
      ]
     },
     "execution_count": 13,
     "metadata": {},
     "output_type": "execute_result"
    }
   ],
   "source": [
    "dp[\"img\"][3].shape"
   ]
  },
  {
   "cell_type": "code",
   "execution_count": 15,
   "id": "4d22b0f7-a737-44e8-b657-f307a98668f2",
   "metadata": {},
   "outputs": [],
   "source": [
    "\n",
    "\n",
    "import numpy as np\n",
    "blue_col = dp.map(\n",
    "    lambda x: np.array(x[\"img\"])[2, :, :].mean(), \n",
    "    # lambda x: np.array(x[\"img\"])[:, :, 2].mean(), \n",
    "    pbar=True, \n",
    "    num_workers=2\n",
    ")\n",
    "dp[\"avg_blue\"] = blue_col  # add the intensities as a new column in the `DataPanel` "
   ]
  },
  {
   "cell_type": "code",
   "execution_count": 6,
   "id": "0c568c99-97fe-44f6-aaa3-9281bfa002ed",
   "metadata": {},
   "outputs": [
    {
     "data": {
      "text/plain": [
       "meerkat.columns.image_column.ImageColumn"
      ]
     },
     "execution_count": 6,
     "metadata": {},
     "output_type": "execute_result"
    }
   ],
   "source": [
    "dp"
   ]
  },
  {
   "cell_type": "code",
   "execution_count": 7,
   "id": "d41fbce1-72e9-40e3-8f2f-f90b88334838",
   "metadata": {},
   "outputs": [
    {
     "data": {
      "text/plain": [
       "PIL.Image.Image"
      ]
     },
     "execution_count": 7,
     "metadata": {},
     "output_type": "execute_result"
    }
   ],
   "source": [
    "type(dp[\"img\"][0])"
   ]
  },
  {
   "cell_type": "code",
   "execution_count": 9,
   "id": "4d1bb2a2-b0f6-4d20-8e1d-cb8ade82ffda",
   "metadata": {},
   "outputs": [
    {
     "data": {
      "text/html": [
       "<table border=\"1\" class=\"dataframe\">\n",
       "  <thead>\n",
       "    <tr style=\"text-align: right;\">\n",
       "      <th></th>\n",
       "      <th>(PandasSeriesColumn)</th>\n",
       "    </tr>\n",
       "  </thead>\n",
       "  <tbody>\n",
       "    <tr>\n",
       "      <th>0</th>\n",
       "      <td>/media/data_cifs/projects/prj_fossils/data/raw_data/herbarium-2022-fgvc9_resize-512/test_images/000/test-000000.jpg</td>\n",
       "    </tr>\n",
       "    <tr>\n",
       "      <th>1</th>\n",
       "      <td>/media/data_cifs/projects/prj_fossils/data/raw_data/herbarium-2022-fgvc9_resize-512/test_images/000/test-000001.jpg</td>\n",
       "    </tr>\n",
       "    <tr>\n",
       "      <th>2</th>\n",
       "      <td>/media/data_cifs/projects/prj_fossils/data/raw_data/herbarium-2022-fgvc9_resize-512/test_images/000/test-000002.jpg</td>\n",
       "    </tr>\n",
       "    <tr>\n",
       "      <th>3</th>\n",
       "      <td>/media/data_cifs/projects/prj_fossils/data/raw_data/herbarium-2022-fgvc9_resize-512/test_images/000/test-000003.jpg</td>\n",
       "    </tr>\n",
       "    <tr>\n",
       "      <th>4</th>\n",
       "      <td>/media/data_cifs/projects/prj_fossils/data/raw_data/herbarium-2022-fgvc9_resize-512/test_images/000/test-000004.jpg</td>\n",
       "    </tr>\n",
       "    <tr>\n",
       "      <th>...</th>\n",
       "      <td>...</td>\n",
       "    </tr>\n",
       "    <tr>\n",
       "      <th>210402</th>\n",
       "      <td>/media/data_cifs/projects/prj_fossils/data/raw_data/herbarium-2022-fgvc9_resize-512/test_images/223/test-223645.jpg</td>\n",
       "    </tr>\n",
       "    <tr>\n",
       "      <th>210403</th>\n",
       "      <td>/media/data_cifs/projects/prj_fossils/data/raw_data/herbarium-2022-fgvc9_resize-512/test_images/223/test-223646.jpg</td>\n",
       "    </tr>\n",
       "    <tr>\n",
       "      <th>210404</th>\n",
       "      <td>/media/data_cifs/projects/prj_fossils/data/raw_data/herbarium-2022-fgvc9_resize-512/test_images/223/test-223647.jpg</td>\n",
       "    </tr>\n",
       "    <tr>\n",
       "      <th>210405</th>\n",
       "      <td>/media/data_cifs/projects/prj_fossils/data/raw_data/herbarium-2022-fgvc9_resize-512/test_images/223/test-223648.jpg</td>\n",
       "    </tr>\n",
       "    <tr>\n",
       "      <th>210406</th>\n",
       "      <td>/media/data_cifs/projects/prj_fossils/data/raw_data/herbarium-2022-fgvc9_resize-512/test_images/223/test-223649.jpg</td>\n",
       "    </tr>\n",
       "  </tbody>\n",
       "</table>"
      ],
      "text/plain": [
       "PandasSeriesColumn(0         /me... dtype: object)"
      ]
     },
     "execution_count": 9,
     "metadata": {},
     "output_type": "execute_result"
    }
   ],
   "source": [
    "# dir(dp[\"img\"].data)\n",
    "dp[\"img\"].data"
   ]
  },
  {
   "cell_type": "code",
   "execution_count": 23,
   "id": "fad2c881-969f-4f29-9c68-277efc03b8c4",
   "metadata": {},
   "outputs": [],
   "source": [
    "# 1. Define the forward hook\n",
    "class ActivationExtractor:\n",
    "    \"\"\"Extracting activations a targetted intermediate layer\"\"\"\n",
    "\n",
    "    def __init__(self):\n",
    "        self.activation = None\n",
    "\n",
    "    def forward_hook(self, module, input, output):\n",
    "        self.activation = output\n",
    "\n",
    "# model.setup()\n",
    "# 2. Register the forward hook\n",
    "extractor = ActivationExtractor()\n",
    "model.net.backbone.layer4.register_forward_hook(extractor.forward_hook);"
   ]
  },
  {
   "cell_type": "code",
   "execution_count": 24,
   "id": "1ec6a180-cfe3-4ce0-bcc3-ba028d1b3656",
   "metadata": {},
   "outputs": [],
   "source": [
    "\n",
    "\n",
    "import torch\n",
    "\n",
    "import meerkat.ml as mkml\n",
    "# 1. Move the model to GPU\n",
    "model.to(0).eval()\n",
    "\n",
    "# 2. Define a function that runs a forward pass over a batch \n",
    "@torch.no_grad()\n",
    "def predict(batch: mk.DataPanel):\n",
    "    input_col: mk.TensorColumn = batch[\"img\"] \n",
    "    x: torch.Tensor = input_col.data.to(0)  # We get the underlying torch tensor with `data` and move to GPU \n",
    "    out: torch.Tensor = model(x)  # Run forward pass\n",
    "\n",
    "    # Return a dictionary with one key for each of the new columns. Each value in the\n",
    "    # dictionary should have the same length as the batch. \n",
    "    return {\n",
    "        \"pred\": out.cpu().numpy().argmax(axis=-1),\n",
    "        \"probs\": torch.softmax(out, axis=-1).cpu(),\n",
    "        \"activation\": mkml.EmbeddingColumn(extractor.activation.mean(dim=[-1,-2]).cpu())\n",
    "    }\n",
    "\n",
    "\n",
    "\n",
    "valid_dp = dp.lz[:100]\n",
    "# 3. Apply the update. Note that the `predict` function operates on batches, so we set \n",
    "# `is_batched_fn=True`. Also, the `predict` function only accesses the \"input\" column, by \n",
    "# specifying that here we instruct update to only load that one column and skip others \n",
    "valid_dp = valid_dp.update(\n",
    "    function=predict,\n",
    "    is_batched_fn=True,\n",
    "    batch_size=32,\n",
    "    input_columns=[\"img\"], \n",
    "    pbar=True\n",
    ")"
   ]
  },
  {
   "cell_type": "code",
   "execution_count": 17,
   "id": "0cc029f8-21a2-48b2-b8b8-61e6cab369f2",
   "metadata": {},
   "outputs": [
    {
     "ename": "NameError",
     "evalue": "name 'updated_dp' is not defined",
     "output_type": "error",
     "traceback": [
      "\u001b[0;31m---------------------------------------------------------------------------\u001b[0m",
      "\u001b[0;31mNameError\u001b[0m                                 Traceback (most recent call last)",
      "\u001b[0;32m/tmp/ipykernel_3795377/2945622924.py\u001b[0m in \u001b[0;36m<cell line: 2>\u001b[0;34m()\u001b[0m\n\u001b[1;32m      1\u001b[0m \u001b[0;31m# dp[\"img\"]\u001b[0m\u001b[0;34m\u001b[0m\u001b[0;34m\u001b[0m\u001b[0;34m\u001b[0m\u001b[0m\n\u001b[0;32m----> 2\u001b[0;31m \u001b[0mupdated_dp\u001b[0m\u001b[0;34m\u001b[0m\u001b[0;34m\u001b[0m\u001b[0m\n\u001b[0m",
      "\u001b[0;31mNameError\u001b[0m: name 'updated_dp' is not defined"
     ]
    }
   ],
   "source": [
    "# dp[\"img\"]\n",
    "updated_dp"
   ]
  },
  {
   "cell_type": "code",
   "execution_count": 8,
   "id": "abcd65ad-7b90-407d-b335-57b05221bed1",
   "metadata": {},
   "outputs": [
    {
     "data": {
      "text/html": [
       "<pre style=\"white-space:pre;overflow-x:auto;line-height:normal;font-family:Menlo,'DejaVu Sans Mono',consolas,'Courier New',monospace\"><span style=\"font-weight: bold\">{</span>\n",
       "    <span style=\"color: #008000; text-decoration-color: #008000\">'core'</span>: <span style=\"font-weight: bold\">{</span>\n",
       "        <span style=\"color: #008000; text-decoration-color: #008000\">'name'</span>: <span style=\"color: #008000; text-decoration-color: #008000\">'herbarium2022__resnext50_32x4d'</span>,\n",
       "        <span style=\"color: #008000; text-decoration-color: #008000\">'version'</span>: <span style=\"color: #008000; text-decoration-color: #008000\">'0.0.1'</span>,\n",
       "        <span style=\"color: #008000; text-decoration-color: #008000\">'tags'</span>: <span style=\"font-weight: bold\">[</span><span style=\"color: #008000; text-decoration-color: #008000\">'herbarium2022'</span>, <span style=\"color: #008000; text-decoration-color: #008000\">'kaggle'</span><span style=\"font-weight: bold\">]</span>\n",
       "    <span style=\"font-weight: bold\">}</span>,\n",
       "    <span style=\"color: #008000; text-decoration-color: #008000\">'hp'</span>: <span style=\"font-weight: bold\">{</span><span style=\"color: #008000; text-decoration-color: #008000\">'preprocess_size'</span>: <span style=\"color: #008080; text-decoration-color: #008080; font-weight: bold\">256</span>, <span style=\"color: #008000; text-decoration-color: #008000\">'resolution'</span>: <span style=\"color: #008080; text-decoration-color: #008080; font-weight: bold\">224</span>, <span style=\"color: #008000; text-decoration-color: #008000\">'num_channels'</span>: <span style=\"color: #008080; text-decoration-color: #008080; font-weight: bold\">3</span><span style=\"font-weight: bold\">}</span>,\n",
       "    <span style=\"color: #008000; text-decoration-color: #008000\">'seed'</span>: <span style=\"color: #008080; text-decoration-color: #008080; font-weight: bold\">42</span>,\n",
       "    <span style=\"color: #008000; text-decoration-color: #008000\">'run_output_dir'</span>: \n",
       "<span style=\"color: #008000; text-decoration-color: #008000\">'/media/data/jacob/GitHub/image-utils/imutils/ml/hydra_experiments/2022-03-24/07-35-17'</span>,\n",
       "    <span style=\"color: #008000; text-decoration-color: #008000\">'checkpoint_dir'</span>: <span style=\"color: #008000; text-decoration-color: #008000\">'/media/data/jacob/GitHub/image-utils/imutils/ml/hydra_experiments/2022</span>\n",
       "<span style=\"color: #008000; text-decoration-color: #008000\">-03-24/07-35-17/ckpts'</span>,\n",
       "    <span style=\"color: #008000; text-decoration-color: #008000\">'data'</span>: <span style=\"font-weight: bold\">{</span>\n",
       "        <span style=\"color: #008000; text-decoration-color: #008000\">'datamodule'</span>: <span style=\"font-weight: bold\">{</span>\n",
       "            <span style=\"color: #008000; text-decoration-color: #008000\">'_target_'</span>: <span style=\"color: #008000; text-decoration-color: #008000\">'imutils.ml.data.datamodule.Herbarium2022DataModule'</span>,\n",
       "            <span style=\"color: #008000; text-decoration-color: #008000\">'name'</span>: <span style=\"color: #008000; text-decoration-color: #008000\">'herbarium2022'</span>,\n",
       "            <span style=\"color: #008000; text-decoration-color: #008000\">'catalog_dir'</span>: <span style=\"color: #008000; text-decoration-color: #008000\">'/media/data/jacob/GitHub/image-utils/imutils/big/data'</span>,\n",
       "            <span style=\"color: #008000; text-decoration-color: #008000\">'label_col'</span>: <span style=\"color: #008000; text-decoration-color: #008000\">'scientificName'</span>,\n",
       "            <span style=\"color: #008000; text-decoration-color: #008000\">'train_size'</span>: <span style=\"color: #008080; text-decoration-color: #008080; font-weight: bold\">0.7</span>,\n",
       "            <span style=\"color: #008000; text-decoration-color: #008000\">'shuffle'</span>: <span style=\"color: #00ff00; text-decoration-color: #00ff00; font-style: italic\">True</span>,\n",
       "            <span style=\"color: #008000; text-decoration-color: #008000\">'seed'</span>: <span style=\"color: #008080; text-decoration-color: #008080; font-weight: bold\">14</span>,\n",
       "            <span style=\"color: #008000; text-decoration-color: #008000\">'batch_size'</span>: <span style=\"color: #008080; text-decoration-color: #008080; font-weight: bold\">128</span>,\n",
       "            <span style=\"color: #008000; text-decoration-color: #008000\">'num_workers'</span>: <span style=\"color: #008080; text-decoration-color: #008080; font-weight: bold\">4</span>,\n",
       "            <span style=\"color: #008000; text-decoration-color: #008000\">'pin_memory'</span>: <span style=\"color: #00ff00; text-decoration-color: #00ff00; font-style: italic\">True</span>,\n",
       "            <span style=\"color: #008000; text-decoration-color: #008000\">'transform_cfg'</span>: <span style=\"font-weight: bold\">{</span>\n",
       "                <span style=\"color: #008000; text-decoration-color: #008000\">'preprocess_size'</span>: <span style=\"color: #008080; text-decoration-color: #008080; font-weight: bold\">256</span>,\n",
       "                <span style=\"color: #008000; text-decoration-color: #008000\">'resolution'</span>: <span style=\"color: #008080; text-decoration-color: #008080; font-weight: bold\">224</span>,\n",
       "                <span style=\"color: #008000; text-decoration-color: #008000\">'preprocess'</span>: <span style=\"font-weight: bold\">{</span>\n",
       "                    <span style=\"color: #008000; text-decoration-color: #008000\">'train'</span>: <span style=\"font-weight: bold\">{</span><span style=\"color: #008000; text-decoration-color: #008000\">'resize'</span>: <span style=\"color: #008080; text-decoration-color: #008080; font-weight: bold\">256</span><span style=\"font-weight: bold\">}</span>,\n",
       "                    <span style=\"color: #008000; text-decoration-color: #008000\">'val'</span>: <span style=\"font-weight: bold\">{</span><span style=\"color: #008000; text-decoration-color: #008000\">'resize'</span>: <span style=\"color: #008080; text-decoration-color: #008080; font-weight: bold\">256</span><span style=\"font-weight: bold\">}</span>,\n",
       "                    <span style=\"color: #008000; text-decoration-color: #008000\">'test'</span>: <span style=\"font-weight: bold\">{</span><span style=\"color: #008000; text-decoration-color: #008000\">'resize'</span>: <span style=\"color: #008080; text-decoration-color: #008080; font-weight: bold\">256</span><span style=\"font-weight: bold\">}</span>\n",
       "                <span style=\"font-weight: bold\">}</span>,\n",
       "                <span style=\"color: #008000; text-decoration-color: #008000\">'batch_transform'</span>: <span style=\"font-weight: bold\">{</span>\n",
       "                    <span style=\"color: #008000; text-decoration-color: #008000\">'random_flips'</span>: <span style=\"color: #ff0000; text-decoration-color: #ff0000; font-style: italic\">False</span>,\n",
       "                    <span style=\"color: #008000; text-decoration-color: #008000\">'train'</span>: <span style=\"font-weight: bold\">{</span><span style=\"color: #008000; text-decoration-color: #008000\">'random_resize_crop'</span>: <span style=\"color: #008080; text-decoration-color: #008080; font-weight: bold\">224</span><span style=\"font-weight: bold\">}</span>,\n",
       "                    <span style=\"color: #008000; text-decoration-color: #008000\">'val'</span>: <span style=\"font-weight: bold\">{</span><span style=\"color: #008000; text-decoration-color: #008000\">'center_crop'</span>: <span style=\"color: #008080; text-decoration-color: #008080; font-weight: bold\">224</span><span style=\"font-weight: bold\">}</span>,\n",
       "                    <span style=\"color: #008000; text-decoration-color: #008000\">'test'</span>: <span style=\"font-weight: bold\">{</span><span style=\"color: #008000; text-decoration-color: #008000\">'center_crop'</span>: <span style=\"color: #008080; text-decoration-color: #008080; font-weight: bold\">224</span><span style=\"font-weight: bold\">}</span>\n",
       "                <span style=\"font-weight: bold\">}</span>,\n",
       "                <span style=\"color: #008000; text-decoration-color: #008000\">'normalize'</span>: <span style=\"font-weight: bold\">[[</span><span style=\"color: #008080; text-decoration-color: #008080; font-weight: bold\">0.485</span>, <span style=\"color: #008080; text-decoration-color: #008080; font-weight: bold\">0.456</span>, <span style=\"color: #008080; text-decoration-color: #008080; font-weight: bold\">0.406</span><span style=\"font-weight: bold\">]</span>, <span style=\"font-weight: bold\">[</span><span style=\"color: #008080; text-decoration-color: #008080; font-weight: bold\">0.229</span>, <span style=\"color: #008080; text-decoration-color: #008080; font-weight: bold\">0.224</span>, <span style=\"color: #008080; text-decoration-color: #008080; font-weight: bold\">0.225</span><span style=\"font-weight: bold\">]]</span>\n",
       "            <span style=\"font-weight: bold\">}</span>,\n",
       "            <span style=\"color: #008000; text-decoration-color: #008000\">'remove_transforms'</span>: <span style=\"color: #ff0000; text-decoration-color: #ff0000; font-style: italic\">False</span>,\n",
       "            <span style=\"color: #008000; text-decoration-color: #008000\">'image_reader'</span>: <span style=\"color: #008000; text-decoration-color: #008000\">'default'</span>,\n",
       "            <span style=\"color: #008000; text-decoration-color: #008000\">'datasets'</span>: <span style=\"font-weight: bold\">{</span>\n",
       "                <span style=\"color: #008000; text-decoration-color: #008000\">'herbarium2022'</span>: <span style=\"font-weight: bold\">{</span>\n",
       "                    <span style=\"color: #008000; text-decoration-color: #008000\">'train'</span>: <span style=\"font-weight: bold\">{</span>\n",
       "                        <span style=\"color: #008000; text-decoration-color: #008000\">'_target_'</span>: <span style=\"color: #008000; text-decoration-color: #008000\">'imutils.ml.data.datamodule.Herbarium2022Dataset'</span>,\n",
       "                        <span style=\"color: #008000; text-decoration-color: #008000\">'catalog_dir'</span>: \n",
       "<span style=\"color: #008000; text-decoration-color: #008000\">'/media/data_cifs/projects/prj_fossils/data/raw_data/herbarium-2022-fgvc9_resize'</span>,\n",
       "                        <span style=\"color: #008000; text-decoration-color: #008000\">'subset'</span>: <span style=\"color: #008000; text-decoration-color: #008000\">'train'</span>,\n",
       "                        <span style=\"color: #008000; text-decoration-color: #008000\">'label_col'</span>: <span style=\"color: #008000; text-decoration-color: #008000\">'scientificName'</span>,\n",
       "                        <span style=\"color: #008000; text-decoration-color: #008000\">'train_size'</span>: <span style=\"color: #008080; text-decoration-color: #008080; font-weight: bold\">0.7</span>,\n",
       "                        <span style=\"color: #008000; text-decoration-color: #008000\">'shuffle'</span>: <span style=\"color: #00ff00; text-decoration-color: #00ff00; font-style: italic\">True</span>,\n",
       "                        <span style=\"color: #008000; text-decoration-color: #008000\">'seed'</span>: <span style=\"color: #008080; text-decoration-color: #008080; font-weight: bold\">14</span>\n",
       "                    <span style=\"font-weight: bold\">}</span>,\n",
       "                    <span style=\"color: #008000; text-decoration-color: #008000\">'val'</span>: <span style=\"font-weight: bold\">{</span>\n",
       "                        <span style=\"color: #008000; text-decoration-color: #008000\">'_target_'</span>: <span style=\"color: #008000; text-decoration-color: #008000\">'imutils.ml.data.datamodule.Herbarium2022Dataset'</span>,\n",
       "                        <span style=\"color: #008000; text-decoration-color: #008000\">'catalog_dir'</span>: \n",
       "<span style=\"color: #008000; text-decoration-color: #008000\">'/media/data_cifs/projects/prj_fossils/data/raw_data/herbarium-2022-fgvc9_resize'</span>,\n",
       "                        <span style=\"color: #008000; text-decoration-color: #008000\">'subset'</span>: <span style=\"color: #008000; text-decoration-color: #008000\">'val'</span>,\n",
       "                        <span style=\"color: #008000; text-decoration-color: #008000\">'label_col'</span>: <span style=\"color: #008000; text-decoration-color: #008000\">'scientificName'</span>,\n",
       "                        <span style=\"color: #008000; text-decoration-color: #008000\">'train_size'</span>: <span style=\"color: #008080; text-decoration-color: #008080; font-weight: bold\">0.7</span>,\n",
       "                        <span style=\"color: #008000; text-decoration-color: #008000\">'shuffle'</span>: <span style=\"color: #ff0000; text-decoration-color: #ff0000; font-style: italic\">False</span>,\n",
       "                        <span style=\"color: #008000; text-decoration-color: #008000\">'seed'</span>: <span style=\"color: #008080; text-decoration-color: #008080; font-weight: bold\">14</span>\n",
       "                    <span style=\"font-weight: bold\">}</span>,\n",
       "                    <span style=\"color: #008000; text-decoration-color: #008000\">'test'</span>: <span style=\"font-weight: bold\">{</span>\n",
       "                        <span style=\"color: #008000; text-decoration-color: #008000\">'_target_'</span>: <span style=\"color: #008000; text-decoration-color: #008000\">'imutils.ml.data.datamodule.Herbarium2022Dataset'</span>,\n",
       "                        <span style=\"color: #008000; text-decoration-color: #008000\">'catalog_dir'</span>: \n",
       "<span style=\"color: #008000; text-decoration-color: #008000\">'/media/data_cifs/projects/prj_fossils/data/raw_data/herbarium-2022-fgvc9_resize'</span>,\n",
       "                        <span style=\"color: #008000; text-decoration-color: #008000\">'subset'</span>: <span style=\"color: #008000; text-decoration-color: #008000\">'train'</span>,\n",
       "                        <span style=\"color: #008000; text-decoration-color: #008000\">'label_col'</span>: <span style=\"color: #008000; text-decoration-color: #008000\">'scientificName'</span>,\n",
       "                        <span style=\"color: #008000; text-decoration-color: #008000\">'train_size'</span>: <span style=\"color: #008080; text-decoration-color: #008080; font-weight: bold\">0.7</span>,\n",
       "                        <span style=\"color: #008000; text-decoration-color: #008000\">'shuffle'</span>: <span style=\"color: #00ff00; text-decoration-color: #00ff00; font-style: italic\">True</span>,\n",
       "                        <span style=\"color: #008000; text-decoration-color: #008000\">'seed'</span>: <span style=\"color: #008080; text-decoration-color: #008080; font-weight: bold\">14</span>\n",
       "                    <span style=\"font-weight: bold\">}</span>\n",
       "                <span style=\"font-weight: bold\">}</span>\n",
       "            <span style=\"font-weight: bold\">}</span>\n",
       "        <span style=\"font-weight: bold\">}</span>\n",
       "    <span style=\"font-weight: bold\">}</span>,\n",
       "    <span style=\"color: #008000; text-decoration-color: #008000\">'model_cfg'</span>: <span style=\"font-weight: bold\">{</span>\n",
       "        <span style=\"color: #008000; text-decoration-color: #008000\">'_target_'</span>: <span style=\"color: #008000; text-decoration-color: #008000\">'imutils.ml.models.pl.classifier.LitClassifier'</span>,\n",
       "        <span style=\"color: #008000; text-decoration-color: #008000\">'backbone'</span>: <span style=\"font-weight: bold\">{</span>\n",
       "            <span style=\"color: #008000; text-decoration-color: #008000\">'model_repo'</span>: <span style=\"color: #008000; text-decoration-color: #008000\">'timm'</span>,\n",
       "            <span style=\"color: #008000; text-decoration-color: #008000\">'name'</span>: <span style=\"color: #008000; text-decoration-color: #008000\">'resnext50_32x4d'</span>,\n",
       "            <span style=\"color: #008000; text-decoration-color: #008000\">'pretrained'</span>: <span style=\"color: #00ff00; text-decoration-color: #00ff00; font-style: italic\">True</span>,\n",
       "            <span style=\"color: #008000; text-decoration-color: #008000\">'freeze_backbone'</span>: <span style=\"color: #00ff00; text-decoration-color: #00ff00; font-style: italic\">True</span>\n",
       "        <span style=\"font-weight: bold\">}</span>,\n",
       "        <span style=\"color: #008000; text-decoration-color: #008000\">'head'</span>: <span style=\"font-weight: bold\">{</span>\n",
       "            <span style=\"color: #008000; text-decoration-color: #008000\">'num_classes'</span>: <span style=\"color: #008080; text-decoration-color: #008080; font-weight: bold\">15501</span>,\n",
       "            <span style=\"color: #008000; text-decoration-color: #008000\">'pool_size'</span>: <span style=\"color: #008080; text-decoration-color: #008080; font-weight: bold\">1</span>,\n",
       "            <span style=\"color: #008000; text-decoration-color: #008000\">'pool_type'</span>: <span style=\"color: #008000; text-decoration-color: #008000\">'avg'</span>,\n",
       "            <span style=\"color: #008000; text-decoration-color: #008000\">'head_type'</span>: <span style=\"color: #008000; text-decoration-color: #008000\">'linear'</span>,\n",
       "            <span style=\"color: #008000; text-decoration-color: #008000\">'hidden_size'</span>: <span style=\"color: #008080; text-decoration-color: #008080; font-weight: bold\">512</span>,\n",
       "            <span style=\"color: #008000; text-decoration-color: #008000\">'dropout_p'</span>: <span style=\"color: #008080; text-decoration-color: #008080; font-weight: bold\">0.3</span>\n",
       "        <span style=\"font-weight: bold\">}</span>,\n",
       "        <span style=\"color: #008000; text-decoration-color: #008000\">'name'</span>: <span style=\"color: #008000; text-decoration-color: #008000\">'resnext50_32x4d'</span>,\n",
       "        <span style=\"color: #008000; text-decoration-color: #008000\">'loss'</span>: <span style=\"font-weight: bold\">{</span><span style=\"color: #008000; text-decoration-color: #008000\">'_target_'</span>: <span style=\"color: #008000; text-decoration-color: #008000\">'torch.nn.CrossEntropyLoss'</span><span style=\"font-weight: bold\">}</span>,\n",
       "        <span style=\"color: #008000; text-decoration-color: #008000\">'resolution'</span>: <span style=\"color: #008080; text-decoration-color: #008080; font-weight: bold\">224</span>,\n",
       "        <span style=\"color: #008000; text-decoration-color: #008000\">'num_channels'</span>: <span style=\"color: #008080; text-decoration-color: #008080; font-weight: bold\">3</span>,\n",
       "        <span style=\"color: #008000; text-decoration-color: #008000\">'input_shape'</span>: <span style=\"font-weight: bold\">[</span><span style=\"color: #008080; text-decoration-color: #008080; font-weight: bold\">3</span>, <span style=\"color: #008080; text-decoration-color: #008080; font-weight: bold\">224</span>, <span style=\"color: #008080; text-decoration-color: #008080; font-weight: bold\">224</span><span style=\"font-weight: bold\">]</span>\n",
       "    <span style=\"font-weight: bold\">}</span>,\n",
       "    <span style=\"color: #008000; text-decoration-color: #008000\">'optim'</span>: <span style=\"font-weight: bold\">{</span>\n",
       "        <span style=\"color: #008000; text-decoration-color: #008000\">'optimizer'</span>: <span style=\"font-weight: bold\">{</span>\n",
       "            <span style=\"color: #008000; text-decoration-color: #008000\">'_target_'</span>: <span style=\"color: #008000; text-decoration-color: #008000\">'torch.optim.Adam'</span>,\n",
       "            <span style=\"color: #008000; text-decoration-color: #008000\">'lr'</span>: <span style=\"color: #008080; text-decoration-color: #008080; font-weight: bold\">0.001</span>,\n",
       "            <span style=\"color: #008000; text-decoration-color: #008000\">'betas'</span>: <span style=\"font-weight: bold\">[</span><span style=\"color: #008080; text-decoration-color: #008080; font-weight: bold\">0.9</span>, <span style=\"color: #008080; text-decoration-color: #008080; font-weight: bold\">0.999</span><span style=\"font-weight: bold\">]</span>,\n",
       "            <span style=\"color: #008000; text-decoration-color: #008000\">'eps'</span>: <span style=\"color: #008080; text-decoration-color: #008080; font-weight: bold\">1e-08</span>,\n",
       "            <span style=\"color: #008000; text-decoration-color: #008000\">'weight_decay'</span>: <span style=\"color: #008080; text-decoration-color: #008080; font-weight: bold\">0.0</span>\n",
       "        <span style=\"font-weight: bold\">}</span>,\n",
       "        <span style=\"color: #008000; text-decoration-color: #008000\">'exclude_bn_bias'</span>: <span style=\"color: #00ff00; text-decoration-color: #00ff00; font-style: italic\">True</span>,\n",
       "        <span style=\"color: #008000; text-decoration-color: #008000\">'use_lr_scheduler'</span>: <span style=\"color: #00ff00; text-decoration-color: #00ff00; font-style: italic\">True</span>,\n",
       "        <span style=\"color: #008000; text-decoration-color: #008000\">'lr_scheduler'</span>: <span style=\"font-weight: bold\">{</span>\n",
       "            <span style=\"color: #008000; text-decoration-color: #008000\">'_target_'</span>: <span style=\"color: #008000; text-decoration-color: #008000\">'torch.optim.lr_scheduler.CosineAnnealingWarmRestarts'</span>,\n",
       "            <span style=\"color: #008000; text-decoration-color: #008000\">'T_0'</span>: <span style=\"color: #008080; text-decoration-color: #008080; font-weight: bold\">10</span>,\n",
       "            <span style=\"color: #008000; text-decoration-color: #008000\">'T_mult'</span>: <span style=\"color: #008080; text-decoration-color: #008080; font-weight: bold\">2</span>,\n",
       "            <span style=\"color: #008000; text-decoration-color: #008000\">'eta_min'</span>: <span style=\"color: #008080; text-decoration-color: #008080; font-weight: bold\">0</span>,\n",
       "            <span style=\"color: #008000; text-decoration-color: #008000\">'last_epoch'</span>: <span style=\"color: #008080; text-decoration-color: #008080; font-weight: bold\">-1</span>\n",
       "        <span style=\"font-weight: bold\">}</span>\n",
       "    <span style=\"font-weight: bold\">}</span>,\n",
       "    <span style=\"color: #008000; text-decoration-color: #008000\">'train'</span>: <span style=\"font-weight: bold\">{</span>\n",
       "        <span style=\"color: #008000; text-decoration-color: #008000\">'deterministic'</span>: <span style=\"color: #ff0000; text-decoration-color: #ff0000; font-style: italic\">False</span>,\n",
       "        <span style=\"color: #008000; text-decoration-color: #008000\">'random_seed'</span>: <span style=\"color: #008080; text-decoration-color: #008080; font-weight: bold\">42</span>,\n",
       "        <span style=\"color: #008000; text-decoration-color: #008000\">'freeze_backbone'</span>: <span style=\"color: #00ff00; text-decoration-color: #00ff00; font-style: italic\">True</span>,\n",
       "        <span style=\"color: #008000; text-decoration-color: #008000\">'freeze_backbone_up_to'</span>: <span style=\"color: #008080; text-decoration-color: #008080; font-weight: bold\">-1</span>,\n",
       "        <span style=\"color: #008000; text-decoration-color: #008000\">'pl_trainer'</span>: <span style=\"font-weight: bold\">{</span>\n",
       "            <span style=\"color: #008000; text-decoration-color: #008000\">'_target_'</span>: <span style=\"color: #008000; text-decoration-color: #008000\">'pytorch_lightning.Trainer'</span>,\n",
       "            <span style=\"color: #008000; text-decoration-color: #008000\">'fast_dev_run'</span>: <span style=\"color: #ff0000; text-decoration-color: #ff0000; font-style: italic\">False</span>,\n",
       "            <span style=\"color: #008000; text-decoration-color: #008000\">'accelerator'</span>: <span style=\"color: #008000; text-decoration-color: #008000\">'gpu'</span>,\n",
       "            <span style=\"color: #008000; text-decoration-color: #008000\">'devices'</span>: <span style=\"color: #008080; text-decoration-color: #008080; font-weight: bold\">1</span>,\n",
       "            <span style=\"color: #008000; text-decoration-color: #008000\">'precision'</span>: <span style=\"color: #008080; text-decoration-color: #008080; font-weight: bold\">16</span>,\n",
       "            <span style=\"color: #008000; text-decoration-color: #008000\">'enable_model_summary'</span>: <span style=\"color: #00ff00; text-decoration-color: #00ff00; font-style: italic\">True</span>,\n",
       "            <span style=\"color: #008000; text-decoration-color: #008000\">'log_gpu_memory'</span>: <span style=\"color: #00ff00; text-decoration-color: #00ff00; font-style: italic\">True</span>,\n",
       "            <span style=\"color: #008000; text-decoration-color: #008000\">'accumulate_grad_batches'</span>: <span style=\"color: #008080; text-decoration-color: #008080; font-weight: bold\">1</span>,\n",
       "            <span style=\"color: #008000; text-decoration-color: #008000\">'strategy'</span>: <span style=\"font-weight: bold\">{</span>\n",
       "                <span style=\"color: #008000; text-decoration-color: #008000\">'_target_'</span>: <span style=\"color: #008000; text-decoration-color: #008000\">'pytorch_lightning.plugins.DDPPlugin'</span>,\n",
       "                <span style=\"color: #008000; text-decoration-color: #008000\">'find_unused_parameters'</span>: <span style=\"color: #ff0000; text-decoration-color: #ff0000; font-style: italic\">False</span>\n",
       "            <span style=\"font-weight: bold\">}</span>\n",
       "        <span style=\"font-weight: bold\">}</span>,\n",
       "        <span style=\"color: #008000; text-decoration-color: #008000\">'callbacks'</span>: <span style=\"font-weight: bold\">{</span>\n",
       "            <span style=\"color: #008000; text-decoration-color: #008000\">'kwargs'</span>: <span style=\"font-weight: bold\">{</span><span style=\"color: #008000; text-decoration-color: #008000\">'monitor'</span>: <span style=\"font-weight: bold\">{</span><span style=\"color: #008000; text-decoration-color: #008000\">'metric'</span>: <span style=\"color: #008000; text-decoration-color: #008000\">'val_F1'</span>, <span style=\"color: #008000; text-decoration-color: #008000\">'mode'</span>: <span style=\"color: #008000; text-decoration-color: #008000\">'max'</span><span style=\"font-weight: bold\">}}</span>,\n",
       "            <span style=\"color: #008000; text-decoration-color: #008000\">'progress_bar'</span>: <span style=\"font-weight: bold\">{</span>\n",
       "                <span style=\"color: #008000; text-decoration-color: #008000\">'_target_'</span>: <span style=\"color: #008000; text-decoration-color: #008000\">'pytorch_lightning.callbacks.RichProgressBar'</span>,\n",
       "                <span style=\"color: #008000; text-decoration-color: #008000\">'theme'</span>: <span style=\"font-weight: bold\">{</span>\n",
       "                    <span style=\"color: #008000; text-decoration-color: #008000\">'_target_'</span>: \n",
       "<span style=\"color: #008000; text-decoration-color: #008000\">'pytorch_lightning.callbacks.progress.rich_progress.RichProgressBarTheme'</span>,\n",
       "                    <span style=\"color: #008000; text-decoration-color: #008000\">'progress_bar_complete'</span>: <span style=\"color: #008000; text-decoration-color: #008000\">'#6206E0'</span>,\n",
       "                    <span style=\"color: #008000; text-decoration-color: #008000\">'progress_bar_finished'</span>: <span style=\"color: #008000; text-decoration-color: #008000\">'#6206E0'</span>,\n",
       "                    <span style=\"color: #008000; text-decoration-color: #008000\">'progress_bar_pulse'</span>: <span style=\"color: #008000; text-decoration-color: #008000\">'#6206E0'</span>,\n",
       "                    <span style=\"color: #008000; text-decoration-color: #008000\">'batch_process'</span>: <span style=\"color: #008000; text-decoration-color: #008000\">'white'</span>,\n",
       "                    <span style=\"color: #008000; text-decoration-color: #008000\">'time'</span>: <span style=\"color: #008000; text-decoration-color: #008000\">'grey54'</span>,\n",
       "                    <span style=\"color: #008000; text-decoration-color: #008000\">'processing_speed'</span>: <span style=\"color: #008000; text-decoration-color: #008000\">'grey70'</span>\n",
       "                <span style=\"font-weight: bold\">}</span>\n",
       "            <span style=\"font-weight: bold\">}</span>,\n",
       "            <span style=\"color: #008000; text-decoration-color: #008000\">'lr_monitor'</span>: <span style=\"font-weight: bold\">{</span>\n",
       "                <span style=\"color: #008000; text-decoration-color: #008000\">'_target_'</span>: <span style=\"color: #008000; text-decoration-color: #008000\">'pytorch_lightning.callbacks.LearningRateMonitor'</span>,\n",
       "                <span style=\"color: #008000; text-decoration-color: #008000\">'logging_interval'</span>: <span style=\"color: #008000; text-decoration-color: #008000\">'step'</span>,\n",
       "                <span style=\"color: #008000; text-decoration-color: #008000\">'log_momentum'</span>: <span style=\"color: #ff0000; text-decoration-color: #ff0000; font-style: italic\">False</span>\n",
       "            <span style=\"font-weight: bold\">}</span>,\n",
       "            <span style=\"color: #008000; text-decoration-color: #008000\">'early_stopping'</span>: <span style=\"font-weight: bold\">{</span>\n",
       "                <span style=\"color: #008000; text-decoration-color: #008000\">'_target_'</span>: <span style=\"color: #008000; text-decoration-color: #008000\">'pytorch_lightning.callbacks.early_stopping.EarlyStopping'</span>,\n",
       "                <span style=\"color: #008000; text-decoration-color: #008000\">'monitor'</span>: <span style=\"color: #008000; text-decoration-color: #008000\">'val_F1'</span>,\n",
       "                <span style=\"color: #008000; text-decoration-color: #008000\">'patience'</span>: <span style=\"color: #008080; text-decoration-color: #008080; font-weight: bold\">15</span>,\n",
       "                <span style=\"color: #008000; text-decoration-color: #008000\">'verbose'</span>: <span style=\"color: #00ff00; text-decoration-color: #00ff00; font-style: italic\">True</span>,\n",
       "                <span style=\"color: #008000; text-decoration-color: #008000\">'mode'</span>: <span style=\"color: #008000; text-decoration-color: #008000\">'max'</span>,\n",
       "                <span style=\"color: #008000; text-decoration-color: #008000\">'min_delta'</span>: <span style=\"color: #008080; text-decoration-color: #008080; font-weight: bold\">0.05</span>\n",
       "            <span style=\"font-weight: bold\">}</span>,\n",
       "            <span style=\"color: #008000; text-decoration-color: #008000\">'model_checkpoint'</span>: <span style=\"font-weight: bold\">{</span>\n",
       "                <span style=\"color: #008000; text-decoration-color: #008000\">'_target_'</span>: <span style=\"color: #008000; text-decoration-color: #008000\">'pytorch_lightning.callbacks.ModelCheckpoint'</span>,\n",
       "                <span style=\"color: #008000; text-decoration-color: #008000\">'monitor'</span>: <span style=\"color: #008000; text-decoration-color: #008000\">'val_F1'</span>,\n",
       "                <span style=\"color: #008000; text-decoration-color: #008000\">'save_top_k'</span>: <span style=\"color: #008080; text-decoration-color: #008080; font-weight: bold\">2</span>,\n",
       "                <span style=\"color: #008000; text-decoration-color: #008000\">'save_last'</span>: <span style=\"color: #00ff00; text-decoration-color: #00ff00; font-style: italic\">True</span>,\n",
       "                <span style=\"color: #008000; text-decoration-color: #008000\">'mode'</span>: <span style=\"color: #008000; text-decoration-color: #008000\">'max'</span>,\n",
       "                <span style=\"color: #008000; text-decoration-color: #008000\">'verbose'</span>: <span style=\"color: #00ff00; text-decoration-color: #00ff00; font-style: italic\">True</span>,\n",
       "                <span style=\"color: #008000; text-decoration-color: #008000\">'dirpath'</span>: <span style=\"color: #008000; text-decoration-color: #008000\">'/media/data/jacob/GitHub/image-utils/imutils/ml/hydra_experiments</span>\n",
       "<span style=\"color: #008000; text-decoration-color: #008000\">/2022-03-24/07-35-17/ckpts'</span>,\n",
       "                <span style=\"color: #008000; text-decoration-color: #008000\">'filename'</span>: <span style=\"color: #008000; text-decoration-color: #008000\">'{epoch:02d}-{val_loss:.3f}-{val_F1:.3f}'</span>,\n",
       "                <span style=\"color: #008000; text-decoration-color: #008000\">'save_weights_only'</span>: <span style=\"color: #00ff00; text-decoration-color: #00ff00; font-style: italic\">True</span>\n",
       "            <span style=\"font-weight: bold\">}</span>,\n",
       "            <span style=\"color: #008000; text-decoration-color: #008000\">'watch_model_with_wandb'</span>: <span style=\"font-weight: bold\">{</span>\n",
       "                <span style=\"color: #008000; text-decoration-color: #008000\">'_target_'</span>: <span style=\"color: #008000; text-decoration-color: #008000\">'imutils.ml.callbacks.wandb_callbacks.WatchModelWithWandb'</span>,\n",
       "                <span style=\"color: #008000; text-decoration-color: #008000\">'log'</span>: <span style=\"color: #008000; text-decoration-color: #008000\">'gradients'</span>,\n",
       "                <span style=\"color: #008000; text-decoration-color: #008000\">'log_freq'</span>: <span style=\"color: #008080; text-decoration-color: #008080; font-weight: bold\">100</span>\n",
       "            <span style=\"font-weight: bold\">}</span>,\n",
       "            <span style=\"color: #008000; text-decoration-color: #008000\">'uploadcheckpointsasartifact'</span>: <span style=\"font-weight: bold\">{</span>\n",
       "                <span style=\"color: #008000; text-decoration-color: #008000\">'_target_'</span>: \n",
       "<span style=\"color: #008000; text-decoration-color: #008000\">'imutils.ml.callbacks.wandb_callbacks.UploadCheckpointsToWandbAsArtifact'</span>,\n",
       "                <span style=\"color: #008000; text-decoration-color: #008000\">'ckpt_dir'</span>: <span style=\"color: #008000; text-decoration-color: #008000\">'/media/data/jacob/GitHub/image-utils/imutils/ml/hydra_experiment</span>\n",
       "<span style=\"color: #008000; text-decoration-color: #008000\">s/2022-03-24/07-35-17/ckpts'</span>,\n",
       "                <span style=\"color: #008000; text-decoration-color: #008000\">'upload_best_only'</span>: <span style=\"color: #00ff00; text-decoration-color: #00ff00; font-style: italic\">True</span>\n",
       "            <span style=\"font-weight: bold\">}</span>,\n",
       "            <span style=\"color: #008000; text-decoration-color: #008000\">'module_data_monitor'</span>: <span style=\"font-weight: bold\">{</span><span style=\"color: #008000; text-decoration-color: #008000\">'_target_'</span>: <span style=\"color: #008000; text-decoration-color: #008000\">'pl_bolts.callbacks.ModuleDataMonitor'</span><span style=\"font-weight: bold\">}</span>,\n",
       "            <span style=\"color: #008000; text-decoration-color: #008000\">'image_stats_accumulator'</span>: <span style=\"color: #800080; text-decoration-color: #800080; font-style: italic\">None</span>\n",
       "        <span style=\"font-weight: bold\">}</span>\n",
       "    <span style=\"font-weight: bold\">}</span>,\n",
       "    <span style=\"color: #008000; text-decoration-color: #008000\">'logging'</span>: <span style=\"font-weight: bold\">{</span>\n",
       "        <span style=\"color: #008000; text-decoration-color: #008000\">'log_model_summary'</span>: <span style=\"color: #00ff00; text-decoration-color: #00ff00; font-style: italic\">True</span>,\n",
       "        <span style=\"color: #008000; text-decoration-color: #008000\">'n_elements_to_log'</span>: <span style=\"color: #008080; text-decoration-color: #008080; font-weight: bold\">32</span>,\n",
       "        <span style=\"color: #008000; text-decoration-color: #008000\">'normalize_visualization'</span>: <span style=\"color: #00ff00; text-decoration-color: #00ff00; font-style: italic\">True</span>,\n",
       "        <span style=\"color: #008000; text-decoration-color: #008000\">'val_check_interval'</span>: <span style=\"color: #008080; text-decoration-color: #008080; font-weight: bold\">1.0</span>,\n",
       "        <span style=\"color: #008000; text-decoration-color: #008000\">'progress_bar_refresh_rate'</span>: <span style=\"color: #008080; text-decoration-color: #008080; font-weight: bold\">20</span>,\n",
       "        <span style=\"color: #008000; text-decoration-color: #008000\">'wandb'</span>: <span style=\"font-weight: bold\">{</span>\n",
       "            <span style=\"color: #008000; text-decoration-color: #008000\">'project'</span>: <span style=\"color: #008000; text-decoration-color: #008000\">'herbarium2022'</span>,\n",
       "            <span style=\"color: #008000; text-decoration-color: #008000\">'entity'</span>: <span style=\"color: #008000; text-decoration-color: #008000\">'jrose'</span>,\n",
       "            <span style=\"color: #008000; text-decoration-color: #008000\">'name'</span>: <span style=\"color: #008000; text-decoration-color: #008000\">'herbarium2022__resnext50_32x4d'</span>,\n",
       "            <span style=\"color: #008000; text-decoration-color: #008000\">'watch'</span>: <span style=\"font-weight: bold\">{</span><span style=\"color: #008000; text-decoration-color: #008000\">'log'</span>: <span style=\"color: #008000; text-decoration-color: #008000\">'all'</span>, <span style=\"color: #008000; text-decoration-color: #008000\">'log_freq'</span>: <span style=\"color: #008080; text-decoration-color: #008080; font-weight: bold\">10</span><span style=\"font-weight: bold\">}</span>\n",
       "        <span style=\"font-weight: bold\">}</span>\n",
       "    <span style=\"font-weight: bold\">}</span>,\n",
       "    <span style=\"color: #008000; text-decoration-color: #008000\">'hydra'</span>: <span style=\"font-weight: bold\">{</span>\n",
       "        <span style=\"color: #008000; text-decoration-color: #008000\">'run'</span>: <span style=\"font-weight: bold\">{</span>\n",
       "            <span style=\"color: #008000; text-decoration-color: #008000\">'dir'</span>: \n",
       "<span style=\"color: #008000; text-decoration-color: #008000\">'/media/data/jacob/GitHub/image-utils/imutils/ml/hydra_experiments/2022-03-24/07-35-17'</span>\n",
       "        <span style=\"font-weight: bold\">}</span>\n",
       "    <span style=\"font-weight: bold\">}</span>\n",
       "<span style=\"font-weight: bold\">}</span>\n",
       "</pre>\n"
      ],
      "text/plain": [
       "\u001b[1m{\u001b[0m\n",
       "    \u001b[32m'core'\u001b[0m: \u001b[1m{\u001b[0m\n",
       "        \u001b[32m'name'\u001b[0m: \u001b[32m'herbarium2022__resnext50_32x4d'\u001b[0m,\n",
       "        \u001b[32m'version'\u001b[0m: \u001b[32m'0.0.1'\u001b[0m,\n",
       "        \u001b[32m'tags'\u001b[0m: \u001b[1m[\u001b[0m\u001b[32m'herbarium2022'\u001b[0m, \u001b[32m'kaggle'\u001b[0m\u001b[1m]\u001b[0m\n",
       "    \u001b[1m}\u001b[0m,\n",
       "    \u001b[32m'hp'\u001b[0m: \u001b[1m{\u001b[0m\u001b[32m'preprocess_size'\u001b[0m: \u001b[1;36m256\u001b[0m, \u001b[32m'resolution'\u001b[0m: \u001b[1;36m224\u001b[0m, \u001b[32m'num_channels'\u001b[0m: \u001b[1;36m3\u001b[0m\u001b[1m}\u001b[0m,\n",
       "    \u001b[32m'seed'\u001b[0m: \u001b[1;36m42\u001b[0m,\n",
       "    \u001b[32m'run_output_dir'\u001b[0m: \n",
       "\u001b[32m'/media/data/jacob/GitHub/image-utils/imutils/ml/hydra_experiments/2022-03-24/07-35-17'\u001b[0m,\n",
       "    \u001b[32m'checkpoint_dir'\u001b[0m: \u001b[32m'/media/data/jacob/GitHub/image-utils/imutils/ml/hydra_experiments/2022\u001b[0m\n",
       "\u001b[32m-03-24/07-35-17/ckpts'\u001b[0m,\n",
       "    \u001b[32m'data'\u001b[0m: \u001b[1m{\u001b[0m\n",
       "        \u001b[32m'datamodule'\u001b[0m: \u001b[1m{\u001b[0m\n",
       "            \u001b[32m'_target_'\u001b[0m: \u001b[32m'imutils.ml.data.datamodule.Herbarium2022DataModule'\u001b[0m,\n",
       "            \u001b[32m'name'\u001b[0m: \u001b[32m'herbarium2022'\u001b[0m,\n",
       "            \u001b[32m'catalog_dir'\u001b[0m: \u001b[32m'/media/data/jacob/GitHub/image-utils/imutils/big/data'\u001b[0m,\n",
       "            \u001b[32m'label_col'\u001b[0m: \u001b[32m'scientificName'\u001b[0m,\n",
       "            \u001b[32m'train_size'\u001b[0m: \u001b[1;36m0.7\u001b[0m,\n",
       "            \u001b[32m'shuffle'\u001b[0m: \u001b[3;92mTrue\u001b[0m,\n",
       "            \u001b[32m'seed'\u001b[0m: \u001b[1;36m14\u001b[0m,\n",
       "            \u001b[32m'batch_size'\u001b[0m: \u001b[1;36m128\u001b[0m,\n",
       "            \u001b[32m'num_workers'\u001b[0m: \u001b[1;36m4\u001b[0m,\n",
       "            \u001b[32m'pin_memory'\u001b[0m: \u001b[3;92mTrue\u001b[0m,\n",
       "            \u001b[32m'transform_cfg'\u001b[0m: \u001b[1m{\u001b[0m\n",
       "                \u001b[32m'preprocess_size'\u001b[0m: \u001b[1;36m256\u001b[0m,\n",
       "                \u001b[32m'resolution'\u001b[0m: \u001b[1;36m224\u001b[0m,\n",
       "                \u001b[32m'preprocess'\u001b[0m: \u001b[1m{\u001b[0m\n",
       "                    \u001b[32m'train'\u001b[0m: \u001b[1m{\u001b[0m\u001b[32m'resize'\u001b[0m: \u001b[1;36m256\u001b[0m\u001b[1m}\u001b[0m,\n",
       "                    \u001b[32m'val'\u001b[0m: \u001b[1m{\u001b[0m\u001b[32m'resize'\u001b[0m: \u001b[1;36m256\u001b[0m\u001b[1m}\u001b[0m,\n",
       "                    \u001b[32m'test'\u001b[0m: \u001b[1m{\u001b[0m\u001b[32m'resize'\u001b[0m: \u001b[1;36m256\u001b[0m\u001b[1m}\u001b[0m\n",
       "                \u001b[1m}\u001b[0m,\n",
       "                \u001b[32m'batch_transform'\u001b[0m: \u001b[1m{\u001b[0m\n",
       "                    \u001b[32m'random_flips'\u001b[0m: \u001b[3;91mFalse\u001b[0m,\n",
       "                    \u001b[32m'train'\u001b[0m: \u001b[1m{\u001b[0m\u001b[32m'random_resize_crop'\u001b[0m: \u001b[1;36m224\u001b[0m\u001b[1m}\u001b[0m,\n",
       "                    \u001b[32m'val'\u001b[0m: \u001b[1m{\u001b[0m\u001b[32m'center_crop'\u001b[0m: \u001b[1;36m224\u001b[0m\u001b[1m}\u001b[0m,\n",
       "                    \u001b[32m'test'\u001b[0m: \u001b[1m{\u001b[0m\u001b[32m'center_crop'\u001b[0m: \u001b[1;36m224\u001b[0m\u001b[1m}\u001b[0m\n",
       "                \u001b[1m}\u001b[0m,\n",
       "                \u001b[32m'normalize'\u001b[0m: \u001b[1m[\u001b[0m\u001b[1m[\u001b[0m\u001b[1;36m0.485\u001b[0m, \u001b[1;36m0.456\u001b[0m, \u001b[1;36m0.406\u001b[0m\u001b[1m]\u001b[0m, \u001b[1m[\u001b[0m\u001b[1;36m0.229\u001b[0m, \u001b[1;36m0.224\u001b[0m, \u001b[1;36m0.225\u001b[0m\u001b[1m]\u001b[0m\u001b[1m]\u001b[0m\n",
       "            \u001b[1m}\u001b[0m,\n",
       "            \u001b[32m'remove_transforms'\u001b[0m: \u001b[3;91mFalse\u001b[0m,\n",
       "            \u001b[32m'image_reader'\u001b[0m: \u001b[32m'default'\u001b[0m,\n",
       "            \u001b[32m'datasets'\u001b[0m: \u001b[1m{\u001b[0m\n",
       "                \u001b[32m'herbarium2022'\u001b[0m: \u001b[1m{\u001b[0m\n",
       "                    \u001b[32m'train'\u001b[0m: \u001b[1m{\u001b[0m\n",
       "                        \u001b[32m'_target_'\u001b[0m: \u001b[32m'imutils.ml.data.datamodule.Herbarium2022Dataset'\u001b[0m,\n",
       "                        \u001b[32m'catalog_dir'\u001b[0m: \n",
       "\u001b[32m'/media/data_cifs/projects/prj_fossils/data/raw_data/herbarium-2022-fgvc9_resize'\u001b[0m,\n",
       "                        \u001b[32m'subset'\u001b[0m: \u001b[32m'train'\u001b[0m,\n",
       "                        \u001b[32m'label_col'\u001b[0m: \u001b[32m'scientificName'\u001b[0m,\n",
       "                        \u001b[32m'train_size'\u001b[0m: \u001b[1;36m0.7\u001b[0m,\n",
       "                        \u001b[32m'shuffle'\u001b[0m: \u001b[3;92mTrue\u001b[0m,\n",
       "                        \u001b[32m'seed'\u001b[0m: \u001b[1;36m14\u001b[0m\n",
       "                    \u001b[1m}\u001b[0m,\n",
       "                    \u001b[32m'val'\u001b[0m: \u001b[1m{\u001b[0m\n",
       "                        \u001b[32m'_target_'\u001b[0m: \u001b[32m'imutils.ml.data.datamodule.Herbarium2022Dataset'\u001b[0m,\n",
       "                        \u001b[32m'catalog_dir'\u001b[0m: \n",
       "\u001b[32m'/media/data_cifs/projects/prj_fossils/data/raw_data/herbarium-2022-fgvc9_resize'\u001b[0m,\n",
       "                        \u001b[32m'subset'\u001b[0m: \u001b[32m'val'\u001b[0m,\n",
       "                        \u001b[32m'label_col'\u001b[0m: \u001b[32m'scientificName'\u001b[0m,\n",
       "                        \u001b[32m'train_size'\u001b[0m: \u001b[1;36m0.7\u001b[0m,\n",
       "                        \u001b[32m'shuffle'\u001b[0m: \u001b[3;91mFalse\u001b[0m,\n",
       "                        \u001b[32m'seed'\u001b[0m: \u001b[1;36m14\u001b[0m\n",
       "                    \u001b[1m}\u001b[0m,\n",
       "                    \u001b[32m'test'\u001b[0m: \u001b[1m{\u001b[0m\n",
       "                        \u001b[32m'_target_'\u001b[0m: \u001b[32m'imutils.ml.data.datamodule.Herbarium2022Dataset'\u001b[0m,\n",
       "                        \u001b[32m'catalog_dir'\u001b[0m: \n",
       "\u001b[32m'/media/data_cifs/projects/prj_fossils/data/raw_data/herbarium-2022-fgvc9_resize'\u001b[0m,\n",
       "                        \u001b[32m'subset'\u001b[0m: \u001b[32m'train'\u001b[0m,\n",
       "                        \u001b[32m'label_col'\u001b[0m: \u001b[32m'scientificName'\u001b[0m,\n",
       "                        \u001b[32m'train_size'\u001b[0m: \u001b[1;36m0.7\u001b[0m,\n",
       "                        \u001b[32m'shuffle'\u001b[0m: \u001b[3;92mTrue\u001b[0m,\n",
       "                        \u001b[32m'seed'\u001b[0m: \u001b[1;36m14\u001b[0m\n",
       "                    \u001b[1m}\u001b[0m\n",
       "                \u001b[1m}\u001b[0m\n",
       "            \u001b[1m}\u001b[0m\n",
       "        \u001b[1m}\u001b[0m\n",
       "    \u001b[1m}\u001b[0m,\n",
       "    \u001b[32m'model_cfg'\u001b[0m: \u001b[1m{\u001b[0m\n",
       "        \u001b[32m'_target_'\u001b[0m: \u001b[32m'imutils.ml.models.pl.classifier.LitClassifier'\u001b[0m,\n",
       "        \u001b[32m'backbone'\u001b[0m: \u001b[1m{\u001b[0m\n",
       "            \u001b[32m'model_repo'\u001b[0m: \u001b[32m'timm'\u001b[0m,\n",
       "            \u001b[32m'name'\u001b[0m: \u001b[32m'resnext50_32x4d'\u001b[0m,\n",
       "            \u001b[32m'pretrained'\u001b[0m: \u001b[3;92mTrue\u001b[0m,\n",
       "            \u001b[32m'freeze_backbone'\u001b[0m: \u001b[3;92mTrue\u001b[0m\n",
       "        \u001b[1m}\u001b[0m,\n",
       "        \u001b[32m'head'\u001b[0m: \u001b[1m{\u001b[0m\n",
       "            \u001b[32m'num_classes'\u001b[0m: \u001b[1;36m15501\u001b[0m,\n",
       "            \u001b[32m'pool_size'\u001b[0m: \u001b[1;36m1\u001b[0m,\n",
       "            \u001b[32m'pool_type'\u001b[0m: \u001b[32m'avg'\u001b[0m,\n",
       "            \u001b[32m'head_type'\u001b[0m: \u001b[32m'linear'\u001b[0m,\n",
       "            \u001b[32m'hidden_size'\u001b[0m: \u001b[1;36m512\u001b[0m,\n",
       "            \u001b[32m'dropout_p'\u001b[0m: \u001b[1;36m0.3\u001b[0m\n",
       "        \u001b[1m}\u001b[0m,\n",
       "        \u001b[32m'name'\u001b[0m: \u001b[32m'resnext50_32x4d'\u001b[0m,\n",
       "        \u001b[32m'loss'\u001b[0m: \u001b[1m{\u001b[0m\u001b[32m'_target_'\u001b[0m: \u001b[32m'torch.nn.CrossEntropyLoss'\u001b[0m\u001b[1m}\u001b[0m,\n",
       "        \u001b[32m'resolution'\u001b[0m: \u001b[1;36m224\u001b[0m,\n",
       "        \u001b[32m'num_channels'\u001b[0m: \u001b[1;36m3\u001b[0m,\n",
       "        \u001b[32m'input_shape'\u001b[0m: \u001b[1m[\u001b[0m\u001b[1;36m3\u001b[0m, \u001b[1;36m224\u001b[0m, \u001b[1;36m224\u001b[0m\u001b[1m]\u001b[0m\n",
       "    \u001b[1m}\u001b[0m,\n",
       "    \u001b[32m'optim'\u001b[0m: \u001b[1m{\u001b[0m\n",
       "        \u001b[32m'optimizer'\u001b[0m: \u001b[1m{\u001b[0m\n",
       "            \u001b[32m'_target_'\u001b[0m: \u001b[32m'torch.optim.Adam'\u001b[0m,\n",
       "            \u001b[32m'lr'\u001b[0m: \u001b[1;36m0.001\u001b[0m,\n",
       "            \u001b[32m'betas'\u001b[0m: \u001b[1m[\u001b[0m\u001b[1;36m0.9\u001b[0m, \u001b[1;36m0.999\u001b[0m\u001b[1m]\u001b[0m,\n",
       "            \u001b[32m'eps'\u001b[0m: \u001b[1;36m1e-08\u001b[0m,\n",
       "            \u001b[32m'weight_decay'\u001b[0m: \u001b[1;36m0.0\u001b[0m\n",
       "        \u001b[1m}\u001b[0m,\n",
       "        \u001b[32m'exclude_bn_bias'\u001b[0m: \u001b[3;92mTrue\u001b[0m,\n",
       "        \u001b[32m'use_lr_scheduler'\u001b[0m: \u001b[3;92mTrue\u001b[0m,\n",
       "        \u001b[32m'lr_scheduler'\u001b[0m: \u001b[1m{\u001b[0m\n",
       "            \u001b[32m'_target_'\u001b[0m: \u001b[32m'torch.optim.lr_scheduler.CosineAnnealingWarmRestarts'\u001b[0m,\n",
       "            \u001b[32m'T_0'\u001b[0m: \u001b[1;36m10\u001b[0m,\n",
       "            \u001b[32m'T_mult'\u001b[0m: \u001b[1;36m2\u001b[0m,\n",
       "            \u001b[32m'eta_min'\u001b[0m: \u001b[1;36m0\u001b[0m,\n",
       "            \u001b[32m'last_epoch'\u001b[0m: \u001b[1;36m-1\u001b[0m\n",
       "        \u001b[1m}\u001b[0m\n",
       "    \u001b[1m}\u001b[0m,\n",
       "    \u001b[32m'train'\u001b[0m: \u001b[1m{\u001b[0m\n",
       "        \u001b[32m'deterministic'\u001b[0m: \u001b[3;91mFalse\u001b[0m,\n",
       "        \u001b[32m'random_seed'\u001b[0m: \u001b[1;36m42\u001b[0m,\n",
       "        \u001b[32m'freeze_backbone'\u001b[0m: \u001b[3;92mTrue\u001b[0m,\n",
       "        \u001b[32m'freeze_backbone_up_to'\u001b[0m: \u001b[1;36m-1\u001b[0m,\n",
       "        \u001b[32m'pl_trainer'\u001b[0m: \u001b[1m{\u001b[0m\n",
       "            \u001b[32m'_target_'\u001b[0m: \u001b[32m'pytorch_lightning.Trainer'\u001b[0m,\n",
       "            \u001b[32m'fast_dev_run'\u001b[0m: \u001b[3;91mFalse\u001b[0m,\n",
       "            \u001b[32m'accelerator'\u001b[0m: \u001b[32m'gpu'\u001b[0m,\n",
       "            \u001b[32m'devices'\u001b[0m: \u001b[1;36m1\u001b[0m,\n",
       "            \u001b[32m'precision'\u001b[0m: \u001b[1;36m16\u001b[0m,\n",
       "            \u001b[32m'enable_model_summary'\u001b[0m: \u001b[3;92mTrue\u001b[0m,\n",
       "            \u001b[32m'log_gpu_memory'\u001b[0m: \u001b[3;92mTrue\u001b[0m,\n",
       "            \u001b[32m'accumulate_grad_batches'\u001b[0m: \u001b[1;36m1\u001b[0m,\n",
       "            \u001b[32m'strategy'\u001b[0m: \u001b[1m{\u001b[0m\n",
       "                \u001b[32m'_target_'\u001b[0m: \u001b[32m'pytorch_lightning.plugins.DDPPlugin'\u001b[0m,\n",
       "                \u001b[32m'find_unused_parameters'\u001b[0m: \u001b[3;91mFalse\u001b[0m\n",
       "            \u001b[1m}\u001b[0m\n",
       "        \u001b[1m}\u001b[0m,\n",
       "        \u001b[32m'callbacks'\u001b[0m: \u001b[1m{\u001b[0m\n",
       "            \u001b[32m'kwargs'\u001b[0m: \u001b[1m{\u001b[0m\u001b[32m'monitor'\u001b[0m: \u001b[1m{\u001b[0m\u001b[32m'metric'\u001b[0m: \u001b[32m'val_F1'\u001b[0m, \u001b[32m'mode'\u001b[0m: \u001b[32m'max'\u001b[0m\u001b[1m}\u001b[0m\u001b[1m}\u001b[0m,\n",
       "            \u001b[32m'progress_bar'\u001b[0m: \u001b[1m{\u001b[0m\n",
       "                \u001b[32m'_target_'\u001b[0m: \u001b[32m'pytorch_lightning.callbacks.RichProgressBar'\u001b[0m,\n",
       "                \u001b[32m'theme'\u001b[0m: \u001b[1m{\u001b[0m\n",
       "                    \u001b[32m'_target_'\u001b[0m: \n",
       "\u001b[32m'pytorch_lightning.callbacks.progress.rich_progress.RichProgressBarTheme'\u001b[0m,\n",
       "                    \u001b[32m'progress_bar_complete'\u001b[0m: \u001b[32m'#6206E0'\u001b[0m,\n",
       "                    \u001b[32m'progress_bar_finished'\u001b[0m: \u001b[32m'#6206E0'\u001b[0m,\n",
       "                    \u001b[32m'progress_bar_pulse'\u001b[0m: \u001b[32m'#6206E0'\u001b[0m,\n",
       "                    \u001b[32m'batch_process'\u001b[0m: \u001b[32m'white'\u001b[0m,\n",
       "                    \u001b[32m'time'\u001b[0m: \u001b[32m'grey54'\u001b[0m,\n",
       "                    \u001b[32m'processing_speed'\u001b[0m: \u001b[32m'grey70'\u001b[0m\n",
       "                \u001b[1m}\u001b[0m\n",
       "            \u001b[1m}\u001b[0m,\n",
       "            \u001b[32m'lr_monitor'\u001b[0m: \u001b[1m{\u001b[0m\n",
       "                \u001b[32m'_target_'\u001b[0m: \u001b[32m'pytorch_lightning.callbacks.LearningRateMonitor'\u001b[0m,\n",
       "                \u001b[32m'logging_interval'\u001b[0m: \u001b[32m'step'\u001b[0m,\n",
       "                \u001b[32m'log_momentum'\u001b[0m: \u001b[3;91mFalse\u001b[0m\n",
       "            \u001b[1m}\u001b[0m,\n",
       "            \u001b[32m'early_stopping'\u001b[0m: \u001b[1m{\u001b[0m\n",
       "                \u001b[32m'_target_'\u001b[0m: \u001b[32m'pytorch_lightning.callbacks.early_stopping.EarlyStopping'\u001b[0m,\n",
       "                \u001b[32m'monitor'\u001b[0m: \u001b[32m'val_F1'\u001b[0m,\n",
       "                \u001b[32m'patience'\u001b[0m: \u001b[1;36m15\u001b[0m,\n",
       "                \u001b[32m'verbose'\u001b[0m: \u001b[3;92mTrue\u001b[0m,\n",
       "                \u001b[32m'mode'\u001b[0m: \u001b[32m'max'\u001b[0m,\n",
       "                \u001b[32m'min_delta'\u001b[0m: \u001b[1;36m0.05\u001b[0m\n",
       "            \u001b[1m}\u001b[0m,\n",
       "            \u001b[32m'model_checkpoint'\u001b[0m: \u001b[1m{\u001b[0m\n",
       "                \u001b[32m'_target_'\u001b[0m: \u001b[32m'pytorch_lightning.callbacks.ModelCheckpoint'\u001b[0m,\n",
       "                \u001b[32m'monitor'\u001b[0m: \u001b[32m'val_F1'\u001b[0m,\n",
       "                \u001b[32m'save_top_k'\u001b[0m: \u001b[1;36m2\u001b[0m,\n",
       "                \u001b[32m'save_last'\u001b[0m: \u001b[3;92mTrue\u001b[0m,\n",
       "                \u001b[32m'mode'\u001b[0m: \u001b[32m'max'\u001b[0m,\n",
       "                \u001b[32m'verbose'\u001b[0m: \u001b[3;92mTrue\u001b[0m,\n",
       "                \u001b[32m'dirpath'\u001b[0m: \u001b[32m'/media/data/jacob/GitHub/image-utils/imutils/ml/hydra_experiments\u001b[0m\n",
       "\u001b[32m/2022-03-24/07-35-17/ckpts'\u001b[0m,\n",
       "                \u001b[32m'filename'\u001b[0m: \u001b[32m'\u001b[0m\u001b[32m{\u001b[0m\u001b[32mepoch:02d\u001b[0m\u001b[32m}\u001b[0m\u001b[32m-\u001b[0m\u001b[32m{\u001b[0m\u001b[32mval_loss:.3f\u001b[0m\u001b[32m}\u001b[0m\u001b[32m-\u001b[0m\u001b[32m{\u001b[0m\u001b[32mval_F1:.3f\u001b[0m\u001b[32m}\u001b[0m\u001b[32m'\u001b[0m,\n",
       "                \u001b[32m'save_weights_only'\u001b[0m: \u001b[3;92mTrue\u001b[0m\n",
       "            \u001b[1m}\u001b[0m,\n",
       "            \u001b[32m'watch_model_with_wandb'\u001b[0m: \u001b[1m{\u001b[0m\n",
       "                \u001b[32m'_target_'\u001b[0m: \u001b[32m'imutils.ml.callbacks.wandb_callbacks.WatchModelWithWandb'\u001b[0m,\n",
       "                \u001b[32m'log'\u001b[0m: \u001b[32m'gradients'\u001b[0m,\n",
       "                \u001b[32m'log_freq'\u001b[0m: \u001b[1;36m100\u001b[0m\n",
       "            \u001b[1m}\u001b[0m,\n",
       "            \u001b[32m'uploadcheckpointsasartifact'\u001b[0m: \u001b[1m{\u001b[0m\n",
       "                \u001b[32m'_target_'\u001b[0m: \n",
       "\u001b[32m'imutils.ml.callbacks.wandb_callbacks.UploadCheckpointsToWandbAsArtifact'\u001b[0m,\n",
       "                \u001b[32m'ckpt_dir'\u001b[0m: \u001b[32m'/media/data/jacob/GitHub/image-utils/imutils/ml/hydra_experiment\u001b[0m\n",
       "\u001b[32ms/2022-03-24/07-35-17/ckpts'\u001b[0m,\n",
       "                \u001b[32m'upload_best_only'\u001b[0m: \u001b[3;92mTrue\u001b[0m\n",
       "            \u001b[1m}\u001b[0m,\n",
       "            \u001b[32m'module_data_monitor'\u001b[0m: \u001b[1m{\u001b[0m\u001b[32m'_target_'\u001b[0m: \u001b[32m'pl_bolts.callbacks.ModuleDataMonitor'\u001b[0m\u001b[1m}\u001b[0m,\n",
       "            \u001b[32m'image_stats_accumulator'\u001b[0m: \u001b[3;35mNone\u001b[0m\n",
       "        \u001b[1m}\u001b[0m\n",
       "    \u001b[1m}\u001b[0m,\n",
       "    \u001b[32m'logging'\u001b[0m: \u001b[1m{\u001b[0m\n",
       "        \u001b[32m'log_model_summary'\u001b[0m: \u001b[3;92mTrue\u001b[0m,\n",
       "        \u001b[32m'n_elements_to_log'\u001b[0m: \u001b[1;36m32\u001b[0m,\n",
       "        \u001b[32m'normalize_visualization'\u001b[0m: \u001b[3;92mTrue\u001b[0m,\n",
       "        \u001b[32m'val_check_interval'\u001b[0m: \u001b[1;36m1.0\u001b[0m,\n",
       "        \u001b[32m'progress_bar_refresh_rate'\u001b[0m: \u001b[1;36m20\u001b[0m,\n",
       "        \u001b[32m'wandb'\u001b[0m: \u001b[1m{\u001b[0m\n",
       "            \u001b[32m'project'\u001b[0m: \u001b[32m'herbarium2022'\u001b[0m,\n",
       "            \u001b[32m'entity'\u001b[0m: \u001b[32m'jrose'\u001b[0m,\n",
       "            \u001b[32m'name'\u001b[0m: \u001b[32m'herbarium2022__resnext50_32x4d'\u001b[0m,\n",
       "            \u001b[32m'watch'\u001b[0m: \u001b[1m{\u001b[0m\u001b[32m'log'\u001b[0m: \u001b[32m'all'\u001b[0m, \u001b[32m'log_freq'\u001b[0m: \u001b[1;36m10\u001b[0m\u001b[1m}\u001b[0m\n",
       "        \u001b[1m}\u001b[0m\n",
       "    \u001b[1m}\u001b[0m,\n",
       "    \u001b[32m'hydra'\u001b[0m: \u001b[1m{\u001b[0m\n",
       "        \u001b[32m'run'\u001b[0m: \u001b[1m{\u001b[0m\n",
       "            \u001b[32m'dir'\u001b[0m: \n",
       "\u001b[32m'/media/data/jacob/GitHub/image-utils/imutils/ml/hydra_experiments/2022-03-24/07-35-17'\u001b[0m\n",
       "        \u001b[1m}\u001b[0m\n",
       "    \u001b[1m}\u001b[0m\n",
       "\u001b[1m}\u001b[0m\n"
      ]
     },
     "metadata": {},
     "output_type": "display_data"
    }
   ],
   "source": [
    "pp(OmegaConf.to_container(model.cfg, resolve=True))"
   ]
  },
  {
   "cell_type": "code",
   "execution_count": 9,
   "id": "e2d3d8bb-4413-4bcb-ad38-647789ba9f3d",
   "metadata": {},
   "outputs": [
    {
     "name": "stdout",
     "output_type": "stream",
     "text": [
      "Initializing weights of the model head.\n",
      "input_size: (1, 3, 224, 224)\n"
     ]
    }
   ],
   "source": [
    "# ckpt_path = \"/media/data/jacob/GitHub/image-utils/imutils/ml/hydra_experiments/2022-03-24/07-35-17/hydra_experiments/2022-03-24/07-35-17/ckpts/epoch=10-val_loss=2.834-val_F1=0.384.ckpt\"\n",
    "\n",
    "ckpt_path = \"/media/data/jacob/GitHub/image-utils/imutils/ml/hydra_experiments/2022-03-24/07-35-17/hydra_experiments/2022-03-24/07-35-17/ckpts/epoch=14-val_loss=2.521-val_F1=0.443.ckpt\"\n",
    "\n",
    "model = model.load_from_checkpoint(ckpt_path);\n",
    "model.eval();\n",
    "model.freeze();\n"
   ]
  },
  {
   "cell_type": "code",
   "execution_count": null,
   "id": "c82d43c1-97ac-4b46-bd15-335fd10766a9",
   "metadata": {},
   "outputs": [],
   "source": [
    "results = []\n",
    "\n",
    "for batch in iter(test_dataloader):\n",
    "    x, y, metadata = batch\n",
    "    x.to(model.device)\n",
    "    image_ids = metadata['image_id']\n",
    "    \n",
    "    y_logits = model.predict_step(x)\n",
    "    \n",
    "    results.append({\"image_id\": image_ids,\n",
    "                    \"y_logits: y_logits\"})"
   ]
  },
  {
   "cell_type": "code",
   "execution_count": 10,
   "id": "88355cab-52be-4acb-bbab-bbe7a5d3cb6b",
   "metadata": {},
   "outputs": [
    {
     "data": {
      "text/html": [
       "<pre style=\"white-space:pre;overflow-x:auto;line-height:normal;font-family:Menlo,'DejaVu Sans Mono',consolas,'Courier New',monospace\"><span style=\"font-weight: bold\">{</span>\n",
       "    <span style=\"color: #008000; text-decoration-color: #008000\">'core'</span>: <span style=\"font-weight: bold\">{</span>\n",
       "        <span style=\"color: #008000; text-decoration-color: #008000\">'name'</span>: <span style=\"color: #008000; text-decoration-color: #008000\">'herbarium2022__resnext50_32x4d'</span>,\n",
       "        <span style=\"color: #008000; text-decoration-color: #008000\">'version'</span>: <span style=\"color: #008000; text-decoration-color: #008000\">'0.0.1'</span>,\n",
       "        <span style=\"color: #008000; text-decoration-color: #008000\">'tags'</span>: <span style=\"font-weight: bold\">[</span><span style=\"color: #008000; text-decoration-color: #008000\">'herbarium2022'</span>, <span style=\"color: #008000; text-decoration-color: #008000\">'kaggle'</span><span style=\"font-weight: bold\">]</span>\n",
       "    <span style=\"font-weight: bold\">}</span>,\n",
       "    <span style=\"color: #008000; text-decoration-color: #008000\">'hp'</span>: <span style=\"font-weight: bold\">{</span><span style=\"color: #008000; text-decoration-color: #008000\">'preprocess_size'</span>: <span style=\"color: #008080; text-decoration-color: #008080; font-weight: bold\">256</span>, <span style=\"color: #008000; text-decoration-color: #008000\">'resolution'</span>: <span style=\"color: #008080; text-decoration-color: #008080; font-weight: bold\">224</span>, <span style=\"color: #008000; text-decoration-color: #008000\">'num_channels'</span>: <span style=\"color: #008080; text-decoration-color: #008080; font-weight: bold\">3</span><span style=\"font-weight: bold\">}</span>,\n",
       "    <span style=\"color: #008000; text-decoration-color: #008000\">'seed'</span>: <span style=\"color: #008080; text-decoration-color: #008080; font-weight: bold\">42</span>,\n",
       "    <span style=\"color: #008000; text-decoration-color: #008000\">'run_output_dir'</span>: <span style=\"color: #008000; text-decoration-color: #008000\">'./hydra_experiments/2022-03-24/07-35-17'</span>,\n",
       "    <span style=\"color: #008000; text-decoration-color: #008000\">'checkpoint_dir'</span>: <span style=\"color: #008000; text-decoration-color: #008000\">'./hydra_experiments/2022-03-24/07-35-17/ckpts'</span>,\n",
       "    <span style=\"color: #008000; text-decoration-color: #008000\">'data'</span>: <span style=\"font-weight: bold\">{</span>\n",
       "        <span style=\"color: #008000; text-decoration-color: #008000\">'datamodule'</span>: <span style=\"font-weight: bold\">{</span>\n",
       "            <span style=\"color: #008000; text-decoration-color: #008000\">'_target_'</span>: <span style=\"color: #008000; text-decoration-color: #008000\">'imutils.ml.data.datamodule.Herbarium2022DataModule'</span>,\n",
       "            <span style=\"color: #008000; text-decoration-color: #008000\">'name'</span>: <span style=\"color: #008000; text-decoration-color: #008000\">'herbarium2022'</span>,\n",
       "            <span style=\"color: #008000; text-decoration-color: #008000\">'catalog_dir'</span>: <span style=\"color: #008000; text-decoration-color: #008000\">'/media/data/jacob/GitHub/image-utils/imutils/big/data'</span>,\n",
       "            <span style=\"color: #008000; text-decoration-color: #008000\">'label_col'</span>: <span style=\"color: #008000; text-decoration-color: #008000\">'scientificName'</span>,\n",
       "            <span style=\"color: #008000; text-decoration-color: #008000\">'train_size'</span>: <span style=\"color: #008080; text-decoration-color: #008080; font-weight: bold\">0.7</span>,\n",
       "            <span style=\"color: #008000; text-decoration-color: #008000\">'shuffle'</span>: <span style=\"color: #00ff00; text-decoration-color: #00ff00; font-style: italic\">True</span>,\n",
       "            <span style=\"color: #008000; text-decoration-color: #008000\">'seed'</span>: <span style=\"color: #008080; text-decoration-color: #008080; font-weight: bold\">14</span>,\n",
       "            <span style=\"color: #008000; text-decoration-color: #008000\">'batch_size'</span>: <span style=\"color: #008080; text-decoration-color: #008080; font-weight: bold\">64</span>,\n",
       "            <span style=\"color: #008000; text-decoration-color: #008000\">'num_workers'</span>: <span style=\"color: #008080; text-decoration-color: #008080; font-weight: bold\">4</span>,\n",
       "            <span style=\"color: #008000; text-decoration-color: #008000\">'pin_memory'</span>: <span style=\"color: #00ff00; text-decoration-color: #00ff00; font-style: italic\">True</span>,\n",
       "            <span style=\"color: #008000; text-decoration-color: #008000\">'transform_cfg'</span>: <span style=\"font-weight: bold\">{</span>\n",
       "                <span style=\"color: #008000; text-decoration-color: #008000\">'preprocess_size'</span>: <span style=\"color: #008080; text-decoration-color: #008080; font-weight: bold\">256</span>,\n",
       "                <span style=\"color: #008000; text-decoration-color: #008000\">'resolution'</span>: <span style=\"color: #008080; text-decoration-color: #008080; font-weight: bold\">224</span>,\n",
       "                <span style=\"color: #008000; text-decoration-color: #008000\">'preprocess'</span>: <span style=\"font-weight: bold\">{</span>\n",
       "                    <span style=\"color: #008000; text-decoration-color: #008000\">'train'</span>: <span style=\"font-weight: bold\">{</span><span style=\"color: #008000; text-decoration-color: #008000\">'resize'</span>: <span style=\"color: #008080; text-decoration-color: #008080; font-weight: bold\">256</span><span style=\"font-weight: bold\">}</span>,\n",
       "                    <span style=\"color: #008000; text-decoration-color: #008000\">'val'</span>: <span style=\"font-weight: bold\">{</span><span style=\"color: #008000; text-decoration-color: #008000\">'resize'</span>: <span style=\"color: #008080; text-decoration-color: #008080; font-weight: bold\">256</span><span style=\"font-weight: bold\">}</span>,\n",
       "                    <span style=\"color: #008000; text-decoration-color: #008000\">'test'</span>: <span style=\"font-weight: bold\">{</span><span style=\"color: #008000; text-decoration-color: #008000\">'resize'</span>: <span style=\"color: #008080; text-decoration-color: #008080; font-weight: bold\">256</span><span style=\"font-weight: bold\">}</span>\n",
       "                <span style=\"font-weight: bold\">}</span>,\n",
       "                <span style=\"color: #008000; text-decoration-color: #008000\">'batch_transform'</span>: <span style=\"font-weight: bold\">{</span>\n",
       "                    <span style=\"color: #008000; text-decoration-color: #008000\">'random_flips'</span>: <span style=\"color: #ff0000; text-decoration-color: #ff0000; font-style: italic\">False</span>,\n",
       "                    <span style=\"color: #008000; text-decoration-color: #008000\">'train'</span>: <span style=\"font-weight: bold\">{</span><span style=\"color: #008000; text-decoration-color: #008000\">'random_resize_crop'</span>: <span style=\"color: #008080; text-decoration-color: #008080; font-weight: bold\">224</span><span style=\"font-weight: bold\">}</span>,\n",
       "                    <span style=\"color: #008000; text-decoration-color: #008000\">'val'</span>: <span style=\"font-weight: bold\">{</span><span style=\"color: #008000; text-decoration-color: #008000\">'center_crop'</span>: <span style=\"color: #008080; text-decoration-color: #008080; font-weight: bold\">224</span><span style=\"font-weight: bold\">}</span>,\n",
       "                    <span style=\"color: #008000; text-decoration-color: #008000\">'test'</span>: <span style=\"font-weight: bold\">{</span><span style=\"color: #008000; text-decoration-color: #008000\">'center_crop'</span>: <span style=\"color: #008080; text-decoration-color: #008080; font-weight: bold\">224</span><span style=\"font-weight: bold\">}</span>\n",
       "                <span style=\"font-weight: bold\">}</span>,\n",
       "                <span style=\"color: #008000; text-decoration-color: #008000\">'normalize'</span>: <span style=\"font-weight: bold\">[[</span><span style=\"color: #008080; text-decoration-color: #008080; font-weight: bold\">0.485</span>, <span style=\"color: #008080; text-decoration-color: #008080; font-weight: bold\">0.456</span>, <span style=\"color: #008080; text-decoration-color: #008080; font-weight: bold\">0.406</span><span style=\"font-weight: bold\">]</span>, <span style=\"font-weight: bold\">[</span><span style=\"color: #008080; text-decoration-color: #008080; font-weight: bold\">0.229</span>, <span style=\"color: #008080; text-decoration-color: #008080; font-weight: bold\">0.224</span>, <span style=\"color: #008080; text-decoration-color: #008080; font-weight: bold\">0.225</span><span style=\"font-weight: bold\">]]</span>\n",
       "            <span style=\"font-weight: bold\">}</span>,\n",
       "            <span style=\"color: #008000; text-decoration-color: #008000\">'remove_transforms'</span>: <span style=\"color: #ff0000; text-decoration-color: #ff0000; font-style: italic\">False</span>,\n",
       "            <span style=\"color: #008000; text-decoration-color: #008000\">'image_reader'</span>: <span style=\"color: #008000; text-decoration-color: #008000\">'default'</span>,\n",
       "            <span style=\"color: #008000; text-decoration-color: #008000\">'datasets'</span>: <span style=\"font-weight: bold\">{</span>\n",
       "                <span style=\"color: #008000; text-decoration-color: #008000\">'herbarium2022'</span>: <span style=\"font-weight: bold\">{</span>\n",
       "                    <span style=\"color: #008000; text-decoration-color: #008000\">'train'</span>: <span style=\"font-weight: bold\">{</span>\n",
       "                        <span style=\"color: #008000; text-decoration-color: #008000\">'_target_'</span>: <span style=\"color: #008000; text-decoration-color: #008000\">'imutils.ml.data.datamodule.Herbarium2022Dataset'</span>,\n",
       "                        <span style=\"color: #008000; text-decoration-color: #008000\">'catalog_dir'</span>: \n",
       "<span style=\"color: #008000; text-decoration-color: #008000\">'/media/data_cifs/projects/prj_fossils/data/raw_data/herbarium-2022-fgvc9_resize'</span>,\n",
       "                        <span style=\"color: #008000; text-decoration-color: #008000\">'subset'</span>: <span style=\"color: #008000; text-decoration-color: #008000\">'train'</span>,\n",
       "                        <span style=\"color: #008000; text-decoration-color: #008000\">'label_col'</span>: <span style=\"color: #008000; text-decoration-color: #008000\">'scientificName'</span>,\n",
       "                        <span style=\"color: #008000; text-decoration-color: #008000\">'train_size'</span>: <span style=\"color: #008080; text-decoration-color: #008080; font-weight: bold\">0.7</span>,\n",
       "                        <span style=\"color: #008000; text-decoration-color: #008000\">'shuffle'</span>: <span style=\"color: #00ff00; text-decoration-color: #00ff00; font-style: italic\">True</span>,\n",
       "                        <span style=\"color: #008000; text-decoration-color: #008000\">'seed'</span>: <span style=\"color: #008080; text-decoration-color: #008080; font-weight: bold\">14</span>\n",
       "                    <span style=\"font-weight: bold\">}</span>,\n",
       "                    <span style=\"color: #008000; text-decoration-color: #008000\">'val'</span>: <span style=\"font-weight: bold\">{</span>\n",
       "                        <span style=\"color: #008000; text-decoration-color: #008000\">'_target_'</span>: <span style=\"color: #008000; text-decoration-color: #008000\">'imutils.ml.data.datamodule.Herbarium2022Dataset'</span>,\n",
       "                        <span style=\"color: #008000; text-decoration-color: #008000\">'catalog_dir'</span>: \n",
       "<span style=\"color: #008000; text-decoration-color: #008000\">'/media/data_cifs/projects/prj_fossils/data/raw_data/herbarium-2022-fgvc9_resize'</span>,\n",
       "                        <span style=\"color: #008000; text-decoration-color: #008000\">'subset'</span>: <span style=\"color: #008000; text-decoration-color: #008000\">'val'</span>,\n",
       "                        <span style=\"color: #008000; text-decoration-color: #008000\">'label_col'</span>: <span style=\"color: #008000; text-decoration-color: #008000\">'scientificName'</span>,\n",
       "                        <span style=\"color: #008000; text-decoration-color: #008000\">'train_size'</span>: <span style=\"color: #008080; text-decoration-color: #008080; font-weight: bold\">0.7</span>,\n",
       "                        <span style=\"color: #008000; text-decoration-color: #008000\">'shuffle'</span>: <span style=\"color: #ff0000; text-decoration-color: #ff0000; font-style: italic\">False</span>,\n",
       "                        <span style=\"color: #008000; text-decoration-color: #008000\">'seed'</span>: <span style=\"color: #008080; text-decoration-color: #008080; font-weight: bold\">14</span>\n",
       "                    <span style=\"font-weight: bold\">}</span>,\n",
       "                    <span style=\"color: #008000; text-decoration-color: #008000\">'test'</span>: <span style=\"font-weight: bold\">{</span>\n",
       "                        <span style=\"color: #008000; text-decoration-color: #008000\">'_target_'</span>: <span style=\"color: #008000; text-decoration-color: #008000\">'imutils.ml.data.datamodule.Herbarium2022Dataset'</span>,\n",
       "                        <span style=\"color: #008000; text-decoration-color: #008000\">'catalog_dir'</span>: \n",
       "<span style=\"color: #008000; text-decoration-color: #008000\">'/media/data_cifs/projects/prj_fossils/data/raw_data/herbarium-2022-fgvc9_resize'</span>,\n",
       "                        <span style=\"color: #008000; text-decoration-color: #008000\">'subset'</span>: <span style=\"color: #008000; text-decoration-color: #008000\">'train'</span>,\n",
       "                        <span style=\"color: #008000; text-decoration-color: #008000\">'label_col'</span>: <span style=\"color: #008000; text-decoration-color: #008000\">'scientificName'</span>,\n",
       "                        <span style=\"color: #008000; text-decoration-color: #008000\">'train_size'</span>: <span style=\"color: #008080; text-decoration-color: #008080; font-weight: bold\">0.7</span>,\n",
       "                        <span style=\"color: #008000; text-decoration-color: #008000\">'shuffle'</span>: <span style=\"color: #00ff00; text-decoration-color: #00ff00; font-style: italic\">True</span>,\n",
       "                        <span style=\"color: #008000; text-decoration-color: #008000\">'seed'</span>: <span style=\"color: #008080; text-decoration-color: #008080; font-weight: bold\">14</span>\n",
       "                    <span style=\"font-weight: bold\">}</span>\n",
       "                <span style=\"font-weight: bold\">}</span>\n",
       "            <span style=\"font-weight: bold\">}</span>\n",
       "        <span style=\"font-weight: bold\">}</span>\n",
       "    <span style=\"font-weight: bold\">}</span>,\n",
       "    <span style=\"color: #008000; text-decoration-color: #008000\">'model_cfg'</span>: <span style=\"font-weight: bold\">{</span>\n",
       "        <span style=\"color: #008000; text-decoration-color: #008000\">'_target_'</span>: <span style=\"color: #008000; text-decoration-color: #008000\">'imutils.ml.models.pl.classifier.LitClassifier'</span>,\n",
       "        <span style=\"color: #008000; text-decoration-color: #008000\">'backbone'</span>: <span style=\"font-weight: bold\">{</span>\n",
       "            <span style=\"color: #008000; text-decoration-color: #008000\">'model_repo'</span>: <span style=\"color: #008000; text-decoration-color: #008000\">'timm'</span>,\n",
       "            <span style=\"color: #008000; text-decoration-color: #008000\">'name'</span>: <span style=\"color: #008000; text-decoration-color: #008000\">'resnext50_32x4d'</span>,\n",
       "            <span style=\"color: #008000; text-decoration-color: #008000\">'pretrained'</span>: <span style=\"color: #ff0000; text-decoration-color: #ff0000; font-style: italic\">False</span>,\n",
       "            <span style=\"color: #008000; text-decoration-color: #008000\">'freeze_backbone'</span>: <span style=\"color: #ff0000; text-decoration-color: #ff0000; font-style: italic\">False</span>\n",
       "        <span style=\"font-weight: bold\">}</span>,\n",
       "        <span style=\"color: #008000; text-decoration-color: #008000\">'head'</span>: <span style=\"font-weight: bold\">{</span>\n",
       "            <span style=\"color: #008000; text-decoration-color: #008000\">'num_classes'</span>: <span style=\"color: #008080; text-decoration-color: #008080; font-weight: bold\">15501</span>,\n",
       "            <span style=\"color: #008000; text-decoration-color: #008000\">'pool_size'</span>: <span style=\"color: #008080; text-decoration-color: #008080; font-weight: bold\">1</span>,\n",
       "            <span style=\"color: #008000; text-decoration-color: #008000\">'pool_type'</span>: <span style=\"color: #008000; text-decoration-color: #008000\">'avg'</span>,\n",
       "            <span style=\"color: #008000; text-decoration-color: #008000\">'head_type'</span>: <span style=\"color: #008000; text-decoration-color: #008000\">'linear'</span>,\n",
       "            <span style=\"color: #008000; text-decoration-color: #008000\">'hidden_size'</span>: <span style=\"color: #008080; text-decoration-color: #008080; font-weight: bold\">512</span>,\n",
       "            <span style=\"color: #008000; text-decoration-color: #008000\">'dropout_p'</span>: <span style=\"color: #008080; text-decoration-color: #008080; font-weight: bold\">0.3</span>\n",
       "        <span style=\"font-weight: bold\">}</span>,\n",
       "        <span style=\"color: #008000; text-decoration-color: #008000\">'name'</span>: <span style=\"color: #008000; text-decoration-color: #008000\">'resnext50_32x4d'</span>,\n",
       "        <span style=\"color: #008000; text-decoration-color: #008000\">'loss'</span>: <span style=\"font-weight: bold\">{</span><span style=\"color: #008000; text-decoration-color: #008000\">'_target_'</span>: <span style=\"color: #008000; text-decoration-color: #008000\">'torch.nn.CrossEntropyLoss'</span><span style=\"font-weight: bold\">}</span>,\n",
       "        <span style=\"color: #008000; text-decoration-color: #008000\">'resolution'</span>: <span style=\"color: #008080; text-decoration-color: #008080; font-weight: bold\">224</span>,\n",
       "        <span style=\"color: #008000; text-decoration-color: #008000\">'num_channels'</span>: <span style=\"color: #008080; text-decoration-color: #008080; font-weight: bold\">3</span>,\n",
       "        <span style=\"color: #008000; text-decoration-color: #008000\">'input_shape'</span>: <span style=\"font-weight: bold\">[</span><span style=\"color: #008080; text-decoration-color: #008080; font-weight: bold\">3</span>, <span style=\"color: #008080; text-decoration-color: #008080; font-weight: bold\">224</span>, <span style=\"color: #008080; text-decoration-color: #008080; font-weight: bold\">224</span><span style=\"font-weight: bold\">]</span>\n",
       "    <span style=\"font-weight: bold\">}</span>,\n",
       "    <span style=\"color: #008000; text-decoration-color: #008000\">'optim'</span>: <span style=\"font-weight: bold\">{</span>\n",
       "        <span style=\"color: #008000; text-decoration-color: #008000\">'optimizer'</span>: <span style=\"font-weight: bold\">{</span>\n",
       "            <span style=\"color: #008000; text-decoration-color: #008000\">'_target_'</span>: <span style=\"color: #008000; text-decoration-color: #008000\">'torch.optim.Adam'</span>,\n",
       "            <span style=\"color: #008000; text-decoration-color: #008000\">'lr'</span>: <span style=\"color: #008080; text-decoration-color: #008080; font-weight: bold\">0.002</span>,\n",
       "            <span style=\"color: #008000; text-decoration-color: #008000\">'betas'</span>: <span style=\"font-weight: bold\">[</span><span style=\"color: #008080; text-decoration-color: #008080; font-weight: bold\">0.9</span>, <span style=\"color: #008080; text-decoration-color: #008080; font-weight: bold\">0.999</span><span style=\"font-weight: bold\">]</span>,\n",
       "            <span style=\"color: #008000; text-decoration-color: #008000\">'eps'</span>: <span style=\"color: #008080; text-decoration-color: #008080; font-weight: bold\">1e-08</span>,\n",
       "            <span style=\"color: #008000; text-decoration-color: #008000\">'weight_decay'</span>: <span style=\"color: #008080; text-decoration-color: #008080; font-weight: bold\">1e-05</span>\n",
       "        <span style=\"font-weight: bold\">}</span>,\n",
       "        <span style=\"color: #008000; text-decoration-color: #008000\">'exclude_bn_bias'</span>: <span style=\"color: #00ff00; text-decoration-color: #00ff00; font-style: italic\">True</span>,\n",
       "        <span style=\"color: #008000; text-decoration-color: #008000\">'use_lr_scheduler'</span>: <span style=\"color: #ff0000; text-decoration-color: #ff0000; font-style: italic\">False</span>,\n",
       "        <span style=\"color: #008000; text-decoration-color: #008000\">'lr_scheduler'</span>: <span style=\"font-weight: bold\">{</span>\n",
       "            <span style=\"color: #008000; text-decoration-color: #008000\">'_target_'</span>: <span style=\"color: #008000; text-decoration-color: #008000\">'torch.optim.lr_scheduler.CosineAnnealingWarmRestarts'</span>,\n",
       "            <span style=\"color: #008000; text-decoration-color: #008000\">'T_0'</span>: <span style=\"color: #008080; text-decoration-color: #008080; font-weight: bold\">10</span>,\n",
       "            <span style=\"color: #008000; text-decoration-color: #008000\">'T_mult'</span>: <span style=\"color: #008080; text-decoration-color: #008080; font-weight: bold\">2</span>,\n",
       "            <span style=\"color: #008000; text-decoration-color: #008000\">'eta_min'</span>: <span style=\"color: #008080; text-decoration-color: #008080; font-weight: bold\">0</span>,\n",
       "            <span style=\"color: #008000; text-decoration-color: #008000\">'last_epoch'</span>: <span style=\"color: #008080; text-decoration-color: #008080; font-weight: bold\">-1</span>\n",
       "        <span style=\"font-weight: bold\">}</span>\n",
       "    <span style=\"font-weight: bold\">}</span>,\n",
       "    <span style=\"color: #008000; text-decoration-color: #008000\">'train'</span>: <span style=\"font-weight: bold\">{</span>\n",
       "        <span style=\"color: #008000; text-decoration-color: #008000\">'deterministic'</span>: <span style=\"color: #ff0000; text-decoration-color: #ff0000; font-style: italic\">False</span>,\n",
       "        <span style=\"color: #008000; text-decoration-color: #008000\">'random_seed'</span>: <span style=\"color: #008080; text-decoration-color: #008080; font-weight: bold\">42</span>,\n",
       "        <span style=\"color: #008000; text-decoration-color: #008000\">'freeze_backbone'</span>: <span style=\"color: #ff0000; text-decoration-color: #ff0000; font-style: italic\">False</span>,\n",
       "        <span style=\"color: #008000; text-decoration-color: #008000\">'freeze_backbone_up_to'</span>: <span style=\"color: #008080; text-decoration-color: #008080; font-weight: bold\">0</span>,\n",
       "        <span style=\"color: #008000; text-decoration-color: #008000\">'pl_trainer'</span>: <span style=\"font-weight: bold\">{</span>\n",
       "            <span style=\"color: #008000; text-decoration-color: #008000\">'_target_'</span>: <span style=\"color: #008000; text-decoration-color: #008000\">'pytorch_lightning.Trainer'</span>,\n",
       "            <span style=\"color: #008000; text-decoration-color: #008000\">'fast_dev_run'</span>: <span style=\"color: #ff0000; text-decoration-color: #ff0000; font-style: italic\">False</span>,\n",
       "            <span style=\"color: #008000; text-decoration-color: #008000\">'accelerator'</span>: <span style=\"color: #008000; text-decoration-color: #008000\">'gpu'</span>,\n",
       "            <span style=\"color: #008000; text-decoration-color: #008000\">'devices'</span>: <span style=\"color: #008080; text-decoration-color: #008080; font-weight: bold\">4</span>,\n",
       "            <span style=\"color: #008000; text-decoration-color: #008000\">'precision'</span>: <span style=\"color: #008080; text-decoration-color: #008080; font-weight: bold\">16</span>,\n",
       "            <span style=\"color: #008000; text-decoration-color: #008000\">'enable_model_summary'</span>: <span style=\"color: #00ff00; text-decoration-color: #00ff00; font-style: italic\">True</span>,\n",
       "            <span style=\"color: #008000; text-decoration-color: #008000\">'log_gpu_memory'</span>: <span style=\"color: #00ff00; text-decoration-color: #00ff00; font-style: italic\">True</span>,\n",
       "            <span style=\"color: #008000; text-decoration-color: #008000\">'accumulate_grad_batches'</span>: <span style=\"color: #008080; text-decoration-color: #008080; font-weight: bold\">2</span>,\n",
       "            <span style=\"color: #008000; text-decoration-color: #008000\">'strategy'</span>: <span style=\"font-weight: bold\">{</span>\n",
       "                <span style=\"color: #008000; text-decoration-color: #008000\">'_target_'</span>: <span style=\"color: #008000; text-decoration-color: #008000\">'pytorch_lightning.plugins.DDPPlugin'</span>,\n",
       "                <span style=\"color: #008000; text-decoration-color: #008000\">'find_unused_parameters'</span>: <span style=\"color: #ff0000; text-decoration-color: #ff0000; font-style: italic\">False</span>\n",
       "            <span style=\"font-weight: bold\">}</span>,\n",
       "            <span style=\"color: #008000; text-decoration-color: #008000\">'max_epochs'</span>: <span style=\"color: #008080; text-decoration-color: #008080; font-weight: bold\">30</span>,\n",
       "            <span style=\"color: #008000; text-decoration-color: #008000\">'profiler'</span>: <span style=\"color: #008000; text-decoration-color: #008000\">'advanced'</span>\n",
       "        <span style=\"font-weight: bold\">}</span>,\n",
       "        <span style=\"color: #008000; text-decoration-color: #008000\">'callbacks'</span>: <span style=\"font-weight: bold\">{</span>\n",
       "            <span style=\"color: #008000; text-decoration-color: #008000\">'kwargs'</span>: <span style=\"font-weight: bold\">{</span><span style=\"color: #008000; text-decoration-color: #008000\">'monitor'</span>: <span style=\"font-weight: bold\">{</span><span style=\"color: #008000; text-decoration-color: #008000\">'metric'</span>: <span style=\"color: #008000; text-decoration-color: #008000\">'val_F1'</span>, <span style=\"color: #008000; text-decoration-color: #008000\">'mode'</span>: <span style=\"color: #008000; text-decoration-color: #008000\">'max'</span><span style=\"font-weight: bold\">}}</span>,\n",
       "            <span style=\"color: #008000; text-decoration-color: #008000\">'lr_monitor'</span>: <span style=\"font-weight: bold\">{</span>\n",
       "                <span style=\"color: #008000; text-decoration-color: #008000\">'_target_'</span>: <span style=\"color: #008000; text-decoration-color: #008000\">'pytorch_lightning.callbacks.LearningRateMonitor'</span>,\n",
       "                <span style=\"color: #008000; text-decoration-color: #008000\">'logging_interval'</span>: <span style=\"color: #008000; text-decoration-color: #008000\">'step'</span>,\n",
       "                <span style=\"color: #008000; text-decoration-color: #008000\">'log_momentum'</span>: <span style=\"color: #ff0000; text-decoration-color: #ff0000; font-style: italic\">False</span>\n",
       "            <span style=\"font-weight: bold\">}</span>,\n",
       "            <span style=\"color: #008000; text-decoration-color: #008000\">'early_stopping'</span>: <span style=\"font-weight: bold\">{</span>\n",
       "                <span style=\"color: #008000; text-decoration-color: #008000\">'_target_'</span>: <span style=\"color: #008000; text-decoration-color: #008000\">'pytorch_lightning.callbacks.early_stopping.EarlyStopping'</span>,\n",
       "                <span style=\"color: #008000; text-decoration-color: #008000\">'monitor'</span>: <span style=\"color: #008000; text-decoration-color: #008000\">'val_F1'</span>,\n",
       "                <span style=\"color: #008000; text-decoration-color: #008000\">'patience'</span>: <span style=\"color: #008080; text-decoration-color: #008080; font-weight: bold\">15</span>,\n",
       "                <span style=\"color: #008000; text-decoration-color: #008000\">'verbose'</span>: <span style=\"color: #00ff00; text-decoration-color: #00ff00; font-style: italic\">True</span>,\n",
       "                <span style=\"color: #008000; text-decoration-color: #008000\">'mode'</span>: <span style=\"color: #008000; text-decoration-color: #008000\">'max'</span>,\n",
       "                <span style=\"color: #008000; text-decoration-color: #008000\">'min_delta'</span>: <span style=\"color: #008080; text-decoration-color: #008080; font-weight: bold\">0.05</span>\n",
       "            <span style=\"font-weight: bold\">}</span>,\n",
       "            <span style=\"color: #008000; text-decoration-color: #008000\">'model_checkpoint'</span>: <span style=\"font-weight: bold\">{</span>\n",
       "                <span style=\"color: #008000; text-decoration-color: #008000\">'_target_'</span>: <span style=\"color: #008000; text-decoration-color: #008000\">'pytorch_lightning.callbacks.ModelCheckpoint'</span>,\n",
       "                <span style=\"color: #008000; text-decoration-color: #008000\">'monitor'</span>: <span style=\"color: #008000; text-decoration-color: #008000\">'val_F1'</span>,\n",
       "                <span style=\"color: #008000; text-decoration-color: #008000\">'save_top_k'</span>: <span style=\"color: #008080; text-decoration-color: #008080; font-weight: bold\">2</span>,\n",
       "                <span style=\"color: #008000; text-decoration-color: #008000\">'save_last'</span>: <span style=\"color: #00ff00; text-decoration-color: #00ff00; font-style: italic\">True</span>,\n",
       "                <span style=\"color: #008000; text-decoration-color: #008000\">'mode'</span>: <span style=\"color: #008000; text-decoration-color: #008000\">'max'</span>,\n",
       "                <span style=\"color: #008000; text-decoration-color: #008000\">'verbose'</span>: <span style=\"color: #00ff00; text-decoration-color: #00ff00; font-style: italic\">True</span>,\n",
       "                <span style=\"color: #008000; text-decoration-color: #008000\">'dirpath'</span>: <span style=\"color: #008000; text-decoration-color: #008000\">'./hydra_experiments/2022-03-24/07-35-17/ckpts'</span>,\n",
       "                <span style=\"color: #008000; text-decoration-color: #008000\">'filename'</span>: <span style=\"color: #008000; text-decoration-color: #008000\">'{epoch:02d}-{val_loss:.3f}-{val_F1:.3f}'</span>,\n",
       "                <span style=\"color: #008000; text-decoration-color: #008000\">'save_weights_only'</span>: <span style=\"color: #00ff00; text-decoration-color: #00ff00; font-style: italic\">True</span>\n",
       "            <span style=\"font-weight: bold\">}</span>,\n",
       "            <span style=\"color: #008000; text-decoration-color: #008000\">'watch_model_with_wandb'</span>: <span style=\"font-weight: bold\">{</span>\n",
       "                <span style=\"color: #008000; text-decoration-color: #008000\">'_target_'</span>: <span style=\"color: #008000; text-decoration-color: #008000\">'imutils.ml.callbacks.wandb_callbacks.WatchModelWithWandb'</span>,\n",
       "                <span style=\"color: #008000; text-decoration-color: #008000\">'log'</span>: <span style=\"color: #008000; text-decoration-color: #008000\">'gradients'</span>,\n",
       "                <span style=\"color: #008000; text-decoration-color: #008000\">'log_freq'</span>: <span style=\"color: #008080; text-decoration-color: #008080; font-weight: bold\">100</span>\n",
       "            <span style=\"font-weight: bold\">}</span>,\n",
       "            <span style=\"color: #008000; text-decoration-color: #008000\">'module_data_monitor'</span>: <span style=\"font-weight: bold\">{</span><span style=\"color: #008000; text-decoration-color: #008000\">'_target_'</span>: <span style=\"color: #008000; text-decoration-color: #008000\">'pl_bolts.callbacks.ModuleDataMonitor'</span><span style=\"font-weight: bold\">}</span>,\n",
       "            <span style=\"color: #008000; text-decoration-color: #008000\">'image_stats_accumulator'</span>: <span style=\"color: #800080; text-decoration-color: #800080; font-style: italic\">None</span>\n",
       "        <span style=\"font-weight: bold\">}</span>\n",
       "    <span style=\"font-weight: bold\">}</span>,\n",
       "    <span style=\"color: #008000; text-decoration-color: #008000\">'logging'</span>: <span style=\"font-weight: bold\">{</span>\n",
       "        <span style=\"color: #008000; text-decoration-color: #008000\">'log_model_summary'</span>: <span style=\"color: #00ff00; text-decoration-color: #00ff00; font-style: italic\">True</span>,\n",
       "        <span style=\"color: #008000; text-decoration-color: #008000\">'n_elements_to_log'</span>: <span style=\"color: #008080; text-decoration-color: #008080; font-weight: bold\">32</span>,\n",
       "        <span style=\"color: #008000; text-decoration-color: #008000\">'normalize_visualization'</span>: <span style=\"color: #00ff00; text-decoration-color: #00ff00; font-style: italic\">True</span>,\n",
       "        <span style=\"color: #008000; text-decoration-color: #008000\">'val_check_interval'</span>: <span style=\"color: #008080; text-decoration-color: #008080; font-weight: bold\">1.0</span>,\n",
       "        <span style=\"color: #008000; text-decoration-color: #008000\">'progress_bar_refresh_rate'</span>: <span style=\"color: #008080; text-decoration-color: #008080; font-weight: bold\">20</span>,\n",
       "        <span style=\"color: #008000; text-decoration-color: #008000\">'wandb'</span>: <span style=\"font-weight: bold\">{</span>\n",
       "            <span style=\"color: #008000; text-decoration-color: #008000\">'project'</span>: <span style=\"color: #008000; text-decoration-color: #008000\">'herbarium2022'</span>,\n",
       "            <span style=\"color: #008000; text-decoration-color: #008000\">'entity'</span>: <span style=\"color: #008000; text-decoration-color: #008000\">'jrose'</span>,\n",
       "            <span style=\"color: #008000; text-decoration-color: #008000\">'name'</span>: <span style=\"color: #008000; text-decoration-color: #008000\">'herbarium2022__resnext50_32x4d'</span>,\n",
       "            <span style=\"color: #008000; text-decoration-color: #008000\">'watch'</span>: <span style=\"font-weight: bold\">{</span><span style=\"color: #008000; text-decoration-color: #008000\">'log'</span>: <span style=\"color: #008000; text-decoration-color: #008000\">'all'</span>, <span style=\"color: #008000; text-decoration-color: #008000\">'log_freq'</span>: <span style=\"color: #008080; text-decoration-color: #008080; font-weight: bold\">10</span><span style=\"font-weight: bold\">}</span>\n",
       "        <span style=\"font-weight: bold\">}</span>\n",
       "    <span style=\"font-weight: bold\">}</span>\n",
       "<span style=\"font-weight: bold\">}</span>\n",
       "</pre>\n"
      ],
      "text/plain": [
       "\u001b[1m{\u001b[0m\n",
       "    \u001b[32m'core'\u001b[0m: \u001b[1m{\u001b[0m\n",
       "        \u001b[32m'name'\u001b[0m: \u001b[32m'herbarium2022__resnext50_32x4d'\u001b[0m,\n",
       "        \u001b[32m'version'\u001b[0m: \u001b[32m'0.0.1'\u001b[0m,\n",
       "        \u001b[32m'tags'\u001b[0m: \u001b[1m[\u001b[0m\u001b[32m'herbarium2022'\u001b[0m, \u001b[32m'kaggle'\u001b[0m\u001b[1m]\u001b[0m\n",
       "    \u001b[1m}\u001b[0m,\n",
       "    \u001b[32m'hp'\u001b[0m: \u001b[1m{\u001b[0m\u001b[32m'preprocess_size'\u001b[0m: \u001b[1;36m256\u001b[0m, \u001b[32m'resolution'\u001b[0m: \u001b[1;36m224\u001b[0m, \u001b[32m'num_channels'\u001b[0m: \u001b[1;36m3\u001b[0m\u001b[1m}\u001b[0m,\n",
       "    \u001b[32m'seed'\u001b[0m: \u001b[1;36m42\u001b[0m,\n",
       "    \u001b[32m'run_output_dir'\u001b[0m: \u001b[32m'./hydra_experiments/2022-03-24/07-35-17'\u001b[0m,\n",
       "    \u001b[32m'checkpoint_dir'\u001b[0m: \u001b[32m'./hydra_experiments/2022-03-24/07-35-17/ckpts'\u001b[0m,\n",
       "    \u001b[32m'data'\u001b[0m: \u001b[1m{\u001b[0m\n",
       "        \u001b[32m'datamodule'\u001b[0m: \u001b[1m{\u001b[0m\n",
       "            \u001b[32m'_target_'\u001b[0m: \u001b[32m'imutils.ml.data.datamodule.Herbarium2022DataModule'\u001b[0m,\n",
       "            \u001b[32m'name'\u001b[0m: \u001b[32m'herbarium2022'\u001b[0m,\n",
       "            \u001b[32m'catalog_dir'\u001b[0m: \u001b[32m'/media/data/jacob/GitHub/image-utils/imutils/big/data'\u001b[0m,\n",
       "            \u001b[32m'label_col'\u001b[0m: \u001b[32m'scientificName'\u001b[0m,\n",
       "            \u001b[32m'train_size'\u001b[0m: \u001b[1;36m0.7\u001b[0m,\n",
       "            \u001b[32m'shuffle'\u001b[0m: \u001b[3;92mTrue\u001b[0m,\n",
       "            \u001b[32m'seed'\u001b[0m: \u001b[1;36m14\u001b[0m,\n",
       "            \u001b[32m'batch_size'\u001b[0m: \u001b[1;36m64\u001b[0m,\n",
       "            \u001b[32m'num_workers'\u001b[0m: \u001b[1;36m4\u001b[0m,\n",
       "            \u001b[32m'pin_memory'\u001b[0m: \u001b[3;92mTrue\u001b[0m,\n",
       "            \u001b[32m'transform_cfg'\u001b[0m: \u001b[1m{\u001b[0m\n",
       "                \u001b[32m'preprocess_size'\u001b[0m: \u001b[1;36m256\u001b[0m,\n",
       "                \u001b[32m'resolution'\u001b[0m: \u001b[1;36m224\u001b[0m,\n",
       "                \u001b[32m'preprocess'\u001b[0m: \u001b[1m{\u001b[0m\n",
       "                    \u001b[32m'train'\u001b[0m: \u001b[1m{\u001b[0m\u001b[32m'resize'\u001b[0m: \u001b[1;36m256\u001b[0m\u001b[1m}\u001b[0m,\n",
       "                    \u001b[32m'val'\u001b[0m: \u001b[1m{\u001b[0m\u001b[32m'resize'\u001b[0m: \u001b[1;36m256\u001b[0m\u001b[1m}\u001b[0m,\n",
       "                    \u001b[32m'test'\u001b[0m: \u001b[1m{\u001b[0m\u001b[32m'resize'\u001b[0m: \u001b[1;36m256\u001b[0m\u001b[1m}\u001b[0m\n",
       "                \u001b[1m}\u001b[0m,\n",
       "                \u001b[32m'batch_transform'\u001b[0m: \u001b[1m{\u001b[0m\n",
       "                    \u001b[32m'random_flips'\u001b[0m: \u001b[3;91mFalse\u001b[0m,\n",
       "                    \u001b[32m'train'\u001b[0m: \u001b[1m{\u001b[0m\u001b[32m'random_resize_crop'\u001b[0m: \u001b[1;36m224\u001b[0m\u001b[1m}\u001b[0m,\n",
       "                    \u001b[32m'val'\u001b[0m: \u001b[1m{\u001b[0m\u001b[32m'center_crop'\u001b[0m: \u001b[1;36m224\u001b[0m\u001b[1m}\u001b[0m,\n",
       "                    \u001b[32m'test'\u001b[0m: \u001b[1m{\u001b[0m\u001b[32m'center_crop'\u001b[0m: \u001b[1;36m224\u001b[0m\u001b[1m}\u001b[0m\n",
       "                \u001b[1m}\u001b[0m,\n",
       "                \u001b[32m'normalize'\u001b[0m: \u001b[1m[\u001b[0m\u001b[1m[\u001b[0m\u001b[1;36m0.485\u001b[0m, \u001b[1;36m0.456\u001b[0m, \u001b[1;36m0.406\u001b[0m\u001b[1m]\u001b[0m, \u001b[1m[\u001b[0m\u001b[1;36m0.229\u001b[0m, \u001b[1;36m0.224\u001b[0m, \u001b[1;36m0.225\u001b[0m\u001b[1m]\u001b[0m\u001b[1m]\u001b[0m\n",
       "            \u001b[1m}\u001b[0m,\n",
       "            \u001b[32m'remove_transforms'\u001b[0m: \u001b[3;91mFalse\u001b[0m,\n",
       "            \u001b[32m'image_reader'\u001b[0m: \u001b[32m'default'\u001b[0m,\n",
       "            \u001b[32m'datasets'\u001b[0m: \u001b[1m{\u001b[0m\n",
       "                \u001b[32m'herbarium2022'\u001b[0m: \u001b[1m{\u001b[0m\n",
       "                    \u001b[32m'train'\u001b[0m: \u001b[1m{\u001b[0m\n",
       "                        \u001b[32m'_target_'\u001b[0m: \u001b[32m'imutils.ml.data.datamodule.Herbarium2022Dataset'\u001b[0m,\n",
       "                        \u001b[32m'catalog_dir'\u001b[0m: \n",
       "\u001b[32m'/media/data_cifs/projects/prj_fossils/data/raw_data/herbarium-2022-fgvc9_resize'\u001b[0m,\n",
       "                        \u001b[32m'subset'\u001b[0m: \u001b[32m'train'\u001b[0m,\n",
       "                        \u001b[32m'label_col'\u001b[0m: \u001b[32m'scientificName'\u001b[0m,\n",
       "                        \u001b[32m'train_size'\u001b[0m: \u001b[1;36m0.7\u001b[0m,\n",
       "                        \u001b[32m'shuffle'\u001b[0m: \u001b[3;92mTrue\u001b[0m,\n",
       "                        \u001b[32m'seed'\u001b[0m: \u001b[1;36m14\u001b[0m\n",
       "                    \u001b[1m}\u001b[0m,\n",
       "                    \u001b[32m'val'\u001b[0m: \u001b[1m{\u001b[0m\n",
       "                        \u001b[32m'_target_'\u001b[0m: \u001b[32m'imutils.ml.data.datamodule.Herbarium2022Dataset'\u001b[0m,\n",
       "                        \u001b[32m'catalog_dir'\u001b[0m: \n",
       "\u001b[32m'/media/data_cifs/projects/prj_fossils/data/raw_data/herbarium-2022-fgvc9_resize'\u001b[0m,\n",
       "                        \u001b[32m'subset'\u001b[0m: \u001b[32m'val'\u001b[0m,\n",
       "                        \u001b[32m'label_col'\u001b[0m: \u001b[32m'scientificName'\u001b[0m,\n",
       "                        \u001b[32m'train_size'\u001b[0m: \u001b[1;36m0.7\u001b[0m,\n",
       "                        \u001b[32m'shuffle'\u001b[0m: \u001b[3;91mFalse\u001b[0m,\n",
       "                        \u001b[32m'seed'\u001b[0m: \u001b[1;36m14\u001b[0m\n",
       "                    \u001b[1m}\u001b[0m,\n",
       "                    \u001b[32m'test'\u001b[0m: \u001b[1m{\u001b[0m\n",
       "                        \u001b[32m'_target_'\u001b[0m: \u001b[32m'imutils.ml.data.datamodule.Herbarium2022Dataset'\u001b[0m,\n",
       "                        \u001b[32m'catalog_dir'\u001b[0m: \n",
       "\u001b[32m'/media/data_cifs/projects/prj_fossils/data/raw_data/herbarium-2022-fgvc9_resize'\u001b[0m,\n",
       "                        \u001b[32m'subset'\u001b[0m: \u001b[32m'train'\u001b[0m,\n",
       "                        \u001b[32m'label_col'\u001b[0m: \u001b[32m'scientificName'\u001b[0m,\n",
       "                        \u001b[32m'train_size'\u001b[0m: \u001b[1;36m0.7\u001b[0m,\n",
       "                        \u001b[32m'shuffle'\u001b[0m: \u001b[3;92mTrue\u001b[0m,\n",
       "                        \u001b[32m'seed'\u001b[0m: \u001b[1;36m14\u001b[0m\n",
       "                    \u001b[1m}\u001b[0m\n",
       "                \u001b[1m}\u001b[0m\n",
       "            \u001b[1m}\u001b[0m\n",
       "        \u001b[1m}\u001b[0m\n",
       "    \u001b[1m}\u001b[0m,\n",
       "    \u001b[32m'model_cfg'\u001b[0m: \u001b[1m{\u001b[0m\n",
       "        \u001b[32m'_target_'\u001b[0m: \u001b[32m'imutils.ml.models.pl.classifier.LitClassifier'\u001b[0m,\n",
       "        \u001b[32m'backbone'\u001b[0m: \u001b[1m{\u001b[0m\n",
       "            \u001b[32m'model_repo'\u001b[0m: \u001b[32m'timm'\u001b[0m,\n",
       "            \u001b[32m'name'\u001b[0m: \u001b[32m'resnext50_32x4d'\u001b[0m,\n",
       "            \u001b[32m'pretrained'\u001b[0m: \u001b[3;91mFalse\u001b[0m,\n",
       "            \u001b[32m'freeze_backbone'\u001b[0m: \u001b[3;91mFalse\u001b[0m\n",
       "        \u001b[1m}\u001b[0m,\n",
       "        \u001b[32m'head'\u001b[0m: \u001b[1m{\u001b[0m\n",
       "            \u001b[32m'num_classes'\u001b[0m: \u001b[1;36m15501\u001b[0m,\n",
       "            \u001b[32m'pool_size'\u001b[0m: \u001b[1;36m1\u001b[0m,\n",
       "            \u001b[32m'pool_type'\u001b[0m: \u001b[32m'avg'\u001b[0m,\n",
       "            \u001b[32m'head_type'\u001b[0m: \u001b[32m'linear'\u001b[0m,\n",
       "            \u001b[32m'hidden_size'\u001b[0m: \u001b[1;36m512\u001b[0m,\n",
       "            \u001b[32m'dropout_p'\u001b[0m: \u001b[1;36m0.3\u001b[0m\n",
       "        \u001b[1m}\u001b[0m,\n",
       "        \u001b[32m'name'\u001b[0m: \u001b[32m'resnext50_32x4d'\u001b[0m,\n",
       "        \u001b[32m'loss'\u001b[0m: \u001b[1m{\u001b[0m\u001b[32m'_target_'\u001b[0m: \u001b[32m'torch.nn.CrossEntropyLoss'\u001b[0m\u001b[1m}\u001b[0m,\n",
       "        \u001b[32m'resolution'\u001b[0m: \u001b[1;36m224\u001b[0m,\n",
       "        \u001b[32m'num_channels'\u001b[0m: \u001b[1;36m3\u001b[0m,\n",
       "        \u001b[32m'input_shape'\u001b[0m: \u001b[1m[\u001b[0m\u001b[1;36m3\u001b[0m, \u001b[1;36m224\u001b[0m, \u001b[1;36m224\u001b[0m\u001b[1m]\u001b[0m\n",
       "    \u001b[1m}\u001b[0m,\n",
       "    \u001b[32m'optim'\u001b[0m: \u001b[1m{\u001b[0m\n",
       "        \u001b[32m'optimizer'\u001b[0m: \u001b[1m{\u001b[0m\n",
       "            \u001b[32m'_target_'\u001b[0m: \u001b[32m'torch.optim.Adam'\u001b[0m,\n",
       "            \u001b[32m'lr'\u001b[0m: \u001b[1;36m0.002\u001b[0m,\n",
       "            \u001b[32m'betas'\u001b[0m: \u001b[1m[\u001b[0m\u001b[1;36m0.9\u001b[0m, \u001b[1;36m0.999\u001b[0m\u001b[1m]\u001b[0m,\n",
       "            \u001b[32m'eps'\u001b[0m: \u001b[1;36m1e-08\u001b[0m,\n",
       "            \u001b[32m'weight_decay'\u001b[0m: \u001b[1;36m1e-05\u001b[0m\n",
       "        \u001b[1m}\u001b[0m,\n",
       "        \u001b[32m'exclude_bn_bias'\u001b[0m: \u001b[3;92mTrue\u001b[0m,\n",
       "        \u001b[32m'use_lr_scheduler'\u001b[0m: \u001b[3;91mFalse\u001b[0m,\n",
       "        \u001b[32m'lr_scheduler'\u001b[0m: \u001b[1m{\u001b[0m\n",
       "            \u001b[32m'_target_'\u001b[0m: \u001b[32m'torch.optim.lr_scheduler.CosineAnnealingWarmRestarts'\u001b[0m,\n",
       "            \u001b[32m'T_0'\u001b[0m: \u001b[1;36m10\u001b[0m,\n",
       "            \u001b[32m'T_mult'\u001b[0m: \u001b[1;36m2\u001b[0m,\n",
       "            \u001b[32m'eta_min'\u001b[0m: \u001b[1;36m0\u001b[0m,\n",
       "            \u001b[32m'last_epoch'\u001b[0m: \u001b[1;36m-1\u001b[0m\n",
       "        \u001b[1m}\u001b[0m\n",
       "    \u001b[1m}\u001b[0m,\n",
       "    \u001b[32m'train'\u001b[0m: \u001b[1m{\u001b[0m\n",
       "        \u001b[32m'deterministic'\u001b[0m: \u001b[3;91mFalse\u001b[0m,\n",
       "        \u001b[32m'random_seed'\u001b[0m: \u001b[1;36m42\u001b[0m,\n",
       "        \u001b[32m'freeze_backbone'\u001b[0m: \u001b[3;91mFalse\u001b[0m,\n",
       "        \u001b[32m'freeze_backbone_up_to'\u001b[0m: \u001b[1;36m0\u001b[0m,\n",
       "        \u001b[32m'pl_trainer'\u001b[0m: \u001b[1m{\u001b[0m\n",
       "            \u001b[32m'_target_'\u001b[0m: \u001b[32m'pytorch_lightning.Trainer'\u001b[0m,\n",
       "            \u001b[32m'fast_dev_run'\u001b[0m: \u001b[3;91mFalse\u001b[0m,\n",
       "            \u001b[32m'accelerator'\u001b[0m: \u001b[32m'gpu'\u001b[0m,\n",
       "            \u001b[32m'devices'\u001b[0m: \u001b[1;36m4\u001b[0m,\n",
       "            \u001b[32m'precision'\u001b[0m: \u001b[1;36m16\u001b[0m,\n",
       "            \u001b[32m'enable_model_summary'\u001b[0m: \u001b[3;92mTrue\u001b[0m,\n",
       "            \u001b[32m'log_gpu_memory'\u001b[0m: \u001b[3;92mTrue\u001b[0m,\n",
       "            \u001b[32m'accumulate_grad_batches'\u001b[0m: \u001b[1;36m2\u001b[0m,\n",
       "            \u001b[32m'strategy'\u001b[0m: \u001b[1m{\u001b[0m\n",
       "                \u001b[32m'_target_'\u001b[0m: \u001b[32m'pytorch_lightning.plugins.DDPPlugin'\u001b[0m,\n",
       "                \u001b[32m'find_unused_parameters'\u001b[0m: \u001b[3;91mFalse\u001b[0m\n",
       "            \u001b[1m}\u001b[0m,\n",
       "            \u001b[32m'max_epochs'\u001b[0m: \u001b[1;36m30\u001b[0m,\n",
       "            \u001b[32m'profiler'\u001b[0m: \u001b[32m'advanced'\u001b[0m\n",
       "        \u001b[1m}\u001b[0m,\n",
       "        \u001b[32m'callbacks'\u001b[0m: \u001b[1m{\u001b[0m\n",
       "            \u001b[32m'kwargs'\u001b[0m: \u001b[1m{\u001b[0m\u001b[32m'monitor'\u001b[0m: \u001b[1m{\u001b[0m\u001b[32m'metric'\u001b[0m: \u001b[32m'val_F1'\u001b[0m, \u001b[32m'mode'\u001b[0m: \u001b[32m'max'\u001b[0m\u001b[1m}\u001b[0m\u001b[1m}\u001b[0m,\n",
       "            \u001b[32m'lr_monitor'\u001b[0m: \u001b[1m{\u001b[0m\n",
       "                \u001b[32m'_target_'\u001b[0m: \u001b[32m'pytorch_lightning.callbacks.LearningRateMonitor'\u001b[0m,\n",
       "                \u001b[32m'logging_interval'\u001b[0m: \u001b[32m'step'\u001b[0m,\n",
       "                \u001b[32m'log_momentum'\u001b[0m: \u001b[3;91mFalse\u001b[0m\n",
       "            \u001b[1m}\u001b[0m,\n",
       "            \u001b[32m'early_stopping'\u001b[0m: \u001b[1m{\u001b[0m\n",
       "                \u001b[32m'_target_'\u001b[0m: \u001b[32m'pytorch_lightning.callbacks.early_stopping.EarlyStopping'\u001b[0m,\n",
       "                \u001b[32m'monitor'\u001b[0m: \u001b[32m'val_F1'\u001b[0m,\n",
       "                \u001b[32m'patience'\u001b[0m: \u001b[1;36m15\u001b[0m,\n",
       "                \u001b[32m'verbose'\u001b[0m: \u001b[3;92mTrue\u001b[0m,\n",
       "                \u001b[32m'mode'\u001b[0m: \u001b[32m'max'\u001b[0m,\n",
       "                \u001b[32m'min_delta'\u001b[0m: \u001b[1;36m0.05\u001b[0m\n",
       "            \u001b[1m}\u001b[0m,\n",
       "            \u001b[32m'model_checkpoint'\u001b[0m: \u001b[1m{\u001b[0m\n",
       "                \u001b[32m'_target_'\u001b[0m: \u001b[32m'pytorch_lightning.callbacks.ModelCheckpoint'\u001b[0m,\n",
       "                \u001b[32m'monitor'\u001b[0m: \u001b[32m'val_F1'\u001b[0m,\n",
       "                \u001b[32m'save_top_k'\u001b[0m: \u001b[1;36m2\u001b[0m,\n",
       "                \u001b[32m'save_last'\u001b[0m: \u001b[3;92mTrue\u001b[0m,\n",
       "                \u001b[32m'mode'\u001b[0m: \u001b[32m'max'\u001b[0m,\n",
       "                \u001b[32m'verbose'\u001b[0m: \u001b[3;92mTrue\u001b[0m,\n",
       "                \u001b[32m'dirpath'\u001b[0m: \u001b[32m'./hydra_experiments/2022-03-24/07-35-17/ckpts'\u001b[0m,\n",
       "                \u001b[32m'filename'\u001b[0m: \u001b[32m'\u001b[0m\u001b[32m{\u001b[0m\u001b[32mepoch:02d\u001b[0m\u001b[32m}\u001b[0m\u001b[32m-\u001b[0m\u001b[32m{\u001b[0m\u001b[32mval_loss:.3f\u001b[0m\u001b[32m}\u001b[0m\u001b[32m-\u001b[0m\u001b[32m{\u001b[0m\u001b[32mval_F1:.3f\u001b[0m\u001b[32m}\u001b[0m\u001b[32m'\u001b[0m,\n",
       "                \u001b[32m'save_weights_only'\u001b[0m: \u001b[3;92mTrue\u001b[0m\n",
       "            \u001b[1m}\u001b[0m,\n",
       "            \u001b[32m'watch_model_with_wandb'\u001b[0m: \u001b[1m{\u001b[0m\n",
       "                \u001b[32m'_target_'\u001b[0m: \u001b[32m'imutils.ml.callbacks.wandb_callbacks.WatchModelWithWandb'\u001b[0m,\n",
       "                \u001b[32m'log'\u001b[0m: \u001b[32m'gradients'\u001b[0m,\n",
       "                \u001b[32m'log_freq'\u001b[0m: \u001b[1;36m100\u001b[0m\n",
       "            \u001b[1m}\u001b[0m,\n",
       "            \u001b[32m'module_data_monitor'\u001b[0m: \u001b[1m{\u001b[0m\u001b[32m'_target_'\u001b[0m: \u001b[32m'pl_bolts.callbacks.ModuleDataMonitor'\u001b[0m\u001b[1m}\u001b[0m,\n",
       "            \u001b[32m'image_stats_accumulator'\u001b[0m: \u001b[3;35mNone\u001b[0m\n",
       "        \u001b[1m}\u001b[0m\n",
       "    \u001b[1m}\u001b[0m,\n",
       "    \u001b[32m'logging'\u001b[0m: \u001b[1m{\u001b[0m\n",
       "        \u001b[32m'log_model_summary'\u001b[0m: \u001b[3;92mTrue\u001b[0m,\n",
       "        \u001b[32m'n_elements_to_log'\u001b[0m: \u001b[1;36m32\u001b[0m,\n",
       "        \u001b[32m'normalize_visualization'\u001b[0m: \u001b[3;92mTrue\u001b[0m,\n",
       "        \u001b[32m'val_check_interval'\u001b[0m: \u001b[1;36m1.0\u001b[0m,\n",
       "        \u001b[32m'progress_bar_refresh_rate'\u001b[0m: \u001b[1;36m20\u001b[0m,\n",
       "        \u001b[32m'wandb'\u001b[0m: \u001b[1m{\u001b[0m\n",
       "            \u001b[32m'project'\u001b[0m: \u001b[32m'herbarium2022'\u001b[0m,\n",
       "            \u001b[32m'entity'\u001b[0m: \u001b[32m'jrose'\u001b[0m,\n",
       "            \u001b[32m'name'\u001b[0m: \u001b[32m'herbarium2022__resnext50_32x4d'\u001b[0m,\n",
       "            \u001b[32m'watch'\u001b[0m: \u001b[1m{\u001b[0m\u001b[32m'log'\u001b[0m: \u001b[32m'all'\u001b[0m, \u001b[32m'log_freq'\u001b[0m: \u001b[1;36m10\u001b[0m\u001b[1m}\u001b[0m\n",
       "        \u001b[1m}\u001b[0m\n",
       "    \u001b[1m}\u001b[0m\n",
       "\u001b[1m}\u001b[0m\n"
      ]
     },
     "metadata": {},
     "output_type": "display_data"
    }
   ],
   "source": [
    "pp(OmegaConf.to_container(model.cfg, resolve=True))"
   ]
  },
  {
   "cell_type": "code",
   "execution_count": 13,
   "id": "3e6c7e2f-0a97-41de-8dca-3d985be37449",
   "metadata": {},
   "outputs": [],
   "source": [
    "# dir()"
   ]
  },
  {
   "cell_type": "code",
   "execution_count": null,
   "id": "03a99efa-6fcd-4366-9053-79ee8f3eb026",
   "metadata": {},
   "outputs": [
    {
     "name": "stderr",
     "output_type": "stream",
     "text": [
      "initializing distributed: GLOBAL_RANK: 0, MEMBER: 1/1\n",
      "----------------------------------------------------------------------------------------------------\n",
      "distributed_backend=nccl\n",
      "All distributed processes registered. Starting with 1 processes\n",
      "----------------------------------------------------------------------------------------------------\n",
      "\n",
      "/media/data/conda/jrose3/envs/imutils/lib/python3.8/site-packages/pytorch_lightning/core/datamodule.py:469: LightningDeprecationWarning: DataModule.setup has already been called, so it will not be called again. In v1.6 this behavior will change to always call DataModule.setup.\n",
      "  rank_zero_deprecation(\n",
      "LOCAL_RANK: 0 - CUDA_VISIBLE_DEVICES: [6]\n",
      "ERROR:wandb.jupyter:Failed to detect the name of this notebook, you can set it manually with the WANDB_NOTEBOOK_NAME environment variable to enable code saving.\n",
      "\u001b[34m\u001b[1mwandb\u001b[0m: Currently logged in as: \u001b[33mjrose\u001b[0m (use `wandb login --relogin` to force relogin)\n",
      "\u001b[34m\u001b[1mwandb\u001b[0m: wandb version 0.12.11 is available!  To upgrade, please run:\n",
      "\u001b[34m\u001b[1mwandb\u001b[0m:  $ pip install wandb --upgrade\n"
     ]
    },
    {
     "data": {
      "text/html": [
       "\n",
       "                    Syncing run <strong><a href=\"https://wandb.ai/jrose/herbarium2022/runs/3fgzx61o\" target=\"_blank\">herbarium2022__resnext50_32x4d</a></strong> to <a href=\"https://wandb.ai/jrose/herbarium2022\" target=\"_blank\">Weights & Biases</a> (<a href=\"https://docs.wandb.com/integrations/jupyter.html\" target=\"_blank\">docs</a>).<br/>\n",
       "\n",
       "                "
      ],
      "text/plain": [
       "<IPython.core.display.HTML object>"
      ]
     },
     "metadata": {},
     "output_type": "display_data"
    },
    {
     "data": {
      "application/vnd.jupyter.widget-view+json": {
       "model_id": "3ac2cc3f7e4e467bb06512d34675cb93",
       "version_major": 2,
       "version_minor": 0
      },
      "text/plain": [
       "Output()"
      ]
     },
     "metadata": {},
     "output_type": "display_data"
    },
    {
     "data": {
      "text/html": [
       "<pre style=\"white-space:pre;overflow-x:auto;line-height:normal;font-family:Menlo,'DejaVu Sans Mono',consolas,'Courier New',monospace\">/media/data/conda/jrose3/envs/imutils/lib/python3.8/site-packages/pytorch_lightning/utilities\n",
       "/data.py:56: UserWarning: Trying to infer the `batch_size` from an ambiguous collection. The \n",
       "batch size we found is 256. To avoid any miscalculations, use `self.log(..., \n",
       "batch_size=batch_size)`.\n",
       "  warning_cache.warn(\n",
       "</pre>\n"
      ],
      "text/plain": [
       "/media/data/conda/jrose3/envs/imutils/lib/python3.8/site-packages/pytorch_lightning/utilities\n",
       "/data.py:56: UserWarning: Trying to infer the `batch_size` from an ambiguous collection. The \n",
       "batch size we found is 256. To avoid any miscalculations, use `self.log(..., \n",
       "batch_size=batch_size)`.\n",
       "  warning_cache.warn(\n"
      ]
     },
     "metadata": {},
     "output_type": "display_data"
    },
    {
     "data": {
      "text/html": [
       "<pre style=\"white-space:pre;overflow-x:auto;line-height:normal;font-family:Menlo,'DejaVu Sans Mono',consolas,'Courier New',monospace\">/media/data/conda/jrose3/envs/imutils/lib/python3.8/site-packages/pytorch_lightning/utilities\n",
       "/data.py:56: UserWarning: Trying to infer the `batch_size` from an ambiguous collection. The \n",
       "batch size we found is 28. To avoid any miscalculations, use `self.log(..., \n",
       "batch_size=batch_size)`.\n",
       "  warning_cache.warn(\n",
       "</pre>\n"
      ],
      "text/plain": [
       "/media/data/conda/jrose3/envs/imutils/lib/python3.8/site-packages/pytorch_lightning/utilities\n",
       "/data.py:56: UserWarning: Trying to infer the `batch_size` from an ambiguous collection. The \n",
       "batch size we found is 28. To avoid any miscalculations, use `self.log(..., \n",
       "batch_size=batch_size)`.\n",
       "  warning_cache.warn(\n"
      ]
     },
     "metadata": {},
     "output_type": "display_data"
    },
    {
     "data": {
      "text/html": [
       "<pre style=\"white-space:pre;overflow-x:auto;line-height:normal;font-family:Menlo,'DejaVu Sans Mono',consolas,'Courier New',monospace\">--------------------------------------------------------------------------------\n",
       "</pre>\n"
      ],
      "text/plain": [
       "--------------------------------------------------------------------------------\n"
      ]
     },
     "metadata": {},
     "output_type": "display_data"
    },
    {
     "data": {
      "text/html": [
       "<pre style=\"white-space:pre;overflow-x:auto;line-height:normal;font-family:Menlo,'DejaVu Sans Mono',consolas,'Courier New',monospace\">DATALOADER:0 VALIDATE RESULTS\n",
       "</pre>\n"
      ],
      "text/plain": [
       "DATALOADER:0 VALIDATE RESULTS\n"
      ]
     },
     "metadata": {},
     "output_type": "display_data"
    }
   ],
   "source": [
    "results = {}\n",
    "\n",
    "results['val'] = trainer.validate(model, datamodule=datamodule)\n",
    "\n",
    "pp(results['val'])"
   ]
  },
  {
   "cell_type": "code",
   "execution_count": 8,
   "id": "5223495c-07f1-42df-bb02-b988bd7e5b0a",
   "metadata": {},
   "outputs": [
    {
     "data": {
      "text/plain": [
       "['CHECKPOINT_HYPER_PARAMS_KEY',\n",
       " 'CHECKPOINT_HYPER_PARAMS_NAME',\n",
       " 'CHECKPOINT_HYPER_PARAMS_TYPE',\n",
       " 'T_destination',\n",
       " '_DeviceDtypeModuleMixin__update_properties',\n",
       " '_LightningModule__auto_choose_log_on_epoch',\n",
       " '_LightningModule__auto_choose_log_on_step',\n",
       " '_LightningModule__check_allowed',\n",
       " '_LightningModule__check_not_nested',\n",
       " '_LightningModule__to_tensor',\n",
       " '__annotations__',\n",
       " '__call__',\n",
       " '__class__',\n",
       " '__delattr__',\n",
       " '__dict__',\n",
       " '__dir__',\n",
       " '__doc__',\n",
       " '__eq__',\n",
       " '__format__',\n",
       " '__ge__',\n",
       " '__getattr__',\n",
       " '__getattribute__',\n",
       " '__getstate__',\n",
       " '__gt__',\n",
       " '__hash__',\n",
       " '__init__',\n",
       " '__init_subclass__',\n",
       " '__jit_unused_properties__',\n",
       " '__le__',\n",
       " '__lt__',\n",
       " '__module__',\n",
       " '__ne__',\n",
       " '__new__',\n",
       " '__reduce__',\n",
       " '__reduce_ex__',\n",
       " '__repr__',\n",
       " '__setattr__',\n",
       " '__setstate__',\n",
       " '__sizeof__',\n",
       " '__str__',\n",
       " '__subclasshook__',\n",
       " '__weakref__',\n",
       " '_apply',\n",
       " '_apply_batch_transfer_handler',\n",
       " '_auto_collect_arguments',\n",
       " '_automatic_optimization',\n",
       " '_backward_hooks',\n",
       " '_buffers',\n",
       " '_call_impl',\n",
       " '_current_dataloader_idx',\n",
       " '_current_fx_name',\n",
       " '_device',\n",
       " '_device_type',\n",
       " '_distrib_type',\n",
       " '_dtype',\n",
       " '_example_input_array',\n",
       " '_forward_hooks',\n",
       " '_forward_pre_hooks',\n",
       " '_get_backward_hooks',\n",
       " '_get_name',\n",
       " '_hparams',\n",
       " '_hparams_initial',\n",
       " '_hparams_name',\n",
       " '_is_full_backward_hook',\n",
       " '_load_from_state_dict',\n",
       " '_load_model_state',\n",
       " '_load_state_dict_pre_hooks',\n",
       " '_loaded_optimizer_states_dict',\n",
       " '_log_hyperparams',\n",
       " '_maybe_warn_non_full_backward_hook',\n",
       " '_metric_attributes',\n",
       " '_modules',\n",
       " '_named_members',\n",
       " '_non_persistent_buffers_set',\n",
       " '_param_requires_grad_state',\n",
       " '_parameters',\n",
       " '_prevent_trainer_and_dataloaders_deepcopy',\n",
       " '_register_load_state_dict_pre_hook',\n",
       " '_register_sharded_tensor_state_dict_hooks_if_available',\n",
       " '_register_state_dict_hook',\n",
       " '_replicate_for_data_parallel',\n",
       " '_save_to_state_dict',\n",
       " '_set_hparams',\n",
       " '_should_prevent_trainer_and_dataloaders_deepcopy',\n",
       " '_slow_forward',\n",
       " '_state_dict_hooks',\n",
       " '_to_hparams_dict',\n",
       " '_truncated_bptt_steps',\n",
       " '_verify_is_manual_optimization',\n",
       " '_version',\n",
       " 'add_module',\n",
       " 'add_to_queue',\n",
       " 'all_gather',\n",
       " 'allow_zero_length_dataloader_with_multiple_devices',\n",
       " 'apply',\n",
       " 'automatic_optimization',\n",
       " 'backward',\n",
       " 'bfloat16',\n",
       " 'buffers',\n",
       " 'cfg',\n",
       " 'children',\n",
       " 'clip_gradients',\n",
       " 'configure_callbacks',\n",
       " 'configure_gradient_clipping',\n",
       " 'configure_optimizers',\n",
       " 'configure_sharded_model',\n",
       " 'cpu',\n",
       " 'cuda',\n",
       " 'current_epoch',\n",
       " 'device',\n",
       " 'double',\n",
       " 'dtype',\n",
       " 'dump_patches',\n",
       " 'eval',\n",
       " 'example_input_array',\n",
       " 'exclude_from_wt_decay',\n",
       " 'extra_repr',\n",
       " 'float',\n",
       " 'forward',\n",
       " 'freeze',\n",
       " 'freeze_up_to',\n",
       " 'get_from_queue',\n",
       " 'get_progress_bar_dict',\n",
       " 'global_rank',\n",
       " 'global_step',\n",
       " 'half',\n",
       " 'hparams',\n",
       " 'hparams_initial',\n",
       " 'load_from_checkpoint',\n",
       " 'load_state_dict',\n",
       " 'loaded_optimizer_states_dict',\n",
       " 'local_rank',\n",
       " 'log',\n",
       " 'log_dict',\n",
       " 'log_grad_norm',\n",
       " 'logger',\n",
       " 'loss',\n",
       " 'lr_schedulers',\n",
       " 'manual_backward',\n",
       " 'model_cfg',\n",
       " 'model_size',\n",
       " 'modules',\n",
       " 'name',\n",
       " 'named_buffers',\n",
       " 'named_children',\n",
       " 'named_modules',\n",
       " 'named_parameters',\n",
       " 'net',\n",
       " 'num_classes',\n",
       " 'on_after_backward',\n",
       " 'on_after_batch_transfer',\n",
       " 'on_before_backward',\n",
       " 'on_before_batch_transfer',\n",
       " 'on_before_optimizer_step',\n",
       " 'on_before_zero_grad',\n",
       " 'on_epoch_end',\n",
       " 'on_epoch_start',\n",
       " 'on_fit_end',\n",
       " 'on_fit_start',\n",
       " 'on_gpu',\n",
       " 'on_hpc_load',\n",
       " 'on_hpc_save',\n",
       " 'on_load_checkpoint',\n",
       " 'on_post_move_to_device',\n",
       " 'on_predict_batch_end',\n",
       " 'on_predict_batch_start',\n",
       " 'on_predict_dataloader',\n",
       " 'on_predict_end',\n",
       " 'on_predict_epoch_end',\n",
       " 'on_predict_epoch_start',\n",
       " 'on_predict_model_eval',\n",
       " 'on_predict_start',\n",
       " 'on_pretrain_routine_end',\n",
       " 'on_pretrain_routine_start',\n",
       " 'on_save_checkpoint',\n",
       " 'on_test_batch_end',\n",
       " 'on_test_batch_start',\n",
       " 'on_test_dataloader',\n",
       " 'on_test_end',\n",
       " 'on_test_epoch_end',\n",
       " 'on_test_epoch_start',\n",
       " 'on_test_model_eval',\n",
       " 'on_test_model_train',\n",
       " 'on_test_start',\n",
       " 'on_train_batch_end',\n",
       " 'on_train_batch_start',\n",
       " 'on_train_dataloader',\n",
       " 'on_train_end',\n",
       " 'on_train_epoch_end',\n",
       " 'on_train_epoch_start',\n",
       " 'on_train_start',\n",
       " 'on_val_dataloader',\n",
       " 'on_validation_batch_end',\n",
       " 'on_validation_batch_start',\n",
       " 'on_validation_end',\n",
       " 'on_validation_epoch_end',\n",
       " 'on_validation_epoch_start',\n",
       " 'on_validation_model_eval',\n",
       " 'on_validation_model_train',\n",
       " 'on_validation_start',\n",
       " 'optimizer_step',\n",
       " 'optimizer_zero_grad',\n",
       " 'optimizers',\n",
       " 'parameters',\n",
       " 'precision',\n",
       " 'predict_dataloader',\n",
       " 'predict_step',\n",
       " 'prepare_data',\n",
       " 'prepare_data_per_node',\n",
       " 'print',\n",
       " 'register_backward_hook',\n",
       " 'register_buffer',\n",
       " 'register_forward_hook',\n",
       " 'register_forward_pre_hook',\n",
       " 'register_full_backward_hook',\n",
       " 'register_parameter',\n",
       " 'render_image_predictions',\n",
       " 'requires_grad_',\n",
       " 'save_hyperparameters',\n",
       " 'setup',\n",
       " 'setup_loss',\n",
       " 'setup_metrics',\n",
       " 'share_memory',\n",
       " 'state_dict',\n",
       " 'step',\n",
       " 'summarize',\n",
       " 'summarize_model',\n",
       " 'tbptt_split_batch',\n",
       " 'teardown',\n",
       " 'test_dataloader',\n",
       " 'test_epoch_end',\n",
       " 'test_metric',\n",
       " 'test_step',\n",
       " 'test_step_end',\n",
       " 'to',\n",
       " 'to_onnx',\n",
       " 'to_torchscript',\n",
       " 'toggle_optimizer',\n",
       " 'train',\n",
       " 'train_dataloader',\n",
       " 'train_metric',\n",
       " 'trainer',\n",
       " 'training',\n",
       " 'training_epoch_end',\n",
       " 'training_step',\n",
       " 'training_step_end',\n",
       " 'transfer_batch_to_device',\n",
       " 'truncated_bptt_steps',\n",
       " 'type',\n",
       " 'unfreeze',\n",
       " 'untoggle_optimizer',\n",
       " 'use_amp',\n",
       " 'val_dataloader',\n",
       " 'val_metric',\n",
       " 'validation_epoch_end',\n",
       " 'validation_step',\n",
       " 'validation_step_end',\n",
       " 'xpu',\n",
       " 'zero_grad']"
      ]
     },
     "execution_count": 8,
     "metadata": {},
     "output_type": "execute_result"
    }
   ],
   "source": [
    "dir(model)"
   ]
  },
  {
   "cell_type": "code",
   "execution_count": 6,
   "id": "870b3215-cccd-4c38-93c2-f9cc6a60d106",
   "metadata": {},
   "outputs": [
    {
     "name": "stdout",
     "output_type": "stream",
     "text": [
      "name 'HydraConfig' is not defined\n",
      "self.transform_cfg:\n"
     ]
    },
    {
     "data": {
      "text/html": [
       "<pre style=\"white-space:pre;overflow-x:auto;line-height:normal;font-family:Menlo,'DejaVu Sans Mono',consolas,'Courier New',monospace\"><span style=\"font-weight: bold\">{</span><span style=\"color: #008000; text-decoration-color: #008000\">'preprocess'</span>: <span style=\"font-weight: bold\">{</span><span style=\"color: #008000; text-decoration-color: #008000\">'train'</span>: <span style=\"font-weight: bold\">{</span><span style=\"color: #008000; text-decoration-color: #008000\">'resize'</span>: <span style=\"color: #008080; text-decoration-color: #008080; font-weight: bold\">256</span><span style=\"font-weight: bold\">}</span>, <span style=\"color: #008000; text-decoration-color: #008000\">'val'</span>: <span style=\"font-weight: bold\">{</span><span style=\"color: #008000; text-decoration-color: #008000\">'resize'</span>: <span style=\"color: #008080; text-decoration-color: #008080; font-weight: bold\">256</span><span style=\"font-weight: bold\">}</span>, <span style=\"color: #008000; text-decoration-color: #008000\">'test'</span>: <span style=\"font-weight: bold\">{</span><span style=\"color: #008000; text-decoration-color: #008000\">'resize'</span>: <span style=\"color: #008080; text-decoration-color: #008080; font-weight: bold\">256</span><span style=\"font-weight: bold\">}}</span>, \n",
       "<span style=\"color: #008000; text-decoration-color: #008000\">'batch_transform'</span>: <span style=\"font-weight: bold\">{</span><span style=\"color: #008000; text-decoration-color: #008000\">'train'</span>: <span style=\"font-weight: bold\">{</span><span style=\"color: #008000; text-decoration-color: #008000\">'random_resize_crop'</span>: <span style=\"color: #008080; text-decoration-color: #008080; font-weight: bold\">224</span><span style=\"font-weight: bold\">}</span>, <span style=\"color: #008000; text-decoration-color: #008000\">'val'</span>: <span style=\"font-weight: bold\">{</span><span style=\"color: #008000; text-decoration-color: #008000\">'center_crop'</span>: <span style=\"color: #008080; text-decoration-color: #008080; font-weight: bold\">224</span><span style=\"font-weight: bold\">}</span>, \n",
       "<span style=\"color: #008000; text-decoration-color: #008000\">'test'</span>: <span style=\"font-weight: bold\">{</span><span style=\"color: #008000; text-decoration-color: #008000\">'center_crop'</span>: <span style=\"color: #008080; text-decoration-color: #008080; font-weight: bold\">224</span><span style=\"font-weight: bold\">}</span>, <span style=\"color: #008000; text-decoration-color: #008000\">'random_flips'</span>: <span style=\"color: #ff0000; text-decoration-color: #ff0000; font-style: italic\">False</span><span style=\"font-weight: bold\">}</span>, <span style=\"color: #008000; text-decoration-color: #008000\">'normalize'</span>: <span style=\"font-weight: bold\">[[</span><span style=\"color: #008080; text-decoration-color: #008080; font-weight: bold\">0.485</span>, <span style=\"color: #008080; text-decoration-color: #008080; font-weight: bold\">0.456</span>, <span style=\"color: #008080; text-decoration-color: #008080; font-weight: bold\">0.406</span><span style=\"font-weight: bold\">]</span>, \n",
       "<span style=\"font-weight: bold\">[</span><span style=\"color: #008080; text-decoration-color: #008080; font-weight: bold\">0.229</span>, <span style=\"color: #008080; text-decoration-color: #008080; font-weight: bold\">0.224</span>, <span style=\"color: #008080; text-decoration-color: #008080; font-weight: bold\">0.225</span><span style=\"font-weight: bold\">]]</span>, <span style=\"color: #008000; text-decoration-color: #008000\">'preprocess_size'</span>: <span style=\"color: #008080; text-decoration-color: #008080; font-weight: bold\">256</span>, <span style=\"color: #008000; text-decoration-color: #008000\">'resolution'</span>: <span style=\"color: #008080; text-decoration-color: #008080; font-weight: bold\">224</span><span style=\"font-weight: bold\">}</span>\n",
       "</pre>\n"
      ],
      "text/plain": [
       "\u001b[1m{\u001b[0m\u001b[32m'preprocess'\u001b[0m: \u001b[1m{\u001b[0m\u001b[32m'train'\u001b[0m: \u001b[1m{\u001b[0m\u001b[32m'resize'\u001b[0m: \u001b[1;36m256\u001b[0m\u001b[1m}\u001b[0m, \u001b[32m'val'\u001b[0m: \u001b[1m{\u001b[0m\u001b[32m'resize'\u001b[0m: \u001b[1;36m256\u001b[0m\u001b[1m}\u001b[0m, \u001b[32m'test'\u001b[0m: \u001b[1m{\u001b[0m\u001b[32m'resize'\u001b[0m: \u001b[1;36m256\u001b[0m\u001b[1m}\u001b[0m\u001b[1m}\u001b[0m, \n",
       "\u001b[32m'batch_transform'\u001b[0m: \u001b[1m{\u001b[0m\u001b[32m'train'\u001b[0m: \u001b[1m{\u001b[0m\u001b[32m'random_resize_crop'\u001b[0m: \u001b[1;36m224\u001b[0m\u001b[1m}\u001b[0m, \u001b[32m'val'\u001b[0m: \u001b[1m{\u001b[0m\u001b[32m'center_crop'\u001b[0m: \u001b[1;36m224\u001b[0m\u001b[1m}\u001b[0m, \n",
       "\u001b[32m'test'\u001b[0m: \u001b[1m{\u001b[0m\u001b[32m'center_crop'\u001b[0m: \u001b[1;36m224\u001b[0m\u001b[1m}\u001b[0m, \u001b[32m'random_flips'\u001b[0m: \u001b[3;91mFalse\u001b[0m\u001b[1m}\u001b[0m, \u001b[32m'normalize'\u001b[0m: \u001b[1m[\u001b[0m\u001b[1m[\u001b[0m\u001b[1;36m0.485\u001b[0m, \u001b[1;36m0.456\u001b[0m, \u001b[1;36m0.406\u001b[0m\u001b[1m]\u001b[0m, \n",
       "\u001b[1m[\u001b[0m\u001b[1;36m0.229\u001b[0m, \u001b[1;36m0.224\u001b[0m, \u001b[1;36m0.225\u001b[0m\u001b[1m]\u001b[0m\u001b[1m]\u001b[0m, \u001b[32m'preprocess_size'\u001b[0m: \u001b[1;36m256\u001b[0m, \u001b[32m'resolution'\u001b[0m: \u001b[1;36m224\u001b[0m\u001b[1m}\u001b[0m\n"
      ]
     },
     "metadata": {},
     "output_type": "display_data"
    },
    {
     "name": "stdout",
     "output_type": "stream",
     "text": [
      "self.normalize: [[0.485, 0.456, 0.406], [0.229, 0.224, 0.225]]\n",
      "self.normalize: [[0.485, 0.456, 0.406], [0.229, 0.224, 0.225]]\n",
      "self.normalize: [[0.485, 0.456, 0.406], [0.229, 0.224, 0.225]]\n"
     ]
    },
    {
     "name": "stderr",
     "output_type": "stream",
     "text": [
      "ic| subset: 'train'\n",
      "    num_samples: 587840\n",
      "    num_batches: 4593\n",
      "    self.num_classes: 15501\n",
      "    self.batch_size: 128\n",
      "ic| subset: 'val'\n",
      "    num_samples: 251932\n",
      "    num_batches: 1969\n",
      "    self.num_classes: 15501\n",
      "    self.batch_size: 128\n",
      "ic| subset: 'test'\n",
      "    num_samples: 210407\n",
      "    num_batches: 1644\n",
      "    self.num_classes: 15501\n",
      "    self.batch_size: 128\n"
     ]
    }
   ],
   "source": [
    "trainer.fit(model=model, datamodule=datamodule)"
   ]
  },
  {
   "cell_type": "code",
   "execution_count": 17,
   "id": "c661bce5-94e0-4be9-9bbc-779d6a12cd63",
   "metadata": {},
   "outputs": [
    {
     "name": "stdout",
     "output_type": "stream",
     "text": [
      "Initializing weights of the model head.\n",
      "input_size: (1, 3, 224, 224)\n",
      "_target_: imutils.ml.models.pl.classifier.LitClassifier\n",
      "backbone:\n",
      "  freeze_backbone: false\n",
      "  model_repo: timm\n",
      "  name: resnext50_32x4d\n",
      "  pretrained: true\n",
      "head:\n",
      "  dropout_p: 0.3\n",
      "  head_type: linear\n",
      "  hidden_size: 512\n",
      "  num_classes: 15501\n",
      "  pool_size: 1\n",
      "  pool_type: avg\n",
      "input_shape:\n",
      "- 3\n",
      "- 224\n",
      "- 224\n",
      "loss:\n",
      "  _target_: torch.nn.CrossEntropyLoss\n",
      "name: resnext50_32x4d\n",
      "num_channels: 3\n",
      "resolution: 224\n",
      "\n"
     ]
    },
    {
     "data": {
      "text/plain": [
       "omegaconf.listconfig.ListConfig"
      ]
     },
     "execution_count": 17,
     "metadata": {},
     "output_type": "execute_result"
    },
    {
     "data": {
      "text/plain": [
       "int"
      ]
     },
     "execution_count": 17,
     "metadata": {},
     "output_type": "execute_result"
    }
   ],
   "source": [
    "from imutils.ml.utils.model_utils import log_model_summary\n",
    "\n",
    "model = imutils.ml.models.pl.classifier.LitClassifier(cfg=cfg, #model_cfg=cfg.model_cfg,\n",
    "                                              loss=cfg.model_cfg.loss)\n",
    "\n",
    "print(OmegaConf.to_yaml(cfg.model_cfg, resolve=True, sort_keys=True))\n",
    "\n",
    "# print(OmegaConf.to_yaml(cfg, resolve=True, sort_keys=True))\n",
    "# print(OmegaConf.to_yaml(cfg, resolve=True, sort_keys=True))\n",
    "# print(cfg['data']['datamodule']['transform_cfg'])\n",
    "\n",
    "type(cfg.model_cfg.input_shape)\n",
    "type(OmegaConf.to_container(cfg.model_cfg.input_shape, resolve=True)[0])"
   ]
  },
  {
   "cell_type": "code",
   "execution_count": null,
   "id": "bf354c3a-d436-4661-a2a0-80a5d9f02071",
   "metadata": {},
   "outputs": [],
   "source": [
    "# Instantiate model\n",
    "# hydra.utils.log.info(f\"Instantiating <{cfg.model_cfg._target_}>\")\n",
    "# model: pl.LightningModule = hydra.utils.instantiate(model_cfg=cfg, _recursive_=False)\n",
    "\n",
    "\n",
    "from imutils.ml.utils.model_utils import log_model_summary\n",
    "\n",
    "model = imutils.ml.models.pl.classifier.LitClassifier(cfg=cfg, #model_cfg=cfg.model_cfg,\n",
    "                                              loss=cfg.model_cfg.loss)\n",
    "\n",
    "print(OmegaConf.to_yaml(cfg.model_cfg, resolve=True, sort_keys=True))\n",
    "\n",
    "# input_size = (1, 3,224,224)\n",
    "# summary = log_model_summary(model=model,\n",
    "#                             input_size=input_size,\n",
    "#                             full_summary=True,\n",
    "#                             working_dir=\".\",\n",
    "#                             model_name=cfg.model_cfg.backbone.name,\n",
    "#                             verbose=1)\n",
    "\n",
    "from imutils.ml.utils.experiment_utils import configure_callbacks, configure_loggers, configure_trainer\n",
    "\n",
    "# Instantiate the callbacks\n",
    "callbacks: List[pl.Callback] = configure_callbacks(cfg=cfg.train) #OmegaConf.to_container(cfg.train, resolve=True))\n",
    "\n",
    "model.freeze_up_to(layer=-1,\n",
    "                  submodule=\"backbone\")\n",
    "\n",
    "# ([(n, p.requires_grad_(False)) for n, p in model.net.backbone.named_parameters()])\n",
    "pp([(n, p.requires_grad) for n, p in model.net.backbone.named_parameters()])"
   ]
  },
  {
   "cell_type": "code",
   "execution_count": 11,
   "id": "e4d31c71-e1c9-4b14-a36e-ca3e077d2a0b",
   "metadata": {},
   "outputs": [],
   "source": [
    "# datamodule.test_dataset.df\n",
    "# datamodule.train_dataset.df\n",
    "import numpy as np\n",
    "import torch\n",
    "\n",
    "# ckpt_path = \"/media/data/jacob/GitHub/image-utils/imutils/ml/hydra_experiments/2022-03-24/07-35-17/hydra_experiments/2022-03-24/07-35-17/ckpts/epoch=07-val_loss=3.338-val_F1=0.313.ckpt\"\n",
    "\n",
    "ckpt_path = \"/media/data/jacob/GitHub/image-utils/imutils/ml/hydra_experiments/2022-03-24/07-35-17/hydra_experiments/2022-03-24/07-35-17/ckpts/epoch=10-val_loss=2.834-val_F1=0.384.ckpt\"\n",
    "\n",
    "# ckpt = torch.load(ckpt_path)\n",
    "# print(ckpt.keys())\n",
    "\n",
    "model = model.load_from_checkpoint(ckpt_path);\n",
    "model.eval();\n",
    "model.freeze();\n",
    "# model.to(\"cpu\")\n",
    "\n",
    "# test_loader = datamodule.test_dataloader()\n",
    "# batch = next(iter(test_loader))\n",
    "\n",
    "# batch[1]#.cpu()"
   ]
  },
  {
   "cell_type": "code",
   "execution_count": 13,
   "id": "0e4b61cc-e35f-457f-9cdb-12e543d3ca69",
   "metadata": {},
   "outputs": [],
   "source": [
    "# batch[:2] = (b.cuda() for b in batch[:2])\n",
    "# [b.cuda() for b in batch[:2]]\n",
    "\n",
    "# batch[0] = batch[0].cuda()\n",
    "# batch[1] = batch[1].cuda()\n",
    "# x, y, metadata = batch\n",
    "# x = x.to('cuda')\n",
    "# y_logits = model(x)\n",
    "# y_logits_top5 = torch.topk(torch.Tensor(y_logits.cpu()), k=5, dim=1)\n",
    "# topk = 5\n",
    "# y_logits_top5_idx = y_logits_top5.indices.numpy()\n",
    "# labels_k = le.decode_topk(y_logits_top5_idx)\n",
    "# datamodule.train_dataset.label_encoder.classes_\n",
    "# y_pred = torch.zeros_like(y_logits_top5.indices)\n",
    "# topk_labels = np.empty((128,5), dtype=\"O\")\n",
    "# for k in range(5):\n",
    "#     labels_k = datamodule.train_dataset.label_encoder.inverse_transform(y_logits_top5.indices[:,k])\n",
    "#     topk_labels[:,k] = labels_k"
   ]
  },
  {
   "cell_type": "markdown",
   "id": "8a3499dc-43e2-4ec9-9982-e99b31c5047f",
   "metadata": {},
   "source": [
    "#### Dev topk predictions"
   ]
  },
  {
   "cell_type": "code",
   "execution_count": 31,
   "id": "d7aed655-28d1-4093-84e8-26c62d12cc16",
   "metadata": {},
   "outputs": [],
   "source": [
    "# import numpy as np\n",
    "# topk_labels = [] #np.empty((128,5), dtype=\"string\")\n",
    "\n",
    "# topk = 5\n",
    "# y_logits_top5_idx = y_logits_top5.indices.numpy()\n",
    "\n",
    "# y = y_logits_top5_idx#.shape[1]\n",
    "\n",
    "# if isinstance(y, np.ndarray):\n",
    "#     if y.ndim == 2:\n",
    "#         topk = y.shape[1]\n",
    "#     else:\n",
    "#         topk = 1\n",
    "# if isinstance(y, list):\n",
    "#     if isinstance(y[0], np.ndarray):\n",
    "#         topk = y[0].shape[0]\n",
    "#     elif isinstance(y[0], list):\n",
    "#         topk = len(y[0])\n",
    "\n",
    "# for k in range(topk):\n",
    "#     # labels_k = datamodule.train_dataset.label_encoder.inverse_transform(y_logits_top5.indices[:,k])\n",
    "#     labels_k = le.decode(y[:,k])\n",
    "#     topk_labels.append(labels_k)"
   ]
  },
  {
   "cell_type": "code",
   "execution_count": 23,
   "id": "dd34c777-af7f-49a0-92ea-991f60c46dfc",
   "metadata": {},
   "outputs": [],
   "source": [
    "# topk_labels = np.vstack(topk_labels).T\n",
    "# topk_labels.shape\n",
    "\n",
    "# topk_labels[:2,:]\n",
    "# true_labels = le.decode(y.numpy())\n",
    "# topk_labels[0]\n",
    "\n",
    "# from sklearn import preprocessing\n",
    "# encoder = preprocessing.LabelEncoder()\n",
    "# encoder.fit([0,4,-2,6])\n",
    "# encoder.classes_\n",
    "\n",
    "# class_list = getattr(encoder, \"classes_\", [])\n",
    "# class2idx = {label: idx for idx, label in enumerate(class_list)}\n",
    "# print(class2idx)"
   ]
  },
  {
   "cell_type": "code",
   "execution_count": 19,
   "id": "29695f9f-88e1-4c85-b5e2-3931d26ef226",
   "metadata": {},
   "outputs": [],
   "source": [
    "from imutils.ml.utils.label_utils import LabelEncoder\n",
    "\n",
    "le = LabelEncoder.from_sklearn(datamodule.train_dataset.label_encoder)\n",
    "le"
   ]
  },
  {
   "cell_type": "code",
   "execution_count": null,
   "id": "265b939d-a3b5-4044-85e4-cc3cae0c39b3",
   "metadata": {},
   "outputs": [],
   "source": []
  },
  {
   "cell_type": "code",
   "execution_count": null,
   "id": "72f1a494-f105-4c7b-9503-00078c32ed3a",
   "metadata": {},
   "outputs": [],
   "source": [
    "from typing import *\n",
    "from imutils.ml.utils.model_utils import log_model_summary\n",
    "\n",
    "log_model_summary(model, input_size=(2,3,224,224))\n",
    "\n",
    "ckpt['epoch']\n",
    "ckpt['global_step']\n",
    "ckpt['pytorch-lightning_version']\n",
    "ckpt['hparams_name']\n",
    "ckpt['hyper_parameters']"
   ]
  },
  {
   "cell_type": "code",
   "execution_count": 50,
   "id": "b09c5e62-3ef3-4126-b793-78bd0b15fa20",
   "metadata": {},
   "outputs": [],
   "source": [
    "\n",
    "datamodule.test_dataset.y_col\n",
    "getattr(datamodule.test_dataset.df, \"y\", -1)\n",
    "# df = datamodule.train_dataset.df\n",
    "df = pd.concat([datamodule.train_dataset.df,\n",
    "                datamodule.val_dataset.df])\n",
    "class_counts = df.value_counts(\"y\")\n",
    "class_counts = class_counts.reset_index(drop=False).rename(columns={0:\"counts\"})\n",
    "num_classes = class_counts.shape[0]\n",
    "above_25 = class_counts[class_counts.counts>=25]\n",
    "above_10 = class_counts[class_counts.counts>=10]\n",
    "above_5 = class_counts[class_counts.counts>=5]\n",
    "\n",
    "below_5 = class_counts[class_counts.counts<5]\n",
    "below_10 = class_counts[class_counts.counts<10]\n",
    "below_25 = class_counts[class_counts.counts<25]\n",
    "\n",
    "print(\"Min: \", min(class_counts.counts),\"Max:\", max(class_counts.counts))\n",
    "pp(f\"above_25: {above_25.shape[0]}, {above_25.shape[0] / num_classes:.4%}\")\n",
    "pp(f\"above_10: {above_10.shape[0]}, {above_10.shape[0] / num_classes:.4%}\")\n",
    "pp(f\"above_5: {above_5.shape[0]}, {above_5.shape[0] / num_classes:.4%}\")\n",
    "\n",
    "# pp(above_10.shape[0], above_10.shape[0] / num_classes)\n",
    "# pp(above_5.shape[0], above_5.shape[0] / num_classes)\n",
    "\n",
    "pp(f\"below_5: {below_5.shape[0]}, {below_5.shape[0] / num_classes:.4%}\")\n",
    "pp(f\"below_10: {below_10.shape[0]}, {below_10.shape[0] / num_classes:.4%}\")\n",
    "pp(f\"below_25: {below_25.shape[0]}, {below_25.shape[0] / num_classes:.4%}\")\n",
    "# pp(below_10.shape[0], below_10.shape[0] / num_classes)\n",
    "# pp(below_25.shape[0], below_25.shape[0] / num_classes)"
   ]
  },
  {
   "cell_type": "code",
   "execution_count": 57,
   "id": "c6d4383a-815f-4879-88c1-57b8758d4e34",
   "metadata": {},
   "outputs": [
    {
     "data": {
      "text/html": [
       "<pre style=\"white-space:pre;overflow-x:auto;line-height:normal;font-family:Menlo,'DejaVu Sans Mono',consolas,'Courier New',monospace\">Excluding <span style=\"color: #008080; text-decoration-color: #008080; font-weight: bold\">4471</span>\n",
       "</pre>\n"
      ],
      "text/plain": [
       "Excluding \u001b[1;36m4471\u001b[0m\n"
      ]
     },
     "metadata": {},
     "output_type": "display_data"
    },
    {
     "data": {
      "text/html": [
       "<pre style=\"white-space:pre;overflow-x:auto;line-height:normal;font-family:Menlo,'DejaVu Sans Mono',consolas,'Courier New',monospace\">Input num_rows: <span style=\"color: #008080; text-decoration-color: #008080; font-weight: bold\">839772</span>\n",
       "</pre>\n"
      ],
      "text/plain": [
       "Input num_rows: \u001b[1;36m839772\u001b[0m\n"
      ]
     },
     "metadata": {},
     "output_type": "display_data"
    },
    {
     "data": {
      "text/html": [
       "<pre style=\"white-space:pre;overflow-x:auto;line-height:normal;font-family:Menlo,'DejaVu Sans Mono',consolas,'Courier New',monospace\">Filtered num_rows: <span style=\"color: #008080; text-decoration-color: #008080; font-weight: bold\">837841</span>, <span style=\"color: #008080; text-decoration-color: #008080; font-weight: bold\">99.770</span>%\n",
       "</pre>\n"
      ],
      "text/plain": [
       "Filtered num_rows: \u001b[1;36m837841\u001b[0m, \u001b[1;36m99.770\u001b[0m%\n"
      ]
     },
     "metadata": {},
     "output_type": "display_data"
    },
    {
     "data": {
      "text/html": [
       "<div>\n",
       "<style scoped>\n",
       "    .dataframe tbody tr th:only-of-type {\n",
       "        vertical-align: middle;\n",
       "    }\n",
       "\n",
       "    .dataframe tbody tr th {\n",
       "        vertical-align: top;\n",
       "    }\n",
       "\n",
       "    .dataframe thead th {\n",
       "        text-align: right;\n",
       "    }\n",
       "</style>\n",
       "<table border=\"1\" class=\"dataframe\">\n",
       "  <thead>\n",
       "    <tr style=\"text-align: right;\">\n",
       "      <th></th>\n",
       "      <th>index</th>\n",
       "      <th>Species</th>\n",
       "      <th>path</th>\n",
       "      <th>y</th>\n",
       "      <th>category_id</th>\n",
       "      <th>genus_id</th>\n",
       "      <th>institution_id</th>\n",
       "      <th>image_id</th>\n",
       "      <th>file_name</th>\n",
       "      <th>license</th>\n",
       "      <th>scientificName</th>\n",
       "      <th>family</th>\n",
       "      <th>genus</th>\n",
       "      <th>species</th>\n",
       "      <th>authors</th>\n",
       "      <th>collectionCode</th>\n",
       "    </tr>\n",
       "  </thead>\n",
       "  <tbody>\n",
       "    <tr>\n",
       "      <th>0</th>\n",
       "      <td>800061</td>\n",
       "      <td>Trifolium fucatum</td>\n",
       "      <td>/media/data_cifs/projects/prj_fossils/data/raw...</td>\n",
       "      <td>14752</td>\n",
       "      <td>14756</td>\n",
       "      <td>2443</td>\n",
       "      <td>36</td>\n",
       "      <td>14756__047</td>\n",
       "      <td>147/56/14756__047.jpg</td>\n",
       "      <td>0</td>\n",
       "      <td>Trifolium fucatum Lindl.</td>\n",
       "      <td>Fabaceae</td>\n",
       "      <td>Trifolium</td>\n",
       "      <td>fucatum</td>\n",
       "      <td>Lindl.</td>\n",
       "      <td>NY</td>\n",
       "    </tr>\n",
       "    <tr>\n",
       "      <th>1</th>\n",
       "      <td>294940</td>\n",
       "      <td>Eragrostis urbaniana</td>\n",
       "      <td>/media/data_cifs/projects/prj_fossils/data/raw...</td>\n",
       "      <td>5484</td>\n",
       "      <td>5486</td>\n",
       "      <td>895</td>\n",
       "      <td>36</td>\n",
       "      <td>05486__011</td>\n",
       "      <td>054/86/05486__011.jpg</td>\n",
       "      <td>0</td>\n",
       "      <td>Eragrostis urbaniana Hitchc.</td>\n",
       "      <td>Poaceae</td>\n",
       "      <td>Eragrostis</td>\n",
       "      <td>urbaniana</td>\n",
       "      <td>Hitchc.</td>\n",
       "      <td>NY</td>\n",
       "    </tr>\n",
       "    <tr>\n",
       "      <th>2</th>\n",
       "      <td>546499</td>\n",
       "      <td>Osmorhiza purpurea</td>\n",
       "      <td>/media/data_cifs/projects/prj_fossils/data/raw...</td>\n",
       "      <td>10087</td>\n",
       "      <td>10091</td>\n",
       "      <td>1726</td>\n",
       "      <td>24</td>\n",
       "      <td>10091__046</td>\n",
       "      <td>100/91/10091__046.jpg</td>\n",
       "      <td>0</td>\n",
       "      <td>Osmorhiza purpurea (J.M.Coult. &amp; Rose) Suksd.</td>\n",
       "      <td>Apiaceae</td>\n",
       "      <td>Osmorhiza</td>\n",
       "      <td>purpurea</td>\n",
       "      <td>(J.M.Coult. &amp; Rose) Suksd.</td>\n",
       "      <td>ID</td>\n",
       "    </tr>\n",
       "    <tr>\n",
       "      <th>3</th>\n",
       "      <td>162934</td>\n",
       "      <td>Castilleja minor</td>\n",
       "      <td>/media/data_cifs/projects/prj_fossils/data/raw...</td>\n",
       "      <td>3088</td>\n",
       "      <td>3090</td>\n",
       "      <td>446</td>\n",
       "      <td>25</td>\n",
       "      <td>03090__061</td>\n",
       "      <td>030/90/03090__061.jpg</td>\n",
       "      <td>0</td>\n",
       "      <td>Castilleja minor (A.Gray) A.Gray</td>\n",
       "      <td>Orobanchaceae</td>\n",
       "      <td>Castilleja</td>\n",
       "      <td>minor</td>\n",
       "      <td>(A.Gray) A.Gray</td>\n",
       "      <td>IDS</td>\n",
       "    </tr>\n",
       "    <tr>\n",
       "      <th>4</th>\n",
       "      <td>206860</td>\n",
       "      <td>Corchorus hirsutus</td>\n",
       "      <td>/media/data_cifs/projects/prj_fossils/data/raw...</td>\n",
       "      <td>3894</td>\n",
       "      <td>3896</td>\n",
       "      <td>624</td>\n",
       "      <td>36</td>\n",
       "      <td>03896__020</td>\n",
       "      <td>038/96/03896__020.jpg</td>\n",
       "      <td>0</td>\n",
       "      <td>Corchorus hirsutus L.</td>\n",
       "      <td>Malvaceae</td>\n",
       "      <td>Corchorus</td>\n",
       "      <td>hirsutus</td>\n",
       "      <td>L.</td>\n",
       "      <td>NY</td>\n",
       "    </tr>\n",
       "    <tr>\n",
       "      <th>...</th>\n",
       "      <td>...</td>\n",
       "      <td>...</td>\n",
       "      <td>...</td>\n",
       "      <td>...</td>\n",
       "      <td>...</td>\n",
       "      <td>...</td>\n",
       "      <td>...</td>\n",
       "      <td>...</td>\n",
       "      <td>...</td>\n",
       "      <td>...</td>\n",
       "      <td>...</td>\n",
       "      <td>...</td>\n",
       "      <td>...</td>\n",
       "      <td>...</td>\n",
       "      <td>...</td>\n",
       "      <td>...</td>\n",
       "    </tr>\n",
       "    <tr>\n",
       "      <th>251927</th>\n",
       "      <td>667196</td>\n",
       "      <td>Quercus sinuata</td>\n",
       "      <td>/media/data_cifs/projects/prj_fossils/data/raw...</td>\n",
       "      <td>12301</td>\n",
       "      <td>12305</td>\n",
       "      <td>2023</td>\n",
       "      <td>13</td>\n",
       "      <td>12305__098</td>\n",
       "      <td>123/05/12305__098.jpg</td>\n",
       "      <td>0</td>\n",
       "      <td>Quercus sinuata Walter</td>\n",
       "      <td>Fagaceae</td>\n",
       "      <td>Quercus</td>\n",
       "      <td>sinuata</td>\n",
       "      <td>Walter</td>\n",
       "      <td>COLO</td>\n",
       "    </tr>\n",
       "    <tr>\n",
       "      <th>251928</th>\n",
       "      <td>735162</td>\n",
       "      <td>Sideroxylon lanuginosum</td>\n",
       "      <td>/media/data_cifs/projects/prj_fossils/data/raw...</td>\n",
       "      <td>13559</td>\n",
       "      <td>13563</td>\n",
       "      <td>2212</td>\n",
       "      <td>52</td>\n",
       "      <td>13563__050</td>\n",
       "      <td>135/63/13563__050.jpg</td>\n",
       "      <td>0</td>\n",
       "      <td>Sideroxylon lanuginosum Michx.</td>\n",
       "      <td>Sapotaceae</td>\n",
       "      <td>Sideroxylon</td>\n",
       "      <td>lanuginosum</td>\n",
       "      <td>Michx.</td>\n",
       "      <td>US</td>\n",
       "    </tr>\n",
       "    <tr>\n",
       "      <th>251929</th>\n",
       "      <td>127497</td>\n",
       "      <td>Campanula scabrella</td>\n",
       "      <td>/media/data_cifs/projects/prj_fossils/data/raw...</td>\n",
       "      <td>2464</td>\n",
       "      <td>2465</td>\n",
       "      <td>401</td>\n",
       "      <td>52</td>\n",
       "      <td>02465__029</td>\n",
       "      <td>024/65/02465__029.jpg</td>\n",
       "      <td>0</td>\n",
       "      <td>Campanula scabrella Engelm.</td>\n",
       "      <td>Campanulaceae</td>\n",
       "      <td>Campanula</td>\n",
       "      <td>scabrella</td>\n",
       "      <td>Engelm.</td>\n",
       "      <td>US</td>\n",
       "    </tr>\n",
       "    <tr>\n",
       "      <th>251930</th>\n",
       "      <td>359284</td>\n",
       "      <td>Gentiana clausa</td>\n",
       "      <td>/media/data_cifs/projects/prj_fossils/data/raw...</td>\n",
       "      <td>6666</td>\n",
       "      <td>6668</td>\n",
       "      <td>1021</td>\n",
       "      <td>21</td>\n",
       "      <td>06668__011</td>\n",
       "      <td>066/68/06668__011.jpg</td>\n",
       "      <td>0</td>\n",
       "      <td>Gentiana clausa Raf.</td>\n",
       "      <td>Gentianaceae</td>\n",
       "      <td>Gentiana</td>\n",
       "      <td>clausa</td>\n",
       "      <td>Raf.</td>\n",
       "      <td>GH</td>\n",
       "    </tr>\n",
       "    <tr>\n",
       "      <th>251931</th>\n",
       "      <td>744762</td>\n",
       "      <td>Solanum quitoense</td>\n",
       "      <td>/media/data_cifs/projects/prj_fossils/data/raw...</td>\n",
       "      <td>13739</td>\n",
       "      <td>13743</td>\n",
       "      <td>2234</td>\n",
       "      <td>38</td>\n",
       "      <td>13743__049</td>\n",
       "      <td>137/43/13743__049.jpg</td>\n",
       "      <td>0</td>\n",
       "      <td>Solanum quitoense Lam.</td>\n",
       "      <td>Solanaceae</td>\n",
       "      <td>Solanum</td>\n",
       "      <td>quitoense</td>\n",
       "      <td>Lam.</td>\n",
       "      <td>P</td>\n",
       "    </tr>\n",
       "  </tbody>\n",
       "</table>\n",
       "<p>837841 rows × 16 columns</p>\n",
       "</div>"
      ],
      "text/plain": [
       "         index                  Species  \\\n",
       "0       800061        Trifolium fucatum   \n",
       "1       294940     Eragrostis urbaniana   \n",
       "2       546499       Osmorhiza purpurea   \n",
       "3       162934         Castilleja minor   \n",
       "4       206860       Corchorus hirsutus   \n",
       "...        ...                      ...   \n",
       "251927  667196          Quercus sinuata   \n",
       "251928  735162  Sideroxylon lanuginosum   \n",
       "251929  127497      Campanula scabrella   \n",
       "251930  359284          Gentiana clausa   \n",
       "251931  744762        Solanum quitoense   \n",
       "\n",
       "                                                     path      y category_id  \\\n",
       "0       /media/data_cifs/projects/prj_fossils/data/raw...  14752       14756   \n",
       "1       /media/data_cifs/projects/prj_fossils/data/raw...   5484        5486   \n",
       "2       /media/data_cifs/projects/prj_fossils/data/raw...  10087       10091   \n",
       "3       /media/data_cifs/projects/prj_fossils/data/raw...   3088        3090   \n",
       "4       /media/data_cifs/projects/prj_fossils/data/raw...   3894        3896   \n",
       "...                                                   ...    ...         ...   \n",
       "251927  /media/data_cifs/projects/prj_fossils/data/raw...  12301       12305   \n",
       "251928  /media/data_cifs/projects/prj_fossils/data/raw...  13559       13563   \n",
       "251929  /media/data_cifs/projects/prj_fossils/data/raw...   2464        2465   \n",
       "251930  /media/data_cifs/projects/prj_fossils/data/raw...   6666        6668   \n",
       "251931  /media/data_cifs/projects/prj_fossils/data/raw...  13739       13743   \n",
       "\n",
       "       genus_id institution_id    image_id              file_name license  \\\n",
       "0          2443             36  14756__047  147/56/14756__047.jpg       0   \n",
       "1           895             36  05486__011  054/86/05486__011.jpg       0   \n",
       "2          1726             24  10091__046  100/91/10091__046.jpg       0   \n",
       "3           446             25  03090__061  030/90/03090__061.jpg       0   \n",
       "4           624             36  03896__020  038/96/03896__020.jpg       0   \n",
       "...         ...            ...         ...                    ...     ...   \n",
       "251927     2023             13  12305__098  123/05/12305__098.jpg       0   \n",
       "251928     2212             52  13563__050  135/63/13563__050.jpg       0   \n",
       "251929      401             52  02465__029  024/65/02465__029.jpg       0   \n",
       "251930     1021             21  06668__011  066/68/06668__011.jpg       0   \n",
       "251931     2234             38  13743__049  137/43/13743__049.jpg       0   \n",
       "\n",
       "                                       scientificName         family  \\\n",
       "0                            Trifolium fucatum Lindl.       Fabaceae   \n",
       "1                        Eragrostis urbaniana Hitchc.        Poaceae   \n",
       "2       Osmorhiza purpurea (J.M.Coult. & Rose) Suksd.       Apiaceae   \n",
       "3                    Castilleja minor (A.Gray) A.Gray  Orobanchaceae   \n",
       "4                               Corchorus hirsutus L.      Malvaceae   \n",
       "...                                               ...            ...   \n",
       "251927                         Quercus sinuata Walter       Fagaceae   \n",
       "251928                 Sideroxylon lanuginosum Michx.     Sapotaceae   \n",
       "251929                    Campanula scabrella Engelm.  Campanulaceae   \n",
       "251930                           Gentiana clausa Raf.   Gentianaceae   \n",
       "251931                         Solanum quitoense Lam.     Solanaceae   \n",
       "\n",
       "              genus      species                     authors collectionCode  \n",
       "0         Trifolium      fucatum                      Lindl.             NY  \n",
       "1        Eragrostis    urbaniana                     Hitchc.             NY  \n",
       "2         Osmorhiza     purpurea  (J.M.Coult. & Rose) Suksd.             ID  \n",
       "3        Castilleja        minor             (A.Gray) A.Gray            IDS  \n",
       "4         Corchorus     hirsutus                          L.             NY  \n",
       "...             ...          ...                         ...            ...  \n",
       "251927      Quercus      sinuata                      Walter           COLO  \n",
       "251928  Sideroxylon  lanuginosum                      Michx.             US  \n",
       "251929    Campanula    scabrella                     Engelm.             US  \n",
       "251930     Gentiana       clausa                        Raf.             GH  \n",
       "251931      Solanum    quitoense                        Lam.              P  \n",
       "\n",
       "[837841 rows x 16 columns]"
      ]
     },
     "execution_count": 57,
     "metadata": {},
     "output_type": "execute_result"
    }
   ],
   "source": [
    "def filter_catalog(catalog: pd.DataFrame,\n",
    "                   column: str,\n",
    "                   include=None,\n",
    "                   exclude=None) -> pd.DataFrame:\n",
    "    num_rows = catalog.shape[0]\n",
    "    if isinstance(include, Sequence):\n",
    "        pp(f\"Including {len(include)}\")\n",
    "        catalog = catalog[catalog[column].apply(lambda x: x in include)]\n",
    "    if isinstance(exclude, Sequence):\n",
    "        pp(f\"Excluding {len(exclude)}\")\n",
    "        \n",
    "        catalog = catalog[catalog[column].apply(lambda x: x not in exclude)]\n",
    "\n",
    "    pp(f\"Input num_rows: {num_rows}\")\n",
    "    pp(f\"Filtered num_rows: {catalog.shape[0]}, {catalog.shape[0]/num_rows:.3%}\")\n",
    "        \n",
    "    return catalog\n",
    "\n",
    "df = pd.concat([datamodule.train_dataset.df,\n",
    "                datamodule.val_dataset.df])\n",
    "                # datamodule.test_dataset.df])\n",
    "class_counts = df.value_counts(\"y\")\n",
    "class_counts = class_counts.reset_index(drop=False).rename(columns={0:\"counts\"})\n",
    "num_classes = class_counts.shape[0]\n",
    "# above_20 = class_counts[class_counts.counts>=20].counts\n",
    "# above_20 = above_20.values.tolist()\n",
    "above_20 = None\n",
    "below_20 = class_counts[class_counts.counts<40].counts\n",
    "below_20 = below_20.values.tolist()\n",
    "above_20_catalog = filter_catalog(catalog=df,\n",
    "                                  column=\"y\",\n",
    "                                  include=above_20,\n",
    "                                  exclude=below_20)\n",
    "above_20_catalog"
   ]
  },
  {
   "cell_type": "code",
   "execution_count": 29,
   "id": "c10df005-39fe-4928-8b22-fc397e91c93f",
   "metadata": {},
   "outputs": [],
   "source": [
    "class_counts.describe()\n",
    "\n",
    "# above_20 = class_counts[class_counts.counts>=20].counts\n",
    "# above_20 = above_20.values.tolist()\n",
    "# above_20 = None\n",
    "below_20 = class_counts[class_counts.counts<40] # .counts\n",
    "\n",
    "below_20.describe()\n",
    "\n",
    "datamodule.val_dataset.df.value_counts(\"y\")\n",
    "\n",
    "dir(datamodule.train_dataset.df.groupby(\"y\"))"
   ]
  },
  {
   "cell_type": "code",
   "execution_count": 27,
   "id": "ac9273dc-c1b3-4bbf-8b7f-25765fee82e8",
   "metadata": {},
   "outputs": [
    {
     "data": {
      "image/png": "[encoded data removed]",
      "text/plain": [
       "<PIL.Image.Image image mode=RGB size=224x224 at 0x7F1F64F91AC0>"
      ]
     },
     "execution_count": 27,
     "metadata": {},
     "output_type": "execute_result"
    }
   ],
   "source": [
    "\n",
    "T.ToPILImage()(datamodule.train_dataset[1][0])"
   ]
  },
  {
   "cell_type": "code",
   "execution_count": 9,
   "id": "db3fafe1-5865-459f-a4d8-d4c6b7ba3313",
   "metadata": {},
   "outputs": [],
   "source": [
    "# from icecream import ic\n",
    "\n",
    "# ic(9, 4)\n",
    "\n",
    "# 16081624 / 587840\n",
    "\n",
    "# 16081624 / 24\n",
    "\n",
    "# 18454*24/3/60\n",
    "\n",
    "# pp([(n, p.requires_grad) for n, p in model.net.head.named_parameters()])\n",
    "\n",
    "# model.net.head.state_dict().keys()\n",
    "\n",
    "# model.net[\"backbone\"].state_dict().keys()\n",
    "\n",
    "# import pytorch_lightning as pl\n",
    "\n",
    "# pl.__version__\n",
    "\n",
    "# 4593*8*2*64*2\n",
    "\n",
    "# 2264842//128\n",
    "\n",
    "# 9048210 / 32\n",
    "\n",
    "# 13122*48\n",
    "\n",
    "# datamodule.setup(\"fit\")"
   ]
  },
  {
   "cell_type": "markdown",
   "id": "ad9f863a-76cb-4ede-a0e6-eee4d6fdefc2",
   "metadata": {},
   "source": [
    "\n",
    "\n",
    "train --> (num_samples: 587,840), (num_batches: 9,185)\n",
    "train --> (num_samples: 587,840), (num_batches: 9,185)\n",
    "val --> (num_samples: 251,932), (num_batches: 3,937)\n",
    "val --> (num_samples: 251,932), (num_batches: 3,937)\n",
    "LOCAL_RANK: 0 - CUDA_VISIBLE_DEVICES: [0,1,2,3,4,5,6,7]\n",
    "LOCAL_RANK: 1 - CUDA_VISIBLE_DEVICES: [0,1,2,3,4,5,6,7]\n"
   ]
  },
  {
   "cell_type": "code",
   "execution_count": 19,
   "id": "3a8b7296-03cf-49ff-bf03-1134113ce324",
   "metadata": {},
   "outputs": [],
   "source": [
    "# val_loader = datamodule.val_dataloader()\n",
    "\n",
    "# batch = next(iter(val_loader))\n",
    "\n",
    "# len(batch)\n",
    "\n",
    "# import torch\n",
    "# from torch import nn\n",
    "# # Single-label categorical\n",
    "# x = torch.randn(10, 5)\n",
    "# y = torch.randint(5, (10,))\n",
    "# loss = nn.CrossEntropyLoss()(x, y)\n",
    "\n",
    "\n",
    "# print(x.shape, y.shape, loss.shape)\n",
    "# print(x.dtype, y.dtype, loss.dtype)\n",
    "\n",
    "# # model\n",
    "\n",
    "# num_samples = len(datamodule.train_dataset)\n",
    "# num_batches = len(datamodule.train_dataloader())\n",
    "\n",
    "# ic(num_samples, num_batches, num_samples/ num_batches)\n",
    "\n",
    "# import numpy as np\n",
    "\n",
    "# print(f\"{2264842/2:,}\")\n",
    "\n",
    "# print(f\"{2264842/3:,}\")\n",
    "\n",
    "# ic(num_samples * np.arange(5))"
   ]
  },
  {
   "cell_type": "code",
   "execution_count": 37,
   "id": "4419da5a-418d-4257-9018-de51458a73a7",
   "metadata": {},
   "outputs": [],
   "source": [
    "x, y = batch[:2]\n",
    "print(x.shape, y.shape)\n",
    "print(x.dtype, y.dtype)\n",
    "# model\n",
    "\n",
    "x, y = batch[:2]\n",
    "logits = model(x)\n",
    "\n",
    "loss = nn.CrossEntropyLoss()(logits, y)\n",
    "print(logits.shape, logits.dtype)\n",
    "print(loss.shape, loss.dtype)\n",
    "\n",
    "from icecream import ic\n",
    "\n",
    "a = {0, 8}\n",
    "ic(a)\n",
    "# datamodule.transform_cfg\n",
    "# datamodule.setup_transforms(datamodule.transform_cfg)"
   ]
  },
  {
   "cell_type": "code",
   "execution_count": 46,
   "id": "f86fa0f5-9570-40a5-9063-4dfa4a14ca59",
   "metadata": {},
   "outputs": [
    {
     "name": "stdout",
     "output_type": "stream",
     "text": [
      "self.normalize: [[0.485, 0.456, 0.406], [0.229, 0.224, 0.225]]\n"
     ]
    },
    {
     "data": {
      "text/plain": [
       "Compose(\n",
       "    Preprocess(\n",
       "  (resize_func): Resize(size=512, interpolation=bilinear)\n",
       ")\n",
       "    BatchTransform(\n",
       "  (transforms): Sequential(\n",
       "    (0): RandomPerspective(p=0.5)\n",
       "    (1): RandomResizedCrop(size=(224, 224), scale=(0.08, 1.0), ratio=(0.75, 1.3333), interpolation=bilinear)\n",
       "    (2): RandomHorizontalFlip(p=0.5)\n",
       "    (3): RandomVerticalFlip(p=0.5)\n",
       "    (4): Normalize(mean=[0.485, 0.456, 0.406], std=[0.229, 0.224, 0.225])\n",
       "  )\n",
       ")\n",
       ")"
      ]
     },
     "execution_count": 46,
     "metadata": {},
     "output_type": "execute_result"
    }
   ],
   "source": [
    "# datamodule.setup_transforms(datamodule.transform_cfg)\n",
    "# from imutils.ml.data.datamodule import get_default_transforms\n",
    "# a = get_default_transforms(mode=\"train\", config=datamodule.transform_cfg)"
   ]
  },
  {
   "cell_type": "code",
   "execution_count": 12,
   "id": "c46f3d25-71ae-435e-8d5c-71de0576f23e",
   "metadata": {},
   "outputs": [
    {
     "name": "stderr",
     "output_type": "stream",
     "text": [
      "Failed to detect the name of this notebook, you can set it manually with the WANDB_NOTEBOOK_NAME environment variable to enable code saving.\n",
      "\u001b[34m\u001b[1mwandb\u001b[0m: Currently logged in as: \u001b[33mjrose\u001b[0m (use `wandb login --relogin` to force relogin)\n",
      "\u001b[34m\u001b[1mwandb\u001b[0m: wandb version 0.12.11 is available!  To upgrade, please run:\n",
      "\u001b[34m\u001b[1mwandb\u001b[0m:  $ pip install wandb --upgrade\n"
     ]
    },
    {
     "data": {
      "text/html": [
       "\n",
       "                    Syncing run <strong><a href=\"https://wandb.ai/jrose/herbarium2022/runs/rrcdi118\" target=\"_blank\">herbarium2022__xcit_large_24_p16_224</a></strong> to <a href=\"https://wandb.ai/jrose/herbarium2022\" target=\"_blank\">Weights & Biases</a> (<a href=\"https://docs.wandb.com/integrations/jupyter.html\" target=\"_blank\">docs</a>).<br/>\n",
       "\n",
       "                "
      ],
      "text/plain": [
       "<IPython.core.display.HTML object>"
      ]
     },
     "metadata": {},
     "output_type": "display_data"
    },
    {
     "name": "stderr",
     "output_type": "stream",
     "text": [
      "\u001b[34m\u001b[1mwandb\u001b[0m: logging graph, to disable use `wandb.watch(log_graph=False)`\n"
     ]
    }
   ],
   "source": [
    "import wandb\n",
    "def configure_loggers(cfg):\n",
    "\n",
    "    wandb_logger = None\n",
    "    if \"wandb\" in cfg.logging:\n",
    "        hydra.utils.log.info(f\"Instantiating <WandbLogger>\")\n",
    "        wandb_config = cfg.logging.wandb\n",
    "        wandb_logger = pl.loggers.WandbLogger(\n",
    "            name=wandb_config\n",
    "            .get(\"name\", \n",
    "                           (cfg.data.datamodule.get(\"name\") + \"__\" + cfg.model_cfg.name)),\n",
    "            project=wandb_config.project,\n",
    "            entity=wandb_config.entity,\n",
    "            tags=cfg.core.tags,\n",
    "            log_model=True,\n",
    "        )\n",
    "        hydra.utils.log.info(f\"W&B is now watching <{wandb_config.watch.log}>!\")\n",
    "        wandb_logger.watch(\n",
    "            model, log=wandb_config.watch.log, log_freq=wandb_config.watch.log_freq\n",
    "        )\n",
    "\n",
    "\n",
    "        hydra.utils.log.info(f\"Instantiating the Trainer\")\n",
    "    return wandb_logger"
   ]
  },
  {
   "cell_type": "code",
   "execution_count": 22,
   "id": "3ff464d9-1f34-40cf-bef7-9f1e08210409",
   "metadata": {},
   "outputs": [],
   "source": [
    "# wandb_logger = configure_loggers(cfg=cfg, model=model)\n",
    "# print(wandb_logger)\n",
    "\n",
    "# # The Lightning core, the Trainer\n",
    "# trainer = pl.Trainer(\n",
    "#     default_root_dir=cfg.hydra.run.dir,\n",
    "#     logger=wandb_logger,\n",
    "#     callbacks=callbacks,\n",
    "#     deterministic=cfg.train.deterministic,\n",
    "#     val_check_interval=cfg.logging.val_check_interval,\n",
    "#     log_every_n_steps=10,\n",
    "#     #auto_select_gpus=True,\n",
    "#     # benchmark=True,\n",
    "#     # accelerator=None,  # 'dp', \"ddp\" if args.gpus > 1 else None,\n",
    "#     #plugins=[DDPPlugin(find_unused_parameters=True)],\n",
    "#     **cfg.train.pl_trainer,\n",
    "# )\n",
    "# # num_samples = len(datamodule.train_dataset)\n",
    "# num_classes = cfg.model_cfg.head.num_classes\n",
    "# batch_size = datamodule.batch_size #[\"train\"]\n",
    "# hydra.utils.log.info(\"Starting training with {} classes and batches of {} images\".format(\n",
    "#     num_classes,\n",
    "#     batch_size))\n",
    "# # pp(OmegaConf.to_container(cfg.train.callbacks, resolve=True))\n",
    "# trainer.fit(model=model, datamodule=datamodule)\n",
    "# #%debug\n",
    "# hydra.utils.log.info(f\"Starting testing!\")\n",
    "# trainer.test(model=model, datamodule=datamodule)\n",
    "# shutil.copytree(\".hydra\", Path(wandb_logger.experiment.dir) / \"hydra\")"
   ]
  },
  {
   "cell_type": "markdown",
   "id": "8636a676-06cc-4cb7-ba0d-b2912a88191a",
   "metadata": {},
   "source": [
    "## Measure time and function wrapping"
   ]
  },
  {
   "cell_type": "code",
   "execution_count": 22,
   "id": "cc8545cb-b243-4534-8847-ccadf4442c16",
   "metadata": {},
   "outputs": [],
   "source": [
    "def measure_time(func):\n",
    "    def wrapper(*args, **kwargs):\n",
    "        from time import time\n",
    "        start = time()\n",
    "        result = func(*args, **kwargs)\n",
    "        total_time = time() - start\n",
    "        print(f'Elapsed time is {total_time} ms')\n",
    "        \n",
    "        if isinstance(result, int):\n",
    "            print(f\"{result}/{total_time} = {result/(total_time):.3f} samples/sec\")\n",
    "        return result\n",
    "    return wrapper"
   ]
  },
  {
   "cell_type": "code",
   "execution_count": 13,
   "id": "4f044c2b-4201-40a2-8a9e-b52289866414",
   "metadata": {},
   "outputs": [],
   "source": [
    "# from tqdm import tqdm\n",
    "\n",
    "@measure_time\n",
    "def loop_through_dataloader(dataloader, num_batches):\n",
    "    data_iter = iter(dataloader)\n",
    "    for i, batch in tqdm(enumerate(data_iter), total=num_batches):\n",
    "        if i > num_batches-1:\n",
    "            break\n",
    "    num_samples = i*len(batch[0])\n",
    "    return num_samples\n",
    "\n",
    "\n",
    "\n",
    "# train_iter = iter(datamodule.train_dataloader())\n",
    "# datamodule.setup()\n",
    "# dataloader = datamodule.train_dataloader()\n",
    "# num_batches = 40\n",
    "# loop_through_dataloader(dataloader, num_batches)\n",
    "# bb = next(iter(dataloader))\n",
    "# pp(datamodule.cfg)\n",
    "# pp(OmegaConf.to_container(datamodule.cfg))"
   ]
  },
  {
   "cell_type": "code",
   "execution_count": 11,
   "id": "90405dc3-2953-40d6-ba62-970fe7dcefc7",
   "metadata": {},
   "outputs": [
    {
     "data": {
      "text/plain": [
       "omegaconf.dictconfig.DictConfig"
      ]
     },
     "execution_count": 11,
     "metadata": {},
     "output_type": "execute_result"
    }
   ],
   "source": [
    "type(datamodule.cfg)"
   ]
  },
  {
   "cell_type": "code",
   "execution_count": 4,
   "id": "db8c4020-cd05-4bae-8c1c-8146ef69c924",
   "metadata": {},
   "outputs": [],
   "source": [
    "\n",
    "# default_cfg = DictConfig(dict(\n",
    "#     catalog_dir=None,\n",
    "#     label_col=\"scientificName\",\n",
    "#     train_size=0.7,\n",
    "#     shuffle=True,\n",
    "#     seed=14,\n",
    "#     batch_size = 128,\n",
    "#     num_workers = None,\n",
    "#     pin_memory=True,\n",
    "#     transform_cfg=None,\n",
    "#     remove_transforms=False,\n",
    "# ))\n",
    "\n",
    "# from rich import print as pp\n",
    "\n",
    "# pp(OmegaConf.to_yaml(default_cfg))"
   ]
  },
  {
   "cell_type": "markdown",
   "id": "62638da1-bbcd-48c2-8b20-ed2ec10fe60d",
   "metadata": {
    "tags": []
   },
   "source": [
    "### Mock config yaml"
   ]
  },
  {
   "cell_type": "code",
   "execution_count": null,
   "id": "b1334a44-e017-4ee2-a475-1071b0e95da5",
   "metadata": {},
   "outputs": [],
   "source": [
    "# CATALOG_DIR = \"/media/data_cifs/projects/prj_fossils/users/jacob/data/herbarium_2022/catalog\"\n",
    "\n",
    "# datamodule = Herbarium2022DataModule(catalog_dir=CATALOG_DIR,\n",
    "#                                      num_workers=4,\n",
    "#                                      # image_reader=read_file_binary,\n",
    "#                                      remove_transforms=True)\n",
    "# datamodule.setup()\n",
    "\n",
    "# subset = \"train\"\n",
    "# dataset = datamodule.get_dataset(subset=subset)\n",
    "\n",
    "# dataset.num_classes\n",
    "\n",
    "# trainer.fit(model, datamodule)"
   ]
  },
  {
   "cell_type": "markdown",
   "id": "7958649f-4ec0-4567-bd28-61f6fafff7e5",
   "metadata": {
    "jp-MarkdownHeadingCollapsed": true,
    "tags": []
   },
   "source": [
    "## End"
   ]
  },
  {
   "cell_type": "code",
   "execution_count": null,
   "id": "c70a2c0f-5826-42e2-867d-cf063fdfe66b",
   "metadata": {
    "tags": []
   },
   "outputs": [],
   "source": [
    "# from torchvision import transforms as T\n",
    "# import argparse\n",
    "# from rich import print as pp\n",
    "\n",
    "# args = argparse.Namespace(\n",
    "#     preprocess={\n",
    "#         \"train\":{\n",
    "#             \"resize\":512\n",
    "#         },\n",
    "#         \"val\":{\n",
    "#             \"resize\":256\n",
    "#         },\n",
    "#     },\n",
    "#     batch_transform={\n",
    "#         \"train\":{\n",
    "#             \"random_resize_crop\":224\n",
    "#         },\n",
    "#         \"val\":{\n",
    "#             \"center_crop\":224\n",
    "#         },\n",
    "#     normalize=(\n",
    "#        [0.485, 0.456, 0.406],\n",
    "#        [0.229, 0.224, 0.225]\n",
    "#     )\n",
    "#     }\n",
    "# )\n",
    "# pp(args)\n",
    "\n",
    "# kornia_transform = nn.Sequential(\n",
    "#     K.RandomHorizontalFlip(),\n",
    "#     K.RandomVerticalFlip(),\n",
    "#     K.RandomMotionBlur(3, 35., 0.5),\n",
    "#     K.RandomRotation(degrees=45.0),\n",
    "#     K.Normalize(mean=mean_std,std=mean_std)\n",
    "# )\n",
    "\n",
    "# import numpy as np\n",
    "# from torch import nn\n",
    "# import torch\n",
    "# from albumentations.augmentations import transforms as AT\n",
    "\n",
    "# to_tensor = T.ToTensor()\n",
    "\n",
    "# class Preprocess(nn.Module):\n",
    "\n",
    "#     def __init__(self, mode=\"train\", resize=None):\n",
    "#         super().__init__()\n",
    "#         self.mode = mode\n",
    "#         self.resize = resize        \n",
    "#         self.resize_func = T.Resize(self.resize)\n",
    "    \n",
    "#     @torch.no_grad()  # disable gradients for effiency\n",
    "#     def forward(self, x) -> torch.Tensor:\n",
    "#         # x_tmp: np.ndarray = np.array(x)  # HxWxC\n",
    "#         # x_out: Tensor = to_tensor(x_tmp, keepdim=True)  # CxHxW\n",
    "#         if self.resize:\n",
    "#             x = self.resize_func(x)\n",
    "\n",
    "#         return x #_out.float()# / 255.0\n",
    "\n",
    "\n",
    "\n",
    "\n",
    "# class BatchTransforms(nn.Module):\n",
    "#     \"\"\"Module to perform data augmentation using Kornia on torch tensors.\"\"\"\n",
    "\n",
    "#     def __init__(self,\n",
    "#                  mode: str=\"train\",\n",
    "#                  random_resize_crop=None,\n",
    "#                  center_crop=None,\n",
    "#                  apply_color_jitter: bool = False,\n",
    "#                  normalize = (\n",
    "#                      [0,0,0],\n",
    "#                      [1,1,1]\n",
    "#                  )\n",
    "#                 ) -> None:\n",
    "#         super().__init__()\n",
    "#         self.mode = mode\n",
    "#         self.random_resize_crop = random_resize_crop\n",
    "#         self.center_crop = center_crop\n",
    "#         self._apply_color_jitter = apply_color_jitter\n",
    "#         self.normalize = normalize\n",
    "        \n",
    "#         self.build_transforms(mode=mode)\n",
    "\n",
    "        \n",
    "#     def add_train_transforms(self, transforms=None):\n",
    "        \n",
    "#         transforms = transforms or []\n",
    "#         # if mode == \"train\":\n",
    "#         transforms.append(T.RandomPerspective())\n",
    "#         if type(self.random_resize_crop) == int:\n",
    "#             transforms.append(T.RandomResizedCrop(self.random_resize_crop))\n",
    "#         transforms.extend([\n",
    "#             T.RandomHorizontalFlip(),\n",
    "#             T.RandomVerticalFlip()\n",
    "#         ])\n",
    "#         return transforms\n",
    "\n",
    "#     def add_test_transforms(self, transforms=None):\n",
    "        \n",
    "#         transforms = transforms or []\n",
    "#         if type(self.center_crop) == int:\n",
    "#             transforms.append(T.CenterCrop(self.center_crop))\n",
    "#         return transforms\n",
    "\n",
    "\n",
    "#     def build_transforms(self,\n",
    "#                          mode: str = \"train\"):\n",
    "#         transforms = []\n",
    "#         if mode == \"train\":\n",
    "#             transforms = self.add_train_transforms(transforms=transforms)\n",
    "#         elif mode in [\"val\", \"test\"]:\n",
    "#             transforms = self.add_test_transforms(transforms=transforms)\n",
    "\n",
    "#         transforms.extend([\n",
    "# \t\t\t# T.ToTensor(),\n",
    "# \t\t\tT.Normalize(*self.normalize)\n",
    "#         ])\n",
    "\n",
    "#         self.transforms = nn.Sequential(*transforms)\n",
    "#         self.jitter = AT.ColorJitter(brightness=0.2,\n",
    "#                                      contrast=0.2,\n",
    "#                                      saturation=0.2,\n",
    "#                                      hue=0.2,\n",
    "#                                      always_apply=False,\n",
    "#                                      p=0.5)\n",
    "\n",
    "#     @torch.no_grad()  # disable gradients for effiency\n",
    "#     def forward(self, x: torch.Tensor) -> torch.Tensor:\n",
    "#         x_out = self.transforms(x)  # BxCxHxW\n",
    "#         if self._apply_color_jitter:\n",
    "#             x_out = self.jitter(x_out)\n",
    "#         return x_out\n",
    "\n",
    "\n",
    "\n",
    "\n",
    "\n",
    "\n",
    "\n",
    "# for subset in [\"train\",\"val\", \"test\"]:\n",
    "#     data = Herbarium2022Dataset(subset=subset,\n",
    "#                                 label_col=\"scientificName\",\n",
    "#                                 train_size=0.7,\n",
    "#                                 shuffle=(subset != \"test\"),\n",
    "#                                 seed=14,\n",
    "#                                 transform=None)\n",
    "\n",
    "#########################################\n",
    "\n",
    "CATALOG_DIR = \"/media/data_cifs/projects/prj_fossils/users/jacob/data/herbarium_2022/catalog\"\n",
    "SHARD_DIR = \"/media/data_cifs/projects/prj_fossils/users/jacob/data/herbarium_2022/webdataset\"\n",
    "\n",
    "# datamodule = Herbarium2022DataModule(catalog_dir=CATALOG_DIR,\n",
    "#                                      batch_size=64,\n",
    "#                                      num_workers=4,\n",
    "#                                      image_reader=read_file_binary,\n",
    "#                                      remove_transforms=True)\n",
    "# datamodule.setup()\n",
    "\n",
    "\n",
    "# train_dataloader = datamodule.train_dataloader()\n",
    "# train_batch = next(iter(train_dataloader))\n",
    "# datamodule.train_dataset.encoder.inverse_transform(train_batch[1])\n",
    "\n",
    "# checkpoint_callback = [c for c in callbacks if isinstance(c, pl.callbacks.ModelCheckpoint)][0]\n",
    "# logging.info(f\"checkpoint_callback.best_model_path: {str(checkpoint_callback.best_model_path)}\")\n",
    "# config.system.tasks[f\"task_{task_id}\"].ckpt_path = checkpoint_callback.best_model_path\n",
    "# checkpoint_callback.best_model_score = checkpoint_callback.best_model_score or 0.0\n",
    "# logging.info(f\"checkpoint_callback.best_model_score: {checkpoint_callback.best_model_score:.3f}\")\n",
    "# logging.info(f\"[Initiating TESTING on task_{task_id}]\")\n",
    "\n",
    "\n",
    "# test_results = run_multitask_test(trainer=trainer,\n",
    "#                               model=model,\n",
    "#                               datamodule=datamodule,\n",
    "#                               config=config,\n",
    "#                               tasks=\"all\")#,"
   ]
  },
  {
   "cell_type": "code",
   "execution_count": null,
   "id": "64696c69-944a-421c-b882-3b36adf86fbc",
   "metadata": {},
   "outputs": [],
   "source": []
  }
 ],
 "metadata": {
  "kernelspec": {
   "display_name": "Python 3 (ipykernel)",
   "language": "python",
   "name": "python3"
  },
  "language_info": {
   "codemirror_mode": {
    "name": "ipython",
    "version": 3
   },
   "file_extension": ".py",
   "mimetype": "text/x-python",
   "name": "python",
   "nbconvert_exporter": "python",
   "pygments_lexer": "ipython3",
   "version": "3.8.13"
  }
 },
 "nbformat": 4,
 "nbformat_minor": 5
}
