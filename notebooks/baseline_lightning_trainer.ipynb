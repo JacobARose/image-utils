{
 "cells": [
  {
   "cell_type": "markdown",
   "id": "d6d4a8cd-4e6d-4cc0-bc55-dedc99912842",
   "metadata": {},
   "source": [
    "## baseline lightning trainer notebook\n",
    "\n",
    "Created on: Wednesday March 16th, 2022  \n",
    "Created by: Jacob Alexander Rose  "
   ]
  },
  {
   "cell_type": "code",
   "execution_count": 2,
   "id": "acb05a5b-ed51-4cb7-9725-08e37d59b046",
   "metadata": {},
   "outputs": [],
   "source": [
    "%load_ext autoreload\n",
    "%autoreload 2\n",
    "from IPython.display import display\n",
    "from IPython.core.interactiveshell import InteractiveShell\n",
    "InteractiveShell.ast_node_interactivity = \"all\"\n",
    "\n",
    "\n",
    "import pandas as pd\n",
    "from pathlib import Path\n",
    "from icecream import ic\n",
    "from rich import print as pp\n",
    "import warnings\n",
    "warnings.simplefilter(action='ignore', category=FutureWarning)\n",
    "\n",
    "# from imutils.big.datamodule import Herbarium2022DataModule, Herbarium2022Dataset\n",
    "from imutils.ml.data.datamodule import Herbarium2022DataModule, Herbarium2022Dataset\n",
    "\n",
    "from torchvision import transforms as T\n",
    "import argparse\n",
    "from rich import print as pp"
   ]
  },
  {
   "cell_type": "code",
   "execution_count": null,
   "id": "0907aa02-3aba-46e7-8022-dd25f13bb885",
   "metadata": {},
   "outputs": [],
   "source": []
  },
  {
   "cell_type": "code",
   "execution_count": 6,
   "id": "ef59b462-826f-43cd-86dd-9cd2ee48196b",
   "metadata": {},
   "outputs": [],
   "source": [
    "from omegaconf import DictConfig, OmegaConf\n",
    "from typing import *\n",
    "\n",
    "default_reader = None"
   ]
  },
  {
   "cell_type": "code",
   "execution_count": 2,
   "id": "cedf31dd-4101-4e4f-9ae0-d84eccaed6e7",
   "metadata": {},
   "outputs": [
    {
     "data": {
      "text/plain": [
       "['__all__',\n",
       " '__builtins__',\n",
       " '__cached__',\n",
       " '__doc__',\n",
       " '__file__',\n",
       " '__loader__',\n",
       " '__name__',\n",
       " '__package__',\n",
       " '__path__',\n",
       " '__spec__',\n",
       " 'accuracy',\n",
       " 'auc',\n",
       " 'audio',\n",
       " 'auroc',\n",
       " 'average_precision',\n",
       " 'bert_score',\n",
       " 'bleu_score',\n",
       " 'calibration_error',\n",
       " 'char_error_rate',\n",
       " 'classification',\n",
       " 'cohen_kappa',\n",
       " 'confusion_matrix',\n",
       " 'cosine_similarity',\n",
       " 'dice_score',\n",
       " 'embedding_similarity',\n",
       " 'explained_variance',\n",
       " 'f1',\n",
       " 'fbeta',\n",
       " 'hamming_distance',\n",
       " 'hinge',\n",
       " 'image',\n",
       " 'image_gradients',\n",
       " 'iou',\n",
       " 'kl_divergence',\n",
       " 'matthews_corrcoef',\n",
       " 'mean_absolute_error',\n",
       " 'mean_absolute_percentage_error',\n",
       " 'mean_squared_error',\n",
       " 'mean_squared_log_error',\n",
       " 'pairwise',\n",
       " 'pairwise_cosine_similarity',\n",
       " 'pairwise_euclidean_distance',\n",
       " 'pairwise_linear_similarity',\n",
       " 'pairwise_manhatten_distance',\n",
       " 'pearson_corrcoef',\n",
       " 'pesq',\n",
       " 'pit',\n",
       " 'pit_permutate',\n",
       " 'precision',\n",
       " 'precision_recall',\n",
       " 'precision_recall_curve',\n",
       " 'psnr',\n",
       " 'r2_score',\n",
       " 'recall',\n",
       " 'regression',\n",
       " 'retrieval',\n",
       " 'retrieval_average_precision',\n",
       " 'retrieval_fall_out',\n",
       " 'retrieval_hit_rate',\n",
       " 'retrieval_normalized_dcg',\n",
       " 'retrieval_precision',\n",
       " 'retrieval_r_precision',\n",
       " 'retrieval_recall',\n",
       " 'retrieval_reciprocal_rank',\n",
       " 'roc',\n",
       " 'rouge_score',\n",
       " 'sacre_bleu_score',\n",
       " 'self_supervised',\n",
       " 'si_sdr',\n",
       " 'si_snr',\n",
       " 'snr',\n",
       " 'spearman_corrcoef',\n",
       " 'specificity',\n",
       " 'ssim',\n",
       " 'stat_scores',\n",
       " 'stoi',\n",
       " 'symmetric_mean_absolute_percentage_error',\n",
       " 'text',\n",
       " 'tweedie_deviance_score',\n",
       " 'wer']"
      ]
     },
     "execution_count": 2,
     "metadata": {},
     "output_type": "execute_result"
    }
   ],
   "source": [
    "import torchmetrics\n",
    "\n",
    "dir(torchmetrics.functional)"
   ]
  },
  {
   "cell_type": "code",
   "execution_count": 4,
   "id": "17d4ea65-9b89-42e8-90eb-a4eb0ea73cac",
   "metadata": {},
   "outputs": [],
   "source": [
    "\n",
    "default_cfg = DictConfig(dict(\n",
    "    catalog_dir=None,\n",
    "    label_col=\"scientificName\",\n",
    "    train_size=0.7,\n",
    "    shuffle=True,\n",
    "    seed=14,\n",
    "    batch_size = 128,\n",
    "    num_workers = None,\n",
    "    pin_memory=True,\n",
    "    transform_cfg=None,\n",
    "    remove_transforms=False,\n",
    "))"
   ]
  },
  {
   "cell_type": "code",
   "execution_count": 9,
   "id": "9e196e52-9dd8-4e70-92aa-70477f9ba8d4",
   "metadata": {},
   "outputs": [
    {
     "data": {
      "text/html": [
       "<pre style=\"white-space:pre;overflow-x:auto;line-height:normal;font-family:Menlo,'DejaVu Sans Mono',consolas,'Courier New',monospace\">catalog_dir: null\n",
       "label_col: scientificName\n",
       "train_size: <span style=\"color: #008080; text-decoration-color: #008080; font-weight: bold\">0.7</span>\n",
       "shuffle: true\n",
       "seed: <span style=\"color: #008080; text-decoration-color: #008080; font-weight: bold\">14</span>\n",
       "batch_size: <span style=\"color: #008080; text-decoration-color: #008080; font-weight: bold\">128</span>\n",
       "num_workers: null\n",
       "pin_memory: true\n",
       "train_transform: null\n",
       "val_transform: null\n",
       "test_transform: null\n",
       "transform_config: null\n",
       "remove_transforms: false\n",
       "image_reader: null\n",
       "\n",
       "</pre>\n"
      ],
      "text/plain": [
       "catalog_dir: null\n",
       "label_col: scientificName\n",
       "train_size: \u001b[1;36m0.7\u001b[0m\n",
       "shuffle: true\n",
       "seed: \u001b[1;36m14\u001b[0m\n",
       "batch_size: \u001b[1;36m128\u001b[0m\n",
       "num_workers: null\n",
       "pin_memory: true\n",
       "train_transform: null\n",
       "val_transform: null\n",
       "test_transform: null\n",
       "transform_config: null\n",
       "remove_transforms: false\n",
       "image_reader: null\n",
       "\n"
      ]
     },
     "metadata": {},
     "output_type": "display_data"
    }
   ],
   "source": [
    "from rich import print as pp\n",
    "\n",
    "pp(OmegaConf.to_yaml(default_cfg))"
   ]
  },
  {
   "cell_type": "markdown",
   "id": "62638da1-bbcd-48c2-8b20-ed2ec10fe60d",
   "metadata": {},
   "source": [
    "### Mock config yaml"
   ]
  },
  {
   "cell_type": "code",
   "execution_count": 59,
   "id": "da4a2740-99b3-4ec2-85b3-1f77b1913613",
   "metadata": {},
   "outputs": [],
   "source": [
    "CATALOG_DIR = \"/media/data_cifs/projects/prj_fossils/users/jacob/data/herbarium_2022/catalog\"\n",
    "\n",
    "datamodule = Herbarium2022DataModule(catalog_dir=CATALOG_DIR,\n",
    "                                     num_workers=4,\n",
    "                                     # image_reader=read_file_binary,\n",
    "                                     remove_transforms=True)\n",
    "datamodule.setup()"
   ]
  },
  {
   "cell_type": "code",
   "execution_count": 60,
   "id": "d1a29eaa-f837-4ee0-a84c-24c6cb00b0e1",
   "metadata": {},
   "outputs": [],
   "source": [
    "subset = \"train\"\n",
    "dataset = datamodule.get_dataset(subset=subset)"
   ]
  },
  {
   "cell_type": "code",
   "execution_count": 102,
   "id": "f0c60aa4-70b1-43d6-b090-c1d46210f289",
   "metadata": {},
   "outputs": [
    {
     "data": {
      "text/plain": [
       "15501"
      ]
     },
     "execution_count": 102,
     "metadata": {},
     "output_type": "execute_result"
    }
   ],
   "source": [
    "dataset.num_classes"
   ]
  },
  {
   "cell_type": "code",
   "execution_count": null,
   "id": "f846e09d-2849-4e69-b588-093571d463cd",
   "metadata": {},
   "outputs": [],
   "source": []
  },
  {
   "cell_type": "code",
   "execution_count": null,
   "id": "3ba02708-2499-4a86-8b04-41455397747a",
   "metadata": {},
   "outputs": [],
   "source": [
    "trainer.fit(model, datamodule)"
   ]
  },
  {
   "cell_type": "code",
   "execution_count": null,
   "id": "41fabad3-3fbd-4d3f-a1dd-fa0761edbd2b",
   "metadata": {},
   "outputs": [],
   "source": []
  },
  {
   "cell_type": "code",
   "execution_count": null,
   "id": "955771b4-532f-4239-b662-ea6458500f8f",
   "metadata": {},
   "outputs": [],
   "source": []
  },
  {
   "cell_type": "markdown",
   "id": "7958649f-4ec0-4567-bd28-61f6fafff7e5",
   "metadata": {},
   "source": [
    "## End"
   ]
  },
  {
   "cell_type": "code",
   "execution_count": 6,
   "id": "f680ceb2-99a4-4227-bbb8-18e9a7c23793",
   "metadata": {
    "tags": []
   },
   "outputs": [
    {
     "data": {
      "text/html": [
       "<pre style=\"white-space:pre;overflow-x:auto;line-height:normal;font-family:Menlo,'DejaVu Sans Mono',consolas,'Courier New',monospace\"><span style=\"color: #800080; text-decoration-color: #800080; font-weight: bold\">Namespace</span><span style=\"font-weight: bold\">(</span><span style=\"color: #808000; text-decoration-color: #808000\">batch_transform</span>=<span style=\"font-weight: bold\">{</span><span style=\"color: #008000; text-decoration-color: #008000\">'train'</span>: <span style=\"font-weight: bold\">{</span><span style=\"color: #008000; text-decoration-color: #008000\">'random_resize_crop'</span>: <span style=\"color: #008080; text-decoration-color: #008080; font-weight: bold\">224</span><span style=\"font-weight: bold\">}</span>, <span style=\"color: #008000; text-decoration-color: #008000\">'val'</span>: <span style=\"font-weight: bold\">{</span><span style=\"color: #008000; text-decoration-color: #008000\">'center_crop'</span>: \n",
       "<span style=\"color: #008080; text-decoration-color: #008080; font-weight: bold\">224</span><span style=\"font-weight: bold\">}}</span>, <span style=\"color: #808000; text-decoration-color: #808000\">preprocess</span>=<span style=\"font-weight: bold\">{</span><span style=\"color: #008000; text-decoration-color: #008000\">'train'</span>: <span style=\"font-weight: bold\">{</span><span style=\"color: #008000; text-decoration-color: #008000\">'resize'</span>: <span style=\"color: #008080; text-decoration-color: #008080; font-weight: bold\">512</span><span style=\"font-weight: bold\">}</span>, <span style=\"color: #008000; text-decoration-color: #008000\">'val'</span>: <span style=\"font-weight: bold\">{</span><span style=\"color: #008000; text-decoration-color: #008000\">'resize'</span>: <span style=\"color: #008080; text-decoration-color: #008080; font-weight: bold\">256</span><span style=\"font-weight: bold\">}})</span>\n",
       "</pre>\n"
      ],
      "text/plain": [
       "\u001b[1;35mNamespace\u001b[0m\u001b[1m(\u001b[0m\u001b[33mbatch_transform\u001b[0m=\u001b[1m{\u001b[0m\u001b[32m'train'\u001b[0m: \u001b[1m{\u001b[0m\u001b[32m'random_resize_crop'\u001b[0m: \u001b[1;36m224\u001b[0m\u001b[1m}\u001b[0m, \u001b[32m'val'\u001b[0m: \u001b[1m{\u001b[0m\u001b[32m'center_crop'\u001b[0m: \n",
       "\u001b[1;36m224\u001b[0m\u001b[1m}\u001b[0m\u001b[1m}\u001b[0m, \u001b[33mpreprocess\u001b[0m=\u001b[1m{\u001b[0m\u001b[32m'train'\u001b[0m: \u001b[1m{\u001b[0m\u001b[32m'resize'\u001b[0m: \u001b[1;36m512\u001b[0m\u001b[1m}\u001b[0m, \u001b[32m'val'\u001b[0m: \u001b[1m{\u001b[0m\u001b[32m'resize'\u001b[0m: \u001b[1;36m256\u001b[0m\u001b[1m}\u001b[0m\u001b[1m}\u001b[0m\u001b[1m)\u001b[0m\n"
      ]
     },
     "metadata": {},
     "output_type": "display_data"
    }
   ],
   "source": [
    "# from torchvision import transforms as T\n",
    "# import argparse\n",
    "# from rich import print as pp\n",
    "\n",
    "# args = argparse.Namespace(\n",
    "#     preprocess={\n",
    "#         \"train\":{\n",
    "#             \"resize\":512\n",
    "#         },\n",
    "#         \"val\":{\n",
    "#             \"resize\":256\n",
    "#         },\n",
    "#     },\n",
    "#     batch_transform={\n",
    "#         \"train\":{\n",
    "#             \"random_resize_crop\":224\n",
    "#         },\n",
    "#         \"val\":{\n",
    "#             \"center_crop\":224\n",
    "#         },\n",
    "#     normalize=(\n",
    "#        [0.485, 0.456, 0.406],\n",
    "#        [0.229, 0.224, 0.225]\n",
    "#     )\n",
    "#     }\n",
    "# )\n",
    "# pp(args)"
   ]
  },
  {
   "cell_type": "code",
   "execution_count": null,
   "id": "5152ae2d-5e29-4e98-9153-6acbe6f8f8c6",
   "metadata": {
    "tags": []
   },
   "outputs": [],
   "source": [
    "# kornia_transform = nn.Sequential(\n",
    "#     K.RandomHorizontalFlip(),\n",
    "#     K.RandomVerticalFlip(),\n",
    "#     K.RandomMotionBlur(3, 35., 0.5),\n",
    "#     K.RandomRotation(degrees=45.0),\n",
    "#     K.Normalize(mean=mean_std,std=mean_std)\n",
    "# )"
   ]
  },
  {
   "cell_type": "code",
   "execution_count": 15,
   "id": "63244e80-6f57-46d5-8f47-cc516ddd07ea",
   "metadata": {
    "tags": []
   },
   "outputs": [],
   "source": [
    "# import numpy as np\n",
    "# from torch import nn\n",
    "# import torch\n",
    "# from albumentations.augmentations import transforms as AT\n",
    "\n",
    "# to_tensor = T.ToTensor()\n",
    "\n",
    "# class Preprocess(nn.Module):\n",
    "\n",
    "#     def __init__(self, mode=\"train\", resize=None):\n",
    "#         super().__init__()\n",
    "#         self.mode = mode\n",
    "#         self.resize = resize        \n",
    "#         self.resize_func = T.Resize(self.resize)\n",
    "    \n",
    "#     @torch.no_grad()  # disable gradients for effiency\n",
    "#     def forward(self, x) -> torch.Tensor:\n",
    "#         # x_tmp: np.ndarray = np.array(x)  # HxWxC\n",
    "#         # x_out: Tensor = to_tensor(x_tmp, keepdim=True)  # CxHxW\n",
    "#         if self.resize:\n",
    "#             x = self.resize_func(x)\n",
    "\n",
    "#         return x #_out.float()# / 255.0\n",
    "\n",
    "\n",
    "\n",
    "\n",
    "# class BatchTransforms(nn.Module):\n",
    "#     \"\"\"Module to perform data augmentation using Kornia on torch tensors.\"\"\"\n",
    "\n",
    "#     def __init__(self,\n",
    "#                  mode: str=\"train\",\n",
    "#                  random_resize_crop=None,\n",
    "#                  center_crop=None,\n",
    "#                  apply_color_jitter: bool = False,\n",
    "#                  normalize = (\n",
    "#                      [0,0,0],\n",
    "#                      [1,1,1]\n",
    "#                  )\n",
    "#                 ) -> None:\n",
    "#         super().__init__()\n",
    "#         self.mode = mode\n",
    "#         self.random_resize_crop = random_resize_crop\n",
    "#         self.center_crop = center_crop\n",
    "#         self._apply_color_jitter = apply_color_jitter\n",
    "#         self.normalize = normalize\n",
    "        \n",
    "#         self.build_transforms(mode=mode)\n",
    "\n",
    "        \n",
    "#     def add_train_transforms(self, transforms=None):\n",
    "        \n",
    "#         transforms = transforms or []\n",
    "#         # if mode == \"train\":\n",
    "#         transforms.append(T.RandomPerspective())\n",
    "#         if type(self.random_resize_crop) == int:\n",
    "#             transforms.append(T.RandomResizedCrop(self.random_resize_crop))\n",
    "#         transforms.extend([\n",
    "#             T.RandomHorizontalFlip(),\n",
    "#             T.RandomVerticalFlip()\n",
    "#         ])\n",
    "#         return transforms\n",
    "\n",
    "#     def add_test_transforms(self, transforms=None):\n",
    "        \n",
    "#         transforms = transforms or []\n",
    "#         if type(self.center_crop) == int:\n",
    "#             transforms.append(T.CenterCrop(self.center_crop))\n",
    "#         return transforms\n",
    "\n",
    "\n",
    "#     def build_transforms(self,\n",
    "#                          mode: str = \"train\"):\n",
    "#         transforms = []\n",
    "#         if mode == \"train\":\n",
    "#             transforms = self.add_train_transforms(transforms=transforms)\n",
    "#         elif mode in [\"val\", \"test\"]:\n",
    "#             transforms = self.add_test_transforms(transforms=transforms)\n",
    "\n",
    "#         transforms.extend([\n",
    "# \t\t\t# T.ToTensor(),\n",
    "# \t\t\tT.Normalize(*self.normalize)\n",
    "#         ])\n",
    "\n",
    "#         self.transforms = nn.Sequential(*transforms)\n",
    "#         self.jitter = AT.ColorJitter(brightness=0.2,\n",
    "#                                      contrast=0.2,\n",
    "#                                      saturation=0.2,\n",
    "#                                      hue=0.2,\n",
    "#                                      always_apply=False,\n",
    "#                                      p=0.5)\n",
    "\n",
    "#     @torch.no_grad()  # disable gradients for effiency\n",
    "#     def forward(self, x: torch.Tensor) -> torch.Tensor:\n",
    "#         x_out = self.transforms(x)  # BxCxHxW\n",
    "#         if self._apply_color_jitter:\n",
    "#             x_out = self.jitter(x_out)\n",
    "#         return x_out"
   ]
  },
  {
   "cell_type": "code",
   "execution_count": null,
   "id": "c793d955-7697-4def-8cd2-37b8f8935d7d",
   "metadata": {},
   "outputs": [],
   "source": []
  },
  {
   "cell_type": "code",
   "execution_count": null,
   "id": "c293224e-c531-43c7-9370-c7c98c827c7b",
   "metadata": {},
   "outputs": [],
   "source": []
  },
  {
   "cell_type": "code",
   "execution_count": null,
   "id": "e1332a7b-821a-4ff5-9765-8156e2194ee4",
   "metadata": {},
   "outputs": [],
   "source": []
  },
  {
   "cell_type": "code",
   "execution_count": 3,
   "id": "d9ee7a6f-aea8-4a8c-83a6-0673fdbc2e67",
   "metadata": {},
   "outputs": [],
   "source": [
    "# for subset in [\"train\",\"val\", \"test\"]:\n",
    "#     data = Herbarium2022Dataset(subset=subset,\n",
    "#                                 label_col=\"scientificName\",\n",
    "#                                 train_size=0.7,\n",
    "#                                 shuffle=(subset != \"test\"),\n",
    "#                                 seed=14,\n",
    "#                                 transform=None)\n",
    "\n",
    "#########################################\n",
    "\n",
    "CATALOG_DIR = \"/media/data_cifs/projects/prj_fossils/users/jacob/data/herbarium_2022/catalog\"\n",
    "SHARD_DIR = \"/media/data_cifs/projects/prj_fossils/users/jacob/data/herbarium_2022/webdataset\"\n",
    "\n",
    "# datamodule = Herbarium2022DataModule(catalog_dir=CATALOG_DIR,\n",
    "#                                      batch_size=64,\n",
    "#                                      num_workers=4,\n",
    "#                                      image_reader=read_file_binary,\n",
    "#                                      remove_transforms=True)\n",
    "# datamodule.setup()\n",
    "\n",
    "\n",
    "# train_dataloader = datamodule.train_dataloader()\n",
    "# train_batch = next(iter(train_dataloader))\n",
    "# datamodule.train_dataset.encoder.inverse_transform(train_batch[1])"
   ]
  },
  {
   "cell_type": "code",
   "execution_count": null,
   "id": "d24c5822-233b-44d2-b104-3572091f03b1",
   "metadata": {},
   "outputs": [],
   "source": [
    "# checkpoint_callback = [c for c in callbacks if isinstance(c, pl.callbacks.ModelCheckpoint)][0]\n",
    "# logging.info(f\"checkpoint_callback.best_model_path: {str(checkpoint_callback.best_model_path)}\")\n",
    "# config.system.tasks[f\"task_{task_id}\"].ckpt_path = checkpoint_callback.best_model_path\n",
    "# checkpoint_callback.best_model_score = checkpoint_callback.best_model_score or 0.0\n",
    "# logging.info(f\"checkpoint_callback.best_model_score: {checkpoint_callback.best_model_score:.3f}\")\n",
    "# logging.info(f\"[Initiating TESTING on task_{task_id}]\")\n",
    "\n",
    "\n",
    "# test_results = run_multitask_test(trainer=trainer,\n",
    "#                               model=model,\n",
    "#                               datamodule=datamodule,\n",
    "#                               config=config,\n",
    "#                               tasks=\"all\")#,"
   ]
  },
  {
   "cell_type": "code",
   "execution_count": null,
   "id": "64696c69-944a-421c-b882-3b36adf86fbc",
   "metadata": {},
   "outputs": [],
   "source": []
  }
 ],
 "metadata": {
  "kernelspec": {
   "display_name": "Python 3 (ipykernel)",
   "language": "python",
   "name": "python3"
  },
  "language_info": {
   "codemirror_mode": {
    "name": "ipython",
    "version": 3
   },
   "file_extension": ".py",
   "mimetype": "text/x-python",
   "name": "python",
   "nbconvert_exporter": "python",
   "pygments_lexer": "ipython3",
   "version": "3.8.12"
  }
 },
 "nbformat": 4,
 "nbformat_minor": 5
}
