{
 "cells": [
  {
   "cell_type": "markdown",
   "id": "f8fbad3a-e268-45ff-ab04-9b1e107347a7",
   "metadata": {},
   "source": [
    "## refactoring_datasets_datamodules_22-05-18.ipynb\n",
    "\n",
    "Added on: Wednesday May 18th, 2022  \n",
    "Adapted by: Jacob Alexander Rose  "
   ]
  },
  {
   "cell_type": "code",
   "execution_count": 1,
   "id": "f93a12b9-2786-4e8b-b7cd-65122c3ee520",
   "metadata": {},
   "outputs": [
    {
     "name": "stdout",
     "output_type": "stream",
     "text": [
      "Importing imutils\n"
     ]
    }
   ],
   "source": [
    "%load_ext autoreload\n",
    "%autoreload 2\n",
    "\n",
    "\n",
    "from imutils.ml.utils.etl_utils import ETL\n",
    "from omegaconf import DictConfig, OmegaConf\n",
    "import os\n",
    "from rich import print as pp\n",
    "import hydra\n",
    "\n",
    "\n",
    "import numpy as np\n",
    "from typing import *\n",
    "import inspect\n",
    "from tqdm.auto import tqdm\n",
    "import pandas as pd\n",
    "from pathlib import Path\n",
    "import logging\n",
    "from imutils.ml.utils.template_utils import get_logger\n",
    "\n",
    "\n",
    "logger = get_logger(name=__name__, level=logging.INFO)"
   ]
  },
  {
   "cell_type": "code",
   "execution_count": 2,
   "id": "7704bd6d-ac05-410f-9c75-da6873eddf6d",
   "metadata": {},
   "outputs": [],
   "source": [
    "import imutils\n",
    "\n",
    "HERBARIUM_ROOT_DEFAULT = os.environ.get(\"HERBARIUM_ROOT_DEFAULT\")\n",
    "CATALOG_DIR = os.environ.get(\"CATALOG_DIR\")\n",
    "SPLITS_DIR = os.environ.get(\"SPLITS_DIR\")"
   ]
  },
  {
   "cell_type": "code",
   "execution_count": null,
   "id": "a9401840-8ce4-4224-b71f-5867bef00877",
   "metadata": {},
   "outputs": [],
   "source": []
  },
  {
   "cell_type": "code",
   "execution_count": null,
   "id": "73e139e8-321d-43ae-8837-390032cbe37f",
   "metadata": {},
   "outputs": [],
   "source": []
  },
  {
   "cell_type": "code",
   "execution_count": null,
   "id": "636b652d-efe1-404a-8cab-8aec86391419",
   "metadata": {},
   "outputs": [],
   "source": []
  }
 ],
 "metadata": {
  "kernelspec": {
   "display_name": "Python 3 (ipykernel)",
   "language": "python",
   "name": "python3"
  },
  "language_info": {
   "codemirror_mode": {
    "name": "ipython",
    "version": 3
   },
   "file_extension": ".py",
   "mimetype": "text/x-python",
   "name": "python",
   "nbconvert_exporter": "python",
   "pygments_lexer": "ipython3",
   "version": "3.8.13"
  }
 },
 "nbformat": 4,
 "nbformat_minor": 5
}
