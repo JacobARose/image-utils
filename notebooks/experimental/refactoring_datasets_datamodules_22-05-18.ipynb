{
 "cells": [
  {
   "cell_type": "markdown",
   "id": "f8fbad3a-e268-45ff-ab04-9b1e107347a7",
   "metadata": {},
   "source": [
    "## refactoring_datasets_datamodules_22-05-18.ipynb\n",
    "\n",
    "Added on: Wednesday May 18th, 2022  \n",
    "Adapted by: Jacob Alexander Rose  "
   ]
  },
  {
   "cell_type": "code",
   "execution_count": null,
   "id": "f93a12b9-2786-4e8b-b7cd-65122c3ee520",
   "metadata": {},
   "outputs": [],
   "source": [
    "%load_ext autoreload\n",
    "%autoreload 2\n",
    "\n",
    "\n",
    "from imutils.ml.utils.etl_utils import ETL\n",
    "from omegaconf import DictConfig, OmegaConf\n",
    "import os\n",
    "from rich import print as pp\n",
    "import hydra\n",
    "\n",
    "\n",
    "import numpy as np\n",
    "from typing import *\n",
    "import inspect\n",
    "from tqdm.auto import tqdm\n",
    "import pandas as pd\n",
    "from pathlib import Path\n",
    "import logging\n",
    "from imutils.catalog_registry import available_datasets\n",
    "\n",
    "\n",
    "logger = get_logger(name=__name__, level=logging.INFO)"
   ]
  },
  {
   "cell_type": "code",
   "execution_count": null,
   "id": "eacaf1d6-9d4d-464b-b271-c15ef835777e",
   "metadata": {},
   "outputs": [],
   "source": [
    "import imutils\n",
    "\n",
    "from imutils.ml.data.datamodule import *\n",
    "\n",
    "from imutils.ml.data.datamodule import ExtantLeavesDataModuleConfig, Herbarium2022DataModuleConfig\n",
    "\n",
    "import dataclasses\n",
    "from dataclasses import dataclass"
   ]
  },
  {
   "cell_type": "code",
   "execution_count": null,
   "id": "e623e2b1-97f6-4d2a-8c5b-1f835a07c313",
   "metadata": {},
   "outputs": [],
   "source": [
    "herb_cfg = Herbarium2022DataModuleConfig()\n",
    "extant_cfg = ExtantLeavesDataModuleConfig()\n",
    "\n",
    "pp(herb_cfg)"
   ]
  },
  {
   "cell_type": "code",
   "execution_count": null,
   "id": "899a9c4a-f026-4cad-9f1f-2975a714fa5e",
   "metadata": {},
   "outputs": [],
   "source": [
    "herb_dm = Herbarium2022DataModule()\n",
    "\n",
    "extant_dm = ExtantLeavesDataModule()"
   ]
  },
  {
   "cell_type": "code",
   "execution_count": null,
   "id": "ca1472f6-ad0e-4cf9-b82c-56cf77766cfb",
   "metadata": {},
   "outputs": [],
   "source": [
    "dir(herb_dm)"
   ]
  },
  {
   "cell_type": "code",
   "execution_count": null,
   "id": "065f8f64-335d-468f-9bcf-781d641d08de",
   "metadata": {},
   "outputs": [],
   "source": [
    "from imutils.ml.aug.image.images import (instantiate_transforms,\n",
    "\t\t\t\t\t\t\t\t\t\t DEFAULT_CFG as DEFAULT_TRANSFORM_CFG)"
   ]
  },
  {
   "cell_type": "code",
   "execution_count": null,
   "id": "020aeae9-b306-4ec1-b424-a650444aead7",
   "metadata": {},
   "outputs": [],
   "source": [
    "pp(DEFAULT_TRANSFORM_CFG)"
   ]
  },
  {
   "cell_type": "code",
   "execution_count": null,
   "id": "e296d8f7-e911-49b5-90a8-9a4ec10a8982",
   "metadata": {},
   "outputs": [],
   "source": [
    "from omegaconf import OmegaConf, DictConfig, ListConfig\n",
    "\n",
    "cfg_path = \"/media/data_cifs/projects/prj_fossils/users/jacob/github/image-utils/imutils/ml/conf/aug/light_image_aug.yaml\"\n",
    "\n",
    "DEFAULT_CFG = OmegaConf.load(cfg_path)\n",
    "\n",
    "DEFAULT_CFG.hp = {}\n",
    "DEFAULT_CFG.hp[\"preprocess_size\"] = 256\n",
    "DEFAULT_CFG.hp[\"resolution\"] = 224\n",
    "DEFAULT_CFG.hp[\"to_grayscale\"] = False\n",
    "DEFAULT_CFG.hp[\"num_channels\"] = 3"
   ]
  },
  {
   "cell_type": "code",
   "execution_count": null,
   "id": "3a1feb84-8fb7-436c-bf59-59f2c32b6fff",
   "metadata": {},
   "outputs": [],
   "source": [
    "pp(OmegaConf.to_container(DEFAULT_CFG, resolve=True))"
   ]
  },
  {
   "cell_type": "code",
   "execution_count": null,
   "id": "dbf51b9c-5c1d-496f-9f9f-b897b94d2f79",
   "metadata": {},
   "outputs": [],
   "source": []
  },
  {
   "cell_type": "code",
   "execution_count": null,
   "id": "578b707f-92a9-4693-b24b-3150d200e639",
   "metadata": {},
   "outputs": [],
   "source": []
  },
  {
   "cell_type": "code",
   "execution_count": null,
   "id": "63791f6b-b976-4147-9c40-6ff976161e3c",
   "metadata": {},
   "outputs": [],
   "source": [
    "herb_cfg = Herbarium2022DataModuleConfig()\n",
    "extant_cfg = ExtantLeavesDataModuleConfig()\n",
    "\n",
    "herb_cfg\n",
    "# pp(cfg)\n",
    "\n",
    "# dir(extant_cfg)\n",
    "print(\"Extant\")\n",
    "pp([(f.name, f.default) for f in dataclasses.fields(extant_cfg)])\n",
    "\n",
    "print(\"Herbarium\")\n",
    "pp([(f.name, f.default) for f in dataclasses.fields(herb_cfg)])\n",
    "\n",
    "@dataclass\n",
    "class DataModuleConfig:\n",
    "\n",
    "\tcatalog_dir: str=None\n",
    "\tlabel_col: str=\"family\"\n",
    "\tshuffle: bool=True\n",
    "\tseed:int=14\n",
    "\tbatch_size: int=128\n",
    "\tnum_workers: int=4\n",
    "\tpin_memory: bool=True\n",
    "\tpersistent_workers: Optional[bool]=False\n",
    "\ttransform_cfg: Optional[\"Config\"]=None\n",
    "\tto_grayscale: bool=False\n",
    "\tnum_channels: int=3\n",
    "\tremove_transforms: bool=False\n",
    "\n",
    "\n",
    "\n",
    "@dataclass\n",
    "class ExtantLeavesDataModuleConfig(DataModuleConfig):\n",
    "\n",
    "\tcatalog_dir: str=\"/media/data_cifs/projects/prj_fossils/users/jacob/data/leavesdb-v1_1/extant_leaves_family_3_512\"\n",
    "\tlabel_col: str=\"family\"\n",
    "\tsplits: Tuple[float]=(0.5,0.2,0.3)\n",
    "\n",
    "\n",
    "@dataclass\n",
    "class FossilLeavesDataModuleConfig(DataModuleConfig):\n",
    "\n",
    "\tcatalog_dir: str=\"/media/data_cifs/projects/prj_fossils/users/jacob/data/leavesdb-v1_1/Fossil_family_3_512\"\n",
    "\tlabel_col: str=\"family\"\n",
    "\tsplits: Tuple[float]=(0.5,0.2,0.3)\n",
    "\n",
    "\n",
    "@dataclass\n",
    "class PNASDataModuleConfig(DataModuleConfig):\n",
    "\n",
    "\tcatalog_dir: str=\"/media/data_cifs/projects/prj_fossils/users/jacob/data/leavesdb-v1_1/PNAS_family_100_512\"\n",
    "\tlabel_col: str=\"family\"\n",
    "\tsplits: Tuple[float]=(0.5,0.2,0.3)\n",
    "\n",
    "\n",
    "\n",
    "############################\n",
    "############################\n",
    "\n",
    "@dataclass\n",
    "class Herbarium2022DataModuleConfig(DataModuleConfig):\n",
    "\n",
    "\tcatalog_dir: str=\"/media/data_cifs/projects/prj_fossils/data/raw_data/herbarium-2022-fgvc9_resize-512/catalogs\" #/splits/train_size-0.8\"\n",
    "\tlabel_col: str=\"scientificName\"\n",
    "\ttrain_size: float=0.8"
   ]
  },
  {
   "cell_type": "code",
   "execution_count": null,
   "id": "5f5fdd75-9f20-49ad-8afe-ebd1e2b61128",
   "metadata": {},
   "outputs": [],
   "source": []
  },
  {
   "cell_type": "code",
   "execution_count": null,
   "id": "4b2eb96b-6dc8-4ca7-96d3-c5cc08cc3b6c",
   "metadata": {},
   "outputs": [],
   "source": []
  },
  {
   "cell_type": "code",
   "execution_count": null,
   "id": "bc27012d-d854-4c1e-b91f-330dbd50ac20",
   "metadata": {},
   "outputs": [],
   "source": []
  },
  {
   "cell_type": "code",
   "execution_count": null,
   "id": "463d06c6-bf48-4358-9ed6-ba1c77c82937",
   "metadata": {},
   "outputs": [],
   "source": []
  },
  {
   "cell_type": "code",
   "execution_count": null,
   "id": "4c27eac0-a7fd-4fbc-a7f0-e506ad49211d",
   "metadata": {},
   "outputs": [],
   "source": [
    "# dir(extant_cfg)\n",
    "\n",
    "dir(dataclasses)"
   ]
  },
  {
   "cell_type": "code",
   "execution_count": null,
   "id": "913a5499-e84b-4ad1-b69a-f3cd6489b582",
   "metadata": {},
   "outputs": [],
   "source": [
    "dir(extant_cfg)"
   ]
  },
  {
   "cell_type": "code",
   "execution_count": null,
   "id": "1ee27aa8-7f8d-4716-8a69-858f7eb2ea72",
   "metadata": {},
   "outputs": [],
   "source": []
  },
  {
   "cell_type": "code",
   "execution_count": null,
   "id": "2893909e-e557-4b3a-9c21-0a829fe763e2",
   "metadata": {},
   "outputs": [],
   "source": []
  },
  {
   "cell_type": "code",
   "execution_count": null,
   "id": "b4269b57-f16d-4ded-93cf-546bf804729a",
   "metadata": {},
   "outputs": [],
   "source": [
    "herb_dm_args = dict(catalog_dir=None,\n",
    "                    label_col=\"scientificName\",\n",
    "                    train_size=0.8,\n",
    "                    smallest_taxon_col=\"Species\",\n",
    "                    shuffle=True,\n",
    "                    seed=14,\n",
    "                    batch_size = 128,\n",
    "                    num_workers = None,\n",
    "                    pin_memory=True,\n",
    "                    persistent_workers=False,\n",
    "                    train_transform=None,\n",
    "                    val_transform=None,\n",
    "                    test_transform=None,\n",
    "                    transform_cfg=None,\n",
    "                    to_grayscale=False,\n",
    "                    num_channels=3,\n",
    "                    remove_transforms=False,\n",
    "                    image_reader=\"default\")"
   ]
  },
  {
   "cell_type": "code",
   "execution_count": null,
   "id": "666dafa1-427b-4005-aaa4-f9a7a80612c0",
   "metadata": {},
   "outputs": [],
   "source": [
    "extant_dm_args = dict(catalog_dir=None,\n",
    "                      label_col=\"family\",\n",
    "                      splits=(0.5,0.2,0.3),\n",
    "                      smallest_taxon_col=\"Species\",\n",
    "                      shuffle=True,\n",
    "                      seed=14,\n",
    "                      batch_size = 128,\n",
    "                      num_workers = None,\n",
    "                      pin_memory=True,\n",
    "                      persistent_workers=False,\n",
    "                      train_transform=None,\n",
    "                      val_transform=None,\n",
    "                      test_transform=None,\n",
    "                      transform_cfg=None,\n",
    "                      to_grayscale=False,\n",
    "                      num_channels=3,\n",
    "                      remove_transforms=False,\n",
    "                      image_reader=\"default\")"
   ]
  },
  {
   "cell_type": "code",
   "execution_count": null,
   "id": "9d683051-fc35-474c-97b4-7107e25ddbd4",
   "metadata": {},
   "outputs": [],
   "source": [
    "set(extant_dm_args) - set(herb_dm_args)"
   ]
  },
  {
   "cell_type": "code",
   "execution_count": null,
   "id": "fea4c349-c39d-45ea-8848-0468dba2c5d6",
   "metadata": {},
   "outputs": [],
   "source": [
    "set(herb_dm_args) - set(extant_dm_args)"
   ]
  },
  {
   "cell_type": "code",
   "execution_count": null,
   "id": "731d2ff2-ccf7-40f8-b33a-c25439433966",
   "metadata": {},
   "outputs": [],
   "source": [
    "for k,v in herb_dm_args.items():\n",
    "    print(f\"Herb -> {k}:{v}\")\n",
    "    if k in extant_dm_args:\n",
    "        print(f\"Extant -> {k}:{extant_dm_args[k]}\")\n",
    "    print(\"-\"*20)"
   ]
  },
  {
   "cell_type": "code",
   "execution_count": null,
   "id": "001c9a47-e2a2-497a-8206-47dd9bee7b76",
   "metadata": {},
   "outputs": [],
   "source": []
  },
  {
   "cell_type": "code",
   "execution_count": null,
   "id": "f2f87a17-f44e-49ae-91a7-4e44ccd384e8",
   "metadata": {},
   "outputs": [],
   "source": []
  },
  {
   "cell_type": "code",
   "execution_count": null,
   "id": "636b652d-efe1-404a-8cab-8aec86391419",
   "metadata": {},
   "outputs": [],
   "source": [
    "dm = Herbarium2022DataModule(catalog_dir: Optional[str]=None,\n",
    "\t\t\t\t label_col=\"scientificName\",\n",
    "\t\t\t\t train_size=0.8,\n",
    "\t\t\t\t smallest_taxon_col: str=\"Species\",\n",
    "\t\t\t\t shuffle: bool=True,\n",
    "\t\t\t\t seed=14,\n",
    "\t\t\t\t batch_size: int = 128,\n",
    "\t\t\t\t num_workers: int = None,\n",
    "\t\t\t\t pin_memory: bool=True,\n",
    "\t\t\t\t persistent_workers: Optional[bool]=False,\n",
    "\t\t\t\t train_transform=None,\n",
    "\t\t\t\t val_transform=None,\n",
    "\t\t\t\t test_transform=None,\n",
    "\t\t\t\t transform_cfg=None,\n",
    "\t\t\t\t to_grayscale: bool=False,\n",
    "\t\t\t\t num_channels: int=3,\n",
    "\t\t\t\t remove_transforms: bool=False,\n",
    "\t\t\t\t image_reader: Callable=\"default\", #Image.open,"
   ]
  },
  {
   "cell_type": "code",
   "execution_count": null,
   "id": "67f3a47b-44e6-4d70-9db0-03d1829a9b25",
   "metadata": {},
   "outputs": [],
   "source": [
    "dm = ExtantLeavesDataModule(catalog_dir: Optional[str]=None,\n",
    "\t\t\t\t label_col=\"family\",\n",
    "\t\t\t\t splits: Tuple[float]=(0.5,0.2,0.3),\n",
    "\t\t\t\t smallest_taxon_col: str=\"Species\",\n",
    "\t\t\t\t shuffle: bool=True,\n",
    "\t\t\t\t seed=14,\n",
    "\t\t\t\t batch_size: int = 128,\n",
    "\t\t\t\t num_workers: int = None,\n",
    "\t\t\t\t pin_memory: bool=True,\n",
    "\t\t\t\t persistent_workers: Optional[bool]=False,\n",
    "\t\t\t\t train_transform=None,\n",
    "\t\t\t\t val_transform=None,\n",
    "\t\t\t\t test_transform=None,\n",
    "\t\t\t\t transform_cfg=None,\n",
    "\t\t\t\t to_grayscale: bool=False,\n",
    "\t\t\t\t num_channels: int=3,\n",
    "\t\t\t\t remove_transforms: bool=False,\n",
    "\t\t\t\t image_reader: Callable=\"default\", #Image.open,\n",
    "\t\t\t\t **kwargs"
   ]
  }
 ],
 "metadata": {
  "kernelspec": {
   "display_name": "Python 3 (ipykernel)",
   "language": "python",
   "name": "python3"
  },
  "language_info": {
   "codemirror_mode": {
    "name": "ipython",
    "version": 3
   },
   "file_extension": ".py",
   "mimetype": "text/x-python",
   "name": "python",
   "nbconvert_exporter": "python",
   "pygments_lexer": "ipython3",
   "version": "3.8.13"
  }
 },
 "nbformat": 4,
 "nbformat_minor": 5
}
