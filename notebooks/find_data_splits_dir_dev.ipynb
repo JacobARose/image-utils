{
 "cells": [
  {
   "cell_type": "markdown",
   "id": "f8fbad3a-e268-45ff-ab04-9b1e107347a7",
   "metadata": {},
   "source": [
    "## find_data_splits_dir_dev.ipynb\n",
    "\n",
    "Added on: Thursday April 21st, 2022  \n",
    "Adapted by: Jacob Alexander Rose  "
   ]
  },
  {
   "cell_type": "code",
   "execution_count": 6,
   "id": "ed8a2dfd-31a7-4b9e-b7de-f768fbe05ecb",
   "metadata": {},
   "outputs": [
    {
     "data": {
      "text/plain": [
       "384"
      ]
     },
     "execution_count": 6,
     "metadata": {},
     "output_type": "execute_result"
    }
   ],
   "source": [
    "256+128"
   ]
  },
  {
   "cell_type": "code",
   "execution_count": 5,
   "id": "b0282b76-2617-4bf9-be73-04bec3e79bc7",
   "metadata": {},
   "outputs": [
    {
     "data": {
      "text/plain": [
       "'2.619000e-03'"
      ]
     },
     "execution_count": 5,
     "metadata": {},
     "output_type": "execute_result"
    }
   ],
   "source": [
    "f\"{3*1.746e-3/2:e}\""
   ]
  },
  {
   "cell_type": "code",
   "execution_count": 1,
   "id": "f93a12b9-2786-4e8b-b7cd-65122c3ee520",
   "metadata": {},
   "outputs": [
    {
     "name": "stdout",
     "output_type": "stream",
     "text": [
      "Importing imutils\n"
     ]
    }
   ],
   "source": [
    "%load_ext autoreload\n",
    "%autoreload 2\n",
    "\n",
    "\n",
    "import lmdb\n",
    "\n",
    "from imutils.ml.utils.etl_utils import ETL\n",
    "from omegaconf import DictConfig, OmegaConf\n",
    "import os\n",
    "from rich import print as pp\n",
    "import hydra\n",
    "\n",
    "\n",
    "import numpy as np\n",
    "import pyarrow as pa\n",
    "pa.__version__\n",
    "\n",
    "from typing import *\n",
    "import inspect\n",
    "from tqdm.auto import tqdm\n",
    "import pandas as pd\n",
    "from pathlib import Path\n",
    "from imutils.ml.utils.template_utils import get_logger\n",
    "import logging\n",
    "\n",
    "logger = get_logger(name=__name__, level=logging.INFO)"
   ]
  },
  {
   "cell_type": "code",
   "execution_count": 2,
   "id": "7704bd6d-ac05-410f-9c75-da6873eddf6d",
   "metadata": {},
   "outputs": [],
   "source": [
    "import imutils\n",
    "\n",
    "HERBARIUM_ROOT_DEFAULT = os.environ.get(\"HERBARIUM_ROOT_DEFAULT\")\n",
    "CATALOG_DIR = os.environ.get(\"CATALOG_DIR\")\n",
    "SPLITS_DIR = os.environ.get(\"SPLITS_DIR\")"
   ]
  },
  {
   "cell_type": "code",
   "execution_count": 62,
   "id": "185689af-5302-441f-bae2-4e0dcec29f0a",
   "metadata": {},
   "outputs": [],
   "source": [
    "def find_data_splits_dir(source_dir: str,\n",
    "                         stratify_col: str=\"scientificName\",\n",
    "                         train_size: float=None,\n",
    "                         splits: Tuple[float]=(0.5, 0.2, 0.3)) -> Path:\n",
    "    \"\"\"\n",
    "    Given a base path of `source_dir`, construct the correct data split dir path using chosen train_size.\n",
    "    \n",
    "    [TODO] Formalize the test cases for this function\n",
    "    \"\"\"\n",
    "\n",
    "    source_dir = Path(source_dir)\n",
    "    stratify_str = f\"stratify-{stratify_col}\"\n",
    "    if \"splits\" not in str(source_dir):\n",
    "        source_dir = source_dir / \"splits\"\n",
    "    # os.makedirs(source_dir, exist_ok=True)\n",
    "\n",
    "    if isinstance(train_size, float) and splits is None:    \n",
    "        splits_subdir_str = f\"train_size-{train_size:.1f}\"\n",
    "    else:\n",
    "        splits_subdir_str = f\"splits-({splits[0]:.1f},{splits[1]:.1f},{splits[2]:.1f})\"\n",
    "        \n",
    "    splits_subdir_str_base = splits_subdir_str.split(\"-\")[0] + \"-\"\n",
    "        \n",
    "\n",
    "    if splits_subdir_str in str(source_dir):\n",
    "        print(0)\n",
    "        return source_dir\n",
    "    elif splits_subdir_str_base in source_dir.name:\n",
    "        print(1)\n",
    "        return source_dir.parent / splits_subdir_str\n",
    "    if stratify_str in str(source_dir.name):\n",
    "        print(2)\n",
    "        return source_dir / splits_subdir_str\n",
    "    elif \"stratify\" in str(source_dir.name):\n",
    "        print(3)\n",
    "        return source_dir.parent / stratify_dir / splits_subdir_str\n",
    "    else:\n",
    "        print(4)\n",
    "        return source_dir / stratify_str / splits_subdir_str\n",
    "\n",
    "    \n",
    "    \n",
    "    \n",
    "#     if isinstance(train_size, float) and splits is None:    \n",
    "#         train_split_str = f\"train_size-{train_size:.1f}\"\n",
    "#         if train_split_str in str(source_dir):\n",
    "#             return source_dir\n",
    "#         elif \"train\" in source_dir.name:\n",
    "#             return source_dir.parent / train_split_str\n",
    "#         if stratify_str in str(source_dir):\n",
    "#             return source_dir / train_split_str\n",
    "#         else:\n",
    "#             return source_dir / stratify_str / train_split_str\n",
    "    \n",
    "#     else:\n",
    "#         splits_subdir_str = f\"splits=({splits[0]:.1f},{splits[1]:.1f},{splits[2]:.1f})\"\n",
    "\n",
    "#         if splits_subdir_str in str(source_dir):\n",
    "#             return source_dir\n",
    "#         elif \"splits=\" in source_dir.name:\n",
    "#             return source_dir.parent / splits_subdir_str\n",
    "#         if stratify_str in str(source_dir):\n",
    "#             return source_dir / splits_subdir_str\n",
    "#         else:\n",
    "#             return source_dir / stratify_str / splits_subdir_str\n"
   ]
  },
  {
   "cell_type": "markdown",
   "id": "29d1483d-0424-4de9-884c-2aae4e18a038",
   "metadata": {},
   "source": [
    "## Testing type I. train_size-based splits"
   ]
  },
  {
   "cell_type": "code",
   "execution_count": 63,
   "id": "476dd800-cc35-40c1-b5c6-f306dcf8605f",
   "metadata": {},
   "outputs": [],
   "source": [
    "source_dir = SPLITS_DIR\n",
    "stratify_col=\"scientificName\"\n",
    "train_size=0.7\n",
    "splits=None"
   ]
  },
  {
   "cell_type": "code",
   "execution_count": 64,
   "id": "973e992c-0a91-4107-a599-0bd872fa8d39",
   "metadata": {},
   "outputs": [
    {
     "name": "stdout",
     "output_type": "stream",
     "text": [
      "1\n",
      "Input: /media/data/home/jrose3/data_cache/herbarium-2022-fgvc9_resize-512/catalogs/splits/stratify-scientificName/train_size-0.8\n",
      "Found: /media/data/home/jrose3/data_cache/herbarium-2022-fgvc9_resize-512/catalogs/splits/stratify-scientificName/train_size-0.7\n"
     ]
    }
   ],
   "source": [
    "found_split_dir = find_data_splits_dir(source_dir=source_dir,\n",
    "                                       stratify_col=stratify_col,\n",
    "                                       train_size=train_size,\n",
    "                                       splits=splits)\n",
    "print(f\"Input: {source_dir}\")\n",
    "print(f\"Found: {found_split_dir}\")"
   ]
  },
  {
   "cell_type": "code",
   "execution_count": 65,
   "id": "52f8d133-b502-47bb-b3d7-60986083865e",
   "metadata": {},
   "outputs": [
    {
     "name": "stdout",
     "output_type": "stream",
     "text": [
      "1\n",
      "Input: /media/data/home/jrose3/data_cache/herbarium-2022-fgvc9_resize-512/catalogs/splits/stratify-scientificName\n",
      "Found: /media/data/home/jrose3/data_cache/herbarium-2022-fgvc9_resize-512/catalogs/splits/stratify-scientificName/train_size-0.7\n"
     ]
    }
   ],
   "source": [
    "input_dir = Path(source_dir).parent\n",
    "\n",
    "found_split_dir = find_data_splits_dir(source_dir=source_dir,\n",
    "                                       stratify_col=stratify_col,\n",
    "                                       train_size=train_size,\n",
    "                                       splits=splits)\n",
    "print(f\"Input: {input_dir}\")\n",
    "print(f\"Found: {found_split_dir}\")"
   ]
  },
  {
   "cell_type": "code",
   "execution_count": 66,
   "id": "190e5dcc-92ca-4fc6-850f-d30b242baa3e",
   "metadata": {},
   "outputs": [
    {
     "name": "stdout",
     "output_type": "stream",
     "text": [
      "1\n",
      "Input: /media/data/home/jrose3/data_cache/herbarium-2022-fgvc9_resize-512/catalogs/splits\n",
      "Found: /media/data/home/jrose3/data_cache/herbarium-2022-fgvc9_resize-512/catalogs/splits/stratify-scientificName/train_size-0.7\n"
     ]
    }
   ],
   "source": [
    "input_dir = Path(source_dir).parent.parent\n",
    "\n",
    "found_split_dir = find_data_splits_dir(source_dir=source_dir,\n",
    "                                       stratify_col=stratify_col,\n",
    "                                       train_size=train_size,\n",
    "                                       splits=splits)\n",
    "print(f\"Input: {input_dir}\")\n",
    "print(f\"Found: {found_split_dir}\")"
   ]
  },
  {
   "cell_type": "code",
   "execution_count": 67,
   "id": "51864bb3-fc32-435c-a69c-384226109ab5",
   "metadata": {},
   "outputs": [
    {
     "name": "stdout",
     "output_type": "stream",
     "text": [
      "1\n",
      "Input: /media/data/home/jrose3/data_cache/herbarium-2022-fgvc9_resize-512/catalogs\n",
      "Found: /media/data/home/jrose3/data_cache/herbarium-2022-fgvc9_resize-512/catalogs/splits/stratify-scientificName/train_size-0.7\n"
     ]
    }
   ],
   "source": [
    "input_dir = Path(source_dir).parent.parent.parent\n",
    "\n",
    "found_split_dir = find_data_splits_dir(source_dir=source_dir,\n",
    "                                       stratify_col=stratify_col,\n",
    "                                       train_size=train_size,\n",
    "                                       splits=splits)\n",
    "print(f\"Input: {input_dir}\")\n",
    "print(f\"Found: {found_split_dir}\")"
   ]
  },
  {
   "cell_type": "code",
   "execution_count": null,
   "id": "b63fc114-c23b-4dd0-8953-be5a416f58d8",
   "metadata": {},
   "outputs": [],
   "source": []
  },
  {
   "cell_type": "markdown",
   "id": "62155ac3-a425-47c0-a6c8-c794e52d39da",
   "metadata": {},
   "source": [
    "## Testing type II. tuple-based splits"
   ]
  },
  {
   "cell_type": "code",
   "execution_count": 73,
   "id": "28a4cabb-fab4-4c3a-bf40-1c5f1f57c6df",
   "metadata": {},
   "outputs": [],
   "source": [
    "source_dir = \" /media/data/home/jrose3/data_cache/herbarium-2022-fgvc9_resize-512/catalogs/splits/stratify-scientificName/splits-(0.5,0.3,0.2)\"\n",
    "stratify_col=\"scientificName\"\n",
    "train_size=None\n",
    "splits=(0.5,0.3,0.2)"
   ]
  },
  {
   "cell_type": "code",
   "execution_count": 74,
   "id": "23fd12bf-0c39-4dc8-843f-f0ffcead37ef",
   "metadata": {},
   "outputs": [
    {
     "name": "stdout",
     "output_type": "stream",
     "text": [
      "0\n",
      "Input:  /media/data/home/jrose3/data_cache/herbarium-2022-fgvc9_resize-512/catalogs/splits/stratify-scientificName/splits-(0.5,0.3,0.2)\n",
      "Found:  /media/data/home/jrose3/data_cache/herbarium-2022-fgvc9_resize-512/catalogs/splits/stratify-scientificName/splits-(0.5,0.3,0.2)\n"
     ]
    }
   ],
   "source": [
    "found_split_dir = find_data_splits_dir(source_dir=source_dir,\n",
    "                                       stratify_col=stratify_col,\n",
    "                                       train_size=train_size,\n",
    "                                       splits=splits)\n",
    "print(f\"Input: {source_dir}\")\n",
    "print(f\"Found: {found_split_dir}\")"
   ]
  },
  {
   "cell_type": "code",
   "execution_count": 75,
   "id": "7377c43b-515d-479a-87b2-15c66bdfe368",
   "metadata": {},
   "outputs": [
    {
     "name": "stdout",
     "output_type": "stream",
     "text": [
      "0\n",
      "Input:  /media/data/home/jrose3/data_cache/herbarium-2022-fgvc9_resize-512/catalogs/splits/stratify-scientificName\n",
      "Found:  /media/data/home/jrose3/data_cache/herbarium-2022-fgvc9_resize-512/catalogs/splits/stratify-scientificName/splits-(0.5,0.3,0.2)\n"
     ]
    }
   ],
   "source": [
    "input_dir = Path(source_dir).parent\n",
    "\n",
    "found_split_dir = find_data_splits_dir(source_dir=source_dir,\n",
    "                                       stratify_col=stratify_col,\n",
    "                                       train_size=train_size,\n",
    "                                       splits=splits)\n",
    "print(f\"Input: {input_dir}\")\n",
    "print(f\"Found: {found_split_dir}\")"
   ]
  },
  {
   "cell_type": "code",
   "execution_count": 76,
   "id": "e550b1ee-767c-4470-9191-6d13768114bb",
   "metadata": {},
   "outputs": [
    {
     "name": "stdout",
     "output_type": "stream",
     "text": [
      "0\n",
      "Input:  /media/data/home/jrose3/data_cache/herbarium-2022-fgvc9_resize-512/catalogs/splits\n",
      "Found:  /media/data/home/jrose3/data_cache/herbarium-2022-fgvc9_resize-512/catalogs/splits/stratify-scientificName/splits-(0.5,0.3,0.2)\n"
     ]
    }
   ],
   "source": [
    "input_dir = Path(source_dir).parent.parent\n",
    "\n",
    "found_split_dir = find_data_splits_dir(source_dir=source_dir,\n",
    "                                       stratify_col=stratify_col,\n",
    "                                       train_size=train_size,\n",
    "                                       splits=splits)\n",
    "print(f\"Input: {input_dir}\")\n",
    "print(f\"Found: {found_split_dir}\")"
   ]
  },
  {
   "cell_type": "code",
   "execution_count": 77,
   "id": "0474959f-ca35-4b6c-a30b-fc680ad221ba",
   "metadata": {},
   "outputs": [
    {
     "name": "stdout",
     "output_type": "stream",
     "text": [
      "0\n",
      "Input:  /media/data/home/jrose3/data_cache/herbarium-2022-fgvc9_resize-512/catalogs\n",
      "Found:  /media/data/home/jrose3/data_cache/herbarium-2022-fgvc9_resize-512/catalogs/splits/stratify-scientificName/splits-(0.5,0.3,0.2)\n"
     ]
    }
   ],
   "source": [
    "input_dir = Path(source_dir).parent.parent.parent\n",
    "\n",
    "found_split_dir = find_data_splits_dir(source_dir=source_dir,\n",
    "                                       stratify_col=stratify_col,\n",
    "                                       train_size=train_size,\n",
    "                                       splits=splits)\n",
    "print(f\"Input: {input_dir}\")\n",
    "print(f\"Found: {found_split_dir}\")"
   ]
  },
  {
   "cell_type": "code",
   "execution_count": null,
   "id": "538448ab-8ec7-4e24-88aa-18e61b60a090",
   "metadata": {},
   "outputs": [],
   "source": []
  },
  {
   "cell_type": "code",
   "execution_count": null,
   "id": "ec797112-88a4-47e0-8105-6717d70ff4a5",
   "metadata": {},
   "outputs": [],
   "source": []
  }
 ],
 "metadata": {
  "kernelspec": {
   "display_name": "Python 3 (ipykernel)",
   "language": "python",
   "name": "python3"
  },
  "language_info": {
   "codemirror_mode": {
    "name": "ipython",
    "version": 3
   },
   "file_extension": ".py",
   "mimetype": "text/x-python",
   "name": "python",
   "nbconvert_exporter": "python",
   "pygments_lexer": "ipython3",
   "version": "3.8.13"
  }
 },
 "nbformat": 4,
 "nbformat_minor": 5
}
