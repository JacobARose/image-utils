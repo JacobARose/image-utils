{
 "cells": [
  {
   "cell_type": "markdown",
   "id": "d6d4a8cd-4e6d-4cc0-bc55-dedc99912842",
   "metadata": {},
   "source": [
    "## find_data_splits_dir_unit_test_dev.ipynb\n",
    "\n",
    "Created on: Thursday April 7th, 2022  \n",
    "Created by: Jacob Alexander Rose  "
   ]
  },
  {
   "cell_type": "code",
   "execution_count": 1,
   "id": "9bc2fde7-fce4-4286-bfe6-aa46e17e2bab",
   "metadata": {},
   "outputs": [
    {
     "name": "stdout",
     "output_type": "stream",
     "text": [
      "Importing imutils\n"
     ]
    }
   ],
   "source": [
    "%load_ext autoreload\n",
    "%autoreload 2\n",
    "\n",
    "import os\n",
    "\n",
    "os.environ[\"CUDA_VISIBLE_DEVICES\"] = \"1\"\n",
    "\n",
    "\n",
    "from IPython.display import display\n",
    "from IPython.core.interactiveshell import InteractiveShell\n",
    "InteractiveShell.ast_node_interactivity = \"all\"\n",
    "\n",
    "\n",
    "import pandas as pd\n",
    "from pathlib import Path\n",
    "from icecream import ic\n",
    "from rich import print as pp\n",
    "import warnings\n",
    "warnings.simplefilter(action='ignore', category=FutureWarning)\n",
    "\n",
    "import pytorch_lightning as pl\n",
    "# from torchvision import transforms as T\n",
    "# import torchmetrics\n",
    "import argparse\n",
    "\n",
    "import wandb\n",
    "import matplotlib.pyplot as plt\n",
    "\n",
    "from hydra.experimental import compose, initialize, initialize_config_dir\n",
    "import hydra\n",
    "from omegaconf import DictConfig, OmegaConf\n",
    "from typing import *\n",
    "default_reader = None\n",
    "\n",
    "from imutils.ml.models.pl import classifier\n",
    "from imutils.ml.utils.experiment_utils import configure_callbacks, configure_loggers, configure_trainer\n",
    "# from imutils.big.datamodule import Herbarium2022DataModule, Herbarium2022Dataset\n",
    "from imutils.ml.data.datamodule import *\n",
    "from imutils.ml.utils.etl_utils import ETL\n",
    "import imutils\n",
    "\n",
    "# from dataclasses import dataclass, asdict, replace\n",
    "# from typing import *\n",
    "# from omegaconf import DictConfig, OmegaConf"
   ]
  },
  {
   "cell_type": "code",
   "execution_count": 2,
   "id": "6a1159bf-be70-4567-8365-7389ccb12cd8",
   "metadata": {},
   "outputs": [
    {
     "name": "stdout",
     "output_type": "stream",
     "text": [
      "self.transform_cfg:\n"
     ]
    },
    {
     "data": {
      "text/html": [
       "<pre style=\"white-space:pre;overflow-x:auto;line-height:normal;font-family:Menlo,'DejaVu Sans Mono',consolas,'Courier New',monospace\"><span style=\"font-weight: bold\">{</span><span style=\"color: #008000; text-decoration-color: #008000\">'preprocess'</span>: <span style=\"font-weight: bold\">{</span><span style=\"color: #008000; text-decoration-color: #008000\">'train'</span>: <span style=\"font-weight: bold\">{</span><span style=\"color: #008000; text-decoration-color: #008000\">'resize'</span>: <span style=\"color: #008080; text-decoration-color: #008080; font-weight: bold\">512</span><span style=\"font-weight: bold\">}</span>, <span style=\"color: #008000; text-decoration-color: #008000\">'val'</span>: <span style=\"font-weight: bold\">{</span><span style=\"color: #008000; text-decoration-color: #008000\">'resize'</span>: <span style=\"color: #008080; text-decoration-color: #008080; font-weight: bold\">256</span><span style=\"font-weight: bold\">}</span>, <span style=\"color: #008000; text-decoration-color: #008000\">'test'</span>: <span style=\"font-weight: bold\">{</span><span style=\"color: #008000; text-decoration-color: #008000\">'resize'</span>: <span style=\"color: #008080; text-decoration-color: #008080; font-weight: bold\">256</span><span style=\"font-weight: bold\">}}</span>, \n",
       "<span style=\"color: #008000; text-decoration-color: #008000\">'batch_transform'</span>: <span style=\"font-weight: bold\">{</span><span style=\"color: #008000; text-decoration-color: #008000\">'train'</span>: <span style=\"font-weight: bold\">{</span><span style=\"color: #008000; text-decoration-color: #008000\">'random_resize_crop'</span>: <span style=\"color: #008080; text-decoration-color: #008080; font-weight: bold\">224</span><span style=\"font-weight: bold\">}</span>, <span style=\"color: #008000; text-decoration-color: #008000\">'val'</span>: <span style=\"font-weight: bold\">{</span><span style=\"color: #008000; text-decoration-color: #008000\">'center_crop'</span>: <span style=\"color: #008080; text-decoration-color: #008080; font-weight: bold\">224</span><span style=\"font-weight: bold\">}</span>, \n",
       "<span style=\"color: #008000; text-decoration-color: #008000\">'test'</span>: <span style=\"font-weight: bold\">{</span><span style=\"color: #008000; text-decoration-color: #008000\">'center_crop'</span>: <span style=\"color: #008080; text-decoration-color: #008080; font-weight: bold\">224</span><span style=\"font-weight: bold\">}}</span>, <span style=\"color: #008000; text-decoration-color: #008000\">'normalize'</span>: <span style=\"font-weight: bold\">[[</span><span style=\"color: #008080; text-decoration-color: #008080; font-weight: bold\">0.485</span>, <span style=\"color: #008080; text-decoration-color: #008080; font-weight: bold\">0.456</span>, <span style=\"color: #008080; text-decoration-color: #008080; font-weight: bold\">0.406</span><span style=\"font-weight: bold\">]</span>, <span style=\"font-weight: bold\">[</span><span style=\"color: #008080; text-decoration-color: #008080; font-weight: bold\">0.229</span>, <span style=\"color: #008080; text-decoration-color: #008080; font-weight: bold\">0.224</span>, <span style=\"color: #008080; text-decoration-color: #008080; font-weight: bold\">0.225</span><span style=\"font-weight: bold\">]]}</span>\n",
       "</pre>\n"
      ],
      "text/plain": [
       "\u001b[1m{\u001b[0m\u001b[32m'preprocess'\u001b[0m: \u001b[1m{\u001b[0m\u001b[32m'train'\u001b[0m: \u001b[1m{\u001b[0m\u001b[32m'resize'\u001b[0m: \u001b[1;36m512\u001b[0m\u001b[1m}\u001b[0m, \u001b[32m'val'\u001b[0m: \u001b[1m{\u001b[0m\u001b[32m'resize'\u001b[0m: \u001b[1;36m256\u001b[0m\u001b[1m}\u001b[0m, \u001b[32m'test'\u001b[0m: \u001b[1m{\u001b[0m\u001b[32m'resize'\u001b[0m: \u001b[1;36m256\u001b[0m\u001b[1m}\u001b[0m\u001b[1m}\u001b[0m, \n",
       "\u001b[32m'batch_transform'\u001b[0m: \u001b[1m{\u001b[0m\u001b[32m'train'\u001b[0m: \u001b[1m{\u001b[0m\u001b[32m'random_resize_crop'\u001b[0m: \u001b[1;36m224\u001b[0m\u001b[1m}\u001b[0m, \u001b[32m'val'\u001b[0m: \u001b[1m{\u001b[0m\u001b[32m'center_crop'\u001b[0m: \u001b[1;36m224\u001b[0m\u001b[1m}\u001b[0m, \n",
       "\u001b[32m'test'\u001b[0m: \u001b[1m{\u001b[0m\u001b[32m'center_crop'\u001b[0m: \u001b[1;36m224\u001b[0m\u001b[1m}\u001b[0m\u001b[1m}\u001b[0m, \u001b[32m'normalize'\u001b[0m: \u001b[1m[\u001b[0m\u001b[1m[\u001b[0m\u001b[1;36m0.485\u001b[0m, \u001b[1;36m0.456\u001b[0m, \u001b[1;36m0.406\u001b[0m\u001b[1m]\u001b[0m, \u001b[1m[\u001b[0m\u001b[1;36m0.229\u001b[0m, \u001b[1;36m0.224\u001b[0m, \u001b[1;36m0.225\u001b[0m\u001b[1m]\u001b[0m\u001b[1m]\u001b[0m\u001b[1m}\u001b[0m\n"
      ]
     },
     "metadata": {},
     "output_type": "display_data"
    },
    {
     "name": "stdout",
     "output_type": "stream",
     "text": [
      "self.normalize: [[0.485, 0.456, 0.406], [0.229, 0.224, 0.225]]\n",
      "self.normalize: [[0.485, 0.456, 0.406], [0.229, 0.224, 0.225]]\n",
      "self.normalize: [[0.485, 0.456, 0.406], [0.229, 0.224, 0.225]]\n"
     ]
    },
    {
     "name": "stderr",
     "output_type": "stream",
     "text": [
      "ic| subset: 'train'\n",
      "    num_samples: 671817\n",
      "    num_batches: 5249\n",
      "    self.num_classes: 15501\n",
      "    self.batch_size: 128\n",
      "ic| subset: 'val'\n",
      "    num_samples: 167955\n",
      "    num_batches: 1313\n",
      "    self.num_classes: 15501\n",
      "    self.batch_size: 128\n",
      "ic| subset: 'test'\n",
      "    num_samples: 210407\n",
      "    num_batches: 1644\n",
      "    self.num_classes: 15501\n",
      "    self.batch_size: 128\n"
     ]
    }
   ],
   "source": [
    "# ds = ExtantLeavesDataset(label_col='genus')\n",
    "\n",
    "# dm = ExtantLeavesDataModule(label_col='genus')\n",
    "dm = Herbarium2022DataModule(label_col='genus')"
   ]
  },
  {
   "cell_type": "code",
   "execution_count": 3,
   "id": "389925b7-bb5e-46bb-a07a-73345f5c789f",
   "metadata": {},
   "outputs": [
    {
     "data": {
      "text/plain": [
       "Herbarium2022DataModuleConfig(catalog_dir='/media/data_cifs/projects/prj_fossils/data/raw_data/herbarium-2022-fgvc9_resize-512/catalogs/splits/train_size-0.8', subset='train', label_col='genus', train_size=0.8, shuffle=True, seed=14, batch_size=128, num_workers=16, pin_memory=True, persistent_workers=False, transform_cfg={'preprocess': {'train': {'resize': 512}, 'val': {'resize': 256}, 'test': {'resize': 256}}, 'batch_transform': {'train': {'random_resize_crop': 224}, 'val': {'center_crop': 224}, 'test': {'center_crop': 224}}, 'normalize': [[0.485, 0.456, 0.406], [0.229, 0.224, 0.225]]}, remove_transforms=False)"
      ]
     },
     "execution_count": 3,
     "metadata": {},
     "output_type": "execute_result"
    }
   ],
   "source": [
    "dm.get_cfg()"
   ]
  },
  {
   "cell_type": "code",
   "execution_count": 4,
   "id": "afa08b18-aacc-4d61-a8da-2547aea56e22",
   "metadata": {},
   "outputs": [
    {
     "data": {
      "text/plain": [
       "Herbarium2022DataModuleConfig(catalog_dir='/media/data_cifs/projects/prj_fossils/data/raw_data/herbarium-2022-fgvc9_resize-512/catalogs/splits/train_size-0.8', subset='train', label_col='genus', train_size=0.8, shuffle=True, seed=14, batch_size=128, num_workers=16, pin_memory=True, persistent_workers=False, transform_cfg={'preprocess': {'train': {'resize': 512}, 'val': {'resize': 256}, 'test': {'resize': 256}}, 'batch_transform': {'train': {'random_resize_crop': 224}, 'val': {'center_crop': 224}, 'test': {'center_crop': 224}}, 'normalize': [[0.485, 0.456, 0.406], [0.229, 0.224, 0.225]]}, remove_transforms=False)"
      ]
     },
     "execution_count": 4,
     "metadata": {},
     "output_type": "execute_result"
    }
   ],
   "source": [
    "dm.cfg"
   ]
  },
  {
   "cell_type": "code",
   "execution_count": null,
   "id": "a1927236-546a-4e59-9805-44ffc8e14189",
   "metadata": {},
   "outputs": [],
   "source": []
  },
  {
   "cell_type": "code",
   "execution_count": 30,
   "id": "1c449956-dcdc-4472-9a54-722b8719eb65",
   "metadata": {},
   "outputs": [],
   "source": [
    "def find_data_splits_dir(source_dir: str,\n",
    "\t\t\t\t\t\t train_size: float=0.7) -> Path:\n",
    "    \"\"\"\n",
    "    Given a base path of `source_dir`, construct the correct data split dir path using chosen train_size.\n",
    "    \"\"\"\n",
    "\n",
    "    if f\"train_size-{train_size:.1f}\" in str(source_dir):\n",
    "        return source_dir\n",
    "        # print(f\"Returning in 1st block -> source_dir: {source_dir}\")\n",
    "    \n",
    "    out_dir = Path(source_dir)\n",
    "    \n",
    "    train_split_subdir = out_dir.parts[-1] \n",
    "    if train_split_subdir.split(\"-\")[0] == \"train_size\":\n",
    "        if train_split_subdir.split(\"-\")[0] != f\"{train_size:.1f}\":\n",
    "            return Path(*out_dir.parts[:-1], f\"train_size-{train_size:.1f}\")\n",
    "        return out_dir\n",
    "\n",
    "    if \"splits\" not in out_dir.parts[-2:]:\n",
    "        out_dir = out_dir / \"splits\"\n",
    "\n",
    "    out_dir = out_dir / f\"train_size-{train_size:.1f}\"\n",
    "    return out_dir\n",
    "\n",
    "\n",
    "# print(f\"Returning in last block -> out_dir: {out_dir}\")"
   ]
  },
  {
   "cell_type": "code",
   "execution_count": 31,
   "id": "6b89a013-d993-432b-bd06-9ee4998f581c",
   "metadata": {},
   "outputs": [],
   "source": [
    "source_dir='/media/data_cifs/projects/prj_fossils/data/raw_data/herbarium-2022-fgvc9_resize-512/catalogs/splits/train_size-0.8'\n",
    "train_size=0.7"
   ]
  },
  {
   "cell_type": "code",
   "execution_count": 32,
   "id": "e9d51f77-1d43-410e-9804-4979ce8083ba",
   "metadata": {},
   "outputs": [
    {
     "name": "stdout",
     "output_type": "stream",
     "text": [
      "/media/data_cifs/projects/prj_fossils/data/raw_data/herbarium-2022-fgvc9_resize-512/catalogs/splits/train_size-0.7\n"
     ]
    }
   ],
   "source": [
    "result = find_data_splits_dir(source_dir=source_dir,\n",
    "                     train_size=train_size)\n",
    "\n",
    "print(result)"
   ]
  },
  {
   "cell_type": "code",
   "execution_count": 33,
   "id": "169cd162-bc8f-4455-9209-5905baf128bc",
   "metadata": {},
   "outputs": [],
   "source": [
    "source_dir='/media/data_cifs/projects/prj_fossils/data/raw_data/herbarium-2022-fgvc9_resize-512/catalogs/splits/train_size-0.8'\n",
    "train_size=0.8"
   ]
  },
  {
   "cell_type": "code",
   "execution_count": 34,
   "id": "e509c697-f324-434d-8440-db70a871d6bd",
   "metadata": {},
   "outputs": [
    {
     "name": "stdout",
     "output_type": "stream",
     "text": [
      "/media/data_cifs/projects/prj_fossils/data/raw_data/herbarium-2022-fgvc9_resize-512/catalogs/splits/train_size-0.8\n"
     ]
    }
   ],
   "source": [
    "result = find_data_splits_dir(source_dir=source_dir,\n",
    "                     train_size=train_size)\n",
    "\n",
    "print(result)"
   ]
  },
  {
   "cell_type": "code",
   "execution_count": 35,
   "id": "6a633e35-4f93-4fb0-822d-f8a9770f5077",
   "metadata": {},
   "outputs": [],
   "source": [
    "source_dir='/media/data_cifs/projects/prj_fossils/data/raw_data/herbarium-2022-fgvc9_resize-512/catalogs/splits'\n",
    "train_size=0.7"
   ]
  },
  {
   "cell_type": "code",
   "execution_count": 36,
   "id": "42dc504c-166e-4d79-b917-baae5e0e18ea",
   "metadata": {},
   "outputs": [
    {
     "name": "stdout",
     "output_type": "stream",
     "text": [
      "/media/data_cifs/projects/prj_fossils/data/raw_data/herbarium-2022-fgvc9_resize-512/catalogs/splits/train_size-0.7\n"
     ]
    }
   ],
   "source": [
    "result = find_data_splits_dir(source_dir=source_dir,\n",
    "                     train_size=train_size)\n",
    "\n",
    "print(result)"
   ]
  },
  {
   "cell_type": "code",
   "execution_count": 37,
   "id": "11f1ced3-dfa7-49e0-a5ab-f6f06124c392",
   "metadata": {},
   "outputs": [],
   "source": [
    "source_dir='/media/data_cifs/projects/prj_fossils/data/raw_data/herbarium-2022-fgvc9_resize-512/catalogs/splits'\n",
    "train_size=0.8"
   ]
  },
  {
   "cell_type": "code",
   "execution_count": 38,
   "id": "0ba9ec64-ffe8-47b0-b5f0-bfcc04bda584",
   "metadata": {},
   "outputs": [
    {
     "name": "stdout",
     "output_type": "stream",
     "text": [
      "/media/data_cifs/projects/prj_fossils/data/raw_data/herbarium-2022-fgvc9_resize-512/catalogs/splits/train_size-0.8\n"
     ]
    }
   ],
   "source": [
    "result = find_data_splits_dir(source_dir=source_dir,\n",
    "                     train_size=train_size)\n",
    "\n",
    "print(result)"
   ]
  },
  {
   "cell_type": "code",
   "execution_count": 39,
   "id": "aee0a649-a6b6-4382-a690-fb8f68cfa288",
   "metadata": {},
   "outputs": [],
   "source": [
    "source_dir='/media/data_cifs/projects/prj_fossils/data/raw_data/herbarium-2022-fgvc9_resize-512/catalogs'\n",
    "train_size=0.7"
   ]
  },
  {
   "cell_type": "code",
   "execution_count": 40,
   "id": "75c90534-0cfa-4420-af3f-d2643e1e5b6e",
   "metadata": {},
   "outputs": [
    {
     "name": "stdout",
     "output_type": "stream",
     "text": [
      "/media/data_cifs/projects/prj_fossils/data/raw_data/herbarium-2022-fgvc9_resize-512/catalogs/splits/train_size-0.7\n"
     ]
    }
   ],
   "source": [
    "result = find_data_splits_dir(source_dir=source_dir,\n",
    "                     train_size=train_size)\n",
    "\n",
    "print(result)"
   ]
  },
  {
   "cell_type": "code",
   "execution_count": 41,
   "id": "b3ef79aa-0306-4b27-89ec-a9bed7c20226",
   "metadata": {},
   "outputs": [],
   "source": [
    "source_dir='/media/data_cifs/projects/prj_fossils/data/raw_data/herbarium-2022-fgvc9_resize-512/catalogs'\n",
    "train_size=0.8"
   ]
  },
  {
   "cell_type": "code",
   "execution_count": 42,
   "id": "95f883d5-2014-4e26-ac44-f40869200d6b",
   "metadata": {},
   "outputs": [
    {
     "name": "stdout",
     "output_type": "stream",
     "text": [
      "/media/data_cifs/projects/prj_fossils/data/raw_data/herbarium-2022-fgvc9_resize-512/catalogs/splits/train_size-0.8\n"
     ]
    }
   ],
   "source": [
    "result = find_data_splits_dir(source_dir=source_dir,\n",
    "                     train_size=train_size)\n",
    "\n",
    "print(result)"
   ]
  },
  {
   "cell_type": "code",
   "execution_count": null,
   "id": "cfc7a3f4-6c32-42ba-b800-8016a1186365",
   "metadata": {},
   "outputs": [],
   "source": []
  },
  {
   "cell_type": "code",
   "execution_count": null,
   "id": "fbe830ec-b5e9-424d-b85e-5ec749c755ea",
   "metadata": {},
   "outputs": [],
   "source": []
  },
  {
   "cell_type": "code",
   "execution_count": null,
   "id": "7c87379d-ae4a-47b6-8a96-cae7d4de72dc",
   "metadata": {},
   "outputs": [],
   "source": []
  }
 ],
 "metadata": {
  "kernelspec": {
   "display_name": "Python 3 (ipykernel)",
   "language": "python",
   "name": "python3"
  },
  "language_info": {
   "codemirror_mode": {
    "name": "ipython",
    "version": 3
   },
   "file_extension": ".py",
   "mimetype": "text/x-python",
   "name": "python",
   "nbconvert_exporter": "python",
   "pygments_lexer": "ipython3",
   "version": "3.8.12"
  }
 },
 "nbformat": 4,
 "nbformat_minor": 5
}
