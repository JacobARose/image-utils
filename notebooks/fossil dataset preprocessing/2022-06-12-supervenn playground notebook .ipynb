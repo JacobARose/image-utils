{
 "cells": [
  {
   "cell_type": "markdown",
   "id": "9119696f-234e-4e36-a174-ea857fd4bc1e",
   "metadata": {},
   "source": [
    "# `supervenn` playground notebook\n",
    "\n",
    "Created on: Sunday June 12th, 2022  \n",
    "Created by: Jacob A Rose"
   ]
  },
  {
   "cell_type": "code",
   "execution_count": null,
   "id": "e5fd92ff-01bb-4747-9985-76e9d3820a14",
   "metadata": {
    "tags": []
   },
   "outputs": [],
   "source": [
    "#!pip3 install supervenn"
   ]
  },
  {
   "cell_type": "code",
   "execution_count": null,
   "id": "1e69e750-f081-45e8-b2e9-93aa6e178b8c",
   "metadata": {},
   "outputs": [],
   "source": []
  },
  {
   "cell_type": "code",
   "execution_count": null,
   "id": "31850542-6cc6-4db9-bdc2-7ec22b696dc7",
   "metadata": {},
   "outputs": [],
   "source": [
    "%load_ext autoreload\n",
    "%autoreload 2\n",
    "\n",
    "\n",
    "from omegaconf import DictConfig, OmegaConf\n",
    "import os\n",
    "from rich import print as pp\n",
    "\n",
    "import numpy as np\n",
    "from typing import *\n",
    "import inspect\n",
    "from tqdm.auto import tqdm\n",
    "import pandas as pd\n",
    "from pathlib import Path\n",
    "import logging\n",
    "from imutils.catalog_registry import available_datasets"
   ]
  },
  {
   "cell_type": "code",
   "execution_count": null,
   "id": "c14b1342-8103-4ec1-b5ff-31d8e5bb857c",
   "metadata": {},
   "outputs": [],
   "source": [
    "from imutils.big.common_catalog_utils import DataETL"
   ]
  },
  {
   "cell_type": "code",
   "execution_count": null,
   "id": "32a419b4-ecb8-4e0c-8455-394b78578c1e",
   "metadata": {},
   "outputs": [],
   "source": [
    "DataETL.import_dataset_state("
   ]
  },
  {
   "cell_type": "code",
   "execution_count": null,
   "id": "dd2ae5d5-7c18-4646-81d4-8c804cc35d47",
   "metadata": {},
   "outputs": [],
   "source": [
    "dataset_catalog_dir = \"/media/data_cifs/projects/prj_fossils/users/jacob/data/leavesdb-v1_1\"\n",
    "dataset_names = sorted(os.listdir(dataset_catalog_dir))\n",
    "main_datasets = [d for d in dataset_names if (not \"_minus_\" in d) and (not \"_w_\" in d) and (not \"original\" in d) and (\"512\" in d) and (\"family\" in d)]"
   ]
  },
  {
   "cell_type": "code",
   "execution_count": null,
   "id": "fbe5b4eb-212e-4a28-b563-381369fb58b0",
   "metadata": {},
   "outputs": [],
   "source": [
    "%%time\n",
    "# data_dirs = [Path(dataset_catalog_dir, d) for d in main_datasets]\n",
    "data_assets = [\n",
    "    {\"config_path\": Path(dataset_catalog_dir, d, \"CSVDataset-config.yaml\"),\n",
    "     \"dataset_name\": d}\n",
    "    for d in main_datasets\n",
    "]\n",
    "\n",
    "datasets = {}\n",
    "for asset in tqdm(data_assets):\n",
    "    datasets[asset[\"dataset_name\"]] = DataETL.import_dataset_state(**asset)\n",
    "    pp(asset[\"dataset_name\"])"
   ]
  },
  {
   "cell_type": "code",
   "execution_count": null,
   "id": "ad839fb0-b1cc-4cfc-9b19-dc989c61e14f",
   "metadata": {},
   "outputs": [],
   "source": [
    "print(len(datasets))\n",
    "\n",
    "# print(datasets)\n",
    "\n",
    "# datasets = {k:v for k, v in datasets.items() if \"512\" in k}\n",
    "pp(datasets.keys())"
   ]
  },
  {
   "cell_type": "code",
   "execution_count": null,
   "id": "486fda15-5d09-4678-b514-4bb42743743b",
   "metadata": {},
   "outputs": [],
   "source": [
    "from supervenn import supervenn\n",
    "import matplotlib.pyplot as plt\n",
    "import seaborn as sns"
   ]
  },
  {
   "cell_type": "code",
   "execution_count": null,
   "id": "831946db-88a2-421b-a6b7-273d2269f301",
   "metadata": {},
   "outputs": [],
   "source": [
    "style_list = ['default', 'classic'] + sorted(\n",
    "    style for style in plt.style.available if style != 'classic'\n",
    ")\n",
    "\n",
    "pp(style_list)\n",
    "style_label = \"seaborn-notebook\"\n",
    "plt.style.context(style_label)\n",
    "# Plot a demonstration figure for every available style sheet.\n",
    "# for style_label in style_list:\n",
    "    # with plt.rc_context({\"figure.max_open_warning\": len(style_list)}):\n",
    "        # with plt.style.context(style_label)"
   ]
  },
  {
   "cell_type": "markdown",
   "id": "cf55d447-1e0f-4a12-8cc5-657dee3f3229",
   "metadata": {},
   "source": [
    "## Extant Leaves -- various settings gallery"
   ]
  },
  {
   "cell_type": "code",
   "execution_count": null,
   "id": "e535ca3e-cec9-4251-b85e-b5e5a0bcf882",
   "metadata": {},
   "outputs": [],
   "source": [
    "# plt.figure(figsize=(16, 8), dpi=150)\n",
    "\n",
    "sets_orderings_list = [\"size\",  'chunk count', 'random', 'minimize gaps', None]\n",
    "chunks_orderings_list = [\"size\",  'chunk count', 'random', 'minimize gaps', None]\n",
    "\n",
    "fig, ax = plt.subplots(len(sets_orderings_list), len(chunks_orderings_list), figsize=(16*len(chunks_orderings_list), 8*len(sets_orderings_list)), dpi=150)\n",
    "\n",
    "for j, chunks_ordering in enumerate(chunks_orderings_list):\n",
    "    for i, sets_ordering in enumerate(sets_orderings_list):\n",
    "\n",
    "        select_column = \"family\"\n",
    "        ax_title = f\"Extant Leaves - range of thresholds - ({sets_ordering=}) - ({chunks_ordering=})\"\n",
    "        select_stem = \"Extant\"\n",
    "\n",
    "\n",
    "        selected_sets = {k:v for k,v in datasets.items() if select_stem in k}\n",
    "        sets = [set(v[0].samples_df[select_column].values) for k, v in selected_sets.items()]\n",
    "        labels = [k for k, v in selected_sets.items()]\n",
    "\n",
    "        sv = supervenn(sets, labels, sets_ordering=sets_ordering, ax=ax[j, i])\n",
    "        ax[j, i].set_title(ax_title)\n",
    "    # plt.suptitle(suptitle, fontsize=\"xx-large\")\n",
    "    \n",
    "plt.savefig(f\"Extant Leaves {select_column} categories.svg\")"
   ]
  },
  {
   "cell_type": "code",
   "execution_count": null,
   "id": "dde1e597-2ad8-4eca-afef-e4bc08eb5eaf",
   "metadata": {},
   "outputs": [],
   "source": [
    "sets_orderings_list = [\"size\",  'chunk count', 'random', 'minimize gaps', None]\n",
    "chunks_orderings_list = [\"size\",  'chunk count', 'random', 'minimize gaps', None]\n",
    "\n",
    "fig, ax = plt.subplots(len(sets_orderings_list), len(chunks_orderings_list), figsize=(16*len(chunks_orderings_list), 8*len(sets_orderings_list)), dpi=150)\n",
    "\n",
    "for j, chunks_ordering in enumerate(chunks_orderings_list):\n",
    "    for i, sets_ordering in enumerate(sets_orderings_list):\n",
    "\n",
    "        select_column = \"genus\"\n",
    "        ax_title = f\"Extant Leaves - range of thresholds - ({sets_ordering=}) - ({chunks_ordering=})\"\n",
    "        select_stem = \"Extant\"\n",
    "\n",
    "\n",
    "        selected_sets = {k:v for k,v in datasets.items() if select_stem in k}\n",
    "        sets = [set(v[0].samples_df[select_column].values) for k, v in selected_sets.items()]\n",
    "        labels = [k for k, v in selected_sets.items()]\n",
    "\n",
    "        sv = supervenn(sets, labels, sets_ordering=sets_ordering, ax=ax[j, i])\n",
    "        ax[j, i].set_title(ax_title)\n",
    "    # plt.suptitle(suptitle, fontsize=\"xx-large\")\n",
    "    \n",
    "plt.savefig(f\"Extant Leaves {select_column} categories.svg\")\n",
    "\n",
    "sets_orderings_list = [\"size\",  'chunk count', 'random', 'minimize gaps', None]\n",
    "chunks_orderings_list = [\"size\",  'chunk count', 'random', 'minimize gaps', None]\n",
    "\n",
    "fig, ax = plt.subplots(len(sets_orderings_list), len(chunks_orderings_list), figsize=(16*len(chunks_orderings_list), 8*len(sets_orderings_list)), dpi=150)\n",
    "\n",
    "for j, chunks_ordering in enumerate(chunks_orderings_list):\n",
    "    for i, sets_ordering in enumerate(sets_orderings_list):\n",
    "\n",
    "        select_column = \"species\"\n",
    "        ax_title = f\"Extant Leaves - range of thresholds - ({sets_ordering=}) - ({chunks_ordering=})\"\n",
    "        select_stem = \"Extant\"\n",
    "\n",
    "\n",
    "        selected_sets = {k:v for k,v in datasets.items() if select_stem in k}\n",
    "        sets = [set(v[0].samples_df[select_column].values) for k, v in selected_sets.items()]\n",
    "        labels = [k for k, v in selected_sets.items()]\n",
    "\n",
    "        sv = supervenn(sets, labels, sets_ordering=sets_ordering, ax=ax[j, i])\n",
    "        ax[j, i].set_title(ax_title)\n",
    "    # plt.suptitle(suptitle, fontsize=\"xx-large\")\n",
    "    \n",
    "plt.savefig(f\"Extant Leaves {select_column} categories.svg\")"
   ]
  },
  {
   "cell_type": "markdown",
   "id": "3a251bdf-842b-43b3-b505-50344a25a46d",
   "metadata": {},
   "source": [
    "## Fossil Leaves -- various settings gallery"
   ]
  },
  {
   "cell_type": "code",
   "execution_count": null,
   "id": "4cce212e-772d-4c26-881f-bc8b19d628e5",
   "metadata": {},
   "outputs": [],
   "source": [
    "# plt.figure(figsize=(16, 8), dpi=150)\n",
    "\n",
    "sets_orderings_list = [\"size\",  'chunk count', 'minimize gaps']\n",
    "chunks_orderings_list = [\"size\",  'chunk count', 'minimize gaps']\n",
    "\n",
    "fig, ax = plt.subplots(len(sets_orderings_list), len(chunks_orderings_list), figsize=(16*len(chunks_orderings_list), 8*len(sets_orderings_list)), dpi=150)\n",
    "\n",
    "for j, chunks_ordering in tqdm(enumerate(chunks_orderings_list)):\n",
    "    for i, sets_ordering in tqdm(enumerate(sets_orderings_list)):\n",
    "\n",
    "        select_column = \"family\"\n",
    "        ax_title = f\"Fossil Leaves - range of thresholds - ({sets_ordering=}) - ({chunks_ordering=})\"\n",
    "        select_stem = \"Fossil\"\n",
    "\n",
    "        selected_sets = {k:v for k,v in datasets.items() if (select_stem in k) and (f\"{select_column}_3\" in k)}\n",
    "        sets = [set(v[0].samples_df[select_column].values) for k, v in selected_sets.items()]\n",
    "        labels = [k for k, v in selected_sets.items()]\n",
    "\n",
    "        sv = supervenn(sets, labels, sets_ordering=sets_ordering, ax=ax[j, i])\n",
    "        ax[j, i].set_title(ax_title)\n",
    "    # plt.suptitle(suptitle, fontsize=\"xx-large\")\n",
    "    \n",
    "plt.savefig(f\"Fossil Leaves {select_column} categories.svg\")"
   ]
  },
  {
   "cell_type": "markdown",
   "id": "e79402f3-844e-49b2-8227-5f2a816b07ed",
   "metadata": {},
   "source": [
    "## All datasets comparisons"
   ]
  },
  {
   "cell_type": "code",
   "execution_count": null,
   "id": "62dedadd-c5ff-4fd4-b348-9cd74e029487",
   "metadata": {},
   "outputs": [],
   "source": [
    "# plt.figure(figsize=(16, 8), dpi=150)\n",
    "\n",
    "sets_orderings_list = [\"size\",  'chunk count', 'minimize gaps']\n",
    "chunks_orderings_list = [\"size\",  'chunk count', 'minimize gaps']\n",
    "\n",
    "fig, ax = plt.subplots(len(sets_orderings_list), len(chunks_orderings_list), figsize=(16*len(chunks_orderings_list), 8*len(sets_orderings_list)), dpi=150)\n",
    "\n",
    "for j, chunks_ordering in tqdm(enumerate(chunks_orderings_list)):\n",
    "    for i, sets_ordering in tqdm(enumerate(sets_orderings_list)):\n",
    "\n",
    "        select_column = \"family\"\n",
    "        ax_title = f\"Fossil Leaves - range of thresholds - ({sets_ordering=}) - ({chunks_ordering=})\"\n",
    "        # select_stem = \"Fossil\"\n",
    "\n",
    "        selected_sets = {k:v for k,v in datasets.items() if (f\"{select_column}_3\" in k)}\n",
    "        sets = [set(v[0].samples_df[select_column].values) for k, v in selected_sets.items()]\n",
    "        labels = [k for k, v in selected_sets.items()]\n",
    "\n",
    "        sv = supervenn(sets, labels, sets_ordering=sets_ordering, ax=ax[j, i])\n",
    "        ax[j, i].set_title(ax_title)\n",
    "    # plt.suptitle(suptitle, fontsize=\"xx-large\")\n",
    "    \n",
    "plt.savefig(f\"Fossil Leaves {select_column} categories.svg\")"
   ]
  },
  {
   "cell_type": "code",
   "execution_count": null,
   "id": "65283edb-c8f3-43de-90cc-d7bb997fe0da",
   "metadata": {},
   "outputs": [],
   "source": [
    "selected_sets['Fossil_family_3_512'][0].samples_df"
   ]
  },
  {
   "cell_type": "code",
   "execution_count": null,
   "id": "39d924e3-dab9-4d99-8b7e-35bc753f69b9",
   "metadata": {},
   "outputs": [],
   "source": [
    "# plt.figure(figsize=(16, 8), dpi=150)\n",
    "\n",
    "# sets_orderings_list = [\"size\",  'chunk count', 'minimize gaps']\n",
    "# chunks_orderings_list = [\"size\",  'chunk count', 'minimize gaps']\n",
    "\n",
    "# fig, ax = plt.subplots(3, 1, figsize=(16, 8*3), dpi=200)\n",
    "\n",
    "chunks_ordering = 'minimize gaps'\n",
    "sets_ordering = 'size'\n",
    "thresh = 3\n",
    "columns = [\"family\", \"genus\", \"species\", \"collection\"]\n",
    "\n",
    "for i, select_column in enumerate(tqdm(columns)):\n",
    "\n",
    "    fig, ax = plt.subplots(1, 1, figsize=(16, 8), dpi=200)\n",
    "# select_column = \"family\"\n",
    "    ax_title = f\"Leavesdb v1.1 - {select_column}\"\n",
    "    selected_sets = {k:v for k,v in datasets.items() if (f\"family_{thresh}\" in k)}\n",
    "    sets = [set(v[0].samples_df[select_column].values) for k, v in selected_sets.items()]\n",
    "    labels = [k for k, v in selected_sets.items()]\n",
    "\n",
    "    sv = supervenn(sets, labels, sets_ordering=sets_ordering, ax=ax, widths_minmax_ratio=0.01)\n",
    "    ax.set_title(ax_title)\n",
    "\n",
    "    plt.savefig(f\"{select_column} label distribution across Leavesdbv1_1 datasets (thresholded at family={thresh} - supervenn diagram.svg\")\n",
    "# plt.suptitle(suptitle, fontsize=\"xx-large\")\n",
    "\n",
    "# plt.savefig(f\"multi-level taxonommy labels across Leavesdbv1_1 datasets - supervenn diagram.svg\")"
   ]
  },
  {
   "cell_type": "code",
   "execution_count": null,
   "id": "f6825797-45e0-4b33-9270-3afd38807a7c",
   "metadata": {},
   "outputs": [],
   "source": [
    "chunks_ordering = 'minimize gaps'\n",
    "sets_ordering = 'size'\n",
    "thresh = [50,100]\n",
    "columns = [\"family\", \"genus\", \"species\", \"collection\"]\n",
    "\n",
    "for i, select_column in enumerate(tqdm(columns)):\n",
    "\n",
    "    fig, ax = plt.subplots(1, 1, figsize=(16, 8), dpi=200)\n",
    "# select_column = \"family\"\n",
    "    ax_title = f\"Leavesdb v1.1 - {select_column}\"\n",
    "    selected_sets = {k:v for k,v in datasets.items() if (f\"family_{thresh[0]}\" in k) or (f\"family_{thresh[1]}\" in k)}\n",
    "    sets = [set(v[0].samples_df[select_column].values) for k, v in selected_sets.items()]\n",
    "    labels = [k for k, v in selected_sets.items()]\n",
    "\n",
    "    sv = supervenn(sets, labels, sets_ordering=sets_ordering, ax=ax)\n",
    "    ax.set_title(ax_title)\n",
    "\n",
    "    plt.savefig(f\"{select_column} label distribution across Leavesdbv1_1 datasets (thresholded at family={thresh} - supervenn diagram.svg\")\n",
    "# plt.suptitle(suptitle, fontsize=\"xx-large\")\n",
    "\n",
    "# plt.savefig(f\"multi-level taxonommy labels across Leavesdbv1_1 datasets - supervenn diagram.svg\")"
   ]
  },
  {
   "cell_type": "code",
   "execution_count": null,
   "id": "f78d0c85-8327-446d-acb4-2bd1577248bb",
   "metadata": {},
   "outputs": [],
   "source": []
  },
  {
   "cell_type": "code",
   "execution_count": null,
   "id": "6261f8bc-1efc-4be4-a605-38fda2f09f43",
   "metadata": {},
   "outputs": [],
   "source": []
  },
  {
   "cell_type": "code",
   "execution_count": null,
   "id": "98059b7c-1c0b-46ca-be06-b393ed9d6504",
   "metadata": {},
   "outputs": [],
   "source": [
    "sets_orderings_list = [\"size\",  'chunk count', 'random', 'minimize gaps', None]\n",
    "chunks_orderings_list = [\"size\",  'chunk count', 'random', 'minimize gaps', None]\n",
    "\n",
    "fig, ax = plt.subplots(len(sets_orderings_list), len(chunks_orderings_list), figsize=(16*len(chunks_orderings_list), 8*len(sets_orderings_list)), dpi=150)\n",
    "\n",
    "for j, chunks_ordering in enumerate(chunks_orderings_list):\n",
    "    for i, sets_ordering in enumerate(sets_orderings_list):\n",
    "\n",
    "        select_column = \"genus\"\n",
    "        ax_title = f\"Extant Leaves - range of thresholds - ({sets_ordering=}) - ({chunks_ordering=})\"\n",
    "        select_stem = \"Extant\"\n",
    "\n",
    "\n",
    "        selected_sets = {k:v for k,v in datasets.items() if select_stem in k}\n",
    "        sets = [set(v[0].samples_df[select_column].values) for k, v in selected_sets.items()]\n",
    "        labels = [k for k, v in selected_sets.items()]\n",
    "\n",
    "        sv = supervenn(sets, labels, sets_ordering=sets_ordering, ax=ax[j, i])\n",
    "        ax[j, i].set_title(ax_title)\n",
    "    # plt.suptitle(suptitle, fontsize=\"xx-large\")\n",
    "    \n",
    "plt.savefig(f\"Extant Leaves {select_column} categories.svg\")\n",
    "\n",
    "sets_orderings_list = [\"size\",  'chunk count', 'random', 'minimize gaps', None]\n",
    "chunks_orderings_list = [\"size\",  'chunk count', 'random', 'minimize gaps', None]\n",
    "\n",
    "fig, ax = plt.subplots(len(sets_orderings_list), len(chunks_orderings_list), figsize=(16*len(chunks_orderings_list), 8*len(sets_orderings_list)), dpi=150)\n",
    "\n",
    "for j, chunks_ordering in enumerate(chunks_orderings_list):\n",
    "    for i, sets_ordering in enumerate(sets_orderings_list):\n",
    "\n",
    "        select_column = \"species\"\n",
    "        ax_title = f\"Extant Leaves - range of thresholds - ({sets_ordering=}) - ({chunks_ordering=})\"\n",
    "        select_stem = \"Extant\"\n",
    "\n",
    "\n",
    "        selected_sets = {k:v for k,v in datasets.items() if select_stem in k}\n",
    "        sets = [set(v[0].samples_df[select_column].values) for k, v in selected_sets.items()]\n",
    "        labels = [k for k, v in selected_sets.items()]\n",
    "\n",
    "        sv = supervenn(sets, labels, sets_ordering=sets_ordering, ax=ax[j, i])\n",
    "        ax[j, i].set_title(ax_title)\n",
    "    # plt.suptitle(suptitle, fontsize=\"xx-large\")\n",
    "    \n",
    "plt.savefig(f\"Extant Leaves {select_column} categories.svg\")"
   ]
  },
  {
   "cell_type": "code",
   "execution_count": null,
   "id": "b3cad2e9-d249-4126-ac41-74e2ab387cb7",
   "metadata": {},
   "outputs": [],
   "source": []
  },
  {
   "cell_type": "code",
   "execution_count": null,
   "id": "0b0ca89a-c775-43b1-9c8a-5dc1ee096ad5",
   "metadata": {},
   "outputs": [],
   "source": []
  },
  {
   "cell_type": "code",
   "execution_count": null,
   "id": "47d347be-70cb-4deb-ad98-a5c2f6b655f8",
   "metadata": {},
   "outputs": [],
   "source": []
  },
  {
   "cell_type": "code",
   "execution_count": null,
   "id": "51012f6b-5a43-4ff7-b575-bc97ea0d358c",
   "metadata": {},
   "outputs": [],
   "source": []
  },
  {
   "cell_type": "code",
   "execution_count": null,
   "id": "0b31f9b7-5cbc-4c19-b966-74deea9fc5c3",
   "metadata": {},
   "outputs": [],
   "source": []
  },
  {
   "cell_type": "code",
   "execution_count": null,
   "id": "1a68cb96-5eb8-4408-90fc-b7c4d2e0e09e",
   "metadata": {},
   "outputs": [],
   "source": []
  },
  {
   "cell_type": "code",
   "execution_count": null,
   "id": "704761b3-d0b5-4520-8644-4e49b9610fca",
   "metadata": {},
   "outputs": [],
   "source": [
    "select_column = \"family\"\n",
    "suptitle = f\"Fossil Leaves shared {select_column} categories across a range of thresholds\"\n",
    "select_stem = \"Fossil\"\n",
    "\n",
    "\n",
    "selected_sets = {k:v for k,v in datasets.items() if select_stem in k}\n",
    "sets = [set(v[0].samples_df[select_column].values) for k, v in selected_sets.items()]\n",
    "labels = [k for k, v in selected_sets.items()]\n",
    "plt.figure(figsize=(16, 8), dpi=150)\n",
    "sv = supervenn(sets, labels) #, side_plots=False)\n",
    "plt.suptitle(suptitle, fontsize=\"xx-large\")"
   ]
  },
  {
   "cell_type": "code",
   "execution_count": null,
   "id": "fc2ecf71-c1b5-4f12-b14c-0c7525fd251a",
   "metadata": {},
   "outputs": [],
   "source": []
  },
  {
   "cell_type": "markdown",
   "id": "70ba7ae7-fa29-4263-ad4b-74bde62a8ae3",
   "metadata": {},
   "source": [
    "### Meerkat dataset definition"
   ]
  },
  {
   "cell_type": "code",
   "execution_count": null,
   "id": "b3422a77-da01-417b-a57d-ee3103ffe0ca",
   "metadata": {},
   "outputs": [],
   "source": [
    "import meerkat as mk\n",
    "from meerkat.contrib.imagenette import download_imagenette\n",
    "\n",
    "# download_imagenette(\".\")\n",
    "# dp = mk.DataPanel.from_csv(\"imagenette2-160/imagenette.csv\")\n",
    "# dp[\"img\"] = mk.ImageColumn.from_filepaths(dp[\"img_path\"])\n",
    "\n",
    "# dp[[\"label\", \"split\", \"img\"]].lz[:3]"
   ]
  },
  {
   "cell_type": "code",
   "execution_count": null,
   "id": "fc03ac8a-f522-4092-8920-3e452d6fb195",
   "metadata": {},
   "outputs": [],
   "source": [
    "from torch.utils.data import Dataset\n",
    "\n",
    "\n",
    "class MeerkatDataset(Dataset):\n",
    "    \"\"\"Torch dataset wrapper around meerkat dp\"\"\"\n",
    "\n",
    "    def __init__(self, datapanel, xs, ys):\n",
    "        self.dataset = datapanel\n",
    "        self.x_names = xs\n",
    "        self.y_names = ys\n",
    "\n",
    "    def __len__(self):\n",
    "        return len(self.dataset)\n",
    "\n",
    "    def __getitem__(self, idx):\n",
    "        # if self.x_names is single element, return single element\n",
    "        if len(self.x_names) > 1:\n",
    "            x = [self.dataset[idx][input_feat] for input_feat in self.x_names]\n",
    "        else:\n",
    "            x = self.dataset[idx][self.x_names[0]]\n",
    "        if len(self.y_names) > 1:\n",
    "            y = [self.dataset[idx][output_feat] for output_feat in self.y_names]\n",
    "        else:\n",
    "            y = self.dataset[idx][self.y_names[0]]\n",
    "        return (x, y)"
   ]
  },
  {
   "cell_type": "code",
   "execution_count": null,
   "id": "eee1ef00-4689-44c9-b51c-64f0580a9f66",
   "metadata": {},
   "outputs": [],
   "source": [
    "# dir(available_datasets)\n",
    "\n",
    "# available_datasets.tags\n",
    "\n",
    "# available_datasets.get(\"Fossil_1024\")\n",
    "\n",
    "catalog_path = \"/media/data_cifs/projects/prj_fossils/users/jacob/data/leavesdb-v1_1/Fossil_family_3_1024/Fossil_family_3_1024-full_dataset.csv\"\n",
    "# df = pd.read_csv(catalog_path)\n",
    "dp = mk.DataPanel.from_csv(catalog_path)\n",
    "print(dp.columns)\n",
    "dp[\"img\"] = mk.ImageColumn.from_filepaths(dp[\"path\"])\n",
    "dp[[\"family\", \"genus\", \"img\"]].lz[:3]"
   ]
  },
  {
   "cell_type": "code",
   "execution_count": null,
   "id": "9df6e446-3122-4693-98c6-b336f731d567",
   "metadata": {},
   "outputs": [],
   "source": [
    "df = dp.to_pandas()"
   ]
  },
  {
   "cell_type": "code",
   "execution_count": null,
   "id": "f197acbd-6b9f-4dc4-ba40-f3d47960af5c",
   "metadata": {},
   "outputs": [],
   "source": [
    "df.groupby(\"family\").apply(len)"
   ]
  },
  {
   "cell_type": "code",
   "execution_count": null,
   "id": "00fbb7d0-7d49-49cc-a621-cea77906c16e",
   "metadata": {},
   "outputs": [],
   "source": [
    "dp2 = dp.lz[:4]"
   ]
  },
  {
   "cell_type": "code",
   "execution_count": null,
   "id": "8a8deaf0-94eb-4b54-8ea9-33b4fdb491fa",
   "metadata": {},
   "outputs": [],
   "source": [
    "dp2.write(\"test_dp\")\n",
    "dp2"
   ]
  },
  {
   "cell_type": "markdown",
   "id": "a05f26d6-c447-4f6c-b593-7d7babc16a42",
   "metadata": {},
   "source": [
    "## supervenn + fossil leaves"
   ]
  },
  {
   "cell_type": "code",
   "execution_count": null,
   "id": "5a03b34b-c1ae-4e2b-9e2c-8c683a601df3",
   "metadata": {},
   "outputs": [],
   "source": [
    "available_datasets.tags"
   ]
  },
  {
   "cell_type": "code",
   "execution_count": null,
   "id": "a02488a2-0dbf-448c-ba36-03c4208c9da0",
   "metadata": {},
   "outputs": [],
   "source": [
    "import torchdatasets"
   ]
  },
  {
   "cell_type": "code",
   "execution_count": null,
   "id": "16db31dd-a8c9-4015-8d55-3cf9b81a17ac",
   "metadata": {},
   "outputs": [],
   "source": [
    "available_datasets.search(\"Fossil\", \"v1_1\")"
   ]
  },
  {
   "cell_type": "code",
   "execution_count": null,
   "id": "bcf4ffff-4580-4de5-8413-ba0ea78f40e3",
   "metadata": {},
   "outputs": [],
   "source": [
    "available_datasets.search(\"PNAS_family_100_original\")\n",
    "\n"
   ]
  },
  {
   "cell_type": "code",
   "execution_count": null,
   "id": "7941b2ea-adcd-44d8-b476-c7067cbad367",
   "metadata": {},
   "outputs": [],
   "source": [
    "os.listdir(pnas_path)"
   ]
  },
  {
   "cell_type": "code",
   "execution_count": null,
   "id": "277368c1-de4c-4fbf-bcba-4b7b8921a98e",
   "metadata": {},
   "outputs": [],
   "source": [
    "os.listdir(general_fossil_path)\n",
    "# os.listdir(florissant_fossil_path)"
   ]
  },
  {
   "cell_type": "code",
   "execution_count": null,
   "id": "3fd5e1ee-f4dc-4578-bad6-9b905e52984d",
   "metadata": {},
   "outputs": [],
   "source": [
    "pnas_path = Path(available_datasets.get(\"PNAS_family_100_original\"), \"train.csv\")\n",
    "\n",
    "# general_fossil_path, florissant_fossil_path = available_datasets.get(\"Fossil_512\")\n",
    "fossil_path = \"/media/data_cifs/projects/prj_fossils/users/jacob/data/leavesdb-v1_1/Fossil_512/Fossil_512-full_dataset.csv\"\n",
    "extant_100_path = \"/media/data_cifs/projects/prj_fossils/users/jacob/data/leavesdb-v1_1/Extant_Leaves_family_100_512/Extant_Leaves_family_100_512-full_dataset.csv\""
   ]
  },
  {
   "cell_type": "code",
   "execution_count": null,
   "id": "29654264-4fc8-4c11-8693-0e772220bd71",
   "metadata": {},
   "outputs": [],
   "source": [
    "pnas_df = pd.read_csv(pnas_path)\n",
    "fossil_df = pd.read_csv(fossil_path)\n",
    "extant_100_df = pd.read_csv(extant_100_path)\n",
    "# general_fossil_df = pd.read_csv(general_fossil_path)\n",
    "# florissant_fossil_df = pd.read_csv(florissant_fossil_path)"
   ]
  },
  {
   "cell_type": "code",
   "execution_count": null,
   "id": "b33a4d9a-d381-475c-a49c-6e5ff0e92110",
   "metadata": {},
   "outputs": [],
   "source": [
    "pnas_df.describe(include='all')"
   ]
  },
  {
   "cell_type": "code",
   "execution_count": null,
   "id": "61d223c0-9415-4c20-8aac-461dd9c97f84",
   "metadata": {},
   "outputs": [],
   "source": [
    "fossil_df.describe(include='all')"
   ]
  },
  {
   "cell_type": "code",
   "execution_count": null,
   "id": "d608df21-9ed2-4aeb-a839-8f603519569e",
   "metadata": {},
   "outputs": [],
   "source": [
    "extant_100_df.describe(include='all')"
   ]
  },
  {
   "cell_type": "code",
   "execution_count": null,
   "id": "8598f3eb-739c-479c-91a9-269f03448781",
   "metadata": {},
   "outputs": [],
   "source": [
    "from supervenn import supervenn\n",
    "import matplotlib.pyplot as plt\n",
    "\n",
    "select_column = \"family\"\n",
    "sets = [set(pnas_df[select_column].values),\n",
    "        set(fossil_df[select_column].values),\n",
    "        set(extant_100_df[select_column].values)]\n",
    "\n",
    "labels = [\"PNAS_100\",\n",
    "          \"Fossils\",\n",
    "          \"Extant_100\"]\n",
    "\n",
    "plt.figure(figsize=(16, 8))\n",
    "sv = supervenn(sets, labels) #, side_plots=False)"
   ]
  },
  {
   "cell_type": "code",
   "execution_count": null,
   "id": "b24a4d45-1afd-4b56-87e0-366ab9a62b3c",
   "metadata": {},
   "outputs": [],
   "source": [
    "sv.chunks"
   ]
  },
  {
   "cell_type": "code",
   "execution_count": null,
   "id": "32459777-743b-4042-a05d-94a74ebb872d",
   "metadata": {},
   "outputs": [],
   "source": [
    "dir(sv)"
   ]
  },
  {
   "cell_type": "code",
   "execution_count": null,
   "id": "5ebdca29-8de4-4317-b0f0-8415cecb51d1",
   "metadata": {},
   "outputs": [],
   "source": [
    "from supervenn import supervenn\n",
    "\n",
    "\n",
    "sets = [{0, 1, 2, 3, 4}, {3, 4, 5}, {1, 6, 7, 8}]\n",
    "\n",
    "\n",
    "supervenn(sets)#, side_plots=False)"
   ]
  },
  {
   "cell_type": "code",
   "execution_count": null,
   "id": "2161a909-8225-4fd4-8b51-fbd623aa9cf7",
   "metadata": {},
   "outputs": [],
   "source": [
    "from supervenn import supervenn\n",
    "import matplotlib.pyplot as plt\n",
    "plt.figure(figsize=(16, 8))\n",
    "\n",
    "\n",
    "sets = [{0, 1, 2, 3, 4}, {3, 4, 5}, {1, 6, 7, 8}]\n",
    "\n",
    "sv = supervenn(sets, side_plots=\"right\")\n",
    "\n",
    "dir(sv)"
   ]
  },
  {
   "cell_type": "code",
   "execution_count": null,
   "id": "16d9d4bc-3b7f-47cb-994d-4406099e1b92",
   "metadata": {},
   "outputs": [],
   "source": [
    "from omegaconf import DictConfig, OmegaConf\n",
    "import os\n",
    "from rich import print as pp\n",
    "import hydra\n",
    "\n",
    "\n",
    "import numpy as np\n",
    "from typing import *\n",
    "import inspect\n",
    "from tqdm.auto import tqdm\n",
    "import pandas as pd\n",
    "from pathlib import Path\n",
    "import logging"
   ]
  },
  {
   "cell_type": "code",
   "execution_count": null,
   "id": "b2efee5c-670d-45ca-a531-be3e1a31657a",
   "metadata": {},
   "outputs": [],
   "source": []
  },
  {
   "cell_type": "code",
   "execution_count": null,
   "id": "a3b37ae9-c57f-48ac-948d-3f453f9db9d1",
   "metadata": {},
   "outputs": [],
   "source": []
  }
 ],
 "metadata": {
  "kernelspec": {
   "display_name": "Python 3 (ipykernel)",
   "language": "python",
   "name": "python3"
  },
  "language_info": {
   "codemirror_mode": {
    "name": "ipython",
    "version": 3
   },
   "file_extension": ".py",
   "mimetype": "text/x-python",
   "name": "python",
   "nbconvert_exporter": "python",
   "pygments_lexer": "ipython3",
   "version": "3.8.13"
  }
 },
 "nbformat": 4,
 "nbformat_minor": 5
}
