{
 "cells": [
  {
   "cell_type": "markdown",
   "id": "9119696f-234e-4e36-a174-ea857fd4bc1e",
   "metadata": {},
   "source": [
    "# 2022-07-16 -- `unlabeled yale fossils dataset` -- playground notebook\n",
    "\n",
    "Created on: Saturday July 16th, 2022  \n",
    "Created by: Jacob A Rose"
   ]
  },
  {
   "cell_type": "markdown",
   "id": "a9ea3cf9-7770-4901-a788-804b6f6e1742",
   "metadata": {
    "jupyter": {
     "outputs_hidden": true
    },
    "tags": []
   },
   "source": [
    "- using `torchshow`"
   ]
  },
  {
   "cell_type": "code",
   "execution_count": null,
   "id": "1e69e750-f081-45e8-b2e9-93aa6e178b8c",
   "metadata": {},
   "outputs": [],
   "source": [
    "#!pip3 install torchshow"
   ]
  },
  {
   "cell_type": "code",
   "execution_count": null,
   "id": "10ec9100-cce7-4543-a6f3-158f0f07bcf8",
   "metadata": {},
   "outputs": [],
   "source": [
    "from IPython.display import display\n",
    "from IPython.core.interactiveshell import InteractiveShell\n",
    "InteractiveShell.ast_node_interactivity = \"all\"\n",
    "\n",
    "import pandas as pd\n",
    "pd.set_option('display.max_rows', 500)\n",
    "pd.set_option('display.max_columns', 500)\n",
    "pd.set_option('display.max_colwidth', 500)\n"
   ]
  },
  {
   "cell_type": "code",
   "execution_count": null,
   "id": "cc7179b2-d39f-429a-9cdb-a0add156eecf",
   "metadata": {},
   "outputs": [],
   "source": [
    "dir(pd.options.display)"
   ]
  },
  {
   "cell_type": "code",
   "execution_count": null,
   "id": "31850542-6cc6-4db9-bdc2-7ec22b696dc7",
   "metadata": {},
   "outputs": [],
   "source": [
    "%load_ext autoreload\n",
    "%autoreload 2\n",
    "\n",
    "\n",
    "from omegaconf import DictConfig, OmegaConf\n",
    "import os\n",
    "from rich import print as pp\n",
    "\n",
    "import numpy as np\n",
    "from typing import *\n",
    "import inspect\n",
    "from tqdm.auto import tqdm\n",
    "from pathlib import Path\n",
    "import logging\n",
    "from imutils.catalog_registry import available_datasets"
   ]
  },
  {
   "cell_type": "code",
   "execution_count": null,
   "id": "c14b1342-8103-4ec1-b5ff-31d8e5bb857c",
   "metadata": {},
   "outputs": [],
   "source": [
    "from imutils.big.common_catalog_utils import DataETL\n",
    "\n",
    "\n",
    "LOAD_LEAVESDB = False\n",
    "LOAD_YALE_FULL = True"
   ]
  },
  {
   "cell_type": "code",
   "execution_count": null,
   "id": "32a419b4-ecb8-4e0c-8455-394b78578c1e",
   "metadata": {},
   "outputs": [],
   "source": [
    "# DataETL.import_dataset_state("
   ]
  },
  {
   "cell_type": "code",
   "execution_count": null,
   "id": "3c8b7af4-6d49-4867-af24-7286b669525b",
   "metadata": {},
   "outputs": [],
   "source": [
    "if LOAD_LEAVESDB:\n",
    "    dataset_catalog_dir = \"/media/data_cifs/projects/prj_fossils/users/jacob/data/leavesdb-v1_1\"\n",
    "    dataset_names = sorted(os.listdir(dataset_catalog_dir))\n",
    "    main_datasets = [d for d in dataset_names if (not \"_minus_\" in d) and (not \"_w_\" in d) and (not \"original\" in d) and (\"512\" in d) and (\"family\" in d)]\n",
    "\n",
    "    %%time\n",
    "    # data_dirs = [Path(dataset_catalog_dir, d) for d in main_datasets]\n",
    "    data_assets = [\n",
    "        {\"config_path\": Path(dataset_catalog_dir, d, \"CSVDataset-config.yaml\"),\n",
    "         \"dataset_name\": d}\n",
    "        for d in main_datasets\n",
    "    ]\n",
    "\n",
    "    datasets = {}\n",
    "    for asset in tqdm(data_assets):\n",
    "        datasets[asset[\"dataset_name\"]] = DataETL.import_dataset_state(**asset)\n",
    "        pp(asset[\"dataset_name\"])\n",
    "\n",
    "    print(len(datasets))\n",
    "    # datasets = {k:v for k, v in datasets.items() if \"512\" in k}\n",
    "    pp(list(datasets.keys()))"
   ]
  },
  {
   "cell_type": "markdown",
   "id": "bac606d7-8267-428e-8abc-6c40d9e7b422",
   "metadata": {},
   "source": [
    "## yale fossils"
   ]
  },
  {
   "cell_type": "code",
   "execution_count": null,
   "id": "8a694d1c-4591-417d-8ca6-e6302ea91c90",
   "metadata": {},
   "outputs": [],
   "source": [
    "from PIL.ImageStat import Stat\n",
    "import meerkat as mk\n",
    "# LOAD_YALE_FULL"
   ]
  },
  {
   "cell_type": "code",
   "execution_count": null,
   "id": "dac7f35f-140f-4c1d-9aa4-58eac9d12c65",
   "metadata": {},
   "outputs": [],
   "source": [
    "# yale_fossil_dir = \"/media/data_cifs/projects/prj_fossils/data/yale_fossil/outblur_yale\"\n",
    "\n",
    "yale_fossil_dirs = {\"outblur_yale\": \"/media/data_cifs/projects/prj_fossils/data/yale_fossil/outblur_yale\",\n",
    "                    \"outblur_yale_tt5_lt3\": \"/media/data_cifs/projects/prj_fossils/data/yale_fossil/outblur_yale_tt5_lt3\",\n",
    "                    \"yale\":\"/media/data_cifs/projects/prj_fossils/data/yale_fossil/yale\",\n",
    "                    \"yale_full\":\"/media/data_cifs/projects/prj_fossils/data/yale_full\"\n",
    "                   }\n",
    "\n",
    "dir_keys = [\n",
    "    \"outblur_yale\",\n",
    "    \"outblur_yale_tt5_lt3\",\n",
    "    \"yale\",\n",
    "    \"yale_full\"\n",
    "]\n"
   ]
  },
  {
   "cell_type": "code",
   "execution_count": null,
   "id": "0806ed09-303b-4b25-a97e-d4c79c6787f0",
   "metadata": {},
   "outputs": [],
   "source": [
    "# dir(mk.config.DisplayOptions)\n",
    "display_res = 512\n",
    "# print(mk.config.DisplayOptions.max_image_width)\n",
    "mk.config.DisplayOptions.max_image_width = display_res\n",
    "mk.config.DisplayOptions.max_image_height = display_res\n",
    "print(f\"{mk.config.DisplayOptions.max_image_width=}\")"
   ]
  },
  {
   "cell_type": "code",
   "execution_count": null,
   "id": "59959232-a952-4690-bf4b-6fc0fe15118a",
   "metadata": {},
   "outputs": [],
   "source": [
    "%%time\n",
    "\n",
    "from typing import *\n",
    "# fpaths = {}\n",
    "# dps = {}\n",
    "\n",
    "    \n",
    "def extract_dataset_from_file_list(fpaths: List) -> mk.DataPanel:\n",
    "    dp = mk.DataPanel({\n",
    "        \"paths\" : fpaths,\n",
    "        \"file_ids\" : [Path(p).stem for p in fpaths],\n",
    "        \"imgs\" : mk.ImageColumn.from_filepaths(fpaths)\n",
    "    })\n",
    "    dp[\"height\"] = dp[\"imgs\"].to_lambda(fn=lambda x: x.height)\n",
    "    # dp[k][\"mean\"] = dp[k][\"imgs\"].to_lambda(fn=lambda x: Stat(x).mean)\n",
    "    dp[\"width\"] = dp[\"imgs\"].to_lambda(fn=lambda x: x.width)\n",
    "    dp[\"aspect_ratio\"] = dp[[\"height\", \"width\"]].to_lambda(fn=lambda x: x[\"height\"] / x[\"width\"])\n",
    "    \n",
    "    return dp\n",
    "\n",
    "    \n",
    "def extract_dataset_from_directory(parent_dir) -> mk.DataPanel:\n",
    "    \n",
    "    blacklist = [\".ipynb_checkpoints\"]\n",
    "    fpaths = sorted([os.path.join(parent_dir, p) for p in os.listdir(parent_dir) if p not in blacklist])\n",
    "    \n",
    "    return extract_dataset_from_file_list(fpaths)"
   ]
  },
  {
   "cell_type": "code",
   "execution_count": null,
   "id": "ffdb42e7-abc1-4b5f-b7af-0ad0b713d68d",
   "metadata": {},
   "outputs": [],
   "source": [
    "yale_full = extract_dataset_from_directory(parent_dir=yale_fossil_dirs[\"yale_full\"])\n",
    "dp = yale_full\n",
    "dp.lz[:3]"
   ]
  },
  {
   "cell_type": "code",
   "execution_count": null,
   "id": "24d21264-b927-48eb-ad6d-c33f8ac66dd3",
   "metadata": {},
   "outputs": [],
   "source": [
    "# dir(dp[\"height\"])\n",
    "\n",
    "# %%time\n",
    "\n",
    "# # dp[\"height\"] = mk.PandasSeriesColumn(dp[\"height\"].copy())\n",
    "# height = dp.lz[:10][\"height\"].copy()\n",
    "\n",
    "# height\n",
    "\n",
    "# %%time\n",
    "\n",
    "# # dp[\"height\"] = mk.PandasSeriesColumn(dp[\"height\"].copy())\n",
    "# height = dp[\"height\"].lz[:10].copy()\n",
    "# height\n",
    "\n",
    "# %%time\n",
    "\n",
    "# # dp[\"height\"] = mk.PandasSeriesColumn(dp[\"height\"].copy())\n",
    "# height = dp[\"height\"].copy().lz[:10]\n",
    "# height\n",
    "\n",
    "# height._get_state()\n",
    "\n",
    "# height._get\n",
    "\n",
    "# %%time\n",
    "\n",
    "# # dp[\"height\"] = mk.PandasSeriesColumn(dp[\"height\"].copy())\n",
    "# height = dp[\"height\"].copy()\n",
    "\n",
    "# height\n",
    "\n",
    "# %%time\n",
    "# height = dp[\"height\"].view()\n",
    "# height\n",
    "# dp[\"height\"] = dp[\"height\"].copy()\n",
    "# dp[\"height\"] = mk.PandasSeriesColumn(dp[\"height\"].copy())\n",
    "# dp.head()\n",
    "\n",
    "# height = dp[\"height\"].data\n",
    "# height"
   ]
  },
  {
   "cell_type": "markdown",
   "id": "2d3fedd0-bbb9-4e47-a38f-f6c6d3add136",
   "metadata": {},
   "source": [
    "### Export parsed file ids catalog to tsv"
   ]
  },
  {
   "cell_type": "code",
   "execution_count": null,
   "id": "161e087e-1a8d-4ab0-a9c4-8a157eec6210",
   "metadata": {},
   "outputs": [],
   "source": [
    "dp[[\"paths\", \"file_ids\"]].to_pandas().to_csv(\"/media/data_cifs/projects/prj_fossils/data/raw_data/2022-yale_fossil/metadata-merged/0_image_file_ids.tsv\", sep=\"\\t\", na_rep=\"NaN\")"
   ]
  },
  {
   "cell_type": "code",
   "execution_count": null,
   "id": "20c6ec55-cb00-4437-8b9e-6aaa5bc2a54b",
   "metadata": {},
   "outputs": [],
   "source": []
  },
  {
   "cell_type": "markdown",
   "id": "46a9693c-5d2b-4619-ba28-d697fe9ffb8d",
   "metadata": {},
   "source": [
    "### extracting yale metadata"
   ]
  },
  {
   "cell_type": "code",
   "execution_count": null,
   "id": "44c4e9dd-531c-440c-aaa3-3c0a8c13b5d1",
   "metadata": {},
   "outputs": [],
   "source": [
    "# metadata_dir = \"/media/data_cifs/projects/prj_fossils/data/raw_data/2022-yale_fossil/metadata/\"\n",
    "metadata_dir = \"/media/data_cifs/projects/prj_fossils/data/raw_data/2022-yale_fossil/metadata-clean\"\n",
    "occurrence_df = pd.read_csv(Path(metadata_dir, \"occurrence-clean.txt\"), delimiter=\"\\t\")#, nrows=9449)\n",
    "# occurrence_df = pd.read_json(Path(metadata_dir, \"occurrence.txt\"), skiprows)\n",
    "occurrence_df.head()"
   ]
  },
  {
   "cell_type": "code",
   "execution_count": null,
   "id": "30a137b9-f466-4ded-9d0e-625441306c65",
   "metadata": {},
   "outputs": [],
   "source": [
    "multimedia_df = pd.read_csv(Path(metadata_dir, \"multimedia-clean.txt\"), delimiter=\"\\t\", nrows=9449)\n",
    "# occurrence_df = pd.read_json(Path(metadata_dir, \"occurrence.txt\"), skiprows)\n",
    "\n",
    "multimedia_df.head()"
   ]
  },
  {
   "cell_type": "code",
   "execution_count": null,
   "id": "d3eec513-7484-4cf9-bc1d-25472b2c0ad1",
   "metadata": {},
   "outputs": [],
   "source": [
    "multimedia_df.columns\n",
    "\n",
    "occurrence_df.columns"
   ]
  },
  {
   "cell_type": "code",
   "execution_count": null,
   "id": "7d3f3dba-141d-474b-80f7-50fbd540f2a6",
   "metadata": {},
   "outputs": [],
   "source": [
    "from matplotlib_venn import venn2\n",
    "# venn2(subsets = (3, 2, 1))\n",
    "subsets = (set(multimedia_df.columns.values.tolist()),\n",
    "           set(occurrence_df.columns.values.tolist()))\n",
    "venn2(subsets = subsets)"
   ]
  },
  {
   "cell_type": "code",
   "execution_count": null,
   "id": "27463e10-baa4-4c61-9014-c4663a5016de",
   "metadata": {},
   "outputs": [],
   "source": [
    "subsets[0].intersection(subsets[1])"
   ]
  },
  {
   "cell_type": "code",
   "execution_count": null,
   "id": "aefc0829-5884-46ff-8d10-aff43135818b",
   "metadata": {},
   "outputs": [],
   "source": [
    "from supervenn import supervenn\n",
    "import matplotlib.pyplot as plt\n",
    "import seaborn as sns"
   ]
  },
  {
   "cell_type": "code",
   "execution_count": null,
   "id": "be5ad7cf-b3de-4b01-b032-cf67bf8f601d",
   "metadata": {},
   "outputs": [],
   "source": [
    "%%time\n",
    "\n",
    "merged = multimedia_df.merge(occurrence_df, how=\"inner\", on=\"id\")\n",
    "print(f\"{multimedia_df.shape=}, {occurrence_df.shape=}, {merged.shape=}\")\n",
    "\n",
    "merged = merged[sorted(merged.columns)]\n",
    "\n",
    "merged.describe(include='all')"
   ]
  },
  {
   "cell_type": "code",
   "execution_count": null,
   "id": "4586b9ef-bcba-44be-93b0-12d3c0d86a62",
   "metadata": {},
   "outputs": [],
   "source": [
    "merged_cols = ['id',\n",
    "               'identifier',\n",
    "               'catalogNumber',\n",
    "               'year',\n",
    "               'datasetID',\n",
    "               'datasetName',\n",
    "               'dateIdentified',\n",
    "               'class',\n",
    "               'kingdom',\n",
    "               'order',\n",
    "               'family',\n",
    "               'genus',\n",
    "               'subgenus',\n",
    "               'specificEpithet',\n",
    "               'phylum',\n",
    "               'scientificName',\n",
    "               'taxonRank',\n",
    "               'institutionID',\n",
    "               'locality',\n",
    "               'accessURI',\n",
    "               'associatedMedia',\n",
    "               'associatedOccurrences',\n",
    "               'associatedReferences',\n",
    "               'associatedSequences',\n",
    "               'associatedTaxa',\n",
    "               'MetadataDate',\n",
    "               'WebStatement',\n",
    " 'accessRights',\n",
    " 'basisOfRecord',\n",
    " 'behavior',\n",
    " 'bibliographicCitation',\n",
    " 'collectionCode',\n",
    " 'collectionID',\n",
    " 'comments',\n",
    " 'continent',\n",
    " 'coordinateUncertaintyInMeters',\n",
    " 'country',\n",
    " 'county',\n",
    " 'creator',\n",
    " 'creator.1',\n",
    " 'dataGeneralizations',\n",
    " 'day',\n",
    " 'decimalLatitude',\n",
    " 'decimalLongitude',\n",
    " 'digitizationDate',\n",
    " 'disposition',\n",
    " 'dynamicProperties',\n",
    " 'earliestAgeOrLowestStage',\n",
    " 'earliestEpochOrLowestSeries',\n",
    " 'earliestPeriodOrLowestSystem',\n",
    " 'eventDate',\n",
    " 'eventTime',\n",
    " 'fieldNumber',\n",
    " 'format',\n",
    " 'format.1',\n",
    " 'formation',\n",
    " 'geodeticDatum',\n",
    " 'georeferenceProtocol',\n",
    " 'georeferenceRemarks',\n",
    " 'georeferenceSources',\n",
    " 'georeferencedBy',\n",
    " 'georeferencedDate',\n",
    " 'group',\n",
    " 'habitat',\n",
    " 'higherClassification',\n",
    " 'higherGeography',\n",
    " 'identificationQualifier',\n",
    " 'identificationReferences',\n",
    " 'identificationRemarks',\n",
    " 'identifiedBy',\n",
    " 'individualCount',\n",
    " 'informationWithheld',\n",
    " 'infraspecificEpithet',\n",
    " 'institutionCode',\n",
    " 'language',\n",
    " 'license',\n",
    " 'lifeStage',\n",
    " 'lowestBiostratigraphicZone',\n",
    " 'maximumDepthInMeters',\n",
    " 'maximumElevationInMeters',\n",
    " 'member',\n",
    " 'metadataLanguage',\n",
    " 'minimumDepthInMeters',\n",
    " 'minimumElevationInMeters',\n",
    " 'modified',\n",
    " 'month',\n",
    " 'municipality',\n",
    " 'nomenclaturalCode',\n",
    " 'occurrenceID',\n",
    " 'occurrenceRemarks',\n",
    " 'otherCatalogNumbers',\n",
    " 'ownerInstitutionCode',\n",
    " 'preparations',\n",
    " 'previousIdentifications',\n",
    " 'providerManagedID',\n",
    " 'recordNumber',\n",
    " 'recordedBy',\n",
    " 'references',\n",
    " 'reproductiveCondition',\n",
    " 'rights',\n",
    " 'rights.1',\n",
    " 'rightsHolder',\n",
    " 'scientificNameAuthorship',\n",
    " 'sex',\n",
    " 'stateProvince',\n",
    " 'taxonRemarks',\n",
    " 'title',\n",
    " 'type.1',\n",
    " 'typeStatus',\n",
    " 'type_x',\n",
    " 'type_y',\n",
    " 'verbatimDepth',\n",
    " 'verbatimElevation',\n",
    " 'verbatimEventDate',\n",
    " 'verbatimLatitude',\n",
    " 'verbatimLongitude',\n",
    " 'vernacularName',\n",
    " 'waterBody']\n",
    "\n",
    "\n",
    "merged = merged[merged_cols]\n",
    "\n",
    "merged = merged.convert_dtypes()\n",
    "\n",
    "merged = merged.assign(digitizationDate = merged.digitizationDate.astype(pd.StringDtype()))\n",
    "\n",
    "\n",
    "merged.describe(include='all')"
   ]
  },
  {
   "cell_type": "code",
   "execution_count": null,
   "id": "8199e694-6926-44ce-b7fd-7c1fd092e160",
   "metadata": {},
   "outputs": [],
   "source": [
    "merged.head()"
   ]
  },
  {
   "cell_type": "code",
   "execution_count": null,
   "id": "06f82fab-a74e-4b0f-b632-818180adc3dc",
   "metadata": {},
   "outputs": [],
   "source": [
    "merged.info(verbose=True)"
   ]
  },
  {
   "cell_type": "code",
   "execution_count": null,
   "id": "155a86f6-d42b-4aed-aa88-d3d44c257769",
   "metadata": {},
   "outputs": [],
   "source": [
    "output_dir = \"/media/data_cifs/projects/prj_fossils/data/raw_data/2022-yale_fossil/metadata-merged\"\n",
    "output_filename = \"1_multimedia_merged_with_occurrences_metadata_on_id.tsv\"\n",
    "\n",
    "merged.to_csv(Path(output_dir, output_filename), sep=\"\\t\", na_rep=\"NaN\")"
   ]
  },
  {
   "cell_type": "code",
   "execution_count": null,
   "id": "81eba3ba-d958-45fe-baa8-db2a490601a8",
   "metadata": {},
   "outputs": [],
   "source": [
    "loaded = pd.read_csv(Path(output_dir, output_filename), sep=\"\\t\", index_col=0) #, na_rep=\"NaN\")\n",
    "\n",
    "loaded = loaded.convert_dtypes()\n",
    "loaded = loaded.assign(digitizationDate = loaded.digitizationDate.astype(pd.StringDtype()))\n",
    "\n",
    "assert loaded.equals(merged)\n",
    "# loaded.info(verbose=True)"
   ]
  },
  {
   "cell_type": "code",
   "execution_count": null,
   "id": "82ae0a1c-5537-4486-8cb6-c351fa76b117",
   "metadata": {},
   "outputs": [],
   "source": [
    "merged_multimedia_w_occurrences_df = merged"
   ]
  },
  {
   "cell_type": "code",
   "execution_count": null,
   "id": "807cdba2-4b11-40a6-ac5c-410b0cd6dac6",
   "metadata": {},
   "outputs": [],
   "source": [
    "%%time\n",
    "\n",
    "# merged = dp.merge(mk.DataPanel.from_pandas(multimedia_df), how=\"left\", left_on=\"file_ids\", right_on=\"identifier\")\n",
    "df = dp.view().to_pandas().drop(columns=[\"imgs\", \"height\", \"width\", \"aspect_ratio\"])\n",
    "\n",
    "merged = df.merge(merged_multimedia_w_occurrences_df, how=\"left\", left_on=\"file_ids\", right_on=\"identifier\")\n",
    "print(f\"{df.shape=}, {dp.shape=}, {merged.shape=}, {merged_multimedia_w_occurrences_df.shape=}\")"
   ]
  },
  {
   "cell_type": "code",
   "execution_count": null,
   "id": "dc86986d-428e-4a3f-9d38-b1253ef43982",
   "metadata": {},
   "outputs": [],
   "source": [
    "output_dir = \"/media/data_cifs/projects/prj_fossils/data/raw_data/2022-yale_fossil/metadata-merged\"\n",
    "output_filename = \"2_image_file_ids_matched_with_multimedia_identifier_column.tsv\"\n",
    "\n",
    "merged.to_csv(Path(output_dir, output_filename), sep=\"\\t\", na_rep=\"NaN\")"
   ]
  },
  {
   "cell_type": "code",
   "execution_count": null,
   "id": "cc8d6cda-6f8e-4283-89f8-951e67063eb1",
   "metadata": {},
   "outputs": [],
   "source": [
    "merged.head()"
   ]
  },
  {
   "cell_type": "code",
   "execution_count": null,
   "id": "0641e23b-583e-4bcc-b611-fd930739b7a5",
   "metadata": {},
   "outputs": [],
   "source": []
  },
  {
   "cell_type": "code",
   "execution_count": null,
   "id": "78a9ec4a-e337-4150-8c7f-66ceccddb182",
   "metadata": {},
   "outputs": [],
   "source": [
    "merged.describe(include='all')"
   ]
  },
  {
   "cell_type": "code",
   "execution_count": null,
   "id": "6364d64a-d71f-4145-81f2-f04d1e6c2bb7",
   "metadata": {},
   "outputs": [],
   "source": []
  },
  {
   "cell_type": "code",
   "execution_count": null,
   "id": "a1b1b9d2-1b56-47a2-bb87-66c1189bcd84",
   "metadata": {},
   "outputs": [],
   "source": [
    "columns = ['paths',\n",
    " 'file_ids',\n",
    " 'identifier',\n",
    " 'id',\n",
    " 'imgs',\n",
    " 'height',\n",
    " 'width',\n",
    " 'aspect_ratio',\n",
    " 'type',\n",
    " 'type.1',\n",
    " 'title',\n",
    " 'MetadataDate',\n",
    " 'metadataLanguage',\n",
    " 'providerManagedID',\n",
    " 'comments',\n",
    " 'rights',\n",
    " 'rights.1',\n",
    " 'WebStatement',\n",
    " 'creator',\n",
    " 'creator.1',\n",
    " 'digitizationDate',\n",
    " 'accessURI',\n",
    " 'format',\n",
    " 'format.1']\n",
    "\n",
    "merged[columns]"
   ]
  },
  {
   "cell_type": "code",
   "execution_count": null,
   "id": "f5ba87c4-befe-468d-91c2-085c098bbb40",
   "metadata": {},
   "outputs": [],
   "source": []
  },
  {
   "cell_type": "code",
   "execution_count": null,
   "id": "eacf91e5-c1b9-4a81-9464-3ad5fb6128c3",
   "metadata": {},
   "outputs": [],
   "source": []
  },
  {
   "cell_type": "code",
   "execution_count": null,
   "id": "ab5d92e9-4cf0-4181-a053-9759f95e2f43",
   "metadata": {},
   "outputs": [],
   "source": [
    "dp"
   ]
  },
  {
   "cell_type": "code",
   "execution_count": null,
   "id": "07e5ebaf-35e7-4240-af2c-31dc8e50e7f4",
   "metadata": {},
   "outputs": [],
   "source": []
  },
  {
   "cell_type": "code",
   "execution_count": null,
   "id": "a178ea95-d598-4419-8a50-927705c9e100",
   "metadata": {},
   "outputs": [],
   "source": [
    "merged.digitizationDate.value_counts()#dtype"
   ]
  },
  {
   "cell_type": "code",
   "execution_count": null,
   "id": "49c5d3f8-a897-469b-9fb9-d5b637fd7bb4",
   "metadata": {},
   "outputs": [],
   "source": [
    "loaded.digitizationDate.value_counts()#dtype"
   ]
  },
  {
   "cell_type": "code",
   "execution_count": null,
   "id": "b0b54d03-6b4b-4dda-b264-d538df2d2b84",
   "metadata": {},
   "outputs": [],
   "source": [
    "loaded.describe(include='all')"
   ]
  },
  {
   "cell_type": "code",
   "execution_count": null,
   "id": "22aba0fa-a8a9-47f0-a3d5-402cda973803",
   "metadata": {},
   "outputs": [],
   "source": []
  },
  {
   "cell_type": "code",
   "execution_count": null,
   "id": "8c898a52-ad42-49cd-87cb-58844ad9ec29",
   "metadata": {},
   "outputs": [],
   "source": [
    "a = merged\n",
    "b = loaded\n",
    "\n",
    "comparison_result = (a == b) | ((a != a) & (b != b))\n",
    "\n",
    "comparison_result\n",
    "\n",
    "# a[a.digitizationDate != b.digitizationDate]\n",
    "\n",
    "\n",
    "ab = a.merge(b, on=\"id\")#, indicator\n",
    "ab = ab[sorted(ab.columns)]\n",
    "\n",
    "ab[ab.digitizationDate_x != ab.digitizationDate_y]\n",
    "# b.digitizationDate\n",
    "\n",
    "ab = ab.convert_dtypes()\n",
    "# b.digitizationDate\n",
    "\n",
    "\n",
    "ab.info(verbose=True)\n",
    "# b.digitizationDate\n",
    "\n",
    "comparison_result.all()"
   ]
  },
  {
   "cell_type": "code",
   "execution_count": null,
   "id": "898a5c37-f3fd-403c-8159-7bccca89ffc6",
   "metadata": {},
   "outputs": [],
   "source": [
    "list(merged.columns)"
   ]
  },
  {
   "cell_type": "code",
   "execution_count": null,
   "id": "c9e1618d-f191-4d1a-ab68-8f13cec5569b",
   "metadata": {},
   "outputs": [],
   "source": [
    "occurrence_df[occurrence_df.id.apply(lambda x: x in merged.id)]"
   ]
  },
  {
   "cell_type": "code",
   "execution_count": null,
   "id": "b79885f1-dff8-4ae0-9c4f-198ff0a8f5dd",
   "metadata": {},
   "outputs": [],
   "source": [
    "%%time\n",
    "\n",
    "# merged = dp.merge(mk.DataPanel.from_pandas(multimedia_df), how=\"left\", left_on=\"file_ids\", right_on=\"identifier\")\n",
    "df = dp.to_pandas()\n",
    "\n",
    "merged = df.merge(multimedia_df, how=\"left\", left_on=\"file_ids\", right_on=\"identifier\")\n",
    "print(f\"{dp.shape=}, {merged.shape=}\")\n",
    "\n",
    "merged.describe(include='all')"
   ]
  },
  {
   "cell_type": "code",
   "execution_count": null,
   "id": "05c1941f-ce70-4a68-9eb2-61b9188b759d",
   "metadata": {},
   "outputs": [],
   "source": [
    "columns = ['paths',\n",
    " 'file_ids',\n",
    " 'identifier',\n",
    " 'id',\n",
    " 'imgs',\n",
    " 'height',\n",
    " 'width',\n",
    " 'aspect_ratio',\n",
    " 'type',\n",
    " 'type.1',\n",
    " 'title',\n",
    " 'MetadataDate',\n",
    " 'metadataLanguage',\n",
    " 'providerManagedID',\n",
    " 'comments',\n",
    " 'rights',\n",
    " 'rights.1',\n",
    " 'WebStatement',\n",
    " 'creator',\n",
    " 'creator.1',\n",
    " 'digitizationDate',\n",
    " 'accessURI',\n",
    " 'format',\n",
    " 'format.1']\n",
    "\n",
    "merged[columns]"
   ]
  },
  {
   "cell_type": "code",
   "execution_count": null,
   "id": "fcafa050-f0e9-4c1e-af4a-8251a6b46c97",
   "metadata": {},
   "outputs": [],
   "source": []
  },
  {
   "cell_type": "code",
   "execution_count": null,
   "id": "adda8722-5669-4709-9b3d-1d1e146315e3",
   "metadata": {},
   "outputs": [],
   "source": [
    "# print(occurrence_df.shape)\n",
    "# occurrence_df.describe(include='all')"
   ]
  },
  {
   "cell_type": "markdown",
   "id": "994693f7-582a-446c-8991-a7069fef20ce",
   "metadata": {},
   "source": [
    "### plots"
   ]
  },
  {
   "cell_type": "code",
   "execution_count": null,
   "id": "3e6f6a69-d31e-45ad-ad25-febdd7459675",
   "metadata": {},
   "outputs": [],
   "source": [
    "#!pip3 install streamlit-aggrid\n",
    "# !pip3 install streamlit-pandas-profiling"
   ]
  },
  {
   "cell_type": "code",
   "execution_count": null,
   "id": "0cce8c86-1d58-4093-9f82-c892103e7a5d",
   "metadata": {},
   "outputs": [],
   "source": [
    "from streamlit_pandas_profiling import st_profile_report"
   ]
  },
  {
   "cell_type": "code",
   "execution_count": null,
   "id": "f7c20975-44af-4d29-bbad-4169c9f90a15",
   "metadata": {},
   "outputs": [],
   "source": [
    "st_profile_report"
   ]
  },
  {
   "cell_type": "code",
   "execution_count": null,
   "id": "253bf5be-2e08-4726-a371-56c70bf43705",
   "metadata": {},
   "outputs": [],
   "source": [
    "#Create two columns with different width\n",
    "col1, col2 = st.columns( [0.8, 0.2])\n",
    "with col1:               # To display the header text using css style\n",
    "    st.markdown(\"\"\" <style> .font {\n",
    "    font-size:35px ; font-family: 'Cooper Black'; color: #FF9633;} \n",
    "    </style> \"\"\", unsafe_allow_html=True)\n",
    "    st.markdown('<p class=\"font\">Upload your photo here...</p>', unsafe_allow_html=True)\n",
    "    \n",
    "with col2:               # To display brand logo\n",
    "    st.image(image,  width=150)"
   ]
  },
  {
   "cell_type": "code",
   "execution_count": null,
   "id": "c095605a-7cf2-41ae-8889-6a5202355215",
   "metadata": {},
   "outputs": [],
   "source": [
    "import missingno as msno\n",
    "%matplotlib inline"
   ]
  },
  {
   "cell_type": "code",
   "execution_count": null,
   "id": "9536bcd3-cf95-4252-963e-a109e5f98025",
   "metadata": {},
   "outputs": [],
   "source": [
    "%%time\n",
    "\n",
    "msno.matrix(occurrence_df, sort='descending') #.sample(2000))"
   ]
  },
  {
   "cell_type": "code",
   "execution_count": null,
   "id": "cc33947b-2627-4e14-b068-8e4f4a8c3d1b",
   "metadata": {},
   "outputs": [],
   "source": [
    "%%time\n",
    "import matplotlib.pyplot as plt\n",
    "\n",
    "plt.figure(figsize=(35,30))\n",
    "msno.heatmap(occurrence_df, sort='descending', ax=plt.gca())#.sample(2000))"
   ]
  },
  {
   "cell_type": "code",
   "execution_count": null,
   "id": "bda230c2-4a5e-4ef6-9465-56f7b47adb07",
   "metadata": {},
   "outputs": [],
   "source": [
    "%%time\n",
    "import matplotlib.pyplot as plt\n",
    "\n",
    "# plt.figure(figsize=(35,30))\n",
    "msno.dendrogram(occurrence_df, orientation=\"top\", figsize=(40,20))"
   ]
  },
  {
   "cell_type": "code",
   "execution_count": null,
   "id": "7857ac37-1d1d-4e8d-915a-eae0448cc029",
   "metadata": {},
   "outputs": [],
   "source": [
    "%%time\n",
    "\n",
    "msno.bar(occurrence_df, sort='descending')#.sample(2000))"
   ]
  },
  {
   "cell_type": "code",
   "execution_count": null,
   "id": "e03d9ca9-fa91-4438-8908-3b9e930311f9",
   "metadata": {},
   "outputs": [],
   "source": [
    "dir(msno)"
   ]
  },
  {
   "cell_type": "code",
   "execution_count": null,
   "id": "6a49bfad-dbb6-4bee-8566-e9c66bbdbb3c",
   "metadata": {},
   "outputs": [],
   "source": [
    "\n",
    "\n",
    "\n",
    "\n",
    "dir(mk.DataPanel)"
   ]
  },
  {
   "cell_type": "code",
   "execution_count": null,
   "id": "ca758a18-2c2f-4c83-b673-17e4294aacdc",
   "metadata": {},
   "outputs": [],
   "source": [
    "mk.DataPanel\n",
    "merged = dp.merge(mk.DataPanel.from_pandas(occurrence_df), how=\"left\", left_on=\"file_ids\", right_on=\"id\")\n",
    "\n",
    "print(f\"{dp.shape=}, {merged.shape=}\")"
   ]
  },
  {
   "cell_type": "code",
   "execution_count": null,
   "id": "4be69677-c53b-497e-9671-c2413e3b8fe1",
   "metadata": {},
   "outputs": [],
   "source": [
    "%%time\n",
    "\n",
    "merged_df = merged.to_pandas()\n",
    "\n",
    "merged_df.describe(include='all')"
   ]
  },
  {
   "cell_type": "code",
   "execution_count": null,
   "id": "f70c6bb9-291c-4921-9169-34bc46c76c6a",
   "metadata": {},
   "outputs": [],
   "source": [
    "merged.to_pandas().describe(include='all')"
   ]
  },
  {
   "cell_type": "code",
   "execution_count": null,
   "id": "f9375080-a26e-4132-8a87-0acdfce380bd",
   "metadata": {},
   "outputs": [],
   "source": [
    "merged.columns"
   ]
  },
  {
   "cell_type": "markdown",
   "id": "e872dd68-5de5-403f-8c52-ee5a6f1e64e8",
   "metadata": {},
   "source": [
    "### Fuzzy matching"
   ]
  },
  {
   "cell_type": "code",
   "execution_count": null,
   "id": "092c5148-7516-4b89-92c1-c652d58af26a",
   "metadata": {},
   "outputs": [],
   "source": [
    "#!pip3 install fuzzy_pandas\n",
    "!pip3 install fuzzymatcher"
   ]
  },
  {
   "cell_type": "code",
   "execution_count": null,
   "id": "c7a0eb84-9ad0-4820-ad89-bdde0d6d918e",
   "metadata": {},
   "outputs": [],
   "source": [
    "import pandas as pd\n",
    "# import fuzzy_pandas as fpd\n",
    "\n",
    "df1 = df.iloc[:10,:]\n",
    "# df2 = occurrence_df\n",
    "\n",
    "df2 = multimedia_df\n",
    "\n",
    "import fuzzymatcher"
   ]
  },
  {
   "cell_type": "code",
   "execution_count": null,
   "id": "d5195af3-673c-4331-8574-28b3b2bb69f5",
   "metadata": {},
   "outputs": [],
   "source": [
    "merged = fuzzymatcher.fuzzy_left_join(df1, df2,\n",
    "                             left_on = \"file_ids\",\n",
    "                             right_on = \"identifier\")\n",
    "                             # right_on = \"id\")\n",
    "\n",
    "merged"
   ]
  },
  {
   "cell_type": "code",
   "execution_count": null,
   "id": "234e33ed-a3dd-4a00-93e0-47ab505dd2a4",
   "metadata": {},
   "outputs": [],
   "source": [
    "merged.columns"
   ]
  },
  {
   "cell_type": "code",
   "execution_count": null,
   "id": "cfc5af50-469b-4845-8eba-2d9dfd79e75a",
   "metadata": {},
   "outputs": [],
   "source": [
    "merged.sort_values(\"best_match_score\", ascending=False)"
   ]
  },
  {
   "cell_type": "code",
   "execution_count": null,
   "id": "12a98870-e3e2-4757-b14b-f2668796ccfd",
   "metadata": {},
   "outputs": [],
   "source": [
    "merged = fpd.fuzzy_merge(df1, df2,\n",
    "                         left_on=['file_ids'],\n",
    "                         right_on=['id'],\n",
    "                         method=\"levenshtein\",\n",
    "                         ignore_case=True,\n",
    "                         keep='match')\n",
    "merged"
   ]
  },
  {
   "cell_type": "code",
   "execution_count": null,
   "id": "7487e36e-7805-4f68-8893-964ebace29bd",
   "metadata": {},
   "outputs": [],
   "source": [
    "import pandas as pd\n",
    "import fuzzy_pandas as fpd\n",
    "\n",
    "df1 = df.iloc[:10,:]\n",
    "df2 = occurrence_df\n",
    "\n",
    "merged = fpd.fuzzy_merge(df1, df2,\n",
    "                         left_on=['file_ids'],\n",
    "                         right_on=['id'],\n",
    "                         method=\"levenshtein\",\n",
    "                         ignore_case=True,\n",
    "                         keep='match')\n",
    "merged"
   ]
  },
  {
   "cell_type": "code",
   "execution_count": null,
   "id": "c783377a-fa29-4a13-82f8-c35431044c54",
   "metadata": {},
   "outputs": [],
   "source": []
  },
  {
   "cell_type": "code",
   "execution_count": null,
   "id": "43dbbd45-c715-43d4-a171-2dbcaf078b07",
   "metadata": {},
   "outputs": [],
   "source": []
  },
  {
   "cell_type": "code",
   "execution_count": null,
   "id": "9a0f3db6-481e-4abc-9267-2a52070f5242",
   "metadata": {},
   "outputs": [],
   "source": []
  },
  {
   "cell_type": "code",
   "execution_count": null,
   "id": "88a9122b-d5ca-4b77-a5e3-87180e82b515",
   "metadata": {},
   "outputs": [],
   "source": []
  },
  {
   "cell_type": "code",
   "execution_count": null,
   "id": "66ed3f79-e608-4263-a8d9-c9ea61b8144a",
   "metadata": {},
   "outputs": [],
   "source": []
  },
  {
   "cell_type": "code",
   "execution_count": null,
   "id": "54481b19-974b-437f-9c94-13404c362b7c",
   "metadata": {},
   "outputs": [],
   "source": []
  },
  {
   "cell_type": "code",
   "execution_count": null,
   "id": "b5c444cf-8fe4-4b1b-88de-e929699640c7",
   "metadata": {},
   "outputs": [],
   "source": []
  },
  {
   "cell_type": "code",
   "execution_count": null,
   "id": "9d9aa5f5-f0ef-4b11-a144-537865340cb5",
   "metadata": {},
   "outputs": [],
   "source": []
  },
  {
   "cell_type": "code",
   "execution_count": null,
   "id": "3b56adb0-a49d-4d68-91a8-4bc268334ab6",
   "metadata": {},
   "outputs": [],
   "source": []
  },
  {
   "cell_type": "code",
   "execution_count": null,
   "id": "95ad3e6e-672e-4671-a6c3-dec16e170896",
   "metadata": {},
   "outputs": [],
   "source": [
    "!head -n 1 {metadata_dir}/occurrence.txt"
   ]
  },
  {
   "cell_type": "code",
   "execution_count": null,
   "id": "3344b2a0-58f0-4b81-825c-da1b4daaed96",
   "metadata": {},
   "outputs": [],
   "source": [
    "multimedia_df = pd.read_csv(Path(metadata_dir, \"multimedia.txt\"), delimiter=\"\\t\", nrows=9449)\n",
    "# occurrence_df = pd.read_json(Path(metadata_dir, \"occurrence.txt\"), skiprows)\n",
    "\n",
    "multimedia_df.head()"
   ]
  },
  {
   "cell_type": "code",
   "execution_count": null,
   "id": "4e770ebc-7bce-446c-9569-420c346a4de0",
   "metadata": {},
   "outputs": [],
   "source": [
    "multimedia_dp = extract_dataset_from_file_list(fpaths = multimedia_df.accessURI)\n",
    "multimedia_dp.lz\n",
    "\n"
   ]
  },
  {
   "cell_type": "code",
   "execution_count": null,
   "id": "d893052f-f6ba-4d45-845b-c03c6b254040",
   "metadata": {},
   "outputs": [],
   "source": []
  },
  {
   "cell_type": "code",
   "execution_count": null,
   "id": "c080449f-4f13-49ef-a497-eb4b7daf5a4d",
   "metadata": {},
   "outputs": [],
   "source": [
    "occurrence_df = pd.read_csv(Path(metadata_dir, \"occurrence.txt\"), delimiter=\"\\t\", nrows=9449)\n",
    "# occurrence_df = pd.read_json(Path(metadata_dir, \"occurrence.txt\"), skiprows)\n",
    "\n",
    "occurrence_df.head()"
   ]
  },
  {
   "cell_type": "code",
   "execution_count": null,
   "id": "4ecdf5db-aa68-46c1-a2c7-76c30685c844",
   "metadata": {},
   "outputs": [],
   "source": [
    "occurrence_df.describe(include='all')"
   ]
  },
  {
   "cell_type": "code",
   "execution_count": null,
   "id": "731f114a-aa91-44ae-9792-ac107a8bc0ab",
   "metadata": {},
   "outputs": [],
   "source": [
    "occurrence_df.columns.values"
   ]
  },
  {
   "cell_type": "code",
   "execution_count": null,
   "id": "84abca28-c59b-4cac-9087-a0e882b652ab",
   "metadata": {},
   "outputs": [],
   "source": [
    "# dir(Path(fpaths[k][0]))\n",
    "# Path(fpaths[k][0]).stem\n",
    "# Path(fpaths[k][0]).name\n",
    "\n",
    "\n",
    "\n",
    "\n",
    "\n",
    "\n",
    "\n"
   ]
  },
  {
   "cell_type": "markdown",
   "id": "ab651947-62c7-412f-a93c-05e6dc2d56ff",
   "metadata": {
    "tags": []
   },
   "source": [
    "# Misc"
   ]
  },
  {
   "cell_type": "code",
   "execution_count": null,
   "id": "99dc9d6d-cff4-4e25-a3f6-31a9a11a719f",
   "metadata": {},
   "outputs": [],
   "source": [
    "# from supervenn import supervenn\n",
    "# import matplotlib.pyplot as plt\n",
    "# import seaborn as sns\n",
    "\n",
    "# style_list = ['default', 'classic'] + sorted(\n",
    "#     style for style in plt.style.available if style != 'classic'\n",
    "# )\n",
    "\n",
    "# pp(style_list)\n",
    "# style_label = \"seaborn-notebook\"\n",
    "# plt.style.context(style_label)\n",
    "\n",
    "\n",
    "\n",
    "# Plot a demonstration figure for every available style sheet.\n",
    "# for style_label in style_list:\n",
    "    # with plt.rc_context({\"figure.max_open_warning\": len(style_list)}):\n",
    "        # with plt.style.context(style_label)\n",
    "\n",
    "\n",
    "\n",
    "\n",
    "\n",
    "    \n",
    "    \n",
    "    \n",
    "# for k,v in yale_fossil_dirs.items():\n",
    "#     fpaths[k] = [os.path.join(v, p) for p in os.listdir(v)]\n",
    "#     dps[k] = mk.DataPanel({\n",
    "#         \"paths\" : fpaths[k],\n",
    "#         \"file_ids\" : [Path(p).stem for p in fpaths[k]],\n",
    "#         \"imgs\" : mk.ImageColumn.from_filepaths(fpaths[k])\n",
    "#     })\n",
    "#     dps[k][\"height\"] = dps[k][\"imgs\"].to_lambda(fn=lambda x: x.height)\n",
    "#     # dps[k][\"mean\"] = dps[k][\"imgs\"].to_lambda(fn=lambda x: Stat(x).mean)\n",
    "#     dps[k][\"width\"] = dps[k][\"imgs\"].to_lambda(fn=lambda x: x.width)"
   ]
  }
 ],
 "metadata": {
  "kernelspec": {
   "display_name": "Python 3 (ipykernel)",
   "language": "python",
   "name": "python3"
  },
  "language_info": {
   "codemirror_mode": {
    "name": "ipython",
    "version": 3
   },
   "file_extension": ".py",
   "mimetype": "text/x-python",
   "name": "python",
   "nbconvert_exporter": "python",
   "pygments_lexer": "ipython3",
   "version": "3.8.13"
  },
  "toc-autonumbering": true
 },
 "nbformat": 4,
 "nbformat_minor": 5
}
