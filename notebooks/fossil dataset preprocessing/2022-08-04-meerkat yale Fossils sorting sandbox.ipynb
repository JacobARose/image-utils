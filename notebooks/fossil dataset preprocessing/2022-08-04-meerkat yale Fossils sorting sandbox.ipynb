{
 "cells": [
  {
   "cell_type": "markdown",
   "id": "6cefb89f-886c-4af1-992e-19fd00bb7567",
   "metadata": {},
   "source": [
    "# meerkat yale Fossils sorting sandbox\n",
    "\n",
    "Created on: Thursday Aug 4th, 2022  \n",
    "Created by: Jacob A Rose"
   ]
  },
  {
   "cell_type": "code",
   "execution_count": 1,
   "id": "3107a321-18fe-454e-bd84-d803578731fb",
   "metadata": {},
   "outputs": [],
   "source": [
    "from IPython.display import display\n",
    "from IPython.core.interactiveshell import InteractiveShell\n",
    "InteractiveShell.ast_node_interactivity = \"all\"\n",
    "\n",
    "import pandas as pd\n",
    "pd.set_option('display.max_rows', 1000)\n",
    "pd.set_option('display.max_columns', 1000)\n",
    "pd.set_option('display.max_colwidth', 1000)\n",
    "\n",
    "\n",
    "\n",
    "from typing import *\n",
    "from rich import print as pp\n",
    "import os\n",
    "import numpy as np\n",
    "import inspect\n",
    "from tqdm.auto import tqdm\n",
    "from pathlib import Path\n",
    "import logging\n",
    "# from imutils.catalog_registry import available_datasets\n",
    "\n",
    "from PIL.ImageStat import Stat\n",
    "import meerkat as mk"
   ]
  },
  {
   "cell_type": "code",
   "execution_count": null,
   "id": "5e34fe55-1695-4b20-a527-f96d124f025d",
   "metadata": {},
   "outputs": [],
   "source": [
    "display_res = 512\n",
    "# print(mk.config.DisplayOptions.max_image_width)\n",
    "mk.config.DisplayOptions.max_image_width = display_res\n",
    "mk.config.DisplayOptions.max_image_height = display_res\n",
    "print(f\"{mk.config.DisplayOptions.max_image_width=}\")"
   ]
  },
  {
   "cell_type": "code",
   "execution_count": 7,
   "id": "ee100daa-73c4-4792-bdbb-6e96f87894b3",
   "metadata": {},
   "outputs": [],
   "source": [
    "import os\n",
    "os.environ[\"CUDA_VISIBLE_DEVICES\"] = \"6\"\n",
    "import fiftyone as fo\n",
    "import fiftyone.zoo as foz\n",
    "from sklearn.metrics.pairwise import cosine_similarity\n",
    "import numpy as np\n",
    "\n",
    "\n",
    "\n",
    "dataset = foz.load_zoo_dataset(\"cifar100\", shuffle=True, max_samples=1000)\n",
    "model = foz.load_zoo_model(\"mobilenet-v2-imagenet-torch\")\n",
    "\n",
    "embeddings = dataset.compute_embeddings(model)\n",
    "print(embeddings.shape)\n",
    "\n",
    "\n",
    "\n",
    "similarity_matrix = cosine_similarity(embeddings)\n",
    "print(similarity_matrix.shape)\n",
    "print(similarity_matrix)\n",
    "\n",
    "\n",
    "\n",
    "\n",
    "n = len(similarity_matrix)\n",
    "similarity_matrix = similarity_matrix - np.identity(n)\n",
    "\n",
    "from tqdm.auto import tqdm\n",
    "\n",
    "id_map = [s.id for s in dataset.select_fields([\"id\"])]\n",
    "\n",
    "for idx, sample in enumerate(tqdm(dataset)):\n",
    "    sample[\"max_similarity\"] = similarity_matrix[idx].max()\n",
    "    sample.save()\n",
    "\n",
    "session = fo.launch_app(dataset, remote=True)#, port=\"9898\")"
   ]
  },
  {
   "cell_type": "code",
   "execution_count": null,
   "id": "f5d8975f-1424-429f-8f70-e6c74ba2710c",
   "metadata": {},
   "outputs": [],
   "source": []
  },
  {
   "cell_type": "code",
   "execution_count": null,
   "id": "1bc408b3-795c-4734-9d9d-e297fe559c0d",
   "metadata": {},
   "outputs": [],
   "source": []
  },
  {
   "cell_type": "code",
   "execution_count": null,
   "id": "88e69fc6-072f-4a9d-a35c-1f0683958bfb",
   "metadata": {},
   "outputs": [],
   "source": []
  },
  {
   "cell_type": "code",
   "execution_count": null,
   "id": "b06b4343-90fd-45da-a506-0f5db897bb41",
   "metadata": {},
   "outputs": [],
   "source": []
  },
  {
   "cell_type": "code",
   "execution_count": 2,
   "id": "04f30812-b7da-4701-8cd1-1ebcd0e615e1",
   "metadata": {},
   "outputs": [],
   "source": [
    "from typing import *\n",
    "from pathlib import Path\n",
    "\n",
    "def extract_dataset_from_file_list(fpaths: List):\n",
    "    return {\n",
    "        \"paths\" : fpaths,\n",
    "        \"file_ids\" : [Path(p).stem for p in fpaths],\n",
    "        \"imgs\" : [imread(p) for p in fpaths]\n",
    "    }\n",
    "\n",
    "    \n",
    "def extract_dataset_from_directory(parent_dir, max_imgs: Optional[int]=None):\n",
    "    \n",
    "    blacklist = [\".ipynb_checkpoints\"]\n",
    "    fpaths = sorted([os.path.join(parent_dir, p) for p in os.listdir(parent_dir) if p not in blacklist])\n",
    "    \n",
    "    if isinstance(max_imgs, int):\n",
    "        fpaths = fpaths[:max_imgs]\n",
    "    \n",
    "    return extract_dataset_from_file_list(fpaths)"
   ]
  },
  {
   "cell_type": "code",
   "execution_count": 3,
   "id": "ebb20395-06ad-4a00-ac4d-1c6b59fb8f96",
   "metadata": {},
   "outputs": [],
   "source": [
    "yale_fossil_dir = \"/media/data_cifs/projects/prj_fossils/data/yale_full\""
   ]
  },
  {
   "cell_type": "code",
   "execution_count": 4,
   "id": "757ed521-b15a-430f-b962-9a8b3d77013f",
   "metadata": {},
   "outputs": [],
   "source": [
    "img_dict = extract_dataset_from_directory(parent_dir=yale_fossil_dir, max_imgs=5)"
   ]
  },
  {
   "cell_type": "code",
   "execution_count": 6,
   "id": "87cc01e2-7b73-49e1-b01e-ddf92ce09985",
   "metadata": {},
   "outputs": [
    {
     "data": {
      "text/html": [
       "<table>\n",
       "    <tr>\n",
       "        <td>\n",
       "            <table>\n",
       "                <thead>\n",
       "                    <tr>\n",
       "                        <td> </td>\n",
       "                        <th> Array </th>\n",
       "                        <th> Chunk </th>\n",
       "                    </tr>\n",
       "                </thead>\n",
       "                <tbody>\n",
       "                    \n",
       "                    <tr>\n",
       "                        <th> Bytes </th>\n",
       "                        <td> 64.00 MiB </td>\n",
       "                        <td> 64.00 MiB </td>\n",
       "                    </tr>\n",
       "                    \n",
       "                    <tr>\n",
       "                        <th> Shape </th>\n",
       "                        <td> (1, 6000, 3728, 3) </td>\n",
       "                        <td> (1, 6000, 3728, 3) </td>\n",
       "                    </tr>\n",
       "                    <tr>\n",
       "                        <th> Count </th>\n",
       "                        <td> 3 Tasks </td>\n",
       "                        <td> 1 Chunks </td>\n",
       "                    </tr>\n",
       "                    <tr>\n",
       "                    <th> Type </th>\n",
       "                    <td> uint8 </td>\n",
       "                    <td> numpy.ndarray </td>\n",
       "                    </tr>\n",
       "                </tbody>\n",
       "            </table>\n",
       "        </td>\n",
       "        <td>\n",
       "        <svg width=\"336\" height=\"195\" style=\"stroke:rgb(0,0,0);stroke-width:1\" >\n",
       "\n",
       "  <!-- Horizontal lines -->\n",
       "  <line x1=\"0\" y1=\"0\" x2=\"25\" y2=\"0\" style=\"stroke-width:2\" />\n",
       "  <line x1=\"0\" y1=\"25\" x2=\"25\" y2=\"25\" style=\"stroke-width:2\" />\n",
       "\n",
       "  <!-- Vertical lines -->\n",
       "  <line x1=\"0\" y1=\"0\" x2=\"0\" y2=\"25\" style=\"stroke-width:2\" />\n",
       "  <line x1=\"25\" y1=\"0\" x2=\"25\" y2=\"25\" style=\"stroke-width:2\" />\n",
       "\n",
       "  <!-- Colored Rectangle -->\n",
       "  <polygon points=\"0.0,0.0 25.412616514582485,0.0 25.412616514582485,25.412616514582485 0.0,25.412616514582485\" style=\"fill:#ECB172A0;stroke-width:0\"/>\n",
       "\n",
       "  <!-- Text -->\n",
       "  <text x=\"12.706308\" y=\"45.412617\" font-size=\"1.0rem\" font-weight=\"100\" text-anchor=\"middle\" >1</text>\n",
       "  <text x=\"45.412617\" y=\"12.706308\" font-size=\"1.0rem\" font-weight=\"100\" text-anchor=\"middle\" transform=\"rotate(0,45.412617,12.706308)\">1</text>\n",
       "\n",
       "\n",
       "  <!-- Horizontal lines -->\n",
       "  <line x1=\"95\" y1=\"0\" x2=\"165\" y2=\"70\" style=\"stroke-width:2\" />\n",
       "  <line x1=\"95\" y1=\"74\" x2=\"165\" y2=\"145\" style=\"stroke-width:2\" />\n",
       "\n",
       "  <!-- Vertical lines -->\n",
       "  <line x1=\"95\" y1=\"0\" x2=\"95\" y2=\"74\" style=\"stroke-width:2\" />\n",
       "  <line x1=\"165\" y1=\"70\" x2=\"165\" y2=\"145\" style=\"stroke-width:2\" />\n",
       "\n",
       "  <!-- Colored Rectangle -->\n",
       "  <polygon points=\"95.0,0.0 165.58823529411765,70.58823529411765 165.58823529411765,145.14823529411765 95.0,74.56\" style=\"fill:#ECB172A0;stroke-width:0\"/>\n",
       "\n",
       "  <!-- Horizontal lines -->\n",
       "  <line x1=\"95\" y1=\"0\" x2=\"120\" y2=\"0\" style=\"stroke-width:2\" />\n",
       "  <line x1=\"165\" y1=\"70\" x2=\"191\" y2=\"70\" style=\"stroke-width:2\" />\n",
       "\n",
       "  <!-- Vertical lines -->\n",
       "  <line x1=\"95\" y1=\"0\" x2=\"165\" y2=\"70\" style=\"stroke-width:2\" />\n",
       "  <line x1=\"120\" y1=\"0\" x2=\"191\" y2=\"70\" style=\"stroke-width:2\" />\n",
       "\n",
       "  <!-- Colored Rectangle -->\n",
       "  <polygon points=\"95.0,0.0 120.41261651458248,0.0 191.00085180870013,70.58823529411765 165.58823529411765,70.58823529411765\" style=\"fill:#ECB172A0;stroke-width:0\"/>\n",
       "\n",
       "  <!-- Horizontal lines -->\n",
       "  <line x1=\"165\" y1=\"70\" x2=\"191\" y2=\"70\" style=\"stroke-width:2\" />\n",
       "  <line x1=\"165\" y1=\"145\" x2=\"191\" y2=\"145\" style=\"stroke-width:2\" />\n",
       "\n",
       "  <!-- Vertical lines -->\n",
       "  <line x1=\"165\" y1=\"70\" x2=\"165\" y2=\"145\" style=\"stroke-width:2\" />\n",
       "  <line x1=\"191\" y1=\"70\" x2=\"191\" y2=\"145\" style=\"stroke-width:2\" />\n",
       "\n",
       "  <!-- Colored Rectangle -->\n",
       "  <polygon points=\"165.58823529411765,70.58823529411765 191.00085180870013,70.58823529411765 191.00085180870013,145.14823529411765 165.58823529411765,145.14823529411765\" style=\"fill:#ECB172A0;stroke-width:0\"/>\n",
       "\n",
       "  <!-- Text -->\n",
       "  <text x=\"178.294544\" y=\"165.148235\" font-size=\"1.0rem\" font-weight=\"100\" text-anchor=\"middle\" >3</text>\n",
       "  <text x=\"211.000852\" y=\"107.868235\" font-size=\"1.0rem\" font-weight=\"100\" text-anchor=\"middle\" transform=\"rotate(-90,211.000852,107.868235)\">3728</text>\n",
       "  <text x=\"120.294118\" y=\"129.854118\" font-size=\"1.0rem\" font-weight=\"100\" text-anchor=\"middle\" transform=\"rotate(45,120.294118,129.854118)\">6000</text>\n",
       "</svg>\n",
       "        </td>\n",
       "    </tr>\n",
       "</table>"
      ],
      "text/plain": [
       "dask.array<_map_read_frame, shape=(1, 6000, 3728, 3), dtype=uint8, chunksize=(1, 6000, 3728, 3), chunktype=numpy.ndarray>"
      ]
     },
     "execution_count": 6,
     "metadata": {},
     "output_type": "execute_result"
    }
   ],
   "source": [
    "img_dict['imgs'][1]"
   ]
  },
  {
   "cell_type": "code",
   "execution_count": null,
   "id": "e00f9e47-9d31-4ea7-b907-17e71a3b23f5",
   "metadata": {},
   "outputs": [],
   "source": [
    "import fiftyone as fo\n",
    "\n",
    "# Create a dataset from a list of images\n",
    "dataset = fo.Dataset.from_images(\n",
    "    [\"/path/to/image1.jpg\", \"/path/to/image2.jpg\", ...]\n",
    ")\n",
    "\n",
    "# Create a dataset from a directory of images\n",
    "dataset = fo.Dataset.from_images_dir(\"/path/to/images\")\n",
    "\n",
    "# Create a dataset from a glob pattern of images\n",
    "dataset = fo.Dataset.from_images_patt(\"/path/to/images/*.jpg\")\n",
    "\n",
    "session = fo.launch_app(dataset)"
   ]
  },
  {
   "cell_type": "code",
   "execution_count": 1,
   "id": "0d0ed46d-4735-43b0-8d81-5c65fff2db65",
   "metadata": {},
   "outputs": [
    {
     "ename": "ImportError",
     "evalue": "cannot import name 'ViewerApp' from 'napari' (/media/data/conda/jrose3/envs/napari-env/lib/python3.9/site-packages/napari/__init__.py)",
     "output_type": "error",
     "traceback": [
      "\u001b[0;31m---------------------------------------------------------------------------\u001b[0m",
      "\u001b[0;31mImportError\u001b[0m                               Traceback (most recent call last)",
      "Input \u001b[0;32mIn [1]\u001b[0m, in \u001b[0;36m<cell line: 3>\u001b[0;34m()\u001b[0m\n\u001b[1;32m      1\u001b[0m get_ipython()\u001b[38;5;241m.\u001b[39mrun_line_magic(\u001b[38;5;124m'\u001b[39m\u001b[38;5;124mgui\u001b[39m\u001b[38;5;124m'\u001b[39m, \u001b[38;5;124m'\u001b[39m\u001b[38;5;124mqt5\u001b[39m\u001b[38;5;124m'\u001b[39m)\n\u001b[1;32m      2\u001b[0m \u001b[38;5;28;01mfrom\u001b[39;00m \u001b[38;5;21;01mskimage\u001b[39;00m \u001b[38;5;28;01mimport\u001b[39;00m data\n\u001b[0;32m----> 3\u001b[0m \u001b[38;5;28;01mfrom\u001b[39;00m \u001b[38;5;21;01mnapari\u001b[39;00m \u001b[38;5;28;01mimport\u001b[39;00m ViewerApp\n\u001b[1;32m      4\u001b[0m viewer \u001b[38;5;241m=\u001b[39m ViewerApp(data\u001b[38;5;241m.\u001b[39mastronaut())\n",
      "\u001b[0;31mImportError\u001b[0m: cannot import name 'ViewerApp' from 'napari' (/media/data/conda/jrose3/envs/napari-env/lib/python3.9/site-packages/napari/__init__.py)"
     ]
    }
   ],
   "source": [
    "# %gui qt5\n",
    "# from skimage import data\n",
    "# from napari import ViewerApp\n",
    "# viewer = ViewerApp(data.astronaut())"
   ]
  },
  {
   "cell_type": "code",
   "execution_count": 1,
   "id": "8fc8464d-10cb-4148-82ec-3907c9c4ce85",
   "metadata": {},
   "outputs": [],
   "source": [
    "import qtpy\n",
    "# dir(qtpy)"
   ]
  },
  {
   "cell_type": "code",
   "execution_count": 2,
   "id": "93abdccc-7164-4945-adc5-a2e6a2a8f534",
   "metadata": {},
   "outputs": [
    {
     "data": {
      "text/plain": [
       "'2.1.0'"
      ]
     },
     "execution_count": 2,
     "metadata": {},
     "output_type": "execute_result"
    }
   ],
   "source": [
    "qtpy.__version__"
   ]
  },
  {
   "cell_type": "code",
   "execution_count": 3,
   "id": "9fb179f1-5f05-4883-bf0a-e7f63902ce2a",
   "metadata": {},
   "outputs": [
    {
     "data": {
      "text/plain": [
       "'5.9.7'"
      ]
     },
     "execution_count": 3,
     "metadata": {},
     "output_type": "execute_result"
    }
   ],
   "source": [
    "qtpy.QT_VERSION"
   ]
  },
  {
   "cell_type": "code",
   "execution_count": 4,
   "id": "8914c1e5-ada4-465d-be73-52155db0a957",
   "metadata": {},
   "outputs": [
    {
     "name": "stdout",
     "output_type": "stream",
     "text": [
      "None\n"
     ]
    }
   ],
   "source": [
    "print(get_ipython().active_eventloop)"
   ]
  },
  {
   "cell_type": "code",
   "execution_count": null,
   "id": "c638dd95-6e8e-4efd-922b-b95ab85129e9",
   "metadata": {},
   "outputs": [
    {
     "name": "stderr",
     "output_type": "stream",
     "text": [
      "/media/data/conda/jrose3/envs/napari-env/lib/python3.9/site-packages/napari/_qt/__init__.py:53: UserWarning: \n",
      "\n",
      "napari was tested with QT library `>=5.12.3`.\n",
      "The version installed is 5.9.7. Please report any issues with\n",
      "this specific QT version at https://github.com/Napari/napari/issues.\n",
      "  warn(message=warn_message)\n",
      "WARNING: QXcbConnection: Could not connect to display \n",
      "WARNING: Could not connect to any X display.\n"
     ]
    }
   ],
   "source": [
    "v = napari.view_image(\n",
    "    img_dict['imgs'],\n",
    "    # contrast_limits=[90, 1500],\n",
    "    multiscale=False,\n",
    "    ndisplay=3,\n",
    "    # scale=(3, 1, 1),\n",
    ")\n",
    "\n",
    "napari.run()"
   ]
  },
  {
   "cell_type": "code",
   "execution_count": null,
   "id": "b414cf10-f406-4277-801c-40cb02d23e64",
   "metadata": {},
   "outputs": [],
   "source": []
  }
 ],
 "metadata": {
  "kernelspec": {
   "display_name": "Python 3 (ipykernel)",
   "language": "python",
   "name": "python3"
  },
  "language_info": {
   "codemirror_mode": {
    "name": "ipython",
    "version": 3
   },
   "file_extension": ".py",
   "mimetype": "text/x-python",
   "name": "python",
   "nbconvert_exporter": "python",
   "pygments_lexer": "ipython3",
   "version": "3.8.13"
  }
 },
 "nbformat": 4,
 "nbformat_minor": 5
}
