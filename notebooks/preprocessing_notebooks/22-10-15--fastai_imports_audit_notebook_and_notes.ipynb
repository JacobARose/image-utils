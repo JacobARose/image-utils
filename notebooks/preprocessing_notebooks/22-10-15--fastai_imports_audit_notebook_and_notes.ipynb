{
 "cells": [
  {
   "cell_type": "markdown",
   "id": "eb51562a-dca7-42b0-8f06-f90a41fd3e19",
   "metadata": {},
   "source": [
    "## Checking in on how many unspecified objects this common fastai import method dumps into the python namespace\n",
    "### Why using `*`-style importing throughout fastai seems to come with large drawbacks with respect to readable code\n",
    "\n",
    "\n",
    "Created by: Jacob A Rose  \n",
    "Created on: Saturday October 15th, 2022\n",
    "\n",
    "Upon minor inspection, there are almost a full 1,000 objects fastai automatically imports into the main namespace. This lack of explicit declaration opens windows of vulnerability in the form of requiring user awareness to avoid any name collisions, as well as making downstream use of implicitly imported functions/classes/modules more pprecaappear to work without "
   ]
  },
  {
   "cell_type": "code",
   "execution_count": 1,
   "id": "af73aa10-4232-4266-a6af-4dc3ea456386",
   "metadata": {},
   "outputs": [
    {
     "name": "stdout",
     "output_type": "stream",
     "text": [
      "22\n",
      "from fastai.vision.all import *\n",
      "997\n",
      "from fastai.callback import *\n",
      "1009\n",
      "from fastai.test_utils import *\n",
      "1018\n"
     ]
    }
   ],
   "source": [
    "\n",
    "\n",
    "print(f\"{len(dir())}\")\n",
    "from fastai.vision.all import *\n",
    "print(\"from fastai.vision.all import *\")\n",
    "print(f\"{len(dir())}\")\n",
    "\n",
    "from fastai.callback import *\n",
    "print(\"from fastai.callback import *\")\n",
    "print(f\"{len(dir())}\")\n",
    "\n",
    "\n",
    "from fastai.test_utils import *\n",
    "print(\"from fastai.test_utils import *\")\n",
    "print(f\"{len(dir())}\")"
   ]
  },
  {
   "cell_type": "code",
   "execution_count": null,
   "id": "d9ed622f-f6bd-4216-96ec-4ed2e0904b71",
   "metadata": {},
   "outputs": [],
   "source": []
  }
 ],
 "metadata": {
  "kernelspec": {
   "display_name": "Python 3 (ipykernel)",
   "language": "python",
   "name": "python3"
  },
  "language_info": {
   "codemirror_mode": {
    "name": "ipython",
    "version": 3
   },
   "file_extension": ".py",
   "mimetype": "text/x-python",
   "name": "python",
   "nbconvert_exporter": "python",
   "pygments_lexer": "ipython3",
   "version": "3.8.13"
  }
 },
 "nbformat": 4,
 "nbformat_minor": 5
}
