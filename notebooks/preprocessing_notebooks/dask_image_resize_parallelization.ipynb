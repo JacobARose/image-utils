{
 "cells": [
  {
   "cell_type": "markdown",
   "id": "7c87558b-01c2-45a7-9640-340def83597c",
   "metadata": {},
   "source": [
    "# Section II."
   ]
  },
  {
   "cell_type": "markdown",
   "id": "c5f74737-7582-4b89-bce2-94a6f678cc28",
   "metadata": {},
   "source": [
    "## Dask image parallelization dev notebook\n",
    "\n",
    "Created on: Monday March 28th, 2022  \n",
    "Created by: Jacob Alexander Rose  "
   ]
  },
  {
   "cell_type": "code",
   "execution_count": 1,
   "id": "97639776-7bb0-48dc-856b-b8404163ab96",
   "metadata": {
    "tags": []
   },
   "outputs": [],
   "source": [
    "# %%bash\n",
    "\n",
    "import os\n",
    "\n",
    "# os.environ[\"OMP_NUM_THREADS\"]=\"1\"\n",
    "# export MKL_NUM_THREADS=1\n",
    "# export OPENBLAS_NUM_THREADS=1\n",
    "# echo '${OMP_NUM_THREADS}'"
   ]
  },
  {
   "cell_type": "code",
   "execution_count": 2,
   "id": "7b430f2e-833a-4fb8-93d4-641e12207c2b",
   "metadata": {},
   "outputs": [],
   "source": [
    "# source: https://examples.dask.org/machine-learning/torch-prediction.html\n",
    "from typing import *\n",
    "\n",
    "import glob\n",
    "import toolz\n",
    "import dask\n",
    "import dask.array as da\n",
    "import torch\n",
    "from torchvision import transforms\n",
    "from PIL import Image\n",
    "import pandas as pd\n",
    "pd.set_option(\"display.max_colwidth\", 150)\n",
    "import numpy as np\n",
    "# from imutils.ml.data.datamodule import Herbarium2022DataModule, Herbarium2022Dataset\n",
    "import os\n",
    "from pathlib import Path\n",
    "# import dask\n",
    "import dask.dataframe as dd\n",
    "#####################################################\n",
    "from rich import print as pp\n",
    "from dataclasses import dataclass, field\n",
    "\n",
    "import distributed\n",
    "\n",
    "from dask import distributed as ddistributed"
   ]
  },
  {
   "cell_type": "code",
   "execution_count": 3,
   "id": "59c41fe9-1d70-4c9d-8712-9aabd5f22ab6",
   "metadata": {},
   "outputs": [],
   "source": [
    "from dask.diagnostics import ProgressBar\n",
    "# from dask.distributed import Client, performance_report\n",
    "\n",
    "from distributed import Client, performance_report "
   ]
  },
  {
   "cell_type": "code",
   "execution_count": 4,
   "id": "21156ee1-80de-41f8-a536-89e4161de6d2",
   "metadata": {},
   "outputs": [],
   "source": [
    "# cluster = distributed.LocalCluster(dashboard_address=\":44295\",\n",
    "#                                    threads_per_worker=8, processes=4)  # could customize with different kwargs\n",
    "# client = distributed.Client(cluster,\n",
    "#                            name=\"JAR_dask_client\")\n",
    "#                            # scheduler_port=\"44295\")\n",
    "\n",
    "# client = Client(\"127.0.0.1:8989\")  # start distributed scheduler locally.\n",
    "# client\n",
    "\n",
    "# client"
   ]
  },
  {
   "cell_type": "code",
   "execution_count": 5,
   "id": "52c7549c-da6d-4ee2-9689-3846f305e4d5",
   "metadata": {},
   "outputs": [
    {
     "data": {
      "text/html": [
       "<pre style=\"white-space:pre;overflow-x:auto;line-height:normal;font-family:Menlo,'DejaVu Sans Mono',consolas,'Courier New',monospace\"><span style=\"color: #800080; text-decoration-color: #800080; font-weight: bold\">Config</span><span style=\"font-weight: bold\">(</span>\n",
       "    <span style=\"color: #808000; text-decoration-color: #808000\">source_root_dir</span>=<span style=\"color: #800080; text-decoration-color: #800080; font-weight: bold\">PosixPath</span><span style=\"font-weight: bold\">(</span><span style=\"color: #008000; text-decoration-color: #008000\">'/media/data_cifs/projects/prj_fossils/data/raw_data/herbarium-</span>\n",
       "<span style=\"color: #008000; text-decoration-color: #008000\">2022-fgvc9_resize'</span><span style=\"font-weight: bold\">)</span>,\n",
       "    <span style=\"color: #808000; text-decoration-color: #808000\">target_root_dir_template</span>=<span style=\"color: #800080; text-decoration-color: #800080; font-weight: bold\">PosixPath</span><span style=\"font-weight: bold\">(</span><span style=\"color: #008000; text-decoration-color: #008000\">'/media/data_cifs/projects/prj_fossils/data/raw_data/h</span>\n",
       "<span style=\"color: #008000; text-decoration-color: #008000\">erbarium-2022-fgvc9_resize'</span><span style=\"font-weight: bold\">)</span>,\n",
       "    <span style=\"color: #808000; text-decoration-color: #808000\">target_resolution</span>=<span style=\"color: #008080; text-decoration-color: #008080; font-weight: bold\">512</span>,\n",
       "    <span style=\"color: #808000; text-decoration-color: #808000\">target_root_dir</span>=<span style=\"color: #800080; text-decoration-color: #800080; font-weight: bold\">PosixPath</span><span style=\"font-weight: bold\">(</span><span style=\"color: #008000; text-decoration-color: #008000\">'/media/data_cifs/projects/prj_fossils/data/raw_data/herbarium-</span>\n",
       "<span style=\"color: #008000; text-decoration-color: #008000\">2022-fgvc9_resize-512'</span><span style=\"font-weight: bold\">)</span>\n",
       "<span style=\"font-weight: bold\">)</span>\n",
       "</pre>\n"
      ],
      "text/plain": [
       "\u001b[1;35mConfig\u001b[0m\u001b[1m(\u001b[0m\n",
       "    \u001b[33msource_root_dir\u001b[0m=\u001b[1;35mPosixPath\u001b[0m\u001b[1m(\u001b[0m\u001b[32m'/media/data_cifs/projects/prj_fossils/data/raw_data/herbarium-\u001b[0m\n",
       "\u001b[32m2022-fgvc9_resize'\u001b[0m\u001b[1m)\u001b[0m,\n",
       "    \u001b[33mtarget_root_dir_template\u001b[0m=\u001b[1;35mPosixPath\u001b[0m\u001b[1m(\u001b[0m\u001b[32m'/media/data_cifs/projects/prj_fossils/data/raw_data/h\u001b[0m\n",
       "\u001b[32merbarium-2022-fgvc9_resize'\u001b[0m\u001b[1m)\u001b[0m,\n",
       "    \u001b[33mtarget_resolution\u001b[0m=\u001b[1;36m512\u001b[0m,\n",
       "    \u001b[33mtarget_root_dir\u001b[0m=\u001b[1;35mPosixPath\u001b[0m\u001b[1m(\u001b[0m\u001b[32m'/media/data_cifs/projects/prj_fossils/data/raw_data/herbarium-\u001b[0m\n",
       "\u001b[32m2022-fgvc9_resize-512'\u001b[0m\u001b[1m)\u001b[0m\n",
       "\u001b[1m)\u001b[0m\n"
      ]
     },
     "metadata": {},
     "output_type": "display_data"
    }
   ],
   "source": [
    "@dataclass\n",
    "class Config:\n",
    "    source_root_dir: Path = Path('/media/data_cifs/projects/prj_fossils/data/raw_data/herbarium-2022-fgvc9_resize')\n",
    "    target_root_dir_template: Path = Path('/media/data_cifs/projects/prj_fossils/data/raw_data/herbarium-2022-fgvc9_resize')\n",
    "    target_resolution: int = 512\n",
    "    target_root_dir: str = field(init=False)\n",
    "    \n",
    "    def __post_init__(self):\n",
    "        self.target_root_dir = Path(f\"{str(self.target_root_dir_template)}-{self.target_resolution}\")\n",
    "        os.makedirs(self.target_root_dir, exist_ok=True)\n",
    "        \n",
    "    def get_target_path(self, source_path: Path) -> Path:\n",
    "        \"\"\"\n",
    "        Finds the source path's location relative to the source root, and returns a new path at the same location relative to the target root.\n",
    "        \n",
    "        - source and target root dirs are specified at instantiation of config, must update instance attributes in order to chaange this method.\n",
    "        \"\"\"\n",
    "        return str(self.target_root_dir / Path(source_path).relative_to(self.source_root_dir))\n",
    "    \n",
    "    def process_full_dataframe(self, data_df: pd.DataFrame) -> pd.DataFrame:\n",
    "        \"\"\"\n",
    "        Prepare dataframe for large-scale image file processing.\n",
    "        \n",
    "        Creates a `target_path` column in data_df and fills it with values produced by self.get_target_path, then renames is as `path` while renaming the original colmn `path` to be `source_path`.\n",
    "        \n",
    "        \"\"\"\n",
    "        data_df = data_df.assign(target_path = data_df.path.apply(self.get_target_path, meta=(\"target_path\", \"string\")))\n",
    "        data_df = data_df.rename(columns={\"path\":\"source_path\",\n",
    "                                          \"target_path\":\"path\"})\n",
    "        # data_df = data_df.sort_index()\n",
    "        \n",
    "        return data_df\n",
    "    \n",
    "    \n",
    "    def read_dask_dataframe_from_csv(self,\n",
    "                                    csv_path: str,\n",
    "                                    columns: List[str],\n",
    "                                    col_dtypes: Dict[str, Any]) -> dd.DataFrame:\n",
    "        \n",
    "        data_df = dd.read_csv(csv_path, usecols=[\"Unnamed: 0\", *columns], dtype=col_dtypes\n",
    "                              ).rename(columns={\"Unnamed: 0\":\"idx\"})\n",
    "        data_df = data_df.set_index(\"idx\")\n",
    "        # data_df = data_df.sort_index()\n",
    "        data_df = data_df.repartition(16)\n",
    "        \n",
    "        return data_df\n",
    "    \n",
    "    def read_and_process(self,\n",
    "                         csv_path: str,\n",
    "                         columns: List[str],\n",
    "                         col_dtypes: Dict[str, Any]) -> dd.DataFrame:\n",
    "        \"\"\"\n",
    "        Calls 2 methods in sequence to read from csv, then process dataframe in preparation for performing expensive computations on big data.\n",
    "        \n",
    "        \"\"\"\n",
    "        data_df = self.read_dask_dataframe_from_csv(csv_path=csv_path,\n",
    "                                                    columns=columns,\n",
    "                                                    col_dtypes=col_dtypes)\n",
    "        data_df = self.process_full_dataframe(data_df)\n",
    "        \n",
    "        return data_df\n",
    "    \n",
    "    \n",
    "    \n",
    "cfg = Config()\n",
    "pp(cfg)\n",
    "\n",
    "\n",
    "catalog_dir = \"/media/data/jacob/GitHub/image-utils/imutils/big/data\"\n",
    "\n",
    "train_csv_path = Path(catalog_dir, \"train_metadata.csv\")\n",
    "test_csv_path = Path(catalog_dir, \"test_metadata.csv\")\n",
    "\n",
    "train_columns = ['path', 'image_id',\n",
    "           'category_id', 'genus_id', 'scientificName', \n",
    "           'Species', 'institution_id',\n",
    "           'family', 'genus', 'species', \n",
    "           'file_name', 'collectionCode']\n",
    "\n",
    "train_col_dtypes = {'path':\"string\",\n",
    "                    'image_id':\"string\",\n",
    "                    'category_id': \"category\",\n",
    "                    'genus_id': \"category\",\n",
    "                    'scientificName': \"category\",\n",
    "                    'Species': \"category\",\n",
    "                    'institution_id': \"category\",\n",
    "                    'family': \"category\",\n",
    "                    'genus': \"category\",\n",
    "                    'species': \"category\",\n",
    "                    'file_name': \"string\",\n",
    "                    'collectionCode': \"category\"}\n",
    "\n",
    "test_columns = ['path', 'image_id', 'file_name']\n",
    "test_col_dtypes = {'path':\"string\",\n",
    "                    'image_id':\"string\",\n",
    "                    'file_name': \"string\"}\n",
    "\n",
    "\n",
    "\n",
    "\n",
    "train_df = cfg.read_and_process(csv_path=train_csv_path,\n",
    "                                columns=train_columns,\n",
    "                                col_dtypes=train_col_dtypes)\n",
    "\n",
    "test_df = cfg.read_and_process(csv_path=test_csv_path,\n",
    "                               columns=test_columns,\n",
    "                               col_dtypes=test_col_dtypes)"
   ]
  },
  {
   "cell_type": "markdown",
   "id": "80115efe-beca-48cb-be04-e9f06c1caa61",
   "metadata": {},
   "source": [
    "### Save processed catalogs to target directory"
   ]
  },
  {
   "cell_type": "code",
   "execution_count": 6,
   "id": "9438be8c-18d3-40e7-84af-cfb3d84a207c",
   "metadata": {},
   "outputs": [
    {
     "name": "stdout",
     "output_type": "stream",
     "text": [
      "total 351M\n",
      "drwxrwxrwx 2 cis-storage cis-storage 2.0K Mar 30 05:21 .\n",
      "drwxrwxrwx 2 cis-storage cis-storage  10K Mar 29 00:25 ..\n",
      "drwxrwxrwx 2 cis-storage cis-storage 112K Mar 30 05:22 test_images\n",
      "-rwxrwxrwx 1 cis-storage cis-storage  53M Mar 30 05:19 test_metadata.csv\n",
      "drwxrwxrwx 2 cis-storage cis-storage  78K Mar 30 00:34 train_images\n",
      "-rwxrwxrwx 1 cis-storage cis-storage 299M Mar 30 05:18 train_metadata.csv\n"
     ]
    }
   ],
   "source": [
    "train_catalog_out_path = Path(cfg.target_root_dir, \"train_metadata.csv\")\n",
    "test_catalog_out_path = Path(cfg.target_root_dir, \"test_metadata.csv\")\n",
    "\n",
    "if not os.path.isfile(train_catalog_out_path):\n",
    "    train_df.to_csv(train_catalog_out_path, single_file=True)\n",
    "if not os.path.isfile(test_catalog_out_path):\n",
    "    test_df.to_csv(test_catalog_out_path, single_file=True)\n",
    "\n",
    "# test_df.head()\n",
    "!ls -alh {cfg.target_root_dir}"
   ]
  },
  {
   "cell_type": "code",
   "execution_count": 7,
   "id": "593e5405-e640-49c8-8b3d-195ca610a38c",
   "metadata": {},
   "outputs": [],
   "source": [
    "@dask.delayed\n",
    "def load(path: str,\n",
    "         fs=__builtins__):\n",
    "    with fs.open(path, 'rb') as f:\n",
    "        img = Image.open(f).convert(\"RGB\")\n",
    "        return img\n",
    "\n",
    "\n",
    "\n",
    "@dask.delayed\n",
    "def process(img: Image.Image,\n",
    "            size: int):\n",
    "    img = img.resize(size=(size,size),\n",
    "                     resample=Image.BICUBIC)\n",
    "    return img\n",
    "\n",
    "@dask.delayed\n",
    "def save(img: Image.Image,\n",
    "         target_path: str,\n",
    "         fs=__builtins__):\n",
    "    with fs.open(target_path, 'wb') as f:\n",
    "        img = img.save(f, format=\"jpeg\")\n",
    "    return os.path.isfile(target_path)\n",
    "\n",
    "\n",
    "@dask.delayed\n",
    "def run_one(row: dd.Series,\n",
    "            resize_resolution: int) -> bool:\n",
    "    \"\"\"\n",
    "    If no file exists at row.path: load, process & save the image at row.source_path.\n",
    "    \n",
    "    Returns True if image exists at target location\n",
    "    \n",
    "    \"\"\"\n",
    "    # print(type(row), row)\n",
    "    # if os.path.isfile(row.path):\n",
    "        # print(row.path)\n",
    "    # if dask.delayed(os.path.isfile(row.path.values):\n",
    "        # Automatically mark row as a success if file already exists.\n",
    "        # User should perform a more robust final check after the main script runs to check for any corrupted files.\n",
    "        # return True\n",
    "\n",
    "    img = load(path=row.source_path)\n",
    "    img = process(img=img, size=resize_resolution)\n",
    "    outcome = save(img=img, target_path=row.path)\n",
    "    return outcome\n",
    "\n",
    "\n",
    "# @dask.delayed\n",
    "def run(data_chunk: dd.DataFrame,\n",
    "        resize_resolution: int) -> List[bool]:\n",
    "    \"\"\"\n",
    "    If no file exists at row.path: load, process & save the image at row.source_path.\n",
    "    \n",
    "    Returns True if image exists at target location\n",
    "    \n",
    "    \"\"\"\n",
    "    results = []\n",
    "    # with ProgressBar() as pbar:\n",
    "        # for i, row in enumerate(data_chunk.iterrows()):\n",
    "        # for i, row in tqdm(data_chunk.iterrows()):\n",
    "    for i, row in data_chunk.iterrows():\n",
    "        outcome = run_one(row=row,\n",
    "                          resize_resolution=resize_resolution)\n",
    "        results.append(outcome)\n",
    "\n",
    "    return results"
   ]
  },
  {
   "cell_type": "code",
   "execution_count": 8,
   "id": "6e306e3e-d106-4fe9-80b6-b0c70123568b",
   "metadata": {},
   "outputs": [
    {
     "name": "stdout",
     "output_type": "stream",
     "text": [
      "CPU times: user 0 ns, sys: 660 µs, total: 660 µs\n",
      "Wall time: 7.72 ms\n"
     ]
    }
   ],
   "source": [
    "%%time\n",
    "from tqdm import tqdm \n",
    "import time\n",
    "\n",
    "def timer(function):\n",
    "    \"\"\"\n",
    "    Simple Wrapper function for timing execution of a single function call.\n",
    "    \"\"\"\n",
    "    def _wrapped(*args, **kwargs):\n",
    "        print(f\"STARTING function: {function.__name__} -- ({time.ctime()})\")\n",
    "        start = time.time()\n",
    "        output = function(*args, **kwargs)\n",
    "        end = time.time()\n",
    "        print(f\"FINISHED function: {function.__name__} -- ({time.ctime()}) -- Duration: {end-start:.5f} seconds\")\n",
    "        return output\n",
    "    return _wrapped\n",
    "\n",
    "# @timer\n",
    "# def testing_function(*args, **kwargs):\n",
    "#     print(f\"We're in the testing function\")\n",
    "#     time.sleep(2)\n",
    "\n",
    "# # testing_function()#*args, **kwargs)\n",
    "\n",
    "@timer\n",
    "def create_output_dirs(data_df: Union[pd.DataFrame, dd.DataFrame],\n",
    "                       expected_total: Optional[int]=15501\n",
    "                      ) -> List[str]:\n",
    "    \"\"\" Useful helper function for bulk transfer of files from one location to another.\n",
    "    Extracts all possible output dirs containing files listed in `path` column, and creates them if they don't exist.\n",
    "    \n",
    "    Throws an error if any still don't exist after function execution.\n",
    "    \n",
    "    Returns a list of the output_dir paths as str.\n",
    "    \n",
    "    \"\"\"\n",
    "    # Extract the unique directories\n",
    "    if isinstance(data_df, pd.DataFrame):\n",
    "        output_dirs = list(set(data_df.path.apply(lambda x: str(Path(x).parent))))\n",
    "    elif isinstance(data_df, dd.DataFrame):\n",
    "        output_dirs = list(set(data_df.path.apply(lambda x: str(Path(x).parent), meta=(\"path\",\"string\")).compute()))\n",
    "    else:\n",
    "        raise TypeError(f\"data_df must be either a dask or pandas DataFrame. Invalid type provided: {type(data_df)}\")\n",
    "    \n",
    "    # Optional: If user knows total number of directories in advance, raise an error if the number extracted differs at all.\n",
    "    if isinstance(expected_total, int) and expected_total > 0:\n",
    "        assert len(output_dirs) == expected_total # 15501\n",
    "\n",
    "    # Attempt to create any directories that don't yet exist, and throw an error if any still remain.\n",
    "    for out in tqdm(output_dirs):\n",
    "        os.makedirs(out, exist_ok=True)\n",
    "        assert os.path.isdir(out), f\"Nonexistent target dir: {out}\"\n",
    "        \n",
    "    return output_dirs\n"
   ]
  },
  {
   "cell_type": "code",
   "execution_count": 9,
   "id": "416f1bf9-ab32-4cfa-9612-f911be7e16ed",
   "metadata": {},
   "outputs": [],
   "source": [
    "@timer\n",
    "def execute_full_run(data_df: dd.DataFrame,\n",
    "                     target_resolution: int=512,\n",
    "                     profiler: Optional=None) -> List[List[bool]]:\n",
    "\n",
    "    # out_df = data_df.map_partitions(run, resize_resolution=target_resolution, meta=bool)\n",
    "    \n",
    "    # if profiler is None:\n",
    "    #     profiler = ProgressBar()\n",
    "    \n",
    "    with ProgressBar(minimum=0.5) as pbar:\n",
    "    #     results = out_df.compute()\n",
    "    #     computed_results = dask.compute(*results)\n",
    "    # shape = client.compute(out_df.shape)\n",
    "    # pp(f\"Computing out_df with shape: {shape}, and npartitions: {out_df.npartitions}\")\n",
    "        out_df = data_df.map_partitions(run, resize_resolution=target_resolution, meta=(\"results\",bool))\n",
    "\n",
    "        results = dask.compute(*out_df)\n",
    "        computed_results = dask.compute(*results)\n",
    "\n",
    "        \n",
    "    # print(f\"FINISHED\")\n",
    "    return computed_results, pbar\n",
    "\n",
    "@timer\n",
    "def count_dask_outcomes(computed_results: List[List[bool]]) -> None:\n",
    "    \"\"\"\n",
    "    Helper function for quickly assessing basic diagnostic info about an image processing task performed by dask.\n",
    "    \n",
    "    Displays:\n",
    "        - Total images\n",
    "        - Total successfully processed images\n",
    "        - Total **un**successfully processed images\n",
    "    \n",
    "    Arguments:\n",
    "        computed_results: List[List[bool]]\n",
    "            This is returned by `execute_full_run()` after it's mapped a `run` function across partitions. It is a list, each element of which is a list of bools.\n",
    "                - One bool per image processing operation\n",
    "                - One list of bools per DataFrame partition\n",
    "                - One list of lists of bools per total-dataset DataFrame\n",
    "    \n",
    "    \"\"\"\n",
    "    partition_sums = [(sum(p), len(p)) for p in computed_results]\n",
    "    correct = 0\n",
    "    total = 0\n",
    "    for num_correct, num_total in partition_sums:\n",
    "        correct += num_correct\n",
    "        total += num_total\n",
    "    incorrect = total - correct\n",
    "    print(f\"Total images Processed: {total}\")\n",
    "    print(f\"# successful: {correct}\",\n",
    "          f\"# unsuccessful: {incorrect}\")"
   ]
  },
  {
   "cell_type": "code",
   "execution_count": 10,
   "id": "75d1e963-6b3d-4082-a6a2-bdfe29fbe873",
   "metadata": {},
   "outputs": [],
   "source": [
    "# from dask.diagnostics import ProgressBar\n",
    "# from dask.distributed import Client, performance_report #progress\n",
    "\n",
    "# from dask.distributed import Client\n",
    "# client = Client(\"127.0.0.1:8989\")  # start distributed scheduler locally.\n",
    "# client"
   ]
  },
  {
   "cell_type": "code",
   "execution_count": 11,
   "id": "b83e2173-3100-410f-a644-b9d2837cb843",
   "metadata": {},
   "outputs": [],
   "source": [
    "target_resolution=512"
   ]
  },
  {
   "cell_type": "markdown",
   "id": "56351863-e8ca-4224-b31a-60539c444c83",
   "metadata": {},
   "source": [
    "## Test on small subset"
   ]
  },
  {
   "cell_type": "code",
   "execution_count": 12,
   "id": "518ffb1b-11e3-4f33-b921-f057b7cb19f2",
   "metadata": {},
   "outputs": [
    {
     "data": {
      "image/png": "[encoded data removed]",
      "text/plain": [
       "<IPython.core.display.Image object>"
      ]
     },
     "execution_count": 12,
     "metadata": {},
     "output_type": "execute_result"
    }
   ],
   "source": [
    "# test_df.visualize()\n",
    "test_df = test_df.persist()\n",
    "test_df.visualize()"
   ]
  },
  {
   "cell_type": "markdown",
   "id": "1e7bc6cd-1cd9-4228-80c1-c2c9d32243e2",
   "metadata": {},
   "source": [
    "#### Take a small fraction of dataset for testing"
   ]
  },
  {
   "cell_type": "code",
   "execution_count": 13,
   "id": "667a5e24-7682-4619-938f-fc666ea2376c",
   "metadata": {},
   "outputs": [
    {
     "name": "stdout",
     "output_type": "stream",
     "text": [
      "(210407, 4)\n"
     ]
    },
    {
     "data": {
      "image/png": "[encoded data removed]",
      "text/plain": [
       "<IPython.core.display.Image object>"
      ]
     },
     "execution_count": 13,
     "metadata": {},
     "output_type": "execute_result"
    }
   ],
   "source": [
    "seed = 85+1+2+3+4+5\n",
    "random_state = np.random.RandomState(seed=seed)\n",
    "\n",
    "# data_df = train_df.sample(frac=0.001,\n",
    "#                          replace=False,\n",
    "#                          random_state=random_state)\n",
    "\n",
    "# data_df = test_df.sample(frac=0.5,\n",
    "#                          replace=False,\n",
    "#                          random_state=random_state)\n",
    "\n",
    "data_df = test_df #.tail(n=1000)\n",
    "\n",
    "\n",
    "data_df = data_df.persist()\n",
    "print(dask.compute(*data_df.shape))\n",
    "data_df.visualize()"
   ]
  },
  {
   "cell_type": "code",
   "execution_count": 14,
   "id": "09f43287-2a85-4632-b6f6-6dfaef77c1b6",
   "metadata": {},
   "outputs": [],
   "source": [
    "data_df = data_df.repartition(npartitions=100)\n",
    "data_df = data_df.persist()"
   ]
  },
  {
   "cell_type": "code",
   "execution_count": 15,
   "id": "939fd5f4-15a1-4cfd-b3fd-515b7cdd908c",
   "metadata": {},
   "outputs": [],
   "source": [
    "# client.gather(data_df).compute_current_divisions()\n",
    "# data_rows = list(data_df.to_dask_array(lengths=True).to_records())\n",
    "# data_rows = list(data_df.iterrows())\n",
    "# out_df = client.map(run_one, , resize_resolution=target_resolution)#, meta=(\"results\",bool))\n",
    "# type(out_df[0])\n",
    "# out_df.visualize()\n",
    "# o = client.gather(out_df)\n",
    "# dask.visualize(*out_df)\n",
    "\n",
    "\n",
    "# out_df = data_df.map_partitions(run, resize_resolution=target_resolution, meta=(\"results\",bool))\n",
    "# out_df.visualize()"
   ]
  },
  {
   "cell_type": "code",
   "execution_count": 16,
   "id": "8f16647d-2fd5-4636-882e-c44663065225",
   "metadata": {
    "scrolled": true,
    "tags": []
   },
   "outputs": [
    {
     "name": "stdout",
     "output_type": "stream",
     "text": [
      "STARTING function: execute_full_run -- (Wed Mar 30 11:38:24 2022)\n",
      "[########################################] | 100% Completed |  1min 19.4s\n",
      "[########################################] | 100% Completed |  0.6s\n",
      "[########################################] | 100% Completed |  1.2s\n",
      "[########################################] | 100% Completed |  0.8s\n",
      "[########################################] | 100% Completed |  0.8s\n",
      "[########################################] | 100% Completed |  0.9s\n",
      "[########################################] | 100% Completed |  0.7s\n",
      "[########################################] | 100% Completed |  0.8s\n",
      "[########################################] | 100% Completed |  1.0s\n",
      "[########################################] | 100% Completed |  1.3s\n",
      "[########################################] | 100% Completed |  0.7s\n",
      "[########################################] | 100% Completed |  0.7s\n",
      "[########################################] | 100% Completed |  0.9s\n",
      "[########################################] | 100% Completed |  0.9s\n",
      "[########################################] | 100% Completed |  0.9s\n",
      "[########################################] | 100% Completed |  0.7s\n",
      "[########################################] | 100% Completed |  0.9s\n",
      "[########################################] | 100% Completed |  0.6s\n",
      "[########################################] | 100% Completed |  0.7s\n",
      "[########################################] | 100% Completed |  0.9s\n",
      "[########################################] | 100% Completed |  1.0s\n",
      "[########################################] | 100% Completed |  1.2s\n",
      "[########################################] | 100% Completed |  0.9s\n",
      "[########################################] | 100% Completed |  0.8s\n",
      "[########################################] | 100% Completed |  0.9s\n",
      "[########################################] | 100% Completed |  0.6s\n",
      "[########################################] | 100% Completed |  0.7s\n",
      "[########################################] | 100% Completed |  1.4s\n",
      "[########################################] | 100% Completed |  0.8s\n",
      "[########################################] | 100% Completed |  0.7s\n",
      "[########################################] | 100% Completed |  1.0s\n",
      "[########################################] | 100% Completed |  0.7s\n",
      "[########################################] | 100% Completed |  0.9s\n",
      "[########################################] | 100% Completed |  0.6s\n",
      "[########################################] | 100% Completed |  0.5s\n",
      "[########################################] | 100% Completed |  2.0s\n",
      "[########################################] | 100% Completed |  0.5s\n",
      "[########################################] | 100% Completed |  0.9s\n",
      "[########################################] | 100% Completed |  0.6s\n",
      "[########################################] | 100% Completed |  0.6s\n",
      "[########################################] | 100% Completed |  0.9s\n",
      "[########################################] | 100% Completed |  1.0s\n",
      "[########################################] | 100% Completed |  0.6s\n",
      "[########################################] | 100% Completed |  1.1s\n",
      "[########################################] | 100% Completed |  1.7s\n",
      "[########################################] | 100% Completed |  0.6s\n",
      "[########################################] | 100% Completed |  0.9s\n",
      "[########################################] | 100% Completed |  0.8s\n",
      "[########################################] | 100% Completed |  0.8s\n",
      "[########################################] | 100% Completed |  0.5s\n",
      "[########################################] | 100% Completed |  0.7s\n",
      "[########################################] | 100% Completed |  0.8s\n",
      "[########################################] | 100% Completed |  0.7s\n",
      "[########################################] | 100% Completed |  1.0s\n",
      "[########################################] | 100% Completed |  0.7s\n",
      "[########################################] | 100% Completed |  0.6s\n",
      "[########################################] | 100% Completed |  1.9s\n",
      "[########################################] | 100% Completed |  0.6s\n",
      "[########################################] | 100% Completed |  0.6s\n",
      "[########################################] | 100% Completed |  0.8s\n",
      "[########################################] | 100% Completed |  0.9s\n",
      "[########################################] | 100% Completed |  0.9s\n",
      "[########################################] | 100% Completed |  0.8s\n",
      "[########################################] | 100% Completed |  0.6s\n",
      "[########################################] | 100% Completed |  0.6s\n",
      "[########################################] | 100% Completed |  0.9s\n",
      "[########################################] | 100% Completed |  1.1s\n",
      "[########################################] | 100% Completed |  0.5s\n",
      "[########################################] | 100% Completed |  0.5s\n",
      "[########################################] | 100% Completed |  0.7s\n",
      "[########################################] | 100% Completed |  0.7s\n",
      "[########################################] | 100% Completed |  3.0s\n",
      "[########################################] | 100% Completed |  0.8s\n",
      "[########################################] | 100% Completed |  0.8s\n",
      "[########################################] | 100% Completed |  0.7s\n",
      "[########################################] | 100% Completed |  0.8s\n",
      "[########################################] | 100% Completed |  0.7s\n",
      "[########################################] | 100% Completed |  0.7s\n",
      "[########################################] | 100% Completed |  0.5s\n",
      "[########################################] | 100% Completed |  0.5s\n",
      "[########################################] | 100% Completed |  0.5s\n",
      "[########################################] | 100% Completed |  0.7s\n",
      "[########################################] | 100% Completed |  0.9s\n",
      "[########################################] | 100% Completed |  0.6s\n",
      "[########################################] | 100% Completed |  0.9s\n",
      "[########################################] | 100% Completed |  0.6s\n",
      "[########################################] | 100% Completed |  0.7s\n",
      "[########################################] | 100% Completed |  0.6s\n",
      "[########################################] | 100% Completed |  0.6s\n",
      "[########################################] | 100% Completed |  2.1s\n",
      "[########################################] | 100% Completed |  0.8s\n",
      "[########################################] | 100% Completed |  1.0s\n",
      "[########################################] | 100% Completed |  0.8s\n",
      "[########################################] | 100% Completed |  0.9s\n",
      "[########################################] | 100% Completed |  0.6s\n",
      "[########################################] | 100% Completed |  0.6s\n",
      "[########################################] | 100% Completed |  0.6s\n",
      "[########################################] | 100% Completed |  0.7s\n",
      "[########################################] | 100% Completed |  0.5s\n",
      "[########################################] | 100% Completed |  0.7s\n",
      "[########################################] | 100% Completed |  0.6s\n",
      "[########################################] | 100% Completed |  5min  9.9s\n",
      "[########################################] | 100% Completed |  1hr 38min  0.7s\n",
      "FINISHED function: execute_full_run -- (Wed Mar 30 13:25:34 2022) -- Duration: 6430.52645 seconds\n",
      "STARTING function: count_dask_outcomes -- (Wed Mar 30 13:25:34 2022)\n",
      "Total images Processed: 210407\n",
      "# successful: 210407 # unsuccessful: 0\n",
      "FINISHED function: count_dask_outcomes -- (Wed Mar 30 13:25:34 2022) -- Duration: 0.01377 seconds\n"
     ]
    },
    {
     "data": {
      "text/plain": [
       "<dask.diagnostics.progress.ProgressBar at 0x7fa78dadd370>"
      ]
     },
     "execution_count": 16,
     "metadata": {},
     "output_type": "execute_result"
    }
   ],
   "source": [
    "computed_results, pbar = execute_full_run(data_df=data_df,\n",
    "                                    target_resolution=512)#,\n",
    "                                    # profiler=ProgressBar())\n",
    "\n",
    "count_dask_outcomes(computed_results)\n",
    "pbar"
   ]
  },
  {
   "cell_type": "code",
   "execution_count": null,
   "id": "44f2e818-44f0-494c-b975-6aefa84d0a9d",
   "metadata": {},
   "outputs": [],
   "source": [
    "# count_dask_outcomes(computed_results)\n",
    "out = dask.compute(computed_results)"
   ]
  },
  {
   "cell_type": "code",
   "execution_count": 18,
   "id": "b55f3a32-2cab-40cd-be1c-fd2c0454feb9",
   "metadata": {},
   "outputs": [],
   "source": [
    "# data_df = data_df.persist()\n",
    "# out_df.dask\n",
    "# computed_out_df = client.compute(out_df)\n",
    "# # target_resolution=512\n",
    "# computed_out_df.result()\n",
    "# # target_resolution=512\n",
    "# data_df.head()\n",
    "# from PIL import Image\n",
    "# path = \"/media/data_cifs/projects/prj_fossils/data/raw_data/herbarium-2022-fgvc9_resize-512/test_images/004/test-004810.jpg\"\n",
    "# img = Image.open(path)"
   ]
  },
  {
   "cell_type": "markdown",
   "id": "8e73fe2b-dbf2-4fb2-a80c-873dc0fd4c43",
   "metadata": {},
   "source": [
    "## Process train images:"
   ]
  },
  {
   "cell_type": "code",
   "execution_count": 17,
   "id": "6f51724f-6e9a-43cd-aef0-7fc93e71cba2",
   "metadata": {},
   "outputs": [
    {
     "name": "stdout",
     "output_type": "stream",
     "text": [
      "STARTING function: create_output_dirs -- (Wed Mar 30 13:42:33 2022)\n"
     ]
    },
    {
     "name": "stderr",
     "output_type": "stream",
     "text": [
      "100%|█████████████████████████████████████████████████████████████████████████████████████████| 15501/15501 [06:37<00:00, 39.02it/s]"
     ]
    },
    {
     "name": "stdout",
     "output_type": "stream",
     "text": [
      "FINISHED function: create_output_dirs -- (Wed Mar 30 13:50:08 2022) -- Duration: 455.16792 seconds\n",
      "15501\n"
     ]
    },
    {
     "name": "stderr",
     "output_type": "stream",
     "text": [
      "\n"
     ]
    }
   ],
   "source": [
    "train_output_dirs = create_output_dirs(train_df,\n",
    "                                      expected_total=None)\n",
    "\n",
    "print(len(train_output_dirs))"
   ]
  },
  {
   "cell_type": "code",
   "execution_count": 18,
   "id": "f2db551e-98e9-44d7-862b-fdde3000c345",
   "metadata": {},
   "outputs": [
    {
     "name": "stdout",
     "output_type": "stream",
     "text": [
      "[########################################] | 100% Completed |  6hr  0min 46.0s\n",
      "FINISHED function: execute_full_run -- (Wed Mar 30 20:31:14 2022) -- Duration: 24065.81299 seconds\n",
      "STARTING function: count_dask_outcomes -- (Wed Mar 30 20:31:14 2022)\n"
     ]
    },
    {
     "ename": "TypeError",
     "evalue": "unsupported operand type(s) for +: 'int' and 'list'",
     "output_type": "error",
     "traceback": [
      "\u001b[0;31m---------------------------------------------------------------------------\u001b[0m",
      "\u001b[0;31mTypeError\u001b[0m                                 Traceback (most recent call last)",
      "\u001b[0;32m/tmp/ipykernel_3194241/1211256140.py\u001b[0m in \u001b[0;36m<cell line: 6>\u001b[0;34m()\u001b[0m\n\u001b[1;32m      4\u001b[0m                                     \u001b[0;31m# profiler=performance_report(\"res=512 -- test images resizing - half of all imgs.html\"))\u001b[0m\u001b[0;34m\u001b[0m\u001b[0;34m\u001b[0m\u001b[0;34m\u001b[0m\u001b[0m\n\u001b[1;32m      5\u001b[0m \u001b[0;34m\u001b[0m\u001b[0m\n\u001b[0;32m----> 6\u001b[0;31m \u001b[0mcount_dask_outcomes\u001b[0m\u001b[0;34m(\u001b[0m\u001b[0mcomputed_results\u001b[0m\u001b[0;34m)\u001b[0m\u001b[0;34m\u001b[0m\u001b[0;34m\u001b[0m\u001b[0m\n\u001b[0m",
      "\u001b[0;32m<timed exec>\u001b[0m in \u001b[0;36m_wrapped\u001b[0;34m(*args, **kwargs)\u001b[0m\n",
      "\u001b[0;32m/tmp/ipykernel_3194241/1219371223.py\u001b[0m in \u001b[0;36mcount_dask_outcomes\u001b[0;34m(computed_results)\u001b[0m\n\u001b[1;32m     41\u001b[0m \u001b[0;34m\u001b[0m\u001b[0m\n\u001b[1;32m     42\u001b[0m     \"\"\"\n\u001b[0;32m---> 43\u001b[0;31m     \u001b[0mpartition_sums\u001b[0m \u001b[0;34m=\u001b[0m \u001b[0;34m[\u001b[0m\u001b[0;34m(\u001b[0m\u001b[0msum\u001b[0m\u001b[0;34m(\u001b[0m\u001b[0mp\u001b[0m\u001b[0;34m)\u001b[0m\u001b[0;34m,\u001b[0m \u001b[0mlen\u001b[0m\u001b[0;34m(\u001b[0m\u001b[0mp\u001b[0m\u001b[0;34m)\u001b[0m\u001b[0;34m)\u001b[0m \u001b[0;32mfor\u001b[0m \u001b[0mp\u001b[0m \u001b[0;32min\u001b[0m \u001b[0mcomputed_results\u001b[0m\u001b[0;34m]\u001b[0m\u001b[0;34m\u001b[0m\u001b[0;34m\u001b[0m\u001b[0m\n\u001b[0m\u001b[1;32m     44\u001b[0m     \u001b[0mcorrect\u001b[0m \u001b[0;34m=\u001b[0m \u001b[0;36m0\u001b[0m\u001b[0;34m\u001b[0m\u001b[0;34m\u001b[0m\u001b[0m\n\u001b[1;32m     45\u001b[0m     \u001b[0mtotal\u001b[0m \u001b[0;34m=\u001b[0m \u001b[0;36m0\u001b[0m\u001b[0;34m\u001b[0m\u001b[0;34m\u001b[0m\u001b[0m\n",
      "\u001b[0;32m/tmp/ipykernel_3194241/1219371223.py\u001b[0m in \u001b[0;36m<listcomp>\u001b[0;34m(.0)\u001b[0m\n\u001b[1;32m     41\u001b[0m \u001b[0;34m\u001b[0m\u001b[0m\n\u001b[1;32m     42\u001b[0m     \"\"\"\n\u001b[0;32m---> 43\u001b[0;31m     \u001b[0mpartition_sums\u001b[0m \u001b[0;34m=\u001b[0m \u001b[0;34m[\u001b[0m\u001b[0;34m(\u001b[0m\u001b[0msum\u001b[0m\u001b[0;34m(\u001b[0m\u001b[0mp\u001b[0m\u001b[0;34m)\u001b[0m\u001b[0;34m,\u001b[0m \u001b[0mlen\u001b[0m\u001b[0;34m(\u001b[0m\u001b[0mp\u001b[0m\u001b[0;34m)\u001b[0m\u001b[0;34m)\u001b[0m \u001b[0;32mfor\u001b[0m \u001b[0mp\u001b[0m \u001b[0;32min\u001b[0m \u001b[0mcomputed_results\u001b[0m\u001b[0;34m]\u001b[0m\u001b[0;34m\u001b[0m\u001b[0;34m\u001b[0m\u001b[0m\n\u001b[0m\u001b[1;32m     44\u001b[0m     \u001b[0mcorrect\u001b[0m \u001b[0;34m=\u001b[0m \u001b[0;36m0\u001b[0m\u001b[0;34m\u001b[0m\u001b[0;34m\u001b[0m\u001b[0m\n\u001b[1;32m     45\u001b[0m     \u001b[0mtotal\u001b[0m \u001b[0;34m=\u001b[0m \u001b[0;36m0\u001b[0m\u001b[0;34m\u001b[0m\u001b[0;34m\u001b[0m\u001b[0m\n",
      "\u001b[0;31mTypeError\u001b[0m: unsupported operand type(s) for +: 'int' and 'list'"
     ]
    }
   ],
   "source": [
    "\n",
    "# with distributed.progress as prog:\n",
    "computed_results = execute_full_run(data_df=train_df, #.sample(frac=0.5,replace=False,random_state=random_state),\n",
    "                                    target_resolution=target_resolution)#,\n",
    "                                    # profiler=performance_report(\"res=512 -- test images resizing - half of all imgs.html\"))\n",
    "\n",
    "count_dask_outcomes(computed_results)"
   ]
  },
  {
   "cell_type": "code",
   "execution_count": 23,
   "id": "67924b37-6ed2-4766-9b13-f95980058e46",
   "metadata": {},
   "outputs": [
    {
     "data": {
      "text/plain": [
       "1050179"
      ]
     },
     "execution_count": 23,
     "metadata": {},
     "output_type": "execute_result"
    }
   ],
   "source": [
    "839772 + 210407"
   ]
  },
  {
   "cell_type": "code",
   "execution_count": 21,
   "id": "33111dd9-6090-49d3-9ab6-b2810d690196",
   "metadata": {},
   "outputs": [
    {
     "data": {
      "text/plain": [
       "6.666666666666667"
      ]
     },
     "execution_count": 21,
     "metadata": {},
     "output_type": "execute_result"
    }
   ],
   "source": [
    "24000/60/60"
   ]
  },
  {
   "cell_type": "markdown",
   "id": "5c49cb1a-06f0-4881-952e-05a1f8de4e6b",
   "metadata": {},
   "source": [
    "## Process test images:"
   ]
  },
  {
   "cell_type": "code",
   "execution_count": null,
   "id": "39248d15-205c-4a51-a5e0-ba3b475adbc9",
   "metadata": {},
   "outputs": [],
   "source": [
    "# dask.config.set(fuse_subgraphs=False)\n",
    "\n",
    "test_output_dirs = create_output_dirs(test_df,\n",
    "                                      expected_total=None)\n",
    "\n",
    "print(len(test_output_dirs))"
   ]
  },
  {
   "cell_type": "code",
   "execution_count": null,
   "id": "e7d4b68d-9cdc-4df7-a5fe-52ca625f7896",
   "metadata": {},
   "outputs": [
    {
     "name": "stdout",
     "output_type": "stream",
     "text": [
      "STARTING (Wed Mar 30 07:33:00 2022)\n"
     ]
    }
   ],
   "source": [
    "\n",
    "# with distributed.progress as prog:\n",
    "computed_results = execute_full_run(data_df=test_df, #.sample(frac=0.5,replace=False,random_state=random_state),\n",
    "                                    target_resolution=target_resolution)#,\n",
    "                                    # profiler=performance_report(\"res=512 -- test images resizing - half of all imgs.html\"))\n",
    "\n",
    "count_dask_outcomes(computed_results)"
   ]
  },
  {
   "cell_type": "code",
   "execution_count": null,
   "id": "5a4a3d03-1e21-470e-83ed-7aa68a5d8452",
   "metadata": {},
   "outputs": [],
   "source": []
  },
  {
   "cell_type": "markdown",
   "id": "f5024034-4cc5-4697-ad74-f8d77d8d2ec6",
   "metadata": {
    "tags": []
   },
   "source": [
    "## END"
   ]
  },
  {
   "cell_type": "code",
   "execution_count": 20,
   "id": "ec7e2075-cc1b-42ce-82b3-830238f950e7",
   "metadata": {},
   "outputs": [],
   "source": [
    "# train_df = dd.read_csv(train_csv_path, usecols=[\"Unnamed: 0\", *train_columns], dtype=train_col_dtypes\n",
    "#                       ).rename(columns={\"Unnamed: 0\":\"idx\"})\n",
    "# train_df = train_df.set_index(\"idx\")\n",
    "# train_df = train_df.repartition(16)\n",
    "# train_df.head()\n",
    "\n",
    "\n",
    "# data_df = data_df.assign(target_path = data_df.path.apply(cfg.get_target_path, meta=(\"target_path\", \"string\")))\n",
    "# data_df = data_df.rename(columns={\"path\":\"source_path\",\n",
    "#                                   \"target_path\":\"path\"})\n",
    "# data_df = data_df.sort_index()\n",
    "\n",
    "# seed = 85\n",
    "# random_state = np.random.RandomState(seed=seed)\n",
    "# # test_df = dd.read_csv(train_csv_path, index=0)\n",
    "# # train_df = pd.read_csv(train_csv_path, index_col=0, usecols=train_columns, dtype=train_col_dtypes)\n",
    "# # train_df.describe(include='all')\n",
    "\n",
    "# test_df = dd.read_csv(test_csv_path, usecols=[\"Unnamed: 0\", *test_columns], dtype=test_col_dtypes\n",
    "#                       ).rename(columns={\"Unnamed: 0\":\"idx\"})\n",
    "# test_df = test_df.set_index(\"idx\")\n",
    "# test_df = test_df.repartition(16)\n",
    "# test_df.head()\n",
    "\n",
    "# %%time\n",
    "\n",
    "# train_df = dd.read_csv(train_csv_path, usecols=[\"Unnamed: 0\", *train_columns], dtype=train_col_dtypes\n",
    "#                       ).rename(columns={\"Unnamed: 0\":\"idx\"})\n",
    "#                               # ).set_index(\"idx\")\n",
    "# train_df = train_df.set_index(\"idx\")\n",
    "# train_df = train_df.repartition(16)\n",
    "# train_df.head()"
   ]
  },
  {
   "cell_type": "code",
   "execution_count": 43,
   "id": "d810056c-a5e6-459e-8625-e25a7cea07b2",
   "metadata": {},
   "outputs": [
    {
     "name": "stdout",
     "output_type": "stream",
     "text": [
      "total 659M\n",
      "drwxrwxrwx 2 cis-storage cis-storage 2.0K Feb 18 17:14 .\n",
      "drwxrwxrwx 2 cis-storage cis-storage 9.5K Mar 28 14:57 ..\n",
      "drwxrwxrwx 2 cis-storage cis-storage 112K Feb 18 17:13 test_images\n",
      "-rwxrwxrwx 1 cis-storage cis-storage  23M Feb 18 17:14 test_metadata.json\n",
      "drwxrwxrwx 2 cis-storage cis-storage  78K Feb 18 16:41 train_images\n",
      "-rwxrwxrwx 1 cis-storage cis-storage 637M Feb 18 17:14 train_metadata.json\n"
     ]
    }
   ],
   "source": [
    "!ls -alh '/media/data_cifs/projects/prj_fossils/data/raw_data/herbarium-2022-fgvc9_resize'"
   ]
  },
  {
   "cell_type": "code",
   "execution_count": 23,
   "id": "1e7049f3-0e59-4081-9711-6ea9642a9352",
   "metadata": {},
   "outputs": [],
   "source": [
    "\n",
    "\n",
    "df = data_df.compute()\n",
    "df\n",
    "\n",
    "\n",
    "data_df.head(2).path.apply(lambda x: Path(x).parent.parent.parent.parent)\n",
    "\n",
    "df = data_df.loc[0,:].persist()\n",
    "df.persist()"
   ]
  },
  {
   "cell_type": "code",
   "execution_count": 3,
   "id": "dc58f5d5-241e-475a-939d-97a282bfcea8",
   "metadata": {},
   "outputs": [
    {
     "name": "stderr",
     "output_type": "stream",
     "text": [
      "Failed to detect the name of this notebook, you can set it manually with the WANDB_NOTEBOOK_NAME environment variable to enable code saving.\n",
      "\u001b[34m\u001b[1mwandb\u001b[0m: wandb version 0.12.11 is available!  To upgrade, please run:\n",
      "\u001b[34m\u001b[1mwandb\u001b[0m:  $ pip install wandb --upgrade\n"
     ]
    },
    {
     "data": {
      "text/html": [
       "\n",
       "                    Syncing run <strong><a href=\"https://wandb.ai/jrose/herbarium2022/runs/4y18pu27\" target=\"_blank\">crisp-plasma-127</a></strong> to <a href=\"https://wandb.ai/jrose/herbarium2022\" target=\"_blank\">Weights & Biases</a> (<a href=\"https://docs.wandb.com/integrations/jupyter.html\" target=\"_blank\">docs</a>).<br/>\n",
       "\n",
       "                "
      ],
      "text/plain": [
       "<IPython.core.display.HTML object>"
      ]
     },
     "metadata": {},
     "output_type": "display_data"
    },
    {
     "data": {
      "text/html": [
       "<br/>Waiting for W&B process to finish, PID 2224592... <strong style=\"color:green\">(success).</strong>"
      ],
      "text/plain": [
       "<IPython.core.display.HTML object>"
      ]
     },
     "metadata": {},
     "output_type": "display_data"
    },
    {
     "data": {
      "application/vnd.jupyter.widget-view+json": {
       "model_id": "",
       "version_major": 2,
       "version_minor": 0
      },
      "text/plain": [
       "VBox(children=(Label(value=' 218.92MB of 218.92MB uploaded (0.00MB deduped)\\r'), FloatProgress(value=1.0, max=…"
      ]
     },
     "metadata": {},
     "output_type": "display_data"
    },
    {
     "data": {
      "text/html": [
       "<style>\n",
       "    table.wandb td:nth-child(1) { padding: 0 10px; text-align: right }\n",
       "    .wandb-row { display: flex; flex-direction: row; flex-wrap: wrap; width: 100% }\n",
       "    .wandb-col { display: flex; flex-direction: column; flex-basis: 100%; flex: 1; padding: 10px; }\n",
       "    </style>\n",
       "<div class=\"wandb-row\"><div class=\"wandb-col\">\n",
       "</div><div class=\"wandb-col\">\n",
       "</div></div>\n",
       "Synced 6 W&B file(s), 0 media file(s), 1 artifact file(s) and 1 other file(s)\n",
       "<br/>Synced <strong style=\"color:#cdcd00\">crisp-plasma-127</strong>: <a href=\"https://wandb.ai/jrose/herbarium2022/runs/4y18pu27\" target=\"_blank\">https://wandb.ai/jrose/herbarium2022/runs/4y18pu27</a><br/>\n",
       "Find logs at: <code>./wandb/run-20220329_045958-4y18pu27/logs</code><br/>\n"
      ],
      "text/plain": [
       "<IPython.core.display.HTML object>"
      ]
     },
     "metadata": {},
     "output_type": "display_data"
    }
   ],
   "source": [
    "topk = 2\n",
    "ckpt_dir = \"/media/data_cifs/projects/prj_fossils/users/jacob/experiments/2022/herbarium2022/hydra_experiments/2022-03-28/09-32-27/ckpts/\"\n",
    "\n",
    "# ckpt_paths = [os.path.join(ckpt_dir, file_path) for file_path in sorted(os.listdir(ckpt_dir), reverse=True)][:2]\n",
    "# pp(ckpt_paths)\n",
    "\n",
    "ckpt_path = \"/media/data_cifs/projects/prj_fossils/users/jacob/experiments/2022/herbarium2022/hydra_experiments/2022-03-28/09-32-27/ckpts/epoch=10-val_loss=1.901-val_macro_F1=0.567/model_weights.ckpt\"\n",
    "\n",
    "\n",
    "# jrose/herbarium2022/2up1al9o\n",
    "\n",
    "import os\n",
    "import wandb\n",
    "\n",
    "\n",
    "artifact = wandb.Artifact(\"model-weights\", \"checkpoints\")\n",
    "# Add Files and Assets to the artifact using \n",
    "# `.add`, `.add_file`, `.add_dir`, and `.add_reference`\n",
    "artifact.add_file(ckpt_path)\n",
    "artifact.save()"
   ]
  },
  {
   "cell_type": "code",
   "execution_count": 1,
   "id": "edf0043e-0813-47b7-85a4-e3ac687ed560",
   "metadata": {},
   "outputs": [],
   "source": [
    "os.environ[\"WANDB_PROJECT\"]=\"herbarium2022\"\n",
    "!set | grep WANDB    \n",
    "\n",
    "\n",
    "api = wandb.Api()\n",
    "\n",
    "# run = api.run(overrides=dict(entity=\"jrose\", project=\"herbarium2022\", run=\"2up1al9o\"))\n",
    "run = api.run(\"herbarium2022/2up1al9o\")\n",
    "\n",
    "print(run)\n",
    "\n",
    "run.upload_file(ckpt_path)\n",
    "# for path in ckpt_paths:\n",
    "#     print(f\"Uploading file to wandb: {path}\")\n",
    "#     run.upload_file(path)\n",
    "# run = wandb.init(project=PROJECT_NAME, resume=True)\n",
    "run.finish\n",
    "\n"
   ]
  },
  {
   "cell_type": "code",
   "execution_count": 3,
   "id": "d7fc0856-8764-47f0-a302-745a996ee955",
   "metadata": {},
   "outputs": [],
   "source": [
    "# Herbarium2022DataModule,\n",
    "catalog_dir = \"/media/data/jacob/GitHub/image-utils/imutils/big/data\"\n",
    "data = Herbarium2022Dataset(catalog_dir=catalog_dir, subset=\"train\", transform=transform)"
   ]
  },
  {
   "cell_type": "markdown",
   "id": "898f58bc-07e4-4af4-bbb6-8d461cd44102",
   "metadata": {
    "tags": []
   },
   "source": [
    "# Download from wandb the best resnext50_4x30d or w/e from Experiment #18 2022-03-28 "
   ]
  },
  {
   "cell_type": "code",
   "execution_count": null,
   "id": "73a2a929-dffe-41da-9885-0e5afa45b14b",
   "metadata": {},
   "outputs": [],
   "source": [
    "import wandb\n",
    "run = wandb.init()\n",
    "artifact = run.use_artifact('jrose/herbarium2022/model-weights:v8', type='checkpoints')\n",
    "artifact_dir = artifact.download()"
   ]
  },
  {
   "cell_type": "code",
   "execution_count": null,
   "id": "efe2e487-c170-494b-a57d-94dd3bb3ea6f",
   "metadata": {},
   "outputs": [],
   "source": []
  },
  {
   "cell_type": "code",
   "execution_count": null,
   "id": "88e1d066-84a9-489b-8084-416db1b60828",
   "metadata": {},
   "outputs": [],
   "source": []
  },
  {
   "cell_type": "code",
   "execution_count": null,
   "id": "831788f8-4729-4b48-afec-bcc918ebe767",
   "metadata": {},
   "outputs": [],
   "source": []
  },
  {
   "cell_type": "markdown",
   "id": "f5d58307-642b-43a7-b7ec-e1755861d5ef",
   "metadata": {},
   "source": [
    "## etc"
   ]
  },
  {
   "cell_type": "code",
   "execution_count": 62,
   "id": "15d90d89-d0aa-4f92-93b9-fc8690e2b7a3",
   "metadata": {},
   "outputs": [],
   "source": [
    "data_df.loc[:5,:]\n",
    "\n",
    "%%time\n",
    "\n",
    "demo = data_df.loc[:10,:].path.apply(cfg.get_target_path, meta=(\"target_path\", \"string\"))\n",
    "demo\n",
    "\n",
    "# demo.compute()\n",
    "\n",
    "demo = demo.persist()\n",
    "demo\n",
    "\n",
    "demo.shape[0].compute()\n",
    "\n",
    "dir(demo)\n",
    "\n",
    "\n",
    "data_df = data_df.assign(target_path = data_df.path.apply(cfg.get_target_path, meta=(\"target_path\", \"string\")))\n",
    "data_df.head(10)\n",
    "\n",
    "# data_df = data_df.persist()\n",
    "print(data_df.shape[0].compute())\n",
    "\n",
    "# data_df = data_df.persist()\n",
    "print(train_df.shape[0].compute())\n",
    "\n",
    "839772/836\n",
    "\n",
    "train_df.visualize()\n",
    "\n",
    "def partition_info(data):\n",
    "    print(f\"type(data): {type(data)}\")\n",
    "    print(f\"data.shape: {data.shape}\")"
   ]
  },
  {
   "cell_type": "code",
   "execution_count": 28,
   "id": "e114d04f-2305-44cd-b47b-ad518d52febb",
   "metadata": {},
   "outputs": [],
   "source": [
    "result = train_df.map_partitions(partition_info)\n",
    "\n",
    "# train_ddf = train_df.to_delayed()\n",
    "\n",
    "%time train_df.head()\n",
    "\n",
    "\n",
    "# decoded_targets = data.get_decoded_targets()\n",
    "# decoded_targets\n",
    "\n",
    "paths = data.paths.sample(100).values.tolist()\n",
    "# paths\n",
    "\n",
    "import sys\n",
    "from PIL import Image\n",
    "from tqdm import tqdm\n",
    "\n",
    "for infile in tqdm(paths):\n",
    "    try:\n",
    "        with Image.open(infile) as im:\n",
    "            print(infile, im.format, f\"{im.size}x{im.mode}\")\n",
    "    except OSError:\n",
    "        pass"
   ]
  },
  {
   "cell_type": "code",
   "execution_count": 6,
   "id": "8f4e7c9d-5fe0-44d6-8800-916150997172",
   "metadata": {},
   "outputs": [
    {
     "data": {
      "text/plain": [
       "(Delayed('transform-93c4e929-4371-4e34-9d24-26b8ff55ee89'),\n",
       " 14752,\n",
       " {'path': '/media/data_cifs/projects/prj_fossils/data/raw_data/herbarium-2022-fgvc9_resize/train_images/147/56/14756__047.jpg',\n",
       "  'image_id': '14756__047'})"
      ]
     },
     "execution_count": 6,
     "metadata": {},
     "output_type": "execute_result"
    }
   ],
   "source": [
    "data[0]"
   ]
  },
  {
   "cell_type": "markdown",
   "id": "1146ca5d-f991-4560-9bdc-a55dc52b97f6",
   "metadata": {},
   "source": [
    "## prefect"
   ]
  },
  {
   "cell_type": "code",
   "execution_count": null,
   "id": "03896059-a23e-4e7d-89fd-8f2e6edbc5d7",
   "metadata": {},
   "outputs": [],
   "source": [
    "import datetime\n",
    "import os\n",
    "\n",
    "import prefect\n",
    "from prefect import task\n",
    "from prefect.engine.signals import SKIP\n",
    "from prefect.tasks.shell import ShellTask\n",
    "\n",
    "\n",
    "@task\n",
    "def curl_cmd(url: str, fname: str) -> str:\n",
    "    \"\"\"\n",
    "    The curl command we wish to execute.\n",
    "    \"\"\"\n",
    "    if os.path.exists(fname):\n",
    "        raise SKIP(\"Image data file already exists.\")\n",
    "    return \"curl -fL -o {fname} {url}\".format(fname=fname, url=url)\n",
    "\n",
    "\n",
    "# ShellTask is a task from the Task library which will execute a given command in a subprocess\n",
    "# and fail if the command returns a non-zero exit code\n",
    "\n",
    "download = ShellTask(name=\"curl_task\", max_retries=2, retry_delay=datetime.timedelta(seconds=10))"
   ]
  },
  {
   "cell_type": "code",
   "execution_count": null,
   "id": "34fcd233-6ac4-408e-ba16-06234856d712",
   "metadata": {},
   "outputs": [],
   "source": []
  },
  {
   "cell_type": "code",
   "execution_count": null,
   "id": "804643aa-0a31-4ea4-9dc9-bd54cbb0d54a",
   "metadata": {},
   "outputs": [],
   "source": []
  },
  {
   "cell_type": "markdown",
   "id": "02e051b1-0b01-423a-9700-e3d9c0f6a8a4",
   "metadata": {},
   "source": [
    "## etc"
   ]
  },
  {
   "cell_type": "code",
   "execution_count": null,
   "id": "9afee98e-1cac-4e19-b213-a417109cc2c4",
   "metadata": {},
   "outputs": [],
   "source": [
    "objs = [load(x) for x in glob.glob(\"hymenoptera_data/val/*/*.jpg\")]"
   ]
  },
  {
   "cell_type": "code",
   "execution_count": null,
   "id": "87dd263c-8e39-4ad6-895b-d67baae0bcbc",
   "metadata": {},
   "outputs": [],
   "source": [
    "To load the data from cloud storage, say Amazon S3, you would use\n",
    "\n",
    "import s3fs\n",
    "\n",
    "fs = s3fs.S3FileSystem(...)\n",
    "objs = [load(x, fs=fs) for x in fs.glob(...)]"
   ]
  },
  {
   "cell_type": "code",
   "execution_count": null,
   "id": "1dd8f601-6e71-4c92-af6b-0d6c8dc5599b",
   "metadata": {},
   "outputs": [],
   "source": [
    "tensors = [transform(x) for x in objs]"
   ]
  },
  {
   "cell_type": "code",
   "execution_count": null,
   "id": "3b811525-a617-4b90-85a5-bf98837876ce",
   "metadata": {},
   "outputs": [],
   "source": [
    "batches = [dask.delayed(torch.stack)(batch)\n",
    "           for batch in toolz.partition_all(10, tensors)]\n",
    "batches[:5]"
   ]
  },
  {
   "cell_type": "code",
   "execution_count": null,
   "id": "b845fb06-91d7-4a25-858e-55d73e18d073",
   "metadata": {},
   "outputs": [],
   "source": [
    "@dask.delayed\n",
    "def predict(batch, model):\n",
    "    with torch.no_grad():\n",
    "        out = model(batch)\n",
    "        _, predicted = torch.max(out, 1)\n",
    "        predicted = predicted.numpy()\n",
    "    return predicted"
   ]
  },
  {
   "cell_type": "code",
   "execution_count": null,
   "id": "aaa2c6e1-ae3a-421e-90bb-6aa719de1c8b",
   "metadata": {},
   "outputs": [],
   "source": [
    "Moving the model around¶\n",
    "PyTorch neural networks are large, so we don’t want to repeat it many times in our task graph (once per batch).\n",
    "\n",
    "import pickle\n",
    "\n",
    "dask.utils.format_bytes(len(pickle.dumps(model)))\n",
    "'44.80 MB'\n",
    "Instead, we’ll also wrap the model itself in dask.delayed. This means the model only shows up once in the Dask graph."
   ]
  },
  {
   "cell_type": "code",
   "execution_count": null,
   "id": "c9514bd0-8db1-4c25-b5c0-c542195434de",
   "metadata": {},
   "outputs": [],
   "source": [
    "Additionally, since we performed fine-tuning in the above (and that runs on a GPU if its available), we should move the model back to the CPU.\n",
    "\n",
    "dmodel = dask.delayed(model.cpu()) # ensuring model is on the CPU\n",
    "Now we’ll use the (delayed) predict method to get our predictions.\n",
    "\n",
    "predictions = [predict(batch, dmodel) for batch in batches]\n",
    "dask.visualize(predictions[:2])"
   ]
  },
  {
   "cell_type": "code",
   "execution_count": null,
   "id": "710fb799-c2db-4aaf-aa13-27e51f15299d",
   "metadata": {},
   "outputs": [],
   "source": [
    "predictions = dask.compute(*predictions)\n",
    "predictions"
   ]
  }
 ],
 "metadata": {
  "kernelspec": {
   "display_name": "Python 3 (ipykernel)",
   "language": "python",
   "name": "python3"
  },
  "language_info": {
   "codemirror_mode": {
    "name": "ipython",
    "version": 3
   },
   "file_extension": ".py",
   "mimetype": "text/x-python",
   "name": "python",
   "nbconvert_exporter": "python",
   "pygments_lexer": "ipython3",
   "version": "3.8.13"
  }
 },
 "nbformat": 4,
 "nbformat_minor": 5
}
